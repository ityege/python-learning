{
 "cells": [
  {
   "cell_type": "markdown",
   "id": "1de6b63a-9b5e-40e8-922a-d4019112b36f",
   "metadata": {},
   "source": [
    "## 7.1 函数处理"
   ]
  },
  {
   "cell_type": "markdown",
   "id": "884540a5-dee3-46b9-b708-494ddcdeaeee",
   "metadata": {},
   "source": [
    "### 7.1.1 apply方法"
   ]
  },
  {
   "cell_type": "code",
   "execution_count": 1,
   "id": "56217bc2-5828-4735-945b-feaffef114ff",
   "metadata": {},
   "outputs": [],
   "source": [
    "import pandas as pd\n",
    "import numpy as np\n",
    "import matplotlib.pyplot as plt"
   ]
  },
  {
   "cell_type": "markdown",
   "id": "82e8dd10-6eb5-4c0f-a963-b336cef1d79d",
   "metadata": {},
   "source": [
    "7.1 DataFrame 对象的 mean 方法"
   ]
  },
  {
   "cell_type": "code",
   "execution_count": 2,
   "id": "8cd548cb-bf8b-448f-b792-f216c45bcd06",
   "metadata": {},
   "outputs": [
    {
     "data": {
      "text/html": [
       "<div>\n",
       "<style scoped>\n",
       "    .dataframe tbody tr th:only-of-type {\n",
       "        vertical-align: middle;\n",
       "    }\n",
       "\n",
       "    .dataframe tbody tr th {\n",
       "        vertical-align: top;\n",
       "    }\n",
       "\n",
       "    .dataframe thead th {\n",
       "        text-align: right;\n",
       "    }\n",
       "</style>\n",
       "<table border=\"1\" class=\"dataframe\">\n",
       "  <thead>\n",
       "    <tr style=\"text-align: right;\">\n",
       "      <th></th>\n",
       "      <th>a</th>\n",
       "      <th>b</th>\n",
       "      <th>c</th>\n",
       "    </tr>\n",
       "  </thead>\n",
       "  <tbody>\n",
       "    <tr>\n",
       "      <th>d</th>\n",
       "      <td>5</td>\n",
       "      <td>-6</td>\n",
       "      <td>-7</td>\n",
       "    </tr>\n",
       "    <tr>\n",
       "      <th>e</th>\n",
       "      <td>9</td>\n",
       "      <td>-3</td>\n",
       "      <td>4</td>\n",
       "    </tr>\n",
       "    <tr>\n",
       "      <th>f</th>\n",
       "      <td>-2</td>\n",
       "      <td>4</td>\n",
       "      <td>0</td>\n",
       "    </tr>\n",
       "  </tbody>\n",
       "</table>\n",
       "</div>"
      ],
      "text/plain": [
       "   a  b  c\n",
       "d  5 -6 -7\n",
       "e  9 -3  4\n",
       "f -2  4  0"
      ]
     },
     "execution_count": 2,
     "metadata": {},
     "output_type": "execute_result"
    }
   ],
   "source": [
    "np.random.seed(seed=7)\n",
    "val = np.random.randint(-10,10,size=9).reshape(3, 3)\n",
    "df = pd.DataFrame(val, index=list('def'), columns=list('abc'))\n",
    "df"
   ]
  },
  {
   "cell_type": "code",
   "execution_count": 3,
   "id": "490ef667-2f26-4c53-b4c4-205933e95ed2",
   "metadata": {},
   "outputs": [
    {
     "data": {
      "text/plain": [
       "a    4.000000\n",
       "b   -1.666667\n",
       "c   -1.000000\n",
       "dtype: float64"
      ]
     },
     "execution_count": 3,
     "metadata": {},
     "output_type": "execute_result"
    }
   ],
   "source": [
    "df.mean()"
   ]
  },
  {
   "cell_type": "markdown",
   "id": "1d6b626d-eccc-4b9f-8231-bce8c95773fa",
   "metadata": {},
   "source": [
    "7.2 NumPy 数组的 mean 函数"
   ]
  },
  {
   "cell_type": "code",
   "execution_count": 4,
   "id": "20fe39eb-37ae-468f-b797-05f53d356977",
   "metadata": {},
   "outputs": [
    {
     "data": {
      "text/html": [
       "<div>\n",
       "<style scoped>\n",
       "    .dataframe tbody tr th:only-of-type {\n",
       "        vertical-align: middle;\n",
       "    }\n",
       "\n",
       "    .dataframe tbody tr th {\n",
       "        vertical-align: top;\n",
       "    }\n",
       "\n",
       "    .dataframe thead th {\n",
       "        text-align: right;\n",
       "    }\n",
       "</style>\n",
       "<table border=\"1\" class=\"dataframe\">\n",
       "  <thead>\n",
       "    <tr style=\"text-align: right;\">\n",
       "      <th></th>\n",
       "      <th>a</th>\n",
       "      <th>b</th>\n",
       "      <th>c</th>\n",
       "    </tr>\n",
       "  </thead>\n",
       "  <tbody>\n",
       "    <tr>\n",
       "      <th>d</th>\n",
       "      <td>5</td>\n",
       "      <td>-6</td>\n",
       "      <td>-7</td>\n",
       "    </tr>\n",
       "    <tr>\n",
       "      <th>e</th>\n",
       "      <td>9</td>\n",
       "      <td>-3</td>\n",
       "      <td>4</td>\n",
       "    </tr>\n",
       "    <tr>\n",
       "      <th>f</th>\n",
       "      <td>-2</td>\n",
       "      <td>4</td>\n",
       "      <td>0</td>\n",
       "    </tr>\n",
       "  </tbody>\n",
       "</table>\n",
       "</div>"
      ],
      "text/plain": [
       "   a  b  c\n",
       "d  5 -6 -7\n",
       "e  9 -3  4\n",
       "f -2  4  0"
      ]
     },
     "execution_count": 4,
     "metadata": {},
     "output_type": "execute_result"
    }
   ],
   "source": [
    "df"
   ]
  },
  {
   "cell_type": "code",
   "execution_count": 5,
   "id": "283e872d-ed61-47fa-aebd-a426a5397d7f",
   "metadata": {},
   "outputs": [
    {
     "data": {
      "text/plain": [
       "0.4444444444444444"
      ]
     },
     "execution_count": 5,
     "metadata": {},
     "output_type": "execute_result"
    }
   ],
   "source": [
    "np.mean(df)"
   ]
  },
  {
   "cell_type": "markdown",
   "id": "f83c1f39-4986-4f85-a9f2-563cbb117ff1",
   "metadata": {},
   "source": [
    "7.3 使用 apply 方法计算 DataFrame 对象的平均值"
   ]
  },
  {
   "cell_type": "code",
   "execution_count": 6,
   "id": "dcb381cf-ed4b-4e90-abb6-a57f06c337b6",
   "metadata": {},
   "outputs": [
    {
     "data": {
      "text/plain": [
       "a    4.000000\n",
       "b   -1.666667\n",
       "c   -1.000000\n",
       "dtype: float64"
      ]
     },
     "execution_count": 6,
     "metadata": {},
     "output_type": "execute_result"
    }
   ],
   "source": [
    "df.apply(np.mean)"
   ]
  },
  {
   "cell_type": "code",
   "execution_count": 7,
   "id": "4cd19e7d-550d-4238-854c-276682a9232c",
   "metadata": {},
   "outputs": [
    {
     "data": {
      "text/plain": [
       "a    4.000000\n",
       "b   -1.666667\n",
       "c   -1.000000\n",
       "dtype: float64"
      ]
     },
     "execution_count": 7,
     "metadata": {},
     "output_type": "execute_result"
    }
   ],
   "source": [
    "df.apply('mean')"
   ]
  },
  {
   "cell_type": "markdown",
   "id": "b4d21cda-e5da-4afa-9955-a0acd449568b",
   "metadata": {},
   "source": [
    "7.4 apply 方法和 axis 参数"
   ]
  },
  {
   "cell_type": "code",
   "execution_count": 8,
   "id": "04adc70a-3e10-406d-bd8d-788999b5e224",
   "metadata": {},
   "outputs": [
    {
     "data": {
      "text/plain": [
       "d    -8\n",
       "e    10\n",
       "f     2\n",
       "dtype: int64"
      ]
     },
     "execution_count": 8,
     "metadata": {},
     "output_type": "execute_result"
    }
   ],
   "source": [
    "df.apply(np.sum, axis=1)"
   ]
  },
  {
   "cell_type": "markdown",
   "id": "3804a571-ea29-463c-a8a4-149d93050b2a",
   "metadata": {},
   "source": [
    "7.5 apply 方法和匿名函数"
   ]
  },
  {
   "cell_type": "code",
   "execution_count": 9,
   "id": "c4e926c5-33a3-4f2a-bd38-9d95be986cc7",
   "metadata": {},
   "outputs": [
    {
     "data": {
      "text/html": [
       "<div>\n",
       "<style scoped>\n",
       "    .dataframe tbody tr th:only-of-type {\n",
       "        vertical-align: middle;\n",
       "    }\n",
       "\n",
       "    .dataframe tbody tr th {\n",
       "        vertical-align: top;\n",
       "    }\n",
       "\n",
       "    .dataframe thead th {\n",
       "        text-align: right;\n",
       "    }\n",
       "</style>\n",
       "<table border=\"1\" class=\"dataframe\">\n",
       "  <thead>\n",
       "    <tr style=\"text-align: right;\">\n",
       "      <th></th>\n",
       "      <th>a</th>\n",
       "      <th>b</th>\n",
       "      <th>c</th>\n",
       "    </tr>\n",
       "  </thead>\n",
       "  <tbody>\n",
       "    <tr>\n",
       "      <th>d</th>\n",
       "      <td>7</td>\n",
       "      <td>-4</td>\n",
       "      <td>-5</td>\n",
       "    </tr>\n",
       "    <tr>\n",
       "      <th>e</th>\n",
       "      <td>11</td>\n",
       "      <td>-1</td>\n",
       "      <td>6</td>\n",
       "    </tr>\n",
       "    <tr>\n",
       "      <th>f</th>\n",
       "      <td>0</td>\n",
       "      <td>6</td>\n",
       "      <td>2</td>\n",
       "    </tr>\n",
       "  </tbody>\n",
       "</table>\n",
       "</div>"
      ],
      "text/plain": [
       "    a  b  c\n",
       "d   7 -4 -5\n",
       "e  11 -1  6\n",
       "f   0  6  2"
      ]
     },
     "execution_count": 9,
     "metadata": {},
     "output_type": "execute_result"
    }
   ],
   "source": [
    "df.apply(lambda x: x + 2)"
   ]
  },
  {
   "cell_type": "markdown",
   "id": "e22bf63c-baee-45bc-91bc-5eae956c24f8",
   "metadata": {},
   "source": [
    "7.6 apply 方法和用户自定义函数"
   ]
  },
  {
   "cell_type": "code",
   "execution_count": 10,
   "id": "c9e4ae05-f6af-4f6c-8784-29db58026c04",
   "metadata": {},
   "outputs": [],
   "source": [
    "def add(df, n=2):\n",
    "    return df + n"
   ]
  },
  {
   "cell_type": "code",
   "execution_count": 11,
   "id": "aa54c42c-728f-42ef-ae13-ffc23f051d0f",
   "metadata": {},
   "outputs": [
    {
     "data": {
      "text/html": [
       "<div>\n",
       "<style scoped>\n",
       "    .dataframe tbody tr th:only-of-type {\n",
       "        vertical-align: middle;\n",
       "    }\n",
       "\n",
       "    .dataframe tbody tr th {\n",
       "        vertical-align: top;\n",
       "    }\n",
       "\n",
       "    .dataframe thead th {\n",
       "        text-align: right;\n",
       "    }\n",
       "</style>\n",
       "<table border=\"1\" class=\"dataframe\">\n",
       "  <thead>\n",
       "    <tr style=\"text-align: right;\">\n",
       "      <th></th>\n",
       "      <th>a</th>\n",
       "      <th>b</th>\n",
       "      <th>c</th>\n",
       "    </tr>\n",
       "  </thead>\n",
       "  <tbody>\n",
       "    <tr>\n",
       "      <th>d</th>\n",
       "      <td>7</td>\n",
       "      <td>-4</td>\n",
       "      <td>-5</td>\n",
       "    </tr>\n",
       "    <tr>\n",
       "      <th>e</th>\n",
       "      <td>11</td>\n",
       "      <td>-1</td>\n",
       "      <td>6</td>\n",
       "    </tr>\n",
       "    <tr>\n",
       "      <th>f</th>\n",
       "      <td>0</td>\n",
       "      <td>6</td>\n",
       "      <td>2</td>\n",
       "    </tr>\n",
       "  </tbody>\n",
       "</table>\n",
       "</div>"
      ],
      "text/plain": [
       "    a  b  c\n",
       "d   7 -4 -5\n",
       "e  11 -1  6\n",
       "f   0  6  2"
      ]
     },
     "execution_count": 11,
     "metadata": {},
     "output_type": "execute_result"
    }
   ],
   "source": [
    "df.apply(add)"
   ]
  },
  {
   "cell_type": "markdown",
   "id": "e0053556-e68f-4adf-b5aa-2c28abeca93f",
   "metadata": {},
   "source": [
    "7.7 apply 方法和函数的参数"
   ]
  },
  {
   "cell_type": "code",
   "execution_count": 12,
   "id": "b650465d-59b4-45f1-a20d-55d07f8cbb55",
   "metadata": {},
   "outputs": [
    {
     "data": {
      "text/html": [
       "<div>\n",
       "<style scoped>\n",
       "    .dataframe tbody tr th:only-of-type {\n",
       "        vertical-align: middle;\n",
       "    }\n",
       "\n",
       "    .dataframe tbody tr th {\n",
       "        vertical-align: top;\n",
       "    }\n",
       "\n",
       "    .dataframe thead th {\n",
       "        text-align: right;\n",
       "    }\n",
       "</style>\n",
       "<table border=\"1\" class=\"dataframe\">\n",
       "  <thead>\n",
       "    <tr style=\"text-align: right;\">\n",
       "      <th></th>\n",
       "      <th>a</th>\n",
       "      <th>b</th>\n",
       "      <th>c</th>\n",
       "    </tr>\n",
       "  </thead>\n",
       "  <tbody>\n",
       "    <tr>\n",
       "      <th>d</th>\n",
       "      <td>10</td>\n",
       "      <td>-1</td>\n",
       "      <td>-2</td>\n",
       "    </tr>\n",
       "    <tr>\n",
       "      <th>e</th>\n",
       "      <td>14</td>\n",
       "      <td>2</td>\n",
       "      <td>9</td>\n",
       "    </tr>\n",
       "    <tr>\n",
       "      <th>f</th>\n",
       "      <td>3</td>\n",
       "      <td>9</td>\n",
       "      <td>5</td>\n",
       "    </tr>\n",
       "  </tbody>\n",
       "</table>\n",
       "</div>"
      ],
      "text/plain": [
       "    a  b  c\n",
       "d  10 -1 -2\n",
       "e  14  2  9\n",
       "f   3  9  5"
      ]
     },
     "execution_count": 12,
     "metadata": {},
     "output_type": "execute_result"
    }
   ],
   "source": [
    "df.apply(add, n=5)"
   ]
  },
  {
   "cell_type": "markdown",
   "id": "fc0c0b34-20bd-4fec-81ce-f60d658b97d2",
   "metadata": {},
   "source": [
    "7.8 apply 方法和 raw 参数"
   ]
  },
  {
   "cell_type": "code",
   "execution_count": 13,
   "id": "cbcbd876-5595-44f0-9598-fc3f13609d1b",
   "metadata": {},
   "outputs": [
    {
     "name": "stdout",
     "output_type": "stream",
     "text": [
      "199 µs ± 1.98 µs per loop (mean ± std. dev. of 7 runs, 1,000 loops each)\n"
     ]
    }
   ],
   "source": [
    "%timeit df.apply(np.mean, raw=False)"
   ]
  },
  {
   "cell_type": "code",
   "execution_count": 14,
   "id": "d27b3460-81aa-4aed-a17c-d5f892a76270",
   "metadata": {},
   "outputs": [
    {
     "name": "stdout",
     "output_type": "stream",
     "text": [
      "77 µs ± 1.21 µs per loop (mean ± std. dev. of 7 runs, 10,000 loops each)\n"
     ]
    }
   ],
   "source": [
    "%timeit df.apply(np.mean, raw=True)"
   ]
  },
  {
   "cell_type": "markdown",
   "id": "fb036cd7-1da1-4cae-b47c-2d7fd1bc68b0",
   "metadata": {},
   "source": [
    "7.9 使用 apply 方法应用 NumPy 数组的 square 函数"
   ]
  },
  {
   "cell_type": "code",
   "execution_count": 15,
   "id": "1289467c-1dca-41f0-bebc-a26dc695ab95",
   "metadata": {},
   "outputs": [
    {
     "data": {
      "text/html": [
       "<div>\n",
       "<style scoped>\n",
       "    .dataframe tbody tr th:only-of-type {\n",
       "        vertical-align: middle;\n",
       "    }\n",
       "\n",
       "    .dataframe tbody tr th {\n",
       "        vertical-align: top;\n",
       "    }\n",
       "\n",
       "    .dataframe thead th {\n",
       "        text-align: right;\n",
       "    }\n",
       "</style>\n",
       "<table border=\"1\" class=\"dataframe\">\n",
       "  <thead>\n",
       "    <tr style=\"text-align: right;\">\n",
       "      <th></th>\n",
       "      <th>a</th>\n",
       "      <th>b</th>\n",
       "      <th>c</th>\n",
       "    </tr>\n",
       "  </thead>\n",
       "  <tbody>\n",
       "    <tr>\n",
       "      <th>d</th>\n",
       "      <td>5</td>\n",
       "      <td>-6</td>\n",
       "      <td>-7</td>\n",
       "    </tr>\n",
       "    <tr>\n",
       "      <th>e</th>\n",
       "      <td>9</td>\n",
       "      <td>-3</td>\n",
       "      <td>4</td>\n",
       "    </tr>\n",
       "    <tr>\n",
       "      <th>f</th>\n",
       "      <td>-2</td>\n",
       "      <td>4</td>\n",
       "      <td>0</td>\n",
       "    </tr>\n",
       "  </tbody>\n",
       "</table>\n",
       "</div>"
      ],
      "text/plain": [
       "   a  b  c\n",
       "d  5 -6 -7\n",
       "e  9 -3  4\n",
       "f -2  4  0"
      ]
     },
     "execution_count": 15,
     "metadata": {},
     "output_type": "execute_result"
    }
   ],
   "source": [
    "df"
   ]
  },
  {
   "cell_type": "code",
   "execution_count": 16,
   "id": "fa67e410-76d0-46d5-89d2-d9826a2f9977",
   "metadata": {},
   "outputs": [
    {
     "data": {
      "text/plain": [
       "d    25\n",
       "e    81\n",
       "f     4\n",
       "Name: a, dtype: int32"
      ]
     },
     "execution_count": 16,
     "metadata": {},
     "output_type": "execute_result"
    }
   ],
   "source": [
    "ser = df['a']\n",
    "ser.apply(np.square)"
   ]
  },
  {
   "cell_type": "markdown",
   "id": "264d57fb-1c62-4b8e-b175-37dab0495a61",
   "metadata": {},
   "source": [
    "7.10 使用 apply 方法指定匿名函数和用户自定义函数"
   ]
  },
  {
   "cell_type": "code",
   "execution_count": 17,
   "id": "404dfdc3-f88a-4714-bbe8-d5674ab108a0",
   "metadata": {},
   "outputs": [
    {
     "data": {
      "text/plain": [
       "d    25\n",
       "e    81\n",
       "f     4\n",
       "Name: a, dtype: int64"
      ]
     },
     "execution_count": 17,
     "metadata": {},
     "output_type": "execute_result"
    }
   ],
   "source": [
    "ser.apply(lambda x: x**2)"
   ]
  },
  {
   "cell_type": "code",
   "execution_count": 18,
   "id": "219388e2-5154-41ee-8c73-0595edb1f632",
   "metadata": {},
   "outputs": [
    {
     "data": {
      "text/plain": [
       "d    25\n",
       "e    81\n",
       "f     4\n",
       "Name: a, dtype: int64"
      ]
     },
     "execution_count": 18,
     "metadata": {},
     "output_type": "execute_result"
    }
   ],
   "source": [
    "def sq(val, n=2):\n",
    "    return val ** n\n",
    "\n",
    "ser.apply(sq)"
   ]
  },
  {
   "cell_type": "markdown",
   "id": "816a245f-41e9-4ee1-bc1d-06a01557ed1f",
   "metadata": {},
   "source": [
    "### 7.1.2 DataFrame类和Series类的agg方法"
   ]
  },
  {
   "cell_type": "markdown",
   "id": "79726205-ae3b-4d5c-946b-891827efa7ff",
   "metadata": {},
   "source": [
    "7.11 : apply方法和agg方法"
   ]
  },
  {
   "cell_type": "code",
   "execution_count": 19,
   "id": "1897f186-03fa-4275-b19d-4234da21d6be",
   "metadata": {},
   "outputs": [
    {
     "data": {
      "text/html": [
       "<div>\n",
       "<style scoped>\n",
       "    .dataframe tbody tr th:only-of-type {\n",
       "        vertical-align: middle;\n",
       "    }\n",
       "\n",
       "    .dataframe tbody tr th {\n",
       "        vertical-align: top;\n",
       "    }\n",
       "\n",
       "    .dataframe thead th {\n",
       "        text-align: right;\n",
       "    }\n",
       "</style>\n",
       "<table border=\"1\" class=\"dataframe\">\n",
       "  <thead>\n",
       "    <tr style=\"text-align: right;\">\n",
       "      <th></th>\n",
       "      <th>a</th>\n",
       "      <th>b</th>\n",
       "      <th>c</th>\n",
       "    </tr>\n",
       "  </thead>\n",
       "  <tbody>\n",
       "    <tr>\n",
       "      <th>d</th>\n",
       "      <td>5</td>\n",
       "      <td>-6</td>\n",
       "      <td>-7</td>\n",
       "    </tr>\n",
       "    <tr>\n",
       "      <th>e</th>\n",
       "      <td>9</td>\n",
       "      <td>-3</td>\n",
       "      <td>4</td>\n",
       "    </tr>\n",
       "    <tr>\n",
       "      <th>f</th>\n",
       "      <td>-2</td>\n",
       "      <td>4</td>\n",
       "      <td>0</td>\n",
       "    </tr>\n",
       "  </tbody>\n",
       "</table>\n",
       "</div>"
      ],
      "text/plain": [
       "   a  b  c\n",
       "d  5 -6 -7\n",
       "e  9 -3  4\n",
       "f -2  4  0"
      ]
     },
     "execution_count": 19,
     "metadata": {},
     "output_type": "execute_result"
    }
   ],
   "source": [
    "df"
   ]
  },
  {
   "cell_type": "code",
   "execution_count": 20,
   "id": "374008ea-55e2-4ce5-a357-396419cb2785",
   "metadata": {},
   "outputs": [
    {
     "data": {
      "text/plain": [
       "a   -2\n",
       "b   -6\n",
       "c   -7\n",
       "dtype: int32"
      ]
     },
     "execution_count": 20,
     "metadata": {},
     "output_type": "execute_result"
    }
   ],
   "source": [
    "df.apply(np.min)"
   ]
  },
  {
   "cell_type": "code",
   "execution_count": 21,
   "id": "aecb7580-7cc4-4bc8-ac53-17fb3045598d",
   "metadata": {},
   "outputs": [
    {
     "name": "stderr",
     "output_type": "stream",
     "text": [
      "C:\\Users\\liye\\AppData\\Local\\Temp\\ipykernel_4340\\1151125557.py:1: FutureWarning: The provided callable <function min at 0x000001B023ABA5C0> is currently using DataFrame.min. In a future version of pandas, the provided callable will be used directly. To keep current behavior pass the string \"min\" instead.\n",
      "  df.agg(np.min)\n"
     ]
    },
    {
     "data": {
      "text/plain": [
       "a   -2\n",
       "b   -6\n",
       "c   -7\n",
       "dtype: int32"
      ]
     },
     "execution_count": 21,
     "metadata": {},
     "output_type": "execute_result"
    }
   ],
   "source": [
    "df.agg(np.min)"
   ]
  },
  {
   "cell_type": "markdown",
   "id": "6b60fc67-6226-4c71-811b-3ecacd741101",
   "metadata": {},
   "source": [
    "7.12 使用 agg 方法运用多个函数"
   ]
  },
  {
   "cell_type": "code",
   "execution_count": 22,
   "id": "07841887-3e94-4aaf-a420-9b1ed7077b7c",
   "metadata": {},
   "outputs": [
    {
     "name": "stderr",
     "output_type": "stream",
     "text": [
      "C:\\Users\\liye\\AppData\\Local\\Temp\\ipykernel_4340\\3164571949.py:1: FutureWarning: The provided callable <function min at 0x000001B023ABA5C0> is currently using Series.min. In a future version of pandas, the provided callable will be used directly. To keep current behavior pass the string \"min\" instead.\n",
      "  df.agg([np.min])\n"
     ]
    },
    {
     "data": {
      "text/html": [
       "<div>\n",
       "<style scoped>\n",
       "    .dataframe tbody tr th:only-of-type {\n",
       "        vertical-align: middle;\n",
       "    }\n",
       "\n",
       "    .dataframe tbody tr th {\n",
       "        vertical-align: top;\n",
       "    }\n",
       "\n",
       "    .dataframe thead th {\n",
       "        text-align: right;\n",
       "    }\n",
       "</style>\n",
       "<table border=\"1\" class=\"dataframe\">\n",
       "  <thead>\n",
       "    <tr style=\"text-align: right;\">\n",
       "      <th></th>\n",
       "      <th>a</th>\n",
       "      <th>b</th>\n",
       "      <th>c</th>\n",
       "    </tr>\n",
       "  </thead>\n",
       "  <tbody>\n",
       "    <tr>\n",
       "      <th>min</th>\n",
       "      <td>-2</td>\n",
       "      <td>-6</td>\n",
       "      <td>-7</td>\n",
       "    </tr>\n",
       "  </tbody>\n",
       "</table>\n",
       "</div>"
      ],
      "text/plain": [
       "     a  b  c\n",
       "min -2 -6 -7"
      ]
     },
     "execution_count": 22,
     "metadata": {},
     "output_type": "execute_result"
    }
   ],
   "source": [
    "df.agg([np.min])"
   ]
  },
  {
   "cell_type": "code",
   "execution_count": 23,
   "id": "9ae56743-6610-4be9-a323-1578ffa9f258",
   "metadata": {},
   "outputs": [
    {
     "name": "stderr",
     "output_type": "stream",
     "text": [
      "C:\\Users\\liye\\AppData\\Local\\Temp\\ipykernel_4340\\1947773699.py:1: FutureWarning: The provided callable <function min at 0x000001B023ABA5C0> is currently using Series.min. In a future version of pandas, the provided callable will be used directly. To keep current behavior pass the string \"min\" instead.\n",
      "  df.agg([np.min, np.max])\n",
      "C:\\Users\\liye\\AppData\\Local\\Temp\\ipykernel_4340\\1947773699.py:1: FutureWarning: The provided callable <function max at 0x000001B023ABA480> is currently using Series.max. In a future version of pandas, the provided callable will be used directly. To keep current behavior pass the string \"max\" instead.\n",
      "  df.agg([np.min, np.max])\n"
     ]
    },
    {
     "data": {
      "text/html": [
       "<div>\n",
       "<style scoped>\n",
       "    .dataframe tbody tr th:only-of-type {\n",
       "        vertical-align: middle;\n",
       "    }\n",
       "\n",
       "    .dataframe tbody tr th {\n",
       "        vertical-align: top;\n",
       "    }\n",
       "\n",
       "    .dataframe thead th {\n",
       "        text-align: right;\n",
       "    }\n",
       "</style>\n",
       "<table border=\"1\" class=\"dataframe\">\n",
       "  <thead>\n",
       "    <tr style=\"text-align: right;\">\n",
       "      <th></th>\n",
       "      <th>a</th>\n",
       "      <th>b</th>\n",
       "      <th>c</th>\n",
       "    </tr>\n",
       "  </thead>\n",
       "  <tbody>\n",
       "    <tr>\n",
       "      <th>min</th>\n",
       "      <td>-2</td>\n",
       "      <td>-6</td>\n",
       "      <td>-7</td>\n",
       "    </tr>\n",
       "    <tr>\n",
       "      <th>max</th>\n",
       "      <td>9</td>\n",
       "      <td>4</td>\n",
       "      <td>4</td>\n",
       "    </tr>\n",
       "  </tbody>\n",
       "</table>\n",
       "</div>"
      ],
      "text/plain": [
       "     a  b  c\n",
       "min -2 -6 -7\n",
       "max  9  4  4"
      ]
     },
     "execution_count": 23,
     "metadata": {},
     "output_type": "execute_result"
    }
   ],
   "source": [
    "df.agg([np.min, np.max])"
   ]
  },
  {
   "cell_type": "markdown",
   "id": "34fb4d9c-8726-4ac5-91fd-5129582afb8f",
   "metadata": {},
   "source": [
    "7.13 使用 agg 方法运用匿名函数"
   ]
  },
  {
   "cell_type": "code",
   "execution_count": 24,
   "id": "09e61351-879e-406e-841d-368774400609",
   "metadata": {},
   "outputs": [
    {
     "data": {
      "text/html": [
       "<div>\n",
       "<style scoped>\n",
       "    .dataframe tbody tr th:only-of-type {\n",
       "        vertical-align: middle;\n",
       "    }\n",
       "\n",
       "    .dataframe tbody tr th {\n",
       "        vertical-align: top;\n",
       "    }\n",
       "\n",
       "    .dataframe thead th {\n",
       "        text-align: right;\n",
       "    }\n",
       "</style>\n",
       "<table border=\"1\" class=\"dataframe\">\n",
       "  <thead>\n",
       "    <tr style=\"text-align: right;\">\n",
       "      <th></th>\n",
       "      <th>a</th>\n",
       "      <th>b</th>\n",
       "      <th>c</th>\n",
       "    </tr>\n",
       "  </thead>\n",
       "  <tbody>\n",
       "    <tr>\n",
       "      <th>&lt;lambda&gt;</th>\n",
       "      <td>11</td>\n",
       "      <td>10</td>\n",
       "      <td>11</td>\n",
       "    </tr>\n",
       "  </tbody>\n",
       "</table>\n",
       "</div>"
      ],
      "text/plain": [
       "           a   b   c\n",
       "<lambda>  11  10  11"
      ]
     },
     "execution_count": 24,
     "metadata": {},
     "output_type": "execute_result"
    }
   ],
   "source": [
    "max_min = lambda x: x.max() - x.min()\n",
    "df.agg([max_min])"
   ]
  },
  {
   "cell_type": "markdown",
   "id": "fa9f8bcf-0311-41ef-86b0-02c189dda8be",
   "metadata": {},
   "source": [
    "7.14 agg 方法和函数的“__name__”属性"
   ]
  },
  {
   "cell_type": "code",
   "execution_count": 25,
   "id": "a47eef42-0c68-4574-899d-2fbc25347eed",
   "metadata": {},
   "outputs": [
    {
     "data": {
      "text/html": [
       "<div>\n",
       "<style scoped>\n",
       "    .dataframe tbody tr th:only-of-type {\n",
       "        vertical-align: middle;\n",
       "    }\n",
       "\n",
       "    .dataframe tbody tr th {\n",
       "        vertical-align: top;\n",
       "    }\n",
       "\n",
       "    .dataframe thead th {\n",
       "        text-align: right;\n",
       "    }\n",
       "</style>\n",
       "<table border=\"1\" class=\"dataframe\">\n",
       "  <thead>\n",
       "    <tr style=\"text-align: right;\">\n",
       "      <th></th>\n",
       "      <th>a</th>\n",
       "      <th>b</th>\n",
       "      <th>c</th>\n",
       "    </tr>\n",
       "  </thead>\n",
       "  <tbody>\n",
       "    <tr>\n",
       "      <th>max_min_name</th>\n",
       "      <td>11</td>\n",
       "      <td>10</td>\n",
       "      <td>11</td>\n",
       "    </tr>\n",
       "  </tbody>\n",
       "</table>\n",
       "</div>"
      ],
      "text/plain": [
       "               a   b   c\n",
       "max_min_name  11  10  11"
      ]
     },
     "execution_count": 25,
     "metadata": {},
     "output_type": "execute_result"
    }
   ],
   "source": [
    "max_min.__name__ = 'max_min_name'\n",
    "df.agg([max_min])"
   ]
  },
  {
   "cell_type": "markdown",
   "id": "79b8bd19-d07c-42ab-81c3-20de1408f810",
   "metadata": {},
   "source": [
    "7.15 agg 方法和用户自定义函数"
   ]
  },
  {
   "cell_type": "code",
   "execution_count": 26,
   "id": "8ea3065f-a509-49af-a5a3-9a0df3305354",
   "metadata": {},
   "outputs": [],
   "source": [
    "def max_mean(df):\n",
    "    return df.max() - df.min()"
   ]
  },
  {
   "cell_type": "code",
   "execution_count": 27,
   "id": "ce031f1b-8366-490b-935f-74de696ac4b4",
   "metadata": {},
   "outputs": [
    {
     "data": {
      "text/html": [
       "<div>\n",
       "<style scoped>\n",
       "    .dataframe tbody tr th:only-of-type {\n",
       "        vertical-align: middle;\n",
       "    }\n",
       "\n",
       "    .dataframe tbody tr th {\n",
       "        vertical-align: top;\n",
       "    }\n",
       "\n",
       "    .dataframe thead th {\n",
       "        text-align: right;\n",
       "    }\n",
       "</style>\n",
       "<table border=\"1\" class=\"dataframe\">\n",
       "  <thead>\n",
       "    <tr style=\"text-align: right;\">\n",
       "      <th></th>\n",
       "      <th>a</th>\n",
       "      <th>b</th>\n",
       "      <th>c</th>\n",
       "    </tr>\n",
       "  </thead>\n",
       "  <tbody>\n",
       "    <tr>\n",
       "      <th>max_mean</th>\n",
       "      <td>11</td>\n",
       "      <td>10</td>\n",
       "      <td>11</td>\n",
       "    </tr>\n",
       "  </tbody>\n",
       "</table>\n",
       "</div>"
      ],
      "text/plain": [
       "           a   b   c\n",
       "max_mean  11  10  11"
      ]
     },
     "execution_count": 27,
     "metadata": {},
     "output_type": "execute_result"
    }
   ],
   "source": [
    "df.agg([max_mean])"
   ]
  },
  {
   "cell_type": "markdown",
   "id": "c5f8da52-8570-4c54-b938-a843f55a438c",
   "metadata": {},
   "source": [
    "7.16 agg 方法和字典"
   ]
  },
  {
   "cell_type": "code",
   "execution_count": 28,
   "id": "9f977663-8259-4c86-a2bb-1435c0f9a24f",
   "metadata": {},
   "outputs": [
    {
     "name": "stderr",
     "output_type": "stream",
     "text": [
      "C:\\Users\\liye\\AppData\\Local\\Temp\\ipykernel_4340\\3298274522.py:1: FutureWarning: The provided callable <function max at 0x000001B023ABA480> is currently using Series.max. In a future version of pandas, the provided callable will be used directly. To keep current behavior pass the string \"max\" instead.\n",
      "  df.agg({'a':[np.max, np.min], 'b':np.sum})\n",
      "C:\\Users\\liye\\AppData\\Local\\Temp\\ipykernel_4340\\3298274522.py:1: FutureWarning: The provided callable <function min at 0x000001B023ABA5C0> is currently using Series.min. In a future version of pandas, the provided callable will be used directly. To keep current behavior pass the string \"min\" instead.\n",
      "  df.agg({'a':[np.max, np.min], 'b':np.sum})\n",
      "C:\\Users\\liye\\AppData\\Local\\Temp\\ipykernel_4340\\3298274522.py:1: FutureWarning: The provided callable <function sum at 0x000001B023AB9DA0> is currently using Series.sum. In a future version of pandas, the provided callable will be used directly. To keep current behavior pass the string \"sum\" instead.\n",
      "  df.agg({'a':[np.max, np.min], 'b':np.sum})\n"
     ]
    },
    {
     "data": {
      "text/html": [
       "<div>\n",
       "<style scoped>\n",
       "    .dataframe tbody tr th:only-of-type {\n",
       "        vertical-align: middle;\n",
       "    }\n",
       "\n",
       "    .dataframe tbody tr th {\n",
       "        vertical-align: top;\n",
       "    }\n",
       "\n",
       "    .dataframe thead th {\n",
       "        text-align: right;\n",
       "    }\n",
       "</style>\n",
       "<table border=\"1\" class=\"dataframe\">\n",
       "  <thead>\n",
       "    <tr style=\"text-align: right;\">\n",
       "      <th></th>\n",
       "      <th>a</th>\n",
       "      <th>b</th>\n",
       "    </tr>\n",
       "  </thead>\n",
       "  <tbody>\n",
       "    <tr>\n",
       "      <th>max</th>\n",
       "      <td>9.0</td>\n",
       "      <td>NaN</td>\n",
       "    </tr>\n",
       "    <tr>\n",
       "      <th>min</th>\n",
       "      <td>-2.0</td>\n",
       "      <td>NaN</td>\n",
       "    </tr>\n",
       "    <tr>\n",
       "      <th>sum</th>\n",
       "      <td>NaN</td>\n",
       "      <td>-5.0</td>\n",
       "    </tr>\n",
       "  </tbody>\n",
       "</table>\n",
       "</div>"
      ],
      "text/plain": [
       "       a    b\n",
       "max  9.0  NaN\n",
       "min -2.0  NaN\n",
       "sum  NaN -5.0"
      ]
     },
     "execution_count": 28,
     "metadata": {},
     "output_type": "execute_result"
    }
   ],
   "source": [
    "df.agg({'a':[np.max, np.min], 'b':np.sum})"
   ]
  },
  {
   "cell_type": "markdown",
   "id": "8c1ce924-4fde-43a9-8fb0-fb06cd59c363",
   "metadata": {},
   "source": [
    "7.17 agg 方法的返回"
   ]
  },
  {
   "cell_type": "code",
   "execution_count": 29,
   "id": "5f9f804c-e6b6-4641-a54a-75ccfc732c41",
   "metadata": {},
   "outputs": [],
   "source": [
    "def add2(obj):\n",
    "    return obj + 2"
   ]
  },
  {
   "cell_type": "code",
   "execution_count": 30,
   "id": "dcffc1fd-3596-4692-b4c5-571ff408a339",
   "metadata": {},
   "outputs": [
    {
     "data": {
      "text/html": [
       "<div>\n",
       "<style scoped>\n",
       "    .dataframe tbody tr th:only-of-type {\n",
       "        vertical-align: middle;\n",
       "    }\n",
       "\n",
       "    .dataframe tbody tr th {\n",
       "        vertical-align: top;\n",
       "    }\n",
       "\n",
       "    .dataframe thead th {\n",
       "        text-align: right;\n",
       "    }\n",
       "</style>\n",
       "<table border=\"1\" class=\"dataframe\">\n",
       "  <thead>\n",
       "    <tr style=\"text-align: right;\">\n",
       "      <th></th>\n",
       "      <th>a</th>\n",
       "      <th>b</th>\n",
       "      <th>c</th>\n",
       "    </tr>\n",
       "  </thead>\n",
       "  <tbody>\n",
       "    <tr>\n",
       "      <th>d</th>\n",
       "      <td>5</td>\n",
       "      <td>-6</td>\n",
       "      <td>-7</td>\n",
       "    </tr>\n",
       "    <tr>\n",
       "      <th>e</th>\n",
       "      <td>9</td>\n",
       "      <td>-3</td>\n",
       "      <td>4</td>\n",
       "    </tr>\n",
       "    <tr>\n",
       "      <th>f</th>\n",
       "      <td>-2</td>\n",
       "      <td>4</td>\n",
       "      <td>0</td>\n",
       "    </tr>\n",
       "  </tbody>\n",
       "</table>\n",
       "</div>"
      ],
      "text/plain": [
       "   a  b  c\n",
       "d  5 -6 -7\n",
       "e  9 -3  4\n",
       "f -2  4  0"
      ]
     },
     "execution_count": 30,
     "metadata": {},
     "output_type": "execute_result"
    }
   ],
   "source": [
    "df"
   ]
  },
  {
   "cell_type": "code",
   "execution_count": 31,
   "id": "26a98c1a-8f6c-441c-93f4-30a3ed9120dd",
   "metadata": {},
   "outputs": [
    {
     "name": "stderr",
     "output_type": "stream",
     "text": [
      "C:\\Users\\liye\\AppData\\Local\\Temp\\ipykernel_4340\\3894002460.py:1: FutureWarning: using <function add2 at 0x000001B0268FD120> in Series.agg cannot aggregate and has been deprecated. Use Series.transform to keep behavior unchanged.\n",
      "  df.agg([add2])\n"
     ]
    },
    {
     "data": {
      "text/html": [
       "<div>\n",
       "<style scoped>\n",
       "    .dataframe tbody tr th:only-of-type {\n",
       "        vertical-align: middle;\n",
       "    }\n",
       "\n",
       "    .dataframe tbody tr th {\n",
       "        vertical-align: top;\n",
       "    }\n",
       "\n",
       "    .dataframe thead tr th {\n",
       "        text-align: left;\n",
       "    }\n",
       "</style>\n",
       "<table border=\"1\" class=\"dataframe\">\n",
       "  <thead>\n",
       "    <tr>\n",
       "      <th></th>\n",
       "      <th>a</th>\n",
       "      <th>b</th>\n",
       "      <th>c</th>\n",
       "    </tr>\n",
       "    <tr>\n",
       "      <th></th>\n",
       "      <th>add2</th>\n",
       "      <th>add2</th>\n",
       "      <th>add2</th>\n",
       "    </tr>\n",
       "  </thead>\n",
       "  <tbody>\n",
       "    <tr>\n",
       "      <th>d</th>\n",
       "      <td>7</td>\n",
       "      <td>-4</td>\n",
       "      <td>-5</td>\n",
       "    </tr>\n",
       "    <tr>\n",
       "      <th>e</th>\n",
       "      <td>11</td>\n",
       "      <td>-1</td>\n",
       "      <td>6</td>\n",
       "    </tr>\n",
       "    <tr>\n",
       "      <th>f</th>\n",
       "      <td>0</td>\n",
       "      <td>6</td>\n",
       "      <td>2</td>\n",
       "    </tr>\n",
       "  </tbody>\n",
       "</table>\n",
       "</div>"
      ],
      "text/plain": [
       "     a    b    c\n",
       "  add2 add2 add2\n",
       "d    7   -4   -5\n",
       "e   11   -1    6\n",
       "f    0    6    2"
      ]
     },
     "execution_count": 31,
     "metadata": {},
     "output_type": "execute_result"
    }
   ],
   "source": [
    "df.agg([add2])"
   ]
  },
  {
   "cell_type": "markdown",
   "id": "e3590291-87d7-40d5-b8ed-61d7349e0ad1",
   "metadata": {},
   "source": [
    "7.18 agg 方法的返回（多个函数）"
   ]
  },
  {
   "cell_type": "code",
   "execution_count": 32,
   "id": "3e5b3e73-1867-42e8-ad18-c45eeb6dfbb3",
   "metadata": {},
   "outputs": [
    {
     "name": "stderr",
     "output_type": "stream",
     "text": [
      "C:\\Users\\liye\\AppData\\Local\\Temp\\ipykernel_4340\\3914809490.py:1: FutureWarning: using <function add2 at 0x000001B0268FD120> in Series.agg cannot aggregate and has been deprecated. Use Series.transform to keep behavior unchanged.\n",
      "  df.agg([add2, np.abs])\n",
      "C:\\Users\\liye\\AppData\\Local\\Temp\\ipykernel_4340\\3914809490.py:1: FutureWarning: using <ufunc 'absolute'> in Series.agg cannot aggregate and has been deprecated. Use Series.transform to keep behavior unchanged.\n",
      "  df.agg([add2, np.abs])\n"
     ]
    },
    {
     "data": {
      "text/html": [
       "<div>\n",
       "<style scoped>\n",
       "    .dataframe tbody tr th:only-of-type {\n",
       "        vertical-align: middle;\n",
       "    }\n",
       "\n",
       "    .dataframe tbody tr th {\n",
       "        vertical-align: top;\n",
       "    }\n",
       "\n",
       "    .dataframe thead tr th {\n",
       "        text-align: left;\n",
       "    }\n",
       "</style>\n",
       "<table border=\"1\" class=\"dataframe\">\n",
       "  <thead>\n",
       "    <tr>\n",
       "      <th></th>\n",
       "      <th colspan=\"2\" halign=\"left\">a</th>\n",
       "      <th colspan=\"2\" halign=\"left\">b</th>\n",
       "      <th colspan=\"2\" halign=\"left\">c</th>\n",
       "    </tr>\n",
       "    <tr>\n",
       "      <th></th>\n",
       "      <th>add2</th>\n",
       "      <th>absolute</th>\n",
       "      <th>add2</th>\n",
       "      <th>absolute</th>\n",
       "      <th>add2</th>\n",
       "      <th>absolute</th>\n",
       "    </tr>\n",
       "  </thead>\n",
       "  <tbody>\n",
       "    <tr>\n",
       "      <th>d</th>\n",
       "      <td>7</td>\n",
       "      <td>5</td>\n",
       "      <td>-4</td>\n",
       "      <td>6</td>\n",
       "      <td>-5</td>\n",
       "      <td>7</td>\n",
       "    </tr>\n",
       "    <tr>\n",
       "      <th>e</th>\n",
       "      <td>11</td>\n",
       "      <td>9</td>\n",
       "      <td>-1</td>\n",
       "      <td>3</td>\n",
       "      <td>6</td>\n",
       "      <td>4</td>\n",
       "    </tr>\n",
       "    <tr>\n",
       "      <th>f</th>\n",
       "      <td>0</td>\n",
       "      <td>2</td>\n",
       "      <td>6</td>\n",
       "      <td>4</td>\n",
       "      <td>2</td>\n",
       "      <td>0</td>\n",
       "    </tr>\n",
       "  </tbody>\n",
       "</table>\n",
       "</div>"
      ],
      "text/plain": [
       "     a             b             c         \n",
       "  add2 absolute add2 absolute add2 absolute\n",
       "d    7        5   -4        6   -5        7\n",
       "e   11        9   -1        3    6        4\n",
       "f    0        2    6        4    2        0"
      ]
     },
     "execution_count": 32,
     "metadata": {},
     "output_type": "execute_result"
    }
   ],
   "source": [
    "df.agg([add2, np.abs])"
   ]
  },
  {
   "cell_type": "markdown",
   "id": "ba2f0f34-b54d-4b21-9853-ba930bfc7d11",
   "metadata": {},
   "source": [
    "7.19 Series 类的 agg 方法"
   ]
  },
  {
   "cell_type": "code",
   "execution_count": 33,
   "id": "6b0ec2de-1a78-44bd-a88b-63b426996bd2",
   "metadata": {},
   "outputs": [
    {
     "data": {
      "text/html": [
       "<div>\n",
       "<style scoped>\n",
       "    .dataframe tbody tr th:only-of-type {\n",
       "        vertical-align: middle;\n",
       "    }\n",
       "\n",
       "    .dataframe tbody tr th {\n",
       "        vertical-align: top;\n",
       "    }\n",
       "\n",
       "    .dataframe thead th {\n",
       "        text-align: right;\n",
       "    }\n",
       "</style>\n",
       "<table border=\"1\" class=\"dataframe\">\n",
       "  <thead>\n",
       "    <tr style=\"text-align: right;\">\n",
       "      <th></th>\n",
       "      <th>a</th>\n",
       "      <th>b</th>\n",
       "      <th>c</th>\n",
       "    </tr>\n",
       "  </thead>\n",
       "  <tbody>\n",
       "    <tr>\n",
       "      <th>d</th>\n",
       "      <td>5</td>\n",
       "      <td>-6</td>\n",
       "      <td>-7</td>\n",
       "    </tr>\n",
       "    <tr>\n",
       "      <th>e</th>\n",
       "      <td>9</td>\n",
       "      <td>-3</td>\n",
       "      <td>4</td>\n",
       "    </tr>\n",
       "    <tr>\n",
       "      <th>f</th>\n",
       "      <td>-2</td>\n",
       "      <td>4</td>\n",
       "      <td>0</td>\n",
       "    </tr>\n",
       "  </tbody>\n",
       "</table>\n",
       "</div>"
      ],
      "text/plain": [
       "   a  b  c\n",
       "d  5 -6 -7\n",
       "e  9 -3  4\n",
       "f -2  4  0"
      ]
     },
     "execution_count": 33,
     "metadata": {},
     "output_type": "execute_result"
    }
   ],
   "source": [
    "df"
   ]
  },
  {
   "cell_type": "code",
   "execution_count": 34,
   "id": "4dae2ca5-5b45-46ca-99e8-9202ccd2b079",
   "metadata": {},
   "outputs": [
    {
     "data": {
      "text/plain": [
       "max    4\n",
       "min   -6\n",
       "Name: b, dtype: int32"
      ]
     },
     "execution_count": 34,
     "metadata": {},
     "output_type": "execute_result"
    }
   ],
   "source": [
    "ser = df['b']\n",
    "ser.agg(['max','min'])"
   ]
  },
  {
   "cell_type": "markdown",
   "id": "a04dbee9-77df-4354-a44e-8ec9664189ff",
   "metadata": {},
   "source": [
    "7.20 基于 agg 方法应用多个函数"
   ]
  },
  {
   "cell_type": "code",
   "execution_count": 35,
   "id": "7b2814fa-77fb-4c44-a161-438c4fac2229",
   "metadata": {},
   "outputs": [
    {
     "name": "stderr",
     "output_type": "stream",
     "text": [
      "C:\\Users\\liye\\AppData\\Local\\Temp\\ipykernel_4340\\1959336239.py:1: FutureWarning: using <function add2 at 0x000001B0268FD120> in Series.agg cannot aggregate and has been deprecated. Use Series.transform to keep behavior unchanged.\n",
      "  ser.agg([add2, np.abs])\n",
      "C:\\Users\\liye\\AppData\\Local\\Temp\\ipykernel_4340\\1959336239.py:1: FutureWarning: using <ufunc 'absolute'> in Series.agg cannot aggregate and has been deprecated. Use Series.transform to keep behavior unchanged.\n",
      "  ser.agg([add2, np.abs])\n"
     ]
    },
    {
     "data": {
      "text/html": [
       "<div>\n",
       "<style scoped>\n",
       "    .dataframe tbody tr th:only-of-type {\n",
       "        vertical-align: middle;\n",
       "    }\n",
       "\n",
       "    .dataframe tbody tr th {\n",
       "        vertical-align: top;\n",
       "    }\n",
       "\n",
       "    .dataframe thead th {\n",
       "        text-align: right;\n",
       "    }\n",
       "</style>\n",
       "<table border=\"1\" class=\"dataframe\">\n",
       "  <thead>\n",
       "    <tr style=\"text-align: right;\">\n",
       "      <th></th>\n",
       "      <th>add2</th>\n",
       "      <th>absolute</th>\n",
       "    </tr>\n",
       "  </thead>\n",
       "  <tbody>\n",
       "    <tr>\n",
       "      <th>d</th>\n",
       "      <td>-4</td>\n",
       "      <td>6</td>\n",
       "    </tr>\n",
       "    <tr>\n",
       "      <th>e</th>\n",
       "      <td>-1</td>\n",
       "      <td>3</td>\n",
       "    </tr>\n",
       "    <tr>\n",
       "      <th>f</th>\n",
       "      <td>6</td>\n",
       "      <td>4</td>\n",
       "    </tr>\n",
       "  </tbody>\n",
       "</table>\n",
       "</div>"
      ],
      "text/plain": [
       "   add2  absolute\n",
       "d    -4         6\n",
       "e    -1         3\n",
       "f     6         4"
      ]
     },
     "execution_count": 35,
     "metadata": {},
     "output_type": "execute_result"
    }
   ],
   "source": [
    "ser.agg([add2, np.abs])"
   ]
  },
  {
   "cell_type": "markdown",
   "id": "c0ded87d-408d-4336-a85d-05f9c1ba293f",
   "metadata": {},
   "source": [
    "### 7.1.3 applymap方法"
   ]
  },
  {
   "cell_type": "markdown",
   "id": "f5b87626-492b-4fbb-b614-a82b66ab97dd",
   "metadata": {},
   "source": [
    "7.21 DataFrame 类的 applymap 方法"
   ]
  },
  {
   "cell_type": "code",
   "execution_count": 36,
   "id": "e64bfca1-c5b8-4051-9065-0fd343725138",
   "metadata": {},
   "outputs": [
    {
     "name": "stderr",
     "output_type": "stream",
     "text": [
      "C:\\Users\\liye\\AppData\\Local\\Temp\\ipykernel_4340\\2522203963.py:1: FutureWarning: DataFrame.applymap has been deprecated. Use DataFrame.map instead.\n",
      "  df.applymap(lambda x: True if x > 0 else False)\n"
     ]
    },
    {
     "data": {
      "text/html": [
       "<div>\n",
       "<style scoped>\n",
       "    .dataframe tbody tr th:only-of-type {\n",
       "        vertical-align: middle;\n",
       "    }\n",
       "\n",
       "    .dataframe tbody tr th {\n",
       "        vertical-align: top;\n",
       "    }\n",
       "\n",
       "    .dataframe thead th {\n",
       "        text-align: right;\n",
       "    }\n",
       "</style>\n",
       "<table border=\"1\" class=\"dataframe\">\n",
       "  <thead>\n",
       "    <tr style=\"text-align: right;\">\n",
       "      <th></th>\n",
       "      <th>a</th>\n",
       "      <th>b</th>\n",
       "      <th>c</th>\n",
       "    </tr>\n",
       "  </thead>\n",
       "  <tbody>\n",
       "    <tr>\n",
       "      <th>d</th>\n",
       "      <td>True</td>\n",
       "      <td>False</td>\n",
       "      <td>False</td>\n",
       "    </tr>\n",
       "    <tr>\n",
       "      <th>e</th>\n",
       "      <td>True</td>\n",
       "      <td>False</td>\n",
       "      <td>True</td>\n",
       "    </tr>\n",
       "    <tr>\n",
       "      <th>f</th>\n",
       "      <td>False</td>\n",
       "      <td>True</td>\n",
       "      <td>False</td>\n",
       "    </tr>\n",
       "  </tbody>\n",
       "</table>\n",
       "</div>"
      ],
      "text/plain": [
       "       a      b      c\n",
       "d   True  False  False\n",
       "e   True  False   True\n",
       "f  False   True  False"
      ]
     },
     "execution_count": 36,
     "metadata": {},
     "output_type": "execute_result"
    }
   ],
   "source": [
    "df.applymap(lambda x: True if x > 0 else False)"
   ]
  },
  {
   "cell_type": "markdown",
   "id": "5ffa2e63-b640-487c-b986-534227fe691b",
   "metadata": {},
   "source": [
    "7.22 applymap 方法和 NumPy 数组的 sign 函数"
   ]
  },
  {
   "cell_type": "code",
   "execution_count": 37,
   "id": "51e8e5a0-8310-41f4-a31b-9c953bd0d41c",
   "metadata": {},
   "outputs": [
    {
     "name": "stderr",
     "output_type": "stream",
     "text": [
      "C:\\Users\\liye\\AppData\\Local\\Temp\\ipykernel_4340\\1330284556.py:1: FutureWarning: DataFrame.applymap has been deprecated. Use DataFrame.map instead.\n",
      "  df.applymap(np.sign)\n"
     ]
    },
    {
     "data": {
      "text/html": [
       "<div>\n",
       "<style scoped>\n",
       "    .dataframe tbody tr th:only-of-type {\n",
       "        vertical-align: middle;\n",
       "    }\n",
       "\n",
       "    .dataframe tbody tr th {\n",
       "        vertical-align: top;\n",
       "    }\n",
       "\n",
       "    .dataframe thead th {\n",
       "        text-align: right;\n",
       "    }\n",
       "</style>\n",
       "<table border=\"1\" class=\"dataframe\">\n",
       "  <thead>\n",
       "    <tr style=\"text-align: right;\">\n",
       "      <th></th>\n",
       "      <th>a</th>\n",
       "      <th>b</th>\n",
       "      <th>c</th>\n",
       "    </tr>\n",
       "  </thead>\n",
       "  <tbody>\n",
       "    <tr>\n",
       "      <th>d</th>\n",
       "      <td>1</td>\n",
       "      <td>-1</td>\n",
       "      <td>-1</td>\n",
       "    </tr>\n",
       "    <tr>\n",
       "      <th>e</th>\n",
       "      <td>1</td>\n",
       "      <td>-1</td>\n",
       "      <td>1</td>\n",
       "    </tr>\n",
       "    <tr>\n",
       "      <th>f</th>\n",
       "      <td>-1</td>\n",
       "      <td>1</td>\n",
       "      <td>0</td>\n",
       "    </tr>\n",
       "  </tbody>\n",
       "</table>\n",
       "</div>"
      ],
      "text/plain": [
       "   a  b  c\n",
       "d  1 -1 -1\n",
       "e  1 -1  1\n",
       "f -1  1  0"
      ]
     },
     "execution_count": 37,
     "metadata": {},
     "output_type": "execute_result"
    }
   ],
   "source": [
    "df.applymap(np.sign)"
   ]
  },
  {
   "cell_type": "markdown",
   "id": "22d180a3-b885-491d-b881-6695b397efe3",
   "metadata": {},
   "source": [
    "7.23 applymap 方法和用户自定义函数"
   ]
  },
  {
   "cell_type": "code",
   "execution_count": 38,
   "id": "c482b579-495e-4a3c-85e4-14241bdbd594",
   "metadata": {},
   "outputs": [
    {
     "name": "stderr",
     "output_type": "stream",
     "text": [
      "C:\\Users\\liye\\AppData\\Local\\Temp\\ipykernel_4340\\2240861552.py:8: FutureWarning: DataFrame.applymap has been deprecated. Use DataFrame.map instead.\n",
      "  df.applymap(mapping)\n"
     ]
    },
    {
     "data": {
      "text/html": [
       "<div>\n",
       "<style scoped>\n",
       "    .dataframe tbody tr th:only-of-type {\n",
       "        vertical-align: middle;\n",
       "    }\n",
       "\n",
       "    .dataframe tbody tr th {\n",
       "        vertical-align: top;\n",
       "    }\n",
       "\n",
       "    .dataframe thead th {\n",
       "        text-align: right;\n",
       "    }\n",
       "</style>\n",
       "<table border=\"1\" class=\"dataframe\">\n",
       "  <thead>\n",
       "    <tr style=\"text-align: right;\">\n",
       "      <th></th>\n",
       "      <th>a</th>\n",
       "      <th>b</th>\n",
       "      <th>c</th>\n",
       "    </tr>\n",
       "  </thead>\n",
       "  <tbody>\n",
       "    <tr>\n",
       "      <th>d</th>\n",
       "      <td>True</td>\n",
       "      <td>False</td>\n",
       "      <td>False</td>\n",
       "    </tr>\n",
       "    <tr>\n",
       "      <th>e</th>\n",
       "      <td>True</td>\n",
       "      <td>False</td>\n",
       "      <td>True</td>\n",
       "    </tr>\n",
       "    <tr>\n",
       "      <th>f</th>\n",
       "      <td>False</td>\n",
       "      <td>True</td>\n",
       "      <td>False</td>\n",
       "    </tr>\n",
       "  </tbody>\n",
       "</table>\n",
       "</div>"
      ],
      "text/plain": [
       "       a      b      c\n",
       "d   True  False  False\n",
       "e   True  False   True\n",
       "f  False   True  False"
      ]
     },
     "execution_count": 38,
     "metadata": {},
     "output_type": "execute_result"
    }
   ],
   "source": [
    "#　有自变量的函数\n",
    "def mapping(val, n=3):\n",
    "    if val > n:\n",
    "        return True\n",
    "    else:\n",
    "        return False\n",
    "\n",
    "df.applymap(mapping)"
   ]
  },
  {
   "cell_type": "markdown",
   "id": "a34b59a3-4e50-41df-a4f7-febd2f41b2f1",
   "metadata": {},
   "source": [
    "7.24 applymap 方法和匿名函数"
   ]
  },
  {
   "cell_type": "code",
   "execution_count": 39,
   "id": "dc469f05-38a5-4068-acd3-9c48048556f7",
   "metadata": {},
   "outputs": [
    {
     "name": "stderr",
     "output_type": "stream",
     "text": [
      "C:\\Users\\liye\\AppData\\Local\\Temp\\ipykernel_4340\\3245349168.py:1: FutureWarning: DataFrame.applymap has been deprecated. Use DataFrame.map instead.\n",
      "  df.applymap(lambda x: mapping(x, n=4))\n"
     ]
    },
    {
     "data": {
      "text/html": [
       "<div>\n",
       "<style scoped>\n",
       "    .dataframe tbody tr th:only-of-type {\n",
       "        vertical-align: middle;\n",
       "    }\n",
       "\n",
       "    .dataframe tbody tr th {\n",
       "        vertical-align: top;\n",
       "    }\n",
       "\n",
       "    .dataframe thead th {\n",
       "        text-align: right;\n",
       "    }\n",
       "</style>\n",
       "<table border=\"1\" class=\"dataframe\">\n",
       "  <thead>\n",
       "    <tr style=\"text-align: right;\">\n",
       "      <th></th>\n",
       "      <th>a</th>\n",
       "      <th>b</th>\n",
       "      <th>c</th>\n",
       "    </tr>\n",
       "  </thead>\n",
       "  <tbody>\n",
       "    <tr>\n",
       "      <th>d</th>\n",
       "      <td>True</td>\n",
       "      <td>False</td>\n",
       "      <td>False</td>\n",
       "    </tr>\n",
       "    <tr>\n",
       "      <th>e</th>\n",
       "      <td>True</td>\n",
       "      <td>False</td>\n",
       "      <td>False</td>\n",
       "    </tr>\n",
       "    <tr>\n",
       "      <th>f</th>\n",
       "      <td>False</td>\n",
       "      <td>False</td>\n",
       "      <td>False</td>\n",
       "    </tr>\n",
       "  </tbody>\n",
       "</table>\n",
       "</div>"
      ],
      "text/plain": [
       "       a      b      c\n",
       "d   True  False  False\n",
       "e   True  False  False\n",
       "f  False  False  False"
      ]
     },
     "execution_count": 39,
     "metadata": {},
     "output_type": "execute_result"
    }
   ],
   "source": [
    "df.applymap(lambda x: mapping(x, n=4))"
   ]
  },
  {
   "cell_type": "markdown",
   "id": "0015edb7-5883-40e0-b756-44ba1e386b76",
   "metadata": {},
   "source": [
    "7.25 Series 类的 map 方法"
   ]
  },
  {
   "cell_type": "code",
   "execution_count": 40,
   "id": "58d973ac-bd4f-46fc-85da-3d8866f9f422",
   "metadata": {},
   "outputs": [
    {
     "data": {
      "text/plain": [
       "d   -7\n",
       "e    4\n",
       "f    0\n",
       "Name: c, dtype: int32"
      ]
     },
     "execution_count": 40,
     "metadata": {},
     "output_type": "execute_result"
    }
   ],
   "source": [
    "df['c']"
   ]
  },
  {
   "cell_type": "code",
   "execution_count": 41,
   "id": "5fa8a98e-669c-40a9-b05a-3f6e1698db21",
   "metadata": {},
   "outputs": [
    {
     "data": {
      "text/plain": [
       "d    False\n",
       "e    False\n",
       "f     True\n",
       "Name: c, dtype: bool"
      ]
     },
     "execution_count": 41,
     "metadata": {},
     "output_type": "execute_result"
    }
   ],
   "source": [
    "ser = df['c']\n",
    "ser.map(lambda x: True if x == 0 else False)"
   ]
  },
  {
   "cell_type": "markdown",
   "id": "888a62b8-1ecd-434c-9e51-0b96583b3071",
   "metadata": {},
   "source": [
    "### 7.1.4 pipe方法"
   ]
  },
  {
   "cell_type": "markdown",
   "id": "331bfa11-e398-4490-8ef4-0551d41e15f3",
   "metadata": {},
   "source": [
    "7.26 多个函数的定义"
   ]
  },
  {
   "cell_type": "code",
   "execution_count": 42,
   "id": "765db76b-d31d-4e67-b367-4ee302254704",
   "metadata": {},
   "outputs": [],
   "source": [
    "def add(df, p=None):\n",
    "    return df + p\n",
    "\n",
    "def div(df, n=None):\n",
    "    return df / n\n",
    "\n",
    "def rnd(df, d=None):\n",
    "    return round(df, d)"
   ]
  },
  {
   "cell_type": "markdown",
   "id": "33498b57-c218-4941-a9c7-e505c6d4ef88",
   "metadata": {},
   "source": [
    "7.27 在 DataFrame 对象中应用多个函数"
   ]
  },
  {
   "cell_type": "code",
   "execution_count": 43,
   "id": "d0309ec2-f581-44d8-95da-8f130586f7df",
   "metadata": {},
   "outputs": [
    {
     "data": {
      "text/html": [
       "<div>\n",
       "<style scoped>\n",
       "    .dataframe tbody tr th:only-of-type {\n",
       "        vertical-align: middle;\n",
       "    }\n",
       "\n",
       "    .dataframe tbody tr th {\n",
       "        vertical-align: top;\n",
       "    }\n",
       "\n",
       "    .dataframe thead th {\n",
       "        text-align: right;\n",
       "    }\n",
       "</style>\n",
       "<table border=\"1\" class=\"dataframe\">\n",
       "  <thead>\n",
       "    <tr style=\"text-align: right;\">\n",
       "      <th></th>\n",
       "      <th>a</th>\n",
       "      <th>b</th>\n",
       "      <th>c</th>\n",
       "    </tr>\n",
       "  </thead>\n",
       "  <tbody>\n",
       "    <tr>\n",
       "      <th>d</th>\n",
       "      <td>2.667</td>\n",
       "      <td>-1.000</td>\n",
       "      <td>-1.333</td>\n",
       "    </tr>\n",
       "    <tr>\n",
       "      <th>e</th>\n",
       "      <td>4.000</td>\n",
       "      <td>0.000</td>\n",
       "      <td>2.333</td>\n",
       "    </tr>\n",
       "    <tr>\n",
       "      <th>f</th>\n",
       "      <td>0.333</td>\n",
       "      <td>2.333</td>\n",
       "      <td>1.000</td>\n",
       "    </tr>\n",
       "  </tbody>\n",
       "</table>\n",
       "</div>"
      ],
      "text/plain": [
       "       a      b      c\n",
       "d  2.667 -1.000 -1.333\n",
       "e  4.000  0.000  2.333\n",
       "f  0.333  2.333  1.000"
      ]
     },
     "execution_count": 43,
     "metadata": {},
     "output_type": "execute_result"
    }
   ],
   "source": [
    "a = add(df, p=3)\n",
    "b = div(a, n=3)\n",
    "rnd(b, d=3)"
   ]
  },
  {
   "cell_type": "markdown",
   "id": "a7b0741b-5fa1-4e82-85aa-ab1ec02dac6c",
   "metadata": {},
   "source": [
    "7.28 在 DataFrame 对象中应用多个函数（嵌套）"
   ]
  },
  {
   "cell_type": "code",
   "execution_count": 44,
   "id": "ea8999b9-32c4-463f-8ade-301b0675e723",
   "metadata": {},
   "outputs": [
    {
     "data": {
      "text/html": [
       "<div>\n",
       "<style scoped>\n",
       "    .dataframe tbody tr th:only-of-type {\n",
       "        vertical-align: middle;\n",
       "    }\n",
       "\n",
       "    .dataframe tbody tr th {\n",
       "        vertical-align: top;\n",
       "    }\n",
       "\n",
       "    .dataframe thead th {\n",
       "        text-align: right;\n",
       "    }\n",
       "</style>\n",
       "<table border=\"1\" class=\"dataframe\">\n",
       "  <thead>\n",
       "    <tr style=\"text-align: right;\">\n",
       "      <th></th>\n",
       "      <th>a</th>\n",
       "      <th>b</th>\n",
       "      <th>c</th>\n",
       "    </tr>\n",
       "  </thead>\n",
       "  <tbody>\n",
       "    <tr>\n",
       "      <th>d</th>\n",
       "      <td>2.667</td>\n",
       "      <td>-1.000</td>\n",
       "      <td>-1.333</td>\n",
       "    </tr>\n",
       "    <tr>\n",
       "      <th>e</th>\n",
       "      <td>4.000</td>\n",
       "      <td>0.000</td>\n",
       "      <td>2.333</td>\n",
       "    </tr>\n",
       "    <tr>\n",
       "      <th>f</th>\n",
       "      <td>0.333</td>\n",
       "      <td>2.333</td>\n",
       "      <td>1.000</td>\n",
       "    </tr>\n",
       "  </tbody>\n",
       "</table>\n",
       "</div>"
      ],
      "text/plain": [
       "       a      b      c\n",
       "d  2.667 -1.000 -1.333\n",
       "e  4.000  0.000  2.333\n",
       "f  0.333  2.333  1.000"
      ]
     },
     "execution_count": 44,
     "metadata": {},
     "output_type": "execute_result"
    }
   ],
   "source": [
    "rnd(div(add(df, p=3), n=3), d=3)"
   ]
  },
  {
   "cell_type": "markdown",
   "id": "8c97890d-653f-43f2-9c18-664acf9d8c74",
   "metadata": {},
   "source": [
    "7.29 使用 pipe 方法传递每个函数的参数"
   ]
  },
  {
   "cell_type": "code",
   "execution_count": 45,
   "id": "df4f51e2-e342-472c-ab93-17d0e2d0c20a",
   "metadata": {},
   "outputs": [
    {
     "data": {
      "text/html": [
       "<div>\n",
       "<style scoped>\n",
       "    .dataframe tbody tr th:only-of-type {\n",
       "        vertical-align: middle;\n",
       "    }\n",
       "\n",
       "    .dataframe tbody tr th {\n",
       "        vertical-align: top;\n",
       "    }\n",
       "\n",
       "    .dataframe thead th {\n",
       "        text-align: right;\n",
       "    }\n",
       "</style>\n",
       "<table border=\"1\" class=\"dataframe\">\n",
       "  <thead>\n",
       "    <tr style=\"text-align: right;\">\n",
       "      <th></th>\n",
       "      <th>a</th>\n",
       "      <th>b</th>\n",
       "      <th>c</th>\n",
       "    </tr>\n",
       "  </thead>\n",
       "  <tbody>\n",
       "    <tr>\n",
       "      <th>d</th>\n",
       "      <td>2.66667</td>\n",
       "      <td>-1.00000</td>\n",
       "      <td>-1.33333</td>\n",
       "    </tr>\n",
       "    <tr>\n",
       "      <th>e</th>\n",
       "      <td>4.00000</td>\n",
       "      <td>0.00000</td>\n",
       "      <td>2.33333</td>\n",
       "    </tr>\n",
       "    <tr>\n",
       "      <th>f</th>\n",
       "      <td>0.33333</td>\n",
       "      <td>2.33333</td>\n",
       "      <td>1.00000</td>\n",
       "    </tr>\n",
       "  </tbody>\n",
       "</table>\n",
       "</div>"
      ],
      "text/plain": [
       "         a        b        c\n",
       "d  2.66667 -1.00000 -1.33333\n",
       "e  4.00000  0.00000  2.33333\n",
       "f  0.33333  2.33333  1.00000"
      ]
     },
     "execution_count": 45,
     "metadata": {},
     "output_type": "execute_result"
    }
   ],
   "source": [
    "df.pipe(add, p=3).pipe(div, n=3).pipe(rnd, d=5)"
   ]
  },
  {
   "cell_type": "markdown",
   "id": "7183e6b7-3548-4eb9-923a-4c36a1256fe6",
   "metadata": {},
   "source": [
    "## 7.2 基于for语句的循环处理"
   ]
  },
  {
   "cell_type": "markdown",
   "id": "993a68e4-eeff-41f6-8ab0-f0f1360daf58",
   "metadata": {},
   "source": [
    "### 7.2.1 Series对象的循环处理"
   ]
  },
  {
   "cell_type": "markdown",
   "id": "fe9cdb31-9596-4c09-8e83-789338d544cb",
   "metadata": {},
   "source": [
    "7.30 Series 对象的创建"
   ]
  },
  {
   "cell_type": "code",
   "execution_count": 46,
   "id": "2280c0bd-80ef-4b56-80e4-33c384427bce",
   "metadata": {},
   "outputs": [
    {
     "data": {
      "text/plain": [
       "a    0\n",
       "b    1\n",
       "c    2\n",
       "d    3\n",
       "e    4\n",
       "dtype: int64"
      ]
     },
     "execution_count": 46,
     "metadata": {},
     "output_type": "execute_result"
    }
   ],
   "source": [
    "ser = pd.Series([0,1,2,3,4], index=list('abcde'))\n",
    "ser"
   ]
  },
  {
   "cell_type": "markdown",
   "id": "bd5d1b6d-522a-48c9-b587-2ee2697f149f",
   "metadata": {},
   "source": [
    "7.31 Series 对象和 for 语句"
   ]
  },
  {
   "cell_type": "code",
   "execution_count": 47,
   "id": "0f2d11f2-fb71-4226-a3d3-983d340ae00e",
   "metadata": {},
   "outputs": [
    {
     "name": "stdout",
     "output_type": "stream",
     "text": [
      "0\n",
      "1\n",
      "2\n",
      "3\n",
      "4\n"
     ]
    }
   ],
   "source": [
    "for val in ser:\n",
    "    print(val)"
   ]
  },
  {
   "cell_type": "markdown",
   "id": "386eabed-dc93-42af-ad15-7d6cf82825ca",
   "metadata": {},
   "source": [
    "7.32 index 属性和 for 语句"
   ]
  },
  {
   "cell_type": "code",
   "execution_count": 48,
   "id": "61099f71-361f-4017-8f4e-d373cf583bde",
   "metadata": {},
   "outputs": [
    {
     "name": "stdout",
     "output_type": "stream",
     "text": [
      "a\n",
      "b\n",
      "c\n",
      "d\n",
      "e\n"
     ]
    }
   ],
   "source": [
    "for idx in ser.index:\n",
    "    print(idx)"
   ]
  },
  {
   "cell_type": "markdown",
   "id": "bb413546-a5bb-44fa-9f58-213dc19d42e4",
   "metadata": {},
   "source": [
    "7.33 Series 对象的 iteritems 方法"
   ]
  },
  {
   "cell_type": "code",
   "execution_count": 49,
   "id": "1afe4580-6c92-4c0d-8796-4b40e0e333e0",
   "metadata": {},
   "outputs": [
    {
     "data": {
      "text/plain": [
       "zip"
      ]
     },
     "execution_count": 49,
     "metadata": {},
     "output_type": "execute_result"
    }
   ],
   "source": [
    "type(ser.items())"
   ]
  },
  {
   "cell_type": "code",
   "execution_count": 50,
   "id": "0ebcb34b-8d9e-40af-a801-a73ee312cc3c",
   "metadata": {},
   "outputs": [
    {
     "name": "stdout",
     "output_type": "stream",
     "text": [
      "a 0\n",
      "b 1\n",
      "c 2\n",
      "d 3\n",
      "e 4\n"
     ]
    }
   ],
   "source": [
    "for idx, val in ser.items():\n",
    "    print(idx, val)"
   ]
  },
  {
   "cell_type": "markdown",
   "id": "e4b3a847-8ddf-4542-9de3-de019332f184",
   "metadata": {},
   "source": [
    "7.34 Series 对象的 iteritems 方法和 if 语句"
   ]
  },
  {
   "cell_type": "code",
   "execution_count": 51,
   "id": "fab7fb34-cd21-4fcd-ac14-d976af03cbfe",
   "metadata": {},
   "outputs": [
    {
     "name": "stdout",
     "output_type": "stream",
     "text": [
      "a\n",
      "b\n",
      "c\n"
     ]
    }
   ],
   "source": [
    "for idx, val in ser.items():\n",
    "    if val < 3:\n",
    "        print(idx)"
   ]
  },
  {
   "cell_type": "markdown",
   "id": "e518bc46-e538-4345-a27a-85fa9be9bdd7",
   "metadata": {},
   "source": [
    "### 7.2.2 DataFrame对象的循环处理"
   ]
  },
  {
   "cell_type": "markdown",
   "id": "ef62258c-2adb-41c6-bf83-14af80aa429b",
   "metadata": {},
   "source": [
    "7.35 DataFrame 对象和 for 语句"
   ]
  },
  {
   "cell_type": "code",
   "execution_count": 52,
   "id": "ab1dde5f-dc00-4b25-978f-7d17bf0fe0c3",
   "metadata": {},
   "outputs": [
    {
     "data": {
      "text/html": [
       "<div>\n",
       "<style scoped>\n",
       "    .dataframe tbody tr th:only-of-type {\n",
       "        vertical-align: middle;\n",
       "    }\n",
       "\n",
       "    .dataframe tbody tr th {\n",
       "        vertical-align: top;\n",
       "    }\n",
       "\n",
       "    .dataframe thead th {\n",
       "        text-align: right;\n",
       "    }\n",
       "</style>\n",
       "<table border=\"1\" class=\"dataframe\">\n",
       "  <thead>\n",
       "    <tr style=\"text-align: right;\">\n",
       "      <th></th>\n",
       "      <th>math</th>\n",
       "      <th>eng</th>\n",
       "    </tr>\n",
       "  </thead>\n",
       "  <tbody>\n",
       "    <tr>\n",
       "      <th>A</th>\n",
       "      <td>81</td>\n",
       "      <td>79</td>\n",
       "    </tr>\n",
       "    <tr>\n",
       "      <th>B</th>\n",
       "      <td>91</td>\n",
       "      <td>90</td>\n",
       "    </tr>\n",
       "  </tbody>\n",
       "</table>\n",
       "</div>"
      ],
      "text/plain": [
       "   math  eng\n",
       "A    81   79\n",
       "B    91   90"
      ]
     },
     "execution_count": 52,
     "metadata": {},
     "output_type": "execute_result"
    }
   ],
   "source": [
    "val = [[81,79],[91,90]]\n",
    "df = pd.DataFrame(val, columns=['math','eng'], index=list('AB'))\n",
    "df"
   ]
  },
  {
   "cell_type": "code",
   "execution_count": 53,
   "id": "392e7a18-ba25-4fbf-a4c7-2afc4bfcdace",
   "metadata": {},
   "outputs": [
    {
     "name": "stdout",
     "output_type": "stream",
     "text": [
      "math\n",
      "eng\n"
     ]
    }
   ],
   "source": [
    "for col in df:\n",
    "    print(col)"
   ]
  },
  {
   "cell_type": "markdown",
   "id": "4593e9fe-f2b0-4feb-9d43-343733049f80",
   "metadata": {},
   "source": [
    "7.36 columns 属性、index 属性和 for 语句"
   ]
  },
  {
   "cell_type": "code",
   "execution_count": 54,
   "id": "f3887c4e-a07e-4863-a5e2-c760ff592af6",
   "metadata": {},
   "outputs": [
    {
     "name": "stdout",
     "output_type": "stream",
     "text": [
      "math\n",
      "eng\n"
     ]
    }
   ],
   "source": [
    "for col in df.columns:\n",
    "    print(col)"
   ]
  },
  {
   "cell_type": "code",
   "execution_count": 55,
   "id": "23a8d0aa-bcda-4a11-a3b0-84d475c18611",
   "metadata": {},
   "outputs": [
    {
     "name": "stdout",
     "output_type": "stream",
     "text": [
      "A\n",
      "B\n"
     ]
    }
   ],
   "source": [
    "for idx in df.index:\n",
    "    print(idx)"
   ]
  },
  {
   "cell_type": "markdown",
   "id": "259ddb19-190c-4809-8dcc-b8414d19f777",
   "metadata": {},
   "source": [
    "7.37 DataFrame 对象的 iterrows 方法"
   ]
  },
  {
   "cell_type": "code",
   "execution_count": 56,
   "id": "215acca9-1c45-443a-891a-c280542dc2a0",
   "metadata": {},
   "outputs": [
    {
     "name": "stdout",
     "output_type": "stream",
     "text": [
      "<class 'str'>\n",
      "<class 'pandas.core.series.Series'>\n"
     ]
    }
   ],
   "source": [
    "for idx,val in df.iterrows():\n",
    "    print(type(idx))\n",
    "    print(type(val))\n",
    "    break"
   ]
  },
  {
   "cell_type": "code",
   "execution_count": 57,
   "id": "670c3cf6-e1db-4792-8036-20bfce5d4e35",
   "metadata": {},
   "outputs": [
    {
     "name": "stdout",
     "output_type": "stream",
     "text": [
      "A\n",
      "math    81\n",
      "eng     79\n",
      "Name: A, dtype: int64 \n",
      "\n",
      "B\n",
      "math    91\n",
      "eng     90\n",
      "Name: B, dtype: int64 \n",
      "\n"
     ]
    }
   ],
   "source": [
    "for idx,val in df.iterrows():\n",
    "    print(idx)\n",
    "    print(val, '\\n')"
   ]
  },
  {
   "cell_type": "markdown",
   "id": "56de9a35-c8fe-42a3-b691-09406910158c",
   "metadata": {},
   "source": [
    "7.38 数据类型的确认"
   ]
  },
  {
   "cell_type": "code",
   "execution_count": 58,
   "id": "0305c90a-af0f-450f-8052-595f5a59c4d4",
   "metadata": {},
   "outputs": [
    {
     "data": {
      "text/html": [
       "<div>\n",
       "<style scoped>\n",
       "    .dataframe tbody tr th:only-of-type {\n",
       "        vertical-align: middle;\n",
       "    }\n",
       "\n",
       "    .dataframe tbody tr th {\n",
       "        vertical-align: top;\n",
       "    }\n",
       "\n",
       "    .dataframe thead th {\n",
       "        text-align: right;\n",
       "    }\n",
       "</style>\n",
       "<table border=\"1\" class=\"dataframe\">\n",
       "  <thead>\n",
       "    <tr style=\"text-align: right;\">\n",
       "      <th></th>\n",
       "      <th>math</th>\n",
       "      <th>eng</th>\n",
       "    </tr>\n",
       "  </thead>\n",
       "  <tbody>\n",
       "    <tr>\n",
       "      <th>A</th>\n",
       "      <td>81</td>\n",
       "      <td>79</td>\n",
       "    </tr>\n",
       "    <tr>\n",
       "      <th>B</th>\n",
       "      <td>91</td>\n",
       "      <td>90</td>\n",
       "    </tr>\n",
       "  </tbody>\n",
       "</table>\n",
       "</div>"
      ],
      "text/plain": [
       "   math  eng\n",
       "A    81   79\n",
       "B    91   90"
      ]
     },
     "execution_count": 58,
     "metadata": {},
     "output_type": "execute_result"
    }
   ],
   "source": [
    "df2 = df.copy()\n",
    "df2"
   ]
  },
  {
   "cell_type": "code",
   "execution_count": 59,
   "id": "74f2c087-90bb-470a-8203-2e48adcf2d42",
   "metadata": {},
   "outputs": [
    {
     "data": {
      "text/plain": [
       "math    int64\n",
       "eng     int64\n",
       "dtype: object"
      ]
     },
     "execution_count": 59,
     "metadata": {},
     "output_type": "execute_result"
    }
   ],
   "source": [
    "df2.dtypes"
   ]
  },
  {
   "cell_type": "code",
   "execution_count": 60,
   "id": "87b057ff-b686-4ebc-930f-5cfba5746d83",
   "metadata": {},
   "outputs": [
    {
     "data": {
      "text/plain": [
       "math    float64\n",
       "eng       int64\n",
       "dtype: object"
      ]
     },
     "execution_count": 60,
     "metadata": {},
     "output_type": "execute_result"
    }
   ],
   "source": [
    "df2['math'] = [81.0, 91.0]\n",
    "df2.dtypes"
   ]
  },
  {
   "cell_type": "markdown",
   "id": "765549e3-4b59-4996-ad37-9fd49d509daa",
   "metadata": {},
   "source": [
    "7.39 Python 内置函数 next"
   ]
  },
  {
   "cell_type": "code",
   "execution_count": 61,
   "id": "cffcbc32-e1fd-4e80-a627-0da6a69cc876",
   "metadata": {},
   "outputs": [
    {
     "data": {
      "text/plain": [
       "<generator object DataFrame.iterrows at 0x000001B0268AF560>"
      ]
     },
     "execution_count": 61,
     "metadata": {},
     "output_type": "execute_result"
    }
   ],
   "source": [
    "df2.iterrows()"
   ]
  },
  {
   "cell_type": "code",
   "execution_count": 62,
   "id": "beb6a403-483e-4f4f-a990-810d959c5d1b",
   "metadata": {},
   "outputs": [
    {
     "data": {
      "text/plain": [
       "math    81.0\n",
       "eng     79.0\n",
       "Name: A, dtype: float64"
      ]
     },
     "execution_count": 62,
     "metadata": {},
     "output_type": "execute_result"
    }
   ],
   "source": [
    "row = next(df2.iterrows())[1]\n",
    "row"
   ]
  },
  {
   "cell_type": "markdown",
   "id": "3ac3399c-7c90-43a7-bdb7-8e8250212682",
   "metadata": {},
   "source": [
    "7.40 数据类型的确认"
   ]
  },
  {
   "cell_type": "code",
   "execution_count": 63,
   "id": "cff7f3a7-1a89-4486-8000-7036ce9e128f",
   "metadata": {},
   "outputs": [
    {
     "name": "stdout",
     "output_type": "stream",
     "text": [
      "int64\n",
      "float64\n"
     ]
    }
   ],
   "source": [
    "print(df2['eng'].dtype)\n",
    "print(row['eng'].dtype)"
   ]
  },
  {
   "cell_type": "markdown",
   "id": "72ac4171-2d17-43df-84ac-73800ac03bd6",
   "metadata": {},
   "source": [
    "7.41 基于循环处理对值进行更新"
   ]
  },
  {
   "cell_type": "code",
   "execution_count": 64,
   "id": "17fe8c16-ab77-4f46-8bf3-fa169406514e",
   "metadata": {},
   "outputs": [
    {
     "data": {
      "text/html": [
       "<div>\n",
       "<style scoped>\n",
       "    .dataframe tbody tr th:only-of-type {\n",
       "        vertical-align: middle;\n",
       "    }\n",
       "\n",
       "    .dataframe tbody tr th {\n",
       "        vertical-align: top;\n",
       "    }\n",
       "\n",
       "    .dataframe thead th {\n",
       "        text-align: right;\n",
       "    }\n",
       "</style>\n",
       "<table border=\"1\" class=\"dataframe\">\n",
       "  <thead>\n",
       "    <tr style=\"text-align: right;\">\n",
       "      <th></th>\n",
       "      <th>math</th>\n",
       "      <th>eng</th>\n",
       "    </tr>\n",
       "  </thead>\n",
       "  <tbody>\n",
       "    <tr>\n",
       "      <th>A</th>\n",
       "      <td>81.0</td>\n",
       "      <td>79</td>\n",
       "    </tr>\n",
       "    <tr>\n",
       "      <th>B</th>\n",
       "      <td>91.0</td>\n",
       "      <td>90</td>\n",
       "    </tr>\n",
       "  </tbody>\n",
       "</table>\n",
       "</div>"
      ],
      "text/plain": [
       "   math  eng\n",
       "A  81.0   79\n",
       "B  91.0   90"
      ]
     },
     "execution_count": 64,
     "metadata": {},
     "output_type": "execute_result"
    }
   ],
   "source": [
    "df2"
   ]
  },
  {
   "cell_type": "code",
   "execution_count": 65,
   "id": "a5294663-9cea-4ab9-894f-a4fe98d156da",
   "metadata": {},
   "outputs": [
    {
     "name": "stderr",
     "output_type": "stream",
     "text": [
      "C:\\Users\\liye\\AppData\\Local\\Temp\\ipykernel_4340\\1683622283.py:2: FutureWarning: Setting an item of incompatible dtype is deprecated and will raise in a future error of pandas. Value 'a' has dtype incompatible with float64, please explicitly cast to a compatible dtype first.\n",
      "  value['math'] = \"a\"\n"
     ]
    }
   ],
   "source": [
    "for idx, value in df2.iterrows():\n",
    "    value['math'] = \"a\""
   ]
  },
  {
   "cell_type": "code",
   "execution_count": 66,
   "id": "2f77f042-0af2-4cbb-a357-f518ee6cc444",
   "metadata": {},
   "outputs": [
    {
     "data": {
      "text/html": [
       "<div>\n",
       "<style scoped>\n",
       "    .dataframe tbody tr th:only-of-type {\n",
       "        vertical-align: middle;\n",
       "    }\n",
       "\n",
       "    .dataframe tbody tr th {\n",
       "        vertical-align: top;\n",
       "    }\n",
       "\n",
       "    .dataframe thead th {\n",
       "        text-align: right;\n",
       "    }\n",
       "</style>\n",
       "<table border=\"1\" class=\"dataframe\">\n",
       "  <thead>\n",
       "    <tr style=\"text-align: right;\">\n",
       "      <th></th>\n",
       "      <th>math</th>\n",
       "      <th>eng</th>\n",
       "    </tr>\n",
       "  </thead>\n",
       "  <tbody>\n",
       "    <tr>\n",
       "      <th>A</th>\n",
       "      <td>81.0</td>\n",
       "      <td>79</td>\n",
       "    </tr>\n",
       "    <tr>\n",
       "      <th>B</th>\n",
       "      <td>91.0</td>\n",
       "      <td>90</td>\n",
       "    </tr>\n",
       "  </tbody>\n",
       "</table>\n",
       "</div>"
      ],
      "text/plain": [
       "   math  eng\n",
       "A  81.0   79\n",
       "B  91.0   90"
      ]
     },
     "execution_count": 66,
     "metadata": {},
     "output_type": "execute_result"
    }
   ],
   "source": [
    "df2 #这里为什么没有更新"
   ]
  },
  {
   "cell_type": "markdown",
   "id": "0d4dddcf-0aa7-423c-b0f5-b6b113e88b67",
   "metadata": {},
   "source": [
    "7.42 基于循环处理对值进行更新（DataFrame 对象）"
   ]
  },
  {
   "cell_type": "code",
   "execution_count": 67,
   "id": "f93d490a-e62f-44b9-83a5-a20459caf49c",
   "metadata": {},
   "outputs": [
    {
     "name": "stderr",
     "output_type": "stream",
     "text": [
      "C:\\Users\\liye\\AppData\\Local\\Temp\\ipykernel_4340\\11190807.py:2: FutureWarning: Setting an item of incompatible dtype is deprecated and will raise in a future error of pandas. Value 'a' has dtype incompatible with float64, please explicitly cast to a compatible dtype first.\n",
      "  df2.loc[idx, 'math'] = 'a'\n"
     ]
    }
   ],
   "source": [
    "for idx, value in df2.iterrows():\n",
    "    df2.loc[idx, 'math'] = 'a'"
   ]
  },
  {
   "cell_type": "code",
   "execution_count": 68,
   "id": "3040478c-0fc1-4457-a5a8-cada78a65df2",
   "metadata": {},
   "outputs": [
    {
     "data": {
      "text/html": [
       "<div>\n",
       "<style scoped>\n",
       "    .dataframe tbody tr th:only-of-type {\n",
       "        vertical-align: middle;\n",
       "    }\n",
       "\n",
       "    .dataframe tbody tr th {\n",
       "        vertical-align: top;\n",
       "    }\n",
       "\n",
       "    .dataframe thead th {\n",
       "        text-align: right;\n",
       "    }\n",
       "</style>\n",
       "<table border=\"1\" class=\"dataframe\">\n",
       "  <thead>\n",
       "    <tr style=\"text-align: right;\">\n",
       "      <th></th>\n",
       "      <th>math</th>\n",
       "      <th>eng</th>\n",
       "    </tr>\n",
       "  </thead>\n",
       "  <tbody>\n",
       "    <tr>\n",
       "      <th>A</th>\n",
       "      <td>a</td>\n",
       "      <td>79</td>\n",
       "    </tr>\n",
       "    <tr>\n",
       "      <th>B</th>\n",
       "      <td>a</td>\n",
       "      <td>90</td>\n",
       "    </tr>\n",
       "  </tbody>\n",
       "</table>\n",
       "</div>"
      ],
      "text/plain": [
       "  math  eng\n",
       "A    a   79\n",
       "B    a   90"
      ]
     },
     "execution_count": 68,
     "metadata": {},
     "output_type": "execute_result"
    }
   ],
   "source": [
    "df2 #这里更新了"
   ]
  },
  {
   "cell_type": "markdown",
   "id": "deb7c09a-2895-4b65-b079-b156ff497433",
   "metadata": {},
   "source": [
    "7.43 基于循环处理和 if 语句的条件分支"
   ]
  },
  {
   "cell_type": "code",
   "execution_count": 69,
   "id": "14712278-03a5-4f4b-af60-5b8243d597ec",
   "metadata": {},
   "outputs": [
    {
     "data": {
      "text/html": [
       "<div>\n",
       "<style scoped>\n",
       "    .dataframe tbody tr th:only-of-type {\n",
       "        vertical-align: middle;\n",
       "    }\n",
       "\n",
       "    .dataframe tbody tr th {\n",
       "        vertical-align: top;\n",
       "    }\n",
       "\n",
       "    .dataframe thead th {\n",
       "        text-align: right;\n",
       "    }\n",
       "</style>\n",
       "<table border=\"1\" class=\"dataframe\">\n",
       "  <thead>\n",
       "    <tr style=\"text-align: right;\">\n",
       "      <th></th>\n",
       "      <th>math</th>\n",
       "      <th>eng</th>\n",
       "    </tr>\n",
       "  </thead>\n",
       "  <tbody>\n",
       "    <tr>\n",
       "      <th>A</th>\n",
       "      <td>81</td>\n",
       "      <td>79</td>\n",
       "    </tr>\n",
       "    <tr>\n",
       "      <th>B</th>\n",
       "      <td>91</td>\n",
       "      <td>90</td>\n",
       "    </tr>\n",
       "  </tbody>\n",
       "</table>\n",
       "</div>"
      ],
      "text/plain": [
       "  math  eng\n",
       "A   81   79\n",
       "B   91   90"
      ]
     },
     "execution_count": 69,
     "metadata": {},
     "output_type": "execute_result"
    }
   ],
   "source": [
    "for idx, value in df2.iterrows():\n",
    "    if idx == 'A':\n",
    "        df2.loc[idx, 'math'] = 81\n",
    "    else:\n",
    "        df2.loc[idx, 'math'] = 91\n",
    "\n",
    "df2"
   ]
  },
  {
   "cell_type": "markdown",
   "id": "0ef2dd90-9d15-4cde-bdc4-3b87f2dfec3b",
   "metadata": {},
   "source": [
    "7.44 DataFrame 对象的 iteritems 方法"
   ]
  },
  {
   "cell_type": "code",
   "execution_count": 70,
   "id": "2faf327a-f0e0-4233-9523-0826965ca816",
   "metadata": {},
   "outputs": [
    {
     "name": "stdout",
     "output_type": "stream",
     "text": [
      "math\n",
      "---->\n",
      "A    81\n",
      "B    91\n",
      "Name: math, dtype: int64 \n",
      "\n",
      "<----\n",
      "eng\n",
      "---->\n",
      "A    79\n",
      "B    90\n",
      "Name: eng, dtype: int64 \n",
      "\n",
      "<----\n"
     ]
    }
   ],
   "source": [
    "for col, val in df.items():\n",
    "    print(col)\n",
    "    print(\"---->\")\n",
    "    print(val, '\\n')\n",
    "    print(\"<----\")"
   ]
  },
  {
   "cell_type": "markdown",
   "id": "8cd169ea-faf7-4846-b1b8-787b8b2d7bf9",
   "metadata": {},
   "source": [
    "7.45 iteritems 方法和 mean 方法"
   ]
  },
  {
   "cell_type": "code",
   "execution_count": 71,
   "id": "c14b63fb-88b7-4d0f-8386-2cb0f83e33ab",
   "metadata": {},
   "outputs": [
    {
     "data": {
      "text/html": [
       "<div>\n",
       "<style scoped>\n",
       "    .dataframe tbody tr th:only-of-type {\n",
       "        vertical-align: middle;\n",
       "    }\n",
       "\n",
       "    .dataframe tbody tr th {\n",
       "        vertical-align: top;\n",
       "    }\n",
       "\n",
       "    .dataframe thead th {\n",
       "        text-align: right;\n",
       "    }\n",
       "</style>\n",
       "<table border=\"1\" class=\"dataframe\">\n",
       "  <thead>\n",
       "    <tr style=\"text-align: right;\">\n",
       "      <th></th>\n",
       "      <th>math</th>\n",
       "      <th>eng</th>\n",
       "    </tr>\n",
       "  </thead>\n",
       "  <tbody>\n",
       "    <tr>\n",
       "      <th>A</th>\n",
       "      <td>81</td>\n",
       "      <td>79</td>\n",
       "    </tr>\n",
       "    <tr>\n",
       "      <th>B</th>\n",
       "      <td>91</td>\n",
       "      <td>90</td>\n",
       "    </tr>\n",
       "  </tbody>\n",
       "</table>\n",
       "</div>"
      ],
      "text/plain": [
       "   math  eng\n",
       "A    81   79\n",
       "B    91   90"
      ]
     },
     "execution_count": 71,
     "metadata": {},
     "output_type": "execute_result"
    }
   ],
   "source": [
    "df"
   ]
  },
  {
   "cell_type": "code",
   "execution_count": 72,
   "id": "d88c8495-ef4c-483d-ae4e-64a95a53be99",
   "metadata": {},
   "outputs": [
    {
     "name": "stdout",
     "output_type": "stream",
     "text": [
      "math 的平均值是  86.0\n",
      "eng 的平均值是  84.5\n"
     ]
    }
   ],
   "source": [
    "for col, val in df.items():\n",
    "    mean = val.mean()\n",
    "    print(col, '的平均值是 ', mean)"
   ]
  },
  {
   "cell_type": "markdown",
   "id": "bcbd7aa5-3267-4c25-a2b3-ca45953362eb",
   "metadata": {},
   "source": [
    "7.46 DataFrame 对象的 itertuples 方法"
   ]
  },
  {
   "cell_type": "code",
   "execution_count": 73,
   "id": "46bf4076-086e-40b4-98d7-f17fa97663ca",
   "metadata": {},
   "outputs": [
    {
     "name": "stdout",
     "output_type": "stream",
     "text": [
      "Pandas(Index='A', math=81, eng=79)\n",
      "Pandas(Index='B', math=91, eng=90)\n"
     ]
    }
   ],
   "source": [
    "for row in df.itertuples():\n",
    "    print(row)"
   ]
  },
  {
   "cell_type": "markdown",
   "id": "e17915cf-0550-4b67-bd2f-3ee0da1fefae",
   "metadata": {},
   "source": [
    "7.47 itertuples 方法和 index 参数"
   ]
  },
  {
   "cell_type": "code",
   "execution_count": 74,
   "id": "1dc54edb-b801-47c1-b6f5-ac896d11e9c8",
   "metadata": {},
   "outputs": [
    {
     "name": "stdout",
     "output_type": "stream",
     "text": [
      "Pandas(math=81, eng=79)\n",
      "Pandas(math=91, eng=90)\n"
     ]
    }
   ],
   "source": [
    "for row in df.itertuples(index=False):\n",
    "    print(row)"
   ]
  },
  {
   "cell_type": "markdown",
   "id": "71f52c54-db32-42ff-8785-6158c5cbd608",
   "metadata": {},
   "source": [
    "7.48 命名元组的数据引用"
   ]
  },
  {
   "cell_type": "code",
   "execution_count": 75,
   "id": "589afd54-a956-43e6-ab58-6dfcf4b78939",
   "metadata": {},
   "outputs": [
    {
     "name": "stdout",
     "output_type": "stream",
     "text": [
      "index: A math : 81 eng : 79\n",
      "index: B math : 91 eng : 90\n"
     ]
    }
   ],
   "source": [
    "for row in df.itertuples():\n",
    "    print('index:', row[0], 'math :', row[1], 'eng :', row.eng)"
   ]
  },
  {
   "cell_type": "markdown",
   "id": "a760cb37-b22f-4d1d-9881-7386c1342a32",
   "metadata": {},
   "source": [
    "7.49 itertuples 方法和 name 参数"
   ]
  },
  {
   "cell_type": "code",
   "execution_count": 76,
   "id": "78523c44-aaaa-42a8-a578-60be3316febb",
   "metadata": {},
   "outputs": [
    {
     "name": "stdout",
     "output_type": "stream",
     "text": [
      "('A', 81, 79)\n",
      "('B', 91, 90)\n"
     ]
    }
   ],
   "source": [
    "for row in df.itertuples(name=None):\n",
    "    print(row)"
   ]
  },
  {
   "cell_type": "markdown",
   "id": "2639f517-38f8-448a-917c-e89b8f138a16",
   "metadata": {},
   "source": [
    "7.50 数据类型的确认"
   ]
  },
  {
   "cell_type": "code",
   "execution_count": 77,
   "id": "6270dcdb-92da-4c94-9d96-c843a5d8309a",
   "metadata": {},
   "outputs": [
    {
     "data": {
      "text/html": [
       "<div>\n",
       "<style scoped>\n",
       "    .dataframe tbody tr th:only-of-type {\n",
       "        vertical-align: middle;\n",
       "    }\n",
       "\n",
       "    .dataframe tbody tr th {\n",
       "        vertical-align: top;\n",
       "    }\n",
       "\n",
       "    .dataframe thead th {\n",
       "        text-align: right;\n",
       "    }\n",
       "</style>\n",
       "<table border=\"1\" class=\"dataframe\">\n",
       "  <thead>\n",
       "    <tr style=\"text-align: right;\">\n",
       "      <th></th>\n",
       "      <th>math</th>\n",
       "      <th>eng</th>\n",
       "    </tr>\n",
       "  </thead>\n",
       "  <tbody>\n",
       "    <tr>\n",
       "      <th>A</th>\n",
       "      <td>81</td>\n",
       "      <td>79</td>\n",
       "    </tr>\n",
       "    <tr>\n",
       "      <th>B</th>\n",
       "      <td>91</td>\n",
       "      <td>90</td>\n",
       "    </tr>\n",
       "  </tbody>\n",
       "</table>\n",
       "</div>"
      ],
      "text/plain": [
       "   math  eng\n",
       "A    81   79\n",
       "B    91   90"
      ]
     },
     "execution_count": 77,
     "metadata": {},
     "output_type": "execute_result"
    }
   ],
   "source": [
    "df2 = df.copy()\n",
    "df2"
   ]
  },
  {
   "cell_type": "code",
   "execution_count": 78,
   "id": "991ed899-a741-497f-8046-f3dec83f9b6c",
   "metadata": {},
   "outputs": [
    {
     "data": {
      "text/html": [
       "<div>\n",
       "<style scoped>\n",
       "    .dataframe tbody tr th:only-of-type {\n",
       "        vertical-align: middle;\n",
       "    }\n",
       "\n",
       "    .dataframe tbody tr th {\n",
       "        vertical-align: top;\n",
       "    }\n",
       "\n",
       "    .dataframe thead th {\n",
       "        text-align: right;\n",
       "    }\n",
       "</style>\n",
       "<table border=\"1\" class=\"dataframe\">\n",
       "  <thead>\n",
       "    <tr style=\"text-align: right;\">\n",
       "      <th></th>\n",
       "      <th>math</th>\n",
       "      <th>eng</th>\n",
       "    </tr>\n",
       "  </thead>\n",
       "  <tbody>\n",
       "    <tr>\n",
       "      <th>A</th>\n",
       "      <td>81.0</td>\n",
       "      <td>79</td>\n",
       "    </tr>\n",
       "    <tr>\n",
       "      <th>B</th>\n",
       "      <td>91.0</td>\n",
       "      <td>90</td>\n",
       "    </tr>\n",
       "  </tbody>\n",
       "</table>\n",
       "</div>"
      ],
      "text/plain": [
       "   math  eng\n",
       "A  81.0   79\n",
       "B  91.0   90"
      ]
     },
     "execution_count": 78,
     "metadata": {},
     "output_type": "execute_result"
    }
   ],
   "source": [
    "df2['math'] = [81.0, 91.0]\n",
    "df2"
   ]
  },
  {
   "cell_type": "code",
   "execution_count": 79,
   "id": "2f2c0e5c-4c6f-4b79-b3df-3f5236d70ebf",
   "metadata": {},
   "outputs": [
    {
     "data": {
      "text/plain": [
       "Pandas(Index='A', math=81.0, eng=79)"
      ]
     },
     "execution_count": 79,
     "metadata": {},
     "output_type": "execute_result"
    }
   ],
   "source": [
    "row = next(df2.itertuples())\n",
    "row"
   ]
  },
  {
   "cell_type": "code",
   "execution_count": 80,
   "id": "b2825007-58e9-4db7-8b68-25b72051ee68",
   "metadata": {},
   "outputs": [
    {
     "name": "stdout",
     "output_type": "stream",
     "text": [
      "79 dtype =  <class 'numpy.int64'>\n"
     ]
    }
   ],
   "source": [
    "print(df2.loc['A','eng'], 'dtype = ', type(df2.loc['A','eng']))"
   ]
  },
  {
   "cell_type": "code",
   "execution_count": 81,
   "id": "03737033-cefa-41c6-9407-1183731f4670",
   "metadata": {},
   "outputs": [
    {
     "name": "stdout",
     "output_type": "stream",
     "text": [
      "<class 'pandas.core.frame.Pandas'> Pandas(Index='A', math=81.0, eng=79)\n",
      "79 dtype =  <class 'int'>\n"
     ]
    }
   ],
   "source": [
    "print(type(row),row)\n",
    "print(row[2], 'dtype = ', type(row[2]))"
   ]
  },
  {
   "cell_type": "markdown",
   "id": "05180188-564d-4682-af1f-13a450c09b90",
   "metadata": {},
   "source": [
    "## 7.3 数据的分组"
   ]
  },
  {
   "cell_type": "markdown",
   "id": "d61758d5-b2f7-46a0-99ca-8b4911494586",
   "metadata": {},
   "source": [
    "### 7.3.1 GroupBy对象"
   ]
  },
  {
   "cell_type": "markdown",
   "id": "93779054-ec20-46b4-8fe7-f4dd5cf8152c",
   "metadata": {},
   "source": [
    "7.51 ex15.csv 文件的读取"
   ]
  },
  {
   "cell_type": "code",
   "execution_count": 82,
   "id": "1e9a7f21-0e64-41b6-b718-f8509c203972",
   "metadata": {},
   "outputs": [
    {
     "data": {
      "text/html": [
       "<div>\n",
       "<style scoped>\n",
       "    .dataframe tbody tr th:only-of-type {\n",
       "        vertical-align: middle;\n",
       "    }\n",
       "\n",
       "    .dataframe tbody tr th {\n",
       "        vertical-align: top;\n",
       "    }\n",
       "\n",
       "    .dataframe thead th {\n",
       "        text-align: right;\n",
       "    }\n",
       "</style>\n",
       "<table border=\"1\" class=\"dataframe\">\n",
       "  <thead>\n",
       "    <tr style=\"text-align: right;\">\n",
       "      <th></th>\n",
       "      <th>name</th>\n",
       "      <th>sex</th>\n",
       "      <th>club</th>\n",
       "      <th>math</th>\n",
       "      <th>eng</th>\n",
       "      <th>scie</th>\n",
       "    </tr>\n",
       "  </thead>\n",
       "  <tbody>\n",
       "    <tr>\n",
       "      <th>0</th>\n",
       "      <td>A</td>\n",
       "      <td>Male</td>\n",
       "      <td>soccer</td>\n",
       "      <td>81</td>\n",
       "      <td>79</td>\n",
       "      <td>91</td>\n",
       "    </tr>\n",
       "    <tr>\n",
       "      <th>1</th>\n",
       "      <td>B</td>\n",
       "      <td>Male</td>\n",
       "      <td>soccer</td>\n",
       "      <td>91</td>\n",
       "      <td>90</td>\n",
       "      <td>89</td>\n",
       "    </tr>\n",
       "    <tr>\n",
       "      <th>2</th>\n",
       "      <td>C</td>\n",
       "      <td>Female</td>\n",
       "      <td>volleyball</td>\n",
       "      <td>77</td>\n",
       "      <td>69</td>\n",
       "      <td>94</td>\n",
       "    </tr>\n",
       "    <tr>\n",
       "      <th>3</th>\n",
       "      <td>D</td>\n",
       "      <td>Female</td>\n",
       "      <td>tennis</td>\n",
       "      <td>88</td>\n",
       "      <td>85</td>\n",
       "      <td>81</td>\n",
       "    </tr>\n",
       "    <tr>\n",
       "      <th>4</th>\n",
       "      <td>E</td>\n",
       "      <td>Male</td>\n",
       "      <td>baseball</td>\n",
       "      <td>71</td>\n",
       "      <td>69</td>\n",
       "      <td>82</td>\n",
       "    </tr>\n",
       "    <tr>\n",
       "      <th>5</th>\n",
       "      <td>F</td>\n",
       "      <td>Male</td>\n",
       "      <td>tennis</td>\n",
       "      <td>69</td>\n",
       "      <td>75</td>\n",
       "      <td>84</td>\n",
       "    </tr>\n",
       "    <tr>\n",
       "      <th>6</th>\n",
       "      <td>G</td>\n",
       "      <td>Female</td>\n",
       "      <td>volleyball</td>\n",
       "      <td>91</td>\n",
       "      <td>93</td>\n",
       "      <td>89</td>\n",
       "    </tr>\n",
       "    <tr>\n",
       "      <th>7</th>\n",
       "      <td>H</td>\n",
       "      <td>Female</td>\n",
       "      <td>tennis</td>\n",
       "      <td>77</td>\n",
       "      <td>86</td>\n",
       "      <td>80</td>\n",
       "    </tr>\n",
       "    <tr>\n",
       "      <th>8</th>\n",
       "      <td>I</td>\n",
       "      <td>Male</td>\n",
       "      <td>baseball</td>\n",
       "      <td>88</td>\n",
       "      <td>76</td>\n",
       "      <td>72</td>\n",
       "    </tr>\n",
       "  </tbody>\n",
       "</table>\n",
       "</div>"
      ],
      "text/plain": [
       "  name     sex        club  math  eng  scie\n",
       "0    A    Male      soccer    81   79    91\n",
       "1    B    Male      soccer    91   90    89\n",
       "2    C  Female  volleyball    77   69    94\n",
       "3    D  Female      tennis    88   85    81\n",
       "4    E    Male    baseball    71   69    82\n",
       "5    F    Male      tennis    69   75    84\n",
       "6    G  Female  volleyball    91   93    89\n",
       "7    H  Female      tennis    77   86    80\n",
       "8    I    Male    baseball    88   76    72"
      ]
     },
     "execution_count": 82,
     "metadata": {},
     "output_type": "execute_result"
    }
   ],
   "source": [
    "df = pd.read_csv('./data/ex15.csv')\n",
    "df"
   ]
  },
  {
   "cell_type": "markdown",
   "id": "e4b3a2c9-3fd7-438d-8e43-76f06c4b388d",
   "metadata": {},
   "source": [
    "7.52 DataFrame 对象的 groupby 方法"
   ]
  },
  {
   "cell_type": "code",
   "execution_count": 83,
   "id": "70db49ca-2dc0-4e71-acb1-1bcbe16aa2ff",
   "metadata": {},
   "outputs": [
    {
     "data": {
      "text/plain": [
       "<pandas.core.groupby.generic.DataFrameGroupBy object at 0x000001B0269075D0>"
      ]
     },
     "execution_count": 83,
     "metadata": {},
     "output_type": "execute_result"
    }
   ],
   "source": [
    "grouped = df.groupby(\"sex\")\n",
    "grouped"
   ]
  },
  {
   "cell_type": "markdown",
   "id": "69573af6-afe3-4189-bf0e-4e3463ae4454",
   "metadata": {},
   "source": [
    "7.53 GroupBy 对象的 groups 属性"
   ]
  },
  {
   "cell_type": "code",
   "execution_count": 84,
   "id": "7728a3fc-c069-458a-90e7-9fb5de67fd6a",
   "metadata": {},
   "outputs": [
    {
     "data": {
      "text/plain": [
       "{'Female': [2, 3, 6, 7], 'Male': [0, 1, 4, 5, 8]}"
      ]
     },
     "execution_count": 84,
     "metadata": {},
     "output_type": "execute_result"
    }
   ],
   "source": [
    "grouped.groups"
   ]
  },
  {
   "cell_type": "code",
   "execution_count": 85,
   "id": "080e7326-63c4-4a7e-9d40-f43328221290",
   "metadata": {},
   "outputs": [
    {
     "data": {
      "text/plain": [
       "2    Female\n",
       "3    Female\n",
       "6    Female\n",
       "7    Female\n",
       "Name: sex, dtype: object"
      ]
     },
     "execution_count": 85,
     "metadata": {},
     "output_type": "execute_result"
    }
   ],
   "source": [
    "df.loc[[2,3,6,7],'sex']"
   ]
  },
  {
   "cell_type": "markdown",
   "id": "e5244077-ed54-4119-9ef3-aa6b6ba603ee",
   "metadata": {},
   "source": [
    "7.54 GroupBy 对象的 indices 属性"
   ]
  },
  {
   "cell_type": "code",
   "execution_count": 86,
   "id": "2433c3fa-7790-49f3-832e-2b6f760d6627",
   "metadata": {},
   "outputs": [
    {
     "data": {
      "text/plain": [
       "{'Female': array([2, 3, 6, 7], dtype=int64),\n",
       " 'Male': array([0, 1, 4, 5, 8], dtype=int64)}"
      ]
     },
     "execution_count": 86,
     "metadata": {},
     "output_type": "execute_result"
    }
   ],
   "source": [
    "grouped.indices"
   ]
  },
  {
   "cell_type": "markdown",
   "id": "600df390-0c91-4bb2-8441-f77a857f4405",
   "metadata": {},
   "source": [
    "7.55 GroupBy 对象的 get_group 方法"
   ]
  },
  {
   "cell_type": "code",
   "execution_count": 87,
   "id": "24108908-d2cc-480c-868a-2eaa3c9ae974",
   "metadata": {},
   "outputs": [
    {
     "data": {
      "text/html": [
       "<div>\n",
       "<style scoped>\n",
       "    .dataframe tbody tr th:only-of-type {\n",
       "        vertical-align: middle;\n",
       "    }\n",
       "\n",
       "    .dataframe tbody tr th {\n",
       "        vertical-align: top;\n",
       "    }\n",
       "\n",
       "    .dataframe thead th {\n",
       "        text-align: right;\n",
       "    }\n",
       "</style>\n",
       "<table border=\"1\" class=\"dataframe\">\n",
       "  <thead>\n",
       "    <tr style=\"text-align: right;\">\n",
       "      <th></th>\n",
       "      <th>name</th>\n",
       "      <th>sex</th>\n",
       "      <th>club</th>\n",
       "      <th>math</th>\n",
       "      <th>eng</th>\n",
       "      <th>scie</th>\n",
       "    </tr>\n",
       "  </thead>\n",
       "  <tbody>\n",
       "    <tr>\n",
       "      <th>2</th>\n",
       "      <td>C</td>\n",
       "      <td>Female</td>\n",
       "      <td>volleyball</td>\n",
       "      <td>77</td>\n",
       "      <td>69</td>\n",
       "      <td>94</td>\n",
       "    </tr>\n",
       "    <tr>\n",
       "      <th>3</th>\n",
       "      <td>D</td>\n",
       "      <td>Female</td>\n",
       "      <td>tennis</td>\n",
       "      <td>88</td>\n",
       "      <td>85</td>\n",
       "      <td>81</td>\n",
       "    </tr>\n",
       "    <tr>\n",
       "      <th>6</th>\n",
       "      <td>G</td>\n",
       "      <td>Female</td>\n",
       "      <td>volleyball</td>\n",
       "      <td>91</td>\n",
       "      <td>93</td>\n",
       "      <td>89</td>\n",
       "    </tr>\n",
       "    <tr>\n",
       "      <th>7</th>\n",
       "      <td>H</td>\n",
       "      <td>Female</td>\n",
       "      <td>tennis</td>\n",
       "      <td>77</td>\n",
       "      <td>86</td>\n",
       "      <td>80</td>\n",
       "    </tr>\n",
       "  </tbody>\n",
       "</table>\n",
       "</div>"
      ],
      "text/plain": [
       "  name     sex        club  math  eng  scie\n",
       "2    C  Female  volleyball    77   69    94\n",
       "3    D  Female      tennis    88   85    81\n",
       "6    G  Female  volleyball    91   93    89\n",
       "7    H  Female      tennis    77   86    80"
      ]
     },
     "execution_count": 87,
     "metadata": {},
     "output_type": "execute_result"
    }
   ],
   "source": [
    "grouped.get_group('Female')"
   ]
  },
  {
   "cell_type": "markdown",
   "id": "2323a3e1-cc5b-4ac5-b054-8839f2084fe3",
   "metadata": {},
   "source": [
    "7.56 GroupBy 对象的 mean 方法"
   ]
  },
  {
   "cell_type": "code",
   "execution_count": 88,
   "id": "b60274d1-c7f1-43d0-b0c9-1361795900ac",
   "metadata": {},
   "outputs": [
    {
     "data": {
      "text/html": [
       "<div>\n",
       "<style scoped>\n",
       "    .dataframe tbody tr th:only-of-type {\n",
       "        vertical-align: middle;\n",
       "    }\n",
       "\n",
       "    .dataframe tbody tr th {\n",
       "        vertical-align: top;\n",
       "    }\n",
       "\n",
       "    .dataframe thead th {\n",
       "        text-align: right;\n",
       "    }\n",
       "</style>\n",
       "<table border=\"1\" class=\"dataframe\">\n",
       "  <thead>\n",
       "    <tr style=\"text-align: right;\">\n",
       "      <th></th>\n",
       "      <th>name</th>\n",
       "      <th>sex</th>\n",
       "      <th>club</th>\n",
       "      <th>math</th>\n",
       "      <th>eng</th>\n",
       "      <th>scie</th>\n",
       "    </tr>\n",
       "  </thead>\n",
       "  <tbody>\n",
       "    <tr>\n",
       "      <th>0</th>\n",
       "      <td>A</td>\n",
       "      <td>Male</td>\n",
       "      <td>soccer</td>\n",
       "      <td>81</td>\n",
       "      <td>79</td>\n",
       "      <td>91</td>\n",
       "    </tr>\n",
       "    <tr>\n",
       "      <th>1</th>\n",
       "      <td>B</td>\n",
       "      <td>Male</td>\n",
       "      <td>soccer</td>\n",
       "      <td>91</td>\n",
       "      <td>90</td>\n",
       "      <td>89</td>\n",
       "    </tr>\n",
       "    <tr>\n",
       "      <th>2</th>\n",
       "      <td>C</td>\n",
       "      <td>Female</td>\n",
       "      <td>volleyball</td>\n",
       "      <td>77</td>\n",
       "      <td>69</td>\n",
       "      <td>94</td>\n",
       "    </tr>\n",
       "    <tr>\n",
       "      <th>3</th>\n",
       "      <td>D</td>\n",
       "      <td>Female</td>\n",
       "      <td>tennis</td>\n",
       "      <td>88</td>\n",
       "      <td>85</td>\n",
       "      <td>81</td>\n",
       "    </tr>\n",
       "    <tr>\n",
       "      <th>4</th>\n",
       "      <td>E</td>\n",
       "      <td>Male</td>\n",
       "      <td>baseball</td>\n",
       "      <td>71</td>\n",
       "      <td>69</td>\n",
       "      <td>82</td>\n",
       "    </tr>\n",
       "    <tr>\n",
       "      <th>5</th>\n",
       "      <td>F</td>\n",
       "      <td>Male</td>\n",
       "      <td>tennis</td>\n",
       "      <td>69</td>\n",
       "      <td>75</td>\n",
       "      <td>84</td>\n",
       "    </tr>\n",
       "    <tr>\n",
       "      <th>6</th>\n",
       "      <td>G</td>\n",
       "      <td>Female</td>\n",
       "      <td>volleyball</td>\n",
       "      <td>91</td>\n",
       "      <td>93</td>\n",
       "      <td>89</td>\n",
       "    </tr>\n",
       "    <tr>\n",
       "      <th>7</th>\n",
       "      <td>H</td>\n",
       "      <td>Female</td>\n",
       "      <td>tennis</td>\n",
       "      <td>77</td>\n",
       "      <td>86</td>\n",
       "      <td>80</td>\n",
       "    </tr>\n",
       "    <tr>\n",
       "      <th>8</th>\n",
       "      <td>I</td>\n",
       "      <td>Male</td>\n",
       "      <td>baseball</td>\n",
       "      <td>88</td>\n",
       "      <td>76</td>\n",
       "      <td>72</td>\n",
       "    </tr>\n",
       "  </tbody>\n",
       "</table>\n",
       "</div>"
      ],
      "text/plain": [
       "  name     sex        club  math  eng  scie\n",
       "0    A    Male      soccer    81   79    91\n",
       "1    B    Male      soccer    91   90    89\n",
       "2    C  Female  volleyball    77   69    94\n",
       "3    D  Female      tennis    88   85    81\n",
       "4    E    Male    baseball    71   69    82\n",
       "5    F    Male      tennis    69   75    84\n",
       "6    G  Female  volleyball    91   93    89\n",
       "7    H  Female      tennis    77   86    80\n",
       "8    I    Male    baseball    88   76    72"
      ]
     },
     "execution_count": 88,
     "metadata": {},
     "output_type": "execute_result"
    }
   ],
   "source": [
    "df"
   ]
  },
  {
   "cell_type": "code",
   "execution_count": 89,
   "id": "ecd66396-2a95-4149-8b4e-6a1076e6c8ec",
   "metadata": {},
   "outputs": [
    {
     "data": {
      "text/html": [
       "<div>\n",
       "<style scoped>\n",
       "    .dataframe tbody tr th:only-of-type {\n",
       "        vertical-align: middle;\n",
       "    }\n",
       "\n",
       "    .dataframe tbody tr th {\n",
       "        vertical-align: top;\n",
       "    }\n",
       "\n",
       "    .dataframe thead th {\n",
       "        text-align: right;\n",
       "    }\n",
       "</style>\n",
       "<table border=\"1\" class=\"dataframe\">\n",
       "  <thead>\n",
       "    <tr style=\"text-align: right;\">\n",
       "      <th></th>\n",
       "      <th>math</th>\n",
       "      <th>eng</th>\n",
       "      <th>scie</th>\n",
       "    </tr>\n",
       "    <tr>\n",
       "      <th>sex</th>\n",
       "      <th></th>\n",
       "      <th></th>\n",
       "      <th></th>\n",
       "    </tr>\n",
       "  </thead>\n",
       "  <tbody>\n",
       "    <tr>\n",
       "      <th>Female</th>\n",
       "      <td>83.25</td>\n",
       "      <td>83.25</td>\n",
       "      <td>86.0</td>\n",
       "    </tr>\n",
       "    <tr>\n",
       "      <th>Male</th>\n",
       "      <td>80.00</td>\n",
       "      <td>77.80</td>\n",
       "      <td>83.6</td>\n",
       "    </tr>\n",
       "  </tbody>\n",
       "</table>\n",
       "</div>"
      ],
      "text/plain": [
       "         math    eng  scie\n",
       "sex                       \n",
       "Female  83.25  83.25  86.0\n",
       "Male    80.00  77.80  83.6"
      ]
     },
     "execution_count": 89,
     "metadata": {},
     "output_type": "execute_result"
    }
   ],
   "source": [
    "grouped.mean(numeric_only=True)"
   ]
  },
  {
   "cell_type": "markdown",
   "id": "eb9b2d40-28e8-48b7-9680-4cd62b2410b4",
   "metadata": {},
   "source": [
    "7.57 GroupBy 对象的 count 方法"
   ]
  },
  {
   "cell_type": "code",
   "execution_count": 90,
   "id": "2964b89a-4902-44ed-a609-fc7de2e80422",
   "metadata": {},
   "outputs": [
    {
     "data": {
      "text/html": [
       "<div>\n",
       "<style scoped>\n",
       "    .dataframe tbody tr th:only-of-type {\n",
       "        vertical-align: middle;\n",
       "    }\n",
       "\n",
       "    .dataframe tbody tr th {\n",
       "        vertical-align: top;\n",
       "    }\n",
       "\n",
       "    .dataframe thead th {\n",
       "        text-align: right;\n",
       "    }\n",
       "</style>\n",
       "<table border=\"1\" class=\"dataframe\">\n",
       "  <thead>\n",
       "    <tr style=\"text-align: right;\">\n",
       "      <th></th>\n",
       "      <th>name</th>\n",
       "      <th>club</th>\n",
       "      <th>math</th>\n",
       "      <th>eng</th>\n",
       "      <th>scie</th>\n",
       "    </tr>\n",
       "    <tr>\n",
       "      <th>sex</th>\n",
       "      <th></th>\n",
       "      <th></th>\n",
       "      <th></th>\n",
       "      <th></th>\n",
       "      <th></th>\n",
       "    </tr>\n",
       "  </thead>\n",
       "  <tbody>\n",
       "    <tr>\n",
       "      <th>Female</th>\n",
       "      <td>4</td>\n",
       "      <td>4</td>\n",
       "      <td>4</td>\n",
       "      <td>4</td>\n",
       "      <td>4</td>\n",
       "    </tr>\n",
       "    <tr>\n",
       "      <th>Male</th>\n",
       "      <td>5</td>\n",
       "      <td>5</td>\n",
       "      <td>5</td>\n",
       "      <td>5</td>\n",
       "      <td>5</td>\n",
       "    </tr>\n",
       "  </tbody>\n",
       "</table>\n",
       "</div>"
      ],
      "text/plain": [
       "        name  club  math  eng  scie\n",
       "sex                                \n",
       "Female     4     4     4    4     4\n",
       "Male       5     5     5    5     5"
      ]
     },
     "execution_count": 90,
     "metadata": {},
     "output_type": "execute_result"
    }
   ],
   "source": [
    "grouped.count()"
   ]
  },
  {
   "cell_type": "markdown",
   "id": "dd150d14-67bf-4322-9d95-9bb8d66e3e33",
   "metadata": {},
   "source": [
    "7.58 使用方括号（[ ]）对不同性别的 math 平均分数进行计算"
   ]
  },
  {
   "cell_type": "code",
   "execution_count": 91,
   "id": "1fa67fd1-e605-483b-86ad-49c0f83e53f8",
   "metadata": {},
   "outputs": [
    {
     "data": {
      "text/plain": [
       "sex\n",
       "Female    83.25\n",
       "Male      80.00\n",
       "Name: math, dtype: float64"
      ]
     },
     "execution_count": 91,
     "metadata": {},
     "output_type": "execute_result"
    }
   ],
   "source": [
    "grouped['math'].mean()"
   ]
  },
  {
   "cell_type": "markdown",
   "id": "39fa49d0-a405-4d0e-8f4e-78d1a167dda5",
   "metadata": {},
   "source": [
    "7.59 使用方括号（[ ]）对列 math 和列 eng 的数据进行处理"
   ]
  },
  {
   "cell_type": "code",
   "execution_count": 92,
   "id": "430ee7ea-413c-4d74-b253-6f13bf4835a9",
   "metadata": {},
   "outputs": [
    {
     "data": {
      "text/html": [
       "<div>\n",
       "<style scoped>\n",
       "    .dataframe tbody tr th:only-of-type {\n",
       "        vertical-align: middle;\n",
       "    }\n",
       "\n",
       "    .dataframe tbody tr th {\n",
       "        vertical-align: top;\n",
       "    }\n",
       "\n",
       "    .dataframe thead th {\n",
       "        text-align: right;\n",
       "    }\n",
       "</style>\n",
       "<table border=\"1\" class=\"dataframe\">\n",
       "  <thead>\n",
       "    <tr style=\"text-align: right;\">\n",
       "      <th></th>\n",
       "      <th>math</th>\n",
       "      <th>eng</th>\n",
       "    </tr>\n",
       "    <tr>\n",
       "      <th>sex</th>\n",
       "      <th></th>\n",
       "      <th></th>\n",
       "    </tr>\n",
       "  </thead>\n",
       "  <tbody>\n",
       "    <tr>\n",
       "      <th>Female</th>\n",
       "      <td>83.25</td>\n",
       "      <td>83.25</td>\n",
       "    </tr>\n",
       "    <tr>\n",
       "      <th>Male</th>\n",
       "      <td>80.00</td>\n",
       "      <td>77.80</td>\n",
       "    </tr>\n",
       "  </tbody>\n",
       "</table>\n",
       "</div>"
      ],
      "text/plain": [
       "         math    eng\n",
       "sex                 \n",
       "Female  83.25  83.25\n",
       "Male    80.00  77.80"
      ]
     },
     "execution_count": 92,
     "metadata": {},
     "output_type": "execute_result"
    }
   ],
   "source": [
    "grouped[['math','eng']].mean()"
   ]
  },
  {
   "cell_type": "markdown",
   "id": "33eeab6e-abf9-42a6-88a7-e26eca69f5b1",
   "metadata": {},
   "source": [
    "7.60 基于多个键值的分组"
   ]
  },
  {
   "cell_type": "code",
   "execution_count": 93,
   "id": "5c9f63b5-b865-4dd0-91d1-f7ee3c6da861",
   "metadata": {},
   "outputs": [
    {
     "data": {
      "text/html": [
       "<div>\n",
       "<style scoped>\n",
       "    .dataframe tbody tr th:only-of-type {\n",
       "        vertical-align: middle;\n",
       "    }\n",
       "\n",
       "    .dataframe tbody tr th {\n",
       "        vertical-align: top;\n",
       "    }\n",
       "\n",
       "    .dataframe thead th {\n",
       "        text-align: right;\n",
       "    }\n",
       "</style>\n",
       "<table border=\"1\" class=\"dataframe\">\n",
       "  <thead>\n",
       "    <tr style=\"text-align: right;\">\n",
       "      <th></th>\n",
       "      <th>name</th>\n",
       "      <th>sex</th>\n",
       "      <th>club</th>\n",
       "      <th>math</th>\n",
       "      <th>eng</th>\n",
       "      <th>scie</th>\n",
       "    </tr>\n",
       "  </thead>\n",
       "  <tbody>\n",
       "    <tr>\n",
       "      <th>0</th>\n",
       "      <td>A</td>\n",
       "      <td>Male</td>\n",
       "      <td>soccer</td>\n",
       "      <td>81</td>\n",
       "      <td>79</td>\n",
       "      <td>91</td>\n",
       "    </tr>\n",
       "    <tr>\n",
       "      <th>1</th>\n",
       "      <td>B</td>\n",
       "      <td>Male</td>\n",
       "      <td>soccer</td>\n",
       "      <td>91</td>\n",
       "      <td>90</td>\n",
       "      <td>89</td>\n",
       "    </tr>\n",
       "    <tr>\n",
       "      <th>2</th>\n",
       "      <td>C</td>\n",
       "      <td>Female</td>\n",
       "      <td>volleyball</td>\n",
       "      <td>77</td>\n",
       "      <td>69</td>\n",
       "      <td>94</td>\n",
       "    </tr>\n",
       "    <tr>\n",
       "      <th>3</th>\n",
       "      <td>D</td>\n",
       "      <td>Female</td>\n",
       "      <td>tennis</td>\n",
       "      <td>88</td>\n",
       "      <td>85</td>\n",
       "      <td>81</td>\n",
       "    </tr>\n",
       "    <tr>\n",
       "      <th>4</th>\n",
       "      <td>E</td>\n",
       "      <td>Male</td>\n",
       "      <td>baseball</td>\n",
       "      <td>71</td>\n",
       "      <td>69</td>\n",
       "      <td>82</td>\n",
       "    </tr>\n",
       "    <tr>\n",
       "      <th>5</th>\n",
       "      <td>F</td>\n",
       "      <td>Male</td>\n",
       "      <td>tennis</td>\n",
       "      <td>69</td>\n",
       "      <td>75</td>\n",
       "      <td>84</td>\n",
       "    </tr>\n",
       "    <tr>\n",
       "      <th>6</th>\n",
       "      <td>G</td>\n",
       "      <td>Female</td>\n",
       "      <td>volleyball</td>\n",
       "      <td>91</td>\n",
       "      <td>93</td>\n",
       "      <td>89</td>\n",
       "    </tr>\n",
       "    <tr>\n",
       "      <th>7</th>\n",
       "      <td>H</td>\n",
       "      <td>Female</td>\n",
       "      <td>tennis</td>\n",
       "      <td>77</td>\n",
       "      <td>86</td>\n",
       "      <td>80</td>\n",
       "    </tr>\n",
       "    <tr>\n",
       "      <th>8</th>\n",
       "      <td>I</td>\n",
       "      <td>Male</td>\n",
       "      <td>baseball</td>\n",
       "      <td>88</td>\n",
       "      <td>76</td>\n",
       "      <td>72</td>\n",
       "    </tr>\n",
       "  </tbody>\n",
       "</table>\n",
       "</div>"
      ],
      "text/plain": [
       "  name     sex        club  math  eng  scie\n",
       "0    A    Male      soccer    81   79    91\n",
       "1    B    Male      soccer    91   90    89\n",
       "2    C  Female  volleyball    77   69    94\n",
       "3    D  Female      tennis    88   85    81\n",
       "4    E    Male    baseball    71   69    82\n",
       "5    F    Male      tennis    69   75    84\n",
       "6    G  Female  volleyball    91   93    89\n",
       "7    H  Female      tennis    77   86    80\n",
       "8    I    Male    baseball    88   76    72"
      ]
     },
     "execution_count": 93,
     "metadata": {},
     "output_type": "execute_result"
    }
   ],
   "source": [
    "df"
   ]
  },
  {
   "cell_type": "code",
   "execution_count": 94,
   "id": "cef48a82-06be-438d-90a7-638f4d907e36",
   "metadata": {},
   "outputs": [
    {
     "data": {
      "text/html": [
       "<div>\n",
       "<style scoped>\n",
       "    .dataframe tbody tr th:only-of-type {\n",
       "        vertical-align: middle;\n",
       "    }\n",
       "\n",
       "    .dataframe tbody tr th {\n",
       "        vertical-align: top;\n",
       "    }\n",
       "\n",
       "    .dataframe thead th {\n",
       "        text-align: right;\n",
       "    }\n",
       "</style>\n",
       "<table border=\"1\" class=\"dataframe\">\n",
       "  <thead>\n",
       "    <tr style=\"text-align: right;\">\n",
       "      <th></th>\n",
       "      <th></th>\n",
       "      <th>math</th>\n",
       "      <th>eng</th>\n",
       "      <th>scie</th>\n",
       "    </tr>\n",
       "    <tr>\n",
       "      <th>sex</th>\n",
       "      <th>club</th>\n",
       "      <th></th>\n",
       "      <th></th>\n",
       "      <th></th>\n",
       "    </tr>\n",
       "  </thead>\n",
       "  <tbody>\n",
       "    <tr>\n",
       "      <th rowspan=\"2\" valign=\"top\">Female</th>\n",
       "      <th>tennis</th>\n",
       "      <td>82.5</td>\n",
       "      <td>85.5</td>\n",
       "      <td>80.5</td>\n",
       "    </tr>\n",
       "    <tr>\n",
       "      <th>volleyball</th>\n",
       "      <td>84.0</td>\n",
       "      <td>81.0</td>\n",
       "      <td>91.5</td>\n",
       "    </tr>\n",
       "    <tr>\n",
       "      <th rowspan=\"3\" valign=\"top\">Male</th>\n",
       "      <th>baseball</th>\n",
       "      <td>79.5</td>\n",
       "      <td>72.5</td>\n",
       "      <td>77.0</td>\n",
       "    </tr>\n",
       "    <tr>\n",
       "      <th>soccer</th>\n",
       "      <td>86.0</td>\n",
       "      <td>84.5</td>\n",
       "      <td>90.0</td>\n",
       "    </tr>\n",
       "    <tr>\n",
       "      <th>tennis</th>\n",
       "      <td>69.0</td>\n",
       "      <td>75.0</td>\n",
       "      <td>84.0</td>\n",
       "    </tr>\n",
       "  </tbody>\n",
       "</table>\n",
       "</div>"
      ],
      "text/plain": [
       "                   math   eng  scie\n",
       "sex    club                        \n",
       "Female tennis      82.5  85.5  80.5\n",
       "       volleyball  84.0  81.0  91.5\n",
       "Male   baseball    79.5  72.5  77.0\n",
       "       soccer      86.0  84.5  90.0\n",
       "       tennis      69.0  75.0  84.0"
      ]
     },
     "execution_count": 94,
     "metadata": {},
     "output_type": "execute_result"
    }
   ],
   "source": [
    "grouped = df.groupby(['sex','club'])\n",
    "grouped.mean(numeric_only=True)"
   ]
  },
  {
   "cell_type": "markdown",
   "id": "43ffc53b-d650-4fe9-a2af-50a34b095b72",
   "metadata": {},
   "source": [
    "7.61 groupby 方法和 as_index 参数"
   ]
  },
  {
   "cell_type": "code",
   "execution_count": 95,
   "id": "0003cbd3-dbdf-456c-ba14-8d8eca8b986a",
   "metadata": {},
   "outputs": [
    {
     "data": {
      "text/html": [
       "<div>\n",
       "<style scoped>\n",
       "    .dataframe tbody tr th:only-of-type {\n",
       "        vertical-align: middle;\n",
       "    }\n",
       "\n",
       "    .dataframe tbody tr th {\n",
       "        vertical-align: top;\n",
       "    }\n",
       "\n",
       "    .dataframe thead th {\n",
       "        text-align: right;\n",
       "    }\n",
       "</style>\n",
       "<table border=\"1\" class=\"dataframe\">\n",
       "  <thead>\n",
       "    <tr style=\"text-align: right;\">\n",
       "      <th></th>\n",
       "      <th>sex</th>\n",
       "      <th>club</th>\n",
       "      <th>math</th>\n",
       "      <th>eng</th>\n",
       "      <th>scie</th>\n",
       "    </tr>\n",
       "  </thead>\n",
       "  <tbody>\n",
       "    <tr>\n",
       "      <th>0</th>\n",
       "      <td>Female</td>\n",
       "      <td>tennis</td>\n",
       "      <td>82.5</td>\n",
       "      <td>85.5</td>\n",
       "      <td>80.5</td>\n",
       "    </tr>\n",
       "    <tr>\n",
       "      <th>1</th>\n",
       "      <td>Female</td>\n",
       "      <td>volleyball</td>\n",
       "      <td>84.0</td>\n",
       "      <td>81.0</td>\n",
       "      <td>91.5</td>\n",
       "    </tr>\n",
       "    <tr>\n",
       "      <th>2</th>\n",
       "      <td>Male</td>\n",
       "      <td>baseball</td>\n",
       "      <td>79.5</td>\n",
       "      <td>72.5</td>\n",
       "      <td>77.0</td>\n",
       "    </tr>\n",
       "    <tr>\n",
       "      <th>3</th>\n",
       "      <td>Male</td>\n",
       "      <td>soccer</td>\n",
       "      <td>86.0</td>\n",
       "      <td>84.5</td>\n",
       "      <td>90.0</td>\n",
       "    </tr>\n",
       "    <tr>\n",
       "      <th>4</th>\n",
       "      <td>Male</td>\n",
       "      <td>tennis</td>\n",
       "      <td>69.0</td>\n",
       "      <td>75.0</td>\n",
       "      <td>84.0</td>\n",
       "    </tr>\n",
       "  </tbody>\n",
       "</table>\n",
       "</div>"
      ],
      "text/plain": [
       "      sex        club  math   eng  scie\n",
       "0  Female      tennis  82.5  85.5  80.5\n",
       "1  Female  volleyball  84.0  81.0  91.5\n",
       "2    Male    baseball  79.5  72.5  77.0\n",
       "3    Male      soccer  86.0  84.5  90.0\n",
       "4    Male      tennis  69.0  75.0  84.0"
      ]
     },
     "execution_count": 95,
     "metadata": {},
     "output_type": "execute_result"
    }
   ],
   "source": [
    "grouped = df.groupby(['sex','club'], as_index=False)\n",
    "grouped.mean(numeric_only=True)"
   ]
  },
  {
   "cell_type": "markdown",
   "id": "89977c54-a381-4763-9eab-2dd785223f5a",
   "metadata": {},
   "source": [
    "7.62 创建包含类的数据列表"
   ]
  },
  {
   "cell_type": "code",
   "execution_count": 96,
   "id": "5a08fc32-fc8e-4771-a194-08ca75096785",
   "metadata": {},
   "outputs": [
    {
     "data": {
      "text/plain": [
       "['1A', '1A', '1B', '1B', '1B', '1C', '1C', '1A', '1A']"
      ]
     },
     "execution_count": 96,
     "metadata": {},
     "output_type": "execute_result"
    }
   ],
   "source": [
    "classroom = ['1A'] * 2 + ['1B'] * 3 + ['1C'] * 2 + ['1A'] * 2\n",
    "classroom"
   ]
  },
  {
   "cell_type": "markdown",
   "id": "df96cdc1-1bf5-4a15-9edc-8ff39d684554",
   "metadata": {},
   "source": [
    "7.63 使用外部数据进行分组"
   ]
  },
  {
   "cell_type": "code",
   "execution_count": 97,
   "id": "7c02504c-1c09-4c95-9c60-402de7826e0a",
   "metadata": {},
   "outputs": [
    {
     "data": {
      "text/html": [
       "<div>\n",
       "<style scoped>\n",
       "    .dataframe tbody tr th:only-of-type {\n",
       "        vertical-align: middle;\n",
       "    }\n",
       "\n",
       "    .dataframe tbody tr th {\n",
       "        vertical-align: top;\n",
       "    }\n",
       "\n",
       "    .dataframe thead th {\n",
       "        text-align: right;\n",
       "    }\n",
       "</style>\n",
       "<table border=\"1\" class=\"dataframe\">\n",
       "  <thead>\n",
       "    <tr style=\"text-align: right;\">\n",
       "      <th></th>\n",
       "      <th></th>\n",
       "      <th>math</th>\n",
       "      <th>eng</th>\n",
       "    </tr>\n",
       "    <tr>\n",
       "      <th></th>\n",
       "      <th>sex</th>\n",
       "      <th></th>\n",
       "      <th></th>\n",
       "    </tr>\n",
       "  </thead>\n",
       "  <tbody>\n",
       "    <tr>\n",
       "      <th rowspan=\"2\" valign=\"top\">1A</th>\n",
       "      <th>Female</th>\n",
       "      <td>77</td>\n",
       "      <td>86</td>\n",
       "    </tr>\n",
       "    <tr>\n",
       "      <th>Male</th>\n",
       "      <td>91</td>\n",
       "      <td>90</td>\n",
       "    </tr>\n",
       "    <tr>\n",
       "      <th rowspan=\"2\" valign=\"top\">1B</th>\n",
       "      <th>Female</th>\n",
       "      <td>88</td>\n",
       "      <td>85</td>\n",
       "    </tr>\n",
       "    <tr>\n",
       "      <th>Male</th>\n",
       "      <td>71</td>\n",
       "      <td>69</td>\n",
       "    </tr>\n",
       "    <tr>\n",
       "      <th rowspan=\"2\" valign=\"top\">1C</th>\n",
       "      <th>Female</th>\n",
       "      <td>91</td>\n",
       "      <td>93</td>\n",
       "    </tr>\n",
       "    <tr>\n",
       "      <th>Male</th>\n",
       "      <td>69</td>\n",
       "      <td>75</td>\n",
       "    </tr>\n",
       "  </tbody>\n",
       "</table>\n",
       "</div>"
      ],
      "text/plain": [
       "           math  eng\n",
       "   sex              \n",
       "1A Female    77   86\n",
       "   Male      91   90\n",
       "1B Female    88   85\n",
       "   Male      71   69\n",
       "1C Female    91   93\n",
       "   Male      69   75"
      ]
     },
     "execution_count": 97,
     "metadata": {},
     "output_type": "execute_result"
    }
   ],
   "source": [
    "grouped = df.groupby([classroom, 'sex'])\n",
    "grouped[['math','eng']].max()"
   ]
  },
  {
   "cell_type": "markdown",
   "id": "eecb6acb-67e9-419c-9f0c-5f3947b90240",
   "metadata": {},
   "source": [
    "7.64 DataFrame 对象和 set_index 方法"
   ]
  },
  {
   "cell_type": "code",
   "execution_count": 98,
   "id": "65c60110-c54d-40ff-b90e-48714ac7c3bf",
   "metadata": {},
   "outputs": [
    {
     "data": {
      "text/html": [
       "<div>\n",
       "<style scoped>\n",
       "    .dataframe tbody tr th:only-of-type {\n",
       "        vertical-align: middle;\n",
       "    }\n",
       "\n",
       "    .dataframe tbody tr th {\n",
       "        vertical-align: top;\n",
       "    }\n",
       "\n",
       "    .dataframe thead th {\n",
       "        text-align: right;\n",
       "    }\n",
       "</style>\n",
       "<table border=\"1\" class=\"dataframe\">\n",
       "  <thead>\n",
       "    <tr style=\"text-align: right;\">\n",
       "      <th></th>\n",
       "      <th>name</th>\n",
       "      <th>sex</th>\n",
       "      <th>club</th>\n",
       "      <th>math</th>\n",
       "      <th>eng</th>\n",
       "      <th>scie</th>\n",
       "    </tr>\n",
       "  </thead>\n",
       "  <tbody>\n",
       "    <tr>\n",
       "      <th>0</th>\n",
       "      <td>A</td>\n",
       "      <td>Male</td>\n",
       "      <td>soccer</td>\n",
       "      <td>81</td>\n",
       "      <td>79</td>\n",
       "      <td>91</td>\n",
       "    </tr>\n",
       "    <tr>\n",
       "      <th>1</th>\n",
       "      <td>B</td>\n",
       "      <td>Male</td>\n",
       "      <td>soccer</td>\n",
       "      <td>91</td>\n",
       "      <td>90</td>\n",
       "      <td>89</td>\n",
       "    </tr>\n",
       "    <tr>\n",
       "      <th>2</th>\n",
       "      <td>C</td>\n",
       "      <td>Female</td>\n",
       "      <td>volleyball</td>\n",
       "      <td>77</td>\n",
       "      <td>69</td>\n",
       "      <td>94</td>\n",
       "    </tr>\n",
       "    <tr>\n",
       "      <th>3</th>\n",
       "      <td>D</td>\n",
       "      <td>Female</td>\n",
       "      <td>tennis</td>\n",
       "      <td>88</td>\n",
       "      <td>85</td>\n",
       "      <td>81</td>\n",
       "    </tr>\n",
       "    <tr>\n",
       "      <th>4</th>\n",
       "      <td>E</td>\n",
       "      <td>Male</td>\n",
       "      <td>baseball</td>\n",
       "      <td>71</td>\n",
       "      <td>69</td>\n",
       "      <td>82</td>\n",
       "    </tr>\n",
       "    <tr>\n",
       "      <th>5</th>\n",
       "      <td>F</td>\n",
       "      <td>Male</td>\n",
       "      <td>tennis</td>\n",
       "      <td>69</td>\n",
       "      <td>75</td>\n",
       "      <td>84</td>\n",
       "    </tr>\n",
       "    <tr>\n",
       "      <th>6</th>\n",
       "      <td>G</td>\n",
       "      <td>Female</td>\n",
       "      <td>volleyball</td>\n",
       "      <td>91</td>\n",
       "      <td>93</td>\n",
       "      <td>89</td>\n",
       "    </tr>\n",
       "    <tr>\n",
       "      <th>7</th>\n",
       "      <td>H</td>\n",
       "      <td>Female</td>\n",
       "      <td>tennis</td>\n",
       "      <td>77</td>\n",
       "      <td>86</td>\n",
       "      <td>80</td>\n",
       "    </tr>\n",
       "    <tr>\n",
       "      <th>8</th>\n",
       "      <td>I</td>\n",
       "      <td>Male</td>\n",
       "      <td>baseball</td>\n",
       "      <td>88</td>\n",
       "      <td>76</td>\n",
       "      <td>72</td>\n",
       "    </tr>\n",
       "  </tbody>\n",
       "</table>\n",
       "</div>"
      ],
      "text/plain": [
       "  name     sex        club  math  eng  scie\n",
       "0    A    Male      soccer    81   79    91\n",
       "1    B    Male      soccer    91   90    89\n",
       "2    C  Female  volleyball    77   69    94\n",
       "3    D  Female      tennis    88   85    81\n",
       "4    E    Male    baseball    71   69    82\n",
       "5    F    Male      tennis    69   75    84\n",
       "6    G  Female  volleyball    91   93    89\n",
       "7    H  Female      tennis    77   86    80\n",
       "8    I    Male    baseball    88   76    72"
      ]
     },
     "execution_count": 98,
     "metadata": {},
     "output_type": "execute_result"
    }
   ],
   "source": [
    "df2 = df.copy()\n",
    "df2"
   ]
  },
  {
   "cell_type": "code",
   "execution_count": 99,
   "id": "29e14244-ba34-4ee8-ade1-c90b462acd09",
   "metadata": {},
   "outputs": [
    {
     "data": {
      "text/html": [
       "<div>\n",
       "<style scoped>\n",
       "    .dataframe tbody tr th:only-of-type {\n",
       "        vertical-align: middle;\n",
       "    }\n",
       "\n",
       "    .dataframe tbody tr th {\n",
       "        vertical-align: top;\n",
       "    }\n",
       "\n",
       "    .dataframe thead th {\n",
       "        text-align: right;\n",
       "    }\n",
       "</style>\n",
       "<table border=\"1\" class=\"dataframe\">\n",
       "  <thead>\n",
       "    <tr style=\"text-align: right;\">\n",
       "      <th></th>\n",
       "      <th>name</th>\n",
       "      <th>sex</th>\n",
       "      <th>math</th>\n",
       "      <th>eng</th>\n",
       "      <th>scie</th>\n",
       "    </tr>\n",
       "    <tr>\n",
       "      <th>club</th>\n",
       "      <th></th>\n",
       "      <th></th>\n",
       "      <th></th>\n",
       "      <th></th>\n",
       "      <th></th>\n",
       "    </tr>\n",
       "  </thead>\n",
       "  <tbody>\n",
       "    <tr>\n",
       "      <th>soccer</th>\n",
       "      <td>A</td>\n",
       "      <td>Male</td>\n",
       "      <td>81</td>\n",
       "      <td>79</td>\n",
       "      <td>91</td>\n",
       "    </tr>\n",
       "    <tr>\n",
       "      <th>soccer</th>\n",
       "      <td>B</td>\n",
       "      <td>Male</td>\n",
       "      <td>91</td>\n",
       "      <td>90</td>\n",
       "      <td>89</td>\n",
       "    </tr>\n",
       "    <tr>\n",
       "      <th>volleyball</th>\n",
       "      <td>C</td>\n",
       "      <td>Female</td>\n",
       "      <td>77</td>\n",
       "      <td>69</td>\n",
       "      <td>94</td>\n",
       "    </tr>\n",
       "    <tr>\n",
       "      <th>tennis</th>\n",
       "      <td>D</td>\n",
       "      <td>Female</td>\n",
       "      <td>88</td>\n",
       "      <td>85</td>\n",
       "      <td>81</td>\n",
       "    </tr>\n",
       "    <tr>\n",
       "      <th>baseball</th>\n",
       "      <td>E</td>\n",
       "      <td>Male</td>\n",
       "      <td>71</td>\n",
       "      <td>69</td>\n",
       "      <td>82</td>\n",
       "    </tr>\n",
       "    <tr>\n",
       "      <th>tennis</th>\n",
       "      <td>F</td>\n",
       "      <td>Male</td>\n",
       "      <td>69</td>\n",
       "      <td>75</td>\n",
       "      <td>84</td>\n",
       "    </tr>\n",
       "    <tr>\n",
       "      <th>volleyball</th>\n",
       "      <td>G</td>\n",
       "      <td>Female</td>\n",
       "      <td>91</td>\n",
       "      <td>93</td>\n",
       "      <td>89</td>\n",
       "    </tr>\n",
       "    <tr>\n",
       "      <th>tennis</th>\n",
       "      <td>H</td>\n",
       "      <td>Female</td>\n",
       "      <td>77</td>\n",
       "      <td>86</td>\n",
       "      <td>80</td>\n",
       "    </tr>\n",
       "    <tr>\n",
       "      <th>baseball</th>\n",
       "      <td>I</td>\n",
       "      <td>Male</td>\n",
       "      <td>88</td>\n",
       "      <td>76</td>\n",
       "      <td>72</td>\n",
       "    </tr>\n",
       "  </tbody>\n",
       "</table>\n",
       "</div>"
      ],
      "text/plain": [
       "           name     sex  math  eng  scie\n",
       "club                                    \n",
       "soccer        A    Male    81   79    91\n",
       "soccer        B    Male    91   90    89\n",
       "volleyball    C  Female    77   69    94\n",
       "tennis        D  Female    88   85    81\n",
       "baseball      E    Male    71   69    82\n",
       "tennis        F    Male    69   75    84\n",
       "volleyball    G  Female    91   93    89\n",
       "tennis        H  Female    77   86    80\n",
       "baseball      I    Male    88   76    72"
      ]
     },
     "execution_count": 99,
     "metadata": {},
     "output_type": "execute_result"
    }
   ],
   "source": [
    "df2 = df2.set_index('club')\n",
    "df2"
   ]
  },
  {
   "cell_type": "markdown",
   "id": "832b25b3-7824-4b08-82c1-2593cdb154bd",
   "metadata": {},
   "source": [
    "7.65 基于索引的 name 属性分组"
   ]
  },
  {
   "cell_type": "code",
   "execution_count": 100,
   "id": "2841929c-8fbb-4454-8ba7-f4fa9e50a8b8",
   "metadata": {},
   "outputs": [
    {
     "data": {
      "text/html": [
       "<div>\n",
       "<style scoped>\n",
       "    .dataframe tbody tr th:only-of-type {\n",
       "        vertical-align: middle;\n",
       "    }\n",
       "\n",
       "    .dataframe tbody tr th {\n",
       "        vertical-align: top;\n",
       "    }\n",
       "\n",
       "    .dataframe thead th {\n",
       "        text-align: right;\n",
       "    }\n",
       "</style>\n",
       "<table border=\"1\" class=\"dataframe\">\n",
       "  <thead>\n",
       "    <tr style=\"text-align: right;\">\n",
       "      <th></th>\n",
       "      <th>math</th>\n",
       "      <th>eng</th>\n",
       "      <th>scie</th>\n",
       "    </tr>\n",
       "    <tr>\n",
       "      <th>club</th>\n",
       "      <th></th>\n",
       "      <th></th>\n",
       "      <th></th>\n",
       "    </tr>\n",
       "  </thead>\n",
       "  <tbody>\n",
       "    <tr>\n",
       "      <th>baseball</th>\n",
       "      <td>79.5</td>\n",
       "      <td>72.5</td>\n",
       "      <td>77.000000</td>\n",
       "    </tr>\n",
       "    <tr>\n",
       "      <th>soccer</th>\n",
       "      <td>86.0</td>\n",
       "      <td>84.5</td>\n",
       "      <td>90.000000</td>\n",
       "    </tr>\n",
       "    <tr>\n",
       "      <th>tennis</th>\n",
       "      <td>78.0</td>\n",
       "      <td>82.0</td>\n",
       "      <td>81.666667</td>\n",
       "    </tr>\n",
       "    <tr>\n",
       "      <th>volleyball</th>\n",
       "      <td>84.0</td>\n",
       "      <td>81.0</td>\n",
       "      <td>91.500000</td>\n",
       "    </tr>\n",
       "  </tbody>\n",
       "</table>\n",
       "</div>"
      ],
      "text/plain": [
       "            math   eng       scie\n",
       "club                             \n",
       "baseball    79.5  72.5  77.000000\n",
       "soccer      86.0  84.5  90.000000\n",
       "tennis      78.0  82.0  81.666667\n",
       "volleyball  84.0  81.0  91.500000"
      ]
     },
     "execution_count": 100,
     "metadata": {},
     "output_type": "execute_result"
    }
   ],
   "source": [
    "df2.groupby(by='club').mean(numeric_only=True)"
   ]
  },
  {
   "cell_type": "markdown",
   "id": "263389d5-45be-4a8a-be60-db5962649548",
   "metadata": {},
   "source": [
    "7.66 groupby 方法的 level 参数"
   ]
  },
  {
   "cell_type": "code",
   "execution_count": 101,
   "id": "13bb8b6a-956b-4fac-8b25-f3b5abfc9508",
   "metadata": {},
   "outputs": [
    {
     "data": {
      "text/html": [
       "<div>\n",
       "<style scoped>\n",
       "    .dataframe tbody tr th:only-of-type {\n",
       "        vertical-align: middle;\n",
       "    }\n",
       "\n",
       "    .dataframe tbody tr th {\n",
       "        vertical-align: top;\n",
       "    }\n",
       "\n",
       "    .dataframe thead th {\n",
       "        text-align: right;\n",
       "    }\n",
       "</style>\n",
       "<table border=\"1\" class=\"dataframe\">\n",
       "  <thead>\n",
       "    <tr style=\"text-align: right;\">\n",
       "      <th></th>\n",
       "      <th>math</th>\n",
       "      <th>eng</th>\n",
       "      <th>scie</th>\n",
       "    </tr>\n",
       "    <tr>\n",
       "      <th>club</th>\n",
       "      <th></th>\n",
       "      <th></th>\n",
       "      <th></th>\n",
       "    </tr>\n",
       "  </thead>\n",
       "  <tbody>\n",
       "    <tr>\n",
       "      <th>baseball</th>\n",
       "      <td>79.5</td>\n",
       "      <td>72.5</td>\n",
       "      <td>77.000000</td>\n",
       "    </tr>\n",
       "    <tr>\n",
       "      <th>soccer</th>\n",
       "      <td>86.0</td>\n",
       "      <td>84.5</td>\n",
       "      <td>90.000000</td>\n",
       "    </tr>\n",
       "    <tr>\n",
       "      <th>tennis</th>\n",
       "      <td>78.0</td>\n",
       "      <td>82.0</td>\n",
       "      <td>81.666667</td>\n",
       "    </tr>\n",
       "    <tr>\n",
       "      <th>volleyball</th>\n",
       "      <td>84.0</td>\n",
       "      <td>81.0</td>\n",
       "      <td>91.500000</td>\n",
       "    </tr>\n",
       "  </tbody>\n",
       "</table>\n",
       "</div>"
      ],
      "text/plain": [
       "            math   eng       scie\n",
       "club                             \n",
       "baseball    79.5  72.5  77.000000\n",
       "soccer      86.0  84.5  90.000000\n",
       "tennis      78.0  82.0  81.666667\n",
       "volleyball  84.0  81.0  91.500000"
      ]
     },
     "execution_count": 101,
     "metadata": {},
     "output_type": "execute_result"
    }
   ],
   "source": [
    "df2.groupby(level=0).mean(numeric_only=True)"
   ]
  },
  {
   "cell_type": "markdown",
   "id": "68be283e-298e-4e44-ba69-965b874c1820",
   "metadata": {},
   "source": [
    "7.67 GroupBy 对象的迭代"
   ]
  },
  {
   "cell_type": "code",
   "execution_count": 102,
   "id": "d29b6302-2161-4ee9-8361-494f586988c0",
   "metadata": {},
   "outputs": [
    {
     "name": "stdout",
     "output_type": "stream",
     "text": [
      "Female\n",
      "  name     sex        club  math  eng  scie\n",
      "2    C  Female  volleyball    77   69    94\n",
      "3    D  Female      tennis    88   85    81 \n",
      "\n",
      "Male\n",
      "  name   sex    club  math  eng  scie\n",
      "0    A  Male  soccer    81   79    91\n",
      "1    B  Male  soccer    91   90    89 \n",
      "\n"
     ]
    }
   ],
   "source": [
    "grouped = df.groupby('sex')\n",
    "\n",
    "for name, group in grouped:\n",
    "    print(name)\n",
    "    print(group[0:2], '\\n')"
   ]
  },
  {
   "cell_type": "raw",
   "id": "f3d8f8a4-9ebb-49da-b4a0-aea850236002",
   "metadata": {},
   "source": [
    "7.68 GroupBy 对象的迭代（多个键）"
   ]
  },
  {
   "cell_type": "code",
   "execution_count": 103,
   "id": "aaa2e0db-a405-464d-bda5-5fad18d4b279",
   "metadata": {},
   "outputs": [
    {
     "name": "stdout",
     "output_type": "stream",
     "text": [
      "Female tennis\n",
      "Female volleyball\n",
      "Male baseball\n",
      "Male soccer\n",
      "Male tennis\n"
     ]
    }
   ],
   "source": [
    "for (sex, club), group in df.groupby(['sex','club']):\n",
    "    print(sex, club)"
   ]
  },
  {
   "cell_type": "markdown",
   "id": "e029f7a4-80ee-46ff-ad47-282ad1c41e63",
   "metadata": {},
   "source": [
    "7.69 GroupBy 对象的 describe 方法"
   ]
  },
  {
   "cell_type": "code",
   "execution_count": 104,
   "id": "04a8ed84-bbe7-4f8b-b659-6d83a6471f39",
   "metadata": {},
   "outputs": [
    {
     "data": {
      "text/html": [
       "<div>\n",
       "<style scoped>\n",
       "    .dataframe tbody tr th:only-of-type {\n",
       "        vertical-align: middle;\n",
       "    }\n",
       "\n",
       "    .dataframe tbody tr th {\n",
       "        vertical-align: top;\n",
       "    }\n",
       "\n",
       "    .dataframe thead th {\n",
       "        text-align: right;\n",
       "    }\n",
       "</style>\n",
       "<table border=\"1\" class=\"dataframe\">\n",
       "  <thead>\n",
       "    <tr style=\"text-align: right;\">\n",
       "      <th></th>\n",
       "      <th>name</th>\n",
       "      <th>sex</th>\n",
       "      <th>club</th>\n",
       "      <th>math</th>\n",
       "      <th>eng</th>\n",
       "      <th>scie</th>\n",
       "    </tr>\n",
       "  </thead>\n",
       "  <tbody>\n",
       "    <tr>\n",
       "      <th>0</th>\n",
       "      <td>A</td>\n",
       "      <td>Male</td>\n",
       "      <td>soccer</td>\n",
       "      <td>81</td>\n",
       "      <td>79</td>\n",
       "      <td>91</td>\n",
       "    </tr>\n",
       "    <tr>\n",
       "      <th>1</th>\n",
       "      <td>B</td>\n",
       "      <td>Male</td>\n",
       "      <td>soccer</td>\n",
       "      <td>91</td>\n",
       "      <td>90</td>\n",
       "      <td>89</td>\n",
       "    </tr>\n",
       "    <tr>\n",
       "      <th>2</th>\n",
       "      <td>C</td>\n",
       "      <td>Female</td>\n",
       "      <td>volleyball</td>\n",
       "      <td>77</td>\n",
       "      <td>69</td>\n",
       "      <td>94</td>\n",
       "    </tr>\n",
       "    <tr>\n",
       "      <th>3</th>\n",
       "      <td>D</td>\n",
       "      <td>Female</td>\n",
       "      <td>tennis</td>\n",
       "      <td>88</td>\n",
       "      <td>85</td>\n",
       "      <td>81</td>\n",
       "    </tr>\n",
       "    <tr>\n",
       "      <th>4</th>\n",
       "      <td>E</td>\n",
       "      <td>Male</td>\n",
       "      <td>baseball</td>\n",
       "      <td>71</td>\n",
       "      <td>69</td>\n",
       "      <td>82</td>\n",
       "    </tr>\n",
       "    <tr>\n",
       "      <th>5</th>\n",
       "      <td>F</td>\n",
       "      <td>Male</td>\n",
       "      <td>tennis</td>\n",
       "      <td>69</td>\n",
       "      <td>75</td>\n",
       "      <td>84</td>\n",
       "    </tr>\n",
       "    <tr>\n",
       "      <th>6</th>\n",
       "      <td>G</td>\n",
       "      <td>Female</td>\n",
       "      <td>volleyball</td>\n",
       "      <td>91</td>\n",
       "      <td>93</td>\n",
       "      <td>89</td>\n",
       "    </tr>\n",
       "    <tr>\n",
       "      <th>7</th>\n",
       "      <td>H</td>\n",
       "      <td>Female</td>\n",
       "      <td>tennis</td>\n",
       "      <td>77</td>\n",
       "      <td>86</td>\n",
       "      <td>80</td>\n",
       "    </tr>\n",
       "    <tr>\n",
       "      <th>8</th>\n",
       "      <td>I</td>\n",
       "      <td>Male</td>\n",
       "      <td>baseball</td>\n",
       "      <td>88</td>\n",
       "      <td>76</td>\n",
       "      <td>72</td>\n",
       "    </tr>\n",
       "  </tbody>\n",
       "</table>\n",
       "</div>"
      ],
      "text/plain": [
       "  name     sex        club  math  eng  scie\n",
       "0    A    Male      soccer    81   79    91\n",
       "1    B    Male      soccer    91   90    89\n",
       "2    C  Female  volleyball    77   69    94\n",
       "3    D  Female      tennis    88   85    81\n",
       "4    E    Male    baseball    71   69    82\n",
       "5    F    Male      tennis    69   75    84\n",
       "6    G  Female  volleyball    91   93    89\n",
       "7    H  Female      tennis    77   86    80\n",
       "8    I    Male    baseball    88   76    72"
      ]
     },
     "execution_count": 104,
     "metadata": {},
     "output_type": "execute_result"
    }
   ],
   "source": [
    "df"
   ]
  },
  {
   "cell_type": "code",
   "execution_count": 105,
   "id": "cb823a24-049a-498f-9df0-5f4d54063463",
   "metadata": {},
   "outputs": [
    {
     "data": {
      "text/html": [
       "<div>\n",
       "<style scoped>\n",
       "    .dataframe tbody tr th:only-of-type {\n",
       "        vertical-align: middle;\n",
       "    }\n",
       "\n",
       "    .dataframe tbody tr th {\n",
       "        vertical-align: top;\n",
       "    }\n",
       "\n",
       "    .dataframe thead th {\n",
       "        text-align: right;\n",
       "    }\n",
       "</style>\n",
       "<table border=\"1\" class=\"dataframe\">\n",
       "  <thead>\n",
       "    <tr style=\"text-align: right;\">\n",
       "      <th></th>\n",
       "      <th>count</th>\n",
       "      <th>mean</th>\n",
       "      <th>std</th>\n",
       "      <th>min</th>\n",
       "      <th>25%</th>\n",
       "      <th>50%</th>\n",
       "      <th>75%</th>\n",
       "      <th>max</th>\n",
       "    </tr>\n",
       "    <tr>\n",
       "      <th>club</th>\n",
       "      <th></th>\n",
       "      <th></th>\n",
       "      <th></th>\n",
       "      <th></th>\n",
       "      <th></th>\n",
       "      <th></th>\n",
       "      <th></th>\n",
       "      <th></th>\n",
       "    </tr>\n",
       "  </thead>\n",
       "  <tbody>\n",
       "    <tr>\n",
       "      <th>baseball</th>\n",
       "      <td>2.0</td>\n",
       "      <td>79.5</td>\n",
       "      <td>12.020815</td>\n",
       "      <td>71.0</td>\n",
       "      <td>75.25</td>\n",
       "      <td>79.5</td>\n",
       "      <td>83.75</td>\n",
       "      <td>88.0</td>\n",
       "    </tr>\n",
       "    <tr>\n",
       "      <th>soccer</th>\n",
       "      <td>2.0</td>\n",
       "      <td>86.0</td>\n",
       "      <td>7.071068</td>\n",
       "      <td>81.0</td>\n",
       "      <td>83.50</td>\n",
       "      <td>86.0</td>\n",
       "      <td>88.50</td>\n",
       "      <td>91.0</td>\n",
       "    </tr>\n",
       "    <tr>\n",
       "      <th>tennis</th>\n",
       "      <td>3.0</td>\n",
       "      <td>78.0</td>\n",
       "      <td>9.539392</td>\n",
       "      <td>69.0</td>\n",
       "      <td>73.00</td>\n",
       "      <td>77.0</td>\n",
       "      <td>82.50</td>\n",
       "      <td>88.0</td>\n",
       "    </tr>\n",
       "    <tr>\n",
       "      <th>volleyball</th>\n",
       "      <td>2.0</td>\n",
       "      <td>84.0</td>\n",
       "      <td>9.899495</td>\n",
       "      <td>77.0</td>\n",
       "      <td>80.50</td>\n",
       "      <td>84.0</td>\n",
       "      <td>87.50</td>\n",
       "      <td>91.0</td>\n",
       "    </tr>\n",
       "  </tbody>\n",
       "</table>\n",
       "</div>"
      ],
      "text/plain": [
       "            count  mean        std   min    25%   50%    75%   max\n",
       "club                                                              \n",
       "baseball      2.0  79.5  12.020815  71.0  75.25  79.5  83.75  88.0\n",
       "soccer        2.0  86.0   7.071068  81.0  83.50  86.0  88.50  91.0\n",
       "tennis        3.0  78.0   9.539392  69.0  73.00  77.0  82.50  88.0\n",
       "volleyball    2.0  84.0   9.899495  77.0  80.50  84.0  87.50  91.0"
      ]
     },
     "execution_count": 105,
     "metadata": {},
     "output_type": "execute_result"
    }
   ],
   "source": [
    "grouped = df.groupby('club')\n",
    "grouped['math'].describe()"
   ]
  },
  {
   "cell_type": "markdown",
   "id": "23cb5a8b-b4f5-4ca7-b885-39c9ee8a0550",
   "metadata": {},
   "source": [
    "7.70 GroupBy 对象的 filter 方法"
   ]
  },
  {
   "cell_type": "code",
   "execution_count": 106,
   "id": "4578c14f-c313-4222-a14d-70ba86a76594",
   "metadata": {},
   "outputs": [
    {
     "name": "stdout",
     "output_type": "stream",
     "text": [
      "baseball\n",
      "  name   sex      club  math  eng  scie\n",
      "4    E  Male  baseball    71   69    82\n",
      "8    I  Male  baseball    88   76    72 \n",
      "\n",
      "soccer\n",
      "  name   sex    club  math  eng  scie\n",
      "0    A  Male  soccer    81   79    91\n",
      "1    B  Male  soccer    91   90    89 \n",
      "\n",
      "tennis\n",
      "  name     sex    club  math  eng  scie\n",
      "3    D  Female  tennis    88   85    81\n",
      "5    F    Male  tennis    69   75    84\n",
      "7    H  Female  tennis    77   86    80 \n",
      "\n",
      "volleyball\n",
      "  name     sex        club  math  eng  scie\n",
      "2    C  Female  volleyball    77   69    94\n",
      "6    G  Female  volleyball    91   93    89 \n",
      "\n"
     ]
    }
   ],
   "source": [
    "for name, group in grouped:\n",
    "    print(name)\n",
    "    print(group[:], '\\n')"
   ]
  },
  {
   "cell_type": "code",
   "execution_count": 107,
   "id": "17dbec94-a097-43b9-a71d-49297340eeb8",
   "metadata": {},
   "outputs": [
    {
     "data": {
      "text/html": [
       "<div>\n",
       "<style scoped>\n",
       "    .dataframe tbody tr th:only-of-type {\n",
       "        vertical-align: middle;\n",
       "    }\n",
       "\n",
       "    .dataframe tbody tr th {\n",
       "        vertical-align: top;\n",
       "    }\n",
       "\n",
       "    .dataframe thead th {\n",
       "        text-align: right;\n",
       "    }\n",
       "</style>\n",
       "<table border=\"1\" class=\"dataframe\">\n",
       "  <thead>\n",
       "    <tr style=\"text-align: right;\">\n",
       "      <th></th>\n",
       "      <th>name</th>\n",
       "      <th>sex</th>\n",
       "      <th>club</th>\n",
       "      <th>math</th>\n",
       "      <th>eng</th>\n",
       "      <th>scie</th>\n",
       "    </tr>\n",
       "  </thead>\n",
       "  <tbody>\n",
       "    <tr>\n",
       "      <th>0</th>\n",
       "      <td>A</td>\n",
       "      <td>Male</td>\n",
       "      <td>soccer</td>\n",
       "      <td>81</td>\n",
       "      <td>79</td>\n",
       "      <td>91</td>\n",
       "    </tr>\n",
       "    <tr>\n",
       "      <th>1</th>\n",
       "      <td>B</td>\n",
       "      <td>Male</td>\n",
       "      <td>soccer</td>\n",
       "      <td>91</td>\n",
       "      <td>90</td>\n",
       "      <td>89</td>\n",
       "    </tr>\n",
       "    <tr>\n",
       "      <th>2</th>\n",
       "      <td>C</td>\n",
       "      <td>Female</td>\n",
       "      <td>volleyball</td>\n",
       "      <td>77</td>\n",
       "      <td>69</td>\n",
       "      <td>94</td>\n",
       "    </tr>\n",
       "    <tr>\n",
       "      <th>6</th>\n",
       "      <td>G</td>\n",
       "      <td>Female</td>\n",
       "      <td>volleyball</td>\n",
       "      <td>91</td>\n",
       "      <td>93</td>\n",
       "      <td>89</td>\n",
       "    </tr>\n",
       "  </tbody>\n",
       "</table>\n",
       "</div>"
      ],
      "text/plain": [
       "  name     sex        club  math  eng  scie\n",
       "0    A    Male      soccer    81   79    91\n",
       "1    B    Male      soccer    91   90    89\n",
       "2    C  Female  volleyball    77   69    94\n",
       "6    G  Female  volleyball    91   93    89"
      ]
     },
     "execution_count": 107,
     "metadata": {},
     "output_type": "execute_result"
    }
   ],
   "source": [
    "grouped.filter(lambda x: x['math'].mean() > 80)"
   ]
  },
  {
   "cell_type": "markdown",
   "id": "2d85f8a7-41df-42bb-ac44-b9a297b2b8f4",
   "metadata": {},
   "source": [
    "7.71 GroupBy 对象的 filter 方法和 len 函数"
   ]
  },
  {
   "cell_type": "code",
   "execution_count": 108,
   "id": "c765c2b2-7961-4211-8e26-d43f23901a7f",
   "metadata": {},
   "outputs": [
    {
     "data": {
      "text/html": [
       "<div>\n",
       "<style scoped>\n",
       "    .dataframe tbody tr th:only-of-type {\n",
       "        vertical-align: middle;\n",
       "    }\n",
       "\n",
       "    .dataframe tbody tr th {\n",
       "        vertical-align: top;\n",
       "    }\n",
       "\n",
       "    .dataframe thead th {\n",
       "        text-align: right;\n",
       "    }\n",
       "</style>\n",
       "<table border=\"1\" class=\"dataframe\">\n",
       "  <thead>\n",
       "    <tr style=\"text-align: right;\">\n",
       "      <th></th>\n",
       "      <th>name</th>\n",
       "      <th>sex</th>\n",
       "      <th>club</th>\n",
       "      <th>math</th>\n",
       "      <th>eng</th>\n",
       "      <th>scie</th>\n",
       "    </tr>\n",
       "  </thead>\n",
       "  <tbody>\n",
       "    <tr>\n",
       "      <th>3</th>\n",
       "      <td>D</td>\n",
       "      <td>Female</td>\n",
       "      <td>tennis</td>\n",
       "      <td>88</td>\n",
       "      <td>85</td>\n",
       "      <td>81</td>\n",
       "    </tr>\n",
       "    <tr>\n",
       "      <th>5</th>\n",
       "      <td>F</td>\n",
       "      <td>Male</td>\n",
       "      <td>tennis</td>\n",
       "      <td>69</td>\n",
       "      <td>75</td>\n",
       "      <td>84</td>\n",
       "    </tr>\n",
       "    <tr>\n",
       "      <th>7</th>\n",
       "      <td>H</td>\n",
       "      <td>Female</td>\n",
       "      <td>tennis</td>\n",
       "      <td>77</td>\n",
       "      <td>86</td>\n",
       "      <td>80</td>\n",
       "    </tr>\n",
       "  </tbody>\n",
       "</table>\n",
       "</div>"
      ],
      "text/plain": [
       "  name     sex    club  math  eng  scie\n",
       "3    D  Female  tennis    88   85    81\n",
       "5    F    Male  tennis    69   75    84\n",
       "7    H  Female  tennis    77   86    80"
      ]
     },
     "execution_count": 108,
     "metadata": {},
     "output_type": "execute_result"
    }
   ],
   "source": [
    "df.groupby('club').filter(lambda x: len(x) > 2)"
   ]
  },
  {
   "cell_type": "markdown",
   "id": "86653398-436f-40c3-82b4-5b13f94ccb34",
   "metadata": {},
   "source": [
    "7.72 SeriesGroupBy 对象"
   ]
  },
  {
   "cell_type": "code",
   "execution_count": 109,
   "id": "23c2ab36-69f8-4158-bd38-88a359beecdf",
   "metadata": {},
   "outputs": [
    {
     "data": {
      "text/plain": [
       "<pandas.core.groupby.generic.SeriesGroupBy object at 0x000001B0269A1910>"
      ]
     },
     "execution_count": 109,
     "metadata": {},
     "output_type": "execute_result"
    }
   ],
   "source": [
    "ser_grouped = df.groupby('sex')\n",
    "ser_grouped['math']"
   ]
  },
  {
   "cell_type": "markdown",
   "id": "469170d5-2e96-4b93-b00d-e7fe518922ee",
   "metadata": {},
   "source": [
    "7.73 SeriesGroupBy 对象的 nlargest 方法和 nsmallest 方法"
   ]
  },
  {
   "cell_type": "code",
   "execution_count": 110,
   "id": "872ad710-53f9-4a4b-a164-856d62abbe06",
   "metadata": {},
   "outputs": [
    {
     "name": "stdout",
     "output_type": "stream",
     "text": [
      "sex      \n",
      "Female  6    91\n",
      "Male    1    91\n",
      "Name: math, dtype: int64 \n",
      "\n",
      "sex      \n",
      "Female  2    77\n",
      "Male    5    69\n",
      "Name: math, dtype: int64\n"
     ]
    }
   ],
   "source": [
    "print(ser_grouped['math'].nlargest(n=1), '\\n')\n",
    "print(ser_grouped['math'].nsmallest(n=1))"
   ]
  },
  {
   "cell_type": "markdown",
   "id": "1cd09137-93e7-45cf-b896-079ded2e88b8",
   "metadata": {},
   "source": [
    "7.74 SeriesGroupBy 对象和 value_counts 方法"
   ]
  },
  {
   "cell_type": "code",
   "execution_count": 111,
   "id": "c3b2ccdd-f71c-4715-a137-5334b4223937",
   "metadata": {},
   "outputs": [
    {
     "data": {
      "text/plain": [
       "sex     math\n",
       "Female  77      2\n",
       "        88      1\n",
       "        91      1\n",
       "Male    69      1\n",
       "        71      1\n",
       "        81      1\n",
       "        88      1\n",
       "        91      1\n",
       "Name: count, dtype: int64"
      ]
     },
     "execution_count": 111,
     "metadata": {},
     "output_type": "execute_result"
    }
   ],
   "source": [
    "ser_grouped['math'].value_counts()"
   ]
  },
  {
   "cell_type": "markdown",
   "id": "3aa77815-3a68-4ce3-877e-db9e49095977",
   "metadata": {},
   "source": [
    "### 7.3.2 GroupBy对象的agg方法"
   ]
  },
  {
   "cell_type": "markdown",
   "id": "b87bbb42-dd45-4700-9264-06a1cd5c17c2",
   "metadata": {},
   "source": [
    "7.75 GroupBy 对象的 agg 方法"
   ]
  },
  {
   "cell_type": "code",
   "execution_count": 112,
   "id": "61bc7106-0389-44e5-8b23-bc23814d1a52",
   "metadata": {},
   "outputs": [
    {
     "data": {
      "text/html": [
       "<div>\n",
       "<style scoped>\n",
       "    .dataframe tbody tr th:only-of-type {\n",
       "        vertical-align: middle;\n",
       "    }\n",
       "\n",
       "    .dataframe tbody tr th {\n",
       "        vertical-align: top;\n",
       "    }\n",
       "\n",
       "    .dataframe thead th {\n",
       "        text-align: right;\n",
       "    }\n",
       "</style>\n",
       "<table border=\"1\" class=\"dataframe\">\n",
       "  <thead>\n",
       "    <tr style=\"text-align: right;\">\n",
       "      <th></th>\n",
       "      <th>math</th>\n",
       "      <th>eng</th>\n",
       "      <th>scie</th>\n",
       "    </tr>\n",
       "    <tr>\n",
       "      <th>sex</th>\n",
       "      <th></th>\n",
       "      <th></th>\n",
       "      <th></th>\n",
       "    </tr>\n",
       "  </thead>\n",
       "  <tbody>\n",
       "    <tr>\n",
       "      <th>Female</th>\n",
       "      <td>83.25</td>\n",
       "      <td>83.25</td>\n",
       "      <td>86.0</td>\n",
       "    </tr>\n",
       "    <tr>\n",
       "      <th>Male</th>\n",
       "      <td>80.00</td>\n",
       "      <td>77.80</td>\n",
       "      <td>83.6</td>\n",
       "    </tr>\n",
       "  </tbody>\n",
       "</table>\n",
       "</div>"
      ],
      "text/plain": [
       "         math    eng  scie\n",
       "sex                       \n",
       "Female  83.25  83.25  86.0\n",
       "Male    80.00  77.80  83.6"
      ]
     },
     "execution_count": 112,
     "metadata": {},
     "output_type": "execute_result"
    }
   ],
   "source": [
    "grouped = df.groupby('sex')\n",
    "grouped.mean(numeric_only=True)"
   ]
  },
  {
   "cell_type": "code",
   "execution_count": 113,
   "id": "42603c8a-43ef-4cbd-a3de-f7b1056d8996",
   "metadata": {},
   "outputs": [
    {
     "data": {
      "text/html": [
       "<div>\n",
       "<style scoped>\n",
       "    .dataframe tbody tr th:only-of-type {\n",
       "        vertical-align: middle;\n",
       "    }\n",
       "\n",
       "    .dataframe tbody tr th {\n",
       "        vertical-align: top;\n",
       "    }\n",
       "\n",
       "    .dataframe thead th {\n",
       "        text-align: right;\n",
       "    }\n",
       "</style>\n",
       "<table border=\"1\" class=\"dataframe\">\n",
       "  <thead>\n",
       "    <tr style=\"text-align: right;\">\n",
       "      <th></th>\n",
       "      <th>math</th>\n",
       "      <th>eng</th>\n",
       "      <th>scie</th>\n",
       "    </tr>\n",
       "    <tr>\n",
       "      <th>sex</th>\n",
       "      <th></th>\n",
       "      <th></th>\n",
       "      <th></th>\n",
       "    </tr>\n",
       "  </thead>\n",
       "  <tbody>\n",
       "    <tr>\n",
       "      <th>Female</th>\n",
       "      <td>83.25</td>\n",
       "      <td>83.25</td>\n",
       "      <td>86.0</td>\n",
       "    </tr>\n",
       "    <tr>\n",
       "      <th>Male</th>\n",
       "      <td>80.00</td>\n",
       "      <td>77.80</td>\n",
       "      <td>83.6</td>\n",
       "    </tr>\n",
       "  </tbody>\n",
       "</table>\n",
       "</div>"
      ],
      "text/plain": [
       "         math    eng  scie\n",
       "sex                       \n",
       "Female  83.25  83.25  86.0\n",
       "Male    80.00  77.80  83.6"
      ]
     },
     "execution_count": 113,
     "metadata": {},
     "output_type": "execute_result"
    }
   ],
   "source": [
    "grouped.agg('mean',numeric_only=True)"
   ]
  },
  {
   "cell_type": "markdown",
   "id": "78df9dc2-a7bb-431e-81b6-1641d1df0329",
   "metadata": {},
   "source": [
    "7.76 agg 方法和 NumPy 数组的 mean 函数"
   ]
  },
  {
   "cell_type": "code",
   "execution_count": 114,
   "id": "3ffb906d-6446-4b05-a6fd-4cc341d9d2b3",
   "metadata": {},
   "outputs": [],
   "source": [
    "# grouped.agg(np.mean)"
   ]
  },
  {
   "cell_type": "markdown",
   "id": "a72a2b7a-b5ef-4990-be73-083a733ea167",
   "metadata": {},
   "source": [
    "7.77 agg 方法和多个函数"
   ]
  },
  {
   "cell_type": "code",
   "execution_count": 115,
   "id": "05c6aed6-5218-4143-9a03-cad7a7ec807f",
   "metadata": {},
   "outputs": [
    {
     "name": "stderr",
     "output_type": "stream",
     "text": [
      "C:\\Users\\liye\\AppData\\Local\\Temp\\ipykernel_4340\\3123062800.py:1: FutureWarning: The provided callable <function max at 0x000001B023ABA480> is currently using SeriesGroupBy.max. In a future version of pandas, the provided callable will be used directly. To keep current behavior pass the string \"max\" instead.\n",
      "  grouped[['math','eng']].agg([np.max,np.min])\n",
      "C:\\Users\\liye\\AppData\\Local\\Temp\\ipykernel_4340\\3123062800.py:1: FutureWarning: The provided callable <function min at 0x000001B023ABA5C0> is currently using SeriesGroupBy.min. In a future version of pandas, the provided callable will be used directly. To keep current behavior pass the string \"min\" instead.\n",
      "  grouped[['math','eng']].agg([np.max,np.min])\n"
     ]
    },
    {
     "data": {
      "text/html": [
       "<div>\n",
       "<style scoped>\n",
       "    .dataframe tbody tr th:only-of-type {\n",
       "        vertical-align: middle;\n",
       "    }\n",
       "\n",
       "    .dataframe tbody tr th {\n",
       "        vertical-align: top;\n",
       "    }\n",
       "\n",
       "    .dataframe thead tr th {\n",
       "        text-align: left;\n",
       "    }\n",
       "\n",
       "    .dataframe thead tr:last-of-type th {\n",
       "        text-align: right;\n",
       "    }\n",
       "</style>\n",
       "<table border=\"1\" class=\"dataframe\">\n",
       "  <thead>\n",
       "    <tr>\n",
       "      <th></th>\n",
       "      <th colspan=\"2\" halign=\"left\">math</th>\n",
       "      <th colspan=\"2\" halign=\"left\">eng</th>\n",
       "    </tr>\n",
       "    <tr>\n",
       "      <th></th>\n",
       "      <th>max</th>\n",
       "      <th>min</th>\n",
       "      <th>max</th>\n",
       "      <th>min</th>\n",
       "    </tr>\n",
       "    <tr>\n",
       "      <th>sex</th>\n",
       "      <th></th>\n",
       "      <th></th>\n",
       "      <th></th>\n",
       "      <th></th>\n",
       "    </tr>\n",
       "  </thead>\n",
       "  <tbody>\n",
       "    <tr>\n",
       "      <th>Female</th>\n",
       "      <td>91</td>\n",
       "      <td>77</td>\n",
       "      <td>93</td>\n",
       "      <td>69</td>\n",
       "    </tr>\n",
       "    <tr>\n",
       "      <th>Male</th>\n",
       "      <td>91</td>\n",
       "      <td>69</td>\n",
       "      <td>90</td>\n",
       "      <td>69</td>\n",
       "    </tr>\n",
       "  </tbody>\n",
       "</table>\n",
       "</div>"
      ],
      "text/plain": [
       "       math     eng    \n",
       "        max min max min\n",
       "sex                    \n",
       "Female   91  77  93  69\n",
       "Male     91  69  90  69"
      ]
     },
     "execution_count": 115,
     "metadata": {},
     "output_type": "execute_result"
    }
   ],
   "source": [
    "grouped[['math','eng']].agg([np.max,np.min])"
   ]
  },
  {
   "cell_type": "markdown",
   "id": "f9be198a-fa49-4fb1-b01f-5f0d7491a7e8",
   "metadata": {},
   "source": [
    "7.78 agg 方法和元组"
   ]
  },
  {
   "cell_type": "code",
   "execution_count": 116,
   "id": "8077f66e-0d90-4bcc-b7af-39a3e5d725ac",
   "metadata": {},
   "outputs": [
    {
     "name": "stderr",
     "output_type": "stream",
     "text": [
      "C:\\Users\\liye\\AppData\\Local\\Temp\\ipykernel_4340\\1890901812.py:1: FutureWarning: The provided callable <function max at 0x000001B023ABA480> is currently using SeriesGroupBy.max. In a future version of pandas, the provided callable will be used directly. To keep current behavior pass the string \"max\" instead.\n",
      "  grouped[['math','eng']].agg([('最大值', np.max),('最小值',np.min)])\n",
      "C:\\Users\\liye\\AppData\\Local\\Temp\\ipykernel_4340\\1890901812.py:1: FutureWarning: The provided callable <function min at 0x000001B023ABA5C0> is currently using SeriesGroupBy.min. In a future version of pandas, the provided callable will be used directly. To keep current behavior pass the string \"min\" instead.\n",
      "  grouped[['math','eng']].agg([('最大值', np.max),('最小值',np.min)])\n"
     ]
    },
    {
     "data": {
      "text/html": [
       "<div>\n",
       "<style scoped>\n",
       "    .dataframe tbody tr th:only-of-type {\n",
       "        vertical-align: middle;\n",
       "    }\n",
       "\n",
       "    .dataframe tbody tr th {\n",
       "        vertical-align: top;\n",
       "    }\n",
       "\n",
       "    .dataframe thead tr th {\n",
       "        text-align: left;\n",
       "    }\n",
       "\n",
       "    .dataframe thead tr:last-of-type th {\n",
       "        text-align: right;\n",
       "    }\n",
       "</style>\n",
       "<table border=\"1\" class=\"dataframe\">\n",
       "  <thead>\n",
       "    <tr>\n",
       "      <th></th>\n",
       "      <th colspan=\"2\" halign=\"left\">math</th>\n",
       "      <th colspan=\"2\" halign=\"left\">eng</th>\n",
       "    </tr>\n",
       "    <tr>\n",
       "      <th></th>\n",
       "      <th>最大值</th>\n",
       "      <th>最小值</th>\n",
       "      <th>最大值</th>\n",
       "      <th>最小值</th>\n",
       "    </tr>\n",
       "    <tr>\n",
       "      <th>sex</th>\n",
       "      <th></th>\n",
       "      <th></th>\n",
       "      <th></th>\n",
       "      <th></th>\n",
       "    </tr>\n",
       "  </thead>\n",
       "  <tbody>\n",
       "    <tr>\n",
       "      <th>Female</th>\n",
       "      <td>91</td>\n",
       "      <td>77</td>\n",
       "      <td>93</td>\n",
       "      <td>69</td>\n",
       "    </tr>\n",
       "    <tr>\n",
       "      <th>Male</th>\n",
       "      <td>91</td>\n",
       "      <td>69</td>\n",
       "      <td>90</td>\n",
       "      <td>69</td>\n",
       "    </tr>\n",
       "  </tbody>\n",
       "</table>\n",
       "</div>"
      ],
      "text/plain": [
       "       math     eng    \n",
       "        最大值 最小值 最大值 最小值\n",
       "sex                    \n",
       "Female   91  77  93  69\n",
       "Male     91  69  90  69"
      ]
     },
     "execution_count": 116,
     "metadata": {},
     "output_type": "execute_result"
    }
   ],
   "source": [
    "grouped[['math','eng']].agg([('最大值', np.max),('最小值',np.min)])"
   ]
  },
  {
   "cell_type": "markdown",
   "id": "0ab19436-b7ee-4202-940e-31b66610630b",
   "metadata": {},
   "source": [
    "7.79 agg 方法和字典"
   ]
  },
  {
   "cell_type": "code",
   "execution_count": 117,
   "id": "31cd39ef-5b28-4b96-a59c-23ff04ef44e7",
   "metadata": {},
   "outputs": [
    {
     "name": "stderr",
     "output_type": "stream",
     "text": [
      "C:\\Users\\liye\\AppData\\Local\\Temp\\ipykernel_4340\\2520592240.py:1: FutureWarning: The provided callable <function mean at 0x000001B023ABAE80> is currently using SeriesGroupBy.mean. In a future version of pandas, the provided callable will be used directly. To keep current behavior pass the string \"mean\" instead.\n",
      "  grouped.agg({'math':np.mean,\n",
      "C:\\Users\\liye\\AppData\\Local\\Temp\\ipykernel_4340\\2520592240.py:1: FutureWarning: The provided callable <function max at 0x000001B023ABA480> is currently using SeriesGroupBy.max. In a future version of pandas, the provided callable will be used directly. To keep current behavior pass the string \"max\" instead.\n",
      "  grouped.agg({'math':np.mean,\n",
      "C:\\Users\\liye\\AppData\\Local\\Temp\\ipykernel_4340\\2520592240.py:1: FutureWarning: The provided callable <function min at 0x000001B023ABA5C0> is currently using SeriesGroupBy.min. In a future version of pandas, the provided callable will be used directly. To keep current behavior pass the string \"min\" instead.\n",
      "  grouped.agg({'math':np.mean,\n"
     ]
    },
    {
     "data": {
      "text/html": [
       "<div>\n",
       "<style scoped>\n",
       "    .dataframe tbody tr th:only-of-type {\n",
       "        vertical-align: middle;\n",
       "    }\n",
       "\n",
       "    .dataframe tbody tr th {\n",
       "        vertical-align: top;\n",
       "    }\n",
       "\n",
       "    .dataframe thead th {\n",
       "        text-align: right;\n",
       "    }\n",
       "</style>\n",
       "<table border=\"1\" class=\"dataframe\">\n",
       "  <thead>\n",
       "    <tr style=\"text-align: right;\">\n",
       "      <th></th>\n",
       "      <th>math</th>\n",
       "      <th>eng</th>\n",
       "      <th>scie</th>\n",
       "    </tr>\n",
       "    <tr>\n",
       "      <th>sex</th>\n",
       "      <th></th>\n",
       "      <th></th>\n",
       "      <th></th>\n",
       "    </tr>\n",
       "  </thead>\n",
       "  <tbody>\n",
       "    <tr>\n",
       "      <th>Female</th>\n",
       "      <td>83.25</td>\n",
       "      <td>93</td>\n",
       "      <td>80</td>\n",
       "    </tr>\n",
       "    <tr>\n",
       "      <th>Male</th>\n",
       "      <td>80.00</td>\n",
       "      <td>90</td>\n",
       "      <td>72</td>\n",
       "    </tr>\n",
       "  </tbody>\n",
       "</table>\n",
       "</div>"
      ],
      "text/plain": [
       "         math  eng  scie\n",
       "sex                     \n",
       "Female  83.25   93    80\n",
       "Male    80.00   90    72"
      ]
     },
     "execution_count": 117,
     "metadata": {},
     "output_type": "execute_result"
    }
   ],
   "source": [
    "grouped.agg({'math':np.mean,\n",
    "             'eng':np.max,\n",
    "             'scie':np.min})"
   ]
  },
  {
   "cell_type": "markdown",
   "id": "46b09e97-46cb-4b1d-abec-7a0dfec32d57",
   "metadata": {},
   "source": [
    "7.80 agg 方法和用户自定义函数"
   ]
  },
  {
   "cell_type": "code",
   "execution_count": 118,
   "id": "7a399b6c-35d4-4abd-9149-1759d0be4968",
   "metadata": {},
   "outputs": [],
   "source": [
    "def max_min(g):\n",
    "    return g.max() - g.min()"
   ]
  },
  {
   "cell_type": "code",
   "execution_count": 119,
   "id": "97328124-10fa-4ac5-8b24-957350f1b28d",
   "metadata": {},
   "outputs": [
    {
     "data": {
      "text/html": [
       "<div>\n",
       "<style scoped>\n",
       "    .dataframe tbody tr th:only-of-type {\n",
       "        vertical-align: middle;\n",
       "    }\n",
       "\n",
       "    .dataframe tbody tr th {\n",
       "        vertical-align: top;\n",
       "    }\n",
       "\n",
       "    .dataframe thead th {\n",
       "        text-align: right;\n",
       "    }\n",
       "</style>\n",
       "<table border=\"1\" class=\"dataframe\">\n",
       "  <thead>\n",
       "    <tr style=\"text-align: right;\">\n",
       "      <th></th>\n",
       "      <th>math</th>\n",
       "      <th>eng</th>\n",
       "      <th>scie</th>\n",
       "    </tr>\n",
       "    <tr>\n",
       "      <th>sex</th>\n",
       "      <th></th>\n",
       "      <th></th>\n",
       "      <th></th>\n",
       "    </tr>\n",
       "  </thead>\n",
       "  <tbody>\n",
       "    <tr>\n",
       "      <th>Female</th>\n",
       "      <td>14</td>\n",
       "      <td>24</td>\n",
       "      <td>14</td>\n",
       "    </tr>\n",
       "    <tr>\n",
       "      <th>Male</th>\n",
       "      <td>22</td>\n",
       "      <td>21</td>\n",
       "      <td>19</td>\n",
       "    </tr>\n",
       "  </tbody>\n",
       "</table>\n",
       "</div>"
      ],
      "text/plain": [
       "        math  eng  scie\n",
       "sex                    \n",
       "Female    14   24    14\n",
       "Male      22   21    19"
      ]
     },
     "execution_count": 119,
     "metadata": {},
     "output_type": "execute_result"
    }
   ],
   "source": [
    "grouped[[\"math\",\"eng\",\"scie\"]].agg(max_min)"
   ]
  },
  {
   "cell_type": "markdown",
   "id": "ad0573a9-448d-45ed-9ef0-11b87141f3fd",
   "metadata": {},
   "source": [
    "7.81 agg 方法和多个分组键"
   ]
  },
  {
   "cell_type": "code",
   "execution_count": 120,
   "id": "30619d53-0356-41a7-9d7b-53fa745279ea",
   "metadata": {},
   "outputs": [
    {
     "data": {
      "text/html": [
       "<div>\n",
       "<style scoped>\n",
       "    .dataframe tbody tr th:only-of-type {\n",
       "        vertical-align: middle;\n",
       "    }\n",
       "\n",
       "    .dataframe tbody tr th {\n",
       "        vertical-align: top;\n",
       "    }\n",
       "\n",
       "    .dataframe thead th {\n",
       "        text-align: right;\n",
       "    }\n",
       "</style>\n",
       "<table border=\"1\" class=\"dataframe\">\n",
       "  <thead>\n",
       "    <tr style=\"text-align: right;\">\n",
       "      <th></th>\n",
       "      <th></th>\n",
       "      <th>mean</th>\n",
       "      <th>sum</th>\n",
       "    </tr>\n",
       "    <tr>\n",
       "      <th>sex</th>\n",
       "      <th>club</th>\n",
       "      <th></th>\n",
       "      <th></th>\n",
       "    </tr>\n",
       "  </thead>\n",
       "  <tbody>\n",
       "    <tr>\n",
       "      <th rowspan=\"2\" valign=\"top\">Female</th>\n",
       "      <th>tennis</th>\n",
       "      <td>82.5</td>\n",
       "      <td>165</td>\n",
       "    </tr>\n",
       "    <tr>\n",
       "      <th>volleyball</th>\n",
       "      <td>84.0</td>\n",
       "      <td>168</td>\n",
       "    </tr>\n",
       "    <tr>\n",
       "      <th rowspan=\"3\" valign=\"top\">Male</th>\n",
       "      <th>baseball</th>\n",
       "      <td>79.5</td>\n",
       "      <td>159</td>\n",
       "    </tr>\n",
       "    <tr>\n",
       "      <th>soccer</th>\n",
       "      <td>86.0</td>\n",
       "      <td>172</td>\n",
       "    </tr>\n",
       "    <tr>\n",
       "      <th>tennis</th>\n",
       "      <td>69.0</td>\n",
       "      <td>69</td>\n",
       "    </tr>\n",
       "  </tbody>\n",
       "</table>\n",
       "</div>"
      ],
      "text/plain": [
       "                   mean  sum\n",
       "sex    club                 \n",
       "Female tennis      82.5  165\n",
       "       volleyball  84.0  168\n",
       "Male   baseball    79.5  159\n",
       "       soccer      86.0  172\n",
       "       tennis      69.0   69"
      ]
     },
     "execution_count": 120,
     "metadata": {},
     "output_type": "execute_result"
    }
   ],
   "source": [
    "df.groupby(['sex','club'])['math'].agg(['mean','sum'])"
   ]
  },
  {
   "cell_type": "markdown",
   "id": "bc7f96e1-4c68-4546-8f82-c59629c07d84",
   "metadata": {},
   "source": [
    "### 7.3.3 transform方法"
   ]
  },
  {
   "cell_type": "markdown",
   "id": "37013ae4-fee5-44c2-ac83-2e2d27970879",
   "metadata": {},
   "source": [
    "7.82 ex16.csv 文件的读取"
   ]
  },
  {
   "cell_type": "code",
   "execution_count": 121,
   "id": "6da79262-9ba3-4046-b614-26e6cb369d7f",
   "metadata": {},
   "outputs": [
    {
     "data": {
      "text/html": [
       "<div>\n",
       "<style scoped>\n",
       "    .dataframe tbody tr th:only-of-type {\n",
       "        vertical-align: middle;\n",
       "    }\n",
       "\n",
       "    .dataframe tbody tr th {\n",
       "        vertical-align: top;\n",
       "    }\n",
       "\n",
       "    .dataframe thead th {\n",
       "        text-align: right;\n",
       "    }\n",
       "</style>\n",
       "<table border=\"1\" class=\"dataframe\">\n",
       "  <thead>\n",
       "    <tr style=\"text-align: right;\">\n",
       "      <th></th>\n",
       "      <th>name</th>\n",
       "      <th>category</th>\n",
       "      <th>sales</th>\n",
       "    </tr>\n",
       "  </thead>\n",
       "  <tbody>\n",
       "    <tr>\n",
       "      <th>0</th>\n",
       "      <td>A</td>\n",
       "      <td>Ramen</td>\n",
       "      <td>120000</td>\n",
       "    </tr>\n",
       "    <tr>\n",
       "      <th>1</th>\n",
       "      <td>B</td>\n",
       "      <td>Chinese</td>\n",
       "      <td>100000</td>\n",
       "    </tr>\n",
       "    <tr>\n",
       "      <th>2</th>\n",
       "      <td>C</td>\n",
       "      <td>Chinese</td>\n",
       "      <td>320000</td>\n",
       "    </tr>\n",
       "    <tr>\n",
       "      <th>3</th>\n",
       "      <td>D</td>\n",
       "      <td>Sushi</td>\n",
       "      <td>120000</td>\n",
       "    </tr>\n",
       "    <tr>\n",
       "      <th>4</th>\n",
       "      <td>E</td>\n",
       "      <td>Sushi</td>\n",
       "      <td>290000</td>\n",
       "    </tr>\n",
       "    <tr>\n",
       "      <th>5</th>\n",
       "      <td>F</td>\n",
       "      <td>Ramen</td>\n",
       "      <td>80000</td>\n",
       "    </tr>\n",
       "    <tr>\n",
       "      <th>6</th>\n",
       "      <td>G</td>\n",
       "      <td>Sushi</td>\n",
       "      <td>610000</td>\n",
       "    </tr>\n",
       "  </tbody>\n",
       "</table>\n",
       "</div>"
      ],
      "text/plain": [
       "  name category   sales\n",
       "0    A    Ramen  120000\n",
       "1    B  Chinese  100000\n",
       "2    C  Chinese  320000\n",
       "3    D    Sushi  120000\n",
       "4    E    Sushi  290000\n",
       "5    F    Ramen   80000\n",
       "6    G    Sushi  610000"
      ]
     },
     "execution_count": 121,
     "metadata": {},
     "output_type": "execute_result"
    }
   ],
   "source": [
    "df = pd.read_csv('./data/ex16.csv')\n",
    "df"
   ]
  },
  {
   "cell_type": "markdown",
   "id": "d29483aa-02ef-4460-96c6-fed3398ad92a",
   "metadata": {},
   "source": [
    "7.83 agg 方法和匿名函数"
   ]
  },
  {
   "cell_type": "code",
   "execution_count": 122,
   "id": "4f46481c-56dc-46c1-9406-7f329331cd2d",
   "metadata": {},
   "outputs": [
    {
     "data": {
      "text/plain": [
       "category\n",
       "Chinese    210000.0\n",
       "Ramen      100000.0\n",
       "Sushi      340000.0\n",
       "Name: sales, dtype: float64"
      ]
     },
     "execution_count": 122,
     "metadata": {},
     "output_type": "execute_result"
    }
   ],
   "source": [
    "grouped = df.groupby('category')\n",
    "grouped['sales'].agg(lambda x: x.mean())"
   ]
  },
  {
   "cell_type": "markdown",
   "id": "9962ad9b-8150-4f88-8d03-b064f50b7c2c",
   "metadata": {},
   "source": [
    "7.84 GroupBy 对象和 transform 方法"
   ]
  },
  {
   "cell_type": "code",
   "execution_count": 123,
   "id": "4a19aaeb-5a79-49c7-ba02-1cd97ef9afc2",
   "metadata": {},
   "outputs": [
    {
     "data": {
      "text/plain": [
       "0    100000.0\n",
       "1    210000.0\n",
       "2    210000.0\n",
       "3    340000.0\n",
       "4    340000.0\n",
       "5    100000.0\n",
       "6    340000.0\n",
       "Name: sales, dtype: float64"
      ]
     },
     "execution_count": 123,
     "metadata": {},
     "output_type": "execute_result"
    }
   ],
   "source": [
    "grouped['sales'].transform(lambda x: x.mean())"
   ]
  },
  {
   "cell_type": "markdown",
   "id": "15999daf-9dd3-4860-94fd-1beae07d8313",
   "metadata": {},
   "source": [
    "7.86 指定的函数与原始 DataFrame 对象大小相同时"
   ]
  },
  {
   "cell_type": "code",
   "execution_count": 124,
   "id": "19eaba77-7581-4d0e-9441-0b6add385050",
   "metadata": {},
   "outputs": [
    {
     "data": {
      "text/html": [
       "<div>\n",
       "<style scoped>\n",
       "    .dataframe tbody tr th:only-of-type {\n",
       "        vertical-align: middle;\n",
       "    }\n",
       "\n",
       "    .dataframe tbody tr th {\n",
       "        vertical-align: top;\n",
       "    }\n",
       "\n",
       "    .dataframe thead th {\n",
       "        text-align: right;\n",
       "    }\n",
       "</style>\n",
       "<table border=\"1\" class=\"dataframe\">\n",
       "  <thead>\n",
       "    <tr style=\"text-align: right;\">\n",
       "      <th></th>\n",
       "      <th>name</th>\n",
       "      <th>category</th>\n",
       "      <th>sales</th>\n",
       "    </tr>\n",
       "  </thead>\n",
       "  <tbody>\n",
       "    <tr>\n",
       "      <th>0</th>\n",
       "      <td>A</td>\n",
       "      <td>Ramen</td>\n",
       "      <td>120000</td>\n",
       "    </tr>\n",
       "    <tr>\n",
       "      <th>1</th>\n",
       "      <td>B</td>\n",
       "      <td>Chinese</td>\n",
       "      <td>100000</td>\n",
       "    </tr>\n",
       "    <tr>\n",
       "      <th>2</th>\n",
       "      <td>C</td>\n",
       "      <td>Chinese</td>\n",
       "      <td>320000</td>\n",
       "    </tr>\n",
       "    <tr>\n",
       "      <th>3</th>\n",
       "      <td>D</td>\n",
       "      <td>Sushi</td>\n",
       "      <td>120000</td>\n",
       "    </tr>\n",
       "    <tr>\n",
       "      <th>4</th>\n",
       "      <td>E</td>\n",
       "      <td>Sushi</td>\n",
       "      <td>290000</td>\n",
       "    </tr>\n",
       "    <tr>\n",
       "      <th>5</th>\n",
       "      <td>F</td>\n",
       "      <td>Ramen</td>\n",
       "      <td>80000</td>\n",
       "    </tr>\n",
       "    <tr>\n",
       "      <th>6</th>\n",
       "      <td>G</td>\n",
       "      <td>Sushi</td>\n",
       "      <td>610000</td>\n",
       "    </tr>\n",
       "  </tbody>\n",
       "</table>\n",
       "</div>"
      ],
      "text/plain": [
       "  name category   sales\n",
       "0    A    Ramen  120000\n",
       "1    B  Chinese  100000\n",
       "2    C  Chinese  320000\n",
       "3    D    Sushi  120000\n",
       "4    E    Sushi  290000\n",
       "5    F    Ramen   80000\n",
       "6    G    Sushi  610000"
      ]
     },
     "execution_count": 124,
     "metadata": {},
     "output_type": "execute_result"
    }
   ],
   "source": [
    "df2 = df.copy()\n",
    "df2"
   ]
  },
  {
   "cell_type": "code",
   "execution_count": 125,
   "id": "3533c175-be4e-4215-8bf5-7a38a228e7b5",
   "metadata": {},
   "outputs": [
    {
     "data": {
      "text/html": [
       "<div>\n",
       "<style scoped>\n",
       "    .dataframe tbody tr th:only-of-type {\n",
       "        vertical-align: middle;\n",
       "    }\n",
       "\n",
       "    .dataframe tbody tr th {\n",
       "        vertical-align: top;\n",
       "    }\n",
       "\n",
       "    .dataframe thead th {\n",
       "        text-align: right;\n",
       "    }\n",
       "</style>\n",
       "<table border=\"1\" class=\"dataframe\">\n",
       "  <thead>\n",
       "    <tr style=\"text-align: right;\">\n",
       "      <th></th>\n",
       "      <th>name</th>\n",
       "      <th>category</th>\n",
       "      <th>sales</th>\n",
       "      <th>不同分类的平均</th>\n",
       "    </tr>\n",
       "  </thead>\n",
       "  <tbody>\n",
       "    <tr>\n",
       "      <th>0</th>\n",
       "      <td>A</td>\n",
       "      <td>Ramen</td>\n",
       "      <td>120000</td>\n",
       "      <td>100000.0</td>\n",
       "    </tr>\n",
       "    <tr>\n",
       "      <th>1</th>\n",
       "      <td>B</td>\n",
       "      <td>Chinese</td>\n",
       "      <td>100000</td>\n",
       "      <td>210000.0</td>\n",
       "    </tr>\n",
       "    <tr>\n",
       "      <th>2</th>\n",
       "      <td>C</td>\n",
       "      <td>Chinese</td>\n",
       "      <td>320000</td>\n",
       "      <td>210000.0</td>\n",
       "    </tr>\n",
       "    <tr>\n",
       "      <th>3</th>\n",
       "      <td>D</td>\n",
       "      <td>Sushi</td>\n",
       "      <td>120000</td>\n",
       "      <td>340000.0</td>\n",
       "    </tr>\n",
       "    <tr>\n",
       "      <th>4</th>\n",
       "      <td>E</td>\n",
       "      <td>Sushi</td>\n",
       "      <td>290000</td>\n",
       "      <td>340000.0</td>\n",
       "    </tr>\n",
       "    <tr>\n",
       "      <th>5</th>\n",
       "      <td>F</td>\n",
       "      <td>Ramen</td>\n",
       "      <td>80000</td>\n",
       "      <td>100000.0</td>\n",
       "    </tr>\n",
       "    <tr>\n",
       "      <th>6</th>\n",
       "      <td>G</td>\n",
       "      <td>Sushi</td>\n",
       "      <td>610000</td>\n",
       "      <td>340000.0</td>\n",
       "    </tr>\n",
       "  </tbody>\n",
       "</table>\n",
       "</div>"
      ],
      "text/plain": [
       "  name category   sales   不同分类的平均\n",
       "0    A    Ramen  120000  100000.0\n",
       "1    B  Chinese  100000  210000.0\n",
       "2    C  Chinese  320000  210000.0\n",
       "3    D    Sushi  120000  340000.0\n",
       "4    E    Sushi  290000  340000.0\n",
       "5    F    Ramen   80000  100000.0\n",
       "6    G    Sushi  610000  340000.0"
      ]
     },
     "execution_count": 125,
     "metadata": {},
     "output_type": "execute_result"
    }
   ],
   "source": [
    "df2['不同分类的平均'] = grouped[\"sales\"].transform(lambda x: x.mean())\n",
    "df2"
   ]
  },
  {
   "cell_type": "markdown",
   "id": "a13416cf-af66-4845-b6f2-642b2ff6743e",
   "metadata": {},
   "source": [
    "7.86 指定的函数与原始 DataFrame 对象大小相同时"
   ]
  },
  {
   "cell_type": "code",
   "execution_count": 126,
   "id": "aa6bf4f6-b750-4364-9349-6072c1cf8315",
   "metadata": {},
   "outputs": [
    {
     "data": {
      "text/html": [
       "<div>\n",
       "<style scoped>\n",
       "    .dataframe tbody tr th:only-of-type {\n",
       "        vertical-align: middle;\n",
       "    }\n",
       "\n",
       "    .dataframe tbody tr th {\n",
       "        vertical-align: top;\n",
       "    }\n",
       "\n",
       "    .dataframe thead th {\n",
       "        text-align: right;\n",
       "    }\n",
       "</style>\n",
       "<table border=\"1\" class=\"dataframe\">\n",
       "  <thead>\n",
       "    <tr style=\"text-align: right;\">\n",
       "      <th></th>\n",
       "      <th>name</th>\n",
       "      <th>category</th>\n",
       "      <th>sales</th>\n",
       "      <th>不同分类的平均</th>\n",
       "      <th>万</th>\n",
       "    </tr>\n",
       "  </thead>\n",
       "  <tbody>\n",
       "    <tr>\n",
       "      <th>0</th>\n",
       "      <td>A</td>\n",
       "      <td>Ramen</td>\n",
       "      <td>120000</td>\n",
       "      <td>100000.0</td>\n",
       "      <td>12.0</td>\n",
       "    </tr>\n",
       "    <tr>\n",
       "      <th>1</th>\n",
       "      <td>B</td>\n",
       "      <td>Chinese</td>\n",
       "      <td>100000</td>\n",
       "      <td>210000.0</td>\n",
       "      <td>10.0</td>\n",
       "    </tr>\n",
       "    <tr>\n",
       "      <th>2</th>\n",
       "      <td>C</td>\n",
       "      <td>Chinese</td>\n",
       "      <td>320000</td>\n",
       "      <td>210000.0</td>\n",
       "      <td>32.0</td>\n",
       "    </tr>\n",
       "    <tr>\n",
       "      <th>3</th>\n",
       "      <td>D</td>\n",
       "      <td>Sushi</td>\n",
       "      <td>120000</td>\n",
       "      <td>340000.0</td>\n",
       "      <td>12.0</td>\n",
       "    </tr>\n",
       "    <tr>\n",
       "      <th>4</th>\n",
       "      <td>E</td>\n",
       "      <td>Sushi</td>\n",
       "      <td>290000</td>\n",
       "      <td>340000.0</td>\n",
       "      <td>29.0</td>\n",
       "    </tr>\n",
       "    <tr>\n",
       "      <th>5</th>\n",
       "      <td>F</td>\n",
       "      <td>Ramen</td>\n",
       "      <td>80000</td>\n",
       "      <td>100000.0</td>\n",
       "      <td>8.0</td>\n",
       "    </tr>\n",
       "    <tr>\n",
       "      <th>6</th>\n",
       "      <td>G</td>\n",
       "      <td>Sushi</td>\n",
       "      <td>610000</td>\n",
       "      <td>340000.0</td>\n",
       "      <td>61.0</td>\n",
       "    </tr>\n",
       "  </tbody>\n",
       "</table>\n",
       "</div>"
      ],
      "text/plain": [
       "  name category   sales   不同分类的平均     万\n",
       "0    A    Ramen  120000  100000.0  12.0\n",
       "1    B  Chinese  100000  210000.0  10.0\n",
       "2    C  Chinese  320000  210000.0  32.0\n",
       "3    D    Sushi  120000  340000.0  12.0\n",
       "4    E    Sushi  290000  340000.0  29.0\n",
       "5    F    Ramen   80000  100000.0   8.0\n",
       "6    G    Sushi  610000  340000.0  61.0"
      ]
     },
     "execution_count": 126,
     "metadata": {},
     "output_type": "execute_result"
    }
   ],
   "source": [
    "df2['万'] = grouped[\"sales\"].transform(lambda x: x / 10000)\n",
    "df2"
   ]
  },
  {
   "cell_type": "markdown",
   "id": "c0576990-8e11-4efb-95b8-3ea47f7d9da4",
   "metadata": {},
   "source": [
    "7.87 GroupBy 对象和 sum 方法"
   ]
  },
  {
   "cell_type": "code",
   "execution_count": 127,
   "id": "d943788d-ec96-4096-af2f-8a0683247840",
   "metadata": {},
   "outputs": [
    {
     "data": {
      "text/html": [
       "<div>\n",
       "<style scoped>\n",
       "    .dataframe tbody tr th:only-of-type {\n",
       "        vertical-align: middle;\n",
       "    }\n",
       "\n",
       "    .dataframe tbody tr th {\n",
       "        vertical-align: top;\n",
       "    }\n",
       "\n",
       "    .dataframe thead th {\n",
       "        text-align: right;\n",
       "    }\n",
       "</style>\n",
       "<table border=\"1\" class=\"dataframe\">\n",
       "  <thead>\n",
       "    <tr style=\"text-align: right;\">\n",
       "      <th></th>\n",
       "      <th>name</th>\n",
       "      <th>category</th>\n",
       "      <th>sales</th>\n",
       "    </tr>\n",
       "  </thead>\n",
       "  <tbody>\n",
       "    <tr>\n",
       "      <th>0</th>\n",
       "      <td>A</td>\n",
       "      <td>Ramen</td>\n",
       "      <td>120000</td>\n",
       "    </tr>\n",
       "    <tr>\n",
       "      <th>1</th>\n",
       "      <td>B</td>\n",
       "      <td>Chinese</td>\n",
       "      <td>100000</td>\n",
       "    </tr>\n",
       "    <tr>\n",
       "      <th>2</th>\n",
       "      <td>C</td>\n",
       "      <td>Chinese</td>\n",
       "      <td>320000</td>\n",
       "    </tr>\n",
       "    <tr>\n",
       "      <th>3</th>\n",
       "      <td>D</td>\n",
       "      <td>Sushi</td>\n",
       "      <td>120000</td>\n",
       "    </tr>\n",
       "    <tr>\n",
       "      <th>4</th>\n",
       "      <td>E</td>\n",
       "      <td>Sushi</td>\n",
       "      <td>290000</td>\n",
       "    </tr>\n",
       "    <tr>\n",
       "      <th>5</th>\n",
       "      <td>F</td>\n",
       "      <td>Ramen</td>\n",
       "      <td>80000</td>\n",
       "    </tr>\n",
       "    <tr>\n",
       "      <th>6</th>\n",
       "      <td>G</td>\n",
       "      <td>Sushi</td>\n",
       "      <td>610000</td>\n",
       "    </tr>\n",
       "  </tbody>\n",
       "</table>\n",
       "</div>"
      ],
      "text/plain": [
       "  name category   sales\n",
       "0    A    Ramen  120000\n",
       "1    B  Chinese  100000\n",
       "2    C  Chinese  320000\n",
       "3    D    Sushi  120000\n",
       "4    E    Sushi  290000\n",
       "5    F    Ramen   80000\n",
       "6    G    Sushi  610000"
      ]
     },
     "execution_count": 127,
     "metadata": {},
     "output_type": "execute_result"
    }
   ],
   "source": [
    "df"
   ]
  },
  {
   "cell_type": "code",
   "execution_count": 128,
   "id": "41b4a7ed-62f0-47f9-b342-86e296357793",
   "metadata": {},
   "outputs": [
    {
     "data": {
      "text/html": [
       "<div>\n",
       "<style scoped>\n",
       "    .dataframe tbody tr th:only-of-type {\n",
       "        vertical-align: middle;\n",
       "    }\n",
       "\n",
       "    .dataframe tbody tr th {\n",
       "        vertical-align: top;\n",
       "    }\n",
       "\n",
       "    .dataframe thead th {\n",
       "        text-align: right;\n",
       "    }\n",
       "</style>\n",
       "<table border=\"1\" class=\"dataframe\">\n",
       "  <thead>\n",
       "    <tr style=\"text-align: right;\">\n",
       "      <th></th>\n",
       "      <th>name_sum</th>\n",
       "      <th>sales_sum</th>\n",
       "    </tr>\n",
       "    <tr>\n",
       "      <th>category</th>\n",
       "      <th></th>\n",
       "      <th></th>\n",
       "    </tr>\n",
       "  </thead>\n",
       "  <tbody>\n",
       "    <tr>\n",
       "      <th>Chinese</th>\n",
       "      <td>BC</td>\n",
       "      <td>420000</td>\n",
       "    </tr>\n",
       "    <tr>\n",
       "      <th>Ramen</th>\n",
       "      <td>AF</td>\n",
       "      <td>200000</td>\n",
       "    </tr>\n",
       "    <tr>\n",
       "      <th>Sushi</th>\n",
       "      <td>DEG</td>\n",
       "      <td>1020000</td>\n",
       "    </tr>\n",
       "  </tbody>\n",
       "</table>\n",
       "</div>"
      ],
      "text/plain": [
       "         name_sum  sales_sum\n",
       "category                    \n",
       "Chinese        BC     420000\n",
       "Ramen          AF     200000\n",
       "Sushi         DEG    1020000"
      ]
     },
     "execution_count": 128,
     "metadata": {},
     "output_type": "execute_result"
    }
   ],
   "source": [
    "df2 = df.copy()\n",
    "cat_total = df2.groupby('category').sum()\n",
    "cat_total.columns = ['name_sum','sales_sum']\n",
    "cat_total"
   ]
  },
  {
   "cell_type": "markdown",
   "id": "af1f3261-a09a-41cd-9c69-cc0fdf0e6a4c",
   "metadata": {},
   "source": [
    "7.88 计算每个类别的销售额比率"
   ]
  },
  {
   "cell_type": "code",
   "execution_count": 129,
   "id": "089e803f-94c1-4376-9851-3cac94d03b06",
   "metadata": {},
   "outputs": [
    {
     "data": {
      "text/html": [
       "<div>\n",
       "<style scoped>\n",
       "    .dataframe tbody tr th:only-of-type {\n",
       "        vertical-align: middle;\n",
       "    }\n",
       "\n",
       "    .dataframe tbody tr th {\n",
       "        vertical-align: top;\n",
       "    }\n",
       "\n",
       "    .dataframe thead th {\n",
       "        text-align: right;\n",
       "    }\n",
       "</style>\n",
       "<table border=\"1\" class=\"dataframe\">\n",
       "  <thead>\n",
       "    <tr style=\"text-align: right;\">\n",
       "      <th></th>\n",
       "      <th>name</th>\n",
       "      <th>category</th>\n",
       "      <th>sales</th>\n",
       "      <th>name_sum</th>\n",
       "      <th>sales_sum</th>\n",
       "      <th>pct</th>\n",
       "    </tr>\n",
       "  </thead>\n",
       "  <tbody>\n",
       "    <tr>\n",
       "      <th>0</th>\n",
       "      <td>A</td>\n",
       "      <td>Ramen</td>\n",
       "      <td>120000</td>\n",
       "      <td>AF</td>\n",
       "      <td>200000</td>\n",
       "      <td>0.600000</td>\n",
       "    </tr>\n",
       "    <tr>\n",
       "      <th>5</th>\n",
       "      <td>F</td>\n",
       "      <td>Ramen</td>\n",
       "      <td>80000</td>\n",
       "      <td>AF</td>\n",
       "      <td>200000</td>\n",
       "      <td>0.400000</td>\n",
       "    </tr>\n",
       "    <tr>\n",
       "      <th>1</th>\n",
       "      <td>B</td>\n",
       "      <td>Chinese</td>\n",
       "      <td>100000</td>\n",
       "      <td>BC</td>\n",
       "      <td>420000</td>\n",
       "      <td>0.238095</td>\n",
       "    </tr>\n",
       "    <tr>\n",
       "      <th>2</th>\n",
       "      <td>C</td>\n",
       "      <td>Chinese</td>\n",
       "      <td>320000</td>\n",
       "      <td>BC</td>\n",
       "      <td>420000</td>\n",
       "      <td>0.761905</td>\n",
       "    </tr>\n",
       "    <tr>\n",
       "      <th>3</th>\n",
       "      <td>D</td>\n",
       "      <td>Sushi</td>\n",
       "      <td>120000</td>\n",
       "      <td>DEG</td>\n",
       "      <td>1020000</td>\n",
       "      <td>0.117647</td>\n",
       "    </tr>\n",
       "    <tr>\n",
       "      <th>4</th>\n",
       "      <td>E</td>\n",
       "      <td>Sushi</td>\n",
       "      <td>290000</td>\n",
       "      <td>DEG</td>\n",
       "      <td>1020000</td>\n",
       "      <td>0.284314</td>\n",
       "    </tr>\n",
       "    <tr>\n",
       "      <th>6</th>\n",
       "      <td>G</td>\n",
       "      <td>Sushi</td>\n",
       "      <td>610000</td>\n",
       "      <td>DEG</td>\n",
       "      <td>1020000</td>\n",
       "      <td>0.598039</td>\n",
       "    </tr>\n",
       "  </tbody>\n",
       "</table>\n",
       "</div>"
      ],
      "text/plain": [
       "  name category   sales name_sum  sales_sum       pct\n",
       "0    A    Ramen  120000       AF     200000  0.600000\n",
       "5    F    Ramen   80000       AF     200000  0.400000\n",
       "1    B  Chinese  100000       BC     420000  0.238095\n",
       "2    C  Chinese  320000       BC     420000  0.761905\n",
       "3    D    Sushi  120000      DEG    1020000  0.117647\n",
       "4    E    Sushi  290000      DEG    1020000  0.284314\n",
       "6    G    Sushi  610000      DEG    1020000  0.598039"
      ]
     },
     "execution_count": 129,
     "metadata": {},
     "output_type": "execute_result"
    }
   ],
   "source": [
    "df2 = df2.merge(cat_total, left_on='category', right_index=True)\n",
    "df2['pct'] = df2['sales'] / df2['sales_sum']\n",
    "df2"
   ]
  },
  {
   "cell_type": "markdown",
   "id": "8f4ea3bc-a662-4d23-a783-2e2797af6fb2",
   "metadata": {},
   "source": [
    "7.89 使用 transform 方法计算每个分类的销售额比率"
   ]
  },
  {
   "cell_type": "code",
   "execution_count": 130,
   "id": "6abd756e-2e11-4773-b779-c71abf54ea3c",
   "metadata": {},
   "outputs": [
    {
     "data": {
      "text/html": [
       "<div>\n",
       "<style scoped>\n",
       "    .dataframe tbody tr th:only-of-type {\n",
       "        vertical-align: middle;\n",
       "    }\n",
       "\n",
       "    .dataframe tbody tr th {\n",
       "        vertical-align: top;\n",
       "    }\n",
       "\n",
       "    .dataframe thead th {\n",
       "        text-align: right;\n",
       "    }\n",
       "</style>\n",
       "<table border=\"1\" class=\"dataframe\">\n",
       "  <thead>\n",
       "    <tr style=\"text-align: right;\">\n",
       "      <th></th>\n",
       "      <th>name</th>\n",
       "      <th>category</th>\n",
       "      <th>sales</th>\n",
       "      <th>pct</th>\n",
       "    </tr>\n",
       "  </thead>\n",
       "  <tbody>\n",
       "    <tr>\n",
       "      <th>0</th>\n",
       "      <td>A</td>\n",
       "      <td>Ramen</td>\n",
       "      <td>120000</td>\n",
       "      <td>0.600000</td>\n",
       "    </tr>\n",
       "    <tr>\n",
       "      <th>1</th>\n",
       "      <td>B</td>\n",
       "      <td>Chinese</td>\n",
       "      <td>100000</td>\n",
       "      <td>0.238095</td>\n",
       "    </tr>\n",
       "    <tr>\n",
       "      <th>2</th>\n",
       "      <td>C</td>\n",
       "      <td>Chinese</td>\n",
       "      <td>320000</td>\n",
       "      <td>0.761905</td>\n",
       "    </tr>\n",
       "    <tr>\n",
       "      <th>3</th>\n",
       "      <td>D</td>\n",
       "      <td>Sushi</td>\n",
       "      <td>120000</td>\n",
       "      <td>0.117647</td>\n",
       "    </tr>\n",
       "    <tr>\n",
       "      <th>4</th>\n",
       "      <td>E</td>\n",
       "      <td>Sushi</td>\n",
       "      <td>290000</td>\n",
       "      <td>0.284314</td>\n",
       "    </tr>\n",
       "    <tr>\n",
       "      <th>5</th>\n",
       "      <td>F</td>\n",
       "      <td>Ramen</td>\n",
       "      <td>80000</td>\n",
       "      <td>0.400000</td>\n",
       "    </tr>\n",
       "    <tr>\n",
       "      <th>6</th>\n",
       "      <td>G</td>\n",
       "      <td>Sushi</td>\n",
       "      <td>610000</td>\n",
       "      <td>0.598039</td>\n",
       "    </tr>\n",
       "  </tbody>\n",
       "</table>\n",
       "</div>"
      ],
      "text/plain": [
       "  name category   sales       pct\n",
       "0    A    Ramen  120000  0.600000\n",
       "1    B  Chinese  100000  0.238095\n",
       "2    C  Chinese  320000  0.761905\n",
       "3    D    Sushi  120000  0.117647\n",
       "4    E    Sushi  290000  0.284314\n",
       "5    F    Ramen   80000  0.400000\n",
       "6    G    Sushi  610000  0.598039"
      ]
     },
     "execution_count": 130,
     "metadata": {},
     "output_type": "execute_result"
    }
   ],
   "source": [
    "df['pct'] = grouped['sales'].transform(lambda x: x / x.sum())\n",
    "df"
   ]
  },
  {
   "cell_type": "markdown",
   "id": "18a73bb5-d9d8-47c2-be95-ff4bf51f345f",
   "metadata": {},
   "source": [
    "### 7.3.4 apply方法"
   ]
  },
  {
   "cell_type": "markdown",
   "id": "5256124c-f902-4a6b-bf86-5f5f11c3f177",
   "metadata": {},
   "source": [
    "7.90 ex15.csv 文件的读取"
   ]
  },
  {
   "cell_type": "code",
   "execution_count": 131,
   "id": "d6de7a84-69b5-415e-bcf9-1d6a0290276f",
   "metadata": {},
   "outputs": [
    {
     "data": {
      "text/html": [
       "<div>\n",
       "<style scoped>\n",
       "    .dataframe tbody tr th:only-of-type {\n",
       "        vertical-align: middle;\n",
       "    }\n",
       "\n",
       "    .dataframe tbody tr th {\n",
       "        vertical-align: top;\n",
       "    }\n",
       "\n",
       "    .dataframe thead th {\n",
       "        text-align: right;\n",
       "    }\n",
       "</style>\n",
       "<table border=\"1\" class=\"dataframe\">\n",
       "  <thead>\n",
       "    <tr style=\"text-align: right;\">\n",
       "      <th></th>\n",
       "      <th>name</th>\n",
       "      <th>sex</th>\n",
       "      <th>club</th>\n",
       "      <th>math</th>\n",
       "      <th>eng</th>\n",
       "      <th>scie</th>\n",
       "    </tr>\n",
       "  </thead>\n",
       "  <tbody>\n",
       "    <tr>\n",
       "      <th>0</th>\n",
       "      <td>A</td>\n",
       "      <td>Male</td>\n",
       "      <td>soccer</td>\n",
       "      <td>81</td>\n",
       "      <td>79</td>\n",
       "      <td>91</td>\n",
       "    </tr>\n",
       "    <tr>\n",
       "      <th>1</th>\n",
       "      <td>B</td>\n",
       "      <td>Male</td>\n",
       "      <td>soccer</td>\n",
       "      <td>91</td>\n",
       "      <td>90</td>\n",
       "      <td>89</td>\n",
       "    </tr>\n",
       "    <tr>\n",
       "      <th>2</th>\n",
       "      <td>C</td>\n",
       "      <td>Female</td>\n",
       "      <td>volleyball</td>\n",
       "      <td>77</td>\n",
       "      <td>69</td>\n",
       "      <td>94</td>\n",
       "    </tr>\n",
       "    <tr>\n",
       "      <th>3</th>\n",
       "      <td>D</td>\n",
       "      <td>Female</td>\n",
       "      <td>tennis</td>\n",
       "      <td>88</td>\n",
       "      <td>85</td>\n",
       "      <td>81</td>\n",
       "    </tr>\n",
       "    <tr>\n",
       "      <th>4</th>\n",
       "      <td>E</td>\n",
       "      <td>Male</td>\n",
       "      <td>baseball</td>\n",
       "      <td>71</td>\n",
       "      <td>69</td>\n",
       "      <td>82</td>\n",
       "    </tr>\n",
       "    <tr>\n",
       "      <th>5</th>\n",
       "      <td>F</td>\n",
       "      <td>Male</td>\n",
       "      <td>tennis</td>\n",
       "      <td>69</td>\n",
       "      <td>75</td>\n",
       "      <td>84</td>\n",
       "    </tr>\n",
       "    <tr>\n",
       "      <th>6</th>\n",
       "      <td>G</td>\n",
       "      <td>Female</td>\n",
       "      <td>volleyball</td>\n",
       "      <td>91</td>\n",
       "      <td>93</td>\n",
       "      <td>89</td>\n",
       "    </tr>\n",
       "    <tr>\n",
       "      <th>7</th>\n",
       "      <td>H</td>\n",
       "      <td>Female</td>\n",
       "      <td>tennis</td>\n",
       "      <td>77</td>\n",
       "      <td>86</td>\n",
       "      <td>80</td>\n",
       "    </tr>\n",
       "    <tr>\n",
       "      <th>8</th>\n",
       "      <td>I</td>\n",
       "      <td>Male</td>\n",
       "      <td>baseball</td>\n",
       "      <td>88</td>\n",
       "      <td>76</td>\n",
       "      <td>72</td>\n",
       "    </tr>\n",
       "  </tbody>\n",
       "</table>\n",
       "</div>"
      ],
      "text/plain": [
       "  name     sex        club  math  eng  scie\n",
       "0    A    Male      soccer    81   79    91\n",
       "1    B    Male      soccer    91   90    89\n",
       "2    C  Female  volleyball    77   69    94\n",
       "3    D  Female      tennis    88   85    81\n",
       "4    E    Male    baseball    71   69    82\n",
       "5    F    Male      tennis    69   75    84\n",
       "6    G  Female  volleyball    91   93    89\n",
       "7    H  Female      tennis    77   86    80\n",
       "8    I    Male    baseball    88   76    72"
      ]
     },
     "execution_count": 131,
     "metadata": {},
     "output_type": "execute_result"
    }
   ],
   "source": [
    "df = pd.read_csv('./data/ex15.csv')\n",
    "df"
   ]
  },
  {
   "cell_type": "markdown",
   "id": "559dc147-1ea9-4ee0-8eea-8b10c5dc8bcc",
   "metadata": {},
   "source": [
    "7.91 apply 方法和 mean 方法的比较"
   ]
  },
  {
   "cell_type": "code",
   "execution_count": 132,
   "id": "ebbc627f-010c-4dc2-a291-864c838cd722",
   "metadata": {},
   "outputs": [
    {
     "name": "stdout",
     "output_type": "stream",
     "text": [
      "320 µs ± 1.61 µs per loop (mean ± std. dev. of 7 runs, 1,000 loops each)\n",
      "177 µs ± 2.09 µs per loop (mean ± std. dev. of 7 runs, 10,000 loops each)\n"
     ]
    }
   ],
   "source": [
    "%timeit df.groupby('sex')[\"math\"].apply(lambda x: x.mean())\n",
    "%timeit df.groupby('sex')[\"math\"].mean()"
   ]
  },
  {
   "cell_type": "markdown",
   "id": "6f1a0461-583d-4761-8e05-8f1164be1bf9",
   "metadata": {},
   "source": [
    "7.92 计算偏差值的 ssc 函数的定义"
   ]
  },
  {
   "cell_type": "code",
   "execution_count": 133,
   "id": "7e9dd714-e8f0-46ef-8078-4d066e7d6df9",
   "metadata": {},
   "outputs": [],
   "source": [
    "def ssc(df, col=None):\n",
    "    temp = (df[col] - df[col].mean()) / df[col].std(ddof=0)\n",
    "    df['score'] = round(50 + 10 * temp)\n",
    "    df = df[['name','sex','club',col,'score']]\n",
    "    return df.sort_values(by='score', ascending=False)"
   ]
  },
  {
   "cell_type": "markdown",
   "id": "66c82d2f-9736-417f-ab91-9738985dd19c",
   "metadata": {},
   "source": [
    "7.93 计算列 math 的偏差值"
   ]
  },
  {
   "cell_type": "code",
   "execution_count": 134,
   "id": "3daf493f-5c6c-4589-b170-279a20c48da0",
   "metadata": {},
   "outputs": [
    {
     "data": {
      "text/html": [
       "<div>\n",
       "<style scoped>\n",
       "    .dataframe tbody tr th:only-of-type {\n",
       "        vertical-align: middle;\n",
       "    }\n",
       "\n",
       "    .dataframe tbody tr th {\n",
       "        vertical-align: top;\n",
       "    }\n",
       "\n",
       "    .dataframe thead th {\n",
       "        text-align: right;\n",
       "    }\n",
       "</style>\n",
       "<table border=\"1\" class=\"dataframe\">\n",
       "  <thead>\n",
       "    <tr style=\"text-align: right;\">\n",
       "      <th></th>\n",
       "      <th>name</th>\n",
       "      <th>sex</th>\n",
       "      <th>club</th>\n",
       "      <th>math</th>\n",
       "      <th>score</th>\n",
       "    </tr>\n",
       "  </thead>\n",
       "  <tbody>\n",
       "    <tr>\n",
       "      <th>1</th>\n",
       "      <td>B</td>\n",
       "      <td>Male</td>\n",
       "      <td>soccer</td>\n",
       "      <td>91</td>\n",
       "      <td>62.0</td>\n",
       "    </tr>\n",
       "    <tr>\n",
       "      <th>6</th>\n",
       "      <td>G</td>\n",
       "      <td>Female</td>\n",
       "      <td>volleyball</td>\n",
       "      <td>91</td>\n",
       "      <td>62.0</td>\n",
       "    </tr>\n",
       "    <tr>\n",
       "      <th>3</th>\n",
       "      <td>D</td>\n",
       "      <td>Female</td>\n",
       "      <td>tennis</td>\n",
       "      <td>88</td>\n",
       "      <td>58.0</td>\n",
       "    </tr>\n",
       "    <tr>\n",
       "      <th>8</th>\n",
       "      <td>I</td>\n",
       "      <td>Male</td>\n",
       "      <td>baseball</td>\n",
       "      <td>88</td>\n",
       "      <td>58.0</td>\n",
       "    </tr>\n",
       "    <tr>\n",
       "      <th>0</th>\n",
       "      <td>A</td>\n",
       "      <td>Male</td>\n",
       "      <td>soccer</td>\n",
       "      <td>81</td>\n",
       "      <td>49.0</td>\n",
       "    </tr>\n",
       "    <tr>\n",
       "      <th>2</th>\n",
       "      <td>C</td>\n",
       "      <td>Female</td>\n",
       "      <td>volleyball</td>\n",
       "      <td>77</td>\n",
       "      <td>44.0</td>\n",
       "    </tr>\n",
       "    <tr>\n",
       "      <th>7</th>\n",
       "      <td>H</td>\n",
       "      <td>Female</td>\n",
       "      <td>tennis</td>\n",
       "      <td>77</td>\n",
       "      <td>44.0</td>\n",
       "    </tr>\n",
       "    <tr>\n",
       "      <th>4</th>\n",
       "      <td>E</td>\n",
       "      <td>Male</td>\n",
       "      <td>baseball</td>\n",
       "      <td>71</td>\n",
       "      <td>37.0</td>\n",
       "    </tr>\n",
       "    <tr>\n",
       "      <th>5</th>\n",
       "      <td>F</td>\n",
       "      <td>Male</td>\n",
       "      <td>tennis</td>\n",
       "      <td>69</td>\n",
       "      <td>34.0</td>\n",
       "    </tr>\n",
       "  </tbody>\n",
       "</table>\n",
       "</div>"
      ],
      "text/plain": [
       "  name     sex        club  math  score\n",
       "1    B    Male      soccer    91   62.0\n",
       "6    G  Female  volleyball    91   62.0\n",
       "3    D  Female      tennis    88   58.0\n",
       "8    I    Male    baseball    88   58.0\n",
       "0    A    Male      soccer    81   49.0\n",
       "2    C  Female  volleyball    77   44.0\n",
       "7    H  Female      tennis    77   44.0\n",
       "4    E    Male    baseball    71   37.0\n",
       "5    F    Male      tennis    69   34.0"
      ]
     },
     "execution_count": 134,
     "metadata": {},
     "output_type": "execute_result"
    }
   ],
   "source": [
    "df2 = df.copy()\n",
    "ssc(df2, col='math')"
   ]
  },
  {
   "cell_type": "markdown",
   "id": "6f6e63ab-7623-4ac0-95b4-6341236dd5e3",
   "metadata": {},
   "source": [
    "7.94 GroupBy 对象和 apply 方法"
   ]
  },
  {
   "cell_type": "code",
   "execution_count": 135,
   "id": "1b1eb555-6cbf-4f53-9f48-d2bbcd112ec8",
   "metadata": {},
   "outputs": [
    {
     "data": {
      "text/html": [
       "<div>\n",
       "<style scoped>\n",
       "    .dataframe tbody tr th:only-of-type {\n",
       "        vertical-align: middle;\n",
       "    }\n",
       "\n",
       "    .dataframe tbody tr th {\n",
       "        vertical-align: top;\n",
       "    }\n",
       "\n",
       "    .dataframe thead th {\n",
       "        text-align: right;\n",
       "    }\n",
       "</style>\n",
       "<table border=\"1\" class=\"dataframe\">\n",
       "  <thead>\n",
       "    <tr style=\"text-align: right;\">\n",
       "      <th></th>\n",
       "      <th></th>\n",
       "      <th>name</th>\n",
       "      <th>sex</th>\n",
       "      <th>club</th>\n",
       "      <th>math</th>\n",
       "      <th>score</th>\n",
       "    </tr>\n",
       "    <tr>\n",
       "      <th>sex</th>\n",
       "      <th></th>\n",
       "      <th></th>\n",
       "      <th></th>\n",
       "      <th></th>\n",
       "      <th></th>\n",
       "      <th></th>\n",
       "    </tr>\n",
       "  </thead>\n",
       "  <tbody>\n",
       "    <tr>\n",
       "      <th rowspan=\"4\" valign=\"top\">Female</th>\n",
       "      <th>6</th>\n",
       "      <td>G</td>\n",
       "      <td>Female</td>\n",
       "      <td>volleyball</td>\n",
       "      <td>91</td>\n",
       "      <td>62.0</td>\n",
       "    </tr>\n",
       "    <tr>\n",
       "      <th>3</th>\n",
       "      <td>D</td>\n",
       "      <td>Female</td>\n",
       "      <td>tennis</td>\n",
       "      <td>88</td>\n",
       "      <td>57.0</td>\n",
       "    </tr>\n",
       "    <tr>\n",
       "      <th>2</th>\n",
       "      <td>C</td>\n",
       "      <td>Female</td>\n",
       "      <td>volleyball</td>\n",
       "      <td>77</td>\n",
       "      <td>40.0</td>\n",
       "    </tr>\n",
       "    <tr>\n",
       "      <th>7</th>\n",
       "      <td>H</td>\n",
       "      <td>Female</td>\n",
       "      <td>tennis</td>\n",
       "      <td>77</td>\n",
       "      <td>40.0</td>\n",
       "    </tr>\n",
       "    <tr>\n",
       "      <th rowspan=\"5\" valign=\"top\">Male</th>\n",
       "      <th>1</th>\n",
       "      <td>B</td>\n",
       "      <td>Male</td>\n",
       "      <td>soccer</td>\n",
       "      <td>91</td>\n",
       "      <td>62.0</td>\n",
       "    </tr>\n",
       "    <tr>\n",
       "      <th>8</th>\n",
       "      <td>I</td>\n",
       "      <td>Male</td>\n",
       "      <td>baseball</td>\n",
       "      <td>88</td>\n",
       "      <td>59.0</td>\n",
       "    </tr>\n",
       "    <tr>\n",
       "      <th>0</th>\n",
       "      <td>A</td>\n",
       "      <td>Male</td>\n",
       "      <td>soccer</td>\n",
       "      <td>81</td>\n",
       "      <td>51.0</td>\n",
       "    </tr>\n",
       "    <tr>\n",
       "      <th>4</th>\n",
       "      <td>E</td>\n",
       "      <td>Male</td>\n",
       "      <td>baseball</td>\n",
       "      <td>71</td>\n",
       "      <td>40.0</td>\n",
       "    </tr>\n",
       "    <tr>\n",
       "      <th>5</th>\n",
       "      <td>F</td>\n",
       "      <td>Male</td>\n",
       "      <td>tennis</td>\n",
       "      <td>69</td>\n",
       "      <td>38.0</td>\n",
       "    </tr>\n",
       "  </tbody>\n",
       "</table>\n",
       "</div>"
      ],
      "text/plain": [
       "         name     sex        club  math  score\n",
       "sex                                           \n",
       "Female 6    G  Female  volleyball    91   62.0\n",
       "       3    D  Female      tennis    88   57.0\n",
       "       2    C  Female  volleyball    77   40.0\n",
       "       7    H  Female      tennis    77   40.0\n",
       "Male   1    B    Male      soccer    91   62.0\n",
       "       8    I    Male    baseball    88   59.0\n",
       "       0    A    Male      soccer    81   51.0\n",
       "       4    E    Male    baseball    71   40.0\n",
       "       5    F    Male      tennis    69   38.0"
      ]
     },
     "execution_count": 135,
     "metadata": {},
     "output_type": "execute_result"
    }
   ],
   "source": [
    "df2 = df.copy()\n",
    "df2.groupby('sex').apply(ssc, col='math')"
   ]
  },
  {
   "cell_type": "markdown",
   "id": "329acfd9-7ec5-4f26-b486-ae939f74997b",
   "metadata": {},
   "source": [
    "7.95 GroupBy 对象的 apply 方法"
   ]
  },
  {
   "cell_type": "code",
   "execution_count": 136,
   "id": "48115d5d-ef47-413c-8ffa-5da46dbe6245",
   "metadata": {},
   "outputs": [
    {
     "data": {
      "text/html": [
       "<div>\n",
       "<style scoped>\n",
       "    .dataframe tbody tr th:only-of-type {\n",
       "        vertical-align: middle;\n",
       "    }\n",
       "\n",
       "    .dataframe tbody tr th {\n",
       "        vertical-align: top;\n",
       "    }\n",
       "\n",
       "    .dataframe thead th {\n",
       "        text-align: right;\n",
       "    }\n",
       "</style>\n",
       "<table border=\"1\" class=\"dataframe\">\n",
       "  <thead>\n",
       "    <tr style=\"text-align: right;\">\n",
       "      <th></th>\n",
       "      <th></th>\n",
       "      <th>name</th>\n",
       "      <th>sex</th>\n",
       "      <th>club</th>\n",
       "      <th>eng</th>\n",
       "      <th>score</th>\n",
       "    </tr>\n",
       "    <tr>\n",
       "      <th>club</th>\n",
       "      <th></th>\n",
       "      <th></th>\n",
       "      <th></th>\n",
       "      <th></th>\n",
       "      <th></th>\n",
       "      <th></th>\n",
       "    </tr>\n",
       "  </thead>\n",
       "  <tbody>\n",
       "    <tr>\n",
       "      <th rowspan=\"2\" valign=\"top\">baseball</th>\n",
       "      <th>8</th>\n",
       "      <td>I</td>\n",
       "      <td>Male</td>\n",
       "      <td>baseball</td>\n",
       "      <td>76</td>\n",
       "      <td>60.0</td>\n",
       "    </tr>\n",
       "    <tr>\n",
       "      <th>4</th>\n",
       "      <td>E</td>\n",
       "      <td>Male</td>\n",
       "      <td>baseball</td>\n",
       "      <td>69</td>\n",
       "      <td>40.0</td>\n",
       "    </tr>\n",
       "    <tr>\n",
       "      <th rowspan=\"2\" valign=\"top\">soccer</th>\n",
       "      <th>1</th>\n",
       "      <td>B</td>\n",
       "      <td>Male</td>\n",
       "      <td>soccer</td>\n",
       "      <td>90</td>\n",
       "      <td>60.0</td>\n",
       "    </tr>\n",
       "    <tr>\n",
       "      <th>0</th>\n",
       "      <td>A</td>\n",
       "      <td>Male</td>\n",
       "      <td>soccer</td>\n",
       "      <td>79</td>\n",
       "      <td>40.0</td>\n",
       "    </tr>\n",
       "    <tr>\n",
       "      <th rowspan=\"3\" valign=\"top\">tennis</th>\n",
       "      <th>7</th>\n",
       "      <td>H</td>\n",
       "      <td>Female</td>\n",
       "      <td>tennis</td>\n",
       "      <td>86</td>\n",
       "      <td>58.0</td>\n",
       "    </tr>\n",
       "    <tr>\n",
       "      <th>3</th>\n",
       "      <td>D</td>\n",
       "      <td>Female</td>\n",
       "      <td>tennis</td>\n",
       "      <td>85</td>\n",
       "      <td>56.0</td>\n",
       "    </tr>\n",
       "    <tr>\n",
       "      <th>5</th>\n",
       "      <td>F</td>\n",
       "      <td>Male</td>\n",
       "      <td>tennis</td>\n",
       "      <td>75</td>\n",
       "      <td>36.0</td>\n",
       "    </tr>\n",
       "    <tr>\n",
       "      <th rowspan=\"2\" valign=\"top\">volleyball</th>\n",
       "      <th>6</th>\n",
       "      <td>G</td>\n",
       "      <td>Female</td>\n",
       "      <td>volleyball</td>\n",
       "      <td>93</td>\n",
       "      <td>60.0</td>\n",
       "    </tr>\n",
       "    <tr>\n",
       "      <th>2</th>\n",
       "      <td>C</td>\n",
       "      <td>Female</td>\n",
       "      <td>volleyball</td>\n",
       "      <td>69</td>\n",
       "      <td>40.0</td>\n",
       "    </tr>\n",
       "  </tbody>\n",
       "</table>\n",
       "</div>"
      ],
      "text/plain": [
       "             name     sex        club  eng  score\n",
       "club                                             \n",
       "baseball   8    I    Male    baseball   76   60.0\n",
       "           4    E    Male    baseball   69   40.0\n",
       "soccer     1    B    Male      soccer   90   60.0\n",
       "           0    A    Male      soccer   79   40.0\n",
       "tennis     7    H  Female      tennis   86   58.0\n",
       "           3    D  Female      tennis   85   56.0\n",
       "           5    F    Male      tennis   75   36.0\n",
       "volleyball 6    G  Female  volleyball   93   60.0\n",
       "           2    C  Female  volleyball   69   40.0"
      ]
     },
     "execution_count": 136,
     "metadata": {},
     "output_type": "execute_result"
    }
   ],
   "source": [
    "df2 = df.copy()\n",
    "df2.groupby('club').apply(ssc, col='eng')"
   ]
  },
  {
   "cell_type": "markdown",
   "id": "03109e98-96a6-48ff-8249-c7b26937b6c6",
   "metadata": {},
   "source": [
    "7.96 在 DataFrame 对象中代入缺失值"
   ]
  },
  {
   "cell_type": "code",
   "execution_count": 137,
   "id": "3c5fbf30-51a0-4c32-88f5-f45d15ec9e22",
   "metadata": {},
   "outputs": [],
   "source": [
    "df2 = df.copy()\n",
    "df2.loc[3:5,'math'] = np.nan\n",
    "df2.loc[[0,6,8],'eng'] = np.nan\n",
    "df2.loc[[1,7],'scie'] = np.nan"
   ]
  },
  {
   "cell_type": "markdown",
   "id": "8eef10f2-1a90-43a7-a3b4-cc1f3a9e0303",
   "metadata": {},
   "source": [
    "7.97 mean 方法和 fillna 方法"
   ]
  },
  {
   "cell_type": "code",
   "execution_count": 138,
   "id": "a622efbe-7ba5-451e-b754-f360503d1ad2",
   "metadata": {},
   "outputs": [
    {
     "data": {
      "text/plain": [
       "math    84.0\n",
       "eng     79.0\n",
       "scie    85.0\n",
       "dtype: float64"
      ]
     },
     "execution_count": 138,
     "metadata": {},
     "output_type": "execute_result"
    }
   ],
   "source": [
    "mean = round(df2[[\"math\",\"eng\",\"scie\"]].mean())\n",
    "mean"
   ]
  },
  {
   "cell_type": "code",
   "execution_count": 139,
   "id": "6a45b459-8ae5-478c-b193-330f6e4cf466",
   "metadata": {},
   "outputs": [
    {
     "data": {
      "text/html": [
       "<div>\n",
       "<style scoped>\n",
       "    .dataframe tbody tr th:only-of-type {\n",
       "        vertical-align: middle;\n",
       "    }\n",
       "\n",
       "    .dataframe tbody tr th {\n",
       "        vertical-align: top;\n",
       "    }\n",
       "\n",
       "    .dataframe thead th {\n",
       "        text-align: right;\n",
       "    }\n",
       "</style>\n",
       "<table border=\"1\" class=\"dataframe\">\n",
       "  <thead>\n",
       "    <tr style=\"text-align: right;\">\n",
       "      <th></th>\n",
       "      <th>name</th>\n",
       "      <th>sex</th>\n",
       "      <th>club</th>\n",
       "      <th>math</th>\n",
       "      <th>eng</th>\n",
       "      <th>scie</th>\n",
       "    </tr>\n",
       "  </thead>\n",
       "  <tbody>\n",
       "    <tr>\n",
       "      <th>0</th>\n",
       "      <td>A</td>\n",
       "      <td>Male</td>\n",
       "      <td>soccer</td>\n",
       "      <td>81.0</td>\n",
       "      <td>NaN</td>\n",
       "      <td>91.0</td>\n",
       "    </tr>\n",
       "    <tr>\n",
       "      <th>1</th>\n",
       "      <td>B</td>\n",
       "      <td>Male</td>\n",
       "      <td>soccer</td>\n",
       "      <td>91.0</td>\n",
       "      <td>90.0</td>\n",
       "      <td>NaN</td>\n",
       "    </tr>\n",
       "    <tr>\n",
       "      <th>2</th>\n",
       "      <td>C</td>\n",
       "      <td>Female</td>\n",
       "      <td>volleyball</td>\n",
       "      <td>77.0</td>\n",
       "      <td>69.0</td>\n",
       "      <td>94.0</td>\n",
       "    </tr>\n",
       "    <tr>\n",
       "      <th>3</th>\n",
       "      <td>D</td>\n",
       "      <td>Female</td>\n",
       "      <td>tennis</td>\n",
       "      <td>NaN</td>\n",
       "      <td>85.0</td>\n",
       "      <td>81.0</td>\n",
       "    </tr>\n",
       "    <tr>\n",
       "      <th>4</th>\n",
       "      <td>E</td>\n",
       "      <td>Male</td>\n",
       "      <td>baseball</td>\n",
       "      <td>NaN</td>\n",
       "      <td>69.0</td>\n",
       "      <td>82.0</td>\n",
       "    </tr>\n",
       "    <tr>\n",
       "      <th>5</th>\n",
       "      <td>F</td>\n",
       "      <td>Male</td>\n",
       "      <td>tennis</td>\n",
       "      <td>NaN</td>\n",
       "      <td>75.0</td>\n",
       "      <td>84.0</td>\n",
       "    </tr>\n",
       "    <tr>\n",
       "      <th>6</th>\n",
       "      <td>G</td>\n",
       "      <td>Female</td>\n",
       "      <td>volleyball</td>\n",
       "      <td>91.0</td>\n",
       "      <td>NaN</td>\n",
       "      <td>89.0</td>\n",
       "    </tr>\n",
       "    <tr>\n",
       "      <th>7</th>\n",
       "      <td>H</td>\n",
       "      <td>Female</td>\n",
       "      <td>tennis</td>\n",
       "      <td>77.0</td>\n",
       "      <td>86.0</td>\n",
       "      <td>NaN</td>\n",
       "    </tr>\n",
       "    <tr>\n",
       "      <th>8</th>\n",
       "      <td>I</td>\n",
       "      <td>Male</td>\n",
       "      <td>baseball</td>\n",
       "      <td>88.0</td>\n",
       "      <td>NaN</td>\n",
       "      <td>72.0</td>\n",
       "    </tr>\n",
       "  </tbody>\n",
       "</table>\n",
       "</div>"
      ],
      "text/plain": [
       "  name     sex        club  math   eng  scie\n",
       "0    A    Male      soccer  81.0   NaN  91.0\n",
       "1    B    Male      soccer  91.0  90.0   NaN\n",
       "2    C  Female  volleyball  77.0  69.0  94.0\n",
       "3    D  Female      tennis   NaN  85.0  81.0\n",
       "4    E    Male    baseball   NaN  69.0  82.0\n",
       "5    F    Male      tennis   NaN  75.0  84.0\n",
       "6    G  Female  volleyball  91.0   NaN  89.0\n",
       "7    H  Female      tennis  77.0  86.0   NaN\n",
       "8    I    Male    baseball  88.0   NaN  72.0"
      ]
     },
     "execution_count": 139,
     "metadata": {},
     "output_type": "execute_result"
    }
   ],
   "source": [
    "df2"
   ]
  },
  {
   "cell_type": "code",
   "execution_count": 140,
   "id": "ab5f7935-e0d6-4245-8c26-f53218fbab77",
   "metadata": {},
   "outputs": [
    {
     "data": {
      "text/html": [
       "<div>\n",
       "<style scoped>\n",
       "    .dataframe tbody tr th:only-of-type {\n",
       "        vertical-align: middle;\n",
       "    }\n",
       "\n",
       "    .dataframe tbody tr th {\n",
       "        vertical-align: top;\n",
       "    }\n",
       "\n",
       "    .dataframe thead th {\n",
       "        text-align: right;\n",
       "    }\n",
       "</style>\n",
       "<table border=\"1\" class=\"dataframe\">\n",
       "  <thead>\n",
       "    <tr style=\"text-align: right;\">\n",
       "      <th></th>\n",
       "      <th>name</th>\n",
       "      <th>sex</th>\n",
       "      <th>club</th>\n",
       "      <th>math</th>\n",
       "      <th>eng</th>\n",
       "      <th>scie</th>\n",
       "    </tr>\n",
       "  </thead>\n",
       "  <tbody>\n",
       "    <tr>\n",
       "      <th>0</th>\n",
       "      <td>A</td>\n",
       "      <td>Male</td>\n",
       "      <td>soccer</td>\n",
       "      <td>81.0</td>\n",
       "      <td>79.0</td>\n",
       "      <td>91.0</td>\n",
       "    </tr>\n",
       "    <tr>\n",
       "      <th>1</th>\n",
       "      <td>B</td>\n",
       "      <td>Male</td>\n",
       "      <td>soccer</td>\n",
       "      <td>91.0</td>\n",
       "      <td>90.0</td>\n",
       "      <td>85.0</td>\n",
       "    </tr>\n",
       "    <tr>\n",
       "      <th>2</th>\n",
       "      <td>C</td>\n",
       "      <td>Female</td>\n",
       "      <td>volleyball</td>\n",
       "      <td>77.0</td>\n",
       "      <td>69.0</td>\n",
       "      <td>94.0</td>\n",
       "    </tr>\n",
       "    <tr>\n",
       "      <th>3</th>\n",
       "      <td>D</td>\n",
       "      <td>Female</td>\n",
       "      <td>tennis</td>\n",
       "      <td>84.0</td>\n",
       "      <td>85.0</td>\n",
       "      <td>81.0</td>\n",
       "    </tr>\n",
       "    <tr>\n",
       "      <th>4</th>\n",
       "      <td>E</td>\n",
       "      <td>Male</td>\n",
       "      <td>baseball</td>\n",
       "      <td>84.0</td>\n",
       "      <td>69.0</td>\n",
       "      <td>82.0</td>\n",
       "    </tr>\n",
       "    <tr>\n",
       "      <th>5</th>\n",
       "      <td>F</td>\n",
       "      <td>Male</td>\n",
       "      <td>tennis</td>\n",
       "      <td>84.0</td>\n",
       "      <td>75.0</td>\n",
       "      <td>84.0</td>\n",
       "    </tr>\n",
       "    <tr>\n",
       "      <th>6</th>\n",
       "      <td>G</td>\n",
       "      <td>Female</td>\n",
       "      <td>volleyball</td>\n",
       "      <td>91.0</td>\n",
       "      <td>79.0</td>\n",
       "      <td>89.0</td>\n",
       "    </tr>\n",
       "    <tr>\n",
       "      <th>7</th>\n",
       "      <td>H</td>\n",
       "      <td>Female</td>\n",
       "      <td>tennis</td>\n",
       "      <td>77.0</td>\n",
       "      <td>86.0</td>\n",
       "      <td>85.0</td>\n",
       "    </tr>\n",
       "    <tr>\n",
       "      <th>8</th>\n",
       "      <td>I</td>\n",
       "      <td>Male</td>\n",
       "      <td>baseball</td>\n",
       "      <td>88.0</td>\n",
       "      <td>79.0</td>\n",
       "      <td>72.0</td>\n",
       "    </tr>\n",
       "  </tbody>\n",
       "</table>\n",
       "</div>"
      ],
      "text/plain": [
       "  name     sex        club  math   eng  scie\n",
       "0    A    Male      soccer  81.0  79.0  91.0\n",
       "1    B    Male      soccer  91.0  90.0  85.0\n",
       "2    C  Female  volleyball  77.0  69.0  94.0\n",
       "3    D  Female      tennis  84.0  85.0  81.0\n",
       "4    E    Male    baseball  84.0  69.0  82.0\n",
       "5    F    Male      tennis  84.0  75.0  84.0\n",
       "6    G  Female  volleyball  91.0  79.0  89.0\n",
       "7    H  Female      tennis  77.0  86.0  85.0\n",
       "8    I    Male    baseball  88.0  79.0  72.0"
      ]
     },
     "execution_count": 140,
     "metadata": {},
     "output_type": "execute_result"
    }
   ],
   "source": [
    "df2.fillna(mean)"
   ]
  },
  {
   "cell_type": "markdown",
   "id": "539d37bf-d8d8-49e6-b6b0-6e55abf77d4b",
   "metadata": {},
   "source": [
    "7.98 groupby 方法和 mean 方法"
   ]
  },
  {
   "cell_type": "code",
   "execution_count": 141,
   "id": "1295a949-2b97-4ad9-8757-74f64a73c387",
   "metadata": {},
   "outputs": [
    {
     "data": {
      "text/html": [
       "<div>\n",
       "<style scoped>\n",
       "    .dataframe tbody tr th:only-of-type {\n",
       "        vertical-align: middle;\n",
       "    }\n",
       "\n",
       "    .dataframe tbody tr th {\n",
       "        vertical-align: top;\n",
       "    }\n",
       "\n",
       "    .dataframe thead th {\n",
       "        text-align: right;\n",
       "    }\n",
       "</style>\n",
       "<table border=\"1\" class=\"dataframe\">\n",
       "  <thead>\n",
       "    <tr style=\"text-align: right;\">\n",
       "      <th></th>\n",
       "      <th>math</th>\n",
       "      <th>eng</th>\n",
       "      <th>scie</th>\n",
       "    </tr>\n",
       "    <tr>\n",
       "      <th>club</th>\n",
       "      <th></th>\n",
       "      <th></th>\n",
       "      <th></th>\n",
       "    </tr>\n",
       "  </thead>\n",
       "  <tbody>\n",
       "    <tr>\n",
       "      <th>baseball</th>\n",
       "      <td>88.0</td>\n",
       "      <td>69.0</td>\n",
       "      <td>77.0</td>\n",
       "    </tr>\n",
       "    <tr>\n",
       "      <th>soccer</th>\n",
       "      <td>86.0</td>\n",
       "      <td>90.0</td>\n",
       "      <td>91.0</td>\n",
       "    </tr>\n",
       "    <tr>\n",
       "      <th>tennis</th>\n",
       "      <td>77.0</td>\n",
       "      <td>82.0</td>\n",
       "      <td>82.5</td>\n",
       "    </tr>\n",
       "    <tr>\n",
       "      <th>volleyball</th>\n",
       "      <td>84.0</td>\n",
       "      <td>69.0</td>\n",
       "      <td>91.5</td>\n",
       "    </tr>\n",
       "  </tbody>\n",
       "</table>\n",
       "</div>"
      ],
      "text/plain": [
       "            math   eng  scie\n",
       "club                        \n",
       "baseball    88.0  69.0  77.0\n",
       "soccer      86.0  90.0  91.0\n",
       "tennis      77.0  82.0  82.5\n",
       "volleyball  84.0  69.0  91.5"
      ]
     },
     "execution_count": 141,
     "metadata": {},
     "output_type": "execute_result"
    }
   ],
   "source": [
    "df2.groupby('club')[[\"math\",\"eng\",\"scie\"]].mean()"
   ]
  },
  {
   "cell_type": "markdown",
   "id": "6ba59cb3-bd9e-44a7-84ca-563d0723b6cf",
   "metadata": {},
   "source": [
    "7.99 使用 apply 方法和匿名函数对缺失值进行置换"
   ]
  },
  {
   "cell_type": "code",
   "execution_count": 142,
   "id": "a6b04142-af61-47fb-ae79-306014fe8630",
   "metadata": {},
   "outputs": [
    {
     "data": {
      "text/html": [
       "<div>\n",
       "<style scoped>\n",
       "    .dataframe tbody tr th:only-of-type {\n",
       "        vertical-align: middle;\n",
       "    }\n",
       "\n",
       "    .dataframe tbody tr th {\n",
       "        vertical-align: top;\n",
       "    }\n",
       "\n",
       "    .dataframe thead th {\n",
       "        text-align: right;\n",
       "    }\n",
       "</style>\n",
       "<table border=\"1\" class=\"dataframe\">\n",
       "  <thead>\n",
       "    <tr style=\"text-align: right;\">\n",
       "      <th></th>\n",
       "      <th></th>\n",
       "      <th>math</th>\n",
       "      <th>eng</th>\n",
       "      <th>scie</th>\n",
       "    </tr>\n",
       "    <tr>\n",
       "      <th>club</th>\n",
       "      <th></th>\n",
       "      <th></th>\n",
       "      <th></th>\n",
       "      <th></th>\n",
       "    </tr>\n",
       "  </thead>\n",
       "  <tbody>\n",
       "    <tr>\n",
       "      <th rowspan=\"2\" valign=\"top\">baseball</th>\n",
       "      <th>4</th>\n",
       "      <td>88.0</td>\n",
       "      <td>69.0</td>\n",
       "      <td>82.0</td>\n",
       "    </tr>\n",
       "    <tr>\n",
       "      <th>8</th>\n",
       "      <td>88.0</td>\n",
       "      <td>69.0</td>\n",
       "      <td>72.0</td>\n",
       "    </tr>\n",
       "    <tr>\n",
       "      <th rowspan=\"2\" valign=\"top\">soccer</th>\n",
       "      <th>0</th>\n",
       "      <td>81.0</td>\n",
       "      <td>90.0</td>\n",
       "      <td>91.0</td>\n",
       "    </tr>\n",
       "    <tr>\n",
       "      <th>1</th>\n",
       "      <td>91.0</td>\n",
       "      <td>90.0</td>\n",
       "      <td>91.0</td>\n",
       "    </tr>\n",
       "    <tr>\n",
       "      <th rowspan=\"3\" valign=\"top\">tennis</th>\n",
       "      <th>3</th>\n",
       "      <td>77.0</td>\n",
       "      <td>85.0</td>\n",
       "      <td>81.0</td>\n",
       "    </tr>\n",
       "    <tr>\n",
       "      <th>5</th>\n",
       "      <td>77.0</td>\n",
       "      <td>75.0</td>\n",
       "      <td>84.0</td>\n",
       "    </tr>\n",
       "    <tr>\n",
       "      <th>7</th>\n",
       "      <td>77.0</td>\n",
       "      <td>86.0</td>\n",
       "      <td>82.5</td>\n",
       "    </tr>\n",
       "    <tr>\n",
       "      <th rowspan=\"2\" valign=\"top\">volleyball</th>\n",
       "      <th>2</th>\n",
       "      <td>77.0</td>\n",
       "      <td>69.0</td>\n",
       "      <td>94.0</td>\n",
       "    </tr>\n",
       "    <tr>\n",
       "      <th>6</th>\n",
       "      <td>91.0</td>\n",
       "      <td>69.0</td>\n",
       "      <td>89.0</td>\n",
       "    </tr>\n",
       "  </tbody>\n",
       "</table>\n",
       "</div>"
      ],
      "text/plain": [
       "              math   eng  scie\n",
       "club                          \n",
       "baseball   4  88.0  69.0  82.0\n",
       "           8  88.0  69.0  72.0\n",
       "soccer     0  81.0  90.0  91.0\n",
       "           1  91.0  90.0  91.0\n",
       "tennis     3  77.0  85.0  81.0\n",
       "           5  77.0  75.0  84.0\n",
       "           7  77.0  86.0  82.5\n",
       "volleyball 2  77.0  69.0  94.0\n",
       "           6  91.0  69.0  89.0"
      ]
     },
     "execution_count": 142,
     "metadata": {},
     "output_type": "execute_result"
    }
   ],
   "source": [
    "grouped = df2.groupby('club')\n",
    "grouped[[\"math\",\"eng\",\"scie\"]].apply(lambda x: x.fillna(x.mean()))"
   ]
  }
 ],
 "metadata": {
  "kernelspec": {
   "display_name": "Python 3 (ipykernel)",
   "language": "python",
   "name": "python3"
  },
  "language_info": {
   "codemirror_mode": {
    "name": "ipython",
    "version": 3
   },
   "file_extension": ".py",
   "mimetype": "text/x-python",
   "name": "python",
   "nbconvert_exporter": "python",
   "pygments_lexer": "ipython3",
   "version": "3.11.4"
  }
 },
 "nbformat": 4,
 "nbformat_minor": 5
}
