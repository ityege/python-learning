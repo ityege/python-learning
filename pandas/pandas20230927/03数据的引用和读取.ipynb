{
 "cells": [
  {
   "cell_type": "markdown",
   "id": "31a9f348-30d5-4bea-85ce-89892aac80a3",
   "metadata": {},
   "source": [
    "## 3.1 数据的引用"
   ]
  },
  {
   "cell_type": "markdown",
   "id": "f778115b-a6cc-47fb-9094-192bb6fd4749",
   "metadata": {},
   "source": [
    "### 3.1.1 引用数据的方法"
   ]
  },
  {
   "cell_type": "code",
   "execution_count": 1,
   "id": "ddca22ce-8097-4298-bec6-26377a592f7c",
   "metadata": {},
   "outputs": [],
   "source": [
    "import pandas as pd\n",
    "import numpy as np\n",
    "import matplotlib.pyplot as plt"
   ]
  },
  {
   "cell_type": "markdown",
   "id": "8a6a3b23-a876-4956-8782-9b95a60d00e6",
   "metadata": {},
   "source": [
    "3.1 DataFrame 对象的创建"
   ]
  },
  {
   "cell_type": "code",
   "execution_count": 2,
   "id": "3ac21256-0b67-4881-87bc-39fd3e1217b4",
   "metadata": {},
   "outputs": [
    {
     "data": {
      "text/html": [
       "<div>\n",
       "<style scoped>\n",
       "    .dataframe tbody tr th:only-of-type {\n",
       "        vertical-align: middle;\n",
       "    }\n",
       "\n",
       "    .dataframe tbody tr th {\n",
       "        vertical-align: top;\n",
       "    }\n",
       "\n",
       "    .dataframe thead th {\n",
       "        text-align: right;\n",
       "    }\n",
       "</style>\n",
       "<table border=\"1\" class=\"dataframe\">\n",
       "  <thead>\n",
       "    <tr style=\"text-align: right;\">\n",
       "      <th></th>\n",
       "      <th>d</th>\n",
       "      <th>e</th>\n",
       "      <th>f</th>\n",
       "    </tr>\n",
       "  </thead>\n",
       "  <tbody>\n",
       "    <tr>\n",
       "      <th>0</th>\n",
       "      <td>1</td>\n",
       "      <td>2</td>\n",
       "      <td>3</td>\n",
       "    </tr>\n",
       "    <tr>\n",
       "      <th>2</th>\n",
       "      <td>4</td>\n",
       "      <td>5</td>\n",
       "      <td>6</td>\n",
       "    </tr>\n",
       "    <tr>\n",
       "      <th>4</th>\n",
       "      <td>7</td>\n",
       "      <td>8</td>\n",
       "      <td>9</td>\n",
       "    </tr>\n",
       "  </tbody>\n",
       "</table>\n",
       "</div>"
      ],
      "text/plain": [
       "   d  e  f\n",
       "0  1  2  3\n",
       "2  4  5  6\n",
       "4  7  8  9"
      ]
     },
     "execution_count": 2,
     "metadata": {},
     "output_type": "execute_result"
    }
   ],
   "source": [
    "val = [[1,2,3],[4,5,6],[7,8,9]]\n",
    "df = pd.DataFrame(val, index=[0,2,4], columns=list('def'))\n",
    "df"
   ]
  },
  {
   "cell_type": "markdown",
   "id": "efc9cc4e-6929-4810-b630-1096fe58e26b",
   "metadata": {},
   "source": [
    "3.2 DataFrame 对象的索引标签和行的位置索引"
   ]
  },
  {
   "cell_type": "code",
   "execution_count": 3,
   "id": "ad92f910-deff-48da-b6f0-15b44b7c1fa9",
   "metadata": {},
   "outputs": [
    {
     "name": "stdout",
     "output_type": "stream",
     "text": [
      "d    4\n",
      "e    5\n",
      "f    6\n",
      "Name: 2, dtype: int64\n",
      "d    7\n",
      "e    8\n",
      "f    9\n",
      "Name: 4, dtype: int64\n"
     ]
    }
   ],
   "source": [
    "print(df.loc[2])\n",
    "print(df.iloc[2])"
   ]
  },
  {
   "cell_type": "markdown",
   "id": "b9cb0805-0abf-4567-917a-c34217f53998",
   "metadata": {},
   "source": [
    "3.3 Series 对象的索引标签和位置索引"
   ]
  },
  {
   "cell_type": "code",
   "execution_count": 4,
   "id": "0b2553d7-fb60-447d-9777-b455df22bce9",
   "metadata": {},
   "outputs": [
    {
     "data": {
      "text/plain": [
       "0    1\n",
       "2    2\n",
       "4    3\n",
       "dtype: int64"
      ]
     },
     "execution_count": 4,
     "metadata": {},
     "output_type": "execute_result"
    }
   ],
   "source": [
    "ser = pd.Series([1,2,3], index=[0,2,4])\n",
    "ser"
   ]
  },
  {
   "cell_type": "code",
   "execution_count": 5,
   "id": "fe4d05fa-015b-419e-8fac-4d47b6ea3a4e",
   "metadata": {},
   "outputs": [
    {
     "name": "stdout",
     "output_type": "stream",
     "text": [
      "2\n",
      "3\n"
     ]
    }
   ],
   "source": [
    "print(ser.loc[2])\n",
    "print(ser.iloc[2])"
   ]
  },
  {
   "cell_type": "markdown",
   "id": "14dfd823-5c08-44ab-8fbf-8792c0ab62b2",
   "metadata": {},
   "source": [
    "3.4 DataFrame 对象的创建"
   ]
  },
  {
   "cell_type": "code",
   "execution_count": 6,
   "id": "55701eda-2cb7-44cf-8439-47c25d1b193f",
   "metadata": {},
   "outputs": [
    {
     "data": {
      "text/html": [
       "<div>\n",
       "<style scoped>\n",
       "    .dataframe tbody tr th:only-of-type {\n",
       "        vertical-align: middle;\n",
       "    }\n",
       "\n",
       "    .dataframe tbody tr th {\n",
       "        vertical-align: top;\n",
       "    }\n",
       "\n",
       "    .dataframe thead th {\n",
       "        text-align: right;\n",
       "    }\n",
       "</style>\n",
       "<table border=\"1\" class=\"dataframe\">\n",
       "  <thead>\n",
       "    <tr style=\"text-align: right;\">\n",
       "      <th></th>\n",
       "      <th>d</th>\n",
       "      <th>e</th>\n",
       "      <th>f</th>\n",
       "    </tr>\n",
       "  </thead>\n",
       "  <tbody>\n",
       "    <tr>\n",
       "      <th>0</th>\n",
       "      <td>1</td>\n",
       "      <td>2</td>\n",
       "      <td>3</td>\n",
       "    </tr>\n",
       "    <tr>\n",
       "      <th>2</th>\n",
       "      <td>4</td>\n",
       "      <td>5</td>\n",
       "      <td>6</td>\n",
       "    </tr>\n",
       "    <tr>\n",
       "      <th>4</th>\n",
       "      <td>7</td>\n",
       "      <td>8</td>\n",
       "      <td>9</td>\n",
       "    </tr>\n",
       "  </tbody>\n",
       "</table>\n",
       "</div>"
      ],
      "text/plain": [
       "   d  e  f\n",
       "0  1  2  3\n",
       "2  4  5  6\n",
       "4  7  8  9"
      ]
     },
     "execution_count": 6,
     "metadata": {},
     "output_type": "execute_result"
    }
   ],
   "source": [
    "val = np.arange(1,10).reshape(3,3)\n",
    "df = pd.DataFrame(val, index=[0,2,4], columns=list('def'))\n",
    "df"
   ]
  },
  {
   "cell_type": "markdown",
   "id": "98c0f8d5-d00b-4bde-a64a-1e7b0092bd6a",
   "metadata": {},
   "source": [
    "3.5 使用方括号（[ ]）选择列"
   ]
  },
  {
   "cell_type": "code",
   "execution_count": 7,
   "id": "f54c10d5-36a2-42d2-a42c-dd57143597a9",
   "metadata": {},
   "outputs": [
    {
     "data": {
      "text/plain": [
       "0    2\n",
       "2    5\n",
       "4    8\n",
       "Name: e, dtype: int32"
      ]
     },
     "execution_count": 7,
     "metadata": {},
     "output_type": "execute_result"
    }
   ],
   "source": [
    "df['e']"
   ]
  },
  {
   "cell_type": "code",
   "execution_count": 8,
   "id": "3671cc27-eac2-4477-be87-b20b92536cb0",
   "metadata": {},
   "outputs": [
    {
     "data": {
      "text/html": [
       "<div>\n",
       "<style scoped>\n",
       "    .dataframe tbody tr th:only-of-type {\n",
       "        vertical-align: middle;\n",
       "    }\n",
       "\n",
       "    .dataframe tbody tr th {\n",
       "        vertical-align: top;\n",
       "    }\n",
       "\n",
       "    .dataframe thead th {\n",
       "        text-align: right;\n",
       "    }\n",
       "</style>\n",
       "<table border=\"1\" class=\"dataframe\">\n",
       "  <thead>\n",
       "    <tr style=\"text-align: right;\">\n",
       "      <th></th>\n",
       "      <th>e</th>\n",
       "      <th>d</th>\n",
       "    </tr>\n",
       "  </thead>\n",
       "  <tbody>\n",
       "    <tr>\n",
       "      <th>0</th>\n",
       "      <td>2</td>\n",
       "      <td>1</td>\n",
       "    </tr>\n",
       "    <tr>\n",
       "      <th>2</th>\n",
       "      <td>5</td>\n",
       "      <td>4</td>\n",
       "    </tr>\n",
       "    <tr>\n",
       "      <th>4</th>\n",
       "      <td>8</td>\n",
       "      <td>7</td>\n",
       "    </tr>\n",
       "  </tbody>\n",
       "</table>\n",
       "</div>"
      ],
      "text/plain": [
       "   e  d\n",
       "0  2  1\n",
       "2  5  4\n",
       "4  8  7"
      ]
     },
     "execution_count": 8,
     "metadata": {},
     "output_type": "execute_result"
    }
   ],
   "source": [
    "df[['e','d']]"
   ]
  },
  {
   "cell_type": "markdown",
   "id": "6d1fa617-e4d0-4ce1-8abd-cdbe02bdb44e",
   "metadata": {},
   "source": [
    "3.6 指定整数的列标签选择列"
   ]
  },
  {
   "cell_type": "code",
   "execution_count": 9,
   "id": "bcc108ad-481e-4176-8d34-a084550d887c",
   "metadata": {},
   "outputs": [
    {
     "data": {
      "text/html": [
       "<div>\n",
       "<style scoped>\n",
       "    .dataframe tbody tr th:only-of-type {\n",
       "        vertical-align: middle;\n",
       "    }\n",
       "\n",
       "    .dataframe tbody tr th {\n",
       "        vertical-align: top;\n",
       "    }\n",
       "\n",
       "    .dataframe thead th {\n",
       "        text-align: right;\n",
       "    }\n",
       "</style>\n",
       "<table border=\"1\" class=\"dataframe\">\n",
       "  <thead>\n",
       "    <tr style=\"text-align: right;\">\n",
       "      <th></th>\n",
       "      <th>0</th>\n",
       "      <th>2</th>\n",
       "      <th>4</th>\n",
       "    </tr>\n",
       "  </thead>\n",
       "  <tbody>\n",
       "    <tr>\n",
       "      <th>0</th>\n",
       "      <td>1</td>\n",
       "      <td>2</td>\n",
       "      <td>3</td>\n",
       "    </tr>\n",
       "    <tr>\n",
       "      <th>5</th>\n",
       "      <td>4</td>\n",
       "      <td>5</td>\n",
       "      <td>6</td>\n",
       "    </tr>\n",
       "    <tr>\n",
       "      <th>10</th>\n",
       "      <td>7</td>\n",
       "      <td>8</td>\n",
       "      <td>9</td>\n",
       "    </tr>\n",
       "  </tbody>\n",
       "</table>\n",
       "</div>"
      ],
      "text/plain": [
       "    0  2  4\n",
       "0   1  2  3\n",
       "5   4  5  6\n",
       "10  7  8  9"
      ]
     },
     "execution_count": 9,
     "metadata": {},
     "output_type": "execute_result"
    }
   ],
   "source": [
    "df2 = pd.DataFrame(val, index=[0,5,10], columns=[0,2,4])\n",
    "df2"
   ]
  },
  {
   "cell_type": "code",
   "execution_count": 10,
   "id": "e479c6dc-a779-4c78-89c2-42271f8fe17b",
   "metadata": {},
   "outputs": [
    {
     "data": {
      "text/plain": [
       "0     2\n",
       "5     5\n",
       "10    8\n",
       "Name: 2, dtype: int32"
      ]
     },
     "execution_count": 10,
     "metadata": {},
     "output_type": "execute_result"
    }
   ],
   "source": [
    "df2[2]"
   ]
  },
  {
   "cell_type": "markdown",
   "id": "44669875-6c71-480f-b06a-21d080820c3b",
   "metadata": {},
   "source": [
    "3.7 使用方括号（[ ]）和切片选择行"
   ]
  },
  {
   "cell_type": "code",
   "execution_count": 11,
   "id": "6a126036-594d-475d-972e-70bed4e50a8e",
   "metadata": {},
   "outputs": [
    {
     "data": {
      "text/html": [
       "<div>\n",
       "<style scoped>\n",
       "    .dataframe tbody tr th:only-of-type {\n",
       "        vertical-align: middle;\n",
       "    }\n",
       "\n",
       "    .dataframe tbody tr th {\n",
       "        vertical-align: top;\n",
       "    }\n",
       "\n",
       "    .dataframe thead th {\n",
       "        text-align: right;\n",
       "    }\n",
       "</style>\n",
       "<table border=\"1\" class=\"dataframe\">\n",
       "  <thead>\n",
       "    <tr style=\"text-align: right;\">\n",
       "      <th></th>\n",
       "      <th>0</th>\n",
       "      <th>2</th>\n",
       "      <th>4</th>\n",
       "    </tr>\n",
       "  </thead>\n",
       "  <tbody>\n",
       "    <tr>\n",
       "      <th>0</th>\n",
       "      <td>1</td>\n",
       "      <td>2</td>\n",
       "      <td>3</td>\n",
       "    </tr>\n",
       "    <tr>\n",
       "      <th>5</th>\n",
       "      <td>4</td>\n",
       "      <td>5</td>\n",
       "      <td>6</td>\n",
       "    </tr>\n",
       "  </tbody>\n",
       "</table>\n",
       "</div>"
      ],
      "text/plain": [
       "   0  2  4\n",
       "0  1  2  3\n",
       "5  4  5  6"
      ]
     },
     "execution_count": 11,
     "metadata": {},
     "output_type": "execute_result"
    }
   ],
   "source": [
    "df2[0:2]"
   ]
  },
  {
   "cell_type": "markdown",
   "id": "0037b6ac-c285-4233-a4ce-e986b528ec9b",
   "metadata": {},
   "source": [
    "3.8 使用 bool 类型数组选择行"
   ]
  },
  {
   "cell_type": "code",
   "execution_count": 12,
   "id": "bb511ba2-f456-454a-942f-e4d32c4ecb7f",
   "metadata": {},
   "outputs": [
    {
     "data": {
      "text/html": [
       "<div>\n",
       "<style scoped>\n",
       "    .dataframe tbody tr th:only-of-type {\n",
       "        vertical-align: middle;\n",
       "    }\n",
       "\n",
       "    .dataframe tbody tr th {\n",
       "        vertical-align: top;\n",
       "    }\n",
       "\n",
       "    .dataframe thead th {\n",
       "        text-align: right;\n",
       "    }\n",
       "</style>\n",
       "<table border=\"1\" class=\"dataframe\">\n",
       "  <thead>\n",
       "    <tr style=\"text-align: right;\">\n",
       "      <th></th>\n",
       "      <th>d</th>\n",
       "      <th>e</th>\n",
       "      <th>f</th>\n",
       "    </tr>\n",
       "  </thead>\n",
       "  <tbody>\n",
       "    <tr>\n",
       "      <th>0</th>\n",
       "      <td>1</td>\n",
       "      <td>2</td>\n",
       "      <td>3</td>\n",
       "    </tr>\n",
       "    <tr>\n",
       "      <th>4</th>\n",
       "      <td>7</td>\n",
       "      <td>8</td>\n",
       "      <td>9</td>\n",
       "    </tr>\n",
       "  </tbody>\n",
       "</table>\n",
       "</div>"
      ],
      "text/plain": [
       "   d  e  f\n",
       "0  1  2  3\n",
       "4  7  8  9"
      ]
     },
     "execution_count": 12,
     "metadata": {},
     "output_type": "execute_result"
    }
   ],
   "source": [
    "df[[True,False,True]]"
   ]
  },
  {
   "cell_type": "markdown",
   "id": "013a6164-ec3b-461e-8bb6-76a29c63bae5",
   "metadata": {},
   "source": [
    "### 3.1.2 切片"
   ]
  },
  {
   "cell_type": "markdown",
   "id": "2f19c7e7-03bd-41cf-a31a-e5bc7d13e6ff",
   "metadata": {},
   "source": [
    "3.9 DataFrame 对象的创建"
   ]
  },
  {
   "cell_type": "code",
   "execution_count": 13,
   "id": "bca57364-24a3-4f8d-a295-758fe7d12751",
   "metadata": {},
   "outputs": [
    {
     "data": {
      "text/html": [
       "<div>\n",
       "<style scoped>\n",
       "    .dataframe tbody tr th:only-of-type {\n",
       "        vertical-align: middle;\n",
       "    }\n",
       "\n",
       "    .dataframe tbody tr th {\n",
       "        vertical-align: top;\n",
       "    }\n",
       "\n",
       "    .dataframe thead th {\n",
       "        text-align: right;\n",
       "    }\n",
       "</style>\n",
       "<table border=\"1\" class=\"dataframe\">\n",
       "  <thead>\n",
       "    <tr style=\"text-align: right;\">\n",
       "      <th></th>\n",
       "      <th>a</th>\n",
       "      <th>b</th>\n",
       "      <th>c</th>\n",
       "      <th>d</th>\n",
       "      <th>e</th>\n",
       "    </tr>\n",
       "  </thead>\n",
       "  <tbody>\n",
       "    <tr>\n",
       "      <th>10</th>\n",
       "      <td>0</td>\n",
       "      <td>1</td>\n",
       "      <td>2</td>\n",
       "      <td>3</td>\n",
       "      <td>4</td>\n",
       "    </tr>\n",
       "    <tr>\n",
       "      <th>5</th>\n",
       "      <td>5</td>\n",
       "      <td>6</td>\n",
       "      <td>7</td>\n",
       "      <td>8</td>\n",
       "      <td>9</td>\n",
       "    </tr>\n",
       "    <tr>\n",
       "      <th>2</th>\n",
       "      <td>10</td>\n",
       "      <td>11</td>\n",
       "      <td>12</td>\n",
       "      <td>13</td>\n",
       "      <td>14</td>\n",
       "    </tr>\n",
       "    <tr>\n",
       "      <th>12</th>\n",
       "      <td>15</td>\n",
       "      <td>16</td>\n",
       "      <td>17</td>\n",
       "      <td>18</td>\n",
       "      <td>19</td>\n",
       "    </tr>\n",
       "    <tr>\n",
       "      <th>6</th>\n",
       "      <td>20</td>\n",
       "      <td>21</td>\n",
       "      <td>22</td>\n",
       "      <td>23</td>\n",
       "      <td>24</td>\n",
       "    </tr>\n",
       "  </tbody>\n",
       "</table>\n",
       "</div>"
      ],
      "text/plain": [
       "     a   b   c   d   e\n",
       "10   0   1   2   3   4\n",
       "5    5   6   7   8   9\n",
       "2   10  11  12  13  14\n",
       "12  15  16  17  18  19\n",
       "6   20  21  22  23  24"
      ]
     },
     "execution_count": 13,
     "metadata": {},
     "output_type": "execute_result"
    }
   ],
   "source": [
    "val = np.arange(0,25).reshape(5,5)\n",
    "df = pd.DataFrame(val, index=[10,5,2,12,6], columns=list('abcde'))\n",
    "df"
   ]
  },
  {
   "cell_type": "markdown",
   "id": "924fa767-a1ef-42cc-bc4c-8949c588389f",
   "metadata": {},
   "source": [
    "3.10 方括号（[ ]）和切片"
   ]
  },
  {
   "cell_type": "code",
   "execution_count": 14,
   "id": "de2a2a9f-76c3-4119-b995-8fac51617bf4",
   "metadata": {},
   "outputs": [
    {
     "data": {
      "text/html": [
       "<div>\n",
       "<style scoped>\n",
       "    .dataframe tbody tr th:only-of-type {\n",
       "        vertical-align: middle;\n",
       "    }\n",
       "\n",
       "    .dataframe tbody tr th {\n",
       "        vertical-align: top;\n",
       "    }\n",
       "\n",
       "    .dataframe thead th {\n",
       "        text-align: right;\n",
       "    }\n",
       "</style>\n",
       "<table border=\"1\" class=\"dataframe\">\n",
       "  <thead>\n",
       "    <tr style=\"text-align: right;\">\n",
       "      <th></th>\n",
       "      <th>a</th>\n",
       "      <th>b</th>\n",
       "      <th>c</th>\n",
       "      <th>d</th>\n",
       "      <th>e</th>\n",
       "    </tr>\n",
       "  </thead>\n",
       "  <tbody>\n",
       "    <tr>\n",
       "      <th>2</th>\n",
       "      <td>10</td>\n",
       "      <td>11</td>\n",
       "      <td>12</td>\n",
       "      <td>13</td>\n",
       "      <td>14</td>\n",
       "    </tr>\n",
       "    <tr>\n",
       "      <th>12</th>\n",
       "      <td>15</td>\n",
       "      <td>16</td>\n",
       "      <td>17</td>\n",
       "      <td>18</td>\n",
       "      <td>19</td>\n",
       "    </tr>\n",
       "  </tbody>\n",
       "</table>\n",
       "</div>"
      ],
      "text/plain": [
       "     a   b   c   d   e\n",
       "2   10  11  12  13  14\n",
       "12  15  16  17  18  19"
      ]
     },
     "execution_count": 14,
     "metadata": {},
     "output_type": "execute_result"
    }
   ],
   "source": [
    "df[2:4]"
   ]
  },
  {
   "cell_type": "markdown",
   "id": "39c91aa2-451b-4c85-9446-446f42749664",
   "metadata": {},
   "source": [
    "3.11 切片和公差"
   ]
  },
  {
   "cell_type": "code",
   "execution_count": 15,
   "id": "f33a213b-0a58-4be6-abc2-59374a56aac5",
   "metadata": {},
   "outputs": [
    {
     "data": {
      "text/html": [
       "<div>\n",
       "<style scoped>\n",
       "    .dataframe tbody tr th:only-of-type {\n",
       "        vertical-align: middle;\n",
       "    }\n",
       "\n",
       "    .dataframe tbody tr th {\n",
       "        vertical-align: top;\n",
       "    }\n",
       "\n",
       "    .dataframe thead th {\n",
       "        text-align: right;\n",
       "    }\n",
       "</style>\n",
       "<table border=\"1\" class=\"dataframe\">\n",
       "  <thead>\n",
       "    <tr style=\"text-align: right;\">\n",
       "      <th></th>\n",
       "      <th>a</th>\n",
       "      <th>b</th>\n",
       "      <th>c</th>\n",
       "      <th>d</th>\n",
       "      <th>e</th>\n",
       "    </tr>\n",
       "  </thead>\n",
       "  <tbody>\n",
       "    <tr>\n",
       "      <th>10</th>\n",
       "      <td>0</td>\n",
       "      <td>1</td>\n",
       "      <td>2</td>\n",
       "      <td>3</td>\n",
       "      <td>4</td>\n",
       "    </tr>\n",
       "    <tr>\n",
       "      <th>2</th>\n",
       "      <td>10</td>\n",
       "      <td>11</td>\n",
       "      <td>12</td>\n",
       "      <td>13</td>\n",
       "      <td>14</td>\n",
       "    </tr>\n",
       "    <tr>\n",
       "      <th>6</th>\n",
       "      <td>20</td>\n",
       "      <td>21</td>\n",
       "      <td>22</td>\n",
       "      <td>23</td>\n",
       "      <td>24</td>\n",
       "    </tr>\n",
       "  </tbody>\n",
       "</table>\n",
       "</div>"
      ],
      "text/plain": [
       "     a   b   c   d   e\n",
       "10   0   1   2   3   4\n",
       "2   10  11  12  13  14\n",
       "6   20  21  22  23  24"
      ]
     },
     "execution_count": 15,
     "metadata": {},
     "output_type": "execute_result"
    }
   ],
   "source": [
    "df[0:5:2]"
   ]
  },
  {
   "cell_type": "markdown",
   "id": "44213d5d-9a4d-41dc-b4d8-7a94144c4cb7",
   "metadata": {},
   "source": [
    "3.12 在公差中指定 –1，以相反的顺序选择数据"
   ]
  },
  {
   "cell_type": "code",
   "execution_count": 16,
   "id": "47bb691f-30f7-4b1e-83b8-619bad2f41e9",
   "metadata": {},
   "outputs": [
    {
     "data": {
      "text/html": [
       "<div>\n",
       "<style scoped>\n",
       "    .dataframe tbody tr th:only-of-type {\n",
       "        vertical-align: middle;\n",
       "    }\n",
       "\n",
       "    .dataframe tbody tr th {\n",
       "        vertical-align: top;\n",
       "    }\n",
       "\n",
       "    .dataframe thead th {\n",
       "        text-align: right;\n",
       "    }\n",
       "</style>\n",
       "<table border=\"1\" class=\"dataframe\">\n",
       "  <thead>\n",
       "    <tr style=\"text-align: right;\">\n",
       "      <th></th>\n",
       "      <th>a</th>\n",
       "      <th>b</th>\n",
       "      <th>c</th>\n",
       "      <th>d</th>\n",
       "      <th>e</th>\n",
       "    </tr>\n",
       "  </thead>\n",
       "  <tbody>\n",
       "    <tr>\n",
       "      <th>6</th>\n",
       "      <td>20</td>\n",
       "      <td>21</td>\n",
       "      <td>22</td>\n",
       "      <td>23</td>\n",
       "      <td>24</td>\n",
       "    </tr>\n",
       "    <tr>\n",
       "      <th>12</th>\n",
       "      <td>15</td>\n",
       "      <td>16</td>\n",
       "      <td>17</td>\n",
       "      <td>18</td>\n",
       "      <td>19</td>\n",
       "    </tr>\n",
       "    <tr>\n",
       "      <th>2</th>\n",
       "      <td>10</td>\n",
       "      <td>11</td>\n",
       "      <td>12</td>\n",
       "      <td>13</td>\n",
       "      <td>14</td>\n",
       "    </tr>\n",
       "    <tr>\n",
       "      <th>5</th>\n",
       "      <td>5</td>\n",
       "      <td>6</td>\n",
       "      <td>7</td>\n",
       "      <td>8</td>\n",
       "      <td>9</td>\n",
       "    </tr>\n",
       "    <tr>\n",
       "      <th>10</th>\n",
       "      <td>0</td>\n",
       "      <td>1</td>\n",
       "      <td>2</td>\n",
       "      <td>3</td>\n",
       "      <td>4</td>\n",
       "    </tr>\n",
       "  </tbody>\n",
       "</table>\n",
       "</div>"
      ],
      "text/plain": [
       "     a   b   c   d   e\n",
       "6   20  21  22  23  24\n",
       "12  15  16  17  18  19\n",
       "2   10  11  12  13  14\n",
       "5    5   6   7   8   9\n",
       "10   0   1   2   3   4"
      ]
     },
     "execution_count": 16,
     "metadata": {},
     "output_type": "execute_result"
    }
   ],
   "source": [
    "df[::-1]"
   ]
  },
  {
   "cell_type": "markdown",
   "id": "483202ae-016a-458f-9254-3000efe866e4",
   "metadata": {},
   "source": [
    "3.13 loc 属性和切片"
   ]
  },
  {
   "cell_type": "code",
   "execution_count": 17,
   "id": "3b3d5912-75ca-4d68-bf8c-81c114769251",
   "metadata": {},
   "outputs": [
    {
     "data": {
      "text/html": [
       "<div>\n",
       "<style scoped>\n",
       "    .dataframe tbody tr th:only-of-type {\n",
       "        vertical-align: middle;\n",
       "    }\n",
       "\n",
       "    .dataframe tbody tr th {\n",
       "        vertical-align: top;\n",
       "    }\n",
       "\n",
       "    .dataframe thead th {\n",
       "        text-align: right;\n",
       "    }\n",
       "</style>\n",
       "<table border=\"1\" class=\"dataframe\">\n",
       "  <thead>\n",
       "    <tr style=\"text-align: right;\">\n",
       "      <th></th>\n",
       "      <th>a</th>\n",
       "      <th>b</th>\n",
       "      <th>c</th>\n",
       "      <th>d</th>\n",
       "      <th>e</th>\n",
       "    </tr>\n",
       "  </thead>\n",
       "  <tbody>\n",
       "    <tr>\n",
       "      <th>2</th>\n",
       "      <td>10</td>\n",
       "      <td>11</td>\n",
       "      <td>12</td>\n",
       "      <td>13</td>\n",
       "      <td>14</td>\n",
       "    </tr>\n",
       "    <tr>\n",
       "      <th>12</th>\n",
       "      <td>15</td>\n",
       "      <td>16</td>\n",
       "      <td>17</td>\n",
       "      <td>18</td>\n",
       "      <td>19</td>\n",
       "    </tr>\n",
       "    <tr>\n",
       "      <th>6</th>\n",
       "      <td>20</td>\n",
       "      <td>21</td>\n",
       "      <td>22</td>\n",
       "      <td>23</td>\n",
       "      <td>24</td>\n",
       "    </tr>\n",
       "  </tbody>\n",
       "</table>\n",
       "</div>"
      ],
      "text/plain": [
       "     a   b   c   d   e\n",
       "2   10  11  12  13  14\n",
       "12  15  16  17  18  19\n",
       "6   20  21  22  23  24"
      ]
     },
     "execution_count": 17,
     "metadata": {},
     "output_type": "execute_result"
    }
   ],
   "source": [
    "df.loc[2:6]"
   ]
  },
  {
   "cell_type": "markdown",
   "id": "97f5efc1-2bd1-4af5-8f02-78efc75512ae",
   "metadata": {},
   "source": [
    "3.14 loc 属性和切片"
   ]
  },
  {
   "cell_type": "code",
   "execution_count": 18,
   "id": "82e19842-6167-4bb9-82d7-055034db7343",
   "metadata": {},
   "outputs": [
    {
     "data": {
      "text/html": [
       "<div>\n",
       "<style scoped>\n",
       "    .dataframe tbody tr th:only-of-type {\n",
       "        vertical-align: middle;\n",
       "    }\n",
       "\n",
       "    .dataframe tbody tr th {\n",
       "        vertical-align: top;\n",
       "    }\n",
       "\n",
       "    .dataframe thead th {\n",
       "        text-align: right;\n",
       "    }\n",
       "</style>\n",
       "<table border=\"1\" class=\"dataframe\">\n",
       "  <thead>\n",
       "    <tr style=\"text-align: right;\">\n",
       "      <th></th>\n",
       "      <th>b</th>\n",
       "      <th>c</th>\n",
       "      <th>d</th>\n",
       "      <th>e</th>\n",
       "    </tr>\n",
       "  </thead>\n",
       "  <tbody>\n",
       "    <tr>\n",
       "      <th>10</th>\n",
       "      <td>1</td>\n",
       "      <td>2</td>\n",
       "      <td>3</td>\n",
       "      <td>4</td>\n",
       "    </tr>\n",
       "    <tr>\n",
       "      <th>5</th>\n",
       "      <td>6</td>\n",
       "      <td>7</td>\n",
       "      <td>8</td>\n",
       "      <td>9</td>\n",
       "    </tr>\n",
       "    <tr>\n",
       "      <th>2</th>\n",
       "      <td>11</td>\n",
       "      <td>12</td>\n",
       "      <td>13</td>\n",
       "      <td>14</td>\n",
       "    </tr>\n",
       "    <tr>\n",
       "      <th>12</th>\n",
       "      <td>16</td>\n",
       "      <td>17</td>\n",
       "      <td>18</td>\n",
       "      <td>19</td>\n",
       "    </tr>\n",
       "    <tr>\n",
       "      <th>6</th>\n",
       "      <td>21</td>\n",
       "      <td>22</td>\n",
       "      <td>23</td>\n",
       "      <td>24</td>\n",
       "    </tr>\n",
       "  </tbody>\n",
       "</table>\n",
       "</div>"
      ],
      "text/plain": [
       "     b   c   d   e\n",
       "10   1   2   3   4\n",
       "5    6   7   8   9\n",
       "2   11  12  13  14\n",
       "12  16  17  18  19\n",
       "6   21  22  23  24"
      ]
     },
     "execution_count": 18,
     "metadata": {},
     "output_type": "execute_result"
    }
   ],
   "source": [
    "df.loc[:, 'b':'e']"
   ]
  },
  {
   "cell_type": "markdown",
   "id": "efec83e9-6fe2-4380-a573-83a8d0f2b2cd",
   "metadata": {},
   "source": [
    "3.15 iloc 属性和切片"
   ]
  },
  {
   "cell_type": "code",
   "execution_count": 19,
   "id": "802c9af6-8e6f-45bb-92df-ad0a9c19970c",
   "metadata": {},
   "outputs": [
    {
     "data": {
      "text/html": [
       "<div>\n",
       "<style scoped>\n",
       "    .dataframe tbody tr th:only-of-type {\n",
       "        vertical-align: middle;\n",
       "    }\n",
       "\n",
       "    .dataframe tbody tr th {\n",
       "        vertical-align: top;\n",
       "    }\n",
       "\n",
       "    .dataframe thead th {\n",
       "        text-align: right;\n",
       "    }\n",
       "</style>\n",
       "<table border=\"1\" class=\"dataframe\">\n",
       "  <thead>\n",
       "    <tr style=\"text-align: right;\">\n",
       "      <th></th>\n",
       "      <th>a</th>\n",
       "      <th>b</th>\n",
       "      <th>c</th>\n",
       "      <th>d</th>\n",
       "      <th>e</th>\n",
       "    </tr>\n",
       "  </thead>\n",
       "  <tbody>\n",
       "    <tr>\n",
       "      <th>2</th>\n",
       "      <td>10</td>\n",
       "      <td>11</td>\n",
       "      <td>12</td>\n",
       "      <td>13</td>\n",
       "      <td>14</td>\n",
       "    </tr>\n",
       "    <tr>\n",
       "      <th>12</th>\n",
       "      <td>15</td>\n",
       "      <td>16</td>\n",
       "      <td>17</td>\n",
       "      <td>18</td>\n",
       "      <td>19</td>\n",
       "    </tr>\n",
       "  </tbody>\n",
       "</table>\n",
       "</div>"
      ],
      "text/plain": [
       "     a   b   c   d   e\n",
       "2   10  11  12  13  14\n",
       "12  15  16  17  18  19"
      ]
     },
     "execution_count": 19,
     "metadata": {},
     "output_type": "execute_result"
    }
   ],
   "source": [
    "df.iloc[2:4]"
   ]
  },
  {
   "cell_type": "markdown",
   "id": "a12b0387-fd7e-42fa-aeab-48e9a4d30cd9",
   "metadata": {},
   "source": [
    "3.16 iloc 属性和切片"
   ]
  },
  {
   "cell_type": "code",
   "execution_count": 20,
   "id": "fecd11a0-3a06-4b5e-9760-c05e06424313",
   "metadata": {},
   "outputs": [
    {
     "data": {
      "text/html": [
       "<div>\n",
       "<style scoped>\n",
       "    .dataframe tbody tr th:only-of-type {\n",
       "        vertical-align: middle;\n",
       "    }\n",
       "\n",
       "    .dataframe tbody tr th {\n",
       "        vertical-align: top;\n",
       "    }\n",
       "\n",
       "    .dataframe thead th {\n",
       "        text-align: right;\n",
       "    }\n",
       "</style>\n",
       "<table border=\"1\" class=\"dataframe\">\n",
       "  <thead>\n",
       "    <tr style=\"text-align: right;\">\n",
       "      <th></th>\n",
       "      <th>b</th>\n",
       "      <th>c</th>\n",
       "      <th>d</th>\n",
       "    </tr>\n",
       "  </thead>\n",
       "  <tbody>\n",
       "    <tr>\n",
       "      <th>10</th>\n",
       "      <td>1</td>\n",
       "      <td>2</td>\n",
       "      <td>3</td>\n",
       "    </tr>\n",
       "    <tr>\n",
       "      <th>5</th>\n",
       "      <td>6</td>\n",
       "      <td>7</td>\n",
       "      <td>8</td>\n",
       "    </tr>\n",
       "    <tr>\n",
       "      <th>2</th>\n",
       "      <td>11</td>\n",
       "      <td>12</td>\n",
       "      <td>13</td>\n",
       "    </tr>\n",
       "    <tr>\n",
       "      <th>12</th>\n",
       "      <td>16</td>\n",
       "      <td>17</td>\n",
       "      <td>18</td>\n",
       "    </tr>\n",
       "    <tr>\n",
       "      <th>6</th>\n",
       "      <td>21</td>\n",
       "      <td>22</td>\n",
       "      <td>23</td>\n",
       "    </tr>\n",
       "  </tbody>\n",
       "</table>\n",
       "</div>"
      ],
      "text/plain": [
       "     b   c   d\n",
       "10   1   2   3\n",
       "5    6   7   8\n",
       "2   11  12  13\n",
       "12  16  17  18\n",
       "6   21  22  23"
      ]
     },
     "execution_count": 20,
     "metadata": {},
     "output_type": "execute_result"
    }
   ],
   "source": [
    "df.iloc[:, 1:4]"
   ]
  },
  {
   "cell_type": "markdown",
   "id": "f763b8c2-e139-422a-adcc-f5ce10bfebca",
   "metadata": {},
   "source": [
    "### 3.1.3 属性的引用"
   ]
  },
  {
   "cell_type": "markdown",
   "id": "e4f040ef-f89b-430e-8477-6b186dc66140",
   "metadata": {},
   "source": [
    "3.17 使用 Series 对象的属性引用数据"
   ]
  },
  {
   "cell_type": "code",
   "execution_count": 21,
   "id": "82e73435-60a6-4757-82bc-55b816530aae",
   "metadata": {},
   "outputs": [
    {
     "data": {
      "text/plain": [
       "1"
      ]
     },
     "execution_count": 21,
     "metadata": {},
     "output_type": "execute_result"
    }
   ],
   "source": [
    "ser = pd.Series([1,2,3], index=list('abc'))\n",
    "ser.a"
   ]
  },
  {
   "cell_type": "markdown",
   "id": "48182dfa-96ca-4b81-b558-86abccb5efdc",
   "metadata": {},
   "source": [
    "3.18 使用 DataFrame 对象的属性引用数据"
   ]
  },
  {
   "cell_type": "code",
   "execution_count": 22,
   "id": "a6bcb3c2-3540-49ce-a9ef-346d0ed58bb1",
   "metadata": {},
   "outputs": [
    {
     "data": {
      "text/plain": [
       "0    3\n",
       "1    6\n",
       "Name: c, dtype: int64"
      ]
     },
     "execution_count": 22,
     "metadata": {},
     "output_type": "execute_result"
    }
   ],
   "source": [
    "df = pd.DataFrame([[1,2,3],[4,5,6]], columns=list('abc'))\n",
    "df.c"
   ]
  },
  {
   "cell_type": "code",
   "execution_count": 23,
   "id": "55c401ee-713e-4cde-9fda-b450c1fb3f3d",
   "metadata": {},
   "outputs": [],
   "source": [
    "df = pd.DataFrame([[1,2,3],[4,5,6]], columns=[1,2,3])\n",
    "# 不是python的有效标识\n",
    "# df.1\n",
    "\n",
    "# SyntaxError: invalid syntax"
   ]
  },
  {
   "cell_type": "markdown",
   "id": "1856cce1-257c-4648-8970-dfa98658ea7b",
   "metadata": {},
   "source": [
    "3.20 标签名与类方法名重复"
   ]
  },
  {
   "cell_type": "code",
   "execution_count": 24,
   "id": "88fb45d3-b15d-4f6c-88a6-d3d09925b00a",
   "metadata": {},
   "outputs": [
    {
     "data": {
      "text/plain": [
       "0    1\n",
       "1    4\n",
       "Name: height, dtype: int64"
      ]
     },
     "execution_count": 24,
     "metadata": {},
     "output_type": "execute_result"
    }
   ],
   "source": [
    "df = pd.DataFrame([[1,2,3],[4,5,6]], columns=['height','weight','min'])\n",
    "df.height"
   ]
  },
  {
   "cell_type": "code",
   "execution_count": 25,
   "id": "e8aa578a-b925-420c-8ad5-cc504450935d",
   "metadata": {},
   "outputs": [
    {
     "data": {
      "text/plain": [
       "<bound method DataFrame.min of    height  weight  min\n",
       "0       1       2    3\n",
       "1       4       5    6>"
      ]
     },
     "execution_count": 25,
     "metadata": {},
     "output_type": "execute_result"
    }
   ],
   "source": [
    "df.min"
   ]
  },
  {
   "cell_type": "markdown",
   "id": "314d6009-05b6-4019-8a86-e0999dca6f0c",
   "metadata": {},
   "source": [
    "3.21 使用方括号（[ ]）和 loc 属性引用数据"
   ]
  },
  {
   "cell_type": "code",
   "execution_count": 26,
   "id": "656bbd07-7c8d-4350-8f36-af3bd5177fc5",
   "metadata": {},
   "outputs": [
    {
     "data": {
      "text/plain": [
       "0    3\n",
       "1    6\n",
       "Name: min, dtype: int64"
      ]
     },
     "execution_count": 26,
     "metadata": {},
     "output_type": "execute_result"
    }
   ],
   "source": [
    "df.loc[:,'min']"
   ]
  },
  {
   "cell_type": "markdown",
   "id": "54737b5e-ea83-4f16-844e-8cdf0e9c09a0",
   "metadata": {},
   "source": [
    "3.1.4 bool类型的引用"
   ]
  },
  {
   "cell_type": "markdown",
   "id": "0a11a144-56f3-469d-9adb-e514a9e6564a",
   "metadata": {},
   "source": [
    "3.22 使用 bool 类型数组选择行"
   ]
  },
  {
   "cell_type": "code",
   "execution_count": 27,
   "id": "1505f955-1c74-427a-8eed-598325df0983",
   "metadata": {},
   "outputs": [
    {
     "data": {
      "text/html": [
       "<div>\n",
       "<style scoped>\n",
       "    .dataframe tbody tr th:only-of-type {\n",
       "        vertical-align: middle;\n",
       "    }\n",
       "\n",
       "    .dataframe tbody tr th {\n",
       "        vertical-align: top;\n",
       "    }\n",
       "\n",
       "    .dataframe thead th {\n",
       "        text-align: right;\n",
       "    }\n",
       "</style>\n",
       "<table border=\"1\" class=\"dataframe\">\n",
       "  <thead>\n",
       "    <tr style=\"text-align: right;\">\n",
       "      <th></th>\n",
       "      <th>0</th>\n",
       "      <th>1</th>\n",
       "    </tr>\n",
       "  </thead>\n",
       "  <tbody>\n",
       "    <tr>\n",
       "      <th>0</th>\n",
       "      <td>1</td>\n",
       "      <td>2</td>\n",
       "    </tr>\n",
       "    <tr>\n",
       "      <th>2</th>\n",
       "      <td>5</td>\n",
       "      <td>6</td>\n",
       "    </tr>\n",
       "  </tbody>\n",
       "</table>\n",
       "</div>"
      ],
      "text/plain": [
       "   0  1\n",
       "0  1  2\n",
       "2  5  6"
      ]
     },
     "execution_count": 27,
     "metadata": {},
     "output_type": "execute_result"
    }
   ],
   "source": [
    "df = pd.DataFrame([[1,2],[3,4],[5,6]])\n",
    "df[[True,False,True]]"
   ]
  },
  {
   "cell_type": "markdown",
   "id": "3ee966f9-e024-4295-abf8-3c0544626975",
   "metadata": {},
   "source": [
    "3.23 NumPy 的 randint 函数"
   ]
  },
  {
   "cell_type": "code",
   "execution_count": 28,
   "id": "8b842781-88d4-4dcd-a6c8-f0216e9d82a6",
   "metadata": {},
   "outputs": [
    {
     "data": {
      "text/plain": [
       "array([[5, 8, 9, 5, 0],\n",
       "       [0, 1, 7, 6, 9],\n",
       "       [2, 4, 5, 2, 4],\n",
       "       [2, 4, 7, 7, 9],\n",
       "       [1, 7, 0, 6, 9]])"
      ]
     },
     "execution_count": 28,
     "metadata": {},
     "output_type": "execute_result"
    }
   ],
   "source": [
    "np.random.seed(seed=1)\n",
    "val = np.random.randint(0,10,size=25).reshape(5,5)\n",
    "val"
   ]
  },
  {
   "cell_type": "markdown",
   "id": "d5c0f9cf-01e6-4b43-bc90-e1edcadab2fd",
   "metadata": {},
   "source": [
    "3.24 创建包含整数类型随机数的 DataFrame 对象"
   ]
  },
  {
   "cell_type": "code",
   "execution_count": 29,
   "id": "801b14b7-3282-44b5-89b0-b58c8a646855",
   "metadata": {},
   "outputs": [
    {
     "data": {
      "text/html": [
       "<div>\n",
       "<style scoped>\n",
       "    .dataframe tbody tr th:only-of-type {\n",
       "        vertical-align: middle;\n",
       "    }\n",
       "\n",
       "    .dataframe tbody tr th {\n",
       "        vertical-align: top;\n",
       "    }\n",
       "\n",
       "    .dataframe thead th {\n",
       "        text-align: right;\n",
       "    }\n",
       "</style>\n",
       "<table border=\"1\" class=\"dataframe\">\n",
       "  <thead>\n",
       "    <tr style=\"text-align: right;\">\n",
       "      <th></th>\n",
       "      <th>a</th>\n",
       "      <th>b</th>\n",
       "      <th>c</th>\n",
       "      <th>d</th>\n",
       "      <th>e</th>\n",
       "    </tr>\n",
       "  </thead>\n",
       "  <tbody>\n",
       "    <tr>\n",
       "      <th>0</th>\n",
       "      <td>5</td>\n",
       "      <td>8</td>\n",
       "      <td>9</td>\n",
       "      <td>5</td>\n",
       "      <td>0</td>\n",
       "    </tr>\n",
       "    <tr>\n",
       "      <th>1</th>\n",
       "      <td>0</td>\n",
       "      <td>1</td>\n",
       "      <td>7</td>\n",
       "      <td>6</td>\n",
       "      <td>9</td>\n",
       "    </tr>\n",
       "    <tr>\n",
       "      <th>2</th>\n",
       "      <td>2</td>\n",
       "      <td>4</td>\n",
       "      <td>5</td>\n",
       "      <td>2</td>\n",
       "      <td>4</td>\n",
       "    </tr>\n",
       "    <tr>\n",
       "      <th>3</th>\n",
       "      <td>2</td>\n",
       "      <td>4</td>\n",
       "      <td>7</td>\n",
       "      <td>7</td>\n",
       "      <td>9</td>\n",
       "    </tr>\n",
       "    <tr>\n",
       "      <th>4</th>\n",
       "      <td>1</td>\n",
       "      <td>7</td>\n",
       "      <td>0</td>\n",
       "      <td>6</td>\n",
       "      <td>9</td>\n",
       "    </tr>\n",
       "  </tbody>\n",
       "</table>\n",
       "</div>"
      ],
      "text/plain": [
       "   a  b  c  d  e\n",
       "0  5  8  9  5  0\n",
       "1  0  1  7  6  9\n",
       "2  2  4  5  2  4\n",
       "3  2  4  7  7  9\n",
       "4  1  7  0  6  9"
      ]
     },
     "execution_count": 29,
     "metadata": {},
     "output_type": "execute_result"
    }
   ],
   "source": [
    "df = pd.DataFrame(val, columns=list('abcde'))\n",
    "df"
   ]
  },
  {
   "cell_type": "markdown",
   "id": "b435e3e2-ac56-4771-af89-3c3decdfbb97",
   "metadata": {},
   "source": [
    "3.25 基于条件表达式生成包含 bool 类型值的 Series 对象"
   ]
  },
  {
   "cell_type": "code",
   "execution_count": 30,
   "id": "e69036ec-e150-4c01-bb84-ffefa66c73e9",
   "metadata": {},
   "outputs": [
    {
     "data": {
      "text/plain": [
       "0     True\n",
       "1    False\n",
       "2    False\n",
       "3    False\n",
       "4    False\n",
       "Name: a, dtype: bool"
      ]
     },
     "execution_count": 30,
     "metadata": {},
     "output_type": "execute_result"
    }
   ],
   "source": [
    "df['a'] > 3"
   ]
  },
  {
   "cell_type": "markdown",
   "id": "cc6c1c9b-c050-4f83-9bfb-3bb94f4569cc",
   "metadata": {},
   "source": [
    "3.26 基于条件表达式的引用"
   ]
  },
  {
   "cell_type": "code",
   "execution_count": 31,
   "id": "126e5d2a-87f5-44eb-956d-60673ced04c9",
   "metadata": {},
   "outputs": [
    {
     "data": {
      "text/html": [
       "<div>\n",
       "<style scoped>\n",
       "    .dataframe tbody tr th:only-of-type {\n",
       "        vertical-align: middle;\n",
       "    }\n",
       "\n",
       "    .dataframe tbody tr th {\n",
       "        vertical-align: top;\n",
       "    }\n",
       "\n",
       "    .dataframe thead th {\n",
       "        text-align: right;\n",
       "    }\n",
       "</style>\n",
       "<table border=\"1\" class=\"dataframe\">\n",
       "  <thead>\n",
       "    <tr style=\"text-align: right;\">\n",
       "      <th></th>\n",
       "      <th>a</th>\n",
       "      <th>b</th>\n",
       "      <th>c</th>\n",
       "      <th>d</th>\n",
       "      <th>e</th>\n",
       "    </tr>\n",
       "  </thead>\n",
       "  <tbody>\n",
       "    <tr>\n",
       "      <th>0</th>\n",
       "      <td>5</td>\n",
       "      <td>8</td>\n",
       "      <td>9</td>\n",
       "      <td>5</td>\n",
       "      <td>0</td>\n",
       "    </tr>\n",
       "  </tbody>\n",
       "</table>\n",
       "</div>"
      ],
      "text/plain": [
       "   a  b  c  d  e\n",
       "0  5  8  9  5  0"
      ]
     },
     "execution_count": 31,
     "metadata": {},
     "output_type": "execute_result"
    }
   ],
   "source": [
    "df[df['a'] > 3]"
   ]
  },
  {
   "cell_type": "markdown",
   "id": "e816e943-fb39-4ccb-a772-a1fbbcc18e50",
   "metadata": {},
   "source": [
    "3.27 使用运算符“&”对多个条件表达式进行引用"
   ]
  },
  {
   "cell_type": "code",
   "execution_count": 32,
   "id": "5d8f4bf9-050e-4b90-b9d0-82e396ca9494",
   "metadata": {},
   "outputs": [
    {
     "data": {
      "text/html": [
       "<div>\n",
       "<style scoped>\n",
       "    .dataframe tbody tr th:only-of-type {\n",
       "        vertical-align: middle;\n",
       "    }\n",
       "\n",
       "    .dataframe tbody tr th {\n",
       "        vertical-align: top;\n",
       "    }\n",
       "\n",
       "    .dataframe thead th {\n",
       "        text-align: right;\n",
       "    }\n",
       "</style>\n",
       "<table border=\"1\" class=\"dataframe\">\n",
       "  <thead>\n",
       "    <tr style=\"text-align: right;\">\n",
       "      <th></th>\n",
       "      <th>a</th>\n",
       "      <th>b</th>\n",
       "      <th>c</th>\n",
       "      <th>d</th>\n",
       "      <th>e</th>\n",
       "    </tr>\n",
       "  </thead>\n",
       "  <tbody>\n",
       "    <tr>\n",
       "      <th>2</th>\n",
       "      <td>2</td>\n",
       "      <td>4</td>\n",
       "      <td>5</td>\n",
       "      <td>2</td>\n",
       "      <td>4</td>\n",
       "    </tr>\n",
       "    <tr>\n",
       "      <th>3</th>\n",
       "      <td>2</td>\n",
       "      <td>4</td>\n",
       "      <td>7</td>\n",
       "      <td>7</td>\n",
       "      <td>9</td>\n",
       "    </tr>\n",
       "  </tbody>\n",
       "</table>\n",
       "</div>"
      ],
      "text/plain": [
       "   a  b  c  d  e\n",
       "2  2  4  5  2  4\n",
       "3  2  4  7  7  9"
      ]
     },
     "execution_count": 32,
     "metadata": {},
     "output_type": "execute_result"
    }
   ],
   "source": [
    "df[(df['a'] > 1) & (df['b'] == 4)]"
   ]
  },
  {
   "cell_type": "markdown",
   "id": "d6250068-78d0-44a2-a590-7c07af277bf5",
   "metadata": {},
   "source": [
    "3.28 使用运算符“|”对多个条件表达式进行引用"
   ]
  },
  {
   "cell_type": "code",
   "execution_count": 33,
   "id": "acc18135-410a-4afe-89f4-ae6c3e65e2a8",
   "metadata": {},
   "outputs": [
    {
     "data": {
      "text/html": [
       "<div>\n",
       "<style scoped>\n",
       "    .dataframe tbody tr th:only-of-type {\n",
       "        vertical-align: middle;\n",
       "    }\n",
       "\n",
       "    .dataframe tbody tr th {\n",
       "        vertical-align: top;\n",
       "    }\n",
       "\n",
       "    .dataframe thead th {\n",
       "        text-align: right;\n",
       "    }\n",
       "</style>\n",
       "<table border=\"1\" class=\"dataframe\">\n",
       "  <thead>\n",
       "    <tr style=\"text-align: right;\">\n",
       "      <th></th>\n",
       "      <th>a</th>\n",
       "      <th>b</th>\n",
       "      <th>c</th>\n",
       "      <th>d</th>\n",
       "      <th>e</th>\n",
       "    </tr>\n",
       "  </thead>\n",
       "  <tbody>\n",
       "    <tr>\n",
       "      <th>0</th>\n",
       "      <td>5</td>\n",
       "      <td>8</td>\n",
       "      <td>9</td>\n",
       "      <td>5</td>\n",
       "      <td>0</td>\n",
       "    </tr>\n",
       "    <tr>\n",
       "      <th>2</th>\n",
       "      <td>2</td>\n",
       "      <td>4</td>\n",
       "      <td>5</td>\n",
       "      <td>2</td>\n",
       "      <td>4</td>\n",
       "    </tr>\n",
       "    <tr>\n",
       "      <th>3</th>\n",
       "      <td>2</td>\n",
       "      <td>4</td>\n",
       "      <td>7</td>\n",
       "      <td>7</td>\n",
       "      <td>9</td>\n",
       "    </tr>\n",
       "  </tbody>\n",
       "</table>\n",
       "</div>"
      ],
      "text/plain": [
       "   a  b  c  d  e\n",
       "0  5  8  9  5  0\n",
       "2  2  4  5  2  4\n",
       "3  2  4  7  7  9"
      ]
     },
     "execution_count": 33,
     "metadata": {},
     "output_type": "execute_result"
    }
   ],
   "source": [
    "df[(df['a'] > 1) | (df['b'] == 4)]"
   ]
  },
  {
   "cell_type": "markdown",
   "id": "215b53eb-9ce4-4989-ad5a-67aab407a4e5",
   "metadata": {},
   "source": [
    "3.29 使用运算符“～”对多个条件表达式进行引用"
   ]
  },
  {
   "cell_type": "code",
   "execution_count": 34,
   "id": "1c735e54-b07f-4eca-b1fb-8f221496bd3d",
   "metadata": {},
   "outputs": [
    {
     "data": {
      "text/html": [
       "<div>\n",
       "<style scoped>\n",
       "    .dataframe tbody tr th:only-of-type {\n",
       "        vertical-align: middle;\n",
       "    }\n",
       "\n",
       "    .dataframe tbody tr th {\n",
       "        vertical-align: top;\n",
       "    }\n",
       "\n",
       "    .dataframe thead th {\n",
       "        text-align: right;\n",
       "    }\n",
       "</style>\n",
       "<table border=\"1\" class=\"dataframe\">\n",
       "  <thead>\n",
       "    <tr style=\"text-align: right;\">\n",
       "      <th></th>\n",
       "      <th>a</th>\n",
       "      <th>b</th>\n",
       "      <th>c</th>\n",
       "      <th>d</th>\n",
       "      <th>e</th>\n",
       "    </tr>\n",
       "  </thead>\n",
       "  <tbody>\n",
       "    <tr>\n",
       "      <th>1</th>\n",
       "      <td>0</td>\n",
       "      <td>1</td>\n",
       "      <td>7</td>\n",
       "      <td>6</td>\n",
       "      <td>9</td>\n",
       "    </tr>\n",
       "    <tr>\n",
       "      <th>4</th>\n",
       "      <td>1</td>\n",
       "      <td>7</td>\n",
       "      <td>0</td>\n",
       "      <td>6</td>\n",
       "      <td>9</td>\n",
       "    </tr>\n",
       "  </tbody>\n",
       "</table>\n",
       "</div>"
      ],
      "text/plain": [
       "   a  b  c  d  e\n",
       "1  0  1  7  6  9\n",
       "4  1  7  0  6  9"
      ]
     },
     "execution_count": 34,
     "metadata": {},
     "output_type": "execute_result"
    }
   ],
   "source": [
    "df[~(df['a'] > 1)]"
   ]
  },
  {
   "cell_type": "markdown",
   "id": "86615eb1-bccb-4fe6-aab6-d8e88bf92401",
   "metadata": {},
   "source": [
    "### 3.1.5 where方法"
   ]
  },
  {
   "cell_type": "markdown",
   "id": "b730124e-8097-493b-b94c-42ea66f1a6bf",
   "metadata": {},
   "source": [
    "3.30 Series 对象的方括号（[ ]）引用与 where 方法引用的比较"
   ]
  },
  {
   "cell_type": "code",
   "execution_count": 35,
   "id": "a0f0b071-250c-47e7-842e-b0dc15011325",
   "metadata": {},
   "outputs": [
    {
     "data": {
      "text/plain": [
       "3    4\n",
       "4    5\n",
       "dtype: int64"
      ]
     },
     "execution_count": 35,
     "metadata": {},
     "output_type": "execute_result"
    }
   ],
   "source": [
    "ser = pd.Series([1,2,3,4,5])\n",
    "ser[ser > 3]"
   ]
  },
  {
   "cell_type": "code",
   "execution_count": 36,
   "id": "a9dac83a-b6e5-4b79-a8dc-f36818049961",
   "metadata": {},
   "outputs": [
    {
     "data": {
      "text/plain": [
       "0    NaN\n",
       "1    NaN\n",
       "2    NaN\n",
       "3    4.0\n",
       "4    5.0\n",
       "dtype: float64"
      ]
     },
     "execution_count": 36,
     "metadata": {},
     "output_type": "execute_result"
    }
   ],
   "source": [
    "ser.where(ser > 3)"
   ]
  },
  {
   "cell_type": "markdown",
   "id": "43d9fde0-38f4-4c42-b4e3-4a866c512d34",
   "metadata": {},
   "source": [
    "3.31 DataFrame 对象的创建"
   ]
  },
  {
   "cell_type": "code",
   "execution_count": 37,
   "id": "fac81098-a1be-421c-8e60-d508378c2b0b",
   "metadata": {},
   "outputs": [
    {
     "data": {
      "text/html": [
       "<div>\n",
       "<style scoped>\n",
       "    .dataframe tbody tr th:only-of-type {\n",
       "        vertical-align: middle;\n",
       "    }\n",
       "\n",
       "    .dataframe tbody tr th {\n",
       "        vertical-align: top;\n",
       "    }\n",
       "\n",
       "    .dataframe thead th {\n",
       "        text-align: right;\n",
       "    }\n",
       "</style>\n",
       "<table border=\"1\" class=\"dataframe\">\n",
       "  <thead>\n",
       "    <tr style=\"text-align: right;\">\n",
       "      <th></th>\n",
       "      <th>a</th>\n",
       "      <th>b</th>\n",
       "      <th>c</th>\n",
       "      <th>d</th>\n",
       "      <th>e</th>\n",
       "    </tr>\n",
       "  </thead>\n",
       "  <tbody>\n",
       "    <tr>\n",
       "      <th>0</th>\n",
       "      <td>5</td>\n",
       "      <td>8</td>\n",
       "      <td>9</td>\n",
       "      <td>5</td>\n",
       "      <td>0</td>\n",
       "    </tr>\n",
       "    <tr>\n",
       "      <th>1</th>\n",
       "      <td>0</td>\n",
       "      <td>1</td>\n",
       "      <td>7</td>\n",
       "      <td>6</td>\n",
       "      <td>9</td>\n",
       "    </tr>\n",
       "    <tr>\n",
       "      <th>2</th>\n",
       "      <td>2</td>\n",
       "      <td>4</td>\n",
       "      <td>5</td>\n",
       "      <td>2</td>\n",
       "      <td>4</td>\n",
       "    </tr>\n",
       "    <tr>\n",
       "      <th>3</th>\n",
       "      <td>2</td>\n",
       "      <td>4</td>\n",
       "      <td>7</td>\n",
       "      <td>7</td>\n",
       "      <td>9</td>\n",
       "    </tr>\n",
       "    <tr>\n",
       "      <th>4</th>\n",
       "      <td>1</td>\n",
       "      <td>7</td>\n",
       "      <td>0</td>\n",
       "      <td>6</td>\n",
       "      <td>9</td>\n",
       "    </tr>\n",
       "  </tbody>\n",
       "</table>\n",
       "</div>"
      ],
      "text/plain": [
       "   a  b  c  d  e\n",
       "0  5  8  9  5  0\n",
       "1  0  1  7  6  9\n",
       "2  2  4  5  2  4\n",
       "3  2  4  7  7  9\n",
       "4  1  7  0  6  9"
      ]
     },
     "execution_count": 37,
     "metadata": {},
     "output_type": "execute_result"
    }
   ],
   "source": [
    "np.random.seed(seed=1)\n",
    "val = np.random.randint(0,10,size=25,).reshape(5,5)\n",
    "df = pd.DataFrame(val, columns=list('abcde'))\n",
    "df"
   ]
  },
  {
   "cell_type": "markdown",
   "id": "1299253d-74fd-401b-a968-45cd77cbbc98",
   "metadata": {},
   "source": [
    "3.32 DataFrame 对象的方括号（[ ]）引用与 where 方法引用的比较"
   ]
  },
  {
   "cell_type": "code",
   "execution_count": 38,
   "id": "903a4431-fac9-44e9-9fcf-a8ef79982ee8",
   "metadata": {},
   "outputs": [
    {
     "data": {
      "text/html": [
       "<div>\n",
       "<style scoped>\n",
       "    .dataframe tbody tr th:only-of-type {\n",
       "        vertical-align: middle;\n",
       "    }\n",
       "\n",
       "    .dataframe tbody tr th {\n",
       "        vertical-align: top;\n",
       "    }\n",
       "\n",
       "    .dataframe thead th {\n",
       "        text-align: right;\n",
       "    }\n",
       "</style>\n",
       "<table border=\"1\" class=\"dataframe\">\n",
       "  <thead>\n",
       "    <tr style=\"text-align: right;\">\n",
       "      <th></th>\n",
       "      <th>a</th>\n",
       "      <th>b</th>\n",
       "      <th>c</th>\n",
       "      <th>d</th>\n",
       "      <th>e</th>\n",
       "    </tr>\n",
       "  </thead>\n",
       "  <tbody>\n",
       "    <tr>\n",
       "      <th>0</th>\n",
       "      <td>5.0</td>\n",
       "      <td>8.0</td>\n",
       "      <td>9.0</td>\n",
       "      <td>5.0</td>\n",
       "      <td>NaN</td>\n",
       "    </tr>\n",
       "    <tr>\n",
       "      <th>1</th>\n",
       "      <td>NaN</td>\n",
       "      <td>NaN</td>\n",
       "      <td>7.0</td>\n",
       "      <td>6.0</td>\n",
       "      <td>9.0</td>\n",
       "    </tr>\n",
       "    <tr>\n",
       "      <th>2</th>\n",
       "      <td>NaN</td>\n",
       "      <td>4.0</td>\n",
       "      <td>5.0</td>\n",
       "      <td>NaN</td>\n",
       "      <td>4.0</td>\n",
       "    </tr>\n",
       "    <tr>\n",
       "      <th>3</th>\n",
       "      <td>NaN</td>\n",
       "      <td>4.0</td>\n",
       "      <td>7.0</td>\n",
       "      <td>7.0</td>\n",
       "      <td>9.0</td>\n",
       "    </tr>\n",
       "    <tr>\n",
       "      <th>4</th>\n",
       "      <td>NaN</td>\n",
       "      <td>7.0</td>\n",
       "      <td>NaN</td>\n",
       "      <td>6.0</td>\n",
       "      <td>9.0</td>\n",
       "    </tr>\n",
       "  </tbody>\n",
       "</table>\n",
       "</div>"
      ],
      "text/plain": [
       "     a    b    c    d    e\n",
       "0  5.0  8.0  9.0  5.0  NaN\n",
       "1  NaN  NaN  7.0  6.0  9.0\n",
       "2  NaN  4.0  5.0  NaN  4.0\n",
       "3  NaN  4.0  7.0  7.0  9.0\n",
       "4  NaN  7.0  NaN  6.0  9.0"
      ]
     },
     "execution_count": 38,
     "metadata": {},
     "output_type": "execute_result"
    }
   ],
   "source": [
    "df[df > 3]"
   ]
  },
  {
   "cell_type": "code",
   "execution_count": 39,
   "id": "309d1985-49d0-4f8b-89bb-ba644515adaf",
   "metadata": {},
   "outputs": [
    {
     "data": {
      "text/html": [
       "<div>\n",
       "<style scoped>\n",
       "    .dataframe tbody tr th:only-of-type {\n",
       "        vertical-align: middle;\n",
       "    }\n",
       "\n",
       "    .dataframe tbody tr th {\n",
       "        vertical-align: top;\n",
       "    }\n",
       "\n",
       "    .dataframe thead th {\n",
       "        text-align: right;\n",
       "    }\n",
       "</style>\n",
       "<table border=\"1\" class=\"dataframe\">\n",
       "  <thead>\n",
       "    <tr style=\"text-align: right;\">\n",
       "      <th></th>\n",
       "      <th>a</th>\n",
       "      <th>b</th>\n",
       "      <th>c</th>\n",
       "      <th>d</th>\n",
       "      <th>e</th>\n",
       "    </tr>\n",
       "  </thead>\n",
       "  <tbody>\n",
       "    <tr>\n",
       "      <th>0</th>\n",
       "      <td>5.0</td>\n",
       "      <td>8.0</td>\n",
       "      <td>9.0</td>\n",
       "      <td>5.0</td>\n",
       "      <td>NaN</td>\n",
       "    </tr>\n",
       "    <tr>\n",
       "      <th>1</th>\n",
       "      <td>NaN</td>\n",
       "      <td>NaN</td>\n",
       "      <td>7.0</td>\n",
       "      <td>6.0</td>\n",
       "      <td>9.0</td>\n",
       "    </tr>\n",
       "    <tr>\n",
       "      <th>2</th>\n",
       "      <td>NaN</td>\n",
       "      <td>4.0</td>\n",
       "      <td>5.0</td>\n",
       "      <td>NaN</td>\n",
       "      <td>4.0</td>\n",
       "    </tr>\n",
       "    <tr>\n",
       "      <th>3</th>\n",
       "      <td>NaN</td>\n",
       "      <td>4.0</td>\n",
       "      <td>7.0</td>\n",
       "      <td>7.0</td>\n",
       "      <td>9.0</td>\n",
       "    </tr>\n",
       "    <tr>\n",
       "      <th>4</th>\n",
       "      <td>NaN</td>\n",
       "      <td>7.0</td>\n",
       "      <td>NaN</td>\n",
       "      <td>6.0</td>\n",
       "      <td>9.0</td>\n",
       "    </tr>\n",
       "  </tbody>\n",
       "</table>\n",
       "</div>"
      ],
      "text/plain": [
       "     a    b    c    d    e\n",
       "0  5.0  8.0  9.0  5.0  NaN\n",
       "1  NaN  NaN  7.0  6.0  9.0\n",
       "2  NaN  4.0  5.0  NaN  4.0\n",
       "3  NaN  4.0  7.0  7.0  9.0\n",
       "4  NaN  7.0  NaN  6.0  9.0"
      ]
     },
     "execution_count": 39,
     "metadata": {},
     "output_type": "execute_result"
    }
   ],
   "source": [
    "df.where(df > 3)"
   ]
  },
  {
   "cell_type": "markdown",
   "id": "a03437c0-ae54-4caa-b4f1-773fbfc9cf73",
   "metadata": {},
   "source": [
    "3.33 where 方法的 other 参数"
   ]
  },
  {
   "cell_type": "code",
   "execution_count": 40,
   "id": "1a3f388c-9c70-48f3-a585-c5eddc67ab99",
   "metadata": {},
   "outputs": [
    {
     "data": {
      "text/html": [
       "<div>\n",
       "<style scoped>\n",
       "    .dataframe tbody tr th:only-of-type {\n",
       "        vertical-align: middle;\n",
       "    }\n",
       "\n",
       "    .dataframe tbody tr th {\n",
       "        vertical-align: top;\n",
       "    }\n",
       "\n",
       "    .dataframe thead th {\n",
       "        text-align: right;\n",
       "    }\n",
       "</style>\n",
       "<table border=\"1\" class=\"dataframe\">\n",
       "  <thead>\n",
       "    <tr style=\"text-align: right;\">\n",
       "      <th></th>\n",
       "      <th>a</th>\n",
       "      <th>b</th>\n",
       "      <th>c</th>\n",
       "      <th>d</th>\n",
       "      <th>e</th>\n",
       "    </tr>\n",
       "  </thead>\n",
       "  <tbody>\n",
       "    <tr>\n",
       "      <th>0</th>\n",
       "      <td>5</td>\n",
       "      <td>8</td>\n",
       "      <td>9</td>\n",
       "      <td>5</td>\n",
       "      <td>-1</td>\n",
       "    </tr>\n",
       "    <tr>\n",
       "      <th>1</th>\n",
       "      <td>-1</td>\n",
       "      <td>1</td>\n",
       "      <td>7</td>\n",
       "      <td>6</td>\n",
       "      <td>9</td>\n",
       "    </tr>\n",
       "    <tr>\n",
       "      <th>2</th>\n",
       "      <td>2</td>\n",
       "      <td>4</td>\n",
       "      <td>5</td>\n",
       "      <td>2</td>\n",
       "      <td>4</td>\n",
       "    </tr>\n",
       "    <tr>\n",
       "      <th>3</th>\n",
       "      <td>2</td>\n",
       "      <td>4</td>\n",
       "      <td>7</td>\n",
       "      <td>7</td>\n",
       "      <td>9</td>\n",
       "    </tr>\n",
       "    <tr>\n",
       "      <th>4</th>\n",
       "      <td>1</td>\n",
       "      <td>7</td>\n",
       "      <td>-1</td>\n",
       "      <td>6</td>\n",
       "      <td>9</td>\n",
       "    </tr>\n",
       "  </tbody>\n",
       "</table>\n",
       "</div>"
      ],
      "text/plain": [
       "   a  b  c  d  e\n",
       "0  5  8  9  5 -1\n",
       "1 -1  1  7  6  9\n",
       "2  2  4  5  2  4\n",
       "3  2  4  7  7  9\n",
       "4  1  7 -1  6  9"
      ]
     },
     "execution_count": 40,
     "metadata": {},
     "output_type": "execute_result"
    }
   ],
   "source": [
    "df = df.where(~(df == 0), other=-1)\n",
    "df"
   ]
  },
  {
   "cell_type": "markdown",
   "id": "7ea1d614-2891-497d-b10c-1b4cfe0e5edc",
   "metadata": {},
   "source": [
    "3.34 使用 bool 类型数组变更 DataFrame 对象的值"
   ]
  },
  {
   "cell_type": "code",
   "execution_count": 41,
   "id": "e4e6148d-d909-4276-9147-e57c7f05bdfc",
   "metadata": {},
   "outputs": [
    {
     "data": {
      "text/html": [
       "<div>\n",
       "<style scoped>\n",
       "    .dataframe tbody tr th:only-of-type {\n",
       "        vertical-align: middle;\n",
       "    }\n",
       "\n",
       "    .dataframe tbody tr th {\n",
       "        vertical-align: top;\n",
       "    }\n",
       "\n",
       "    .dataframe thead th {\n",
       "        text-align: right;\n",
       "    }\n",
       "</style>\n",
       "<table border=\"1\" class=\"dataframe\">\n",
       "  <thead>\n",
       "    <tr style=\"text-align: right;\">\n",
       "      <th></th>\n",
       "      <th>a</th>\n",
       "      <th>b</th>\n",
       "      <th>c</th>\n",
       "      <th>d</th>\n",
       "      <th>e</th>\n",
       "    </tr>\n",
       "  </thead>\n",
       "  <tbody>\n",
       "    <tr>\n",
       "      <th>0</th>\n",
       "      <td>5</td>\n",
       "      <td>8</td>\n",
       "      <td>9</td>\n",
       "      <td>5</td>\n",
       "      <td>0</td>\n",
       "    </tr>\n",
       "    <tr>\n",
       "      <th>1</th>\n",
       "      <td>0</td>\n",
       "      <td>1</td>\n",
       "      <td>7</td>\n",
       "      <td>6</td>\n",
       "      <td>9</td>\n",
       "    </tr>\n",
       "    <tr>\n",
       "      <th>2</th>\n",
       "      <td>2</td>\n",
       "      <td>4</td>\n",
       "      <td>5</td>\n",
       "      <td>2</td>\n",
       "      <td>4</td>\n",
       "    </tr>\n",
       "    <tr>\n",
       "      <th>3</th>\n",
       "      <td>2</td>\n",
       "      <td>4</td>\n",
       "      <td>7</td>\n",
       "      <td>7</td>\n",
       "      <td>9</td>\n",
       "    </tr>\n",
       "    <tr>\n",
       "      <th>4</th>\n",
       "      <td>1</td>\n",
       "      <td>7</td>\n",
       "      <td>0</td>\n",
       "      <td>6</td>\n",
       "      <td>9</td>\n",
       "    </tr>\n",
       "  </tbody>\n",
       "</table>\n",
       "</div>"
      ],
      "text/plain": [
       "   a  b  c  d  e\n",
       "0  5  8  9  5  0\n",
       "1  0  1  7  6  9\n",
       "2  2  4  5  2  4\n",
       "3  2  4  7  7  9\n",
       "4  1  7  0  6  9"
      ]
     },
     "execution_count": 41,
     "metadata": {},
     "output_type": "execute_result"
    }
   ],
   "source": [
    "df[df == -1] = 0\n",
    "df"
   ]
  },
  {
   "cell_type": "markdown",
   "id": "5b047a6c-8280-4b04-a7eb-976479b96e56",
   "metadata": {},
   "source": [
    "3.35 DataFrame 对象的 mask 方法"
   ]
  },
  {
   "cell_type": "code",
   "execution_count": 42,
   "id": "08b3f01d-ae07-44f2-a91b-b682d11b5c4a",
   "metadata": {},
   "outputs": [
    {
     "data": {
      "text/html": [
       "<div>\n",
       "<style scoped>\n",
       "    .dataframe tbody tr th:only-of-type {\n",
       "        vertical-align: middle;\n",
       "    }\n",
       "\n",
       "    .dataframe tbody tr th {\n",
       "        vertical-align: top;\n",
       "    }\n",
       "\n",
       "    .dataframe thead th {\n",
       "        text-align: right;\n",
       "    }\n",
       "</style>\n",
       "<table border=\"1\" class=\"dataframe\">\n",
       "  <thead>\n",
       "    <tr style=\"text-align: right;\">\n",
       "      <th></th>\n",
       "      <th>a</th>\n",
       "      <th>b</th>\n",
       "      <th>c</th>\n",
       "      <th>d</th>\n",
       "      <th>e</th>\n",
       "    </tr>\n",
       "  </thead>\n",
       "  <tbody>\n",
       "    <tr>\n",
       "      <th>0</th>\n",
       "      <td>5.0</td>\n",
       "      <td>8.0</td>\n",
       "      <td>9.0</td>\n",
       "      <td>5.0</td>\n",
       "      <td>NaN</td>\n",
       "    </tr>\n",
       "    <tr>\n",
       "      <th>1</th>\n",
       "      <td>NaN</td>\n",
       "      <td>NaN</td>\n",
       "      <td>7.0</td>\n",
       "      <td>6.0</td>\n",
       "      <td>9.0</td>\n",
       "    </tr>\n",
       "    <tr>\n",
       "      <th>2</th>\n",
       "      <td>NaN</td>\n",
       "      <td>NaN</td>\n",
       "      <td>5.0</td>\n",
       "      <td>NaN</td>\n",
       "      <td>NaN</td>\n",
       "    </tr>\n",
       "    <tr>\n",
       "      <th>3</th>\n",
       "      <td>NaN</td>\n",
       "      <td>NaN</td>\n",
       "      <td>7.0</td>\n",
       "      <td>7.0</td>\n",
       "      <td>9.0</td>\n",
       "    </tr>\n",
       "    <tr>\n",
       "      <th>4</th>\n",
       "      <td>NaN</td>\n",
       "      <td>7.0</td>\n",
       "      <td>NaN</td>\n",
       "      <td>6.0</td>\n",
       "      <td>9.0</td>\n",
       "    </tr>\n",
       "  </tbody>\n",
       "</table>\n",
       "</div>"
      ],
      "text/plain": [
       "     a    b    c    d    e\n",
       "0  5.0  8.0  9.0  5.0  NaN\n",
       "1  NaN  NaN  7.0  6.0  9.0\n",
       "2  NaN  NaN  5.0  NaN  NaN\n",
       "3  NaN  NaN  7.0  7.0  9.0\n",
       "4  NaN  7.0  NaN  6.0  9.0"
      ]
     },
     "execution_count": 42,
     "metadata": {},
     "output_type": "execute_result"
    }
   ],
   "source": [
    "df.mask(df < 5)"
   ]
  },
  {
   "cell_type": "markdown",
   "id": "8460b910-548b-42c7-b996-0a9db295f598",
   "metadata": {},
   "source": [
    "### query方法"
   ]
  },
  {
   "cell_type": "markdown",
   "id": "7f278d40-44e1-40d5-9608-d4b3c99d5c9f",
   "metadata": {},
   "source": [
    "3.36 DataFrame 对象的创建"
   ]
  },
  {
   "cell_type": "code",
   "execution_count": 43,
   "id": "bb168154-ea8d-4425-9444-2a77e2d32caa",
   "metadata": {},
   "outputs": [
    {
     "data": {
      "text/html": [
       "<div>\n",
       "<style scoped>\n",
       "    .dataframe tbody tr th:only-of-type {\n",
       "        vertical-align: middle;\n",
       "    }\n",
       "\n",
       "    .dataframe tbody tr th {\n",
       "        vertical-align: top;\n",
       "    }\n",
       "\n",
       "    .dataframe thead th {\n",
       "        text-align: right;\n",
       "    }\n",
       "</style>\n",
       "<table border=\"1\" class=\"dataframe\">\n",
       "  <thead>\n",
       "    <tr style=\"text-align: right;\">\n",
       "      <th></th>\n",
       "      <th>c</th>\n",
       "      <th>d</th>\n",
       "      <th>e</th>\n",
       "    </tr>\n",
       "  </thead>\n",
       "  <tbody>\n",
       "    <tr>\n",
       "      <th>2</th>\n",
       "      <td>1</td>\n",
       "      <td>2</td>\n",
       "      <td>3</td>\n",
       "    </tr>\n",
       "    <tr>\n",
       "      <th>4</th>\n",
       "      <td>4</td>\n",
       "      <td>5</td>\n",
       "      <td>6</td>\n",
       "    </tr>\n",
       "  </tbody>\n",
       "</table>\n",
       "</div>"
      ],
      "text/plain": [
       "   c  d  e\n",
       "2  1  2  3\n",
       "4  4  5  6"
      ]
     },
     "execution_count": 43,
     "metadata": {},
     "output_type": "execute_result"
    }
   ],
   "source": [
    "df = pd.DataFrame([[1,2,3],[4,5,6]], index=[2,4], columns=list('cde'))\n",
    "df"
   ]
  },
  {
   "cell_type": "markdown",
   "id": "f625efa4-29f0-4a0d-a443-2139e22ddbc3",
   "metadata": {},
   "source": [
    "3.37 DataFrame 对象的 query 方法"
   ]
  },
  {
   "cell_type": "code",
   "execution_count": 44,
   "id": "bf9e3488-782e-41a3-a369-bb1cad5cf614",
   "metadata": {},
   "outputs": [
    {
     "data": {
      "text/html": [
       "<div>\n",
       "<style scoped>\n",
       "    .dataframe tbody tr th:only-of-type {\n",
       "        vertical-align: middle;\n",
       "    }\n",
       "\n",
       "    .dataframe tbody tr th {\n",
       "        vertical-align: top;\n",
       "    }\n",
       "\n",
       "    .dataframe thead th {\n",
       "        text-align: right;\n",
       "    }\n",
       "</style>\n",
       "<table border=\"1\" class=\"dataframe\">\n",
       "  <thead>\n",
       "    <tr style=\"text-align: right;\">\n",
       "      <th></th>\n",
       "      <th>c</th>\n",
       "      <th>d</th>\n",
       "      <th>e</th>\n",
       "    </tr>\n",
       "  </thead>\n",
       "  <tbody>\n",
       "    <tr>\n",
       "      <th>2</th>\n",
       "      <td>1</td>\n",
       "      <td>2</td>\n",
       "      <td>3</td>\n",
       "    </tr>\n",
       "  </tbody>\n",
       "</table>\n",
       "</div>"
      ],
      "text/plain": [
       "   c  d  e\n",
       "2  1  2  3"
      ]
     },
     "execution_count": 44,
     "metadata": {},
     "output_type": "execute_result"
    }
   ],
   "source": [
    "df.query('index > c')"
   ]
  },
  {
   "cell_type": "markdown",
   "id": "2c9c9eb8-b9c5-48eb-8f90-07b4ce4e686b",
   "metadata": {},
   "source": [
    "3.38 query 方法与索引的 name 属性"
   ]
  },
  {
   "cell_type": "code",
   "execution_count": 45,
   "id": "e054957c-588b-44e2-8dea-907077e870ba",
   "metadata": {},
   "outputs": [
    {
     "data": {
      "text/html": [
       "<div>\n",
       "<style scoped>\n",
       "    .dataframe tbody tr th:only-of-type {\n",
       "        vertical-align: middle;\n",
       "    }\n",
       "\n",
       "    .dataframe tbody tr th {\n",
       "        vertical-align: top;\n",
       "    }\n",
       "\n",
       "    .dataframe thead th {\n",
       "        text-align: right;\n",
       "    }\n",
       "</style>\n",
       "<table border=\"1\" class=\"dataframe\">\n",
       "  <thead>\n",
       "    <tr style=\"text-align: right;\">\n",
       "      <th></th>\n",
       "      <th>c</th>\n",
       "      <th>d</th>\n",
       "      <th>e</th>\n",
       "    </tr>\n",
       "    <tr>\n",
       "      <th>index_name</th>\n",
       "      <th></th>\n",
       "      <th></th>\n",
       "      <th></th>\n",
       "    </tr>\n",
       "  </thead>\n",
       "  <tbody>\n",
       "    <tr>\n",
       "      <th>2</th>\n",
       "      <td>1</td>\n",
       "      <td>2</td>\n",
       "      <td>3</td>\n",
       "    </tr>\n",
       "  </tbody>\n",
       "</table>\n",
       "</div>"
      ],
      "text/plain": [
       "            c  d  e\n",
       "index_name         \n",
       "2           1  2  3"
      ]
     },
     "execution_count": 45,
     "metadata": {},
     "output_type": "execute_result"
    }
   ],
   "source": [
    "df.index.name = 'index_name'\n",
    "df.query('index_name > c')"
   ]
  },
  {
   "cell_type": "markdown",
   "id": "8d56ee12-65ca-42f0-8e44-d61102730367",
   "metadata": {},
   "source": [
    "3.39 DataFrame 对象的创建"
   ]
  },
  {
   "cell_type": "code",
   "execution_count": 46,
   "id": "ad155964-a1e9-4794-a1f5-229274451bf1",
   "metadata": {},
   "outputs": [
    {
     "data": {
      "text/html": [
       "<div>\n",
       "<style scoped>\n",
       "    .dataframe tbody tr th:only-of-type {\n",
       "        vertical-align: middle;\n",
       "    }\n",
       "\n",
       "    .dataframe tbody tr th {\n",
       "        vertical-align: top;\n",
       "    }\n",
       "\n",
       "    .dataframe thead th {\n",
       "        text-align: right;\n",
       "    }\n",
       "</style>\n",
       "<table border=\"1\" class=\"dataframe\">\n",
       "  <thead>\n",
       "    <tr style=\"text-align: right;\">\n",
       "      <th></th>\n",
       "      <th>A</th>\n",
       "      <th>B</th>\n",
       "      <th>C</th>\n",
       "    </tr>\n",
       "  </thead>\n",
       "  <tbody>\n",
       "    <tr>\n",
       "      <th>数学</th>\n",
       "      <td>76</td>\n",
       "      <td>86</td>\n",
       "      <td>90</td>\n",
       "    </tr>\n",
       "    <tr>\n",
       "      <th>英语</th>\n",
       "      <td>91</td>\n",
       "      <td>78</td>\n",
       "      <td>80</td>\n",
       "    </tr>\n",
       "    <tr>\n",
       "      <th>物理</th>\n",
       "      <td>88</td>\n",
       "      <td>76</td>\n",
       "      <td>76</td>\n",
       "    </tr>\n",
       "  </tbody>\n",
       "</table>\n",
       "</div>"
      ],
      "text/plain": [
       "     A   B   C\n",
       "数学  76  86  90\n",
       "英语  91  78  80\n",
       "物理  88  76  76"
      ]
     },
     "execution_count": 46,
     "metadata": {},
     "output_type": "execute_result"
    }
   ],
   "source": [
    "scores = [[76,86,90],[91,78,80],[88,76,76]]\n",
    "names = ['A','B','C']\n",
    "subjects = ['数学','英语','物理']\n",
    "df = pd.DataFrame(scores, index=subjects, columns=names)\n",
    "df"
   ]
  },
  {
   "cell_type": "markdown",
   "id": "0fb8c399-b02b-4255-8418-da55709058cf",
   "metadata": {},
   "source": [
    "3.40 使用 query 方法和条件表达式进行引用"
   ]
  },
  {
   "cell_type": "code",
   "execution_count": 47,
   "id": "820c9623-922c-4d08-b63d-fe65b539e83c",
   "metadata": {},
   "outputs": [
    {
     "data": {
      "text/html": [
       "<div>\n",
       "<style scoped>\n",
       "    .dataframe tbody tr th:only-of-type {\n",
       "        vertical-align: middle;\n",
       "    }\n",
       "\n",
       "    .dataframe tbody tr th {\n",
       "        vertical-align: top;\n",
       "    }\n",
       "\n",
       "    .dataframe thead th {\n",
       "        text-align: right;\n",
       "    }\n",
       "</style>\n",
       "<table border=\"1\" class=\"dataframe\">\n",
       "  <thead>\n",
       "    <tr style=\"text-align: right;\">\n",
       "      <th></th>\n",
       "      <th>A</th>\n",
       "      <th>B</th>\n",
       "      <th>C</th>\n",
       "    </tr>\n",
       "  </thead>\n",
       "  <tbody>\n",
       "    <tr>\n",
       "      <th>英语</th>\n",
       "      <td>91</td>\n",
       "      <td>78</td>\n",
       "      <td>80</td>\n",
       "    </tr>\n",
       "    <tr>\n",
       "      <th>物理</th>\n",
       "      <td>88</td>\n",
       "      <td>76</td>\n",
       "      <td>76</td>\n",
       "    </tr>\n",
       "  </tbody>\n",
       "</table>\n",
       "</div>"
      ],
      "text/plain": [
       "     A   B   C\n",
       "英语  91  78  80\n",
       "物理  88  76  76"
      ]
     },
     "execution_count": 47,
     "metadata": {},
     "output_type": "execute_result"
    }
   ],
   "source": [
    "df.query('A > B')"
   ]
  },
  {
   "cell_type": "markdown",
   "id": "b47c10ee-bf01-4555-8ef8-dd31f615e61b",
   "metadata": {},
   "source": [
    "3.41 使用条件表达式和方括号（[ ]）进行引用"
   ]
  },
  {
   "cell_type": "code",
   "execution_count": 48,
   "id": "13eae811-7b9c-4a35-911d-5044b97ad6c9",
   "metadata": {},
   "outputs": [
    {
     "data": {
      "text/html": [
       "<div>\n",
       "<style scoped>\n",
       "    .dataframe tbody tr th:only-of-type {\n",
       "        vertical-align: middle;\n",
       "    }\n",
       "\n",
       "    .dataframe tbody tr th {\n",
       "        vertical-align: top;\n",
       "    }\n",
       "\n",
       "    .dataframe thead th {\n",
       "        text-align: right;\n",
       "    }\n",
       "</style>\n",
       "<table border=\"1\" class=\"dataframe\">\n",
       "  <thead>\n",
       "    <tr style=\"text-align: right;\">\n",
       "      <th></th>\n",
       "      <th>A</th>\n",
       "      <th>B</th>\n",
       "      <th>C</th>\n",
       "    </tr>\n",
       "  </thead>\n",
       "  <tbody>\n",
       "    <tr>\n",
       "      <th>英语</th>\n",
       "      <td>91</td>\n",
       "      <td>78</td>\n",
       "      <td>80</td>\n",
       "    </tr>\n",
       "    <tr>\n",
       "      <th>物理</th>\n",
       "      <td>88</td>\n",
       "      <td>76</td>\n",
       "      <td>76</td>\n",
       "    </tr>\n",
       "  </tbody>\n",
       "</table>\n",
       "</div>"
      ],
      "text/plain": [
       "     A   B   C\n",
       "英语  91  78  80\n",
       "物理  88  76  76"
      ]
     },
     "execution_count": 48,
     "metadata": {},
     "output_type": "execute_result"
    }
   ],
   "source": [
    "df[df['A'] > df['B']]"
   ]
  },
  {
   "cell_type": "markdown",
   "id": "8b82eec6-daa0-44be-820b-d8f79505e292",
   "metadata": {},
   "source": [
    "3.42 query 方法与运算符“&”"
   ]
  },
  {
   "cell_type": "code",
   "execution_count": 49,
   "id": "e9759dad-8dbd-41fd-a4fe-f4fbafa45287",
   "metadata": {},
   "outputs": [
    {
     "data": {
      "text/html": [
       "<div>\n",
       "<style scoped>\n",
       "    .dataframe tbody tr th:only-of-type {\n",
       "        vertical-align: middle;\n",
       "    }\n",
       "\n",
       "    .dataframe tbody tr th {\n",
       "        vertical-align: top;\n",
       "    }\n",
       "\n",
       "    .dataframe thead th {\n",
       "        text-align: right;\n",
       "    }\n",
       "</style>\n",
       "<table border=\"1\" class=\"dataframe\">\n",
       "  <thead>\n",
       "    <tr style=\"text-align: right;\">\n",
       "      <th></th>\n",
       "      <th>A</th>\n",
       "      <th>B</th>\n",
       "      <th>C</th>\n",
       "    </tr>\n",
       "  </thead>\n",
       "  <tbody>\n",
       "    <tr>\n",
       "      <th>英语</th>\n",
       "      <td>91</td>\n",
       "      <td>78</td>\n",
       "      <td>80</td>\n",
       "    </tr>\n",
       "    <tr>\n",
       "      <th>物理</th>\n",
       "      <td>88</td>\n",
       "      <td>76</td>\n",
       "      <td>76</td>\n",
       "    </tr>\n",
       "  </tbody>\n",
       "</table>\n",
       "</div>"
      ],
      "text/plain": [
       "     A   B   C\n",
       "英语  91  78  80\n",
       "物理  88  76  76"
      ]
     },
     "execution_count": 49,
     "metadata": {},
     "output_type": "execute_result"
    }
   ],
   "source": [
    "df.query('(A > B) & (A > C)')"
   ]
  },
  {
   "cell_type": "markdown",
   "id": "1f21e338-b26a-47a8-8f08-34890e5f2e91",
   "metadata": {},
   "source": [
    "3.43 使用条件表达式和方括号（[ ]）进行引用"
   ]
  },
  {
   "cell_type": "code",
   "execution_count": 50,
   "id": "93889086-eff2-4f33-98de-fd2e7bb2062b",
   "metadata": {},
   "outputs": [
    {
     "data": {
      "text/html": [
       "<div>\n",
       "<style scoped>\n",
       "    .dataframe tbody tr th:only-of-type {\n",
       "        vertical-align: middle;\n",
       "    }\n",
       "\n",
       "    .dataframe tbody tr th {\n",
       "        vertical-align: top;\n",
       "    }\n",
       "\n",
       "    .dataframe thead th {\n",
       "        text-align: right;\n",
       "    }\n",
       "</style>\n",
       "<table border=\"1\" class=\"dataframe\">\n",
       "  <thead>\n",
       "    <tr style=\"text-align: right;\">\n",
       "      <th></th>\n",
       "      <th>A</th>\n",
       "      <th>B</th>\n",
       "      <th>C</th>\n",
       "    </tr>\n",
       "  </thead>\n",
       "  <tbody>\n",
       "    <tr>\n",
       "      <th>英语</th>\n",
       "      <td>91</td>\n",
       "      <td>78</td>\n",
       "      <td>80</td>\n",
       "    </tr>\n",
       "    <tr>\n",
       "      <th>物理</th>\n",
       "      <td>88</td>\n",
       "      <td>76</td>\n",
       "      <td>76</td>\n",
       "    </tr>\n",
       "  </tbody>\n",
       "</table>\n",
       "</div>"
      ],
      "text/plain": [
       "     A   B   C\n",
       "英语  91  78  80\n",
       "物理  88  76  76"
      ]
     },
     "execution_count": 50,
     "metadata": {},
     "output_type": "execute_result"
    }
   ],
   "source": [
    "df[(df['A'] > df['B']) & (df['A'] > df['C'])]"
   ]
  },
  {
   "cell_type": "markdown",
   "id": "c3711028-a99e-4998-8a94-2c92b7c5f0f1",
   "metadata": {},
   "source": [
    "3.44 使用多个条件表达式进行引用"
   ]
  },
  {
   "cell_type": "code",
   "execution_count": 51,
   "id": "0235c532-f726-4821-8557-16d9e8dc2cc5",
   "metadata": {},
   "outputs": [
    {
     "data": {
      "text/html": [
       "<div>\n",
       "<style scoped>\n",
       "    .dataframe tbody tr th:only-of-type {\n",
       "        vertical-align: middle;\n",
       "    }\n",
       "\n",
       "    .dataframe tbody tr th {\n",
       "        vertical-align: top;\n",
       "    }\n",
       "\n",
       "    .dataframe thead th {\n",
       "        text-align: right;\n",
       "    }\n",
       "</style>\n",
       "<table border=\"1\" class=\"dataframe\">\n",
       "  <thead>\n",
       "    <tr style=\"text-align: right;\">\n",
       "      <th></th>\n",
       "      <th>A</th>\n",
       "      <th>B</th>\n",
       "      <th>C</th>\n",
       "    </tr>\n",
       "  </thead>\n",
       "  <tbody>\n",
       "    <tr>\n",
       "      <th>英语</th>\n",
       "      <td>91</td>\n",
       "      <td>78</td>\n",
       "      <td>80</td>\n",
       "    </tr>\n",
       "  </tbody>\n",
       "</table>\n",
       "</div>"
      ],
      "text/plain": [
       "     A   B   C\n",
       "英语  91  78  80"
      ]
     },
     "execution_count": 51,
     "metadata": {},
     "output_type": "execute_result"
    }
   ],
   "source": [
    "df.query('A > C > B')"
   ]
  },
  {
   "cell_type": "code",
   "execution_count": 52,
   "id": "353d5e2b-59fd-4c07-862a-a64ba9476b17",
   "metadata": {},
   "outputs": [
    {
     "data": {
      "text/html": [
       "<div>\n",
       "<style scoped>\n",
       "    .dataframe tbody tr th:only-of-type {\n",
       "        vertical-align: middle;\n",
       "    }\n",
       "\n",
       "    .dataframe tbody tr th {\n",
       "        vertical-align: top;\n",
       "    }\n",
       "\n",
       "    .dataframe thead th {\n",
       "        text-align: right;\n",
       "    }\n",
       "</style>\n",
       "<table border=\"1\" class=\"dataframe\">\n",
       "  <thead>\n",
       "    <tr style=\"text-align: right;\">\n",
       "      <th></th>\n",
       "      <th>A</th>\n",
       "      <th>B</th>\n",
       "      <th>C</th>\n",
       "    </tr>\n",
       "  </thead>\n",
       "  <tbody>\n",
       "    <tr>\n",
       "      <th>英语</th>\n",
       "      <td>91</td>\n",
       "      <td>78</td>\n",
       "      <td>80</td>\n",
       "    </tr>\n",
       "  </tbody>\n",
       "</table>\n",
       "</div>"
      ],
      "text/plain": [
       "     A   B   C\n",
       "英语  91  78  80"
      ]
     },
     "execution_count": 52,
     "metadata": {},
     "output_type": "execute_result"
    }
   ],
   "source": [
    "df.query('(A > C) & (C > B)')"
   ]
  },
  {
   "cell_type": "markdown",
   "id": "f92811fe-67b3-491e-9e1d-a190c8ad1cf7",
   "metadata": {},
   "source": [
    "3.45 使用多个值进行数据引用"
   ]
  },
  {
   "cell_type": "code",
   "execution_count": 53,
   "id": "e8138fd9-6423-4c02-aad6-bef9302b0b31",
   "metadata": {},
   "outputs": [
    {
     "data": {
      "text/html": [
       "<div>\n",
       "<style scoped>\n",
       "    .dataframe tbody tr th:only-of-type {\n",
       "        vertical-align: middle;\n",
       "    }\n",
       "\n",
       "    .dataframe tbody tr th {\n",
       "        vertical-align: top;\n",
       "    }\n",
       "\n",
       "    .dataframe thead th {\n",
       "        text-align: right;\n",
       "    }\n",
       "</style>\n",
       "<table border=\"1\" class=\"dataframe\">\n",
       "  <thead>\n",
       "    <tr style=\"text-align: right;\">\n",
       "      <th></th>\n",
       "      <th>A</th>\n",
       "      <th>B</th>\n",
       "      <th>C</th>\n",
       "    </tr>\n",
       "  </thead>\n",
       "  <tbody>\n",
       "    <tr>\n",
       "      <th>数学</th>\n",
       "      <td>76</td>\n",
       "      <td>86</td>\n",
       "      <td>90</td>\n",
       "    </tr>\n",
       "    <tr>\n",
       "      <th>英语</th>\n",
       "      <td>91</td>\n",
       "      <td>78</td>\n",
       "      <td>80</td>\n",
       "    </tr>\n",
       "  </tbody>\n",
       "</table>\n",
       "</div>"
      ],
      "text/plain": [
       "     A   B   C\n",
       "数学  76  86  90\n",
       "英语  91  78  80"
      ]
     },
     "execution_count": 53,
     "metadata": {},
     "output_type": "execute_result"
    }
   ],
   "source": [
    "df.query('A == [76, 91]')"
   ]
  },
  {
   "cell_type": "markdown",
   "id": "f675b37d-84a4-417d-a413-e98722db258a",
   "metadata": {},
   "source": [
    "3.46 read_csv 函数"
   ]
  },
  {
   "cell_type": "markdown",
   "id": "d29b60ec-102d-4a62-8e71-4311a102125e",
   "metadata": {},
   "source": [
    "## 3.2 文件的读取与写入"
   ]
  },
  {
   "cell_type": "markdown",
   "id": "5159f477-5360-4edd-b43f-1ed8ec9b2119",
   "metadata": {},
   "source": [
    "### 3.2.1 CSV"
   ]
  },
  {
   "cell_type": "code",
   "execution_count": 54,
   "id": "db7a930e-4fb5-4eff-95ba-4c1d50a6c7f7",
   "metadata": {},
   "outputs": [
    {
     "data": {
      "text/html": [
       "<div>\n",
       "<style scoped>\n",
       "    .dataframe tbody tr th:only-of-type {\n",
       "        vertical-align: middle;\n",
       "    }\n",
       "\n",
       "    .dataframe tbody tr th {\n",
       "        vertical-align: top;\n",
       "    }\n",
       "\n",
       "    .dataframe thead th {\n",
       "        text-align: right;\n",
       "    }\n",
       "</style>\n",
       "<table border=\"1\" class=\"dataframe\">\n",
       "  <thead>\n",
       "    <tr style=\"text-align: right;\">\n",
       "      <th></th>\n",
       "      <th>a</th>\n",
       "      <th>b</th>\n",
       "      <th>c</th>\n",
       "      <th>d</th>\n",
       "      <th>e</th>\n",
       "    </tr>\n",
       "  </thead>\n",
       "  <tbody>\n",
       "    <tr>\n",
       "      <th>0</th>\n",
       "      <td>37</td>\n",
       "      <td>12</td>\n",
       "      <td>72</td>\n",
       "      <td>9</td>\n",
       "      <td>75</td>\n",
       "    </tr>\n",
       "    <tr>\n",
       "      <th>1</th>\n",
       "      <td>5</td>\n",
       "      <td>79</td>\n",
       "      <td>64</td>\n",
       "      <td>16</td>\n",
       "      <td>1</td>\n",
       "    </tr>\n",
       "    <tr>\n",
       "      <th>2</th>\n",
       "      <td>76</td>\n",
       "      <td>71</td>\n",
       "      <td>6</td>\n",
       "      <td>25</td>\n",
       "      <td>50</td>\n",
       "    </tr>\n",
       "    <tr>\n",
       "      <th>3</th>\n",
       "      <td>20</td>\n",
       "      <td>18</td>\n",
       "      <td>84</td>\n",
       "      <td>11</td>\n",
       "      <td>28</td>\n",
       "    </tr>\n",
       "    <tr>\n",
       "      <th>4</th>\n",
       "      <td>29</td>\n",
       "      <td>14</td>\n",
       "      <td>50</td>\n",
       "      <td>68</td>\n",
       "      <td>87</td>\n",
       "    </tr>\n",
       "  </tbody>\n",
       "</table>\n",
       "</div>"
      ],
      "text/plain": [
       "    a   b   c   d   e\n",
       "0  37  12  72   9  75\n",
       "1   5  79  64  16   1\n",
       "2  76  71   6  25  50\n",
       "3  20  18  84  11  28\n",
       "4  29  14  50  68  87"
      ]
     },
     "execution_count": 54,
     "metadata": {},
     "output_type": "execute_result"
    }
   ],
   "source": [
    "df = pd.read_csv('./data/ex1.csv')\n",
    "df"
   ]
  },
  {
   "cell_type": "markdown",
   "id": "290b0927-7e1f-4a02-9ec9-4796eb74405e",
   "metadata": {},
   "source": [
    "3.47 read_csv 函数和 header 参数（整数）"
   ]
  },
  {
   "cell_type": "code",
   "execution_count": 55,
   "id": "e69aa7c1-b22c-4d58-b753-0eb9ba7e7aca",
   "metadata": {},
   "outputs": [
    {
     "data": {
      "text/html": [
       "<div>\n",
       "<style scoped>\n",
       "    .dataframe tbody tr th:only-of-type {\n",
       "        vertical-align: middle;\n",
       "    }\n",
       "\n",
       "    .dataframe tbody tr th {\n",
       "        vertical-align: top;\n",
       "    }\n",
       "\n",
       "    .dataframe thead th {\n",
       "        text-align: right;\n",
       "    }\n",
       "</style>\n",
       "<table border=\"1\" class=\"dataframe\">\n",
       "  <thead>\n",
       "    <tr style=\"text-align: right;\">\n",
       "      <th></th>\n",
       "      <th>5</th>\n",
       "      <th>79</th>\n",
       "      <th>64</th>\n",
       "      <th>16</th>\n",
       "      <th>1</th>\n",
       "    </tr>\n",
       "  </thead>\n",
       "  <tbody>\n",
       "    <tr>\n",
       "      <th>0</th>\n",
       "      <td>76</td>\n",
       "      <td>71</td>\n",
       "      <td>6</td>\n",
       "      <td>25</td>\n",
       "      <td>50</td>\n",
       "    </tr>\n",
       "    <tr>\n",
       "      <th>1</th>\n",
       "      <td>20</td>\n",
       "      <td>18</td>\n",
       "      <td>84</td>\n",
       "      <td>11</td>\n",
       "      <td>28</td>\n",
       "    </tr>\n",
       "    <tr>\n",
       "      <th>2</th>\n",
       "      <td>29</td>\n",
       "      <td>14</td>\n",
       "      <td>50</td>\n",
       "      <td>68</td>\n",
       "      <td>87</td>\n",
       "    </tr>\n",
       "  </tbody>\n",
       "</table>\n",
       "</div>"
      ],
      "text/plain": [
       "    5  79  64  16   1\n",
       "0  76  71   6  25  50\n",
       "1  20  18  84  11  28\n",
       "2  29  14  50  68  87"
      ]
     },
     "execution_count": 55,
     "metadata": {},
     "output_type": "execute_result"
    }
   ],
   "source": [
    "pd.read_csv('./data/ex1.csv', header=2)"
   ]
  },
  {
   "cell_type": "markdown",
   "id": "58af9e0f-c1f4-42f3-8910-b976204d8b8a",
   "metadata": {},
   "source": [
    "3.48 read_csv 函数和 header 参数（None）"
   ]
  },
  {
   "cell_type": "code",
   "execution_count": 56,
   "id": "d655a6db-128d-486b-9840-475d58df3812",
   "metadata": {},
   "outputs": [
    {
     "data": {
      "text/html": [
       "<div>\n",
       "<style scoped>\n",
       "    .dataframe tbody tr th:only-of-type {\n",
       "        vertical-align: middle;\n",
       "    }\n",
       "\n",
       "    .dataframe tbody tr th {\n",
       "        vertical-align: top;\n",
       "    }\n",
       "\n",
       "    .dataframe thead th {\n",
       "        text-align: right;\n",
       "    }\n",
       "</style>\n",
       "<table border=\"1\" class=\"dataframe\">\n",
       "  <thead>\n",
       "    <tr style=\"text-align: right;\">\n",
       "      <th></th>\n",
       "      <th>0</th>\n",
       "      <th>1</th>\n",
       "      <th>2</th>\n",
       "      <th>3</th>\n",
       "      <th>4</th>\n",
       "    </tr>\n",
       "  </thead>\n",
       "  <tbody>\n",
       "    <tr>\n",
       "      <th>0</th>\n",
       "      <td>a</td>\n",
       "      <td>b</td>\n",
       "      <td>c</td>\n",
       "      <td>d</td>\n",
       "      <td>e</td>\n",
       "    </tr>\n",
       "    <tr>\n",
       "      <th>1</th>\n",
       "      <td>37</td>\n",
       "      <td>12</td>\n",
       "      <td>72</td>\n",
       "      <td>9</td>\n",
       "      <td>75</td>\n",
       "    </tr>\n",
       "    <tr>\n",
       "      <th>2</th>\n",
       "      <td>5</td>\n",
       "      <td>79</td>\n",
       "      <td>64</td>\n",
       "      <td>16</td>\n",
       "      <td>1</td>\n",
       "    </tr>\n",
       "    <tr>\n",
       "      <th>3</th>\n",
       "      <td>76</td>\n",
       "      <td>71</td>\n",
       "      <td>6</td>\n",
       "      <td>25</td>\n",
       "      <td>50</td>\n",
       "    </tr>\n",
       "    <tr>\n",
       "      <th>4</th>\n",
       "      <td>20</td>\n",
       "      <td>18</td>\n",
       "      <td>84</td>\n",
       "      <td>11</td>\n",
       "      <td>28</td>\n",
       "    </tr>\n",
       "    <tr>\n",
       "      <th>5</th>\n",
       "      <td>29</td>\n",
       "      <td>14</td>\n",
       "      <td>50</td>\n",
       "      <td>68</td>\n",
       "      <td>87</td>\n",
       "    </tr>\n",
       "  </tbody>\n",
       "</table>\n",
       "</div>"
      ],
      "text/plain": [
       "    0   1   2   3   4\n",
       "0   a   b   c   d   e\n",
       "1  37  12  72   9  75\n",
       "2   5  79  64  16   1\n",
       "3  76  71   6  25  50\n",
       "4  20  18  84  11  28\n",
       "5  29  14  50  68  87"
      ]
     },
     "execution_count": 56,
     "metadata": {},
     "output_type": "execute_result"
    }
   ],
   "source": [
    "pd.read_csv('./data/ex1.csv', header=None)"
   ]
  },
  {
   "cell_type": "markdown",
   "id": "8c14eb05-880a-4eac-ad72-79446607cf55",
   "metadata": {},
   "source": [
    "3.49 read_csv 函数和 names 参数"
   ]
  },
  {
   "cell_type": "code",
   "execution_count": 57,
   "id": "dc9be5f4-927f-4dac-90be-8c035fa6906e",
   "metadata": {},
   "outputs": [
    {
     "data": {
      "text/html": [
       "<div>\n",
       "<style scoped>\n",
       "    .dataframe tbody tr th:only-of-type {\n",
       "        vertical-align: middle;\n",
       "    }\n",
       "\n",
       "    .dataframe tbody tr th {\n",
       "        vertical-align: top;\n",
       "    }\n",
       "\n",
       "    .dataframe thead th {\n",
       "        text-align: right;\n",
       "    }\n",
       "</style>\n",
       "<table border=\"1\" class=\"dataframe\">\n",
       "  <thead>\n",
       "    <tr style=\"text-align: right;\">\n",
       "      <th></th>\n",
       "      <th>f</th>\n",
       "      <th>n</th>\n",
       "      <th>m</th>\n",
       "      <th>d</th>\n",
       "      <th>p</th>\n",
       "    </tr>\n",
       "  </thead>\n",
       "  <tbody>\n",
       "    <tr>\n",
       "      <th>0</th>\n",
       "      <td>a</td>\n",
       "      <td>b</td>\n",
       "      <td>c</td>\n",
       "      <td>d</td>\n",
       "      <td>e</td>\n",
       "    </tr>\n",
       "    <tr>\n",
       "      <th>1</th>\n",
       "      <td>37</td>\n",
       "      <td>12</td>\n",
       "      <td>72</td>\n",
       "      <td>9</td>\n",
       "      <td>75</td>\n",
       "    </tr>\n",
       "    <tr>\n",
       "      <th>2</th>\n",
       "      <td>5</td>\n",
       "      <td>79</td>\n",
       "      <td>64</td>\n",
       "      <td>16</td>\n",
       "      <td>1</td>\n",
       "    </tr>\n",
       "    <tr>\n",
       "      <th>3</th>\n",
       "      <td>76</td>\n",
       "      <td>71</td>\n",
       "      <td>6</td>\n",
       "      <td>25</td>\n",
       "      <td>50</td>\n",
       "    </tr>\n",
       "    <tr>\n",
       "      <th>4</th>\n",
       "      <td>20</td>\n",
       "      <td>18</td>\n",
       "      <td>84</td>\n",
       "      <td>11</td>\n",
       "      <td>28</td>\n",
       "    </tr>\n",
       "    <tr>\n",
       "      <th>5</th>\n",
       "      <td>29</td>\n",
       "      <td>14</td>\n",
       "      <td>50</td>\n",
       "      <td>68</td>\n",
       "      <td>87</td>\n",
       "    </tr>\n",
       "  </tbody>\n",
       "</table>\n",
       "</div>"
      ],
      "text/plain": [
       "    f   n   m   d   p\n",
       "0   a   b   c   d   e\n",
       "1  37  12  72   9  75\n",
       "2   5  79  64  16   1\n",
       "3  76  71   6  25  50\n",
       "4  20  18  84  11  28\n",
       "5  29  14  50  68  87"
      ]
     },
     "execution_count": 57,
     "metadata": {},
     "output_type": "execute_result"
    }
   ],
   "source": [
    "pd.read_csv('./data/ex1.csv', header=None, names=list('fnmdp'))"
   ]
  },
  {
   "cell_type": "markdown",
   "id": "ccca56a6-4e4b-43b4-9632-402096a0adec",
   "metadata": {},
   "source": [
    "3.50 read_csv 函数和 index_col 参数（列标签）"
   ]
  },
  {
   "cell_type": "code",
   "execution_count": 58,
   "id": "531bf2aa-27f8-4507-b4a0-c2ce2f5d6f34",
   "metadata": {},
   "outputs": [
    {
     "data": {
      "text/html": [
       "<div>\n",
       "<style scoped>\n",
       "    .dataframe tbody tr th:only-of-type {\n",
       "        vertical-align: middle;\n",
       "    }\n",
       "\n",
       "    .dataframe tbody tr th {\n",
       "        vertical-align: top;\n",
       "    }\n",
       "\n",
       "    .dataframe thead th {\n",
       "        text-align: right;\n",
       "    }\n",
       "</style>\n",
       "<table border=\"1\" class=\"dataframe\">\n",
       "  <thead>\n",
       "    <tr style=\"text-align: right;\">\n",
       "      <th></th>\n",
       "      <th>height</th>\n",
       "      <th>weight</th>\n",
       "      <th>sex</th>\n",
       "      <th>stay</th>\n",
       "    </tr>\n",
       "    <tr>\n",
       "      <th>name</th>\n",
       "      <th></th>\n",
       "      <th></th>\n",
       "      <th></th>\n",
       "      <th></th>\n",
       "    </tr>\n",
       "  </thead>\n",
       "  <tbody>\n",
       "    <tr>\n",
       "      <th>a</th>\n",
       "      <td>161</td>\n",
       "      <td>54</td>\n",
       "      <td>Female</td>\n",
       "      <td>True</td>\n",
       "    </tr>\n",
       "    <tr>\n",
       "      <th>b</th>\n",
       "      <td>180</td>\n",
       "      <td>87</td>\n",
       "      <td>Male</td>\n",
       "      <td>False</td>\n",
       "    </tr>\n",
       "    <tr>\n",
       "      <th>c</th>\n",
       "      <td>159</td>\n",
       "      <td>49</td>\n",
       "      <td>Female</td>\n",
       "      <td>Yes</td>\n",
       "    </tr>\n",
       "    <tr>\n",
       "      <th>d</th>\n",
       "      <td>178</td>\n",
       "      <td>73</td>\n",
       "      <td>Male</td>\n",
       "      <td>No</td>\n",
       "    </tr>\n",
       "    <tr>\n",
       "      <th>e</th>\n",
       "      <td>167</td>\n",
       "      <td>67</td>\n",
       "      <td>Male</td>\n",
       "      <td>No</td>\n",
       "    </tr>\n",
       "  </tbody>\n",
       "</table>\n",
       "</div>"
      ],
      "text/plain": [
       "      height  weight     sex   stay\n",
       "name                               \n",
       "a        161      54  Female   True\n",
       "b        180      87    Male  False\n",
       "c        159      49  Female    Yes\n",
       "d        178      73    Male     No\n",
       "e        167      67    Male     No"
      ]
     },
     "execution_count": 58,
     "metadata": {},
     "output_type": "execute_result"
    }
   ],
   "source": [
    "pd.read_csv('./data/ex2.csv', index_col='name')"
   ]
  },
  {
   "cell_type": "markdown",
   "id": "edaff083-b589-4ce2-8b0f-2754c140a6cf",
   "metadata": {},
   "source": [
    "3.51 read_csv 函数和 index_col 参数（位置索引）"
   ]
  },
  {
   "cell_type": "code",
   "execution_count": 59,
   "id": "741fc286-d506-4496-9197-7eb3cf0319ac",
   "metadata": {},
   "outputs": [
    {
     "data": {
      "text/html": [
       "<div>\n",
       "<style scoped>\n",
       "    .dataframe tbody tr th:only-of-type {\n",
       "        vertical-align: middle;\n",
       "    }\n",
       "\n",
       "    .dataframe tbody tr th {\n",
       "        vertical-align: top;\n",
       "    }\n",
       "\n",
       "    .dataframe thead th {\n",
       "        text-align: right;\n",
       "    }\n",
       "</style>\n",
       "<table border=\"1\" class=\"dataframe\">\n",
       "  <thead>\n",
       "    <tr style=\"text-align: right;\">\n",
       "      <th></th>\n",
       "      <th>name</th>\n",
       "      <th>height</th>\n",
       "      <th>weight</th>\n",
       "      <th>stay</th>\n",
       "    </tr>\n",
       "    <tr>\n",
       "      <th>sex</th>\n",
       "      <th></th>\n",
       "      <th></th>\n",
       "      <th></th>\n",
       "      <th></th>\n",
       "    </tr>\n",
       "  </thead>\n",
       "  <tbody>\n",
       "    <tr>\n",
       "      <th>Female</th>\n",
       "      <td>a</td>\n",
       "      <td>161</td>\n",
       "      <td>54</td>\n",
       "      <td>True</td>\n",
       "    </tr>\n",
       "    <tr>\n",
       "      <th>Male</th>\n",
       "      <td>b</td>\n",
       "      <td>180</td>\n",
       "      <td>87</td>\n",
       "      <td>False</td>\n",
       "    </tr>\n",
       "    <tr>\n",
       "      <th>Female</th>\n",
       "      <td>c</td>\n",
       "      <td>159</td>\n",
       "      <td>49</td>\n",
       "      <td>Yes</td>\n",
       "    </tr>\n",
       "    <tr>\n",
       "      <th>Male</th>\n",
       "      <td>d</td>\n",
       "      <td>178</td>\n",
       "      <td>73</td>\n",
       "      <td>No</td>\n",
       "    </tr>\n",
       "    <tr>\n",
       "      <th>Male</th>\n",
       "      <td>e</td>\n",
       "      <td>167</td>\n",
       "      <td>67</td>\n",
       "      <td>No</td>\n",
       "    </tr>\n",
       "  </tbody>\n",
       "</table>\n",
       "</div>"
      ],
      "text/plain": [
       "       name  height  weight   stay\n",
       "sex                               \n",
       "Female    a     161      54   True\n",
       "Male      b     180      87  False\n",
       "Female    c     159      49    Yes\n",
       "Male      d     178      73     No\n",
       "Male      e     167      67     No"
      ]
     },
     "execution_count": 59,
     "metadata": {},
     "output_type": "execute_result"
    }
   ],
   "source": [
    "pd.read_csv('./data/ex2.csv', index_col=3)"
   ]
  },
  {
   "cell_type": "markdown",
   "id": "3bf2a97e-827a-4f8a-ab2a-b06cb9d92a8e",
   "metadata": {},
   "source": [
    "3.52 read_csv 函数和 index_col 参数（多个标签）"
   ]
  },
  {
   "cell_type": "code",
   "execution_count": 60,
   "id": "176d3fe9-a7b8-4498-93a5-d25b5129f2a4",
   "metadata": {},
   "outputs": [
    {
     "data": {
      "text/html": [
       "<div>\n",
       "<style scoped>\n",
       "    .dataframe tbody tr th:only-of-type {\n",
       "        vertical-align: middle;\n",
       "    }\n",
       "\n",
       "    .dataframe tbody tr th {\n",
       "        vertical-align: top;\n",
       "    }\n",
       "\n",
       "    .dataframe thead th {\n",
       "        text-align: right;\n",
       "    }\n",
       "</style>\n",
       "<table border=\"1\" class=\"dataframe\">\n",
       "  <thead>\n",
       "    <tr style=\"text-align: right;\">\n",
       "      <th></th>\n",
       "      <th></th>\n",
       "      <th>height</th>\n",
       "      <th>weight</th>\n",
       "      <th>stay</th>\n",
       "    </tr>\n",
       "    <tr>\n",
       "      <th>name</th>\n",
       "      <th>sex</th>\n",
       "      <th></th>\n",
       "      <th></th>\n",
       "      <th></th>\n",
       "    </tr>\n",
       "  </thead>\n",
       "  <tbody>\n",
       "    <tr>\n",
       "      <th>a</th>\n",
       "      <th>Female</th>\n",
       "      <td>161</td>\n",
       "      <td>54</td>\n",
       "      <td>True</td>\n",
       "    </tr>\n",
       "    <tr>\n",
       "      <th>b</th>\n",
       "      <th>Male</th>\n",
       "      <td>180</td>\n",
       "      <td>87</td>\n",
       "      <td>False</td>\n",
       "    </tr>\n",
       "    <tr>\n",
       "      <th>c</th>\n",
       "      <th>Female</th>\n",
       "      <td>159</td>\n",
       "      <td>49</td>\n",
       "      <td>Yes</td>\n",
       "    </tr>\n",
       "    <tr>\n",
       "      <th>d</th>\n",
       "      <th>Male</th>\n",
       "      <td>178</td>\n",
       "      <td>73</td>\n",
       "      <td>No</td>\n",
       "    </tr>\n",
       "    <tr>\n",
       "      <th>e</th>\n",
       "      <th>Male</th>\n",
       "      <td>167</td>\n",
       "      <td>67</td>\n",
       "      <td>No</td>\n",
       "    </tr>\n",
       "  </tbody>\n",
       "</table>\n",
       "</div>"
      ],
      "text/plain": [
       "             height  weight   stay\n",
       "name sex                          \n",
       "a    Female     161      54   True\n",
       "b    Male       180      87  False\n",
       "c    Female     159      49    Yes\n",
       "d    Male       178      73     No\n",
       "e    Male       167      67     No"
      ]
     },
     "execution_count": 60,
     "metadata": {},
     "output_type": "execute_result"
    }
   ],
   "source": [
    "pd.read_csv('./data/ex2.csv', index_col=['name','sex'])"
   ]
  },
  {
   "cell_type": "markdown",
   "id": "d4eb0743-e2e2-44f6-bbe9-2a3dc2a33cb1",
   "metadata": {},
   "source": [
    "3.53 read_csv 函数和 usecols 参数"
   ]
  },
  {
   "cell_type": "code",
   "execution_count": 61,
   "id": "8c64bdf6-225d-45e7-9056-423768298c70",
   "metadata": {},
   "outputs": [
    {
     "data": {
      "text/html": [
       "<div>\n",
       "<style scoped>\n",
       "    .dataframe tbody tr th:only-of-type {\n",
       "        vertical-align: middle;\n",
       "    }\n",
       "\n",
       "    .dataframe tbody tr th {\n",
       "        vertical-align: top;\n",
       "    }\n",
       "\n",
       "    .dataframe thead th {\n",
       "        text-align: right;\n",
       "    }\n",
       "</style>\n",
       "<table border=\"1\" class=\"dataframe\">\n",
       "  <thead>\n",
       "    <tr style=\"text-align: right;\">\n",
       "      <th></th>\n",
       "      <th>name</th>\n",
       "      <th>weight</th>\n",
       "    </tr>\n",
       "  </thead>\n",
       "  <tbody>\n",
       "    <tr>\n",
       "      <th>0</th>\n",
       "      <td>a</td>\n",
       "      <td>54</td>\n",
       "    </tr>\n",
       "    <tr>\n",
       "      <th>1</th>\n",
       "      <td>b</td>\n",
       "      <td>87</td>\n",
       "    </tr>\n",
       "    <tr>\n",
       "      <th>2</th>\n",
       "      <td>c</td>\n",
       "      <td>49</td>\n",
       "    </tr>\n",
       "    <tr>\n",
       "      <th>3</th>\n",
       "      <td>d</td>\n",
       "      <td>73</td>\n",
       "    </tr>\n",
       "    <tr>\n",
       "      <th>4</th>\n",
       "      <td>e</td>\n",
       "      <td>67</td>\n",
       "    </tr>\n",
       "  </tbody>\n",
       "</table>\n",
       "</div>"
      ],
      "text/plain": [
       "  name  weight\n",
       "0    a      54\n",
       "1    b      87\n",
       "2    c      49\n",
       "3    d      73\n",
       "4    e      67"
      ]
     },
     "execution_count": 61,
     "metadata": {},
     "output_type": "execute_result"
    }
   ],
   "source": [
    "pd.read_csv('./data/ex2.csv', usecols=['name','weight'])"
   ]
  },
  {
   "cell_type": "markdown",
   "id": "9721039e-dda0-4591-a566-6157244482f0",
   "metadata": {},
   "source": [
    "3.54 read_csv 函数和 squeeze 参数"
   ]
  },
  {
   "cell_type": "code",
   "execution_count": 62,
   "id": "75e1e31f-6114-477a-ba35-23c30b0f0af6",
   "metadata": {},
   "outputs": [],
   "source": [
    "# 当前版本没有这个参数\n",
    "# pd.read_csv('./data/ex2.csv', usecols=['weight'], squeeze=True)"
   ]
  },
  {
   "cell_type": "markdown",
   "id": "758bcb27-60ed-44d6-b14b-b3793845509c",
   "metadata": {},
   "source": [
    "3.55 read_csv 函数和 skiprows 参数"
   ]
  },
  {
   "cell_type": "code",
   "execution_count": 63,
   "id": "ecc9abb7-bcac-4701-8b59-2b31b2ff2cc9",
   "metadata": {},
   "outputs": [
    {
     "data": {
      "text/html": [
       "<div>\n",
       "<style scoped>\n",
       "    .dataframe tbody tr th:only-of-type {\n",
       "        vertical-align: middle;\n",
       "    }\n",
       "\n",
       "    .dataframe tbody tr th {\n",
       "        vertical-align: top;\n",
       "    }\n",
       "\n",
       "    .dataframe thead th {\n",
       "        text-align: right;\n",
       "    }\n",
       "</style>\n",
       "<table border=\"1\" class=\"dataframe\">\n",
       "  <thead>\n",
       "    <tr style=\"text-align: right;\">\n",
       "      <th></th>\n",
       "      <th>0</th>\n",
       "      <th>1</th>\n",
       "      <th>2</th>\n",
       "      <th>3</th>\n",
       "      <th>4</th>\n",
       "    </tr>\n",
       "  </thead>\n",
       "  <tbody>\n",
       "    <tr>\n",
       "      <th>0</th>\n",
       "      <td>b</td>\n",
       "      <td>180</td>\n",
       "      <td>87</td>\n",
       "      <td>Male</td>\n",
       "      <td>False</td>\n",
       "    </tr>\n",
       "    <tr>\n",
       "      <th>1</th>\n",
       "      <td>c</td>\n",
       "      <td>159</td>\n",
       "      <td>49</td>\n",
       "      <td>Female</td>\n",
       "      <td>Yes</td>\n",
       "    </tr>\n",
       "    <tr>\n",
       "      <th>2</th>\n",
       "      <td>d</td>\n",
       "      <td>178</td>\n",
       "      <td>73</td>\n",
       "      <td>Male</td>\n",
       "      <td>No</td>\n",
       "    </tr>\n",
       "    <tr>\n",
       "      <th>3</th>\n",
       "      <td>e</td>\n",
       "      <td>167</td>\n",
       "      <td>67</td>\n",
       "      <td>Male</td>\n",
       "      <td>No</td>\n",
       "    </tr>\n",
       "  </tbody>\n",
       "</table>\n",
       "</div>"
      ],
      "text/plain": [
       "   0    1   2       3      4\n",
       "0  b  180  87    Male  False\n",
       "1  c  159  49  Female    Yes\n",
       "2  d  178  73    Male     No\n",
       "3  e  167  67    Male     No"
      ]
     },
     "execution_count": 63,
     "metadata": {},
     "output_type": "execute_result"
    }
   ],
   "source": [
    "pd.read_csv('./data/ex2.csv', header=None, skiprows=2)"
   ]
  },
  {
   "cell_type": "markdown",
   "id": "467164ea-c8f4-4146-b352-cd975762b543",
   "metadata": {},
   "source": [
    "3.56 read_csv 函数和 skiprows 参数（多个）"
   ]
  },
  {
   "cell_type": "code",
   "execution_count": 64,
   "id": "8b42d0c8-78ac-42ba-87fa-0ae3ea3ebfa6",
   "metadata": {},
   "outputs": [
    {
     "data": {
      "text/html": [
       "<div>\n",
       "<style scoped>\n",
       "    .dataframe tbody tr th:only-of-type {\n",
       "        vertical-align: middle;\n",
       "    }\n",
       "\n",
       "    .dataframe tbody tr th {\n",
       "        vertical-align: top;\n",
       "    }\n",
       "\n",
       "    .dataframe thead th {\n",
       "        text-align: right;\n",
       "    }\n",
       "</style>\n",
       "<table border=\"1\" class=\"dataframe\">\n",
       "  <thead>\n",
       "    <tr style=\"text-align: right;\">\n",
       "      <th></th>\n",
       "      <th>name</th>\n",
       "      <th>height</th>\n",
       "      <th>weight</th>\n",
       "      <th>sex</th>\n",
       "      <th>stay</th>\n",
       "    </tr>\n",
       "  </thead>\n",
       "  <tbody>\n",
       "    <tr>\n",
       "      <th>0</th>\n",
       "      <td>b</td>\n",
       "      <td>180</td>\n",
       "      <td>87</td>\n",
       "      <td>Male</td>\n",
       "      <td>False</td>\n",
       "    </tr>\n",
       "    <tr>\n",
       "      <th>1</th>\n",
       "      <td>d</td>\n",
       "      <td>178</td>\n",
       "      <td>73</td>\n",
       "      <td>Male</td>\n",
       "      <td>No</td>\n",
       "    </tr>\n",
       "  </tbody>\n",
       "</table>\n",
       "</div>"
      ],
      "text/plain": [
       "  name  height  weight   sex   stay\n",
       "0    b     180      87  Male  False\n",
       "1    d     178      73  Male     No"
      ]
     },
     "execution_count": 64,
     "metadata": {},
     "output_type": "execute_result"
    }
   ],
   "source": [
    "pd.read_csv('./data/ex2.csv', skiprows=[1,3,5])"
   ]
  },
  {
   "cell_type": "markdown",
   "id": "59d03943-b37e-45af-b550-355f24e03126",
   "metadata": {},
   "source": [
    "3.57 read_csv 函数和 skipfooter 参数"
   ]
  },
  {
   "cell_type": "code",
   "execution_count": 65,
   "id": "24df54bf-9142-47ac-aa02-0d9988bc9af3",
   "metadata": {},
   "outputs": [
    {
     "data": {
      "text/html": [
       "<div>\n",
       "<style scoped>\n",
       "    .dataframe tbody tr th:only-of-type {\n",
       "        vertical-align: middle;\n",
       "    }\n",
       "\n",
       "    .dataframe tbody tr th {\n",
       "        vertical-align: top;\n",
       "    }\n",
       "\n",
       "    .dataframe thead th {\n",
       "        text-align: right;\n",
       "    }\n",
       "</style>\n",
       "<table border=\"1\" class=\"dataframe\">\n",
       "  <thead>\n",
       "    <tr style=\"text-align: right;\">\n",
       "      <th></th>\n",
       "      <th>name</th>\n",
       "      <th>height</th>\n",
       "      <th>weight</th>\n",
       "      <th>sex</th>\n",
       "      <th>stay</th>\n",
       "    </tr>\n",
       "  </thead>\n",
       "  <tbody>\n",
       "    <tr>\n",
       "      <th>0</th>\n",
       "      <td>a</td>\n",
       "      <td>161</td>\n",
       "      <td>54</td>\n",
       "      <td>Female</td>\n",
       "      <td>True</td>\n",
       "    </tr>\n",
       "    <tr>\n",
       "      <th>1</th>\n",
       "      <td>b</td>\n",
       "      <td>180</td>\n",
       "      <td>87</td>\n",
       "      <td>Male</td>\n",
       "      <td>False</td>\n",
       "    </tr>\n",
       "    <tr>\n",
       "      <th>2</th>\n",
       "      <td>c</td>\n",
       "      <td>159</td>\n",
       "      <td>49</td>\n",
       "      <td>Female</td>\n",
       "      <td>Yes</td>\n",
       "    </tr>\n",
       "    <tr>\n",
       "      <th>3</th>\n",
       "      <td>d</td>\n",
       "      <td>178</td>\n",
       "      <td>73</td>\n",
       "      <td>Male</td>\n",
       "      <td>No</td>\n",
       "    </tr>\n",
       "  </tbody>\n",
       "</table>\n",
       "</div>"
      ],
      "text/plain": [
       "  name  height  weight     sex   stay\n",
       "0    a     161      54  Female   True\n",
       "1    b     180      87    Male  False\n",
       "2    c     159      49  Female    Yes\n",
       "3    d     178      73    Male     No"
      ]
     },
     "execution_count": 65,
     "metadata": {},
     "output_type": "execute_result"
    }
   ],
   "source": [
    "pd.read_csv('./data/ex2.csv', skipfooter=1, engine='python')"
   ]
  },
  {
   "cell_type": "markdown",
   "id": "e0477678-dcc5-49a8-89b6-b988cf4eff17",
   "metadata": {},
   "source": [
    "3.58 read_csv 函数和 nrows 参数"
   ]
  },
  {
   "cell_type": "code",
   "execution_count": 66,
   "id": "0193e5db-4a7f-4fe6-a133-a4376d4efc50",
   "metadata": {},
   "outputs": [
    {
     "data": {
      "text/html": [
       "<div>\n",
       "<style scoped>\n",
       "    .dataframe tbody tr th:only-of-type {\n",
       "        vertical-align: middle;\n",
       "    }\n",
       "\n",
       "    .dataframe tbody tr th {\n",
       "        vertical-align: top;\n",
       "    }\n",
       "\n",
       "    .dataframe thead th {\n",
       "        text-align: right;\n",
       "    }\n",
       "</style>\n",
       "<table border=\"1\" class=\"dataframe\">\n",
       "  <thead>\n",
       "    <tr style=\"text-align: right;\">\n",
       "      <th></th>\n",
       "      <th>name</th>\n",
       "      <th>height</th>\n",
       "      <th>weight</th>\n",
       "      <th>sex</th>\n",
       "      <th>stay</th>\n",
       "    </tr>\n",
       "  </thead>\n",
       "  <tbody>\n",
       "    <tr>\n",
       "      <th>0</th>\n",
       "      <td>a</td>\n",
       "      <td>161</td>\n",
       "      <td>54</td>\n",
       "      <td>Female</td>\n",
       "      <td>True</td>\n",
       "    </tr>\n",
       "    <tr>\n",
       "      <th>1</th>\n",
       "      <td>b</td>\n",
       "      <td>180</td>\n",
       "      <td>87</td>\n",
       "      <td>Male</td>\n",
       "      <td>False</td>\n",
       "    </tr>\n",
       "    <tr>\n",
       "      <th>2</th>\n",
       "      <td>c</td>\n",
       "      <td>159</td>\n",
       "      <td>49</td>\n",
       "      <td>Female</td>\n",
       "      <td>Yes</td>\n",
       "    </tr>\n",
       "  </tbody>\n",
       "</table>\n",
       "</div>"
      ],
      "text/plain": [
       "  name  height  weight     sex   stay\n",
       "0    a     161      54  Female   True\n",
       "1    b     180      87    Male  False\n",
       "2    c     159      49  Female    Yes"
      ]
     },
     "execution_count": 66,
     "metadata": {},
     "output_type": "execute_result"
    }
   ],
   "source": [
    "pd.read_csv('./data/ex2.csv', nrows=3)"
   ]
  },
  {
   "cell_type": "markdown",
   "id": "ac84d0f8-9bea-4fb2-9220-3767296ee292",
   "metadata": {},
   "source": [
    "3.59 read_csv 函数和 dtype 参数（object）"
   ]
  },
  {
   "cell_type": "code",
   "execution_count": 67,
   "id": "9d100514-c465-4661-9f5c-6495dbc39ac0",
   "metadata": {},
   "outputs": [
    {
     "name": "stdout",
     "output_type": "stream",
     "text": [
      "<class 'pandas.core.frame.DataFrame'>\n",
      "RangeIndex: 5 entries, 0 to 4\n",
      "Data columns (total 5 columns):\n",
      " #   Column  Non-Null Count  Dtype \n",
      "---  ------  --------------  ----- \n",
      " 0   name    5 non-null      object\n",
      " 1   height  5 non-null      object\n",
      " 2   weight  5 non-null      object\n",
      " 3   sex     5 non-null      object\n",
      " 4   stay    5 non-null      object\n",
      "dtypes: object(5)\n",
      "memory usage: 332.0+ bytes\n"
     ]
    }
   ],
   "source": [
    "df = pd.read_csv('./data/ex2.csv', dtype='object')\n",
    "df.info()"
   ]
  },
  {
   "cell_type": "markdown",
   "id": "a9835df4-24a3-4688-9192-e18a06a2affb",
   "metadata": {},
   "source": [
    "3.60 read_csv 函数和 dtype 参数（字典）"
   ]
  },
  {
   "cell_type": "code",
   "execution_count": 68,
   "id": "e87cdfcf-8a7f-4b58-a6d3-4da67f3f577e",
   "metadata": {},
   "outputs": [
    {
     "name": "stdout",
     "output_type": "stream",
     "text": [
      "<class 'pandas.core.frame.DataFrame'>\n",
      "RangeIndex: 5 entries, 0 to 4\n",
      "Data columns (total 3 columns):\n",
      " #   Column  Non-Null Count  Dtype   \n",
      "---  ------  --------------  -----   \n",
      " 0   height  5 non-null      int16   \n",
      " 1   weight  5 non-null      int8    \n",
      " 2   sex     5 non-null      category\n",
      "dtypes: category(1), int16(1), int8(1)\n",
      "memory usage: 168.0 bytes\n"
     ]
    }
   ],
   "source": [
    "dtype_dict = {'height':'int16','weight':'int8','sex':'category'}\n",
    "df = pd.read_csv('./data/ex2.csv', dtype=dtype_dict)\n",
    "df[['height','weight','sex']].info()"
   ]
  },
  {
   "cell_type": "markdown",
   "id": "7df81a53-9319-4659-9c6e-3e15465ac675",
   "metadata": {},
   "source": [
    "3.61 使用 read_csv 函数读取 bool 类型值"
   ]
  },
  {
   "cell_type": "code",
   "execution_count": 69,
   "id": "8e7a405b-f86d-4183-87f7-ea1ceefb147f",
   "metadata": {},
   "outputs": [
    {
     "data": {
      "text/plain": [
       "0    <class 'str'>\n",
       "1    <class 'str'>\n",
       "2    <class 'str'>\n",
       "3    <class 'str'>\n",
       "4    <class 'str'>\n",
       "Name: stay, dtype: object"
      ]
     },
     "execution_count": 69,
     "metadata": {},
     "output_type": "execute_result"
    }
   ],
   "source": [
    "df = pd.read_csv('./data/ex2.csv')\n",
    "df['stay'].apply(type)"
   ]
  },
  {
   "cell_type": "code",
   "execution_count": 70,
   "id": "4a51b7d6-99fb-4166-8c16-f3e48a8ce189",
   "metadata": {},
   "outputs": [
    {
     "data": {
      "text/plain": [
       "0    <class 'bool'>\n",
       "1    <class 'bool'>\n",
       "Name: stay, dtype: object"
      ]
     },
     "execution_count": 70,
     "metadata": {},
     "output_type": "execute_result"
    }
   ],
   "source": [
    "df = pd.read_csv('./data/ex2.csv', nrows=2)\n",
    "df['stay'].apply(type)"
   ]
  },
  {
   "cell_type": "markdown",
   "id": "dafd07e6-9486-4e37-8bf1-3d58d12e5852",
   "metadata": {},
   "source": [
    "3.62 read_csv 函数、true_values 参数和 false_values 参数"
   ]
  },
  {
   "cell_type": "code",
   "execution_count": 71,
   "id": "7bb45129-2a06-4807-a838-b4bc6a840fa7",
   "metadata": {},
   "outputs": [
    {
     "data": {
      "text/plain": [
       "0    <class 'bool'>\n",
       "1    <class 'bool'>\n",
       "2    <class 'bool'>\n",
       "3    <class 'bool'>\n",
       "4    <class 'bool'>\n",
       "Name: stay, dtype: object"
      ]
     },
     "execution_count": 71,
     "metadata": {},
     "output_type": "execute_result"
    }
   ],
   "source": [
    "df = pd.read_csv(\n",
    "    './data/ex2.csv',\n",
    "    true_values=['Yes'],\n",
    "    false_values=['No']\n",
    ")\n",
    "\n",
    "df['stay'].apply(type)"
   ]
  },
  {
   "cell_type": "markdown",
   "id": "e81d261b-df89-4d56-8b78-91310c636001",
   "metadata": {},
   "source": [
    "3.63 使用 read_csv 函数读取时间序列的数据"
   ]
  },
  {
   "cell_type": "code",
   "execution_count": 72,
   "id": "b4bc9ead-b658-4d78-b090-736e9806196a",
   "metadata": {},
   "outputs": [
    {
     "data": {
      "text/html": [
       "<div>\n",
       "<style scoped>\n",
       "    .dataframe tbody tr th:only-of-type {\n",
       "        vertical-align: middle;\n",
       "    }\n",
       "\n",
       "    .dataframe tbody tr th {\n",
       "        vertical-align: top;\n",
       "    }\n",
       "\n",
       "    .dataframe thead th {\n",
       "        text-align: right;\n",
       "    }\n",
       "</style>\n",
       "<table border=\"1\" class=\"dataframe\">\n",
       "  <thead>\n",
       "    <tr style=\"text-align: right;\">\n",
       "      <th></th>\n",
       "      <th>date</th>\n",
       "      <th>time</th>\n",
       "      <th>city</th>\n",
       "      <th>sales</th>\n",
       "    </tr>\n",
       "  </thead>\n",
       "  <tbody>\n",
       "    <tr>\n",
       "      <th>0</th>\n",
       "      <td>2019-01</td>\n",
       "      <td>19:00</td>\n",
       "      <td>Tokyo</td>\n",
       "      <td>100</td>\n",
       "    </tr>\n",
       "    <tr>\n",
       "      <th>1</th>\n",
       "      <td>2019-02</td>\n",
       "      <td>20:00</td>\n",
       "      <td>Tokyo</td>\n",
       "      <td>120</td>\n",
       "    </tr>\n",
       "    <tr>\n",
       "      <th>2</th>\n",
       "      <td>2019-03</td>\n",
       "      <td>21:00</td>\n",
       "      <td>Osaka</td>\n",
       "      <td>90</td>\n",
       "    </tr>\n",
       "    <tr>\n",
       "      <th>3</th>\n",
       "      <td>2019-04</td>\n",
       "      <td>22:00</td>\n",
       "      <td>Nagoya</td>\n",
       "      <td>85</td>\n",
       "    </tr>\n",
       "    <tr>\n",
       "      <th>4</th>\n",
       "      <td>2019-05</td>\n",
       "      <td>23:00</td>\n",
       "      <td>Osaka</td>\n",
       "      <td>115</td>\n",
       "    </tr>\n",
       "  </tbody>\n",
       "</table>\n",
       "</div>"
      ],
      "text/plain": [
       "      date   time    city  sales\n",
       "0  2019-01  19:00   Tokyo    100\n",
       "1  2019-02  20:00   Tokyo    120\n",
       "2  2019-03  21:00   Osaka     90\n",
       "3  2019-04  22:00  Nagoya     85\n",
       "4  2019-05  23:00   Osaka    115"
      ]
     },
     "execution_count": 72,
     "metadata": {},
     "output_type": "execute_result"
    }
   ],
   "source": [
    "df = pd.read_csv('./data/ex3.csv')\n",
    "df"
   ]
  },
  {
   "cell_type": "code",
   "execution_count": 73,
   "id": "729a57a6-d678-469c-a0b6-fc8f5ecc3728",
   "metadata": {},
   "outputs": [
    {
     "data": {
      "text/plain": [
       "0    <class 'str'>\n",
       "1    <class 'str'>\n",
       "2    <class 'str'>\n",
       "3    <class 'str'>\n",
       "4    <class 'str'>\n",
       "Name: date, dtype: object"
      ]
     },
     "execution_count": 73,
     "metadata": {},
     "output_type": "execute_result"
    }
   ],
   "source": [
    "df['date'].apply(type)"
   ]
  },
  {
   "cell_type": "markdown",
   "id": "9387e160-5098-4190-89fc-feda34bc0885",
   "metadata": {},
   "source": [
    "3.64 read_csv 函数和 parse_dates 参数"
   ]
  },
  {
   "cell_type": "code",
   "execution_count": 74,
   "id": "017a177c-f068-4c0a-95a2-14be58b9f5db",
   "metadata": {},
   "outputs": [
    {
     "data": {
      "text/plain": [
       "0   2019-01-01\n",
       "1   2019-02-01\n",
       "2   2019-03-01\n",
       "3   2019-04-01\n",
       "4   2019-05-01\n",
       "Name: date, dtype: datetime64[ns]"
      ]
     },
     "execution_count": 74,
     "metadata": {},
     "output_type": "execute_result"
    }
   ],
   "source": [
    "df = pd.read_csv('./data/ex3.csv', parse_dates=['date'])\n",
    "df['date']"
   ]
  },
  {
   "cell_type": "markdown",
   "id": "641b8692-3967-4fcd-80a8-e2fd8b642915",
   "metadata": {},
   "source": [
    "3.65 : read_csv函数和parse_dates参数（多个列的连接）"
   ]
  },
  {
   "cell_type": "code",
   "execution_count": 75,
   "id": "de7f121d-5753-419e-9324-dd0fbd857956",
   "metadata": {},
   "outputs": [
    {
     "name": "stderr",
     "output_type": "stream",
     "text": [
      "C:\\Users\\liye\\AppData\\Local\\Temp\\ipykernel_7776\\2930120486.py:1: UserWarning: Could not infer format, so each element will be parsed individually, falling back to `dateutil`. To ensure parsing is consistent and as-expected, please specify a format.\n",
      "  df = pd.read_csv('./data/ex3.csv', parse_dates=[['date','time']])\n"
     ]
    },
    {
     "data": {
      "text/html": [
       "<div>\n",
       "<style scoped>\n",
       "    .dataframe tbody tr th:only-of-type {\n",
       "        vertical-align: middle;\n",
       "    }\n",
       "\n",
       "    .dataframe tbody tr th {\n",
       "        vertical-align: top;\n",
       "    }\n",
       "\n",
       "    .dataframe thead th {\n",
       "        text-align: right;\n",
       "    }\n",
       "</style>\n",
       "<table border=\"1\" class=\"dataframe\">\n",
       "  <thead>\n",
       "    <tr style=\"text-align: right;\">\n",
       "      <th></th>\n",
       "      <th>date_time</th>\n",
       "      <th>city</th>\n",
       "      <th>sales</th>\n",
       "    </tr>\n",
       "  </thead>\n",
       "  <tbody>\n",
       "    <tr>\n",
       "      <th>0</th>\n",
       "      <td>2019-01-01 19:00:00</td>\n",
       "      <td>Tokyo</td>\n",
       "      <td>100</td>\n",
       "    </tr>\n",
       "    <tr>\n",
       "      <th>1</th>\n",
       "      <td>2019-02-01 20:00:00</td>\n",
       "      <td>Tokyo</td>\n",
       "      <td>120</td>\n",
       "    </tr>\n",
       "    <tr>\n",
       "      <th>2</th>\n",
       "      <td>2019-03-01 21:00:00</td>\n",
       "      <td>Osaka</td>\n",
       "      <td>90</td>\n",
       "    </tr>\n",
       "    <tr>\n",
       "      <th>3</th>\n",
       "      <td>2019-04-01 22:00:00</td>\n",
       "      <td>Nagoya</td>\n",
       "      <td>85</td>\n",
       "    </tr>\n",
       "    <tr>\n",
       "      <th>4</th>\n",
       "      <td>2019-05-01 23:00:00</td>\n",
       "      <td>Osaka</td>\n",
       "      <td>115</td>\n",
       "    </tr>\n",
       "  </tbody>\n",
       "</table>\n",
       "</div>"
      ],
      "text/plain": [
       "            date_time    city  sales\n",
       "0 2019-01-01 19:00:00   Tokyo    100\n",
       "1 2019-02-01 20:00:00   Tokyo    120\n",
       "2 2019-03-01 21:00:00   Osaka     90\n",
       "3 2019-04-01 22:00:00  Nagoya     85\n",
       "4 2019-05-01 23:00:00   Osaka    115"
      ]
     },
     "execution_count": 75,
     "metadata": {},
     "output_type": "execute_result"
    }
   ],
   "source": [
    "df = pd.read_csv('./data/ex3.csv', parse_dates=[['date','time']])\n",
    "df"
   ]
  },
  {
   "cell_type": "code",
   "execution_count": 76,
   "id": "0906a6f5-d4f6-44ec-b42a-891530689190",
   "metadata": {},
   "outputs": [
    {
     "data": {
      "text/plain": [
       "0   2019-01-01 19:00:00\n",
       "1   2019-02-01 20:00:00\n",
       "2   2019-03-01 21:00:00\n",
       "3   2019-04-01 22:00:00\n",
       "4   2019-05-01 23:00:00\n",
       "Name: date_time, dtype: datetime64[ns]"
      ]
     },
     "execution_count": 76,
     "metadata": {},
     "output_type": "execute_result"
    }
   ],
   "source": [
    "df['date_time']"
   ]
  },
  {
   "cell_type": "markdown",
   "id": "36508171-d3f3-44af-81a5-035d4e6b1af4",
   "metadata": {},
   "source": [
    "3.66 read_csv 函数会作为缺失数据识别的字符串一览表（默认值）"
   ]
  },
  {
   "cell_type": "code",
   "execution_count": 77,
   "id": "8e11b573-005e-4c46-91b7-1b1f1fe3c704",
   "metadata": {},
   "outputs": [
    {
     "data": {
      "text/plain": [
       "['-1.#IND',\n",
       " '1.#QNAN',\n",
       " '1.#IND',\n",
       " '-1.#QNAN',\n",
       " '#N/A N/A',\n",
       " '#N/A',\n",
       " 'N/A',\n",
       " 'n/a',\n",
       " 'NA',\n",
       " '#NA',\n",
       " 'NULL',\n",
       " 'null',\n",
       " 'NaN',\n",
       " '-NaN',\n",
       " 'nan',\n",
       " '-nan',\n",
       " '']"
      ]
     },
     "execution_count": 77,
     "metadata": {},
     "output_type": "execute_result"
    }
   ],
   "source": [
    "['-1.#IND', '1.#QNAN', '1.#IND', '-1.#QNAN',\n",
    " '#N/A N/A', '#N/A', 'N/A', 'n/a', 'NA','#NA',\n",
    " 'NULL', 'null', 'NaN', '-NaN', 'nan', '-nan', '']"
   ]
  },
  {
   "cell_type": "markdown",
   "id": "2e3a99ad-55ad-4e14-bf6c-bc5eeb4fd34c",
   "metadata": {},
   "source": [
    "3.67 read_csv 函数和缺失数据（默认值）"
   ]
  },
  {
   "cell_type": "code",
   "execution_count": 78,
   "id": "120cad97-0b68-460d-96a6-889548c21a8a",
   "metadata": {},
   "outputs": [
    {
     "data": {
      "text/html": [
       "<div>\n",
       "<style scoped>\n",
       "    .dataframe tbody tr th:only-of-type {\n",
       "        vertical-align: middle;\n",
       "    }\n",
       "\n",
       "    .dataframe tbody tr th {\n",
       "        vertical-align: top;\n",
       "    }\n",
       "\n",
       "    .dataframe thead th {\n",
       "        text-align: right;\n",
       "    }\n",
       "</style>\n",
       "<table border=\"1\" class=\"dataframe\">\n",
       "  <thead>\n",
       "    <tr style=\"text-align: right;\">\n",
       "      <th></th>\n",
       "      <th>name</th>\n",
       "      <th>math</th>\n",
       "      <th>eng</th>\n",
       "    </tr>\n",
       "  </thead>\n",
       "  <tbody>\n",
       "    <tr>\n",
       "      <th>0</th>\n",
       "      <td>a</td>\n",
       "      <td>82.0</td>\n",
       "      <td>?</td>\n",
       "    </tr>\n",
       "    <tr>\n",
       "      <th>1</th>\n",
       "      <td>b</td>\n",
       "      <td>NaN</td>\n",
       "      <td>76</td>\n",
       "    </tr>\n",
       "    <tr>\n",
       "      <th>2</th>\n",
       "      <td>c</td>\n",
       "      <td>76.0</td>\n",
       "      <td>91</td>\n",
       "    </tr>\n",
       "    <tr>\n",
       "      <th>3</th>\n",
       "      <td>d</td>\n",
       "      <td>NaN</td>\n",
       "      <td>NaN</td>\n",
       "    </tr>\n",
       "    <tr>\n",
       "      <th>4</th>\n",
       "      <td>e</td>\n",
       "      <td>89.0</td>\n",
       "      <td>81</td>\n",
       "    </tr>\n",
       "    <tr>\n",
       "      <th>5</th>\n",
       "      <td>f</td>\n",
       "      <td>NaN</td>\n",
       "      <td>NaN</td>\n",
       "    </tr>\n",
       "  </tbody>\n",
       "</table>\n",
       "</div>"
      ],
      "text/plain": [
       "  name  math  eng\n",
       "0    a  82.0    ?\n",
       "1    b   NaN   76\n",
       "2    c  76.0   91\n",
       "3    d   NaN  NaN\n",
       "4    e  89.0   81\n",
       "5    f   NaN  NaN"
      ]
     },
     "execution_count": 78,
     "metadata": {},
     "output_type": "execute_result"
    }
   ],
   "source": [
    "df = pd.read_csv('./data/ex4.csv')\n",
    "df"
   ]
  },
  {
   "cell_type": "markdown",
   "id": "9c4af8fa-d176-4866-97cd-018c71bdff2b",
   "metadata": {},
   "source": [
    "3.68 使用 isna 方法找出缺失数据"
   ]
  },
  {
   "cell_type": "code",
   "execution_count": 79,
   "id": "306bb945-cf66-4d44-9360-b160a9e882f8",
   "metadata": {},
   "outputs": [
    {
     "data": {
      "text/html": [
       "<div>\n",
       "<style scoped>\n",
       "    .dataframe tbody tr th:only-of-type {\n",
       "        vertical-align: middle;\n",
       "    }\n",
       "\n",
       "    .dataframe tbody tr th {\n",
       "        vertical-align: top;\n",
       "    }\n",
       "\n",
       "    .dataframe thead th {\n",
       "        text-align: right;\n",
       "    }\n",
       "</style>\n",
       "<table border=\"1\" class=\"dataframe\">\n",
       "  <thead>\n",
       "    <tr style=\"text-align: right;\">\n",
       "      <th></th>\n",
       "      <th>name</th>\n",
       "      <th>math</th>\n",
       "      <th>eng</th>\n",
       "    </tr>\n",
       "  </thead>\n",
       "  <tbody>\n",
       "    <tr>\n",
       "      <th>0</th>\n",
       "      <td>False</td>\n",
       "      <td>False</td>\n",
       "      <td>False</td>\n",
       "    </tr>\n",
       "    <tr>\n",
       "      <th>1</th>\n",
       "      <td>False</td>\n",
       "      <td>True</td>\n",
       "      <td>False</td>\n",
       "    </tr>\n",
       "    <tr>\n",
       "      <th>2</th>\n",
       "      <td>False</td>\n",
       "      <td>False</td>\n",
       "      <td>False</td>\n",
       "    </tr>\n",
       "    <tr>\n",
       "      <th>3</th>\n",
       "      <td>False</td>\n",
       "      <td>True</td>\n",
       "      <td>True</td>\n",
       "    </tr>\n",
       "    <tr>\n",
       "      <th>4</th>\n",
       "      <td>False</td>\n",
       "      <td>False</td>\n",
       "      <td>False</td>\n",
       "    </tr>\n",
       "    <tr>\n",
       "      <th>5</th>\n",
       "      <td>False</td>\n",
       "      <td>True</td>\n",
       "      <td>True</td>\n",
       "    </tr>\n",
       "  </tbody>\n",
       "</table>\n",
       "</div>"
      ],
      "text/plain": [
       "    name   math    eng\n",
       "0  False  False  False\n",
       "1  False   True  False\n",
       "2  False  False  False\n",
       "3  False   True   True\n",
       "4  False  False  False\n",
       "5  False   True   True"
      ]
     },
     "execution_count": 79,
     "metadata": {},
     "output_type": "execute_result"
    }
   ],
   "source": [
    "df.isna()"
   ]
  },
  {
   "cell_type": "markdown",
   "id": "72d55766-6c12-435b-b0f7-414961fc4fa7",
   "metadata": {},
   "source": [
    "3.69 read_csv 函数和 na_values 参数"
   ]
  },
  {
   "cell_type": "code",
   "execution_count": 80,
   "id": "96ce6aaf-7c94-45ac-a602-c81bedee3b47",
   "metadata": {},
   "outputs": [
    {
     "data": {
      "text/html": [
       "<div>\n",
       "<style scoped>\n",
       "    .dataframe tbody tr th:only-of-type {\n",
       "        vertical-align: middle;\n",
       "    }\n",
       "\n",
       "    .dataframe tbody tr th {\n",
       "        vertical-align: top;\n",
       "    }\n",
       "\n",
       "    .dataframe thead th {\n",
       "        text-align: right;\n",
       "    }\n",
       "</style>\n",
       "<table border=\"1\" class=\"dataframe\">\n",
       "  <thead>\n",
       "    <tr style=\"text-align: right;\">\n",
       "      <th></th>\n",
       "      <th>name</th>\n",
       "      <th>math</th>\n",
       "      <th>eng</th>\n",
       "    </tr>\n",
       "  </thead>\n",
       "  <tbody>\n",
       "    <tr>\n",
       "      <th>0</th>\n",
       "      <td>a</td>\n",
       "      <td>82.0</td>\n",
       "      <td>NaN</td>\n",
       "    </tr>\n",
       "    <tr>\n",
       "      <th>1</th>\n",
       "      <td>b</td>\n",
       "      <td>NaN</td>\n",
       "      <td>76.0</td>\n",
       "    </tr>\n",
       "    <tr>\n",
       "      <th>2</th>\n",
       "      <td>c</td>\n",
       "      <td>76.0</td>\n",
       "      <td>91.0</td>\n",
       "    </tr>\n",
       "    <tr>\n",
       "      <th>3</th>\n",
       "      <td>d</td>\n",
       "      <td>NaN</td>\n",
       "      <td>NaN</td>\n",
       "    </tr>\n",
       "    <tr>\n",
       "      <th>4</th>\n",
       "      <td>e</td>\n",
       "      <td>89.0</td>\n",
       "      <td>81.0</td>\n",
       "    </tr>\n",
       "    <tr>\n",
       "      <th>5</th>\n",
       "      <td>f</td>\n",
       "      <td>NaN</td>\n",
       "      <td>NaN</td>\n",
       "    </tr>\n",
       "  </tbody>\n",
       "</table>\n",
       "</div>"
      ],
      "text/plain": [
       "  name  math   eng\n",
       "0    a  82.0   NaN\n",
       "1    b   NaN  76.0\n",
       "2    c  76.0  91.0\n",
       "3    d   NaN   NaN\n",
       "4    e  89.0  81.0\n",
       "5    f   NaN   NaN"
      ]
     },
     "execution_count": 80,
     "metadata": {},
     "output_type": "execute_result"
    }
   ],
   "source": [
    "pd.read_csv('./data/ex4.csv', na_values=['None','?'])"
   ]
  },
  {
   "cell_type": "markdown",
   "id": "549a6fdb-55e6-44c5-ad98-3d076f2cb22d",
   "metadata": {},
   "source": [
    "3.70 read_csv 函数的 ParserError 错误"
   ]
  },
  {
   "cell_type": "code",
   "execution_count": 81,
   "id": "f312755c-f38a-437a-925b-d873a1ebd7e7",
   "metadata": {},
   "outputs": [],
   "source": [
    "# pd.read_csv('./data/ex5.csv')"
   ]
  },
  {
   "cell_type": "markdown",
   "id": "7c2681f7-73db-4d8b-aaed-4c18ffec4dd0",
   "metadata": {},
   "source": [
    "3.71 相对列标签，少了列数的位置"
   ]
  },
  {
   "cell_type": "code",
   "execution_count": 82,
   "id": "90cf21a1-7259-495b-9d68-d5f03f656ea0",
   "metadata": {},
   "outputs": [
    {
     "data": {
      "text/html": [
       "<div>\n",
       "<style scoped>\n",
       "    .dataframe tbody tr th:only-of-type {\n",
       "        vertical-align: middle;\n",
       "    }\n",
       "\n",
       "    .dataframe tbody tr th {\n",
       "        vertical-align: top;\n",
       "    }\n",
       "\n",
       "    .dataframe thead th {\n",
       "        text-align: right;\n",
       "    }\n",
       "</style>\n",
       "<table border=\"1\" class=\"dataframe\">\n",
       "  <thead>\n",
       "    <tr style=\"text-align: right;\">\n",
       "      <th></th>\n",
       "      <th>a</th>\n",
       "      <th>b</th>\n",
       "      <th>c</th>\n",
       "      <th>d</th>\n",
       "    </tr>\n",
       "  </thead>\n",
       "  <tbody>\n",
       "    <tr>\n",
       "      <th>0</th>\n",
       "      <td>10</td>\n",
       "      <td>5</td>\n",
       "      <td>12</td>\n",
       "      <td>NaN</td>\n",
       "    </tr>\n",
       "    <tr>\n",
       "      <th>1</th>\n",
       "      <td>red</td>\n",
       "      <td>red</td>\n",
       "      <td>red</td>\n",
       "      <td>red</td>\n",
       "    </tr>\n",
       "  </tbody>\n",
       "</table>\n",
       "</div>"
      ],
      "text/plain": [
       "     a    b    c    d\n",
       "0   10    5   12  NaN\n",
       "1  red  red  red  red"
      ]
     },
     "execution_count": 82,
     "metadata": {},
     "output_type": "execute_result"
    }
   ],
   "source": [
    "pd.read_csv('./data/ex5.csv', skiprows=[2])"
   ]
  },
  {
   "cell_type": "markdown",
   "id": "e2e300db-1650-450e-ac81-278243c33290",
   "metadata": {},
   "source": [
    "3.72 read_csv 函数和 usecols 参数"
   ]
  },
  {
   "cell_type": "code",
   "execution_count": 83,
   "id": "3ead1463-8778-4283-9e9d-a1396e30eb3b",
   "metadata": {},
   "outputs": [
    {
     "data": {
      "text/html": [
       "<div>\n",
       "<style scoped>\n",
       "    .dataframe tbody tr th:only-of-type {\n",
       "        vertical-align: middle;\n",
       "    }\n",
       "\n",
       "    .dataframe tbody tr th {\n",
       "        vertical-align: top;\n",
       "    }\n",
       "\n",
       "    .dataframe thead th {\n",
       "        text-align: right;\n",
       "    }\n",
       "</style>\n",
       "<table border=\"1\" class=\"dataframe\">\n",
       "  <thead>\n",
       "    <tr style=\"text-align: right;\">\n",
       "      <th></th>\n",
       "      <th>a</th>\n",
       "      <th>b</th>\n",
       "      <th>c</th>\n",
       "      <th>d</th>\n",
       "    </tr>\n",
       "  </thead>\n",
       "  <tbody>\n",
       "    <tr>\n",
       "      <th>0</th>\n",
       "      <td>10</td>\n",
       "      <td>5</td>\n",
       "      <td>12</td>\n",
       "      <td>NaN</td>\n",
       "    </tr>\n",
       "    <tr>\n",
       "      <th>1</th>\n",
       "      <td>2</td>\n",
       "      <td>4</td>\n",
       "      <td>6</td>\n",
       "      <td>7</td>\n",
       "    </tr>\n",
       "    <tr>\n",
       "      <th>2</th>\n",
       "      <td>red</td>\n",
       "      <td>red</td>\n",
       "      <td>red</td>\n",
       "      <td>red</td>\n",
       "    </tr>\n",
       "  </tbody>\n",
       "</table>\n",
       "</div>"
      ],
      "text/plain": [
       "     a    b    c    d\n",
       "0   10    5   12  NaN\n",
       "1    2    4    6    7\n",
       "2  red  red  red  red"
      ]
     },
     "execution_count": 83,
     "metadata": {},
     "output_type": "execute_result"
    }
   ],
   "source": [
    "pd.read_csv('./data/ex5.csv', usecols=['a','b','c','d'])"
   ]
  },
  {
   "cell_type": "markdown",
   "id": "354e5967-1314-4774-8673-4317463d0014",
   "metadata": {},
   "source": [
    "3.73 read_csv 函数的 error_bad_lines 参数和 warn_bad_lines 参数"
   ]
  },
  {
   "cell_type": "code",
   "execution_count": 84,
   "id": "8710d274-7662-4b3d-b48b-3262554aac32",
   "metadata": {},
   "outputs": [],
   "source": [
    "# 没有这个参数\n",
    "# pd.read_csv('./data/ex5.csv',\n",
    "#             error_bad_lines=False,\n",
    "#             warn_bad_lines=True)"
   ]
  },
  {
   "cell_type": "markdown",
   "id": "cbe19e94-2af0-4436-8603-5f8d0e2a3a84",
   "metadata": {},
   "source": [
    "3.74 使用 Python 的 open 函数浏览 CSV 文件"
   ]
  },
  {
   "cell_type": "code",
   "execution_count": 85,
   "id": "765c15f4-f677-4013-9857-cfcd19085f0e",
   "metadata": {},
   "outputs": [
    {
     "name": "stdout",
     "output_type": "stream",
     "text": [
      "a,b,c,d\n",
      "1,2,3,4,\n",
      "5,6,7,8,\n"
     ]
    }
   ],
   "source": [
    "with open('./data/ex6.csv', encoding='UTF-8') as file:\n",
    "    print(file.read())"
   ]
  },
  {
   "cell_type": "markdown",
   "id": "14b506fc-0f4a-46fd-896f-33c55f70ce0f",
   "metadata": {},
   "source": [
    "3.75 读取行的末尾存在分隔符的文件"
   ]
  },
  {
   "cell_type": "code",
   "execution_count": 86,
   "id": "6d933865-ec33-416a-ba95-736dbcf519a3",
   "metadata": {},
   "outputs": [
    {
     "data": {
      "text/html": [
       "<div>\n",
       "<style scoped>\n",
       "    .dataframe tbody tr th:only-of-type {\n",
       "        vertical-align: middle;\n",
       "    }\n",
       "\n",
       "    .dataframe tbody tr th {\n",
       "        vertical-align: top;\n",
       "    }\n",
       "\n",
       "    .dataframe thead th {\n",
       "        text-align: right;\n",
       "    }\n",
       "</style>\n",
       "<table border=\"1\" class=\"dataframe\">\n",
       "  <thead>\n",
       "    <tr style=\"text-align: right;\">\n",
       "      <th></th>\n",
       "      <th>a</th>\n",
       "      <th>b</th>\n",
       "      <th>c</th>\n",
       "      <th>d</th>\n",
       "    </tr>\n",
       "  </thead>\n",
       "  <tbody>\n",
       "    <tr>\n",
       "      <th>1</th>\n",
       "      <td>2</td>\n",
       "      <td>3</td>\n",
       "      <td>4</td>\n",
       "      <td>NaN</td>\n",
       "    </tr>\n",
       "    <tr>\n",
       "      <th>5</th>\n",
       "      <td>6</td>\n",
       "      <td>7</td>\n",
       "      <td>8</td>\n",
       "      <td>NaN</td>\n",
       "    </tr>\n",
       "  </tbody>\n",
       "</table>\n",
       "</div>"
      ],
      "text/plain": [
       "   a  b  c   d\n",
       "1  2  3  4 NaN\n",
       "5  6  7  8 NaN"
      ]
     },
     "execution_count": 86,
     "metadata": {},
     "output_type": "execute_result"
    }
   ],
   "source": [
    "pd.read_csv('./data/ex6.csv')"
   ]
  },
  {
   "cell_type": "markdown",
   "id": "a7b858bf-b003-4cbd-a588-0ac364a4866d",
   "metadata": {},
   "source": [
    "3.76 read_csv 函数和 index_col 参数"
   ]
  },
  {
   "cell_type": "code",
   "execution_count": 87,
   "id": "ac1e133b-d1c7-4bab-9520-296a28d5162a",
   "metadata": {},
   "outputs": [
    {
     "data": {
      "text/html": [
       "<div>\n",
       "<style scoped>\n",
       "    .dataframe tbody tr th:only-of-type {\n",
       "        vertical-align: middle;\n",
       "    }\n",
       "\n",
       "    .dataframe tbody tr th {\n",
       "        vertical-align: top;\n",
       "    }\n",
       "\n",
       "    .dataframe thead th {\n",
       "        text-align: right;\n",
       "    }\n",
       "</style>\n",
       "<table border=\"1\" class=\"dataframe\">\n",
       "  <thead>\n",
       "    <tr style=\"text-align: right;\">\n",
       "      <th></th>\n",
       "      <th>a</th>\n",
       "      <th>b</th>\n",
       "      <th>c</th>\n",
       "      <th>d</th>\n",
       "    </tr>\n",
       "  </thead>\n",
       "  <tbody>\n",
       "    <tr>\n",
       "      <th>0</th>\n",
       "      <td>1</td>\n",
       "      <td>2</td>\n",
       "      <td>3</td>\n",
       "      <td>4</td>\n",
       "    </tr>\n",
       "    <tr>\n",
       "      <th>1</th>\n",
       "      <td>5</td>\n",
       "      <td>6</td>\n",
       "      <td>7</td>\n",
       "      <td>8</td>\n",
       "    </tr>\n",
       "  </tbody>\n",
       "</table>\n",
       "</div>"
      ],
      "text/plain": [
       "   a  b  c  d\n",
       "0  1  2  3  4\n",
       "1  5  6  7  8"
      ]
     },
     "execution_count": 87,
     "metadata": {},
     "output_type": "execute_result"
    }
   ],
   "source": [
    "pd.read_csv('./data/ex6.csv', index_col=False)"
   ]
  },
  {
   "cell_type": "markdown",
   "id": "b5d733ae-590b-4219-92bf-fa997d0cc2b8",
   "metadata": {},
   "source": [
    "3.77 read_csv 函数和 mangle_dupe_cols 参数"
   ]
  },
  {
   "cell_type": "code",
   "execution_count": 88,
   "id": "f32a7403-18ea-4bd0-a9a7-bd4fde09148c",
   "metadata": {},
   "outputs": [],
   "source": [
    "# 当前版本没有这个参数\n",
    "# pd.read_csv('./data/ex7.csv', mangle_dupe_cols=True)"
   ]
  },
  {
   "cell_type": "markdown",
   "id": "e5131992-b389-431c-aa22-5fb7a1466ac5",
   "metadata": {},
   "source": [
    "3.78 使用 open 函数浏览 CSV 文件"
   ]
  },
  {
   "cell_type": "code",
   "execution_count": 89,
   "id": "f6db7507-3b43-43e8-84b9-4f2056e682f6",
   "metadata": {},
   "outputs": [
    {
     "name": "stdout",
     "output_type": "stream",
     "text": [
      "name,height\n",
      "a,161\n",
      "#到此为止，为女性,\n",
      "b,172\n",
      ",\n",
      "c,181\n",
      "#到此为止，为男性,\n",
      "\n"
     ]
    }
   ],
   "source": [
    "with open('./data/ex8.csv', encoding='GBK') as file:\n",
    "    print(file.read())"
   ]
  },
  {
   "cell_type": "markdown",
   "id": "046ef05a-e706-4f7c-a054-8f50a52bbfa6",
   "metadata": {},
   "source": [
    "3.79 读取包含注释行和空白行的 CSV 文件"
   ]
  },
  {
   "cell_type": "code",
   "execution_count": 90,
   "id": "83efeb97-71bc-4195-94b0-9b7e6de4a715",
   "metadata": {},
   "outputs": [
    {
     "data": {
      "text/html": [
       "<div>\n",
       "<style scoped>\n",
       "    .dataframe tbody tr th:only-of-type {\n",
       "        vertical-align: middle;\n",
       "    }\n",
       "\n",
       "    .dataframe tbody tr th {\n",
       "        vertical-align: top;\n",
       "    }\n",
       "\n",
       "    .dataframe thead th {\n",
       "        text-align: right;\n",
       "    }\n",
       "</style>\n",
       "<table border=\"1\" class=\"dataframe\">\n",
       "  <thead>\n",
       "    <tr style=\"text-align: right;\">\n",
       "      <th></th>\n",
       "      <th>name</th>\n",
       "      <th>height</th>\n",
       "    </tr>\n",
       "  </thead>\n",
       "  <tbody>\n",
       "    <tr>\n",
       "      <th>0</th>\n",
       "      <td>a</td>\n",
       "      <td>161.0</td>\n",
       "    </tr>\n",
       "    <tr>\n",
       "      <th>1</th>\n",
       "      <td>#到此为止，为女性</td>\n",
       "      <td>NaN</td>\n",
       "    </tr>\n",
       "    <tr>\n",
       "      <th>2</th>\n",
       "      <td>b</td>\n",
       "      <td>172.0</td>\n",
       "    </tr>\n",
       "    <tr>\n",
       "      <th>3</th>\n",
       "      <td>NaN</td>\n",
       "      <td>NaN</td>\n",
       "    </tr>\n",
       "    <tr>\n",
       "      <th>4</th>\n",
       "      <td>c</td>\n",
       "      <td>181.0</td>\n",
       "    </tr>\n",
       "    <tr>\n",
       "      <th>5</th>\n",
       "      <td>#到此为止，为男性</td>\n",
       "      <td>NaN</td>\n",
       "    </tr>\n",
       "  </tbody>\n",
       "</table>\n",
       "</div>"
      ],
      "text/plain": [
       "        name  height\n",
       "0          a   161.0\n",
       "1  #到此为止，为女性     NaN\n",
       "2          b   172.0\n",
       "3        NaN     NaN\n",
       "4          c   181.0\n",
       "5  #到此为止，为男性     NaN"
      ]
     },
     "execution_count": 90,
     "metadata": {},
     "output_type": "execute_result"
    }
   ],
   "source": [
    "pd.read_csv('./data/ex8.csv', skip_blank_lines=False,encoding='GBK')"
   ]
  },
  {
   "cell_type": "markdown",
   "id": "b75fbeb4-c5c0-4e4b-acea-ca6011b5ac70",
   "metadata": {},
   "source": [
    "3.80 read_csv 函数的 comment 参数和 skip_blank_lines 参数"
   ]
  },
  {
   "cell_type": "code",
   "execution_count": 91,
   "id": "983ce9a0-8b67-43ff-be72-dff4d0e2f9a3",
   "metadata": {},
   "outputs": [
    {
     "data": {
      "text/html": [
       "<div>\n",
       "<style scoped>\n",
       "    .dataframe tbody tr th:only-of-type {\n",
       "        vertical-align: middle;\n",
       "    }\n",
       "\n",
       "    .dataframe tbody tr th {\n",
       "        vertical-align: top;\n",
       "    }\n",
       "\n",
       "    .dataframe thead th {\n",
       "        text-align: right;\n",
       "    }\n",
       "</style>\n",
       "<table border=\"1\" class=\"dataframe\">\n",
       "  <thead>\n",
       "    <tr style=\"text-align: right;\">\n",
       "      <th></th>\n",
       "      <th>name</th>\n",
       "      <th>height</th>\n",
       "    </tr>\n",
       "  </thead>\n",
       "  <tbody>\n",
       "    <tr>\n",
       "      <th>0</th>\n",
       "      <td>a</td>\n",
       "      <td>161.0</td>\n",
       "    </tr>\n",
       "    <tr>\n",
       "      <th>1</th>\n",
       "      <td>b</td>\n",
       "      <td>172.0</td>\n",
       "    </tr>\n",
       "    <tr>\n",
       "      <th>2</th>\n",
       "      <td>NaN</td>\n",
       "      <td>NaN</td>\n",
       "    </tr>\n",
       "    <tr>\n",
       "      <th>3</th>\n",
       "      <td>c</td>\n",
       "      <td>181.0</td>\n",
       "    </tr>\n",
       "  </tbody>\n",
       "</table>\n",
       "</div>"
      ],
      "text/plain": [
       "  name  height\n",
       "0    a   161.0\n",
       "1    b   172.0\n",
       "2  NaN     NaN\n",
       "3    c   181.0"
      ]
     },
     "execution_count": 91,
     "metadata": {},
     "output_type": "execute_result"
    }
   ],
   "source": [
    "pd.read_csv('./data/ex8.csv', comment='#', skip_blank_lines=True,encoding='GBK')"
   ]
  },
  {
   "cell_type": "markdown",
   "id": "68f343a9-dc7b-4af7-8dd2-5ded79b3f40c",
   "metadata": {},
   "source": [
    "3.81 使用 open 函数浏览 CSV 文件"
   ]
  },
  {
   "cell_type": "code",
   "execution_count": 92,
   "id": "bb24ed3e-dee0-47d8-b437-01be2fda5ec8",
   "metadata": {},
   "outputs": [
    {
     "name": "stdout",
     "output_type": "stream",
     "text": [
      "Location|sales\n",
      "Tokyo|1200000\n",
      "Osaka|900000\n",
      "Sapporo|100000\n"
     ]
    }
   ],
   "source": [
    "with open('./data/ex9.csv', encoding='UTF-8') as file:\n",
    "    print(file.read())"
   ]
  },
  {
   "cell_type": "markdown",
   "id": "7b009ab9-9c57-4a3d-848d-a70717fb9f78",
   "metadata": {},
   "source": [
    "3.82 read_csv 函数和 sep 参数"
   ]
  },
  {
   "cell_type": "code",
   "execution_count": 93,
   "id": "179687e0-f4fd-4ff0-8642-d9a9ca67ae04",
   "metadata": {},
   "outputs": [
    {
     "data": {
      "text/html": [
       "<div>\n",
       "<style scoped>\n",
       "    .dataframe tbody tr th:only-of-type {\n",
       "        vertical-align: middle;\n",
       "    }\n",
       "\n",
       "    .dataframe tbody tr th {\n",
       "        vertical-align: top;\n",
       "    }\n",
       "\n",
       "    .dataframe thead th {\n",
       "        text-align: right;\n",
       "    }\n",
       "</style>\n",
       "<table border=\"1\" class=\"dataframe\">\n",
       "  <thead>\n",
       "    <tr style=\"text-align: right;\">\n",
       "      <th></th>\n",
       "      <th>Location</th>\n",
       "      <th>sales</th>\n",
       "    </tr>\n",
       "  </thead>\n",
       "  <tbody>\n",
       "    <tr>\n",
       "      <th>0</th>\n",
       "      <td>Tokyo</td>\n",
       "      <td>1200000</td>\n",
       "    </tr>\n",
       "    <tr>\n",
       "      <th>1</th>\n",
       "      <td>Osaka</td>\n",
       "      <td>900000</td>\n",
       "    </tr>\n",
       "    <tr>\n",
       "      <th>2</th>\n",
       "      <td>Sapporo</td>\n",
       "      <td>100000</td>\n",
       "    </tr>\n",
       "  </tbody>\n",
       "</table>\n",
       "</div>"
      ],
      "text/plain": [
       "  Location    sales\n",
       "0    Tokyo  1200000\n",
       "1    Osaka   900000\n",
       "2  Sapporo   100000"
      ]
     },
     "execution_count": 93,
     "metadata": {},
     "output_type": "execute_result"
    }
   ],
   "source": [
    "pd.read_csv('./data/ex9.csv', sep='|')"
   ]
  },
  {
   "cell_type": "markdown",
   "id": "61701e38-6bab-41fc-955e-ea5c0fc03d33",
   "metadata": {},
   "source": [
    "3.83 read_csv 函数和 sep 参数（正则表达式）"
   ]
  },
  {
   "cell_type": "code",
   "execution_count": 94,
   "id": "6f32c259-0d7d-4434-a953-da33931bee80",
   "metadata": {},
   "outputs": [
    {
     "data": {
      "text/html": [
       "<div>\n",
       "<style scoped>\n",
       "    .dataframe tbody tr th:only-of-type {\n",
       "        vertical-align: middle;\n",
       "    }\n",
       "\n",
       "    .dataframe tbody tr th {\n",
       "        vertical-align: top;\n",
       "    }\n",
       "\n",
       "    .dataframe thead th {\n",
       "        text-align: right;\n",
       "    }\n",
       "</style>\n",
       "<table border=\"1\" class=\"dataframe\">\n",
       "  <thead>\n",
       "    <tr style=\"text-align: right;\">\n",
       "      <th></th>\n",
       "      <th>Location</th>\n",
       "      <th>sales</th>\n",
       "    </tr>\n",
       "  </thead>\n",
       "  <tbody>\n",
       "    <tr>\n",
       "      <th>0</th>\n",
       "      <td>Tokyo</td>\n",
       "      <td>1200000</td>\n",
       "    </tr>\n",
       "    <tr>\n",
       "      <th>1</th>\n",
       "      <td>Osaka</td>\n",
       "      <td>900000</td>\n",
       "    </tr>\n",
       "    <tr>\n",
       "      <th>2</th>\n",
       "      <td>Sapporo</td>\n",
       "      <td>100000</td>\n",
       "    </tr>\n",
       "  </tbody>\n",
       "</table>\n",
       "</div>"
      ],
      "text/plain": [
       "  Location    sales\n",
       "0    Tokyo  1200000\n",
       "1    Osaka   900000\n",
       "2  Sapporo   100000"
      ]
     },
     "execution_count": 94,
     "metadata": {},
     "output_type": "execute_result"
    }
   ],
   "source": [
    "pd.read_csv('./data/ex10.csv', sep='\\t')"
   ]
  },
  {
   "cell_type": "markdown",
   "id": "c7e12221-8fca-4376-9a9f-ca5f839ef080",
   "metadata": {},
   "source": [
    "3.84 使用 read_table 函数读取 CSV 文件"
   ]
  },
  {
   "cell_type": "code",
   "execution_count": 95,
   "id": "0e4ebd69-2784-4ff9-a733-38e1ce3155d5",
   "metadata": {},
   "outputs": [
    {
     "data": {
      "text/html": [
       "<div>\n",
       "<style scoped>\n",
       "    .dataframe tbody tr th:only-of-type {\n",
       "        vertical-align: middle;\n",
       "    }\n",
       "\n",
       "    .dataframe tbody tr th {\n",
       "        vertical-align: top;\n",
       "    }\n",
       "\n",
       "    .dataframe thead th {\n",
       "        text-align: right;\n",
       "    }\n",
       "</style>\n",
       "<table border=\"1\" class=\"dataframe\">\n",
       "  <thead>\n",
       "    <tr style=\"text-align: right;\">\n",
       "      <th></th>\n",
       "      <th>Location</th>\n",
       "      <th>sales</th>\n",
       "    </tr>\n",
       "  </thead>\n",
       "  <tbody>\n",
       "    <tr>\n",
       "      <th>0</th>\n",
       "      <td>Tokyo</td>\n",
       "      <td>1200000</td>\n",
       "    </tr>\n",
       "    <tr>\n",
       "      <th>1</th>\n",
       "      <td>Osaka</td>\n",
       "      <td>900000</td>\n",
       "    </tr>\n",
       "    <tr>\n",
       "      <th>2</th>\n",
       "      <td>Sapporo</td>\n",
       "      <td>100000</td>\n",
       "    </tr>\n",
       "  </tbody>\n",
       "</table>\n",
       "</div>"
      ],
      "text/plain": [
       "  Location    sales\n",
       "0    Tokyo  1200000\n",
       "1    Osaka   900000\n",
       "2  Sapporo   100000"
      ]
     },
     "execution_count": 95,
     "metadata": {},
     "output_type": "execute_result"
    }
   ],
   "source": [
    "pd.read_table('./data/ex10.csv')"
   ]
  },
  {
   "cell_type": "markdown",
   "id": "6f4d0a33-d2e4-4fc6-8c7d-52c492c4eaf0",
   "metadata": {},
   "source": [
    "3.85 读取包含 3 位一隔数字的数据"
   ]
  },
  {
   "cell_type": "code",
   "execution_count": 96,
   "id": "0be904a5-fc19-4e41-84e6-131d28d5f254",
   "metadata": {},
   "outputs": [
    {
     "data": {
      "text/html": [
       "<div>\n",
       "<style scoped>\n",
       "    .dataframe tbody tr th:only-of-type {\n",
       "        vertical-align: middle;\n",
       "    }\n",
       "\n",
       "    .dataframe tbody tr th {\n",
       "        vertical-align: top;\n",
       "    }\n",
       "\n",
       "    .dataframe thead th {\n",
       "        text-align: right;\n",
       "    }\n",
       "</style>\n",
       "<table border=\"1\" class=\"dataframe\">\n",
       "  <thead>\n",
       "    <tr style=\"text-align: right;\">\n",
       "      <th></th>\n",
       "      <th>Location</th>\n",
       "      <th>sales</th>\n",
       "    </tr>\n",
       "  </thead>\n",
       "  <tbody>\n",
       "    <tr>\n",
       "      <th>0</th>\n",
       "      <td>Tokyo</td>\n",
       "      <td>1,200,000</td>\n",
       "    </tr>\n",
       "    <tr>\n",
       "      <th>1</th>\n",
       "      <td>Osaka</td>\n",
       "      <td>900,000</td>\n",
       "    </tr>\n",
       "    <tr>\n",
       "      <th>2</th>\n",
       "      <td>Sapporo</td>\n",
       "      <td>100,000</td>\n",
       "    </tr>\n",
       "  </tbody>\n",
       "</table>\n",
       "</div>"
      ],
      "text/plain": [
       "  Location      sales\n",
       "0    Tokyo  1,200,000\n",
       "1    Osaka    900,000\n",
       "2  Sapporo    100,000"
      ]
     },
     "execution_count": 96,
     "metadata": {},
     "output_type": "execute_result"
    }
   ],
   "source": [
    "df = pd.read_csv('./data/ex11.csv', sep='\\t')\n",
    "df"
   ]
  },
  {
   "cell_type": "code",
   "execution_count": 97,
   "id": "3b6dfbe5-cf25-40a0-8181-6eb370436df8",
   "metadata": {},
   "outputs": [
    {
     "data": {
      "text/plain": [
       "0    <class 'str'>\n",
       "1    <class 'str'>\n",
       "2    <class 'str'>\n",
       "Name: sales, dtype: object"
      ]
     },
     "execution_count": 97,
     "metadata": {},
     "output_type": "execute_result"
    }
   ],
   "source": [
    "df['sales'].apply(type)"
   ]
  },
  {
   "cell_type": "markdown",
   "id": "dc7334e0-3627-4559-8857-ada1ad1bd592",
   "metadata": {},
   "source": [
    "3.86 read_csv 函数和 thousands 参数"
   ]
  },
  {
   "cell_type": "code",
   "execution_count": 98,
   "id": "41580828-3a74-46bf-9b9f-57ceace46eee",
   "metadata": {},
   "outputs": [
    {
     "data": {
      "text/plain": [
       "0    <class 'int'>\n",
       "1    <class 'int'>\n",
       "2    <class 'int'>\n",
       "Name: sales, dtype: object"
      ]
     },
     "execution_count": 98,
     "metadata": {},
     "output_type": "execute_result"
    }
   ],
   "source": [
    "df = pd.read_csv('./data/ex11.csv', sep='\\t', thousands=',')\n",
    "df['sales'].apply(type)"
   ]
  },
  {
   "cell_type": "markdown",
   "id": "92b69054-d316-4606-ad80-3ba1dbbe5a1e",
   "metadata": {},
   "source": [
    "3.87 DataFrame 对象的 to_csv 方法"
   ]
  },
  {
   "cell_type": "code",
   "execution_count": 99,
   "id": "a42f4475-c31f-44cd-b708-df657e85fd9d",
   "metadata": {},
   "outputs": [
    {
     "data": {
      "text/html": [
       "<div>\n",
       "<style scoped>\n",
       "    .dataframe tbody tr th:only-of-type {\n",
       "        vertical-align: middle;\n",
       "    }\n",
       "\n",
       "    .dataframe tbody tr th {\n",
       "        vertical-align: top;\n",
       "    }\n",
       "\n",
       "    .dataframe thead th {\n",
       "        text-align: right;\n",
       "    }\n",
       "</style>\n",
       "<table border=\"1\" class=\"dataframe\">\n",
       "  <thead>\n",
       "    <tr style=\"text-align: right;\">\n",
       "      <th></th>\n",
       "      <th>a</th>\n",
       "      <th>b</th>\n",
       "      <th>c</th>\n",
       "    </tr>\n",
       "  </thead>\n",
       "  <tbody>\n",
       "    <tr>\n",
       "      <th>0</th>\n",
       "      <td>1</td>\n",
       "      <td>2</td>\n",
       "      <td>3</td>\n",
       "    </tr>\n",
       "    <tr>\n",
       "      <th>1</th>\n",
       "      <td>4</td>\n",
       "      <td>5</td>\n",
       "      <td>6</td>\n",
       "    </tr>\n",
       "  </tbody>\n",
       "</table>\n",
       "</div>"
      ],
      "text/plain": [
       "   a  b  c\n",
       "0  1  2  3\n",
       "1  4  5  6"
      ]
     },
     "execution_count": 99,
     "metadata": {},
     "output_type": "execute_result"
    }
   ],
   "source": [
    "df = pd.DataFrame([[1,2,3],[4,5,6]], columns=list('abc'))\n",
    "df"
   ]
  },
  {
   "cell_type": "code",
   "execution_count": 100,
   "id": "e2bf4aa3-f86e-4d15-8698-747bb29d73c6",
   "metadata": {},
   "outputs": [],
   "source": [
    "df.to_csv('out1.csv')"
   ]
  },
  {
   "cell_type": "markdown",
   "id": "8fa6e395-5204-4d8e-947d-287adbf222d5",
   "metadata": {},
   "source": [
    "3.88 DataFrame 对象的 read_csv 函数"
   ]
  },
  {
   "cell_type": "code",
   "execution_count": 101,
   "id": "7e7eaec5-14c7-4c77-a32a-a3e1e410c90d",
   "metadata": {},
   "outputs": [
    {
     "data": {
      "text/html": [
       "<div>\n",
       "<style scoped>\n",
       "    .dataframe tbody tr th:only-of-type {\n",
       "        vertical-align: middle;\n",
       "    }\n",
       "\n",
       "    .dataframe tbody tr th {\n",
       "        vertical-align: top;\n",
       "    }\n",
       "\n",
       "    .dataframe thead th {\n",
       "        text-align: right;\n",
       "    }\n",
       "</style>\n",
       "<table border=\"1\" class=\"dataframe\">\n",
       "  <thead>\n",
       "    <tr style=\"text-align: right;\">\n",
       "      <th></th>\n",
       "      <th>Unnamed: 0</th>\n",
       "      <th>a</th>\n",
       "      <th>b</th>\n",
       "      <th>c</th>\n",
       "    </tr>\n",
       "  </thead>\n",
       "  <tbody>\n",
       "    <tr>\n",
       "      <th>0</th>\n",
       "      <td>0</td>\n",
       "      <td>1</td>\n",
       "      <td>2</td>\n",
       "      <td>3</td>\n",
       "    </tr>\n",
       "    <tr>\n",
       "      <th>1</th>\n",
       "      <td>1</td>\n",
       "      <td>4</td>\n",
       "      <td>5</td>\n",
       "      <td>6</td>\n",
       "    </tr>\n",
       "  </tbody>\n",
       "</table>\n",
       "</div>"
      ],
      "text/plain": [
       "   Unnamed: 0  a  b  c\n",
       "0           0  1  2  3\n",
       "1           1  4  5  6"
      ]
     },
     "execution_count": 101,
     "metadata": {},
     "output_type": "execute_result"
    }
   ],
   "source": [
    "pd.read_csv('out1.csv')"
   ]
  },
  {
   "cell_type": "markdown",
   "id": "613ae12b-30e5-4c6f-a600-5463ad308ebf",
   "metadata": {},
   "source": [
    "3.89 to_csv 方法和 index 参数"
   ]
  },
  {
   "cell_type": "code",
   "execution_count": 102,
   "id": "dbec912d-4686-4b32-9764-3d20a89ef03e",
   "metadata": {},
   "outputs": [
    {
     "data": {
      "text/html": [
       "<div>\n",
       "<style scoped>\n",
       "    .dataframe tbody tr th:only-of-type {\n",
       "        vertical-align: middle;\n",
       "    }\n",
       "\n",
       "    .dataframe tbody tr th {\n",
       "        vertical-align: top;\n",
       "    }\n",
       "\n",
       "    .dataframe thead th {\n",
       "        text-align: right;\n",
       "    }\n",
       "</style>\n",
       "<table border=\"1\" class=\"dataframe\">\n",
       "  <thead>\n",
       "    <tr style=\"text-align: right;\">\n",
       "      <th></th>\n",
       "      <th>a</th>\n",
       "      <th>b</th>\n",
       "      <th>c</th>\n",
       "    </tr>\n",
       "  </thead>\n",
       "  <tbody>\n",
       "    <tr>\n",
       "      <th>0</th>\n",
       "      <td>1</td>\n",
       "      <td>2</td>\n",
       "      <td>3</td>\n",
       "    </tr>\n",
       "    <tr>\n",
       "      <th>1</th>\n",
       "      <td>4</td>\n",
       "      <td>5</td>\n",
       "      <td>6</td>\n",
       "    </tr>\n",
       "  </tbody>\n",
       "</table>\n",
       "</div>"
      ],
      "text/plain": [
       "   a  b  c\n",
       "0  1  2  3\n",
       "1  4  5  6"
      ]
     },
     "execution_count": 102,
     "metadata": {},
     "output_type": "execute_result"
    }
   ],
   "source": [
    "df.to_csv('out1.csv', index=False)\n",
    "pd.read_csv('out1.csv')"
   ]
  },
  {
   "cell_type": "markdown",
   "id": "ae06c97c-6d67-42d6-ba86-8d8ce4b5b14e",
   "metadata": {},
   "source": [
    "3.90 to_csv 方法和 header 参数"
   ]
  },
  {
   "cell_type": "code",
   "execution_count": 103,
   "id": "4fb7d94e-4d7a-4198-bad5-f4de15e9feef",
   "metadata": {},
   "outputs": [
    {
     "name": "stdout",
     "output_type": "stream",
     "text": [
      "1,2,3\n",
      "4,5,6\n",
      "\n"
     ]
    }
   ],
   "source": [
    "df.to_csv('out2.csv', header=False, index=False)\n",
    "\n",
    "with open('out2.csv', encoding='UTF-8') as file:\n",
    "    print(file.read())"
   ]
  },
  {
   "cell_type": "markdown",
   "id": "b9b02404-a131-4356-bd57-85b935ffafb4",
   "metadata": {},
   "source": [
    "3.91 to_csv 方法和 sep 参数"
   ]
  },
  {
   "cell_type": "code",
   "execution_count": 104,
   "id": "2d8f125e-695e-45b7-a37d-0fa1ce9edcd2",
   "metadata": {},
   "outputs": [
    {
     "name": "stdout",
     "output_type": "stream",
     "text": [
      "a\tb\tc\n",
      "1\t2\t3\n",
      "4\t5\t6\n",
      "\n",
      "a|b|c\n",
      "1|2|3\n",
      "4|5|6\n",
      "\n"
     ]
    }
   ],
   "source": [
    "print(df.to_csv(index=False, sep='\\t'))\n",
    "print(df.to_csv(index=False, sep='|'))"
   ]
  },
  {
   "cell_type": "markdown",
   "id": "9727f626-60b3-4d91-ac0b-87a622a11dab",
   "metadata": {},
   "source": [
    "3.92 to_csv 方法和 columns 参数"
   ]
  },
  {
   "cell_type": "code",
   "execution_count": 105,
   "id": "c20cc32f-b1dd-4f5c-a070-b532f7b13f9a",
   "metadata": {},
   "outputs": [
    {
     "name": "stdout",
     "output_type": "stream",
     "text": [
      "a,c\n",
      "1,3\n",
      "4,6\n",
      "\n"
     ]
    }
   ],
   "source": [
    "print(df.to_csv(index=False, columns=['a','c']))"
   ]
  },
  {
   "cell_type": "markdown",
   "id": "726458ae-b048-48de-9109-ceee4b69d6f6",
   "metadata": {},
   "source": [
    "3.93 to_csv 方法和 index_label 参数"
   ]
  },
  {
   "cell_type": "code",
   "execution_count": 106,
   "id": "77428446-abe7-428b-a809-c941167e4a2b",
   "metadata": {},
   "outputs": [
    {
     "data": {
      "text/html": [
       "<div>\n",
       "<style scoped>\n",
       "    .dataframe tbody tr th:only-of-type {\n",
       "        vertical-align: middle;\n",
       "    }\n",
       "\n",
       "    .dataframe tbody tr th {\n",
       "        vertical-align: top;\n",
       "    }\n",
       "\n",
       "    .dataframe thead th {\n",
       "        text-align: right;\n",
       "    }\n",
       "</style>\n",
       "<table border=\"1\" class=\"dataframe\">\n",
       "  <thead>\n",
       "    <tr style=\"text-align: right;\">\n",
       "      <th></th>\n",
       "      <th>a</th>\n",
       "      <th>b</th>\n",
       "      <th>c</th>\n",
       "    </tr>\n",
       "  </thead>\n",
       "  <tbody>\n",
       "    <tr>\n",
       "      <th>d</th>\n",
       "      <td>1</td>\n",
       "      <td>2</td>\n",
       "      <td>3</td>\n",
       "    </tr>\n",
       "    <tr>\n",
       "      <th>e</th>\n",
       "      <td>4</td>\n",
       "      <td>5</td>\n",
       "      <td>6</td>\n",
       "    </tr>\n",
       "  </tbody>\n",
       "</table>\n",
       "</div>"
      ],
      "text/plain": [
       "   a  b  c\n",
       "d  1  2  3\n",
       "e  4  5  6"
      ]
     },
     "execution_count": 106,
     "metadata": {},
     "output_type": "execute_result"
    }
   ],
   "source": [
    "df.index = ['d', 'e']\n",
    "df"
   ]
  },
  {
   "cell_type": "code",
   "execution_count": 107,
   "id": "5a5c5ebd-bb17-438d-99fe-304deaad8796",
   "metadata": {},
   "outputs": [
    {
     "data": {
      "text/html": [
       "<div>\n",
       "<style scoped>\n",
       "    .dataframe tbody tr th:only-of-type {\n",
       "        vertical-align: middle;\n",
       "    }\n",
       "\n",
       "    .dataframe tbody tr th {\n",
       "        vertical-align: top;\n",
       "    }\n",
       "\n",
       "    .dataframe thead th {\n",
       "        text-align: right;\n",
       "    }\n",
       "</style>\n",
       "<table border=\"1\" class=\"dataframe\">\n",
       "  <thead>\n",
       "    <tr style=\"text-align: right;\">\n",
       "      <th></th>\n",
       "      <th>index_labels</th>\n",
       "      <th>a</th>\n",
       "      <th>b</th>\n",
       "      <th>c</th>\n",
       "    </tr>\n",
       "  </thead>\n",
       "  <tbody>\n",
       "    <tr>\n",
       "      <th>0</th>\n",
       "      <td>d</td>\n",
       "      <td>1</td>\n",
       "      <td>2</td>\n",
       "      <td>3</td>\n",
       "    </tr>\n",
       "    <tr>\n",
       "      <th>1</th>\n",
       "      <td>e</td>\n",
       "      <td>4</td>\n",
       "      <td>5</td>\n",
       "      <td>6</td>\n",
       "    </tr>\n",
       "  </tbody>\n",
       "</table>\n",
       "</div>"
      ],
      "text/plain": [
       "  index_labels  a  b  c\n",
       "0            d  1  2  3\n",
       "1            e  4  5  6"
      ]
     },
     "execution_count": 107,
     "metadata": {},
     "output_type": "execute_result"
    }
   ],
   "source": [
    "df.to_csv('out3.csv', index=True, index_label='index_labels')\n",
    "pd.read_csv('out3.csv')"
   ]
  },
  {
   "cell_type": "markdown",
   "id": "a1faf39f-f7e9-41a8-9f77-bf0b6aa86f34",
   "metadata": {},
   "source": [
    "### 3.2.2 Excel"
   ]
  },
  {
   "cell_type": "markdown",
   "id": "b2f6495a-cee0-45b5-b2ee-7fd6a4af7c14",
   "metadata": {},
   "source": [
    "3.94 read_excel 函数"
   ]
  },
  {
   "cell_type": "code",
   "execution_count": 108,
   "id": "aac88f5d-837b-4d80-a59f-4b085b4e06c9",
   "metadata": {},
   "outputs": [
    {
     "name": "stderr",
     "output_type": "stream",
     "text": [
      "C:\\devtools\\python\\python311\\Lib\\site-packages\\openpyxl\\worksheet\\_reader.py:329: UserWarning: Unknown extension is not supported and will be removed\n",
      "  warn(msg)\n"
     ]
    },
    {
     "data": {
      "text/html": [
       "<div>\n",
       "<style scoped>\n",
       "    .dataframe tbody tr th:only-of-type {\n",
       "        vertical-align: middle;\n",
       "    }\n",
       "\n",
       "    .dataframe tbody tr th {\n",
       "        vertical-align: top;\n",
       "    }\n",
       "\n",
       "    .dataframe thead th {\n",
       "        text-align: right;\n",
       "    }\n",
       "</style>\n",
       "<table border=\"1\" class=\"dataframe\">\n",
       "  <thead>\n",
       "    <tr style=\"text-align: right;\">\n",
       "      <th></th>\n",
       "      <th>employee_name</th>\n",
       "      <th>age</th>\n",
       "      <th>sex</th>\n",
       "      <th>division</th>\n",
       "    </tr>\n",
       "  </thead>\n",
       "  <tbody>\n",
       "    <tr>\n",
       "      <th>0</th>\n",
       "      <td>a</td>\n",
       "      <td>22</td>\n",
       "      <td>男性</td>\n",
       "      <td>logistics</td>\n",
       "    </tr>\n",
       "    <tr>\n",
       "      <th>1</th>\n",
       "      <td>b</td>\n",
       "      <td>31</td>\n",
       "      <td>女性</td>\n",
       "      <td>marketing</td>\n",
       "    </tr>\n",
       "    <tr>\n",
       "      <th>2</th>\n",
       "      <td>c</td>\n",
       "      <td>29</td>\n",
       "      <td>女性</td>\n",
       "      <td>human resources</td>\n",
       "    </tr>\n",
       "    <tr>\n",
       "      <th>3</th>\n",
       "      <td>d</td>\n",
       "      <td>18</td>\n",
       "      <td>男性</td>\n",
       "      <td>sales</td>\n",
       "    </tr>\n",
       "    <tr>\n",
       "      <th>4</th>\n",
       "      <td>e</td>\n",
       "      <td>27</td>\n",
       "      <td>女性</td>\n",
       "      <td>logistics</td>\n",
       "    </tr>\n",
       "  </tbody>\n",
       "</table>\n",
       "</div>"
      ],
      "text/plain": [
       "  employee_name  age sex         division\n",
       "0             a   22  男性        logistics\n",
       "1             b   31  女性        marketing\n",
       "2             c   29  女性  human resources\n",
       "3             d   18  男性            sales\n",
       "4             e   27  女性        logistics"
      ]
     },
     "execution_count": 108,
     "metadata": {},
     "output_type": "execute_result"
    }
   ],
   "source": [
    "pd.read_excel('./data/ex12.xlsx')"
   ]
  },
  {
   "cell_type": "markdown",
   "id": "3b1317bf-84f2-4e9c-b12a-c8a81b8d8c8e",
   "metadata": {},
   "source": [
    "3.95 read_excel 函数和 sheet_name 参数"
   ]
  },
  {
   "cell_type": "code",
   "execution_count": 109,
   "id": "547788d9-d67f-415c-b255-91ee8dc7614a",
   "metadata": {},
   "outputs": [
    {
     "name": "stderr",
     "output_type": "stream",
     "text": [
      "C:\\devtools\\python\\python311\\Lib\\site-packages\\openpyxl\\worksheet\\_reader.py:329: UserWarning: Unknown extension is not supported and will be removed\n",
      "  warn(msg)\n"
     ]
    },
    {
     "data": {
      "text/html": [
       "<div>\n",
       "<style scoped>\n",
       "    .dataframe tbody tr th:only-of-type {\n",
       "        vertical-align: middle;\n",
       "    }\n",
       "\n",
       "    .dataframe tbody tr th {\n",
       "        vertical-align: top;\n",
       "    }\n",
       "\n",
       "    .dataframe thead th {\n",
       "        text-align: right;\n",
       "    }\n",
       "</style>\n",
       "<table border=\"1\" class=\"dataframe\">\n",
       "  <thead>\n",
       "    <tr style=\"text-align: right;\">\n",
       "      <th></th>\n",
       "      <th>employee_name</th>\n",
       "      <th>age</th>\n",
       "      <th>sex</th>\n",
       "      <th>division</th>\n",
       "    </tr>\n",
       "  </thead>\n",
       "  <tbody>\n",
       "    <tr>\n",
       "      <th>0</th>\n",
       "      <td>a</td>\n",
       "      <td>22</td>\n",
       "      <td>男性</td>\n",
       "      <td>logistics</td>\n",
       "    </tr>\n",
       "    <tr>\n",
       "      <th>1</th>\n",
       "      <td>b</td>\n",
       "      <td>31</td>\n",
       "      <td>女性</td>\n",
       "      <td>marketing</td>\n",
       "    </tr>\n",
       "    <tr>\n",
       "      <th>2</th>\n",
       "      <td>c</td>\n",
       "      <td>29</td>\n",
       "      <td>女性</td>\n",
       "      <td>human resources</td>\n",
       "    </tr>\n",
       "    <tr>\n",
       "      <th>3</th>\n",
       "      <td>d</td>\n",
       "      <td>18</td>\n",
       "      <td>男性</td>\n",
       "      <td>sales</td>\n",
       "    </tr>\n",
       "    <tr>\n",
       "      <th>4</th>\n",
       "      <td>e</td>\n",
       "      <td>27</td>\n",
       "      <td>女性</td>\n",
       "      <td>logistics</td>\n",
       "    </tr>\n",
       "  </tbody>\n",
       "</table>\n",
       "</div>"
      ],
      "text/plain": [
       "  employee_name  age sex         division\n",
       "0             a   22  男性        logistics\n",
       "1             b   31  女性        marketing\n",
       "2             c   29  女性  human resources\n",
       "3             d   18  男性            sales\n",
       "4             e   27  女性        logistics"
      ]
     },
     "execution_count": 109,
     "metadata": {},
     "output_type": "execute_result"
    }
   ],
   "source": [
    "employees = pd.read_excel('./data/ex12.xlsx', sheet_name='employees')\n",
    "employees"
   ]
  },
  {
   "cell_type": "code",
   "execution_count": 110,
   "id": "c95c266b-8001-4c65-8332-ecd51064dc1e",
   "metadata": {},
   "outputs": [
    {
     "name": "stderr",
     "output_type": "stream",
     "text": [
      "C:\\devtools\\python\\python311\\Lib\\site-packages\\openpyxl\\worksheet\\_reader.py:329: UserWarning: Unknown extension is not supported and will be removed\n",
      "  warn(msg)\n"
     ]
    },
    {
     "data": {
      "text/html": [
       "<div>\n",
       "<style scoped>\n",
       "    .dataframe tbody tr th:only-of-type {\n",
       "        vertical-align: middle;\n",
       "    }\n",
       "\n",
       "    .dataframe tbody tr th {\n",
       "        vertical-align: top;\n",
       "    }\n",
       "\n",
       "    .dataframe thead th {\n",
       "        text-align: right;\n",
       "    }\n",
       "</style>\n",
       "<table border=\"1\" class=\"dataframe\">\n",
       "  <thead>\n",
       "    <tr style=\"text-align: right;\">\n",
       "      <th></th>\n",
       "      <th>division</th>\n",
       "      <th>location</th>\n",
       "    </tr>\n",
       "  </thead>\n",
       "  <tbody>\n",
       "    <tr>\n",
       "      <th>0</th>\n",
       "      <td>sales</td>\n",
       "      <td>2F</td>\n",
       "    </tr>\n",
       "    <tr>\n",
       "      <th>1</th>\n",
       "      <td>human resources</td>\n",
       "      <td>2F</td>\n",
       "    </tr>\n",
       "    <tr>\n",
       "      <th>2</th>\n",
       "      <td>marketing</td>\n",
       "      <td>3F</td>\n",
       "    </tr>\n",
       "    <tr>\n",
       "      <th>3</th>\n",
       "      <td>logistics</td>\n",
       "      <td>1F</td>\n",
       "    </tr>\n",
       "  </tbody>\n",
       "</table>\n",
       "</div>"
      ],
      "text/plain": [
       "          division location\n",
       "0            sales       2F\n",
       "1  human resources       2F\n",
       "2        marketing       3F\n",
       "3        logistics       1F"
      ]
     },
     "execution_count": 110,
     "metadata": {},
     "output_type": "execute_result"
    }
   ],
   "source": [
    "div = pd.read_excel('./data/ex12.xlsx', sheet_name='div')\n",
    "div"
   ]
  },
  {
   "cell_type": "markdown",
   "id": "b425bacd-e780-42f6-b64a-ec36a014bf96",
   "metadata": {},
   "source": [
    "3.96 read_excel 函数和 usecols 参数"
   ]
  },
  {
   "cell_type": "code",
   "execution_count": 111,
   "id": "65a5732c-5e42-4fe6-9c1d-f0890d71a176",
   "metadata": {},
   "outputs": [
    {
     "name": "stderr",
     "output_type": "stream",
     "text": [
      "C:\\devtools\\python\\python311\\Lib\\site-packages\\openpyxl\\worksheet\\_reader.py:329: UserWarning: Unknown extension is not supported and will be removed\n",
      "  warn(msg)\n"
     ]
    },
    {
     "data": {
      "text/html": [
       "<div>\n",
       "<style scoped>\n",
       "    .dataframe tbody tr th:only-of-type {\n",
       "        vertical-align: middle;\n",
       "    }\n",
       "\n",
       "    .dataframe tbody tr th {\n",
       "        vertical-align: top;\n",
       "    }\n",
       "\n",
       "    .dataframe thead th {\n",
       "        text-align: right;\n",
       "    }\n",
       "</style>\n",
       "<table border=\"1\" class=\"dataframe\">\n",
       "  <thead>\n",
       "    <tr style=\"text-align: right;\">\n",
       "      <th></th>\n",
       "      <th>employee_name</th>\n",
       "      <th>sex</th>\n",
       "    </tr>\n",
       "  </thead>\n",
       "  <tbody>\n",
       "    <tr>\n",
       "      <th>0</th>\n",
       "      <td>a</td>\n",
       "      <td>男性</td>\n",
       "    </tr>\n",
       "    <tr>\n",
       "      <th>1</th>\n",
       "      <td>b</td>\n",
       "      <td>女性</td>\n",
       "    </tr>\n",
       "    <tr>\n",
       "      <th>2</th>\n",
       "      <td>c</td>\n",
       "      <td>女性</td>\n",
       "    </tr>\n",
       "    <tr>\n",
       "      <th>3</th>\n",
       "      <td>d</td>\n",
       "      <td>男性</td>\n",
       "    </tr>\n",
       "    <tr>\n",
       "      <th>4</th>\n",
       "      <td>e</td>\n",
       "      <td>女性</td>\n",
       "    </tr>\n",
       "  </tbody>\n",
       "</table>\n",
       "</div>"
      ],
      "text/plain": [
       "  employee_name sex\n",
       "0             a  男性\n",
       "1             b  女性\n",
       "2             c  女性\n",
       "3             d  男性\n",
       "4             e  女性"
      ]
     },
     "execution_count": 111,
     "metadata": {},
     "output_type": "execute_result"
    }
   ],
   "source": [
    "pd.read_excel('./data/ex12.xlsx', sheet_name='employees', usecols=[0,2])"
   ]
  },
  {
   "cell_type": "markdown",
   "id": "b89c868c-512a-438f-85f1-13ebcc9c252a",
   "metadata": {},
   "source": [
    "3.97 DataFrame 对象的 to_excel 方法"
   ]
  },
  {
   "cell_type": "code",
   "execution_count": 112,
   "id": "0700b07b-2eee-470f-8ba2-b5d8ed9fea05",
   "metadata": {},
   "outputs": [
    {
     "data": {
      "text/html": [
       "<div>\n",
       "<style scoped>\n",
       "    .dataframe tbody tr th:only-of-type {\n",
       "        vertical-align: middle;\n",
       "    }\n",
       "\n",
       "    .dataframe tbody tr th {\n",
       "        vertical-align: top;\n",
       "    }\n",
       "\n",
       "    .dataframe thead th {\n",
       "        text-align: right;\n",
       "    }\n",
       "</style>\n",
       "<table border=\"1\" class=\"dataframe\">\n",
       "  <thead>\n",
       "    <tr style=\"text-align: right;\">\n",
       "      <th></th>\n",
       "      <th>a</th>\n",
       "      <th>b</th>\n",
       "      <th>c</th>\n",
       "    </tr>\n",
       "  </thead>\n",
       "  <tbody>\n",
       "    <tr>\n",
       "      <th>0</th>\n",
       "      <td>1</td>\n",
       "      <td>2</td>\n",
       "      <td>3</td>\n",
       "    </tr>\n",
       "    <tr>\n",
       "      <th>1</th>\n",
       "      <td>4</td>\n",
       "      <td>5</td>\n",
       "      <td>6</td>\n",
       "    </tr>\n",
       "  </tbody>\n",
       "</table>\n",
       "</div>"
      ],
      "text/plain": [
       "   a  b  c\n",
       "0  1  2  3\n",
       "1  4  5  6"
      ]
     },
     "execution_count": 112,
     "metadata": {},
     "output_type": "execute_result"
    }
   ],
   "source": [
    "df = pd.DataFrame([[1,2,3],[4,5,6]], columns=list('abc'))\n",
    "df"
   ]
  },
  {
   "cell_type": "code",
   "execution_count": 113,
   "id": "36580d28-0ac6-4cce-9e6b-6d47975036c2",
   "metadata": {},
   "outputs": [],
   "source": [
    "df.to_excel('out4.xlsx', sheet_name='out4_sheet1')"
   ]
  },
  {
   "cell_type": "markdown",
   "id": "4cc3ddeb-fc97-4fc0-842c-0bb2622731e5",
   "metadata": {},
   "source": [
    "3.98 read_excel 函数"
   ]
  },
  {
   "cell_type": "code",
   "execution_count": 114,
   "id": "389f1be1-8d76-42ac-9f61-40efede29133",
   "metadata": {},
   "outputs": [
    {
     "data": {
      "text/html": [
       "<div>\n",
       "<style scoped>\n",
       "    .dataframe tbody tr th:only-of-type {\n",
       "        vertical-align: middle;\n",
       "    }\n",
       "\n",
       "    .dataframe tbody tr th {\n",
       "        vertical-align: top;\n",
       "    }\n",
       "\n",
       "    .dataframe thead th {\n",
       "        text-align: right;\n",
       "    }\n",
       "</style>\n",
       "<table border=\"1\" class=\"dataframe\">\n",
       "  <thead>\n",
       "    <tr style=\"text-align: right;\">\n",
       "      <th></th>\n",
       "      <th>Unnamed: 0</th>\n",
       "      <th>a</th>\n",
       "      <th>b</th>\n",
       "      <th>c</th>\n",
       "    </tr>\n",
       "  </thead>\n",
       "  <tbody>\n",
       "    <tr>\n",
       "      <th>0</th>\n",
       "      <td>0</td>\n",
       "      <td>1</td>\n",
       "      <td>2</td>\n",
       "      <td>3</td>\n",
       "    </tr>\n",
       "    <tr>\n",
       "      <th>1</th>\n",
       "      <td>1</td>\n",
       "      <td>4</td>\n",
       "      <td>5</td>\n",
       "      <td>6</td>\n",
       "    </tr>\n",
       "  </tbody>\n",
       "</table>\n",
       "</div>"
      ],
      "text/plain": [
       "   Unnamed: 0  a  b  c\n",
       "0           0  1  2  3\n",
       "1           1  4  5  6"
      ]
     },
     "execution_count": 114,
     "metadata": {},
     "output_type": "execute_result"
    }
   ],
   "source": [
    "pd.read_excel('out4.xlsx')"
   ]
  },
  {
   "cell_type": "markdown",
   "id": "1d49bd47-911d-4ab4-a581-f170f6b2a18c",
   "metadata": {},
   "source": [
    "3.99 ExcelFile 类的实例"
   ]
  },
  {
   "cell_type": "code",
   "execution_count": 115,
   "id": "14be698d-9613-4e90-8183-7eb3946093fa",
   "metadata": {},
   "outputs": [
    {
     "data": {
      "text/plain": [
       "<pandas.io.excel._base.ExcelFile at 0x1e67c160210>"
      ]
     },
     "execution_count": 115,
     "metadata": {},
     "output_type": "execute_result"
    }
   ],
   "source": [
    "excel = pd.ExcelFile('./data/ex12.xlsx')\n",
    "excel"
   ]
  },
  {
   "cell_type": "markdown",
   "id": "aa0415aa-5223-4ce2-90dc-7bc10180cdf7",
   "metadata": {},
   "source": [
    "3.100 ExcelFile 类的 sheet_names 属性"
   ]
  },
  {
   "cell_type": "code",
   "execution_count": 116,
   "id": "19af7c25-aa7a-4d08-9891-3e05dec039e5",
   "metadata": {},
   "outputs": [
    {
     "data": {
      "text/plain": [
       "['employees', 'div']"
      ]
     },
     "execution_count": 116,
     "metadata": {},
     "output_type": "execute_result"
    }
   ],
   "source": [
    "excel.sheet_names"
   ]
  },
  {
   "cell_type": "markdown",
   "id": "0cf5f2d9-a61d-4312-8b00-b78cd67dc37c",
   "metadata": {},
   "source": [
    "3.101 ExcelFile 类和 with 语句"
   ]
  },
  {
   "cell_type": "code",
   "execution_count": 117,
   "id": "cfb865de-2256-4806-af87-bce01916d4b6",
   "metadata": {},
   "outputs": [
    {
     "name": "stderr",
     "output_type": "stream",
     "text": [
      "C:\\devtools\\python\\python311\\Lib\\site-packages\\openpyxl\\worksheet\\_reader.py:329: UserWarning: Unknown extension is not supported and will be removed\n",
      "  warn(msg)\n",
      "C:\\devtools\\python\\python311\\Lib\\site-packages\\openpyxl\\worksheet\\_reader.py:329: UserWarning: Unknown extension is not supported and will be removed\n",
      "  warn(msg)\n"
     ]
    },
    {
     "data": {
      "text/html": [
       "<div>\n",
       "<style scoped>\n",
       "    .dataframe tbody tr th:only-of-type {\n",
       "        vertical-align: middle;\n",
       "    }\n",
       "\n",
       "    .dataframe tbody tr th {\n",
       "        vertical-align: top;\n",
       "    }\n",
       "\n",
       "    .dataframe thead th {\n",
       "        text-align: right;\n",
       "    }\n",
       "</style>\n",
       "<table border=\"1\" class=\"dataframe\">\n",
       "  <thead>\n",
       "    <tr style=\"text-align: right;\">\n",
       "      <th></th>\n",
       "      <th>employee_name</th>\n",
       "      <th>age</th>\n",
       "      <th>sex</th>\n",
       "      <th>division</th>\n",
       "      <th>location</th>\n",
       "    </tr>\n",
       "  </thead>\n",
       "  <tbody>\n",
       "    <tr>\n",
       "      <th>0</th>\n",
       "      <td>a</td>\n",
       "      <td>22</td>\n",
       "      <td>男性</td>\n",
       "      <td>logistics</td>\n",
       "      <td>1F</td>\n",
       "    </tr>\n",
       "    <tr>\n",
       "      <th>1</th>\n",
       "      <td>e</td>\n",
       "      <td>27</td>\n",
       "      <td>女性</td>\n",
       "      <td>logistics</td>\n",
       "      <td>1F</td>\n",
       "    </tr>\n",
       "    <tr>\n",
       "      <th>2</th>\n",
       "      <td>b</td>\n",
       "      <td>31</td>\n",
       "      <td>女性</td>\n",
       "      <td>marketing</td>\n",
       "      <td>3F</td>\n",
       "    </tr>\n",
       "    <tr>\n",
       "      <th>3</th>\n",
       "      <td>c</td>\n",
       "      <td>29</td>\n",
       "      <td>女性</td>\n",
       "      <td>human resources</td>\n",
       "      <td>2F</td>\n",
       "    </tr>\n",
       "    <tr>\n",
       "      <th>4</th>\n",
       "      <td>d</td>\n",
       "      <td>18</td>\n",
       "      <td>男性</td>\n",
       "      <td>sales</td>\n",
       "      <td>2F</td>\n",
       "    </tr>\n",
       "  </tbody>\n",
       "</table>\n",
       "</div>"
      ],
      "text/plain": [
       "  employee_name  age sex         division location\n",
       "0             a   22  男性        logistics       1F\n",
       "1             e   27  女性        logistics       1F\n",
       "2             b   31  女性        marketing       3F\n",
       "3             c   29  女性  human resources       2F\n",
       "4             d   18  男性            sales       2F"
      ]
     },
     "execution_count": 117,
     "metadata": {},
     "output_type": "execute_result"
    }
   ],
   "source": [
    "with pd.ExcelFile('./data/ex12.xlsx') as excel:\n",
    "    employees = pd.read_excel(excel, 'employees')\n",
    "    div = pd.read_excel(excel, 'div')\n",
    "    combined = employees.merge(div, on='division')\n",
    "    \n",
    "combined"
   ]
  },
  {
   "cell_type": "markdown",
   "id": "ecfd1a43-7b6f-4c3c-8b2f-7b8194a1a220",
   "metadata": {},
   "source": [
    "### 3.2.3 JSON"
   ]
  },
  {
   "cell_type": "markdown",
   "id": "6c2fe8c4-ce94-4c2d-a6c1-90b894e8e755",
   "metadata": {},
   "source": [
    "3.102 DataFrame 对象的创建"
   ]
  },
  {
   "cell_type": "code",
   "execution_count": 118,
   "id": "f1b70c81-ff2b-45ca-b7f9-996c573b8d97",
   "metadata": {},
   "outputs": [
    {
     "data": {
      "text/html": [
       "<div>\n",
       "<style scoped>\n",
       "    .dataframe tbody tr th:only-of-type {\n",
       "        vertical-align: middle;\n",
       "    }\n",
       "\n",
       "    .dataframe tbody tr th {\n",
       "        vertical-align: top;\n",
       "    }\n",
       "\n",
       "    .dataframe thead th {\n",
       "        text-align: right;\n",
       "    }\n",
       "</style>\n",
       "<table border=\"1\" class=\"dataframe\">\n",
       "  <thead>\n",
       "    <tr style=\"text-align: right;\">\n",
       "      <th></th>\n",
       "      <th>sex</th>\n",
       "      <th>age</th>\n",
       "    </tr>\n",
       "  </thead>\n",
       "  <tbody>\n",
       "    <tr>\n",
       "      <th>a</th>\n",
       "      <td>male</td>\n",
       "      <td>22</td>\n",
       "    </tr>\n",
       "    <tr>\n",
       "      <th>b</th>\n",
       "      <td>female</td>\n",
       "      <td>19</td>\n",
       "    </tr>\n",
       "  </tbody>\n",
       "</table>\n",
       "</div>"
      ],
      "text/plain": [
       "      sex  age\n",
       "a    male   22\n",
       "b  female   19"
      ]
     },
     "execution_count": 118,
     "metadata": {},
     "output_type": "execute_result"
    }
   ],
   "source": [
    "val = [['male',22],['female',19]]\n",
    "df = pd.DataFrame(val, index=['a','b'],columns=['sex','age'])\n",
    "df"
   ]
  },
  {
   "cell_type": "markdown",
   "id": "52a4adb9-ad6d-4397-820b-0c6add59afdb",
   "metadata": {},
   "source": [
    "3.103 DataFrame 对象的 to_json 方法"
   ]
  },
  {
   "cell_type": "code",
   "execution_count": 119,
   "id": "f3d79969-6c16-425f-90c0-3af74d5197f4",
   "metadata": {},
   "outputs": [
    {
     "data": {
      "text/plain": [
       "'{\"sex\":{\"a\":\"male\",\"b\":\"female\"},\"age\":{\"a\":22,\"b\":19}}'"
      ]
     },
     "execution_count": 119,
     "metadata": {},
     "output_type": "execute_result"
    }
   ],
   "source": [
    "df.to_json(orient='columns')"
   ]
  },
  {
   "cell_type": "markdown",
   "id": "53ec1edd-4639-4b3f-8e7a-122f4929355d",
   "metadata": {},
   "source": [
    "3.104 to_json 方法和 orient 参数（table）"
   ]
  },
  {
   "cell_type": "code",
   "execution_count": 120,
   "id": "995dd454-c419-4eaf-a6e6-8fd0be037d14",
   "metadata": {},
   "outputs": [
    {
     "data": {
      "text/plain": [
       "'{\"schema\":{\"fields\":[{\"name\":\"index\",\"type\":\"string\"},{\"name\":\"sex\",\"type\":\"string\"},{\"name\":\"age\",\"type\":\"integer\"}],\"primaryKey\":[\"index\"],\"pandas_version\":\"1.4.0\"},\"data\":[{\"index\":\"a\",\"sex\":\"male\",\"age\":22},{\"index\":\"b\",\"sex\":\"female\",\"age\":19}]}'"
      ]
     },
     "execution_count": 120,
     "metadata": {},
     "output_type": "execute_result"
    }
   ],
   "source": [
    "df.to_json(orient='table')"
   ]
  },
  {
   "cell_type": "markdown",
   "id": "46df1568-78d7-423f-b0f5-70520478b0d5",
   "metadata": {},
   "source": [
    "3.105 Series 类的 to_json 方法"
   ]
  },
  {
   "cell_type": "code",
   "execution_count": 121,
   "id": "e5512a0a-9c58-4d52-a795-74e8462ffe8e",
   "metadata": {},
   "outputs": [
    {
     "data": {
      "text/plain": [
       "'{\"a\":22,\"b\":19}'"
      ]
     },
     "execution_count": 121,
     "metadata": {},
     "output_type": "execute_result"
    }
   ],
   "source": [
    "df['age'].to_json(orient='index')"
   ]
  },
  {
   "cell_type": "markdown",
   "id": "196b2ad2-dfbc-4799-9768-daed3564d359",
   "metadata": {},
   "source": [
    "3.106 使用 to_json 方法保存 JSON 文件"
   ]
  },
  {
   "cell_type": "code",
   "execution_count": 122,
   "id": "3019db7b-0a13-4b54-9f67-f24577a53c4c",
   "metadata": {},
   "outputs": [],
   "source": [
    "df.to_json('out5.json', orient='columns')"
   ]
  },
  {
   "cell_type": "code",
   "execution_count": 123,
   "id": "7239f537-552f-4c63-ac39-30c53d7529c4",
   "metadata": {},
   "outputs": [
    {
     "name": "stdout",
     "output_type": "stream",
     "text": [
      "{\"sex\":{\"a\":\"male\",\"b\":\"female\"},\"age\":{\"a\":22,\"b\":19}}\n"
     ]
    }
   ],
   "source": [
    "with open('out5.json', encoding='UTF-8') as file:\n",
    "    print(file.read())"
   ]
  },
  {
   "cell_type": "markdown",
   "id": "327796e7-c440-49f4-af66-98a17283c8e7",
   "metadata": {},
   "source": [
    "3.107 添加日期类型"
   ]
  },
  {
   "cell_type": "code",
   "execution_count": 124,
   "id": "4da8856f-b3d4-4fba-979d-7eee41e6a8f5",
   "metadata": {},
   "outputs": [
    {
     "data": {
      "text/html": [
       "<div>\n",
       "<style scoped>\n",
       "    .dataframe tbody tr th:only-of-type {\n",
       "        vertical-align: middle;\n",
       "    }\n",
       "\n",
       "    .dataframe tbody tr th {\n",
       "        vertical-align: top;\n",
       "    }\n",
       "\n",
       "    .dataframe thead th {\n",
       "        text-align: right;\n",
       "    }\n",
       "</style>\n",
       "<table border=\"1\" class=\"dataframe\">\n",
       "  <thead>\n",
       "    <tr style=\"text-align: right;\">\n",
       "      <th></th>\n",
       "      <th>sex</th>\n",
       "      <th>age</th>\n",
       "      <th>bdate</th>\n",
       "    </tr>\n",
       "  </thead>\n",
       "  <tbody>\n",
       "    <tr>\n",
       "      <th>a</th>\n",
       "      <td>male</td>\n",
       "      <td>22</td>\n",
       "      <td>2019-01-01</td>\n",
       "    </tr>\n",
       "    <tr>\n",
       "      <th>b</th>\n",
       "      <td>female</td>\n",
       "      <td>19</td>\n",
       "      <td>2019-01-01</td>\n",
       "    </tr>\n",
       "  </tbody>\n",
       "</table>\n",
       "</div>"
      ],
      "text/plain": [
       "      sex  age      bdate\n",
       "a    male   22 2019-01-01\n",
       "b  female   19 2019-01-01"
      ]
     },
     "execution_count": 124,
     "metadata": {},
     "output_type": "execute_result"
    }
   ],
   "source": [
    "df['bdate'] = pd.Timestamp('20190101')\n",
    "df"
   ]
  },
  {
   "cell_type": "markdown",
   "id": "0c3e1771-bc3a-4ccb-981d-332be753dcff",
   "metadata": {},
   "source": [
    "3.108 to_json 方法和 date_format 参数"
   ]
  },
  {
   "cell_type": "code",
   "execution_count": 125,
   "id": "059d0e11-71df-442a-a3d1-413541df53c8",
   "metadata": {},
   "outputs": [
    {
     "data": {
      "text/plain": [
       "'{\"sex\":{\"a\":\"male\",\"b\":\"female\"},\"age\":{\"a\":22,\"b\":19},\"bdate\":{\"a\":1546,\"b\":1546}}'"
      ]
     },
     "execution_count": 125,
     "metadata": {},
     "output_type": "execute_result"
    }
   ],
   "source": [
    "df.to_json(orient='columns', date_format='epoch')"
   ]
  },
  {
   "cell_type": "code",
   "execution_count": 126,
   "id": "eb9d417e-6de3-4f4d-8c1f-1f2f043dffa9",
   "metadata": {},
   "outputs": [
    {
     "data": {
      "text/plain": [
       "'{\"sex\":{\"a\":\"male\",\"b\":\"female\"},\"age\":{\"a\":22,\"b\":19},\"bdate\":{\"a\":\"2019-01-01T00:00:00.000\",\"b\":\"2019-01-01T00:00:00.000\"}}'"
      ]
     },
     "execution_count": 126,
     "metadata": {},
     "output_type": "execute_result"
    }
   ],
   "source": [
    "df.to_json(orient='columns', date_format='iso')"
   ]
  },
  {
   "cell_type": "markdown",
   "id": "3420a921-c605-4ddb-8946-cc5bdf8edfb9",
   "metadata": {},
   "source": [
    "3.109 使用 to_json 方法查看缺失数据的处理"
   ]
  },
  {
   "cell_type": "code",
   "execution_count": 127,
   "id": "38552300-883f-4d75-8973-3307937ea09a",
   "metadata": {},
   "outputs": [
    {
     "data": {
      "text/html": [
       "<div>\n",
       "<style scoped>\n",
       "    .dataframe tbody tr th:only-of-type {\n",
       "        vertical-align: middle;\n",
       "    }\n",
       "\n",
       "    .dataframe tbody tr th {\n",
       "        vertical-align: top;\n",
       "    }\n",
       "\n",
       "    .dataframe thead th {\n",
       "        text-align: right;\n",
       "    }\n",
       "</style>\n",
       "<table border=\"1\" class=\"dataframe\">\n",
       "  <thead>\n",
       "    <tr style=\"text-align: right;\">\n",
       "      <th></th>\n",
       "      <th>sex</th>\n",
       "      <th>age</th>\n",
       "      <th>bdate</th>\n",
       "    </tr>\n",
       "  </thead>\n",
       "  <tbody>\n",
       "    <tr>\n",
       "      <th>a</th>\n",
       "      <td>None</td>\n",
       "      <td>22.0</td>\n",
       "      <td>NaT</td>\n",
       "    </tr>\n",
       "    <tr>\n",
       "      <th>b</th>\n",
       "      <td>female</td>\n",
       "      <td>NaN</td>\n",
       "      <td>2019-01-01</td>\n",
       "    </tr>\n",
       "  </tbody>\n",
       "</table>\n",
       "</div>"
      ],
      "text/plain": [
       "      sex   age      bdate\n",
       "a    None  22.0        NaT\n",
       "b  female   NaN 2019-01-01"
      ]
     },
     "execution_count": 127,
     "metadata": {},
     "output_type": "execute_result"
    }
   ],
   "source": [
    "df2 = df.copy()\n",
    "df2.loc['a','sex'] = None\n",
    "df2.loc['b','age'] = np.nan\n",
    "df2.loc['a','bdate'] = np.nan\n",
    "df2"
   ]
  },
  {
   "cell_type": "code",
   "execution_count": 128,
   "id": "18a31ec7-07d1-4ee4-b71e-a0e324bda540",
   "metadata": {},
   "outputs": [
    {
     "data": {
      "text/plain": [
       "'{\"sex\":{\"a\":null,\"b\":\"female\"},\"age\":{\"a\":22.0,\"b\":null},\"bdate\":{\"a\":null,\"b\":1546}}'"
      ]
     },
     "execution_count": 128,
     "metadata": {},
     "output_type": "execute_result"
    }
   ],
   "source": [
    "df2.to_json(orient='columns')"
   ]
  },
  {
   "cell_type": "markdown",
   "id": "9131fedf-a407-4c51-91a8-1460a2845562",
   "metadata": {},
   "source": [
    "3.110 使用 read_json 函数（默认）将 JSON 文件转换成 DataFrame对象"
   ]
  },
  {
   "cell_type": "code",
   "execution_count": 129,
   "id": "bf074b2e-0538-44f3-9249-98321c432995",
   "metadata": {},
   "outputs": [
    {
     "name": "stdout",
     "output_type": "stream",
     "text": [
      "{\"sex\":{\"a\":\"male\",\"b\":\"female\"},\"age\":{\"a\":22,\"b\":19}}\n"
     ]
    }
   ],
   "source": [
    "with open('out5.json', encoding='UTF-8') as file:\n",
    "    print(file.read())"
   ]
  },
  {
   "cell_type": "code",
   "execution_count": 130,
   "id": "c11d3143-61cc-43d8-b615-28a41bae04cd",
   "metadata": {},
   "outputs": [
    {
     "data": {
      "text/html": [
       "<div>\n",
       "<style scoped>\n",
       "    .dataframe tbody tr th:only-of-type {\n",
       "        vertical-align: middle;\n",
       "    }\n",
       "\n",
       "    .dataframe tbody tr th {\n",
       "        vertical-align: top;\n",
       "    }\n",
       "\n",
       "    .dataframe thead th {\n",
       "        text-align: right;\n",
       "    }\n",
       "</style>\n",
       "<table border=\"1\" class=\"dataframe\">\n",
       "  <thead>\n",
       "    <tr style=\"text-align: right;\">\n",
       "      <th></th>\n",
       "      <th>sex</th>\n",
       "      <th>age</th>\n",
       "    </tr>\n",
       "  </thead>\n",
       "  <tbody>\n",
       "    <tr>\n",
       "      <th>a</th>\n",
       "      <td>male</td>\n",
       "      <td>22</td>\n",
       "    </tr>\n",
       "    <tr>\n",
       "      <th>b</th>\n",
       "      <td>female</td>\n",
       "      <td>19</td>\n",
       "    </tr>\n",
       "  </tbody>\n",
       "</table>\n",
       "</div>"
      ],
      "text/plain": [
       "      sex  age\n",
       "a    male   22\n",
       "b  female   19"
      ]
     },
     "execution_count": 130,
     "metadata": {},
     "output_type": "execute_result"
    }
   ],
   "source": [
    "pd.read_json('out5.json', typ='frame')"
   ]
  },
  {
   "cell_type": "markdown",
   "id": "2c511332-7b8a-4db3-b7b4-f8f8255e87cc",
   "metadata": {},
   "source": [
    "3.111 使用 read_json 函数的 orient 参数（index）将 JSON 文件转换成 DataFrame 对象"
   ]
  },
  {
   "cell_type": "code",
   "execution_count": 131,
   "id": "bb086cde-8691-4d5a-8fdb-bbb20e90d8b3",
   "metadata": {},
   "outputs": [
    {
     "data": {
      "text/html": [
       "<div>\n",
       "<style scoped>\n",
       "    .dataframe tbody tr th:only-of-type {\n",
       "        vertical-align: middle;\n",
       "    }\n",
       "\n",
       "    .dataframe tbody tr th {\n",
       "        vertical-align: top;\n",
       "    }\n",
       "\n",
       "    .dataframe thead th {\n",
       "        text-align: right;\n",
       "    }\n",
       "</style>\n",
       "<table border=\"1\" class=\"dataframe\">\n",
       "  <thead>\n",
       "    <tr style=\"text-align: right;\">\n",
       "      <th></th>\n",
       "      <th>a</th>\n",
       "      <th>b</th>\n",
       "    </tr>\n",
       "  </thead>\n",
       "  <tbody>\n",
       "    <tr>\n",
       "      <th>sex</th>\n",
       "      <td>male</td>\n",
       "      <td>female</td>\n",
       "    </tr>\n",
       "    <tr>\n",
       "      <th>age</th>\n",
       "      <td>22</td>\n",
       "      <td>19</td>\n",
       "    </tr>\n",
       "  </tbody>\n",
       "</table>\n",
       "</div>"
      ],
      "text/plain": [
       "        a       b\n",
       "sex  male  female\n",
       "age    22      19"
      ]
     },
     "execution_count": 131,
     "metadata": {},
     "output_type": "execute_result"
    }
   ],
   "source": [
    "pd.read_json('out5.json', typ='frame', orient='index')"
   ]
  },
  {
   "cell_type": "markdown",
   "id": "d23ed9e8-ea14-4805-9b90-628c8034eda4",
   "metadata": {},
   "source": [
    "3.112 使用 read_json 函数的 orient 参数（index）将 JSON 文件转换成 Series 对象"
   ]
  },
  {
   "cell_type": "code",
   "execution_count": 132,
   "id": "a6fbc137-546b-4abc-ac61-54d63d88f683",
   "metadata": {},
   "outputs": [
    {
     "data": {
      "text/plain": [
       "a    22\n",
       "b    31\n",
       "c    19\n",
       "dtype: int64"
      ]
     },
     "execution_count": 132,
     "metadata": {},
     "output_type": "execute_result"
    }
   ],
   "source": [
    "pd.read_json('./data/ex13.json', typ='series', orient='index')"
   ]
  },
  {
   "cell_type": "markdown",
   "id": "0d0b633d-9d4b-4dfd-bb5e-510dfd8e75a4",
   "metadata": {},
   "source": [
    "3.113 read_json 函数和 dtype 参数"
   ]
  },
  {
   "cell_type": "code",
   "execution_count": 133,
   "id": "eeac1e6b-0f72-4a37-b16b-73ab12dbfa97",
   "metadata": {},
   "outputs": [
    {
     "name": "stdout",
     "output_type": "stream",
     "text": [
      "<class 'pandas.core.frame.DataFrame'>\n",
      "Index: 2 entries, a to b\n",
      "Data columns (total 2 columns):\n",
      " #   Column  Non-Null Count  Dtype \n",
      "---  ------  --------------  ----- \n",
      " 0   sex     2 non-null      object\n",
      " 1   age     2 non-null      int64 \n",
      "dtypes: int64(1), object(1)\n",
      "memory usage: 48.0+ bytes\n"
     ]
    }
   ],
   "source": [
    "df = pd.read_json('out5.json', dtype=True)\n",
    "df.info()"
   ]
  },
  {
   "cell_type": "code",
   "execution_count": 134,
   "id": "615ee852-4d1d-4676-ab0b-167cccbc76ea",
   "metadata": {},
   "outputs": [
    {
     "name": "stdout",
     "output_type": "stream",
     "text": [
      "<class 'pandas.core.frame.DataFrame'>\n",
      "Index: 2 entries, a to b\n",
      "Data columns (total 2 columns):\n",
      " #   Column  Non-Null Count  Dtype \n",
      "---  ------  --------------  ----- \n",
      " 0   sex     2 non-null      object\n",
      " 1   age     2 non-null      int8  \n",
      "dtypes: int8(1), object(1)\n",
      "memory usage: 34.0+ bytes\n"
     ]
    }
   ],
   "source": [
    "df = pd.read_json('out5.json', dtype={'age':np.int8})\n",
    "df.info()"
   ]
  },
  {
   "cell_type": "markdown",
   "id": "aad4f1db-be3d-4111-bc62-f6fc79ac1752",
   "metadata": {},
   "source": [
    "### 3.2.4 HDF5"
   ]
  },
  {
   "cell_type": "markdown",
   "id": "9d7727c1-b985-4afd-a9b7-f22f04d7b138",
   "metadata": {},
   "source": [
    "3.114 DataFrame 对象的创建"
   ]
  },
  {
   "cell_type": "code",
   "execution_count": 135,
   "id": "6353b4b6-d578-496a-93a4-bd18e3706add",
   "metadata": {},
   "outputs": [
    {
     "data": {
      "text/html": [
       "<div>\n",
       "<style scoped>\n",
       "    .dataframe tbody tr th:only-of-type {\n",
       "        vertical-align: middle;\n",
       "    }\n",
       "\n",
       "    .dataframe tbody tr th {\n",
       "        vertical-align: top;\n",
       "    }\n",
       "\n",
       "    .dataframe thead th {\n",
       "        text-align: right;\n",
       "    }\n",
       "</style>\n",
       "<table border=\"1\" class=\"dataframe\">\n",
       "  <thead>\n",
       "    <tr style=\"text-align: right;\">\n",
       "      <th></th>\n",
       "      <th>a</th>\n",
       "      <th>b</th>\n",
       "    </tr>\n",
       "  </thead>\n",
       "  <tbody>\n",
       "    <tr>\n",
       "      <th>0</th>\n",
       "      <td>啊</td>\n",
       "      <td>1</td>\n",
       "    </tr>\n",
       "    <tr>\n",
       "      <th>1</th>\n",
       "      <td>咦</td>\n",
       "      <td>2</td>\n",
       "    </tr>\n",
       "  </tbody>\n",
       "</table>\n",
       "</div>"
      ],
      "text/plain": [
       "   a  b\n",
       "0  啊  1\n",
       "1  咦  2"
      ]
     },
     "execution_count": 135,
     "metadata": {},
     "output_type": "execute_result"
    }
   ],
   "source": [
    "df = pd.DataFrame([['啊',1],['咦',2]],columns=list('ab'))\n",
    "df"
   ]
  },
  {
   "cell_type": "markdown",
   "id": "d85f0c54-db87-45f2-b9b3-f9388183315b",
   "metadata": {},
   "source": [
    "3.115 HDFStore 对象的实例"
   ]
  },
  {
   "cell_type": "code",
   "execution_count": 136,
   "id": "ff45c7b1-6897-46ac-aec4-4e9f1f568145",
   "metadata": {},
   "outputs": [
    {
     "data": {
      "text/plain": [
       "<class 'pandas.io.pytables.HDFStore'>\n",
       "File path: ./data/out7.hdf5"
      ]
     },
     "execution_count": 136,
     "metadata": {},
     "output_type": "execute_result"
    }
   ],
   "source": [
    "hdf = pd.HDFStore('./data/out7.hdf5')\n",
    "hdf"
   ]
  },
  {
   "cell_type": "markdown",
   "id": "531beb52-07fd-45d1-ad1b-6be8007b036e",
   "metadata": {},
   "source": [
    "3.116 HDFStore 对象与 put 方法"
   ]
  },
  {
   "cell_type": "code",
   "execution_count": 137,
   "id": "99ef29f8-1966-421c-8c6c-9c92044de9bd",
   "metadata": {},
   "outputs": [],
   "source": [
    "hdf.put(key='add_df', value=df)"
   ]
  },
  {
   "cell_type": "markdown",
   "id": "971efc1a-ffb5-4f97-9dc7-983aeec1be90",
   "metadata": {},
   "source": [
    "3.117 HDFStore 对象和方括号（[ ]）"
   ]
  },
  {
   "cell_type": "code",
   "execution_count": 138,
   "id": "19cafd36-ec19-42f7-a447-1c97cbbd3151",
   "metadata": {},
   "outputs": [],
   "source": [
    "ser = pd.Series([1,3,5,7],index=list('abcd'))\n",
    "hdf['add_ser'] = ser"
   ]
  },
  {
   "cell_type": "markdown",
   "id": "db8f60be-3979-42c3-b7cb-8682988a9519",
   "metadata": {},
   "source": [
    "3.118 DataFrame 对象的 to_hdf 方法"
   ]
  },
  {
   "cell_type": "code",
   "execution_count": 139,
   "id": "8315206f-19f6-48b9-9996-d39112e5e55f",
   "metadata": {},
   "outputs": [],
   "source": [
    "df2 = pd.DataFrame([[0.1,2,3],[0.5,4,5]], columns=list('abc'))\n",
    "df2.to_hdf('out7.hdf5', key='add_df2')"
   ]
  },
  {
   "cell_type": "markdown",
   "id": "cf946ec8-f452-42e2-b0fd-dbccca8b2771",
   "metadata": {},
   "source": [
    "3.119 HDFStore 对象的 get 方法"
   ]
  },
  {
   "cell_type": "code",
   "execution_count": 140,
   "id": "e8ea5936-8654-4779-82d3-9d18fef6002e",
   "metadata": {},
   "outputs": [
    {
     "data": {
      "text/html": [
       "<div>\n",
       "<style scoped>\n",
       "    .dataframe tbody tr th:only-of-type {\n",
       "        vertical-align: middle;\n",
       "    }\n",
       "\n",
       "    .dataframe tbody tr th {\n",
       "        vertical-align: top;\n",
       "    }\n",
       "\n",
       "    .dataframe thead th {\n",
       "        text-align: right;\n",
       "    }\n",
       "</style>\n",
       "<table border=\"1\" class=\"dataframe\">\n",
       "  <thead>\n",
       "    <tr style=\"text-align: right;\">\n",
       "      <th></th>\n",
       "      <th>a</th>\n",
       "      <th>b</th>\n",
       "    </tr>\n",
       "  </thead>\n",
       "  <tbody>\n",
       "    <tr>\n",
       "      <th>0</th>\n",
       "      <td>啊</td>\n",
       "      <td>1</td>\n",
       "    </tr>\n",
       "    <tr>\n",
       "      <th>1</th>\n",
       "      <td>咦</td>\n",
       "      <td>2</td>\n",
       "    </tr>\n",
       "  </tbody>\n",
       "</table>\n",
       "</div>"
      ],
      "text/plain": [
       "   a  b\n",
       "0  啊  1\n",
       "1  咦  2"
      ]
     },
     "execution_count": 140,
     "metadata": {},
     "output_type": "execute_result"
    }
   ],
   "source": [
    "hdf.get(key='add_df')"
   ]
  },
  {
   "cell_type": "markdown",
   "id": "8e83fd3c-d765-4499-a04b-c5b3841a4017",
   "metadata": {},
   "source": [
    "3.120 read_hdf 函数"
   ]
  },
  {
   "cell_type": "code",
   "execution_count": 141,
   "id": "0624e343-bc72-486e-88a3-434ffe25d152",
   "metadata": {},
   "outputs": [
    {
     "data": {
      "text/html": [
       "<div>\n",
       "<style scoped>\n",
       "    .dataframe tbody tr th:only-of-type {\n",
       "        vertical-align: middle;\n",
       "    }\n",
       "\n",
       "    .dataframe tbody tr th {\n",
       "        vertical-align: top;\n",
       "    }\n",
       "\n",
       "    .dataframe thead th {\n",
       "        text-align: right;\n",
       "    }\n",
       "</style>\n",
       "<table border=\"1\" class=\"dataframe\">\n",
       "  <thead>\n",
       "    <tr style=\"text-align: right;\">\n",
       "      <th></th>\n",
       "      <th>a</th>\n",
       "      <th>b</th>\n",
       "      <th>c</th>\n",
       "      <th>d</th>\n",
       "    </tr>\n",
       "  </thead>\n",
       "  <tbody>\n",
       "    <tr>\n",
       "      <th>0</th>\n",
       "      <td>0</td>\n",
       "      <td>1</td>\n",
       "      <td>2</td>\n",
       "      <td>3</td>\n",
       "    </tr>\n",
       "    <tr>\n",
       "      <th>1</th>\n",
       "      <td>4</td>\n",
       "      <td>5</td>\n",
       "      <td>6</td>\n",
       "      <td>7</td>\n",
       "    </tr>\n",
       "    <tr>\n",
       "      <th>2</th>\n",
       "      <td>8</td>\n",
       "      <td>9</td>\n",
       "      <td>10</td>\n",
       "      <td>11</td>\n",
       "    </tr>\n",
       "    <tr>\n",
       "      <th>3</th>\n",
       "      <td>12</td>\n",
       "      <td>13</td>\n",
       "      <td>14</td>\n",
       "      <td>15</td>\n",
       "    </tr>\n",
       "  </tbody>\n",
       "</table>\n",
       "</div>"
      ],
      "text/plain": [
       "    a   b   c   d\n",
       "0   0   1   2   3\n",
       "1   4   5   6   7\n",
       "2   8   9  10  11\n",
       "3  12  13  14  15"
      ]
     },
     "execution_count": 141,
     "metadata": {},
     "output_type": "execute_result"
    }
   ],
   "source": [
    "pd.read_hdf('./data/ex14.hdf5', key='out8')"
   ]
  },
  {
   "cell_type": "markdown",
   "id": "a8d8f1ea-cb57-4a96-a265-c20bd1d5882b",
   "metadata": {},
   "source": [
    "3.121 read_hdf 函数的 start 参数和 stop 参数"
   ]
  },
  {
   "cell_type": "code",
   "execution_count": 142,
   "id": "ad59e58a-3b35-4a44-8baf-d834f3893111",
   "metadata": {},
   "outputs": [
    {
     "data": {
      "text/html": [
       "<div>\n",
       "<style scoped>\n",
       "    .dataframe tbody tr th:only-of-type {\n",
       "        vertical-align: middle;\n",
       "    }\n",
       "\n",
       "    .dataframe tbody tr th {\n",
       "        vertical-align: top;\n",
       "    }\n",
       "\n",
       "    .dataframe thead th {\n",
       "        text-align: right;\n",
       "    }\n",
       "</style>\n",
       "<table border=\"1\" class=\"dataframe\">\n",
       "  <thead>\n",
       "    <tr style=\"text-align: right;\">\n",
       "      <th></th>\n",
       "      <th>a</th>\n",
       "      <th>b</th>\n",
       "      <th>c</th>\n",
       "      <th>d</th>\n",
       "    </tr>\n",
       "  </thead>\n",
       "  <tbody>\n",
       "    <tr>\n",
       "      <th>1</th>\n",
       "      <td>4</td>\n",
       "      <td>5</td>\n",
       "      <td>6</td>\n",
       "      <td>7</td>\n",
       "    </tr>\n",
       "    <tr>\n",
       "      <th>2</th>\n",
       "      <td>8</td>\n",
       "      <td>9</td>\n",
       "      <td>10</td>\n",
       "      <td>11</td>\n",
       "    </tr>\n",
       "  </tbody>\n",
       "</table>\n",
       "</div>"
      ],
      "text/plain": [
       "   a  b   c   d\n",
       "1  4  5   6   7\n",
       "2  8  9  10  11"
      ]
     },
     "execution_count": 142,
     "metadata": {},
     "output_type": "execute_result"
    }
   ],
   "source": [
    "pd.read_hdf('./data/ex14.hdf5', key='out8', start=1, stop=3)"
   ]
  },
  {
   "cell_type": "markdown",
   "id": "84714cd8-3a22-4c15-b16c-7f0ebdead119",
   "metadata": {},
   "source": [
    "3.122 HDFStore 对象的 get 方法和方括号（[ ]）"
   ]
  },
  {
   "cell_type": "code",
   "execution_count": 143,
   "id": "d94c80d4-7e91-4b54-845a-c6e634f48fb7",
   "metadata": {},
   "outputs": [
    {
     "data": {
      "text/html": [
       "<div>\n",
       "<style scoped>\n",
       "    .dataframe tbody tr th:only-of-type {\n",
       "        vertical-align: middle;\n",
       "    }\n",
       "\n",
       "    .dataframe tbody tr th {\n",
       "        vertical-align: top;\n",
       "    }\n",
       "\n",
       "    .dataframe thead th {\n",
       "        text-align: right;\n",
       "    }\n",
       "</style>\n",
       "<table border=\"1\" class=\"dataframe\">\n",
       "  <thead>\n",
       "    <tr style=\"text-align: right;\">\n",
       "      <th></th>\n",
       "      <th>a</th>\n",
       "      <th>b</th>\n",
       "      <th>c</th>\n",
       "      <th>d</th>\n",
       "    </tr>\n",
       "  </thead>\n",
       "  <tbody>\n",
       "    <tr>\n",
       "      <th>0</th>\n",
       "      <td>0</td>\n",
       "      <td>1</td>\n",
       "      <td>2</td>\n",
       "      <td>3</td>\n",
       "    </tr>\n",
       "    <tr>\n",
       "      <th>1</th>\n",
       "      <td>4</td>\n",
       "      <td>5</td>\n",
       "      <td>6</td>\n",
       "      <td>7</td>\n",
       "    </tr>\n",
       "    <tr>\n",
       "      <th>2</th>\n",
       "      <td>8</td>\n",
       "      <td>9</td>\n",
       "      <td>10</td>\n",
       "      <td>11</td>\n",
       "    </tr>\n",
       "    <tr>\n",
       "      <th>3</th>\n",
       "      <td>12</td>\n",
       "      <td>13</td>\n",
       "      <td>14</td>\n",
       "      <td>15</td>\n",
       "    </tr>\n",
       "  </tbody>\n",
       "</table>\n",
       "</div>"
      ],
      "text/plain": [
       "    a   b   c   d\n",
       "0   0   1   2   3\n",
       "1   4   5   6   7\n",
       "2   8   9  10  11\n",
       "3  12  13  14  15"
      ]
     },
     "execution_count": 143,
     "metadata": {},
     "output_type": "execute_result"
    }
   ],
   "source": [
    "# hdf = pd.HDFStore('./data/ex14.hdf5', format='table')\n",
    "#         if \"format\" in kwargs:\n",
    "#            raise ValueError(\"format is not a defined argument for HDFStore\")\n",
    "hdf = pd.HDFStore('./data/ex14.hdf5')\n",
    "hdf.get('out8')"
   ]
  },
  {
   "cell_type": "code",
   "execution_count": 144,
   "id": "19a862f1-f5a3-47c0-b69f-47e9a947e5c3",
   "metadata": {},
   "outputs": [
    {
     "data": {
      "text/html": [
       "<div>\n",
       "<style scoped>\n",
       "    .dataframe tbody tr th:only-of-type {\n",
       "        vertical-align: middle;\n",
       "    }\n",
       "\n",
       "    .dataframe tbody tr th {\n",
       "        vertical-align: top;\n",
       "    }\n",
       "\n",
       "    .dataframe thead th {\n",
       "        text-align: right;\n",
       "    }\n",
       "</style>\n",
       "<table border=\"1\" class=\"dataframe\">\n",
       "  <thead>\n",
       "    <tr style=\"text-align: right;\">\n",
       "      <th></th>\n",
       "      <th>a</th>\n",
       "      <th>b</th>\n",
       "      <th>c</th>\n",
       "      <th>d</th>\n",
       "    </tr>\n",
       "  </thead>\n",
       "  <tbody>\n",
       "    <tr>\n",
       "      <th>0</th>\n",
       "      <td>0</td>\n",
       "      <td>1</td>\n",
       "      <td>2</td>\n",
       "      <td>3</td>\n",
       "    </tr>\n",
       "    <tr>\n",
       "      <th>1</th>\n",
       "      <td>4</td>\n",
       "      <td>5</td>\n",
       "      <td>6</td>\n",
       "      <td>7</td>\n",
       "    </tr>\n",
       "    <tr>\n",
       "      <th>2</th>\n",
       "      <td>8</td>\n",
       "      <td>9</td>\n",
       "      <td>10</td>\n",
       "      <td>11</td>\n",
       "    </tr>\n",
       "    <tr>\n",
       "      <th>3</th>\n",
       "      <td>12</td>\n",
       "      <td>13</td>\n",
       "      <td>14</td>\n",
       "      <td>15</td>\n",
       "    </tr>\n",
       "  </tbody>\n",
       "</table>\n",
       "</div>"
      ],
      "text/plain": [
       "    a   b   c   d\n",
       "0   0   1   2   3\n",
       "1   4   5   6   7\n",
       "2   8   9  10  11\n",
       "3  12  13  14  15"
      ]
     },
     "execution_count": 144,
     "metadata": {},
     "output_type": "execute_result"
    }
   ],
   "source": [
    "hdf['out8']"
   ]
  },
  {
   "cell_type": "markdown",
   "id": "3c93a38d-4ae0-4e72-bfd4-ec926b0c3431",
   "metadata": {},
   "source": [
    "3.123 to_hdf 方法和 format 参数"
   ]
  },
  {
   "cell_type": "code",
   "execution_count": 145,
   "id": "ec5075ae-ebbc-44a1-9815-fd57ffd4b9f6",
   "metadata": {},
   "outputs": [],
   "source": [
    "df = pd.DataFrame([[0.9,6,7]], columns=list('abc'))\n",
    "df.to_hdf('out9.hdf5', key='add_df', format='table')"
   ]
  },
  {
   "cell_type": "code",
   "execution_count": 146,
   "id": "a250f7cc-a505-48a7-87e8-fa21acb64ee5",
   "metadata": {},
   "outputs": [
    {
     "data": {
      "text/html": [
       "<div>\n",
       "<style scoped>\n",
       "    .dataframe tbody tr th:only-of-type {\n",
       "        vertical-align: middle;\n",
       "    }\n",
       "\n",
       "    .dataframe tbody tr th {\n",
       "        vertical-align: top;\n",
       "    }\n",
       "\n",
       "    .dataframe thead th {\n",
       "        text-align: right;\n",
       "    }\n",
       "</style>\n",
       "<table border=\"1\" class=\"dataframe\">\n",
       "  <thead>\n",
       "    <tr style=\"text-align: right;\">\n",
       "      <th></th>\n",
       "      <th>a</th>\n",
       "      <th>b</th>\n",
       "      <th>c</th>\n",
       "    </tr>\n",
       "  </thead>\n",
       "  <tbody>\n",
       "    <tr>\n",
       "      <th>0</th>\n",
       "      <td>0.9</td>\n",
       "      <td>6</td>\n",
       "      <td>7</td>\n",
       "    </tr>\n",
       "  </tbody>\n",
       "</table>\n",
       "</div>"
      ],
      "text/plain": [
       "     a  b  c\n",
       "0  0.9  6  7"
      ]
     },
     "execution_count": 146,
     "metadata": {},
     "output_type": "execute_result"
    }
   ],
   "source": [
    "pd.read_hdf('out9.hdf5', key='add_df')"
   ]
  },
  {
   "cell_type": "markdown",
   "id": "ad9b12d9-8b11-42e7-ab69-6d13bc350d9e",
   "metadata": {},
   "source": [
    "3.124 to_hdf 方法和 append 参数"
   ]
  },
  {
   "cell_type": "code",
   "execution_count": 147,
   "id": "0e3fb79e-0a12-4e4d-b41b-a834d8637382",
   "metadata": {},
   "outputs": [],
   "source": [
    "df2 = pd.DataFrame([[1.3,8,8]], columns=list('abc'))\n",
    "df2.to_hdf('out9.hdf5', key='add_df', format='table', append=True)"
   ]
  },
  {
   "cell_type": "code",
   "execution_count": 148,
   "id": "94a1b0ec-4e92-479d-9b30-aed43cb23e64",
   "metadata": {},
   "outputs": [
    {
     "data": {
      "text/html": [
       "<div>\n",
       "<style scoped>\n",
       "    .dataframe tbody tr th:only-of-type {\n",
       "        vertical-align: middle;\n",
       "    }\n",
       "\n",
       "    .dataframe tbody tr th {\n",
       "        vertical-align: top;\n",
       "    }\n",
       "\n",
       "    .dataframe thead th {\n",
       "        text-align: right;\n",
       "    }\n",
       "</style>\n",
       "<table border=\"1\" class=\"dataframe\">\n",
       "  <thead>\n",
       "    <tr style=\"text-align: right;\">\n",
       "      <th></th>\n",
       "      <th>a</th>\n",
       "      <th>b</th>\n",
       "      <th>c</th>\n",
       "    </tr>\n",
       "  </thead>\n",
       "  <tbody>\n",
       "    <tr>\n",
       "      <th>0</th>\n",
       "      <td>0.9</td>\n",
       "      <td>6</td>\n",
       "      <td>7</td>\n",
       "    </tr>\n",
       "    <tr>\n",
       "      <th>0</th>\n",
       "      <td>1.3</td>\n",
       "      <td>8</td>\n",
       "      <td>8</td>\n",
       "    </tr>\n",
       "  </tbody>\n",
       "</table>\n",
       "</div>"
      ],
      "text/plain": [
       "     a  b  c\n",
       "0  0.9  6  7\n",
       "0  1.3  8  8"
      ]
     },
     "execution_count": 148,
     "metadata": {},
     "output_type": "execute_result"
    }
   ],
   "source": [
    "pd.read_hdf('out9.hdf5', key='add_df')"
   ]
  },
  {
   "cell_type": "markdown",
   "id": "4b08ad63-4a08-4507-8019-5dcbea688795",
   "metadata": {},
   "source": [
    "3.125 to_hdf 方法和 dropna 参数"
   ]
  },
  {
   "cell_type": "code",
   "execution_count": 149,
   "id": "849ecc7c-c29a-41fd-b6b6-d104eef6ac9c",
   "metadata": {},
   "outputs": [
    {
     "data": {
      "text/html": [
       "<div>\n",
       "<style scoped>\n",
       "    .dataframe tbody tr th:only-of-type {\n",
       "        vertical-align: middle;\n",
       "    }\n",
       "\n",
       "    .dataframe tbody tr th {\n",
       "        vertical-align: top;\n",
       "    }\n",
       "\n",
       "    .dataframe thead th {\n",
       "        text-align: right;\n",
       "    }\n",
       "</style>\n",
       "<table border=\"1\" class=\"dataframe\">\n",
       "  <thead>\n",
       "    <tr style=\"text-align: right;\">\n",
       "      <th></th>\n",
       "      <th>a</th>\n",
       "      <th>b</th>\n",
       "    </tr>\n",
       "  </thead>\n",
       "  <tbody>\n",
       "    <tr>\n",
       "      <th>0</th>\n",
       "      <td>NaN</td>\n",
       "      <td>NaN</td>\n",
       "    </tr>\n",
       "    <tr>\n",
       "      <th>1</th>\n",
       "      <td>3.0</td>\n",
       "      <td>4.0</td>\n",
       "    </tr>\n",
       "  </tbody>\n",
       "</table>\n",
       "</div>"
      ],
      "text/plain": [
       "     a    b\n",
       "0  NaN  NaN\n",
       "1  3.0  4.0"
      ]
     },
     "execution_count": 149,
     "metadata": {},
     "output_type": "execute_result"
    }
   ],
   "source": [
    "df3 = pd.DataFrame([[1,2],[3,4]], columns=list('ab'))\n",
    "df3.loc[0,:] = np.nan\n",
    "df3.to_hdf('out9.hdf5', key='add_df3', format='table', dropna=True)\n",
    "df3"
   ]
  },
  {
   "cell_type": "code",
   "execution_count": 150,
   "id": "e2c86a89-8106-4636-92e9-4d4d92248f04",
   "metadata": {},
   "outputs": [
    {
     "data": {
      "text/html": [
       "<div>\n",
       "<style scoped>\n",
       "    .dataframe tbody tr th:only-of-type {\n",
       "        vertical-align: middle;\n",
       "    }\n",
       "\n",
       "    .dataframe tbody tr th {\n",
       "        vertical-align: top;\n",
       "    }\n",
       "\n",
       "    .dataframe thead th {\n",
       "        text-align: right;\n",
       "    }\n",
       "</style>\n",
       "<table border=\"1\" class=\"dataframe\">\n",
       "  <thead>\n",
       "    <tr style=\"text-align: right;\">\n",
       "      <th></th>\n",
       "      <th>a</th>\n",
       "      <th>b</th>\n",
       "    </tr>\n",
       "  </thead>\n",
       "  <tbody>\n",
       "    <tr>\n",
       "      <th>1</th>\n",
       "      <td>3.0</td>\n",
       "      <td>4.0</td>\n",
       "    </tr>\n",
       "  </tbody>\n",
       "</table>\n",
       "</div>"
      ],
      "text/plain": [
       "     a    b\n",
       "1  3.0  4.0"
      ]
     },
     "execution_count": 150,
     "metadata": {},
     "output_type": "execute_result"
    }
   ],
   "source": [
    "pd.read_hdf('out9.hdf5', key='add_df3')"
   ]
  },
  {
   "cell_type": "markdown",
   "id": "94a7cead-ee39-435e-89f9-6c0d605b804c",
   "metadata": {},
   "source": [
    "3.126 read_hdf 方法和 columns 参数"
   ]
  },
  {
   "cell_type": "code",
   "execution_count": 151,
   "id": "97b991df-bfd6-44b9-8d1f-875ac0f1328b",
   "metadata": {},
   "outputs": [
    {
     "data": {
      "text/html": [
       "<div>\n",
       "<style scoped>\n",
       "    .dataframe tbody tr th:only-of-type {\n",
       "        vertical-align: middle;\n",
       "    }\n",
       "\n",
       "    .dataframe tbody tr th {\n",
       "        vertical-align: top;\n",
       "    }\n",
       "\n",
       "    .dataframe thead th {\n",
       "        text-align: right;\n",
       "    }\n",
       "</style>\n",
       "<table border=\"1\" class=\"dataframe\">\n",
       "  <thead>\n",
       "    <tr style=\"text-align: right;\">\n",
       "      <th></th>\n",
       "      <th>a</th>\n",
       "      <th>c</th>\n",
       "    </tr>\n",
       "  </thead>\n",
       "  <tbody>\n",
       "    <tr>\n",
       "      <th>0</th>\n",
       "      <td>0.9</td>\n",
       "      <td>7</td>\n",
       "    </tr>\n",
       "    <tr>\n",
       "      <th>0</th>\n",
       "      <td>1.3</td>\n",
       "      <td>8</td>\n",
       "    </tr>\n",
       "  </tbody>\n",
       "</table>\n",
       "</div>"
      ],
      "text/plain": [
       "     a  c\n",
       "0  0.9  7\n",
       "0  1.3  8"
      ]
     },
     "execution_count": 151,
     "metadata": {},
     "output_type": "execute_result"
    }
   ],
   "source": [
    "pd.read_hdf('out9.hdf5', key='add_df', columns=['a','c'])"
   ]
  },
  {
   "cell_type": "markdown",
   "id": "b690495c-949a-4057-a6ea-f30b8608dea6",
   "metadata": {},
   "source": [
    "3.127 HDFStore 对象的 select 方法和 columns 参数"
   ]
  },
  {
   "cell_type": "code",
   "execution_count": 152,
   "id": "a1f1b050-d499-44e0-9671-4f33114ebbb1",
   "metadata": {},
   "outputs": [
    {
     "data": {
      "text/html": [
       "<div>\n",
       "<style scoped>\n",
       "    .dataframe tbody tr th:only-of-type {\n",
       "        vertical-align: middle;\n",
       "    }\n",
       "\n",
       "    .dataframe tbody tr th {\n",
       "        vertical-align: top;\n",
       "    }\n",
       "\n",
       "    .dataframe thead th {\n",
       "        text-align: right;\n",
       "    }\n",
       "</style>\n",
       "<table border=\"1\" class=\"dataframe\">\n",
       "  <thead>\n",
       "    <tr style=\"text-align: right;\">\n",
       "      <th></th>\n",
       "      <th>a</th>\n",
       "      <th>c</th>\n",
       "    </tr>\n",
       "  </thead>\n",
       "  <tbody>\n",
       "    <tr>\n",
       "      <th>0</th>\n",
       "      <td>0.9</td>\n",
       "      <td>7</td>\n",
       "    </tr>\n",
       "    <tr>\n",
       "      <th>0</th>\n",
       "      <td>1.3</td>\n",
       "      <td>8</td>\n",
       "    </tr>\n",
       "  </tbody>\n",
       "</table>\n",
       "</div>"
      ],
      "text/plain": [
       "     a  c\n",
       "0  0.9  7\n",
       "0  1.3  8"
      ]
     },
     "execution_count": 152,
     "metadata": {},
     "output_type": "execute_result"
    }
   ],
   "source": [
    "hdf = pd.HDFStore('out9.hdf5')\n",
    "hdf.select(key='add_df', columns=['a','c'])"
   ]
  }
 ],
 "metadata": {
  "kernelspec": {
   "display_name": "Python 3 (ipykernel)",
   "language": "python",
   "name": "python3"
  },
  "language_info": {
   "codemirror_mode": {
    "name": "ipython",
    "version": 3
   },
   "file_extension": ".py",
   "mimetype": "text/x-python",
   "name": "python",
   "nbconvert_exporter": "python",
   "pygments_lexer": "ipython3",
   "version": "3.11.4"
  }
 },
 "nbformat": 4,
 "nbformat_minor": 5
}
