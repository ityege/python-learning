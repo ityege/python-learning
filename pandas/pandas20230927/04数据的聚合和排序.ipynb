{
 "cells": [
  {
   "cell_type": "code",
   "execution_count": 1,
   "id": "6b27aeae-a6f3-4711-9e3c-4869a0ff0650",
   "metadata": {},
   "outputs": [],
   "source": [
    "import pandas as pd\n",
    "import numpy as np\n",
    "import matplotlib.pyplot as plt"
   ]
  },
  {
   "cell_type": "markdown",
   "id": "a9c71b1f-2b13-4622-85ec-094fb2df405e",
   "metadata": {},
   "source": [
    "## 4.1 数据的聚合"
   ]
  },
  {
   "cell_type": "markdown",
   "id": "6f3f1c72-6778-487f-a90b-47d9b43bb816",
   "metadata": {},
   "source": [
    "### 4.1.1 最小值和最大值"
   ]
  },
  {
   "cell_type": "markdown",
   "id": "66101230-8ea1-480b-b2ed-df9f810f41b6",
   "metadata": {},
   "source": [
    "4.1 Series 类的 min 方法和 max 方法"
   ]
  },
  {
   "cell_type": "code",
   "execution_count": 2,
   "id": "fea426b8-0e0d-4d45-91e3-30df82d5f6aa",
   "metadata": {},
   "outputs": [
    {
     "name": "stdout",
     "output_type": "stream",
     "text": [
      "最小值 0\n",
      "最大值 4\n"
     ]
    }
   ],
   "source": [
    "ser = pd.Series([0,1,2,3,4])\n",
    "print('最小值', ser.min())\n",
    "print('最大值', ser.max())"
   ]
  },
  {
   "cell_type": "markdown",
   "id": "431efe40-40fa-4a26-b283-819f725ee018",
   "metadata": {},
   "source": [
    "4.2 DataFrame 类的 min 方法"
   ]
  },
  {
   "cell_type": "code",
   "execution_count": 3,
   "id": "c4612c19-1ae1-47aa-9f6e-7fd361d61c29",
   "metadata": {},
   "outputs": [
    {
     "data": {
      "text/html": [
       "<div>\n",
       "<style scoped>\n",
       "    .dataframe tbody tr th:only-of-type {\n",
       "        vertical-align: middle;\n",
       "    }\n",
       "\n",
       "    .dataframe tbody tr th {\n",
       "        vertical-align: top;\n",
       "    }\n",
       "\n",
       "    .dataframe thead th {\n",
       "        text-align: right;\n",
       "    }\n",
       "</style>\n",
       "<table border=\"1\" class=\"dataframe\">\n",
       "  <thead>\n",
       "    <tr style=\"text-align: right;\">\n",
       "      <th></th>\n",
       "      <th>a</th>\n",
       "      <th>b</th>\n",
       "      <th>c</th>\n",
       "    </tr>\n",
       "  </thead>\n",
       "  <tbody>\n",
       "    <tr>\n",
       "      <th>e</th>\n",
       "      <td>0</td>\n",
       "      <td>1</td>\n",
       "      <td>2</td>\n",
       "    </tr>\n",
       "    <tr>\n",
       "      <th>d</th>\n",
       "      <td>3</td>\n",
       "      <td>4</td>\n",
       "      <td>5</td>\n",
       "    </tr>\n",
       "    <tr>\n",
       "      <th>f</th>\n",
       "      <td>6</td>\n",
       "      <td>7</td>\n",
       "      <td>8</td>\n",
       "    </tr>\n",
       "  </tbody>\n",
       "</table>\n",
       "</div>"
      ],
      "text/plain": [
       "   a  b  c\n",
       "e  0  1  2\n",
       "d  3  4  5\n",
       "f  6  7  8"
      ]
     },
     "execution_count": 3,
     "metadata": {},
     "output_type": "execute_result"
    }
   ],
   "source": [
    "val = np.arange(0,9).reshape(3,3)\n",
    "df = pd.DataFrame(val, index=list('edf'), columns=list('abc'))\n",
    "df"
   ]
  },
  {
   "cell_type": "code",
   "execution_count": 4,
   "id": "c7be64e0-1ae9-4c66-baac-7877a5ac8d16",
   "metadata": {},
   "outputs": [
    {
     "data": {
      "text/plain": [
       "a    0\n",
       "b    1\n",
       "c    2\n",
       "dtype: int32"
      ]
     },
     "execution_count": 4,
     "metadata": {},
     "output_type": "execute_result"
    }
   ],
   "source": [
    "df.min(axis=0)"
   ]
  },
  {
   "cell_type": "code",
   "execution_count": 5,
   "id": "0961bdbb-fb6a-4687-8d36-62a08db6eb39",
   "metadata": {},
   "outputs": [
    {
     "data": {
      "text/plain": [
       "e    0\n",
       "d    3\n",
       "f    6\n",
       "dtype: int32"
      ]
     },
     "execution_count": 5,
     "metadata": {},
     "output_type": "execute_result"
    }
   ],
   "source": [
    "df.min(axis=1)"
   ]
  },
  {
   "cell_type": "markdown",
   "id": "077f414c-c677-4526-95ff-b2cea1906aec",
   "metadata": {},
   "source": [
    "4.3 DataFrame 类的 max 方法"
   ]
  },
  {
   "cell_type": "code",
   "execution_count": 6,
   "id": "88093a0d-d11f-480b-91a3-eb72ac39c670",
   "metadata": {},
   "outputs": [
    {
     "data": {
      "text/plain": [
       "a    6\n",
       "b    7\n",
       "c    8\n",
       "dtype: int32"
      ]
     },
     "execution_count": 6,
     "metadata": {},
     "output_type": "execute_result"
    }
   ],
   "source": [
    "df.max(axis=0)"
   ]
  },
  {
   "cell_type": "code",
   "execution_count": 7,
   "id": "cea3bb58-bef4-4c37-be82-930b30ea9f16",
   "metadata": {},
   "outputs": [
    {
     "data": {
      "text/plain": [
       "e    2\n",
       "d    5\n",
       "f    8\n",
       "dtype: int32"
      ]
     },
     "execution_count": 7,
     "metadata": {},
     "output_type": "execute_result"
    }
   ],
   "source": [
    "df.max(axis=1)"
   ]
  },
  {
   "cell_type": "markdown",
   "id": "e79de9e1-5398-41ec-867c-474a53cf23c1",
   "metadata": {},
   "source": [
    "### 4.1.2 平均值、中位数和众数"
   ]
  },
  {
   "cell_type": "markdown",
   "id": "ecd42f42-dadb-4953-a03e-cccf8ec06be4",
   "metadata": {},
   "source": [
    "4.4 DataFrame 类的 mean 方法"
   ]
  },
  {
   "cell_type": "code",
   "execution_count": 9,
   "id": "2514b23e-91b1-446f-ae15-a925bdd6e84e",
   "metadata": {},
   "outputs": [
    {
     "data": {
      "text/plain": [
       "a    3.0\n",
       "b    4.0\n",
       "c    5.0\n",
       "dtype: float64"
      ]
     },
     "execution_count": 9,
     "metadata": {},
     "output_type": "execute_result"
    }
   ],
   "source": [
    "df.mean(axis=0)"
   ]
  },
  {
   "cell_type": "code",
   "execution_count": 10,
   "id": "6a7c36aa-e890-4520-85ff-26cd634bbba2",
   "metadata": {},
   "outputs": [
    {
     "data": {
      "text/plain": [
       "e    1.0\n",
       "d    4.0\n",
       "f    7.0\n",
       "dtype: float64"
      ]
     },
     "execution_count": 10,
     "metadata": {},
     "output_type": "execute_result"
    }
   ],
   "source": [
    "df.mean(axis=1)"
   ]
  },
  {
   "cell_type": "markdown",
   "id": "d131c74d-00e0-4be7-8029-a198c1c4e64f",
   "metadata": {},
   "source": [
    "4.5 DataFrame 类的 median 方法"
   ]
  },
  {
   "cell_type": "code",
   "execution_count": 11,
   "id": "78154535-03c6-4d76-a6f7-db276554e59b",
   "metadata": {},
   "outputs": [
    {
     "data": {
      "text/html": [
       "<div>\n",
       "<style scoped>\n",
       "    .dataframe tbody tr th:only-of-type {\n",
       "        vertical-align: middle;\n",
       "    }\n",
       "\n",
       "    .dataframe tbody tr th {\n",
       "        vertical-align: top;\n",
       "    }\n",
       "\n",
       "    .dataframe thead th {\n",
       "        text-align: right;\n",
       "    }\n",
       "</style>\n",
       "<table border=\"1\" class=\"dataframe\">\n",
       "  <thead>\n",
       "    <tr style=\"text-align: right;\">\n",
       "      <th></th>\n",
       "      <th>0</th>\n",
       "      <th>1</th>\n",
       "      <th>2</th>\n",
       "      <th>3</th>\n",
       "      <th>4</th>\n",
       "      <th>5</th>\n",
       "      <th>6</th>\n",
       "    </tr>\n",
       "  </thead>\n",
       "  <tbody>\n",
       "    <tr>\n",
       "      <th>0</th>\n",
       "      <td>1</td>\n",
       "      <td>3</td>\n",
       "      <td>100</td>\n",
       "      <td>102</td>\n",
       "      <td>106</td>\n",
       "      <td>115</td>\n",
       "      <td>110</td>\n",
       "    </tr>\n",
       "  </tbody>\n",
       "</table>\n",
       "</div>"
      ],
      "text/plain": [
       "   0  1    2    3    4    5    6\n",
       "0  1  3  100  102  106  115  110"
      ]
     },
     "execution_count": 11,
     "metadata": {},
     "output_type": "execute_result"
    }
   ],
   "source": [
    "df = pd.DataFrame([[1,3,100,102,106,115,110]])\n",
    "df"
   ]
  },
  {
   "cell_type": "code",
   "execution_count": 12,
   "id": "07b15ae3-089d-4fa2-b58b-2de840f62abe",
   "metadata": {},
   "outputs": [
    {
     "data": {
      "text/plain": [
       "0    102.0\n",
       "dtype: float64"
      ]
     },
     "execution_count": 12,
     "metadata": {},
     "output_type": "execute_result"
    }
   ],
   "source": [
    "df.median(axis=1)"
   ]
  },
  {
   "cell_type": "markdown",
   "id": "7a2d5fb0-47ea-4314-abe3-f94370d5404b",
   "metadata": {},
   "source": [
    "4.6 向 DataFrame 对象添加元素"
   ]
  },
  {
   "cell_type": "code",
   "execution_count": 13,
   "id": "26ae7408-50e0-422b-9331-ab024739787d",
   "metadata": {},
   "outputs": [
    {
     "data": {
      "text/html": [
       "<div>\n",
       "<style scoped>\n",
       "    .dataframe tbody tr th:only-of-type {\n",
       "        vertical-align: middle;\n",
       "    }\n",
       "\n",
       "    .dataframe tbody tr th {\n",
       "        vertical-align: top;\n",
       "    }\n",
       "\n",
       "    .dataframe thead th {\n",
       "        text-align: right;\n",
       "    }\n",
       "</style>\n",
       "<table border=\"1\" class=\"dataframe\">\n",
       "  <thead>\n",
       "    <tr style=\"text-align: right;\">\n",
       "      <th></th>\n",
       "      <th>0</th>\n",
       "      <th>1</th>\n",
       "      <th>2</th>\n",
       "      <th>3</th>\n",
       "      <th>4</th>\n",
       "      <th>5</th>\n",
       "      <th>6</th>\n",
       "      <th>7</th>\n",
       "    </tr>\n",
       "  </thead>\n",
       "  <tbody>\n",
       "    <tr>\n",
       "      <th>0</th>\n",
       "      <td>1</td>\n",
       "      <td>3</td>\n",
       "      <td>100</td>\n",
       "      <td>102</td>\n",
       "      <td>106</td>\n",
       "      <td>115</td>\n",
       "      <td>110</td>\n",
       "      <td>120</td>\n",
       "    </tr>\n",
       "  </tbody>\n",
       "</table>\n",
       "</div>"
      ],
      "text/plain": [
       "   0  1    2    3    4    5    6    7\n",
       "0  1  3  100  102  106  115  110  120"
      ]
     },
     "execution_count": 13,
     "metadata": {},
     "output_type": "execute_result"
    }
   ],
   "source": [
    "df[7] = 120\n",
    "df"
   ]
  },
  {
   "cell_type": "markdown",
   "id": "03d180bf-303a-43e6-a422-a73cc2256a8f",
   "metadata": {},
   "source": [
    "4.7 DataFrame 类的 median 方法"
   ]
  },
  {
   "cell_type": "code",
   "execution_count": 14,
   "id": "a1128bdc-8da4-4dde-ade8-c31cece2477c",
   "metadata": {},
   "outputs": [
    {
     "data": {
      "text/plain": [
       "0    104.0\n",
       "dtype: float64"
      ]
     },
     "execution_count": 14,
     "metadata": {},
     "output_type": "execute_result"
    }
   ],
   "source": [
    "df.median(axis=1)"
   ]
  },
  {
   "cell_type": "markdown",
   "id": "216f41bb-525f-463d-bc6b-3ccefde7ab38",
   "metadata": {},
   "source": [
    "4.8 DataFrame 类的 mean 方法"
   ]
  },
  {
   "cell_type": "code",
   "execution_count": 15,
   "id": "eb362233-c3c3-49c1-b8c4-f7e53056ed96",
   "metadata": {},
   "outputs": [
    {
     "data": {
      "text/plain": [
       "0    82.125\n",
       "dtype: float64"
      ]
     },
     "execution_count": 15,
     "metadata": {},
     "output_type": "execute_result"
    }
   ],
   "source": [
    "df.mean(axis=1)"
   ]
  },
  {
   "cell_type": "markdown",
   "id": "5706dbdb-f42d-463b-a84b-1b1c1a328480",
   "metadata": {},
   "source": [
    "4.9 DataFrame 类的 mode 方法"
   ]
  },
  {
   "cell_type": "code",
   "execution_count": 16,
   "id": "c88344e7-72b7-4b5e-9818-ec49186b883c",
   "metadata": {},
   "outputs": [
    {
     "data": {
      "text/html": [
       "<div>\n",
       "<style scoped>\n",
       "    .dataframe tbody tr th:only-of-type {\n",
       "        vertical-align: middle;\n",
       "    }\n",
       "\n",
       "    .dataframe tbody tr th {\n",
       "        vertical-align: top;\n",
       "    }\n",
       "\n",
       "    .dataframe thead th {\n",
       "        text-align: right;\n",
       "    }\n",
       "</style>\n",
       "<table border=\"1\" class=\"dataframe\">\n",
       "  <thead>\n",
       "    <tr style=\"text-align: right;\">\n",
       "      <th></th>\n",
       "      <th>0</th>\n",
       "      <th>1</th>\n",
       "      <th>2</th>\n",
       "      <th>3</th>\n",
       "      <th>4</th>\n",
       "    </tr>\n",
       "  </thead>\n",
       "  <tbody>\n",
       "    <tr>\n",
       "      <th>0</th>\n",
       "      <td>1</td>\n",
       "      <td>1</td>\n",
       "      <td>2</td>\n",
       "      <td>3</td>\n",
       "      <td>4</td>\n",
       "    </tr>\n",
       "  </tbody>\n",
       "</table>\n",
       "</div>"
      ],
      "text/plain": [
       "   0  1  2  3  4\n",
       "0  1  1  2  3  4"
      ]
     },
     "execution_count": 16,
     "metadata": {},
     "output_type": "execute_result"
    }
   ],
   "source": [
    "df = pd.DataFrame([[1,1,2,3,4]])\n",
    "df"
   ]
  },
  {
   "cell_type": "code",
   "execution_count": 17,
   "id": "15ea6df9-7f61-454d-a27f-c1dae9ba8537",
   "metadata": {},
   "outputs": [
    {
     "data": {
      "text/html": [
       "<div>\n",
       "<style scoped>\n",
       "    .dataframe tbody tr th:only-of-type {\n",
       "        vertical-align: middle;\n",
       "    }\n",
       "\n",
       "    .dataframe tbody tr th {\n",
       "        vertical-align: top;\n",
       "    }\n",
       "\n",
       "    .dataframe thead th {\n",
       "        text-align: right;\n",
       "    }\n",
       "</style>\n",
       "<table border=\"1\" class=\"dataframe\">\n",
       "  <thead>\n",
       "    <tr style=\"text-align: right;\">\n",
       "      <th></th>\n",
       "      <th>0</th>\n",
       "    </tr>\n",
       "  </thead>\n",
       "  <tbody>\n",
       "    <tr>\n",
       "      <th>0</th>\n",
       "      <td>1</td>\n",
       "    </tr>\n",
       "  </tbody>\n",
       "</table>\n",
       "</div>"
      ],
      "text/plain": [
       "   0\n",
       "0  1"
      ]
     },
     "execution_count": 17,
     "metadata": {},
     "output_type": "execute_result"
    }
   ],
   "source": [
    "df.mode(axis=1)"
   ]
  },
  {
   "cell_type": "markdown",
   "id": "e86cdb6b-0adc-4aa0-b4f2-4f5ce90c998b",
   "metadata": {},
   "source": [
    "4.10 DataFrame 类的 mode 方法"
   ]
  },
  {
   "cell_type": "code",
   "execution_count": 18,
   "id": "b0f9cec5-6d40-4447-aa52-6dfbd8cc55b8",
   "metadata": {},
   "outputs": [
    {
     "data": {
      "text/html": [
       "<div>\n",
       "<style scoped>\n",
       "    .dataframe tbody tr th:only-of-type {\n",
       "        vertical-align: middle;\n",
       "    }\n",
       "\n",
       "    .dataframe tbody tr th {\n",
       "        vertical-align: top;\n",
       "    }\n",
       "\n",
       "    .dataframe thead th {\n",
       "        text-align: right;\n",
       "    }\n",
       "</style>\n",
       "<table border=\"1\" class=\"dataframe\">\n",
       "  <thead>\n",
       "    <tr style=\"text-align: right;\">\n",
       "      <th></th>\n",
       "      <th>0</th>\n",
       "      <th>1</th>\n",
       "      <th>2</th>\n",
       "      <th>3</th>\n",
       "    </tr>\n",
       "  </thead>\n",
       "  <tbody>\n",
       "    <tr>\n",
       "      <th>0</th>\n",
       "      <td>5</td>\n",
       "      <td>6</td>\n",
       "      <td>7</td>\n",
       "      <td>8</td>\n",
       "    </tr>\n",
       "  </tbody>\n",
       "</table>\n",
       "</div>"
      ],
      "text/plain": [
       "   0  1  2  3\n",
       "0  5  6  7  8"
      ]
     },
     "execution_count": 18,
     "metadata": {},
     "output_type": "execute_result"
    }
   ],
   "source": [
    "df = pd.DataFrame([[5,6,7,8]])\n",
    "df.mode(axis=1)"
   ]
  },
  {
   "cell_type": "markdown",
   "id": "917f8214-9fee-4eb9-9e7d-1d28eac9eb49",
   "metadata": {},
   "source": [
    "### 4.1.3 标准差"
   ]
  },
  {
   "cell_type": "markdown",
   "id": "009f717d-81c1-40a7-9cd9-1be25428fdcf",
   "metadata": {},
   "source": [
    "4.11 DataFrame 类的 mean 方法"
   ]
  },
  {
   "cell_type": "code",
   "execution_count": 19,
   "id": "e2e232f3-73d8-4341-8c13-a7dab860f14e",
   "metadata": {},
   "outputs": [
    {
     "data": {
      "text/plain": [
       "0    167.0\n",
       "dtype: float64"
      ]
     },
     "execution_count": 19,
     "metadata": {},
     "output_type": "execute_result"
    }
   ],
   "source": [
    "table_a = pd.DataFrame([[152,151,150,147,181,190,187,149,196]])\n",
    "table_a.mean(axis=1)"
   ]
  },
  {
   "cell_type": "code",
   "execution_count": 20,
   "id": "54f09f2a-7d61-4f19-a2e2-f54f4ab605fe",
   "metadata": {},
   "outputs": [
    {
     "data": {
      "text/plain": [
       "0    167.0\n",
       "dtype: float64"
      ]
     },
     "execution_count": 20,
     "metadata": {},
     "output_type": "execute_result"
    }
   ],
   "source": [
    "table_b = pd.DataFrame([[162,161,165,147,161,175,187,175,170]])\n",
    "table_b.mean(axis=1)"
   ]
  },
  {
   "cell_type": "markdown",
   "id": "cc21caf9-6c91-4b6e-9ec4-00c32b7ed772",
   "metadata": {},
   "source": [
    "4.12 将表 4.1 的平均值、每个值、数据的个数保存到相应变量中"
   ]
  },
  {
   "cell_type": "code",
   "execution_count": 21,
   "id": "f08785a5-c23c-4ba7-971d-c501c25ba2f6",
   "metadata": {},
   "outputs": [
    {
     "data": {
      "text/plain": [
       "167.0"
      ]
     },
     "execution_count": 21,
     "metadata": {},
     "output_type": "execute_result"
    }
   ],
   "source": [
    "mean = table_a.mean(axis=1).values[0]\n",
    "mean"
   ]
  },
  {
   "cell_type": "code",
   "execution_count": 22,
   "id": "c9293edb-8807-4c5f-b142-811a3370c043",
   "metadata": {},
   "outputs": [
    {
     "data": {
      "text/plain": [
       "array([152, 151, 150, 147, 181, 190, 187, 149, 196], dtype=int64)"
      ]
     },
     "execution_count": 22,
     "metadata": {},
     "output_type": "execute_result"
    }
   ],
   "source": [
    "data = table_a.values[0]\n",
    "data"
   ]
  },
  {
   "cell_type": "code",
   "execution_count": 23,
   "id": "38f89014-a616-49b9-a18c-aa8b21d1260c",
   "metadata": {},
   "outputs": [
    {
     "data": {
      "text/plain": [
       "9"
      ]
     },
     "execution_count": 23,
     "metadata": {},
     "output_type": "execute_result"
    }
   ],
   "source": [
    "n = table_a.shape[1]\n",
    "n"
   ]
  },
  {
   "cell_type": "markdown",
   "id": "5a2d091e-6ba6-4c14-a243-db67686affa7",
   "metadata": {},
   "source": [
    "4.13 求取标准差的函数"
   ]
  },
  {
   "cell_type": "code",
   "execution_count": 24,
   "id": "9c1c0223-343e-4943-9fb7-7e4d0e213e07",
   "metadata": {},
   "outputs": [],
   "source": [
    "def standard_deviation(data, mean, n):\n",
    "    std = 0\n",
    "    for num in data:\n",
    "        std += (num - mean) ** 2\n",
    "        if num == data[n-1]:\n",
    "            std = (1/n) * std\n",
    "            std = np.sqrt(std)\n",
    "            print(std)"
   ]
  },
  {
   "cell_type": "markdown",
   "id": "ed8eaa17-c895-4efd-a347-9a629cbadd92",
   "metadata": {},
   "source": [
    "4.14 使用 standard_deviation 函数计算表 4.1 的标准差"
   ]
  },
  {
   "cell_type": "code",
   "execution_count": 25,
   "id": "15a5ca5b-02eb-4e36-bcc6-4f1d13124a7e",
   "metadata": {},
   "outputs": [
    {
     "name": "stdout",
     "output_type": "stream",
     "text": [
      "19.60725489313699\n"
     ]
    }
   ],
   "source": [
    "standard_deviation(data,mean,n)"
   ]
  },
  {
   "cell_type": "markdown",
   "id": "7d122fc2-1168-4a38-925e-776a7a53c949",
   "metadata": {},
   "source": [
    "4.15 使用 standard_deviation 函数计算表 4.2 的标准差"
   ]
  },
  {
   "cell_type": "code",
   "execution_count": 26,
   "id": "1e3a0dc9-b689-49df-8cee-41b02c9adbf9",
   "metadata": {},
   "outputs": [
    {
     "name": "stdout",
     "output_type": "stream",
     "text": [
      "10.739335795724674\n"
     ]
    }
   ],
   "source": [
    "data = table_b.values[0]\n",
    "mean = table_b.mean(axis=1)[0]\n",
    "n = table_b.shape[1]\n",
    "\n",
    "standard_deviation(data, mean, n)"
   ]
  },
  {
   "cell_type": "markdown",
   "id": "de24b407-7253-4957-9660-3d77a909ecd0",
   "metadata": {},
   "source": [
    "4.16 DataFrame 类的 std 方法"
   ]
  },
  {
   "cell_type": "code",
   "execution_count": 27,
   "id": "3f6f0c67-15f3-4d5a-86b1-15d02b967647",
   "metadata": {},
   "outputs": [
    {
     "name": "stdout",
     "output_type": "stream",
     "text": [
      "table_a :  19.60725489313699\n",
      "table_b :  10.739335795724674\n"
     ]
    }
   ],
   "source": [
    "print('table_a : ', table_a.std(axis=1, ddof=0)[0])\n",
    "print('table_b : ', table_b.std(axis=1, ddof=0)[0])"
   ]
  },
  {
   "cell_type": "markdown",
   "id": "656ee63a-9843-41bb-9203-bc9f8737eb5a",
   "metadata": {},
   "source": [
    "4.17 std 方法和 ddof 参数"
   ]
  },
  {
   "cell_type": "code",
   "execution_count": 28,
   "id": "95622ed5-582f-40c3-a8b0-956666e6b2c5",
   "metadata": {},
   "outputs": [
    {
     "name": "stdout",
     "output_type": "stream",
     "text": [
      "table_a :  20.796634343085422\n",
      "table_b :  11.390785749894517\n"
     ]
    }
   ],
   "source": [
    "print('table_a : ', table_a.std(axis=1, ddof=1)[0])\n",
    "print('table_b : ', table_b.std(axis=1, ddof=1)[0])"
   ]
  },
  {
   "cell_type": "markdown",
   "id": "9c4548c8-9dc3-4b92-845d-414e3b81ac85",
   "metadata": {},
   "source": [
    "### 4.1.4 分位数"
   ]
  },
  {
   "cell_type": "markdown",
   "id": "1829d765-40e6-4407-bfe7-a986809984a9",
   "metadata": {},
   "source": [
    "4.18 DataFrame 类的 quantile 方法"
   ]
  },
  {
   "cell_type": "code",
   "execution_count": 29,
   "id": "584d07ae-73e9-4669-a415-0c51ed112d84",
   "metadata": {},
   "outputs": [
    {
     "name": "stdout",
     "output_type": "stream",
     "text": [
      "0    5.5\n",
      "Name: 0.5, dtype: float64\n",
      "0    5.5\n",
      "dtype: float64\n"
     ]
    }
   ],
   "source": [
    "df = pd.DataFrame([[1,2,3,4,5,6,7,8,9,10]])\n",
    "print(df.quantile(q=0.5, axis=1))\n",
    "print(df.median(axis=1))"
   ]
  },
  {
   "cell_type": "markdown",
   "id": "96375e80-b35b-4f13-b7ab-4d5915854a18",
   "metadata": {},
   "source": [
    "4.19 quantile 方法和 q 参数"
   ]
  },
  {
   "cell_type": "code",
   "execution_count": 30,
   "id": "dd62d276-c292-4416-97a8-1cd184a6abd4",
   "metadata": {},
   "outputs": [
    {
     "data": {
      "text/html": [
       "<div>\n",
       "<style scoped>\n",
       "    .dataframe tbody tr th:only-of-type {\n",
       "        vertical-align: middle;\n",
       "    }\n",
       "\n",
       "    .dataframe tbody tr th {\n",
       "        vertical-align: top;\n",
       "    }\n",
       "\n",
       "    .dataframe thead th {\n",
       "        text-align: right;\n",
       "    }\n",
       "</style>\n",
       "<table border=\"1\" class=\"dataframe\">\n",
       "  <thead>\n",
       "    <tr style=\"text-align: right;\">\n",
       "      <th></th>\n",
       "      <th>0</th>\n",
       "    </tr>\n",
       "  </thead>\n",
       "  <tbody>\n",
       "    <tr>\n",
       "      <th>0.25</th>\n",
       "      <td>3.25</td>\n",
       "    </tr>\n",
       "    <tr>\n",
       "      <th>0.50</th>\n",
       "      <td>5.50</td>\n",
       "    </tr>\n",
       "    <tr>\n",
       "      <th>0.75</th>\n",
       "      <td>7.75</td>\n",
       "    </tr>\n",
       "  </tbody>\n",
       "</table>\n",
       "</div>"
      ],
      "text/plain": [
       "         0\n",
       "0.25  3.25\n",
       "0.50  5.50\n",
       "0.75  7.75"
      ]
     },
     "execution_count": 30,
     "metadata": {},
     "output_type": "execute_result"
    }
   ],
   "source": [
    "df.quantile(q=[0.25,0.5,0.75], axis=1)"
   ]
  },
  {
   "cell_type": "markdown",
   "id": "fff71dea-7e86-460a-b110-6eff545b7130",
   "metadata": {},
   "source": [
    "4.20 quantile 方法的 interpolation 参数（linear）"
   ]
  },
  {
   "cell_type": "code",
   "execution_count": 31,
   "id": "46e79768-8435-49ed-995c-29c88530bdd9",
   "metadata": {},
   "outputs": [
    {
     "data": {
      "text/plain": [
       "0    3.25\n",
       "Name: 0.25, dtype: float64"
      ]
     },
     "execution_count": 31,
     "metadata": {},
     "output_type": "execute_result"
    }
   ],
   "source": [
    "df.quantile(q=0.25, axis=1, interpolation='linear')"
   ]
  },
  {
   "cell_type": "markdown",
   "id": "77999b85-e757-44dd-aa74-b40cf954d43a",
   "metadata": {},
   "source": [
    "4.21 手动计算分位数"
   ]
  },
  {
   "cell_type": "code",
   "execution_count": 32,
   "id": "8210fd76-e39d-4db4-8594-92e076d2bc69",
   "metadata": {},
   "outputs": [
    {
     "name": "stdout",
     "output_type": "stream",
     "text": [
      "10\n"
     ]
    }
   ],
   "source": [
    "n = df.shape[1]\n",
    "print(n)"
   ]
  },
  {
   "cell_type": "code",
   "execution_count": 33,
   "id": "4eab3b65-c734-45dc-8d25-f26dd09f3134",
   "metadata": {},
   "outputs": [
    {
     "name": "stdout",
     "output_type": "stream",
     "text": [
      "frac =  0.25\n",
      "num =  2.0\n"
     ]
    }
   ],
   "source": [
    "import math\n",
    "frac, num = math.modf((n-1)*0.25)\n",
    "print('frac = ',frac)\n",
    "print('num = ',num)"
   ]
  },
  {
   "cell_type": "markdown",
   "id": "59e0476c-6ba3-4a6f-8a2d-4ea1a6ceb08b",
   "metadata": {},
   "source": [
    "4.22 手动计算分位数"
   ]
  },
  {
   "cell_type": "code",
   "execution_count": 34,
   "id": "c35c43be-2ac2-4648-8909-a004d0d09d76",
   "metadata": {},
   "outputs": [
    {
     "name": "stdout",
     "output_type": "stream",
     "text": [
      "3.25\n"
     ]
    }
   ],
   "source": [
    "i, j = 3, 4\n",
    "print(i + (j-i)*frac)"
   ]
  },
  {
   "cell_type": "markdown",
   "id": "22fd06fc-8a4c-4735-95d4-abc8e150a23c",
   "metadata": {},
   "source": [
    "4.23 interpolation 参数的 lower 和 higher"
   ]
  },
  {
   "cell_type": "code",
   "execution_count": 35,
   "id": "73fd316f-6eb9-485d-9c42-cee34a240dc0",
   "metadata": {},
   "outputs": [
    {
     "data": {
      "text/plain": [
       "0    3\n",
       "Name: 0.25, dtype: int64"
      ]
     },
     "execution_count": 35,
     "metadata": {},
     "output_type": "execute_result"
    }
   ],
   "source": [
    "df.quantile(q=0.25, axis=1, interpolation='lower')"
   ]
  },
  {
   "cell_type": "code",
   "execution_count": 36,
   "id": "506387bd-8bff-45cc-9d05-1686bc735aa4",
   "metadata": {},
   "outputs": [
    {
     "data": {
      "text/plain": [
       "0    4\n",
       "Name: 0.25, dtype: int64"
      ]
     },
     "execution_count": 36,
     "metadata": {},
     "output_type": "execute_result"
    }
   ],
   "source": [
    "df.quantile(q=0.25, axis=1, interpolation='higher')"
   ]
  },
  {
   "cell_type": "markdown",
   "id": "d93c68ab-93b6-467d-9653-5eca98a98ad8",
   "metadata": {},
   "source": [
    "4.24 interpolation 参数的 nearest"
   ]
  },
  {
   "cell_type": "code",
   "execution_count": 37,
   "id": "bc3b91d2-f1c8-4b58-a7c3-dd57b883ac54",
   "metadata": {},
   "outputs": [
    {
     "data": {
      "text/plain": [
       "0    3\n",
       "Name: 0.25, dtype: int64"
      ]
     },
     "execution_count": 37,
     "metadata": {},
     "output_type": "execute_result"
    }
   ],
   "source": [
    "df.quantile(q=0.25, axis=1, interpolation='nearest')"
   ]
  },
  {
   "cell_type": "markdown",
   "id": "8d358f9a-091b-4991-ab1d-a3e205cc29d3",
   "metadata": {},
   "source": [
    "4.25 interpolation 参数的 midpoint"
   ]
  },
  {
   "cell_type": "code",
   "execution_count": 38,
   "id": "99a731aa-1bf5-488c-a81e-b23eda218b94",
   "metadata": {},
   "outputs": [
    {
     "data": {
      "text/plain": [
       "0    3.5\n",
       "Name: 0.25, dtype: float64"
      ]
     },
     "execution_count": 38,
     "metadata": {},
     "output_type": "execute_result"
    }
   ],
   "source": [
    "df.quantile(q=0.25, axis=1, interpolation='midpoint')"
   ]
  },
  {
   "cell_type": "markdown",
   "id": "9b555077-5a5f-46c1-9423-90b6a76cf77c",
   "metadata": {},
   "source": [
    "### 4.1.5 累积和和累计积"
   ]
  },
  {
   "cell_type": "markdown",
   "id": "2ec09ee6-e866-41cd-9a4a-ee85961fd3bb",
   "metadata": {},
   "source": [
    "4.26 DataFrame 对象的创建"
   ]
  },
  {
   "cell_type": "code",
   "execution_count": 39,
   "id": "7dcf07fd-bf18-4b3a-9ef6-744ea1eab141",
   "metadata": {},
   "outputs": [
    {
     "data": {
      "text/html": [
       "<div>\n",
       "<style scoped>\n",
       "    .dataframe tbody tr th:only-of-type {\n",
       "        vertical-align: middle;\n",
       "    }\n",
       "\n",
       "    .dataframe tbody tr th {\n",
       "        vertical-align: top;\n",
       "    }\n",
       "\n",
       "    .dataframe thead th {\n",
       "        text-align: right;\n",
       "    }\n",
       "</style>\n",
       "<table border=\"1\" class=\"dataframe\">\n",
       "  <thead>\n",
       "    <tr style=\"text-align: right;\">\n",
       "      <th></th>\n",
       "      <th>a</th>\n",
       "      <th>b</th>\n",
       "      <th>c</th>\n",
       "    </tr>\n",
       "  </thead>\n",
       "  <tbody>\n",
       "    <tr>\n",
       "      <th>d</th>\n",
       "      <td>0</td>\n",
       "      <td>1</td>\n",
       "      <td>2</td>\n",
       "    </tr>\n",
       "    <tr>\n",
       "      <th>e</th>\n",
       "      <td>3</td>\n",
       "      <td>4</td>\n",
       "      <td>5</td>\n",
       "    </tr>\n",
       "    <tr>\n",
       "      <th>f</th>\n",
       "      <td>6</td>\n",
       "      <td>7</td>\n",
       "      <td>8</td>\n",
       "    </tr>\n",
       "  </tbody>\n",
       "</table>\n",
       "</div>"
      ],
      "text/plain": [
       "   a  b  c\n",
       "d  0  1  2\n",
       "e  3  4  5\n",
       "f  6  7  8"
      ]
     },
     "execution_count": 39,
     "metadata": {},
     "output_type": "execute_result"
    }
   ],
   "source": [
    "val = np.arange(0,9).reshape(3, 3)\n",
    "df = pd.DataFrame(val, index=list('def'), columns=list('abc'))\n",
    "df"
   ]
  },
  {
   "cell_type": "markdown",
   "id": "fff084df-51ab-43c3-bb7e-07fba669b509",
   "metadata": {},
   "source": [
    "4.27 DataFrame 类的 cumsum 方法"
   ]
  },
  {
   "cell_type": "code",
   "execution_count": 40,
   "id": "fc01bb46-51ac-4461-9fdc-755eab8dee66",
   "metadata": {},
   "outputs": [
    {
     "data": {
      "text/html": [
       "<div>\n",
       "<style scoped>\n",
       "    .dataframe tbody tr th:only-of-type {\n",
       "        vertical-align: middle;\n",
       "    }\n",
       "\n",
       "    .dataframe tbody tr th {\n",
       "        vertical-align: top;\n",
       "    }\n",
       "\n",
       "    .dataframe thead th {\n",
       "        text-align: right;\n",
       "    }\n",
       "</style>\n",
       "<table border=\"1\" class=\"dataframe\">\n",
       "  <thead>\n",
       "    <tr style=\"text-align: right;\">\n",
       "      <th></th>\n",
       "      <th>a</th>\n",
       "      <th>b</th>\n",
       "      <th>c</th>\n",
       "    </tr>\n",
       "  </thead>\n",
       "  <tbody>\n",
       "    <tr>\n",
       "      <th>d</th>\n",
       "      <td>0</td>\n",
       "      <td>1</td>\n",
       "      <td>2</td>\n",
       "    </tr>\n",
       "    <tr>\n",
       "      <th>e</th>\n",
       "      <td>3</td>\n",
       "      <td>5</td>\n",
       "      <td>7</td>\n",
       "    </tr>\n",
       "    <tr>\n",
       "      <th>f</th>\n",
       "      <td>9</td>\n",
       "      <td>12</td>\n",
       "      <td>15</td>\n",
       "    </tr>\n",
       "  </tbody>\n",
       "</table>\n",
       "</div>"
      ],
      "text/plain": [
       "   a   b   c\n",
       "d  0   1   2\n",
       "e  3   5   7\n",
       "f  9  12  15"
      ]
     },
     "execution_count": 40,
     "metadata": {},
     "output_type": "execute_result"
    }
   ],
   "source": [
    "df.cumsum(axis=0)"
   ]
  },
  {
   "cell_type": "markdown",
   "id": "3cf2d48e-919a-4ac7-a6da-c181bb5c4eac",
   "metadata": {},
   "source": [
    "4.28 DataFrame 类的 cumsum 方法（axis=1）"
   ]
  },
  {
   "cell_type": "code",
   "execution_count": 41,
   "id": "706aa0d5-a7fc-4296-947a-81dcff1413a1",
   "metadata": {},
   "outputs": [
    {
     "data": {
      "text/html": [
       "<div>\n",
       "<style scoped>\n",
       "    .dataframe tbody tr th:only-of-type {\n",
       "        vertical-align: middle;\n",
       "    }\n",
       "\n",
       "    .dataframe tbody tr th {\n",
       "        vertical-align: top;\n",
       "    }\n",
       "\n",
       "    .dataframe thead th {\n",
       "        text-align: right;\n",
       "    }\n",
       "</style>\n",
       "<table border=\"1\" class=\"dataframe\">\n",
       "  <thead>\n",
       "    <tr style=\"text-align: right;\">\n",
       "      <th></th>\n",
       "      <th>a</th>\n",
       "      <th>b</th>\n",
       "      <th>c</th>\n",
       "    </tr>\n",
       "  </thead>\n",
       "  <tbody>\n",
       "    <tr>\n",
       "      <th>d</th>\n",
       "      <td>0</td>\n",
       "      <td>1</td>\n",
       "      <td>3</td>\n",
       "    </tr>\n",
       "    <tr>\n",
       "      <th>e</th>\n",
       "      <td>3</td>\n",
       "      <td>7</td>\n",
       "      <td>12</td>\n",
       "    </tr>\n",
       "    <tr>\n",
       "      <th>f</th>\n",
       "      <td>6</td>\n",
       "      <td>13</td>\n",
       "      <td>21</td>\n",
       "    </tr>\n",
       "  </tbody>\n",
       "</table>\n",
       "</div>"
      ],
      "text/plain": [
       "   a   b   c\n",
       "d  0   1   3\n",
       "e  3   7  12\n",
       "f  6  13  21"
      ]
     },
     "execution_count": 41,
     "metadata": {},
     "output_type": "execute_result"
    }
   ],
   "source": [
    "df.cumsum(axis=1)"
   ]
  },
  {
   "cell_type": "markdown",
   "id": "dcb3339f-82a3-43a4-8c66-73abf7f0e0fc",
   "metadata": {},
   "source": [
    "4.29 cumsum 方法的 skipna 参数"
   ]
  },
  {
   "cell_type": "code",
   "execution_count": 42,
   "id": "0d9eb12b-991d-490d-a861-75ba70f70d27",
   "metadata": {},
   "outputs": [],
   "source": [
    "df.loc['e','a'] = np.nan\n",
    "df.loc['f','b'] = np.nan"
   ]
  },
  {
   "cell_type": "code",
   "execution_count": 43,
   "id": "c8f454a8-594e-4ba7-86db-6ae256d8203c",
   "metadata": {},
   "outputs": [
    {
     "data": {
      "text/html": [
       "<div>\n",
       "<style scoped>\n",
       "    .dataframe tbody tr th:only-of-type {\n",
       "        vertical-align: middle;\n",
       "    }\n",
       "\n",
       "    .dataframe tbody tr th {\n",
       "        vertical-align: top;\n",
       "    }\n",
       "\n",
       "    .dataframe thead th {\n",
       "        text-align: right;\n",
       "    }\n",
       "</style>\n",
       "<table border=\"1\" class=\"dataframe\">\n",
       "  <thead>\n",
       "    <tr style=\"text-align: right;\">\n",
       "      <th></th>\n",
       "      <th>a</th>\n",
       "      <th>b</th>\n",
       "      <th>c</th>\n",
       "    </tr>\n",
       "  </thead>\n",
       "  <tbody>\n",
       "    <tr>\n",
       "      <th>d</th>\n",
       "      <td>0.0</td>\n",
       "      <td>1.0</td>\n",
       "      <td>2</td>\n",
       "    </tr>\n",
       "    <tr>\n",
       "      <th>e</th>\n",
       "      <td>NaN</td>\n",
       "      <td>4.0</td>\n",
       "      <td>5</td>\n",
       "    </tr>\n",
       "    <tr>\n",
       "      <th>f</th>\n",
       "      <td>6.0</td>\n",
       "      <td>NaN</td>\n",
       "      <td>8</td>\n",
       "    </tr>\n",
       "  </tbody>\n",
       "</table>\n",
       "</div>"
      ],
      "text/plain": [
       "     a    b  c\n",
       "d  0.0  1.0  2\n",
       "e  NaN  4.0  5\n",
       "f  6.0  NaN  8"
      ]
     },
     "execution_count": 43,
     "metadata": {},
     "output_type": "execute_result"
    }
   ],
   "source": [
    "df"
   ]
  },
  {
   "cell_type": "code",
   "execution_count": 44,
   "id": "e030fa94-3d94-4a3b-929d-7d2a638c2495",
   "metadata": {},
   "outputs": [
    {
     "data": {
      "text/html": [
       "<div>\n",
       "<style scoped>\n",
       "    .dataframe tbody tr th:only-of-type {\n",
       "        vertical-align: middle;\n",
       "    }\n",
       "\n",
       "    .dataframe tbody tr th {\n",
       "        vertical-align: top;\n",
       "    }\n",
       "\n",
       "    .dataframe thead th {\n",
       "        text-align: right;\n",
       "    }\n",
       "</style>\n",
       "<table border=\"1\" class=\"dataframe\">\n",
       "  <thead>\n",
       "    <tr style=\"text-align: right;\">\n",
       "      <th></th>\n",
       "      <th>a</th>\n",
       "      <th>b</th>\n",
       "      <th>c</th>\n",
       "    </tr>\n",
       "  </thead>\n",
       "  <tbody>\n",
       "    <tr>\n",
       "      <th>d</th>\n",
       "      <td>0.0</td>\n",
       "      <td>1.0</td>\n",
       "      <td>3.0</td>\n",
       "    </tr>\n",
       "    <tr>\n",
       "      <th>e</th>\n",
       "      <td>NaN</td>\n",
       "      <td>NaN</td>\n",
       "      <td>NaN</td>\n",
       "    </tr>\n",
       "    <tr>\n",
       "      <th>f</th>\n",
       "      <td>6.0</td>\n",
       "      <td>NaN</td>\n",
       "      <td>NaN</td>\n",
       "    </tr>\n",
       "  </tbody>\n",
       "</table>\n",
       "</div>"
      ],
      "text/plain": [
       "     a    b    c\n",
       "d  0.0  1.0  3.0\n",
       "e  NaN  NaN  NaN\n",
       "f  6.0  NaN  NaN"
      ]
     },
     "execution_count": 44,
     "metadata": {},
     "output_type": "execute_result"
    }
   ],
   "source": [
    "df.cumsum(axis=1, skipna=False)"
   ]
  },
  {
   "cell_type": "markdown",
   "id": "9ad12ec0-556c-44d1-adc4-4af51485ccee",
   "metadata": {},
   "source": [
    "4.30 DataFrame 类的 cumprod 方法"
   ]
  },
  {
   "cell_type": "code",
   "execution_count": 45,
   "id": "86728b88-3a3c-469b-9b68-0f1b57a3771d",
   "metadata": {},
   "outputs": [
    {
     "data": {
      "text/html": [
       "<div>\n",
       "<style scoped>\n",
       "    .dataframe tbody tr th:only-of-type {\n",
       "        vertical-align: middle;\n",
       "    }\n",
       "\n",
       "    .dataframe tbody tr th {\n",
       "        vertical-align: top;\n",
       "    }\n",
       "\n",
       "    .dataframe thead th {\n",
       "        text-align: right;\n",
       "    }\n",
       "</style>\n",
       "<table border=\"1\" class=\"dataframe\">\n",
       "  <thead>\n",
       "    <tr style=\"text-align: right;\">\n",
       "      <th></th>\n",
       "      <th>a</th>\n",
       "      <th>b</th>\n",
       "      <th>c</th>\n",
       "    </tr>\n",
       "  </thead>\n",
       "  <tbody>\n",
       "    <tr>\n",
       "      <th>d</th>\n",
       "      <td>0.0</td>\n",
       "      <td>0.0</td>\n",
       "      <td>0.0</td>\n",
       "    </tr>\n",
       "    <tr>\n",
       "      <th>e</th>\n",
       "      <td>NaN</td>\n",
       "      <td>4.0</td>\n",
       "      <td>20.0</td>\n",
       "    </tr>\n",
       "    <tr>\n",
       "      <th>f</th>\n",
       "      <td>6.0</td>\n",
       "      <td>NaN</td>\n",
       "      <td>48.0</td>\n",
       "    </tr>\n",
       "  </tbody>\n",
       "</table>\n",
       "</div>"
      ],
      "text/plain": [
       "     a    b     c\n",
       "d  0.0  0.0   0.0\n",
       "e  NaN  4.0  20.0\n",
       "f  6.0  NaN  48.0"
      ]
     },
     "execution_count": 45,
     "metadata": {},
     "output_type": "execute_result"
    }
   ],
   "source": [
    "df.cumprod(axis=1)"
   ]
  },
  {
   "cell_type": "code",
   "execution_count": 46,
   "id": "18c67e43-f10f-4660-a505-be9cc9688ce0",
   "metadata": {},
   "outputs": [
    {
     "data": {
      "text/html": [
       "<div>\n",
       "<style scoped>\n",
       "    .dataframe tbody tr th:only-of-type {\n",
       "        vertical-align: middle;\n",
       "    }\n",
       "\n",
       "    .dataframe tbody tr th {\n",
       "        vertical-align: top;\n",
       "    }\n",
       "\n",
       "    .dataframe thead th {\n",
       "        text-align: right;\n",
       "    }\n",
       "</style>\n",
       "<table border=\"1\" class=\"dataframe\">\n",
       "  <thead>\n",
       "    <tr style=\"text-align: right;\">\n",
       "      <th></th>\n",
       "      <th>a</th>\n",
       "      <th>b</th>\n",
       "      <th>c</th>\n",
       "    </tr>\n",
       "  </thead>\n",
       "  <tbody>\n",
       "    <tr>\n",
       "      <th>d</th>\n",
       "      <td>0.0</td>\n",
       "      <td>1.0</td>\n",
       "      <td>2</td>\n",
       "    </tr>\n",
       "    <tr>\n",
       "      <th>e</th>\n",
       "      <td>NaN</td>\n",
       "      <td>4.0</td>\n",
       "      <td>10</td>\n",
       "    </tr>\n",
       "    <tr>\n",
       "      <th>f</th>\n",
       "      <td>0.0</td>\n",
       "      <td>NaN</td>\n",
       "      <td>80</td>\n",
       "    </tr>\n",
       "  </tbody>\n",
       "</table>\n",
       "</div>"
      ],
      "text/plain": [
       "     a    b   c\n",
       "d  0.0  1.0   2\n",
       "e  NaN  4.0  10\n",
       "f  0.0  NaN  80"
      ]
     },
     "execution_count": 46,
     "metadata": {},
     "output_type": "execute_result"
    }
   ],
   "source": [
    "df.cumprod(axis=0)"
   ]
  },
  {
   "cell_type": "code",
   "execution_count": 47,
   "id": "43deb073-23e5-43ed-a2bb-5620c2377dc9",
   "metadata": {},
   "outputs": [
    {
     "data": {
      "text/html": [
       "<div>\n",
       "<style scoped>\n",
       "    .dataframe tbody tr th:only-of-type {\n",
       "        vertical-align: middle;\n",
       "    }\n",
       "\n",
       "    .dataframe tbody tr th {\n",
       "        vertical-align: top;\n",
       "    }\n",
       "\n",
       "    .dataframe thead th {\n",
       "        text-align: right;\n",
       "    }\n",
       "</style>\n",
       "<table border=\"1\" class=\"dataframe\">\n",
       "  <thead>\n",
       "    <tr style=\"text-align: right;\">\n",
       "      <th></th>\n",
       "      <th>a</th>\n",
       "      <th>b</th>\n",
       "      <th>c</th>\n",
       "    </tr>\n",
       "  </thead>\n",
       "  <tbody>\n",
       "    <tr>\n",
       "      <th>d</th>\n",
       "      <td>0.0</td>\n",
       "      <td>1.0</td>\n",
       "      <td>2</td>\n",
       "    </tr>\n",
       "    <tr>\n",
       "      <th>e</th>\n",
       "      <td>NaN</td>\n",
       "      <td>4.0</td>\n",
       "      <td>10</td>\n",
       "    </tr>\n",
       "    <tr>\n",
       "      <th>f</th>\n",
       "      <td>NaN</td>\n",
       "      <td>NaN</td>\n",
       "      <td>80</td>\n",
       "    </tr>\n",
       "  </tbody>\n",
       "</table>\n",
       "</div>"
      ],
      "text/plain": [
       "     a    b   c\n",
       "d  0.0  1.0   2\n",
       "e  NaN  4.0  10\n",
       "f  NaN  NaN  80"
      ]
     },
     "execution_count": 47,
     "metadata": {},
     "output_type": "execute_result"
    }
   ],
   "source": [
    "df.cumprod(axis=0, skipna=False)"
   ]
  },
  {
   "cell_type": "markdown",
   "id": "2211c53d-d732-4c9c-bc02-f22aea3efa18",
   "metadata": {},
   "source": [
    "4.31 Series 类的 cumsum 方法和 cumprod 方法"
   ]
  },
  {
   "cell_type": "code",
   "execution_count": 48,
   "id": "71ceb6b3-e3a0-45ce-b257-9e57550a7497",
   "metadata": {},
   "outputs": [
    {
     "data": {
      "text/plain": [
       "0    1\n",
       "1    4\n",
       "2    9\n",
       "dtype: int64"
      ]
     },
     "execution_count": 48,
     "metadata": {},
     "output_type": "execute_result"
    }
   ],
   "source": [
    "ser = pd.Series([1,3,5])\n",
    "ser.cumsum()"
   ]
  },
  {
   "cell_type": "code",
   "execution_count": 49,
   "id": "0af013fd-a61f-401d-bd94-ebbe1c768320",
   "metadata": {},
   "outputs": [
    {
     "data": {
      "text/plain": [
       "0     1\n",
       "1     3\n",
       "2    15\n",
       "dtype: int64"
      ]
     },
     "execution_count": 49,
     "metadata": {},
     "output_type": "execute_result"
    }
   ],
   "source": [
    "ser.cumprod()"
   ]
  },
  {
   "cell_type": "markdown",
   "id": "e349365a-eea4-4faf-b9eb-42263d804c6a",
   "metadata": {},
   "source": [
    "### 4.1.6 分箱处理"
   ]
  },
  {
   "cell_type": "markdown",
   "id": "77be6431-2129-48a9-adba-5b174cbdffa6",
   "metadata": {},
   "source": [
    "4.32 Series 对象的创建"
   ]
  },
  {
   "cell_type": "code",
   "execution_count": 50,
   "id": "e7f6788e-4e0e-4b91-b1d7-600a8b951941",
   "metadata": {},
   "outputs": [
    {
     "data": {
      "text/plain": [
       "0    12\n",
       "1    14\n",
       "2    26\n",
       "3    28\n",
       "4    30\n",
       "5    32\n",
       "6    44\n",
       "7    58\n",
       "dtype: int64"
      ]
     },
     "execution_count": 50,
     "metadata": {},
     "output_type": "execute_result"
    }
   ],
   "source": [
    "age = pd.Series([12,14,26,28,30,32,44,58])\n",
    "age"
   ]
  },
  {
   "cell_type": "markdown",
   "id": "ee07e4f3-77a7-4875-a52c-4cd501c78e4b",
   "metadata": {},
   "source": [
    "4.33 cut 函数"
   ]
  },
  {
   "cell_type": "code",
   "execution_count": 51,
   "id": "83c841c2-6510-427b-8038-f5548819d492",
   "metadata": {},
   "outputs": [
    {
     "data": {
      "text/plain": [
       "0    (10, 19]\n",
       "1    (10, 19]\n",
       "2    (19, 29]\n",
       "3    (19, 29]\n",
       "4    (29, 39]\n",
       "5    (29, 39]\n",
       "6    (39, 49]\n",
       "7    (49, 59]\n",
       "dtype: category\n",
       "Categories (6, interval[int64, right]): [(0, 10] < (10, 19] < (19, 29] < (29, 39] < (39, 49] < (49, 59]]"
      ]
     },
     "execution_count": 51,
     "metadata": {},
     "output_type": "execute_result"
    }
   ],
   "source": [
    "pd.cut(x=age, bins = [0,10,19,29,39,49,59])"
   ]
  },
  {
   "cell_type": "markdown",
   "id": "74c7149f-a092-45f5-8b00-8d31db0d3b1a",
   "metadata": {},
   "source": [
    "4.34 cut 函数的 bins 参数"
   ]
  },
  {
   "cell_type": "code",
   "execution_count": 52,
   "id": "04638dec-0659-43ec-ac68-9113e7c317f6",
   "metadata": {},
   "outputs": [
    {
     "data": {
      "text/plain": [
       "0     (0, 19]\n",
       "1     (0, 19]\n",
       "2    (19, 60]\n",
       "3    (19, 60]\n",
       "4    (19, 60]\n",
       "5    (19, 60]\n",
       "6    (19, 60]\n",
       "7    (19, 60]\n",
       "dtype: category\n",
       "Categories (2, interval[int64, right]): [(0, 19] < (19, 60]]"
      ]
     },
     "execution_count": 52,
     "metadata": {},
     "output_type": "execute_result"
    }
   ],
   "source": [
    "pd.cut(x=age, bins=[0,19,60])"
   ]
  },
  {
   "cell_type": "markdown",
   "id": "f8d20335-fcde-422d-afa6-01831c8bcad9",
   "metadata": {},
   "source": [
    "4.35 cut 函数的 labels 参数"
   ]
  },
  {
   "cell_type": "code",
   "execution_count": 53,
   "id": "9f212df6-1bf8-48ec-abc5-de6ec2b818e6",
   "metadata": {},
   "outputs": [
    {
     "data": {
      "text/plain": [
       "0    non-adult\n",
       "1    non-adult\n",
       "2        adult\n",
       "3        adult\n",
       "4        adult\n",
       "5        adult\n",
       "6        adult\n",
       "7        adult\n",
       "dtype: category\n",
       "Categories (2, object): ['non-adult' < 'adult']"
      ]
     },
     "execution_count": 53,
     "metadata": {},
     "output_type": "execute_result"
    }
   ],
   "source": [
    "pd.cut(x=age, bins=[0,19,60], labels=['non-adult','adult'])"
   ]
  },
  {
   "cell_type": "markdown",
   "id": "245b06cc-55de-488c-9ade-56f4b16a97ac",
   "metadata": {},
   "source": [
    "4.36 cut 函数的 right 参数"
   ]
  },
  {
   "cell_type": "code",
   "execution_count": 54,
   "id": "f443e1b2-1cca-402a-9941-208e79e7d851",
   "metadata": {},
   "outputs": [
    {
     "data": {
      "text/plain": [
       "0     [0, 19)\n",
       "1     [0, 19)\n",
       "2    [19, 60)\n",
       "3    [19, 60)\n",
       "4    [19, 60)\n",
       "5    [19, 60)\n",
       "6    [19, 60)\n",
       "7    [19, 60)\n",
       "dtype: category\n",
       "Categories (2, interval[int64, left]): [[0, 19) < [19, 60)]"
      ]
     },
     "execution_count": 54,
     "metadata": {},
     "output_type": "execute_result"
    }
   ],
   "source": [
    "pd.cut(x=age, bins=[0,19,60], right=False)"
   ]
  },
  {
   "cell_type": "markdown",
   "id": "44352b49-6fae-4a47-a0ea-1e190ebf32a1",
   "metadata": {},
   "source": [
    "4.37 cut 函数和 value_counts 方法"
   ]
  },
  {
   "cell_type": "code",
   "execution_count": 55,
   "id": "fcd5371d-968d-4656-99db-75ba8b2afae7",
   "metadata": {},
   "outputs": [
    {
     "data": {
      "text/plain": [
       "adult        6\n",
       "non-adult    2\n",
       "Name: count, dtype: int64"
      ]
     },
     "execution_count": 55,
     "metadata": {},
     "output_type": "execute_result"
    }
   ],
   "source": [
    "age_cat = pd.cut(x=age, bins=[0,19,60], labels=['non-adult','adult'])\n",
    "age_cat.value_counts()"
   ]
  },
  {
   "cell_type": "markdown",
   "id": "89eba90f-e275-4888-9e6c-3de28ca48662",
   "metadata": {},
   "source": [
    "4.38 qcut 函数"
   ]
  },
  {
   "cell_type": "code",
   "execution_count": 56,
   "id": "912365cd-9e31-4d7f-bae1-028f1427228c",
   "metadata": {},
   "outputs": [
    {
     "data": {
      "text/plain": [
       "0    (11.999, 29.0]\n",
       "1    (11.999, 29.0]\n",
       "2    (11.999, 29.0]\n",
       "3    (11.999, 29.0]\n",
       "4      (29.0, 58.0]\n",
       "5      (29.0, 58.0]\n",
       "6      (29.0, 58.0]\n",
       "7      (29.0, 58.0]\n",
       "dtype: category\n",
       "Categories (2, interval[float64, right]): [(11.999, 29.0] < (29.0, 58.0]]"
      ]
     },
     "execution_count": 56,
     "metadata": {},
     "output_type": "execute_result"
    }
   ],
   "source": [
    "age = pd.Series([12,14,26,28,30,32,44,58])\n",
    "pd.qcut(x=age, q=2)"
   ]
  },
  {
   "cell_type": "code",
   "execution_count": 57,
   "id": "6acc3dbd-6bc5-495d-9ce2-8175926b1063",
   "metadata": {},
   "outputs": [
    {
     "data": {
      "text/plain": [
       "0    (11.999, 23.0]\n",
       "1    (11.999, 23.0]\n",
       "2      (23.0, 29.0]\n",
       "3      (23.0, 29.0]\n",
       "4      (29.0, 35.0]\n",
       "5      (29.0, 35.0]\n",
       "6      (35.0, 58.0]\n",
       "7      (35.0, 58.0]\n",
       "dtype: category\n",
       "Categories (4, interval[float64, right]): [(11.999, 23.0] < (23.0, 29.0] < (29.0, 35.0] < (35.0, 58.0]]"
      ]
     },
     "execution_count": 57,
     "metadata": {},
     "output_type": "execute_result"
    }
   ],
   "source": [
    "pd.qcut(x=age, q=4)"
   ]
  },
  {
   "cell_type": "markdown",
   "id": "19931bf2-2cf1-48a2-8f82-bcd0d59623c3",
   "metadata": {},
   "source": [
    "4.39 qcut 函数的 q 参数"
   ]
  },
  {
   "cell_type": "code",
   "execution_count": 58,
   "id": "10f9741f-b1cd-458a-b60c-08222b2b31f2",
   "metadata": {},
   "outputs": [
    {
     "data": {
      "text/plain": [
       "0    (11.999, 23.0]\n",
       "1    (11.999, 23.0]\n",
       "2      (23.0, 29.0]\n",
       "3      (23.0, 29.0]\n",
       "4      (29.0, 35.0]\n",
       "5      (29.0, 35.0]\n",
       "6      (35.0, 58.0]\n",
       "7      (35.0, 58.0]\n",
       "dtype: category\n",
       "Categories (4, interval[float64, right]): [(11.999, 23.0] < (23.0, 29.0] < (29.0, 35.0] < (35.0, 58.0]]"
      ]
     },
     "execution_count": 58,
     "metadata": {},
     "output_type": "execute_result"
    }
   ],
   "source": [
    "pd.qcut(x=age, q=[0,0.25,0.5,0.75,1])"
   ]
  },
  {
   "cell_type": "markdown",
   "id": "69ef1c23-5fca-4d77-842c-d7b6b6568d23",
   "metadata": {},
   "source": [
    "4.40 qcut 函数的 labels 参数"
   ]
  },
  {
   "cell_type": "code",
   "execution_count": 59,
   "id": "bf28aa1c-db02-43dc-9416-1739ff07ab36",
   "metadata": {},
   "outputs": [
    {
     "data": {
      "text/plain": [
       "0    younger\n",
       "1    younger\n",
       "2    younger\n",
       "3    younger\n",
       "4      older\n",
       "5      older\n",
       "6      older\n",
       "7      older\n",
       "dtype: category\n",
       "Categories (2, object): ['younger' < 'older']"
      ]
     },
     "execution_count": 59,
     "metadata": {},
     "output_type": "execute_result"
    }
   ],
   "source": [
    "pd.qcut(x=age, q=2, labels=['younger','older'])"
   ]
  },
  {
   "cell_type": "markdown",
   "id": "1149f21c-e805-4708-8d86-09fb24507acc",
   "metadata": {},
   "source": [
    "4.41 qcut 函数的 retbins 参数"
   ]
  },
  {
   "cell_type": "code",
   "execution_count": 60,
   "id": "0b2c3990-fe1a-4ea1-82ba-1608decf935f",
   "metadata": {},
   "outputs": [],
   "source": [
    "bins, labels = pd.qcut(x=age, q=2, retbins=True)"
   ]
  },
  {
   "cell_type": "code",
   "execution_count": 61,
   "id": "ba366a8f-7a6b-4b91-a01e-746c9533bdde",
   "metadata": {},
   "outputs": [
    {
     "data": {
      "text/plain": [
       "0    (11.999, 29.0]\n",
       "1    (11.999, 29.0]\n",
       "2    (11.999, 29.0]\n",
       "3    (11.999, 29.0]\n",
       "4      (29.0, 58.0]\n",
       "5      (29.0, 58.0]\n",
       "6      (29.0, 58.0]\n",
       "7      (29.0, 58.0]\n",
       "dtype: category\n",
       "Categories (2, interval[float64, right]): [(11.999, 29.0] < (29.0, 58.0]]"
      ]
     },
     "execution_count": 61,
     "metadata": {},
     "output_type": "execute_result"
    }
   ],
   "source": [
    "bins"
   ]
  },
  {
   "cell_type": "code",
   "execution_count": 62,
   "id": "eafe1e7b-be99-4e7a-a7ea-592fa2c1fac6",
   "metadata": {},
   "outputs": [
    {
     "data": {
      "text/plain": [
       "array([12., 29., 58.])"
      ]
     },
     "execution_count": 62,
     "metadata": {},
     "output_type": "execute_result"
    }
   ],
   "source": [
    "labels"
   ]
  },
  {
   "cell_type": "markdown",
   "id": "e0becbc2-7f02-4963-8bb6-0f9f387ddf31",
   "metadata": {},
   "source": [
    "### 4.1.7 概括统计量"
   ]
  },
  {
   "cell_type": "markdown",
   "id": "58e2e92c-f228-4202-be8d-6c7dda3bb368",
   "metadata": {},
   "source": [
    "4.42 DataFrame 类的 describe 方法"
   ]
  },
  {
   "cell_type": "code",
   "execution_count": 63,
   "id": "63f48f1b-90a8-4f37-9664-63d18cffe93b",
   "metadata": {},
   "outputs": [
    {
     "data": {
      "text/html": [
       "<div>\n",
       "<style scoped>\n",
       "    .dataframe tbody tr th:only-of-type {\n",
       "        vertical-align: middle;\n",
       "    }\n",
       "\n",
       "    .dataframe tbody tr th {\n",
       "        vertical-align: top;\n",
       "    }\n",
       "\n",
       "    .dataframe thead th {\n",
       "        text-align: right;\n",
       "    }\n",
       "</style>\n",
       "<table border=\"1\" class=\"dataframe\">\n",
       "  <thead>\n",
       "    <tr style=\"text-align: right;\">\n",
       "      <th></th>\n",
       "      <th>a</th>\n",
       "      <th>b</th>\n",
       "      <th>c</th>\n",
       "    </tr>\n",
       "  </thead>\n",
       "  <tbody>\n",
       "    <tr>\n",
       "      <th>count</th>\n",
       "      <td>3.000000</td>\n",
       "      <td>3.000000</td>\n",
       "      <td>3.000000</td>\n",
       "    </tr>\n",
       "    <tr>\n",
       "      <th>mean</th>\n",
       "      <td>41.666667</td>\n",
       "      <td>50.333333</td>\n",
       "      <td>31.000000</td>\n",
       "    </tr>\n",
       "    <tr>\n",
       "      <th>std</th>\n",
       "      <td>35.232561</td>\n",
       "      <td>33.650161</td>\n",
       "      <td>35.930488</td>\n",
       "    </tr>\n",
       "    <tr>\n",
       "      <th>min</th>\n",
       "      <td>9.000000</td>\n",
       "      <td>12.000000</td>\n",
       "      <td>5.000000</td>\n",
       "    </tr>\n",
       "    <tr>\n",
       "      <th>25%</th>\n",
       "      <td>23.000000</td>\n",
       "      <td>38.000000</td>\n",
       "      <td>10.500000</td>\n",
       "    </tr>\n",
       "    <tr>\n",
       "      <th>50%</th>\n",
       "      <td>37.000000</td>\n",
       "      <td>64.000000</td>\n",
       "      <td>16.000000</td>\n",
       "    </tr>\n",
       "    <tr>\n",
       "      <th>75%</th>\n",
       "      <td>58.000000</td>\n",
       "      <td>69.500000</td>\n",
       "      <td>44.000000</td>\n",
       "    </tr>\n",
       "    <tr>\n",
       "      <th>max</th>\n",
       "      <td>79.000000</td>\n",
       "      <td>75.000000</td>\n",
       "      <td>72.000000</td>\n",
       "    </tr>\n",
       "  </tbody>\n",
       "</table>\n",
       "</div>"
      ],
      "text/plain": [
       "               a          b          c\n",
       "count   3.000000   3.000000   3.000000\n",
       "mean   41.666667  50.333333  31.000000\n",
       "std    35.232561  33.650161  35.930488\n",
       "min     9.000000  12.000000   5.000000\n",
       "25%    23.000000  38.000000  10.500000\n",
       "50%    37.000000  64.000000  16.000000\n",
       "75%    58.000000  69.500000  44.000000\n",
       "max    79.000000  75.000000  72.000000"
      ]
     },
     "execution_count": 63,
     "metadata": {},
     "output_type": "execute_result"
    }
   ],
   "source": [
    "np.random.seed(seed=1)\n",
    "val = np.random.randint(0,100,size=9).reshape(3,3)\n",
    "df = pd.DataFrame(val, columns=list('abc'))\n",
    "df.describe()"
   ]
  },
  {
   "cell_type": "markdown",
   "id": "667921c3-8484-48e9-9650-7e70322f99db",
   "metadata": {},
   "source": [
    "4.43 使用 describe 方法处理缺失值"
   ]
  },
  {
   "cell_type": "code",
   "execution_count": 64,
   "id": "4e402b00-92c6-4ccf-bd1e-ac1f6cd4eb11",
   "metadata": {},
   "outputs": [
    {
     "data": {
      "text/html": [
       "<div>\n",
       "<style scoped>\n",
       "    .dataframe tbody tr th:only-of-type {\n",
       "        vertical-align: middle;\n",
       "    }\n",
       "\n",
       "    .dataframe tbody tr th {\n",
       "        vertical-align: top;\n",
       "    }\n",
       "\n",
       "    .dataframe thead th {\n",
       "        text-align: right;\n",
       "    }\n",
       "</style>\n",
       "<table border=\"1\" class=\"dataframe\">\n",
       "  <thead>\n",
       "    <tr style=\"text-align: right;\">\n",
       "      <th></th>\n",
       "      <th>a</th>\n",
       "      <th>b</th>\n",
       "      <th>c</th>\n",
       "    </tr>\n",
       "  </thead>\n",
       "  <tbody>\n",
       "    <tr>\n",
       "      <th>count</th>\n",
       "      <td>2.000000</td>\n",
       "      <td>3.000000</td>\n",
       "      <td>3.000000</td>\n",
       "    </tr>\n",
       "    <tr>\n",
       "      <th>mean</th>\n",
       "      <td>58.000000</td>\n",
       "      <td>50.333333</td>\n",
       "      <td>31.000000</td>\n",
       "    </tr>\n",
       "    <tr>\n",
       "      <th>std</th>\n",
       "      <td>29.698485</td>\n",
       "      <td>33.650161</td>\n",
       "      <td>35.930488</td>\n",
       "    </tr>\n",
       "    <tr>\n",
       "      <th>min</th>\n",
       "      <td>37.000000</td>\n",
       "      <td>12.000000</td>\n",
       "      <td>5.000000</td>\n",
       "    </tr>\n",
       "    <tr>\n",
       "      <th>25%</th>\n",
       "      <td>47.500000</td>\n",
       "      <td>38.000000</td>\n",
       "      <td>10.500000</td>\n",
       "    </tr>\n",
       "    <tr>\n",
       "      <th>50%</th>\n",
       "      <td>58.000000</td>\n",
       "      <td>64.000000</td>\n",
       "      <td>16.000000</td>\n",
       "    </tr>\n",
       "    <tr>\n",
       "      <th>75%</th>\n",
       "      <td>68.500000</td>\n",
       "      <td>69.500000</td>\n",
       "      <td>44.000000</td>\n",
       "    </tr>\n",
       "    <tr>\n",
       "      <th>max</th>\n",
       "      <td>79.000000</td>\n",
       "      <td>75.000000</td>\n",
       "      <td>72.000000</td>\n",
       "    </tr>\n",
       "  </tbody>\n",
       "</table>\n",
       "</div>"
      ],
      "text/plain": [
       "               a          b          c\n",
       "count   2.000000   3.000000   3.000000\n",
       "mean   58.000000  50.333333  31.000000\n",
       "std    29.698485  33.650161  35.930488\n",
       "min    37.000000  12.000000   5.000000\n",
       "25%    47.500000  38.000000  10.500000\n",
       "50%    58.000000  64.000000  16.000000\n",
       "75%    68.500000  69.500000  44.000000\n",
       "max    79.000000  75.000000  72.000000"
      ]
     },
     "execution_count": 64,
     "metadata": {},
     "output_type": "execute_result"
    }
   ],
   "source": [
    "df.loc[1,'a'] = np.nan\n",
    "df.describe()"
   ]
  },
  {
   "cell_type": "markdown",
   "id": "4ff00b12-ea04-4baf-8166-639cb24494a5",
   "metadata": {},
   "source": [
    "4.44 describe 方法的 percentiles 参数"
   ]
  },
  {
   "cell_type": "code",
   "execution_count": 65,
   "id": "0d716864-4446-452a-b9fd-b42620fc10c9",
   "metadata": {},
   "outputs": [
    {
     "data": {
      "text/html": [
       "<div>\n",
       "<style scoped>\n",
       "    .dataframe tbody tr th:only-of-type {\n",
       "        vertical-align: middle;\n",
       "    }\n",
       "\n",
       "    .dataframe tbody tr th {\n",
       "        vertical-align: top;\n",
       "    }\n",
       "\n",
       "    .dataframe thead th {\n",
       "        text-align: right;\n",
       "    }\n",
       "</style>\n",
       "<table border=\"1\" class=\"dataframe\">\n",
       "  <thead>\n",
       "    <tr style=\"text-align: right;\">\n",
       "      <th></th>\n",
       "      <th>a</th>\n",
       "      <th>b</th>\n",
       "      <th>c</th>\n",
       "    </tr>\n",
       "  </thead>\n",
       "  <tbody>\n",
       "    <tr>\n",
       "      <th>count</th>\n",
       "      <td>2.000000</td>\n",
       "      <td>3.000000</td>\n",
       "      <td>3.000000</td>\n",
       "    </tr>\n",
       "    <tr>\n",
       "      <th>mean</th>\n",
       "      <td>58.000000</td>\n",
       "      <td>50.333333</td>\n",
       "      <td>31.000000</td>\n",
       "    </tr>\n",
       "    <tr>\n",
       "      <th>std</th>\n",
       "      <td>29.698485</td>\n",
       "      <td>33.650161</td>\n",
       "      <td>35.930488</td>\n",
       "    </tr>\n",
       "    <tr>\n",
       "      <th>min</th>\n",
       "      <td>37.000000</td>\n",
       "      <td>12.000000</td>\n",
       "      <td>5.000000</td>\n",
       "    </tr>\n",
       "    <tr>\n",
       "      <th>10%</th>\n",
       "      <td>41.200000</td>\n",
       "      <td>22.400000</td>\n",
       "      <td>7.200000</td>\n",
       "    </tr>\n",
       "    <tr>\n",
       "      <th>20%</th>\n",
       "      <td>45.400000</td>\n",
       "      <td>32.800000</td>\n",
       "      <td>9.400000</td>\n",
       "    </tr>\n",
       "    <tr>\n",
       "      <th>30%</th>\n",
       "      <td>49.600000</td>\n",
       "      <td>43.200000</td>\n",
       "      <td>11.600000</td>\n",
       "    </tr>\n",
       "    <tr>\n",
       "      <th>50%</th>\n",
       "      <td>58.000000</td>\n",
       "      <td>64.000000</td>\n",
       "      <td>16.000000</td>\n",
       "    </tr>\n",
       "    <tr>\n",
       "      <th>max</th>\n",
       "      <td>79.000000</td>\n",
       "      <td>75.000000</td>\n",
       "      <td>72.000000</td>\n",
       "    </tr>\n",
       "  </tbody>\n",
       "</table>\n",
       "</div>"
      ],
      "text/plain": [
       "               a          b          c\n",
       "count   2.000000   3.000000   3.000000\n",
       "mean   58.000000  50.333333  31.000000\n",
       "std    29.698485  33.650161  35.930488\n",
       "min    37.000000  12.000000   5.000000\n",
       "10%    41.200000  22.400000   7.200000\n",
       "20%    45.400000  32.800000   9.400000\n",
       "30%    49.600000  43.200000  11.600000\n",
       "50%    58.000000  64.000000  16.000000\n",
       "max    79.000000  75.000000  72.000000"
      ]
     },
     "execution_count": 65,
     "metadata": {},
     "output_type": "execute_result"
    }
   ],
   "source": [
    "df.describe(percentiles=[0.1,0.2,0.3])"
   ]
  },
  {
   "cell_type": "markdown",
   "id": "35ebba15-4b2e-42cb-8ec2-cf5838fe8928",
   "metadata": {},
   "source": [
    "4.45 对象类型的概括统计量"
   ]
  },
  {
   "cell_type": "code",
   "execution_count": 66,
   "id": "bdd2b3ff-f9b8-47c8-a955-4715f9f2f01d",
   "metadata": {},
   "outputs": [
    {
     "data": {
      "text/plain": [
       "count     3\n",
       "unique    2\n",
       "top       a\n",
       "freq      2\n",
       "Name: e, dtype: object"
      ]
     },
     "execution_count": 66,
     "metadata": {},
     "output_type": "execute_result"
    }
   ],
   "source": [
    "df['e'] = list('aba')\n",
    "df['e'].describe()"
   ]
  },
  {
   "cell_type": "markdown",
   "id": "82d050cd-3875-4454-97ce-83a93ddfce86",
   "metadata": {},
   "source": [
    "4.46 包含两个以上众数的 describe 方法"
   ]
  },
  {
   "cell_type": "code",
   "execution_count": 67,
   "id": "36cbf373-b543-40f9-8fa9-b53b3312dce3",
   "metadata": {},
   "outputs": [
    {
     "data": {
      "text/plain": [
       "count     4\n",
       "unique    2\n",
       "top       a\n",
       "freq      2\n",
       "Name: e, dtype: object"
      ]
     },
     "execution_count": 67,
     "metadata": {},
     "output_type": "execute_result"
    }
   ],
   "source": [
    "df.loc[3, 'e'] = 'b'\n",
    "df['e'].describe()"
   ]
  },
  {
   "cell_type": "markdown",
   "id": "332fb872-252e-445f-a92d-c6e76422ce23",
   "metadata": {},
   "source": [
    "### 4.1.8 数据透视表"
   ]
  },
  {
   "cell_type": "markdown",
   "id": "2847d70d-8874-436a-96cc-481a987a44be",
   "metadata": {},
   "source": [
    "4.47 DataFrame 对象的创建"
   ]
  },
  {
   "cell_type": "code",
   "execution_count": 68,
   "id": "36adcd88-e1ea-4835-8ca2-d11e20be8b29",
   "metadata": {},
   "outputs": [
    {
     "data": {
      "text/html": [
       "<div>\n",
       "<style scoped>\n",
       "    .dataframe tbody tr th:only-of-type {\n",
       "        vertical-align: middle;\n",
       "    }\n",
       "\n",
       "    .dataframe tbody tr th {\n",
       "        vertical-align: top;\n",
       "    }\n",
       "\n",
       "    .dataframe thead th {\n",
       "        text-align: right;\n",
       "    }\n",
       "</style>\n",
       "<table border=\"1\" class=\"dataframe\">\n",
       "  <thead>\n",
       "    <tr style=\"text-align: right;\">\n",
       "      <th></th>\n",
       "      <th>math</th>\n",
       "      <th>eng</th>\n",
       "      <th>scie</th>\n",
       "      <th>art</th>\n",
       "      <th>hist</th>\n",
       "      <th>club</th>\n",
       "      <th>sex</th>\n",
       "    </tr>\n",
       "  </thead>\n",
       "  <tbody>\n",
       "    <tr>\n",
       "      <th>0</th>\n",
       "      <td>75</td>\n",
       "      <td>81</td>\n",
       "      <td>82</td>\n",
       "      <td>78</td>\n",
       "      <td>79</td>\n",
       "      <td>soccer</td>\n",
       "      <td>M</td>\n",
       "    </tr>\n",
       "    <tr>\n",
       "      <th>1</th>\n",
       "      <td>81</td>\n",
       "      <td>75</td>\n",
       "      <td>85</td>\n",
       "      <td>70</td>\n",
       "      <td>86</td>\n",
       "      <td>tennis</td>\n",
       "      <td>M</td>\n",
       "    </tr>\n",
       "    <tr>\n",
       "      <th>2</th>\n",
       "      <td>71</td>\n",
       "      <td>82</td>\n",
       "      <td>77</td>\n",
       "      <td>83</td>\n",
       "      <td>98</td>\n",
       "      <td>tennis</td>\n",
       "      <td>F</td>\n",
       "    </tr>\n",
       "    <tr>\n",
       "      <th>3</th>\n",
       "      <td>76</td>\n",
       "      <td>95</td>\n",
       "      <td>88</td>\n",
       "      <td>90</td>\n",
       "      <td>75</td>\n",
       "      <td>soccer</td>\n",
       "      <td>M</td>\n",
       "    </tr>\n",
       "    <tr>\n",
       "      <th>4</th>\n",
       "      <td>88</td>\n",
       "      <td>90</td>\n",
       "      <td>81</td>\n",
       "      <td>98</td>\n",
       "      <td>80</td>\n",
       "      <td>tennis</td>\n",
       "      <td>F</td>\n",
       "    </tr>\n",
       "  </tbody>\n",
       "</table>\n",
       "</div>"
      ],
      "text/plain": [
       "   math  eng  scie  art  hist    club sex\n",
       "0    75   81    82   78    79  soccer   M\n",
       "1    81   75    85   70    86  tennis   M\n",
       "2    71   82    77   83    98  tennis   F\n",
       "3    76   95    88   90    75  soccer   M\n",
       "4    88   90    81   98    80  tennis   F"
      ]
     },
     "execution_count": 68,
     "metadata": {},
     "output_type": "execute_result"
    }
   ],
   "source": [
    "np.random.seed(seed=1)\n",
    "scores = np.random.randint(70,100,size=25).reshape(5, 5)\n",
    "subs = ['math','eng','scie','art','hist']\n",
    "df = pd.DataFrame(scores, columns=subs)\n",
    "df['club'] = ['soccer','tennis','tennis','soccer','tennis']\n",
    "df['sex'] = list('MMFMF')\n",
    "df"
   ]
  },
  {
   "cell_type": "markdown",
   "id": "0e7c4beb-dacc-464b-9ab4-5a8552e94025",
   "metadata": {},
   "source": [
    "4.48 pivot_table 函数"
   ]
  },
  {
   "cell_type": "code",
   "execution_count": 69,
   "id": "4414ef66-1e7b-4168-a9a5-8d787e3c75b9",
   "metadata": {},
   "outputs": [
    {
     "data": {
      "text/html": [
       "<div>\n",
       "<style scoped>\n",
       "    .dataframe tbody tr th:only-of-type {\n",
       "        vertical-align: middle;\n",
       "    }\n",
       "\n",
       "    .dataframe tbody tr th {\n",
       "        vertical-align: top;\n",
       "    }\n",
       "\n",
       "    .dataframe thead th {\n",
       "        text-align: right;\n",
       "    }\n",
       "</style>\n",
       "<table border=\"1\" class=\"dataframe\">\n",
       "  <thead>\n",
       "    <tr style=\"text-align: right;\">\n",
       "      <th></th>\n",
       "      <th>math</th>\n",
       "      <th>eng</th>\n",
       "      <th>scie</th>\n",
       "      <th>art</th>\n",
       "      <th>hist</th>\n",
       "      <th>club</th>\n",
       "      <th>sex</th>\n",
       "    </tr>\n",
       "  </thead>\n",
       "  <tbody>\n",
       "    <tr>\n",
       "      <th>0</th>\n",
       "      <td>75</td>\n",
       "      <td>81</td>\n",
       "      <td>82</td>\n",
       "      <td>78</td>\n",
       "      <td>79</td>\n",
       "      <td>NaN</td>\n",
       "      <td>M</td>\n",
       "    </tr>\n",
       "    <tr>\n",
       "      <th>1</th>\n",
       "      <td>81</td>\n",
       "      <td>75</td>\n",
       "      <td>85</td>\n",
       "      <td>70</td>\n",
       "      <td>86</td>\n",
       "      <td>NaN</td>\n",
       "      <td>M</td>\n",
       "    </tr>\n",
       "    <tr>\n",
       "      <th>2</th>\n",
       "      <td>71</td>\n",
       "      <td>82</td>\n",
       "      <td>77</td>\n",
       "      <td>83</td>\n",
       "      <td>98</td>\n",
       "      <td>NaN</td>\n",
       "      <td>F</td>\n",
       "    </tr>\n",
       "    <tr>\n",
       "      <th>3</th>\n",
       "      <td>76</td>\n",
       "      <td>95</td>\n",
       "      <td>88</td>\n",
       "      <td>90</td>\n",
       "      <td>75</td>\n",
       "      <td>NaN</td>\n",
       "      <td>M</td>\n",
       "    </tr>\n",
       "    <tr>\n",
       "      <th>4</th>\n",
       "      <td>88</td>\n",
       "      <td>90</td>\n",
       "      <td>81</td>\n",
       "      <td>98</td>\n",
       "      <td>80</td>\n",
       "      <td>NaN</td>\n",
       "      <td>F</td>\n",
       "    </tr>\n",
       "  </tbody>\n",
       "</table>\n",
       "</div>"
      ],
      "text/plain": [
       "   math  eng  scie  art  hist  club sex\n",
       "0    75   81    82   78    79   NaN   M\n",
       "1    81   75    85   70    86   NaN   M\n",
       "2    71   82    77   83    98   NaN   F\n",
       "3    76   95    88   90    75   NaN   M\n",
       "4    88   90    81   98    80   NaN   F"
      ]
     },
     "execution_count": 69,
     "metadata": {},
     "output_type": "execute_result"
    }
   ],
   "source": [
    "# 将 'value' 列转换为数值类型（忽略无法转换的值）\n",
    "df['club'] = pd.to_numeric(df['club'], errors='coerce')\n",
    "df"
   ]
  },
  {
   "cell_type": "code",
   "execution_count": 70,
   "id": "7fa54b08-ec38-4e22-9575-1b4370c9610e",
   "metadata": {},
   "outputs": [
    {
     "data": {
      "text/html": [
       "<div>\n",
       "<style scoped>\n",
       "    .dataframe tbody tr th:only-of-type {\n",
       "        vertical-align: middle;\n",
       "    }\n",
       "\n",
       "    .dataframe tbody tr th {\n",
       "        vertical-align: top;\n",
       "    }\n",
       "\n",
       "    .dataframe thead th {\n",
       "        text-align: right;\n",
       "    }\n",
       "</style>\n",
       "<table border=\"1\" class=\"dataframe\">\n",
       "  <thead>\n",
       "    <tr style=\"text-align: right;\">\n",
       "      <th></th>\n",
       "      <th>art</th>\n",
       "      <th>eng</th>\n",
       "      <th>hist</th>\n",
       "      <th>math</th>\n",
       "      <th>scie</th>\n",
       "    </tr>\n",
       "    <tr>\n",
       "      <th>sex</th>\n",
       "      <th></th>\n",
       "      <th></th>\n",
       "      <th></th>\n",
       "      <th></th>\n",
       "      <th></th>\n",
       "    </tr>\n",
       "  </thead>\n",
       "  <tbody>\n",
       "    <tr>\n",
       "      <th>F</th>\n",
       "      <td>90.500000</td>\n",
       "      <td>86.000000</td>\n",
       "      <td>89.0</td>\n",
       "      <td>79.500000</td>\n",
       "      <td>79.0</td>\n",
       "    </tr>\n",
       "    <tr>\n",
       "      <th>M</th>\n",
       "      <td>79.333333</td>\n",
       "      <td>83.666667</td>\n",
       "      <td>80.0</td>\n",
       "      <td>77.333333</td>\n",
       "      <td>85.0</td>\n",
       "    </tr>\n",
       "  </tbody>\n",
       "</table>\n",
       "</div>"
      ],
      "text/plain": [
       "           art        eng  hist       math  scie\n",
       "sex                                             \n",
       "F    90.500000  86.000000  89.0  79.500000  79.0\n",
       "M    79.333333  83.666667  80.0  77.333333  85.0"
      ]
     },
     "execution_count": 70,
     "metadata": {},
     "output_type": "execute_result"
    }
   ],
   "source": [
    "pd.pivot_table(df, index='sex', aggfunc=\"mean\")"
   ]
  },
  {
   "cell_type": "markdown",
   "id": "3a1d00bb-616e-4d4a-b469-ff811246e739",
   "metadata": {},
   "source": [
    "4.49 pivot_table 函数的 values 参数"
   ]
  },
  {
   "cell_type": "code",
   "execution_count": 71,
   "id": "cc4c7e26-13a1-434e-9b24-c70bcd3e9c1c",
   "metadata": {},
   "outputs": [
    {
     "data": {
      "text/html": [
       "<div>\n",
       "<style scoped>\n",
       "    .dataframe tbody tr th:only-of-type {\n",
       "        vertical-align: middle;\n",
       "    }\n",
       "\n",
       "    .dataframe tbody tr th {\n",
       "        vertical-align: top;\n",
       "    }\n",
       "\n",
       "    .dataframe thead th {\n",
       "        text-align: right;\n",
       "    }\n",
       "</style>\n",
       "<table border=\"1\" class=\"dataframe\">\n",
       "  <thead>\n",
       "    <tr style=\"text-align: right;\">\n",
       "      <th></th>\n",
       "      <th>art</th>\n",
       "    </tr>\n",
       "    <tr>\n",
       "      <th>sex</th>\n",
       "      <th></th>\n",
       "    </tr>\n",
       "  </thead>\n",
       "  <tbody>\n",
       "    <tr>\n",
       "      <th>F</th>\n",
       "      <td>90.500000</td>\n",
       "    </tr>\n",
       "    <tr>\n",
       "      <th>M</th>\n",
       "      <td>79.333333</td>\n",
       "    </tr>\n",
       "  </tbody>\n",
       "</table>\n",
       "</div>"
      ],
      "text/plain": [
       "           art\n",
       "sex           \n",
       "F    90.500000\n",
       "M    79.333333"
      ]
     },
     "execution_count": 71,
     "metadata": {},
     "output_type": "execute_result"
    }
   ],
   "source": [
    "pd.pivot_table(df, index='sex',values='art')"
   ]
  },
  {
   "cell_type": "code",
   "execution_count": 72,
   "id": "ebab29cb-b3ca-4487-84ec-9b84325cf9cc",
   "metadata": {},
   "outputs": [
    {
     "data": {
      "text/html": [
       "<div>\n",
       "<style scoped>\n",
       "    .dataframe tbody tr th:only-of-type {\n",
       "        vertical-align: middle;\n",
       "    }\n",
       "\n",
       "    .dataframe tbody tr th {\n",
       "        vertical-align: top;\n",
       "    }\n",
       "\n",
       "    .dataframe thead th {\n",
       "        text-align: right;\n",
       "    }\n",
       "</style>\n",
       "<table border=\"1\" class=\"dataframe\">\n",
       "  <thead>\n",
       "    <tr style=\"text-align: right;\">\n",
       "      <th></th>\n",
       "      <th>art</th>\n",
       "      <th>eng</th>\n",
       "    </tr>\n",
       "    <tr>\n",
       "      <th>sex</th>\n",
       "      <th></th>\n",
       "      <th></th>\n",
       "    </tr>\n",
       "  </thead>\n",
       "  <tbody>\n",
       "    <tr>\n",
       "      <th>F</th>\n",
       "      <td>90.500000</td>\n",
       "      <td>86.000000</td>\n",
       "    </tr>\n",
       "    <tr>\n",
       "      <th>M</th>\n",
       "      <td>79.333333</td>\n",
       "      <td>83.666667</td>\n",
       "    </tr>\n",
       "  </tbody>\n",
       "</table>\n",
       "</div>"
      ],
      "text/plain": [
       "           art        eng\n",
       "sex                      \n",
       "F    90.500000  86.000000\n",
       "M    79.333333  83.666667"
      ]
     },
     "execution_count": 72,
     "metadata": {},
     "output_type": "execute_result"
    }
   ],
   "source": [
    "pd.pivot_table(df, index='sex',values=['art','eng'])"
   ]
  },
  {
   "cell_type": "markdown",
   "id": "f64bd940-52f2-4aa7-90da-d592ac94c90e",
   "metadata": {},
   "source": [
    "4.50 pivot_table 函数的 columns 参数"
   ]
  },
  {
   "cell_type": "code",
   "execution_count": 73,
   "id": "d99d646f-6a95-4f93-8d03-63c2950741f2",
   "metadata": {},
   "outputs": [
    {
     "data": {
      "text/html": [
       "<div>\n",
       "<style scoped>\n",
       "    .dataframe tbody tr th:only-of-type {\n",
       "        vertical-align: middle;\n",
       "    }\n",
       "\n",
       "    .dataframe tbody tr th {\n",
       "        vertical-align: top;\n",
       "    }\n",
       "\n",
       "    .dataframe thead th {\n",
       "        text-align: right;\n",
       "    }\n",
       "</style>\n",
       "<table border=\"1\" class=\"dataframe\">\n",
       "  <thead>\n",
       "    <tr style=\"text-align: right;\">\n",
       "      <th></th>\n",
       "      <th>math</th>\n",
       "      <th>eng</th>\n",
       "      <th>scie</th>\n",
       "      <th>art</th>\n",
       "      <th>hist</th>\n",
       "      <th>club</th>\n",
       "      <th>sex</th>\n",
       "    </tr>\n",
       "  </thead>\n",
       "  <tbody>\n",
       "    <tr>\n",
       "      <th>0</th>\n",
       "      <td>75</td>\n",
       "      <td>81</td>\n",
       "      <td>82</td>\n",
       "      <td>78</td>\n",
       "      <td>79</td>\n",
       "      <td>soccer</td>\n",
       "      <td>M</td>\n",
       "    </tr>\n",
       "    <tr>\n",
       "      <th>1</th>\n",
       "      <td>81</td>\n",
       "      <td>75</td>\n",
       "      <td>85</td>\n",
       "      <td>70</td>\n",
       "      <td>86</td>\n",
       "      <td>tennis</td>\n",
       "      <td>M</td>\n",
       "    </tr>\n",
       "    <tr>\n",
       "      <th>2</th>\n",
       "      <td>71</td>\n",
       "      <td>82</td>\n",
       "      <td>77</td>\n",
       "      <td>83</td>\n",
       "      <td>98</td>\n",
       "      <td>tennis</td>\n",
       "      <td>F</td>\n",
       "    </tr>\n",
       "    <tr>\n",
       "      <th>3</th>\n",
       "      <td>76</td>\n",
       "      <td>95</td>\n",
       "      <td>88</td>\n",
       "      <td>90</td>\n",
       "      <td>75</td>\n",
       "      <td>soccer</td>\n",
       "      <td>M</td>\n",
       "    </tr>\n",
       "    <tr>\n",
       "      <th>4</th>\n",
       "      <td>88</td>\n",
       "      <td>90</td>\n",
       "      <td>81</td>\n",
       "      <td>98</td>\n",
       "      <td>80</td>\n",
       "      <td>tennis</td>\n",
       "      <td>F</td>\n",
       "    </tr>\n",
       "  </tbody>\n",
       "</table>\n",
       "</div>"
      ],
      "text/plain": [
       "   math  eng  scie  art  hist    club sex\n",
       "0    75   81    82   78    79  soccer   M\n",
       "1    81   75    85   70    86  tennis   M\n",
       "2    71   82    77   83    98  tennis   F\n",
       "3    76   95    88   90    75  soccer   M\n",
       "4    88   90    81   98    80  tennis   F"
      ]
     },
     "execution_count": 73,
     "metadata": {},
     "output_type": "execute_result"
    }
   ],
   "source": [
    "np.random.seed(seed=1)\n",
    "scores = np.random.randint(70,100,size=25).reshape(5, 5)\n",
    "subs = ['math','eng','scie','art','hist']\n",
    "df = pd.DataFrame(scores, columns=subs)\n",
    "df['club'] = ['soccer','tennis','tennis','soccer','tennis']\n",
    "df['sex'] = list('MMFMF')\n",
    "df"
   ]
  },
  {
   "cell_type": "code",
   "execution_count": 74,
   "id": "e33fda18-59eb-430f-9afc-4b2746dc1816",
   "metadata": {},
   "outputs": [
    {
     "data": {
      "text/html": [
       "<div>\n",
       "<style scoped>\n",
       "    .dataframe tbody tr th:only-of-type {\n",
       "        vertical-align: middle;\n",
       "    }\n",
       "\n",
       "    .dataframe tbody tr th {\n",
       "        vertical-align: top;\n",
       "    }\n",
       "\n",
       "    .dataframe thead tr th {\n",
       "        text-align: left;\n",
       "    }\n",
       "\n",
       "    .dataframe thead tr:last-of-type th {\n",
       "        text-align: right;\n",
       "    }\n",
       "</style>\n",
       "<table border=\"1\" class=\"dataframe\">\n",
       "  <thead>\n",
       "    <tr>\n",
       "      <th></th>\n",
       "      <th colspan=\"2\" halign=\"left\">art</th>\n",
       "      <th colspan=\"2\" halign=\"left\">eng</th>\n",
       "      <th colspan=\"2\" halign=\"left\">hist</th>\n",
       "      <th colspan=\"2\" halign=\"left\">math</th>\n",
       "      <th colspan=\"2\" halign=\"left\">scie</th>\n",
       "    </tr>\n",
       "    <tr>\n",
       "      <th>sex</th>\n",
       "      <th>F</th>\n",
       "      <th>M</th>\n",
       "      <th>F</th>\n",
       "      <th>M</th>\n",
       "      <th>F</th>\n",
       "      <th>M</th>\n",
       "      <th>F</th>\n",
       "      <th>M</th>\n",
       "      <th>F</th>\n",
       "      <th>M</th>\n",
       "    </tr>\n",
       "    <tr>\n",
       "      <th>club</th>\n",
       "      <th></th>\n",
       "      <th></th>\n",
       "      <th></th>\n",
       "      <th></th>\n",
       "      <th></th>\n",
       "      <th></th>\n",
       "      <th></th>\n",
       "      <th></th>\n",
       "      <th></th>\n",
       "      <th></th>\n",
       "    </tr>\n",
       "  </thead>\n",
       "  <tbody>\n",
       "    <tr>\n",
       "      <th>soccer</th>\n",
       "      <td>NaN</td>\n",
       "      <td>84.0</td>\n",
       "      <td>NaN</td>\n",
       "      <td>88.0</td>\n",
       "      <td>NaN</td>\n",
       "      <td>77.0</td>\n",
       "      <td>NaN</td>\n",
       "      <td>75.5</td>\n",
       "      <td>NaN</td>\n",
       "      <td>85.0</td>\n",
       "    </tr>\n",
       "    <tr>\n",
       "      <th>tennis</th>\n",
       "      <td>90.5</td>\n",
       "      <td>70.0</td>\n",
       "      <td>86.0</td>\n",
       "      <td>75.0</td>\n",
       "      <td>89.0</td>\n",
       "      <td>86.0</td>\n",
       "      <td>79.5</td>\n",
       "      <td>81.0</td>\n",
       "      <td>79.0</td>\n",
       "      <td>85.0</td>\n",
       "    </tr>\n",
       "  </tbody>\n",
       "</table>\n",
       "</div>"
      ],
      "text/plain": [
       "         art         eng        hist        math        scie      \n",
       "sex        F     M     F     M     F     M     F     M     F     M\n",
       "club                                                              \n",
       "soccer   NaN  84.0   NaN  88.0   NaN  77.0   NaN  75.5   NaN  85.0\n",
       "tennis  90.5  70.0  86.0  75.0  89.0  86.0  79.5  81.0  79.0  85.0"
      ]
     },
     "execution_count": 74,
     "metadata": {},
     "output_type": "execute_result"
    }
   ],
   "source": [
    "pd.pivot_table(df, index='club', columns='sex', aggfunc=\"mean\")"
   ]
  },
  {
   "cell_type": "markdown",
   "id": "da378991-bade-47d0-b257-593d31e8c22c",
   "metadata": {},
   "source": [
    "4.51 在 index 参数中指定多个标签"
   ]
  },
  {
   "cell_type": "code",
   "execution_count": 75,
   "id": "a600e8d8-b9b7-40f8-be98-af05df81c3e4",
   "metadata": {},
   "outputs": [
    {
     "data": {
      "text/html": [
       "<div>\n",
       "<style scoped>\n",
       "    .dataframe tbody tr th:only-of-type {\n",
       "        vertical-align: middle;\n",
       "    }\n",
       "\n",
       "    .dataframe tbody tr th {\n",
       "        vertical-align: top;\n",
       "    }\n",
       "\n",
       "    .dataframe thead th {\n",
       "        text-align: right;\n",
       "    }\n",
       "</style>\n",
       "<table border=\"1\" class=\"dataframe\">\n",
       "  <thead>\n",
       "    <tr style=\"text-align: right;\">\n",
       "      <th></th>\n",
       "      <th></th>\n",
       "      <th>art</th>\n",
       "      <th>eng</th>\n",
       "      <th>hist</th>\n",
       "      <th>math</th>\n",
       "      <th>scie</th>\n",
       "    </tr>\n",
       "    <tr>\n",
       "      <th>sex</th>\n",
       "      <th>club</th>\n",
       "      <th></th>\n",
       "      <th></th>\n",
       "      <th></th>\n",
       "      <th></th>\n",
       "      <th></th>\n",
       "    </tr>\n",
       "  </thead>\n",
       "  <tbody>\n",
       "    <tr>\n",
       "      <th>F</th>\n",
       "      <th>tennis</th>\n",
       "      <td>90.5</td>\n",
       "      <td>86.0</td>\n",
       "      <td>89.0</td>\n",
       "      <td>79.5</td>\n",
       "      <td>79.0</td>\n",
       "    </tr>\n",
       "    <tr>\n",
       "      <th rowspan=\"2\" valign=\"top\">M</th>\n",
       "      <th>soccer</th>\n",
       "      <td>84.0</td>\n",
       "      <td>88.0</td>\n",
       "      <td>77.0</td>\n",
       "      <td>75.5</td>\n",
       "      <td>85.0</td>\n",
       "    </tr>\n",
       "    <tr>\n",
       "      <th>tennis</th>\n",
       "      <td>70.0</td>\n",
       "      <td>75.0</td>\n",
       "      <td>86.0</td>\n",
       "      <td>81.0</td>\n",
       "      <td>85.0</td>\n",
       "    </tr>\n",
       "  </tbody>\n",
       "</table>\n",
       "</div>"
      ],
      "text/plain": [
       "             art   eng  hist  math  scie\n",
       "sex club                                \n",
       "F   tennis  90.5  86.0  89.0  79.5  79.0\n",
       "M   soccer  84.0  88.0  77.0  75.5  85.0\n",
       "    tennis  70.0  75.0  86.0  81.0  85.0"
      ]
     },
     "execution_count": 75,
     "metadata": {},
     "output_type": "execute_result"
    }
   ],
   "source": [
    "pd.pivot_table(df, index=['sex','club'], aggfunc=\"mean\")"
   ]
  },
  {
   "cell_type": "markdown",
   "id": "b9d5222e-43e2-49e0-b512-c18db6e7b867",
   "metadata": {},
   "source": [
    "4.52 在 aggfunc 参数中指定多个 NumPy 数组的函数"
   ]
  },
  {
   "cell_type": "code",
   "execution_count": 76,
   "id": "c42b75cc-c35a-4231-8e32-61297362b0cb",
   "metadata": {},
   "outputs": [
    {
     "name": "stderr",
     "output_type": "stream",
     "text": [
      "C:\\Users\\liye\\AppData\\Local\\Temp\\ipykernel_7880\\2070052167.py:1: FutureWarning: The provided callable <function sum at 0x0000027B4E7C9DA0> is currently using DataFrameGroupBy.sum. In a future version of pandas, the provided callable will be used directly. To keep current behavior pass the string \"sum\" instead.\n",
      "  pd.pivot_table(\n",
      "C:\\Users\\liye\\AppData\\Local\\Temp\\ipykernel_7880\\2070052167.py:1: FutureWarning: The provided callable <function max at 0x0000027B4E7CA480> is currently using DataFrameGroupBy.max. In a future version of pandas, the provided callable will be used directly. To keep current behavior pass the string \"max\" instead.\n",
      "  pd.pivot_table(\n",
      "C:\\Users\\liye\\AppData\\Local\\Temp\\ipykernel_7880\\2070052167.py:1: FutureWarning: The provided callable <function min at 0x0000027B4E7CA5C0> is currently using DataFrameGroupBy.min. In a future version of pandas, the provided callable will be used directly. To keep current behavior pass the string \"min\" instead.\n",
      "  pd.pivot_table(\n"
     ]
    },
    {
     "data": {
      "text/html": [
       "<div>\n",
       "<style scoped>\n",
       "    .dataframe tbody tr th:only-of-type {\n",
       "        vertical-align: middle;\n",
       "    }\n",
       "\n",
       "    .dataframe tbody tr th {\n",
       "        vertical-align: top;\n",
       "    }\n",
       "\n",
       "    .dataframe thead tr th {\n",
       "        text-align: left;\n",
       "    }\n",
       "\n",
       "    .dataframe thead tr:last-of-type th {\n",
       "        text-align: right;\n",
       "    }\n",
       "</style>\n",
       "<table border=\"1\" class=\"dataframe\">\n",
       "  <thead>\n",
       "    <tr>\n",
       "      <th></th>\n",
       "      <th></th>\n",
       "      <th>sum</th>\n",
       "      <th>max</th>\n",
       "      <th>min</th>\n",
       "    </tr>\n",
       "    <tr>\n",
       "      <th></th>\n",
       "      <th></th>\n",
       "      <th>eng</th>\n",
       "      <th>eng</th>\n",
       "      <th>eng</th>\n",
       "    </tr>\n",
       "    <tr>\n",
       "      <th>sex</th>\n",
       "      <th>club</th>\n",
       "      <th></th>\n",
       "      <th></th>\n",
       "      <th></th>\n",
       "    </tr>\n",
       "  </thead>\n",
       "  <tbody>\n",
       "    <tr>\n",
       "      <th>F</th>\n",
       "      <th>tennis</th>\n",
       "      <td>172</td>\n",
       "      <td>90</td>\n",
       "      <td>82</td>\n",
       "    </tr>\n",
       "    <tr>\n",
       "      <th rowspan=\"2\" valign=\"top\">M</th>\n",
       "      <th>soccer</th>\n",
       "      <td>176</td>\n",
       "      <td>95</td>\n",
       "      <td>81</td>\n",
       "    </tr>\n",
       "    <tr>\n",
       "      <th>tennis</th>\n",
       "      <td>75</td>\n",
       "      <td>75</td>\n",
       "      <td>75</td>\n",
       "    </tr>\n",
       "  </tbody>\n",
       "</table>\n",
       "</div>"
      ],
      "text/plain": [
       "            sum max min\n",
       "            eng eng eng\n",
       "sex club               \n",
       "F   tennis  172  90  82\n",
       "M   soccer  176  95  81\n",
       "    tennis   75  75  75"
      ]
     },
     "execution_count": 76,
     "metadata": {},
     "output_type": "execute_result"
    }
   ],
   "source": [
    "pd.pivot_table(\n",
    "    df,\n",
    "    index=['sex','club'],\n",
    "    values='eng',\n",
    "    aggfunc=[np.sum,np.max,np.min])"
   ]
  },
  {
   "cell_type": "markdown",
   "id": "abac8ddb-1673-4e5c-9ac0-cddb373ec321",
   "metadata": {},
   "source": [
    "4.53 在 aggfunc 参数中指定字典"
   ]
  },
  {
   "cell_type": "code",
   "execution_count": 77,
   "id": "9351413d-99cf-454c-9379-c482bc89e73a",
   "metadata": {},
   "outputs": [
    {
     "name": "stderr",
     "output_type": "stream",
     "text": [
      "C:\\Users\\liye\\AppData\\Local\\Temp\\ipykernel_7880\\1437853706.py:1: FutureWarning: The provided callable <function max at 0x0000027B4E7CA480> is currently using SeriesGroupBy.max. In a future version of pandas, the provided callable will be used directly. To keep current behavior pass the string \"max\" instead.\n",
      "  pd.pivot_table(\n",
      "C:\\Users\\liye\\AppData\\Local\\Temp\\ipykernel_7880\\1437853706.py:1: FutureWarning: The provided callable <function mean at 0x0000027B4E7CAE80> is currently using SeriesGroupBy.mean. In a future version of pandas, the provided callable will be used directly. To keep current behavior pass the string \"mean\" instead.\n",
      "  pd.pivot_table(\n"
     ]
    },
    {
     "data": {
      "text/html": [
       "<div>\n",
       "<style scoped>\n",
       "    .dataframe tbody tr th:only-of-type {\n",
       "        vertical-align: middle;\n",
       "    }\n",
       "\n",
       "    .dataframe tbody tr th {\n",
       "        vertical-align: top;\n",
       "    }\n",
       "\n",
       "    .dataframe thead th {\n",
       "        text-align: right;\n",
       "    }\n",
       "</style>\n",
       "<table border=\"1\" class=\"dataframe\">\n",
       "  <thead>\n",
       "    <tr style=\"text-align: right;\">\n",
       "      <th></th>\n",
       "      <th></th>\n",
       "      <th>eng</th>\n",
       "      <th>math</th>\n",
       "    </tr>\n",
       "    <tr>\n",
       "      <th>sex</th>\n",
       "      <th>club</th>\n",
       "      <th></th>\n",
       "      <th></th>\n",
       "    </tr>\n",
       "  </thead>\n",
       "  <tbody>\n",
       "    <tr>\n",
       "      <th>F</th>\n",
       "      <th>tennis</th>\n",
       "      <td>90</td>\n",
       "      <td>79.5</td>\n",
       "    </tr>\n",
       "    <tr>\n",
       "      <th rowspan=\"2\" valign=\"top\">M</th>\n",
       "      <th>soccer</th>\n",
       "      <td>95</td>\n",
       "      <td>75.5</td>\n",
       "    </tr>\n",
       "    <tr>\n",
       "      <th>tennis</th>\n",
       "      <td>75</td>\n",
       "      <td>81.0</td>\n",
       "    </tr>\n",
       "  </tbody>\n",
       "</table>\n",
       "</div>"
      ],
      "text/plain": [
       "            eng  math\n",
       "sex club             \n",
       "F   tennis   90  79.5\n",
       "M   soccer   95  75.5\n",
       "    tennis   75  81.0"
      ]
     },
     "execution_count": 77,
     "metadata": {},
     "output_type": "execute_result"
    }
   ],
   "source": [
    "pd.pivot_table(\n",
    "    df,\n",
    "    index=['sex','club'],\n",
    "    aggfunc={'eng':np.max,'math':np.mean}\n",
    ")"
   ]
  },
  {
   "cell_type": "markdown",
   "id": "bfb5d611-13be-4a7e-8402-0915c747d58c",
   "metadata": {},
   "source": [
    "4.54 pivot_table 函数的 margins 参数"
   ]
  },
  {
   "cell_type": "code",
   "execution_count": 78,
   "id": "76440a20-835f-4c9d-8566-ce2b4cfb4b3a",
   "metadata": {},
   "outputs": [
    {
     "data": {
      "text/html": [
       "<div>\n",
       "<style scoped>\n",
       "    .dataframe tbody tr th:only-of-type {\n",
       "        vertical-align: middle;\n",
       "    }\n",
       "\n",
       "    .dataframe tbody tr th {\n",
       "        vertical-align: top;\n",
       "    }\n",
       "\n",
       "    .dataframe thead th {\n",
       "        text-align: right;\n",
       "    }\n",
       "</style>\n",
       "<table border=\"1\" class=\"dataframe\">\n",
       "  <thead>\n",
       "    <tr style=\"text-align: right;\">\n",
       "      <th></th>\n",
       "      <th>math</th>\n",
       "      <th>eng</th>\n",
       "      <th>scie</th>\n",
       "      <th>art</th>\n",
       "      <th>hist</th>\n",
       "      <th>club</th>\n",
       "      <th>sex</th>\n",
       "    </tr>\n",
       "  </thead>\n",
       "  <tbody>\n",
       "    <tr>\n",
       "      <th>0</th>\n",
       "      <td>75</td>\n",
       "      <td>81</td>\n",
       "      <td>82</td>\n",
       "      <td>78</td>\n",
       "      <td>79</td>\n",
       "      <td>soccer</td>\n",
       "      <td>M</td>\n",
       "    </tr>\n",
       "    <tr>\n",
       "      <th>1</th>\n",
       "      <td>81</td>\n",
       "      <td>75</td>\n",
       "      <td>85</td>\n",
       "      <td>70</td>\n",
       "      <td>86</td>\n",
       "      <td>tennis</td>\n",
       "      <td>M</td>\n",
       "    </tr>\n",
       "    <tr>\n",
       "      <th>2</th>\n",
       "      <td>71</td>\n",
       "      <td>82</td>\n",
       "      <td>77</td>\n",
       "      <td>83</td>\n",
       "      <td>98</td>\n",
       "      <td>tennis</td>\n",
       "      <td>F</td>\n",
       "    </tr>\n",
       "    <tr>\n",
       "      <th>3</th>\n",
       "      <td>76</td>\n",
       "      <td>95</td>\n",
       "      <td>88</td>\n",
       "      <td>90</td>\n",
       "      <td>75</td>\n",
       "      <td>soccer</td>\n",
       "      <td>M</td>\n",
       "    </tr>\n",
       "    <tr>\n",
       "      <th>4</th>\n",
       "      <td>88</td>\n",
       "      <td>90</td>\n",
       "      <td>81</td>\n",
       "      <td>98</td>\n",
       "      <td>80</td>\n",
       "      <td>tennis</td>\n",
       "      <td>F</td>\n",
       "    </tr>\n",
       "  </tbody>\n",
       "</table>\n",
       "</div>"
      ],
      "text/plain": [
       "   math  eng  scie  art  hist    club sex\n",
       "0    75   81    82   78    79  soccer   M\n",
       "1    81   75    85   70    86  tennis   M\n",
       "2    71   82    77   83    98  tennis   F\n",
       "3    76   95    88   90    75  soccer   M\n",
       "4    88   90    81   98    80  tennis   F"
      ]
     },
     "execution_count": 78,
     "metadata": {},
     "output_type": "execute_result"
    }
   ],
   "source": [
    "df"
   ]
  },
  {
   "cell_type": "code",
   "execution_count": 79,
   "id": "0d0aa1ca-643b-4d5c-8664-fdb10e56ef86",
   "metadata": {},
   "outputs": [
    {
     "name": "stderr",
     "output_type": "stream",
     "text": [
      "C:\\Users\\liye\\AppData\\Local\\Temp\\ipykernel_7880\\686022199.py:1: FutureWarning: The provided callable <function mean at 0x0000027B4E7CAE80> is currently using DataFrameGroupBy.mean. In a future version of pandas, the provided callable will be used directly. To keep current behavior pass the string \"mean\" instead.\n",
      "  pd.pivot_table(\n"
     ]
    },
    {
     "data": {
      "text/html": [
       "<div>\n",
       "<style scoped>\n",
       "    .dataframe tbody tr th:only-of-type {\n",
       "        vertical-align: middle;\n",
       "    }\n",
       "\n",
       "    .dataframe tbody tr th {\n",
       "        vertical-align: top;\n",
       "    }\n",
       "\n",
       "    .dataframe thead th {\n",
       "        text-align: right;\n",
       "    }\n",
       "</style>\n",
       "<table border=\"1\" class=\"dataframe\">\n",
       "  <thead>\n",
       "    <tr style=\"text-align: right;\">\n",
       "      <th></th>\n",
       "      <th>math</th>\n",
       "    </tr>\n",
       "    <tr>\n",
       "      <th>club</th>\n",
       "      <th></th>\n",
       "    </tr>\n",
       "  </thead>\n",
       "  <tbody>\n",
       "    <tr>\n",
       "      <th>soccer</th>\n",
       "      <td>75.5</td>\n",
       "    </tr>\n",
       "    <tr>\n",
       "      <th>tennis</th>\n",
       "      <td>80.0</td>\n",
       "    </tr>\n",
       "    <tr>\n",
       "      <th>All</th>\n",
       "      <td>78.2</td>\n",
       "    </tr>\n",
       "  </tbody>\n",
       "</table>\n",
       "</div>"
      ],
      "text/plain": [
       "        math\n",
       "club        \n",
       "soccer  75.5\n",
       "tennis  80.0\n",
       "All     78.2"
      ]
     },
     "execution_count": 79,
     "metadata": {},
     "output_type": "execute_result"
    }
   ],
   "source": [
    "pd.pivot_table(\n",
    "    df,\n",
    "    index='club',\n",
    "    values='math',\n",
    "    aggfunc=np.mean,\n",
    "    margins=True\n",
    ")"
   ]
  },
  {
   "cell_type": "markdown",
   "id": "face619f-0f71-49ce-b542-1c784309b9dc",
   "metadata": {},
   "source": [
    "4.55 pivot_table 函数的 margins 参数和 columns 参数"
   ]
  },
  {
   "cell_type": "code",
   "execution_count": 80,
   "id": "f309697d-c4fe-4077-a17d-4e121d56c6f1",
   "metadata": {},
   "outputs": [
    {
     "name": "stderr",
     "output_type": "stream",
     "text": [
      "C:\\Users\\liye\\AppData\\Local\\Temp\\ipykernel_7880\\1862611119.py:1: FutureWarning: The provided callable <function mean at 0x0000027B4E7CAE80> is currently using DataFrameGroupBy.mean. In a future version of pandas, the provided callable will be used directly. To keep current behavior pass the string \"mean\" instead.\n",
      "  pd.pivot_table(\n",
      "C:\\Users\\liye\\AppData\\Local\\Temp\\ipykernel_7880\\1862611119.py:1: FutureWarning: The provided callable <function mean at 0x0000027B4E7CAE80> is currently using DataFrameGroupBy.mean. In a future version of pandas, the provided callable will be used directly. To keep current behavior pass the string \"mean\" instead.\n",
      "  pd.pivot_table(\n",
      "C:\\Users\\liye\\AppData\\Local\\Temp\\ipykernel_7880\\1862611119.py:1: FutureWarning: The provided callable <function mean at 0x0000027B4E7CAE80> is currently using DataFrameGroupBy.mean. In a future version of pandas, the provided callable will be used directly. To keep current behavior pass the string \"mean\" instead.\n",
      "  pd.pivot_table(\n"
     ]
    },
    {
     "data": {
      "text/html": [
       "<div>\n",
       "<style scoped>\n",
       "    .dataframe tbody tr th:only-of-type {\n",
       "        vertical-align: middle;\n",
       "    }\n",
       "\n",
       "    .dataframe tbody tr th {\n",
       "        vertical-align: top;\n",
       "    }\n",
       "\n",
       "    .dataframe thead th {\n",
       "        text-align: right;\n",
       "    }\n",
       "</style>\n",
       "<table border=\"1\" class=\"dataframe\">\n",
       "  <thead>\n",
       "    <tr style=\"text-align: right;\">\n",
       "      <th>sex</th>\n",
       "      <th>F</th>\n",
       "      <th>M</th>\n",
       "      <th>All</th>\n",
       "    </tr>\n",
       "    <tr>\n",
       "      <th>club</th>\n",
       "      <th></th>\n",
       "      <th></th>\n",
       "      <th></th>\n",
       "    </tr>\n",
       "  </thead>\n",
       "  <tbody>\n",
       "    <tr>\n",
       "      <th>soccer</th>\n",
       "      <td>NaN</td>\n",
       "      <td>75.500000</td>\n",
       "      <td>75.5</td>\n",
       "    </tr>\n",
       "    <tr>\n",
       "      <th>tennis</th>\n",
       "      <td>79.5</td>\n",
       "      <td>81.000000</td>\n",
       "      <td>80.0</td>\n",
       "    </tr>\n",
       "    <tr>\n",
       "      <th>All</th>\n",
       "      <td>79.5</td>\n",
       "      <td>77.333333</td>\n",
       "      <td>78.2</td>\n",
       "    </tr>\n",
       "  </tbody>\n",
       "</table>\n",
       "</div>"
      ],
      "text/plain": [
       "sex        F          M   All\n",
       "club                         \n",
       "soccer   NaN  75.500000  75.5\n",
       "tennis  79.5  81.000000  80.0\n",
       "All     79.5  77.333333  78.2"
      ]
     },
     "execution_count": 80,
     "metadata": {},
     "output_type": "execute_result"
    }
   ],
   "source": [
    "pd.pivot_table(\n",
    "    df,\n",
    "    index='club',\n",
    "    columns='sex',\n",
    "    values='math',\n",
    "    aggfunc=np.mean,\n",
    "    margins=True\n",
    ")"
   ]
  },
  {
   "cell_type": "markdown",
   "id": "1cd83b47-17a8-4f3f-a5d1-ee0f5972c2c4",
   "metadata": {},
   "source": [
    "### 4.1.9 交叉表"
   ]
  },
  {
   "cell_type": "markdown",
   "id": "811436ec-c8c1-4127-a8e7-f121f4383b91",
   "metadata": {},
   "source": [
    "4.56 DataFrame 对象的创建"
   ]
  },
  {
   "cell_type": "code",
   "execution_count": 81,
   "id": "740d4c3b-4961-469e-88e7-2d85a8a79675",
   "metadata": {},
   "outputs": [
    {
     "data": {
      "text/html": [
       "<div>\n",
       "<style scoped>\n",
       "    .dataframe tbody tr th:only-of-type {\n",
       "        vertical-align: middle;\n",
       "    }\n",
       "\n",
       "    .dataframe tbody tr th {\n",
       "        vertical-align: top;\n",
       "    }\n",
       "\n",
       "    .dataframe thead th {\n",
       "        text-align: right;\n",
       "    }\n",
       "</style>\n",
       "<table border=\"1\" class=\"dataframe\">\n",
       "  <thead>\n",
       "    <tr style=\"text-align: right;\">\n",
       "      <th></th>\n",
       "      <th>sex</th>\n",
       "      <th>evaluation</th>\n",
       "      <th>city</th>\n",
       "      <th>division</th>\n",
       "    </tr>\n",
       "  </thead>\n",
       "  <tbody>\n",
       "    <tr>\n",
       "      <th>0</th>\n",
       "      <td>F</td>\n",
       "      <td>86</td>\n",
       "      <td>Sapporo</td>\n",
       "      <td>sales</td>\n",
       "    </tr>\n",
       "    <tr>\n",
       "      <th>1</th>\n",
       "      <td>F</td>\n",
       "      <td>71</td>\n",
       "      <td>Osaka</td>\n",
       "      <td>dev</td>\n",
       "    </tr>\n",
       "    <tr>\n",
       "      <th>2</th>\n",
       "      <td>M</td>\n",
       "      <td>82</td>\n",
       "      <td>Sapporo</td>\n",
       "      <td>dev</td>\n",
       "    </tr>\n",
       "    <tr>\n",
       "      <th>3</th>\n",
       "      <td>M</td>\n",
       "      <td>77</td>\n",
       "      <td>Tokyo</td>\n",
       "      <td>hr</td>\n",
       "    </tr>\n",
       "    <tr>\n",
       "      <th>4</th>\n",
       "      <td>F</td>\n",
       "      <td>83</td>\n",
       "      <td>Tokyo</td>\n",
       "      <td>hr</td>\n",
       "    </tr>\n",
       "    <tr>\n",
       "      <th>5</th>\n",
       "      <td>F</td>\n",
       "      <td>98</td>\n",
       "      <td>Sapporo</td>\n",
       "      <td>dev</td>\n",
       "    </tr>\n",
       "    <tr>\n",
       "      <th>6</th>\n",
       "      <td>F</td>\n",
       "      <td>76</td>\n",
       "      <td>Tokyo</td>\n",
       "      <td>marketing</td>\n",
       "    </tr>\n",
       "    <tr>\n",
       "      <th>7</th>\n",
       "      <td>F</td>\n",
       "      <td>95</td>\n",
       "      <td>Osaka</td>\n",
       "      <td>sales</td>\n",
       "    </tr>\n",
       "    <tr>\n",
       "      <th>8</th>\n",
       "      <td>F</td>\n",
       "      <td>88</td>\n",
       "      <td>Sapporo</td>\n",
       "      <td>marketing</td>\n",
       "    </tr>\n",
       "    <tr>\n",
       "      <th>9</th>\n",
       "      <td>M</td>\n",
       "      <td>90</td>\n",
       "      <td>Sapporo</td>\n",
       "      <td>hr</td>\n",
       "    </tr>\n",
       "  </tbody>\n",
       "</table>\n",
       "</div>"
      ],
      "text/plain": [
       "  sex  evaluation     city   division\n",
       "0   F          86  Sapporo      sales\n",
       "1   F          71    Osaka        dev\n",
       "2   M          82  Sapporo        dev\n",
       "3   M          77    Tokyo         hr\n",
       "4   F          83    Tokyo         hr\n",
       "5   F          98  Sapporo        dev\n",
       "6   F          76    Tokyo  marketing\n",
       "7   F          95    Osaka      sales\n",
       "8   F          88  Sapporo  marketing\n",
       "9   M          90  Sapporo         hr"
      ]
     },
     "execution_count": 81,
     "metadata": {},
     "output_type": "execute_result"
    }
   ],
   "source": [
    "np.random.seed(seed=1)\n",
    "sex = np.random.choice(['M','F'], size=10)\n",
    "eva = np.random.randint(70, 100, size=10)\n",
    "city = np.random.choice(['Tokyo','Osaka','Sapporo'], size=10)\n",
    "div = np.random.choice(['sales','hr','marketing','dev'], size=10)\n",
    "dic = {'sex':sex, 'evaluation':eva, 'city':city, 'division':div}\n",
    "df = pd.DataFrame(dic)\n",
    "df"
   ]
  },
  {
   "cell_type": "markdown",
   "id": "b993f6a0-de6a-423f-983d-d61e823efa03",
   "metadata": {},
   "source": [
    "4.57 crosstab 函数"
   ]
  },
  {
   "cell_type": "code",
   "execution_count": 82,
   "id": "a6fc33fa-14fa-4ae3-86c6-af59cb24d499",
   "metadata": {},
   "outputs": [
    {
     "data": {
      "text/html": [
       "<div>\n",
       "<style scoped>\n",
       "    .dataframe tbody tr th:only-of-type {\n",
       "        vertical-align: middle;\n",
       "    }\n",
       "\n",
       "    .dataframe tbody tr th {\n",
       "        vertical-align: top;\n",
       "    }\n",
       "\n",
       "    .dataframe thead th {\n",
       "        text-align: right;\n",
       "    }\n",
       "</style>\n",
       "<table border=\"1\" class=\"dataframe\">\n",
       "  <thead>\n",
       "    <tr style=\"text-align: right;\">\n",
       "      <th>city</th>\n",
       "      <th>Osaka</th>\n",
       "      <th>Sapporo</th>\n",
       "      <th>Tokyo</th>\n",
       "    </tr>\n",
       "    <tr>\n",
       "      <th>sex</th>\n",
       "      <th></th>\n",
       "      <th></th>\n",
       "      <th></th>\n",
       "    </tr>\n",
       "  </thead>\n",
       "  <tbody>\n",
       "    <tr>\n",
       "      <th>F</th>\n",
       "      <td>2</td>\n",
       "      <td>3</td>\n",
       "      <td>2</td>\n",
       "    </tr>\n",
       "    <tr>\n",
       "      <th>M</th>\n",
       "      <td>0</td>\n",
       "      <td>2</td>\n",
       "      <td>1</td>\n",
       "    </tr>\n",
       "  </tbody>\n",
       "</table>\n",
       "</div>"
      ],
      "text/plain": [
       "city  Osaka  Sapporo  Tokyo\n",
       "sex                        \n",
       "F         2        3      2\n",
       "M         0        2      1"
      ]
     },
     "execution_count": 82,
     "metadata": {},
     "output_type": "execute_result"
    }
   ],
   "source": [
    "pd.crosstab(index=df['sex'], columns=df['city'])"
   ]
  },
  {
   "cell_type": "markdown",
   "id": "7c1460fe-abbf-4f3d-8019-4f4c024c3bd0",
   "metadata": {},
   "source": [
    "4.58 crosstab 函数的 index 参数和 columns 参数"
   ]
  },
  {
   "cell_type": "code",
   "execution_count": 83,
   "id": "2ebbd100-b09f-48fa-911d-0390dd9921d1",
   "metadata": {},
   "outputs": [
    {
     "data": {
      "text/html": [
       "<div>\n",
       "<style scoped>\n",
       "    .dataframe tbody tr th:only-of-type {\n",
       "        vertical-align: middle;\n",
       "    }\n",
       "\n",
       "    .dataframe tbody tr th {\n",
       "        vertical-align: top;\n",
       "    }\n",
       "\n",
       "    .dataframe thead th {\n",
       "        text-align: right;\n",
       "    }\n",
       "</style>\n",
       "<table border=\"1\" class=\"dataframe\">\n",
       "  <thead>\n",
       "    <tr style=\"text-align: right;\">\n",
       "      <th></th>\n",
       "      <th>division</th>\n",
       "      <th>dev</th>\n",
       "      <th>hr</th>\n",
       "      <th>marketing</th>\n",
       "      <th>sales</th>\n",
       "    </tr>\n",
       "    <tr>\n",
       "      <th>sex</th>\n",
       "      <th>city</th>\n",
       "      <th></th>\n",
       "      <th></th>\n",
       "      <th></th>\n",
       "      <th></th>\n",
       "    </tr>\n",
       "  </thead>\n",
       "  <tbody>\n",
       "    <tr>\n",
       "      <th rowspan=\"3\" valign=\"top\">F</th>\n",
       "      <th>Osaka</th>\n",
       "      <td>1</td>\n",
       "      <td>0</td>\n",
       "      <td>0</td>\n",
       "      <td>1</td>\n",
       "    </tr>\n",
       "    <tr>\n",
       "      <th>Sapporo</th>\n",
       "      <td>1</td>\n",
       "      <td>0</td>\n",
       "      <td>1</td>\n",
       "      <td>1</td>\n",
       "    </tr>\n",
       "    <tr>\n",
       "      <th>Tokyo</th>\n",
       "      <td>0</td>\n",
       "      <td>1</td>\n",
       "      <td>1</td>\n",
       "      <td>0</td>\n",
       "    </tr>\n",
       "    <tr>\n",
       "      <th rowspan=\"2\" valign=\"top\">M</th>\n",
       "      <th>Sapporo</th>\n",
       "      <td>1</td>\n",
       "      <td>1</td>\n",
       "      <td>0</td>\n",
       "      <td>0</td>\n",
       "    </tr>\n",
       "    <tr>\n",
       "      <th>Tokyo</th>\n",
       "      <td>0</td>\n",
       "      <td>1</td>\n",
       "      <td>0</td>\n",
       "      <td>0</td>\n",
       "    </tr>\n",
       "  </tbody>\n",
       "</table>\n",
       "</div>"
      ],
      "text/plain": [
       "division     dev  hr  marketing  sales\n",
       "sex city                              \n",
       "F   Osaka      1   0          0      1\n",
       "    Sapporo    1   0          1      1\n",
       "    Tokyo      0   1          1      0\n",
       "M   Sapporo    1   1          0      0\n",
       "    Tokyo      0   1          0      0"
      ]
     },
     "execution_count": 83,
     "metadata": {},
     "output_type": "execute_result"
    }
   ],
   "source": [
    "pd.crosstab(index=[df['sex'], df['city']], columns=df['division'])"
   ]
  },
  {
   "cell_type": "markdown",
   "id": "e549aec7-779c-4b8c-b134-b2262c7d900c",
   "metadata": {},
   "source": [
    "4.59 crosstab 函数的 margins 参数"
   ]
  },
  {
   "cell_type": "code",
   "execution_count": 84,
   "id": "5868443f-ade7-4388-b5b9-c9ce1d1a9373",
   "metadata": {},
   "outputs": [
    {
     "data": {
      "text/html": [
       "<div>\n",
       "<style scoped>\n",
       "    .dataframe tbody tr th:only-of-type {\n",
       "        vertical-align: middle;\n",
       "    }\n",
       "\n",
       "    .dataframe tbody tr th {\n",
       "        vertical-align: top;\n",
       "    }\n",
       "\n",
       "    .dataframe thead th {\n",
       "        text-align: right;\n",
       "    }\n",
       "</style>\n",
       "<table border=\"1\" class=\"dataframe\">\n",
       "  <thead>\n",
       "    <tr style=\"text-align: right;\">\n",
       "      <th></th>\n",
       "      <th>division</th>\n",
       "      <th>dev</th>\n",
       "      <th>hr</th>\n",
       "      <th>marketing</th>\n",
       "      <th>sales</th>\n",
       "      <th>All</th>\n",
       "    </tr>\n",
       "    <tr>\n",
       "      <th>sex</th>\n",
       "      <th>city</th>\n",
       "      <th></th>\n",
       "      <th></th>\n",
       "      <th></th>\n",
       "      <th></th>\n",
       "      <th></th>\n",
       "    </tr>\n",
       "  </thead>\n",
       "  <tbody>\n",
       "    <tr>\n",
       "      <th rowspan=\"3\" valign=\"top\">F</th>\n",
       "      <th>Osaka</th>\n",
       "      <td>1</td>\n",
       "      <td>0</td>\n",
       "      <td>0</td>\n",
       "      <td>1</td>\n",
       "      <td>2</td>\n",
       "    </tr>\n",
       "    <tr>\n",
       "      <th>Sapporo</th>\n",
       "      <td>1</td>\n",
       "      <td>0</td>\n",
       "      <td>1</td>\n",
       "      <td>1</td>\n",
       "      <td>3</td>\n",
       "    </tr>\n",
       "    <tr>\n",
       "      <th>Tokyo</th>\n",
       "      <td>0</td>\n",
       "      <td>1</td>\n",
       "      <td>1</td>\n",
       "      <td>0</td>\n",
       "      <td>2</td>\n",
       "    </tr>\n",
       "    <tr>\n",
       "      <th rowspan=\"2\" valign=\"top\">M</th>\n",
       "      <th>Sapporo</th>\n",
       "      <td>1</td>\n",
       "      <td>1</td>\n",
       "      <td>0</td>\n",
       "      <td>0</td>\n",
       "      <td>2</td>\n",
       "    </tr>\n",
       "    <tr>\n",
       "      <th>Tokyo</th>\n",
       "      <td>0</td>\n",
       "      <td>1</td>\n",
       "      <td>0</td>\n",
       "      <td>0</td>\n",
       "      <td>1</td>\n",
       "    </tr>\n",
       "    <tr>\n",
       "      <th>All</th>\n",
       "      <th></th>\n",
       "      <td>3</td>\n",
       "      <td>3</td>\n",
       "      <td>2</td>\n",
       "      <td>2</td>\n",
       "      <td>10</td>\n",
       "    </tr>\n",
       "  </tbody>\n",
       "</table>\n",
       "</div>"
      ],
      "text/plain": [
       "division     dev  hr  marketing  sales  All\n",
       "sex city                                   \n",
       "F   Osaka      1   0          0      1    2\n",
       "    Sapporo    1   0          1      1    3\n",
       "    Tokyo      0   1          1      0    2\n",
       "M   Sapporo    1   1          0      0    2\n",
       "    Tokyo      0   1          0      0    1\n",
       "All            3   3          2      2   10"
      ]
     },
     "execution_count": 84,
     "metadata": {},
     "output_type": "execute_result"
    }
   ],
   "source": [
    "pd.crosstab(\n",
    "    index=[df['sex'], df['city']],\n",
    "    columns=df['division'],\n",
    "    margins=True\n",
    ")"
   ]
  },
  {
   "cell_type": "markdown",
   "id": "5af4fc75-dea1-4c07-9ec5-b25ab62f65b4",
   "metadata": {},
   "source": [
    "4.60 crosstab 函数的 aggfunc 参数"
   ]
  },
  {
   "cell_type": "code",
   "execution_count": 85,
   "id": "5e4febb2-3280-4bb2-953f-4fef376d755d",
   "metadata": {},
   "outputs": [
    {
     "name": "stderr",
     "output_type": "stream",
     "text": [
      "C:\\Users\\liye\\AppData\\Local\\Temp\\ipykernel_7880\\2884739531.py:1: FutureWarning: The provided callable <function mean at 0x0000027B4E7CAE80> is currently using DataFrameGroupBy.mean. In a future version of pandas, the provided callable will be used directly. To keep current behavior pass the string \"mean\" instead.\n",
      "  pd.crosstab(\n"
     ]
    },
    {
     "data": {
      "text/html": [
       "<div>\n",
       "<style scoped>\n",
       "    .dataframe tbody tr th:only-of-type {\n",
       "        vertical-align: middle;\n",
       "    }\n",
       "\n",
       "    .dataframe tbody tr th {\n",
       "        vertical-align: top;\n",
       "    }\n",
       "\n",
       "    .dataframe thead th {\n",
       "        text-align: right;\n",
       "    }\n",
       "</style>\n",
       "<table border=\"1\" class=\"dataframe\">\n",
       "  <thead>\n",
       "    <tr style=\"text-align: right;\">\n",
       "      <th>city</th>\n",
       "      <th>Osaka</th>\n",
       "      <th>Sapporo</th>\n",
       "      <th>Tokyo</th>\n",
       "    </tr>\n",
       "    <tr>\n",
       "      <th>sex</th>\n",
       "      <th></th>\n",
       "      <th></th>\n",
       "      <th></th>\n",
       "    </tr>\n",
       "  </thead>\n",
       "  <tbody>\n",
       "    <tr>\n",
       "      <th>F</th>\n",
       "      <td>83.0</td>\n",
       "      <td>90.666667</td>\n",
       "      <td>79.5</td>\n",
       "    </tr>\n",
       "    <tr>\n",
       "      <th>M</th>\n",
       "      <td>NaN</td>\n",
       "      <td>86.000000</td>\n",
       "      <td>77.0</td>\n",
       "    </tr>\n",
       "  </tbody>\n",
       "</table>\n",
       "</div>"
      ],
      "text/plain": [
       "city  Osaka    Sapporo  Tokyo\n",
       "sex                          \n",
       "F      83.0  90.666667   79.5\n",
       "M       NaN  86.000000   77.0"
      ]
     },
     "execution_count": 85,
     "metadata": {},
     "output_type": "execute_result"
    }
   ],
   "source": [
    "pd.crosstab(\n",
    "    index=df['sex'],\n",
    "    columns=df['city'],\n",
    "    values=df['evaluation'],\n",
    "    aggfunc=np.mean\n",
    ")"
   ]
  },
  {
   "cell_type": "markdown",
   "id": "5f265256-3543-4c64-b500-8cdf078a64b1",
   "metadata": {},
   "source": [
    "## 4.2 数据的排序"
   ]
  },
  {
   "cell_type": "markdown",
   "id": "224eac0a-1a7a-4606-ba67-0e05ab1665aa",
   "metadata": {},
   "source": [
    "### 4.2.1 基于标签的排序"
   ]
  },
  {
   "cell_type": "markdown",
   "id": "cd7d69ff-c170-4027-b251-303b4c6edae1",
   "metadata": {},
   "source": [
    "4.61 Series 类的 sort_index 方法"
   ]
  },
  {
   "cell_type": "code",
   "execution_count": 86,
   "id": "e6cfcf5c-ba2d-4686-9667-75ba7f227cbe",
   "metadata": {},
   "outputs": [
    {
     "data": {
      "text/plain": [
       "a    5\n",
       "b    9\n",
       "c    1\n",
       "d    0\n",
       "e    3\n",
       "dtype: int64"
      ]
     },
     "execution_count": 86,
     "metadata": {},
     "output_type": "execute_result"
    }
   ],
   "source": [
    "ser = pd.Series([5,1,0,9,3],index=list('acdbe'))\n",
    "ser.sort_index()"
   ]
  },
  {
   "cell_type": "markdown",
   "id": "c0a62d41-d055-4269-ad01-ad01d5959cb3",
   "metadata": {},
   "source": [
    "4.62 sort_index 方法的 ascending 参数"
   ]
  },
  {
   "cell_type": "code",
   "execution_count": 87,
   "id": "019a77c3-7221-401f-952a-dae5140b514b",
   "metadata": {},
   "outputs": [
    {
     "data": {
      "text/plain": [
       "e    3\n",
       "d    0\n",
       "c    1\n",
       "b    9\n",
       "a    5\n",
       "dtype: int64"
      ]
     },
     "execution_count": 87,
     "metadata": {},
     "output_type": "execute_result"
    }
   ],
   "source": [
    "ser = pd.Series([5,1,0,9,3],index=list('acdbe'))\n",
    "ser.sort_index(ascending=False)"
   ]
  },
  {
   "cell_type": "markdown",
   "id": "513efe06-1080-4353-bb45-bea07164b36c",
   "metadata": {},
   "source": [
    "4.63 DataFrame 对象的创建"
   ]
  },
  {
   "cell_type": "code",
   "execution_count": 88,
   "id": "5adffbba-ec56-41b8-93a0-d06c1bd77b9e",
   "metadata": {},
   "outputs": [
    {
     "data": {
      "text/html": [
       "<div>\n",
       "<style scoped>\n",
       "    .dataframe tbody tr th:only-of-type {\n",
       "        vertical-align: middle;\n",
       "    }\n",
       "\n",
       "    .dataframe tbody tr th {\n",
       "        vertical-align: top;\n",
       "    }\n",
       "\n",
       "    .dataframe thead th {\n",
       "        text-align: right;\n",
       "    }\n",
       "</style>\n",
       "<table border=\"1\" class=\"dataframe\">\n",
       "  <thead>\n",
       "    <tr style=\"text-align: right;\">\n",
       "      <th></th>\n",
       "      <th>c</th>\n",
       "      <th>b</th>\n",
       "      <th>a</th>\n",
       "    </tr>\n",
       "  </thead>\n",
       "  <tbody>\n",
       "    <tr>\n",
       "      <th>2</th>\n",
       "      <td>5</td>\n",
       "      <td>8</td>\n",
       "      <td>9</td>\n",
       "    </tr>\n",
       "    <tr>\n",
       "      <th>0</th>\n",
       "      <td>5</td>\n",
       "      <td>0</td>\n",
       "      <td>0</td>\n",
       "    </tr>\n",
       "    <tr>\n",
       "      <th>1</th>\n",
       "      <td>1</td>\n",
       "      <td>7</td>\n",
       "      <td>6</td>\n",
       "    </tr>\n",
       "  </tbody>\n",
       "</table>\n",
       "</div>"
      ],
      "text/plain": [
       "   c  b  a\n",
       "2  5  8  9\n",
       "0  5  0  0\n",
       "1  1  7  6"
      ]
     },
     "execution_count": 88,
     "metadata": {},
     "output_type": "execute_result"
    }
   ],
   "source": [
    "np.random.seed(seed=1)\n",
    "val = np.random.randint(0,10,size=9,).reshape(3,3)\n",
    "df = pd.DataFrame(val, index=[2,0,1],columns=list('cba'))\n",
    "df"
   ]
  },
  {
   "cell_type": "markdown",
   "id": "39c96416-db78-40a1-9a46-b91ee72881cd",
   "metadata": {},
   "source": [
    "4.64 sort_index 方法的 axis 参数"
   ]
  },
  {
   "cell_type": "code",
   "execution_count": 89,
   "id": "e95be5cd-a9c4-43ae-be08-d4639e9716a6",
   "metadata": {},
   "outputs": [
    {
     "data": {
      "text/html": [
       "<div>\n",
       "<style scoped>\n",
       "    .dataframe tbody tr th:only-of-type {\n",
       "        vertical-align: middle;\n",
       "    }\n",
       "\n",
       "    .dataframe tbody tr th {\n",
       "        vertical-align: top;\n",
       "    }\n",
       "\n",
       "    .dataframe thead th {\n",
       "        text-align: right;\n",
       "    }\n",
       "</style>\n",
       "<table border=\"1\" class=\"dataframe\">\n",
       "  <thead>\n",
       "    <tr style=\"text-align: right;\">\n",
       "      <th></th>\n",
       "      <th>c</th>\n",
       "      <th>b</th>\n",
       "      <th>a</th>\n",
       "    </tr>\n",
       "  </thead>\n",
       "  <tbody>\n",
       "    <tr>\n",
       "      <th>0</th>\n",
       "      <td>5</td>\n",
       "      <td>0</td>\n",
       "      <td>0</td>\n",
       "    </tr>\n",
       "    <tr>\n",
       "      <th>1</th>\n",
       "      <td>1</td>\n",
       "      <td>7</td>\n",
       "      <td>6</td>\n",
       "    </tr>\n",
       "    <tr>\n",
       "      <th>2</th>\n",
       "      <td>5</td>\n",
       "      <td>8</td>\n",
       "      <td>9</td>\n",
       "    </tr>\n",
       "  </tbody>\n",
       "</table>\n",
       "</div>"
      ],
      "text/plain": [
       "   c  b  a\n",
       "0  5  0  0\n",
       "1  1  7  6\n",
       "2  5  8  9"
      ]
     },
     "execution_count": 89,
     "metadata": {},
     "output_type": "execute_result"
    }
   ],
   "source": [
    "df.sort_index(axis=0)"
   ]
  },
  {
   "cell_type": "code",
   "execution_count": 90,
   "id": "a6dad381-b47f-44e0-a11e-b9e9771e7591",
   "metadata": {},
   "outputs": [
    {
     "data": {
      "text/html": [
       "<div>\n",
       "<style scoped>\n",
       "    .dataframe tbody tr th:only-of-type {\n",
       "        vertical-align: middle;\n",
       "    }\n",
       "\n",
       "    .dataframe tbody tr th {\n",
       "        vertical-align: top;\n",
       "    }\n",
       "\n",
       "    .dataframe thead th {\n",
       "        text-align: right;\n",
       "    }\n",
       "</style>\n",
       "<table border=\"1\" class=\"dataframe\">\n",
       "  <thead>\n",
       "    <tr style=\"text-align: right;\">\n",
       "      <th></th>\n",
       "      <th>a</th>\n",
       "      <th>b</th>\n",
       "      <th>c</th>\n",
       "    </tr>\n",
       "  </thead>\n",
       "  <tbody>\n",
       "    <tr>\n",
       "      <th>2</th>\n",
       "      <td>9</td>\n",
       "      <td>8</td>\n",
       "      <td>5</td>\n",
       "    </tr>\n",
       "    <tr>\n",
       "      <th>0</th>\n",
       "      <td>0</td>\n",
       "      <td>0</td>\n",
       "      <td>5</td>\n",
       "    </tr>\n",
       "    <tr>\n",
       "      <th>1</th>\n",
       "      <td>6</td>\n",
       "      <td>7</td>\n",
       "      <td>1</td>\n",
       "    </tr>\n",
       "  </tbody>\n",
       "</table>\n",
       "</div>"
      ],
      "text/plain": [
       "   a  b  c\n",
       "2  9  8  5\n",
       "0  0  0  5\n",
       "1  6  7  1"
      ]
     },
     "execution_count": 90,
     "metadata": {},
     "output_type": "execute_result"
    }
   ],
   "source": [
    "df.sort_index(axis=1)"
   ]
  },
  {
   "cell_type": "markdown",
   "id": "9d992826-2c78-4f33-beeb-7f5d3b2eca5d",
   "metadata": {},
   "source": [
    "4.65 为索引标签添加缺失值"
   ]
  },
  {
   "cell_type": "code",
   "execution_count": 91,
   "id": "160fd56b-d477-4c58-823d-1138a2118411",
   "metadata": {},
   "outputs": [
    {
     "data": {
      "text/html": [
       "<div>\n",
       "<style scoped>\n",
       "    .dataframe tbody tr th:only-of-type {\n",
       "        vertical-align: middle;\n",
       "    }\n",
       "\n",
       "    .dataframe tbody tr th {\n",
       "        vertical-align: top;\n",
       "    }\n",
       "\n",
       "    .dataframe thead th {\n",
       "        text-align: right;\n",
       "    }\n",
       "</style>\n",
       "<table border=\"1\" class=\"dataframe\">\n",
       "  <thead>\n",
       "    <tr style=\"text-align: right;\">\n",
       "      <th></th>\n",
       "      <th>c</th>\n",
       "      <th>b</th>\n",
       "      <th>a</th>\n",
       "    </tr>\n",
       "  </thead>\n",
       "  <tbody>\n",
       "    <tr>\n",
       "      <th>2.0</th>\n",
       "      <td>5</td>\n",
       "      <td>8</td>\n",
       "      <td>9</td>\n",
       "    </tr>\n",
       "    <tr>\n",
       "      <th>NaN</th>\n",
       "      <td>5</td>\n",
       "      <td>0</td>\n",
       "      <td>0</td>\n",
       "    </tr>\n",
       "    <tr>\n",
       "      <th>1.0</th>\n",
       "      <td>1</td>\n",
       "      <td>7</td>\n",
       "      <td>6</td>\n",
       "    </tr>\n",
       "  </tbody>\n",
       "</table>\n",
       "</div>"
      ],
      "text/plain": [
       "     c  b  a\n",
       "2.0  5  8  9\n",
       "NaN  5  0  0\n",
       "1.0  1  7  6"
      ]
     },
     "execution_count": 91,
     "metadata": {},
     "output_type": "execute_result"
    }
   ],
   "source": [
    "df.index = [2,np.nan,1]\n",
    "df"
   ]
  },
  {
   "cell_type": "markdown",
   "id": "10d435b0-229c-4a56-9ccf-c48ba8064682",
   "metadata": {},
   "source": [
    "4.66 sort_index 方法的 na_position 参数"
   ]
  },
  {
   "cell_type": "code",
   "execution_count": 92,
   "id": "32ab0805-3d04-45db-853f-b062cd902929",
   "metadata": {},
   "outputs": [
    {
     "data": {
      "text/html": [
       "<div>\n",
       "<style scoped>\n",
       "    .dataframe tbody tr th:only-of-type {\n",
       "        vertical-align: middle;\n",
       "    }\n",
       "\n",
       "    .dataframe tbody tr th {\n",
       "        vertical-align: top;\n",
       "    }\n",
       "\n",
       "    .dataframe thead th {\n",
       "        text-align: right;\n",
       "    }\n",
       "</style>\n",
       "<table border=\"1\" class=\"dataframe\">\n",
       "  <thead>\n",
       "    <tr style=\"text-align: right;\">\n",
       "      <th></th>\n",
       "      <th>c</th>\n",
       "      <th>b</th>\n",
       "      <th>a</th>\n",
       "    </tr>\n",
       "  </thead>\n",
       "  <tbody>\n",
       "    <tr>\n",
       "      <th>NaN</th>\n",
       "      <td>5</td>\n",
       "      <td>0</td>\n",
       "      <td>0</td>\n",
       "    </tr>\n",
       "    <tr>\n",
       "      <th>1.0</th>\n",
       "      <td>1</td>\n",
       "      <td>7</td>\n",
       "      <td>6</td>\n",
       "    </tr>\n",
       "    <tr>\n",
       "      <th>2.0</th>\n",
       "      <td>5</td>\n",
       "      <td>8</td>\n",
       "      <td>9</td>\n",
       "    </tr>\n",
       "  </tbody>\n",
       "</table>\n",
       "</div>"
      ],
      "text/plain": [
       "     c  b  a\n",
       "NaN  5  0  0\n",
       "1.0  1  7  6\n",
       "2.0  5  8  9"
      ]
     },
     "execution_count": 92,
     "metadata": {},
     "output_type": "execute_result"
    }
   ],
   "source": [
    "df.sort_index(na_position='first')"
   ]
  },
  {
   "cell_type": "markdown",
   "id": "ae6c577f-3237-4b3a-923c-5cb5df65b07b",
   "metadata": {},
   "source": [
    "### 4.2.2 基于元素的排序"
   ]
  },
  {
   "cell_type": "markdown",
   "id": "48e3c9c5-2145-4eda-a041-2b43b99754eb",
   "metadata": {},
   "source": [
    "4.67 Series 类的 sort_values 方法"
   ]
  },
  {
   "cell_type": "code",
   "execution_count": 93,
   "id": "5f2786a2-e606-4928-bd8f-cf9d45b3ffd1",
   "metadata": {},
   "outputs": [
    {
     "data": {
      "text/plain": [
       "2    0\n",
       "1    1\n",
       "4    2\n",
       "3    3\n",
       "0    4\n",
       "dtype: int64"
      ]
     },
     "execution_count": 93,
     "metadata": {},
     "output_type": "execute_result"
    }
   ],
   "source": [
    "ser = pd.Series([4,1,0,3,2])\n",
    "ser.sort_values()"
   ]
  },
  {
   "cell_type": "markdown",
   "id": "fb1f568c-8aa6-4e87-ac6a-f2c9c41938e0",
   "metadata": {},
   "source": [
    "4.68 sort_values 方法的 ascending 参数"
   ]
  },
  {
   "cell_type": "code",
   "execution_count": 94,
   "id": "66fb1e2d-59d5-46f7-a114-324c5151961b",
   "metadata": {},
   "outputs": [
    {
     "data": {
      "text/plain": [
       "4    p\n",
       "1    n\n",
       "2    m\n",
       "0    f\n",
       "3    d\n",
       "dtype: object"
      ]
     },
     "execution_count": 94,
     "metadata": {},
     "output_type": "execute_result"
    }
   ],
   "source": [
    "ser = pd.Series(list(\"fnmdp\"))\n",
    "ser.sort_values(ascending=False)"
   ]
  },
  {
   "cell_type": "markdown",
   "id": "25b75474-b4f2-40c5-b36c-e4910574e21f",
   "metadata": {},
   "source": [
    "4.69 DataFrame 对象的创建"
   ]
  },
  {
   "cell_type": "code",
   "execution_count": 95,
   "id": "d9b7c4e9-c9f6-4cbb-ad55-d64f844a03fe",
   "metadata": {},
   "outputs": [
    {
     "data": {
      "text/html": [
       "<div>\n",
       "<style scoped>\n",
       "    .dataframe tbody tr th:only-of-type {\n",
       "        vertical-align: middle;\n",
       "    }\n",
       "\n",
       "    .dataframe tbody tr th {\n",
       "        vertical-align: top;\n",
       "    }\n",
       "\n",
       "    .dataframe thead th {\n",
       "        text-align: right;\n",
       "    }\n",
       "</style>\n",
       "<table border=\"1\" class=\"dataframe\">\n",
       "  <thead>\n",
       "    <tr style=\"text-align: right;\">\n",
       "      <th></th>\n",
       "      <th>math</th>\n",
       "      <th>eng</th>\n",
       "      <th>chem</th>\n",
       "      <th>phys</th>\n",
       "    </tr>\n",
       "  </thead>\n",
       "  <tbody>\n",
       "    <tr>\n",
       "      <th>0</th>\n",
       "      <td>79</td>\n",
       "      <td>99</td>\n",
       "      <td>74</td>\n",
       "      <td>85</td>\n",
       "    </tr>\n",
       "    <tr>\n",
       "      <th>1</th>\n",
       "      <td>70</td>\n",
       "      <td>87</td>\n",
       "      <td>97</td>\n",
       "      <td>98</td>\n",
       "    </tr>\n",
       "    <tr>\n",
       "      <th>2</th>\n",
       "      <td>95</td>\n",
       "      <td>99</td>\n",
       "      <td>86</td>\n",
       "      <td>99</td>\n",
       "    </tr>\n",
       "    <tr>\n",
       "      <th>3</th>\n",
       "      <td>87</td>\n",
       "      <td>96</td>\n",
       "      <td>78</td>\n",
       "      <td>79</td>\n",
       "    </tr>\n",
       "    <tr>\n",
       "      <th>4</th>\n",
       "      <td>70</td>\n",
       "      <td>80</td>\n",
       "      <td>78</td>\n",
       "      <td>92</td>\n",
       "    </tr>\n",
       "  </tbody>\n",
       "</table>\n",
       "</div>"
      ],
      "text/plain": [
       "   math  eng  chem  phys\n",
       "0    79   99    74    85\n",
       "1    70   87    97    98\n",
       "2    95   99    86    99\n",
       "3    87   96    78    79\n",
       "4    70   80    78    92"
      ]
     },
     "execution_count": 95,
     "metadata": {},
     "output_type": "execute_result"
    }
   ],
   "source": [
    "np.random.seed(seed=10)\n",
    "scores = np.random.randint(70,100,size=20,).reshape(5,4)\n",
    "df = pd.DataFrame(scores, columns=['math','eng','chem','phys'])\n",
    "df"
   ]
  },
  {
   "cell_type": "markdown",
   "id": "86dce1cc-17a2-49e4-8c25-36a7dd8af65b",
   "metadata": {},
   "source": [
    "4.70 DataFrame 类的 sort_values 方法的 by 参数"
   ]
  },
  {
   "cell_type": "code",
   "execution_count": 96,
   "id": "b37d4346-5d5d-4377-afaa-03c0ba1a5cab",
   "metadata": {},
   "outputs": [
    {
     "data": {
      "text/html": [
       "<div>\n",
       "<style scoped>\n",
       "    .dataframe tbody tr th:only-of-type {\n",
       "        vertical-align: middle;\n",
       "    }\n",
       "\n",
       "    .dataframe tbody tr th {\n",
       "        vertical-align: top;\n",
       "    }\n",
       "\n",
       "    .dataframe thead th {\n",
       "        text-align: right;\n",
       "    }\n",
       "</style>\n",
       "<table border=\"1\" class=\"dataframe\">\n",
       "  <thead>\n",
       "    <tr style=\"text-align: right;\">\n",
       "      <th></th>\n",
       "      <th>math</th>\n",
       "      <th>eng</th>\n",
       "      <th>chem</th>\n",
       "      <th>phys</th>\n",
       "    </tr>\n",
       "  </thead>\n",
       "  <tbody>\n",
       "    <tr>\n",
       "      <th>1</th>\n",
       "      <td>70</td>\n",
       "      <td>87</td>\n",
       "      <td>97</td>\n",
       "      <td>98</td>\n",
       "    </tr>\n",
       "    <tr>\n",
       "      <th>4</th>\n",
       "      <td>70</td>\n",
       "      <td>80</td>\n",
       "      <td>78</td>\n",
       "      <td>92</td>\n",
       "    </tr>\n",
       "    <tr>\n",
       "      <th>0</th>\n",
       "      <td>79</td>\n",
       "      <td>99</td>\n",
       "      <td>74</td>\n",
       "      <td>85</td>\n",
       "    </tr>\n",
       "    <tr>\n",
       "      <th>3</th>\n",
       "      <td>87</td>\n",
       "      <td>96</td>\n",
       "      <td>78</td>\n",
       "      <td>79</td>\n",
       "    </tr>\n",
       "    <tr>\n",
       "      <th>2</th>\n",
       "      <td>95</td>\n",
       "      <td>99</td>\n",
       "      <td>86</td>\n",
       "      <td>99</td>\n",
       "    </tr>\n",
       "  </tbody>\n",
       "</table>\n",
       "</div>"
      ],
      "text/plain": [
       "   math  eng  chem  phys\n",
       "1    70   87    97    98\n",
       "4    70   80    78    92\n",
       "0    79   99    74    85\n",
       "3    87   96    78    79\n",
       "2    95   99    86    99"
      ]
     },
     "execution_count": 96,
     "metadata": {},
     "output_type": "execute_result"
    }
   ],
   "source": [
    "df.sort_values(by='math')"
   ]
  },
  {
   "cell_type": "markdown",
   "id": "f23ae1c3-88f0-4f5a-a90e-3a8a4f6bde95",
   "metadata": {},
   "source": [
    "4.71 使用 sort_values 方法的 by 参数指定多个列"
   ]
  },
  {
   "cell_type": "markdown",
   "id": "bf801645-1798-478e-98f0-112321e2f880",
   "metadata": {},
   "source": [
    "df.sort_values(by=['math','eng'])"
   ]
  },
  {
   "cell_type": "markdown",
   "id": "327f9623-9ca5-45f5-985b-dd4353cafded",
   "metadata": {},
   "source": [
    "4.72 sort_values 方法的 inplace 参数"
   ]
  },
  {
   "cell_type": "code",
   "execution_count": 97,
   "id": "dd2f204c-e80a-417a-b88b-de6022273f79",
   "metadata": {},
   "outputs": [
    {
     "data": {
      "text/html": [
       "<div>\n",
       "<style scoped>\n",
       "    .dataframe tbody tr th:only-of-type {\n",
       "        vertical-align: middle;\n",
       "    }\n",
       "\n",
       "    .dataframe tbody tr th {\n",
       "        vertical-align: top;\n",
       "    }\n",
       "\n",
       "    .dataframe thead th {\n",
       "        text-align: right;\n",
       "    }\n",
       "</style>\n",
       "<table border=\"1\" class=\"dataframe\">\n",
       "  <thead>\n",
       "    <tr style=\"text-align: right;\">\n",
       "      <th></th>\n",
       "      <th>math</th>\n",
       "      <th>eng</th>\n",
       "      <th>chem</th>\n",
       "      <th>phys</th>\n",
       "    </tr>\n",
       "  </thead>\n",
       "  <tbody>\n",
       "    <tr>\n",
       "      <th>2</th>\n",
       "      <td>95</td>\n",
       "      <td>99</td>\n",
       "      <td>86</td>\n",
       "      <td>99</td>\n",
       "    </tr>\n",
       "    <tr>\n",
       "      <th>1</th>\n",
       "      <td>70</td>\n",
       "      <td>87</td>\n",
       "      <td>97</td>\n",
       "      <td>98</td>\n",
       "    </tr>\n",
       "    <tr>\n",
       "      <th>4</th>\n",
       "      <td>70</td>\n",
       "      <td>80</td>\n",
       "      <td>78</td>\n",
       "      <td>92</td>\n",
       "    </tr>\n",
       "    <tr>\n",
       "      <th>0</th>\n",
       "      <td>79</td>\n",
       "      <td>99</td>\n",
       "      <td>74</td>\n",
       "      <td>85</td>\n",
       "    </tr>\n",
       "    <tr>\n",
       "      <th>3</th>\n",
       "      <td>87</td>\n",
       "      <td>96</td>\n",
       "      <td>78</td>\n",
       "      <td>79</td>\n",
       "    </tr>\n",
       "  </tbody>\n",
       "</table>\n",
       "</div>"
      ],
      "text/plain": [
       "   math  eng  chem  phys\n",
       "2    95   99    86    99\n",
       "1    70   87    97    98\n",
       "4    70   80    78    92\n",
       "0    79   99    74    85\n",
       "3    87   96    78    79"
      ]
     },
     "execution_count": 97,
     "metadata": {},
     "output_type": "execute_result"
    }
   ],
   "source": [
    "df.sort_values(by='phys', ascending=False, inplace=True)\n",
    "df"
   ]
  },
  {
   "cell_type": "markdown",
   "id": "7e9d61ca-f42d-46ba-a2e6-4c257678c81f",
   "metadata": {},
   "source": [
    "4.73 Series 类的 nlargest 方法"
   ]
  },
  {
   "cell_type": "code",
   "execution_count": 98,
   "id": "5586fbf1-a8b0-4eb9-ad2a-d65db44ce1b7",
   "metadata": {},
   "outputs": [
    {
     "data": {
      "text/plain": [
       "2    99\n",
       "0    99\n",
       "3    96\n",
       "Name: eng, dtype: int32"
      ]
     },
     "execution_count": 98,
     "metadata": {},
     "output_type": "execute_result"
    }
   ],
   "source": [
    "df['eng'].nlargest(3)"
   ]
  },
  {
   "cell_type": "markdown",
   "id": "90235421-7cb7-4319-9c54-fa977b0fb8d6",
   "metadata": {},
   "source": [
    "4.74 Series 类的 nsmallest 方法"
   ]
  },
  {
   "cell_type": "code",
   "execution_count": 99,
   "id": "cc93b577-d617-4858-a011-f513db4cf272",
   "metadata": {},
   "outputs": [
    {
     "data": {
      "text/plain": [
       "3    79\n",
       "0    85\n",
       "4    92\n",
       "Name: phys, dtype: int32"
      ]
     },
     "execution_count": 99,
     "metadata": {},
     "output_type": "execute_result"
    }
   ],
   "source": [
    "df['phys'].nsmallest(3)"
   ]
  },
  {
   "cell_type": "code",
   "execution_count": 100,
   "id": "154cfada-188f-49ba-8808-13fbbed95867",
   "metadata": {},
   "outputs": [
    {
     "data": {
      "text/plain": [
       "3    79\n",
       "0    85\n",
       "4    92\n",
       "Name: phys, dtype: int32"
      ]
     },
     "execution_count": 100,
     "metadata": {},
     "output_type": "execute_result"
    }
   ],
   "source": [
    "df['phys'].sort_values().head(3)"
   ]
  },
  {
   "cell_type": "markdown",
   "id": "7a75bd94-b2ea-4826-81e6-0806c625108c",
   "metadata": {},
   "source": [
    "4.75 DataFrame 类的 nlargest 方法"
   ]
  },
  {
   "cell_type": "code",
   "execution_count": 101,
   "id": "81454120-ec04-4211-a77b-1e0f721394bb",
   "metadata": {},
   "outputs": [
    {
     "data": {
      "text/html": [
       "<div>\n",
       "<style scoped>\n",
       "    .dataframe tbody tr th:only-of-type {\n",
       "        vertical-align: middle;\n",
       "    }\n",
       "\n",
       "    .dataframe tbody tr th {\n",
       "        vertical-align: top;\n",
       "    }\n",
       "\n",
       "    .dataframe thead th {\n",
       "        text-align: right;\n",
       "    }\n",
       "</style>\n",
       "<table border=\"1\" class=\"dataframe\">\n",
       "  <thead>\n",
       "    <tr style=\"text-align: right;\">\n",
       "      <th></th>\n",
       "      <th>math</th>\n",
       "      <th>eng</th>\n",
       "      <th>chem</th>\n",
       "      <th>phys</th>\n",
       "    </tr>\n",
       "  </thead>\n",
       "  <tbody>\n",
       "    <tr>\n",
       "      <th>2</th>\n",
       "      <td>95</td>\n",
       "      <td>99</td>\n",
       "      <td>86</td>\n",
       "      <td>99</td>\n",
       "    </tr>\n",
       "    <tr>\n",
       "      <th>0</th>\n",
       "      <td>79</td>\n",
       "      <td>99</td>\n",
       "      <td>74</td>\n",
       "      <td>85</td>\n",
       "    </tr>\n",
       "    <tr>\n",
       "      <th>3</th>\n",
       "      <td>87</td>\n",
       "      <td>96</td>\n",
       "      <td>78</td>\n",
       "      <td>79</td>\n",
       "    </tr>\n",
       "  </tbody>\n",
       "</table>\n",
       "</div>"
      ],
      "text/plain": [
       "   math  eng  chem  phys\n",
       "2    95   99    86    99\n",
       "0    79   99    74    85\n",
       "3    87   96    78    79"
      ]
     },
     "execution_count": 101,
     "metadata": {},
     "output_type": "execute_result"
    }
   ],
   "source": [
    "df.nlargest(3, 'eng')"
   ]
  }
 ],
 "metadata": {
  "kernelspec": {
   "display_name": "Python 3 (ipykernel)",
   "language": "python",
   "name": "python3"
  },
  "language_info": {
   "codemirror_mode": {
    "name": "ipython",
    "version": 3
   },
   "file_extension": ".py",
   "mimetype": "text/x-python",
   "name": "python",
   "nbconvert_exporter": "python",
   "pygments_lexer": "ipython3",
   "version": "3.11.4"
  }
 },
 "nbformat": 4,
 "nbformat_minor": 5
}
