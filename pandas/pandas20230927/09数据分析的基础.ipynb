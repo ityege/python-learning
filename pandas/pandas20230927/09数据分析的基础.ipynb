{
 "cells": [
  {
   "cell_type": "code",
   "execution_count": 1,
   "id": "6514fcbf-8ab9-470a-a0f6-5f22aff97f8f",
   "metadata": {},
   "outputs": [],
   "source": [
    "import pandas as pd\n",
    "import numpy as np\n",
    "import matplotlib.pyplot as plt"
   ]
  },
  {
   "cell_type": "markdown",
   "id": "79a2c9f7-08e1-4ed3-833e-f40de80f7bfd",
   "metadata": {},
   "source": [
    "## 9.1 特殊性数据分析"
   ]
  },
  {
   "cell_type": "markdown",
   "id": "3e985ad7-2c86-4f03-bc7f-50e5f9c7b913",
   "metadata": {},
   "source": [
    "### 9.1.1 数据结构的确认"
   ]
  },
  {
   "cell_type": "markdown",
   "id": "2a731f3d-e7af-4846-8fa5-bc83e390091c",
   "metadata": {},
   "source": [
    "9.1 数据的读取"
   ]
  },
  {
   "cell_type": "code",
   "execution_count": 2,
   "id": "dd7d103d-d2c4-4795-b948-f2526832d1cb",
   "metadata": {},
   "outputs": [],
   "source": [
    "path = 'https://archive.ics.uci.edu/ml/machine-learning-databases/iris/'\n",
    "file = 'iris.data'\n",
    "cols = ['sepal_length','sepal_width','petal_length','petal_width','class']\n",
    "df = pd.read_csv(path + file, header=None, names=cols)"
   ]
  },
  {
   "cell_type": "code",
   "execution_count": 3,
   "id": "918dacbf-326a-44c2-afee-fe6a6360ef8b",
   "metadata": {},
   "outputs": [
    {
     "data": {
      "text/html": [
       "<div>\n",
       "<style scoped>\n",
       "    .dataframe tbody tr th:only-of-type {\n",
       "        vertical-align: middle;\n",
       "    }\n",
       "\n",
       "    .dataframe tbody tr th {\n",
       "        vertical-align: top;\n",
       "    }\n",
       "\n",
       "    .dataframe thead th {\n",
       "        text-align: right;\n",
       "    }\n",
       "</style>\n",
       "<table border=\"1\" class=\"dataframe\">\n",
       "  <thead>\n",
       "    <tr style=\"text-align: right;\">\n",
       "      <th></th>\n",
       "      <th>sepal_length</th>\n",
       "      <th>sepal_width</th>\n",
       "      <th>petal_length</th>\n",
       "      <th>petal_width</th>\n",
       "      <th>class</th>\n",
       "    </tr>\n",
       "  </thead>\n",
       "  <tbody>\n",
       "    <tr>\n",
       "      <th>0</th>\n",
       "      <td>5.1</td>\n",
       "      <td>3.5</td>\n",
       "      <td>1.4</td>\n",
       "      <td>0.2</td>\n",
       "      <td>Iris-setosa</td>\n",
       "    </tr>\n",
       "    <tr>\n",
       "      <th>1</th>\n",
       "      <td>4.9</td>\n",
       "      <td>3.0</td>\n",
       "      <td>1.4</td>\n",
       "      <td>0.2</td>\n",
       "      <td>Iris-setosa</td>\n",
       "    </tr>\n",
       "  </tbody>\n",
       "</table>\n",
       "</div>"
      ],
      "text/plain": [
       "   sepal_length  sepal_width  petal_length  petal_width        class\n",
       "0           5.1          3.5           1.4          0.2  Iris-setosa\n",
       "1           4.9          3.0           1.4          0.2  Iris-setosa"
      ]
     },
     "execution_count": 3,
     "metadata": {},
     "output_type": "execute_result"
    }
   ],
   "source": [
    "df.head(2)"
   ]
  },
  {
   "cell_type": "markdown",
   "id": "9588ce93-467c-439f-8498-d3623c817419",
   "metadata": {},
   "source": [
    "9.2 DataFrame 对象的 shape 属性"
   ]
  },
  {
   "cell_type": "code",
   "execution_count": 4,
   "id": "21aa72f0-175d-4f6f-8f74-2a012e1bcd58",
   "metadata": {},
   "outputs": [
    {
     "data": {
      "text/plain": [
       "(150, 5)"
      ]
     },
     "execution_count": 4,
     "metadata": {},
     "output_type": "execute_result"
    }
   ],
   "source": [
    "df.shape"
   ]
  },
  {
   "cell_type": "markdown",
   "id": "49cd0be5-4901-4f68-b9d6-070b8b7d6e76",
   "metadata": {},
   "source": [
    "9.3 Series 对象的 value_counts 方法"
   ]
  },
  {
   "cell_type": "code",
   "execution_count": 5,
   "id": "8e4e28bc-2657-456a-88f3-62e933cbe892",
   "metadata": {},
   "outputs": [
    {
     "data": {
      "text/plain": [
       "class\n",
       "Iris-setosa        50\n",
       "Iris-versicolor    50\n",
       "Iris-virginica     50\n",
       "Name: count, dtype: int64"
      ]
     },
     "execution_count": 5,
     "metadata": {},
     "output_type": "execute_result"
    }
   ],
   "source": [
    "df['class'].value_counts()"
   ]
  },
  {
   "cell_type": "markdown",
   "id": "2ccc0924-204a-459c-af72-ef939d238dea",
   "metadata": {},
   "source": [
    "9.4 DataFrame 对象的 info 方法"
   ]
  },
  {
   "cell_type": "code",
   "execution_count": 6,
   "id": "5c2ae238-b318-40a1-b341-687b80d0732b",
   "metadata": {},
   "outputs": [
    {
     "name": "stdout",
     "output_type": "stream",
     "text": [
      "<class 'pandas.core.frame.DataFrame'>\n",
      "RangeIndex: 150 entries, 0 to 149\n",
      "Data columns (total 5 columns):\n",
      " #   Column        Non-Null Count  Dtype  \n",
      "---  ------        --------------  -----  \n",
      " 0   sepal_length  150 non-null    float64\n",
      " 1   sepal_width   150 non-null    float64\n",
      " 2   petal_length  150 non-null    float64\n",
      " 3   petal_width   150 non-null    float64\n",
      " 4   class         150 non-null    object \n",
      "dtypes: float64(4), object(1)\n",
      "memory usage: 6.0+ KB\n"
     ]
    }
   ],
   "source": [
    "df.info()"
   ]
  },
  {
   "cell_type": "markdown",
   "id": "bcca398e-2b08-4381-85a4-39dd3b0e860e",
   "metadata": {},
   "source": [
    "9.5 DataFrame 对象的 describe 方法"
   ]
  },
  {
   "cell_type": "code",
   "execution_count": 7,
   "id": "db0a990d-4471-44e5-878c-968042e4c88a",
   "metadata": {},
   "outputs": [
    {
     "data": {
      "text/html": [
       "<div>\n",
       "<style scoped>\n",
       "    .dataframe tbody tr th:only-of-type {\n",
       "        vertical-align: middle;\n",
       "    }\n",
       "\n",
       "    .dataframe tbody tr th {\n",
       "        vertical-align: top;\n",
       "    }\n",
       "\n",
       "    .dataframe thead th {\n",
       "        text-align: right;\n",
       "    }\n",
       "</style>\n",
       "<table border=\"1\" class=\"dataframe\">\n",
       "  <thead>\n",
       "    <tr style=\"text-align: right;\">\n",
       "      <th></th>\n",
       "      <th>sepal_length</th>\n",
       "      <th>sepal_width</th>\n",
       "      <th>petal_length</th>\n",
       "      <th>petal_width</th>\n",
       "    </tr>\n",
       "  </thead>\n",
       "  <tbody>\n",
       "    <tr>\n",
       "      <th>count</th>\n",
       "      <td>150.000000</td>\n",
       "      <td>150.000000</td>\n",
       "      <td>150.000000</td>\n",
       "      <td>150.000000</td>\n",
       "    </tr>\n",
       "    <tr>\n",
       "      <th>mean</th>\n",
       "      <td>5.843333</td>\n",
       "      <td>3.054000</td>\n",
       "      <td>3.758667</td>\n",
       "      <td>1.198667</td>\n",
       "    </tr>\n",
       "    <tr>\n",
       "      <th>std</th>\n",
       "      <td>0.828066</td>\n",
       "      <td>0.433594</td>\n",
       "      <td>1.764420</td>\n",
       "      <td>0.763161</td>\n",
       "    </tr>\n",
       "    <tr>\n",
       "      <th>min</th>\n",
       "      <td>4.300000</td>\n",
       "      <td>2.000000</td>\n",
       "      <td>1.000000</td>\n",
       "      <td>0.100000</td>\n",
       "    </tr>\n",
       "    <tr>\n",
       "      <th>25%</th>\n",
       "      <td>5.100000</td>\n",
       "      <td>2.800000</td>\n",
       "      <td>1.600000</td>\n",
       "      <td>0.300000</td>\n",
       "    </tr>\n",
       "    <tr>\n",
       "      <th>50%</th>\n",
       "      <td>5.800000</td>\n",
       "      <td>3.000000</td>\n",
       "      <td>4.350000</td>\n",
       "      <td>1.300000</td>\n",
       "    </tr>\n",
       "    <tr>\n",
       "      <th>75%</th>\n",
       "      <td>6.400000</td>\n",
       "      <td>3.300000</td>\n",
       "      <td>5.100000</td>\n",
       "      <td>1.800000</td>\n",
       "    </tr>\n",
       "    <tr>\n",
       "      <th>max</th>\n",
       "      <td>7.900000</td>\n",
       "      <td>4.400000</td>\n",
       "      <td>6.900000</td>\n",
       "      <td>2.500000</td>\n",
       "    </tr>\n",
       "  </tbody>\n",
       "</table>\n",
       "</div>"
      ],
      "text/plain": [
       "       sepal_length  sepal_width  petal_length  petal_width\n",
       "count    150.000000   150.000000    150.000000   150.000000\n",
       "mean       5.843333     3.054000      3.758667     1.198667\n",
       "std        0.828066     0.433594      1.764420     0.763161\n",
       "min        4.300000     2.000000      1.000000     0.100000\n",
       "25%        5.100000     2.800000      1.600000     0.300000\n",
       "50%        5.800000     3.000000      4.350000     1.300000\n",
       "75%        6.400000     3.300000      5.100000     1.800000\n",
       "max        7.900000     4.400000      6.900000     2.500000"
      ]
     },
     "execution_count": 7,
     "metadata": {},
     "output_type": "execute_result"
    }
   ],
   "source": [
    "df.describe()"
   ]
  },
  {
   "cell_type": "markdown",
   "id": "6cee9af3-0a50-4fd6-9a31-40011f2d6c04",
   "metadata": {},
   "source": [
    "9.6 DataFrame 对象的 groupby 方法"
   ]
  },
  {
   "cell_type": "code",
   "execution_count": 8,
   "id": "20525edb-5f74-40bb-931f-28fd14d477e0",
   "metadata": {},
   "outputs": [
    {
     "data": {
      "text/html": [
       "<div>\n",
       "<style scoped>\n",
       "    .dataframe tbody tr th:only-of-type {\n",
       "        vertical-align: middle;\n",
       "    }\n",
       "\n",
       "    .dataframe tbody tr th {\n",
       "        vertical-align: top;\n",
       "    }\n",
       "\n",
       "    .dataframe thead th {\n",
       "        text-align: right;\n",
       "    }\n",
       "</style>\n",
       "<table border=\"1\" class=\"dataframe\">\n",
       "  <thead>\n",
       "    <tr style=\"text-align: right;\">\n",
       "      <th></th>\n",
       "      <th>sepal_length</th>\n",
       "      <th>sepal_width</th>\n",
       "      <th>petal_length</th>\n",
       "      <th>petal_width</th>\n",
       "    </tr>\n",
       "    <tr>\n",
       "      <th>class</th>\n",
       "      <th></th>\n",
       "      <th></th>\n",
       "      <th></th>\n",
       "      <th></th>\n",
       "    </tr>\n",
       "  </thead>\n",
       "  <tbody>\n",
       "    <tr>\n",
       "      <th>Iris-setosa</th>\n",
       "      <td>5.006</td>\n",
       "      <td>3.418</td>\n",
       "      <td>1.464</td>\n",
       "      <td>0.244</td>\n",
       "    </tr>\n",
       "    <tr>\n",
       "      <th>Iris-versicolor</th>\n",
       "      <td>5.936</td>\n",
       "      <td>2.770</td>\n",
       "      <td>4.260</td>\n",
       "      <td>1.326</td>\n",
       "    </tr>\n",
       "    <tr>\n",
       "      <th>Iris-virginica</th>\n",
       "      <td>6.588</td>\n",
       "      <td>2.974</td>\n",
       "      <td>5.552</td>\n",
       "      <td>2.026</td>\n",
       "    </tr>\n",
       "  </tbody>\n",
       "</table>\n",
       "</div>"
      ],
      "text/plain": [
       "                 sepal_length  sepal_width  petal_length  petal_width\n",
       "class                                                                \n",
       "Iris-setosa             5.006        3.418         1.464        0.244\n",
       "Iris-versicolor         5.936        2.770         4.260        1.326\n",
       "Iris-virginica          6.588        2.974         5.552        2.026"
      ]
     },
     "execution_count": 8,
     "metadata": {},
     "output_type": "execute_result"
    }
   ],
   "source": [
    "df.groupby('class').mean()"
   ]
  },
  {
   "cell_type": "markdown",
   "id": "718bfcf7-30f7-432e-a4fb-68b8ba9fee90",
   "metadata": {},
   "source": [
    "### 9.1.2 缺失值、离群值和重复数据的确认"
   ]
  },
  {
   "cell_type": "markdown",
   "id": "81124d41-b045-4dd6-ae81-eadc8966af49",
   "metadata": {},
   "source": [
    "9.7 DataFrame 对象的 isna 方法"
   ]
  },
  {
   "cell_type": "code",
   "execution_count": 9,
   "id": "62355a3c-0995-4cff-9a98-2ae36342dacb",
   "metadata": {},
   "outputs": [
    {
     "data": {
      "text/plain": [
       "sepal_length    0\n",
       "sepal_width     0\n",
       "petal_length    0\n",
       "petal_width     0\n",
       "class           0\n",
       "dtype: int64"
      ]
     },
     "execution_count": 9,
     "metadata": {},
     "output_type": "execute_result"
    }
   ],
   "source": [
    "df.isna().sum()"
   ]
  },
  {
   "cell_type": "markdown",
   "id": "f7012259-0305-4ae7-aa41-f0ba6ad841c4",
   "metadata": {},
   "source": [
    "9.8 定义查找离群值的函数"
   ]
  },
  {
   "cell_type": "code",
   "execution_count": 10,
   "id": "31e6ad87-bbd4-4ffd-a19c-5469d1c6e999",
   "metadata": {},
   "outputs": [],
   "source": [
    "def outlier(ser):\n",
    "    mean = ser.mean()\n",
    "    std = ser.std(ddof=0)\n",
    "    zscore = (ser - mean) /std\n",
    "    outliers = ser[(zscore < -3) | (zscore > 3)]\n",
    "    if outliers.shape[0] == 0:\n",
    "        print('未发现离群值')\n",
    "    else:\n",
    "        print(outliers)"
   ]
  },
  {
   "cell_type": "markdown",
   "id": "e757cc90-8f18-4306-94b7-eaa3d76eecb5",
   "metadata": {},
   "source": [
    "9.9 离群值的查找（花萼的长度）"
   ]
  },
  {
   "cell_type": "code",
   "execution_count": 11,
   "id": "046553bc-b605-4ac3-a781-61ffc5a2a48c",
   "metadata": {},
   "outputs": [
    {
     "name": "stdout",
     "output_type": "stream",
     "text": [
      "未发现离群值\n"
     ]
    }
   ],
   "source": [
    "outlier(df['sepal_length'])"
   ]
  },
  {
   "cell_type": "markdown",
   "id": "4f258bee-df1f-41e4-8415-7a8700ec5e90",
   "metadata": {},
   "source": [
    "9.10 离群值的查找（花萼的宽度）"
   ]
  },
  {
   "cell_type": "code",
   "execution_count": 12,
   "id": "c5d32370-6806-480a-b12a-1a36175f7105",
   "metadata": {},
   "outputs": [
    {
     "name": "stdout",
     "output_type": "stream",
     "text": [
      "15    4.4\n",
      "Name: sepal_width, dtype: float64\n"
     ]
    }
   ],
   "source": [
    "outlier(df['sepal_width'])"
   ]
  },
  {
   "cell_type": "markdown",
   "id": "26e5675f-6ba5-4c79-b928-fa402db26cec",
   "metadata": {},
   "source": [
    "9.11 Series 对象的 mean 方法和 std 方法"
   ]
  },
  {
   "cell_type": "code",
   "execution_count": 13,
   "id": "768d3cb2-1668-429b-a32b-149c1d173149",
   "metadata": {},
   "outputs": [
    {
     "data": {
      "text/plain": [
       "(3.0540000000000003, 0.4335943113621737)"
      ]
     },
     "execution_count": 13,
     "metadata": {},
     "output_type": "execute_result"
    }
   ],
   "source": [
    "df['sepal_width'].mean(), df['sepal_width'].std()"
   ]
  },
  {
   "cell_type": "markdown",
   "id": "0589d1d6-644c-466f-b968-e59f5c1ebe5b",
   "metadata": {},
   "source": [
    "9.12 离群值的查找（花瓣的宽度和长度）"
   ]
  },
  {
   "cell_type": "code",
   "execution_count": 14,
   "id": "11d652de-6c60-476b-9382-ae4f11f7fd2a",
   "metadata": {},
   "outputs": [
    {
     "name": "stdout",
     "output_type": "stream",
     "text": [
      "未发现离群值\n",
      "未发现离群值\n"
     ]
    }
   ],
   "source": [
    "outlier(df['petal_width'])\n",
    "outlier(df['petal_length'])"
   ]
  },
  {
   "cell_type": "markdown",
   "id": "b3efac4c-9884-48e3-9ff8-e3211c82a488",
   "metadata": {},
   "source": [
    "9.13 DataFrame 对象的 duplicated 方法"
   ]
  },
  {
   "cell_type": "code",
   "execution_count": 15,
   "id": "f5565b40-6ae7-48c1-96f6-d9d0d8ab7fd6",
   "metadata": {},
   "outputs": [
    {
     "data": {
      "text/html": [
       "<div>\n",
       "<style scoped>\n",
       "    .dataframe tbody tr th:only-of-type {\n",
       "        vertical-align: middle;\n",
       "    }\n",
       "\n",
       "    .dataframe tbody tr th {\n",
       "        vertical-align: top;\n",
       "    }\n",
       "\n",
       "    .dataframe thead th {\n",
       "        text-align: right;\n",
       "    }\n",
       "</style>\n",
       "<table border=\"1\" class=\"dataframe\">\n",
       "  <thead>\n",
       "    <tr style=\"text-align: right;\">\n",
       "      <th></th>\n",
       "      <th>sepal_length</th>\n",
       "      <th>sepal_width</th>\n",
       "      <th>petal_length</th>\n",
       "      <th>petal_width</th>\n",
       "      <th>class</th>\n",
       "    </tr>\n",
       "  </thead>\n",
       "  <tbody>\n",
       "    <tr>\n",
       "      <th>9</th>\n",
       "      <td>4.9</td>\n",
       "      <td>3.1</td>\n",
       "      <td>1.5</td>\n",
       "      <td>0.1</td>\n",
       "      <td>Iris-setosa</td>\n",
       "    </tr>\n",
       "    <tr>\n",
       "      <th>34</th>\n",
       "      <td>4.9</td>\n",
       "      <td>3.1</td>\n",
       "      <td>1.5</td>\n",
       "      <td>0.1</td>\n",
       "      <td>Iris-setosa</td>\n",
       "    </tr>\n",
       "    <tr>\n",
       "      <th>37</th>\n",
       "      <td>4.9</td>\n",
       "      <td>3.1</td>\n",
       "      <td>1.5</td>\n",
       "      <td>0.1</td>\n",
       "      <td>Iris-setosa</td>\n",
       "    </tr>\n",
       "    <tr>\n",
       "      <th>101</th>\n",
       "      <td>5.8</td>\n",
       "      <td>2.7</td>\n",
       "      <td>5.1</td>\n",
       "      <td>1.9</td>\n",
       "      <td>Iris-virginica</td>\n",
       "    </tr>\n",
       "    <tr>\n",
       "      <th>142</th>\n",
       "      <td>5.8</td>\n",
       "      <td>2.7</td>\n",
       "      <td>5.1</td>\n",
       "      <td>1.9</td>\n",
       "      <td>Iris-virginica</td>\n",
       "    </tr>\n",
       "  </tbody>\n",
       "</table>\n",
       "</div>"
      ],
      "text/plain": [
       "     sepal_length  sepal_width  petal_length  petal_width           class\n",
       "9             4.9          3.1           1.5          0.1     Iris-setosa\n",
       "34            4.9          3.1           1.5          0.1     Iris-setosa\n",
       "37            4.9          3.1           1.5          0.1     Iris-setosa\n",
       "101           5.8          2.7           5.1          1.9  Iris-virginica\n",
       "142           5.8          2.7           5.1          1.9  Iris-virginica"
      ]
     },
     "execution_count": 15,
     "metadata": {},
     "output_type": "execute_result"
    }
   ],
   "source": [
    "df[df.duplicated(keep=False)]"
   ]
  },
  {
   "cell_type": "markdown",
   "id": "a4780865-dd61-4af5-aecb-955c39d1fcac",
   "metadata": {},
   "source": [
    "9.14 重复数据的修改"
   ]
  },
  {
   "cell_type": "code",
   "execution_count": 16,
   "id": "24684dea-a1af-4d53-a3bf-c5b1ba84718b",
   "metadata": {},
   "outputs": [],
   "source": [
    "df.iloc[34,:-1] = [4.9, 3.1, 1.5, 0.2]\n",
    "df.iloc[37,:-1] = [4.9, 3.6, 1.4, 0.1]"
   ]
  },
  {
   "cell_type": "markdown",
   "id": "022b9fb0-336f-4e79-8686-ea3d58411e87",
   "metadata": {},
   "source": [
    "9.15 DataFrame 对象的 duplicated 方法（重新引用）"
   ]
  },
  {
   "cell_type": "code",
   "execution_count": 17,
   "id": "b34e7f29-16cb-41ad-8d6a-c04444f2ad76",
   "metadata": {},
   "outputs": [
    {
     "data": {
      "text/html": [
       "<div>\n",
       "<style scoped>\n",
       "    .dataframe tbody tr th:only-of-type {\n",
       "        vertical-align: middle;\n",
       "    }\n",
       "\n",
       "    .dataframe tbody tr th {\n",
       "        vertical-align: top;\n",
       "    }\n",
       "\n",
       "    .dataframe thead th {\n",
       "        text-align: right;\n",
       "    }\n",
       "</style>\n",
       "<table border=\"1\" class=\"dataframe\">\n",
       "  <thead>\n",
       "    <tr style=\"text-align: right;\">\n",
       "      <th></th>\n",
       "      <th>sepal_length</th>\n",
       "      <th>sepal_width</th>\n",
       "      <th>petal_length</th>\n",
       "      <th>petal_width</th>\n",
       "      <th>class</th>\n",
       "    </tr>\n",
       "  </thead>\n",
       "  <tbody>\n",
       "    <tr>\n",
       "      <th>101</th>\n",
       "      <td>5.8</td>\n",
       "      <td>2.7</td>\n",
       "      <td>5.1</td>\n",
       "      <td>1.9</td>\n",
       "      <td>Iris-virginica</td>\n",
       "    </tr>\n",
       "    <tr>\n",
       "      <th>142</th>\n",
       "      <td>5.8</td>\n",
       "      <td>2.7</td>\n",
       "      <td>5.1</td>\n",
       "      <td>1.9</td>\n",
       "      <td>Iris-virginica</td>\n",
       "    </tr>\n",
       "  </tbody>\n",
       "</table>\n",
       "</div>"
      ],
      "text/plain": [
       "     sepal_length  sepal_width  petal_length  petal_width           class\n",
       "101           5.8          2.7           5.1          1.9  Iris-virginica\n",
       "142           5.8          2.7           5.1          1.9  Iris-virginica"
      ]
     },
     "execution_count": 17,
     "metadata": {},
     "output_type": "execute_result"
    }
   ],
   "source": [
    "df[df.duplicated(keep=False)]"
   ]
  },
  {
   "cell_type": "markdown",
   "id": "1823672a-6642-4147-9cbb-c6b0d3df0ff4",
   "metadata": {},
   "source": [
    "### 9.1.3 基于数据可视化的确认"
   ]
  },
  {
   "cell_type": "markdown",
   "id": "c103452b-316f-407c-b4ef-34107ad63725",
   "metadata": {},
   "source": [
    "9.16 DataFrame 对象的 plot 方法（kind='box'）"
   ]
  },
  {
   "cell_type": "code",
   "execution_count": 18,
   "id": "cca0c786-1c55-4f58-a9f9-982ac62b6c00",
   "metadata": {},
   "outputs": [
    {
     "data": {
      "text/plain": [
       "<Axes: >"
      ]
     },
     "execution_count": 18,
     "metadata": {},
     "output_type": "execute_result"
    },
    {
     "data": {
      "image/png": "[encoded data removed]",
      "text/plain": [
       "<Figure size 500x700 with 1 Axes>"
      ]
     },
     "metadata": {},
     "output_type": "display_data"
    }
   ],
   "source": [
    "df.plot(kind='box', figsize=(5,7), grid=True)"
   ]
  },
  {
   "cell_type": "markdown",
   "id": "1b8e1ec7-a4f7-448d-a542-d2be6a2efd5f",
   "metadata": {},
   "source": [
    "9.17 按品种分离成 DataFrame 对象"
   ]
  },
  {
   "cell_type": "code",
   "execution_count": 19,
   "id": "23425776-3dec-49f3-8683-0d2e563254cb",
   "metadata": {},
   "outputs": [
    {
     "name": "stdout",
     "output_type": "stream",
     "text": [
      "(50, 5) (50, 5) (50, 5)\n"
     ]
    }
   ],
   "source": [
    "vers = df[df['class'] == 'Iris-versicolor']\n",
    "virg = df[df['class'] == 'Iris-virginica']\n",
    "seto = df[df['class'] == 'Iris-setosa']\n",
    "\n",
    "print(vers.shape, virg.shape, seto.shape)"
   ]
  },
  {
   "cell_type": "markdown",
   "id": "20643ac2-074a-461e-af9f-b4893c99af47",
   "metadata": {},
   "source": [
    "9.18 按颜色区分品种的散点图（x 轴为 petal_width、y 轴为 petal_length）"
   ]
  },
  {
   "cell_type": "code",
   "execution_count": 20,
   "id": "44fab18c-4924-4985-ab90-e360e62db703",
   "metadata": {},
   "outputs": [
    {
     "data": {
      "text/plain": [
       "<Axes: xlabel='sepal_width', ylabel='sepal_length'>"
      ]
     },
     "execution_count": 20,
     "metadata": {},
     "output_type": "execute_result"
    },
    {
     "data": {
      "image/png": "[encoded data removed]",
      "text/plain": [
       "<Figure size 1000x500 with 1 Axes>"
      ]
     },
     "metadata": {},
     "output_type": "display_data"
    }
   ],
   "source": [
    "k, x, y = 'scatter', 'sepal_width', 'sepal_length'\n",
    "ls = ['Iris-versicolor','Iris-virginica','Iris-setosa']\n",
    "ax1 = vers.plot(kind=k, x=x, y=y, label=ls[0], color='r', figsize=(10,5))\n",
    "virg.plot(kind=k, x=x, y=y, label=ls[1], color='b', ax=ax1)\n",
    "seto.plot(kind=k, x=x, y=y, label=ls[2], color='g', ax=ax1)"
   ]
  },
  {
   "cell_type": "markdown",
   "id": "1ecbdaa9-7955-4368-8ca6-b0c4b84f4d02",
   "metadata": {},
   "source": [
    "9.19 按颜色区分品种的散点图（x 轴为 petal_width、y 轴为 petal_length）"
   ]
  },
  {
   "cell_type": "code",
   "execution_count": 21,
   "id": "b30aab32-e080-41c0-973c-9ec5114d1bf2",
   "metadata": {},
   "outputs": [
    {
     "data": {
      "text/plain": [
       "<Axes: xlabel='petal_width', ylabel='petal_length'>"
      ]
     },
     "execution_count": 21,
     "metadata": {},
     "output_type": "execute_result"
    },
    {
     "data": {
      "image/png": "[encoded data removed]",
      "text/plain": [
       "<Figure size 1000x500 with 1 Axes>"
      ]
     },
     "metadata": {},
     "output_type": "display_data"
    }
   ],
   "source": [
    "x, y = 'petal_width', 'petal_length'\n",
    "ax1 = vers.plot(kind=k, x=x, y=y, label=ls[0], color='r', figsize=(10,5))\n",
    "virg.plot(kind=k, x=x, y=y, label=ls[1], color='b', ax=ax1)\n",
    "seto.plot(kind=k, x=x, y=y, label=ls[2], color='g', ax=ax1)"
   ]
  },
  {
   "cell_type": "markdown",
   "id": "be6576d8-94b4-4d7a-9dac-a7c77b8557c5",
   "metadata": {},
   "source": [
    "9.20 将标识颜色的字符串保存到列表中"
   ]
  },
  {
   "cell_type": "code",
   "execution_count": 22,
   "id": "c2fd4bc0-8e94-425f-ad91-c939a025df63",
   "metadata": {},
   "outputs": [
    {
     "data": {
      "text/plain": [
       "True"
      ]
     },
     "execution_count": 22,
     "metadata": {},
     "output_type": "execute_result"
    }
   ],
   "source": [
    "colors=['g']*50+['r']*50+['b']*50\n",
    "len(colors)==len(df)"
   ]
  },
  {
   "cell_type": "markdown",
   "id": "8dddb083-ef5f-440c-9170-43916d17883a",
   "metadata": {},
   "source": [
    "9.21 : scatter_matrix方法"
   ]
  },
  {
   "cell_type": "code",
   "execution_count": 23,
   "id": "4ff87a41-9844-4d48-bccc-d185a29e9887",
   "metadata": {},
   "outputs": [
    {
     "data": {
      "text/plain": [
       "array([[<Axes: xlabel='sepal_length', ylabel='sepal_length'>,\n",
       "        <Axes: xlabel='sepal_width', ylabel='sepal_length'>,\n",
       "        <Axes: xlabel='petal_length', ylabel='sepal_length'>,\n",
       "        <Axes: xlabel='petal_width', ylabel='sepal_length'>],\n",
       "       [<Axes: xlabel='sepal_length', ylabel='sepal_width'>,\n",
       "        <Axes: xlabel='sepal_width', ylabel='sepal_width'>,\n",
       "        <Axes: xlabel='petal_length', ylabel='sepal_width'>,\n",
       "        <Axes: xlabel='petal_width', ylabel='sepal_width'>],\n",
       "       [<Axes: xlabel='sepal_length', ylabel='petal_length'>,\n",
       "        <Axes: xlabel='sepal_width', ylabel='petal_length'>,\n",
       "        <Axes: xlabel='petal_length', ylabel='petal_length'>,\n",
       "        <Axes: xlabel='petal_width', ylabel='petal_length'>],\n",
       "       [<Axes: xlabel='sepal_length', ylabel='petal_width'>,\n",
       "        <Axes: xlabel='sepal_width', ylabel='petal_width'>,\n",
       "        <Axes: xlabel='petal_length', ylabel='petal_width'>,\n",
       "        <Axes: xlabel='petal_width', ylabel='petal_width'>]], dtype=object)"
      ]
     },
     "execution_count": 23,
     "metadata": {},
     "output_type": "execute_result"
    },
    {
     "data": {
      "image/png": "[encoded data removed]",
      "text/plain": [
       "<Figure size 1000x1000 with 16 Axes>"
      ]
     },
     "metadata": {},
     "output_type": "display_data"
    }
   ],
   "source": [
    "pd.plotting.scatter_matrix(df, color=colors, figsize=(10,10))"
   ]
  },
  {
   "cell_type": "markdown",
   "id": "16e2eadb-6c10-48ca-8d75-6fd8d64b3f11",
   "metadata": {},
   "source": [
    "9.22 使用 DataFrame 对象中 corr 方法的热图"
   ]
  },
  {
   "cell_type": "code",
   "execution_count": 24,
   "id": "3b2e95ba-1d93-49b8-b314-4c18e5966ece",
   "metadata": {},
   "outputs": [
    {
     "data": {
      "text/html": [
       "<style type=\"text/css\">\n",
       "#T_d1023_row0_col0, #T_d1023_row1_col1, #T_d1023_row2_col2, #T_d1023_row3_col3 {\n",
       "  background-color: #b40426;\n",
       "  color: #f1f1f1;\n",
       "}\n",
       "#T_d1023_row0_col1 {\n",
       "  background-color: #81a4fb;\n",
       "  color: #f1f1f1;\n",
       "}\n",
       "#T_d1023_row0_col2 {\n",
       "  background-color: #d24b40;\n",
       "  color: #f1f1f1;\n",
       "}\n",
       "#T_d1023_row0_col3 {\n",
       "  background-color: #e0654f;\n",
       "  color: #f1f1f1;\n",
       "}\n",
       "#T_d1023_row1_col0, #T_d1023_row1_col2, #T_d1023_row1_col3, #T_d1023_row2_col1 {\n",
       "  background-color: #3b4cc0;\n",
       "  color: #f1f1f1;\n",
       "}\n",
       "#T_d1023_row2_col0 {\n",
       "  background-color: #da5a49;\n",
       "  color: #f1f1f1;\n",
       "}\n",
       "#T_d1023_row2_col3, #T_d1023_row3_col2 {\n",
       "  background-color: #bd1f2d;\n",
       "  color: #f1f1f1;\n",
       "}\n",
       "#T_d1023_row3_col0 {\n",
       "  background-color: #e67259;\n",
       "  color: #f1f1f1;\n",
       "}\n",
       "#T_d1023_row3_col1 {\n",
       "  background-color: #485fd1;\n",
       "  color: #f1f1f1;\n",
       "}\n",
       "</style>\n",
       "<table id=\"T_d1023\">\n",
       "  <thead>\n",
       "    <tr>\n",
       "      <th class=\"blank level0\" >&nbsp;</th>\n",
       "      <th id=\"T_d1023_level0_col0\" class=\"col_heading level0 col0\" >sepal_length</th>\n",
       "      <th id=\"T_d1023_level0_col1\" class=\"col_heading level0 col1\" >sepal_width</th>\n",
       "      <th id=\"T_d1023_level0_col2\" class=\"col_heading level0 col2\" >petal_length</th>\n",
       "      <th id=\"T_d1023_level0_col3\" class=\"col_heading level0 col3\" >petal_width</th>\n",
       "    </tr>\n",
       "  </thead>\n",
       "  <tbody>\n",
       "    <tr>\n",
       "      <th id=\"T_d1023_level0_row0\" class=\"row_heading level0 row0\" >sepal_length</th>\n",
       "      <td id=\"T_d1023_row0_col0\" class=\"data row0 col0\" >1.000000</td>\n",
       "      <td id=\"T_d1023_row0_col1\" class=\"data row0 col1\" >-0.117570</td>\n",
       "      <td id=\"T_d1023_row0_col2\" class=\"data row0 col2\" >0.871754</td>\n",
       "      <td id=\"T_d1023_row0_col3\" class=\"data row0 col3\" >0.817941</td>\n",
       "    </tr>\n",
       "    <tr>\n",
       "      <th id=\"T_d1023_level0_row1\" class=\"row_heading level0 row1\" >sepal_width</th>\n",
       "      <td id=\"T_d1023_row1_col0\" class=\"data row1 col0\" >-0.117570</td>\n",
       "      <td id=\"T_d1023_row1_col1\" class=\"data row1 col1\" >1.000000</td>\n",
       "      <td id=\"T_d1023_row1_col2\" class=\"data row1 col2\" >-0.428440</td>\n",
       "      <td id=\"T_d1023_row1_col3\" class=\"data row1 col3\" >-0.366126</td>\n",
       "    </tr>\n",
       "    <tr>\n",
       "      <th id=\"T_d1023_level0_row2\" class=\"row_heading level0 row2\" >petal_length</th>\n",
       "      <td id=\"T_d1023_row2_col0\" class=\"data row2 col0\" >0.871754</td>\n",
       "      <td id=\"T_d1023_row2_col1\" class=\"data row2 col1\" >-0.428440</td>\n",
       "      <td id=\"T_d1023_row2_col2\" class=\"data row2 col2\" >1.000000</td>\n",
       "      <td id=\"T_d1023_row2_col3\" class=\"data row2 col3\" >0.962865</td>\n",
       "    </tr>\n",
       "    <tr>\n",
       "      <th id=\"T_d1023_level0_row3\" class=\"row_heading level0 row3\" >petal_width</th>\n",
       "      <td id=\"T_d1023_row3_col0\" class=\"data row3 col0\" >0.817941</td>\n",
       "      <td id=\"T_d1023_row3_col1\" class=\"data row3 col1\" >-0.366126</td>\n",
       "      <td id=\"T_d1023_row3_col2\" class=\"data row3 col2\" >0.962865</td>\n",
       "      <td id=\"T_d1023_row3_col3\" class=\"data row3 col3\" >1.000000</td>\n",
       "    </tr>\n",
       "  </tbody>\n",
       "</table>\n"
      ],
      "text/plain": [
       "<pandas.io.formats.style.Styler at 0x19b077f4250>"
      ]
     },
     "execution_count": 24,
     "metadata": {},
     "output_type": "execute_result"
    }
   ],
   "source": [
    "df.select_dtypes(include=[np.number]).corr().style.background_gradient(cmap='coolwarm')"
   ]
  },
  {
   "cell_type": "markdown",
   "id": "8a5613c1-9252-4d61-85cb-057c78dba339",
   "metadata": {},
   "source": [
    "## 9.2 整齐数据"
   ]
  },
  {
   "cell_type": "markdown",
   "id": "35bbf3cd-5187-42d8-b87c-9dd54ed5a7d8",
   "metadata": {},
   "source": [
    "### 9.2.1 整齐数据的概要"
   ]
  },
  {
   "cell_type": "markdown",
   "id": "9bf394ce-6af7-4f98-9a68-cbb6de0759b8",
   "metadata": {},
   "source": [
    "### 9.2.2 将杂乱数据转换为整齐数据"
   ]
  },
  {
   "cell_type": "markdown",
   "id": "a0fc5373-bf7a-4f2d-8ea0-d85d937a48ad",
   "metadata": {},
   "source": [
    "9.23 ex17.csv 文件的读取"
   ]
  },
  {
   "cell_type": "code",
   "execution_count": 25,
   "id": "997fac19-79cf-4eda-bf36-a880c975e93e",
   "metadata": {},
   "outputs": [
    {
     "data": {
      "text/html": [
       "<div>\n",
       "<style scoped>\n",
       "    .dataframe tbody tr th:only-of-type {\n",
       "        vertical-align: middle;\n",
       "    }\n",
       "\n",
       "    .dataframe tbody tr th {\n",
       "        vertical-align: top;\n",
       "    }\n",
       "\n",
       "    .dataframe thead th {\n",
       "        text-align: right;\n",
       "    }\n",
       "</style>\n",
       "<table border=\"1\" class=\"dataframe\">\n",
       "  <thead>\n",
       "    <tr style=\"text-align: right;\">\n",
       "      <th></th>\n",
       "      <th>部门</th>\n",
       "      <th>10岁</th>\n",
       "      <th>20岁</th>\n",
       "      <th>30岁</th>\n",
       "    </tr>\n",
       "  </thead>\n",
       "  <tbody>\n",
       "    <tr>\n",
       "      <th>0</th>\n",
       "      <td>人事部</td>\n",
       "      <td>1</td>\n",
       "      <td>2</td>\n",
       "      <td>1</td>\n",
       "    </tr>\n",
       "    <tr>\n",
       "      <th>1</th>\n",
       "      <td>财务部</td>\n",
       "      <td>0</td>\n",
       "      <td>1</td>\n",
       "      <td>3</td>\n",
       "    </tr>\n",
       "    <tr>\n",
       "      <th>2</th>\n",
       "      <td>研发部</td>\n",
       "      <td>0</td>\n",
       "      <td>4</td>\n",
       "      <td>2</td>\n",
       "    </tr>\n",
       "  </tbody>\n",
       "</table>\n",
       "</div>"
      ],
      "text/plain": [
       "    部门  10岁  20岁  30岁\n",
       "0  人事部    1    2    1\n",
       "1  财务部    0    1    3\n",
       "2  研发部    0    4    2"
      ]
     },
     "execution_count": 25,
     "metadata": {},
     "output_type": "execute_result"
    }
   ],
   "source": [
    "df = pd.read_csv('./data/ex17.csv', encoding='gbk')\n",
    "df"
   ]
  },
  {
   "cell_type": "markdown",
   "id": "5aa457ce-75b2-4a24-93a0-436919afd7ea",
   "metadata": {},
   "source": [
    "9.24 DataFrame 对象的 melt 方法"
   ]
  },
  {
   "cell_type": "code",
   "execution_count": 26,
   "id": "72578738-2939-4d79-b052-d05508940501",
   "metadata": {},
   "outputs": [
    {
     "data": {
      "text/html": [
       "<div>\n",
       "<style scoped>\n",
       "    .dataframe tbody tr th:only-of-type {\n",
       "        vertical-align: middle;\n",
       "    }\n",
       "\n",
       "    .dataframe tbody tr th {\n",
       "        vertical-align: top;\n",
       "    }\n",
       "\n",
       "    .dataframe thead th {\n",
       "        text-align: right;\n",
       "    }\n",
       "</style>\n",
       "<table border=\"1\" class=\"dataframe\">\n",
       "  <thead>\n",
       "    <tr style=\"text-align: right;\">\n",
       "      <th></th>\n",
       "      <th>部门</th>\n",
       "      <th>年龄</th>\n",
       "      <th>人数</th>\n",
       "    </tr>\n",
       "  </thead>\n",
       "  <tbody>\n",
       "    <tr>\n",
       "      <th>0</th>\n",
       "      <td>人事部</td>\n",
       "      <td>10岁</td>\n",
       "      <td>1</td>\n",
       "    </tr>\n",
       "    <tr>\n",
       "      <th>1</th>\n",
       "      <td>财务部</td>\n",
       "      <td>10岁</td>\n",
       "      <td>0</td>\n",
       "    </tr>\n",
       "    <tr>\n",
       "      <th>2</th>\n",
       "      <td>研发部</td>\n",
       "      <td>10岁</td>\n",
       "      <td>0</td>\n",
       "    </tr>\n",
       "    <tr>\n",
       "      <th>3</th>\n",
       "      <td>人事部</td>\n",
       "      <td>20岁</td>\n",
       "      <td>2</td>\n",
       "    </tr>\n",
       "    <tr>\n",
       "      <th>4</th>\n",
       "      <td>财务部</td>\n",
       "      <td>20岁</td>\n",
       "      <td>1</td>\n",
       "    </tr>\n",
       "    <tr>\n",
       "      <th>5</th>\n",
       "      <td>研发部</td>\n",
       "      <td>20岁</td>\n",
       "      <td>4</td>\n",
       "    </tr>\n",
       "    <tr>\n",
       "      <th>6</th>\n",
       "      <td>人事部</td>\n",
       "      <td>30岁</td>\n",
       "      <td>1</td>\n",
       "    </tr>\n",
       "    <tr>\n",
       "      <th>7</th>\n",
       "      <td>财务部</td>\n",
       "      <td>30岁</td>\n",
       "      <td>3</td>\n",
       "    </tr>\n",
       "    <tr>\n",
       "      <th>8</th>\n",
       "      <td>研发部</td>\n",
       "      <td>30岁</td>\n",
       "      <td>2</td>\n",
       "    </tr>\n",
       "  </tbody>\n",
       "</table>\n",
       "</div>"
      ],
      "text/plain": [
       "    部门   年龄  人数\n",
       "0  人事部  10岁   1\n",
       "1  财务部  10岁   0\n",
       "2  研发部  10岁   0\n",
       "3  人事部  20岁   2\n",
       "4  财务部  20岁   1\n",
       "5  研发部  20岁   4\n",
       "6  人事部  30岁   1\n",
       "7  财务部  30岁   3\n",
       "8  研发部  30岁   2"
      ]
     },
     "execution_count": 26,
     "metadata": {},
     "output_type": "execute_result"
    }
   ],
   "source": [
    "df = df.melt(id_vars='部门', var_name='年龄', value_name='人数')\n",
    "df"
   ]
  },
  {
   "cell_type": "markdown",
   "id": "8aad3a92-e362-4b40-ab20-9fe0bca75e28",
   "metadata": {},
   "source": [
    "9.25 DataFrame 对象的 pivot 方法"
   ]
  },
  {
   "cell_type": "code",
   "execution_count": 27,
   "id": "68752e53-a0e3-4b3e-8c46-2f2867535873",
   "metadata": {},
   "outputs": [
    {
     "data": {
      "text/html": [
       "<div>\n",
       "<style scoped>\n",
       "    .dataframe tbody tr th:only-of-type {\n",
       "        vertical-align: middle;\n",
       "    }\n",
       "\n",
       "    .dataframe tbody tr th {\n",
       "        vertical-align: top;\n",
       "    }\n",
       "\n",
       "    .dataframe thead th {\n",
       "        text-align: right;\n",
       "    }\n",
       "</style>\n",
       "<table border=\"1\" class=\"dataframe\">\n",
       "  <thead>\n",
       "    <tr style=\"text-align: right;\">\n",
       "      <th>年龄</th>\n",
       "      <th>部门</th>\n",
       "      <th>10岁</th>\n",
       "      <th>20岁</th>\n",
       "      <th>30岁</th>\n",
       "    </tr>\n",
       "  </thead>\n",
       "  <tbody>\n",
       "    <tr>\n",
       "      <th>0</th>\n",
       "      <td>人事部</td>\n",
       "      <td>1</td>\n",
       "      <td>2</td>\n",
       "      <td>1</td>\n",
       "    </tr>\n",
       "    <tr>\n",
       "      <th>1</th>\n",
       "      <td>研发部</td>\n",
       "      <td>0</td>\n",
       "      <td>4</td>\n",
       "      <td>2</td>\n",
       "    </tr>\n",
       "    <tr>\n",
       "      <th>2</th>\n",
       "      <td>财务部</td>\n",
       "      <td>0</td>\n",
       "      <td>1</td>\n",
       "      <td>3</td>\n",
       "    </tr>\n",
       "  </tbody>\n",
       "</table>\n",
       "</div>"
      ],
      "text/plain": [
       "年龄   部门  10岁  20岁  30岁\n",
       "0   人事部    1    2    1\n",
       "1   研发部    0    4    2\n",
       "2   财务部    0    1    3"
      ]
     },
     "execution_count": 27,
     "metadata": {},
     "output_type": "execute_result"
    }
   ],
   "source": [
    "df.pivot(index='部门', columns='年龄', values='人数').reset_index()"
   ]
  },
  {
   "cell_type": "markdown",
   "id": "a6e62c43-cf1f-426d-8d47-0caa8d223e31",
   "metadata": {},
   "source": [
    "9.26 ex18.csv 文件的读取"
   ]
  },
  {
   "cell_type": "code",
   "execution_count": 28,
   "id": "a778882d-8cb4-41a1-a472-b9b1a6d87985",
   "metadata": {},
   "outputs": [
    {
     "data": {
      "text/html": [
       "<div>\n",
       "<style scoped>\n",
       "    .dataframe tbody tr th:only-of-type {\n",
       "        vertical-align: middle;\n",
       "    }\n",
       "\n",
       "    .dataframe tbody tr th {\n",
       "        vertical-align: top;\n",
       "    }\n",
       "\n",
       "    .dataframe thead th {\n",
       "        text-align: right;\n",
       "    }\n",
       "</style>\n",
       "<table border=\"1\" class=\"dataframe\">\n",
       "  <thead>\n",
       "    <tr style=\"text-align: right;\">\n",
       "      <th></th>\n",
       "      <th>部门</th>\n",
       "      <th>男性20岁</th>\n",
       "      <th>女性20岁</th>\n",
       "      <th>男性30岁</th>\n",
       "      <th>女性30岁</th>\n",
       "    </tr>\n",
       "  </thead>\n",
       "  <tbody>\n",
       "    <tr>\n",
       "      <th>0</th>\n",
       "      <td>人事部</td>\n",
       "      <td>1</td>\n",
       "      <td>1</td>\n",
       "      <td>0</td>\n",
       "      <td>4</td>\n",
       "    </tr>\n",
       "    <tr>\n",
       "      <th>1</th>\n",
       "      <td>财务部</td>\n",
       "      <td>1</td>\n",
       "      <td>0</td>\n",
       "      <td>2</td>\n",
       "      <td>1</td>\n",
       "    </tr>\n",
       "  </tbody>\n",
       "</table>\n",
       "</div>"
      ],
      "text/plain": [
       "    部门  男性20岁  女性20岁  男性30岁  女性30岁\n",
       "0  人事部      1      1      0      4\n",
       "1  财务部      1      0      2      1"
      ]
     },
     "execution_count": 28,
     "metadata": {},
     "output_type": "execute_result"
    }
   ],
   "source": [
    "df = pd.read_csv('./data/ex18.csv', encoding='gbk' )\n",
    "df"
   ]
  },
  {
   "cell_type": "markdown",
   "id": "2b1a2ef9-9993-4a69-9d52-c7d39ea4df34",
   "metadata": {},
   "source": [
    "9.27 DataFrame 对象的 melt 方法"
   ]
  },
  {
   "cell_type": "code",
   "execution_count": 29,
   "id": "bc1fcbde-99db-4a4c-8267-2f437fdcb6e5",
   "metadata": {},
   "outputs": [
    {
     "data": {
      "text/html": [
       "<div>\n",
       "<style scoped>\n",
       "    .dataframe tbody tr th:only-of-type {\n",
       "        vertical-align: middle;\n",
       "    }\n",
       "\n",
       "    .dataframe tbody tr th {\n",
       "        vertical-align: top;\n",
       "    }\n",
       "\n",
       "    .dataframe thead th {\n",
       "        text-align: right;\n",
       "    }\n",
       "</style>\n",
       "<table border=\"1\" class=\"dataframe\">\n",
       "  <thead>\n",
       "    <tr style=\"text-align: right;\">\n",
       "      <th></th>\n",
       "      <th>部门</th>\n",
       "      <th>性別年龄</th>\n",
       "      <th>人数</th>\n",
       "    </tr>\n",
       "  </thead>\n",
       "  <tbody>\n",
       "    <tr>\n",
       "      <th>0</th>\n",
       "      <td>人事部</td>\n",
       "      <td>男性20岁</td>\n",
       "      <td>1</td>\n",
       "    </tr>\n",
       "    <tr>\n",
       "      <th>1</th>\n",
       "      <td>财务部</td>\n",
       "      <td>男性20岁</td>\n",
       "      <td>1</td>\n",
       "    </tr>\n",
       "    <tr>\n",
       "      <th>2</th>\n",
       "      <td>人事部</td>\n",
       "      <td>女性20岁</td>\n",
       "      <td>1</td>\n",
       "    </tr>\n",
       "    <tr>\n",
       "      <th>3</th>\n",
       "      <td>财务部</td>\n",
       "      <td>女性20岁</td>\n",
       "      <td>0</td>\n",
       "    </tr>\n",
       "    <tr>\n",
       "      <th>4</th>\n",
       "      <td>人事部</td>\n",
       "      <td>男性30岁</td>\n",
       "      <td>0</td>\n",
       "    </tr>\n",
       "    <tr>\n",
       "      <th>5</th>\n",
       "      <td>财务部</td>\n",
       "      <td>男性30岁</td>\n",
       "      <td>2</td>\n",
       "    </tr>\n",
       "    <tr>\n",
       "      <th>6</th>\n",
       "      <td>人事部</td>\n",
       "      <td>女性30岁</td>\n",
       "      <td>4</td>\n",
       "    </tr>\n",
       "    <tr>\n",
       "      <th>7</th>\n",
       "      <td>财务部</td>\n",
       "      <td>女性30岁</td>\n",
       "      <td>1</td>\n",
       "    </tr>\n",
       "  </tbody>\n",
       "</table>\n",
       "</div>"
      ],
      "text/plain": [
       "    部门   性別年龄  人数\n",
       "0  人事部  男性20岁   1\n",
       "1  财务部  男性20岁   1\n",
       "2  人事部  女性20岁   1\n",
       "3  财务部  女性20岁   0\n",
       "4  人事部  男性30岁   0\n",
       "5  财务部  男性30岁   2\n",
       "6  人事部  女性30岁   4\n",
       "7  财务部  女性30岁   1"
      ]
     },
     "execution_count": 29,
     "metadata": {},
     "output_type": "execute_result"
    }
   ],
   "source": [
    "df = df.melt(id_vars='部门', var_name='性別年龄', value_name='人数')\n",
    "df"
   ]
  },
  {
   "cell_type": "markdown",
   "id": "3c935b4b-a4e7-4446-91f8-d90299ec4ab8",
   "metadata": {},
   "source": [
    "9.28 Series 对象的 str 属性"
   ]
  },
  {
   "cell_type": "code",
   "execution_count": 30,
   "id": "2ba1686e-3fac-4a1b-a883-9f43dae172b8",
   "metadata": {},
   "outputs": [],
   "source": [
    "df['性別'] = df['性別年龄'].str[:2]\n",
    "df['年龄'] = df['性別年龄'].str[2:]"
   ]
  },
  {
   "cell_type": "code",
   "execution_count": 31,
   "id": "6e06d266-7c62-4c6d-bb1d-b3cfecb98a90",
   "metadata": {},
   "outputs": [
    {
     "data": {
      "text/html": [
       "<div>\n",
       "<style scoped>\n",
       "    .dataframe tbody tr th:only-of-type {\n",
       "        vertical-align: middle;\n",
       "    }\n",
       "\n",
       "    .dataframe tbody tr th {\n",
       "        vertical-align: top;\n",
       "    }\n",
       "\n",
       "    .dataframe thead th {\n",
       "        text-align: right;\n",
       "    }\n",
       "</style>\n",
       "<table border=\"1\" class=\"dataframe\">\n",
       "  <thead>\n",
       "    <tr style=\"text-align: right;\">\n",
       "      <th></th>\n",
       "      <th>部门</th>\n",
       "      <th>人数</th>\n",
       "      <th>性別</th>\n",
       "      <th>年龄</th>\n",
       "    </tr>\n",
       "  </thead>\n",
       "  <tbody>\n",
       "    <tr>\n",
       "      <th>0</th>\n",
       "      <td>人事部</td>\n",
       "      <td>1</td>\n",
       "      <td>男性</td>\n",
       "      <td>20岁</td>\n",
       "    </tr>\n",
       "    <tr>\n",
       "      <th>1</th>\n",
       "      <td>财务部</td>\n",
       "      <td>1</td>\n",
       "      <td>男性</td>\n",
       "      <td>20岁</td>\n",
       "    </tr>\n",
       "    <tr>\n",
       "      <th>2</th>\n",
       "      <td>人事部</td>\n",
       "      <td>1</td>\n",
       "      <td>女性</td>\n",
       "      <td>20岁</td>\n",
       "    </tr>\n",
       "    <tr>\n",
       "      <th>3</th>\n",
       "      <td>财务部</td>\n",
       "      <td>0</td>\n",
       "      <td>女性</td>\n",
       "      <td>20岁</td>\n",
       "    </tr>\n",
       "    <tr>\n",
       "      <th>4</th>\n",
       "      <td>人事部</td>\n",
       "      <td>0</td>\n",
       "      <td>男性</td>\n",
       "      <td>30岁</td>\n",
       "    </tr>\n",
       "    <tr>\n",
       "      <th>5</th>\n",
       "      <td>财务部</td>\n",
       "      <td>2</td>\n",
       "      <td>男性</td>\n",
       "      <td>30岁</td>\n",
       "    </tr>\n",
       "    <tr>\n",
       "      <th>6</th>\n",
       "      <td>人事部</td>\n",
       "      <td>4</td>\n",
       "      <td>女性</td>\n",
       "      <td>30岁</td>\n",
       "    </tr>\n",
       "    <tr>\n",
       "      <th>7</th>\n",
       "      <td>财务部</td>\n",
       "      <td>1</td>\n",
       "      <td>女性</td>\n",
       "      <td>30岁</td>\n",
       "    </tr>\n",
       "  </tbody>\n",
       "</table>\n",
       "</div>"
      ],
      "text/plain": [
       "    部门  人数  性別   年龄\n",
       "0  人事部   1  男性  20岁\n",
       "1  财务部   1  男性  20岁\n",
       "2  人事部   1  女性  20岁\n",
       "3  财务部   0  女性  20岁\n",
       "4  人事部   0  男性  30岁\n",
       "5  财务部   2  男性  30岁\n",
       "6  人事部   4  女性  30岁\n",
       "7  财务部   1  女性  30岁"
      ]
     },
     "execution_count": 31,
     "metadata": {},
     "output_type": "execute_result"
    }
   ],
   "source": [
    "df.drop('性別年龄', inplace=True, axis=1)\n",
    "df"
   ]
  },
  {
   "cell_type": "markdown",
   "id": "9d45cc48-0a5f-4261-a744-aa04af1ddefe",
   "metadata": {},
   "source": [
    "9.29 DataFrame 对象的 groupby 方法"
   ]
  },
  {
   "cell_type": "code",
   "execution_count": 32,
   "id": "5aa1b9b8-9bb7-4b9f-af8d-2529c977e800",
   "metadata": {},
   "outputs": [
    {
     "data": {
      "text/html": [
       "<div>\n",
       "<style scoped>\n",
       "    .dataframe tbody tr th:only-of-type {\n",
       "        vertical-align: middle;\n",
       "    }\n",
       "\n",
       "    .dataframe tbody tr th {\n",
       "        vertical-align: top;\n",
       "    }\n",
       "\n",
       "    .dataframe thead th {\n",
       "        text-align: right;\n",
       "    }\n",
       "</style>\n",
       "<table border=\"1\" class=\"dataframe\">\n",
       "  <thead>\n",
       "    <tr style=\"text-align: right;\">\n",
       "      <th></th>\n",
       "      <th>部门</th>\n",
       "      <th>人数</th>\n",
       "      <th>性別</th>\n",
       "    </tr>\n",
       "    <tr>\n",
       "      <th>年龄</th>\n",
       "      <th></th>\n",
       "      <th></th>\n",
       "      <th></th>\n",
       "    </tr>\n",
       "  </thead>\n",
       "  <tbody>\n",
       "    <tr>\n",
       "      <th>20岁</th>\n",
       "      <td>人事部财务部人事部财务部</td>\n",
       "      <td>3</td>\n",
       "      <td>男性男性女性女性</td>\n",
       "    </tr>\n",
       "    <tr>\n",
       "      <th>30岁</th>\n",
       "      <td>人事部财务部人事部财务部</td>\n",
       "      <td>7</td>\n",
       "      <td>男性男性女性女性</td>\n",
       "    </tr>\n",
       "  </tbody>\n",
       "</table>\n",
       "</div>"
      ],
      "text/plain": [
       "               部门  人数        性別\n",
       "年龄                             \n",
       "20岁  人事部财务部人事部财务部   3  男性男性女性女性\n",
       "30岁  人事部财务部人事部财务部   7  男性男性女性女性"
      ]
     },
     "execution_count": 32,
     "metadata": {},
     "output_type": "execute_result"
    }
   ],
   "source": [
    "df.groupby('年龄').sum()"
   ]
  },
  {
   "cell_type": "markdown",
   "id": "8a7d24ad-db21-45bb-b0f4-4f01ef0ce358",
   "metadata": {},
   "source": [
    "9.30 ex19.csv 文件的读取"
   ]
  },
  {
   "cell_type": "code",
   "execution_count": 33,
   "id": "fbdcd51d-4878-44b3-918b-1d7b522e4dfe",
   "metadata": {},
   "outputs": [
    {
     "data": {
      "text/html": [
       "<div>\n",
       "<style scoped>\n",
       "    .dataframe tbody tr th:only-of-type {\n",
       "        vertical-align: middle;\n",
       "    }\n",
       "\n",
       "    .dataframe tbody tr th {\n",
       "        vertical-align: top;\n",
       "    }\n",
       "\n",
       "    .dataframe thead th {\n",
       "        text-align: right;\n",
       "    }\n",
       "</style>\n",
       "<table border=\"1\" class=\"dataframe\">\n",
       "  <thead>\n",
       "    <tr style=\"text-align: right;\">\n",
       "      <th></th>\n",
       "      <th>name</th>\n",
       "      <th>type</th>\n",
       "      <th>1月</th>\n",
       "      <th>2月</th>\n",
       "      <th>3月</th>\n",
       "    </tr>\n",
       "  </thead>\n",
       "  <tbody>\n",
       "    <tr>\n",
       "      <th>0</th>\n",
       "      <td>A店</td>\n",
       "      <td>最低</td>\n",
       "      <td>80</td>\n",
       "      <td>100</td>\n",
       "      <td>70</td>\n",
       "    </tr>\n",
       "    <tr>\n",
       "      <th>1</th>\n",
       "      <td>A店</td>\n",
       "      <td>最高</td>\n",
       "      <td>120</td>\n",
       "      <td>120</td>\n",
       "      <td>90</td>\n",
       "    </tr>\n",
       "    <tr>\n",
       "      <th>2</th>\n",
       "      <td>B店</td>\n",
       "      <td>最低</td>\n",
       "      <td>90</td>\n",
       "      <td>90</td>\n",
       "      <td>100</td>\n",
       "    </tr>\n",
       "    <tr>\n",
       "      <th>3</th>\n",
       "      <td>B店</td>\n",
       "      <td>最高</td>\n",
       "      <td>110</td>\n",
       "      <td>150</td>\n",
       "      <td>110</td>\n",
       "    </tr>\n",
       "  </tbody>\n",
       "</table>\n",
       "</div>"
      ],
      "text/plain": [
       "  name type   1月   2月   3月\n",
       "0   A店   最低   80  100   70\n",
       "1   A店   最高  120  120   90\n",
       "2   B店   最低   90   90  100\n",
       "3   B店   最高  110  150  110"
      ]
     },
     "execution_count": 33,
     "metadata": {},
     "output_type": "execute_result"
    }
   ],
   "source": [
    "df = pd.read_csv('./data/ex19.csv')\n",
    "df"
   ]
  },
  {
   "cell_type": "markdown",
   "id": "a35ea288-8833-4770-895d-bd550fd8af84",
   "metadata": {},
   "source": [
    "9.31 DataFrame 对象的 melt 方法"
   ]
  },
  {
   "cell_type": "code",
   "execution_count": 34,
   "id": "818b7710-f53e-40f2-8ff2-023e48dec88c",
   "metadata": {},
   "outputs": [
    {
     "data": {
      "text/html": [
       "<div>\n",
       "<style scoped>\n",
       "    .dataframe tbody tr th:only-of-type {\n",
       "        vertical-align: middle;\n",
       "    }\n",
       "\n",
       "    .dataframe tbody tr th {\n",
       "        vertical-align: top;\n",
       "    }\n",
       "\n",
       "    .dataframe thead th {\n",
       "        text-align: right;\n",
       "    }\n",
       "</style>\n",
       "<table border=\"1\" class=\"dataframe\">\n",
       "  <thead>\n",
       "    <tr style=\"text-align: right;\">\n",
       "      <th></th>\n",
       "      <th>name</th>\n",
       "      <th>type</th>\n",
       "      <th>month</th>\n",
       "      <th>value</th>\n",
       "    </tr>\n",
       "  </thead>\n",
       "  <tbody>\n",
       "    <tr>\n",
       "      <th>0</th>\n",
       "      <td>A店</td>\n",
       "      <td>最低</td>\n",
       "      <td>1月</td>\n",
       "      <td>80</td>\n",
       "    </tr>\n",
       "    <tr>\n",
       "      <th>1</th>\n",
       "      <td>A店</td>\n",
       "      <td>最高</td>\n",
       "      <td>1月</td>\n",
       "      <td>120</td>\n",
       "    </tr>\n",
       "    <tr>\n",
       "      <th>2</th>\n",
       "      <td>B店</td>\n",
       "      <td>最低</td>\n",
       "      <td>1月</td>\n",
       "      <td>90</td>\n",
       "    </tr>\n",
       "    <tr>\n",
       "      <th>3</th>\n",
       "      <td>B店</td>\n",
       "      <td>最高</td>\n",
       "      <td>1月</td>\n",
       "      <td>110</td>\n",
       "    </tr>\n",
       "    <tr>\n",
       "      <th>4</th>\n",
       "      <td>A店</td>\n",
       "      <td>最低</td>\n",
       "      <td>2月</td>\n",
       "      <td>100</td>\n",
       "    </tr>\n",
       "    <tr>\n",
       "      <th>5</th>\n",
       "      <td>A店</td>\n",
       "      <td>最高</td>\n",
       "      <td>2月</td>\n",
       "      <td>120</td>\n",
       "    </tr>\n",
       "    <tr>\n",
       "      <th>6</th>\n",
       "      <td>B店</td>\n",
       "      <td>最低</td>\n",
       "      <td>2月</td>\n",
       "      <td>90</td>\n",
       "    </tr>\n",
       "    <tr>\n",
       "      <th>7</th>\n",
       "      <td>B店</td>\n",
       "      <td>最高</td>\n",
       "      <td>2月</td>\n",
       "      <td>150</td>\n",
       "    </tr>\n",
       "    <tr>\n",
       "      <th>8</th>\n",
       "      <td>A店</td>\n",
       "      <td>最低</td>\n",
       "      <td>3月</td>\n",
       "      <td>70</td>\n",
       "    </tr>\n",
       "    <tr>\n",
       "      <th>9</th>\n",
       "      <td>A店</td>\n",
       "      <td>最高</td>\n",
       "      <td>3月</td>\n",
       "      <td>90</td>\n",
       "    </tr>\n",
       "    <tr>\n",
       "      <th>10</th>\n",
       "      <td>B店</td>\n",
       "      <td>最低</td>\n",
       "      <td>3月</td>\n",
       "      <td>100</td>\n",
       "    </tr>\n",
       "    <tr>\n",
       "      <th>11</th>\n",
       "      <td>B店</td>\n",
       "      <td>最高</td>\n",
       "      <td>3月</td>\n",
       "      <td>110</td>\n",
       "    </tr>\n",
       "  </tbody>\n",
       "</table>\n",
       "</div>"
      ],
      "text/plain": [
       "   name type month  value\n",
       "0    A店   最低    1月     80\n",
       "1    A店   最高    1月    120\n",
       "2    B店   最低    1月     90\n",
       "3    B店   最高    1月    110\n",
       "4    A店   最低    2月    100\n",
       "5    A店   最高    2月    120\n",
       "6    B店   最低    2月     90\n",
       "7    B店   最高    2月    150\n",
       "8    A店   最低    3月     70\n",
       "9    A店   最高    3月     90\n",
       "10   B店   最低    3月    100\n",
       "11   B店   最高    3月    110"
      ]
     },
     "execution_count": 34,
     "metadata": {},
     "output_type": "execute_result"
    }
   ],
   "source": [
    "df_tidy = df.melt(id_vars=['name','type'], var_name='month')\n",
    "df_tidy"
   ]
  },
  {
   "cell_type": "markdown",
   "id": "e65ecd17-6bcf-4b4f-b6e3-b543aca6cbd9",
   "metadata": {},
   "source": [
    "9.32 DataFrame 对象的 pivot_table 方法"
   ]
  },
  {
   "cell_type": "code",
   "execution_count": 35,
   "id": "d4ac3eb7-d94f-4313-a50a-bf5fa84de8bf",
   "metadata": {},
   "outputs": [
    {
     "data": {
      "text/html": [
       "<div>\n",
       "<style scoped>\n",
       "    .dataframe tbody tr th:only-of-type {\n",
       "        vertical-align: middle;\n",
       "    }\n",
       "\n",
       "    .dataframe tbody tr th {\n",
       "        vertical-align: top;\n",
       "    }\n",
       "\n",
       "    .dataframe thead th {\n",
       "        text-align: right;\n",
       "    }\n",
       "</style>\n",
       "<table border=\"1\" class=\"dataframe\">\n",
       "  <thead>\n",
       "    <tr style=\"text-align: right;\">\n",
       "      <th>type</th>\n",
       "      <th>name</th>\n",
       "      <th>month</th>\n",
       "      <th>最低</th>\n",
       "      <th>最高</th>\n",
       "    </tr>\n",
       "  </thead>\n",
       "  <tbody>\n",
       "    <tr>\n",
       "      <th>0</th>\n",
       "      <td>A店</td>\n",
       "      <td>1月</td>\n",
       "      <td>80.0</td>\n",
       "      <td>120.0</td>\n",
       "    </tr>\n",
       "    <tr>\n",
       "      <th>1</th>\n",
       "      <td>A店</td>\n",
       "      <td>2月</td>\n",
       "      <td>100.0</td>\n",
       "      <td>120.0</td>\n",
       "    </tr>\n",
       "    <tr>\n",
       "      <th>2</th>\n",
       "      <td>A店</td>\n",
       "      <td>3月</td>\n",
       "      <td>70.0</td>\n",
       "      <td>90.0</td>\n",
       "    </tr>\n",
       "    <tr>\n",
       "      <th>3</th>\n",
       "      <td>B店</td>\n",
       "      <td>1月</td>\n",
       "      <td>90.0</td>\n",
       "      <td>110.0</td>\n",
       "    </tr>\n",
       "    <tr>\n",
       "      <th>4</th>\n",
       "      <td>B店</td>\n",
       "      <td>2月</td>\n",
       "      <td>90.0</td>\n",
       "      <td>150.0</td>\n",
       "    </tr>\n",
       "    <tr>\n",
       "      <th>5</th>\n",
       "      <td>B店</td>\n",
       "      <td>3月</td>\n",
       "      <td>100.0</td>\n",
       "      <td>110.0</td>\n",
       "    </tr>\n",
       "  </tbody>\n",
       "</table>\n",
       "</div>"
      ],
      "text/plain": [
       "type name month     最低     最高\n",
       "0      A店    1月   80.0  120.0\n",
       "1      A店    2月  100.0  120.0\n",
       "2      A店    3月   70.0   90.0\n",
       "3      B店    1月   90.0  110.0\n",
       "4      B店    2月   90.0  150.0\n",
       "5      B店    3月  100.0  110.0"
      ]
     },
     "execution_count": 35,
     "metadata": {},
     "output_type": "execute_result"
    }
   ],
   "source": [
    "df_tidy = df_tidy.pivot_table(index=['name','month'],\n",
    "                              columns='type',\n",
    "                              values='value').reset_index()\n",
    "\n",
    "df_tidy"
   ]
  },
  {
   "cell_type": "markdown",
   "id": "666116f4-c2fa-4bfd-a2c7-452098e56dcf",
   "metadata": {},
   "source": [
    "9.33 ex20.csv 文件的读取"
   ]
  },
  {
   "cell_type": "code",
   "execution_count": 36,
   "id": "4c7e03e7-b52a-491a-bbbe-9e976922565f",
   "metadata": {},
   "outputs": [
    {
     "data": {
      "text/html": [
       "<div>\n",
       "<style scoped>\n",
       "    .dataframe tbody tr th:only-of-type {\n",
       "        vertical-align: middle;\n",
       "    }\n",
       "\n",
       "    .dataframe tbody tr th {\n",
       "        vertical-align: top;\n",
       "    }\n",
       "\n",
       "    .dataframe thead th {\n",
       "        text-align: right;\n",
       "    }\n",
       "</style>\n",
       "<table border=\"1\" class=\"dataframe\">\n",
       "  <thead>\n",
       "    <tr style=\"text-align: right;\">\n",
       "      <th></th>\n",
       "      <th>name</th>\n",
       "      <th>category</th>\n",
       "      <th># of employees</th>\n",
       "      <th>city</th>\n",
       "      <th>month</th>\n",
       "      <th>sales</th>\n",
       "    </tr>\n",
       "  </thead>\n",
       "  <tbody>\n",
       "    <tr>\n",
       "      <th>0</th>\n",
       "      <td>A店</td>\n",
       "      <td>寿司</td>\n",
       "      <td>4</td>\n",
       "      <td>东京</td>\n",
       "      <td>1月</td>\n",
       "      <td>120</td>\n",
       "    </tr>\n",
       "    <tr>\n",
       "      <th>1</th>\n",
       "      <td>A店</td>\n",
       "      <td>寿司</td>\n",
       "      <td>4</td>\n",
       "      <td>东京</td>\n",
       "      <td>2月</td>\n",
       "      <td>100</td>\n",
       "    </tr>\n",
       "    <tr>\n",
       "      <th>2</th>\n",
       "      <td>A店</td>\n",
       "      <td>寿司</td>\n",
       "      <td>4</td>\n",
       "      <td>东京</td>\n",
       "      <td>3月</td>\n",
       "      <td>90</td>\n",
       "    </tr>\n",
       "    <tr>\n",
       "      <th>3</th>\n",
       "      <td>B店</td>\n",
       "      <td>拉面</td>\n",
       "      <td>3</td>\n",
       "      <td>大阪</td>\n",
       "      <td>1月</td>\n",
       "      <td>80</td>\n",
       "    </tr>\n",
       "    <tr>\n",
       "      <th>4</th>\n",
       "      <td>B店</td>\n",
       "      <td>拉面</td>\n",
       "      <td>3</td>\n",
       "      <td>大阪</td>\n",
       "      <td>2月</td>\n",
       "      <td>120</td>\n",
       "    </tr>\n",
       "    <tr>\n",
       "      <th>5</th>\n",
       "      <td>B店</td>\n",
       "      <td>拉面</td>\n",
       "      <td>3</td>\n",
       "      <td>大阪</td>\n",
       "      <td>3月</td>\n",
       "      <td>70</td>\n",
       "    </tr>\n",
       "    <tr>\n",
       "      <th>6</th>\n",
       "      <td>C店</td>\n",
       "      <td>荞麦面</td>\n",
       "      <td>6</td>\n",
       "      <td>札幌</td>\n",
       "      <td>1月</td>\n",
       "      <td>90</td>\n",
       "    </tr>\n",
       "    <tr>\n",
       "      <th>7</th>\n",
       "      <td>C店</td>\n",
       "      <td>荞麦面</td>\n",
       "      <td>6</td>\n",
       "      <td>札幌</td>\n",
       "      <td>2月</td>\n",
       "      <td>150</td>\n",
       "    </tr>\n",
       "    <tr>\n",
       "      <th>8</th>\n",
       "      <td>C店</td>\n",
       "      <td>荞麦面</td>\n",
       "      <td>6</td>\n",
       "      <td>札幌</td>\n",
       "      <td>3月</td>\n",
       "      <td>110</td>\n",
       "    </tr>\n",
       "  </tbody>\n",
       "</table>\n",
       "</div>"
      ],
      "text/plain": [
       "  name category  # of employees city month  sales\n",
       "0   A店       寿司               4   东京    1月    120\n",
       "1   A店       寿司               4   东京    2月    100\n",
       "2   A店       寿司               4   东京    3月     90\n",
       "3   B店       拉面               3   大阪    1月     80\n",
       "4   B店       拉面               3   大阪    2月    120\n",
       "5   B店       拉面               3   大阪    3月     70\n",
       "6   C店      荞麦面               6   札幌    1月     90\n",
       "7   C店      荞麦面               6   札幌    2月    150\n",
       "8   C店      荞麦面               6   札幌    3月    110"
      ]
     },
     "execution_count": 36,
     "metadata": {},
     "output_type": "execute_result"
    }
   ],
   "source": [
    "df = pd.read_csv('./data/ex20.csv', encoding='gbk'  )\n",
    "df"
   ]
  },
  {
   "cell_type": "markdown",
   "id": "3970750c-5cf9-4c74-a224-84f03f28ea57",
   "metadata": {},
   "source": [
    "9.34 drop_duplicates 方法和 reset_index 方法"
   ]
  },
  {
   "cell_type": "code",
   "execution_count": 37,
   "id": "8f84e9cd-0018-4370-9ba4-01786f3a9676",
   "metadata": {},
   "outputs": [
    {
     "data": {
      "text/html": [
       "<div>\n",
       "<style scoped>\n",
       "    .dataframe tbody tr th:only-of-type {\n",
       "        vertical-align: middle;\n",
       "    }\n",
       "\n",
       "    .dataframe tbody tr th {\n",
       "        vertical-align: top;\n",
       "    }\n",
       "\n",
       "    .dataframe thead th {\n",
       "        text-align: right;\n",
       "    }\n",
       "</style>\n",
       "<table border=\"1\" class=\"dataframe\">\n",
       "  <thead>\n",
       "    <tr style=\"text-align: right;\">\n",
       "      <th></th>\n",
       "      <th>name</th>\n",
       "      <th>category</th>\n",
       "      <th># of employees</th>\n",
       "      <th>city</th>\n",
       "    </tr>\n",
       "  </thead>\n",
       "  <tbody>\n",
       "    <tr>\n",
       "      <th>0</th>\n",
       "      <td>A店</td>\n",
       "      <td>寿司</td>\n",
       "      <td>4</td>\n",
       "      <td>东京</td>\n",
       "    </tr>\n",
       "    <tr>\n",
       "      <th>1</th>\n",
       "      <td>B店</td>\n",
       "      <td>拉面</td>\n",
       "      <td>3</td>\n",
       "      <td>大阪</td>\n",
       "    </tr>\n",
       "    <tr>\n",
       "      <th>2</th>\n",
       "      <td>C店</td>\n",
       "      <td>荞麦面</td>\n",
       "      <td>6</td>\n",
       "      <td>札幌</td>\n",
       "    </tr>\n",
       "  </tbody>\n",
       "</table>\n",
       "</div>"
      ],
      "text/plain": [
       "  name category  # of employees city\n",
       "0   A店       寿司               4   东京\n",
       "1   B店       拉面               3   大阪\n",
       "2   C店      荞麦面               6   札幌"
      ]
     },
     "execution_count": 37,
     "metadata": {},
     "output_type": "execute_result"
    }
   ],
   "source": [
    "cols = ['name', 'category', '# of employees', 'city']\n",
    "restaurant = df[cols].drop_duplicates().reset_index(drop=True)\n",
    "restaurant"
   ]
  },
  {
   "cell_type": "markdown",
   "id": "7292ebab-1c0e-4872-9073-40113fa2c2ad",
   "metadata": {},
   "source": [
    "9.35 特定列的引用和 copy 方法"
   ]
  },
  {
   "cell_type": "code",
   "execution_count": 38,
   "id": "cb9e0dcd-6345-4561-b0f0-875c0f926537",
   "metadata": {},
   "outputs": [
    {
     "data": {
      "text/html": [
       "<div>\n",
       "<style scoped>\n",
       "    .dataframe tbody tr th:only-of-type {\n",
       "        vertical-align: middle;\n",
       "    }\n",
       "\n",
       "    .dataframe tbody tr th {\n",
       "        vertical-align: top;\n",
       "    }\n",
       "\n",
       "    .dataframe thead th {\n",
       "        text-align: right;\n",
       "    }\n",
       "</style>\n",
       "<table border=\"1\" class=\"dataframe\">\n",
       "  <thead>\n",
       "    <tr style=\"text-align: right;\">\n",
       "      <th></th>\n",
       "      <th>name</th>\n",
       "      <th>month</th>\n",
       "      <th>sales</th>\n",
       "    </tr>\n",
       "  </thead>\n",
       "  <tbody>\n",
       "    <tr>\n",
       "      <th>0</th>\n",
       "      <td>A店</td>\n",
       "      <td>1月</td>\n",
       "      <td>120</td>\n",
       "    </tr>\n",
       "    <tr>\n",
       "      <th>1</th>\n",
       "      <td>A店</td>\n",
       "      <td>2月</td>\n",
       "      <td>100</td>\n",
       "    </tr>\n",
       "    <tr>\n",
       "      <th>2</th>\n",
       "      <td>A店</td>\n",
       "      <td>3月</td>\n",
       "      <td>90</td>\n",
       "    </tr>\n",
       "    <tr>\n",
       "      <th>3</th>\n",
       "      <td>B店</td>\n",
       "      <td>1月</td>\n",
       "      <td>80</td>\n",
       "    </tr>\n",
       "    <tr>\n",
       "      <th>4</th>\n",
       "      <td>B店</td>\n",
       "      <td>2月</td>\n",
       "      <td>120</td>\n",
       "    </tr>\n",
       "    <tr>\n",
       "      <th>5</th>\n",
       "      <td>B店</td>\n",
       "      <td>3月</td>\n",
       "      <td>70</td>\n",
       "    </tr>\n",
       "    <tr>\n",
       "      <th>6</th>\n",
       "      <td>C店</td>\n",
       "      <td>1月</td>\n",
       "      <td>90</td>\n",
       "    </tr>\n",
       "    <tr>\n",
       "      <th>7</th>\n",
       "      <td>C店</td>\n",
       "      <td>2月</td>\n",
       "      <td>150</td>\n",
       "    </tr>\n",
       "    <tr>\n",
       "      <th>8</th>\n",
       "      <td>C店</td>\n",
       "      <td>3月</td>\n",
       "      <td>110</td>\n",
       "    </tr>\n",
       "  </tbody>\n",
       "</table>\n",
       "</div>"
      ],
      "text/plain": [
       "  name month  sales\n",
       "0   A店    1月    120\n",
       "1   A店    2月    100\n",
       "2   A店    3月     90\n",
       "3   B店    1月     80\n",
       "4   B店    2月    120\n",
       "5   B店    3月     70\n",
       "6   C店    1月     90\n",
       "7   C店    2月    150\n",
       "8   C店    3月    110"
      ]
     },
     "execution_count": 38,
     "metadata": {},
     "output_type": "execute_result"
    }
   ],
   "source": [
    "sales = df[['name','month','sales']].copy()\n",
    "sales"
   ]
  },
  {
   "cell_type": "markdown",
   "id": "91cba7f9-30ed-45d4-8bae-3687627fc9ad",
   "metadata": {},
   "source": [
    "## 9.3 数据分析实例 基于Bank Marketing 数据集"
   ]
  },
  {
   "cell_type": "markdown",
   "id": "2dec004b-dc58-45f2-ae7e-cd83ef73a86d",
   "metadata": {},
   "source": [
    "### 9.3.1 数据集的概要和数据结构"
   ]
  },
  {
   "cell_type": "markdown",
   "id": "28eb34de-9058-41ed-9f25-2a6b2cadfbed",
   "metadata": {},
   "source": [
    "9.36 urllib 模块的 request.urlopen 函数"
   ]
  },
  {
   "cell_type": "code",
   "execution_count": 39,
   "id": "0b96aac3-1cf0-40d5-ab63-6c7336b14714",
   "metadata": {},
   "outputs": [],
   "source": [
    "import urllib\n",
    "url = 'https://archive.ics.uci.edu/ml/machine-learning-databases/00222/'\n",
    "zfile = 'bank-additional.zip'\n",
    "request = urllib.request.urlopen(url + zfile)"
   ]
  },
  {
   "cell_type": "markdown",
   "id": "7c8be340-577a-4528-9140-21ca21415d8b",
   "metadata": {},
   "source": [
    "9.37 io 模块和 zipfile 模块"
   ]
  },
  {
   "cell_type": "code",
   "execution_count": 40,
   "id": "395b1ab6-6fdf-4075-89af-b99ba8cfdc23",
   "metadata": {},
   "outputs": [
    {
     "data": {
      "text/plain": [
       "<zipfile.ZipFile file=<_io.BytesIO object at 0x0000019B07B154E0> mode='r'>"
      ]
     },
     "execution_count": 40,
     "metadata": {},
     "output_type": "execute_result"
    }
   ],
   "source": [
    "import io, zipfile\n",
    "file = zipfile.ZipFile(io.BytesIO(request.read()))\n",
    "file"
   ]
  },
  {
   "cell_type": "markdown",
   "id": "a2aa0c2a-96a6-4326-b684-569e6a32ed0e",
   "metadata": {},
   "source": [
    "9.38 read_csv 函数"
   ]
  },
  {
   "cell_type": "code",
   "execution_count": 41,
   "id": "500653ed-0548-4a73-87d1-be07a45890a4",
   "metadata": {},
   "outputs": [],
   "source": [
    "cfile = 'bank-additional/bank-additional-full.csv'\n",
    "df = pd.read_csv(file.extract(cfile), sep=';', engine='python')"
   ]
  },
  {
   "cell_type": "markdown",
   "id": "06ca258d-f4c0-47f4-b419-2637bbf053c4",
   "metadata": {},
   "source": [
    "9.39 head 方法和 shape 属性"
   ]
  },
  {
   "cell_type": "code",
   "execution_count": 42,
   "id": "bb29a691-3a31-461f-93d6-11ad5e8379e8",
   "metadata": {},
   "outputs": [
    {
     "data": {
      "text/html": [
       "<div>\n",
       "<style scoped>\n",
       "    .dataframe tbody tr th:only-of-type {\n",
       "        vertical-align: middle;\n",
       "    }\n",
       "\n",
       "    .dataframe tbody tr th {\n",
       "        vertical-align: top;\n",
       "    }\n",
       "\n",
       "    .dataframe thead th {\n",
       "        text-align: right;\n",
       "    }\n",
       "</style>\n",
       "<table border=\"1\" class=\"dataframe\">\n",
       "  <thead>\n",
       "    <tr style=\"text-align: right;\">\n",
       "      <th></th>\n",
       "      <th>age</th>\n",
       "      <th>job</th>\n",
       "      <th>marital</th>\n",
       "      <th>education</th>\n",
       "      <th>default</th>\n",
       "      <th>housing</th>\n",
       "      <th>loan</th>\n",
       "      <th>contact</th>\n",
       "      <th>month</th>\n",
       "      <th>day_of_week</th>\n",
       "      <th>...</th>\n",
       "      <th>campaign</th>\n",
       "      <th>pdays</th>\n",
       "      <th>previous</th>\n",
       "      <th>poutcome</th>\n",
       "      <th>emp.var.rate</th>\n",
       "      <th>cons.price.idx</th>\n",
       "      <th>cons.conf.idx</th>\n",
       "      <th>euribor3m</th>\n",
       "      <th>nr.employed</th>\n",
       "      <th>y</th>\n",
       "    </tr>\n",
       "  </thead>\n",
       "  <tbody>\n",
       "    <tr>\n",
       "      <th>0</th>\n",
       "      <td>56</td>\n",
       "      <td>housemaid</td>\n",
       "      <td>married</td>\n",
       "      <td>basic.4y</td>\n",
       "      <td>no</td>\n",
       "      <td>no</td>\n",
       "      <td>no</td>\n",
       "      <td>telephone</td>\n",
       "      <td>may</td>\n",
       "      <td>mon</td>\n",
       "      <td>...</td>\n",
       "      <td>1</td>\n",
       "      <td>999</td>\n",
       "      <td>0</td>\n",
       "      <td>nonexistent</td>\n",
       "      <td>1.1</td>\n",
       "      <td>93.994</td>\n",
       "      <td>-36.4</td>\n",
       "      <td>4.857</td>\n",
       "      <td>5191.0</td>\n",
       "      <td>no</td>\n",
       "    </tr>\n",
       "    <tr>\n",
       "      <th>1</th>\n",
       "      <td>57</td>\n",
       "      <td>services</td>\n",
       "      <td>married</td>\n",
       "      <td>high.school</td>\n",
       "      <td>unknown</td>\n",
       "      <td>no</td>\n",
       "      <td>no</td>\n",
       "      <td>telephone</td>\n",
       "      <td>may</td>\n",
       "      <td>mon</td>\n",
       "      <td>...</td>\n",
       "      <td>1</td>\n",
       "      <td>999</td>\n",
       "      <td>0</td>\n",
       "      <td>nonexistent</td>\n",
       "      <td>1.1</td>\n",
       "      <td>93.994</td>\n",
       "      <td>-36.4</td>\n",
       "      <td>4.857</td>\n",
       "      <td>5191.0</td>\n",
       "      <td>no</td>\n",
       "    </tr>\n",
       "    <tr>\n",
       "      <th>2</th>\n",
       "      <td>37</td>\n",
       "      <td>services</td>\n",
       "      <td>married</td>\n",
       "      <td>high.school</td>\n",
       "      <td>no</td>\n",
       "      <td>yes</td>\n",
       "      <td>no</td>\n",
       "      <td>telephone</td>\n",
       "      <td>may</td>\n",
       "      <td>mon</td>\n",
       "      <td>...</td>\n",
       "      <td>1</td>\n",
       "      <td>999</td>\n",
       "      <td>0</td>\n",
       "      <td>nonexistent</td>\n",
       "      <td>1.1</td>\n",
       "      <td>93.994</td>\n",
       "      <td>-36.4</td>\n",
       "      <td>4.857</td>\n",
       "      <td>5191.0</td>\n",
       "      <td>no</td>\n",
       "    </tr>\n",
       "    <tr>\n",
       "      <th>3</th>\n",
       "      <td>40</td>\n",
       "      <td>admin.</td>\n",
       "      <td>married</td>\n",
       "      <td>basic.6y</td>\n",
       "      <td>no</td>\n",
       "      <td>no</td>\n",
       "      <td>no</td>\n",
       "      <td>telephone</td>\n",
       "      <td>may</td>\n",
       "      <td>mon</td>\n",
       "      <td>...</td>\n",
       "      <td>1</td>\n",
       "      <td>999</td>\n",
       "      <td>0</td>\n",
       "      <td>nonexistent</td>\n",
       "      <td>1.1</td>\n",
       "      <td>93.994</td>\n",
       "      <td>-36.4</td>\n",
       "      <td>4.857</td>\n",
       "      <td>5191.0</td>\n",
       "      <td>no</td>\n",
       "    </tr>\n",
       "    <tr>\n",
       "      <th>4</th>\n",
       "      <td>56</td>\n",
       "      <td>services</td>\n",
       "      <td>married</td>\n",
       "      <td>high.school</td>\n",
       "      <td>no</td>\n",
       "      <td>no</td>\n",
       "      <td>yes</td>\n",
       "      <td>telephone</td>\n",
       "      <td>may</td>\n",
       "      <td>mon</td>\n",
       "      <td>...</td>\n",
       "      <td>1</td>\n",
       "      <td>999</td>\n",
       "      <td>0</td>\n",
       "      <td>nonexistent</td>\n",
       "      <td>1.1</td>\n",
       "      <td>93.994</td>\n",
       "      <td>-36.4</td>\n",
       "      <td>4.857</td>\n",
       "      <td>5191.0</td>\n",
       "      <td>no</td>\n",
       "    </tr>\n",
       "  </tbody>\n",
       "</table>\n",
       "<p>5 rows × 21 columns</p>\n",
       "</div>"
      ],
      "text/plain": [
       "   age        job  marital    education  default housing loan    contact  \\\n",
       "0   56  housemaid  married     basic.4y       no      no   no  telephone   \n",
       "1   57   services  married  high.school  unknown      no   no  telephone   \n",
       "2   37   services  married  high.school       no     yes   no  telephone   \n",
       "3   40     admin.  married     basic.6y       no      no   no  telephone   \n",
       "4   56   services  married  high.school       no      no  yes  telephone   \n",
       "\n",
       "  month day_of_week  ...  campaign  pdays  previous     poutcome emp.var.rate  \\\n",
       "0   may         mon  ...         1    999         0  nonexistent          1.1   \n",
       "1   may         mon  ...         1    999         0  nonexistent          1.1   \n",
       "2   may         mon  ...         1    999         0  nonexistent          1.1   \n",
       "3   may         mon  ...         1    999         0  nonexistent          1.1   \n",
       "4   may         mon  ...         1    999         0  nonexistent          1.1   \n",
       "\n",
       "   cons.price.idx  cons.conf.idx  euribor3m  nr.employed   y  \n",
       "0          93.994          -36.4      4.857       5191.0  no  \n",
       "1          93.994          -36.4      4.857       5191.0  no  \n",
       "2          93.994          -36.4      4.857       5191.0  no  \n",
       "3          93.994          -36.4      4.857       5191.0  no  \n",
       "4          93.994          -36.4      4.857       5191.0  no  \n",
       "\n",
       "[5 rows x 21 columns]"
      ]
     },
     "execution_count": 42,
     "metadata": {},
     "output_type": "execute_result"
    }
   ],
   "source": [
    "df.head()"
   ]
  },
  {
   "cell_type": "code",
   "execution_count": 43,
   "id": "1dd17d9d-73b1-4833-b052-337290907815",
   "metadata": {},
   "outputs": [
    {
     "data": {
      "text/plain": [
       "(41188, 21)"
      ]
     },
     "execution_count": 43,
     "metadata": {},
     "output_type": "execute_result"
    }
   ],
   "source": [
    "df.shape"
   ]
  },
  {
   "cell_type": "markdown",
   "id": "b0222c58-105e-477e-aa73-1d35f51cc0a0",
   "metadata": {},
   "source": [
    "### 9.3.2 数据的基本信息"
   ]
  },
  {
   "cell_type": "markdown",
   "id": "be12af45-3200-4b94-88d4-6b21412d7887",
   "metadata": {},
   "source": [
    "9.40 删除不需要的列"
   ]
  },
  {
   "cell_type": "code",
   "execution_count": 44,
   "id": "70948c63-8349-4169-a1c7-bfe5fba14216",
   "metadata": {},
   "outputs": [
    {
     "data": {
      "text/plain": [
       "(41188, 12)"
      ]
     },
     "execution_count": 44,
     "metadata": {},
     "output_type": "execute_result"
    }
   ],
   "source": [
    "use_cols = ['age','job','marital','education','default','housing',\n",
    "            'contact','month','day_of_week','duration','campaign','y']\n",
    "df = df[use_cols].copy()\n",
    "df.shape"
   ]
  },
  {
   "cell_type": "markdown",
   "id": "db5cb558-ef06-4ee9-908e-5e8d89975bf7",
   "metadata": {},
   "source": [
    "9.41 DataFrame 对象的 info 方法"
   ]
  },
  {
   "cell_type": "code",
   "execution_count": 45,
   "id": "310b6865-1a1a-4d17-832f-5b92b7a2c2e7",
   "metadata": {},
   "outputs": [
    {
     "name": "stdout",
     "output_type": "stream",
     "text": [
      "<class 'pandas.core.frame.DataFrame'>\n",
      "RangeIndex: 41188 entries, 0 to 41187\n",
      "Data columns (total 12 columns):\n",
      " #   Column       Non-Null Count  Dtype \n",
      "---  ------       --------------  ----- \n",
      " 0   age          41188 non-null  int64 \n",
      " 1   job          41188 non-null  object\n",
      " 2   marital      41188 non-null  object\n",
      " 3   education    41188 non-null  object\n",
      " 4   default      41188 non-null  object\n",
      " 5   housing      41188 non-null  object\n",
      " 6   contact      41188 non-null  object\n",
      " 7   month        41188 non-null  object\n",
      " 8   day_of_week  41188 non-null  object\n",
      " 9   duration     41188 non-null  int64 \n",
      " 10  campaign     41188 non-null  int64 \n",
      " 11  y            41188 non-null  object\n",
      "dtypes: int64(3), object(9)\n",
      "memory usage: 3.8+ MB\n"
     ]
    }
   ],
   "source": [
    "df.info()"
   ]
  },
  {
   "cell_type": "markdown",
   "id": "7a92ebe8-2991-4619-8f5d-cf8e68e36181",
   "metadata": {},
   "source": [
    "9.42 isna 方法和 sum 方法"
   ]
  },
  {
   "cell_type": "code",
   "execution_count": 46,
   "id": "2121d580-d22f-4e22-97d1-66ce2475d272",
   "metadata": {},
   "outputs": [
    {
     "data": {
      "text/plain": [
       "age            0\n",
       "job            0\n",
       "marital        0\n",
       "education      0\n",
       "default        0\n",
       "housing        0\n",
       "contact        0\n",
       "month          0\n",
       "day_of_week    0\n",
       "duration       0\n",
       "campaign       0\n",
       "y              0\n",
       "dtype: int64"
      ]
     },
     "execution_count": 46,
     "metadata": {},
     "output_type": "execute_result"
    }
   ],
   "source": [
    "df.isna().sum()"
   ]
  },
  {
   "cell_type": "markdown",
   "id": "64d0c52d-1b14-404f-bcf3-a29b5fbb6934",
   "metadata": {},
   "source": [
    "9.43 duplicated 方法和 sum 方法"
   ]
  },
  {
   "cell_type": "code",
   "execution_count": 47,
   "id": "c8df852f-e2c2-48b0-a724-bf3d74f2b734",
   "metadata": {},
   "outputs": [
    {
     "data": {
      "text/plain": [
       "20"
      ]
     },
     "execution_count": 47,
     "metadata": {},
     "output_type": "execute_result"
    }
   ],
   "source": [
    "df.duplicated().sum()"
   ]
  },
  {
   "cell_type": "markdown",
   "id": "a04fa6e9-f54d-4e73-a887-6cd63362c807",
   "metadata": {},
   "source": [
    "9.44 duplicated 方法和引用"
   ]
  },
  {
   "cell_type": "code",
   "execution_count": 48,
   "id": "bdb1340b-1c24-4171-9cfa-8baa70efd895",
   "metadata": {},
   "outputs": [
    {
     "data": {
      "text/html": [
       "<div>\n",
       "<style scoped>\n",
       "    .dataframe tbody tr th:only-of-type {\n",
       "        vertical-align: middle;\n",
       "    }\n",
       "\n",
       "    .dataframe tbody tr th {\n",
       "        vertical-align: top;\n",
       "    }\n",
       "\n",
       "    .dataframe thead th {\n",
       "        text-align: right;\n",
       "    }\n",
       "</style>\n",
       "<table border=\"1\" class=\"dataframe\">\n",
       "  <thead>\n",
       "    <tr style=\"text-align: right;\">\n",
       "      <th></th>\n",
       "      <th>age</th>\n",
       "      <th>job</th>\n",
       "      <th>marital</th>\n",
       "      <th>education</th>\n",
       "      <th>default</th>\n",
       "      <th>housing</th>\n",
       "      <th>contact</th>\n",
       "      <th>month</th>\n",
       "      <th>day_of_week</th>\n",
       "      <th>duration</th>\n",
       "      <th>campaign</th>\n",
       "      <th>y</th>\n",
       "    </tr>\n",
       "  </thead>\n",
       "  <tbody>\n",
       "    <tr>\n",
       "      <th>1265</th>\n",
       "      <td>39</td>\n",
       "      <td>blue-collar</td>\n",
       "      <td>married</td>\n",
       "      <td>basic.6y</td>\n",
       "      <td>no</td>\n",
       "      <td>no</td>\n",
       "      <td>telephone</td>\n",
       "      <td>may</td>\n",
       "      <td>thu</td>\n",
       "      <td>124</td>\n",
       "      <td>1</td>\n",
       "      <td>no</td>\n",
       "    </tr>\n",
       "    <tr>\n",
       "      <th>1266</th>\n",
       "      <td>39</td>\n",
       "      <td>blue-collar</td>\n",
       "      <td>married</td>\n",
       "      <td>basic.6y</td>\n",
       "      <td>no</td>\n",
       "      <td>no</td>\n",
       "      <td>telephone</td>\n",
       "      <td>may</td>\n",
       "      <td>thu</td>\n",
       "      <td>124</td>\n",
       "      <td>1</td>\n",
       "      <td>no</td>\n",
       "    </tr>\n",
       "  </tbody>\n",
       "</table>\n",
       "</div>"
      ],
      "text/plain": [
       "      age          job  marital education default housing    contact month  \\\n",
       "1265   39  blue-collar  married  basic.6y      no      no  telephone   may   \n",
       "1266   39  blue-collar  married  basic.6y      no      no  telephone   may   \n",
       "\n",
       "     day_of_week  duration  campaign   y  \n",
       "1265         thu       124         1  no  \n",
       "1266         thu       124         1  no  "
      ]
     },
     "execution_count": 48,
     "metadata": {},
     "output_type": "execute_result"
    }
   ],
   "source": [
    "df[df.duplicated(keep=False)][0:2]"
   ]
  },
  {
   "cell_type": "markdown",
   "id": "b6740be9-b01f-423f-8528-745e7c900929",
   "metadata": {},
   "source": [
    "9.45 drop_duplicates 方法"
   ]
  },
  {
   "cell_type": "code",
   "execution_count": 49,
   "id": "89db1559-f006-46db-b8d6-a1af465ab81a",
   "metadata": {},
   "outputs": [
    {
     "name": "stdout",
     "output_type": "stream",
     "text": [
      "(41168, 12)\n"
     ]
    }
   ],
   "source": [
    "df.drop_duplicates(keep='first', inplace=True)\n",
    "print(df.shape)"
   ]
  },
  {
   "cell_type": "markdown",
   "id": "81bc1269-ae71-4b8c-bfd2-7e1d63ae4d4c",
   "metadata": {},
   "source": [
    "### 9.3.3 客户数据分析"
   ]
  },
  {
   "cell_type": "markdown",
   "id": "e4adba9b-5245-48ac-bb8b-9f3b98bc4705",
   "metadata": {},
   "source": [
    "9.46 Series 对象的 value_counts 方法"
   ]
  },
  {
   "cell_type": "code",
   "execution_count": 50,
   "id": "353d5333-3d27-4aaa-b572-2699a5fb3711",
   "metadata": {},
   "outputs": [
    {
     "data": {
      "text/plain": [
       "job\n",
       "admin.           10418\n",
       "blue-collar       9250\n",
       "technician        6736\n",
       "services          3967\n",
       "management        2924\n",
       "retired           1718\n",
       "entrepreneur      1456\n",
       "self-employed     1420\n",
       "housemaid         1060\n",
       "unemployed        1014\n",
       "student            875\n",
       "unknown            330\n",
       "Name: count, dtype: int64"
      ]
     },
     "execution_count": 50,
     "metadata": {},
     "output_type": "execute_result"
    }
   ],
   "source": [
    "df['job'].value_counts()"
   ]
  },
  {
   "cell_type": "markdown",
   "id": "22ad6e20-b5a4-443d-a9bf-b94a2eb743e4",
   "metadata": {},
   "source": [
    "9.47 value_counts 方法和 plot 方法（kind='bar'）"
   ]
  },
  {
   "cell_type": "code",
   "execution_count": 51,
   "id": "5d913752-26c9-4622-b2a0-671575dd3df3",
   "metadata": {},
   "outputs": [
    {
     "data": {
      "text/plain": [
       "<Axes: xlabel='education'>"
      ]
     },
     "execution_count": 51,
     "metadata": {},
     "output_type": "execute_result"
    },
    {
     "data": {
      "image/png": "[encoded data removed]",
      "text/plain": [
       "<Figure size 640x480 with 1 Axes>"
      ]
     },
     "metadata": {},
     "output_type": "display_data"
    }
   ],
   "source": [
    "df['education'].value_counts().plot(kind='bar')"
   ]
  },
  {
   "cell_type": "markdown",
   "id": "1f3a95f1-ba3c-4073-81d7-58e753da41d2",
   "metadata": {},
   "source": [
    "9.48 value_counts 方法和 plot 方法（kind='pie'）"
   ]
  },
  {
   "cell_type": "code",
   "execution_count": 52,
   "id": "ca33eb2a-1f6b-42fd-9a5d-a447482bb4bb",
   "metadata": {},
   "outputs": [
    {
     "data": {
      "text/plain": [
       "<Axes: ylabel='count'>"
      ]
     },
     "execution_count": 52,
     "metadata": {},
     "output_type": "execute_result"
    },
    {
     "data": {
      "image/png": "[encoded data removed]",
      "text/plain": [
       "<Figure size 500x500 with 1 Axes>"
      ]
     },
     "metadata": {},
     "output_type": "display_data"
    }
   ],
   "source": [
    "df['marital'].value_counts().plot(kind='pie', figsize=(5,5))"
   ]
  },
  {
   "cell_type": "markdown",
   "id": "554da77a-0bf2-4d01-a295-40723849c14a",
   "metadata": {},
   "source": [
    "9.49 多列的 Series.value_counts 方法和 plot 方法（kind='barh'）"
   ]
  },
  {
   "cell_type": "code",
   "execution_count": 53,
   "id": "e5272784-f4a6-4ade-9a53-cec0c53aade7",
   "metadata": {},
   "outputs": [
    {
     "data": {
      "text/html": [
       "<div>\n",
       "<style scoped>\n",
       "    .dataframe tbody tr th:only-of-type {\n",
       "        vertical-align: middle;\n",
       "    }\n",
       "\n",
       "    .dataframe tbody tr th {\n",
       "        vertical-align: top;\n",
       "    }\n",
       "\n",
       "    .dataframe thead th {\n",
       "        text-align: right;\n",
       "    }\n",
       "</style>\n",
       "<table border=\"1\" class=\"dataframe\">\n",
       "  <thead>\n",
       "    <tr style=\"text-align: right;\">\n",
       "      <th></th>\n",
       "      <th>default</th>\n",
       "      <th>housing</th>\n",
       "      <th>y</th>\n",
       "    </tr>\n",
       "  </thead>\n",
       "  <tbody>\n",
       "    <tr>\n",
       "      <th>no</th>\n",
       "      <td>32570</td>\n",
       "      <td>18612</td>\n",
       "      <td>36529.0</td>\n",
       "    </tr>\n",
       "    <tr>\n",
       "      <th>unknown</th>\n",
       "      <td>8595</td>\n",
       "      <td>990</td>\n",
       "      <td>NaN</td>\n",
       "    </tr>\n",
       "    <tr>\n",
       "      <th>yes</th>\n",
       "      <td>3</td>\n",
       "      <td>21566</td>\n",
       "      <td>4639.0</td>\n",
       "    </tr>\n",
       "  </tbody>\n",
       "</table>\n",
       "</div>"
      ],
      "text/plain": [
       "         default  housing        y\n",
       "no         32570    18612  36529.0\n",
       "unknown     8595      990      NaN\n",
       "yes            3    21566   4639.0"
      ]
     },
     "execution_count": 53,
     "metadata": {},
     "output_type": "execute_result"
    }
   ],
   "source": [
    "cnt = df[['default','housing','y']].apply(pd.Series.value_counts)\n",
    "cnt"
   ]
  },
  {
   "cell_type": "code",
   "execution_count": 54,
   "id": "085dd390-d11b-449a-bf4f-641c288b7b97",
   "metadata": {},
   "outputs": [
    {
     "data": {
      "text/plain": [
       "<Axes: >"
      ]
     },
     "execution_count": 54,
     "metadata": {},
     "output_type": "execute_result"
    },
    {
     "data": {
      "image/png": "[encoded data removed]",
      "text/plain": [
       "<Figure size 640x480 with 1 Axes>"
      ]
     },
     "metadata": {},
     "output_type": "display_data"
    }
   ],
   "source": [
    "cnt.T.plot(kind='barh')"
   ]
  },
  {
   "cell_type": "markdown",
   "id": "cd2d2a76-699d-4463-8d1f-2491d52ffab8",
   "metadata": {},
   "source": [
    "9.50 DataFrame 对象的 describe 方法"
   ]
  },
  {
   "cell_type": "code",
   "execution_count": 55,
   "id": "c944156e-f813-4de5-92b9-27470b4fecc1",
   "metadata": {},
   "outputs": [
    {
     "data": {
      "text/plain": [
       "count    41168.000000\n",
       "mean        40.024436\n",
       "std         10.420507\n",
       "min         17.000000\n",
       "25%         32.000000\n",
       "50%         38.000000\n",
       "75%         47.000000\n",
       "max         98.000000\n",
       "Name: age, dtype: float64"
      ]
     },
     "execution_count": 55,
     "metadata": {},
     "output_type": "execute_result"
    }
   ],
   "source": [
    "df['age'].describe()"
   ]
  },
  {
   "cell_type": "markdown",
   "id": "6bea0e6f-08f2-4624-9c5e-8938a77c88b3",
   "metadata": {},
   "source": [
    "9.51 value_counts 方法和 plot 方法（kind='bar'）"
   ]
  },
  {
   "cell_type": "code",
   "execution_count": 56,
   "id": "d606b62b-a45e-4c85-8f44-60a8c6fa13a9",
   "metadata": {},
   "outputs": [
    {
     "data": {
      "text/plain": [
       "<Axes: xlabel='age'>"
      ]
     },
     "execution_count": 56,
     "metadata": {},
     "output_type": "execute_result"
    },
    {
     "data": {
      "image/png": "[encoded data removed]",
      "text/plain": [
       "<Figure size 1500x300 with 1 Axes>"
      ]
     },
     "metadata": {},
     "output_type": "display_data"
    }
   ],
   "source": [
    "df['age'].value_counts().sort_index().plot(kind='bar', figsize=(15,3))"
   ]
  },
  {
   "cell_type": "markdown",
   "id": "832cd4f3-6eb2-45ce-8891-e8b8f9b1a3c5",
   "metadata": {},
   "source": [
    "9.52 success_rate 函数的定义"
   ]
  },
  {
   "cell_type": "code",
   "execution_count": 57,
   "id": "99861f62-f929-4cb6-8ce3-88fe8502ae26",
   "metadata": {},
   "outputs": [],
   "source": [
    "def success_rate(col):\n",
    "    grouped = df.groupby([col, 'y'])\n",
    "    cnt = grouped['y'].count()\n",
    "    cnt.name = 'count'\n",
    "    cnt = cnt.reset_index()\n",
    "    cnt = cnt.pivot(index=col, columns='y', values='count')\n",
    "    cnt['per'] = round(cnt['yes'] / cnt.sum(axis=1) * 100, 2)\n",
    "    return cnt.sort_values(by='per', ascending=False)"
   ]
  },
  {
   "cell_type": "markdown",
   "id": "9fcd77e4-9ef9-493e-a817-dc2e57e21d06",
   "metadata": {},
   "source": [
    "9.53 列 education 的活动成功与否确认"
   ]
  },
  {
   "cell_type": "code",
   "execution_count": 58,
   "id": "dcf8f71d-d8ee-4469-a2fa-0134350ea31c",
   "metadata": {},
   "outputs": [
    {
     "data": {
      "text/html": [
       "<div>\n",
       "<style scoped>\n",
       "    .dataframe tbody tr th:only-of-type {\n",
       "        vertical-align: middle;\n",
       "    }\n",
       "\n",
       "    .dataframe tbody tr th {\n",
       "        vertical-align: top;\n",
       "    }\n",
       "\n",
       "    .dataframe thead th {\n",
       "        text-align: right;\n",
       "    }\n",
       "</style>\n",
       "<table border=\"1\" class=\"dataframe\">\n",
       "  <thead>\n",
       "    <tr style=\"text-align: right;\">\n",
       "      <th>y</th>\n",
       "      <th>no</th>\n",
       "      <th>yes</th>\n",
       "      <th>per</th>\n",
       "    </tr>\n",
       "    <tr>\n",
       "      <th>education</th>\n",
       "      <th></th>\n",
       "      <th></th>\n",
       "      <th></th>\n",
       "    </tr>\n",
       "  </thead>\n",
       "  <tbody>\n",
       "    <tr>\n",
       "      <th>illiterate</th>\n",
       "      <td>14</td>\n",
       "      <td>4</td>\n",
       "      <td>22.22</td>\n",
       "    </tr>\n",
       "    <tr>\n",
       "      <th>unknown</th>\n",
       "      <td>1479</td>\n",
       "      <td>251</td>\n",
       "      <td>14.51</td>\n",
       "    </tr>\n",
       "    <tr>\n",
       "      <th>university.degree</th>\n",
       "      <td>10493</td>\n",
       "      <td>1669</td>\n",
       "      <td>13.72</td>\n",
       "    </tr>\n",
       "    <tr>\n",
       "      <th>professional.course</th>\n",
       "      <td>4643</td>\n",
       "      <td>595</td>\n",
       "      <td>11.36</td>\n",
       "    </tr>\n",
       "    <tr>\n",
       "      <th>high.school</th>\n",
       "      <td>8480</td>\n",
       "      <td>1031</td>\n",
       "      <td>10.84</td>\n",
       "    </tr>\n",
       "    <tr>\n",
       "      <th>basic.4y</th>\n",
       "      <td>3747</td>\n",
       "      <td>428</td>\n",
       "      <td>10.25</td>\n",
       "    </tr>\n",
       "    <tr>\n",
       "      <th>basic.6y</th>\n",
       "      <td>2103</td>\n",
       "      <td>188</td>\n",
       "      <td>8.21</td>\n",
       "    </tr>\n",
       "    <tr>\n",
       "      <th>basic.9y</th>\n",
       "      <td>5570</td>\n",
       "      <td>473</td>\n",
       "      <td>7.83</td>\n",
       "    </tr>\n",
       "  </tbody>\n",
       "</table>\n",
       "</div>"
      ],
      "text/plain": [
       "y                       no   yes    per\n",
       "education                              \n",
       "illiterate              14     4  22.22\n",
       "unknown               1479   251  14.51\n",
       "university.degree    10493  1669  13.72\n",
       "professional.course   4643   595  11.36\n",
       "high.school           8480  1031  10.84\n",
       "basic.4y              3747   428  10.25\n",
       "basic.6y              2103   188   8.21\n",
       "basic.9y              5570   473   7.83"
      ]
     },
     "execution_count": 58,
     "metadata": {},
     "output_type": "execute_result"
    }
   ],
   "source": [
    "success_rate('education')"
   ]
  },
  {
   "cell_type": "markdown",
   "id": "dbc13377-f2f1-4651-88a1-166f0acb12d8",
   "metadata": {},
   "source": [
    "9.54 列 job 的活动成功与否确认"
   ]
  },
  {
   "cell_type": "code",
   "execution_count": 59,
   "id": "7aa6da5e-e1b4-4494-9640-13e9d0310b95",
   "metadata": {},
   "outputs": [
    {
     "data": {
      "text/html": [
       "<div>\n",
       "<style scoped>\n",
       "    .dataframe tbody tr th:only-of-type {\n",
       "        vertical-align: middle;\n",
       "    }\n",
       "\n",
       "    .dataframe tbody tr th {\n",
       "        vertical-align: top;\n",
       "    }\n",
       "\n",
       "    .dataframe thead th {\n",
       "        text-align: right;\n",
       "    }\n",
       "</style>\n",
       "<table border=\"1\" class=\"dataframe\">\n",
       "  <thead>\n",
       "    <tr style=\"text-align: right;\">\n",
       "      <th>y</th>\n",
       "      <th>no</th>\n",
       "      <th>yes</th>\n",
       "      <th>per</th>\n",
       "    </tr>\n",
       "    <tr>\n",
       "      <th>job</th>\n",
       "      <th></th>\n",
       "      <th></th>\n",
       "      <th></th>\n",
       "    </tr>\n",
       "  </thead>\n",
       "  <tbody>\n",
       "    <tr>\n",
       "      <th>student</th>\n",
       "      <td>600</td>\n",
       "      <td>275</td>\n",
       "      <td>31.43</td>\n",
       "    </tr>\n",
       "    <tr>\n",
       "      <th>retired</th>\n",
       "      <td>1284</td>\n",
       "      <td>434</td>\n",
       "      <td>25.26</td>\n",
       "    </tr>\n",
       "    <tr>\n",
       "      <th>unemployed</th>\n",
       "      <td>870</td>\n",
       "      <td>144</td>\n",
       "      <td>14.20</td>\n",
       "    </tr>\n",
       "    <tr>\n",
       "      <th>admin.</th>\n",
       "      <td>9067</td>\n",
       "      <td>1351</td>\n",
       "      <td>12.97</td>\n",
       "    </tr>\n",
       "    <tr>\n",
       "      <th>management</th>\n",
       "      <td>2596</td>\n",
       "      <td>328</td>\n",
       "      <td>11.22</td>\n",
       "    </tr>\n",
       "    <tr>\n",
       "      <th>unknown</th>\n",
       "      <td>293</td>\n",
       "      <td>37</td>\n",
       "      <td>11.21</td>\n",
       "    </tr>\n",
       "    <tr>\n",
       "      <th>technician</th>\n",
       "      <td>6006</td>\n",
       "      <td>730</td>\n",
       "      <td>10.84</td>\n",
       "    </tr>\n",
       "    <tr>\n",
       "      <th>self-employed</th>\n",
       "      <td>1271</td>\n",
       "      <td>149</td>\n",
       "      <td>10.49</td>\n",
       "    </tr>\n",
       "    <tr>\n",
       "      <th>housemaid</th>\n",
       "      <td>954</td>\n",
       "      <td>106</td>\n",
       "      <td>10.00</td>\n",
       "    </tr>\n",
       "    <tr>\n",
       "      <th>entrepreneur</th>\n",
       "      <td>1332</td>\n",
       "      <td>124</td>\n",
       "      <td>8.52</td>\n",
       "    </tr>\n",
       "    <tr>\n",
       "      <th>services</th>\n",
       "      <td>3644</td>\n",
       "      <td>323</td>\n",
       "      <td>8.14</td>\n",
       "    </tr>\n",
       "    <tr>\n",
       "      <th>blue-collar</th>\n",
       "      <td>8612</td>\n",
       "      <td>638</td>\n",
       "      <td>6.90</td>\n",
       "    </tr>\n",
       "  </tbody>\n",
       "</table>\n",
       "</div>"
      ],
      "text/plain": [
       "y                no   yes    per\n",
       "job                             \n",
       "student         600   275  31.43\n",
       "retired        1284   434  25.26\n",
       "unemployed      870   144  14.20\n",
       "admin.         9067  1351  12.97\n",
       "management     2596   328  11.22\n",
       "unknown         293    37  11.21\n",
       "technician     6006   730  10.84\n",
       "self-employed  1271   149  10.49\n",
       "housemaid       954   106  10.00\n",
       "entrepreneur   1332   124   8.52\n",
       "services       3644   323   8.14\n",
       "blue-collar    8612   638   6.90"
      ]
     },
     "execution_count": 59,
     "metadata": {},
     "output_type": "execute_result"
    }
   ],
   "source": [
    "success_rate('job')"
   ]
  },
  {
   "cell_type": "markdown",
   "id": "dbf947e4-f189-42da-9e61-35ffe9c25ba2",
   "metadata": {},
   "source": [
    "9.55 列 marital 的活动成功与否确认"
   ]
  },
  {
   "cell_type": "code",
   "execution_count": 60,
   "id": "c22ffcf9-a918-4f91-8104-541f10d1387f",
   "metadata": {},
   "outputs": [
    {
     "data": {
      "text/html": [
       "<div>\n",
       "<style scoped>\n",
       "    .dataframe tbody tr th:only-of-type {\n",
       "        vertical-align: middle;\n",
       "    }\n",
       "\n",
       "    .dataframe tbody tr th {\n",
       "        vertical-align: top;\n",
       "    }\n",
       "\n",
       "    .dataframe thead th {\n",
       "        text-align: right;\n",
       "    }\n",
       "</style>\n",
       "<table border=\"1\" class=\"dataframe\">\n",
       "  <thead>\n",
       "    <tr style=\"text-align: right;\">\n",
       "      <th>y</th>\n",
       "      <th>no</th>\n",
       "      <th>yes</th>\n",
       "      <th>per</th>\n",
       "    </tr>\n",
       "    <tr>\n",
       "      <th>marital</th>\n",
       "      <th></th>\n",
       "      <th></th>\n",
       "      <th></th>\n",
       "    </tr>\n",
       "  </thead>\n",
       "  <tbody>\n",
       "    <tr>\n",
       "      <th>unknown</th>\n",
       "      <td>68</td>\n",
       "      <td>12</td>\n",
       "      <td>15.00</td>\n",
       "    </tr>\n",
       "    <tr>\n",
       "      <th>single</th>\n",
       "      <td>9940</td>\n",
       "      <td>1620</td>\n",
       "      <td>14.01</td>\n",
       "    </tr>\n",
       "    <tr>\n",
       "      <th>divorced</th>\n",
       "      <td>4135</td>\n",
       "      <td>476</td>\n",
       "      <td>10.32</td>\n",
       "    </tr>\n",
       "    <tr>\n",
       "      <th>married</th>\n",
       "      <td>22386</td>\n",
       "      <td>2531</td>\n",
       "      <td>10.16</td>\n",
       "    </tr>\n",
       "  </tbody>\n",
       "</table>\n",
       "</div>"
      ],
      "text/plain": [
       "y            no   yes    per\n",
       "marital                     \n",
       "unknown      68    12  15.00\n",
       "single     9940  1620  14.01\n",
       "divorced   4135   476  10.32\n",
       "married   22386  2531  10.16"
      ]
     },
     "execution_count": 60,
     "metadata": {},
     "output_type": "execute_result"
    }
   ],
   "source": [
    "success_rate('marital')"
   ]
  },
  {
   "cell_type": "markdown",
   "id": "b2d5647b-b8ce-4153-9d79-4efd34585491",
   "metadata": {},
   "source": [
    "### 9.3.4 营销活动数据分析"
   ]
  },
  {
   "cell_type": "markdown",
   "id": "f04abe43-8909-4c6c-9c65-c08c6f59f4f1",
   "metadata": {},
   "source": [
    "9.56 Series 对象的 value_counts 方法"
   ]
  },
  {
   "cell_type": "code",
   "execution_count": 61,
   "id": "65e2edf0-e293-468e-9996-66031e43b85f",
   "metadata": {},
   "outputs": [
    {
     "data": {
      "text/plain": [
       "contact\n",
       "cellular     26127\n",
       "telephone    15041\n",
       "Name: count, dtype: int64"
      ]
     },
     "execution_count": 61,
     "metadata": {},
     "output_type": "execute_result"
    }
   ],
   "source": [
    "df['contact'].value_counts(dropna=False)"
   ]
  },
  {
   "cell_type": "markdown",
   "id": "865384a6-141e-41f3-b6f6-64d52162f128",
   "metadata": {},
   "source": [
    "9.57 DataFrame 对象的 describe 方法"
   ]
  },
  {
   "cell_type": "code",
   "execution_count": 62,
   "id": "93381e02-5c33-4597-93f2-2e5a73a96e0c",
   "metadata": {},
   "outputs": [
    {
     "data": {
      "text/html": [
       "<div>\n",
       "<style scoped>\n",
       "    .dataframe tbody tr th:only-of-type {\n",
       "        vertical-align: middle;\n",
       "    }\n",
       "\n",
       "    .dataframe tbody tr th {\n",
       "        vertical-align: top;\n",
       "    }\n",
       "\n",
       "    .dataframe thead th {\n",
       "        text-align: right;\n",
       "    }\n",
       "</style>\n",
       "<table border=\"1\" class=\"dataframe\">\n",
       "  <thead>\n",
       "    <tr style=\"text-align: right;\">\n",
       "      <th></th>\n",
       "      <th>duration</th>\n",
       "      <th>campaign</th>\n",
       "    </tr>\n",
       "  </thead>\n",
       "  <tbody>\n",
       "    <tr>\n",
       "      <th>count</th>\n",
       "      <td>41168.000000</td>\n",
       "      <td>41168.000000</td>\n",
       "    </tr>\n",
       "    <tr>\n",
       "      <th>mean</th>\n",
       "      <td>258.335941</td>\n",
       "      <td>2.568135</td>\n",
       "    </tr>\n",
       "    <tr>\n",
       "      <th>std</th>\n",
       "      <td>259.324728</td>\n",
       "      <td>2.770520</td>\n",
       "    </tr>\n",
       "    <tr>\n",
       "      <th>min</th>\n",
       "      <td>0.000000</td>\n",
       "      <td>1.000000</td>\n",
       "    </tr>\n",
       "    <tr>\n",
       "      <th>25%</th>\n",
       "      <td>102.000000</td>\n",
       "      <td>1.000000</td>\n",
       "    </tr>\n",
       "    <tr>\n",
       "      <th>50%</th>\n",
       "      <td>180.000000</td>\n",
       "      <td>2.000000</td>\n",
       "    </tr>\n",
       "    <tr>\n",
       "      <th>75%</th>\n",
       "      <td>319.000000</td>\n",
       "      <td>3.000000</td>\n",
       "    </tr>\n",
       "    <tr>\n",
       "      <th>max</th>\n",
       "      <td>4918.000000</td>\n",
       "      <td>56.000000</td>\n",
       "    </tr>\n",
       "  </tbody>\n",
       "</table>\n",
       "</div>"
      ],
      "text/plain": [
       "           duration      campaign\n",
       "count  41168.000000  41168.000000\n",
       "mean     258.335941      2.568135\n",
       "std      259.324728      2.770520\n",
       "min        0.000000      1.000000\n",
       "25%      102.000000      1.000000\n",
       "50%      180.000000      2.000000\n",
       "75%      319.000000      3.000000\n",
       "max     4918.000000     56.000000"
      ]
     },
     "execution_count": 62,
     "metadata": {},
     "output_type": "execute_result"
    }
   ],
   "source": [
    "df[['duration', 'campaign']].describe()"
   ]
  },
  {
   "cell_type": "markdown",
   "id": "b7c0a6ee-da81-4a44-9765-5d307e13820e",
   "metadata": {},
   "source": [
    "9.58 基于列 duration 的值的索引引用"
   ]
  },
  {
   "cell_type": "code",
   "execution_count": 63,
   "id": "16e8ee88-ecf5-408b-b29d-7f1fb3d43321",
   "metadata": {},
   "outputs": [
    {
     "data": {
      "text/html": [
       "<div>\n",
       "<style scoped>\n",
       "    .dataframe tbody tr th:only-of-type {\n",
       "        vertical-align: middle;\n",
       "    }\n",
       "\n",
       "    .dataframe tbody tr th {\n",
       "        vertical-align: top;\n",
       "    }\n",
       "\n",
       "    .dataframe thead th {\n",
       "        text-align: right;\n",
       "    }\n",
       "</style>\n",
       "<table border=\"1\" class=\"dataframe\">\n",
       "  <thead>\n",
       "    <tr style=\"text-align: right;\">\n",
       "      <th></th>\n",
       "      <th>age</th>\n",
       "      <th>job</th>\n",
       "      <th>marital</th>\n",
       "      <th>education</th>\n",
       "      <th>default</th>\n",
       "      <th>housing</th>\n",
       "      <th>contact</th>\n",
       "      <th>month</th>\n",
       "      <th>day_of_week</th>\n",
       "      <th>duration</th>\n",
       "      <th>campaign</th>\n",
       "      <th>y</th>\n",
       "    </tr>\n",
       "  </thead>\n",
       "  <tbody>\n",
       "    <tr>\n",
       "      <th>22192</th>\n",
       "      <td>52</td>\n",
       "      <td>blue-collar</td>\n",
       "      <td>married</td>\n",
       "      <td>basic.4y</td>\n",
       "      <td>no</td>\n",
       "      <td>no</td>\n",
       "      <td>telephone</td>\n",
       "      <td>aug</td>\n",
       "      <td>thu</td>\n",
       "      <td>4199</td>\n",
       "      <td>3</td>\n",
       "      <td>yes</td>\n",
       "    </tr>\n",
       "    <tr>\n",
       "      <th>24091</th>\n",
       "      <td>33</td>\n",
       "      <td>technician</td>\n",
       "      <td>single</td>\n",
       "      <td>professional.course</td>\n",
       "      <td>no</td>\n",
       "      <td>yes</td>\n",
       "      <td>telephone</td>\n",
       "      <td>nov</td>\n",
       "      <td>mon</td>\n",
       "      <td>4918</td>\n",
       "      <td>1</td>\n",
       "      <td>no</td>\n",
       "    </tr>\n",
       "  </tbody>\n",
       "</table>\n",
       "</div>"
      ],
      "text/plain": [
       "       age          job  marital            education default housing  \\\n",
       "22192   52  blue-collar  married             basic.4y      no      no   \n",
       "24091   33   technician   single  professional.course      no     yes   \n",
       "\n",
       "         contact month day_of_week  duration  campaign    y  \n",
       "22192  telephone   aug         thu      4199         3  yes  \n",
       "24091  telephone   nov         mon      4918         1   no  "
      ]
     },
     "execution_count": 63,
     "metadata": {},
     "output_type": "execute_result"
    }
   ],
   "source": [
    "df[df['duration'] > 4000]"
   ]
  },
  {
   "cell_type": "markdown",
   "id": "d37a3224-50d8-4f40-82ce-2991b89b03ac",
   "metadata": {},
   "source": [
    "9.59 cut 函数和 value_counts 方法"
   ]
  },
  {
   "cell_type": "code",
   "execution_count": 64,
   "id": "4f44555d-02ac-46ef-8e5f-7f2f3d401eac",
   "metadata": {},
   "outputs": [
    {
     "data": {
      "text/plain": [
       "duration_bins\n",
       "(-4.918, 983.6]     40158\n",
       "(983.6, 1967.2]       943\n",
       "(1967.2, 2950.8]       52\n",
       "(2950.8, 3934.4]       13\n",
       "(3934.4, 4918.0]        2\n",
       "Name: count, dtype: int64"
      ]
     },
     "execution_count": 64,
     "metadata": {},
     "output_type": "execute_result"
    }
   ],
   "source": [
    "df['duration_bins'] = pd.cut(df['duration'], 5)\n",
    "df['duration_bins'].value_counts()"
   ]
  },
  {
   "cell_type": "markdown",
   "id": "dad3301a-76b6-4ddb-8fb0-9acb1fcdab6c",
   "metadata": {},
   "source": [
    "9.60 groupby 方法和 size 方法"
   ]
  },
  {
   "cell_type": "code",
   "execution_count": 65,
   "id": "a6bb7d56-b6b5-47a2-b160-82daeb997fc4",
   "metadata": {},
   "outputs": [
    {
     "name": "stderr",
     "output_type": "stream",
     "text": [
      "C:\\Users\\liye\\AppData\\Local\\Temp\\ipykernel_13252\\1738093771.py:1: FutureWarning: The default of observed=False is deprecated and will be changed to True in a future version of pandas. Pass observed=False to retain current behavior or observed=True to adopt the future default and silence this warning.\n",
      "  grouped = df.groupby(['duration_bins','y'])[['y']].size()\n"
     ]
    },
    {
     "data": {
      "text/plain": [
       "duration_bins     y  \n",
       "(-4.918, 983.6]   no     36117\n",
       "                  yes     4041\n",
       "(983.6, 1967.2]   no       388\n",
       "                  yes      555\n",
       "(1967.2, 2950.8]  no        15\n",
       "                  yes       37\n",
       "(2950.8, 3934.4]  no         8\n",
       "                  yes        5\n",
       "(3934.4, 4918.0]  no         1\n",
       "                  yes        1\n",
       "dtype: int64"
      ]
     },
     "execution_count": 65,
     "metadata": {},
     "output_type": "execute_result"
    }
   ],
   "source": [
    "grouped = df.groupby(['duration_bins','y'])[['y']].size()\n",
    "grouped"
   ]
  },
  {
   "cell_type": "markdown",
   "id": "52d04ca0-f7b0-4716-83c0-d6a4546cb7f4",
   "metadata": {},
   "source": [
    "9.61 reset_index 方法和 pivot 方法"
   ]
  },
  {
   "cell_type": "code",
   "execution_count": 66,
   "id": "6c96e4c7-83f2-4c14-83bb-9d5c2c7dbaf2",
   "metadata": {},
   "outputs": [
    {
     "data": {
      "text/html": [
       "<div>\n",
       "<style scoped>\n",
       "    .dataframe tbody tr th:only-of-type {\n",
       "        vertical-align: middle;\n",
       "    }\n",
       "\n",
       "    .dataframe tbody tr th {\n",
       "        vertical-align: top;\n",
       "    }\n",
       "\n",
       "    .dataframe thead th {\n",
       "        text-align: right;\n",
       "    }\n",
       "</style>\n",
       "<table border=\"1\" class=\"dataframe\">\n",
       "  <thead>\n",
       "    <tr style=\"text-align: right;\">\n",
       "      <th>y</th>\n",
       "      <th>no</th>\n",
       "      <th>yes</th>\n",
       "    </tr>\n",
       "    <tr>\n",
       "      <th>duration_bins</th>\n",
       "      <th></th>\n",
       "      <th></th>\n",
       "    </tr>\n",
       "  </thead>\n",
       "  <tbody>\n",
       "    <tr>\n",
       "      <th>(-4.918, 983.6]</th>\n",
       "      <td>36117</td>\n",
       "      <td>4041</td>\n",
       "    </tr>\n",
       "    <tr>\n",
       "      <th>(983.6, 1967.2]</th>\n",
       "      <td>388</td>\n",
       "      <td>555</td>\n",
       "    </tr>\n",
       "    <tr>\n",
       "      <th>(1967.2, 2950.8]</th>\n",
       "      <td>15</td>\n",
       "      <td>37</td>\n",
       "    </tr>\n",
       "    <tr>\n",
       "      <th>(2950.8, 3934.4]</th>\n",
       "      <td>8</td>\n",
       "      <td>5</td>\n",
       "    </tr>\n",
       "    <tr>\n",
       "      <th>(3934.4, 4918.0]</th>\n",
       "      <td>1</td>\n",
       "      <td>1</td>\n",
       "    </tr>\n",
       "  </tbody>\n",
       "</table>\n",
       "</div>"
      ],
      "text/plain": [
       "y                    no   yes\n",
       "duration_bins                \n",
       "(-4.918, 983.6]   36117  4041\n",
       "(983.6, 1967.2]     388   555\n",
       "(1967.2, 2950.8]     15    37\n",
       "(2950.8, 3934.4]      8     5\n",
       "(3934.4, 4918.0]      1     1"
      ]
     },
     "execution_count": 66,
     "metadata": {},
     "output_type": "execute_result"
    }
   ],
   "source": [
    "grouped.reset_index().pivot(index='duration_bins', columns='y', values=0)"
   ]
  },
  {
   "cell_type": "markdown",
   "id": "566dcee9-831a-47f6-8214-8025ff640968",
   "metadata": {},
   "source": [
    "9.62 value_counts 方法和 plot 方法（kind='barh'）"
   ]
  },
  {
   "cell_type": "code",
   "execution_count": 67,
   "id": "255015c8-0140-4064-9bd8-de29204420df",
   "metadata": {},
   "outputs": [
    {
     "data": {
      "text/plain": [
       "<Axes: ylabel='month'>"
      ]
     },
     "execution_count": 67,
     "metadata": {},
     "output_type": "execute_result"
    },
    {
     "data": {
      "image/png": "[encoded data removed]",
      "text/plain": [
       "<Figure size 640x480 with 1 Axes>"
      ]
     },
     "metadata": {},
     "output_type": "display_data"
    }
   ],
   "source": [
    "df['month'].value_counts().plot(kind='barh')"
   ]
  },
  {
   "cell_type": "code",
   "execution_count": 68,
   "id": "b27e0e1d-3001-4da2-a1b1-6de1011d7daf",
   "metadata": {},
   "outputs": [
    {
     "data": {
      "text/plain": [
       "<Axes: ylabel='day_of_week'>"
      ]
     },
     "execution_count": 68,
     "metadata": {},
     "output_type": "execute_result"
    },
    {
     "data": {
      "image/png": "[encoded data removed]",
      "text/plain": [
       "<Figure size 640x480 with 1 Axes>"
      ]
     },
     "metadata": {},
     "output_type": "display_data"
    }
   ],
   "source": [
    "df['day_of_week'].value_counts().plot(kind='barh')"
   ]
  },
  {
   "cell_type": "markdown",
   "id": "bb3770d2-74bc-42c2-b140-28a8ca88bdaf",
   "metadata": {},
   "source": [
    "9.63 列 month 的活动成功与否"
   ]
  },
  {
   "cell_type": "code",
   "execution_count": 69,
   "id": "c8718dac-2a63-449d-bd2a-f1baca5b3b44",
   "metadata": {},
   "outputs": [
    {
     "data": {
      "text/html": [
       "<div>\n",
       "<style scoped>\n",
       "    .dataframe tbody tr th:only-of-type {\n",
       "        vertical-align: middle;\n",
       "    }\n",
       "\n",
       "    .dataframe tbody tr th {\n",
       "        vertical-align: top;\n",
       "    }\n",
       "\n",
       "    .dataframe thead th {\n",
       "        text-align: right;\n",
       "    }\n",
       "</style>\n",
       "<table border=\"1\" class=\"dataframe\">\n",
       "  <thead>\n",
       "    <tr style=\"text-align: right;\">\n",
       "      <th>y</th>\n",
       "      <th>no</th>\n",
       "      <th>yes</th>\n",
       "      <th>per</th>\n",
       "    </tr>\n",
       "    <tr>\n",
       "      <th>month</th>\n",
       "      <th></th>\n",
       "      <th></th>\n",
       "      <th></th>\n",
       "    </tr>\n",
       "  </thead>\n",
       "  <tbody>\n",
       "    <tr>\n",
       "      <th>mar</th>\n",
       "      <td>270</td>\n",
       "      <td>276</td>\n",
       "      <td>50.55</td>\n",
       "    </tr>\n",
       "    <tr>\n",
       "      <th>dec</th>\n",
       "      <td>93</td>\n",
       "      <td>89</td>\n",
       "      <td>48.90</td>\n",
       "    </tr>\n",
       "    <tr>\n",
       "      <th>sep</th>\n",
       "      <td>314</td>\n",
       "      <td>256</td>\n",
       "      <td>44.91</td>\n",
       "    </tr>\n",
       "    <tr>\n",
       "      <th>oct</th>\n",
       "      <td>402</td>\n",
       "      <td>315</td>\n",
       "      <td>43.93</td>\n",
       "    </tr>\n",
       "    <tr>\n",
       "      <th>apr</th>\n",
       "      <td>2092</td>\n",
       "      <td>539</td>\n",
       "      <td>20.49</td>\n",
       "    </tr>\n",
       "    <tr>\n",
       "      <th>aug</th>\n",
       "      <td>5518</td>\n",
       "      <td>655</td>\n",
       "      <td>10.61</td>\n",
       "    </tr>\n",
       "    <tr>\n",
       "      <th>jun</th>\n",
       "      <td>4759</td>\n",
       "      <td>559</td>\n",
       "      <td>10.51</td>\n",
       "    </tr>\n",
       "    <tr>\n",
       "      <th>nov</th>\n",
       "      <td>3683</td>\n",
       "      <td>416</td>\n",
       "      <td>10.15</td>\n",
       "    </tr>\n",
       "    <tr>\n",
       "      <th>jul</th>\n",
       "      <td>6521</td>\n",
       "      <td>648</td>\n",
       "      <td>9.04</td>\n",
       "    </tr>\n",
       "    <tr>\n",
       "      <th>may</th>\n",
       "      <td>12877</td>\n",
       "      <td>886</td>\n",
       "      <td>6.44</td>\n",
       "    </tr>\n",
       "  </tbody>\n",
       "</table>\n",
       "</div>"
      ],
      "text/plain": [
       "y         no  yes    per\n",
       "month                   \n",
       "mar      270  276  50.55\n",
       "dec       93   89  48.90\n",
       "sep      314  256  44.91\n",
       "oct      402  315  43.93\n",
       "apr     2092  539  20.49\n",
       "aug     5518  655  10.61\n",
       "jun     4759  559  10.51\n",
       "nov     3683  416  10.15\n",
       "jul     6521  648   9.04\n",
       "may    12877  886   6.44"
      ]
     },
     "execution_count": 69,
     "metadata": {},
     "output_type": "execute_result"
    }
   ],
   "source": [
    "success_rate('month')"
   ]
  },
  {
   "cell_type": "markdown",
   "id": "05fb2f72-f450-4521-aaab-8fae951bb5eb",
   "metadata": {},
   "source": [
    "9.64 列 day_of_week 的活动成功与否"
   ]
  },
  {
   "cell_type": "code",
   "execution_count": 70,
   "id": "70ea8cf3-44ca-4837-8f5c-156a28305070",
   "metadata": {},
   "outputs": [
    {
     "data": {
      "text/html": [
       "<div>\n",
       "<style scoped>\n",
       "    .dataframe tbody tr th:only-of-type {\n",
       "        vertical-align: middle;\n",
       "    }\n",
       "\n",
       "    .dataframe tbody tr th {\n",
       "        vertical-align: top;\n",
       "    }\n",
       "\n",
       "    .dataframe thead th {\n",
       "        text-align: right;\n",
       "    }\n",
       "</style>\n",
       "<table border=\"1\" class=\"dataframe\">\n",
       "  <thead>\n",
       "    <tr style=\"text-align: right;\">\n",
       "      <th>y</th>\n",
       "      <th>no</th>\n",
       "      <th>yes</th>\n",
       "      <th>per</th>\n",
       "    </tr>\n",
       "    <tr>\n",
       "      <th>day_of_week</th>\n",
       "      <th></th>\n",
       "      <th></th>\n",
       "      <th></th>\n",
       "    </tr>\n",
       "  </thead>\n",
       "  <tbody>\n",
       "    <tr>\n",
       "      <th>thu</th>\n",
       "      <td>7572</td>\n",
       "      <td>1044</td>\n",
       "      <td>12.12</td>\n",
       "    </tr>\n",
       "    <tr>\n",
       "      <th>tue</th>\n",
       "      <td>7131</td>\n",
       "      <td>953</td>\n",
       "      <td>11.79</td>\n",
       "    </tr>\n",
       "    <tr>\n",
       "      <th>wed</th>\n",
       "      <td>7182</td>\n",
       "      <td>949</td>\n",
       "      <td>11.67</td>\n",
       "    </tr>\n",
       "    <tr>\n",
       "      <th>fri</th>\n",
       "      <td>6980</td>\n",
       "      <td>846</td>\n",
       "      <td>10.81</td>\n",
       "    </tr>\n",
       "    <tr>\n",
       "      <th>mon</th>\n",
       "      <td>7664</td>\n",
       "      <td>847</td>\n",
       "      <td>9.95</td>\n",
       "    </tr>\n",
       "  </tbody>\n",
       "</table>\n",
       "</div>"
      ],
      "text/plain": [
       "y              no   yes    per\n",
       "day_of_week                   \n",
       "thu          7572  1044  12.12\n",
       "tue          7131   953  11.79\n",
       "wed          7182   949  11.67\n",
       "fri          6980   846  10.81\n",
       "mon          7664   847   9.95"
      ]
     },
     "execution_count": 70,
     "metadata": {},
     "output_type": "execute_result"
    }
   ],
   "source": [
    "success_rate('day_of_week')"
   ]
  }
 ],
 "metadata": {
  "kernelspec": {
   "display_name": "Python 3 (ipykernel)",
   "language": "python",
   "name": "python3"
  },
  "language_info": {
   "codemirror_mode": {
    "name": "ipython",
    "version": 3
   },
   "file_extension": ".py",
   "mimetype": "text/x-python",
   "name": "python",
   "nbconvert_exporter": "python",
   "pygments_lexer": "ipython3",
   "version": "3.11.4"
  }
 },
 "nbformat": 4,
 "nbformat_minor": 5
}
