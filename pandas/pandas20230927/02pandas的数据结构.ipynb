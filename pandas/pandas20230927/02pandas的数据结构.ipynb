{
 "cells": [
  {
   "cell_type": "markdown",
   "id": "cec92c20-c330-4bb7-ae0f-4bf4d228fc41",
   "metadata": {},
   "source": [
    "## 2.1 Series"
   ]
  },
  {
   "cell_type": "markdown",
   "id": "29c03330-a34f-4773-948f-82e51566ab60",
   "metadata": {},
   "source": [
    "### 2.1.1 Series的概要"
   ]
  },
  {
   "cell_type": "code",
   "execution_count": 1,
   "id": "4c5ef443-54c7-4768-a031-3e08b142eb23",
   "metadata": {},
   "outputs": [],
   "source": [
    "import pandas as pd\n",
    "import numpy as np\n",
    "import matplotlib.pyplot as plt"
   ]
  },
  {
   "cell_type": "markdown",
   "id": "57af763f-0721-456f-9786-efd5f1e30587",
   "metadata": {},
   "source": [
    "2.1 使用列表创建 Series 对象"
   ]
  },
  {
   "cell_type": "code",
   "execution_count": 2,
   "id": "6c0196e2-3880-40d8-87f6-73b9bbce920c",
   "metadata": {},
   "outputs": [
    {
     "name": "stdout",
     "output_type": "stream",
     "text": [
      "0    185\n",
      "1    162\n",
      "2    171\n",
      "3    155\n",
      "4    191\n",
      "5    166\n",
      "dtype: int64\n",
      "<class 'list'>\n",
      "<class 'pandas.core.series.Series'>\n"
     ]
    }
   ],
   "source": [
    "height_list = [185,162,171,155,191,166]\n",
    "height_series = pd.Series(height_list)\n",
    "print(height_series)\n",
    "print(type(height_list))\n",
    "print(type(height_series))"
   ]
  },
  {
   "cell_type": "markdown",
   "id": "ce4adfb0-3923-4c92-bc02-b4a7abee69d7",
   "metadata": {},
   "source": [
    "2.2 使用 NumPy 数组创建 Series 对象"
   ]
  },
  {
   "cell_type": "code",
   "execution_count": 3,
   "id": "e5f1f2cc-01f7-42c2-a498-5d11d72f5e28",
   "metadata": {},
   "outputs": [
    {
     "name": "stdout",
     "output_type": "stream",
     "text": [
      "0    72\n",
      "1    51\n",
      "2    69\n",
      "3    55\n",
      "4    87\n",
      "5    78\n",
      "dtype: int32\n"
     ]
    }
   ],
   "source": [
    "weight_arr = np.array([72,51,69,55,87,78])\n",
    "weight_series = pd.Series(weight_arr)\n",
    "print(weight_series)"
   ]
  },
  {
   "cell_type": "markdown",
   "id": "f5a7d514-70e2-4ea2-86be-70732706c58e",
   "metadata": {},
   "source": [
    "2.3 指定 Series 类的 name 属性"
   ]
  },
  {
   "cell_type": "code",
   "execution_count": 4,
   "id": "cebc8a53-7b2f-4103-8296-e12e28cc211b",
   "metadata": {},
   "outputs": [
    {
     "name": "stdout",
     "output_type": "stream",
     "text": [
      "0    1\n",
      "1    2\n",
      "2    3\n",
      "Name: some series, dtype: int64\n"
     ]
    }
   ],
   "source": [
    "ser = pd.Series([1,2,3], name='some series')\n",
    "print(ser)"
   ]
  },
  {
   "cell_type": "markdown",
   "id": "2cb3f741-7e19-4f06-8c2b-78bace91ad7e",
   "metadata": {},
   "source": [
    "2.4 指定参数 index 创建 Series 对象"
   ]
  },
  {
   "cell_type": "code",
   "execution_count": 5,
   "id": "ea80ed3a-1122-4b31-b2a4-b2fe1e5ba524",
   "metadata": {},
   "outputs": [
    {
     "name": "stdout",
     "output_type": "stream",
     "text": [
      "a    1\n",
      "a    2\n",
      "c    3\n",
      "d    4\n",
      "f    5\n",
      "dtype: int64\n"
     ]
    }
   ],
   "source": [
    "val = [1,2,3,4,5]\n",
    "labels = ['a','a','c','d','f']\n",
    "ser = pd.Series(val, index=labels)\n",
    "print(ser)"
   ]
  },
  {
   "cell_type": "markdown",
   "id": "84cb9b50-48fa-4b82-a223-6bb7917b358f",
   "metadata": {},
   "source": [
    "2.5 通过 Series 对象的 index 属性查看索引标签"
   ]
  },
  {
   "cell_type": "code",
   "execution_count": 6,
   "id": "3090e2e1-09c3-4ee7-a579-dd6aa64d9315",
   "metadata": {},
   "outputs": [
    {
     "name": "stdout",
     "output_type": "stream",
     "text": [
      "Index(['a', 'a', 'c', 'd', 'f'], dtype='object')\n"
     ]
    }
   ],
   "source": [
    "print(ser.index)"
   ]
  },
  {
   "cell_type": "markdown",
   "id": "895a0816-a2ed-4434-a8d4-38e515e37086",
   "metadata": {},
   "source": [
    "2.6 使用字典创建 Series 对象"
   ]
  },
  {
   "cell_type": "code",
   "execution_count": 7,
   "id": "b7543b50-c4f5-40c8-be0b-387e2e177521",
   "metadata": {},
   "outputs": [
    {
     "name": "stdout",
     "output_type": "stream",
     "text": [
      "T    185\n",
      "H    162\n",
      "B    171\n",
      "R    155\n",
      "M    191\n",
      "S    166\n",
      "dtype: int64\n"
     ]
    }
   ],
   "source": [
    "dic = {'T':185, 'H':162, 'B':171, 'R':155, 'M':191, 'S':166}\n",
    "ser = pd.Series(dic)\n",
    "print(ser)"
   ]
  },
  {
   "cell_type": "markdown",
   "id": "fa4f7220-ad21-4788-b712-999462e1a417",
   "metadata": {},
   "source": [
    "2.7 字典与参数 index 的指定"
   ]
  },
  {
   "cell_type": "code",
   "execution_count": 8,
   "id": "a23ea16f-2132-49e5-8970-11e981008ad9",
   "metadata": {},
   "outputs": [
    {
     "name": "stdout",
     "output_type": "stream",
     "text": [
      "a    0.0\n",
      "b    1.0\n",
      "c    2.0\n",
      "d    NaN\n",
      "dtype: float64\n"
     ]
    }
   ],
   "source": [
    "dic = {'a':0,'b':1,'c':2}\n",
    "a = pd.Series(dic, index=['a','b','c','d'])\n",
    "print(a)"
   ]
  },
  {
   "cell_type": "markdown",
   "id": "c4e75dc3-56b5-4243-9e04-25c61de242e3",
   "metadata": {},
   "source": [
    "2.8 使用标量值创建 Series 对象"
   ]
  },
  {
   "cell_type": "code",
   "execution_count": 9,
   "id": "d4f68f0a-c1fe-45c1-bf0f-c97288ecccdf",
   "metadata": {},
   "outputs": [
    {
     "data": {
      "text/plain": [
       "A    10\n",
       "B    10\n",
       "C    10\n",
       "dtype: int64"
      ]
     },
     "execution_count": 9,
     "metadata": {},
     "output_type": "execute_result"
    }
   ],
   "source": [
    "pd.Series(10, index=['A','B','C'])"
   ]
  },
  {
   "cell_type": "markdown",
   "id": "4de9c647-a3f4-4d09-af6c-444e32219e4a",
   "metadata": {},
   "source": [
    "2.9 Series 对象的创建"
   ]
  },
  {
   "cell_type": "code",
   "execution_count": 10,
   "id": "ec3c32a0-da30-4a1a-9f8a-ecde790f27f4",
   "metadata": {},
   "outputs": [
    {
     "data": {
      "text/plain": [
       "あ    1\n",
       "い    2\n",
       "う    3\n",
       "え    4\n",
       "お    5\n",
       "dtype: int64"
      ]
     },
     "execution_count": 10,
     "metadata": {},
     "output_type": "execute_result"
    }
   ],
   "source": [
    "val = [1,2,3,4,5]\n",
    "ser = pd.Series(val, index=list('あいうえお'))\n",
    "ser"
   ]
  },
  {
   "cell_type": "markdown",
   "id": "cdf316c5-cfb4-4fdb-9d7d-0606785a567a",
   "metadata": {},
   "source": [
    "2.10 使用方括号（[ ]）进行索引引用"
   ]
  },
  {
   "cell_type": "code",
   "execution_count": 11,
   "id": "e61fce1a-4e63-4c0d-b825-7573189e5038",
   "metadata": {},
   "outputs": [
    {
     "data": {
      "text/plain": [
       "1"
      ]
     },
     "execution_count": 11,
     "metadata": {},
     "output_type": "execute_result"
    }
   ],
   "source": [
    "ser['あ']"
   ]
  },
  {
   "cell_type": "markdown",
   "id": "d0250c26-a025-49bd-bce2-dbca6d40dac5",
   "metadata": {},
   "source": [
    "2.11 使用切片进行索引引用"
   ]
  },
  {
   "cell_type": "code",
   "execution_count": 12,
   "id": "af565d1a-477c-4027-9840-316736e89a85",
   "metadata": {},
   "outputs": [
    {
     "data": {
      "text/plain": [
       "あ    1\n",
       "い    2\n",
       "う    3\n",
       "え    4\n",
       "お    5\n",
       "dtype: int64"
      ]
     },
     "execution_count": 12,
     "metadata": {},
     "output_type": "execute_result"
    }
   ],
   "source": [
    "ser['あ':'お']"
   ]
  },
  {
   "cell_type": "markdown",
   "id": "4c464b32-5498-4215-840f-bce1d73f2380",
   "metadata": {},
   "source": [
    "2.12 索引标签与位置索引"
   ]
  },
  {
   "cell_type": "code",
   "execution_count": 13,
   "id": "fccd62d2-747a-4b9c-b821-aaba5a0a1acb",
   "metadata": {},
   "outputs": [
    {
     "name": "stdout",
     "output_type": "stream",
     "text": [
      "1\n",
      "1\n"
     ]
    }
   ],
   "source": [
    "print(ser['あ'])\n",
    "print(ser.iloc[0])"
   ]
  },
  {
   "cell_type": "markdown",
   "id": "8a35eef0-f7e2-4cdd-bda9-37a149c5dfd3",
   "metadata": {},
   "source": [
    "2.13 对满足指定条件的进行索引引用"
   ]
  },
  {
   "cell_type": "code",
   "execution_count": 14,
   "id": "2e658cec-d3ec-4767-b89e-78318f67c930",
   "metadata": {},
   "outputs": [
    {
     "data": {
      "text/plain": [
       "え    4\n",
       "お    5\n",
       "dtype: int64"
      ]
     },
     "execution_count": 14,
     "metadata": {},
     "output_type": "execute_result"
    }
   ],
   "source": [
    "ser[ser > 3]"
   ]
  },
  {
   "cell_type": "markdown",
   "id": "6bc24834-2e84-49bc-a282-2a97d7158b6c",
   "metadata": {},
   "source": [
    "2.14 : シリーズと演算子"
   ]
  },
  {
   "cell_type": "code",
   "execution_count": 15,
   "id": "7fdf9a8e-0cfd-43ed-ba91-157375839b10",
   "metadata": {},
   "outputs": [
    {
     "data": {
      "text/plain": [
       "あ    3\n",
       "い    4\n",
       "う    5\n",
       "え    6\n",
       "お    7\n",
       "dtype: int64"
      ]
     },
     "execution_count": 15,
     "metadata": {},
     "output_type": "execute_result"
    }
   ],
   "source": [
    "ser + 2"
   ]
  },
  {
   "cell_type": "markdown",
   "id": "2aaad668-20c7-4082-9f31-ea6f92e3685c",
   "metadata": {},
   "source": [
    "2.15 列表与运算符“+”"
   ]
  },
  {
   "cell_type": "code",
   "execution_count": 16,
   "id": "c038eec2-e46c-44eb-a594-728bf0b7223e",
   "metadata": {},
   "outputs": [
    {
     "data": {
      "text/plain": [
       "[1, 2, 3, 4, 5, 2]"
      ]
     },
     "execution_count": 16,
     "metadata": {},
     "output_type": "execute_result"
    }
   ],
   "source": [
    "mylist = [1,2,3,4,5]\n",
    "mylist + [2]"
   ]
  },
  {
   "cell_type": "markdown",
   "id": "b1c537cb-502f-4f2d-a6c5-c9d7be8a4994",
   "metadata": {},
   "source": [
    "2.16 对列表的元素进行加法运算"
   ]
  },
  {
   "cell_type": "code",
   "execution_count": 17,
   "id": "e598fe53-0062-4638-8733-d1760e29d2dd",
   "metadata": {},
   "outputs": [
    {
     "name": "stdout",
     "output_type": "stream",
     "text": [
      "[3, 4, 5, 6, 7]\n"
     ]
    }
   ],
   "source": [
    "for i in range(5):\n",
    "    mylist[i] += 2\n",
    "    \n",
    "print(mylist)"
   ]
  },
  {
   "cell_type": "markdown",
   "id": "a85830c9-49f9-4842-ae68-4bccb4b00c1a",
   "metadata": {},
   "source": [
    "2.17 Series 对象中每个元素的乘法和除法运算"
   ]
  },
  {
   "cell_type": "code",
   "execution_count": 18,
   "id": "1da312ad-3902-49d9-bc87-666c4356a2d0",
   "metadata": {},
   "outputs": [
    {
     "data": {
      "text/plain": [
       "あ     2\n",
       "い     4\n",
       "う     6\n",
       "え     8\n",
       "お    10\n",
       "dtype: int64"
      ]
     },
     "execution_count": 18,
     "metadata": {},
     "output_type": "execute_result"
    }
   ],
   "source": [
    "ser * 2"
   ]
  },
  {
   "cell_type": "code",
   "execution_count": 19,
   "id": "4e80b19c-330a-46fd-a01d-60318e9d07c2",
   "metadata": {},
   "outputs": [
    {
     "data": {
      "text/plain": [
       "あ    0.5\n",
       "い    1.0\n",
       "う    1.5\n",
       "え    2.0\n",
       "お    2.5\n",
       "dtype: float64"
      ]
     },
     "execution_count": 19,
     "metadata": {},
     "output_type": "execute_result"
    }
   ],
   "source": [
    "ser / 2"
   ]
  },
  {
   "cell_type": "markdown",
   "id": "957d9f08-9649-47e8-be93-b3c5e717c04b",
   "metadata": {},
   "source": [
    "2.18 Series 对象之间的运算"
   ]
  },
  {
   "cell_type": "code",
   "execution_count": 20,
   "id": "122780dd-4c6a-4754-98e8-7da1a1420988",
   "metadata": {},
   "outputs": [
    {
     "name": "stdout",
     "output_type": "stream",
     "text": [
      "あ    1\n",
      "い    2\n",
      "う    3\n",
      "え    4\n",
      "お    5\n",
      "dtype: int64\n",
      "あ     6\n",
      "い     7\n",
      "う     8\n",
      "え     9\n",
      "お    10\n",
      "dtype: int64\n",
      "あ     7\n",
      "い     9\n",
      "う    11\n",
      "え    13\n",
      "お    15\n",
      "dtype: int64\n"
     ]
    }
   ],
   "source": [
    "ser2 = pd.Series([6,7,8,9,10], index=list('あいうえお'))\n",
    "print(ser)\n",
    "print(ser2)\n",
    "ser3 = ser + ser2 \n",
    "print(ser3)"
   ]
  },
  {
   "cell_type": "markdown",
   "id": "ffabd417-4a52-45e1-8410-75d45c2a9497",
   "metadata": {},
   "source": [
    "### 2.1.2 Series的基本操作"
   ]
  },
  {
   "cell_type": "markdown",
   "id": "18eaba84-880f-42ad-8af7-bb353e110883",
   "metadata": {},
   "source": [
    "2.19 Series 对象的 index 属性"
   ]
  },
  {
   "cell_type": "code",
   "execution_count": 21,
   "id": "8a6473de-6384-4e07-8eff-66b7440dd265",
   "metadata": {},
   "outputs": [
    {
     "name": "stdout",
     "output_type": "stream",
     "text": [
      "RangeIndex(start=0, stop=5, step=1)\n",
      "Index([0, 1, 2, 3, 4], dtype='int64')\n",
      "Index(['a', 'b', 'c', 'd', 'e'], dtype='object')\n"
     ]
    }
   ],
   "source": [
    "val = [1,2,3,4,5]\n",
    "a = pd.Series(val)\n",
    "b = pd.Series(val, index=[0,1,2,3,4])\n",
    "c = pd.Series(val, index=list('abcde'))\n",
    "print(a.index)\n",
    "print(b.index)\n",
    "print(c.index)"
   ]
  },
  {
   "cell_type": "markdown",
   "id": "fa5fbe7c-5f94-4509-9a97-fedbc85fa451",
   "metadata": {},
   "source": [
    "2.20 Series 对象的 dtype 属性"
   ]
  },
  {
   "cell_type": "code",
   "execution_count": 22,
   "id": "fdfbb64c-b81f-47b4-a4f3-f46b20833a28",
   "metadata": {},
   "outputs": [
    {
     "name": "stdout",
     "output_type": "stream",
     "text": [
      "object int64 float64 bool object\n"
     ]
    }
   ],
   "source": [
    "a = pd.Series(['a','b','c'])\n",
    "b = pd.Series([1,2,3])\n",
    "c = pd.Series([1.0,2.0,3.0])\n",
    "d = pd.Series([True,False,True])\n",
    "e = pd.Series(['a',1,True])\n",
    "\n",
    "print(a.dtype, b.dtype, c.dtype, d.dtype, e.dtype )"
   ]
  },
  {
   "cell_type": "markdown",
   "id": "e498717c-29ae-4aa4-87ad-312a2d6d2b27",
   "metadata": {},
   "source": [
    "2.21 创建包含不同索引标签的 Series 对象"
   ]
  },
  {
   "cell_type": "code",
   "execution_count": 23,
   "id": "1c03fb8b-55f0-4d35-945c-36ba7981afb1",
   "metadata": {},
   "outputs": [
    {
     "data": {
      "text/plain": [
       "1    1\n",
       "2    2\n",
       "3    3\n",
       "dtype: int64"
      ]
     },
     "execution_count": 23,
     "metadata": {},
     "output_type": "execute_result"
    }
   ],
   "source": [
    "a = pd.Series([1,2,3], index=[1,2,3])\n",
    "a"
   ]
  },
  {
   "cell_type": "code",
   "execution_count": 24,
   "id": "e3b845d2-a338-45b6-9901-dfe141d06a1b",
   "metadata": {},
   "outputs": [
    {
     "data": {
      "text/plain": [
       "a    1\n",
       "b    2\n",
       "c    3\n",
       "dtype: int64"
      ]
     },
     "execution_count": 24,
     "metadata": {},
     "output_type": "execute_result"
    }
   ],
   "source": [
    "b = pd.Series([1,2,3], index=list('abc'))\n",
    "b"
   ]
  },
  {
   "cell_type": "markdown",
   "id": "5ba7da0a-1418-4f37-923c-1eee9e6d5bb8",
   "metadata": {},
   "source": [
    "2.22 使用 Series 对象的 loc 属性进行索引引用"
   ]
  },
  {
   "cell_type": "code",
   "execution_count": 25,
   "id": "7e08b6c0-6114-46ae-9f1e-494c06b59004",
   "metadata": {},
   "outputs": [
    {
     "name": "stdout",
     "output_type": "stream",
     "text": [
      "1\n",
      "1\n"
     ]
    }
   ],
   "source": [
    "print(a.loc[1])\n",
    "print(b.loc['a'])"
   ]
  },
  {
   "cell_type": "markdown",
   "id": "549f12e4-fa89-4632-b980-86f0b31d64e4",
   "metadata": {},
   "source": [
    "2.23 使用 Series 对象的 iloc 属性进行索引引用"
   ]
  },
  {
   "cell_type": "code",
   "execution_count": 26,
   "id": "61682653-a4b7-4c0d-9a35-f1b1feb89070",
   "metadata": {},
   "outputs": [
    {
     "name": "stdout",
     "output_type": "stream",
     "text": [
      "1\n",
      "1\n"
     ]
    }
   ],
   "source": [
    "print(a.iloc[0])\n",
    "print(b.iloc[0])"
   ]
  },
  {
   "cell_type": "markdown",
   "id": "3bb48572-adf1-4bda-b64a-84652a4b0838",
   "metadata": {},
   "source": [
    "2.24 loc 属性和 iloc 属性的切片"
   ]
  },
  {
   "cell_type": "code",
   "execution_count": 27,
   "id": "f9994e1a-f9a0-4e9b-b8c7-ad79fc2a1c0b",
   "metadata": {},
   "outputs": [
    {
     "data": {
      "text/plain": [
       "1    1\n",
       "dtype: int64"
      ]
     },
     "execution_count": 27,
     "metadata": {},
     "output_type": "execute_result"
    }
   ],
   "source": [
    "a.iloc[0:1]"
   ]
  },
  {
   "cell_type": "code",
   "execution_count": 28,
   "id": "07bdfd0c-6721-4673-be59-d26f000798e0",
   "metadata": {},
   "outputs": [
    {
     "data": {
      "text/plain": [
       "a    1\n",
       "b    2\n",
       "dtype: int64"
      ]
     },
     "execution_count": 28,
     "metadata": {},
     "output_type": "execute_result"
    }
   ],
   "source": [
    "b.loc['a':'b']"
   ]
  },
  {
   "cell_type": "markdown",
   "id": "1d69f7f6-2d2b-4186-a806-5a96627c9668",
   "metadata": {},
   "source": [
    "2.25 Series 对象的 size 属性"
   ]
  },
  {
   "cell_type": "code",
   "execution_count": 29,
   "id": "f05f14be-94a9-418f-b8b6-4abc0d3553c5",
   "metadata": {},
   "outputs": [
    {
     "name": "stdout",
     "output_type": "stream",
     "text": [
      "5\n"
     ]
    }
   ],
   "source": [
    "ser = pd.Series([1,1,3,4,'a'])\n",
    "print(ser.size)"
   ]
  },
  {
   "cell_type": "markdown",
   "id": "7cedd7e7-707d-44f6-a8db-54129939c8c7",
   "metadata": {},
   "source": [
    "2.26 Series 对象的 is_unique 属性"
   ]
  },
  {
   "cell_type": "code",
   "execution_count": 30,
   "id": "549697f1-4037-436e-93e8-745d0c718ab4",
   "metadata": {},
   "outputs": [
    {
     "name": "stdout",
     "output_type": "stream",
     "text": [
      "True\n",
      "False\n"
     ]
    }
   ],
   "source": [
    "a = pd.Series([1,2,3])\n",
    "b = pd.Series([1,1,3])\n",
    "print(a.is_unique)\n",
    "print(b.is_unique)"
   ]
  },
  {
   "cell_type": "markdown",
   "id": "ded15381-6bd2-4e91-b2d9-0f232f087eed",
   "metadata": {},
   "source": [
    "2.27 Series 对象的 values 属性"
   ]
  },
  {
   "cell_type": "code",
   "execution_count": 31,
   "id": "e5c87c3b-dd78-4bf3-b323-215deae3cfd5",
   "metadata": {},
   "outputs": [
    {
     "name": "stdout",
     "output_type": "stream",
     "text": [
      "<class 'numpy.ndarray'> [1 2 3]\n",
      "<class 'numpy.ndarray'> ['a' 'b' 'c']\n",
      "<class 'pandas.core.arrays.categorical.Categorical'> ['a', 'a', 'b']\n",
      "Categories (2, object): ['a', 'b']\n"
     ]
    }
   ],
   "source": [
    "a = pd.Series([1,2,3])\n",
    "b = pd.Series(['a','b','c'])\n",
    "c = pd.Series(['a','a','b'], dtype='category')\n",
    "\n",
    "print(type(a.values), a.values)\n",
    "print(type(b.values), b.values)\n",
    "print(type(c.values), c.values)"
   ]
  },
  {
   "cell_type": "markdown",
   "id": "a8e7128e-5ae8-4aa2-a969-07e794c5a59d",
   "metadata": {},
   "source": [
    "2.28 Series 对象的创建"
   ]
  },
  {
   "cell_type": "code",
   "execution_count": 32,
   "id": "15c640c0-0d05-4d70-b072-ff1199bc9f6c",
   "metadata": {},
   "outputs": [
    {
     "name": "stdout",
     "output_type": "stream",
     "text": [
      "a    1\n",
      "b    2\n",
      "c    3\n",
      "d    4\n",
      "e    5\n",
      "dtype: int64\n"
     ]
    }
   ],
   "source": [
    "ser = pd.Series([1,2,3,4,5], index=list('abcde'))\n",
    "print(ser)"
   ]
  },
  {
   "cell_type": "markdown",
   "id": "773430ee-43e2-44d1-8340-1dbce9cd0a78",
   "metadata": {},
   "source": [
    "2.29 变更 Series 元素值"
   ]
  },
  {
   "cell_type": "code",
   "execution_count": 33,
   "id": "46082231-b4e2-486c-9369-be6addc5a601",
   "metadata": {},
   "outputs": [
    {
     "name": "stdout",
     "output_type": "stream",
     "text": [
      "a    6\n",
      "b    7\n",
      "c    7\n",
      "d    7\n",
      "e    5\n",
      "dtype: int64\n"
     ]
    }
   ],
   "source": [
    "ser['a'] = 6\n",
    "ser['b':'d'] = 7\n",
    "print(ser)"
   ]
  },
  {
   "cell_type": "markdown",
   "id": "267cf319-cc89-43c8-afe8-c6909154b358",
   "metadata": {},
   "source": [
    "2.30 向 Series 对象中添加元素"
   ]
  },
  {
   "cell_type": "code",
   "execution_count": 34,
   "id": "d89b7e8e-2ff7-431f-a601-50930572ddcf",
   "metadata": {},
   "outputs": [
    {
     "name": "stdout",
     "output_type": "stream",
     "text": [
      "a    6\n",
      "b    7\n",
      "c    7\n",
      "d    7\n",
      "e    5\n",
      "f    4\n",
      "dtype: int64\n"
     ]
    }
   ],
   "source": [
    "ser['f'] = 4\n",
    "print(ser)"
   ]
  },
  {
   "cell_type": "markdown",
   "id": "bf4ab564-5759-4ab2-8b54-3a9b4447f9bc",
   "metadata": {},
   "source": [
    "2.31 使用 Series 对象的 append 方法连接对象"
   ]
  },
  {
   "cell_type": "code",
   "execution_count": 35,
   "id": "c890337b-444e-4e14-bbe0-efd2ad2fcfe6",
   "metadata": {},
   "outputs": [
    {
     "data": {
      "text/plain": [
       "pandas.core.series.Series"
      ]
     },
     "execution_count": 35,
     "metadata": {},
     "output_type": "execute_result"
    }
   ],
   "source": [
    "type(ser)"
   ]
  },
  {
   "cell_type": "code",
   "execution_count": 36,
   "id": "705b7af2-949d-4e99-9263-041d9f7a5165",
   "metadata": {},
   "outputs": [
    {
     "data": {
      "text/plain": [
       "a    6\n",
       "b    7\n",
       "c    7\n",
       "d    7\n",
       "e    5\n",
       "f    4\n",
       "1    5\n",
       "2    6\n",
       "dtype: int64"
      ]
     },
     "execution_count": 36,
     "metadata": {},
     "output_type": "execute_result"
    }
   ],
   "source": [
    "ser2 = pd.Series([5, 6], index=['1','2'])\n",
    "#ser.append(ser2)#这里API变更\n",
    "ser._append(ser2)#返回一个新的对象"
   ]
  },
  {
   "cell_type": "markdown",
   "id": "09011ff1-15d6-492e-aafa-25303ff5838b",
   "metadata": {},
   "source": [
    "2.32 使用 append 方法的 ignore_index 参数重新分配索引标签"
   ]
  },
  {
   "cell_type": "code",
   "execution_count": 37,
   "id": "16d0607e-48f7-470b-96c2-c28691e62b9b",
   "metadata": {},
   "outputs": [],
   "source": [
    "#ser.append(ser2, ignore_index=True)"
   ]
  },
  {
   "cell_type": "markdown",
   "id": "05b7f03b-d33a-4866-b683-1f17db790f4e",
   "metadata": {},
   "source": [
    "2.33 使用 del 语句删除 Series 对象中的元素"
   ]
  },
  {
   "cell_type": "code",
   "execution_count": 38,
   "id": "726bb3b0-2fb4-4e68-b481-f17f095c3671",
   "metadata": {},
   "outputs": [
    {
     "data": {
      "text/plain": [
       "b    2\n",
       "c    3\n",
       "dtype: int64"
      ]
     },
     "execution_count": 38,
     "metadata": {},
     "output_type": "execute_result"
    }
   ],
   "source": [
    "ser = pd.Series([1,2,3],index=list('abc'))\n",
    "del ser['a']\n",
    "ser"
   ]
  },
  {
   "cell_type": "markdown",
   "id": "58f6eb1e-78f5-4466-8ab8-e4126cbe6ae3",
   "metadata": {},
   "source": [
    "2.34 使用 drop 方法删除 Series 对象的元素"
   ]
  },
  {
   "cell_type": "code",
   "execution_count": 39,
   "id": "6cedd27a-88e1-495b-bcf6-1f670aef1087",
   "metadata": {},
   "outputs": [
    {
     "name": "stdout",
     "output_type": "stream",
     "text": [
      "c    3\n",
      "dtype: int64\n"
     ]
    }
   ],
   "source": [
    "ser.drop(index='b', inplace=True)\n",
    "print(ser)"
   ]
  },
  {
   "cell_type": "markdown",
   "id": "e4fa695e-f38f-4e27-be28-3b12acf2d18d",
   "metadata": {},
   "source": [
    "2.35 Series 对象的 drop_duplicates 方法"
   ]
  },
  {
   "cell_type": "code",
   "execution_count": 40,
   "id": "f6879732-b854-4646-b282-03475afc5dc7",
   "metadata": {},
   "outputs": [
    {
     "data": {
      "text/plain": [
       "a    1\n",
       "b    1\n",
       "c    2\n",
       "d    2\n",
       "e    2\n",
       "f    3\n",
       "dtype: int64"
      ]
     },
     "execution_count": 40,
     "metadata": {},
     "output_type": "execute_result"
    }
   ],
   "source": [
    "ser = pd.Series([1,1,2,2,2,3], index=list('abcdef'))\n",
    "ser"
   ]
  },
  {
   "cell_type": "code",
   "execution_count": 41,
   "id": "a64f0ded-7cb3-4964-8041-3daea4872f78",
   "metadata": {},
   "outputs": [
    {
     "data": {
      "text/plain": [
       "a    1\n",
       "c    2\n",
       "f    3\n",
       "dtype: int64"
      ]
     },
     "execution_count": 41,
     "metadata": {},
     "output_type": "execute_result"
    }
   ],
   "source": [
    "ser.drop_duplicates(keep='first')"
   ]
  },
  {
   "cell_type": "markdown",
   "id": "176b7d31-2fc8-4e8f-8e10-5c5e956b47d1",
   "metadata": {},
   "source": [
    "2.36 drop_duplicates 方法的 keep 参数"
   ]
  },
  {
   "cell_type": "code",
   "execution_count": 42,
   "id": "dc3f22f4-58e1-4a0c-8c36-ebd3fa2173f5",
   "metadata": {},
   "outputs": [
    {
     "data": {
      "text/plain": [
       "f    3\n",
       "dtype: int64"
      ]
     },
     "execution_count": 42,
     "metadata": {},
     "output_type": "execute_result"
    }
   ],
   "source": [
    "ser.drop_duplicates(keep=False)"
   ]
  },
  {
   "cell_type": "markdown",
   "id": "0a7413a1-87db-494c-92d1-4a1aac001d23",
   "metadata": {},
   "source": [
    "2.37 创建包含缺失数据的 Series 对象"
   ]
  },
  {
   "cell_type": "code",
   "execution_count": 43,
   "id": "e88ea62b-29ab-4540-b7dc-d049dc0b36f4",
   "metadata": {},
   "outputs": [
    {
     "name": "stdout",
     "output_type": "stream",
     "text": [
      "a    1.0\n",
      "b    NaN\n",
      "c    3.0\n",
      "d    4.0\n",
      "e    NaN\n",
      "dtype: float64\n"
     ]
    }
   ],
   "source": [
    "ser = pd.Series([1,np.nan,3,4,np.nan], index=list('abcde'))\n",
    "print(ser)"
   ]
  },
  {
   "cell_type": "markdown",
   "id": "6eb3107b-7542-473f-80ab-4cd2db2e9f96",
   "metadata": {},
   "source": [
    "2.38 Series 对象的 isna 方法"
   ]
  },
  {
   "cell_type": "code",
   "execution_count": 44,
   "id": "18ed904c-610d-4694-a074-28e81363b83c",
   "metadata": {},
   "outputs": [
    {
     "data": {
      "text/plain": [
       "a    False\n",
       "b     True\n",
       "c    False\n",
       "d    False\n",
       "e     True\n",
       "dtype: bool"
      ]
     },
     "execution_count": 44,
     "metadata": {},
     "output_type": "execute_result"
    }
   ],
   "source": [
    "ser.isna()"
   ]
  },
  {
   "cell_type": "markdown",
   "id": "e6d2ff1a-8121-4fea-9602-48a84f453c61",
   "metadata": {},
   "source": [
    "2.39 使用 isna 方法提取缺失值"
   ]
  },
  {
   "cell_type": "code",
   "execution_count": 45,
   "id": "385b7fc2-e45c-429b-9ac7-f6fe73785a45",
   "metadata": {},
   "outputs": [
    {
     "data": {
      "text/plain": [
       "b   NaN\n",
       "e   NaN\n",
       "dtype: float64"
      ]
     },
     "execution_count": 45,
     "metadata": {},
     "output_type": "execute_result"
    }
   ],
   "source": [
    "ser[ser.isna()]"
   ]
  },
  {
   "cell_type": "markdown",
   "id": "c7ce6e81-3171-44a4-93dc-9242586622ac",
   "metadata": {},
   "source": [
    "2.40 Series 对象的 dropna 方法"
   ]
  },
  {
   "cell_type": "code",
   "execution_count": 46,
   "id": "40849564-477e-453e-9075-eb4670649132",
   "metadata": {},
   "outputs": [
    {
     "data": {
      "text/plain": [
       "a    1.0\n",
       "c    3.0\n",
       "d    4.0\n",
       "dtype: float64"
      ]
     },
     "execution_count": 46,
     "metadata": {},
     "output_type": "execute_result"
    }
   ],
   "source": [
    "ser.dropna()"
   ]
  },
  {
   "cell_type": "markdown",
   "id": "d5f24ae6-eb52-480c-82cd-ded5850bbec5",
   "metadata": {},
   "source": [
    "## 2.2 DataFrame对象"
   ]
  },
  {
   "cell_type": "markdown",
   "id": "d8f2bb4a-33c8-4139-9688-aac2d8a552ab",
   "metadata": {},
   "source": [
    "### 2.2.1 DataFrame对象的概要"
   ]
  },
  {
   "cell_type": "markdown",
   "id": "d4f38b42-3ea0-426f-a02b-932c34c853b9",
   "metadata": {},
   "source": [
    "2.41 使用列表创建 DataFrame 对象"
   ]
  },
  {
   "cell_type": "code",
   "execution_count": 47,
   "id": "511dd13d-4409-4e1a-83fe-74b66e33f95d",
   "metadata": {},
   "outputs": [
    {
     "data": {
      "text/html": [
       "<div>\n",
       "<style scoped>\n",
       "    .dataframe tbody tr th:only-of-type {\n",
       "        vertical-align: middle;\n",
       "    }\n",
       "\n",
       "    .dataframe tbody tr th {\n",
       "        vertical-align: top;\n",
       "    }\n",
       "\n",
       "    .dataframe thead th {\n",
       "        text-align: right;\n",
       "    }\n",
       "</style>\n",
       "<table border=\"1\" class=\"dataframe\">\n",
       "  <thead>\n",
       "    <tr style=\"text-align: right;\">\n",
       "      <th></th>\n",
       "      <th>0</th>\n",
       "    </tr>\n",
       "  </thead>\n",
       "  <tbody>\n",
       "    <tr>\n",
       "      <th>0</th>\n",
       "      <td>a</td>\n",
       "    </tr>\n",
       "    <tr>\n",
       "      <th>1</th>\n",
       "      <td>1</td>\n",
       "    </tr>\n",
       "    <tr>\n",
       "      <th>2</th>\n",
       "      <td>0.5</td>\n",
       "    </tr>\n",
       "  </tbody>\n",
       "</table>\n",
       "</div>"
      ],
      "text/plain": [
       "     0\n",
       "0    a\n",
       "1    1\n",
       "2  0.5"
      ]
     },
     "execution_count": 47,
     "metadata": {},
     "output_type": "execute_result"
    }
   ],
   "source": [
    "val = ['a',1,0.5]\n",
    "df = pd.DataFrame(val)\n",
    "df"
   ]
  },
  {
   "cell_type": "markdown",
   "id": "1c8d2ae2-04b8-4f42-9552-1f0884572463",
   "metadata": {},
   "source": [
    "2.42 使用二维数组创建 DataFrame 对象"
   ]
  },
  {
   "cell_type": "code",
   "execution_count": 48,
   "id": "8612a474-6856-4b57-b087-f66250a95df4",
   "metadata": {},
   "outputs": [
    {
     "data": {
      "text/html": [
       "<div>\n",
       "<style scoped>\n",
       "    .dataframe tbody tr th:only-of-type {\n",
       "        vertical-align: middle;\n",
       "    }\n",
       "\n",
       "    .dataframe tbody tr th {\n",
       "        vertical-align: top;\n",
       "    }\n",
       "\n",
       "    .dataframe thead th {\n",
       "        text-align: right;\n",
       "    }\n",
       "</style>\n",
       "<table border=\"1\" class=\"dataframe\">\n",
       "  <thead>\n",
       "    <tr style=\"text-align: right;\">\n",
       "      <th></th>\n",
       "      <th>c</th>\n",
       "      <th>d</th>\n",
       "      <th>e</th>\n",
       "    </tr>\n",
       "  </thead>\n",
       "  <tbody>\n",
       "    <tr>\n",
       "      <th>a</th>\n",
       "      <td>1</td>\n",
       "      <td>2</td>\n",
       "      <td>3</td>\n",
       "    </tr>\n",
       "    <tr>\n",
       "      <th>b</th>\n",
       "      <td>4</td>\n",
       "      <td>5</td>\n",
       "      <td>6</td>\n",
       "    </tr>\n",
       "  </tbody>\n",
       "</table>\n",
       "</div>"
      ],
      "text/plain": [
       "   c  d  e\n",
       "a  1  2  3\n",
       "b  4  5  6"
      ]
     },
     "execution_count": 48,
     "metadata": {},
     "output_type": "execute_result"
    }
   ],
   "source": [
    "val = [[1,2,3],[4,5,6]]\n",
    "df = pd.DataFrame(val, index=['a','b'], columns=['c','d','e'])\n",
    "df"
   ]
  },
  {
   "cell_type": "markdown",
   "id": "4bb1df39-b40a-48f3-82ee-cdef6c4c1ee8",
   "metadata": {},
   "source": [
    "2.43 大小不同时会自动代入 NaN"
   ]
  },
  {
   "cell_type": "code",
   "execution_count": 49,
   "id": "79ce1c4d-2364-4ac3-b859-b8faad3d66c4",
   "metadata": {},
   "outputs": [
    {
     "data": {
      "text/html": [
       "<div>\n",
       "<style scoped>\n",
       "    .dataframe tbody tr th:only-of-type {\n",
       "        vertical-align: middle;\n",
       "    }\n",
       "\n",
       "    .dataframe tbody tr th {\n",
       "        vertical-align: top;\n",
       "    }\n",
       "\n",
       "    .dataframe thead th {\n",
       "        text-align: right;\n",
       "    }\n",
       "</style>\n",
       "<table border=\"1\" class=\"dataframe\">\n",
       "  <thead>\n",
       "    <tr style=\"text-align: right;\">\n",
       "      <th></th>\n",
       "      <th>0</th>\n",
       "      <th>1</th>\n",
       "      <th>2</th>\n",
       "    </tr>\n",
       "  </thead>\n",
       "  <tbody>\n",
       "    <tr>\n",
       "      <th>0</th>\n",
       "      <td>1</td>\n",
       "      <td>2</td>\n",
       "      <td>3.0</td>\n",
       "    </tr>\n",
       "    <tr>\n",
       "      <th>1</th>\n",
       "      <td>4</td>\n",
       "      <td>5</td>\n",
       "      <td>NaN</td>\n",
       "    </tr>\n",
       "  </tbody>\n",
       "</table>\n",
       "</div>"
      ],
      "text/plain": [
       "   0  1    2\n",
       "0  1  2  3.0\n",
       "1  4  5  NaN"
      ]
     },
     "execution_count": 49,
     "metadata": {},
     "output_type": "execute_result"
    }
   ],
   "source": [
    "val = [[1,2,3],[4,5]]\n",
    "df = pd.DataFrame(val)\n",
    "df"
   ]
  },
  {
   "cell_type": "markdown",
   "id": "16f48392-bc95-42dd-8f2f-733d95b11c35",
   "metadata": {},
   "source": [
    "2.44 使用字典创建 DataFrame 对象"
   ]
  },
  {
   "cell_type": "code",
   "execution_count": 50,
   "id": "77814cc9-a02e-46ac-b7a3-ba449133a9c0",
   "metadata": {},
   "outputs": [
    {
     "data": {
      "text/html": [
       "<div>\n",
       "<style scoped>\n",
       "    .dataframe tbody tr th:only-of-type {\n",
       "        vertical-align: middle;\n",
       "    }\n",
       "\n",
       "    .dataframe tbody tr th {\n",
       "        vertical-align: top;\n",
       "    }\n",
       "\n",
       "    .dataframe thead th {\n",
       "        text-align: right;\n",
       "    }\n",
       "</style>\n",
       "<table border=\"1\" class=\"dataframe\">\n",
       "  <thead>\n",
       "    <tr style=\"text-align: right;\">\n",
       "      <th></th>\n",
       "      <th>a</th>\n",
       "      <th>b</th>\n",
       "    </tr>\n",
       "  </thead>\n",
       "  <tbody>\n",
       "    <tr>\n",
       "      <th>0</th>\n",
       "      <td>1</td>\n",
       "      <td>4</td>\n",
       "    </tr>\n",
       "    <tr>\n",
       "      <th>1</th>\n",
       "      <td>2</td>\n",
       "      <td>5</td>\n",
       "    </tr>\n",
       "    <tr>\n",
       "      <th>2</th>\n",
       "      <td>3</td>\n",
       "      <td>6</td>\n",
       "    </tr>\n",
       "  </tbody>\n",
       "</table>\n",
       "</div>"
      ],
      "text/plain": [
       "   a  b\n",
       "0  1  4\n",
       "1  2  5\n",
       "2  3  6"
      ]
     },
     "execution_count": 50,
     "metadata": {},
     "output_type": "execute_result"
    }
   ],
   "source": [
    "dictionary = {'a':[1,2,3], 'b':[4,5,6]}\n",
    "df = pd.DataFrame(dictionary)\n",
    "df"
   ]
  },
  {
   "cell_type": "markdown",
   "id": "31db684c-e18e-4508-accf-1cd45597031a",
   "metadata": {},
   "source": [
    "2.45 将字典中的 value 作为 Series 创建 DataFrame 对象"
   ]
  },
  {
   "cell_type": "code",
   "execution_count": 51,
   "id": "4153415e-b5c5-427d-b330-b6a20b6e3dcb",
   "metadata": {},
   "outputs": [
    {
     "data": {
      "text/html": [
       "<div>\n",
       "<style scoped>\n",
       "    .dataframe tbody tr th:only-of-type {\n",
       "        vertical-align: middle;\n",
       "    }\n",
       "\n",
       "    .dataframe tbody tr th {\n",
       "        vertical-align: top;\n",
       "    }\n",
       "\n",
       "    .dataframe thead th {\n",
       "        text-align: right;\n",
       "    }\n",
       "</style>\n",
       "<table border=\"1\" class=\"dataframe\">\n",
       "  <thead>\n",
       "    <tr style=\"text-align: right;\">\n",
       "      <th></th>\n",
       "      <th>age</th>\n",
       "      <th>sex</th>\n",
       "    </tr>\n",
       "  </thead>\n",
       "  <tbody>\n",
       "    <tr>\n",
       "      <th>A</th>\n",
       "      <td>10.0</td>\n",
       "      <td>F</td>\n",
       "    </tr>\n",
       "    <tr>\n",
       "      <th>B</th>\n",
       "      <td>12.0</td>\n",
       "      <td>NaN</td>\n",
       "    </tr>\n",
       "    <tr>\n",
       "      <th>C</th>\n",
       "      <td>9.0</td>\n",
       "      <td>M</td>\n",
       "    </tr>\n",
       "    <tr>\n",
       "      <th>D</th>\n",
       "      <td>NaN</td>\n",
       "      <td>F</td>\n",
       "    </tr>\n",
       "  </tbody>\n",
       "</table>\n",
       "</div>"
      ],
      "text/plain": [
       "    age  sex\n",
       "A  10.0    F\n",
       "B  12.0  NaN\n",
       "C   9.0    M\n",
       "D   NaN    F"
      ]
     },
     "execution_count": 51,
     "metadata": {},
     "output_type": "execute_result"
    }
   ],
   "source": [
    "age = pd.Series([10,12,9], index=['A','B','C'])\n",
    "sex = pd.Series(['M','F','F'], index=['C','A','D'])\n",
    "df = pd.DataFrame({'age':age, 'sex':sex})\n",
    "df"
   ]
  },
  {
   "cell_type": "markdown",
   "id": "1cee1507-5e1f-4437-98f0-6eadfb588583",
   "metadata": {},
   "source": [
    "2.46 使用嵌套字典创建 DataFrame 对象"
   ]
  },
  {
   "cell_type": "code",
   "execution_count": 52,
   "id": "b298c111-aaab-4cae-9d35-79fbfc329279",
   "metadata": {},
   "outputs": [
    {
     "data": {
      "text/html": [
       "<div>\n",
       "<style scoped>\n",
       "    .dataframe tbody tr th:only-of-type {\n",
       "        vertical-align: middle;\n",
       "    }\n",
       "\n",
       "    .dataframe tbody tr th {\n",
       "        vertical-align: top;\n",
       "    }\n",
       "\n",
       "    .dataframe thead th {\n",
       "        text-align: right;\n",
       "    }\n",
       "</style>\n",
       "<table border=\"1\" class=\"dataframe\">\n",
       "  <thead>\n",
       "    <tr style=\"text-align: right;\">\n",
       "      <th></th>\n",
       "      <th>age</th>\n",
       "      <th>sex</th>\n",
       "    </tr>\n",
       "  </thead>\n",
       "  <tbody>\n",
       "    <tr>\n",
       "      <th>A</th>\n",
       "      <td>10.0</td>\n",
       "      <td>F</td>\n",
       "    </tr>\n",
       "    <tr>\n",
       "      <th>B</th>\n",
       "      <td>12.0</td>\n",
       "      <td>NaN</td>\n",
       "    </tr>\n",
       "    <tr>\n",
       "      <th>C</th>\n",
       "      <td>9.0</td>\n",
       "      <td>M</td>\n",
       "    </tr>\n",
       "    <tr>\n",
       "      <th>D</th>\n",
       "      <td>NaN</td>\n",
       "      <td>F</td>\n",
       "    </tr>\n",
       "  </tbody>\n",
       "</table>\n",
       "</div>"
      ],
      "text/plain": [
       "    age  sex\n",
       "A  10.0    F\n",
       "B  12.0  NaN\n",
       "C   9.0    M\n",
       "D   NaN    F"
      ]
     },
     "execution_count": 52,
     "metadata": {},
     "output_type": "execute_result"
    }
   ],
   "source": [
    "nest_dict = {\n",
    "    'age':{'A':10,'B':12,'C':9},\n",
    "    'sex':{'C':'M','A':'F','D':'F'}\n",
    "}\n",
    "\n",
    "df = pd.DataFrame(nest_dict)\n",
    "df"
   ]
  },
  {
   "cell_type": "markdown",
   "id": "899e05c7-9010-4440-910d-5cabb49e9fb9",
   "metadata": {},
   "source": [
    "2.47 DataFrame 构造函数与 dtype 参数"
   ]
  },
  {
   "cell_type": "code",
   "execution_count": 53,
   "id": "7afe3942-94a0-412b-a9b8-c2f2354c904e",
   "metadata": {},
   "outputs": [
    {
     "name": "stdout",
     "output_type": "stream",
     "text": [
      "   A  B\n",
      "0  1  2\n",
      "1  4  5\n",
      "A    int64\n",
      "B    int64\n",
      "dtype: object\n"
     ]
    }
   ],
   "source": [
    "val = [[1,2],[4,5]]\n",
    "df1 = pd.DataFrame(val, columns=['A','B'], dtype=None)\n",
    "print(df1)\n",
    "print(df1.dtypes)"
   ]
  },
  {
   "cell_type": "code",
   "execution_count": 54,
   "id": "d4a026a7-9878-4521-9926-cc492e169b39",
   "metadata": {},
   "outputs": [
    {
     "name": "stdout",
     "output_type": "stream",
     "text": [
      "     A    B\n",
      "0  1.0  2.0\n",
      "1  4.0  5.0\n",
      "A    float64\n",
      "B    float64\n",
      "dtype: object\n"
     ]
    }
   ],
   "source": [
    "df2 = pd.DataFrame(val, columns=['A','B'], dtype=np.float64)\n",
    "print(df2)\n",
    "print(df2.dtypes)"
   ]
  },
  {
   "cell_type": "markdown",
   "id": "10607ccd-5fdd-4ea1-89b7-118bfa76f9a6",
   "metadata": {},
   "source": [
    "2.48 DataFrame 对象的创建"
   ]
  },
  {
   "cell_type": "code",
   "execution_count": 55,
   "id": "a705048d-3ffb-4c1f-8c0d-fca753c13c8c",
   "metadata": {},
   "outputs": [
    {
     "data": {
      "text/html": [
       "<div>\n",
       "<style scoped>\n",
       "    .dataframe tbody tr th:only-of-type {\n",
       "        vertical-align: middle;\n",
       "    }\n",
       "\n",
       "    .dataframe tbody tr th {\n",
       "        vertical-align: top;\n",
       "    }\n",
       "\n",
       "    .dataframe thead th {\n",
       "        text-align: right;\n",
       "    }\n",
       "</style>\n",
       "<table border=\"1\" class=\"dataframe\">\n",
       "  <thead>\n",
       "    <tr style=\"text-align: right;\">\n",
       "      <th></th>\n",
       "      <th>math</th>\n",
       "      <th>eng</th>\n",
       "      <th>chem</th>\n",
       "    </tr>\n",
       "  </thead>\n",
       "  <tbody>\n",
       "    <tr>\n",
       "      <th>0</th>\n",
       "      <td>82</td>\n",
       "      <td>77</td>\n",
       "      <td>69</td>\n",
       "    </tr>\n",
       "    <tr>\n",
       "      <th>1</th>\n",
       "      <td>93</td>\n",
       "      <td>87</td>\n",
       "      <td>91</td>\n",
       "    </tr>\n",
       "    <tr>\n",
       "      <th>2</th>\n",
       "      <td>77</td>\n",
       "      <td>71</td>\n",
       "      <td>89</td>\n",
       "    </tr>\n",
       "  </tbody>\n",
       "</table>\n",
       "</div>"
      ],
      "text/plain": [
       "   math  eng  chem\n",
       "0    82   77    69\n",
       "1    93   87    91\n",
       "2    77   71    89"
      ]
     },
     "execution_count": 55,
     "metadata": {},
     "output_type": "execute_result"
    }
   ],
   "source": [
    "df = pd.DataFrame({\n",
    "    'math':[82,93,77],\n",
    "    'eng':[77,87,71],\n",
    "    'chem':[69,91,89]\n",
    "})\n",
    "\n",
    "df"
   ]
  },
  {
   "cell_type": "markdown",
   "id": "317cedce-5b5c-4cf7-902a-6d896e8fc923",
   "metadata": {},
   "source": [
    "2.49 使用方括号（[ ]）进行索引引用"
   ]
  },
  {
   "cell_type": "code",
   "execution_count": 56,
   "id": "0536a0b8-c7b3-4102-9a76-28addf066084",
   "metadata": {},
   "outputs": [
    {
     "data": {
      "text/plain": [
       "0    82\n",
       "1    93\n",
       "2    77\n",
       "Name: math, dtype: int64"
      ]
     },
     "execution_count": 56,
     "metadata": {},
     "output_type": "execute_result"
    }
   ],
   "source": [
    "df['math']"
   ]
  },
  {
   "cell_type": "code",
   "execution_count": 57,
   "id": "654f686c-76f6-44f8-8df1-b916f403d5dd",
   "metadata": {},
   "outputs": [
    {
     "name": "stdout",
     "output_type": "stream",
     "text": [
      "<class 'pandas.core.series.Series'>\n"
     ]
    }
   ],
   "source": [
    "print(type(df['math']))"
   ]
  },
  {
   "cell_type": "markdown",
   "id": "56e154be-5105-492a-a030-6e83f333167a",
   "metadata": {},
   "source": [
    "2.50 指定多个列进行索引引用"
   ]
  },
  {
   "cell_type": "code",
   "execution_count": 58,
   "id": "1d01a683-2db9-44b1-97bc-4f95395fac46",
   "metadata": {},
   "outputs": [
    {
     "data": {
      "text/html": [
       "<div>\n",
       "<style scoped>\n",
       "    .dataframe tbody tr th:only-of-type {\n",
       "        vertical-align: middle;\n",
       "    }\n",
       "\n",
       "    .dataframe tbody tr th {\n",
       "        vertical-align: top;\n",
       "    }\n",
       "\n",
       "    .dataframe thead th {\n",
       "        text-align: right;\n",
       "    }\n",
       "</style>\n",
       "<table border=\"1\" class=\"dataframe\">\n",
       "  <thead>\n",
       "    <tr style=\"text-align: right;\">\n",
       "      <th></th>\n",
       "      <th>math</th>\n",
       "      <th>eng</th>\n",
       "    </tr>\n",
       "  </thead>\n",
       "  <tbody>\n",
       "    <tr>\n",
       "      <th>0</th>\n",
       "      <td>82</td>\n",
       "      <td>77</td>\n",
       "    </tr>\n",
       "    <tr>\n",
       "      <th>1</th>\n",
       "      <td>93</td>\n",
       "      <td>87</td>\n",
       "    </tr>\n",
       "    <tr>\n",
       "      <th>2</th>\n",
       "      <td>77</td>\n",
       "      <td>71</td>\n",
       "    </tr>\n",
       "  </tbody>\n",
       "</table>\n",
       "</div>"
      ],
      "text/plain": [
       "   math  eng\n",
       "0    82   77\n",
       "1    93   87\n",
       "2    77   71"
      ]
     },
     "execution_count": 58,
     "metadata": {},
     "output_type": "execute_result"
    }
   ],
   "source": [
    "df[['math','eng']]"
   ]
  },
  {
   "cell_type": "code",
   "execution_count": 59,
   "id": "7daae146-ebd6-43ff-8c5e-efd8c4b973b9",
   "metadata": {},
   "outputs": [
    {
     "name": "stdout",
     "output_type": "stream",
     "text": [
      "<class 'pandas.core.frame.DataFrame'>\n"
     ]
    }
   ],
   "source": [
    "print(type(df[['math','eng']]))"
   ]
  },
  {
   "cell_type": "markdown",
   "id": "c7d00db6-0088-4f6c-a668-c030ae4815f0",
   "metadata": {},
   "source": [
    "2.51 引用 bool 类型的值"
   ]
  },
  {
   "cell_type": "code",
   "execution_count": 60,
   "id": "a2967061-2831-4d87-892b-80e29d1c481c",
   "metadata": {},
   "outputs": [
    {
     "data": {
      "text/html": [
       "<div>\n",
       "<style scoped>\n",
       "    .dataframe tbody tr th:only-of-type {\n",
       "        vertical-align: middle;\n",
       "    }\n",
       "\n",
       "    .dataframe tbody tr th {\n",
       "        vertical-align: top;\n",
       "    }\n",
       "\n",
       "    .dataframe thead th {\n",
       "        text-align: right;\n",
       "    }\n",
       "</style>\n",
       "<table border=\"1\" class=\"dataframe\">\n",
       "  <thead>\n",
       "    <tr style=\"text-align: right;\">\n",
       "      <th></th>\n",
       "      <th>math</th>\n",
       "      <th>eng</th>\n",
       "      <th>chem</th>\n",
       "    </tr>\n",
       "  </thead>\n",
       "  <tbody>\n",
       "    <tr>\n",
       "      <th>0</th>\n",
       "      <td>82</td>\n",
       "      <td>77</td>\n",
       "      <td>69</td>\n",
       "    </tr>\n",
       "    <tr>\n",
       "      <th>1</th>\n",
       "      <td>93</td>\n",
       "      <td>87</td>\n",
       "      <td>91</td>\n",
       "    </tr>\n",
       "  </tbody>\n",
       "</table>\n",
       "</div>"
      ],
      "text/plain": [
       "   math  eng  chem\n",
       "0    82   77    69\n",
       "1    93   87    91"
      ]
     },
     "execution_count": 60,
     "metadata": {},
     "output_type": "execute_result"
    }
   ],
   "source": [
    "df[df['math'] > 80]"
   ]
  },
  {
   "cell_type": "markdown",
   "id": "68cfc836-4c28-4a3a-8484-0f36b3b67570",
   "metadata": {},
   "source": [
    "### 2.2.2 DataFrame的基本操作"
   ]
  },
  {
   "cell_type": "markdown",
   "id": "23afe0aa-d49c-4e91-a41e-738c0726f93e",
   "metadata": {},
   "source": [
    "2.52 DataFrame 对象的 index 属性"
   ]
  },
  {
   "cell_type": "code",
   "execution_count": 61,
   "id": "5f81ace1-6bfa-4e49-87da-edfe64fe8303",
   "metadata": {},
   "outputs": [
    {
     "name": "stdout",
     "output_type": "stream",
     "text": [
      "RangeIndex(start=0, stop=2, step=1)\n"
     ]
    },
    {
     "data": {
      "text/html": [
       "<div>\n",
       "<style scoped>\n",
       "    .dataframe tbody tr th:only-of-type {\n",
       "        vertical-align: middle;\n",
       "    }\n",
       "\n",
       "    .dataframe tbody tr th {\n",
       "        vertical-align: top;\n",
       "    }\n",
       "\n",
       "    .dataframe thead th {\n",
       "        text-align: right;\n",
       "    }\n",
       "</style>\n",
       "<table border=\"1\" class=\"dataframe\">\n",
       "  <thead>\n",
       "    <tr style=\"text-align: right;\">\n",
       "      <th></th>\n",
       "      <th>0</th>\n",
       "      <th>1</th>\n",
       "      <th>2</th>\n",
       "    </tr>\n",
       "  </thead>\n",
       "  <tbody>\n",
       "    <tr>\n",
       "      <th>0</th>\n",
       "      <td>1</td>\n",
       "      <td>2</td>\n",
       "      <td>3</td>\n",
       "    </tr>\n",
       "    <tr>\n",
       "      <th>1</th>\n",
       "      <td>4</td>\n",
       "      <td>5</td>\n",
       "      <td>6</td>\n",
       "    </tr>\n",
       "  </tbody>\n",
       "</table>\n",
       "</div>"
      ],
      "text/plain": [
       "   0  1  2\n",
       "0  1  2  3\n",
       "1  4  5  6"
      ]
     },
     "execution_count": 61,
     "metadata": {},
     "output_type": "execute_result"
    }
   ],
   "source": [
    "val = [[1,2,3],[4,5,6]]\n",
    "df = pd.DataFrame(val)\n",
    "print(df.index)\n",
    "df"
   ]
  },
  {
   "cell_type": "markdown",
   "id": "110ebb52-3f00-45e2-acc1-ddb8183965ae",
   "metadata": {},
   "source": [
    "2.53 使用 index 属性变更索引标签"
   ]
  },
  {
   "cell_type": "code",
   "execution_count": 62,
   "id": "462613ae-4de8-47b3-beaa-0dda4ea2f294",
   "metadata": {},
   "outputs": [
    {
     "name": "stdout",
     "output_type": "stream",
     "text": [
      "Index(['a', 'b'], dtype='object')\n"
     ]
    },
    {
     "data": {
      "text/html": [
       "<div>\n",
       "<style scoped>\n",
       "    .dataframe tbody tr th:only-of-type {\n",
       "        vertical-align: middle;\n",
       "    }\n",
       "\n",
       "    .dataframe tbody tr th {\n",
       "        vertical-align: top;\n",
       "    }\n",
       "\n",
       "    .dataframe thead th {\n",
       "        text-align: right;\n",
       "    }\n",
       "</style>\n",
       "<table border=\"1\" class=\"dataframe\">\n",
       "  <thead>\n",
       "    <tr style=\"text-align: right;\">\n",
       "      <th></th>\n",
       "      <th>0</th>\n",
       "      <th>1</th>\n",
       "      <th>2</th>\n",
       "    </tr>\n",
       "  </thead>\n",
       "  <tbody>\n",
       "    <tr>\n",
       "      <th>a</th>\n",
       "      <td>1</td>\n",
       "      <td>2</td>\n",
       "      <td>3</td>\n",
       "    </tr>\n",
       "    <tr>\n",
       "      <th>b</th>\n",
       "      <td>4</td>\n",
       "      <td>5</td>\n",
       "      <td>6</td>\n",
       "    </tr>\n",
       "  </tbody>\n",
       "</table>\n",
       "</div>"
      ],
      "text/plain": [
       "   0  1  2\n",
       "a  1  2  3\n",
       "b  4  5  6"
      ]
     },
     "execution_count": 62,
     "metadata": {},
     "output_type": "execute_result"
    }
   ],
   "source": [
    "df.index = ['a','b']\n",
    "print(df.index)\n",
    "df"
   ]
  },
  {
   "cell_type": "markdown",
   "id": "ae4caad3-6c4a-40af-9508-dcf3a1dd7445",
   "metadata": {},
   "source": [
    "2.54 DataFrame 对象的 columns 属性"
   ]
  },
  {
   "cell_type": "code",
   "execution_count": 63,
   "id": "076c914a-1030-48df-b9c1-07477ff8c3de",
   "metadata": {},
   "outputs": [
    {
     "data": {
      "text/plain": [
       "RangeIndex(start=0, stop=3, step=1)"
      ]
     },
     "execution_count": 63,
     "metadata": {},
     "output_type": "execute_result"
    }
   ],
   "source": [
    "df.columns"
   ]
  },
  {
   "cell_type": "markdown",
   "id": "f9d978f2-8f8c-49d3-8155-a665a92b23fe",
   "metadata": {},
   "source": [
    "2.55 使用 columns 属性变更列标签"
   ]
  },
  {
   "cell_type": "code",
   "execution_count": 64,
   "id": "647c9a42-5a0e-45d3-8fa3-4f3fc99d6fd1",
   "metadata": {},
   "outputs": [
    {
     "data": {
      "text/plain": [
       "Index(['c', 'd', 'e'], dtype='object')"
      ]
     },
     "execution_count": 64,
     "metadata": {},
     "output_type": "execute_result"
    }
   ],
   "source": [
    "df.columns = ['c','d','e']\n",
    "df.columns"
   ]
  },
  {
   "cell_type": "markdown",
   "id": "0ebf3b05-1906-4bb5-98e2-28326eb011d8",
   "metadata": {},
   "source": [
    "2.56 DataFrame 对象的 loc 属性"
   ]
  },
  {
   "cell_type": "code",
   "execution_count": 65,
   "id": "ce43a1d4-0a39-43fb-a28b-310a020956f0",
   "metadata": {},
   "outputs": [
    {
     "data": {
      "text/html": [
       "<div>\n",
       "<style scoped>\n",
       "    .dataframe tbody tr th:only-of-type {\n",
       "        vertical-align: middle;\n",
       "    }\n",
       "\n",
       "    .dataframe tbody tr th {\n",
       "        vertical-align: top;\n",
       "    }\n",
       "\n",
       "    .dataframe thead th {\n",
       "        text-align: right;\n",
       "    }\n",
       "</style>\n",
       "<table border=\"1\" class=\"dataframe\">\n",
       "  <thead>\n",
       "    <tr style=\"text-align: right;\">\n",
       "      <th></th>\n",
       "      <th>c</th>\n",
       "      <th>d</th>\n",
       "      <th>e</th>\n",
       "    </tr>\n",
       "  </thead>\n",
       "  <tbody>\n",
       "    <tr>\n",
       "      <th>a</th>\n",
       "      <td>1</td>\n",
       "      <td>2</td>\n",
       "      <td>3</td>\n",
       "    </tr>\n",
       "    <tr>\n",
       "      <th>b</th>\n",
       "      <td>4</td>\n",
       "      <td>5</td>\n",
       "      <td>6</td>\n",
       "    </tr>\n",
       "  </tbody>\n",
       "</table>\n",
       "</div>"
      ],
      "text/plain": [
       "   c  d  e\n",
       "a  1  2  3\n",
       "b  4  5  6"
      ]
     },
     "execution_count": 65,
     "metadata": {},
     "output_type": "execute_result"
    }
   ],
   "source": [
    "df"
   ]
  },
  {
   "cell_type": "code",
   "execution_count": 66,
   "id": "47aed44a-284c-4f11-9ec2-c1413f647619",
   "metadata": {},
   "outputs": [
    {
     "data": {
      "text/plain": [
       "c    1\n",
       "d    2\n",
       "e    3\n",
       "Name: a, dtype: int64"
      ]
     },
     "execution_count": 66,
     "metadata": {},
     "output_type": "execute_result"
    }
   ],
   "source": [
    "df.loc['a', :]"
   ]
  },
  {
   "cell_type": "markdown",
   "id": "1f97bce9-6944-402b-b1cc-fc62ef4a48f1",
   "metadata": {},
   "source": [
    "2.57 使用 loc 属性进行索引引用"
   ]
  },
  {
   "cell_type": "code",
   "execution_count": 67,
   "id": "10ffb711-6afb-47eb-ad76-dc339a6fafaa",
   "metadata": {},
   "outputs": [
    {
     "data": {
      "text/plain": [
       "6"
      ]
     },
     "execution_count": 67,
     "metadata": {},
     "output_type": "execute_result"
    }
   ],
   "source": [
    "df.loc['b', 'e']"
   ]
  },
  {
   "cell_type": "markdown",
   "id": "b0dd6be7-1e05-4345-9b91-9b631a0779d5",
   "metadata": {},
   "source": [
    "2.58 使用 loc 属性进行索引引用"
   ]
  },
  {
   "cell_type": "code",
   "execution_count": 68,
   "id": "ef050d25-f704-4b3f-b29e-ac45a234f521",
   "metadata": {},
   "outputs": [
    {
     "data": {
      "text/plain": [
       "6"
      ]
     },
     "execution_count": 68,
     "metadata": {},
     "output_type": "execute_result"
    }
   ],
   "source": [
    "df.iloc[1, 2]"
   ]
  },
  {
   "cell_type": "markdown",
   "id": "09aa462d-e26c-4d9a-b27c-87def346c8e5",
   "metadata": {},
   "source": [
    "2.59 DataFrame 对象的 shape 属性"
   ]
  },
  {
   "cell_type": "code",
   "execution_count": 69,
   "id": "414d4740-19ad-43df-a6e6-6f984a2a4b79",
   "metadata": {},
   "outputs": [
    {
     "data": {
      "text/plain": [
       "(2, 3)"
      ]
     },
     "execution_count": 69,
     "metadata": {},
     "output_type": "execute_result"
    }
   ],
   "source": [
    "df.shape"
   ]
  },
  {
   "cell_type": "markdown",
   "id": "438141c6-4d63-45b7-8f7b-9502d8b7691a",
   "metadata": {},
   "source": [
    "2.60 DataFrame 对象的 size 属性"
   ]
  },
  {
   "cell_type": "code",
   "execution_count": 70,
   "id": "e990414f-3662-4533-9606-5563788f67a4",
   "metadata": {},
   "outputs": [
    {
     "data": {
      "text/plain": [
       "6"
      ]
     },
     "execution_count": 70,
     "metadata": {},
     "output_type": "execute_result"
    }
   ],
   "source": [
    "df.size"
   ]
  },
  {
   "cell_type": "markdown",
   "id": "4875e39d-e9f2-4aca-95ae-cf06fa4b19d2",
   "metadata": {},
   "source": [
    "2.61 size 属性与缺失值 NaN"
   ]
  },
  {
   "cell_type": "code",
   "execution_count": 71,
   "id": "9e234aa5-db63-4ec1-96b3-6edfa5c3aec5",
   "metadata": {},
   "outputs": [
    {
     "name": "stdout",
     "output_type": "stream",
     "text": [
      "     0    1\n",
      "0  1.0  NaN\n",
      "1  2.0  NaN\n",
      "2  NaN  3.0\n",
      "(3, 2)\n",
      "6\n"
     ]
    }
   ],
   "source": [
    "df = pd.DataFrame([[1.0,np.nan],[2.0,np.nan],[np.nan,3.0]])\n",
    "print(df)\n",
    "print(df.shape)\n",
    "print(df.size)"
   ]
  },
  {
   "cell_type": "markdown",
   "id": "decc4fa9-9085-4ec6-8c4c-427b6c9c7be8",
   "metadata": {},
   "source": [
    "2.62 变更 DataFrame 对象的值"
   ]
  },
  {
   "cell_type": "code",
   "execution_count": 72,
   "id": "96826d8f-9e56-46fd-8a0d-d6424d07d1e0",
   "metadata": {},
   "outputs": [
    {
     "data": {
      "text/html": [
       "<div>\n",
       "<style scoped>\n",
       "    .dataframe tbody tr th:only-of-type {\n",
       "        vertical-align: middle;\n",
       "    }\n",
       "\n",
       "    .dataframe tbody tr th {\n",
       "        vertical-align: top;\n",
       "    }\n",
       "\n",
       "    .dataframe thead th {\n",
       "        text-align: right;\n",
       "    }\n",
       "</style>\n",
       "<table border=\"1\" class=\"dataframe\">\n",
       "  <thead>\n",
       "    <tr style=\"text-align: right;\">\n",
       "      <th></th>\n",
       "      <th>0</th>\n",
       "      <th>1</th>\n",
       "      <th>2</th>\n",
       "    </tr>\n",
       "  </thead>\n",
       "  <tbody>\n",
       "    <tr>\n",
       "      <th>0</th>\n",
       "      <td>1</td>\n",
       "      <td>2</td>\n",
       "      <td>3</td>\n",
       "    </tr>\n",
       "    <tr>\n",
       "      <th>1</th>\n",
       "      <td>4</td>\n",
       "      <td>100</td>\n",
       "      <td>6</td>\n",
       "    </tr>\n",
       "  </tbody>\n",
       "</table>\n",
       "</div>"
      ],
      "text/plain": [
       "   0    1  2\n",
       "0  1    2  3\n",
       "1  4  100  6"
      ]
     },
     "execution_count": 72,
     "metadata": {},
     "output_type": "execute_result"
    }
   ],
   "source": [
    "df = pd.DataFrame([[1,2,3],[4,5,6]])\n",
    "df.iloc[1,1] = 100\n",
    "df"
   ]
  },
  {
   "cell_type": "markdown",
   "id": "5efd623e-8ba9-4792-b4ca-98286e51ec1a",
   "metadata": {},
   "source": [
    "2.63 向 DataFrame 对象中添加列"
   ]
  },
  {
   "cell_type": "code",
   "execution_count": 73,
   "id": "e32a6b36-163c-450a-b177-92b06526934f",
   "metadata": {},
   "outputs": [
    {
     "data": {
      "text/html": [
       "<div>\n",
       "<style scoped>\n",
       "    .dataframe tbody tr th:only-of-type {\n",
       "        vertical-align: middle;\n",
       "    }\n",
       "\n",
       "    .dataframe tbody tr th {\n",
       "        vertical-align: top;\n",
       "    }\n",
       "\n",
       "    .dataframe thead th {\n",
       "        text-align: right;\n",
       "    }\n",
       "</style>\n",
       "<table border=\"1\" class=\"dataframe\">\n",
       "  <thead>\n",
       "    <tr style=\"text-align: right;\">\n",
       "      <th></th>\n",
       "      <th>0</th>\n",
       "      <th>1</th>\n",
       "      <th>2</th>\n",
       "      <th>new1</th>\n",
       "      <th>new2</th>\n",
       "    </tr>\n",
       "  </thead>\n",
       "  <tbody>\n",
       "    <tr>\n",
       "      <th>0</th>\n",
       "      <td>1</td>\n",
       "      <td>2</td>\n",
       "      <td>3</td>\n",
       "      <td>10</td>\n",
       "      <td>5</td>\n",
       "    </tr>\n",
       "    <tr>\n",
       "      <th>1</th>\n",
       "      <td>4</td>\n",
       "      <td>100</td>\n",
       "      <td>6</td>\n",
       "      <td>10</td>\n",
       "      <td>6</td>\n",
       "    </tr>\n",
       "  </tbody>\n",
       "</table>\n",
       "</div>"
      ],
      "text/plain": [
       "   0    1  2  new1  new2\n",
       "0  1    2  3    10     5\n",
       "1  4  100  6    10     6"
      ]
     },
     "execution_count": 73,
     "metadata": {},
     "output_type": "execute_result"
    }
   ],
   "source": [
    "df['new1'] = 10\n",
    "df['new2'] = [5,6]\n",
    "df"
   ]
  },
  {
   "cell_type": "markdown",
   "id": "04c9dad1-8d2e-4f89-9f64-06c0f9bfc022",
   "metadata": {},
   "source": [
    "2.64 向 DataFrame 对象中添加行"
   ]
  },
  {
   "cell_type": "code",
   "execution_count": 74,
   "id": "921aa231-5b22-46d9-a56a-38c92489c0fd",
   "metadata": {},
   "outputs": [
    {
     "data": {
      "text/html": [
       "<div>\n",
       "<style scoped>\n",
       "    .dataframe tbody tr th:only-of-type {\n",
       "        vertical-align: middle;\n",
       "    }\n",
       "\n",
       "    .dataframe tbody tr th {\n",
       "        vertical-align: top;\n",
       "    }\n",
       "\n",
       "    .dataframe thead th {\n",
       "        text-align: right;\n",
       "    }\n",
       "</style>\n",
       "<table border=\"1\" class=\"dataframe\">\n",
       "  <thead>\n",
       "    <tr style=\"text-align: right;\">\n",
       "      <th></th>\n",
       "      <th>0</th>\n",
       "      <th>1</th>\n",
       "      <th>2</th>\n",
       "      <th>new1</th>\n",
       "      <th>new2</th>\n",
       "    </tr>\n",
       "  </thead>\n",
       "  <tbody>\n",
       "    <tr>\n",
       "      <th>0</th>\n",
       "      <td>1</td>\n",
       "      <td>2</td>\n",
       "      <td>3</td>\n",
       "      <td>10</td>\n",
       "      <td>5</td>\n",
       "    </tr>\n",
       "    <tr>\n",
       "      <th>1</th>\n",
       "      <td>4</td>\n",
       "      <td>100</td>\n",
       "      <td>6</td>\n",
       "      <td>10</td>\n",
       "      <td>6</td>\n",
       "    </tr>\n",
       "    <tr>\n",
       "      <th>new3</th>\n",
       "      <td>7</td>\n",
       "      <td>8</td>\n",
       "      <td>9</td>\n",
       "      <td>10</td>\n",
       "      <td>11</td>\n",
       "    </tr>\n",
       "  </tbody>\n",
       "</table>\n",
       "</div>"
      ],
      "text/plain": [
       "      0    1  2  new1  new2\n",
       "0     1    2  3    10     5\n",
       "1     4  100  6    10     6\n",
       "new3  7    8  9    10    11"
      ]
     },
     "execution_count": 74,
     "metadata": {},
     "output_type": "execute_result"
    }
   ],
   "source": [
    "val = [7,8,9,10,11]\n",
    "idx = [0,1,2,'new1','new2']\n",
    "series_add = pd.Series(val, index=idx, name='new3')\n",
    "df = df._append(series_add)\n",
    "df"
   ]
  },
  {
   "cell_type": "markdown",
   "id": "3e16d33a-e3d6-4a4e-ae6b-a65c875d5035",
   "metadata": {},
   "source": [
    "2.65 使用 drop 方法删除列"
   ]
  },
  {
   "cell_type": "code",
   "execution_count": 75,
   "id": "9840520c-4802-4108-96d0-5067918e25cf",
   "metadata": {},
   "outputs": [
    {
     "data": {
      "text/html": [
       "<div>\n",
       "<style scoped>\n",
       "    .dataframe tbody tr th:only-of-type {\n",
       "        vertical-align: middle;\n",
       "    }\n",
       "\n",
       "    .dataframe tbody tr th {\n",
       "        vertical-align: top;\n",
       "    }\n",
       "\n",
       "    .dataframe thead th {\n",
       "        text-align: right;\n",
       "    }\n",
       "</style>\n",
       "<table border=\"1\" class=\"dataframe\">\n",
       "  <thead>\n",
       "    <tr style=\"text-align: right;\">\n",
       "      <th></th>\n",
       "      <th>0</th>\n",
       "      <th>1</th>\n",
       "      <th>2</th>\n",
       "      <th>new1</th>\n",
       "      <th>new2</th>\n",
       "    </tr>\n",
       "  </thead>\n",
       "  <tbody>\n",
       "    <tr>\n",
       "      <th>0</th>\n",
       "      <td>1</td>\n",
       "      <td>2</td>\n",
       "      <td>3</td>\n",
       "      <td>10</td>\n",
       "      <td>5</td>\n",
       "    </tr>\n",
       "    <tr>\n",
       "      <th>1</th>\n",
       "      <td>4</td>\n",
       "      <td>100</td>\n",
       "      <td>6</td>\n",
       "      <td>10</td>\n",
       "      <td>6</td>\n",
       "    </tr>\n",
       "  </tbody>\n",
       "</table>\n",
       "</div>"
      ],
      "text/plain": [
       "   0    1  2  new1  new2\n",
       "0  1    2  3    10     5\n",
       "1  4  100  6    10     6"
      ]
     },
     "execution_count": 75,
     "metadata": {},
     "output_type": "execute_result"
    }
   ],
   "source": [
    "df.drop(labels='new3', axis=0, inplace=True)\n",
    "df"
   ]
  },
  {
   "cell_type": "markdown",
   "id": "7b49cbc8-460b-4fe1-924f-13bec2dc7db3",
   "metadata": {},
   "source": [
    "2.66 使用 drop 方法删除多个列"
   ]
  },
  {
   "cell_type": "code",
   "execution_count": 76,
   "id": "f23995cf-8149-45d9-8984-18f09d9bde2e",
   "metadata": {},
   "outputs": [
    {
     "data": {
      "text/html": [
       "<div>\n",
       "<style scoped>\n",
       "    .dataframe tbody tr th:only-of-type {\n",
       "        vertical-align: middle;\n",
       "    }\n",
       "\n",
       "    .dataframe tbody tr th {\n",
       "        vertical-align: top;\n",
       "    }\n",
       "\n",
       "    .dataframe thead th {\n",
       "        text-align: right;\n",
       "    }\n",
       "</style>\n",
       "<table border=\"1\" class=\"dataframe\">\n",
       "  <thead>\n",
       "    <tr style=\"text-align: right;\">\n",
       "      <th></th>\n",
       "      <th>0</th>\n",
       "      <th>1</th>\n",
       "      <th>2</th>\n",
       "    </tr>\n",
       "  </thead>\n",
       "  <tbody>\n",
       "    <tr>\n",
       "      <th>0</th>\n",
       "      <td>1</td>\n",
       "      <td>2</td>\n",
       "      <td>3</td>\n",
       "    </tr>\n",
       "    <tr>\n",
       "      <th>1</th>\n",
       "      <td>4</td>\n",
       "      <td>100</td>\n",
       "      <td>6</td>\n",
       "    </tr>\n",
       "  </tbody>\n",
       "</table>\n",
       "</div>"
      ],
      "text/plain": [
       "   0    1  2\n",
       "0  1    2  3\n",
       "1  4  100  6"
      ]
     },
     "execution_count": 76,
     "metadata": {},
     "output_type": "execute_result"
    }
   ],
   "source": [
    "df.drop(labels=['new1','new2'], axis=1, inplace=True)\n",
    "df"
   ]
  },
  {
   "cell_type": "markdown",
   "id": "d2b4a984-8c0f-45aa-b07e-0e2401b5e6ec",
   "metadata": {},
   "source": [
    "2.67 DataFrame 对象的创建"
   ]
  },
  {
   "cell_type": "code",
   "execution_count": 77,
   "id": "58b563f9-7f2d-4d41-9111-504a10e810ea",
   "metadata": {},
   "outputs": [
    {
     "data": {
      "text/html": [
       "<div>\n",
       "<style scoped>\n",
       "    .dataframe tbody tr th:only-of-type {\n",
       "        vertical-align: middle;\n",
       "    }\n",
       "\n",
       "    .dataframe tbody tr th {\n",
       "        vertical-align: top;\n",
       "    }\n",
       "\n",
       "    .dataframe thead th {\n",
       "        text-align: right;\n",
       "    }\n",
       "</style>\n",
       "<table border=\"1\" class=\"dataframe\">\n",
       "  <thead>\n",
       "    <tr style=\"text-align: right;\">\n",
       "      <th></th>\n",
       "      <th>A</th>\n",
       "      <th>B</th>\n",
       "      <th>C</th>\n",
       "    </tr>\n",
       "  </thead>\n",
       "  <tbody>\n",
       "    <tr>\n",
       "      <th>0</th>\n",
       "      <td>1</td>\n",
       "      <td>2</td>\n",
       "      <td>3</td>\n",
       "    </tr>\n",
       "    <tr>\n",
       "      <th>1</th>\n",
       "      <td>4</td>\n",
       "      <td>5</td>\n",
       "      <td>6</td>\n",
       "    </tr>\n",
       "    <tr>\n",
       "      <th>2</th>\n",
       "      <td>1</td>\n",
       "      <td>2</td>\n",
       "      <td>3</td>\n",
       "    </tr>\n",
       "    <tr>\n",
       "      <th>3</th>\n",
       "      <td>3</td>\n",
       "      <td>5</td>\n",
       "      <td>6</td>\n",
       "    </tr>\n",
       "    <tr>\n",
       "      <th>4</th>\n",
       "      <td>1</td>\n",
       "      <td>2</td>\n",
       "      <td>3</td>\n",
       "    </tr>\n",
       "  </tbody>\n",
       "</table>\n",
       "</div>"
      ],
      "text/plain": [
       "   A  B  C\n",
       "0  1  2  3\n",
       "1  4  5  6\n",
       "2  1  2  3\n",
       "3  3  5  6\n",
       "4  1  2  3"
      ]
     },
     "execution_count": 77,
     "metadata": {},
     "output_type": "execute_result"
    }
   ],
   "source": [
    "val = [[1,2,3],[4,5,6],[1,2,3],[3,5,6],[1,2,3]]\n",
    "df = pd.DataFrame(val, columns=list('ABC'))\n",
    "df"
   ]
  },
  {
   "cell_type": "code",
   "execution_count": 78,
   "id": "01706952-ebf0-46f9-a6f5-b71f51904f5f",
   "metadata": {},
   "outputs": [
    {
     "data": {
      "text/plain": [
       "0    False\n",
       "1    False\n",
       "2     True\n",
       "3    False\n",
       "4     True\n",
       "dtype: bool"
      ]
     },
     "execution_count": 78,
     "metadata": {},
     "output_type": "execute_result"
    }
   ],
   "source": [
    "df.duplicated(keep='first')"
   ]
  },
  {
   "cell_type": "markdown",
   "id": "86404fa5-e409-44e6-ab44-0ac89ca22d98",
   "metadata": {},
   "source": [
    "2.69 使用 duplicated 方法提取重复数据"
   ]
  },
  {
   "cell_type": "code",
   "execution_count": 79,
   "id": "82aebfeb-70ee-4c31-83c4-7c40b1fa18dd",
   "metadata": {},
   "outputs": [
    {
     "data": {
      "text/html": [
       "<div>\n",
       "<style scoped>\n",
       "    .dataframe tbody tr th:only-of-type {\n",
       "        vertical-align: middle;\n",
       "    }\n",
       "\n",
       "    .dataframe tbody tr th {\n",
       "        vertical-align: top;\n",
       "    }\n",
       "\n",
       "    .dataframe thead th {\n",
       "        text-align: right;\n",
       "    }\n",
       "</style>\n",
       "<table border=\"1\" class=\"dataframe\">\n",
       "  <thead>\n",
       "    <tr style=\"text-align: right;\">\n",
       "      <th></th>\n",
       "      <th>A</th>\n",
       "      <th>B</th>\n",
       "      <th>C</th>\n",
       "    </tr>\n",
       "  </thead>\n",
       "  <tbody>\n",
       "    <tr>\n",
       "      <th>2</th>\n",
       "      <td>1</td>\n",
       "      <td>2</td>\n",
       "      <td>3</td>\n",
       "    </tr>\n",
       "    <tr>\n",
       "      <th>4</th>\n",
       "      <td>1</td>\n",
       "      <td>2</td>\n",
       "      <td>3</td>\n",
       "    </tr>\n",
       "  </tbody>\n",
       "</table>\n",
       "</div>"
      ],
      "text/plain": [
       "   A  B  C\n",
       "2  1  2  3\n",
       "4  1  2  3"
      ]
     },
     "execution_count": 79,
     "metadata": {},
     "output_type": "execute_result"
    }
   ],
   "source": [
    "df[df.duplicated(keep='first')]"
   ]
  },
  {
   "cell_type": "markdown",
   "id": "4316fba6-2bbe-4bc1-9273-f82775f1addc",
   "metadata": {},
   "source": [
    "2.70 使用 drop_duplicates 方法删除重复数据"
   ]
  },
  {
   "cell_type": "code",
   "execution_count": 80,
   "id": "fa58a998-18f8-47a9-91a0-990f84d65aa6",
   "metadata": {},
   "outputs": [
    {
     "data": {
      "text/html": [
       "<div>\n",
       "<style scoped>\n",
       "    .dataframe tbody tr th:only-of-type {\n",
       "        vertical-align: middle;\n",
       "    }\n",
       "\n",
       "    .dataframe tbody tr th {\n",
       "        vertical-align: top;\n",
       "    }\n",
       "\n",
       "    .dataframe thead th {\n",
       "        text-align: right;\n",
       "    }\n",
       "</style>\n",
       "<table border=\"1\" class=\"dataframe\">\n",
       "  <thead>\n",
       "    <tr style=\"text-align: right;\">\n",
       "      <th></th>\n",
       "      <th>A</th>\n",
       "      <th>B</th>\n",
       "      <th>C</th>\n",
       "    </tr>\n",
       "  </thead>\n",
       "  <tbody>\n",
       "    <tr>\n",
       "      <th>0</th>\n",
       "      <td>1</td>\n",
       "      <td>2</td>\n",
       "      <td>3</td>\n",
       "    </tr>\n",
       "    <tr>\n",
       "      <th>1</th>\n",
       "      <td>4</td>\n",
       "      <td>5</td>\n",
       "      <td>6</td>\n",
       "    </tr>\n",
       "    <tr>\n",
       "      <th>3</th>\n",
       "      <td>3</td>\n",
       "      <td>5</td>\n",
       "      <td>6</td>\n",
       "    </tr>\n",
       "  </tbody>\n",
       "</table>\n",
       "</div>"
      ],
      "text/plain": [
       "   A  B  C\n",
       "0  1  2  3\n",
       "1  4  5  6\n",
       "3  3  5  6"
      ]
     },
     "execution_count": 80,
     "metadata": {},
     "output_type": "execute_result"
    }
   ],
   "source": [
    "df.drop_duplicates(keep='first', inplace=True)\n",
    "df"
   ]
  },
  {
   "cell_type": "markdown",
   "id": "fcb5938e-a015-4679-9c52-89cc059ed7ff",
   "metadata": {},
   "source": [
    "2.71 DataFrame 类的 isna 方法"
   ]
  },
  {
   "cell_type": "code",
   "execution_count": 81,
   "id": "e2fd6c04-6e43-40db-bfce-efb6e20a9c5d",
   "metadata": {},
   "outputs": [
    {
     "data": {
      "text/html": [
       "<div>\n",
       "<style scoped>\n",
       "    .dataframe tbody tr th:only-of-type {\n",
       "        vertical-align: middle;\n",
       "    }\n",
       "\n",
       "    .dataframe tbody tr th {\n",
       "        vertical-align: top;\n",
       "    }\n",
       "\n",
       "    .dataframe thead th {\n",
       "        text-align: right;\n",
       "    }\n",
       "</style>\n",
       "<table border=\"1\" class=\"dataframe\">\n",
       "  <thead>\n",
       "    <tr style=\"text-align: right;\">\n",
       "      <th></th>\n",
       "      <th>A</th>\n",
       "      <th>B</th>\n",
       "      <th>C</th>\n",
       "    </tr>\n",
       "  </thead>\n",
       "  <tbody>\n",
       "    <tr>\n",
       "      <th>0</th>\n",
       "      <td>False</td>\n",
       "      <td>False</td>\n",
       "      <td>False</td>\n",
       "    </tr>\n",
       "    <tr>\n",
       "      <th>1</th>\n",
       "      <td>False</td>\n",
       "      <td>False</td>\n",
       "      <td>True</td>\n",
       "    </tr>\n",
       "    <tr>\n",
       "      <th>2</th>\n",
       "      <td>False</td>\n",
       "      <td>True</td>\n",
       "      <td>True</td>\n",
       "    </tr>\n",
       "    <tr>\n",
       "      <th>3</th>\n",
       "      <td>False</td>\n",
       "      <td>False</td>\n",
       "      <td>False</td>\n",
       "    </tr>\n",
       "    <tr>\n",
       "      <th>4</th>\n",
       "      <td>False</td>\n",
       "      <td>False</td>\n",
       "      <td>False</td>\n",
       "    </tr>\n",
       "  </tbody>\n",
       "</table>\n",
       "</div>"
      ],
      "text/plain": [
       "       A      B      C\n",
       "0  False  False  False\n",
       "1  False  False   True\n",
       "2  False   True   True\n",
       "3  False  False  False\n",
       "4  False  False  False"
      ]
     },
     "execution_count": 81,
     "metadata": {},
     "output_type": "execute_result"
    }
   ],
   "source": [
    "val = [[1,2,3],[4,5,np.nan],[1,np.nan,np.nan],[3,5,6],[7,8,9]]\n",
    "df = pd.DataFrame(val, columns=list('ABC'))\n",
    "df.isna()"
   ]
  },
  {
   "cell_type": "markdown",
   "id": "c06a96e5-f867-4fec-b5ee-736c8b1ce37c",
   "metadata": {},
   "source": [
    "2.72 DataFrame 类的 notna 方法"
   ]
  },
  {
   "cell_type": "code",
   "execution_count": 82,
   "id": "fc5c0511-601e-45c3-9da3-be1f081c3f08",
   "metadata": {},
   "outputs": [
    {
     "data": {
      "text/html": [
       "<div>\n",
       "<style scoped>\n",
       "    .dataframe tbody tr th:only-of-type {\n",
       "        vertical-align: middle;\n",
       "    }\n",
       "\n",
       "    .dataframe tbody tr th {\n",
       "        vertical-align: top;\n",
       "    }\n",
       "\n",
       "    .dataframe thead th {\n",
       "        text-align: right;\n",
       "    }\n",
       "</style>\n",
       "<table border=\"1\" class=\"dataframe\">\n",
       "  <thead>\n",
       "    <tr style=\"text-align: right;\">\n",
       "      <th></th>\n",
       "      <th>A</th>\n",
       "      <th>B</th>\n",
       "      <th>C</th>\n",
       "    </tr>\n",
       "  </thead>\n",
       "  <tbody>\n",
       "    <tr>\n",
       "      <th>0</th>\n",
       "      <td>True</td>\n",
       "      <td>True</td>\n",
       "      <td>True</td>\n",
       "    </tr>\n",
       "    <tr>\n",
       "      <th>1</th>\n",
       "      <td>True</td>\n",
       "      <td>True</td>\n",
       "      <td>False</td>\n",
       "    </tr>\n",
       "    <tr>\n",
       "      <th>2</th>\n",
       "      <td>True</td>\n",
       "      <td>False</td>\n",
       "      <td>False</td>\n",
       "    </tr>\n",
       "    <tr>\n",
       "      <th>3</th>\n",
       "      <td>True</td>\n",
       "      <td>True</td>\n",
       "      <td>True</td>\n",
       "    </tr>\n",
       "    <tr>\n",
       "      <th>4</th>\n",
       "      <td>True</td>\n",
       "      <td>True</td>\n",
       "      <td>True</td>\n",
       "    </tr>\n",
       "  </tbody>\n",
       "</table>\n",
       "</div>"
      ],
      "text/plain": [
       "      A      B      C\n",
       "0  True   True   True\n",
       "1  True   True  False\n",
       "2  True  False  False\n",
       "3  True   True   True\n",
       "4  True   True   True"
      ]
     },
     "execution_count": 82,
     "metadata": {},
     "output_type": "execute_result"
    }
   ],
   "source": [
    "df.notna()"
   ]
  },
  {
   "cell_type": "markdown",
   "id": "12c5bbc1-4955-4a8e-9725-8edf316c944e",
   "metadata": {},
   "source": [
    "2.73 DataFrame 类的 dropna 方法"
   ]
  },
  {
   "cell_type": "code",
   "execution_count": 83,
   "id": "3b8f8e07-e5e9-4888-af9e-cb66d748efcf",
   "metadata": {},
   "outputs": [
    {
     "data": {
      "text/html": [
       "<div>\n",
       "<style scoped>\n",
       "    .dataframe tbody tr th:only-of-type {\n",
       "        vertical-align: middle;\n",
       "    }\n",
       "\n",
       "    .dataframe tbody tr th {\n",
       "        vertical-align: top;\n",
       "    }\n",
       "\n",
       "    .dataframe thead th {\n",
       "        text-align: right;\n",
       "    }\n",
       "</style>\n",
       "<table border=\"1\" class=\"dataframe\">\n",
       "  <thead>\n",
       "    <tr style=\"text-align: right;\">\n",
       "      <th></th>\n",
       "      <th>A</th>\n",
       "      <th>B</th>\n",
       "      <th>C</th>\n",
       "    </tr>\n",
       "  </thead>\n",
       "  <tbody>\n",
       "    <tr>\n",
       "      <th>0</th>\n",
       "      <td>1</td>\n",
       "      <td>2.0</td>\n",
       "      <td>3.0</td>\n",
       "    </tr>\n",
       "    <tr>\n",
       "      <th>1</th>\n",
       "      <td>4</td>\n",
       "      <td>5.0</td>\n",
       "      <td>NaN</td>\n",
       "    </tr>\n",
       "    <tr>\n",
       "      <th>2</th>\n",
       "      <td>1</td>\n",
       "      <td>NaN</td>\n",
       "      <td>NaN</td>\n",
       "    </tr>\n",
       "    <tr>\n",
       "      <th>3</th>\n",
       "      <td>3</td>\n",
       "      <td>5.0</td>\n",
       "      <td>6.0</td>\n",
       "    </tr>\n",
       "    <tr>\n",
       "      <th>4</th>\n",
       "      <td>7</td>\n",
       "      <td>8.0</td>\n",
       "      <td>9.0</td>\n",
       "    </tr>\n",
       "  </tbody>\n",
       "</table>\n",
       "</div>"
      ],
      "text/plain": [
       "   A    B    C\n",
       "0  1  2.0  3.0\n",
       "1  4  5.0  NaN\n",
       "2  1  NaN  NaN\n",
       "3  3  5.0  6.0\n",
       "4  7  8.0  9.0"
      ]
     },
     "execution_count": 83,
     "metadata": {},
     "output_type": "execute_result"
    }
   ],
   "source": [
    "df"
   ]
  },
  {
   "cell_type": "code",
   "execution_count": 84,
   "id": "c78ee454-5423-47fb-b903-9eaf51648d8f",
   "metadata": {},
   "outputs": [
    {
     "data": {
      "text/html": [
       "<div>\n",
       "<style scoped>\n",
       "    .dataframe tbody tr th:only-of-type {\n",
       "        vertical-align: middle;\n",
       "    }\n",
       "\n",
       "    .dataframe tbody tr th {\n",
       "        vertical-align: top;\n",
       "    }\n",
       "\n",
       "    .dataframe thead th {\n",
       "        text-align: right;\n",
       "    }\n",
       "</style>\n",
       "<table border=\"1\" class=\"dataframe\">\n",
       "  <thead>\n",
       "    <tr style=\"text-align: right;\">\n",
       "      <th></th>\n",
       "      <th>A</th>\n",
       "    </tr>\n",
       "  </thead>\n",
       "  <tbody>\n",
       "    <tr>\n",
       "      <th>0</th>\n",
       "      <td>1</td>\n",
       "    </tr>\n",
       "    <tr>\n",
       "      <th>1</th>\n",
       "      <td>4</td>\n",
       "    </tr>\n",
       "    <tr>\n",
       "      <th>2</th>\n",
       "      <td>1</td>\n",
       "    </tr>\n",
       "    <tr>\n",
       "      <th>3</th>\n",
       "      <td>3</td>\n",
       "    </tr>\n",
       "    <tr>\n",
       "      <th>4</th>\n",
       "      <td>7</td>\n",
       "    </tr>\n",
       "  </tbody>\n",
       "</table>\n",
       "</div>"
      ],
      "text/plain": [
       "   A\n",
       "0  1\n",
       "1  4\n",
       "2  1\n",
       "3  3\n",
       "4  7"
      ]
     },
     "execution_count": 84,
     "metadata": {},
     "output_type": "execute_result"
    }
   ],
   "source": [
    "df.dropna(axis=1)"
   ]
  },
  {
   "cell_type": "code",
   "execution_count": 85,
   "id": "73485495-69a0-4d98-a605-cb027f96525c",
   "metadata": {},
   "outputs": [
    {
     "data": {
      "text/html": [
       "<div>\n",
       "<style scoped>\n",
       "    .dataframe tbody tr th:only-of-type {\n",
       "        vertical-align: middle;\n",
       "    }\n",
       "\n",
       "    .dataframe tbody tr th {\n",
       "        vertical-align: top;\n",
       "    }\n",
       "\n",
       "    .dataframe thead th {\n",
       "        text-align: right;\n",
       "    }\n",
       "</style>\n",
       "<table border=\"1\" class=\"dataframe\">\n",
       "  <thead>\n",
       "    <tr style=\"text-align: right;\">\n",
       "      <th></th>\n",
       "      <th>A</th>\n",
       "      <th>B</th>\n",
       "      <th>C</th>\n",
       "    </tr>\n",
       "  </thead>\n",
       "  <tbody>\n",
       "    <tr>\n",
       "      <th>0</th>\n",
       "      <td>1</td>\n",
       "      <td>2.0</td>\n",
       "      <td>3.0</td>\n",
       "    </tr>\n",
       "    <tr>\n",
       "      <th>3</th>\n",
       "      <td>3</td>\n",
       "      <td>5.0</td>\n",
       "      <td>6.0</td>\n",
       "    </tr>\n",
       "    <tr>\n",
       "      <th>4</th>\n",
       "      <td>7</td>\n",
       "      <td>8.0</td>\n",
       "      <td>9.0</td>\n",
       "    </tr>\n",
       "  </tbody>\n",
       "</table>\n",
       "</div>"
      ],
      "text/plain": [
       "   A    B    C\n",
       "0  1  2.0  3.0\n",
       "3  3  5.0  6.0\n",
       "4  7  8.0  9.0"
      ]
     },
     "execution_count": 85,
     "metadata": {},
     "output_type": "execute_result"
    }
   ],
   "source": [
    "df.dropna(axis=0)"
   ]
  },
  {
   "cell_type": "markdown",
   "id": "f8cc04c6-bc86-4676-99de-8d8793fb6364",
   "metadata": {},
   "source": [
    "## 2.3 索引"
   ]
  },
  {
   "cell_type": "markdown",
   "id": "dba6e9d1-ff11-4e5d-bd12-b1e0a479cf3d",
   "metadata": {},
   "source": [
    "### 2.3.1 索引的概要"
   ]
  },
  {
   "cell_type": "markdown",
   "id": "0db7f7ea-5263-4ef0-a31d-55bd29fe6965",
   "metadata": {},
   "source": [
    "2.74 Index 对象的确认"
   ]
  },
  {
   "cell_type": "code",
   "execution_count": 86,
   "id": "b19adefd-4c7b-49e6-8a6e-604c9f8b2a9d",
   "metadata": {},
   "outputs": [
    {
     "data": {
      "text/html": [
       "<div>\n",
       "<style scoped>\n",
       "    .dataframe tbody tr th:only-of-type {\n",
       "        vertical-align: middle;\n",
       "    }\n",
       "\n",
       "    .dataframe tbody tr th {\n",
       "        vertical-align: top;\n",
       "    }\n",
       "\n",
       "    .dataframe thead th {\n",
       "        text-align: right;\n",
       "    }\n",
       "</style>\n",
       "<table border=\"1\" class=\"dataframe\">\n",
       "  <thead>\n",
       "    <tr style=\"text-align: right;\">\n",
       "      <th></th>\n",
       "      <th>0</th>\n",
       "      <th>1</th>\n",
       "      <th>2</th>\n",
       "    </tr>\n",
       "  </thead>\n",
       "  <tbody>\n",
       "    <tr>\n",
       "      <th>0</th>\n",
       "      <td>1</td>\n",
       "      <td>2</td>\n",
       "      <td>3</td>\n",
       "    </tr>\n",
       "    <tr>\n",
       "      <th>1</th>\n",
       "      <td>4</td>\n",
       "      <td>5</td>\n",
       "      <td>6</td>\n",
       "    </tr>\n",
       "  </tbody>\n",
       "</table>\n",
       "</div>"
      ],
      "text/plain": [
       "   0  1  2\n",
       "0  1  2  3\n",
       "1  4  5  6"
      ]
     },
     "execution_count": 86,
     "metadata": {},
     "output_type": "execute_result"
    }
   ],
   "source": [
    "df = pd.DataFrame([[1,2,3],[4,5,6]])\n",
    "df"
   ]
  },
  {
   "cell_type": "code",
   "execution_count": 87,
   "id": "2c2d48b9-dbab-44b3-a59d-8f71735bd03c",
   "metadata": {},
   "outputs": [
    {
     "name": "stdout",
     "output_type": "stream",
     "text": [
      "RangeIndex(start=0, stop=2, step=1)\n",
      "RangeIndex(start=0, stop=3, step=1)\n"
     ]
    }
   ],
   "source": [
    "print(df.index)\n",
    "print(df.columns)"
   ]
  },
  {
   "cell_type": "markdown",
   "id": "061fa2d4-9c35-421a-ac35-190dc2820d9f",
   "metadata": {},
   "source": [
    "2.75 Index对象的构造函数"
   ]
  },
  {
   "cell_type": "code",
   "execution_count": 88,
   "id": "372b558b-99ac-49b7-942e-9dea63aa8a7f",
   "metadata": {},
   "outputs": [
    {
     "data": {
      "text/plain": [
       "Index([1, 2, 3, 4, 5], dtype='int64')"
      ]
     },
     "execution_count": 88,
     "metadata": {},
     "output_type": "execute_result"
    }
   ],
   "source": [
    "idx = pd.Index([1,2,3,4,5])\n",
    "idx"
   ]
  },
  {
   "cell_type": "code",
   "execution_count": 89,
   "id": "eced89bb-9d40-4aff-b68a-774c71f4b673",
   "metadata": {},
   "outputs": [
    {
     "data": {
      "text/plain": [
       "pandas.core.indexes.base.Index"
      ]
     },
     "execution_count": 89,
     "metadata": {},
     "output_type": "execute_result"
    }
   ],
   "source": [
    "type(idx)"
   ]
  },
  {
   "cell_type": "markdown",
   "id": "6fdde36b-3850-4dcb-b5d2-87d4eabfbdf7",
   "metadata": {},
   "source": [
    "2.76 Index 对象的索引引用"
   ]
  },
  {
   "cell_type": "code",
   "execution_count": 90,
   "id": "ecad1784-abb5-48de-a736-540550fadf2b",
   "metadata": {},
   "outputs": [
    {
     "name": "stdout",
     "output_type": "stream",
     "text": [
      "1\n",
      "Index([2, 3], dtype='int64')\n"
     ]
    }
   ],
   "source": [
    "print(idx[0])\n",
    "print(idx[1:3])"
   ]
  },
  {
   "cell_type": "markdown",
   "id": "93d187ee-6f7d-4b56-928d-6bc5196570b7",
   "metadata": {},
   "source": [
    "2.77 Index 对象不可变"
   ]
  },
  {
   "cell_type": "code",
   "execution_count": 91,
   "id": "47624f6a-5401-4837-bc46-2e4187d2cdde",
   "metadata": {},
   "outputs": [],
   "source": [
    "#idx[0] = 1"
   ]
  },
  {
   "cell_type": "markdown",
   "id": "77e363c3-12ef-43ad-a338-c869a0a21d70",
   "metadata": {},
   "source": [
    "2.78 Index 对象的运算"
   ]
  },
  {
   "cell_type": "code",
   "execution_count": 92,
   "id": "f351f75f-e34f-4041-8769-395ad9c8facf",
   "metadata": {},
   "outputs": [
    {
     "name": "stdout",
     "output_type": "stream",
     "text": [
      "Index([1, 4, 0, 1, 4], dtype='int64')\n",
      "Index([3, 7, 3, 7, 7], dtype='int64')\n"
     ]
    }
   ],
   "source": [
    "idx1 = pd.Index([1,7,2,3,5])\n",
    "idx2 = pd.Index([3,4,1,5,6])\n",
    "\n",
    "print(idx1 & idx2)\n",
    "print(idx1 | idx2)"
   ]
  },
  {
   "cell_type": "markdown",
   "id": "b4554dcc-407a-4416-88cd-173ab4d4692f",
   "metadata": {},
   "source": [
    "2.79 Index 对象可以包含重复的值"
   ]
  },
  {
   "cell_type": "code",
   "execution_count": 93,
   "id": "b8314e36-bada-49e0-8165-5f5874f69517",
   "metadata": {},
   "outputs": [
    {
     "name": "stdout",
     "output_type": "stream",
     "text": [
      "{1, 2, 4, 5}\n",
      "Index([1, 1, 2, 2, 4, 5], dtype='int64')\n"
     ]
    }
   ],
   "source": [
    "set_obj = {1,1,2,2,4,5}\n",
    "idx3 = pd.Index([1,1,2,2,4,5])\n",
    "\n",
    "print(set_obj)\n",
    "print(idx3)"
   ]
  },
  {
   "cell_type": "markdown",
   "id": "ae490648-da39-4b37-9e63-0134bc5c5b3a",
   "metadata": {},
   "source": [
    "2.80 生成 RangeIndex 对象的索引"
   ]
  },
  {
   "cell_type": "code",
   "execution_count": 94,
   "id": "749df39a-6c13-4e9c-8144-f80398ed72c1",
   "metadata": {},
   "outputs": [
    {
     "data": {
      "text/plain": [
       "RangeIndex(start=0, stop=5, step=1)"
      ]
     },
     "execution_count": 94,
     "metadata": {},
     "output_type": "execute_result"
    }
   ],
   "source": [
    "df1 = pd.DataFrame([1,2,3,4,5])\n",
    "df1.index"
   ]
  },
  {
   "cell_type": "markdown",
   "id": "3c4f305b-55ec-4538-913b-96754a881216",
   "metadata": {},
   "source": [
    "2.81 RangeIndex 类的构造函数"
   ]
  },
  {
   "cell_type": "code",
   "execution_count": 95,
   "id": "bd897825-0484-43fc-ac0e-a3999ffcdc04",
   "metadata": {},
   "outputs": [
    {
     "data": {
      "text/plain": [
       "RangeIndex(start=0, stop=5, step=1)"
      ]
     },
     "execution_count": 95,
     "metadata": {},
     "output_type": "execute_result"
    }
   ],
   "source": [
    "idx = pd.RangeIndex(start=0, stop=5, step=1)\n",
    "idx"
   ]
  },
  {
   "cell_type": "markdown",
   "id": "1d5ac1e2-67e6-4d3e-bb32-0dd1cb6b98a4",
   "metadata": {},
   "source": [
    "2.82 Int64Index 对象的创建"
   ]
  },
  {
   "cell_type": "code",
   "execution_count": 96,
   "id": "e6c7868d-b0c7-4e4b-8645-a90ce6c95d9a",
   "metadata": {},
   "outputs": [
    {
     "data": {
      "text/plain": [
       "Index([0, 1, 2, 3, 4], dtype='int64')"
      ]
     },
     "execution_count": 96,
     "metadata": {},
     "output_type": "execute_result"
    }
   ],
   "source": [
    "df2 = pd.DataFrame([1,2,3,4,5],index=[0,1,2,3,4])\n",
    "df2.index"
   ]
  },
  {
   "cell_type": "markdown",
   "id": "fefa4cd5-ef54-4a76-affa-4b57727c51fb",
   "metadata": {},
   "source": [
    "2.83 DatetimeIndex 对象的生成"
   ]
  },
  {
   "cell_type": "code",
   "execution_count": 97,
   "id": "b9b83961-78a6-4419-a68e-7ea9a040567f",
   "metadata": {},
   "outputs": [
    {
     "data": {
      "text/plain": [
       "DatetimeIndex(['2018-12-28', '2018-12-29', '2018-12-30', '2018-12-31',\n",
       "               '2019-01-01', '2019-01-02', '2019-01-03', '2019-01-04',\n",
       "               '2019-01-05'],\n",
       "              dtype='datetime64[ns]', freq='D')"
      ]
     },
     "execution_count": 97,
     "metadata": {},
     "output_type": "execute_result"
    }
   ],
   "source": [
    "idx_date = pd.date_range(\n",
    "    freq='D',\n",
    "    start='2018-12-28',\n",
    "    end='2019-01-05'\n",
    ")\n",
    "\n",
    "idx_date"
   ]
  },
  {
   "cell_type": "markdown",
   "id": "28721ee8-1a45-4075-b6d4-dbd57b6143f4",
   "metadata": {},
   "source": [
    "2.84 创建包含 DatetimeIndex 对象的 DataFrame 对象"
   ]
  },
  {
   "cell_type": "code",
   "execution_count": 98,
   "id": "1810e303-cfd4-4b9e-bcec-cbb17f3c8c0c",
   "metadata": {},
   "outputs": [
    {
     "data": {
      "text/html": [
       "<div>\n",
       "<style scoped>\n",
       "    .dataframe tbody tr th:only-of-type {\n",
       "        vertical-align: middle;\n",
       "    }\n",
       "\n",
       "    .dataframe tbody tr th {\n",
       "        vertical-align: top;\n",
       "    }\n",
       "\n",
       "    .dataframe thead th {\n",
       "        text-align: right;\n",
       "    }\n",
       "</style>\n",
       "<table border=\"1\" class=\"dataframe\">\n",
       "  <thead>\n",
       "    <tr style=\"text-align: right;\">\n",
       "      <th></th>\n",
       "      <th>0</th>\n",
       "    </tr>\n",
       "  </thead>\n",
       "  <tbody>\n",
       "    <tr>\n",
       "      <th>2018-12-28</th>\n",
       "      <td>1</td>\n",
       "    </tr>\n",
       "    <tr>\n",
       "      <th>2018-12-29</th>\n",
       "      <td>2</td>\n",
       "    </tr>\n",
       "    <tr>\n",
       "      <th>2018-12-30</th>\n",
       "      <td>3</td>\n",
       "    </tr>\n",
       "    <tr>\n",
       "      <th>2018-12-31</th>\n",
       "      <td>4</td>\n",
       "    </tr>\n",
       "    <tr>\n",
       "      <th>2019-01-01</th>\n",
       "      <td>5</td>\n",
       "    </tr>\n",
       "    <tr>\n",
       "      <th>2019-01-02</th>\n",
       "      <td>6</td>\n",
       "    </tr>\n",
       "    <tr>\n",
       "      <th>2019-01-03</th>\n",
       "      <td>7</td>\n",
       "    </tr>\n",
       "    <tr>\n",
       "      <th>2019-01-04</th>\n",
       "      <td>8</td>\n",
       "    </tr>\n",
       "    <tr>\n",
       "      <th>2019-01-05</th>\n",
       "      <td>9</td>\n",
       "    </tr>\n",
       "  </tbody>\n",
       "</table>\n",
       "</div>"
      ],
      "text/plain": [
       "            0\n",
       "2018-12-28  1\n",
       "2018-12-29  2\n",
       "2018-12-30  3\n",
       "2018-12-31  4\n",
       "2019-01-01  5\n",
       "2019-01-02  6\n",
       "2019-01-03  7\n",
       "2019-01-04  8\n",
       "2019-01-05  9"
      ]
     },
     "execution_count": 98,
     "metadata": {},
     "output_type": "execute_result"
    }
   ],
   "source": [
    "df_date = pd.DataFrame([1,2,3,4,5,6,7,8,9], index=idx_date)\n",
    "df_date"
   ]
  },
  {
   "cell_type": "markdown",
   "id": "de80b34c-391b-440f-8460-d9346fb9e52a",
   "metadata": {},
   "source": [
    "2.85 DatetimeIndex 对象的索引引用"
   ]
  },
  {
   "cell_type": "code",
   "execution_count": 99,
   "id": "febeace2-df24-4e7c-9fca-497a82999108",
   "metadata": {},
   "outputs": [
    {
     "data": {
      "text/html": [
       "<div>\n",
       "<style scoped>\n",
       "    .dataframe tbody tr th:only-of-type {\n",
       "        vertical-align: middle;\n",
       "    }\n",
       "\n",
       "    .dataframe tbody tr th {\n",
       "        vertical-align: top;\n",
       "    }\n",
       "\n",
       "    .dataframe thead th {\n",
       "        text-align: right;\n",
       "    }\n",
       "</style>\n",
       "<table border=\"1\" class=\"dataframe\">\n",
       "  <thead>\n",
       "    <tr style=\"text-align: right;\">\n",
       "      <th></th>\n",
       "      <th>0</th>\n",
       "    </tr>\n",
       "  </thead>\n",
       "  <tbody>\n",
       "    <tr>\n",
       "      <th>2019-01-01</th>\n",
       "      <td>5</td>\n",
       "    </tr>\n",
       "    <tr>\n",
       "      <th>2019-01-02</th>\n",
       "      <td>6</td>\n",
       "    </tr>\n",
       "    <tr>\n",
       "      <th>2019-01-03</th>\n",
       "      <td>7</td>\n",
       "    </tr>\n",
       "    <tr>\n",
       "      <th>2019-01-04</th>\n",
       "      <td>8</td>\n",
       "    </tr>\n",
       "    <tr>\n",
       "      <th>2019-01-05</th>\n",
       "      <td>9</td>\n",
       "    </tr>\n",
       "  </tbody>\n",
       "</table>\n",
       "</div>"
      ],
      "text/plain": [
       "            0\n",
       "2019-01-01  5\n",
       "2019-01-02  6\n",
       "2019-01-03  7\n",
       "2019-01-04  8\n",
       "2019-01-05  9"
      ]
     },
     "execution_count": 99,
     "metadata": {},
     "output_type": "execute_result"
    }
   ],
   "source": [
    "df_date.loc['2019']"
   ]
  },
  {
   "cell_type": "markdown",
   "id": "52afa537-4d99-4f73-b00b-71f4dc23d397",
   "metadata": {},
   "source": [
    "### 2.3.2 索引的基本操作"
   ]
  },
  {
   "cell_type": "markdown",
   "id": "9b6a60d9-729a-415c-ac36-9a4cdc8cde4d",
   "metadata": {},
   "source": [
    "2.86 Index 对象的 size 属性"
   ]
  },
  {
   "cell_type": "code",
   "execution_count": 100,
   "id": "7998f2b2-d5ba-42df-b366-8964a6473371",
   "metadata": {},
   "outputs": [
    {
     "name": "stdout",
     "output_type": "stream",
     "text": [
      "5\n"
     ]
    }
   ],
   "source": [
    "idx = pd.Index([1,2,3,4,np.nan])\n",
    "print(idx.size)"
   ]
  },
  {
   "cell_type": "markdown",
   "id": "2332efcf-fcf4-4529-a6ec-a2644c41b104",
   "metadata": {},
   "source": [
    "2.87 Index 对象的 dtype 属性"
   ]
  },
  {
   "cell_type": "code",
   "execution_count": 101,
   "id": "e2530b17-b528-4324-8237-5eb98a10305f",
   "metadata": {},
   "outputs": [
    {
     "name": "stdout",
     "output_type": "stream",
     "text": [
      "int64\n",
      "float64\n",
      "object\n"
     ]
    }
   ],
   "source": [
    "idx_int = pd.Index([1,2,3])\n",
    "idx_float = pd.Index([0.1,0.2,0.3])\n",
    "idx_obj = pd.Index([1,'a',0.1])\n",
    "\n",
    "print(idx_int.dtype)\n",
    "print(idx_float.dtype)\n",
    "print(idx_obj.dtype)"
   ]
  },
  {
   "cell_type": "markdown",
   "id": "af3f5e62-af28-409c-acb8-6149c99c0c00",
   "metadata": {},
   "source": [
    "2.88 Index 对象的 values 属性"
   ]
  },
  {
   "cell_type": "code",
   "execution_count": 102,
   "id": "1369df62-2dcf-4900-aa96-10b4d9925752",
   "metadata": {},
   "outputs": [
    {
     "name": "stdout",
     "output_type": "stream",
     "text": [
      "<class 'pandas.core.indexes.base.Index'>\n",
      "<class 'numpy.ndarray'>\n"
     ]
    }
   ],
   "source": [
    "idx_arr = pd.Index([1,2,3])\n",
    "print(type(idx_arr))\n",
    "print(type(idx_arr.values))"
   ]
  },
  {
   "cell_type": "markdown",
   "id": "a3593cc1-dabb-4fcd-998a-a3586f184ca0",
   "metadata": {},
   "source": [
    "2.89 Index 对象的 is_unique 属性"
   ]
  },
  {
   "cell_type": "code",
   "execution_count": 103,
   "id": "b853a41d-a26b-46a4-8f01-e960673235b9",
   "metadata": {},
   "outputs": [
    {
     "name": "stdout",
     "output_type": "stream",
     "text": [
      "False\n"
     ]
    }
   ],
   "source": [
    "idx = pd.Index([1,2,2])\n",
    "print(idx.is_unique)"
   ]
  },
  {
   "cell_type": "markdown",
   "id": "252f40a2-ff88-4ea3-ba42-b43152d73314",
   "metadata": {},
   "source": [
    "2.90 DataFrame 对象的创建"
   ]
  },
  {
   "cell_type": "code",
   "execution_count": 104,
   "id": "23bf116c-c684-4494-84a1-5cc37dacb06d",
   "metadata": {},
   "outputs": [
    {
     "data": {
      "text/html": [
       "<div>\n",
       "<style scoped>\n",
       "    .dataframe tbody tr th:only-of-type {\n",
       "        vertical-align: middle;\n",
       "    }\n",
       "\n",
       "    .dataframe tbody tr th {\n",
       "        vertical-align: top;\n",
       "    }\n",
       "\n",
       "    .dataframe thead th {\n",
       "        text-align: right;\n",
       "    }\n",
       "</style>\n",
       "<table border=\"1\" class=\"dataframe\">\n",
       "  <thead>\n",
       "    <tr style=\"text-align: right;\">\n",
       "      <th></th>\n",
       "      <th>a</th>\n",
       "      <th>b</th>\n",
       "      <th>c</th>\n",
       "    </tr>\n",
       "  </thead>\n",
       "  <tbody>\n",
       "    <tr>\n",
       "      <th>0</th>\n",
       "      <td>1</td>\n",
       "      <td>2</td>\n",
       "      <td>3</td>\n",
       "    </tr>\n",
       "    <tr>\n",
       "      <th>2</th>\n",
       "      <td>4</td>\n",
       "      <td>5</td>\n",
       "      <td>6</td>\n",
       "    </tr>\n",
       "    <tr>\n",
       "      <th>4</th>\n",
       "      <td>7</td>\n",
       "      <td>8</td>\n",
       "      <td>9</td>\n",
       "    </tr>\n",
       "  </tbody>\n",
       "</table>\n",
       "</div>"
      ],
      "text/plain": [
       "   a  b  c\n",
       "0  1  2  3\n",
       "2  4  5  6\n",
       "4  7  8  9"
      ]
     },
     "execution_count": 104,
     "metadata": {},
     "output_type": "execute_result"
    }
   ],
   "source": [
    "val = [[1,2,3],[4,5,6],[7,8,9]]\n",
    "df = pd.DataFrame(val,index=[0,2,4],columns=['a','b','c'])\n",
    "df"
   ]
  },
  {
   "cell_type": "markdown",
   "id": "a3f9eae1-9cb8-4ed9-9dc1-f4ab74e01f31",
   "metadata": {},
   "source": [
    "2.91 使用 reindex 方法重建索引"
   ]
  },
  {
   "cell_type": "code",
   "execution_count": 105,
   "id": "9f90f15c-d7f3-4fa8-880b-578e6a1fe94e",
   "metadata": {},
   "outputs": [
    {
     "data": {
      "text/html": [
       "<div>\n",
       "<style scoped>\n",
       "    .dataframe tbody tr th:only-of-type {\n",
       "        vertical-align: middle;\n",
       "    }\n",
       "\n",
       "    .dataframe tbody tr th {\n",
       "        vertical-align: top;\n",
       "    }\n",
       "\n",
       "    .dataframe thead th {\n",
       "        text-align: right;\n",
       "    }\n",
       "</style>\n",
       "<table border=\"1\" class=\"dataframe\">\n",
       "  <thead>\n",
       "    <tr style=\"text-align: right;\">\n",
       "      <th></th>\n",
       "      <th>a</th>\n",
       "      <th>b</th>\n",
       "      <th>c</th>\n",
       "    </tr>\n",
       "  </thead>\n",
       "  <tbody>\n",
       "    <tr>\n",
       "      <th>0</th>\n",
       "      <td>1.0</td>\n",
       "      <td>2.0</td>\n",
       "      <td>3.0</td>\n",
       "    </tr>\n",
       "    <tr>\n",
       "      <th>1</th>\n",
       "      <td>NaN</td>\n",
       "      <td>NaN</td>\n",
       "      <td>NaN</td>\n",
       "    </tr>\n",
       "    <tr>\n",
       "      <th>2</th>\n",
       "      <td>4.0</td>\n",
       "      <td>5.0</td>\n",
       "      <td>6.0</td>\n",
       "    </tr>\n",
       "    <tr>\n",
       "      <th>3</th>\n",
       "      <td>NaN</td>\n",
       "      <td>NaN</td>\n",
       "      <td>NaN</td>\n",
       "    </tr>\n",
       "    <tr>\n",
       "      <th>4</th>\n",
       "      <td>7.0</td>\n",
       "      <td>8.0</td>\n",
       "      <td>9.0</td>\n",
       "    </tr>\n",
       "  </tbody>\n",
       "</table>\n",
       "</div>"
      ],
      "text/plain": [
       "     a    b    c\n",
       "0  1.0  2.0  3.0\n",
       "1  NaN  NaN  NaN\n",
       "2  4.0  5.0  6.0\n",
       "3  NaN  NaN  NaN\n",
       "4  7.0  8.0  9.0"
      ]
     },
     "execution_count": 105,
     "metadata": {},
     "output_type": "execute_result"
    }
   ],
   "source": [
    "df = df.reindex([0,1,2,3,4])\n",
    "df"
   ]
  },
  {
   "cell_type": "markdown",
   "id": "09bd662c-ff58-479a-8c06-47a3964c1394",
   "metadata": {},
   "source": [
    "2.91 使用 reindex 方法重建索引"
   ]
  },
  {
   "cell_type": "code",
   "execution_count": 106,
   "id": "a2dfac9d-9007-4eaa-a6f5-8f007cb72fce",
   "metadata": {},
   "outputs": [
    {
     "data": {
      "text/html": [
       "<div>\n",
       "<style scoped>\n",
       "    .dataframe tbody tr th:only-of-type {\n",
       "        vertical-align: middle;\n",
       "    }\n",
       "\n",
       "    .dataframe tbody tr th {\n",
       "        vertical-align: top;\n",
       "    }\n",
       "\n",
       "    .dataframe thead th {\n",
       "        text-align: right;\n",
       "    }\n",
       "</style>\n",
       "<table border=\"1\" class=\"dataframe\">\n",
       "  <thead>\n",
       "    <tr style=\"text-align: right;\">\n",
       "      <th></th>\n",
       "      <th>a</th>\n",
       "      <th>b</th>\n",
       "      <th>c</th>\n",
       "    </tr>\n",
       "  </thead>\n",
       "  <tbody>\n",
       "    <tr>\n",
       "      <th>5</th>\n",
       "      <td>1.0</td>\n",
       "      <td>2.0</td>\n",
       "      <td>3.0</td>\n",
       "    </tr>\n",
       "    <tr>\n",
       "      <th>6</th>\n",
       "      <td>NaN</td>\n",
       "      <td>NaN</td>\n",
       "      <td>NaN</td>\n",
       "    </tr>\n",
       "    <tr>\n",
       "      <th>7</th>\n",
       "      <td>4.0</td>\n",
       "      <td>5.0</td>\n",
       "      <td>6.0</td>\n",
       "    </tr>\n",
       "    <tr>\n",
       "      <th>8</th>\n",
       "      <td>NaN</td>\n",
       "      <td>NaN</td>\n",
       "      <td>NaN</td>\n",
       "    </tr>\n",
       "    <tr>\n",
       "      <th>9</th>\n",
       "      <td>7.0</td>\n",
       "      <td>8.0</td>\n",
       "      <td>9.0</td>\n",
       "    </tr>\n",
       "  </tbody>\n",
       "</table>\n",
       "</div>"
      ],
      "text/plain": [
       "     a    b    c\n",
       "5  1.0  2.0  3.0\n",
       "6  NaN  NaN  NaN\n",
       "7  4.0  5.0  6.0\n",
       "8  NaN  NaN  NaN\n",
       "9  7.0  8.0  9.0"
      ]
     },
     "execution_count": 106,
     "metadata": {},
     "output_type": "execute_result"
    }
   ],
   "source": [
    "df.index = [5,6,7,8,9]\n",
    "df"
   ]
  },
  {
   "cell_type": "markdown",
   "id": "cc4c5eea-6663-405d-9e45-be86939ef0ae",
   "metadata": {},
   "source": [
    "2.93 使用 reindex 方法重建列标签"
   ]
  },
  {
   "cell_type": "code",
   "execution_count": 107,
   "id": "7247aaf1-97f1-42cb-9531-d223f3c04ff7",
   "metadata": {},
   "outputs": [
    {
     "data": {
      "text/html": [
       "<div>\n",
       "<style scoped>\n",
       "    .dataframe tbody tr th:only-of-type {\n",
       "        vertical-align: middle;\n",
       "    }\n",
       "\n",
       "    .dataframe tbody tr th {\n",
       "        vertical-align: top;\n",
       "    }\n",
       "\n",
       "    .dataframe thead th {\n",
       "        text-align: right;\n",
       "    }\n",
       "</style>\n",
       "<table border=\"1\" class=\"dataframe\">\n",
       "  <thead>\n",
       "    <tr style=\"text-align: right;\">\n",
       "      <th></th>\n",
       "      <th>a</th>\n",
       "      <th>b</th>\n",
       "      <th>c</th>\n",
       "      <th>d</th>\n",
       "    </tr>\n",
       "  </thead>\n",
       "  <tbody>\n",
       "    <tr>\n",
       "      <th>5</th>\n",
       "      <td>1.0</td>\n",
       "      <td>2.0</td>\n",
       "      <td>3.0</td>\n",
       "      <td>NaN</td>\n",
       "    </tr>\n",
       "    <tr>\n",
       "      <th>6</th>\n",
       "      <td>NaN</td>\n",
       "      <td>NaN</td>\n",
       "      <td>NaN</td>\n",
       "      <td>NaN</td>\n",
       "    </tr>\n",
       "    <tr>\n",
       "      <th>7</th>\n",
       "      <td>4.0</td>\n",
       "      <td>5.0</td>\n",
       "      <td>6.0</td>\n",
       "      <td>NaN</td>\n",
       "    </tr>\n",
       "    <tr>\n",
       "      <th>8</th>\n",
       "      <td>NaN</td>\n",
       "      <td>NaN</td>\n",
       "      <td>NaN</td>\n",
       "      <td>NaN</td>\n",
       "    </tr>\n",
       "    <tr>\n",
       "      <th>9</th>\n",
       "      <td>7.0</td>\n",
       "      <td>8.0</td>\n",
       "      <td>9.0</td>\n",
       "      <td>NaN</td>\n",
       "    </tr>\n",
       "  </tbody>\n",
       "</table>\n",
       "</div>"
      ],
      "text/plain": [
       "     a    b    c   d\n",
       "5  1.0  2.0  3.0 NaN\n",
       "6  NaN  NaN  NaN NaN\n",
       "7  4.0  5.0  6.0 NaN\n",
       "8  NaN  NaN  NaN NaN\n",
       "9  7.0  8.0  9.0 NaN"
      ]
     },
     "execution_count": 107,
     "metadata": {},
     "output_type": "execute_result"
    }
   ],
   "source": [
    "df = df.reindex(columns=['a','b','c','d'])\n",
    "df"
   ]
  },
  {
   "cell_type": "markdown",
   "id": "f4075347-ab62-4a5a-8681-ee8d23215352",
   "metadata": {},
   "source": [
    "2.94 基于 reindex 方法的 ffill 填充"
   ]
  },
  {
   "cell_type": "code",
   "execution_count": 108,
   "id": "c6c4c8f0-99ce-4634-81b4-0a713173eaed",
   "metadata": {},
   "outputs": [
    {
     "data": {
      "text/html": [
       "<div>\n",
       "<style scoped>\n",
       "    .dataframe tbody tr th:only-of-type {\n",
       "        vertical-align: middle;\n",
       "    }\n",
       "\n",
       "    .dataframe tbody tr th {\n",
       "        vertical-align: top;\n",
       "    }\n",
       "\n",
       "    .dataframe thead th {\n",
       "        text-align: right;\n",
       "    }\n",
       "</style>\n",
       "<table border=\"1\" class=\"dataframe\">\n",
       "  <thead>\n",
       "    <tr style=\"text-align: right;\">\n",
       "      <th></th>\n",
       "      <th>a</th>\n",
       "      <th>b</th>\n",
       "      <th>c</th>\n",
       "      <th>d</th>\n",
       "    </tr>\n",
       "  </thead>\n",
       "  <tbody>\n",
       "    <tr>\n",
       "      <th>5</th>\n",
       "      <td>1.0</td>\n",
       "      <td>2.0</td>\n",
       "      <td>3.0</td>\n",
       "      <td>NaN</td>\n",
       "    </tr>\n",
       "    <tr>\n",
       "      <th>6</th>\n",
       "      <td>NaN</td>\n",
       "      <td>NaN</td>\n",
       "      <td>NaN</td>\n",
       "      <td>NaN</td>\n",
       "    </tr>\n",
       "    <tr>\n",
       "      <th>7</th>\n",
       "      <td>4.0</td>\n",
       "      <td>5.0</td>\n",
       "      <td>6.0</td>\n",
       "      <td>NaN</td>\n",
       "    </tr>\n",
       "    <tr>\n",
       "      <th>8</th>\n",
       "      <td>NaN</td>\n",
       "      <td>NaN</td>\n",
       "      <td>NaN</td>\n",
       "      <td>NaN</td>\n",
       "    </tr>\n",
       "    <tr>\n",
       "      <th>9</th>\n",
       "      <td>7.0</td>\n",
       "      <td>8.0</td>\n",
       "      <td>9.0</td>\n",
       "      <td>NaN</td>\n",
       "    </tr>\n",
       "    <tr>\n",
       "      <th>10</th>\n",
       "      <td>7.0</td>\n",
       "      <td>8.0</td>\n",
       "      <td>9.0</td>\n",
       "      <td>NaN</td>\n",
       "    </tr>\n",
       "  </tbody>\n",
       "</table>\n",
       "</div>"
      ],
      "text/plain": [
       "      a    b    c   d\n",
       "5   1.0  2.0  3.0 NaN\n",
       "6   NaN  NaN  NaN NaN\n",
       "7   4.0  5.0  6.0 NaN\n",
       "8   NaN  NaN  NaN NaN\n",
       "9   7.0  8.0  9.0 NaN\n",
       "10  7.0  8.0  9.0 NaN"
      ]
     },
     "execution_count": 108,
     "metadata": {},
     "output_type": "execute_result"
    }
   ],
   "source": [
    "df = df.reindex([5,6,7,8,9,10], method='ffill')\n",
    "df"
   ]
  },
  {
   "cell_type": "markdown",
   "id": "244f4958-3457-4f82-93f9-3fc347a2af99",
   "metadata": {},
   "source": [
    "2.95 Index 对象的 sort_values 方法"
   ]
  },
  {
   "cell_type": "code",
   "execution_count": 109,
   "id": "6f7bb8fc-fab5-46eb-8370-4ddbdb88444c",
   "metadata": {},
   "outputs": [
    {
     "name": "stdout",
     "output_type": "stream",
     "text": [
      "Index([5, 1, 3, 4, 2], dtype='int64')\n",
      "Index([1, 2, 3, 4, 5], dtype='int64')\n",
      "Index([5, 4, 3, 2, 1], dtype='int64')\n"
     ]
    }
   ],
   "source": [
    "idx = pd.Index([5,1,3,4,2])\n",
    "print(idx)\n",
    "print(idx.sort_values())\n",
    "print(idx.sort_values(ascending=False))"
   ]
  },
  {
   "cell_type": "markdown",
   "id": "41d12bb1-075c-40a6-ac06-94d3d367963c",
   "metadata": {},
   "source": [
    "2.96 使用 sort_values 方法对字符串进行排序"
   ]
  },
  {
   "cell_type": "code",
   "execution_count": 110,
   "id": "c1c6d3a0-ac67-4578-a652-d682b9acd323",
   "metadata": {},
   "outputs": [
    {
     "name": "stdout",
     "output_type": "stream",
     "text": [
      "Index(['咦', '唔', '啊'], dtype='object')\n"
     ]
    }
   ],
   "source": [
    "idx = pd.Index(['咦','啊','唔'])\n",
    "print(idx.sort_values())"
   ]
  },
  {
   "cell_type": "markdown",
   "id": "c9e62167-405d-4fca-a37c-12b7fc2c4189",
   "metadata": {},
   "source": [
    "2.97 Series 对象的 sort_index 方法"
   ]
  },
  {
   "cell_type": "code",
   "execution_count": 111,
   "id": "43faa27f-fc43-4471-b2fe-9cef51d08740",
   "metadata": {},
   "outputs": [
    {
     "data": {
      "text/plain": [
       "咦    1\n",
       "啊    2\n",
       "唔    3\n",
       "dtype: int64"
      ]
     },
     "execution_count": 111,
     "metadata": {},
     "output_type": "execute_result"
    }
   ],
   "source": [
    "ser = pd.Series([1,2,3], index=idx)\n",
    "ser"
   ]
  },
  {
   "cell_type": "code",
   "execution_count": 112,
   "id": "32dff164-04dc-43cf-8b26-f7332ef4001f",
   "metadata": {},
   "outputs": [
    {
     "data": {
      "text/plain": [
       "咦    1\n",
       "唔    3\n",
       "啊    2\n",
       "dtype: int64"
      ]
     },
     "execution_count": 112,
     "metadata": {},
     "output_type": "execute_result"
    }
   ],
   "source": [
    "ser.sort_index()"
   ]
  },
  {
   "cell_type": "markdown",
   "id": "2a0a2254-2be9-4eae-8637-1b45b3b7377c",
   "metadata": {},
   "source": [
    "2.98 Index 对象的 is_unique 属性"
   ]
  },
  {
   "cell_type": "code",
   "execution_count": 113,
   "id": "86ae183c-8ced-4740-8d84-c88823f86391",
   "metadata": {},
   "outputs": [
    {
     "name": "stdout",
     "output_type": "stream",
     "text": [
      "False\n",
      "True\n"
     ]
    }
   ],
   "source": [
    "idx1 = pd.Index([1,1,2,3,4,5])\n",
    "idx2 = pd.Index([1,2,3,4,5,6])\n",
    "\n",
    "print(idx1.is_unique)\n",
    "print(idx2.is_unique)"
   ]
  },
  {
   "cell_type": "markdown",
   "id": "4230e2e2-0cc0-4e14-b630-9a0db13c12df",
   "metadata": {},
   "source": [
    "2.99 Index 对象的 duplicated 方法"
   ]
  },
  {
   "cell_type": "code",
   "execution_count": 114,
   "id": "6ceb6ebc-2198-434c-a9a1-33dd6d7e0da9",
   "metadata": {},
   "outputs": [
    {
     "name": "stdout",
     "output_type": "stream",
     "text": [
      "Index([1, 1, 2, 3, 4, 5], dtype='int64')\n",
      "[ True  True False False False False]\n"
     ]
    }
   ],
   "source": [
    "print(idx1)\n",
    "print(idx1.duplicated(keep=False))"
   ]
  },
  {
   "cell_type": "markdown",
   "id": "9d56d102-ddee-4364-8451-0c1f0acb171e",
   "metadata": {},
   "source": [
    "2.100 Index 对象的 drop_duplicates 方法"
   ]
  },
  {
   "cell_type": "code",
   "execution_count": 115,
   "id": "fa8ea445-8d36-473f-a0bc-4a50d3073ea8",
   "metadata": {},
   "outputs": [
    {
     "data": {
      "text/plain": [
       "Index([2, 3, 4, 5], dtype='int64')"
      ]
     },
     "execution_count": 115,
     "metadata": {},
     "output_type": "execute_result"
    }
   ],
   "source": [
    "idx1.drop_duplicates(keep=False)"
   ]
  },
  {
   "cell_type": "markdown",
   "id": "9fce1ee2-f1c3-44fa-bbb0-3b8c4e6a63c7",
   "metadata": {},
   "source": [
    "2.101 Index 对象的 hasnans 属性"
   ]
  },
  {
   "cell_type": "code",
   "execution_count": 116,
   "id": "2b72b237-b55a-44f8-b7fa-6a8eed666fae",
   "metadata": {},
   "outputs": [
    {
     "name": "stdout",
     "output_type": "stream",
     "text": [
      "True\n"
     ]
    }
   ],
   "source": [
    "idx = pd.Index([1,np.nan,3])\n",
    "print(idx.hasnans)"
   ]
  },
  {
   "cell_type": "markdown",
   "id": "c6887220-336e-4c40-bdd1-64cba8dc9e08",
   "metadata": {},
   "source": [
    "2.102 isna 方法与 dropna 方法"
   ]
  },
  {
   "cell_type": "code",
   "execution_count": 117,
   "id": "b250fb17-23e7-480a-aa24-13b694001fc6",
   "metadata": {},
   "outputs": [
    {
     "data": {
      "text/plain": [
       "array([False,  True, False])"
      ]
     },
     "execution_count": 117,
     "metadata": {},
     "output_type": "execute_result"
    }
   ],
   "source": [
    "idx.isna()"
   ]
  },
  {
   "cell_type": "code",
   "execution_count": 118,
   "id": "debd949e-c43d-4469-b925-4c0cebdfdb89",
   "metadata": {},
   "outputs": [
    {
     "data": {
      "text/plain": [
       "Index([1.0, 3.0], dtype='float64')"
      ]
     },
     "execution_count": 118,
     "metadata": {},
     "output_type": "execute_result"
    }
   ],
   "source": [
    "idx.dropna()"
   ]
  },
  {
   "cell_type": "markdown",
   "id": "e021102c-648d-44ba-8aa8-a57648014805",
   "metadata": {},
   "source": [
    "## 2.4 pandas的初次接触"
   ]
  },
  {
   "cell_type": "markdown",
   "id": "ba3f4feb-e9f1-4268-8241-3ebd6dfc1587",
   "metadata": {},
   "source": [
    "### 2.4.1 数据集的概要"
   ]
  },
  {
   "cell_type": "markdown",
   "id": "eb98fc53-57ae-4e12-b2e0-031570633009",
   "metadata": {},
   "source": [
    "### 2.4.2 数据的读入"
   ]
  },
  {
   "cell_type": "markdown",
   "id": "351aa9b3-47d7-4a3c-8b58-47da31303156",
   "metadata": {},
   "source": [
    "2.103 使用 read_csv 函数读取文件"
   ]
  },
  {
   "cell_type": "code",
   "execution_count": 119,
   "id": "33580ce6-36eb-4d86-a32f-f6615e181055",
   "metadata": {},
   "outputs": [],
   "source": [
    "domain = 'https://archive.ics.uci.edu'\n",
    "path = '/ml/machine-learning-databases/adult/'\n",
    "file = 'adult.data'\n",
    "df = pd.read_csv(domain + path + file, header=None, skipinitialspace=True)"
   ]
  },
  {
   "cell_type": "markdown",
   "id": "e7a303e7-2086-4082-8e03-1c2ade250da2",
   "metadata": {},
   "source": [
    "2.104 使用 iloc 属性显示 DataFrame 对象的前两行"
   ]
  },
  {
   "cell_type": "code",
   "execution_count": 120,
   "id": "31b48bbe-fbb7-4dd5-b5db-bc3c370d8f46",
   "metadata": {},
   "outputs": [
    {
     "data": {
      "text/html": [
       "<div>\n",
       "<style scoped>\n",
       "    .dataframe tbody tr th:only-of-type {\n",
       "        vertical-align: middle;\n",
       "    }\n",
       "\n",
       "    .dataframe tbody tr th {\n",
       "        vertical-align: top;\n",
       "    }\n",
       "\n",
       "    .dataframe thead th {\n",
       "        text-align: right;\n",
       "    }\n",
       "</style>\n",
       "<table border=\"1\" class=\"dataframe\">\n",
       "  <thead>\n",
       "    <tr style=\"text-align: right;\">\n",
       "      <th></th>\n",
       "      <th>0</th>\n",
       "      <th>1</th>\n",
       "      <th>2</th>\n",
       "      <th>3</th>\n",
       "      <th>4</th>\n",
       "      <th>5</th>\n",
       "      <th>6</th>\n",
       "      <th>7</th>\n",
       "      <th>8</th>\n",
       "      <th>9</th>\n",
       "      <th>10</th>\n",
       "      <th>11</th>\n",
       "      <th>12</th>\n",
       "      <th>13</th>\n",
       "      <th>14</th>\n",
       "    </tr>\n",
       "  </thead>\n",
       "  <tbody>\n",
       "    <tr>\n",
       "      <th>0</th>\n",
       "      <td>39</td>\n",
       "      <td>State-gov</td>\n",
       "      <td>77516</td>\n",
       "      <td>Bachelors</td>\n",
       "      <td>13</td>\n",
       "      <td>Never-married</td>\n",
       "      <td>Adm-clerical</td>\n",
       "      <td>Not-in-family</td>\n",
       "      <td>White</td>\n",
       "      <td>Male</td>\n",
       "      <td>2174</td>\n",
       "      <td>0</td>\n",
       "      <td>40</td>\n",
       "      <td>United-States</td>\n",
       "      <td>&lt;=50K</td>\n",
       "    </tr>\n",
       "    <tr>\n",
       "      <th>1</th>\n",
       "      <td>50</td>\n",
       "      <td>Self-emp-not-inc</td>\n",
       "      <td>83311</td>\n",
       "      <td>Bachelors</td>\n",
       "      <td>13</td>\n",
       "      <td>Married-civ-spouse</td>\n",
       "      <td>Exec-managerial</td>\n",
       "      <td>Husband</td>\n",
       "      <td>White</td>\n",
       "      <td>Male</td>\n",
       "      <td>0</td>\n",
       "      <td>0</td>\n",
       "      <td>13</td>\n",
       "      <td>United-States</td>\n",
       "      <td>&lt;=50K</td>\n",
       "    </tr>\n",
       "  </tbody>\n",
       "</table>\n",
       "</div>"
      ],
      "text/plain": [
       "   0                 1      2          3   4                   5   \\\n",
       "0  39         State-gov  77516  Bachelors  13       Never-married   \n",
       "1  50  Self-emp-not-inc  83311  Bachelors  13  Married-civ-spouse   \n",
       "\n",
       "                6              7      8     9     10  11  12             13  \\\n",
       "0     Adm-clerical  Not-in-family  White  Male  2174   0  40  United-States   \n",
       "1  Exec-managerial        Husband  White  Male     0   0  13  United-States   \n",
       "\n",
       "      14  \n",
       "0  <=50K  \n",
       "1  <=50K  "
      ]
     },
     "execution_count": 120,
     "metadata": {},
     "output_type": "execute_result"
    }
   ],
   "source": [
    "df.iloc[0:2]"
   ]
  },
  {
   "cell_type": "markdown",
   "id": "b3f3463a-023c-410b-afd7-be4af712a500",
   "metadata": {},
   "source": [
    "2.105 DataFrame 类的 columns 属性"
   ]
  },
  {
   "cell_type": "code",
   "execution_count": 121,
   "id": "c70d296b-7609-4fe3-8e7b-1a5e00241af7",
   "metadata": {},
   "outputs": [
    {
     "data": {
      "text/html": [
       "<div>\n",
       "<style scoped>\n",
       "    .dataframe tbody tr th:only-of-type {\n",
       "        vertical-align: middle;\n",
       "    }\n",
       "\n",
       "    .dataframe tbody tr th {\n",
       "        vertical-align: top;\n",
       "    }\n",
       "\n",
       "    .dataframe thead th {\n",
       "        text-align: right;\n",
       "    }\n",
       "</style>\n",
       "<table border=\"1\" class=\"dataframe\">\n",
       "  <thead>\n",
       "    <tr style=\"text-align: right;\">\n",
       "      <th></th>\n",
       "      <th>age</th>\n",
       "      <th>workclass</th>\n",
       "      <th>fnlwgt</th>\n",
       "      <th>education</th>\n",
       "      <th>education.num</th>\n",
       "      <th>marital.status</th>\n",
       "      <th>occupation</th>\n",
       "      <th>relationship</th>\n",
       "      <th>race</th>\n",
       "      <th>sex</th>\n",
       "      <th>capital.gain</th>\n",
       "      <th>capital.loss</th>\n",
       "      <th>hours.per.week</th>\n",
       "      <th>native.country</th>\n",
       "      <th>income</th>\n",
       "    </tr>\n",
       "  </thead>\n",
       "  <tbody>\n",
       "    <tr>\n",
       "      <th>25</th>\n",
       "      <td>56</td>\n",
       "      <td>Local-gov</td>\n",
       "      <td>216851</td>\n",
       "      <td>Bachelors</td>\n",
       "      <td>13</td>\n",
       "      <td>Married-civ-spouse</td>\n",
       "      <td>Tech-support</td>\n",
       "      <td>Husband</td>\n",
       "      <td>White</td>\n",
       "      <td>Male</td>\n",
       "      <td>0</td>\n",
       "      <td>0</td>\n",
       "      <td>40</td>\n",
       "      <td>United-States</td>\n",
       "      <td>&gt;50K</td>\n",
       "    </tr>\n",
       "    <tr>\n",
       "      <th>26</th>\n",
       "      <td>19</td>\n",
       "      <td>Private</td>\n",
       "      <td>168294</td>\n",
       "      <td>HS-grad</td>\n",
       "      <td>9</td>\n",
       "      <td>Never-married</td>\n",
       "      <td>Craft-repair</td>\n",
       "      <td>Own-child</td>\n",
       "      <td>White</td>\n",
       "      <td>Male</td>\n",
       "      <td>0</td>\n",
       "      <td>0</td>\n",
       "      <td>40</td>\n",
       "      <td>United-States</td>\n",
       "      <td>&lt;=50K</td>\n",
       "    </tr>\n",
       "    <tr>\n",
       "      <th>27</th>\n",
       "      <td>54</td>\n",
       "      <td>?</td>\n",
       "      <td>180211</td>\n",
       "      <td>Some-college</td>\n",
       "      <td>10</td>\n",
       "      <td>Married-civ-spouse</td>\n",
       "      <td>?</td>\n",
       "      <td>Husband</td>\n",
       "      <td>Asian-Pac-Islander</td>\n",
       "      <td>Male</td>\n",
       "      <td>0</td>\n",
       "      <td>0</td>\n",
       "      <td>60</td>\n",
       "      <td>South</td>\n",
       "      <td>&gt;50K</td>\n",
       "    </tr>\n",
       "  </tbody>\n",
       "</table>\n",
       "</div>"
      ],
      "text/plain": [
       "    age  workclass  fnlwgt     education  education.num      marital.status  \\\n",
       "25   56  Local-gov  216851     Bachelors             13  Married-civ-spouse   \n",
       "26   19    Private  168294       HS-grad              9       Never-married   \n",
       "27   54          ?  180211  Some-college             10  Married-civ-spouse   \n",
       "\n",
       "      occupation relationship                race   sex  capital.gain  \\\n",
       "25  Tech-support      Husband               White  Male             0   \n",
       "26  Craft-repair    Own-child               White  Male             0   \n",
       "27             ?      Husband  Asian-Pac-Islander  Male             0   \n",
       "\n",
       "    capital.loss  hours.per.week native.country income  \n",
       "25             0              40  United-States   >50K  \n",
       "26             0              40  United-States  <=50K  \n",
       "27             0              60          South   >50K  "
      ]
     },
     "execution_count": 121,
     "metadata": {},
     "output_type": "execute_result"
    }
   ],
   "source": [
    "col_name = ['age','workclass','fnlwgt','education','education.num',\n",
    "            'marital.status','occupation','relationship','race',\n",
    "            'sex','capital.gain','capital.loss','hours.per.week',\n",
    "            'native.country','income']\n",
    "\n",
    "df.columns = col_name\n",
    "df.iloc[25:28]"
   ]
  },
  {
   "cell_type": "markdown",
   "id": "766c308d-4765-4b27-ba28-24e13f402130",
   "metadata": {},
   "source": [
    "2.106 read_csv 函数的 na_values 参数"
   ]
  },
  {
   "cell_type": "code",
   "execution_count": 122,
   "id": "3beb743e-f6bb-4cc8-a15f-5da2ea1ea4f6",
   "metadata": {},
   "outputs": [
    {
     "data": {
      "text/html": [
       "<div>\n",
       "<style scoped>\n",
       "    .dataframe tbody tr th:only-of-type {\n",
       "        vertical-align: middle;\n",
       "    }\n",
       "\n",
       "    .dataframe tbody tr th {\n",
       "        vertical-align: top;\n",
       "    }\n",
       "\n",
       "    .dataframe thead th {\n",
       "        text-align: right;\n",
       "    }\n",
       "</style>\n",
       "<table border=\"1\" class=\"dataframe\">\n",
       "  <thead>\n",
       "    <tr style=\"text-align: right;\">\n",
       "      <th></th>\n",
       "      <th>age</th>\n",
       "      <th>workclass</th>\n",
       "      <th>fnlwgt</th>\n",
       "      <th>education</th>\n",
       "      <th>education.num</th>\n",
       "      <th>marital.status</th>\n",
       "      <th>occupation</th>\n",
       "      <th>relationship</th>\n",
       "      <th>race</th>\n",
       "      <th>sex</th>\n",
       "      <th>capital.gain</th>\n",
       "      <th>capital.loss</th>\n",
       "      <th>hours.per.week</th>\n",
       "      <th>native.country</th>\n",
       "      <th>income</th>\n",
       "    </tr>\n",
       "  </thead>\n",
       "  <tbody>\n",
       "    <tr>\n",
       "      <th>25</th>\n",
       "      <td>56</td>\n",
       "      <td>Local-gov</td>\n",
       "      <td>216851</td>\n",
       "      <td>Bachelors</td>\n",
       "      <td>13</td>\n",
       "      <td>Married-civ-spouse</td>\n",
       "      <td>Tech-support</td>\n",
       "      <td>Husband</td>\n",
       "      <td>White</td>\n",
       "      <td>Male</td>\n",
       "      <td>0</td>\n",
       "      <td>0</td>\n",
       "      <td>40</td>\n",
       "      <td>United-States</td>\n",
       "      <td>&gt;50K</td>\n",
       "    </tr>\n",
       "    <tr>\n",
       "      <th>26</th>\n",
       "      <td>19</td>\n",
       "      <td>Private</td>\n",
       "      <td>168294</td>\n",
       "      <td>HS-grad</td>\n",
       "      <td>9</td>\n",
       "      <td>Never-married</td>\n",
       "      <td>Craft-repair</td>\n",
       "      <td>Own-child</td>\n",
       "      <td>White</td>\n",
       "      <td>Male</td>\n",
       "      <td>0</td>\n",
       "      <td>0</td>\n",
       "      <td>40</td>\n",
       "      <td>United-States</td>\n",
       "      <td>&lt;=50K</td>\n",
       "    </tr>\n",
       "    <tr>\n",
       "      <th>27</th>\n",
       "      <td>54</td>\n",
       "      <td>NaN</td>\n",
       "      <td>180211</td>\n",
       "      <td>Some-college</td>\n",
       "      <td>10</td>\n",
       "      <td>Married-civ-spouse</td>\n",
       "      <td>NaN</td>\n",
       "      <td>Husband</td>\n",
       "      <td>Asian-Pac-Islander</td>\n",
       "      <td>Male</td>\n",
       "      <td>0</td>\n",
       "      <td>0</td>\n",
       "      <td>60</td>\n",
       "      <td>South</td>\n",
       "      <td>&gt;50K</td>\n",
       "    </tr>\n",
       "  </tbody>\n",
       "</table>\n",
       "</div>"
      ],
      "text/plain": [
       "    age  workclass  fnlwgt     education  education.num      marital.status  \\\n",
       "25   56  Local-gov  216851     Bachelors             13  Married-civ-spouse   \n",
       "26   19    Private  168294       HS-grad              9       Never-married   \n",
       "27   54        NaN  180211  Some-college             10  Married-civ-spouse   \n",
       "\n",
       "      occupation relationship                race   sex  capital.gain  \\\n",
       "25  Tech-support      Husband               White  Male             0   \n",
       "26  Craft-repair    Own-child               White  Male             0   \n",
       "27           NaN      Husband  Asian-Pac-Islander  Male             0   \n",
       "\n",
       "    capital.loss  hours.per.week native.country income  \n",
       "25             0              40  United-States   >50K  \n",
       "26             0              40  United-States  <=50K  \n",
       "27             0              60          South   >50K  "
      ]
     },
     "execution_count": 122,
     "metadata": {},
     "output_type": "execute_result"
    }
   ],
   "source": [
    "df = pd.read_csv(domain+path+file,\n",
    "                 header=None,\n",
    "                 names=col_name,\n",
    "                 skipinitialspace=True,\n",
    "                 na_values=\"?\")\n",
    "df.iloc[25:28]"
   ]
  },
  {
   "cell_type": "markdown",
   "id": "a382697f-ece2-4e1c-946f-88afa92f6e2f",
   "metadata": {},
   "source": [
    "2.107 DataFrame 对象的 drop 方法"
   ]
  },
  {
   "cell_type": "code",
   "execution_count": 123,
   "id": "3f0969ed-0042-4e81-92a3-fb8ab33f5190",
   "metadata": {},
   "outputs": [
    {
     "data": {
      "text/plain": [
       "Index(['age', 'workclass', 'education', 'education.num', 'marital.status',\n",
       "       'occupation', 'sex', 'hours.per.week', 'income'],\n",
       "      dtype='object')"
      ]
     },
     "execution_count": 123,
     "metadata": {},
     "output_type": "execute_result"
    }
   ],
   "source": [
    "df = df.drop(columns=['fnlwgt','relationship','race','capital.gain',\n",
    "                      'capital.loss','native.country'])\n",
    "\n",
    "df.columns"
   ]
  },
  {
   "cell_type": "markdown",
   "id": "aafbe028-f554-45a3-ba9f-b3959e897b1c",
   "metadata": {},
   "source": [
    "### 2.4.3 数据的显示"
   ]
  },
  {
   "cell_type": "markdown",
   "id": "c9183e0e-63b4-4265-9155-bd3c0f09cb94",
   "metadata": {},
   "source": [
    "2.108 DataFrame 对象的 shape 属性"
   ]
  },
  {
   "cell_type": "code",
   "execution_count": 124,
   "id": "5d37d8e3-6b8f-4059-9f18-3d18e749a650",
   "metadata": {},
   "outputs": [
    {
     "data": {
      "text/plain": [
       "(32561, 9)"
      ]
     },
     "execution_count": 124,
     "metadata": {},
     "output_type": "execute_result"
    }
   ],
   "source": [
    "df.shape"
   ]
  },
  {
   "cell_type": "markdown",
   "id": "5e62ebc1-7128-46fa-a1d8-20ce578ad821",
   "metadata": {},
   "source": [
    "2.109 DataFrame 对象的 head 方法"
   ]
  },
  {
   "cell_type": "code",
   "execution_count": 125,
   "id": "af965cee-68c5-4a69-914c-e1a4dee73698",
   "metadata": {},
   "outputs": [
    {
     "data": {
      "text/html": [
       "<div>\n",
       "<style scoped>\n",
       "    .dataframe tbody tr th:only-of-type {\n",
       "        vertical-align: middle;\n",
       "    }\n",
       "\n",
       "    .dataframe tbody tr th {\n",
       "        vertical-align: top;\n",
       "    }\n",
       "\n",
       "    .dataframe thead th {\n",
       "        text-align: right;\n",
       "    }\n",
       "</style>\n",
       "<table border=\"1\" class=\"dataframe\">\n",
       "  <thead>\n",
       "    <tr style=\"text-align: right;\">\n",
       "      <th></th>\n",
       "      <th>age</th>\n",
       "      <th>workclass</th>\n",
       "      <th>education</th>\n",
       "      <th>education.num</th>\n",
       "      <th>marital.status</th>\n",
       "      <th>occupation</th>\n",
       "      <th>sex</th>\n",
       "      <th>hours.per.week</th>\n",
       "      <th>income</th>\n",
       "    </tr>\n",
       "  </thead>\n",
       "  <tbody>\n",
       "    <tr>\n",
       "      <th>0</th>\n",
       "      <td>39</td>\n",
       "      <td>State-gov</td>\n",
       "      <td>Bachelors</td>\n",
       "      <td>13</td>\n",
       "      <td>Never-married</td>\n",
       "      <td>Adm-clerical</td>\n",
       "      <td>Male</td>\n",
       "      <td>40</td>\n",
       "      <td>&lt;=50K</td>\n",
       "    </tr>\n",
       "    <tr>\n",
       "      <th>1</th>\n",
       "      <td>50</td>\n",
       "      <td>Self-emp-not-inc</td>\n",
       "      <td>Bachelors</td>\n",
       "      <td>13</td>\n",
       "      <td>Married-civ-spouse</td>\n",
       "      <td>Exec-managerial</td>\n",
       "      <td>Male</td>\n",
       "      <td>13</td>\n",
       "      <td>&lt;=50K</td>\n",
       "    </tr>\n",
       "    <tr>\n",
       "      <th>2</th>\n",
       "      <td>38</td>\n",
       "      <td>Private</td>\n",
       "      <td>HS-grad</td>\n",
       "      <td>9</td>\n",
       "      <td>Divorced</td>\n",
       "      <td>Handlers-cleaners</td>\n",
       "      <td>Male</td>\n",
       "      <td>40</td>\n",
       "      <td>&lt;=50K</td>\n",
       "    </tr>\n",
       "    <tr>\n",
       "      <th>3</th>\n",
       "      <td>53</td>\n",
       "      <td>Private</td>\n",
       "      <td>11th</td>\n",
       "      <td>7</td>\n",
       "      <td>Married-civ-spouse</td>\n",
       "      <td>Handlers-cleaners</td>\n",
       "      <td>Male</td>\n",
       "      <td>40</td>\n",
       "      <td>&lt;=50K</td>\n",
       "    </tr>\n",
       "    <tr>\n",
       "      <th>4</th>\n",
       "      <td>28</td>\n",
       "      <td>Private</td>\n",
       "      <td>Bachelors</td>\n",
       "      <td>13</td>\n",
       "      <td>Married-civ-spouse</td>\n",
       "      <td>Prof-specialty</td>\n",
       "      <td>Female</td>\n",
       "      <td>40</td>\n",
       "      <td>&lt;=50K</td>\n",
       "    </tr>\n",
       "  </tbody>\n",
       "</table>\n",
       "</div>"
      ],
      "text/plain": [
       "   age         workclass  education  education.num      marital.status  \\\n",
       "0   39         State-gov  Bachelors             13       Never-married   \n",
       "1   50  Self-emp-not-inc  Bachelors             13  Married-civ-spouse   \n",
       "2   38           Private    HS-grad              9            Divorced   \n",
       "3   53           Private       11th              7  Married-civ-spouse   \n",
       "4   28           Private  Bachelors             13  Married-civ-spouse   \n",
       "\n",
       "          occupation     sex  hours.per.week income  \n",
       "0       Adm-clerical    Male              40  <=50K  \n",
       "1    Exec-managerial    Male              13  <=50K  \n",
       "2  Handlers-cleaners    Male              40  <=50K  \n",
       "3  Handlers-cleaners    Male              40  <=50K  \n",
       "4     Prof-specialty  Female              40  <=50K  "
      ]
     },
     "execution_count": 125,
     "metadata": {},
     "output_type": "execute_result"
    }
   ],
   "source": [
    "df.head()"
   ]
  },
  {
   "cell_type": "markdown",
   "id": "bf35821b-11d3-4800-857f-63a8144b5338",
   "metadata": {},
   "source": [
    "2.110 DataFrame 对象的 tail 方法"
   ]
  },
  {
   "cell_type": "code",
   "execution_count": 126,
   "id": "3835472c-3d52-4f40-b187-bdce82a13874",
   "metadata": {},
   "outputs": [
    {
     "data": {
      "text/html": [
       "<div>\n",
       "<style scoped>\n",
       "    .dataframe tbody tr th:only-of-type {\n",
       "        vertical-align: middle;\n",
       "    }\n",
       "\n",
       "    .dataframe tbody tr th {\n",
       "        vertical-align: top;\n",
       "    }\n",
       "\n",
       "    .dataframe thead th {\n",
       "        text-align: right;\n",
       "    }\n",
       "</style>\n",
       "<table border=\"1\" class=\"dataframe\">\n",
       "  <thead>\n",
       "    <tr style=\"text-align: right;\">\n",
       "      <th></th>\n",
       "      <th>age</th>\n",
       "      <th>workclass</th>\n",
       "      <th>education</th>\n",
       "      <th>education.num</th>\n",
       "      <th>marital.status</th>\n",
       "      <th>occupation</th>\n",
       "      <th>sex</th>\n",
       "      <th>hours.per.week</th>\n",
       "      <th>income</th>\n",
       "    </tr>\n",
       "  </thead>\n",
       "  <tbody>\n",
       "    <tr>\n",
       "      <th>32556</th>\n",
       "      <td>27</td>\n",
       "      <td>Private</td>\n",
       "      <td>Assoc-acdm</td>\n",
       "      <td>12</td>\n",
       "      <td>Married-civ-spouse</td>\n",
       "      <td>Tech-support</td>\n",
       "      <td>Female</td>\n",
       "      <td>38</td>\n",
       "      <td>&lt;=50K</td>\n",
       "    </tr>\n",
       "    <tr>\n",
       "      <th>32557</th>\n",
       "      <td>40</td>\n",
       "      <td>Private</td>\n",
       "      <td>HS-grad</td>\n",
       "      <td>9</td>\n",
       "      <td>Married-civ-spouse</td>\n",
       "      <td>Machine-op-inspct</td>\n",
       "      <td>Male</td>\n",
       "      <td>40</td>\n",
       "      <td>&gt;50K</td>\n",
       "    </tr>\n",
       "    <tr>\n",
       "      <th>32558</th>\n",
       "      <td>58</td>\n",
       "      <td>Private</td>\n",
       "      <td>HS-grad</td>\n",
       "      <td>9</td>\n",
       "      <td>Widowed</td>\n",
       "      <td>Adm-clerical</td>\n",
       "      <td>Female</td>\n",
       "      <td>40</td>\n",
       "      <td>&lt;=50K</td>\n",
       "    </tr>\n",
       "    <tr>\n",
       "      <th>32559</th>\n",
       "      <td>22</td>\n",
       "      <td>Private</td>\n",
       "      <td>HS-grad</td>\n",
       "      <td>9</td>\n",
       "      <td>Never-married</td>\n",
       "      <td>Adm-clerical</td>\n",
       "      <td>Male</td>\n",
       "      <td>20</td>\n",
       "      <td>&lt;=50K</td>\n",
       "    </tr>\n",
       "    <tr>\n",
       "      <th>32560</th>\n",
       "      <td>52</td>\n",
       "      <td>Self-emp-inc</td>\n",
       "      <td>HS-grad</td>\n",
       "      <td>9</td>\n",
       "      <td>Married-civ-spouse</td>\n",
       "      <td>Exec-managerial</td>\n",
       "      <td>Female</td>\n",
       "      <td>40</td>\n",
       "      <td>&gt;50K</td>\n",
       "    </tr>\n",
       "  </tbody>\n",
       "</table>\n",
       "</div>"
      ],
      "text/plain": [
       "       age     workclass   education  education.num      marital.status  \\\n",
       "32556   27       Private  Assoc-acdm             12  Married-civ-spouse   \n",
       "32557   40       Private     HS-grad              9  Married-civ-spouse   \n",
       "32558   58       Private     HS-grad              9             Widowed   \n",
       "32559   22       Private     HS-grad              9       Never-married   \n",
       "32560   52  Self-emp-inc     HS-grad              9  Married-civ-spouse   \n",
       "\n",
       "              occupation     sex  hours.per.week income  \n",
       "32556       Tech-support  Female              38  <=50K  \n",
       "32557  Machine-op-inspct    Male              40   >50K  \n",
       "32558       Adm-clerical  Female              40  <=50K  \n",
       "32559       Adm-clerical    Male              20  <=50K  \n",
       "32560    Exec-managerial  Female              40   >50K  "
      ]
     },
     "execution_count": 126,
     "metadata": {},
     "output_type": "execute_result"
    }
   ],
   "source": [
    "df.tail()"
   ]
  },
  {
   "cell_type": "markdown",
   "id": "d3b8dc9f-caec-4a4b-acbd-f965a569eac0",
   "metadata": {},
   "source": [
    "2.111 DataFrame 对象的 info 方法"
   ]
  },
  {
   "cell_type": "code",
   "execution_count": 127,
   "id": "92cf50a3-2c3f-4df5-808f-1de72408430f",
   "metadata": {},
   "outputs": [
    {
     "name": "stdout",
     "output_type": "stream",
     "text": [
      "<class 'pandas.core.frame.DataFrame'>\n",
      "RangeIndex: 32561 entries, 0 to 32560\n",
      "Data columns (total 9 columns):\n",
      " #   Column          Non-Null Count  Dtype \n",
      "---  ------          --------------  ----- \n",
      " 0   age             32561 non-null  int64 \n",
      " 1   workclass       30725 non-null  object\n",
      " 2   education       32561 non-null  object\n",
      " 3   education.num   32561 non-null  int64 \n",
      " 4   marital.status  32561 non-null  object\n",
      " 5   occupation      30718 non-null  object\n",
      " 6   sex             32561 non-null  object\n",
      " 7   hours.per.week  32561 non-null  int64 \n",
      " 8   income          32561 non-null  object\n",
      "dtypes: int64(3), object(6)\n",
      "memory usage: 2.2+ MB\n"
     ]
    }
   ],
   "source": [
    "df.info()"
   ]
  },
  {
   "cell_type": "markdown",
   "id": "bf5ee2b2-690e-4249-b25d-a01ade44f087",
   "metadata": {},
   "source": [
    "2.112 DataFrame 对象的 describe 方法"
   ]
  },
  {
   "cell_type": "code",
   "execution_count": 128,
   "id": "04f5de50-c3a7-4cd7-8881-d137632dbd87",
   "metadata": {},
   "outputs": [
    {
     "data": {
      "text/plain": [
       "count    32561.000000\n",
       "mean        38.581647\n",
       "std         13.640433\n",
       "min         17.000000\n",
       "25%         28.000000\n",
       "50%         37.000000\n",
       "75%         48.000000\n",
       "max         90.000000\n",
       "Name: age, dtype: float64"
      ]
     },
     "execution_count": 128,
     "metadata": {},
     "output_type": "execute_result"
    }
   ],
   "source": [
    "df['age'].describe()"
   ]
  },
  {
   "cell_type": "markdown",
   "id": "1e4e168e-fefe-4b0b-a07a-f4e96bcaa902",
   "metadata": {},
   "source": [
    "2.113 describe 方法与 object 类型数据"
   ]
  },
  {
   "cell_type": "code",
   "execution_count": 129,
   "id": "4ad9033b-532d-4232-8dd1-bcedc935301c",
   "metadata": {},
   "outputs": [
    {
     "data": {
      "text/html": [
       "<div>\n",
       "<style scoped>\n",
       "    .dataframe tbody tr th:only-of-type {\n",
       "        vertical-align: middle;\n",
       "    }\n",
       "\n",
       "    .dataframe tbody tr th {\n",
       "        vertical-align: top;\n",
       "    }\n",
       "\n",
       "    .dataframe thead th {\n",
       "        text-align: right;\n",
       "    }\n",
       "</style>\n",
       "<table border=\"1\" class=\"dataframe\">\n",
       "  <thead>\n",
       "    <tr style=\"text-align: right;\">\n",
       "      <th></th>\n",
       "      <th>education</th>\n",
       "      <th>workclass</th>\n",
       "    </tr>\n",
       "  </thead>\n",
       "  <tbody>\n",
       "    <tr>\n",
       "      <th>count</th>\n",
       "      <td>32561</td>\n",
       "      <td>30725</td>\n",
       "    </tr>\n",
       "    <tr>\n",
       "      <th>unique</th>\n",
       "      <td>16</td>\n",
       "      <td>8</td>\n",
       "    </tr>\n",
       "    <tr>\n",
       "      <th>top</th>\n",
       "      <td>HS-grad</td>\n",
       "      <td>Private</td>\n",
       "    </tr>\n",
       "    <tr>\n",
       "      <th>freq</th>\n",
       "      <td>10501</td>\n",
       "      <td>22696</td>\n",
       "    </tr>\n",
       "  </tbody>\n",
       "</table>\n",
       "</div>"
      ],
      "text/plain": [
       "       education workclass\n",
       "count      32561     30725\n",
       "unique        16         8\n",
       "top      HS-grad   Private\n",
       "freq       10501     22696"
      ]
     },
     "execution_count": 129,
     "metadata": {},
     "output_type": "execute_result"
    }
   ],
   "source": [
    "df[['education', 'workclass']].describe()"
   ]
  },
  {
   "cell_type": "markdown",
   "id": "9ec3d886-0a66-4b09-96de-547ef9b9afb6",
   "metadata": {},
   "source": [
    "2.114 DataFrame 对象的 value_counts 方法"
   ]
  },
  {
   "cell_type": "code",
   "execution_count": 130,
   "id": "bd6d31b7-e368-4192-a35a-e2bd4e7fd2a5",
   "metadata": {},
   "outputs": [
    {
     "data": {
      "text/plain": [
       "education\n",
       "HS-grad         10501\n",
       "Some-college     7291\n",
       "Bachelors        5355\n",
       "Masters          1723\n",
       "Assoc-voc        1382\n",
       "11th             1175\n",
       "Assoc-acdm       1067\n",
       "10th              933\n",
       "7th-8th           646\n",
       "Prof-school       576\n",
       "9th               514\n",
       "12th              433\n",
       "Doctorate         413\n",
       "5th-6th           333\n",
       "1st-4th           168\n",
       "Preschool          51\n",
       "Name: count, dtype: int64"
      ]
     },
     "execution_count": 130,
     "metadata": {},
     "output_type": "execute_result"
    }
   ],
   "source": [
    "df['education'].value_counts()"
   ]
  },
  {
   "cell_type": "markdown",
   "id": "2a3c991c-70c6-42fb-8278-12fba482565e",
   "metadata": {},
   "source": [
    "### 2.4.4 数据的引用"
   ]
  },
  {
   "cell_type": "markdown",
   "id": "ea0e64bf-7e93-4fb0-8f9c-f257dddd34d5",
   "metadata": {},
   "source": [
    "2.115 DataFrame 对象的 loc 属性"
   ]
  },
  {
   "cell_type": "code",
   "execution_count": 131,
   "id": "8e2ebf2f-c431-4800-a286-3fdc6c083c01",
   "metadata": {},
   "outputs": [
    {
     "data": {
      "text/html": [
       "<div>\n",
       "<style scoped>\n",
       "    .dataframe tbody tr th:only-of-type {\n",
       "        vertical-align: middle;\n",
       "    }\n",
       "\n",
       "    .dataframe tbody tr th {\n",
       "        vertical-align: top;\n",
       "    }\n",
       "\n",
       "    .dataframe thead th {\n",
       "        text-align: right;\n",
       "    }\n",
       "</style>\n",
       "<table border=\"1\" class=\"dataframe\">\n",
       "  <thead>\n",
       "    <tr style=\"text-align: right;\">\n",
       "      <th></th>\n",
       "      <th>age</th>\n",
       "      <th>workclass</th>\n",
       "    </tr>\n",
       "  </thead>\n",
       "  <tbody>\n",
       "    <tr>\n",
       "      <th>0</th>\n",
       "      <td>39</td>\n",
       "      <td>State-gov</td>\n",
       "    </tr>\n",
       "    <tr>\n",
       "      <th>1</th>\n",
       "      <td>50</td>\n",
       "      <td>Self-emp-not-inc</td>\n",
       "    </tr>\n",
       "    <tr>\n",
       "      <th>2</th>\n",
       "      <td>38</td>\n",
       "      <td>Private</td>\n",
       "    </tr>\n",
       "  </tbody>\n",
       "</table>\n",
       "</div>"
      ],
      "text/plain": [
       "   age         workclass\n",
       "0   39         State-gov\n",
       "1   50  Self-emp-not-inc\n",
       "2   38           Private"
      ]
     },
     "execution_count": 131,
     "metadata": {},
     "output_type": "execute_result"
    }
   ],
   "source": [
    "df.loc[0:2, ['age','workclass']]"
   ]
  },
  {
   "cell_type": "markdown",
   "id": "3b004327-877b-49e7-89bc-a15f0dcfd011",
   "metadata": {},
   "source": [
    "2.116 DataFrame 对象的 iloc 属性"
   ]
  },
  {
   "cell_type": "code",
   "execution_count": 132,
   "id": "24d02f5f-cfd2-471b-82c0-5e123284e303",
   "metadata": {},
   "outputs": [
    {
     "data": {
      "text/html": [
       "<div>\n",
       "<style scoped>\n",
       "    .dataframe tbody tr th:only-of-type {\n",
       "        vertical-align: middle;\n",
       "    }\n",
       "\n",
       "    .dataframe tbody tr th {\n",
       "        vertical-align: top;\n",
       "    }\n",
       "\n",
       "    .dataframe thead th {\n",
       "        text-align: right;\n",
       "    }\n",
       "</style>\n",
       "<table border=\"1\" class=\"dataframe\">\n",
       "  <thead>\n",
       "    <tr style=\"text-align: right;\">\n",
       "      <th></th>\n",
       "      <th>age</th>\n",
       "      <th>workclass</th>\n",
       "      <th>education</th>\n",
       "      <th>education.num</th>\n",
       "      <th>marital.status</th>\n",
       "      <th>occupation</th>\n",
       "      <th>sex</th>\n",
       "      <th>hours.per.week</th>\n",
       "      <th>income</th>\n",
       "    </tr>\n",
       "  </thead>\n",
       "  <tbody>\n",
       "    <tr>\n",
       "      <th>100</th>\n",
       "      <td>76</td>\n",
       "      <td>Private</td>\n",
       "      <td>Masters</td>\n",
       "      <td>14</td>\n",
       "      <td>Married-civ-spouse</td>\n",
       "      <td>Exec-managerial</td>\n",
       "      <td>Male</td>\n",
       "      <td>40</td>\n",
       "      <td>&gt;50K</td>\n",
       "    </tr>\n",
       "    <tr>\n",
       "      <th>101</th>\n",
       "      <td>44</td>\n",
       "      <td>Private</td>\n",
       "      <td>Bachelors</td>\n",
       "      <td>13</td>\n",
       "      <td>Married-civ-spouse</td>\n",
       "      <td>Exec-managerial</td>\n",
       "      <td>Male</td>\n",
       "      <td>60</td>\n",
       "      <td>&gt;50K</td>\n",
       "    </tr>\n",
       "    <tr>\n",
       "      <th>102</th>\n",
       "      <td>47</td>\n",
       "      <td>Self-emp-not-inc</td>\n",
       "      <td>Masters</td>\n",
       "      <td>14</td>\n",
       "      <td>Never-married</td>\n",
       "      <td>Prof-specialty</td>\n",
       "      <td>Female</td>\n",
       "      <td>50</td>\n",
       "      <td>&lt;=50K</td>\n",
       "    </tr>\n",
       "  </tbody>\n",
       "</table>\n",
       "</div>"
      ],
      "text/plain": [
       "     age         workclass  education  education.num      marital.status  \\\n",
       "100   76           Private    Masters             14  Married-civ-spouse   \n",
       "101   44           Private  Bachelors             13  Married-civ-spouse   \n",
       "102   47  Self-emp-not-inc    Masters             14       Never-married   \n",
       "\n",
       "          occupation     sex  hours.per.week income  \n",
       "100  Exec-managerial    Male              40   >50K  \n",
       "101  Exec-managerial    Male              60   >50K  \n",
       "102   Prof-specialty  Female              50  <=50K  "
      ]
     },
     "execution_count": 132,
     "metadata": {},
     "output_type": "execute_result"
    }
   ],
   "source": [
    "df.iloc[100:103, :]"
   ]
  },
  {
   "cell_type": "markdown",
   "id": "e742cb06-933b-49f4-9db7-2ee5f8ba1180",
   "metadata": {},
   "source": [
    "2.117 根据 bool 类型引用数据"
   ]
  },
  {
   "cell_type": "code",
   "execution_count": 133,
   "id": "1017cb78-1a0c-4966-92de-fdadd70c5155",
   "metadata": {},
   "outputs": [
    {
     "name": "stdout",
     "output_type": "stream",
     "text": [
      "(21790, 9)\n",
      "(10771, 9)\n"
     ]
    }
   ],
   "source": [
    "print(df[df['sex'] == 'Male'].shape)\n",
    "print(df[df['sex'] == 'Female'].shape)"
   ]
  },
  {
   "cell_type": "markdown",
   "id": "65d2dde2-023b-4fa1-a864-e2f2fbe53f9e",
   "metadata": {},
   "source": [
    "2.118 ：男性和女性年龄的概括统计量"
   ]
  },
  {
   "cell_type": "code",
   "execution_count": 134,
   "id": "25b5980e-3093-4712-96a4-e66b50fd1dbf",
   "metadata": {},
   "outputs": [
    {
     "data": {
      "text/plain": [
       "count    21790.000000\n",
       "mean        39.433547\n",
       "std         13.370630\n",
       "min         17.000000\n",
       "25%         29.000000\n",
       "50%         38.000000\n",
       "75%         48.000000\n",
       "max         90.000000\n",
       "Name: age, dtype: float64"
      ]
     },
     "execution_count": 134,
     "metadata": {},
     "output_type": "execute_result"
    }
   ],
   "source": [
    "df[df['sex'] == 'Male']['age'].describe()"
   ]
  },
  {
   "cell_type": "code",
   "execution_count": 135,
   "id": "2008f0b5-d952-4c22-8b1a-ee243553d089",
   "metadata": {},
   "outputs": [
    {
     "data": {
      "text/plain": [
       "count    10771.000000\n",
       "mean        36.858230\n",
       "std         14.013697\n",
       "min         17.000000\n",
       "25%         25.000000\n",
       "50%         35.000000\n",
       "75%         46.000000\n",
       "max         90.000000\n",
       "Name: age, dtype: float64"
      ]
     },
     "execution_count": 135,
     "metadata": {},
     "output_type": "execute_result"
    }
   ],
   "source": [
    "df[df['sex'] == 'Female']['age'].describe()"
   ]
  },
  {
   "cell_type": "code",
   "execution_count": 136,
   "id": "7f8eef63-0f30-4211-848f-87a891f215fb",
   "metadata": {},
   "outputs": [],
   "source": [
    "### 2.4.5 数据的排序"
   ]
  },
  {
   "cell_type": "markdown",
   "id": "0b2cb4a5-cd77-4b49-bdbb-b98cdf3ea68d",
   "metadata": {},
   "source": [
    "2.119 DataFrame 对象的 sort_values 方法"
   ]
  },
  {
   "cell_type": "code",
   "execution_count": 137,
   "id": "a38185bf-3cd7-4d2b-9803-5a65d90b5aa6",
   "metadata": {},
   "outputs": [
    {
     "data": {
      "text/html": [
       "<div>\n",
       "<style scoped>\n",
       "    .dataframe tbody tr th:only-of-type {\n",
       "        vertical-align: middle;\n",
       "    }\n",
       "\n",
       "    .dataframe tbody tr th {\n",
       "        vertical-align: top;\n",
       "    }\n",
       "\n",
       "    .dataframe thead th {\n",
       "        text-align: right;\n",
       "    }\n",
       "</style>\n",
       "<table border=\"1\" class=\"dataframe\">\n",
       "  <thead>\n",
       "    <tr style=\"text-align: right;\">\n",
       "      <th></th>\n",
       "      <th>age</th>\n",
       "      <th>workclass</th>\n",
       "      <th>education</th>\n",
       "      <th>education.num</th>\n",
       "      <th>marital.status</th>\n",
       "      <th>occupation</th>\n",
       "      <th>sex</th>\n",
       "      <th>hours.per.week</th>\n",
       "      <th>income</th>\n",
       "    </tr>\n",
       "  </thead>\n",
       "  <tbody>\n",
       "    <tr>\n",
       "      <th>12318</th>\n",
       "      <td>17</td>\n",
       "      <td>Private</td>\n",
       "      <td>11th</td>\n",
       "      <td>7</td>\n",
       "      <td>Never-married</td>\n",
       "      <td>Sales</td>\n",
       "      <td>Female</td>\n",
       "      <td>8</td>\n",
       "      <td>&lt;=50K</td>\n",
       "    </tr>\n",
       "    <tr>\n",
       "      <th>6312</th>\n",
       "      <td>17</td>\n",
       "      <td>Private</td>\n",
       "      <td>11th</td>\n",
       "      <td>7</td>\n",
       "      <td>Never-married</td>\n",
       "      <td>Sales</td>\n",
       "      <td>Male</td>\n",
       "      <td>15</td>\n",
       "      <td>&lt;=50K</td>\n",
       "    </tr>\n",
       "    <tr>\n",
       "      <th>30927</th>\n",
       "      <td>17</td>\n",
       "      <td>Private</td>\n",
       "      <td>11th</td>\n",
       "      <td>7</td>\n",
       "      <td>Never-married</td>\n",
       "      <td>Other-service</td>\n",
       "      <td>Male</td>\n",
       "      <td>17</td>\n",
       "      <td>&lt;=50K</td>\n",
       "    </tr>\n",
       "  </tbody>\n",
       "</table>\n",
       "</div>"
      ],
      "text/plain": [
       "       age workclass education  education.num marital.status     occupation  \\\n",
       "12318   17   Private      11th              7  Never-married          Sales   \n",
       "6312    17   Private      11th              7  Never-married          Sales   \n",
       "30927   17   Private      11th              7  Never-married  Other-service   \n",
       "\n",
       "          sex  hours.per.week income  \n",
       "12318  Female               8  <=50K  \n",
       "6312     Male              15  <=50K  \n",
       "30927    Male              17  <=50K  "
      ]
     },
     "execution_count": 137,
     "metadata": {},
     "output_type": "execute_result"
    }
   ],
   "source": [
    "df.sort_values(by='age').head(3)"
   ]
  },
  {
   "cell_type": "markdown",
   "id": "e579a8f1-984c-4447-9d52-4edbb768161f",
   "metadata": {},
   "source": [
    "2.120 根据多个列进行排序"
   ]
  },
  {
   "cell_type": "code",
   "execution_count": 138,
   "id": "d70b6cad-615e-4287-9bca-45b7479e9514",
   "metadata": {},
   "outputs": [
    {
     "data": {
      "text/html": [
       "<div>\n",
       "<style scoped>\n",
       "    .dataframe tbody tr th:only-of-type {\n",
       "        vertical-align: middle;\n",
       "    }\n",
       "\n",
       "    .dataframe tbody tr th {\n",
       "        vertical-align: top;\n",
       "    }\n",
       "\n",
       "    .dataframe thead th {\n",
       "        text-align: right;\n",
       "    }\n",
       "</style>\n",
       "<table border=\"1\" class=\"dataframe\">\n",
       "  <thead>\n",
       "    <tr style=\"text-align: right;\">\n",
       "      <th></th>\n",
       "      <th>age</th>\n",
       "      <th>workclass</th>\n",
       "      <th>education</th>\n",
       "      <th>education.num</th>\n",
       "      <th>marital.status</th>\n",
       "      <th>occupation</th>\n",
       "      <th>sex</th>\n",
       "      <th>hours.per.week</th>\n",
       "      <th>income</th>\n",
       "    </tr>\n",
       "  </thead>\n",
       "  <tbody>\n",
       "    <tr>\n",
       "      <th>335</th>\n",
       "      <td>17</td>\n",
       "      <td>Private</td>\n",
       "      <td>5th-6th</td>\n",
       "      <td>3</td>\n",
       "      <td>Never-married</td>\n",
       "      <td>Other-service</td>\n",
       "      <td>Male</td>\n",
       "      <td>48</td>\n",
       "      <td>&lt;=50K</td>\n",
       "    </tr>\n",
       "    <tr>\n",
       "      <th>9971</th>\n",
       "      <td>17</td>\n",
       "      <td>Private</td>\n",
       "      <td>7th-8th</td>\n",
       "      <td>4</td>\n",
       "      <td>Never-married</td>\n",
       "      <td>Craft-repair</td>\n",
       "      <td>Male</td>\n",
       "      <td>45</td>\n",
       "      <td>&lt;=50K</td>\n",
       "    </tr>\n",
       "    <tr>\n",
       "      <th>17474</th>\n",
       "      <td>17</td>\n",
       "      <td>Private</td>\n",
       "      <td>7th-8th</td>\n",
       "      <td>4</td>\n",
       "      <td>Never-married</td>\n",
       "      <td>Farming-fishing</td>\n",
       "      <td>Male</td>\n",
       "      <td>40</td>\n",
       "      <td>&lt;=50K</td>\n",
       "    </tr>\n",
       "  </tbody>\n",
       "</table>\n",
       "</div>"
      ],
      "text/plain": [
       "       age workclass education  education.num marital.status       occupation  \\\n",
       "335     17   Private   5th-6th              3  Never-married    Other-service   \n",
       "9971    17   Private   7th-8th              4  Never-married     Craft-repair   \n",
       "17474   17   Private   7th-8th              4  Never-married  Farming-fishing   \n",
       "\n",
       "        sex  hours.per.week income  \n",
       "335    Male              48  <=50K  \n",
       "9971   Male              45  <=50K  \n",
       "17474  Male              40  <=50K  "
      ]
     },
     "execution_count": 138,
     "metadata": {},
     "output_type": "execute_result"
    }
   ],
   "source": [
    "df.sort_values(by=['age', 'education.num']).head(3)"
   ]
  },
  {
   "cell_type": "markdown",
   "id": "2dd9f724-32f2-496c-b946-2baea2993a9a",
   "metadata": {},
   "source": [
    "### 2.4.6 缺失值的处理"
   ]
  },
  {
   "cell_type": "markdown",
   "id": "80eff3d2-a3b8-4731-a3d4-1b7dc99ae3b4",
   "metadata": {},
   "source": [
    "2.121 DataFrame 对象的 isna 方法"
   ]
  },
  {
   "cell_type": "code",
   "execution_count": 139,
   "id": "cb89c36d-5e3a-4cac-bcbf-1efc76b396d9",
   "metadata": {},
   "outputs": [
    {
     "data": {
      "text/plain": [
       "age               False\n",
       "workclass          True\n",
       "education         False\n",
       "education.num     False\n",
       "marital.status    False\n",
       "occupation         True\n",
       "sex               False\n",
       "hours.per.week    False\n",
       "income            False\n",
       "dtype: bool"
      ]
     },
     "execution_count": 139,
     "metadata": {},
     "output_type": "execute_result"
    }
   ],
   "source": [
    "df.isna().any(axis=0)"
   ]
  },
  {
   "cell_type": "markdown",
   "id": "40efd8dc-2833-4102-9b12-7f7dc0e33370",
   "metadata": {},
   "source": [
    "2.122 计算缺失数据的合计数量"
   ]
  },
  {
   "cell_type": "code",
   "execution_count": 140,
   "id": "9fd48d8e-6192-4925-a05e-8f869e19209d",
   "metadata": {},
   "outputs": [
    {
     "data": {
      "text/plain": [
       "age                  0\n",
       "workclass         1836\n",
       "education            0\n",
       "education.num        0\n",
       "marital.status       0\n",
       "occupation        1843\n",
       "sex                  0\n",
       "hours.per.week       0\n",
       "income               0\n",
       "dtype: int64"
      ]
     },
     "execution_count": 140,
     "metadata": {},
     "output_type": "execute_result"
    }
   ],
   "source": [
    "df.isna().sum(axis=0)"
   ]
  },
  {
   "cell_type": "markdown",
   "id": "d75c08f0-775d-4a0c-86be-d9e4390b1e60",
   "metadata": {},
   "source": [
    "2.123 DataFrame 对象的 dropna 方法"
   ]
  },
  {
   "cell_type": "code",
   "execution_count": 141,
   "id": "af47311d-bd4f-41f8-bb75-eebe4b90f89b",
   "metadata": {},
   "outputs": [
    {
     "data": {
      "text/plain": [
       "age               0\n",
       "workclass         0\n",
       "education         0\n",
       "education.num     0\n",
       "marital.status    0\n",
       "occupation        0\n",
       "sex               0\n",
       "hours.per.week    0\n",
       "income            0\n",
       "dtype: int64"
      ]
     },
     "execution_count": 141,
     "metadata": {},
     "output_type": "execute_result"
    }
   ],
   "source": [
    "df.dropna(inplace=True)\n",
    "df.isna().sum(axis=0)"
   ]
  },
  {
   "cell_type": "markdown",
   "id": "92a9ef70-30fb-4f38-8c2e-e002cd63546e",
   "metadata": {},
   "source": [
    "### 2.4.7 数据的分组"
   ]
  },
  {
   "cell_type": "markdown",
   "id": "99e58cec-0dca-40c9-b5c8-812cdaad0389",
   "metadata": {},
   "source": [
    "2.124 DataFrame 对象的 groupby 方法"
   ]
  },
  {
   "cell_type": "code",
   "execution_count": 142,
   "id": "4fd85a51-0b42-4e97-abab-258996fd00da",
   "metadata": {},
   "outputs": [
    {
     "data": {
      "text/html": [
       "<div>\n",
       "<style scoped>\n",
       "    .dataframe tbody tr th:only-of-type {\n",
       "        vertical-align: middle;\n",
       "    }\n",
       "\n",
       "    .dataframe tbody tr th {\n",
       "        vertical-align: top;\n",
       "    }\n",
       "\n",
       "    .dataframe thead th {\n",
       "        text-align: right;\n",
       "    }\n",
       "</style>\n",
       "<table border=\"1\" class=\"dataframe\">\n",
       "  <thead>\n",
       "    <tr style=\"text-align: right;\">\n",
       "      <th></th>\n",
       "      <th>age</th>\n",
       "      <th>workclass</th>\n",
       "      <th>education</th>\n",
       "      <th>education.num</th>\n",
       "      <th>marital.status</th>\n",
       "      <th>occupation</th>\n",
       "      <th>sex</th>\n",
       "      <th>hours.per.week</th>\n",
       "      <th>income</th>\n",
       "    </tr>\n",
       "  </thead>\n",
       "  <tbody>\n",
       "    <tr>\n",
       "      <th>0</th>\n",
       "      <td>39</td>\n",
       "      <td>State-gov</td>\n",
       "      <td>Bachelors</td>\n",
       "      <td>13</td>\n",
       "      <td>Never-married</td>\n",
       "      <td>Adm-clerical</td>\n",
       "      <td>Male</td>\n",
       "      <td>40</td>\n",
       "      <td>&lt;=50K</td>\n",
       "    </tr>\n",
       "    <tr>\n",
       "      <th>1</th>\n",
       "      <td>50</td>\n",
       "      <td>Self-emp-not-inc</td>\n",
       "      <td>Bachelors</td>\n",
       "      <td>13</td>\n",
       "      <td>Married-civ-spouse</td>\n",
       "      <td>Exec-managerial</td>\n",
       "      <td>Male</td>\n",
       "      <td>13</td>\n",
       "      <td>&lt;=50K</td>\n",
       "    </tr>\n",
       "    <tr>\n",
       "      <th>2</th>\n",
       "      <td>38</td>\n",
       "      <td>Private</td>\n",
       "      <td>HS-grad</td>\n",
       "      <td>9</td>\n",
       "      <td>Divorced</td>\n",
       "      <td>Handlers-cleaners</td>\n",
       "      <td>Male</td>\n",
       "      <td>40</td>\n",
       "      <td>&lt;=50K</td>\n",
       "    </tr>\n",
       "    <tr>\n",
       "      <th>3</th>\n",
       "      <td>53</td>\n",
       "      <td>Private</td>\n",
       "      <td>11th</td>\n",
       "      <td>7</td>\n",
       "      <td>Married-civ-spouse</td>\n",
       "      <td>Handlers-cleaners</td>\n",
       "      <td>Male</td>\n",
       "      <td>40</td>\n",
       "      <td>&lt;=50K</td>\n",
       "    </tr>\n",
       "    <tr>\n",
       "      <th>4</th>\n",
       "      <td>28</td>\n",
       "      <td>Private</td>\n",
       "      <td>Bachelors</td>\n",
       "      <td>13</td>\n",
       "      <td>Married-civ-spouse</td>\n",
       "      <td>Prof-specialty</td>\n",
       "      <td>Female</td>\n",
       "      <td>40</td>\n",
       "      <td>&lt;=50K</td>\n",
       "    </tr>\n",
       "    <tr>\n",
       "      <th>...</th>\n",
       "      <td>...</td>\n",
       "      <td>...</td>\n",
       "      <td>...</td>\n",
       "      <td>...</td>\n",
       "      <td>...</td>\n",
       "      <td>...</td>\n",
       "      <td>...</td>\n",
       "      <td>...</td>\n",
       "      <td>...</td>\n",
       "    </tr>\n",
       "    <tr>\n",
       "      <th>32556</th>\n",
       "      <td>27</td>\n",
       "      <td>Private</td>\n",
       "      <td>Assoc-acdm</td>\n",
       "      <td>12</td>\n",
       "      <td>Married-civ-spouse</td>\n",
       "      <td>Tech-support</td>\n",
       "      <td>Female</td>\n",
       "      <td>38</td>\n",
       "      <td>&lt;=50K</td>\n",
       "    </tr>\n",
       "    <tr>\n",
       "      <th>32557</th>\n",
       "      <td>40</td>\n",
       "      <td>Private</td>\n",
       "      <td>HS-grad</td>\n",
       "      <td>9</td>\n",
       "      <td>Married-civ-spouse</td>\n",
       "      <td>Machine-op-inspct</td>\n",
       "      <td>Male</td>\n",
       "      <td>40</td>\n",
       "      <td>&gt;50K</td>\n",
       "    </tr>\n",
       "    <tr>\n",
       "      <th>32558</th>\n",
       "      <td>58</td>\n",
       "      <td>Private</td>\n",
       "      <td>HS-grad</td>\n",
       "      <td>9</td>\n",
       "      <td>Widowed</td>\n",
       "      <td>Adm-clerical</td>\n",
       "      <td>Female</td>\n",
       "      <td>40</td>\n",
       "      <td>&lt;=50K</td>\n",
       "    </tr>\n",
       "    <tr>\n",
       "      <th>32559</th>\n",
       "      <td>22</td>\n",
       "      <td>Private</td>\n",
       "      <td>HS-grad</td>\n",
       "      <td>9</td>\n",
       "      <td>Never-married</td>\n",
       "      <td>Adm-clerical</td>\n",
       "      <td>Male</td>\n",
       "      <td>20</td>\n",
       "      <td>&lt;=50K</td>\n",
       "    </tr>\n",
       "    <tr>\n",
       "      <th>32560</th>\n",
       "      <td>52</td>\n",
       "      <td>Self-emp-inc</td>\n",
       "      <td>HS-grad</td>\n",
       "      <td>9</td>\n",
       "      <td>Married-civ-spouse</td>\n",
       "      <td>Exec-managerial</td>\n",
       "      <td>Female</td>\n",
       "      <td>40</td>\n",
       "      <td>&gt;50K</td>\n",
       "    </tr>\n",
       "  </tbody>\n",
       "</table>\n",
       "<p>30718 rows × 9 columns</p>\n",
       "</div>"
      ],
      "text/plain": [
       "       age         workclass   education  education.num      marital.status  \\\n",
       "0       39         State-gov   Bachelors             13       Never-married   \n",
       "1       50  Self-emp-not-inc   Bachelors             13  Married-civ-spouse   \n",
       "2       38           Private     HS-grad              9            Divorced   \n",
       "3       53           Private        11th              7  Married-civ-spouse   \n",
       "4       28           Private   Bachelors             13  Married-civ-spouse   \n",
       "...    ...               ...         ...            ...                 ...   \n",
       "32556   27           Private  Assoc-acdm             12  Married-civ-spouse   \n",
       "32557   40           Private     HS-grad              9  Married-civ-spouse   \n",
       "32558   58           Private     HS-grad              9             Widowed   \n",
       "32559   22           Private     HS-grad              9       Never-married   \n",
       "32560   52      Self-emp-inc     HS-grad              9  Married-civ-spouse   \n",
       "\n",
       "              occupation     sex  hours.per.week income  \n",
       "0           Adm-clerical    Male              40  <=50K  \n",
       "1        Exec-managerial    Male              13  <=50K  \n",
       "2      Handlers-cleaners    Male              40  <=50K  \n",
       "3      Handlers-cleaners    Male              40  <=50K  \n",
       "4         Prof-specialty  Female              40  <=50K  \n",
       "...                  ...     ...             ...    ...  \n",
       "32556       Tech-support  Female              38  <=50K  \n",
       "32557  Machine-op-inspct    Male              40   >50K  \n",
       "32558       Adm-clerical  Female              40  <=50K  \n",
       "32559       Adm-clerical    Male              20  <=50K  \n",
       "32560    Exec-managerial  Female              40   >50K  \n",
       "\n",
       "[30718 rows x 9 columns]"
      ]
     },
     "execution_count": 142,
     "metadata": {},
     "output_type": "execute_result"
    }
   ],
   "source": [
    "df"
   ]
  },
  {
   "cell_type": "code",
   "execution_count": 143,
   "id": "2b90e1b0-033e-42e2-b2d1-878b5a4a6923",
   "metadata": {},
   "outputs": [],
   "source": [
    "#grouped = df.groupby('sex')\n",
    "#grouped.mean()"
   ]
  },
  {
   "cell_type": "markdown",
   "id": "f6c55df0-c04f-4e8e-b26f-7c6cb3f85bc3",
   "metadata": {},
   "source": [
    "2.125 使用 GroupBy 对象 grouped 用方括号（[ ]）进行引用"
   ]
  },
  {
   "cell_type": "code",
   "execution_count": 144,
   "id": "ba09a2ef-9aeb-4c19-b284-e29f1b36428d",
   "metadata": {},
   "outputs": [
    {
     "data": {
      "text/plain": [
       "workclass\n",
       "Federal-gov         41.379167\n",
       "Local-gov           40.982800\n",
       "Private             40.267096\n",
       "Self-emp-inc        48.818100\n",
       "Self-emp-not-inc    44.421881\n",
       "State-gov           39.031587\n",
       "Without-pay         32.714286\n",
       "Name: hours.per.week, dtype: float64"
      ]
     },
     "execution_count": 144,
     "metadata": {},
     "output_type": "execute_result"
    }
   ],
   "source": [
    "grouped = df.groupby('workclass')\n",
    "grouped['hours.per.week'].mean()"
   ]
  },
  {
   "cell_type": "markdown",
   "id": "8e0358b4-d0de-463d-8d37-e320403fb913",
   "metadata": {},
   "source": [
    "2.126 基于多个列进行分组"
   ]
  },
  {
   "cell_type": "code",
   "execution_count": 145,
   "id": "2a85446a-b546-4767-9d63-caafbe87c241",
   "metadata": {},
   "outputs": [
    {
     "data": {
      "text/plain": [
       "sex     workclass       \n",
       "Female  Federal-gov         40.009524\n",
       "        Local-gov           39.252695\n",
       "        Private             36.500000\n",
       "        Self-emp-inc        42.985185\n",
       "        Self-emp-not-inc    36.573935\n",
       "        State-gov           37.008180\n",
       "        Without-pay         29.200000\n",
       "Male    Federal-gov         42.048062\n",
       "        Local-gov           42.131161\n",
       "        Private             42.221226\n",
       "        Self-emp-inc        49.620795\n",
       "        Self-emp-not-inc    45.883754\n",
       "        State-gov           40.254635\n",
       "        Without-pay         34.666667\n",
       "Name: hours.per.week, dtype: float64"
      ]
     },
     "execution_count": 145,
     "metadata": {},
     "output_type": "execute_result"
    }
   ],
   "source": [
    "grouped = df.groupby(['sex','workclass'])\n",
    "grouped['hours.per.week'].mean()"
   ]
  },
  {
   "cell_type": "markdown",
   "id": "f18c9797-dd33-4950-a24e-2ace5dafc9c3",
   "metadata": {},
   "source": [
    "### 2.4.8 数据的合并"
   ]
  },
  {
   "cell_type": "markdown",
   "id": "4ea4ace5-2be3-4412-a1b2-5c4ec570f3b7",
   "metadata": {},
   "source": [
    "2.127 不同 workclass 的每周工作时间的平均值"
   ]
  },
  {
   "cell_type": "code",
   "execution_count": 146,
   "id": "18865d6d-0b78-4219-a8b4-b0cc6f37cc5d",
   "metadata": {},
   "outputs": [
    {
     "data": {
      "text/html": [
       "<div>\n",
       "<style scoped>\n",
       "    .dataframe tbody tr th:only-of-type {\n",
       "        vertical-align: middle;\n",
       "    }\n",
       "\n",
       "    .dataframe tbody tr th {\n",
       "        vertical-align: top;\n",
       "    }\n",
       "\n",
       "    .dataframe thead th {\n",
       "        text-align: right;\n",
       "    }\n",
       "</style>\n",
       "<table border=\"1\" class=\"dataframe\">\n",
       "  <thead>\n",
       "    <tr style=\"text-align: right;\">\n",
       "      <th></th>\n",
       "      <th>hours.per.week</th>\n",
       "    </tr>\n",
       "    <tr>\n",
       "      <th>workclass</th>\n",
       "      <th></th>\n",
       "    </tr>\n",
       "  </thead>\n",
       "  <tbody>\n",
       "    <tr>\n",
       "      <th>Federal-gov</th>\n",
       "      <td>41.379167</td>\n",
       "    </tr>\n",
       "    <tr>\n",
       "      <th>Local-gov</th>\n",
       "      <td>40.982800</td>\n",
       "    </tr>\n",
       "    <tr>\n",
       "      <th>Private</th>\n",
       "      <td>40.267096</td>\n",
       "    </tr>\n",
       "    <tr>\n",
       "      <th>Self-emp-inc</th>\n",
       "      <td>48.818100</td>\n",
       "    </tr>\n",
       "    <tr>\n",
       "      <th>Self-emp-not-inc</th>\n",
       "      <td>44.421881</td>\n",
       "    </tr>\n",
       "    <tr>\n",
       "      <th>State-gov</th>\n",
       "      <td>39.031587</td>\n",
       "    </tr>\n",
       "    <tr>\n",
       "      <th>Without-pay</th>\n",
       "      <td>32.714286</td>\n",
       "    </tr>\n",
       "  </tbody>\n",
       "</table>\n",
       "</div>"
      ],
      "text/plain": [
       "                  hours.per.week\n",
       "workclass                       \n",
       "Federal-gov            41.379167\n",
       "Local-gov              40.982800\n",
       "Private                40.267096\n",
       "Self-emp-inc           48.818100\n",
       "Self-emp-not-inc       44.421881\n",
       "State-gov              39.031587\n",
       "Without-pay            32.714286"
      ]
     },
     "execution_count": 146,
     "metadata": {},
     "output_type": "execute_result"
    }
   ],
   "source": [
    "grouped = df.groupby('workclass')\n",
    "workclass_hours = pd.DataFrame(grouped['hours.per.week'].mean())\n",
    "workclass_hours"
   ]
  },
  {
   "cell_type": "markdown",
   "id": "b25b9d46-9260-47a8-b41a-fd050ba9dd4b",
   "metadata": {},
   "source": [
    "2.128 DataFrame 对象的 merge 方法"
   ]
  },
  {
   "cell_type": "code",
   "execution_count": 147,
   "id": "78bec551-1abc-469c-b3b7-62605b1bde02",
   "metadata": {},
   "outputs": [],
   "source": [
    "merged = df.merge(\n",
    "    workclass_hours,\n",
    "    left_on='workclass',\n",
    "    right_index=True,\n",
    "    suffixes=('','_avg')\n",
    ")"
   ]
  },
  {
   "cell_type": "markdown",
   "id": "b6e6ef70-edcd-424e-981d-187166ae0b4b",
   "metadata": {},
   "source": [
    "2.129 对合并后的 DataFrame 对象进行确认"
   ]
  },
  {
   "cell_type": "code",
   "execution_count": 148,
   "id": "b7cbca6f-419f-4390-9043-91cfb87553f6",
   "metadata": {},
   "outputs": [
    {
     "data": {
      "text/html": [
       "<div>\n",
       "<style scoped>\n",
       "    .dataframe tbody tr th:only-of-type {\n",
       "        vertical-align: middle;\n",
       "    }\n",
       "\n",
       "    .dataframe tbody tr th {\n",
       "        vertical-align: top;\n",
       "    }\n",
       "\n",
       "    .dataframe thead th {\n",
       "        text-align: right;\n",
       "    }\n",
       "</style>\n",
       "<table border=\"1\" class=\"dataframe\">\n",
       "  <thead>\n",
       "    <tr style=\"text-align: right;\">\n",
       "      <th></th>\n",
       "      <th>workclass</th>\n",
       "      <th>hours.per.week</th>\n",
       "      <th>hours.per.week_avg</th>\n",
       "    </tr>\n",
       "  </thead>\n",
       "  <tbody>\n",
       "    <tr>\n",
       "      <th>0</th>\n",
       "      <td>State-gov</td>\n",
       "      <td>40</td>\n",
       "      <td>39.031587</td>\n",
       "    </tr>\n",
       "    <tr>\n",
       "      <th>11</th>\n",
       "      <td>State-gov</td>\n",
       "      <td>40</td>\n",
       "      <td>39.031587</td>\n",
       "    </tr>\n",
       "    <tr>\n",
       "      <th>34</th>\n",
       "      <td>State-gov</td>\n",
       "      <td>15</td>\n",
       "      <td>39.031587</td>\n",
       "    </tr>\n",
       "    <tr>\n",
       "      <th>48</th>\n",
       "      <td>State-gov</td>\n",
       "      <td>40</td>\n",
       "      <td>39.031587</td>\n",
       "    </tr>\n",
       "    <tr>\n",
       "      <th>123</th>\n",
       "      <td>State-gov</td>\n",
       "      <td>50</td>\n",
       "      <td>39.031587</td>\n",
       "    </tr>\n",
       "  </tbody>\n",
       "</table>\n",
       "</div>"
      ],
      "text/plain": [
       "     workclass  hours.per.week  hours.per.week_avg\n",
       "0    State-gov              40           39.031587\n",
       "11   State-gov              40           39.031587\n",
       "34   State-gov              15           39.031587\n",
       "48   State-gov              40           39.031587\n",
       "123  State-gov              50           39.031587"
      ]
     },
     "execution_count": 148,
     "metadata": {},
     "output_type": "execute_result"
    }
   ],
   "source": [
    "merged[['workclass','hours.per.week','hours.per.week_avg']].head()"
   ]
  },
  {
   "cell_type": "markdown",
   "id": "e8a45683-3275-40ab-95be-2bba943a64ff",
   "metadata": {},
   "source": [
    "### 2.4.9 数据的可视化"
   ]
  },
  {
   "cell_type": "markdown",
   "id": "ad535b8a-dd92-4ac2-a2f3-02db31b993d4",
   "metadata": {},
   "source": [
    "2.130 使用 plot 方法绘制条形图"
   ]
  },
  {
   "cell_type": "code",
   "execution_count": 149,
   "id": "53b4a131-3834-4296-9361-39b0c829b245",
   "metadata": {},
   "outputs": [
    {
     "data": {
      "text/plain": [
       "<Axes: xlabel='marital.status'>"
      ]
     },
     "execution_count": 149,
     "metadata": {},
     "output_type": "execute_result"
    },
    {
     "data": {
      "image/png": "[encoded data removed]",
      "text/plain": [
       "<Figure size 640x480 with 1 Axes>"
      ]
     },
     "metadata": {},
     "output_type": "display_data"
    }
   ],
   "source": [
    "merged['marital.status'].value_counts().plot(kind='bar')"
   ]
  },
  {
   "cell_type": "markdown",
   "id": "bbf02623-a42c-42a3-bca9-3634c574a132",
   "metadata": {},
   "source": [
    "2.131 使用 plot 方法绘制饼形图"
   ]
  },
  {
   "cell_type": "code",
   "execution_count": 150,
   "id": "3e1530c8-0fd9-4293-b2c0-96bc61d41a92",
   "metadata": {},
   "outputs": [
    {
     "data": {
      "text/plain": [
       "<Axes: ylabel='count'>"
      ]
     },
     "execution_count": 150,
     "metadata": {},
     "output_type": "execute_result"
    },
    {
     "data": {
      "image/png": "[encoded data removed]",
      "text/plain": [
       "<Figure size 400x400 with 1 Axes>"
      ]
     },
     "metadata": {},
     "output_type": "display_data"
    }
   ],
   "source": [
    "merged['workclass'].value_counts().plot(kind='pie', figsize=(4,4))"
   ]
  },
  {
   "cell_type": "markdown",
   "id": "7a2cdfb9-1026-4e90-9573-5821c309b780",
   "metadata": {},
   "source": [
    "2.132 使用 plot 方法绘制直方图"
   ]
  },
  {
   "cell_type": "code",
   "execution_count": 151,
   "id": "b2aeabef-81ee-4024-8e9a-a61144bca65f",
   "metadata": {},
   "outputs": [
    {
     "data": {
      "text/plain": [
       "<Axes: ylabel='Frequency'>"
      ]
     },
     "execution_count": 151,
     "metadata": {},
     "output_type": "execute_result"
    },
    {
     "data": {
      "image/png": "[encoded data removed]",
      "text/plain": [
       "<Figure size 640x480 with 1 Axes>"
      ]
     },
     "metadata": {},
     "output_type": "display_data"
    }
   ],
   "source": [
    "merged['education.num'].plot(kind='hist', bins=15)"
   ]
  }
 ],
 "metadata": {
  "kernelspec": {
   "display_name": "Python 3 (ipykernel)",
   "language": "python",
   "name": "python3"
  },
  "language_info": {
   "codemirror_mode": {
    "name": "ipython",
    "version": 3
   },
   "file_extension": ".py",
   "mimetype": "text/x-python",
   "name": "python",
   "nbconvert_exporter": "python",
   "pygments_lexer": "ipython3",
   "version": "3.11.4"
  }
 },
 "nbformat": 4,
 "nbformat_minor": 5
}
