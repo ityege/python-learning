{
 "cells": [
  {
   "cell_type": "code",
   "execution_count": 1,
   "id": "6fc55208-bd27-420b-ba5d-23bfe955c243",
   "metadata": {},
   "outputs": [],
   "source": [
    "import pandas as pd\n",
    "import numpy as np\n",
    "import matplotlib.pyplot as plt"
   ]
  },
  {
   "cell_type": "markdown",
   "id": "c284d00b-4034-4da6-a916-2b0b8b1c6110",
   "metadata": {},
   "source": [
    "## 1.1 机器学习领域中的刚需库 pandas"
   ]
  },
  {
   "cell_type": "markdown",
   "id": "be798072-e578-48e1-9180-44047409c44b",
   "metadata": {},
   "source": [
    "### 1.1.1 何谓pandas"
   ]
  },
  {
   "cell_type": "markdown",
   "id": "67d0aa2b-a13f-4d52-8169-a11b61ad9b2e",
   "metadata": {},
   "source": [
    "### 1.1.2 pandas的主要功能"
   ]
  },
  {
   "cell_type": "markdown",
   "id": "c9ee4e06-7446-46e6-a5ae-d2cd7c9c8f0d",
   "metadata": {},
   "source": [
    "## 1.2 构建pandas的使用环境"
   ]
  },
  {
   "cell_type": "markdown",
   "id": "45621c10-c488-4252-9993-a539d3029a33",
   "metadata": {},
   "source": [
    "### 1.2.1 三种构建环境下的工具包和软件"
   ]
  },
  {
   "cell_type": "markdown",
   "id": "39603c33-c132-47c0-9169-22b96a3e0ae5",
   "metadata": {},
   "source": [
    "### 1.2.2 在windows操作系统中构建"
   ]
  },
  {
   "cell_type": "markdown",
   "id": "92a97ee4-e27c-40e2-9b96-eefeb0a80774",
   "metadata": {},
   "source": [
    "1.2 Python 和软件库版本的输出"
   ]
  },
  {
   "cell_type": "code",
   "execution_count": 2,
   "id": "f8c88837-39a8-46e6-beb8-f36c74caa26c",
   "metadata": {},
   "outputs": [
    {
     "name": "stdout",
     "output_type": "stream",
     "text": [
      "python version :  (3, 11, 4)\n",
      "pandas version :  2.1.1\n",
      "numpy version :  1.26.0\n",
      "matplotlib version :  3.8.0\n"
     ]
    }
   ],
   "source": [
    "import sys\n",
    "import pandas\n",
    "import numpy\n",
    "import matplotlib\n",
    "\n",
    "print('python version : ', sys.version_info[0:3])\n",
    "print('pandas version : ', pandas.__version__)\n",
    "print('numpy version : ', numpy.__version__)\n",
    "print('matplotlib version : ', matplotlib.__version__)"
   ]
  },
  {
   "cell_type": "markdown",
   "id": "804da634-9f3a-440d-9146-d4edb36ec620",
   "metadata": {},
   "source": [
    "### 1.2.3 在macOS中安装程序"
   ]
  },
  {
   "cell_type": "markdown",
   "id": "a81aca96-cb0e-4115-83f3-bd6478999f5d",
   "metadata": {},
   "source": [
    "### 1.2.4 Google Colab平台"
   ]
  },
  {
   "cell_type": "markdown",
   "id": "202fcb45-3bb2-4937-b2f3-2eafb79736a9",
   "metadata": {},
   "source": [
    "## 1.3 Python的数据结构"
   ]
  },
  {
   "cell_type": "markdown",
   "id": "5ac6bba7-3ccc-494c-9642-143936ddf404",
   "metadata": {},
   "source": [
    "### 1.3.1 为何在机器学习中使用Python"
   ]
  },
  {
   "cell_type": "markdown",
   "id": "a3834e14-1fb6-45d6-ba02-a89ccaf27eb5",
   "metadata": {},
   "source": [
    "### 1.3.2 变量"
   ]
  },
  {
   "cell_type": "markdown",
   "id": "3dfb7406-7bdc-41ea-abe7-9e521075031f",
   "metadata": {},
   "source": [
    "1.7 将值代入变量"
   ]
  },
  {
   "cell_type": "code",
   "execution_count": 3,
   "id": "730ee0ad-ab95-440c-8512-2a53b5350b45",
   "metadata": {},
   "outputs": [
    {
     "name": "stdout",
     "output_type": "stream",
     "text": [
      "12345\n",
      "机器学习\n"
     ]
    }
   ],
   "source": [
    "var_1 = 12345\n",
    "print(var_1)\n",
    "\n",
    "var_2 = \"机器学习\"\n",
    "print(var_2)"
   ]
  },
  {
   "cell_type": "markdown",
   "id": "05fd4050-b59f-4260-a1f7-7ebc097f4a18",
   "metadata": {},
   "source": [
    "1.8 将多个值代入多个变量"
   ]
  },
  {
   "cell_type": "code",
   "execution_count": 4,
   "id": "5e31ef34-3b28-46d0-afa2-aad328aa7ec0",
   "metadata": {},
   "outputs": [
    {
     "name": "stdout",
     "output_type": "stream",
     "text": [
      "12345\n",
      "67890\n",
      "100 0.5 日语\n"
     ]
    }
   ],
   "source": [
    "abc = 12345\n",
    "ABC = 67890\n",
    "a, b, c = 100, 0.5, \"日语\"\n",
    "print(abc)\n",
    "print(ABC)\n",
    "print(a, b, c)"
   ]
  },
  {
   "cell_type": "markdown",
   "id": "9f9a03ee-0abb-4462-9462-4b10f832b58e",
   "metadata": {},
   "source": [
    "### 1.3.3 运算符"
   ]
  },
  {
   "cell_type": "markdown",
   "id": "75310e59-3945-4616-88c7-548dfa494c9f",
   "metadata": {},
   "source": [
    "1.9 Python 的算术运算符"
   ]
  },
  {
   "cell_type": "code",
   "execution_count": 5,
   "id": "63911bae-5d57-42b1-b00b-51ab3e93e0fe",
   "metadata": {},
   "outputs": [
    {
     "name": "stdout",
     "output_type": "stream",
     "text": [
      "20\n",
      "5.0\n",
      "8\n",
      "0\n",
      "5\n",
      "100\n"
     ]
    }
   ],
   "source": [
    "a = 10\n",
    "b = 2\n",
    "\n",
    "print(a * b) # 10 * 2\n",
    "print(a / b) # 10 ÷ 2\n",
    "print(a - b) # 10 - 2\n",
    "print(a % b) # 10 ÷ 2的余数\n",
    "print(a // b) # 10 ÷ 2的除法\n",
    "print(a ** b) #  a的b次方 "
   ]
  },
  {
   "cell_type": "markdown",
   "id": "6cd72c6f-821f-4089-b6e2-8f6801eb7ee2",
   "metadata": {},
   "source": [
    "1.10 Python 的赋值运算符"
   ]
  },
  {
   "cell_type": "code",
   "execution_count": 6,
   "id": "24aff347-ffcb-4931-9c38-bc8c8131bc5f",
   "metadata": {},
   "outputs": [
    {
     "name": "stdout",
     "output_type": "stream",
     "text": [
      "5.0\n",
      "3.0\n",
      "6.0\n",
      "36.0\n",
      "18.0\n",
      "2.0\n"
     ]
    }
   ],
   "source": [
    "a = 3.0\n",
    "a += 2; print(a) # 与a = a + 2等同\n",
    "a -= 2; print(a) # 与a = a - 2等同\n",
    "a *= 2; print(a) # 与a = a * 2等同\n",
    "a **= 2; print(a) # 与a = a ** 2等同\n",
    "a /= 2; print(a) #与a = a / 2等同\n",
    "a %= 4; print(a) # 与a = a % 4等同"
   ]
  },
  {
   "cell_type": "markdown",
   "id": "7b792a19-5be2-45ea-b36b-12e32512fee6",
   "metadata": {},
   "source": [
    "1.11 Python 的比较运算符"
   ]
  },
  {
   "cell_type": "code",
   "execution_count": 7,
   "id": "f0b45b83-5056-44d3-9ad6-7ee5b6ef4326",
   "metadata": {},
   "outputs": [
    {
     "name": "stdout",
     "output_type": "stream",
     "text": [
      "True\n",
      "False\n",
      "False\n",
      "True\n"
     ]
    }
   ],
   "source": [
    "a = 5.0\n",
    "b = 2.0\n",
    "\n",
    "print(a > b)\n",
    "print(a < b)\n",
    "print(a == b)\n",
    "print(a != b)"
   ]
  },
  {
   "cell_type": "markdown",
   "id": "c89dcd48-6110-4b0f-80bf-8211e96c0a6f",
   "metadata": {},
   "source": [
    "### 1.3.4 动态类型"
   ]
  },
  {
   "cell_type": "markdown",
   "id": "a3885aa1-be3d-455d-a7e0-515f0e5cb90b",
   "metadata": {},
   "source": [
    "1.12 : Python 动态类型的确认"
   ]
  },
  {
   "cell_type": "code",
   "execution_count": 8,
   "id": "82abf91f-12a3-40df-ac8b-4de86717f17e",
   "metadata": {},
   "outputs": [
    {
     "name": "stdout",
     "output_type": "stream",
     "text": [
      "<class 'int'>\n",
      "<class 'str'>\n"
     ]
    }
   ],
   "source": [
    "a = 1\n",
    "print(type(a))\n",
    "a = 'あ'\n",
    "print(type(a))"
   ]
  },
  {
   "cell_type": "markdown",
   "id": "80150a86-fbf5-42a1-9229-92c691bf5a95",
   "metadata": {},
   "source": [
    "### 1.3.5 数值类型"
   ]
  },
  {
   "cell_type": "markdown",
   "id": "29433596-1ece-4fe4-9801-5b7e17d466fe",
   "metadata": {},
   "source": [
    "1.13 数值类型的确认"
   ]
  },
  {
   "cell_type": "code",
   "execution_count": 9,
   "id": "b53c6e22-a55b-4b15-873c-34a1504f34c3",
   "metadata": {},
   "outputs": [
    {
     "name": "stdout",
     "output_type": "stream",
     "text": [
      "5 <class 'int'>\n",
      "2.0 <class 'float'>\n",
      "1 是属于整数int类型吗？ True\n",
      "1 是属于浮点数float类型吗？ False\n"
     ]
    }
   ],
   "source": [
    "a = 5\n",
    "print(a, type(a))\n",
    "\n",
    "b = 2.0\n",
    "print(b, type(b))\n",
    "\n",
    "c = 1\n",
    "print(c, \"是属于整数int类型吗？\", isinstance(c, int))\n",
    "print(c, \"是属于浮点数float类型吗？\", isinstance(c, float))"
   ]
  },
  {
   "cell_type": "markdown",
   "id": "4bae3ab4-ea24-4c92-978c-932136d0b2c7",
   "metadata": {},
   "source": [
    "1.14 浮点数类型的指数形式"
   ]
  },
  {
   "cell_type": "code",
   "execution_count": 10,
   "id": "edc48056-6c15-4c16-b199-be4a72fef5e8",
   "metadata": {},
   "outputs": [
    {
     "name": "stdout",
     "output_type": "stream",
     "text": [
      "变量c和d相等吗？ <class 'float'> <class 'float'>\n",
      "变量a和b相等吗？ True\n",
      "变量c和d相等吗？ True\n"
     ]
    }
   ],
   "source": [
    "a = 1.23e3\n",
    "b = 1.23 * 10 ** 3\n",
    "print('变量c和d相等吗？', type(a), type(b))\n",
    "print('变量a和b相等吗？', a == b)\n",
    "\n",
    "c = 1.23e-3\n",
    "d = 0.00123\n",
    "print('变量c和d相等吗？', c == d)"
   ]
  },
  {
   "cell_type": "markdown",
   "id": "1a01f5d1-bf19-4428-83a5-f05d0ba70718",
   "metadata": {},
   "source": [
    "### 1.3.6 字符串类型"
   ]
  },
  {
   "cell_type": "markdown",
   "id": "e1d428b0-2217-4715-accc-f3c1c09ab053",
   "metadata": {},
   "source": [
    "1.15 字符串类型的合并"
   ]
  },
  {
   "cell_type": "code",
   "execution_count": 11,
   "id": "848a9837-6689-4fc1-bd0f-cfbd182d8328",
   "metadata": {},
   "outputs": [
    {
     "name": "stdout",
     "output_type": "stream",
     "text": [
      "<class 'str'> <class 'str'>\n",
      "我的年龄是12岁\n"
     ]
    }
   ],
   "source": [
    "a = '我的年龄是'\n",
    "b = \"12岁\"\n",
    "\n",
    "print(type(a), type(b))\n",
    "print(a + b)"
   ]
  },
  {
   "cell_type": "markdown",
   "id": "2c3eddf1-ecd0-4c1b-a4b2-0f8ef9816209",
   "metadata": {},
   "source": [
    "1.16 多行字符串"
   ]
  },
  {
   "cell_type": "code",
   "execution_count": 12,
   "id": "8be0b5bb-f4c9-40ca-ada2-5d3ee7a09e8e",
   "metadata": {},
   "outputs": [
    {
     "name": "stdout",
     "output_type": "stream",
     "text": [
      "我的年龄是\n",
      "12\n",
      "岁\n",
      "\n",
      "我的年龄是12岁\n"
     ]
    }
   ],
   "source": [
    "ab = '''我的年龄是\n",
    "12\n",
    "岁\n",
    "'''\n",
    "\n",
    "cd = '我的年龄是12岁'\n",
    "print(ab)\n",
    "print(cd)"
   ]
  },
  {
   "cell_type": "markdown",
   "id": "08569671-c3dc-4939-ad99-2c723f9cb71f",
   "metadata": {},
   "source": [
    "1.17 字符串的索引引用"
   ]
  },
  {
   "cell_type": "code",
   "execution_count": 13,
   "id": "6aa8d554-d60a-4ad7-b737-3bfb25dff95e",
   "metadata": {},
   "outputs": [
    {
     "name": "stdout",
     "output_type": "stream",
     "text": [
      "a\n",
      "cde\n"
     ]
    }
   ],
   "source": [
    "a = 'abcde'\n",
    "print(a[0])\n",
    "print(a[2:])"
   ]
  },
  {
   "cell_type": "markdown",
   "id": "3f637cae-b4d2-4dd9-a331-eeb3fd310227",
   "metadata": {},
   "source": [
    "1.18 由于字符串是不可变对象，因此出现错误警告"
   ]
  },
  {
   "cell_type": "code",
   "execution_count": 14,
   "id": "888e8418-9e48-49a3-9394-652914362166",
   "metadata": {},
   "outputs": [],
   "source": [
    "# a = 'abcde'\n",
    "# a[0] = 'z'\n",
    "\n",
    "# TypeError: 'str' object does not support item assignment"
   ]
  },
  {
   "cell_type": "markdown",
   "id": "f5fd119b-de0b-4f28-98d6-c4c573331a05",
   "metadata": {},
   "source": [
    "### 1.3.7 元组"
   ]
  },
  {
   "cell_type": "markdown",
   "id": "be88b1db-c3dc-4fb7-a227-70115adf0485",
   "metadata": {},
   "source": [
    "1.19 元组的创建"
   ]
  },
  {
   "cell_type": "code",
   "execution_count": 15,
   "id": "e80b9a10-b547-47a3-a7e9-176394d921b4",
   "metadata": {},
   "outputs": [
    {
     "name": "stdout",
     "output_type": "stream",
     "text": [
      "<class 'tuple'> <class 'tuple'>\n",
      "True\n"
     ]
    }
   ],
   "source": [
    "a = (1,2,3)\n",
    "b = 1,2,3\n",
    "\n",
    "print(type(a), type(b))\n",
    "print(a == b)"
   ]
  },
  {
   "cell_type": "markdown",
   "id": "0d8b1af3-f02b-4f79-bf1e-3cc3e07d344b",
   "metadata": {},
   "source": [
    "1.20 由于元组是不可变对象，因此出现错误警告"
   ]
  },
  {
   "cell_type": "code",
   "execution_count": 16,
   "id": "7bebeb48-562a-43f0-9d08-aa91e912ccb3",
   "metadata": {},
   "outputs": [],
   "source": [
    "# a[0] = 4"
   ]
  },
  {
   "cell_type": "markdown",
   "id": "6ff11759-6ded-42e6-9ff4-88569f25a1a7",
   "metadata": {},
   "source": [
    "1.21 多种数据类型和 tuple 函数的使用"
   ]
  },
  {
   "cell_type": "code",
   "execution_count": 17,
   "id": "69c89c4d-3d5d-4f09-8cbc-d6019f8c8dec",
   "metadata": {},
   "outputs": [
    {
     "name": "stdout",
     "output_type": "stream",
     "text": [
      "<class 'tuple'>\n",
      "<class 'str'>\n",
      "<class 'tuple'>\n",
      "('1', '2', '3', '4', '5')\n"
     ]
    }
   ],
   "source": [
    "a = (1, 2, '三', 4, 'Five')\n",
    "b = '12345'\n",
    "c = tuple(b)\n",
    "\n",
    "print(type(a))\n",
    "print(type(b))\n",
    "print(type(c))\n",
    "print(c)"
   ]
  },
  {
   "cell_type": "markdown",
   "id": "ca1b7895-359e-461d-937d-23735044f021",
   "metadata": {},
   "source": [
    "1.22 元组的元组（嵌套）"
   ]
  },
  {
   "cell_type": "code",
   "execution_count": 18,
   "id": "ef05db5d-3097-4b01-beed-6f84390dadb1",
   "metadata": {},
   "outputs": [
    {
     "name": "stdout",
     "output_type": "stream",
     "text": [
      "((1, 2, 3), (4, 5, 6))\n",
      "<class 'tuple'>\n"
     ]
    }
   ],
   "source": [
    "nest = ((1,2,3),(4,5,6))\n",
    "print(nest)\n",
    "print(type(nest))"
   ]
  },
  {
   "cell_type": "markdown",
   "id": "1d0ea624-fa4b-45f0-8807-fb8af5da6b8a",
   "metadata": {},
   "source": [
    "1.23 元组的索引引用"
   ]
  },
  {
   "cell_type": "code",
   "execution_count": 19,
   "id": "cb72697d-9f90-4c26-b9cc-d50597e93f8a",
   "metadata": {},
   "outputs": [
    {
     "name": "stdout",
     "output_type": "stream",
     "text": [
      "1\n",
      "5\n",
      "4\n"
     ]
    }
   ],
   "source": [
    "a = (1,2,3,4,5)\n",
    "print(a[0])\n",
    "print(a[-1])\n",
    "print(a[-2])"
   ]
  },
  {
   "cell_type": "markdown",
   "id": "57d08528-1dbf-4d48-8350-315b491ff975",
   "metadata": {},
   "source": [
    "1.24 使用切片的索引引用"
   ]
  },
  {
   "cell_type": "code",
   "execution_count": 20,
   "id": "22f63c36-0322-48ae-86f0-d6eca2def96b",
   "metadata": {},
   "outputs": [
    {
     "data": {
      "text/plain": [
       "(1, 2, 3, 4, 5)"
      ]
     },
     "execution_count": 20,
     "metadata": {},
     "output_type": "execute_result"
    }
   ],
   "source": [
    "a"
   ]
  },
  {
   "cell_type": "code",
   "execution_count": 21,
   "id": "f9f69d35-b82f-457f-b612-42b62ad32d35",
   "metadata": {},
   "outputs": [
    {
     "name": "stdout",
     "output_type": "stream",
     "text": [
      "(2, 3)\n",
      "(1, 2)\n",
      "(2, 3, 4, 5)\n"
     ]
    }
   ],
   "source": [
    "print(a[1:3])\n",
    "print(a[:2])\n",
    "print(a[1:])"
   ]
  },
  {
   "cell_type": "markdown",
   "id": "b64ff890-6357-40c5-bfb7-2d183bbd852b",
   "metadata": {},
   "source": [
    "1.25 分解元组的多个元素"
   ]
  },
  {
   "cell_type": "code",
   "execution_count": 22,
   "id": "d812b21d-540a-4d52-bc66-a9f9e5966ad6",
   "metadata": {},
   "outputs": [
    {
     "name": "stdout",
     "output_type": "stream",
     "text": [
      "1 2 3\n",
      "4 5 6 (7, 8, 9)\n"
     ]
    }
   ],
   "source": [
    "tup_1 = (1,2,3)\n",
    "one,two,three = tup_1\n",
    "print(one,two,three)\n",
    "\n",
    "tup_2 = (4,5,6,(7,8,9))\n",
    "one,two,three,four = tup_2\n",
    "print(one,two,three,four)"
   ]
  },
  {
   "cell_type": "markdown",
   "id": "076b2353-eae8-452b-b467-f552ac006182",
   "metadata": {},
   "source": [
    "1.26 元组方法的确认"
   ]
  },
  {
   "cell_type": "code",
   "execution_count": 23,
   "id": "644cc65a-dce8-4bd4-b603-66cb89e40812",
   "metadata": {},
   "outputs": [
    {
     "name": "stdout",
     "output_type": "stream",
     "text": [
      "「啊」出现在元组中的次数:  1\n",
      "「咦」在元组中最开始出现的位置对应的索引号:  1\n"
     ]
    }
   ],
   "source": [
    "a = ('啊', '咦', '唔', '呃', '哦')\n",
    "print('「啊」出现在元组中的次数: ', a.count('啊'))\n",
    "print('「咦」在元组中最开始出现的位置对应的索引号: ', a.index('咦'))"
   ]
  },
  {
   "cell_type": "markdown",
   "id": "d64717ae-11a9-4cce-92c1-4f56b5ca276e",
   "metadata": {},
   "source": [
    "### 1.3.8 列表"
   ]
  },
  {
   "cell_type": "markdown",
   "id": "4608f4f1-c5cd-4f49-81cb-dcbd4fc0e6cd",
   "metadata": {},
   "source": [
    "1.27 列表的创建"
   ]
  },
  {
   "cell_type": "code",
   "execution_count": 24,
   "id": "82cd0884-3951-40fd-abc1-e95b62f7197b",
   "metadata": {},
   "outputs": [
    {
     "name": "stdout",
     "output_type": "stream",
     "text": [
      "<class 'list'>\n",
      "<class 'tuple'>\n",
      "<class 'list'>\n"
     ]
    }
   ],
   "source": [
    "a = ['a','b','c',1,2]\n",
    "b = ('a','b','c',1,2)\n",
    "c = list(b)\n",
    "print(type(a))\n",
    "print(type(b))\n",
    "print(type(c))"
   ]
  },
  {
   "cell_type": "markdown",
   "id": "123c3427-fb96-4377-8a71-6608cfe15606",
   "metadata": {},
   "source": [
    "1.28 列表的元素变更"
   ]
  },
  {
   "cell_type": "code",
   "execution_count": 25,
   "id": "a6f73dd1-aa36-4a9b-8817-cbea64de43f2",
   "metadata": {},
   "outputs": [
    {
     "name": "stdout",
     "output_type": "stream",
     "text": [
      "[1, 2, 3, 4, 5]\n",
      "[6, 2, 3, 4, 5]\n"
     ]
    }
   ],
   "source": [
    "a = [1,2,3,4,5]\n",
    "print(a)\n",
    "a[0] = 6\n",
    "print(a)"
   ]
  },
  {
   "cell_type": "markdown",
   "id": "a96e1c8d-7ced-4f1e-8dbf-ce3ab10390c6",
   "metadata": {},
   "source": [
    "1.29 列表的索引引用与切片"
   ]
  },
  {
   "cell_type": "code",
   "execution_count": 26,
   "id": "aa88a78c-8710-4469-843b-a2c47b29267b",
   "metadata": {},
   "outputs": [
    {
     "name": "stdout",
     "output_type": "stream",
     "text": [
      "['啊', '咦', '唔', '呃', '哦']\n",
      "啊\n",
      "['唔', '呃', '哦']\n"
     ]
    }
   ],
   "source": [
    "a = list('啊咦唔呃哦')\n",
    "print(a)\n",
    "print(a[0])\n",
    "print(a[2:])"
   ]
  },
  {
   "cell_type": "markdown",
   "id": "fc13abcc-8578-455f-866b-24e505229e64",
   "metadata": {},
   "source": [
    "1.30 列表中元素的添加"
   ]
  },
  {
   "cell_type": "code",
   "execution_count": 27,
   "id": "612ad84a-c60e-40ab-b670-609344b14b7f",
   "metadata": {},
   "outputs": [
    {
     "name": "stdout",
     "output_type": "stream",
     "text": [
      "[1, 2, 3, 4, 5, 6]\n",
      "[1, 2, 3, 4, 5, 6, 7, 8]\n",
      "[1, 2, 3, 4, 5, 6, 7, 8, 9, 10, 11]\n"
     ]
    }
   ],
   "source": [
    "a = [1,2,3,4,5]\n",
    "a.append(6)\n",
    "print(a)\n",
    "a.extend([7,8])\n",
    "print(a)\n",
    "b = [9,10,11]\n",
    "print(a + b)"
   ]
  },
  {
   "cell_type": "markdown",
   "id": "7572c1c1-72dc-4d8d-961e-0f38b76d6f14",
   "metadata": {},
   "source": [
    "1.31 列表中元素的删除"
   ]
  },
  {
   "cell_type": "code",
   "execution_count": 28,
   "id": "4af70114-0307-48ae-814e-59dcdd51020c",
   "metadata": {},
   "outputs": [
    {
     "name": "stdout",
     "output_type": "stream",
     "text": [
      "[1, 2, 3, 4, 5]\n",
      "[2, 3, 4, 5]\n",
      "[3, 4, 5]\n",
      "3 [4, 5]\n",
      "[]\n"
     ]
    }
   ],
   "source": [
    "a = [1,2,3,4,5]\n",
    "print(a)\n",
    "\n",
    "del a[0]\n",
    "print(a)\n",
    "\n",
    "a.remove(2)\n",
    "print(a)\n",
    "\n",
    "b = a.pop(0)\n",
    "print(b, a)\n",
    "\n",
    "a.clear()\n",
    "print(a)"
   ]
  },
  {
   "cell_type": "markdown",
   "id": "6cc42216-ab88-4193-9d09-4f7a27a18ca7",
   "metadata": {},
   "source": [
    "### 1.3.9 字典"
   ]
  },
  {
   "cell_type": "markdown",
   "id": "64fa022b-a623-43d3-b327-a3781c96f269",
   "metadata": {},
   "source": [
    "1.32 字典的创建和值的引用"
   ]
  },
  {
   "cell_type": "code",
   "execution_count": 29,
   "id": "043f375a-04f9-4ca2-ae2b-734c5f6c8fda",
   "metadata": {},
   "outputs": [
    {
     "name": "stdout",
     "output_type": "stream",
     "text": [
      "<class 'dict'> {'b': [1, 2, 3], 'c': [4, 5, 6]}\n",
      "[1, 2, 3]\n",
      "[4, 5, 6]\n"
     ]
    }
   ],
   "source": [
    "a = {'b':[1,2,3], 'c':[4,5,6]}\n",
    "print(type(a), a)\n",
    "print(a['b'])\n",
    "print(a.get('c'))"
   ]
  },
  {
   "cell_type": "markdown",
   "id": "f03fed05-811f-43ef-a6b8-9c2fd4fd45e2",
   "metadata": {},
   "source": [
    "1.33 字典的 get 方法"
   ]
  },
  {
   "cell_type": "code",
   "execution_count": 30,
   "id": "111e9a61-b7ce-44bb-b4bd-3f9c4e2ebba0",
   "metadata": {},
   "outputs": [
    {
     "name": "stdout",
     "output_type": "stream",
     "text": [
      "None\n"
     ]
    }
   ],
   "source": [
    "print(a.get('d'))"
   ]
  },
  {
   "cell_type": "markdown",
   "id": "c2387181-96ca-4690-9b95-da67edb89d3b",
   "metadata": {},
   "source": [
    "1.34 字典值的变更和添加"
   ]
  },
  {
   "cell_type": "code",
   "execution_count": 31,
   "id": "ab89e50c-e911-41ad-90cf-d812e90c75b9",
   "metadata": {},
   "outputs": [
    {
     "name": "stdout",
     "output_type": "stream",
     "text": [
      "{'b': [1, 2, 3], 'c': [4, 5, 6]}\n",
      "{'b': [7, 8, 9], 'c': [4, 5, 6]}\n",
      "{'b': [7, 8, 9], 'c': [4, 5, 6], 'd': [10, 11, 12]}\n"
     ]
    }
   ],
   "source": [
    "a = {'b':[1,2,3], 'c':[4,5,6]}\n",
    "print(a)\n",
    "a['b'] = [7,8,9]\n",
    "print(a)\n",
    "a['d'] = [10,11,12]\n",
    "print(a)"
   ]
  },
  {
   "cell_type": "markdown",
   "id": "5ea3d9a2-9984-4671-bae4-c277b444e8d2",
   "metadata": {},
   "source": [
    "1.35 删除字典的值"
   ]
  },
  {
   "cell_type": "code",
   "execution_count": 32,
   "id": "84d5d9ad-284c-4d7a-a45e-62635058eba6",
   "metadata": {},
   "outputs": [
    {
     "name": "stdout",
     "output_type": "stream",
     "text": [
      "{'b': [7, 8, 9], 'd': [10, 11, 12]}\n",
      "{'d': [10, 11, 12]}\n"
     ]
    }
   ],
   "source": [
    "a.pop('c')\n",
    "print(a)\n",
    "\n",
    "del a['b']\n",
    "print(a)"
   ]
  },
  {
   "cell_type": "markdown",
   "id": "d8a04c19-e786-4560-abcc-93a217b1797b",
   "metadata": {},
   "source": [
    "1.36 字典的 update 方法"
   ]
  },
  {
   "cell_type": "code",
   "execution_count": 33,
   "id": "f8a59258-92a5-4ac8-a24a-2dd13bea3ea2",
   "metadata": {},
   "outputs": [
    {
     "name": "stdout",
     "output_type": "stream",
     "text": [
      "{'啊': [1, 2, 3], '咦': [6, 7, 8, 9]}\n",
      "{'啊': [1, 2, 3], '咦': [9, 10, 11, 12]}\n"
     ]
    }
   ],
   "source": [
    "a = {'啊':[1,2,3]}\n",
    "b = {'咦':[6,7,8,9]}\n",
    "c = {'咦':[9,10,11,12]}\n",
    "\n",
    "a.update(b)\n",
    "print(a)\n",
    "\n",
    "a.update(c)\n",
    "print(a)"
   ]
  },
  {
   "cell_type": "markdown",
   "id": "a7a13099-dde1-4e8f-a135-d317fd225276",
   "metadata": {},
   "source": [
    "### 1.3.10 集合"
   ]
  },
  {
   "cell_type": "markdown",
   "id": "ec27d7df-df21-4eca-8537-383095aea86f",
   "metadata": {},
   "source": [
    "1.37 集合的创建"
   ]
  },
  {
   "cell_type": "code",
   "execution_count": 34,
   "id": "1433f407-d973-44f9-9bc0-62831596e1db",
   "metadata": {},
   "outputs": [
    {
     "name": "stdout",
     "output_type": "stream",
     "text": [
      "<class 'set'>\n",
      "<class 'list'>\n",
      "<class 'set'>\n"
     ]
    }
   ],
   "source": [
    "a = {1,2,3,4,5}\n",
    "b = [1,2,3,4,5]\n",
    "c = set(b)\n",
    "\n",
    "print(type(a))\n",
    "print(type(b))\n",
    "print(type(c))"
   ]
  },
  {
   "cell_type": "markdown",
   "id": "689da342-98fd-45ad-bf7c-c986b51c1e6c",
   "metadata": {},
   "source": [
    "1.38 集合中只包含唯一的值"
   ]
  },
  {
   "cell_type": "code",
   "execution_count": 35,
   "id": "d06a7282-4f02-4d9b-b206-2285429f6c4f",
   "metadata": {},
   "outputs": [
    {
     "name": "stdout",
     "output_type": "stream",
     "text": [
      "{'three', 1, 3}\n"
     ]
    }
   ],
   "source": [
    "a = {1,3,3,'three','three',}\n",
    "print(a)"
   ]
  },
  {
   "cell_type": "markdown",
   "id": "6c972c80-f339-4852-b493-4b15b6711579",
   "metadata": {},
   "source": [
    "1.39 集合的并"
   ]
  },
  {
   "cell_type": "code",
   "execution_count": 36,
   "id": "ab1b1095-350b-40a5-9831-fd49fa694da0",
   "metadata": {},
   "outputs": [
    {
     "name": "stdout",
     "output_type": "stream",
     "text": [
      "{1, 2, 3, 4, 5, 6, 7, 8}\n",
      "{1, 2, 3, 4, 5, 6, 7, 8}\n"
     ]
    }
   ],
   "source": [
    "a = {1,2,2,3,4,5}\n",
    "b = {6,2,3,7,8,}\n",
    "\n",
    "print(a.union(b))\n",
    "print(a | b)"
   ]
  },
  {
   "cell_type": "markdown",
   "id": "42d558be-de99-4b6f-b577-a2495b4ac7e5",
   "metadata": {},
   "source": [
    "1.40 集合的交"
   ]
  },
  {
   "cell_type": "code",
   "execution_count": 37,
   "id": "64e5d749-6014-4b12-ad75-bca15f1649c5",
   "metadata": {},
   "outputs": [
    {
     "name": "stdout",
     "output_type": "stream",
     "text": [
      "{2, 3}\n",
      "{2, 3}\n"
     ]
    }
   ],
   "source": [
    "print(a.intersection(b))\n",
    "print(a & b)"
   ]
  },
  {
   "cell_type": "markdown",
   "id": "c741565b-a5cd-4158-8bf6-cc3033416245",
   "metadata": {},
   "source": [
    "## 1.4 Python的基本操作"
   ]
  },
  {
   "cell_type": "markdown",
   "id": "120b96e5-9539-48e3-8891-63574fc3b317",
   "metadata": {},
   "source": [
    "### 1.4.1 if语句"
   ]
  },
  {
   "cell_type": "markdown",
   "id": "6f02c7cd-7136-4c28-9fd1-9e2ec6b9ac83",
   "metadata": {},
   "source": [
    "1.41 if 语句条件表达式的返回值为 True 时的情况"
   ]
  },
  {
   "cell_type": "code",
   "execution_count": 38,
   "id": "458d8b6b-2e94-4ba5-b4dd-f85bbb19c708",
   "metadata": {},
   "outputs": [
    {
     "name": "stdout",
     "output_type": "stream",
     "text": [
      "如果条件为True就会被执行的代码块\n",
      "5 为正的数\n",
      "代码块之外（单独执行）\n"
     ]
    }
   ],
   "source": [
    "num = 5\n",
    "\n",
    "if num > 0:\n",
    "    print('如果条件为True就会被执行的代码块')\n",
    "    print(num, '为正的数')\n",
    "print('代码块之外（单独执行）')"
   ]
  },
  {
   "cell_type": "markdown",
   "id": "93f9cc6a-92d1-4c05-abdb-e70e85fd5bfc",
   "metadata": {},
   "source": [
    "1.42 if 语句条件表达式的返回值为 False 时的情况"
   ]
  },
  {
   "cell_type": "code",
   "execution_count": 39,
   "id": "fc161c3c-068b-4da3-9269-2ce70989458c",
   "metadata": {},
   "outputs": [
    {
     "name": "stdout",
     "output_type": "stream",
     "text": [
      "代码块之外（单独执行）\n"
     ]
    }
   ],
   "source": [
    "num = -5\n",
    "\n",
    "if num > 0:\n",
    "    print('如果条件为True就会被执行的代码块')\n",
    "    print(num, '为正的数')\n",
    "print('代码块之外（单独执行）')"
   ]
  },
  {
   "cell_type": "markdown",
   "id": "a3651f4f-7c02-4c4d-8d32-b13d15cbeb72",
   "metadata": {},
   "source": [
    "1.43 if 语句和 elif 代码块的条件分支"
   ]
  },
  {
   "cell_type": "code",
   "execution_count": 40,
   "id": "96783ba4-06a4-4d3f-878d-7b1cb87bd443",
   "metadata": {},
   "outputs": [
    {
     "name": "stdout",
     "output_type": "stream",
     "text": [
      "-4 为负的数\n"
     ]
    }
   ],
   "source": [
    "import random\n",
    "num = random.randint(-10,10)\n",
    "if num>0:\n",
    "    print(num, '为正的数')\n",
    "elif num < 0:\n",
    "    print(num, '为负的数')"
   ]
  },
  {
   "cell_type": "markdown",
   "id": "060d90c7-77ed-491a-be0d-f60a73f37c9b",
   "metadata": {},
   "source": [
    "1.44 if 语句、elif 代码块及 else 代码块的条件分支"
   ]
  },
  {
   "cell_type": "code",
   "execution_count": 41,
   "id": "51397e0c-a72c-46ed-bc9a-0fa6101021bd",
   "metadata": {},
   "outputs": [
    {
     "name": "stdout",
     "output_type": "stream",
     "text": [
      "-7 为负的数\n"
     ]
    }
   ],
   "source": [
    "import random\n",
    "num = random.randint(-10, 10)\n",
    "\n",
    "if num > 0:\n",
    "    print(num, '为正的数')\n",
    "elif num == 0:\n",
    "    print(num, '为零')\n",
    "else:\n",
    "    print(num, '为负的数')"
   ]
  },
  {
   "cell_type": "markdown",
   "id": "00074683-bc4a-45eb-8b4f-4d71a14189cc",
   "metadata": {},
   "source": [
    "### 1.4.2 while语句"
   ]
  },
  {
   "cell_type": "markdown",
   "id": "69067c89-aa6a-42b7-8b85-9e265a72b03b",
   "metadata": {},
   "source": [
    "1.45 使用 while 语句对从 1 到 n 的自然数进行求和计算"
   ]
  },
  {
   "cell_type": "code",
   "execution_count": 42,
   "id": "c7422c13-a32f-46ea-8acd-0b8a438c0120",
   "metadata": {},
   "outputs": [
    {
     "name": "stdout",
     "output_type": "stream",
     "text": [
      "1 次合计 : 1\n",
      "2 次合计 : 3\n",
      "3 次合计 : 6\n",
      "4 次合计 : 10\n",
      "5 次合计 : 15\n"
     ]
    }
   ],
   "source": [
    "n = 5\n",
    "total = 0\n",
    "i = 1\n",
    "\n",
    "while i <= n:\n",
    "    total = total + i\n",
    "    print(i, '次合计 :', total )\n",
    "    i = i + 1"
   ]
  },
  {
   "cell_type": "markdown",
   "id": "f905e303-ca6a-4631-993d-9dd0fa68b9df",
   "metadata": {},
   "source": [
    "1.46 while 语句和 else 代码块的条件分支"
   ]
  },
  {
   "cell_type": "code",
   "execution_count": 43,
   "id": "e10eaa3c-3093-427f-9d07-3aea69cf49f9",
   "metadata": {},
   "outputs": [
    {
     "name": "stdout",
     "output_type": "stream",
     "text": [
      "1 次循环\n",
      "2 次循环\n",
      "3 次循环\n",
      "4 次循环\n",
      "5 次循环\n",
      "6 次循环\n",
      "7 次循环\n",
      "8 次循环\n",
      "9 次循环\n",
      "10 次循环\n",
      "条件表达式的值为False\n"
     ]
    }
   ],
   "source": [
    "count = 0\n",
    "n = 10\n",
    "\n",
    "while count < n:\n",
    "    count += 1\n",
    "    print(count, '次循环')    \n",
    "else:\n",
    "    print('条件表达式的值为False')"
   ]
  },
  {
   "cell_type": "markdown",
   "id": "3cd13962-f6cc-4672-8dab-e1955fe19fb6",
   "metadata": {},
   "source": [
    "### 1.4.3 for语句"
   ]
  },
  {
   "cell_type": "markdown",
   "id": "8a6b352c-2a20-42b2-a655-01db5a684bfa",
   "metadata": {},
   "source": [
    "1.47 for 语句的循环"
   ]
  },
  {
   "cell_type": "code",
   "execution_count": 44,
   "id": "2e020fa1-ea51-4420-969b-646dc2adf8fd",
   "metadata": {},
   "outputs": [
    {
     "name": "stdout",
     "output_type": "stream",
     "text": [
      "1 + 0\n",
      "2 + 1\n",
      "3 + 3\n",
      "4 + 6\n",
      "5 + 10\n",
      "15\n"
     ]
    }
   ],
   "source": [
    "nums = [1,2,3,4,5]\n",
    "total = 0\n",
    "\n",
    "for num in nums:\n",
    "    print(num, '+', total)\n",
    "    total = total + num\n",
    "\n",
    "print(total)"
   ]
  },
  {
   "cell_type": "markdown",
   "id": "2ce18c50-5e93-4bab-97aa-7271a383f6ab",
   "metadata": {},
   "source": [
    "1.48 使用 for 语句处理字符串的元素"
   ]
  },
  {
   "cell_type": "code",
   "execution_count": 45,
   "id": "6da499d2-003f-419d-8f07-c9990dc09a59",
   "metadata": {},
   "outputs": [
    {
     "name": "stdout",
     "output_type": "stream",
     "text": [
      "p\n",
      "a\n",
      "n\n",
      "d\n",
      "a\n",
      "s\n"
     ]
    }
   ],
   "source": [
    "letters = 'pandas'\n",
    "\n",
    "for letter in letters:\n",
    "    print(letter)"
   ]
  },
  {
   "cell_type": "markdown",
   "id": "ae42ebcf-5817-4639-9d0b-9585511824fd",
   "metadata": {},
   "source": [
    "1.49 range 函数值的查看"
   ]
  },
  {
   "cell_type": "code",
   "execution_count": 46,
   "id": "0f4b489a-b674-4c3d-b960-3613cce4a846",
   "metadata": {},
   "outputs": [
    {
     "name": "stdout",
     "output_type": "stream",
     "text": [
      "range(0, 5)\n",
      "<class 'range'>\n",
      "[0, 1, 2, 3, 4]\n"
     ]
    }
   ],
   "source": [
    "print(range(5))\n",
    "print(type(range(5)))\n",
    "print(list(range(5)))"
   ]
  },
  {
   "cell_type": "markdown",
   "id": "5eaeebe4-7801-43f7-a85a-31ddda9e3dd1",
   "metadata": {},
   "source": [
    "1.50 range 函数、len 函数与 for 语句实现的索引引用"
   ]
  },
  {
   "cell_type": "code",
   "execution_count": 47,
   "id": "e628de4c-ab73-41ba-9765-4b1a8e57147a",
   "metadata": {},
   "outputs": [
    {
     "name": "stdout",
     "output_type": "stream",
     "text": [
      "变量pet的元素数量  :  3\n",
      "变量pet的索引 0 cat\n",
      "变量pet的索引 1 dog\n",
      "变量pet的索引 2 fish\n"
     ]
    }
   ],
   "source": [
    "pet = ['cat', 'dog', 'fish']\n",
    "print('变量pet的元素数量  : ', len(pet))\n",
    "\n",
    "for i in range(len(pet)):\n",
    "    print('变量pet的索引', i, pet[i])"
   ]
  },
  {
   "cell_type": "markdown",
   "id": "94283159-5808-4d24-8deb-02a731060f67",
   "metadata": {},
   "source": [
    "### 1.4.4 break语句与continue语句"
   ]
  },
  {
   "cell_type": "markdown",
   "id": "10607804-4526-472a-85a5-6b9e22975e32",
   "metadata": {},
   "source": [
    "1.51 使用 break 语句中断 for 语句"
   ]
  },
  {
   "cell_type": "code",
   "execution_count": 48,
   "id": "525e98d8-8f25-44e8-bebb-4c821b40f157",
   "metadata": {},
   "outputs": [
    {
     "name": "stdout",
     "output_type": "stream",
     "text": [
      "1\n",
      "2\n"
     ]
    }
   ],
   "source": [
    "nums = [1,2,3,4,5]\n",
    "for num in nums:\n",
    "    if num == 3:\n",
    "        break\n",
    "    print(num)"
   ]
  },
  {
   "cell_type": "markdown",
   "id": "40b2e75e-8764-47e6-9e41-669375e41abf",
   "metadata": {},
   "source": [
    "1.52 使用 continue 语句跳过 for 语句"
   ]
  },
  {
   "cell_type": "code",
   "execution_count": 49,
   "id": "18cebde4-4af8-46cb-b48b-a3490c248e3a",
   "metadata": {},
   "outputs": [
    {
     "name": "stdout",
     "output_type": "stream",
     "text": [
      "1\n",
      "2\n",
      "4\n",
      "5\n"
     ]
    }
   ],
   "source": [
    "nums = [1,2,3,4,5]\n",
    "for num in nums:\n",
    "    if num == 3:\n",
    "        continue\n",
    "    print(num)"
   ]
  },
  {
   "cell_type": "markdown",
   "id": "112ef2ea-c11d-4fec-9239-79546c9c690d",
   "metadata": {},
   "source": [
    "### 1.4.5 函数"
   ]
  },
  {
   "cell_type": "markdown",
   "id": "ad881d1b-c39f-444d-9464-6fd022f13d9e",
   "metadata": {},
   "source": [
    "1.53 定义计算参数a和参数b乘积的multi函数"
   ]
  },
  {
   "cell_type": "code",
   "execution_count": 50,
   "id": "bbd1ce55-bd62-44e4-aa2a-682c8b9ddbe0",
   "metadata": {},
   "outputs": [],
   "source": [
    "def multi(a, b):\n",
    "    c = a * b\n",
    "    print(c)"
   ]
  },
  {
   "cell_type": "markdown",
   "id": "1dcd93b4-9169-4859-bb00-b2f3444b5a67",
   "metadata": {},
   "source": [
    "1.54 在定义后的 multi 函数中指定参数 3 和参数 5 并执行处理"
   ]
  },
  {
   "cell_type": "code",
   "execution_count": 51,
   "id": "7beb5b13-a512-4983-a6d5-16a7d3859433",
   "metadata": {},
   "outputs": [
    {
     "name": "stdout",
     "output_type": "stream",
     "text": [
      "15\n"
     ]
    }
   ],
   "source": [
    "multi(3, 5)"
   ]
  },
  {
   "cell_type": "markdown",
   "id": "6c1a1537-0065-4ec0-991c-ecf291bc336f",
   "metadata": {},
   "source": [
    "1.55 对返回绝对值的 absolute 函数进行定义"
   ]
  },
  {
   "cell_type": "code",
   "execution_count": 52,
   "id": "27061134-3390-4b26-95ec-5615a89b6fa1",
   "metadata": {},
   "outputs": [
    {
     "name": "stdout",
     "output_type": "stream",
     "text": [
      "5\n",
      "5\n"
     ]
    }
   ],
   "source": [
    "def absolute(a):\n",
    "    if a >= 0:\n",
    "        return a\n",
    "    else:\n",
    "        return -1 * a\n",
    "\n",
    "print(absolute(5))\n",
    "print(absolute(-5))"
   ]
  },
  {
   "cell_type": "markdown",
   "id": "97c461ff-2c42-4efe-90cd-72be12bf7eb0",
   "metadata": {},
   "source": [
    "1.56 定义位置参数与关键字参数"
   ]
  },
  {
   "cell_type": "code",
   "execution_count": 53,
   "id": "bb0312e0-4abb-4322-aa3e-5edaeb75bcf6",
   "metadata": {},
   "outputs": [
    {
     "name": "stdout",
     "output_type": "stream",
     "text": [
      "1\n",
      "-4\n"
     ]
    }
   ],
   "source": [
    "def cal(a, b, name=5):\n",
    "    return(a + b - name)\n",
    "\n",
    "print(cal(2, 4))\n",
    "print(cal(2, 4, name=10))"
   ]
  },
  {
   "cell_type": "markdown",
   "id": "ee6b138f-bdca-42bc-b96e-ab577e3cc27e",
   "metadata": {},
   "source": [
    "## 1.5 Jupyter Notebook的基本操作"
   ]
  },
  {
   "cell_type": "markdown",
   "id": "34f16b8c-9ab8-41cf-9b4f-0a0a41f3c54c",
   "metadata": {},
   "source": [
    "### 1.5.1 代码补全功能"
   ]
  },
  {
   "cell_type": "markdown",
   "id": "95e4d1cb-d353-4824-a56a-64d5308fe927",
   "metadata": {},
   "source": [
    "1.57 创建变量测试代码补全功能"
   ]
  },
  {
   "cell_type": "code",
   "execution_count": 54,
   "id": "b15c80bb-6b60-4f6b-9004-02d82ee325ef",
   "metadata": {},
   "outputs": [],
   "source": [
    "var_1 = 12345\n",
    "var_2 = '机器学习'"
   ]
  },
  {
   "cell_type": "markdown",
   "id": "64257c64-baf6-427a-972d-f3309706612c",
   "metadata": {},
   "source": [
    "### 1.5.2 对象类型信息查看"
   ]
  },
  {
   "cell_type": "markdown",
   "id": "6086d71e-7042-4ffb-8511-102ff67ae3b6",
   "metadata": {},
   "source": [
    "1.58 在 Jupyter Notebook 中进行对象信息查看"
   ]
  },
  {
   "cell_type": "code",
   "execution_count": 55,
   "id": "5bba0801-1722-47b9-8b80-83f0d485b924",
   "metadata": {},
   "outputs": [
    {
     "data": {
      "text/plain": [
       "\u001b[1;31mType:\u001b[0m        str\n",
       "\u001b[1;31mString form:\u001b[0m codexa\n",
       "\u001b[1;31mLength:\u001b[0m      6\n",
       "\u001b[1;31mDocstring:\u001b[0m  \n",
       "str(object='') -> str\n",
       "str(bytes_or_buffer[, encoding[, errors]]) -> str\n",
       "\n",
       "Create a new string object from the given object. If encoding or\n",
       "errors is specified, then the object must expose a data buffer\n",
       "that will be decoded using the given encoding and error handler.\n",
       "Otherwise, returns the result of object.__str__() (if defined)\n",
       "or repr(object).\n",
       "encoding defaults to sys.getdefaultencoding().\n",
       "errors defaults to 'strict'."
      ]
     },
     "metadata": {},
     "output_type": "display_data"
    }
   ],
   "source": [
    "obj = 'codexa'\n",
    "?obj"
   ]
  },
  {
   "cell_type": "markdown",
   "id": "f307edfe-0b98-4372-abfe-6f67b692ad42",
   "metadata": {},
   "source": [
    "1.59 range 函数的说明"
   ]
  },
  {
   "cell_type": "code",
   "execution_count": 56,
   "id": "55c637e3-b872-4e80-a1c8-a02ba2c645e2",
   "metadata": {},
   "outputs": [
    {
     "data": {
      "text/plain": [
       "\u001b[1;31mInit signature:\u001b[0m \u001b[0mrange\u001b[0m\u001b[1;33m(\u001b[0m\u001b[0mself\u001b[0m\u001b[1;33m,\u001b[0m \u001b[1;33m/\u001b[0m\u001b[1;33m,\u001b[0m \u001b[1;33m*\u001b[0m\u001b[0margs\u001b[0m\u001b[1;33m,\u001b[0m \u001b[1;33m**\u001b[0m\u001b[0mkwargs\u001b[0m\u001b[1;33m)\u001b[0m\u001b[1;33m\u001b[0m\u001b[1;33m\u001b[0m\u001b[0m\n",
       "\u001b[1;31mDocstring:\u001b[0m     \n",
       "range(stop) -> range object\n",
       "range(start, stop[, step]) -> range object\n",
       "\n",
       "Return an object that produces a sequence of integers from start (inclusive)\n",
       "to stop (exclusive) by step.  range(i, j) produces i, i+1, i+2, ..., j-1.\n",
       "start defaults to 0, and stop is omitted!  range(4) produces 0, 1, 2, 3.\n",
       "These are exactly the valid indices for a list of 4 elements.\n",
       "When step is given, it specifies the increment (or decrement).\n",
       "\u001b[1;31mType:\u001b[0m           type\n",
       "\u001b[1;31mSubclasses:\u001b[0m     "
      ]
     },
     "metadata": {},
     "output_type": "display_data"
    }
   ],
   "source": [
    "?range"
   ]
  },
  {
   "cell_type": "markdown",
   "id": "e13371bd-2826-457e-ac07-cd73ce87f765",
   "metadata": {},
   "source": [
    "### 1.5.3 魔法命令"
   ]
  },
  {
   "cell_type": "markdown",
   "id": "5569960d-da55-4012-95d4-8875f0082f8c",
   "metadata": {},
   "source": [
    "1.60 使用“%time”命令确认代码的执行速度"
   ]
  },
  {
   "cell_type": "code",
   "execution_count": 57,
   "id": "78b24b08-8a95-4d16-a1ba-5f524335cd73",
   "metadata": {},
   "outputs": [
    {
     "name": "stdout",
     "output_type": "stream",
     "text": [
      "CPU times: total: 15.6 ms\n",
      "Wall time: 3.52 ms\n"
     ]
    },
    {
     "data": {
      "text/plain": [
       "4999950000"
      ]
     },
     "execution_count": 57,
     "metadata": {},
     "output_type": "execute_result"
    }
   ],
   "source": [
    "n = 100000\n",
    "%time sum(range(n))"
   ]
  },
  {
   "cell_type": "markdown",
   "id": "86563bad-0227-4d30-8644-1d9e83b7f0e3",
   "metadata": {},
   "source": [
    "1.61 使用“%%time”命令测量整个单元的处理时间"
   ]
  },
  {
   "cell_type": "code",
   "execution_count": 58,
   "id": "78c65965-7e15-4c13-835d-36c943328b9f",
   "metadata": {},
   "outputs": [
    {
     "name": "stdout",
     "output_type": "stream",
     "text": [
      "4999950000\n",
      "CPU times: total: 0 ns\n",
      "Wall time: 7.54 ms\n"
     ]
    }
   ],
   "source": [
    "%%time\n",
    "n = 100000\n",
    "print(sum(range(n)))"
   ]
  },
  {
   "cell_type": "markdown",
   "id": "74b03f83-ea91-4655-843f-3346fbac8693",
   "metadata": {},
   "source": [
    "1.62 使用“%timeit”命令测量行潜入的处理"
   ]
  },
  {
   "cell_type": "code",
   "execution_count": 59,
   "id": "f7ffd9a0-ba02-4ff0-9547-1f03ac09de71",
   "metadata": {},
   "outputs": [
    {
     "name": "stdout",
     "output_type": "stream",
     "text": [
      "5.89 ns ± 0.0122 ns per loop (mean ± std. dev. of 7 runs, 100,000,000 loops each)\n"
     ]
    }
   ],
   "source": [
    "%timeit 100 * 100"
   ]
  },
  {
   "cell_type": "code",
   "execution_count": 60,
   "id": "bc76bf0c-94e9-4774-afe7-e66db8188392",
   "metadata": {},
   "outputs": [
    {
     "name": "stdout",
     "output_type": "stream",
     "text": [
      "5.9 ns ± 0.0315 ns per loop (mean ± std. dev. of 7 runs, 100,000,000 loops each)\n"
     ]
    }
   ],
   "source": [
    "%%timeit\n",
    "99 * 99"
   ]
  },
  {
   "cell_type": "markdown",
   "id": "2aea385f-ed2a-4268-bd2e-989264814d5e",
   "metadata": {},
   "source": [
    "1.63 使用“%matplotlib inline”命令绘制图表并进行显示"
   ]
  },
  {
   "cell_type": "code",
   "execution_count": 61,
   "id": "648f11c5-cc27-46ac-bbad-239cd46bbbd9",
   "metadata": {},
   "outputs": [],
   "source": [
    "%matplotlib inline"
   ]
  },
  {
   "cell_type": "markdown",
   "id": "1a49f943-7373-482d-9a58-16d95d2eb7d3",
   "metadata": {},
   "source": [
    "1.64 使用“%whos”命令对所有变量一览表进行显示"
   ]
  },
  {
   "cell_type": "code",
   "execution_count": 62,
   "id": "c2ef564b-e780-4e71-9ecb-4a2191105116",
   "metadata": {},
   "outputs": [
    {
     "name": "stdout",
     "output_type": "stream",
     "text": [
      "Variable     Type        Data/Info\n",
      "----------------------------------\n",
      "ABC          int         67890\n",
      "a            set         {1, 2, 3, 4, 5}\n",
      "ab           str         我的年龄是\\n12\\n岁\\n\n",
      "abc          int         12345\n",
      "absolute     function    <function absolute at 0x0000019CAD1CEB60>\n",
      "b            set         {2, 3, 6, 7, 8}\n",
      "c            set         {1, 2, 3, 4, 5}\n",
      "cal          function    <function cal at 0x0000019CAD1CEDE0>\n",
      "cd           str         我的年龄是12岁\n",
      "count        int         10\n",
      "d            float       0.00123\n",
      "four         tuple       n=3\n",
      "i            int         2\n",
      "letter       str         s\n",
      "letters      str         pandas\n",
      "matplotlib   module      <module 'matplotlib' from<...>matplotlib\\\\__init__.py'>\n",
      "multi        function    <function multi at 0x0000019CAD1CE200>\n",
      "n            int         100000\n",
      "nest         tuple       n=2\n",
      "np           module      <module 'numpy' from 'C:\\<...>ges\\\\numpy\\\\__init__.py'>\n",
      "num          int         5\n",
      "numpy        module      <module 'numpy' from 'C:\\<...>ges\\\\numpy\\\\__init__.py'>\n",
      "nums         list        n=5\n",
      "obj          str         codexa\n",
      "one          int         4\n",
      "pandas       module      <module 'pandas' from 'C:<...>es\\\\pandas\\\\__init__.py'>\n",
      "pd           module      <module 'pandas' from 'C:<...>es\\\\pandas\\\\__init__.py'>\n",
      "pet          list        n=3\n",
      "plt          module      <module 'matplotlib.pyplo<...>\\\\matplotlib\\\\pyplot.py'>\n",
      "random       module      <module 'random' from 'C:<...>thon311\\\\Lib\\\\random.py'>\n",
      "sys          module      <module 'sys' (built-in)>\n",
      "three        int         6\n",
      "total        int         15\n",
      "tup_1        tuple       n=3\n",
      "tup_2        tuple       n=4\n",
      "two          int         5\n",
      "var_1        int         12345\n",
      "var_2        str         机器学习\n"
     ]
    }
   ],
   "source": [
    "%whos"
   ]
  },
  {
   "cell_type": "markdown",
   "id": "06cc72d9-3fdd-462c-9e36-016ef2fea1b2",
   "metadata": {},
   "source": [
    "1.64 : 显示用%whos function定义的函数列表"
   ]
  },
  {
   "cell_type": "code",
   "execution_count": 63,
   "id": "773a5b11-700e-4964-832f-8ce8d414e980",
   "metadata": {},
   "outputs": [
    {
     "name": "stdout",
     "output_type": "stream",
     "text": [
      "Variable   Type    Data/Info\n",
      "----------------------------\n",
      "ab         str     我的年龄是\\n12\\n岁\\n\n",
      "cd         str     我的年龄是12岁\n",
      "letter     str     s\n",
      "letters    str     pandas\n",
      "obj        str     codexa\n",
      "var_2      str     机器学习\n"
     ]
    }
   ],
   "source": [
    "%whos str"
   ]
  }
 ],
 "metadata": {
  "kernelspec": {
   "display_name": "Python 3 (ipykernel)",
   "language": "python",
   "name": "python3"
  },
  "language_info": {
   "codemirror_mode": {
    "name": "ipython",
    "version": 3
   },
   "file_extension": ".py",
   "mimetype": "text/x-python",
   "name": "python",
   "nbconvert_exporter": "python",
   "pygments_lexer": "ipython3",
   "version": "3.11.4"
  }
 },
 "nbformat": 4,
 "nbformat_minor": 5
}
