{
 "cells": [
  {
   "cell_type": "markdown",
   "id": "0f14c191-75da-468d-abc0-dfef24561064",
   "metadata": {},
   "source": [
    "## 2.1　简单线性回归"
   ]
  },
  {
   "cell_type": "code",
   "execution_count": 1,
   "id": "b55ef398-8c93-414d-a04f-c41473273c4b",
   "metadata": {},
   "outputs": [
    {
     "data": {
      "text/plain": [
       "'1.3.1'"
      ]
     },
     "execution_count": 1,
     "metadata": {},
     "output_type": "execute_result"
    }
   ],
   "source": [
    "import sklearn\n",
    "sklearn.__version__"
   ]
  },
  {
   "cell_type": "markdown",
   "id": "27deb3a3-1a9e-4ab7-8651-0c45612ba1f8",
   "metadata": {},
   "source": [
    "代码2.1"
   ]
  },
  {
   "cell_type": "code",
   "execution_count": 2,
   "id": "21d83316-1fbc-449c-b9ac-f65ddba4754b",
   "metadata": {},
   "outputs": [
    {
     "data": {
      "image/png": "[encoded data removed]",
      "text/plain": [
       "<Figure size 640x480 with 1 Axes>"
      ]
     },
     "metadata": {},
     "output_type": "display_data"
    }
   ],
   "source": [
    "import numpy as np\n",
    "import matplotlib.pyplot as plt\n",
    "# \"np\" 和 \"plt\" 分别是Numpy库和Matplotlib库的常用别名\n",
    "\n",
    "# 在scikit-learn中的一个惯用法是将特征向量的矩形命名为X\n",
    "# 大写字母表示矩阵，小写字母表示向量\n",
    "\n",
    "X = np.array([[6], [8], [10], [14], [18]]).reshape(-1, 1)\n",
    "# X表示我们的训练数据的特征，即披萨的直径\n",
    "y = [7, 9, 13, 17.5, 18]\n",
    "# y是一个表示披萨价格的向量\n",
    "\n",
    "plt.figure()\n",
    "plt.title('Pizza price plotted against diameter')\n",
    "plt.xlabel('Diameter in inches')\n",
    "plt.ylabel('Price in dollars')\n",
    "plt.plot(X, y, 'k.')\n",
    "plt.axis([0, 25, 0, 25])\n",
    "plt.grid(True)\n",
    "plt.show()"
   ]
  },
  {
   "cell_type": "markdown",
   "id": "f9fb5483-b4bc-48c4-b132-e508b023d2b6",
   "metadata": {},
   "source": [
    "代码2.2"
   ]
  },
  {
   "cell_type": "code",
   "execution_count": 3,
   "id": "9123e28e-31e1-4a59-a34e-fd9a57caba8b",
   "metadata": {},
   "outputs": [
    {
     "name": "stdout",
     "output_type": "stream",
     "text": [
      "A 12\" pizza should cost: $13.68\n"
     ]
    }
   ],
   "source": [
    "from sklearn.linear_model import LinearRegression\n",
    "model = LinearRegression()  # 创建一个估计器实例\n",
    "model.fit(X, y)  # 用训练数据拟合模型\n",
    "\n",
    "test_pizza = np.array([[12]])\n",
    "predicted_price = model.predict(test_pizza)[0]\n",
    "# 预测一个直径之前从未见过的披萨的价格\n",
    "print('A 12\" pizza should cost: $%.2f' % predicted_price)"
   ]
  },
  {
   "cell_type": "markdown",
   "id": "fd5e9c10-7fcf-481f-9939-6348e8262489",
   "metadata": {},
   "source": [
    "### 2.1.1　用代价函数评价模型的拟合性"
   ]
  },
  {
   "cell_type": "markdown",
   "id": "a350b6fb-c3c5-4dfc-84c3-be40cbc0aab9",
   "metadata": {},
   "source": [
    "代码2.3"
   ]
  },
  {
   "cell_type": "code",
   "execution_count": 4,
   "id": "98d8f457-7e7c-45b9-a9b8-59d9579b0154",
   "metadata": {},
   "outputs": [
    {
     "name": "stdout",
     "output_type": "stream",
     "text": [
      "Residual sum of squares: 1.75\n"
     ]
    }
   ],
   "source": [
    "print('Residual sum of squares: %.2f' % np.mean((model.predict(X)- y) ** 2))"
   ]
  },
  {
   "cell_type": "markdown",
   "id": "374d6360-f091-466e-9741-f9f17f454b51",
   "metadata": {},
   "source": [
    "### 2.1.2　求解简单线性回归的OLS"
   ]
  },
  {
   "cell_type": "markdown",
   "id": "d4a1175a-6db2-45d9-b537-8ec132742680",
   "metadata": {},
   "source": [
    "代码2.4"
   ]
  },
  {
   "cell_type": "code",
   "execution_count": 5,
   "id": "182d1e24-4865-4e8e-b60e-fea4889d5514",
   "metadata": {},
   "outputs": [
    {
     "name": "stdout",
     "output_type": "stream",
     "text": [
      "11.2\n",
      "23.2\n"
     ]
    }
   ],
   "source": [
    "import numpy as np\n",
    "\n",
    "X = np.array([[6], [8], [10], [14], [18]]).reshape(-1, 1)\n",
    "x_bar = X.mean()\n",
    "print(x_bar)\n",
    "\n",
    "# 注意我们在计算样本方差的时候将样本的数量减去1\n",
    "# 这项技巧称为贝塞尔校正，它纠正了对样本中总体方差估计的偏差\n",
    "\n",
    "variance = ((X - x_bar)**2).sum() / (X.shape[0] - 1)\n",
    "print(variance)"
   ]
  },
  {
   "cell_type": "markdown",
   "id": "2c6bcfe4-47b6-4339-93d7-67589f9c5549",
   "metadata": {},
   "source": [
    "代码2.5"
   ]
  },
  {
   "cell_type": "code",
   "execution_count": 6,
   "id": "67dd7c89-d9cb-4c96-945a-c658f9b5318f",
   "metadata": {},
   "outputs": [
    {
     "name": "stdout",
     "output_type": "stream",
     "text": [
      "23.2\n"
     ]
    }
   ],
   "source": [
    "print(np.var(X, ddof=1))"
   ]
  },
  {
   "cell_type": "markdown",
   "id": "a94d8d5d-1dcd-4ad0-b013-8ddcb8be9dc8",
   "metadata": {},
   "source": [
    "代码2.6"
   ]
  },
  {
   "cell_type": "code",
   "execution_count": 7,
   "id": "13de6b5a-e62b-4672-9220-8c6b02224ba8",
   "metadata": {},
   "outputs": [
    {
     "name": "stdout",
     "output_type": "stream",
     "text": [
      "22.65\n",
      "22.650000000000002\n"
     ]
    }
   ],
   "source": [
    "# 之前我们使用一个列表表示y\n",
    "# 在这里我们改为使用一个Numpy多位数组，它包含了几个计算样本均值的方法\n",
    "y = np.array([7, 9, 13, 17.5, 18])\n",
    "\n",
    "y_bar = y.mean()\n",
    "# 我们将X转置，因为所有的操作都必须是行向量\n",
    "covariance = np.multiply((X - x_bar).transpose(), y - y_bar).sum()/(X.shape[0] - 1)\n",
    "print(covariance)\n",
    "print(np.cov(X.transpose(), y)[0][1])"
   ]
  },
  {
   "cell_type": "markdown",
   "id": "d14d219c-4945-4dfa-a20c-90e029aede51",
   "metadata": {},
   "source": [
    "## 2.2　评价模型"
   ]
  },
  {
   "cell_type": "markdown",
   "id": "2963b6f8-bb1d-4029-bc96-804dfcf59101",
   "metadata": {},
   "source": [
    "代码2.7"
   ]
  },
  {
   "cell_type": "code",
   "execution_count": 8,
   "id": "823055d1-cb87-4034-b159-a24537ecfac6",
   "metadata": {},
   "outputs": [
    {
     "name": "stdout",
     "output_type": "stream",
     "text": [
      "0.6620052929422553\n"
     ]
    }
   ],
   "source": [
    "import numpy as np\n",
    "from sklearn.linear_model import LinearRegression\n",
    "\n",
    "X_train = np.array([6, 8, 10, 14, 18]).reshape(-1, 1)\n",
    "y_train = [7, 9, 13, 17.5, 18]\n",
    "\n",
    "X_test = np.array([8, 9, 11, 16, 12]).reshape(-1, 1)\n",
    "y_test = [11, 8.5, 15, 18, 11]\n",
    "\n",
    "model = LinearRegression()\n",
    "model.fit(X_train, y_train)\n",
    "r_squared = model.score(X_test, y_test)\n",
    "print(r_squared )"
   ]
  },
  {
   "cell_type": "markdown",
   "id": "042e124a-b16b-42e1-aeff-8dcb6bb981f1",
   "metadata": {},
   "source": [
    "## 2.3　小结"
   ]
  }
 ],
 "metadata": {
  "kernelspec": {
   "display_name": "Python 3 (ipykernel)",
   "language": "python",
   "name": "python3"
  },
  "language_info": {
   "codemirror_mode": {
    "name": "ipython",
    "version": 3
   },
   "file_extension": ".py",
   "mimetype": "text/x-python",
   "name": "python",
   "nbconvert_exporter": "python",
   "pygments_lexer": "ipython3",
   "version": "3.11.4"
  }
 },
 "nbformat": 4,
 "nbformat_minor": 5
}
