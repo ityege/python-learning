{
 "cells": [
  {
   "cell_type": "markdown",
   "id": "f5092614-71c0-4104-bb5e-1ce18481211b",
   "metadata": {},
   "source": [
    "## 14.1 主成分分析"
   ]
  },
  {
   "cell_type": "markdown",
   "id": "64c3f8ee-f205-420d-b5cf-132a01091657",
   "metadata": {},
   "source": [
    "### 14.1.1 方差、协方差和协方差矩阵"
   ]
  },
  {
   "cell_type": "markdown",
   "id": "c9fe2917-40f1-4a5d-975f-2d1225231e30",
   "metadata": {},
   "source": [
    "代码 14.1"
   ]
  },
  {
   "cell_type": "code",
   "execution_count": 1,
   "id": "2b2d8c13-16cb-4f7d-a59b-601d993b4478",
   "metadata": {},
   "outputs": [
    {
     "name": "stdout",
     "output_type": "stream",
     "text": [
      "[[2.92       3.16       2.95       2.67      ]\n",
      " [3.16       3.43       3.175      2.885     ]\n",
      " [2.95       3.175      3.01       2.705     ]\n",
      " [2.67       2.885      2.705      2.44333333]]\n"
     ]
    }
   ],
   "source": [
    "import numpy as np\n",
    "\n",
    "X = np.array([\n",
    "    [2, 0, -1.4],\n",
    "    [2.2, 0.2, -1.5],\n",
    "    [2.4, 0.1, -1],\n",
    "    [1.9, 0, -1.2]\n",
    "])\n",
    "print(np.cov(X).T)"
   ]
  },
  {
   "cell_type": "markdown",
   "id": "c11d3b41-64a2-4f9b-98aa-c7fed4430dbd",
   "metadata": {},
   "source": [
    "### 14.1.2 特征向量和特征值"
   ]
  },
  {
   "cell_type": "markdown",
   "id": "9a2aacf2-e8cf-48c2-a1ed-33a8c907e125",
   "metadata": {},
   "source": [
    "代码 14.2"
   ]
  },
  {
   "cell_type": "code",
   "execution_count": 2,
   "id": "bf1dc330-82e9-411d-ad10-5d9af8f6f8ae",
   "metadata": {},
   "outputs": [
    {
     "name": "stdout",
     "output_type": "stream",
     "text": [
      "[-0.99999998 -1.00000002]\n",
      "[[0.70710678 0.70710678]\n",
      " [0.70710678 0.70710678]]\n"
     ]
    }
   ],
   "source": [
    "import numpy as np\n",
    "\n",
    "w, v = np.linalg.eig(np.array([[1, -2], [2, -3]]))\n",
    "print(w)\n",
    "print(v)"
   ]
  },
  {
   "cell_type": "markdown",
   "id": "c13ccf85-733b-443a-80ed-8054a8bfc285",
   "metadata": {},
   "source": [
    "### 14.1.3 进行主成分分析"
   ]
  },
  {
   "cell_type": "markdown",
   "id": "783f827a-1cce-49e5-b378-c27b3fd66a9a",
   "metadata": {},
   "source": [
    "## 14.2 使用 PCA 对高维数据可视化"
   ]
  },
  {
   "cell_type": "markdown",
   "id": "84a93e5d-c52d-4441-8e1b-56ac68eeb4ee",
   "metadata": {},
   "source": [
    "代码 14.3"
   ]
  },
  {
   "cell_type": "code",
   "execution_count": 3,
   "id": "100079e1-da0b-4057-9a17-ec280b09484f",
   "metadata": {},
   "outputs": [],
   "source": [
    "# https://archive.ics.uci.edu/dataset/53/iris"
   ]
  },
  {
   "cell_type": "code",
   "execution_count": 4,
   "id": "83975c05-9347-4a07-914a-799c849578fc",
   "metadata": {},
   "outputs": [
    {
     "data": {
      "image/png": "[encoded data removed]",
      "text/plain": [
       "<Figure size 640x480 with 1 Axes>"
      ]
     },
     "metadata": {},
     "output_type": "display_data"
    }
   ],
   "source": [
    "import matplotlib.pyplot as plt\n",
    "from sklearn.decomposition import PCA\n",
    "import pandas as pd\n",
    "\n",
    "# 读取iris.data文件\n",
    "data = pd.read_csv('./iris.data', header=None)\n",
    "\n",
    "# 提取特征矩阵（前四列）\n",
    "X = data.iloc[:, :-1].values\n",
    "\n",
    "# 提取目标向量（最后一列）\n",
    "y = data.iloc[:, -1].values\n",
    "pca = PCA(n_components=2)\n",
    "reduced_X = pca.fit_transform(X)\n",
    "\n",
    "red_x, red_y = [], []\n",
    "blue_x, blue_y = [], []\n",
    "green_x, green_y = [], []\n",
    "for i in range(len(reduced_X)):\n",
    "    if y[i] == 0:\n",
    "        red_x.append(reduced_X[i][0])\n",
    "        red_y.append(reduced_X[i][1])\n",
    "    elif y[i] == 1:\n",
    "        blue_x.append(reduced_X[i][0])\n",
    "        blue_y.append(reduced_X[i][1])\n",
    "    else:\n",
    "        green_x.append(reduced_X[i][0])\n",
    "        green_y.append(reduced_X[i][1])\n",
    "plt.scatter(red_x, red_y, c='r', marker='x')\n",
    "plt.scatter(blue_x, blue_y, c='b', marker='D')\n",
    "plt.scatter(green_x, green_y, c='g', marker='.')\n",
    "plt.show()"
   ]
  },
  {
   "cell_type": "markdown",
   "id": "7cdc647d-24c7-4d48-a8f3-1b5de2a0bc44",
   "metadata": {},
   "source": [
    "## 14.3 使用 PCA 进行面部识别"
   ]
  },
  {
   "cell_type": "markdown",
   "id": "d56eef0e-9290-4159-9030-8b24bd849130",
   "metadata": {},
   "source": [
    "代码 14.4"
   ]
  },
  {
   "cell_type": "code",
   "execution_count": 5,
   "id": "a6eb3887-d4cf-4ff5-88b9-9550a78bab92",
   "metadata": {},
   "outputs": [],
   "source": [
    "import os\n",
    "import numpy as np\n",
    "from sklearn.model_selection import train_test_split\n",
    "from sklearn.model_selection import cross_val_score\n",
    "from sklearn.preprocessing import scale\n",
    "from sklearn.decomposition import PCA\n",
    "from sklearn.linear_model import LogisticRegression\n",
    "from sklearn.metrics import classification_report\n",
    "from PIL import Image\n",
    "\n",
    "X = []\n",
    "y = []\n",
    "for dirpath, _, filenames in os.walk('./orl_faces'):\n",
    "    for filename in filenames:\n",
    "        if filename[-3:] == 'pgm':\n",
    "            img = Image.open(os.path.join(dirpath, filename)).convert('L')\n",
    "            arr = np.array(img).reshape(10304).astype('float32') / 255.\n",
    "            X.append(arr)\n",
    "            y.append(dirpath)\n",
    "X = scale(X)\n"
   ]
  },
  {
   "cell_type": "markdown",
   "id": "12f55ebe-474d-4ac4-a96d-2b52fbc9af34",
   "metadata": {},
   "source": [
    "代码 14.5"
   ]
  },
  {
   "cell_type": "code",
   "execution_count": 6,
   "id": "ea6e717b-7b2a-48f9-ad9e-959719743c90",
   "metadata": {},
   "outputs": [],
   "source": [
    "X_train, X_test, y_train, y_test = train_test_split(X, y)\n",
    "pca = PCA(n_components=150)"
   ]
  },
  {
   "cell_type": "markdown",
   "id": "030e2da7-5af0-4ffe-9113-a05d8f7a7755",
   "metadata": {},
   "source": [
    "代码 14.6"
   ]
  },
  {
   "cell_type": "code",
   "execution_count": 7,
   "id": "a62ea696-14fd-47b1-9826-e3a54a001a3e",
   "metadata": {},
   "outputs": [
    {
     "name": "stdout",
     "output_type": "stream",
     "text": [
      "(300, 10304)\n",
      "(300, 150)\n",
      "Cross validation accuracy: 0.9566666666666667\n",
      "                 precision    recall  f1-score   support\n",
      "\n",
      " ./orl_faces\\s1       1.00      1.00      1.00         1\n",
      "./orl_faces\\s10       1.00      1.00      1.00         5\n",
      "./orl_faces\\s11       1.00      1.00      1.00         3\n",
      "./orl_faces\\s12       1.00      1.00      1.00         2\n",
      "./orl_faces\\s13       1.00      1.00      1.00         2\n",
      "./orl_faces\\s14       1.00      1.00      1.00         2\n",
      "./orl_faces\\s15       1.00      1.00      1.00         2\n",
      "./orl_faces\\s16       1.00      1.00      1.00         4\n",
      "./orl_faces\\s17       1.00      1.00      1.00         2\n",
      "./orl_faces\\s18       1.00      1.00      1.00         1\n",
      "./orl_faces\\s19       1.00      1.00      1.00         2\n",
      " ./orl_faces\\s2       1.00      1.00      1.00         4\n",
      "./orl_faces\\s20       1.00      1.00      1.00         3\n",
      "./orl_faces\\s21       1.00      1.00      1.00         3\n",
      "./orl_faces\\s22       1.00      1.00      1.00         2\n",
      "./orl_faces\\s23       1.00      1.00      1.00         3\n",
      "./orl_faces\\s24       1.00      1.00      1.00         1\n",
      "./orl_faces\\s25       1.00      1.00      1.00         3\n",
      "./orl_faces\\s26       1.00      1.00      1.00         4\n",
      "./orl_faces\\s27       1.00      1.00      1.00         4\n",
      "./orl_faces\\s28       1.00      0.75      0.86         4\n",
      "./orl_faces\\s29       1.00      1.00      1.00         2\n",
      " ./orl_faces\\s3       1.00      1.00      1.00         1\n",
      "./orl_faces\\s30       1.00      1.00      1.00         4\n",
      "./orl_faces\\s31       1.00      1.00      1.00         1\n",
      "./orl_faces\\s32       1.00      1.00      1.00         2\n",
      "./orl_faces\\s34       1.00      1.00      1.00         3\n",
      "./orl_faces\\s35       1.00      1.00      1.00         2\n",
      "./orl_faces\\s36       1.00      1.00      1.00         1\n",
      "./orl_faces\\s37       0.67      1.00      0.80         2\n",
      "./orl_faces\\s38       1.00      1.00      1.00         3\n",
      "./orl_faces\\s39       1.00      1.00      1.00         4\n",
      " ./orl_faces\\s4       1.00      1.00      1.00         1\n",
      "./orl_faces\\s40       1.00      1.00      1.00         2\n",
      " ./orl_faces\\s5       1.00      1.00      1.00         3\n",
      " ./orl_faces\\s6       1.00      1.00      1.00         5\n",
      " ./orl_faces\\s7       1.00      1.00      1.00         3\n",
      " ./orl_faces\\s8       1.00      1.00      1.00         2\n",
      " ./orl_faces\\s9       1.00      1.00      1.00         2\n",
      "\n",
      "       accuracy                           0.99       100\n",
      "      macro avg       0.99      0.99      0.99       100\n",
      "   weighted avg       0.99      0.99      0.99       100\n",
      "\n"
     ]
    }
   ],
   "source": [
    "X_train_reduced = pca.fit_transform(X_train)\n",
    "X_test_reduced = pca.transform(X_test)\n",
    "print(X_train.shape)\n",
    "print(X_train_reduced.shape)\n",
    "classifier = LogisticRegression(max_iter=1000)\n",
    "from sklearn.model_selection import StratifiedKFold\n",
    "skf = StratifiedKFold(n_splits=5)\n",
    "accuracies = cross_val_score(classifier, X_train_reduced, y_train, cv=skf)\n",
    "print('Cross validation accuracy: %s' % np.mean(accuracies))\n",
    "classifier.fit(X_train_reduced, y_train)\n",
    "predictions = classifier.predict(X_test_reduced)\n",
    "print(classification_report(y_test, predictions,zero_division=1))"
   ]
  }
 ],
 "metadata": {
  "kernelspec": {
   "display_name": "Python 3 (ipykernel)",
   "language": "python",
   "name": "python3"
  },
  "language_info": {
   "codemirror_mode": {
    "name": "ipython",
    "version": 3
   },
   "file_extension": ".py",
   "mimetype": "text/x-python",
   "name": "python",
   "nbconvert_exporter": "python",
   "pygments_lexer": "ipython3",
   "version": "3.11.4"
  }
 },
 "nbformat": 4,
 "nbformat_minor": 5
}
