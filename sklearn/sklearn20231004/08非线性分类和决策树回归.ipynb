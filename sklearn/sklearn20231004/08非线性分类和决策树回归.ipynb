{
 "cells": [
  {
   "cell_type": "markdown",
   "id": "242b7352-dbe7-4958-834d-e8958d893cf0",
   "metadata": {},
   "source": [
    "## 8.1 决策树"
   ]
  },
  {
   "cell_type": "markdown",
   "id": "03f68c91-f331-4151-92ae-a7ba97ff4109",
   "metadata": {},
   "source": [
    "## 8.2 训练决策树"
   ]
  },
  {
   "cell_type": "markdown",
   "id": "4abe96f8-a52b-464f-8f34-32b0a1dbb096",
   "metadata": {},
   "source": [
    "### 8.2.1 选择问题"
   ]
  },
  {
   "cell_type": "markdown",
   "id": "06a7c71f-55ef-4e61-9616-19eb99a29df2",
   "metadata": {},
   "source": [
    "### 8.2.2 基尼不纯度"
   ]
  },
  {
   "cell_type": "markdown",
   "id": "35a56ee9-6bf1-42be-ba9a-1bad543c2fba",
   "metadata": {},
   "source": [
    "## 8.3 使用 scikit-learn 类库创建决策树"
   ]
  },
  {
   "cell_type": "markdown",
   "id": "2e79977c-5c25-489c-a329-2878c60df056",
   "metadata": {},
   "source": [
    "代码 8.1"
   ]
  },
  {
   "cell_type": "code",
   "execution_count": 1,
   "id": "b45ec51f-506d-4fca-8b7c-03fa400a31d7",
   "metadata": {},
   "outputs": [],
   "source": [
    "# http://archive.ics.uci.edu/ml/datasets/Internet+Advertisements"
   ]
  },
  {
   "cell_type": "code",
   "execution_count": 2,
   "id": "2afb85e4-4f7a-4433-a27a-d6b619af9520",
   "metadata": {},
   "outputs": [
    {
     "name": "stdout",
     "output_type": "stream",
     "text": [
      "Fitting 5 folds for each of 18 candidates, totalling 90 fits\n",
      "Best score: 0.883\n",
      "Best parameters set:\n",
      "tclf__max_depth: 160\n",
      "tclf__min_samples_leaf: 3\n",
      "tclf__min_samples_split: 2\n",
      "              precision    recall  f1-score   support\n",
      "\n",
      "           0       0.98      0.98      0.98       718\n",
      "           1       0.88      0.87      0.88       102\n",
      "\n",
      "    accuracy                           0.97       820\n",
      "   macro avg       0.93      0.93      0.93       820\n",
      "weighted avg       0.97      0.97      0.97       820\n",
      "\n"
     ]
    }
   ],
   "source": [
    "import pandas as pd\n",
    "from sklearn.tree import DecisionTreeClassifier\n",
    "from sklearn.metrics import classification_report\n",
    "from sklearn.pipeline import Pipeline\n",
    "from sklearn.model_selection import train_test_split, GridSearchCV\n",
    "\n",
    "df = pd.read_csv('./ad.data', header=None,low_memory=False)\n",
    "explanatory_variable_columns = set(df.columns.values)\n",
    "explanatory_variable_columns.remove(len(df.columns.values) - 1)\n",
    "response_variable_column = df[len(df.columns.values) - 1]  # The last column describes the classes\n",
    "y = [1 if e == 'ad.' else 0 for e in response_variable_column]\n",
    "X = df[list(explanatory_variable_columns)].copy()\n",
    "X.replace(to_replace=' *?', value=-1, regex=True, inplace=True)\n",
    "X_train, X_test, y_train, y_test = train_test_split(X, y)\n",
    "pipeline = Pipeline([('clf', DecisionTreeClassifier(criterion='entropy'))])\n",
    "parameters = {\n",
    "    'clf__max_depth': (150, 155, 160),\n",
    "    'clf__min_samples_split': (2, 3),\n",
    "    'clf__min_samples_leaf': (1, 2, 3)\n",
    "}\n",
    "grid_search = GridSearchCV(pipeline, parameters, n_jobs=-1, verbose=1, scoring='f1')\n",
    "grid_search.fit(X_train, y_train)\n",
    "best_parameters = grid_search.best_estimator_.get_params()\n",
    "print('Best score: %0.3f' % grid_search.best_score_)\n",
    "print('Best parameters set:')\n",
    "for param_name in sorted(parameters.keys()):\n",
    "    print('t%s: %r' % (param_name, best_parameters[param_name]))\n",
    "predictions = grid_search.predict(X_test)\n",
    "print(classification_report(y_test, predictions))"
   ]
  }
 ],
 "metadata": {
  "kernelspec": {
   "display_name": "Python 3 (ipykernel)",
   "language": "python",
   "name": "python3"
  },
  "language_info": {
   "codemirror_mode": {
    "name": "ipython",
    "version": 3
   },
   "file_extension": ".py",
   "mimetype": "text/x-python",
   "name": "python",
   "nbconvert_exporter": "python",
   "pygments_lexer": "ipython3",
   "version": "3.11.4"
  }
 },
 "nbformat": 4,
 "nbformat_minor": 5
}
