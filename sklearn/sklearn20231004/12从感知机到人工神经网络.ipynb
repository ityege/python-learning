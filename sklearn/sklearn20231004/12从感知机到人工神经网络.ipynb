{
 "cells": [
  {
   "cell_type": "markdown",
   "id": "e031ebd0-1b34-4e7e-9def-94fa16e8e139",
   "metadata": {},
   "source": [
    "## 12.1 非线性决策边界"
   ]
  },
  {
   "cell_type": "markdown",
   "id": "b3eb3543-5074-4ea6-8962-aab742013ab8",
   "metadata": {},
   "source": [
    "## 12.2 前馈人工神经网络和反馈人工神经网络"
   ]
  },
  {
   "cell_type": "markdown",
   "id": "506316cb-5da1-4844-8687-aa226193b6e3",
   "metadata": {},
   "source": [
    "## 12.3 多层感知机"
   ]
  },
  {
   "cell_type": "markdown",
   "id": "c96b0ebe-85d9-422d-a8d8-a0e39934533d",
   "metadata": {},
   "source": [
    "## 12.4 训练多层感知机"
   ]
  },
  {
   "cell_type": "markdown",
   "id": "d8182638-35e7-4ea0-9047-e5e428d499c2",
   "metadata": {},
   "source": [
    "### 12.4.1 反向传播"
   ]
  },
  {
   "cell_type": "markdown",
   "id": "79c501ab-c532-48b4-b8c3-cf69f0a431d3",
   "metadata": {},
   "source": [
    "### 12.4.2 训练一个多层感知机逼近 XOR 函数"
   ]
  },
  {
   "cell_type": "markdown",
   "id": "631b566e-dd59-4099-8ca9-18442e32bfe8",
   "metadata": {},
   "source": [
    "代码 12.1"
   ]
  },
  {
   "cell_type": "code",
   "execution_count": 1,
   "id": "b551e548-54f7-4154-83db-b54acf737d51",
   "metadata": {},
   "outputs": [
    {
     "name": "stdout",
     "output_type": "stream",
     "text": [
      "Accuracy: 1.0\n",
      "True: 0, Predicted: 0\n",
      "True: 1, Predicted: 1\n",
      "True: 1, Predicted: 1\n",
      "True: 0, Predicted: 0\n"
     ]
    }
   ],
   "source": [
    "from sklearn.model_selection import train_test_split\n",
    "from sklearn.neural_network import MLPClassifier\n",
    "\n",
    "y = [0, 1, 1, 0]\n",
    "X = [[0, 0], [0, 1], [1, 0], [1, 1]]\n",
    "clf = MLPClassifier(solver='lbfgs', activation='logistic', hidden_layer_sizes=(2,), random_state=20)\n",
    "clf.fit(X, y)\n",
    "predictions = clf.predict(X)\n",
    "print('Accuracy: %s' % clf.score(X, y))\n",
    "for i, p in enumerate(predictions):\n",
    "    print('True: %s, Predicted: %s' % (y[i], p))"
   ]
  },
  {
   "cell_type": "markdown",
   "id": "ac17be9d-9ff8-4336-a734-f5b117fd2545",
   "metadata": {},
   "source": [
    "代码 12.2"
   ]
  },
  {
   "cell_type": "code",
   "execution_count": 2,
   "id": "70d885b7-6cdc-4e46-bcd7-a988f5322ccc",
   "metadata": {},
   "outputs": [
    {
     "name": "stdout",
     "output_type": "stream",
     "text": [
      "Weights connecting the input layer and the hidden layer: \n",
      "[[6.11803923 6.35656372]\n",
      " [5.79147877 6.14551934]]\n",
      "Hidden layer bias weights: \n",
      "[-9.38637924 -2.77751745]\n",
      "Weights connecting the hidden layer and the output layer:\n",
      "[[-14.95481822]\n",
      " [ 14.53080971]]\n",
      "Output layer bias weight: \n",
      "[-7.22845322]\n"
     ]
    }
   ],
   "source": [
    "print('Weights connecting the input layer and the hidden layer: \\n%s' %clf.coefs_[0])\n",
    "print('Hidden layer bias weights: \\n%s' % clf.intercepts_[0])\n",
    "print('Weights connecting the hidden layer and the output layer:\\n%s' % clf.coefs_[1])\n",
    "print('Output layer bias weight: \\n%s' % clf.intercepts_[1])"
   ]
  },
  {
   "cell_type": "markdown",
   "id": "15c26700-2edf-4eed-9eed-5ec22c7ed010",
   "metadata": {},
   "source": [
    "### 12.4.3 训练一个多层感知机分类手写数字"
   ]
  },
  {
   "cell_type": "markdown",
   "id": "d8f4fec7-79d5-4007-b96f-323a0edadae5",
   "metadata": {},
   "source": [
    "代码 12.3"
   ]
  },
  {
   "cell_type": "markdown",
   "id": "d74a9516-66dc-4984-b92b-1e965dbc49ac",
   "metadata": {},
   "source": [
    "http://yann.lecun.com/exdb/mnist/"
   ]
  },
  {
   "cell_type": "code",
   "execution_count": 3,
   "id": "b4ac5f6f-1570-457f-8283-f8650eb3f884",
   "metadata": {},
   "outputs": [],
   "source": [
    "import gzip\n",
    "import matplotlib.pyplot as plt\n",
    "import matplotlib.cm as cm\n",
    "import numpy as np\n",
    "\n",
    "# 定义加载图像数据的函数\n",
    "def load_mnist_images(image_path):\n",
    "    with gzip.open(image_path, 'rb') as f:\n",
    "        # 跳过文件头\n",
    "        f.read(16)\n",
    "        # 读取图像数据\n",
    "        buf = f.read()\n",
    "        # 将数据转换为NumPy数组\n",
    "        data = np.frombuffer(buf, dtype=np.uint8).reshape(-1, 28, 28)\n",
    "    return data\n",
    "\n",
    "# 定义加载标签数据的函数\n",
    "def load_mnist_labels(label_path):\n",
    "    with gzip.open(label_path, 'rb') as f:\n",
    "        # 跳过文件头\n",
    "        f.read(8)\n",
    "        # 读取标签数据\n",
    "        buf = f.read()\n",
    "        # 将数据转换为NumPy数组\n",
    "        labels = np.frombuffer(buf, dtype=np.uint8)\n",
    "    return labels"
   ]
  },
  {
   "cell_type": "code",
   "execution_count": 4,
   "id": "5b54aa71-200a-4a5e-8e3d-2c9e0db8c966",
   "metadata": {},
   "outputs": [
    {
     "name": "stdout",
     "output_type": "stream",
     "text": [
      "[0.945  0.9365 0.9505 0.9695 0.9635]\n"
     ]
    }
   ],
   "source": [
    "\n",
    "from sklearn.model_selection import cross_val_score\n",
    "from sklearn.pipeline import Pipeline\n",
    "from sklearn.preprocessing import StandardScaler\n",
    "from sklearn.neural_network import MLPClassifier\n",
    "\n",
    "mnist_data = load_mnist_images(\"data\\\\mnist\\\\t10k-images-idx3-ubyte.gz\")\n",
    "mnist_target = load_mnist_labels(\"data\\\\mnist\\\\t10k-labels-idx1-ubyte.gz\")\n",
    "X = mnist_data\n",
    "X = X.reshape(X.shape[0], -1)  # Reshape X to (n_samples, n_features)\n",
    "y = mnist_target\n",
    "pipeline = Pipeline([('ss', StandardScaler()),\n",
    "                     ('mlp', MLPClassifier(hidden_layer_sizes=(150, 100), alpha=0.1, max_iter=300, random_state=20))])\n",
    "print(cross_val_score(pipeline, X, y, n_jobs=-1))"
   ]
  }
 ],
 "metadata": {
  "kernelspec": {
   "display_name": "Python 3 (ipykernel)",
   "language": "python",
   "name": "python3"
  },
  "language_info": {
   "codemirror_mode": {
    "name": "ipython",
    "version": 3
   },
   "file_extension": ".py",
   "mimetype": "text/x-python",
   "name": "python",
   "nbconvert_exporter": "python",
   "pygments_lexer": "ipython3",
   "version": "3.11.4"
  }
 },
 "nbformat": 4,
 "nbformat_minor": 5
}
