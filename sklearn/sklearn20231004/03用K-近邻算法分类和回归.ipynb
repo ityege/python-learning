{
 "cells": [
  {
   "cell_type": "markdown",
   "id": "c6895840-4fbf-40bf-955d-e7e0867917f0",
   "metadata": {},
   "source": [
    "## 3.1　K-近邻模型"
   ]
  },
  {
   "cell_type": "markdown",
   "id": "fd4289cb-66fe-4952-a284-f7db7973c60f",
   "metadata": {},
   "source": [
    "## 3.2　惰性学习和非参数模型"
   ]
  },
  {
   "cell_type": "markdown",
   "id": "072d651e-4698-40a9-88bd-95680d0cfbfb",
   "metadata": {},
   "source": [
    "## 3.3　KNN模型分类"
   ]
  },
  {
   "cell_type": "markdown",
   "id": "721eb729-bc2a-4cd6-a2a3-9a63a62666b0",
   "metadata": {},
   "source": [
    "代码3.1"
   ]
  },
  {
   "cell_type": "code",
   "execution_count": 3,
   "id": "ad423395-4bc4-4cfc-9132-c2be5152c5d2",
   "metadata": {},
   "outputs": [
    {
     "data": {
      "image/png": "[encoded data removed]",
      "text/plain": [
       "<Figure size 640x480 with 1 Axes>"
      ]
     },
     "metadata": {},
     "output_type": "display_data"
    }
   ],
   "source": [
    "import numpy as np\n",
    "import matplotlib.pyplot as plt\n",
    "\n",
    "X_train = np.array([\n",
    " [158, 64],\n",
    " [170, 86],\n",
    " [183, 84],\n",
    " [191, 80],\n",
    " [155, 49],\n",
    " [163, 59],\n",
    " [180, 67],\n",
    " [158, 54],\n",
    " [170, 67] \n",
    "])\n",
    "y_train = ['male', 'male', 'male', 'male', 'female', 'female', 'female',\n",
    "  'female', 'female']\n",
    "\n",
    "plt.figure()\n",
    "plt.title('Human Heights and Weights by Sex')\n",
    "plt.xlabel('Height in cm')\n",
    "plt.ylabel('Weight in kg')\n",
    "\n",
    "for i, x in enumerate(X_train):\n",
    "# 使用 'x' 标记表示训练实例中的男性，使用菱形标记表示训练实例中的女性\n",
    "    plt.scatter(x[0], x[1], c='k', marker='x' if y_train[i] == 'male' else 'D')\n",
    "plt.grid(True)\n",
    "plt.show()"
   ]
  },
  {
   "cell_type": "markdown",
   "id": "1364820a-184c-40a7-a4f8-9daa35bd8c6c",
   "metadata": {},
   "source": [
    "代码3.2"
   ]
  },
  {
   "cell_type": "code",
   "execution_count": 4,
   "id": "c621e9b1-55b9-4175-addc-0fa4ac862818",
   "metadata": {},
   "outputs": [
    {
     "data": {
      "text/plain": [
       "array([ 6.70820393, 21.9317122 , 31.30495168, 37.36308338, 21.        ,\n",
       "       13.60147051, 25.17935662, 16.2788206 , 15.29705854])"
      ]
     },
     "execution_count": 4,
     "metadata": {},
     "output_type": "execute_result"
    }
   ],
   "source": [
    "x = np.array([[155, 70]])\n",
    "distances = np.sqrt(np.sum((X_train - x)**2, axis=1))\n",
    "distances"
   ]
  },
  {
   "cell_type": "code",
   "execution_count": 5,
   "id": "017e37f3-ffec-4c4c-951d-54d9226235c8",
   "metadata": {},
   "outputs": [
    {
     "data": {
      "text/plain": [
       "array(['male', 'female', 'female'], dtype='<U6')"
      ]
     },
     "execution_count": 5,
     "metadata": {},
     "output_type": "execute_result"
    }
   ],
   "source": [
    "nearest_neighbor_indices = distances.argsort()[:3]\n",
    "nearest_neighbor_genders = np.take(y_train, nearest_neighbor_indices)\n",
    "nearest_neighbor_genders"
   ]
  },
  {
   "cell_type": "code",
   "execution_count": 6,
   "id": "04a9c112-c9d7-4284-bb5e-ef5cb0bc73eb",
   "metadata": {},
   "outputs": [
    {
     "data": {
      "text/plain": [
       "'female'"
      ]
     },
     "execution_count": 6,
     "metadata": {},
     "output_type": "execute_result"
    }
   ],
   "source": [
    "from collections import Counter\n",
    "b = Counter(np.take(y_train, distances.argsort()[:3]))\n",
    "b.most_common(1)[0][0]"
   ]
  },
  {
   "cell_type": "markdown",
   "id": "61dcfb04-5066-4e75-95e3-c8cb833be813",
   "metadata": {},
   "source": [
    "代码3.3"
   ]
  },
  {
   "cell_type": "code",
   "execution_count": 7,
   "id": "9b081964-0f11-466f-9362-9b12d3c7cdb1",
   "metadata": {},
   "outputs": [
    {
     "data": {
      "text/plain": [
       "array([[1],\n",
       "       [1],\n",
       "       [1],\n",
       "       [1],\n",
       "       [0],\n",
       "       [0],\n",
       "       [0],\n",
       "       [0],\n",
       "       [0]])"
      ]
     },
     "execution_count": 7,
     "metadata": {},
     "output_type": "execute_result"
    }
   ],
   "source": [
    "from sklearn.preprocessing import LabelBinarizer\n",
    "from sklearn.neighbors import KNeighborsClassifier\n",
    "\n",
    "lb = LabelBinarizer()\n",
    "# 将标签转换为数值\n",
    "y_train_binarized = lb.fit_transform(y_train)\n",
    "y_train_binarized"
   ]
  },
  {
   "cell_type": "code",
   "execution_count": 8,
   "id": "ae4266d5-08b4-47e5-9b95-e2ca2f6900db",
   "metadata": {},
   "outputs": [
    {
     "data": {
      "text/plain": [
       "array(['female'], dtype='<U6')"
      ]
     },
     "execution_count": 8,
     "metadata": {},
     "output_type": "execute_result"
    }
   ],
   "source": [
    "K= 3\n",
    "clf = KNeighborsClassifier(n_neighbors=K)\n",
    "clf.fit(X_train, y_train_binarized.reshape(-1))\n",
    "prediction_binarized = clf.predict(np.array([155, 70]).reshape(1,\n",
    "   -1))[0]\n",
    "predicted_label = lb.inverse_transform(prediction_binarized)\n",
    "predicted_label"
   ]
  },
  {
   "cell_type": "markdown",
   "id": "44f8572d-4b60-4e34-a77d-291b70ccf932",
   "metadata": {},
   "source": [
    "代码3.4"
   ]
  },
  {
   "cell_type": "code",
   "execution_count": 9,
   "id": "4aa4b76c-0345-4046-93e4-7611fc8ca8d4",
   "metadata": {},
   "outputs": [
    {
     "name": "stdout",
     "output_type": "stream",
     "text": [
      "Binarized labels: [1 1 0 0]\n",
      "Binarized predictions: [0 1 0 0]\n",
      "Predicted labels: ['female' 'male' 'female' 'female']\n"
     ]
    }
   ],
   "source": [
    "X_test = np.array([\n",
    " [168, 65],\n",
    " [180, 96],\n",
    " [160, 52],\n",
    " [169, 67]\n",
    "])\n",
    "y_test = ['male', 'male', 'female', 'female']\n",
    "y_test_binarized = lb.transform(y_test)\n",
    "print('Binarized labels: %s' % y_test_binarized.T[0])\n",
    "predictions_binarized = clf.predict(X_test)\n",
    "print('Binarized predictions: %s' % predictions_binarized)\n",
    "print('Predicted labels: %s' % lb.inverse_transform(predictions_binarized))"
   ]
  },
  {
   "cell_type": "markdown",
   "id": "00f4f00c-5e11-4f11-ba3c-6f04a4f5e64a",
   "metadata": {},
   "source": [
    "代码3.5"
   ]
  },
  {
   "cell_type": "code",
   "execution_count": 10,
   "id": "f7453e1a-6286-4b34-bfde-3a2f9abab1bd",
   "metadata": {},
   "outputs": [
    {
     "name": "stdout",
     "output_type": "stream",
     "text": [
      "Accuracy: 0.75\n"
     ]
    }
   ],
   "source": [
    "from sklearn.metrics import accuracy_score\n",
    "print('Accuracy: %s' % accuracy_score(y_test_binarized,\n",
    "   predictions_binarized))"
   ]
  },
  {
   "cell_type": "markdown",
   "id": "84e54477-d42a-47df-a9df-771e853e7e86",
   "metadata": {},
   "source": [
    "代码3.6"
   ]
  },
  {
   "cell_type": "code",
   "execution_count": 11,
   "id": "d63d5a15-88da-4553-992e-c6dd03d5194d",
   "metadata": {},
   "outputs": [
    {
     "name": "stdout",
     "output_type": "stream",
     "text": [
      "Precision: 1.0\n"
     ]
    }
   ],
   "source": [
    "from sklearn.metrics import precision_score\n",
    "print('Precision: %s' % precision_score(y_test_binarized,\n",
    "  predictions_binarized))"
   ]
  },
  {
   "cell_type": "markdown",
   "id": "ea46496e-1f91-4c5b-a750-aff58ea53163",
   "metadata": {},
   "source": [
    "代码3.7"
   ]
  },
  {
   "cell_type": "code",
   "execution_count": 12,
   "id": "5d7230fd-d0fc-4a09-957b-55436b98dfba",
   "metadata": {},
   "outputs": [
    {
     "name": "stdout",
     "output_type": "stream",
     "text": [
      "Recall: 0.5\n"
     ]
    }
   ],
   "source": [
    "from sklearn.metrics import recall_score\n",
    "print('Recall: %s' % recall_score(y_test_binarized,\n",
    "   predictions_binarized))"
   ]
  },
  {
   "cell_type": "markdown",
   "id": "4b14275d-4433-443e-bdeb-627e8f01e33d",
   "metadata": {},
   "source": [
    "代码3.8"
   ]
  },
  {
   "cell_type": "code",
   "execution_count": 13,
   "id": "57090f33-3281-45bb-908b-69878f6e8f3a",
   "metadata": {},
   "outputs": [
    {
     "name": "stdout",
     "output_type": "stream",
     "text": [
      "F1 score: 0.6666666666666666\n"
     ]
    }
   ],
   "source": [
    "from sklearn.metrics import f1_score\n",
    "print('F1 score: %s' % f1_score(y_test_binarized,\n",
    "  predictions_binarized))"
   ]
  },
  {
   "cell_type": "markdown",
   "id": "db547b80-703f-4638-8523-67ed0da4577b",
   "metadata": {},
   "source": [
    "代码3.9"
   ]
  },
  {
   "cell_type": "code",
   "execution_count": 14,
   "id": "c0e70925-8417-4203-97f3-2d06deed7b48",
   "metadata": {},
   "outputs": [
    {
     "name": "stdout",
     "output_type": "stream",
     "text": [
      "Matthews correlation coefficient: 0.5773502691896258\n"
     ]
    }
   ],
   "source": [
    "from sklearn.metrics import matthews_corrcoef\n",
    "print('Matthews correlation coefficient: %s' %\n",
    "matthews_corrcoef(y_test_binarized, predictions_binarized))"
   ]
  },
  {
   "cell_type": "markdown",
   "id": "1dfbf168-b99b-4488-92dd-c6384808444f",
   "metadata": {},
   "source": [
    "代码3.10"
   ]
  },
  {
   "cell_type": "code",
   "execution_count": 15,
   "id": "c6b076f2-20af-45e4-bae7-a0d0cd40fa96",
   "metadata": {},
   "outputs": [
    {
     "name": "stdout",
     "output_type": "stream",
     "text": [
      "              precision    recall  f1-score   support\n",
      "\n",
      "        male       1.00      0.50      0.67         2\n",
      "\n",
      "   micro avg       1.00      0.50      0.67         2\n",
      "   macro avg       1.00      0.50      0.67         2\n",
      "weighted avg       1.00      0.50      0.67         2\n",
      "\n"
     ]
    }
   ],
   "source": [
    "from sklearn.metrics import classification_report\n",
    "print(classification_report(y_test_binarized, predictions_binarized,target_names=['male'], labels=[1]))"
   ]
  },
  {
   "cell_type": "markdown",
   "id": "3ccd16ca-ac22-4015-996c-65072dae1d3d",
   "metadata": {},
   "source": [
    "## 3.4　KNN模型回归"
   ]
  },
  {
   "cell_type": "markdown",
   "id": "8fe58f79-22fa-43ef-bda3-ed6746f343b1",
   "metadata": {},
   "source": [
    "代码3.11"
   ]
  },
  {
   "cell_type": "code",
   "execution_count": 27,
   "id": "cd723293-55dc-4312-8eaa-989c60671b02",
   "metadata": {},
   "outputs": [
    {
     "name": "stdout",
     "output_type": "stream",
     "text": [
      "Predicted wieghts: [70.66666667 79.         59.         70.66666667]\n",
      "Coefficient of determination: 0.6290565226735438\n",
      "Mean absolute error: 8.333333333333336\n",
      "Mean squared error: 95.8888888888889\n"
     ]
    }
   ],
   "source": [
    "import numpy as np\n",
    "from sklearn.neighbors import KNeighborsRegressor\n",
    "from sklearn.metrics import mean_absolute_error, mean_squared_error,r2_score\n",
    "\n",
    "X_train = np.array([\n",
    " [158, 1],\n",
    " [170, 1],\n",
    " [183, 1],\n",
    " [191, 1],\n",
    " [155, 0],\n",
    " [163, 0],\n",
    " [180, 0],\n",
    " [158, 0],\n",
    " [170, 0]\n",
    "])\n",
    "y_train = [64, 86, 84, 80, 49, 59, 67, 54, 67]\n",
    "\n",
    "X_test = np.array([\n",
    " [168, 1],\n",
    " [180, 1],\n",
    " [160, 0],\n",
    " [169, 0]\n",
    "])\n",
    "y_test = [65, 96, 52, 67]\n",
    "\n",
    "K= 3\n",
    "clf = KNeighborsRegressor(n_neighbors=K)\n",
    "clf.fit(X_train, y_train)\n",
    "predictions = clf.predict(X_test)\n",
    "print('Predicted wieghts: %s' % predictions)\n",
    "print('Coefficient of determination: %s' % r2_score(y_test,predictions))\n",
    "print('Mean absolute error: %s' % mean_absolute_error(y_test,predictions))\n",
    "print('Mean squared error: %s' % mean_squared_error(y_test,predictions))"
   ]
  },
  {
   "cell_type": "markdown",
   "id": "d831a140-9f5e-4bf5-a32b-348515b60182",
   "metadata": {},
   "source": [
    "代码3.12"
   ]
  },
  {
   "cell_type": "code",
   "execution_count": 28,
   "id": "3c83d0cd-3460-4bf3-867c-41743d3d9058",
   "metadata": {},
   "outputs": [
    {
     "name": "stdout",
     "output_type": "stream",
     "text": [
      "60.0\n",
      "40.01249804748511\n",
      "162.3\n",
      "162.40307878855006\n"
     ]
    }
   ],
   "source": [
    "from scipy.spatial.distance import euclidean\n",
    "\n",
    "# heights in millimeters\n",
    "X_train = np.array([\n",
    " [1700, 1],\n",
    " [1600, 0]\n",
    "])\n",
    "\n",
    "x_test = np.array([1640, 1])\n",
    "print(euclidean(X_train[0, :], x_test))\n",
    "print(euclidean(X_train[1, :], x_test))\n",
    "\n",
    "# heights in meters\n",
    "X_train = np.array([\n",
    " [1.7, 1],\n",
    " [1.6, 0]\n",
    "])\n",
    "x_test = np.array([164, 1])\n",
    "print(euclidean(X_train[0, :], x_test))\n",
    "print(euclidean(X_train[1, :], x_test))\n"
   ]
  },
  {
   "cell_type": "markdown",
   "id": "77b2d346-343d-4ef9-918e-937a185e9968",
   "metadata": {},
   "source": [
    "代码3.13"
   ]
  },
  {
   "cell_type": "code",
   "execution_count": 33,
   "id": "14ebfce0-baa5-4953-909c-5350122deddd",
   "metadata": {},
   "outputs": [
    {
     "name": "stdout",
     "output_type": "stream",
     "text": [
      "Predicted wieghts: [78.         83.33333333 54.         64.33333333]\n",
      "Coefficient of determination: 0.6706425961745109\n",
      "Mean absolute error: 7.583333333333336\n",
      "Mean squared error: 85.13888888888893\n"
     ]
    }
   ],
   "source": [
    "from sklearn.preprocessing import StandardScaler\n",
    "from sklearn.neighbors import KNeighborsRegressor\n",
    "from sklearn.metrics import mean_absolute_error, mean_squared_error, r2_score\n",
    "import numpy as np\n",
    "\n",
    "X_train = np.array([\n",
    "    [158, 1],\n",
    "    [170, 1],\n",
    "    [183, 1],\n",
    "    [191, 1],\n",
    "    [155, 0],\n",
    "    [163, 0],\n",
    "    [180, 0],\n",
    "    [158, 0],\n",
    "    [170, 0]\n",
    "])\n",
    "y_train = [64, 86, 84, 80, 49, 59, 67, 54, 67]\n",
    "\n",
    "X_test = np.array([\n",
    "    [168, 1],\n",
    "    [180, 1],\n",
    "    [160, 0],\n",
    "    [169, 0]\n",
    "])\n",
    "y_test = [65, 96, 52, 67]\n",
    "ss = StandardScaler()\n",
    "# 对训练集和测试集进行标准化\n",
    "X_train_scaled = ss.fit_transform(X_train)\n",
    "\n",
    "X_test_scaled = ss.transform(X_test)\n",
    "\n",
    "K = 3\n",
    "clf = KNeighborsRegressor(n_neighbors=K)\n",
    "\n",
    "clf.fit(X_train_scaled, y_train)\n",
    "predictions = clf.predict(X_test_scaled)\n",
    "print('Predicted wieghts: %s' % predictions)\n",
    "print('Coefficient of determination: %s' % r2_score(y_test, predictions))\n",
    "print('Mean absolute error: %s' % mean_absolute_error(y_test, predictions))\n",
    "print('Mean squared error: %s' % mean_squared_error(y_test, predictions))"
   ]
  }
 ],
 "metadata": {
  "kernelspec": {
   "display_name": "Python 3 (ipykernel)",
   "language": "python",
   "name": "python3"
  },
  "language_info": {
   "codemirror_mode": {
    "name": "ipython",
    "version": 3
   },
   "file_extension": ".py",
   "mimetype": "text/x-python",
   "name": "python",
   "nbconvert_exporter": "python",
   "pygments_lexer": "ipython3",
   "version": "3.11.4"
  }
 },
 "nbformat": 4,
 "nbformat_minor": 5
}
