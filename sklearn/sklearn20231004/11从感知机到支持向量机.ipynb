{
 "cells": [
  {
   "cell_type": "markdown",
   "id": "cd800158-1034-41f2-8927-4126ca105316",
   "metadata": {},
   "source": [
    "## 11.1 核与核技巧"
   ]
  },
  {
   "cell_type": "markdown",
   "id": "eb419112-129a-414a-869c-dfba9bf7e3ba",
   "metadata": {},
   "source": [
    "## 11.2 最大间隔分类和支持向量"
   ]
  },
  {
   "cell_type": "markdown",
   "id": "abd11f40-2927-4edd-9d09-ea7c96e0a760",
   "metadata": {},
   "source": [
    "## 11.3 用 scikit-learn 分类字符"
   ]
  },
  {
   "cell_type": "markdown",
   "id": "45f25bbe-9b32-4a4d-8033-e93a8b11421c",
   "metadata": {},
   "source": [
    "### 11.3.1 手写数字分类"
   ]
  },
  {
   "cell_type": "markdown",
   "id": "627ba1aa-6d97-4626-a0dc-b5495dcb9a19",
   "metadata": {},
   "source": [
    "代码 11.1"
   ]
  },
  {
   "cell_type": "markdown",
   "id": "5d99cc2e-cc94-42a9-afae-fc4cf20a6808",
   "metadata": {},
   "source": [
    "http://yann.lecun.com/exdb/mnist/"
   ]
  },
  {
   "cell_type": "code",
   "execution_count": 1,
   "id": "fd0a4235-8ce3-4c73-9be8-d45f310233eb",
   "metadata": {},
   "outputs": [],
   "source": [
    "import gzip\n",
    "import matplotlib.pyplot as plt\n",
    "import matplotlib.cm as cm\n",
    "import numpy as np\n",
    "\n",
    "# 定义加载图像数据的函数\n",
    "def load_mnist_images(image_path):\n",
    "    with gzip.open(image_path, 'rb') as f:\n",
    "        # 跳过文件头\n",
    "        f.read(16)\n",
    "        # 读取图像数据\n",
    "        buf = f.read()\n",
    "        # 将数据转换为NumPy数组\n",
    "        data = np.frombuffer(buf, dtype=np.uint8).reshape(-1, 28, 28)\n",
    "    return data\n",
    "\n",
    "# 定义加载标签数据的函数\n",
    "def load_mnist_labels(label_path):\n",
    "    with gzip.open(label_path, 'rb') as f:\n",
    "        # 跳过文件头\n",
    "        f.read(8)\n",
    "        # 读取标签数据\n",
    "        buf = f.read()\n",
    "        # 将数据转换为NumPy数组\n",
    "        labels = np.frombuffer(buf, dtype=np.uint8)\n",
    "    return labels"
   ]
  },
  {
   "cell_type": "code",
   "execution_count": 2,
   "id": "6cfd0f25-3656-4910-adc3-bcb73f8bc13e",
   "metadata": {},
   "outputs": [
    {
     "data": {
      "image/png": "[encoded data removed]",
      "text/plain": [
       "<Figure size 640x480 with 15 Axes>"
      ]
     },
     "metadata": {},
     "output_type": "display_data"
    }
   ],
   "source": [
    "mnist_data = load_mnist_images(\"data\\\\mnist\\\\t10k-images-idx3-ubyte.gz\")\n",
    "\n",
    "# 显示前 15 张图像\n",
    "for i in range(15):\n",
    "    plt.subplot(3, 5, i+1)\n",
    "    plt.imshow(mnist_data[i], cmap=cm.Greys_r)\n",
    "    plt.axis('off')\n",
    "plt.show()"
   ]
  },
  {
   "cell_type": "markdown",
   "id": "61f15d77-5cb3-4b44-97e0-a8fd51f49eb7",
   "metadata": {},
   "source": [
    "代码 11.2"
   ]
  },
  {
   "cell_type": "code",
   "execution_count": 3,
   "id": "13809691-b183-401d-960d-648cca40e4bd",
   "metadata": {},
   "outputs": [
    {
     "name": "stdout",
     "output_type": "stream",
     "text": [
      "Fitting 5 folds for each of 4 candidates, totalling 20 fits\n",
      "Best score: 0.215\n",
      "Best parameters set:\n",
      "\tclf__C: 1\n",
      "\tclf__gamma: 0.1\n",
      "              precision    recall  f1-score   support\n",
      "\n",
      "           0       0.00      0.00      0.00       258\n",
      "           1       1.00      0.74      0.85       281\n",
      "           2       0.11      1.00      0.20       248\n",
      "           3       1.00      0.01      0.02       232\n",
      "           4       1.00      0.00      0.01       275\n",
      "           5       0.00      0.00      0.00       215\n",
      "           6       0.00      0.00      0.00       239\n",
      "           7       1.00      0.16      0.28       267\n",
      "           8       0.00      0.00      0.00       250\n",
      "           9       1.00      0.12      0.22       235\n",
      "\n",
      "    accuracy                           0.21      2500\n",
      "   macro avg       0.51      0.20      0.16      2500\n",
      "weighted avg       0.53      0.21      0.17      2500\n",
      "\n"
     ]
    },
    {
     "name": "stderr",
     "output_type": "stream",
     "text": [
      "C:\\devtools\\python\\python311\\Lib\\site-packages\\sklearn\\metrics\\_classification.py:1469: UndefinedMetricWarning: Precision and F-score are ill-defined and being set to 0.0 in labels with no predicted samples. Use `zero_division` parameter to control this behavior.\n",
      "  _warn_prf(average, modifier, msg_start, len(result))\n",
      "C:\\devtools\\python\\python311\\Lib\\site-packages\\sklearn\\metrics\\_classification.py:1469: UndefinedMetricWarning: Precision and F-score are ill-defined and being set to 0.0 in labels with no predicted samples. Use `zero_division` parameter to control this behavior.\n",
      "  _warn_prf(average, modifier, msg_start, len(result))\n",
      "C:\\devtools\\python\\python311\\Lib\\site-packages\\sklearn\\metrics\\_classification.py:1469: UndefinedMetricWarning: Precision and F-score are ill-defined and being set to 0.0 in labels with no predicted samples. Use `zero_division` parameter to control this behavior.\n",
      "  _warn_prf(average, modifier, msg_start, len(result))\n"
     ]
    }
   ],
   "source": [
    "from sklearn.pipeline import Pipeline\n",
    "from sklearn.preprocessing import scale\n",
    "from sklearn.model_selection import train_test_split\n",
    "from sklearn.svm import SVC\n",
    "from sklearn.model_selection import GridSearchCV\n",
    "from sklearn.metrics import classification_report\n",
    "\n",
    "mnist_target = load_mnist_labels(\"data\\\\mnist\\\\t10k-labels-idx1-ubyte.gz\")\n",
    "X, y = mnist_data, mnist_target\n",
    "X = X / 255.0 * 2 - 1\n",
    "X = X.reshape(X.shape[0], -1)  # Reshape X to (n_samples, n_features)\n",
    "X_train, X_test, y_train, y_test = train_test_split(X, y, random_state=11)\n",
    "pipeline = Pipeline([('clf', SVC(kernel='rbf', gamma=0.01, C=100))])\n",
    "# parameters = {\n",
    "#     'clf__gamma': (0.01, 0.03, 0.1, 0.3, 1),\n",
    "#     'clf__C': (0.1, 0.3, 1, 3, 10, 30),\n",
    "# }\n",
    "parameters = {\n",
    "    'clf__gamma': [0.1,0.1],\n",
    "    'clf__C': [0.1,1]\n",
    "}\n",
    "grid_search = GridSearchCV(pipeline, parameters, n_jobs=2, verbose=1, scoring='accuracy')\n",
    "grid_search.fit(X_train[:10000], y_train[:10000])\n",
    "print('Best score: %0.3f' % grid_search.best_score_)\n",
    "print('Best parameters set:')\n",
    "best_parameters = grid_search.best_estimator_.get_params()\n",
    "for param_name in sorted(parameters.keys()):\n",
    "    print('\\t%s: %r' % (param_name,best_parameters[param_name]))\n",
    "predictions = grid_search.predict(X_test)\n",
    "print(classification_report(y_test, predictions))\n"
   ]
  },
  {
   "cell_type": "markdown",
   "id": "1b8fc9b2-2f0c-4c6b-a4f3-64e621076364",
   "metadata": {},
   "source": [
    "### 11.3.2 自然图片字符分类"
   ]
  },
  {
   "cell_type": "markdown",
   "id": "ca97d6d9-f265-40fd-aba2-0e350847c2f9",
   "metadata": {},
   "source": [
    "代码 11.3"
   ]
  },
  {
   "cell_type": "code",
   "execution_count": 4,
   "id": "2e8b02fe-98e6-459b-a75d-e00422ea43e5",
   "metadata": {},
   "outputs": [],
   "source": [
    "# http://www.ee.surrey.ac.uk/CVSSP/demos/chars74k/#download"
   ]
  },
  {
   "cell_type": "code",
   "execution_count": 5,
   "id": "29150885-48ed-4763-a61e-d1636a8db990",
   "metadata": {},
   "outputs": [],
   "source": [
    "import os\n",
    "import numpy as np\n",
    "from sklearn.pipeline import Pipeline\n",
    "from sklearn.svm import SVC\n",
    "from sklearn.model_selection import train_test_split, GridSearchCV\n",
    "from sklearn.metrics import classification_report\n",
    "from PIL import Image\n",
    "\n",
    "X = []\n",
    "y = []\n",
    "for path, subdirs, files in os.walk('./English/Img/GoodImg/Bmp/'):\n",
    "    for filename in files:\n",
    "        f = os.path.join(path, filename)\n",
    "        target = filename[3:filename.index('-')]\n",
    "        img = Image.open(f).convert('L').resize((30, 30), resample=Image.LANCZOS)\n",
    "        X.append(np.array(img).reshape(900, ))\n",
    "        y.append(target)\n",
    "X = np.array(X)"
   ]
  },
  {
   "cell_type": "markdown",
   "id": "2457605d-f894-4ead-96b7-b3247be0fafa",
   "metadata": {},
   "source": [
    "代码 11.4"
   ]
  },
  {
   "cell_type": "code",
   "execution_count": 6,
   "id": "c1dfcec4-632c-404c-893d-fda6b904f109",
   "metadata": {},
   "outputs": [
    {
     "name": "stdout",
     "output_type": "stream",
     "text": [
      "Fitting 5 folds for each of 4 candidates, totalling 20 fits\n",
      "Best score: 0.073\n",
      "Best parameters set:\n",
      "\tclf__C: 0.1\n",
      "\tclf__gamma: 0.01\n",
      "              precision    recall  f1-score   support\n",
      "\n",
      "         001       0.00      0.00      0.00        13\n",
      "         002       0.00      0.00      0.00         8\n",
      "         003       0.00      0.00      0.00        11\n",
      "         004       0.00      0.00      0.00         4\n",
      "         005       0.00      0.00      0.00         7\n",
      "         006       0.00      0.00      0.00         6\n",
      "         007       0.00      0.00      0.00         6\n",
      "         008       0.00      0.00      0.00         3\n",
      "         010       0.00      0.00      0.00         2\n",
      "         011       0.07      1.00      0.12        51\n",
      "         012       0.00      0.00      0.00        13\n",
      "         013       0.00      0.00      0.00        21\n",
      "         014       0.00      0.00      0.00        21\n",
      "         015       0.00      0.00      0.00        44\n",
      "         016       0.00      0.00      0.00         6\n",
      "         017       0.00      0.00      0.00        14\n",
      "         018       0.00      0.00      0.00        21\n",
      "         019       0.00      0.00      0.00        37\n",
      "         020       0.00      0.00      0.00         5\n",
      "         021       0.00      0.00      0.00         6\n",
      "         022       0.00      0.00      0.00        21\n",
      "         023       0.00      0.00      0.00        20\n",
      "         024       0.00      0.00      0.00        35\n",
      "         025       0.00      0.00      0.00        44\n",
      "         026       0.00      0.00      0.00        16\n",
      "         027       0.00      0.00      0.00         3\n",
      "         028       0.00      0.00      0.00        42\n",
      "         029       0.00      0.00      0.00        28\n",
      "         030       0.00      0.00      0.00        26\n",
      "         031       0.00      0.00      0.00         7\n",
      "         032       0.00      0.00      0.00         9\n",
      "         033       0.00      0.00      0.00         6\n",
      "         034       0.00      0.00      0.00         8\n",
      "         035       0.00      0.00      0.00         6\n",
      "         036       0.00      0.00      0.00         4\n",
      "         037       0.00      0.00      0.00        23\n",
      "         038       0.00      0.00      0.00         2\n",
      "         039       0.00      0.00      0.00         9\n",
      "         040       0.00      0.00      0.00         6\n",
      "         041       0.00      0.00      0.00        24\n",
      "         042       0.00      0.00      0.00         1\n",
      "         043       0.00      0.00      0.00         1\n",
      "         044       0.00      0.00      0.00         6\n",
      "         045       0.00      0.00      0.00        15\n",
      "         046       0.00      0.00      0.00         3\n",
      "         047       0.00      0.00      0.00         5\n",
      "         048       0.00      0.00      0.00         4\n",
      "         049       0.00      0.00      0.00         3\n",
      "         050       0.00      0.00      0.00        14\n",
      "         051       0.00      0.00      0.00        19\n",
      "         052       0.00      0.00      0.00         5\n",
      "         053       0.00      0.00      0.00         2\n",
      "         054       0.00      0.00      0.00        12\n",
      "         055       0.00      0.00      0.00        11\n",
      "         056       0.00      0.00      0.00        17\n",
      "         057       0.00      0.00      0.00         3\n",
      "         058       0.00      0.00      0.00         3\n",
      "         060       0.00      0.00      0.00         2\n",
      "         061       0.00      0.00      0.00         5\n",
      "         062       0.00      0.00      0.00         2\n",
      "\n",
      "    accuracy                           0.07       771\n",
      "   macro avg       0.00      0.02      0.00       771\n",
      "weighted avg       0.00      0.07      0.01       771\n",
      "\n"
     ]
    },
    {
     "name": "stderr",
     "output_type": "stream",
     "text": [
      "C:\\devtools\\python\\python311\\Lib\\site-packages\\sklearn\\metrics\\_classification.py:1469: UndefinedMetricWarning: Precision and F-score are ill-defined and being set to 0.0 in labels with no predicted samples. Use `zero_division` parameter to control this behavior.\n",
      "  _warn_prf(average, modifier, msg_start, len(result))\n",
      "C:\\devtools\\python\\python311\\Lib\\site-packages\\sklearn\\metrics\\_classification.py:1469: UndefinedMetricWarning: Precision and F-score are ill-defined and being set to 0.0 in labels with no predicted samples. Use `zero_division` parameter to control this behavior.\n",
      "  _warn_prf(average, modifier, msg_start, len(result))\n",
      "C:\\devtools\\python\\python311\\Lib\\site-packages\\sklearn\\metrics\\_classification.py:1469: UndefinedMetricWarning: Precision and F-score are ill-defined and being set to 0.0 in labels with no predicted samples. Use `zero_division` parameter to control this behavior.\n",
      "  _warn_prf(average, modifier, msg_start, len(result))\n"
     ]
    }
   ],
   "source": [
    "X_train, X_test, y_train, y_test = train_test_split(X, y, test_size=.1, random_state=11)\n",
    "pipeline = Pipeline([\n",
    " ('clf', SVC(kernel='rbf', gamma=0.01, C=100))\n",
    "])\n",
    "# parameters = {\n",
    "#  'clf__gamma': (0.01, 0.03, 0.1, 0.3, 1),\n",
    "#  'clf__C': (0.1, 0.3, 1, 3, 10, 30),\n",
    "# }\n",
    "parameters = {\n",
    " 'clf__gamma': (0.01, 0.03),\n",
    " 'clf__C': (0.1, 0.3),\n",
    "}\n",
    "grid_search = GridSearchCV(pipeline, parameters, n_jobs=3, verbose=1, scoring='accuracy')\n",
    "grid_search.fit(X_train, y_train)\n",
    "print('Best score: %0.3f' % grid_search.best_score_)\n",
    "print('Best parameters set:')\n",
    "best_parameters = grid_search.best_estimator_.get_params()\n",
    "for param_name in sorted(parameters.keys()):\n",
    "    print('\\t%s: %r' % (param_name, best_parameters[param_name]))\n",
    "predictions = grid_search.predict(X_test)\n",
    "print(classification_report(y_test, predictions))"
   ]
  }
 ],
 "metadata": {
  "kernelspec": {
   "display_name": "Python 3 (ipykernel)",
   "language": "python",
   "name": "python3"
  },
  "language_info": {
   "codemirror_mode": {
    "name": "ipython",
    "version": 3
   },
   "file_extension": ".py",
   "mimetype": "text/x-python",
   "name": "python",
   "nbconvert_exporter": "python",
   "pygments_lexer": "ipython3",
   "version": "3.11.4"
  }
 },
 "nbformat": 4,
 "nbformat_minor": 5
}
