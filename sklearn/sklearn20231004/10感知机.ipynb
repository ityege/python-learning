{
 "cells": [
  {
   "cell_type": "markdown",
   "id": "c2d999e9-d89d-4c78-ab94-aa971cb176b8",
   "metadata": {},
   "source": [
    "## 10.1 感知机"
   ]
  },
  {
   "cell_type": "markdown",
   "id": "b37bad35-0e96-4833-82d8-a939de6c8a3a",
   "metadata": {},
   "source": [
    "### 10.1.1 激活函数"
   ]
  },
  {
   "cell_type": "markdown",
   "id": "6cc08363-6966-46ef-83f6-b4dd23a9185b",
   "metadata": {},
   "source": [
    "### 10.1.2 感知机学习算法"
   ]
  },
  {
   "cell_type": "markdown",
   "id": "c4a791ad-9323-42c0-93a4-44d7dd76f2f1",
   "metadata": {},
   "source": [
    "### 10.1.3 使用感知机进行二元分类"
   ]
  },
  {
   "cell_type": "markdown",
   "id": "c3909987-7b39-41c9-86fa-0e02032e76e0",
   "metadata": {},
   "source": [
    "### 10.1.4 使用感知机进行文档分类"
   ]
  },
  {
   "cell_type": "markdown",
   "id": "3b5b6014-54c5-40cb-80dc-d3c48e15f18b",
   "metadata": {},
   "source": [
    "代码 10.1"
   ]
  },
  {
   "cell_type": "code",
   "execution_count": 1,
   "id": "d9c2c030-17be-4cab-823b-28efbce16821",
   "metadata": {},
   "outputs": [],
   "source": [
    "# http://qwone.com/~jason/20Newsgroups/20news-bydate.tar.gz\n",
    "# https://blog.csdn.net/weixin_49680811/article/details/132305421"
   ]
  },
  {
   "cell_type": "code",
   "execution_count": 2,
   "id": "b7ba48df-05f9-4979-a383-603b482b1b98",
   "metadata": {},
   "outputs": [
    {
     "name": "stdout",
     "output_type": "stream",
     "text": [
      "              precision    recall  f1-score   support\n",
      "\n",
      "           0       0.88      0.88      0.88       396\n",
      "           1       0.82      0.83      0.83       397\n",
      "           2       0.88      0.87      0.87       399\n",
      "\n",
      "    accuracy                           0.86      1192\n",
      "   macro avg       0.86      0.86      0.86      1192\n",
      "weighted avg       0.86      0.86      0.86      1192\n",
      "\n"
     ]
    }
   ],
   "source": [
    "from sklearn.datasets import fetch_20newsgroups\n",
    "from sklearn.feature_extraction.text import TfidfVectorizer\n",
    "from sklearn.linear_model import Perceptron\n",
    "from sklearn.metrics import f1_score, classification_report\n",
    "\n",
    "categories = ['rec.sport.hockey', 'rec.sport.baseball', 'rec.autos']\n",
    "newsgroups_train = fetch_20newsgroups(subset='train', categories=categories, remove=('headers', 'footers', 'quotes'))\n",
    "newsgroups_test = fetch_20newsgroups(subset='test', categories=categories, remove=('headers', 'footers', 'quotes'))\n",
    "vectorizer = TfidfVectorizer()\n",
    "X_train = vectorizer.fit_transform(newsgroups_train.data)\n",
    "X_test = vectorizer.transform(newsgroups_test.data)\n",
    "clf = Perceptron(random_state=11)\n",
    "clf.fit(X_train, newsgroups_train.target)\n",
    "predictions = clf.predict(X_test)\n",
    "print(classification_report(newsgroups_test.target, predictions))\n"
   ]
  },
  {
   "cell_type": "markdown",
   "id": "497d994f-b001-4d01-89ad-2ebe6557ba5c",
   "metadata": {},
   "source": [
    "## 10.2 感知机的局限性"
   ]
  }
 ],
 "metadata": {
  "kernelspec": {
   "display_name": "Python 3 (ipykernel)",
   "language": "python",
   "name": "python3"
  },
  "language_info": {
   "codemirror_mode": {
    "name": "ipython",
    "version": 3
   },
   "file_extension": ".py",
   "mimetype": "text/x-python",
   "name": "python",
   "nbconvert_exporter": "python",
   "pygments_lexer": "ipython3",
   "version": "3.11.4"
  }
 },
 "nbformat": 4,
 "nbformat_minor": 5
}
