{
 "cells": [
  {
   "cell_type": "markdown",
   "id": "01832a6e-de37-42d8-9c4e-175d411b80de",
   "metadata": {},
   "source": [
    "## 6.1 使用逻辑回归进行二元分类"
   ]
  },
  {
   "cell_type": "markdown",
   "id": "d45893f2-a45d-4001-b199-2d0eec8dea51",
   "metadata": {},
   "source": [
    "## 6.2 垃圾邮件过滤"
   ]
  },
  {
   "cell_type": "code",
   "execution_count": 1,
   "id": "fe2dc1b6-a706-432d-8ca1-04ce863941ff",
   "metadata": {},
   "outputs": [],
   "source": [
    "# UCI 机器学习仓库中的 垃圾信息数据集\n",
    "# https://archive.ics.uci.edu/ml/datasets/sms+spam+collection"
   ]
  },
  {
   "cell_type": "markdown",
   "id": "26793a09-294f-4142-bcf1-7aa379c370e9",
   "metadata": {},
   "source": [
    "代码 6.1"
   ]
  },
  {
   "cell_type": "code",
   "execution_count": 2,
   "id": "83463a15-cf05-43fe-bace-2b34deb754c0",
   "metadata": {},
   "outputs": [
    {
     "data": {
      "text/html": [
       "<div>\n",
       "<style scoped>\n",
       "    .dataframe tbody tr th:only-of-type {\n",
       "        vertical-align: middle;\n",
       "    }\n",
       "\n",
       "    .dataframe tbody tr th {\n",
       "        vertical-align: top;\n",
       "    }\n",
       "\n",
       "    .dataframe thead th {\n",
       "        text-align: right;\n",
       "    }\n",
       "</style>\n",
       "<table border=\"1\" class=\"dataframe\">\n",
       "  <thead>\n",
       "    <tr style=\"text-align: right;\">\n",
       "      <th></th>\n",
       "      <th>0</th>\n",
       "      <th>1</th>\n",
       "    </tr>\n",
       "  </thead>\n",
       "  <tbody>\n",
       "    <tr>\n",
       "      <th>0</th>\n",
       "      <td>ham</td>\n",
       "      <td>Go until jurong point, crazy.. Available only ...</td>\n",
       "    </tr>\n",
       "    <tr>\n",
       "      <th>1</th>\n",
       "      <td>ham</td>\n",
       "      <td>Ok lar... Joking wif u oni...</td>\n",
       "    </tr>\n",
       "    <tr>\n",
       "      <th>2</th>\n",
       "      <td>spam</td>\n",
       "      <td>Free entry in 2 a wkly comp to win FA Cup fina...</td>\n",
       "    </tr>\n",
       "    <tr>\n",
       "      <th>3</th>\n",
       "      <td>ham</td>\n",
       "      <td>U dun say so early hor... U c already then say...</td>\n",
       "    </tr>\n",
       "    <tr>\n",
       "      <th>4</th>\n",
       "      <td>ham</td>\n",
       "      <td>Nah I don't think he goes to usf, he lives aro...</td>\n",
       "    </tr>\n",
       "  </tbody>\n",
       "</table>\n",
       "</div>"
      ],
      "text/plain": [
       "      0                                                  1\n",
       "0   ham  Go until jurong point, crazy.. Available only ...\n",
       "1   ham                      Ok lar... Joking wif u oni...\n",
       "2  spam  Free entry in 2 a wkly comp to win FA Cup fina...\n",
       "3   ham  U dun say so early hor... U c already then say...\n",
       "4   ham  Nah I don't think he goes to usf, he lives aro..."
      ]
     },
     "execution_count": 2,
     "metadata": {},
     "output_type": "execute_result"
    }
   ],
   "source": [
    "import pandas as pd \n",
    "df = pd.read_csv('./SMSSpamCollection', delimiter='\\t', header=None) \n",
    "df.head()"
   ]
  },
  {
   "cell_type": "code",
   "execution_count": 3,
   "id": "850e9e63-793e-47eb-98b2-22b020c43a26",
   "metadata": {},
   "outputs": [
    {
     "name": "stdout",
     "output_type": "stream",
     "text": [
      "Number of spam messages: 747\n",
      "Number of ham messages: 4825\n"
     ]
    }
   ],
   "source": [
    "print('Number of spam messages: %s' % df[df[0] == 'spam'][0].count()) \n",
    "print('Number of ham messages: %s' % df[df[0] == 'ham'][0].count())"
   ]
  },
  {
   "cell_type": "markdown",
   "id": "05d3707f-80c3-40d0-ac22-e2102e521547",
   "metadata": {},
   "source": [
    "代码 6.2"
   ]
  },
  {
   "cell_type": "code",
   "execution_count": 4,
   "id": "07a83805-6bc2-44eb-a58c-24a93db2f22d",
   "metadata": {},
   "outputs": [
    {
     "name": "stdout",
     "output_type": "stream",
     "text": [
      "Predicted: ham, message: That's necessarily respectful\n",
      "Predicted: ham, message: When you just put in the + sign, choose my number and the pin will show. Right?\n",
      "Predicted: ham, message: So how many days since then?\n",
      "Predicted: ham, message: Chk in ur belovd ms dict\n",
      "Predicted: ham, message: I am late. I will be there at\n"
     ]
    }
   ],
   "source": [
    "import numpy as np \n",
    "import pandas as pd \n",
    "from sklearn.feature_extraction.text import TfidfVectorizer \n",
    "from sklearn.linear_model import LogisticRegression\n",
    "from sklearn.model_selection import train_test_split, cross_val_score \n",
    "X = df[1].values \n",
    "y = df[0].values \n",
    "X_train_raw, X_test_raw, y_train, y_test = train_test_split(X, y) \n",
    "vectorizer = TfidfVectorizer() #TfidfVectorizer是scikit-learn库中的一个类，用于将一组原始的中文文档转换为TF-IDF特征矩阵。\n",
    "X_train = vectorizer.fit_transform(X_train_raw) \n",
    "X_test = vectorizer.transform(X_test_raw) \n",
    "classifier = LogisticRegression() \n",
    "classifier.fit(X_train, y_train) \n",
    "predictions = classifier.predict(X_test) \n",
    "for i, prediction in enumerate(predictions[:5]): \n",
    " print('Predicted: %s, message: %s' % (prediction, \n",
    " X_test_raw[i]))"
   ]
  },
  {
   "cell_type": "markdown",
   "id": "f47c595c-5c3a-4eca-88b9-87c1cbe1650a",
   "metadata": {},
   "source": [
    "### 6.2.1 二元分类性能指标"
   ]
  },
  {
   "cell_type": "markdown",
   "id": "8782152f-99d1-4cf5-90a1-acc2a52b0ae0",
   "metadata": {},
   "source": [
    "代码 6.3"
   ]
  },
  {
   "cell_type": "code",
   "execution_count": 5,
   "id": "f3cb316e-564c-4929-85a6-11bf84d6b094",
   "metadata": {},
   "outputs": [
    {
     "name": "stdout",
     "output_type": "stream",
     "text": [
      "[[4 1]\n",
      " [2 3]]\n"
     ]
    },
    {
     "data": {
      "image/png": "[encoded data removed]",
      "text/plain": [
       "<Figure size 480x480 with 2 Axes>"
      ]
     },
     "metadata": {},
     "output_type": "display_data"
    }
   ],
   "source": [
    "from sklearn.metrics import confusion_matrix \n",
    "import matplotlib.pyplot as plt \n",
    "y_test = [0, 0, 0, 0, 0, 1, 1, 1, 1, 1] \n",
    "y_pred = [0, 1, 0, 0, 0, 0, 0, 1, 1, 1] \n",
    "confusion_matrix = confusion_matrix(y_test, y_pred) # 计算混淆矩阵\n",
    "print(confusion_matrix) \n",
    "plt.matshow(confusion_matrix) \n",
    "plt.title('Confusion matrix') \n",
    "plt.colorbar() \n",
    "plt.ylabel('True label') \n",
    "plt.xlabel('Predicted label') \n",
    "plt.show()"
   ]
  },
  {
   "cell_type": "markdown",
   "id": "873620b6-e8f4-4a9d-82a7-ef48155e4442",
   "metadata": {},
   "source": [
    "### 6.2.2 准确率"
   ]
  },
  {
   "cell_type": "code",
   "execution_count": 6,
   "id": "203e0e4a-631e-414e-afe5-8bad9b27c1fb",
   "metadata": {},
   "outputs": [
    {
     "name": "stdout",
     "output_type": "stream",
     "text": [
      "Accuracies: [0.95095694 0.9569378  0.96052632 0.95813397 0.95209581]\n",
      "Mean accuracy: 0.9557301664613357\n"
     ]
    }
   ],
   "source": [
    "import numpy as np\n",
    "import pandas as pd\n",
    "from sklearn.feature_extraction.text import TfidfVectorizer\n",
    "from sklearn.linear_model import LogisticRegression\n",
    "from sklearn.model_selection import train_test_split, cross_val_score\n",
    "from sklearn.metrics import roc_curve, auc\n",
    "import matplotlib.pyplot as plt\n",
    "\n",
    "df = pd.read_csv('./SMSSpamCollection' ,delimiter='\\t',names=['label','message'])\n",
    "X_train_raw, X_test_raw, y_train, y_test = train_test_split(df['message'], df['label'], random_state=11)\n",
    "vectorizer = TfidfVectorizer()\n",
    "X_train = vectorizer.fit_transform(X_train_raw)\n",
    "X_test = vectorizer.transform(X_test_raw)\n",
    "classifier = LogisticRegression()\n",
    "classifier.fit(X_train, y_train)\n",
    "# cross_val_score是scikit-learn库中用于执行交叉验证的函数。它用于对给定的模型进行交叉验证并返回每个验证折叠上的性能评估结果。\n",
    "# estimator：待评估的机器学习模型对象。\n",
    "# X：特征数据，通常是一个特征矩阵。\n",
    "# y：目标数据，通常是一个目标向量。\n",
    "# cv：指定交叉验证的折叠数量，可以是一个整数或交叉验证迭代器。\n",
    "scores = cross_val_score(classifier, X_train, y_train, cv=5)\n",
    "print('Accuracies: %s' % scores)\n",
    "print('Mean accuracy: %s' % np.mean(scores))"
   ]
  },
  {
   "cell_type": "markdown",
   "id": "0ab410e6-e963-4618-a3aa-8a091ef7992d",
   "metadata": {},
   "source": [
    "### 6.2.3 精准率和召回率"
   ]
  },
  {
   "cell_type": "markdown",
   "id": "a51f2390-d216-4935-baa4-20a11c0adf9e",
   "metadata": {},
   "source": [
    "代码 6.5"
   ]
  },
  {
   "cell_type": "code",
   "execution_count": 7,
   "id": "34f90964-0149-49eb-860b-bd8831a4af94",
   "metadata": {},
   "outputs": [
    {
     "name": "stdout",
     "output_type": "stream",
     "text": [
      "Precision: 0.9898824772775312\n",
      "Recall: 0.6824561403508772\n"
     ]
    }
   ],
   "source": [
    "from sklearn.preprocessing import LabelEncoder\n",
    "# 创建 LabelEncoder 对象\n",
    "label_encoder = LabelEncoder()\n",
    "# 将标签列转换为类别标签\n",
    "y_train = label_encoder.fit_transform(y_train)\n",
    "y_test = label_encoder.transform(y_test)\n",
    "\n",
    "precisions = cross_val_score(classifier, X_train, y_train, cv=5,scoring='precision')\n",
    "print('Precision: %s' % np.mean(precisions))\n",
    "recalls = cross_val_score(classifier, X_train, y_train, cv=5,scoring='recall')\n",
    "print('Recall: %s' % np.mean(recalls))"
   ]
  },
  {
   "cell_type": "markdown",
   "id": "f941067c-f58e-43a1-976c-28b76b5c1308",
   "metadata": {},
   "source": [
    "### 6.2.4 计算 F1 值"
   ]
  },
  {
   "cell_type": "markdown",
   "id": "3fc1b54c-1ef2-44e5-b9c5-9cb217d841a5",
   "metadata": {},
   "source": [
    "代码 6.6"
   ]
  },
  {
   "cell_type": "code",
   "execution_count": 8,
   "id": "c15437a1-e918-45b8-b335-bca0025c794b",
   "metadata": {},
   "outputs": [
    {
     "name": "stdout",
     "output_type": "stream",
     "text": [
      "F1 score: 0.8076293446858502\n"
     ]
    }
   ],
   "source": [
    "f1s = cross_val_score(classifier, X_train, y_train, cv=5, scoring='f1') \n",
    "print('F1 score: %s' % np.mean(f1s))"
   ]
  },
  {
   "cell_type": "markdown",
   "id": "e9b65146-2def-427d-880a-3b9435ef42e9",
   "metadata": {},
   "source": [
    "### 6.2.5 ROC AUC"
   ]
  },
  {
   "cell_type": "markdown",
   "id": "fd1fa86f-0616-43f2-823d-d4cff1265f4a",
   "metadata": {},
   "source": [
    "代码 6.7"
   ]
  },
  {
   "cell_type": "code",
   "execution_count": 9,
   "id": "0dc28680-ca40-4f19-9c5b-b5b559ff0e7e",
   "metadata": {},
   "outputs": [
    {
     "data": {
      "image/png": "[encoded data removed]",
      "text/plain": [
       "<Figure size 640x480 with 1 Axes>"
      ]
     },
     "metadata": {},
     "output_type": "display_data"
    }
   ],
   "source": [
    "predictions = classifier.predict_proba(X_test)\n",
    "# roc_curve和auc是scikit-learn库中用于计算接收者操作特征曲线（Receiver Operating Characteristic curve，ROC曲线）和计算曲线下面积（Area Under the Curve，AUC）的函数。\n",
    "# roc_curve函数用于计算二分类模型的ROC曲线。它接受两个参数：真实标签（y_true）和预测概率（y_score）。以下是roc_curve函数的基本语法：\n",
    "# y_true：真实的二分类标签。\n",
    "# y_score：模型的预测概率或决策函数。\n",
    "# roc_curve函数返回三个数组：\n",
    "#\n",
    "# fpr：假阳性率（False Positive Rate）数组，即x轴的值。\n",
    "# tpr：真阳性率（True Positive Rate）数组，即y轴的值。\n",
    "# thresholds：分类阈值数组。\n",
    "false_positive_rate, recall, thresholds = roc_curve(y_test, predictions[:, 1])\n",
    "# auc函数用于计算ROC曲线下的面积，即AUC值。以下是auc函数的基本语法：\n",
    "# 参数说明：\n",
    "#\n",
    "# fpr：假阳性率数组。\n",
    "# tpr：真阳性率数组。\n",
    "# auc函数返回一个浮点数，表示ROC曲线下的面积。\n",
    "roc_auc = auc(false_positive_rate, recall)\n",
    "plt.title('Receiver Operating Characteristic')\n",
    "plt.plot(false_positive_rate, recall, 'b', label='AUC = %0.2f' %\n",
    " roc_auc)\n",
    "plt.legend(loc='lower right')\n",
    "plt.plot([0, 1], [0, 1], 'r--')\n",
    "plt.xlim([0.0, 1.0])\n",
    "plt.ylim([0.0, 1.0])\n",
    "plt.ylabel('Recall')\n",
    "plt.xlabel('Fall-out')\n",
    "plt.show()"
   ]
  },
  {
   "cell_type": "markdown",
   "id": "e442a4d7-d360-4f88-bf95-490b39af7ad3",
   "metadata": {},
   "source": [
    "## 6.3 使用网格搜索微调模型"
   ]
  },
  {
   "cell_type": "markdown",
   "id": "f2a2b4b2-0adc-4aaa-a0be-749325e52bbd",
   "metadata": {},
   "source": [
    "代码 6.8"
   ]
  },
  {
   "cell_type": "code",
   "execution_count": 10,
   "id": "11af7f8c-d03b-4976-9e6a-ab3ce8cad448",
   "metadata": {},
   "outputs": [
    {
     "name": "stdout",
     "output_type": "stream",
     "text": [
      "Fitting 3 folds for each of 384 candidates, totalling 1152 fits\n",
      "Best score: 0.983\n",
      "Best parameters set:\n",
      "tclf__C: 10\n",
      "Accuracy: 0.9877961234745154\n",
      "Precision: 0.9935064935064936\n",
      "Recall: 0.9053254437869822\n",
      "tclf__penalty: 'l2'\n",
      "Accuracy: 0.9877961234745154\n",
      "Precision: 0.9935064935064936\n",
      "Recall: 0.9053254437869822\n",
      "tvect__max_df: 0.25\n",
      "Accuracy: 0.9877961234745154\n",
      "Precision: 0.9935064935064936\n",
      "Recall: 0.9053254437869822\n",
      "tvect__max_features: 2500\n",
      "Accuracy: 0.9877961234745154\n",
      "Precision: 0.9935064935064936\n",
      "Recall: 0.9053254437869822\n",
      "tvect__ngram_range: (1, 2)\n",
      "Accuracy: 0.9877961234745154\n",
      "Precision: 0.9935064935064936\n",
      "Recall: 0.9053254437869822\n",
      "tvect__norm: 'l2'\n",
      "Accuracy: 0.9877961234745154\n",
      "Precision: 0.9935064935064936\n",
      "Recall: 0.9053254437869822\n",
      "tvect__stop_words: None\n",
      "Accuracy: 0.9877961234745154\n",
      "Precision: 0.9935064935064936\n",
      "Recall: 0.9053254437869822\n",
      "tvect__use_idf: True\n",
      "Accuracy: 0.9877961234745154\n",
      "Precision: 0.9935064935064936\n",
      "Recall: 0.9053254437869822\n"
     ]
    }
   ],
   "source": [
    "import pandas as pd\n",
    "from sklearn.preprocessing import LabelEncoder\n",
    "from sklearn.feature_extraction.text import TfidfVectorizer\n",
    "from sklearn.linear_model import LogisticRegression\n",
    "from sklearn.model_selection import GridSearchCV\n",
    "from sklearn.pipeline import Pipeline\n",
    "from sklearn.model_selection import train_test_split\n",
    "from sklearn.metrics import precision_score, recall_score, accuracy_score\n",
    "\n",
    "pipeline = Pipeline([\n",
    "    ('vect', TfidfVectorizer(stop_words='english')),\n",
    "    ('clf', LogisticRegression())\n",
    "])\n",
    "parameters = {\n",
    "    'vect__max_df': (0.25, 0.5, 0.75),\n",
    "    'vect__stop_words': ('english', None),\n",
    "    'vect__max_features': (2500, 5000, 10000, None),\n",
    "    'vect__ngram_range': ((1, 1), (1, 2)),\n",
    "    'vect__use_idf': (True, False),\n",
    "    'vect__norm': ['l2'],\n",
    "    'clf__penalty': ['l2'],\n",
    "    'clf__C': (0.01, 0.1, 1, 10),\n",
    "}\n",
    "df = pd.read_csv('./SMSSpamCollection', delimiter='\\t', header=None)\n",
    "X = df[1].values\n",
    "y = df[0].values\n",
    "label_encoder = LabelEncoder()\n",
    "y = label_encoder.fit_transform(y)\n",
    "X_train, X_test, y_train, y_test = train_test_split(X, y)\n",
    "# GridSearchCV是scikit-learn库中的一个用于执行网格搜索的类。网格搜索是一种通过穷举搜索指定参数组合来选择最佳模型参数的方法。\n",
    "grid_search = GridSearchCV(pipeline, parameters, n_jobs=-1,verbose=1, scoring='accuracy', cv=3)\n",
    "grid_search.fit(X_train, y_train)\n",
    "print('Best score: %0.3f' % grid_search.best_score_)\n",
    "print('Best parameters set:')\n",
    "best_parameters = grid_search.best_estimator_.get_params()\n",
    "for param_name in sorted(parameters.keys()):\n",
    "    print('t%s: %r' % (param_name, best_parameters[param_name]))\n",
    "    predictions = grid_search.predict(X_test)\n",
    "    print('Accuracy:', accuracy_score(y_test, predictions))\n",
    "    print('Precision:', precision_score(y_test, predictions))\n",
    "    print('Recall:', recall_score(y_test, predictions))\n"
   ]
  },
  {
   "cell_type": "markdown",
   "id": "8b8bd34b-4e4c-4323-b07d-822c7d79e499",
   "metadata": {},
   "source": [
    "## 6.4 多类别分类"
   ]
  },
  {
   "cell_type": "markdown",
   "id": "634b23f1-aa15-4961-b277-221ff1d2f76a",
   "metadata": {},
   "source": [
    "代码 6.9"
   ]
  },
  {
   "cell_type": "code",
   "execution_count": 11,
   "id": "bc2e1476-53fb-430b-aede-0ab113919cb8",
   "metadata": {},
   "outputs": [],
   "source": [
    "# https://www.kaggle.com/c/sentiment-analysis-on-movie-reviews/data"
   ]
  },
  {
   "cell_type": "code",
   "execution_count": 12,
   "id": "a63a8e72-213a-4fc7-8edf-de8b6cfdbfa4",
   "metadata": {},
   "outputs": [
    {
     "data": {
      "text/plain": [
       "PhraseId      156060\n",
       "SentenceId    156060\n",
       "Phrase        156060\n",
       "Sentiment     156060\n",
       "dtype: int64"
      ]
     },
     "execution_count": 12,
     "metadata": {},
     "output_type": "execute_result"
    }
   ],
   "source": [
    "import pandas as pd \n",
    "df = pd.read_csv('./train.tsv', header=0, delimiter='\\t') \n",
    "df.count()"
   ]
  },
  {
   "cell_type": "code",
   "execution_count": 13,
   "id": "c312d7ad-9360-4d86-8e62-154176341b0b",
   "metadata": {},
   "outputs": [
    {
     "data": {
      "text/html": [
       "<div>\n",
       "<style scoped>\n",
       "    .dataframe tbody tr th:only-of-type {\n",
       "        vertical-align: middle;\n",
       "    }\n",
       "\n",
       "    .dataframe tbody tr th {\n",
       "        vertical-align: top;\n",
       "    }\n",
       "\n",
       "    .dataframe thead th {\n",
       "        text-align: right;\n",
       "    }\n",
       "</style>\n",
       "<table border=\"1\" class=\"dataframe\">\n",
       "  <thead>\n",
       "    <tr style=\"text-align: right;\">\n",
       "      <th></th>\n",
       "      <th>PhraseId</th>\n",
       "      <th>SentenceId</th>\n",
       "      <th>Phrase</th>\n",
       "      <th>Sentiment</th>\n",
       "    </tr>\n",
       "  </thead>\n",
       "  <tbody>\n",
       "    <tr>\n",
       "      <th>0</th>\n",
       "      <td>1</td>\n",
       "      <td>1</td>\n",
       "      <td>A series of escapades demonstrating the adage ...</td>\n",
       "      <td>1</td>\n",
       "    </tr>\n",
       "    <tr>\n",
       "      <th>1</th>\n",
       "      <td>2</td>\n",
       "      <td>1</td>\n",
       "      <td>A series of escapades demonstrating the adage ...</td>\n",
       "      <td>2</td>\n",
       "    </tr>\n",
       "    <tr>\n",
       "      <th>2</th>\n",
       "      <td>3</td>\n",
       "      <td>1</td>\n",
       "      <td>A series</td>\n",
       "      <td>2</td>\n",
       "    </tr>\n",
       "    <tr>\n",
       "      <th>3</th>\n",
       "      <td>4</td>\n",
       "      <td>1</td>\n",
       "      <td>A</td>\n",
       "      <td>2</td>\n",
       "    </tr>\n",
       "    <tr>\n",
       "      <th>4</th>\n",
       "      <td>5</td>\n",
       "      <td>1</td>\n",
       "      <td>series</td>\n",
       "      <td>2</td>\n",
       "    </tr>\n",
       "  </tbody>\n",
       "</table>\n",
       "</div>"
      ],
      "text/plain": [
       "   PhraseId  SentenceId                                             Phrase  \\\n",
       "0         1           1  A series of escapades demonstrating the adage ...   \n",
       "1         2           1  A series of escapades demonstrating the adage ...   \n",
       "2         3           1                                           A series   \n",
       "3         4           1                                                  A   \n",
       "4         5           1                                             series   \n",
       "\n",
       "   Sentiment  \n",
       "0          1  \n",
       "1          2  \n",
       "2          2  \n",
       "3          2  \n",
       "4          2  "
      ]
     },
     "execution_count": 13,
     "metadata": {},
     "output_type": "execute_result"
    }
   ],
   "source": [
    "df.head()"
   ]
  },
  {
   "cell_type": "markdown",
   "id": "3b8c1506-0383-47e0-8d38-ea8bbea6cae6",
   "metadata": {},
   "source": [
    "代码 6.10"
   ]
  },
  {
   "cell_type": "code",
   "execution_count": 14,
   "id": "74b06ce0-8334-4b30-944b-0051c94d027f",
   "metadata": {},
   "outputs": [
    {
     "data": {
      "text/plain": [
       "0    A series of escapades demonstrating the adage ...\n",
       "1    A series of escapades demonstrating the adage ...\n",
       "2                                             A series\n",
       "3                                                    A\n",
       "4                                               series\n",
       "5    of escapades demonstrating the adage that what...\n",
       "6                                                   of\n",
       "7    escapades demonstrating the adage that what is...\n",
       "8                                            escapades\n",
       "9    demonstrating the adage that what is good for ...\n",
       "Name: Phrase, dtype: object"
      ]
     },
     "execution_count": 14,
     "metadata": {},
     "output_type": "execute_result"
    }
   ],
   "source": [
    "df['Phrase'].head(10)"
   ]
  },
  {
   "cell_type": "markdown",
   "id": "7319b770-78ad-4c99-8503-47b14b37a9b4",
   "metadata": {},
   "source": [
    "代码 6.11"
   ]
  },
  {
   "cell_type": "code",
   "execution_count": 15,
   "id": "fa286fef-1381-4c7a-bc5e-fe90cd0fadcb",
   "metadata": {},
   "outputs": [
    {
     "data": {
      "text/plain": [
       "count    156060.000000\n",
       "mean          2.063578\n",
       "std           0.893832\n",
       "min           0.000000\n",
       "25%           2.000000\n",
       "50%           2.000000\n",
       "75%           3.000000\n",
       "max           4.000000\n",
       "Name: Sentiment, dtype: float64"
      ]
     },
     "execution_count": 15,
     "metadata": {},
     "output_type": "execute_result"
    }
   ],
   "source": [
    "df['Sentiment'].describe()"
   ]
  },
  {
   "cell_type": "code",
   "execution_count": 16,
   "id": "ef44675c-370f-4700-9937-8260c80bd0b3",
   "metadata": {},
   "outputs": [
    {
     "data": {
      "text/plain": [
       "Sentiment\n",
       "2    79582\n",
       "3    32927\n",
       "1    27273\n",
       "4     9206\n",
       "0     7072\n",
       "Name: count, dtype: int64"
      ]
     },
     "execution_count": 16,
     "metadata": {},
     "output_type": "execute_result"
    }
   ],
   "source": [
    "df['Sentiment'].value_counts()"
   ]
  },
  {
   "cell_type": "code",
   "execution_count": 17,
   "id": "66d12271-679e-4d0b-a26c-f879a629f736",
   "metadata": {},
   "outputs": [
    {
     "data": {
      "text/plain": [
       "Sentiment\n",
       "2    0.509945\n",
       "3    0.210989\n",
       "1    0.174760\n",
       "4    0.058990\n",
       "0    0.045316\n",
       "Name: count, dtype: float64"
      ]
     },
     "execution_count": 17,
     "metadata": {},
     "output_type": "execute_result"
    }
   ],
   "source": [
    "df['Sentiment'].value_counts()/df['Sentiment'].count()"
   ]
  },
  {
   "cell_type": "markdown",
   "id": "56c13269-824a-4fcf-847c-88fc661592db",
   "metadata": {},
   "source": [
    "代码 6.12"
   ]
  },
  {
   "cell_type": "code",
   "execution_count": 18,
   "id": "ddbe1c49-405c-42b8-b376-dacf0e7da1e3",
   "metadata": {},
   "outputs": [
    {
     "name": "stdout",
     "output_type": "stream",
     "text": [
      "Fitting 5 folds for each of 24 candidates, totalling 120 fits\n",
      "Best score: 0.625\n",
      "Best parameters set:\n",
      "tclf__C: 10\n",
      "tvect__max_df: 0.25\n",
      "tvect__ngram_range: (1, 2)\n",
      "tvect__use_idf: False\n"
     ]
    }
   ],
   "source": [
    "from sklearn.feature_extraction.text import TfidfVectorizer\n",
    "from sklearn.linear_model import LogisticRegression\n",
    "from sklearn.model_selection import train_test_split\n",
    "from sklearn.metrics import classification_report, accuracy_score, confusion_matrix\n",
    "from sklearn.pipeline import Pipeline\n",
    "from sklearn.model_selection import GridSearchCV\n",
    "\n",
    "df = pd.read_csv('./train.tsv', header=0, delimiter='\\t')\n",
    "X, y = df['Phrase'], df['Sentiment'].values\n",
    "X_train, X_test, y_train, y_test = train_test_split(X, y,\n",
    "                                                    train_size=0.5)\n",
    "pipeline = Pipeline([\n",
    "    ('vect', TfidfVectorizer(stop_words='english')),\n",
    "    ('clf', LogisticRegression(solver='lbfgs', max_iter=1000))\n",
    "])\n",
    "parameters = {\n",
    "    'vect__max_df': (0.25, 0.5),\n",
    "    'vect__ngram_range': ((1, 1), (1, 2)),\n",
    "    'vect__use_idf': (True, False),\n",
    "    'clf__C': (0.1, 1, 10),\n",
    "}\n",
    "grid_search = GridSearchCV(pipeline, parameters, n_jobs=-1,verbose=1, scoring='accuracy')\n",
    "grid_search.fit(X_train, y_train)\n",
    "print('Best score: %0.3f' % grid_search.best_score_)\n",
    "print('Best parameters set:')\n",
    "best_parameters = grid_search.best_estimator_.get_params()\n",
    "for param_name in sorted(parameters.keys()):\n",
    "    print('t%s: %r' % (param_name, best_parameters[param_name]))\n"
   ]
  },
  {
   "cell_type": "markdown",
   "id": "40459a19-fda6-4d86-a1a5-33ba54463f05",
   "metadata": {},
   "source": [
    "### 多类别分类性能衡量指标"
   ]
  },
  {
   "cell_type": "markdown",
   "id": "3376003f-2f0f-4183-891c-ae507c1d5411",
   "metadata": {},
   "source": [
    "代码 6.13"
   ]
  },
  {
   "cell_type": "code",
   "execution_count": 19,
   "id": "20a66488-57b3-4382-a09a-c28c22af20f3",
   "metadata": {},
   "outputs": [
    {
     "name": "stdout",
     "output_type": "stream",
     "text": [
      "Accuracy: 0.6315775983596053\n",
      "Confusion Matrix:\n",
      "[[ 1190  1672   579    71     7]\n",
      " [ 1041  6130  5977   521    22]\n",
      " [  260  3382 31996  3950   171]\n",
      " [   37   453  6301  8163  1499]\n",
      " [    3    39   465  2298  1803]]\n",
      "Classification Report:\n",
      "              precision    recall  f1-score   support\n",
      "\n",
      "           0       0.47      0.34      0.39      3519\n",
      "           1       0.53      0.45      0.48     13691\n",
      "           2       0.71      0.80      0.75     39759\n",
      "           3       0.54      0.50      0.52     16453\n",
      "           4       0.51      0.39      0.44      4608\n",
      "\n",
      "    accuracy                           0.63     78030\n",
      "   macro avg       0.55      0.50      0.52     78030\n",
      "weighted avg       0.62      0.63      0.62     78030\n",
      "\n"
     ]
    }
   ],
   "source": [
    "predictions = grid_search.predict(X_test) \n",
    "print('Accuracy: %s' % accuracy_score(y_test, predictions)) \n",
    "print('Confusion Matrix:') \n",
    "print(confusion_matrix(y_test, predictions)) \n",
    "print('Classification Report:') \n",
    "print(classification_report(y_test, predictions))"
   ]
  },
  {
   "cell_type": "markdown",
   "id": "186cff14-7e91-4070-83f7-82aad7dd4cc6",
   "metadata": {},
   "source": [
    "## 6.5 多标签分类和问题转换"
   ]
  },
  {
   "cell_type": "markdown",
   "id": "be8ae882-bf06-4469-b4da-c985dbc801cb",
   "metadata": {},
   "source": [
    "### 多标签分类性能衡量指标"
   ]
  },
  {
   "cell_type": "markdown",
   "id": "2f85cdc9-ad96-48c1-9337-c55d3eba4850",
   "metadata": {},
   "source": [
    "代码 6.14"
   ]
  },
  {
   "cell_type": "code",
   "execution_count": 20,
   "id": "1a4b276c-8350-4ae1-9905-1d1fe73fdb63",
   "metadata": {},
   "outputs": [
    {
     "name": "stdout",
     "output_type": "stream",
     "text": [
      "0.0\n"
     ]
    }
   ],
   "source": [
    "import numpy as np \n",
    "from sklearn.metrics import hamming_loss, jaccard_score\n",
    "print(hamming_loss(np.array([[0.0, 1.0], [1.0, 1.0]]), \n",
    " np.array([[0.0, 1.0], \n",
    " [1.0, 1.0]])))"
   ]
  },
  {
   "cell_type": "code",
   "execution_count": 21,
   "id": "39f9d19c-5940-48c3-adf2-a8a61d8df10b",
   "metadata": {},
   "outputs": [
    {
     "name": "stdout",
     "output_type": "stream",
     "text": [
      "0.25\n"
     ]
    }
   ],
   "source": [
    "print(hamming_loss(np.array([[0.0, 1.0], [1.0, 1.0]]), \n",
    " np.array([[1.0, 1.0], \n",
    " [1.0, 1.0]])))"
   ]
  },
  {
   "cell_type": "code",
   "execution_count": 22,
   "id": "f5e85676-0d6a-424a-b453-328a16b55231",
   "metadata": {},
   "outputs": [
    {
     "name": "stdout",
     "output_type": "stream",
     "text": [
      "0.5\n"
     ]
    }
   ],
   "source": [
    "print(hamming_loss(np.array([[0.0, 1.0], [1.0, 1.0]]), \n",
    " np.array([[1.0, 1.0], \n",
    " [0.0, 1.0]])))"
   ]
  },
  {
   "cell_type": "raw",
   "id": "01cdc2f4-dc85-4efd-9d75-2711f88ac7b4",
   "metadata": {},
   "source": [
    "print(jaccard_similarity_score(np.array([[0.0, 1.0], [1.0, 1.0]]), \n",
    " np.array([[0.0, 1.0], [1.0, 1.0]])))"
   ]
  },
  {
   "cell_type": "raw",
   "id": "144672c4-9e50-4e6d-8f2c-c30884478e8c",
   "metadata": {},
   "source": [
    "print(jaccard_similarity_score(np.array([[0.0, 1.0], [1.0, 1.0]]), \n",
    " np.array([[1.0, 1.0], [1.0, 1.0]])))"
   ]
  },
  {
   "cell_type": "raw",
   "id": "459ef508-f8fb-4e85-97fa-43f420773b05",
   "metadata": {},
   "source": [
    "print(jaccard_similarity_score(np.array([[0.0, 1.0], [1.0, 1.0]]), \n",
    " np.array([[1.0, 1.0], [0.0, 1.0]])))"
   ]
  }
 ],
 "metadata": {
  "kernelspec": {
   "display_name": "Python 3 (ipykernel)",
   "language": "python",
   "name": "python3"
  },
  "language_info": {
   "codemirror_mode": {
    "name": "ipython",
    "version": 3
   },
   "file_extension": ".py",
   "mimetype": "text/x-python",
   "name": "python",
   "nbconvert_exporter": "python",
   "pygments_lexer": "ipython3",
   "version": "3.11.4"
  }
 },
 "nbformat": 4,
 "nbformat_minor": 5
}
