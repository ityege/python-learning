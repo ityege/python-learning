{
 "cells": [
  {
   "cell_type": "markdown",
   "id": "92110836-355f-4459-bebd-a86b5f36c172",
   "metadata": {},
   "source": [
    "# 方法1：使用f-string"
   ]
  },
  {
   "cell_type": "markdown",
   "id": "1615ec9a-1e83-4ed4-ba13-d8c5b25b510d",
   "metadata": {},
   "source": [
    "f-string是一个以 f 或 F 开头的字符串字面量。前缀f或F表示字符串是f-string。字符串包含用花括号{}括起来的表达式。这些表达式可以具有在运行时计算的动态值。"
   ]
  },
  {
   "cell_type": "code",
   "execution_count": 1,
   "id": "c45a9a24-8bac-422f-8626-75b3e9123e32",
   "metadata": {},
   "outputs": [
    {
     "name": "stdout",
     "output_type": "stream",
     "text": [
      "My name is John. I am 25 years old and 1.75 meters tall.\n"
     ]
    }
   ],
   "source": [
    "name = 'John'\n",
    "age = 25\n",
    "height = 1.75\n",
    "\n",
    "message = f\"My name is {name}. I am {age} years old and {height} meters tall.\"\n",
    "print(message)"
   ]
  },
  {
   "cell_type": "markdown",
   "id": "87bf00a3-a75c-4423-ad4b-6eacf5480a12",
   "metadata": {},
   "source": [
    "# 方法2：使用format()方法"
   ]
  },
  {
   "cell_type": "markdown",
   "id": "1c57644c-cea1-44df-8fbd-0c9fd518cdb3",
   "metadata": {},
   "source": [
    "使用format()方法通过在字符串中插入占位符来进行字符串插值。在这些占位符中用花括号{}来表示。这些占位符中的值是从字符串末尾的.format()属性中取出的。"
   ]
  },
  {
   "cell_type": "code",
   "execution_count": 2,
   "id": "4f2af1f0-73a9-403b-bf84-e85442d5ed09",
   "metadata": {},
   "outputs": [
    {
     "name": "stdout",
     "output_type": "stream",
     "text": [
      "My name is John. I am 25 years old and 1.75 meters tall.\n"
     ]
    }
   ],
   "source": [
    "name = 'John'\n",
    "age = 25\n",
    "height = 1.75\n",
    "\n",
    "message = \"My name is {}. I am {} years old and {} meters tall.\".format(name, age, height)\n",
    "print(message)"
   ]
  },
  {
   "cell_type": "markdown",
   "id": "2defab03-7adb-43d8-b54f-46f088d32759",
   "metadata": {},
   "source": [
    "# 方法3：使用%运算符"
   ]
  },
  {
   "cell_type": "markdown",
   "id": "12def103-58a1-4cc1-9e12-81b858174ea4",
   "metadata": {},
   "source": [
    "%运算符的工作原理类似于C编程中printf()函数中使用%运算符的方式。字符串包含形式为%s、%d、%f等的表达式，这些表达式指定了值的类型，例如%s指定字符串，%d指定整数，%f指定浮点值，等等。"
   ]
  },
  {
   "cell_type": "code",
   "execution_count": 3,
   "id": "8c2f499e-2cec-43d1-be10-0f22499c8f78",
   "metadata": {},
   "outputs": [
    {
     "name": "stdout",
     "output_type": "stream",
     "text": [
      "My name is John. I am 25 years old and 1.75 meters tall.\n"
     ]
    }
   ],
   "source": [
    "name = 'John'\n",
    "age = 25\n",
    "height = 1.75\n",
    "\n",
    "message = \"My name is %s. I am %d years old and %.2f meters tall.\" % (name, age, height)\n",
    "print(message)"
   ]
  }
 ],
 "metadata": {
  "kernelspec": {
   "display_name": "Python 3 (ipykernel)",
   "language": "python",
   "name": "python3"
  },
  "language_info": {
   "codemirror_mode": {
    "name": "ipython",
    "version": 3
   },
   "file_extension": ".py",
   "mimetype": "text/x-python",
   "name": "python",
   "nbconvert_exporter": "python",
   "pygments_lexer": "ipython3",
   "version": "3.11.4"
  }
 },
 "nbformat": 4,
 "nbformat_minor": 5
}
