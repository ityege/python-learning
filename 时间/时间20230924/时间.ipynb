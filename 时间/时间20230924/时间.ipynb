{
 "cells": [
  {
   "cell_type": "code",
   "execution_count": 1,
   "id": "b5133495-2305-4a50-aa8c-f36802598e0d",
   "metadata": {},
   "outputs": [],
   "source": [
    "import time"
   ]
  },
  {
   "cell_type": "markdown",
   "id": "2a9c5a24-6b15-4cdf-8dcd-8c2f02858f6d",
   "metadata": {},
   "source": [
    "### 时间戳转字符串"
   ]
  },
  {
   "cell_type": "code",
   "execution_count": 2,
   "id": "3217f739-0f03-461c-be78-64ff791b2a08",
   "metadata": {},
   "outputs": [
    {
     "data": {
      "text/plain": [
       "1694228185.0436535"
      ]
     },
     "execution_count": 2,
     "metadata": {},
     "output_type": "execute_result"
    }
   ],
   "source": [
    "time.time()"
   ]
  },
  {
   "cell_type": "code",
   "execution_count": 12,
   "id": "8af47ea0-729f-4deb-b22d-e00dc2c8db4b",
   "metadata": {},
   "outputs": [],
   "source": [
    "struct_time = time.localtime(time.time()) "
   ]
  },
  {
   "cell_type": "code",
   "execution_count": 13,
   "id": "3e3a3204-6f2d-437f-b39c-311d447f0c8f",
   "metadata": {},
   "outputs": [
    {
     "name": "stdout",
     "output_type": "stream",
     "text": [
      "2023-09-09 11:10:27\n"
     ]
    }
   ],
   "source": [
    "str_time = time.strftime(\"%Y-%m-%d %H:%M:%S\", struct_time)\n",
    "print(str_time)"
   ]
  },
  {
   "cell_type": "markdown",
   "id": "c0f037a9-f5c7-4d83-b38c-0f11f052069a",
   "metadata": {},
   "source": [
    "### 字符串转时间戳"
   ]
  },
  {
   "cell_type": "code",
   "execution_count": 15,
   "id": "d5e60afe-2939-40b7-89e2-6de3fe1d59b9",
   "metadata": {},
   "outputs": [
    {
     "name": "stdout",
     "output_type": "stream",
     "text": [
      "time.struct_time(tm_year=2023, tm_mon=3, tm_mday=3, tm_hour=21, tm_min=34, tm_sec=0, tm_wday=4, tm_yday=62, tm_isdst=-1)\n"
     ]
    }
   ],
   "source": [
    "str_time = \"2023-03-03 21:34:00\"\n",
    "struct_time = time.strptime(str_time, \"%Y-%m-%d %H:%M:%S\")\n",
    "print(struct_time)"
   ]
  },
  {
   "cell_type": "code",
   "execution_count": 16,
   "id": "37133f5e-69f0-4545-9524-c9bb0c5eb0c3",
   "metadata": {},
   "outputs": [
    {
     "data": {
      "text/plain": [
       "1677850440.0"
      ]
     },
     "execution_count": 16,
     "metadata": {},
     "output_type": "execute_result"
    }
   ],
   "source": [
    "time.mktime(struct_time)"
   ]
  }
 ],
 "metadata": {
  "kernelspec": {
   "display_name": "Python 3 (ipykernel)",
   "language": "python",
   "name": "python3"
  },
  "language_info": {
   "codemirror_mode": {
    "name": "ipython",
    "version": 3
   },
   "file_extension": ".py",
   "mimetype": "text/x-python",
   "name": "python",
   "nbconvert_exporter": "python",
   "pygments_lexer": "ipython3",
   "version": "3.11.4"
  }
 },
 "nbformat": 4,
 "nbformat_minor": 5
}
