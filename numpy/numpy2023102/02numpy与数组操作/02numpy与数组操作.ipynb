{
 "cells": [
  {
   "cell_type": "markdown",
   "id": "49d59372-df18-4b60-931f-a721bd5de2a0",
   "metadata": {},
   "source": [
    "## 2.1 数组形状变换函数"
   ]
  },
  {
   "cell_type": "markdown",
   "id": "f50b1fd3-8b8a-434b-964a-0f502067650d",
   "metadata": {},
   "source": [
    "### 2.1.1 np.reshape"
   ]
  },
  {
   "cell_type": "code",
   "execution_count": 1,
   "id": "491be6e6-078f-4ea8-9dba-4cdf21a385cf",
   "metadata": {},
   "outputs": [],
   "source": [
    "import numpy as np"
   ]
  },
  {
   "cell_type": "code",
   "execution_count": 2,
   "id": "e158df83-dd3e-4690-9144-d18c46fc560e",
   "metadata": {},
   "outputs": [
    {
     "data": {
      "text/plain": [
       "array([ 0,  1,  2,  3,  4,  5,  6,  7,  8,  9, 10, 11])"
      ]
     },
     "execution_count": 2,
     "metadata": {},
     "output_type": "execute_result"
    }
   ],
   "source": [
    "a = np.arange(12) #  创建一个一维数组\n",
    "a"
   ]
  },
  {
   "cell_type": "code",
   "execution_count": 3,
   "id": "4e0264d6-aa2f-447c-8432-d295e2f82317",
   "metadata": {},
   "outputs": [
    {
     "data": {
      "text/plain": [
       "array([[ 0,  1,  2,  3],\n",
       "       [ 4,  5,  6,  7],\n",
       "       [ 8,  9, 10, 11]])"
      ]
     },
     "execution_count": 3,
     "metadata": {},
     "output_type": "execute_result"
    }
   ],
   "source": [
    "b = np.reshape(a, (3, 4)) # 变形为3×4的二维数组\n",
    "b # 确认变形是否成功"
   ]
  },
  {
   "cell_type": "code",
   "execution_count": 4,
   "id": "556e5da3-01bf-4097-adc7-230c3c29bc18",
   "metadata": {},
   "outputs": [
    {
     "data": {
      "text/plain": [
       "array([[ 0,  0,  2,  3],\n",
       "       [ 4,  5,  6,  7],\n",
       "       [ 8,  9, 10, 11]])"
      ]
     },
     "execution_count": 4,
     "metadata": {},
     "output_type": "execute_result"
    }
   ],
   "source": [
    "b[0, 1] = 0 # 更改其中一个元素的值\n",
    "b"
   ]
  },
  {
   "cell_type": "code",
   "execution_count": 5,
   "id": "95185408-981e-488f-9e7f-1cf70878234a",
   "metadata": {},
   "outputs": [
    {
     "data": {
      "text/plain": [
       "array([ 0,  0,  2,  3,  4,  5,  6,  7,  8,  9, 10, 11])"
      ]
     },
     "execution_count": 5,
     "metadata": {},
     "output_type": "execute_result"
    }
   ],
   "source": [
    "a # a中相应元素的值也发生了变化"
   ]
  },
  {
   "cell_type": "code",
   "execution_count": 6,
   "id": "53bad205-679a-4675-ad0d-822520b41ce5",
   "metadata": {},
   "outputs": [],
   "source": [
    "c = np.arange(12) # 再次创建相同的数组"
   ]
  },
  {
   "cell_type": "code",
   "execution_count": 7,
   "id": "62f4ca20-a9ed-4bef-a01b-e365a3cc66b6",
   "metadata": {},
   "outputs": [
    {
     "data": {
      "text/plain": [
       "array([[ 0,  1,  2,  3],\n",
       "       [ 4,  5,  6,  7],\n",
       "       [ 8,  9, 10, 11]])"
      ]
     },
     "execution_count": 7,
     "metadata": {},
     "output_type": "execute_result"
    }
   ],
   "source": [
    "d = np.reshape(c, (3,4), order='C') # 通过指定order参数，可以改变元素的排列顺序\n",
    "d #  'C'为默认设置，因此输出的结果仍然是一样的"
   ]
  },
  {
   "cell_type": "code",
   "execution_count": 8,
   "id": "df7f088e-f0bc-4703-9007-b5a634769d6a",
   "metadata": {},
   "outputs": [
    {
     "data": {
      "text/plain": [
       "array([[ 0,  3,  6,  9],\n",
       "       [ 1,  4,  7, 10],\n",
       "       [ 2,  5,  8, 11]])"
      ]
     },
     "execution_count": 8,
     "metadata": {},
     "output_type": "execute_result"
    }
   ],
   "source": [
    "d = np.reshape(c, (3, 4), order='F') # 如果将order设置为'F'，则首先对高维度元素的索引进行变形\n",
    "d"
   ]
  },
  {
   "cell_type": "code",
   "execution_count": 9,
   "id": "76a26cd1-8e79-4860-bcbe-4fae75d2b281",
   "metadata": {},
   "outputs": [],
   "source": [
    "# np.reshape(c, (3, 5)) #如果变形后的数组的shape与元素数量不匹配，就会导致运行时错误发生"
   ]
  },
  {
   "cell_type": "code",
   "execution_count": 10,
   "id": "36889fe0-126a-48ee-ae40-921c06d95d55",
   "metadata": {},
   "outputs": [
    {
     "data": {
      "text/plain": [
       "array([ 0,  1,  2,  3,  4,  5,  6,  7,  8,  9, 10, 11])"
      ]
     },
     "execution_count": 10,
     "metadata": {},
     "output_type": "execute_result"
    }
   ],
   "source": [
    "a = np.arange(12) # 再次创建同一数组\n",
    "a"
   ]
  },
  {
   "cell_type": "code",
   "execution_count": 11,
   "id": "b00353c9-c0d9-4f6e-8b69-1bf16f44b864",
   "metadata": {},
   "outputs": [
    {
     "data": {
      "text/plain": [
       "array([[ 0,  1,  2,  3],\n",
       "       [ 4,  5,  6,  7],\n",
       "       [ 8,  9, 10, 11]])"
      ]
     },
     "execution_count": 11,
     "metadata": {},
     "output_type": "execute_result"
    }
   ],
   "source": [
    "np.reshape(a, (3, -1)) #  将shape指定为(n, –1)，就会得到n×m（m是对数组中元素数量进行适配得到的值）的数组"
   ]
  },
  {
   "cell_type": "code",
   "execution_count": 12,
   "id": "1abd8388-53e4-4831-a8c7-1c8c384afbd4",
   "metadata": {},
   "outputs": [
    {
     "data": {
      "text/plain": [
       "array([[ 0,  1,  2,  3,  4,  5],\n",
       "       [ 6,  7,  8,  9, 10, 11]])"
      ]
     },
     "execution_count": 12,
     "metadata": {},
     "output_type": "execute_result"
    }
   ],
   "source": [
    "np.reshape(a, (-1, 6)) # 尝试设置不同的值"
   ]
  },
  {
   "cell_type": "code",
   "execution_count": 13,
   "id": "cec13e9d-9a79-4e59-8c72-139d1c04a6ab",
   "metadata": {},
   "outputs": [
    {
     "data": {
      "text/plain": [
       "array([[ 0,  1,  2,  3],\n",
       "       [ 4,  5,  6,  7],\n",
       "       [ 8,  9, 10, 11]])"
      ]
     },
     "execution_count": 13,
     "metadata": {},
     "output_type": "execute_result"
    }
   ],
   "source": [
    "a = np.arange(12).reshape((3, 4))\n",
    "a"
   ]
  },
  {
   "cell_type": "code",
   "execution_count": 14,
   "id": "f5387fda-20f5-49a5-a384-ec43a63ac61a",
   "metadata": {},
   "outputs": [
    {
     "data": {
      "text/plain": [
       "array([[ 0,  1,  2,  3],\n",
       "       [ 4,  5,  6,  7],\n",
       "       [ 8,  9, 10, 11]])"
      ]
     },
     "execution_count": 14,
     "metadata": {},
     "output_type": "execute_result"
    }
   ],
   "source": [
    "b = np.arange(12).reshape((3, -1)) # 也可以使用-1\n",
    "b"
   ]
  },
  {
   "cell_type": "code",
   "execution_count": 15,
   "id": "41acdadb-d5f0-4631-ac4f-6d206f2bf3a6",
   "metadata": {},
   "outputs": [],
   "source": [
    "# c = np.arange(15).reshape((3, 4)) # 如果元素数量与输出的数组不同，就会导致运行时发生错误"
   ]
  },
  {
   "cell_type": "markdown",
   "id": "79daa700-2a90-445a-9975-29b06962a1e2",
   "metadata": {},
   "source": [
    "### 2.1.2 np.resize"
   ]
  },
  {
   "cell_type": "code",
   "execution_count": 16,
   "id": "20534414-07a8-487a-b2a8-1ac69351eeb8",
   "metadata": {},
   "outputs": [
    {
     "data": {
      "text/plain": [
       "array([ 0,  1,  2,  3,  4,  5,  6,  7,  8,  9, 10, 11])"
      ]
     },
     "execution_count": 16,
     "metadata": {},
     "output_type": "execute_result"
    }
   ],
   "source": [
    "a = np.arange(12)\n",
    "a"
   ]
  },
  {
   "cell_type": "code",
   "execution_count": 17,
   "id": "b8f0d4a3-90bb-4477-9753-d2b6a105435c",
   "metadata": {},
   "outputs": [
    {
     "data": {
      "text/plain": [
       "array([[ 0,  1,  2,  3],\n",
       "       [ 4,  5,  6,  7],\n",
       "       [ 8,  9, 10, 11]])"
      ]
     },
     "execution_count": 17,
     "metadata": {},
     "output_type": "execute_result"
    }
   ],
   "source": [
    "np.reshape(a, (3, 4)) # 首先创建一个3×4的二维数组"
   ]
  },
  {
   "cell_type": "code",
   "execution_count": 18,
   "id": "218d9f62-a5ee-4383-99e2-04155bebc257",
   "metadata": {},
   "outputs": [
    {
     "data": {
      "text/plain": [
       "array([[ 0,  1,  2,  3,  4],\n",
       "       [ 5,  6,  7,  8,  9],\n",
       "       [10, 11,  0,  1,  2]])"
      ]
     },
     "execution_count": 18,
     "metadata": {},
     "output_type": "execute_result"
    }
   ],
   "source": [
    "np.resize(a, (3, 5)) #  当数组的尺寸大于元素数量时，原有的元素会被重复使用"
   ]
  },
  {
   "cell_type": "code",
   "execution_count": 19,
   "id": "85dbfd5b-9218-4d16-86b0-7162837d1fa6",
   "metadata": {},
   "outputs": [
    {
     "data": {
      "text/plain": [
       "array([[0, 1],\n",
       "       [2, 3],\n",
       "       [4, 5]])"
      ]
     },
     "execution_count": 19,
     "metadata": {},
     "output_type": "execute_result"
    }
   ],
   "source": [
    "np.resize(a, (3, 2)) # 当数组的尺寸小于元素数量时，原有的元素不会全部被使用"
   ]
  },
  {
   "cell_type": "code",
   "execution_count": 20,
   "id": "28a5cc15-7b4a-48c6-94ea-ac2dd50b3933",
   "metadata": {},
   "outputs": [
    {
     "data": {
      "text/plain": [
       "array([[ 0,  1,  2,  3],\n",
       "       [ 4,  5,  6,  7],\n",
       "       [ 8,  9, 10, 11]])"
      ]
     },
     "execution_count": 20,
     "metadata": {},
     "output_type": "execute_result"
    }
   ],
   "source": [
    "b = np.resize(a, (3, 4))\n",
    "b"
   ]
  },
  {
   "cell_type": "code",
   "execution_count": 21,
   "id": "7b97cd6c-ee50-43c6-a67b-19558136b550",
   "metadata": {},
   "outputs": [
    {
     "data": {
      "text/plain": [
       "array([[ 0,  0,  2,  3],\n",
       "       [ 4,  5,  6,  7],\n",
       "       [ 8,  9, 10, 11]])"
      ]
     },
     "execution_count": 21,
     "metadata": {},
     "output_type": "execute_result"
    }
   ],
   "source": [
    "b[0, 1] = 0 # 修改数组中的元素\n",
    "b"
   ]
  },
  {
   "cell_type": "code",
   "execution_count": 22,
   "id": "166dcf5b-6cd6-4ca8-b496-a520552d8e01",
   "metadata": {},
   "outputs": [
    {
     "data": {
      "text/plain": [
       "array([ 0,  1,  2,  3,  4,  5,  6,  7,  8,  9, 10, 11])"
      ]
     },
     "execution_count": 22,
     "metadata": {},
     "output_type": "execute_result"
    }
   ],
   "source": [
    "a # 原有数组中的元素并没有同时被修改"
   ]
  },
  {
   "cell_type": "markdown",
   "id": "bfa066c0-8f11-4137-8496-8d41e605c1c2",
   "metadata": {},
   "source": [
    "### 2.1.3 ndarray.resize"
   ]
  },
  {
   "cell_type": "code",
   "execution_count": 23,
   "id": "6a24aad3-df12-4a1c-986c-aa75d46a2855",
   "metadata": {},
   "outputs": [
    {
     "data": {
      "text/plain": [
       "array([ 0,  1,  2,  3,  4,  5,  6,  7,  8,  9, 10, 11])"
      ]
     },
     "execution_count": 23,
     "metadata": {},
     "output_type": "execute_result"
    }
   ],
   "source": [
    "a = np.arange(12) #  创建一个变形前的数组\n",
    "a"
   ]
  },
  {
   "cell_type": "code",
   "execution_count": 24,
   "id": "6252bce3-86b4-42fb-8008-63d74fb4c039",
   "metadata": {},
   "outputs": [
    {
     "data": {
      "text/plain": [
       "array([[ 0,  1,  2,  3],\n",
       "       [ 4,  5,  6,  7],\n",
       "       [ 8,  9, 10, 11]])"
      ]
     },
     "execution_count": 24,
     "metadata": {},
     "output_type": "execute_result"
    }
   ],
   "source": [
    "a.resize((3, 4)) # 变形\n",
    "a"
   ]
  },
  {
   "cell_type": "code",
   "execution_count": 25,
   "id": "222f392e-7fd1-4086-9924-cd354919b620",
   "metadata": {},
   "outputs": [],
   "source": [
    "# a.resize((3, 5)) #  和之前的np.resize函数调用不同，变形后的数组的shape与元素数量不匹配，因此会导致运行时错误发生"
   ]
  },
  {
   "cell_type": "code",
   "execution_count": 26,
   "id": "4c8b64b3-35f9-4585-b55f-6ceb1b7569b5",
   "metadata": {},
   "outputs": [],
   "source": [
    "a.resize((3, 5), refcheck=False) #  将参数refcheck指定为False，程序会自动匹配数组的形状并填充相应的元素值。但是，对\n",
    "# 于欠缺的元素使用0值进行填充"
   ]
  },
  {
   "cell_type": "code",
   "execution_count": 27,
   "id": "8c56f181-3da9-4784-8bcd-052c7e5cc22a",
   "metadata": {},
   "outputs": [
    {
     "data": {
      "text/plain": [
       "array([[ 0,  1,  2,  3,  4],\n",
       "       [ 5,  6,  7,  8,  9],\n",
       "       [10, 11,  0,  0,  0]])"
      ]
     },
     "execution_count": 27,
     "metadata": {},
     "output_type": "execute_result"
    }
   ],
   "source": [
    "a"
   ]
  },
  {
   "cell_type": "code",
   "execution_count": 28,
   "id": "7b105019-a405-4532-8448-2e9e317d00cd",
   "metadata": {},
   "outputs": [
    {
     "data": {
      "text/plain": [
       "array([[ 0,  1,  2,  3],\n",
       "       [ 4,  5,  6,  7],\n",
       "       [ 8,  9, 10, 11]])"
      ]
     },
     "execution_count": 28,
     "metadata": {},
     "output_type": "execute_result"
    }
   ],
   "source": [
    "b = np.arange(12) #  再次创建一个新的数组\n",
    "c = b #  将b代入c中\n",
    "c.resize((3, 4)) #只对c进行变形\n",
    "c"
   ]
  },
  {
   "cell_type": "code",
   "execution_count": 29,
   "id": "e5af9a77-475a-4c4d-8adb-4388ae7cfd6f",
   "metadata": {},
   "outputs": [
    {
     "data": {
      "text/plain": [
       "array([[ 0,  1,  2,  3],\n",
       "       [ 4,  5,  6,  7],\n",
       "       [ 8,  9, 10, 11]])"
      ]
     },
     "execution_count": 29,
     "metadata": {},
     "output_type": "execute_result"
    }
   ],
   "source": [
    "b #  对数组c所做的改动也会被反映到数组b中"
   ]
  },
  {
   "cell_type": "markdown",
   "id": "0dfb6274-8e97-4f45-9021-de34f8adc3de",
   "metadata": {},
   "source": [
    "### 2.1.4 np.reshape与np.resize等的区别"
   ]
  },
  {
   "cell_type": "markdown",
   "id": "6c18dbc2-e369-4d2c-a2dc-781a99ea404e",
   "metadata": {},
   "source": [
    "## 2.2 添加元素到数组末尾的函数"
   ]
  },
  {
   "cell_type": "markdown",
   "id": "a57fa2ef-e43e-4c24-b75e-1f6cd56b0528",
   "metadata": {},
   "source": [
    "### 2.2.1 Python列表的append方法"
   ]
  },
  {
   "cell_type": "code",
   "execution_count": 30,
   "id": "faafc9a8-9b0e-495e-8eaa-3ade2f3f80c6",
   "metadata": {},
   "outputs": [],
   "source": [
    "a = [1, 2, 3]"
   ]
  },
  {
   "cell_type": "code",
   "execution_count": 31,
   "id": "2bd38b1d-cbc5-467b-92e1-776c962fe120",
   "metadata": {},
   "outputs": [
    {
     "data": {
      "text/plain": [
       "[1, 2, 3, 2]"
      ]
     },
     "execution_count": 31,
     "metadata": {},
     "output_type": "execute_result"
    }
   ],
   "source": [
    "a.append(2)\n",
    "a"
   ]
  },
  {
   "cell_type": "code",
   "execution_count": 32,
   "id": "f78d93d8-e041-4efd-9024-7ec698b951df",
   "metadata": {},
   "outputs": [
    {
     "data": {
      "text/plain": [
       "[1, 2, 3, 4, 5, 6]"
      ]
     },
     "execution_count": 32,
     "metadata": {},
     "output_type": "execute_result"
    }
   ],
   "source": [
    "a = [1, 2, 3]\n",
    "a.extend([4, 5, 6])\n",
    "a"
   ]
  },
  {
   "cell_type": "markdown",
   "id": "cedc858c-dfa6-4fee-af5e-d2833d997004",
   "metadata": {},
   "source": [
    "### 2.2.2 np.append"
   ]
  },
  {
   "cell_type": "code",
   "execution_count": 33,
   "id": "c4c487a8-73b7-44a5-8ff1-4a1625bbcf79",
   "metadata": {},
   "outputs": [],
   "source": [
    "import numpy as np"
   ]
  },
  {
   "cell_type": "code",
   "execution_count": 34,
   "id": "9ee8af70-7983-45fb-8e97-d2b72b5228ae",
   "metadata": {},
   "outputs": [
    {
     "data": {
      "text/plain": [
       "array([ 0,  1,  2,  3,  4,  5,  6,  7,  8,  9, 10, 11])"
      ]
     },
     "execution_count": 34,
     "metadata": {},
     "output_type": "execute_result"
    }
   ],
   "source": [
    "a = np.arange(12)\n",
    "a"
   ]
  },
  {
   "cell_type": "code",
   "execution_count": 35,
   "id": "6a00a94a-e99c-4e78-8593-c6ede5b1f9f8",
   "metadata": {},
   "outputs": [
    {
     "data": {
      "text/plain": [
       "array([ 0,  1,  2,  3,  4,  5,  6,  7,  8,  9, 10, 11,  6,  4,  2])"
      ]
     },
     "execution_count": 35,
     "metadata": {},
     "output_type": "execute_result"
    }
   ],
   "source": [
    "np.append(a, [6, 4, 2]) # 在a的末尾添加元素"
   ]
  },
  {
   "cell_type": "code",
   "execution_count": 36,
   "id": "59ee2f93-dabd-48aa-a122-aa5600466e5e",
   "metadata": {},
   "outputs": [
    {
     "data": {
      "text/plain": [
       "array([[ 0,  1,  2,  3],\n",
       "       [ 4,  5,  6,  7],\n",
       "       [ 8,  9, 10, 11]])"
      ]
     },
     "execution_count": 36,
     "metadata": {},
     "output_type": "execute_result"
    }
   ],
   "source": [
    "b = np.arange(12).reshape((3, 4))\n",
    "b"
   ]
  },
  {
   "cell_type": "code",
   "execution_count": 37,
   "id": "f099cdf6-1542-4635-9175-3559151c8c24",
   "metadata": {},
   "outputs": [
    {
     "data": {
      "text/plain": [
       "array([[ 0,  1,  2,  3],\n",
       "       [ 4,  5,  6,  7],\n",
       "       [ 8,  9, 10, 11]])"
      ]
     },
     "execution_count": 37,
     "metadata": {},
     "output_type": "execute_result"
    }
   ],
   "source": [
    "np.append(b, [1, 2, 3, 4]) # 如果不指定axis，返回的就是一维数组\n",
    "b"
   ]
  },
  {
   "cell_type": "code",
   "execution_count": 38,
   "id": "af32a8af-5f6e-45f6-80b6-76fa740522f4",
   "metadata": {},
   "outputs": [
    {
     "data": {
      "text/plain": [
       "array([[ 0,  1,  2,  3],\n",
       "       [ 4,  5,  6,  7],\n",
       "       [ 8,  9, 10, 11],\n",
       "       [12, 13, 14, 15]])"
      ]
     },
     "execution_count": 38,
     "metadata": {},
     "output_type": "execute_result"
    }
   ],
   "source": [
    "np.append(b, [[12, 13, 14, 15]], axis=0)"
   ]
  },
  {
   "cell_type": "code",
   "execution_count": 39,
   "id": "5c1aae51-3493-4ef0-a9f5-215575c55782",
   "metadata": {},
   "outputs": [],
   "source": [
    "# np.append(b, [12, 13, 14, 15], axis=0) # shape不一致时，会导致运行时产生错误"
   ]
  },
  {
   "cell_type": "code",
   "execution_count": 40,
   "id": "8516fc6f-7ded-425d-a8d2-ef45178a4b2e",
   "metadata": {},
   "outputs": [
    {
     "data": {
      "text/plain": [
       "array([[ 0,  1,  2,  3],\n",
       "       [ 4,  5,  6,  7],\n",
       "       [ 8,  9, 10, 11]])"
      ]
     },
     "execution_count": 40,
     "metadata": {},
     "output_type": "execute_result"
    }
   ],
   "source": [
    "c = np.arange(12).reshape((3, 4))\n",
    "c"
   ]
  },
  {
   "cell_type": "code",
   "execution_count": 41,
   "id": "fd701bfb-38e9-40bb-9567-bddbe87f0ca7",
   "metadata": {},
   "outputs": [
    {
     "data": {
      "text/plain": [
       "array([[ 0.        ,  2.36363636,  4.72727273,  7.09090909],\n",
       "       [ 9.45454545, 11.81818182, 14.18181818, 16.54545455],\n",
       "       [18.90909091, 21.27272727, 23.63636364, 26.        ]])"
      ]
     },
     "execution_count": 41,
     "metadata": {},
     "output_type": "execute_result"
    }
   ],
   "source": [
    "d = np.linspace(0, 26, 12).reshape(3, 4) # 这次创建和c一样shape的数组\n",
    "d"
   ]
  },
  {
   "cell_type": "code",
   "execution_count": 42,
   "id": "1aabd1f5-a489-40ba-9c3f-d061ed5fcc81",
   "metadata": {},
   "outputs": [
    {
     "data": {
      "text/plain": [
       "array([[ 0.        ,  1.        ,  2.        ,  3.        ],\n",
       "       [ 4.        ,  5.        ,  6.        ,  7.        ],\n",
       "       [ 8.        ,  9.        , 10.        , 11.        ],\n",
       "       [ 0.        ,  2.36363636,  4.72727273,  7.09090909],\n",
       "       [ 9.45454545, 11.81818182, 14.18181818, 16.54545455],\n",
       "       [18.90909091, 21.27272727, 23.63636364, 26.        ]])"
      ]
     },
     "execution_count": 42,
     "metadata": {},
     "output_type": "execute_result"
    }
   ],
   "source": [
    "np.append(c,d, axis=0) #  指定axis为0时，将在行方向上对元素进行添加"
   ]
  },
  {
   "cell_type": "code",
   "execution_count": 43,
   "id": "d2b7a901-ac34-429a-aed4-01cca1e45b4d",
   "metadata": {},
   "outputs": [
    {
     "data": {
      "text/plain": [
       "array([[ 0.        ,  1.        ,  2.        ,  3.        ,  0.        ,\n",
       "         2.36363636,  4.72727273,  7.09090909],\n",
       "       [ 4.        ,  5.        ,  6.        ,  7.        ,  9.45454545,\n",
       "        11.81818182, 14.18181818, 16.54545455],\n",
       "       [ 8.        ,  9.        , 10.        , 11.        , 18.90909091,\n",
       "        21.27272727, 23.63636364, 26.        ]])"
      ]
     },
     "execution_count": 43,
     "metadata": {},
     "output_type": "execute_result"
    }
   ],
   "source": [
    "np.append(c, d, axis=1) #  指定axis为1时，将在列方向上对元素进行添加"
   ]
  },
  {
   "cell_type": "markdown",
   "id": "63d3e75d-00fa-402b-b648-05ed9d92fdc8",
   "metadata": {},
   "source": [
    "### 2.2.3 性能对比"
   ]
  },
  {
   "cell_type": "code",
   "execution_count": 44,
   "id": "2b20a71b-4439-473b-925b-c08163a266d0",
   "metadata": {},
   "outputs": [],
   "source": [
    "def np_append():\n",
    "    a = np.array([1, 2, 3])\n",
    "    for i in range(10000):\n",
    "        a = np.append(a, [i])\n",
    "    return a"
   ]
  },
  {
   "cell_type": "code",
   "execution_count": 45,
   "id": "164629af-e8cb-47ad-bced-6a89ec764e11",
   "metadata": {},
   "outputs": [],
   "source": [
    "def list_append():\n",
    "    a = [1, 2, 3]\n",
    "    for i in range(10000):\n",
    "        a.append(i)\n",
    "    return np.array(a)"
   ]
  },
  {
   "cell_type": "code",
   "execution_count": 46,
   "id": "30356419-11e5-4ca5-83f0-9cbea842fb87",
   "metadata": {},
   "outputs": [
    {
     "name": "stdout",
     "output_type": "stream",
     "text": [
      "29.5 ms ± 1.76 ms per loop (mean ± std. dev. of 7 runs, 10 loops each)\n"
     ]
    }
   ],
   "source": [
    "%timeit np_append()"
   ]
  },
  {
   "cell_type": "code",
   "execution_count": 47,
   "id": "a564314a-f07c-40c5-97f2-a4313dd404c2",
   "metadata": {},
   "outputs": [
    {
     "name": "stdout",
     "output_type": "stream",
     "text": [
      "669 µs ± 4.58 µs per loop (mean ± std. dev. of 7 runs, 1,000 loops each)\n"
     ]
    }
   ],
   "source": [
    "%timeit list_append()"
   ]
  },
  {
   "cell_type": "markdown",
   "id": "be078fa6-d999-48d7-a4be-ff0478333645",
   "metadata": {},
   "source": [
    "## 2.3 数组的郑家值判断函数"
   ]
  },
  {
   "cell_type": "markdown",
   "id": "96157e2b-2c23-4986-8671-0071b2063af4",
   "metadata": {},
   "source": [
    "### 2.3.1 np.all"
   ]
  },
  {
   "cell_type": "code",
   "execution_count": 48,
   "id": "fdb99b3e-fab2-4f3b-9308-d17277673335",
   "metadata": {},
   "outputs": [],
   "source": [
    "import numpy as np"
   ]
  },
  {
   "cell_type": "code",
   "execution_count": 49,
   "id": "99279018-5068-417a-8810-591b4316af8d",
   "metadata": {},
   "outputs": [
    {
     "data": {
      "text/plain": [
       "array([[1, 1, 1],\n",
       "       [1, 0, 0],\n",
       "       [1, 0, 1]])"
      ]
     },
     "execution_count": 49,
     "metadata": {},
     "output_type": "execute_result"
    }
   ],
   "source": [
    "a = np.array([\n",
    "[1, 1, 1],\n",
    "[1, 0, 0],\n",
    "[1, 0, 1],\n",
    "])\n",
    "a"
   ]
  },
  {
   "cell_type": "code",
   "execution_count": 50,
   "id": "b98a8948-d30c-48fb-995d-060a7d983b0b",
   "metadata": {},
   "outputs": [
    {
     "data": {
      "text/plain": [
       "False"
      ]
     },
     "execution_count": 50,
     "metadata": {},
     "output_type": "execute_result"
    }
   ],
   "source": [
    "np.all(a) #  a的元素为1时返回True，为0时返回False"
   ]
  },
  {
   "cell_type": "code",
   "execution_count": 51,
   "id": "9107e00e-c921-4b29-a530-231455cafa06",
   "metadata": {},
   "outputs": [],
   "source": [
    "b = np.ones((3, 3))"
   ]
  },
  {
   "cell_type": "code",
   "execution_count": 52,
   "id": "18e3b028-a6ad-4319-ae47-f7982701d209",
   "metadata": {},
   "outputs": [
    {
     "data": {
      "text/plain": [
       "True"
      ]
     },
     "execution_count": 52,
     "metadata": {},
     "output_type": "execute_result"
    }
   ],
   "source": [
    "np.all(b)"
   ]
  },
  {
   "cell_type": "code",
   "execution_count": 53,
   "id": "fdd43f36-1b81-457b-bb47-c16a63bc5d26",
   "metadata": {},
   "outputs": [
    {
     "data": {
      "text/plain": [
       "True"
      ]
     },
     "execution_count": 53,
     "metadata": {},
     "output_type": "execute_result"
    }
   ],
   "source": [
    "np.all(a<2) #  a的元素全部都小于2时返回True"
   ]
  },
  {
   "cell_type": "code",
   "execution_count": 54,
   "id": "8a168967-9cd7-4694-9cea-e5142a343e2a",
   "metadata": {},
   "outputs": [
    {
     "data": {
      "text/plain": [
       "True"
      ]
     },
     "execution_count": 54,
     "metadata": {},
     "output_type": "execute_result"
    }
   ],
   "source": [
    "np.all(b%3<2) # 除以3之后的余数小于2"
   ]
  },
  {
   "cell_type": "code",
   "execution_count": 55,
   "id": "60a59720-6f14-4c9b-bf74-4796ec946152",
   "metadata": {},
   "outputs": [
    {
     "data": {
      "text/plain": [
       "array([ True, False, False])"
      ]
     },
     "execution_count": 55,
     "metadata": {},
     "output_type": "execute_result"
    }
   ],
   "source": [
    "np.all(a, axis=0) # 从行的方向上遍历元素"
   ]
  },
  {
   "cell_type": "code",
   "execution_count": 56,
   "id": "72f2d5da-da59-4733-9b59-0fa29a8241c6",
   "metadata": {},
   "outputs": [
    {
     "data": {
      "text/plain": [
       "array([ True, False, False])"
      ]
     },
     "execution_count": 56,
     "metadata": {},
     "output_type": "execute_result"
    }
   ],
   "source": [
    "np.all(a, axis=1) #  从列的方向上遍历元素"
   ]
  },
  {
   "cell_type": "code",
   "execution_count": 57,
   "id": "ceab4469-e279-494d-9f9b-419338fa97b0",
   "metadata": {},
   "outputs": [
    {
     "data": {
      "text/plain": [
       "array([[1, 1, 1],\n",
       "       [1, 0, 0],\n",
       "       [0, 0, 1]])"
      ]
     },
     "execution_count": 57,
     "metadata": {},
     "output_type": "execute_result"
    }
   ],
   "source": [
    "a[2,0] = 0\n",
    "a"
   ]
  },
  {
   "cell_type": "code",
   "execution_count": 58,
   "id": "fdb8ab7f-685d-4dbc-ba1d-f2f87650a79e",
   "metadata": {},
   "outputs": [
    {
     "data": {
      "text/plain": [
       "array([False, False, False])"
      ]
     },
     "execution_count": 58,
     "metadata": {},
     "output_type": "execute_result"
    }
   ],
   "source": [
    "np.all(a, axis=0)"
   ]
  },
  {
   "cell_type": "code",
   "execution_count": 59,
   "id": "4953792a-5825-4b17-b4fc-5c9d5bf09065",
   "metadata": {},
   "outputs": [
    {
     "data": {
      "text/plain": [
       "array([[False, False, False]])"
      ]
     },
     "execution_count": 59,
     "metadata": {},
     "output_type": "execute_result"
    }
   ],
   "source": [
    "np.all(a, axis=0, keepdims=True) #  指定keepdims=True"
   ]
  },
  {
   "cell_type": "code",
   "execution_count": 60,
   "id": "25c6b3cd-d5b6-4cae-9809-d72a7a4bc9de",
   "metadata": {},
   "outputs": [
    {
     "data": {
      "text/plain": [
       "False"
      ]
     },
     "execution_count": 60,
     "metadata": {},
     "output_type": "execute_result"
    }
   ],
   "source": [
    "a.all()"
   ]
  },
  {
   "cell_type": "code",
   "execution_count": 61,
   "id": "244aa6a7-f9ef-400e-a1fe-e5864273924c",
   "metadata": {},
   "outputs": [
    {
     "data": {
      "text/plain": [
       "True"
      ]
     },
     "execution_count": 61,
     "metadata": {},
     "output_type": "execute_result"
    }
   ],
   "source": [
    "b.all()"
   ]
  },
  {
   "cell_type": "code",
   "execution_count": 62,
   "id": "590753b2-c91b-415b-9013-0fbe92a00327",
   "metadata": {},
   "outputs": [
    {
     "data": {
      "text/plain": [
       "array([ True, False, False])"
      ]
     },
     "execution_count": 62,
     "metadata": {},
     "output_type": "execute_result"
    }
   ],
   "source": [
    "a.all(axis=1) # 列方向"
   ]
  },
  {
   "cell_type": "code",
   "execution_count": 63,
   "id": "79645092-719b-48f0-993e-d5bf94b9525e",
   "metadata": {},
   "outputs": [
    {
     "data": {
      "text/plain": [
       "True"
      ]
     },
     "execution_count": 63,
     "metadata": {},
     "output_type": "execute_result"
    }
   ],
   "source": [
    "(a<2).all()"
   ]
  },
  {
   "cell_type": "code",
   "execution_count": 64,
   "id": "d7be09ca-2301-4196-98e4-8742052a4454",
   "metadata": {},
   "outputs": [
    {
     "data": {
      "text/plain": [
       "array([[False]])"
      ]
     },
     "execution_count": 64,
     "metadata": {},
     "output_type": "execute_result"
    }
   ],
   "source": [
    "a.all(keepdims=True)"
   ]
  },
  {
   "cell_type": "markdown",
   "id": "dc1b889d-bb05-40ef-8c1d-3e82764dad30",
   "metadata": {},
   "source": [
    "### 2.3.2 np.any"
   ]
  },
  {
   "cell_type": "code",
   "execution_count": 65,
   "id": "88581ad0-b189-424f-a0d8-7e8b969b18c3",
   "metadata": {},
   "outputs": [
    {
     "data": {
      "text/plain": [
       "array([[4, 0, 0],\n",
       "       [1, 3, 7]])"
      ]
     },
     "execution_count": 65,
     "metadata": {},
     "output_type": "execute_result"
    }
   ],
   "source": [
    "a = np.random.randint(10, size=(2, 3))\n",
    "a"
   ]
  },
  {
   "cell_type": "code",
   "execution_count": 66,
   "id": "4910382f-3eed-4db9-bdf6-771c71749614",
   "metadata": {},
   "outputs": [
    {
     "data": {
      "text/plain": [
       "False"
      ]
     },
     "execution_count": 66,
     "metadata": {},
     "output_type": "execute_result"
    }
   ],
   "source": [
    "np.any(a==9) # 查找a的元素中是否包含元素9。因为这里包含有元素9，所以返回True"
   ]
  },
  {
   "cell_type": "code",
   "execution_count": 67,
   "id": "e4f86334-50af-417d-a432-0abaab156141",
   "metadata": {},
   "outputs": [
    {
     "data": {
      "text/plain": [
       "False"
      ]
     },
     "execution_count": 67,
     "metadata": {},
     "output_type": "execute_result"
    }
   ],
   "source": [
    "np.any(a==5) # 这种情况下，数值为5的元素一个都没有，所以返回False"
   ]
  },
  {
   "cell_type": "code",
   "execution_count": 68,
   "id": "4edb2bae-24ce-4d98-8ab3-858f3e2a4082",
   "metadata": {},
   "outputs": [
    {
     "data": {
      "text/plain": [
       "array([ True,  True,  True])"
      ]
     },
     "execution_count": 68,
     "metadata": {},
     "output_type": "execute_result"
    }
   ],
   "source": [
    "np.any(a%2==0, axis=0) # 从行的方向上遍历元素"
   ]
  },
  {
   "cell_type": "code",
   "execution_count": 69,
   "id": "04e2f121-5bdf-4113-a1ec-28aff0a1ae4c",
   "metadata": {},
   "outputs": [
    {
     "data": {
      "text/plain": [
       "array([False,  True])"
      ]
     },
     "execution_count": 69,
     "metadata": {},
     "output_type": "execute_result"
    }
   ],
   "source": [
    "np.any(a%2==1, axis=1) #  从列的方向上遍历元素"
   ]
  },
  {
   "cell_type": "code",
   "execution_count": 70,
   "id": "3beafbc7-9713-4a83-b510-47266b0e4264",
   "metadata": {},
   "outputs": [
    {
     "data": {
      "text/plain": [
       "array([[False],\n",
       "       [ True]])"
      ]
     },
     "execution_count": 70,
     "metadata": {},
     "output_type": "execute_result"
    }
   ],
   "source": [
    "np.any(a%2==1, axis=1, keepdims=True) # 指定keepdims=True，对维度进行保留"
   ]
  },
  {
   "cell_type": "code",
   "execution_count": 71,
   "id": "0ac4e5e0-86c7-4e55-ab46-c7c16221b9f7",
   "metadata": {},
   "outputs": [
    {
     "data": {
      "text/plain": [
       "array([[ True]])"
      ]
     },
     "execution_count": 71,
     "metadata": {},
     "output_type": "execute_result"
    }
   ],
   "source": [
    "np.any(a>2, keepdims=True)"
   ]
  },
  {
   "cell_type": "code",
   "execution_count": 72,
   "id": "086ac611-e311-45de-aada-e0026e64f808",
   "metadata": {},
   "outputs": [
    {
     "data": {
      "text/plain": [
       "True"
      ]
     },
     "execution_count": 72,
     "metadata": {},
     "output_type": "execute_result"
    }
   ],
   "source": [
    "(a%5==0).any()"
   ]
  },
  {
   "cell_type": "code",
   "execution_count": 73,
   "id": "b90a5fd0-d1e0-4969-8c9b-40e3e813e9d7",
   "metadata": {},
   "outputs": [
    {
     "data": {
      "text/plain": [
       "True"
      ]
     },
     "execution_count": 73,
     "metadata": {},
     "output_type": "execute_result"
    }
   ],
   "source": [
    "(a>3).any()"
   ]
  },
  {
   "cell_type": "code",
   "execution_count": 74,
   "id": "778fb8d1-e495-4a49-a17f-c6410ebcb7cc",
   "metadata": {},
   "outputs": [
    {
     "data": {
      "text/plain": [
       "array([[8, 4, 8],\n",
       "       [0, 0, 7]])"
      ]
     },
     "execution_count": 74,
     "metadata": {},
     "output_type": "execute_result"
    }
   ],
   "source": [
    "b = np.random.randint(10, size=(2, 3))\n",
    "b"
   ]
  },
  {
   "cell_type": "code",
   "execution_count": 75,
   "id": "90cbf92a-dfed-44d2-a2f9-fc87829065f1",
   "metadata": {},
   "outputs": [
    {
     "data": {
      "text/plain": [
       "array([False,  True])"
      ]
     },
     "execution_count": 75,
     "metadata": {},
     "output_type": "execute_result"
    }
   ],
   "source": [
    "(a==b).any(axis=1)"
   ]
  },
  {
   "cell_type": "code",
   "execution_count": 76,
   "id": "c4867cd4-25fc-4ce1-b3d3-243238a53610",
   "metadata": {},
   "outputs": [
    {
     "data": {
      "text/plain": [
       "array([[False],\n",
       "       [ True]])"
      ]
     },
     "execution_count": 76,
     "metadata": {},
     "output_type": "execute_result"
    }
   ],
   "source": [
    "(a==b).any(axis=1, keepdims=True)"
   ]
  },
  {
   "cell_type": "markdown",
   "id": "e2d8d9db-f4f5-4a81-9afb-806eee511c56",
   "metadata": {},
   "source": [
    "## 2.4 指定条件获取元素索引的函数"
   ]
  },
  {
   "cell_type": "markdown",
   "id": "e58700c7-6003-4f36-93cf-4b23d2a01e58",
   "metadata": {},
   "source": [
    "### 2.4.1 np.where"
   ]
  },
  {
   "cell_type": "code",
   "execution_count": 77,
   "id": "aa6fde3e-feee-4c7e-bb71-d6779175320b",
   "metadata": {},
   "outputs": [],
   "source": [
    "import numpy as np"
   ]
  },
  {
   "cell_type": "code",
   "execution_count": 78,
   "id": "43cb6dd2-44b7-4e55-8a8a-1093fde82df6",
   "metadata": {},
   "outputs": [
    {
     "data": {
      "text/plain": [
       "array([10, 12,  9,  3, 19])"
      ]
     },
     "execution_count": 78,
     "metadata": {},
     "output_type": "execute_result"
    }
   ],
   "source": [
    "a = np.array([10, 12, 9, 3, 19])\n",
    "a"
   ]
  },
  {
   "cell_type": "code",
   "execution_count": 79,
   "id": "d40c5041-c193-4353-b269-2ce9fc0a6490",
   "metadata": {},
   "outputs": [
    {
     "data": {
      "text/plain": [
       "array([9, 3])"
      ]
     },
     "execution_count": 79,
     "metadata": {},
     "output_type": "execute_result"
    }
   ],
   "source": [
    "a[a<10]"
   ]
  },
  {
   "cell_type": "markdown",
   "id": "1bd4217a-3c3b-410e-aadb-ee8f94e119ac",
   "metadata": {},
   "source": [
    "### 2.4.2 条件的指定"
   ]
  },
  {
   "cell_type": "code",
   "execution_count": 80,
   "id": "04b9e8ce-a4e4-4eb3-a951-49d73e467c28",
   "metadata": {},
   "outputs": [
    {
     "data": {
      "text/plain": [
       "array([20, 18, 16, 14, 12, 10,  8,  6,  4,  2])"
      ]
     },
     "execution_count": 80,
     "metadata": {},
     "output_type": "execute_result"
    }
   ],
   "source": [
    "a = np.arange(20, 0, -2) # 首先创建一维数组\n",
    "a"
   ]
  },
  {
   "cell_type": "code",
   "execution_count": 81,
   "id": "2a564e19-cbfd-46a7-8b92-d10e48acd53b",
   "metadata": {},
   "outputs": [
    {
     "data": {
      "text/plain": [
       "(array([6, 7, 8, 9], dtype=int64),)"
      ]
     },
     "execution_count": 81,
     "metadata": {},
     "output_type": "execute_result"
    }
   ],
   "source": [
    "np.where(a < 10) #  获取小于10的索引"
   ]
  },
  {
   "cell_type": "code",
   "execution_count": 82,
   "id": "1e68aa0b-959a-4409-a556-40e1a3912dec",
   "metadata": {},
   "outputs": [
    {
     "data": {
      "text/plain": [
       "array([8, 6, 4, 2])"
      ]
     },
     "execution_count": 82,
     "metadata": {},
     "output_type": "execute_result"
    }
   ],
   "source": [
    "a[np.where(a < 10)]"
   ]
  },
  {
   "cell_type": "code",
   "execution_count": 83,
   "id": "c23d1dea-2add-4206-86ec-17210b28813d",
   "metadata": {},
   "outputs": [
    {
     "data": {
      "text/plain": [
       "array([[ 0,  1,  2,  3],\n",
       "       [ 4,  5,  6,  7],\n",
       "       [ 8,  9, 10, 11]])"
      ]
     },
     "execution_count": 83,
     "metadata": {},
     "output_type": "execute_result"
    }
   ],
   "source": [
    "a = np.arange(12).reshape((3, 4))  # 指定为3×4的二维数组\n",
    "a"
   ]
  },
  {
   "cell_type": "code",
   "execution_count": 84,
   "id": "277f32c5-c460-49c0-8709-58902ec17d32",
   "metadata": {},
   "outputs": [
    {
     "data": {
      "text/plain": [
       "(array([0, 0, 1, 1, 2, 2], dtype=int64),\n",
       " array([0, 2, 0, 2, 0, 2], dtype=int64))"
      ]
     },
     "execution_count": 84,
     "metadata": {},
     "output_type": "execute_result"
    }
   ],
   "source": [
    "np.where(a % 2 == 0) #  只取出偶数元素"
   ]
  },
  {
   "cell_type": "markdown",
   "id": "dab8ca37-f2ae-4e4b-bb88-d4db836acd0a",
   "metadata": {},
   "source": [
    "### 2.4.3 使用np.where的三元运算符"
   ]
  },
  {
   "cell_type": "code",
   "execution_count": 85,
   "id": "5c4f344c-fd93-4f8a-8910-d99b36616082",
   "metadata": {},
   "outputs": [
    {
     "data": {
      "text/plain": [
       "array([['even', 'odd', 'even', 'odd'],\n",
       "       ['even', 'odd', 'even', 'odd'],\n",
       "       ['even', 'odd', 'even', 'odd']], dtype='<U4')"
      ]
     },
     "execution_count": 85,
     "metadata": {},
     "output_type": "execute_result"
    }
   ],
   "source": [
    "np.where(a%2==0, 'even', 'odd') #  偶数返回even，奇数返回odd"
   ]
  },
  {
   "cell_type": "code",
   "execution_count": 86,
   "id": "f404dbbf-80a1-4dd0-95d3-c7c6c247a792",
   "metadata": {},
   "outputs": [],
   "source": [
    "# np.where(a%2==0, 'even') # 如果只设置True，就会导致运行时产生错误"
   ]
  },
  {
   "cell_type": "code",
   "execution_count": 87,
   "id": "6d29dd6e-1044-46f9-ba1f-2cb2f482d487",
   "metadata": {},
   "outputs": [
    {
     "data": {
      "text/plain": [
       "array([['even', 'odd', 'even', 'odd'],\n",
       "       ['even', 'odd', 'even', 'odd'],\n",
       "       ['even', 'odd', 'even', 'odd']], dtype='<U4')"
      ]
     },
     "execution_count": 87,
     "metadata": {},
     "output_type": "execute_result"
    }
   ],
   "source": [
    "np.where(a%2==0, 'even', 'odd') # 偶数返回even，奇数返回odd"
   ]
  },
  {
   "cell_type": "code",
   "execution_count": 88,
   "id": "33658b1e-9de0-4745-b0cd-578ebe4e1f4e",
   "metadata": {},
   "outputs": [
    {
     "data": {
      "text/plain": [
       "array([[ 0,  1,  2,  3],\n",
       "       [ 4,  5,  6,  7],\n",
       "       [ 8,  9, 10, 11]])"
      ]
     },
     "execution_count": 88,
     "metadata": {},
     "output_type": "execute_result"
    }
   ],
   "source": [
    "b = np.reshape(a, (3, 4))\n",
    "b"
   ]
  },
  {
   "cell_type": "code",
   "execution_count": 89,
   "id": "f1beb179-4491-490e-8cd2-92136da7b57a",
   "metadata": {},
   "outputs": [
    {
     "data": {
      "text/plain": [
       "array([[  0,   1,   4,   9],\n",
       "       [ 16,  25,  36,  49],\n",
       "       [ 64,  81, 100, 121]])"
      ]
     },
     "execution_count": 89,
     "metadata": {},
     "output_type": "execute_result"
    }
   ],
   "source": [
    "c = b ** 2\n",
    "c"
   ]
  },
  {
   "cell_type": "code",
   "execution_count": 90,
   "id": "0fbf24e1-39ec-4b21-958a-378c902bb5d2",
   "metadata": {},
   "outputs": [
    {
     "data": {
      "text/plain": [
       "array([[  0,   1,   2,   9],\n",
       "       [  4,  25,   6,  49],\n",
       "       [  8,  81,  10, 121]])"
      ]
     },
     "execution_count": 90,
     "metadata": {},
     "output_type": "execute_result"
    }
   ],
   "source": [
    "np.where(b%2==0, b, c) # 只有奇数元素被转换成了c中的元素"
   ]
  },
  {
   "cell_type": "code",
   "execution_count": 91,
   "id": "870a9e40-853c-42ec-9db0-d8dc5925aea5",
   "metadata": {},
   "outputs": [
    {
     "data": {
      "text/plain": [
       "array([[ 0,  8,  2,  4],\n",
       "       [ 4,  8,  6,  4],\n",
       "       [ 8,  8, 10,  4]])"
      ]
     },
     "execution_count": 91,
     "metadata": {},
     "output_type": "execute_result"
    }
   ],
   "source": [
    "np.where(b%2==0, b, (10, 8, 6, 4)) #  运用广播机制，使用(10, 8, 6, 4)重复的值"
   ]
  },
  {
   "cell_type": "markdown",
   "id": "d960ab79-8427-4021-bcba-58ce8ff1177f",
   "metadata": {},
   "source": [
    "## 2.5 最大值、最小值的筛选函数"
   ]
  },
  {
   "cell_type": "markdown",
   "id": "d8a4c8e1-afbe-4d1b-ace3-37c40721e7f3",
   "metadata": {},
   "source": [
    "### 2.5.1 np.amax"
   ]
  },
  {
   "cell_type": "code",
   "execution_count": 92,
   "id": "c547d42a-e28b-42bc-80d9-ca5f7c1c8640",
   "metadata": {},
   "outputs": [],
   "source": [
    "import numpy as np"
   ]
  },
  {
   "cell_type": "code",
   "execution_count": 93,
   "id": "c363750d-7866-45f2-939d-87372ae3841b",
   "metadata": {},
   "outputs": [
    {
     "data": {
      "text/plain": [
       "3"
      ]
     },
     "execution_count": 93,
     "metadata": {},
     "output_type": "execute_result"
    }
   ],
   "source": [
    "np.amax(np.array([1, 2, 3, 2, 1]))"
   ]
  },
  {
   "cell_type": "code",
   "execution_count": 94,
   "id": "3fb71350-b987-449b-9ad4-be41decace73",
   "metadata": {},
   "outputs": [
    {
     "data": {
      "text/plain": [
       "array([[1, 2],\n",
       "       [3, 4]])"
      ]
     },
     "execution_count": 94,
     "metadata": {},
     "output_type": "execute_result"
    }
   ],
   "source": [
    "arr = np.array([1, 2, 3, 4]).reshape((2, 2,))\n",
    "arr"
   ]
  },
  {
   "cell_type": "code",
   "execution_count": 95,
   "id": "388eea2c-cca8-48a1-88fb-8a4a1ba761db",
   "metadata": {},
   "outputs": [
    {
     "data": {
      "text/plain": [
       "array([3, 4])"
      ]
     },
     "execution_count": 95,
     "metadata": {},
     "output_type": "execute_result"
    }
   ],
   "source": [
    "np.amax(arr, axis=0)"
   ]
  },
  {
   "cell_type": "code",
   "execution_count": 96,
   "id": "e811aa49-a35d-436e-99c2-8a3e754f6da7",
   "metadata": {},
   "outputs": [
    {
     "data": {
      "text/plain": [
       "array([2, 4])"
      ]
     },
     "execution_count": 96,
     "metadata": {},
     "output_type": "execute_result"
    }
   ],
   "source": [
    "np.amax(arr, axis=1)"
   ]
  },
  {
   "cell_type": "code",
   "execution_count": 97,
   "id": "7b5dea15-9151-4a5a-a896-117e19e7eae7",
   "metadata": {},
   "outputs": [
    {
     "data": {
      "text/plain": [
       "array([[4]])"
      ]
     },
     "execution_count": 97,
     "metadata": {},
     "output_type": "execute_result"
    }
   ],
   "source": [
    "np.amax(arr, keepdims=True)"
   ]
  },
  {
   "cell_type": "markdown",
   "id": "747974bf-be17-4a2d-8c09-c390f70b53b2",
   "metadata": {},
   "source": [
    "### 2.5.2 ndarray.max"
   ]
  },
  {
   "cell_type": "code",
   "execution_count": 98,
   "id": "573b8e9b-8697-4d51-bf49-f92eeaef1e79",
   "metadata": {},
   "outputs": [
    {
     "data": {
      "text/plain": [
       "array([0.22997377, 0.18278791, 0.90167464, 0.54896215, 0.39520089,\n",
       "       0.72110838, 0.95828362, 0.8609032 , 0.63749171, 0.75571696,\n",
       "       0.86626531, 0.42793253, 0.62561586, 0.75124808, 0.61445213,\n",
       "       0.13755182, 0.62265085, 0.02982066, 0.46414124, 0.69823901])"
      ]
     },
     "execution_count": 98,
     "metadata": {},
     "output_type": "execute_result"
    }
   ],
   "source": [
    "a = np.random.rand(20) # 使用rand创建20个随机数\n",
    "a"
   ]
  },
  {
   "cell_type": "code",
   "execution_count": 99,
   "id": "2c2eeee4-b0ee-4d44-b99b-130bade06abc",
   "metadata": {},
   "outputs": [
    {
     "data": {
      "text/plain": [
       "0.9582836183213223"
      ]
     },
     "execution_count": 99,
     "metadata": {},
     "output_type": "execute_result"
    }
   ],
   "source": [
    "a.max()"
   ]
  },
  {
   "cell_type": "code",
   "execution_count": 100,
   "id": "16398c90-1891-459a-8447-6c531710c524",
   "metadata": {},
   "outputs": [
    {
     "data": {
      "text/plain": [
       "array([[0.22997377, 0.18278791, 0.90167464, 0.54896215, 0.39520089],\n",
       "       [0.72110838, 0.95828362, 0.8609032 , 0.63749171, 0.75571696],\n",
       "       [0.86626531, 0.42793253, 0.62561586, 0.75124808, 0.61445213],\n",
       "       [0.13755182, 0.62265085, 0.02982066, 0.46414124, 0.69823901]])"
      ]
     },
     "execution_count": 100,
     "metadata": {},
     "output_type": "execute_result"
    }
   ],
   "source": [
    "a = a.reshape((4, 5))\n",
    "a"
   ]
  },
  {
   "cell_type": "code",
   "execution_count": 101,
   "id": "fc003827-dca8-48f6-a53a-725ffdbdf905",
   "metadata": {},
   "outputs": [
    {
     "data": {
      "text/plain": [
       "0.9582836183213223"
      ]
     },
     "execution_count": 101,
     "metadata": {},
     "output_type": "execute_result"
    }
   ],
   "source": [
    "a.max()"
   ]
  },
  {
   "cell_type": "code",
   "execution_count": 102,
   "id": "0a91d3b2-a7d9-4199-a64f-237a58dc86cc",
   "metadata": {},
   "outputs": [
    {
     "data": {
      "text/plain": [
       "array([0.86626531, 0.95828362, 0.90167464, 0.75124808, 0.75571696])"
      ]
     },
     "execution_count": 102,
     "metadata": {},
     "output_type": "execute_result"
    }
   ],
   "source": [
    "a.max(axis=0) # 继续使用a求取最大值。首先求取每行的最大值"
   ]
  },
  {
   "cell_type": "code",
   "execution_count": 103,
   "id": "68520ad6-9f56-4448-b8af-397cb9c25a4b",
   "metadata": {},
   "outputs": [
    {
     "data": {
      "text/plain": [
       "array([0.90167464, 0.95828362, 0.86626531, 0.69823901])"
      ]
     },
     "execution_count": 103,
     "metadata": {},
     "output_type": "execute_result"
    }
   ],
   "source": [
    "a.max(axis=1) #  接着求取每列的最大值"
   ]
  },
  {
   "cell_type": "code",
   "execution_count": 104,
   "id": "16f4ffcf-d352-43c1-8817-ab5ce12ad681",
   "metadata": {},
   "outputs": [
    {
     "data": {
      "text/plain": [
       "array([[[0.94169735, 0.59457761, 0.24897894, 0.49207748, 0.49152735],\n",
       "        [0.97974468, 0.79084232, 0.87841238, 0.77639842, 0.60525572],\n",
       "        [0.08021424, 0.04507265, 0.67355232, 0.0663636 , 0.20121366]],\n",
       "\n",
       "       [[0.43650219, 0.44507073, 0.4764264 , 0.81366235, 0.34967364],\n",
       "        [0.53890721, 0.162328  , 0.4944365 , 0.62601304, 0.03405099],\n",
       "        [0.59075362, 0.52110226, 0.68238369, 0.46849734, 0.15710559]]])"
      ]
     },
     "execution_count": 104,
     "metadata": {},
     "output_type": "execute_result"
    }
   ],
   "source": [
    "b = np.random.rand(30).reshape((2, 3, 5)) #  之后再使用三维数组进行尝试\n",
    "b"
   ]
  },
  {
   "cell_type": "code",
   "execution_count": 105,
   "id": "08469c01-6cba-4986-a6a9-5ce293f556bb",
   "metadata": {},
   "outputs": [
    {
     "data": {
      "text/plain": [
       "array([[0.94169735, 0.59457761, 0.4764264 , 0.81366235, 0.49152735],\n",
       "       [0.97974468, 0.79084232, 0.87841238, 0.77639842, 0.60525572],\n",
       "       [0.59075362, 0.52110226, 0.68238369, 0.46849734, 0.20121366]])"
      ]
     },
     "execution_count": 105,
     "metadata": {},
     "output_type": "execute_result"
    }
   ],
   "source": [
    "b.max(axis=0) #  求取两个二维数组的元素中的最大值"
   ]
  },
  {
   "cell_type": "code",
   "execution_count": 106,
   "id": "0c206202-ecc8-44c1-8a69-cdca05941646",
   "metadata": {},
   "outputs": [
    {
     "data": {
      "text/plain": [
       "array([[0.97974468, 0.79084232, 0.87841238, 0.77639842, 0.60525572],\n",
       "       [0.59075362, 0.52110226, 0.68238369, 0.81366235, 0.34967364]])"
      ]
     },
     "execution_count": 106,
     "metadata": {},
     "output_type": "execute_result"
    }
   ],
   "source": [
    "b.max(axis=1) # 求取各个二维数组的行方向上的最大值"
   ]
  },
  {
   "cell_type": "code",
   "execution_count": 107,
   "id": "cdbdf2b3-cb6e-43bf-a97d-5db3b77cada8",
   "metadata": {},
   "outputs": [
    {
     "data": {
      "text/plain": [
       "array([[0.94169735, 0.97974468, 0.67355232],\n",
       "       [0.81366235, 0.62601304, 0.68238369]])"
      ]
     },
     "execution_count": 107,
     "metadata": {},
     "output_type": "execute_result"
    }
   ],
   "source": [
    "b.max(axis=2) #  求取各个二维数组的列方向上的最大值"
   ]
  },
  {
   "cell_type": "code",
   "execution_count": 108,
   "id": "e33bdcb5-5d71-4dce-9965-201a7722d9bd",
   "metadata": {},
   "outputs": [
    {
     "data": {
      "text/plain": [
       "array([0., 1., 2., 3., 4., 5., 6., 7., 8., 9.])"
      ]
     },
     "execution_count": 108,
     "metadata": {},
     "output_type": "execute_result"
    }
   ],
   "source": [
    "b = np.arange(10, dtype=float)\n",
    "b"
   ]
  },
  {
   "cell_type": "code",
   "execution_count": 109,
   "id": "78ceaaed-8c8d-478e-b62f-0564ba182595",
   "metadata": {},
   "outputs": [],
   "source": [
    "b[3] = np.NaN # 将NaN代入"
   ]
  },
  {
   "cell_type": "code",
   "execution_count": 110,
   "id": "32303351-e5d9-44a2-b1ca-00a9c0170179",
   "metadata": {},
   "outputs": [
    {
     "data": {
      "text/plain": [
       "nan"
      ]
     },
     "execution_count": 110,
     "metadata": {},
     "output_type": "execute_result"
    }
   ],
   "source": [
    "b.max()"
   ]
  },
  {
   "cell_type": "code",
   "execution_count": 111,
   "id": "398cf9a6-055a-4080-be77-32209d5e29d2",
   "metadata": {},
   "outputs": [
    {
     "data": {
      "text/plain": [
       "9.0"
      ]
     },
     "execution_count": 111,
     "metadata": {},
     "output_type": "execute_result"
    }
   ],
   "source": [
    "np.nanmax(b) # 使用nanmax，就会返回除NaN之外的元素中的最大值"
   ]
  },
  {
   "cell_type": "markdown",
   "id": "fea05172-1cd7-4649-a3dd-d530a769e211",
   "metadata": {},
   "source": [
    "### 2.5.3 np.amin"
   ]
  },
  {
   "cell_type": "code",
   "execution_count": 112,
   "id": "663cefa2-b157-41a4-b138-54cca977d862",
   "metadata": {},
   "outputs": [
    {
     "data": {
      "text/plain": [
       "array([[1.2, 1.3, 0.1, 1.5],\n",
       "       [2.1, 0.2, 0.3, 2. ],\n",
       "       [0.1, 0.5, 0.5, 2.3]])"
      ]
     },
     "execution_count": 112,
     "metadata": {},
     "output_type": "execute_result"
    }
   ],
   "source": [
    "a = np.array([\n",
    "[1.2, 1.3, 0.1, 1.5],\n",
    "[2.1, 0.2, 0.3, 2.0],\n",
    "[0.1, 0.5, 0.5, 2.3]])\n",
    "a"
   ]
  },
  {
   "cell_type": "code",
   "execution_count": 113,
   "id": "5cc19677-4b44-40a5-8b5c-c90ebaa2d047",
   "metadata": {},
   "outputs": [
    {
     "data": {
      "text/plain": [
       "0.1"
      ]
     },
     "execution_count": 113,
     "metadata": {},
     "output_type": "execute_result"
    }
   ],
   "source": [
    "np.amin(a) # 不对参数进行特别指定时"
   ]
  },
  {
   "cell_type": "code",
   "execution_count": 114,
   "id": "859e64ab-1f98-42ed-9986-063be824911e",
   "metadata": {},
   "outputs": [
    {
     "data": {
      "text/plain": [
       "array([0.1, 0.2, 0.1, 1.5])"
      ]
     },
     "execution_count": 114,
     "metadata": {},
     "output_type": "execute_result"
    }
   ],
   "source": [
    "np.amin(a, axis=0) # 在行方向上逐个对最小值进行提取"
   ]
  },
  {
   "cell_type": "code",
   "execution_count": 115,
   "id": "910b24d9-7908-4678-9026-cf4905324726",
   "metadata": {},
   "outputs": [
    {
     "data": {
      "text/plain": [
       "array([0.1, 0.2, 0.1])"
      ]
     },
     "execution_count": 115,
     "metadata": {},
     "output_type": "execute_result"
    }
   ],
   "source": [
    "np.amin(a, axis=1) #在列方向上逐个对最小值进行提取"
   ]
  },
  {
   "cell_type": "code",
   "execution_count": 116,
   "id": "b2bb2b46-79bb-4e15-8f65-b6e6d29f0edb",
   "metadata": {},
   "outputs": [
    {
     "data": {
      "text/plain": [
       "array([[0.1, 0.2, 0.1, 1.5]])"
      ]
     },
     "execution_count": 116,
     "metadata": {},
     "output_type": "execute_result"
    }
   ],
   "source": [
    "np.amin(a, axis=0, keepdims=True) #  返回的不是一维数组，而是二维数组"
   ]
  },
  {
   "cell_type": "code",
   "execution_count": 117,
   "id": "653077de-3667-459d-aef8-b5a2bfb363d6",
   "metadata": {},
   "outputs": [
    {
     "data": {
      "text/plain": [
       "array([[0.1],\n",
       "       [0.2],\n",
       "       [0.1]])"
      ]
     },
     "execution_count": 117,
     "metadata": {},
     "output_type": "execute_result"
    }
   ],
   "source": [
    "np.amin(a, axis=1, keepdims=True)"
   ]
  },
  {
   "cell_type": "code",
   "execution_count": 118,
   "id": "b327d67c-64bb-4482-971f-9d2b4c69e8c3",
   "metadata": {},
   "outputs": [
    {
     "data": {
      "text/plain": [
       "array([[1.1, 1.2, 0. , 1.4],\n",
       "       [1.9, 0. , 0.1, 1.8],\n",
       "       [0. , 0.4, 0.4, 2.2]])"
      ]
     },
     "execution_count": 118,
     "metadata": {},
     "output_type": "execute_result"
    }
   ],
   "source": [
    "a - np.amin(a, axis=1, keepdims=True) # 指定keepdims=True，就可以使用广播机制"
   ]
  },
  {
   "cell_type": "code",
   "execution_count": 119,
   "id": "4df83000-77c4-4939-ba05-4a9831f8126c",
   "metadata": {},
   "outputs": [],
   "source": [
    "# a - np.amin(a, axis=1) # 如果不指定keepdims=True，就无法顺利地进行计算"
   ]
  },
  {
   "cell_type": "markdown",
   "id": "a066ccdd-2c7c-4c5d-8d56-1524893c41ee",
   "metadata": {},
   "source": [
    "### 2.5.4 np.ndarray.min"
   ]
  },
  {
   "cell_type": "code",
   "execution_count": 120,
   "id": "f285adf8-3999-402f-ac54-69c0f24eedc8",
   "metadata": {},
   "outputs": [
    {
     "data": {
      "text/plain": [
       "array([[1.2, 1.3, 0.1, 1.5],\n",
       "       [2.1, 0.2, 0.3, 2. ],\n",
       "       [0.1, 0.5, 0.5, 2.3]])"
      ]
     },
     "execution_count": 120,
     "metadata": {},
     "output_type": "execute_result"
    }
   ],
   "source": [
    "a = np.array([\n",
    "[1.2, 1.3, 0.1, 1.5],\n",
    "[2.1, 0.2, 0.3, 2.0],\n",
    "[0.1, 0.5, 0.5, 2.3]])\n",
    "a"
   ]
  },
  {
   "cell_type": "code",
   "execution_count": 121,
   "id": "75776a68-1705-4d26-bd38-7dfa774abb02",
   "metadata": {},
   "outputs": [
    {
     "data": {
      "text/plain": [
       "0.1"
      ]
     },
     "execution_count": 121,
     "metadata": {},
     "output_type": "execute_result"
    }
   ],
   "source": [
    "a.min() #  首先在不对参数进行指定的情况下提取最小值"
   ]
  },
  {
   "cell_type": "code",
   "execution_count": 122,
   "id": "1b0eccd4-47f5-4a2c-b587-8c1c9ade7c8f",
   "metadata": {},
   "outputs": [
    {
     "data": {
      "text/plain": [
       "array([0.1, 0.2, 0.1, 1.5])"
      ]
     },
     "execution_count": 122,
     "metadata": {},
     "output_type": "execute_result"
    }
   ],
   "source": [
    "a.min(axis=0) #  指定坐标轴提取最小值"
   ]
  },
  {
   "cell_type": "code",
   "execution_count": 123,
   "id": "d66898fb-1e81-4eec-bc81-337cda5f820f",
   "metadata": {},
   "outputs": [
    {
     "data": {
      "text/plain": [
       "array([0.1, 0.2, 0.1])"
      ]
     },
     "execution_count": 123,
     "metadata": {},
     "output_type": "execute_result"
    }
   ],
   "source": [
    "a.min(axis=1)"
   ]
  },
  {
   "cell_type": "code",
   "execution_count": 124,
   "id": "64dbbaa3-70a5-4153-b477-7f879e90c92b",
   "metadata": {},
   "outputs": [
    {
     "data": {
      "text/plain": [
       "array([[0.1, 0.2, 0.1, 1.5]])"
      ]
     },
     "execution_count": 124,
     "metadata": {},
     "output_type": "execute_result"
    }
   ],
   "source": [
    "a.min(axis=0, keepdims=True)"
   ]
  },
  {
   "cell_type": "code",
   "execution_count": 125,
   "id": "0f22f8be-5c19-4cb3-992d-ee8db494819f",
   "metadata": {},
   "outputs": [
    {
     "data": {
      "text/plain": [
       "array([[0.1],\n",
       "       [0.2],\n",
       "       [0.1]])"
      ]
     },
     "execution_count": 125,
     "metadata": {},
     "output_type": "execute_result"
    }
   ],
   "source": [
    "a.min(axis=1, keepdims=True)"
   ]
  },
  {
   "cell_type": "markdown",
   "id": "7ba49f99-3d3e-42a3-8415-524ea5dcfa85",
   "metadata": {},
   "source": [
    "## 2.6 返回数组中最大元素索引的函数"
   ]
  },
  {
   "cell_type": "markdown",
   "id": "d9d748c8-4268-423e-b8d8-189b017e6b12",
   "metadata": {},
   "source": [
    "### 2.6.1 np.ndarray.argmax"
   ]
  },
  {
   "cell_type": "markdown",
   "id": "e266030c-344b-46b3-a460-1fa7e37c15c3",
   "metadata": {},
   "source": [
    "### 2.6.2 np.argmax"
   ]
  },
  {
   "cell_type": "code",
   "execution_count": 126,
   "id": "93a53a99-77cf-4236-8f9f-3c33b67c0c29",
   "metadata": {},
   "outputs": [],
   "source": [
    "import numpy as np"
   ]
  },
  {
   "cell_type": "code",
   "execution_count": 127,
   "id": "2323d9fb-ca03-4544-a868-0b878e6238b7",
   "metadata": {},
   "outputs": [
    {
     "data": {
      "text/plain": [
       "array([7, 2, 0, 1, 7, 3, 4, 4, 2, 8])"
      ]
     },
     "execution_count": 127,
     "metadata": {},
     "output_type": "execute_result"
    }
   ],
   "source": [
    "a = np.random.randint(10, size=10) #首先生成一个一维数组\n",
    "a# 对a中的数值进行确认"
   ]
  },
  {
   "cell_type": "code",
   "execution_count": 128,
   "id": "83c69c5b-113d-48a5-bace-93037c70e65e",
   "metadata": {},
   "outputs": [
    {
     "data": {
      "text/plain": [
       "9"
      ]
     },
     "execution_count": 128,
     "metadata": {},
     "output_type": "execute_result"
    }
   ],
   "source": [
    "np.argmax(a)"
   ]
  },
  {
   "cell_type": "code",
   "execution_count": 129,
   "id": "04719c1c-010a-4465-813c-96abf8e0e137",
   "metadata": {},
   "outputs": [
    {
     "data": {
      "text/plain": [
       "9"
      ]
     },
     "execution_count": 129,
     "metadata": {},
     "output_type": "execute_result"
    }
   ],
   "source": [
    "a.argmax()"
   ]
  },
  {
   "cell_type": "code",
   "execution_count": 130,
   "id": "e2324ef9-b459-46b8-9799-5e141fc33dbf",
   "metadata": {},
   "outputs": [
    {
     "data": {
      "text/plain": [
       "array([[8, 4, 7, 0],\n",
       "       [2, 8, 7, 9],\n",
       "       [3, 8, 5, 0]])"
      ]
     },
     "execution_count": 130,
     "metadata": {},
     "output_type": "execute_result"
    }
   ],
   "source": [
    "b = np.random.randint(10, size=(3, 4)) # 接下来生成一个3×4的二维数组\n",
    "b # 对b中的元素进行确认"
   ]
  },
  {
   "cell_type": "code",
   "execution_count": 131,
   "id": "cb6465f4-c8b9-47d5-a525-c3fe844be29c",
   "metadata": {},
   "outputs": [
    {
     "data": {
      "text/plain": [
       "7"
      ]
     },
     "execution_count": 131,
     "metadata": {},
     "output_type": "execute_result"
    }
   ],
   "source": [
    "np.argmax(b) #  虽然需要获取的是二维数组中最大值的索引，但是返回的是降维成一维数组后的索引。因此这里获取的是1"
   ]
  },
  {
   "cell_type": "code",
   "execution_count": 132,
   "id": "78836fbb-6977-4f3a-b98a-35d370bbee13",
   "metadata": {},
   "outputs": [
    {
     "data": {
      "text/plain": [
       "7"
      ]
     },
     "execution_count": 132,
     "metadata": {},
     "output_type": "execute_result"
    }
   ],
   "source": [
    "b.argmax() # np.ndarray.argmax的用法也是相同的"
   ]
  },
  {
   "cell_type": "code",
   "execution_count": 133,
   "id": "b7886fe9-dacb-4c28-99e3-14f304334867",
   "metadata": {},
   "outputs": [
    {
     "data": {
      "text/plain": [
       "array([[8, 4, 7, 0],\n",
       "       [2, 8, 7, 9],\n",
       "       [3, 8, 5, 0]])"
      ]
     },
     "execution_count": 133,
     "metadata": {},
     "output_type": "execute_result"
    }
   ],
   "source": [
    "b"
   ]
  },
  {
   "cell_type": "code",
   "execution_count": 134,
   "id": "b57618d8-97ce-4ad3-b668-596081cfcb34",
   "metadata": {},
   "outputs": [
    {
     "data": {
      "text/plain": [
       "array([0, 1, 0, 1], dtype=int64)"
      ]
     },
     "execution_count": 134,
     "metadata": {},
     "output_type": "execute_result"
    }
   ],
   "source": [
    "np.argmax(b, axis=0) # 指定axis=0(在这种情况下为行)方向上的最大值（因为是从纵向查找最大值的索引，所以元素数量为4个）"
   ]
  },
  {
   "cell_type": "code",
   "execution_count": 135,
   "id": "18142d42-f600-469a-a8ec-cef679970eec",
   "metadata": {},
   "outputs": [
    {
     "data": {
      "text/plain": [
       "array([0, 1, 0, 1], dtype=int64)"
      ]
     },
     "execution_count": 135,
     "metadata": {},
     "output_type": "execute_result"
    }
   ],
   "source": [
    "b.argmax(axis=0) #  np.ndarray.argmax的用法也是相同的"
   ]
  },
  {
   "cell_type": "code",
   "execution_count": 136,
   "id": "a92cccce-5f49-4c64-9a64-f7d183b8d41f",
   "metadata": {},
   "outputs": [
    {
     "data": {
      "text/plain": [
       "array([0, 3, 1], dtype=int64)"
      ]
     },
     "execution_count": 136,
     "metadata": {},
     "output_type": "execute_result"
    }
   ],
   "source": [
    "np.argmax(b, axis=1) # 尝试将axis指定为1。这时需要查找列方向上的最大值(横向上元素中的最大值)"
   ]
  },
  {
   "cell_type": "code",
   "execution_count": 137,
   "id": "6aa1f2ae-18c1-4eca-bc53-19e6ccf1e99a",
   "metadata": {},
   "outputs": [
    {
     "data": {
      "text/plain": [
       "array([0, 3, 1], dtype=int64)"
      ]
     },
     "execution_count": 137,
     "metadata": {},
     "output_type": "execute_result"
    }
   ],
   "source": [
    "b.argmax(axis=1)"
   ]
  },
  {
   "cell_type": "code",
   "execution_count": 138,
   "id": "40addd03-d784-4cbc-9550-09ec94f84024",
   "metadata": {},
   "outputs": [
    {
     "data": {
      "text/plain": [
       "array([[[6, 7, 4, 6],\n",
       "        [3, 3, 7, 2],\n",
       "        [7, 1, 9, 4]],\n",
       "\n",
       "       [[5, 0, 8, 5],\n",
       "        [6, 1, 0, 2],\n",
       "        [1, 8, 8, 8]]])"
      ]
     },
     "execution_count": 138,
     "metadata": {},
     "output_type": "execute_result"
    }
   ],
   "source": [
    "c = np.random.randint(10, size=(2, 3, 4)) #生成一个2×3×4的三维数组\n",
    "c #  对c中的数值进行确认"
   ]
  },
  {
   "cell_type": "code",
   "execution_count": 139,
   "id": "2346faba-a9f3-47ec-8485-5126a391a433",
   "metadata": {},
   "outputs": [
    {
     "data": {
      "text/plain": [
       "array([[0, 0, 1, 0],\n",
       "       [1, 0, 0, 0],\n",
       "       [0, 1, 0, 1]], dtype=int64)"
      ]
     },
     "execution_count": 139,
     "metadata": {},
     "output_type": "execute_result"
    }
   ],
   "source": [
    "np.argmax(c, axis=0)"
   ]
  },
  {
   "cell_type": "code",
   "execution_count": 140,
   "id": "4d658650-e6c6-4e85-a5d8-8c9610df5a9a",
   "metadata": {},
   "outputs": [
    {
     "data": {
      "text/plain": [
       "array([[0, 0, 1, 0],\n",
       "       [1, 0, 0, 0],\n",
       "       [0, 1, 0, 1]], dtype=int64)"
      ]
     },
     "execution_count": 140,
     "metadata": {},
     "output_type": "execute_result"
    }
   ],
   "source": [
    "c.argmax(axis=0)"
   ]
  },
  {
   "cell_type": "code",
   "execution_count": 141,
   "id": "c3c27293-2c70-4ebd-a8ca-fa048adfaf82",
   "metadata": {},
   "outputs": [
    {
     "data": {
      "text/plain": [
       "array([[2, 0, 2, 0],\n",
       "       [1, 2, 0, 2]], dtype=int64)"
      ]
     },
     "execution_count": 141,
     "metadata": {},
     "output_type": "execute_result"
    }
   ],
   "source": [
    "np.argmax(c, axis=1)"
   ]
  },
  {
   "cell_type": "code",
   "execution_count": 142,
   "id": "a2203253-d942-439b-95b3-68b17fef1339",
   "metadata": {},
   "outputs": [
    {
     "data": {
      "text/plain": [
       "array([[2, 0, 2, 0],\n",
       "       [1, 2, 0, 2]], dtype=int64)"
      ]
     },
     "execution_count": 142,
     "metadata": {},
     "output_type": "execute_result"
    }
   ],
   "source": [
    "c.argmax(axis=1)"
   ]
  },
  {
   "cell_type": "code",
   "execution_count": 143,
   "id": "db777fdb-6ca0-4fed-8229-249d9ca8ba22",
   "metadata": {},
   "outputs": [
    {
     "data": {
      "text/plain": [
       "array([[1, 2, 2],\n",
       "       [2, 0, 1]], dtype=int64)"
      ]
     },
     "execution_count": 143,
     "metadata": {},
     "output_type": "execute_result"
    }
   ],
   "source": [
    "np.argmax(c, axis=2)"
   ]
  },
  {
   "cell_type": "code",
   "execution_count": 144,
   "id": "e77cf370-312d-4e40-ad99-271645c641db",
   "metadata": {},
   "outputs": [
    {
     "data": {
      "text/plain": [
       "array([[1, 2, 2],\n",
       "       [2, 0, 1]], dtype=int64)"
      ]
     },
     "execution_count": 144,
     "metadata": {},
     "output_type": "execute_result"
    }
   ],
   "source": [
    "c.argmax(axis=2)"
   ]
  },
  {
   "cell_type": "markdown",
   "id": "4667a498-ec31-4261-88a1-92252264fadb",
   "metadata": {},
   "source": [
    "### 2.6.3 np.ndarray.argmin"
   ]
  },
  {
   "cell_type": "markdown",
   "id": "528676b5-a2a3-40dd-bd08-492c3a90b0dd",
   "metadata": {},
   "source": [
    "### 2.6.4 np.argmin"
   ]
  },
  {
   "cell_type": "code",
   "execution_count": 145,
   "id": "5b0958bf-2239-4b4f-a49f-c9da6faf7da2",
   "metadata": {},
   "outputs": [
    {
     "data": {
      "text/plain": [
       "array([[1.2, 1.5, 2.3, 1.8],\n",
       "       [0.2, 2.5, 2.1, 2. ],\n",
       "       [3.1, 3.3, 1.5, 2.1]])"
      ]
     },
     "execution_count": 145,
     "metadata": {},
     "output_type": "execute_result"
    }
   ],
   "source": [
    "d = np.array([\n",
    "[1.2, 1.5, 2.3, 1.8],\n",
    "[0.2, 2.5, 2.1, 2.0],\n",
    "[3.1, 3.3, 1.5, 2.1]])\n",
    "d"
   ]
  },
  {
   "cell_type": "code",
   "execution_count": 146,
   "id": "da3469c0-e6ad-4636-8a23-03bd202ce5be",
   "metadata": {},
   "outputs": [
    {
     "data": {
      "text/plain": [
       "4"
      ]
     },
     "execution_count": 146,
     "metadata": {},
     "output_type": "execute_result"
    }
   ],
   "source": [
    "d.argmin() # 首先在不指定参数的情况下执行代码"
   ]
  },
  {
   "cell_type": "code",
   "execution_count": 147,
   "id": "6c9e7a21-cdfc-45a0-bb20-b3e2603de480",
   "metadata": {},
   "outputs": [
    {
     "data": {
      "text/plain": [
       "4"
      ]
     },
     "execution_count": 147,
     "metadata": {},
     "output_type": "execute_result"
    }
   ],
   "source": [
    "np.argmin(d) # 同样地执行代码"
   ]
  },
  {
   "cell_type": "code",
   "execution_count": 148,
   "id": "085985df-dcfc-47c3-ae89-ac8c77035a13",
   "metadata": {},
   "outputs": [
    {
     "data": {
      "text/plain": [
       "(1, 0)"
      ]
     },
     "execution_count": 148,
     "metadata": {},
     "output_type": "execute_result"
    }
   ],
   "source": [
    "np.unravel_index(np.argmin(d), d.shape) # 这样调用，返回的就是没有被降为一维数组的索引"
   ]
  },
  {
   "cell_type": "code",
   "execution_count": 149,
   "id": "73927b49-09fc-4452-8813-f3b796e0a57d",
   "metadata": {},
   "outputs": [
    {
     "data": {
      "text/plain": [
       "array([1, 0, 2, 0], dtype=int64)"
      ]
     },
     "execution_count": 149,
     "metadata": {},
     "output_type": "execute_result"
    }
   ],
   "source": [
    "np.argmin(d, axis=0) # 接着对坐标轴进行指定"
   ]
  },
  {
   "cell_type": "code",
   "execution_count": 150,
   "id": "ec07eac1-3051-4d0c-8cb4-5ee4bfd30314",
   "metadata": {},
   "outputs": [
    {
     "data": {
      "text/plain": [
       "array([0, 0, 2], dtype=int64)"
      ]
     },
     "execution_count": 150,
     "metadata": {},
     "output_type": "execute_result"
    }
   ],
   "source": [
    "np.argmin(d, axis=1)"
   ]
  },
  {
   "cell_type": "code",
   "execution_count": 151,
   "id": "43513380-8c02-4543-8f06-49786499bed6",
   "metadata": {},
   "outputs": [
    {
     "data": {
      "text/plain": [
       "array([0, 0, 2], dtype=int64)"
      ]
     },
     "execution_count": 151,
     "metadata": {},
     "output_type": "execute_result"
    }
   ],
   "source": [
    "d.argmin(axis=1) # ndarray.argmin也可以完成同样的处理"
   ]
  },
  {
   "cell_type": "markdown",
   "id": "5792df61-1490-4819-a109-ddedc3d7df58",
   "metadata": {},
   "source": [
    "## 2.7 切换数组坐标轴顺序的函数"
   ]
  },
  {
   "cell_type": "markdown",
   "id": "f3d28005-f9a1-4572-860f-efbc83b8eff8",
   "metadata": {},
   "source": [
    "### 2.7.1 切换坐标轴数据"
   ]
  },
  {
   "cell_type": "markdown",
   "id": "083ea87a-0710-4002-a9fe-78024d2bcd87",
   "metadata": {},
   "source": [
    "### 2.7.2 numpy.ndarray.transpose"
   ]
  },
  {
   "cell_type": "code",
   "execution_count": 152,
   "id": "e2a05283-0d80-43a2-a0c6-abdf09587642",
   "metadata": {},
   "outputs": [],
   "source": [
    "import numpy as np"
   ]
  },
  {
   "cell_type": "code",
   "execution_count": 153,
   "id": "687a7528-5ca7-436d-804a-449ee053c829",
   "metadata": {},
   "outputs": [
    {
     "data": {
      "text/plain": [
       "array([[ 0,  1,  2,  3],\n",
       "       [ 4,  5,  6,  7],\n",
       "       [ 8,  9, 10, 11]])"
      ]
     },
     "execution_count": 153,
     "metadata": {},
     "output_type": "execute_result"
    }
   ],
   "source": [
    "a = np.arange(12).reshape(3, 4)\n",
    "a"
   ]
  },
  {
   "cell_type": "code",
   "execution_count": 154,
   "id": "1b5667dd-87f2-4ce7-a48d-bae219b8dc18",
   "metadata": {},
   "outputs": [
    {
     "data": {
      "text/plain": [
       "array([[ 0,  4,  8],\n",
       "       [ 1,  5,  9],\n",
       "       [ 2,  6, 10],\n",
       "       [ 3,  7, 11]])"
      ]
     },
     "execution_count": 154,
     "metadata": {},
     "output_type": "execute_result"
    }
   ],
   "source": [
    "a.transpose() # 首先在不指定任何参数的情况下对数组进行转置"
   ]
  },
  {
   "cell_type": "code",
   "execution_count": 155,
   "id": "a5c2fd8d-82f9-4cc2-afdc-91337f400241",
   "metadata": {},
   "outputs": [
    {
     "data": {
      "text/plain": [
       "array([[ 0,  4,  8],\n",
       "       [ 1,  5,  9],\n",
       "       [ 2,  6, 10],\n",
       "       [ 3,  7, 11]])"
      ]
     },
     "execution_count": 155,
     "metadata": {},
     "output_type": "execute_result"
    }
   ],
   "source": [
    "a.transpose(1, 0) # 对坐标轴的顺序进行指定。因为这里只是将坐标轴的顺序进行了颠倒，所以返回的是和上一步骤的执行结果相同的数组"
   ]
  },
  {
   "cell_type": "code",
   "execution_count": 156,
   "id": "6ece638c-fd7a-403d-a784-9cfbeb282351",
   "metadata": {},
   "outputs": [
    {
     "data": {
      "text/plain": [
       "array([[ 0,  4,  8],\n",
       "       [ 1,  5,  9],\n",
       "       [ 2,  6, 10],\n",
       "       [ 3,  7, 11]])"
      ]
     },
     "execution_count": 156,
     "metadata": {},
     "output_type": "execute_result"
    }
   ],
   "source": [
    "a.transpose((1, 0)) #  可以对元组进行指定"
   ]
  },
  {
   "cell_type": "code",
   "execution_count": 157,
   "id": "e0df499d-1a64-4385-a8c0-ec4cc6ead535",
   "metadata": {},
   "outputs": [
    {
     "data": {
      "text/plain": [
       "array([[ 0,  1,  2,  3],\n",
       "       [ 4,  5,  6,  7],\n",
       "       [ 8,  9, 10, 11]])"
      ]
     },
     "execution_count": 157,
     "metadata": {},
     "output_type": "execute_result"
    }
   ],
   "source": [
    "a.transpose(0, 1) # 指定按原有顺序排列的坐标轴，数组不会产生变化"
   ]
  },
  {
   "cell_type": "code",
   "execution_count": 158,
   "id": "8252b77a-02d8-4992-96ff-a842f0ff481f",
   "metadata": {},
   "outputs": [
    {
     "data": {
      "text/plain": [
       "array([0, 1, 2, 3, 4, 5])"
      ]
     },
     "execution_count": 158,
     "metadata": {},
     "output_type": "execute_result"
    }
   ],
   "source": [
    "b = np.arange(6) # 尝试对一维数组进行转置\n",
    "b"
   ]
  },
  {
   "cell_type": "code",
   "execution_count": 159,
   "id": "a9ba4049-25e9-4b90-b2dd-00321cae0720",
   "metadata": {},
   "outputs": [
    {
     "data": {
      "text/plain": [
       "array([0, 1, 2, 3, 4, 5])"
      ]
     },
     "execution_count": 159,
     "metadata": {},
     "output_type": "execute_result"
    }
   ],
   "source": [
    "b.transpose() # 没有产生什么变化"
   ]
  },
  {
   "cell_type": "code",
   "execution_count": 160,
   "id": "611a8b04-8a3a-4b1d-8b5e-8c6b36f51b54",
   "metadata": {},
   "outputs": [
    {
     "data": {
      "text/plain": [
       "(6,)"
      ]
     },
     "execution_count": 160,
     "metadata": {},
     "output_type": "execute_result"
    }
   ],
   "source": [
    "b.shape #在这里对b的shape进行确认，可以看到坐标轴只有一个"
   ]
  },
  {
   "cell_type": "code",
   "execution_count": 161,
   "id": "15d768ad-2715-491c-a5e9-142b34a34a0f",
   "metadata": {},
   "outputs": [
    {
     "data": {
      "text/plain": [
       "array([[0, 1, 2, 3, 4, 5]])"
      ]
     },
     "execution_count": 161,
     "metadata": {},
     "output_type": "execute_result"
    }
   ],
   "source": [
    "b = b.reshape((1, 6)) #  如果像这样对两个坐标轴进行指定，就可以实现转置\n",
    "b"
   ]
  },
  {
   "cell_type": "code",
   "execution_count": 162,
   "id": "8f491ddd-5d84-4547-95d7-b3958220649a",
   "metadata": {},
   "outputs": [
    {
     "data": {
      "text/plain": [
       "array([[0],\n",
       "       [1],\n",
       "       [2],\n",
       "       [3],\n",
       "       [4],\n",
       "       [5]])"
      ]
     },
     "execution_count": 162,
     "metadata": {},
     "output_type": "execute_result"
    }
   ],
   "source": [
    "b.transpose()"
   ]
  },
  {
   "cell_type": "code",
   "execution_count": 163,
   "id": "e1b057dd-7473-4070-991e-1639690c3be5",
   "metadata": {},
   "outputs": [
    {
     "data": {
      "text/plain": [
       "array([[[ 0,  1],\n",
       "        [ 2,  3],\n",
       "        [ 4,  5]],\n",
       "\n",
       "       [[ 6,  7],\n",
       "        [ 8,  9],\n",
       "        [10, 11]],\n",
       "\n",
       "       [[12, 13],\n",
       "        [14, 15],\n",
       "        [16, 17]],\n",
       "\n",
       "       [[18, 19],\n",
       "        [20, 21],\n",
       "        [22, 23]]])"
      ]
     },
     "execution_count": 163,
     "metadata": {},
     "output_type": "execute_result"
    }
   ],
   "source": [
    "c = np.arange(24).reshape(4, 3, 2) #  4×3×2的三维数组。此外，axis=0的元素数量为4，axis=1的元素数量为3，axis=2的元素数量为2\n",
    "c"
   ]
  },
  {
   "cell_type": "code",
   "execution_count": 164,
   "id": "8a948b7c-ad2d-496b-b73f-f9122576edce",
   "metadata": {},
   "outputs": [
    {
     "data": {
      "text/plain": [
       "array([[[ 0,  6, 12, 18],\n",
       "        [ 2,  8, 14, 20],\n",
       "        [ 4, 10, 16, 22]],\n",
       "\n",
       "       [[ 1,  7, 13, 19],\n",
       "        [ 3,  9, 15, 21],\n",
       "        [ 5, 11, 17, 23]]])"
      ]
     },
     "execution_count": 164,
     "metadata": {},
     "output_type": "execute_result"
    }
   ],
   "source": [
    "c.transpose() #  如果不对参数进行任何指定，就会返回坐标轴的顺序经过转置后的(2,1,0)数组"
   ]
  },
  {
   "cell_type": "code",
   "execution_count": 165,
   "id": "61347cb8-9cf3-4e83-9957-562b4513b6d2",
   "metadata": {},
   "outputs": [
    {
     "data": {
      "text/plain": [
       "array([[[ 0,  1],\n",
       "        [ 6,  7],\n",
       "        [12, 13],\n",
       "        [18, 19]],\n",
       "\n",
       "       [[ 2,  3],\n",
       "        [ 8,  9],\n",
       "        [14, 15],\n",
       "        [20, 21]],\n",
       "\n",
       "       [[ 4,  5],\n",
       "        [10, 11],\n",
       "        [16, 17],\n",
       "        [22, 23]]])"
      ]
     },
     "execution_count": 165,
     "metadata": {},
     "output_type": "execute_result"
    }
   ],
   "source": [
    "c.transpose(1, 0, 2) # 尝试对坐标轴的顺序进行指定"
   ]
  },
  {
   "cell_type": "markdown",
   "id": "4f86a5b0-dfed-46bc-b8d3-7686cbdfa0bb",
   "metadata": {},
   "source": [
    "### 2.7.3 numpy.transpose"
   ]
  },
  {
   "cell_type": "code",
   "execution_count": 166,
   "id": "4fbcdd0a-0c07-45f3-8117-feab72da00c5",
   "metadata": {},
   "outputs": [
    {
     "data": {
      "text/plain": [
       "array([[[ 0,  6, 12, 18],\n",
       "        [ 2,  8, 14, 20],\n",
       "        [ 4, 10, 16, 22]],\n",
       "\n",
       "       [[ 1,  7, 13, 19],\n",
       "        [ 3,  9, 15, 21],\n",
       "        [ 5, 11, 17, 23]]])"
      ]
     },
     "execution_count": 166,
     "metadata": {},
     "output_type": "execute_result"
    }
   ],
   "source": [
    "np.transpose(c) # 再次对三维数组c进行转置"
   ]
  },
  {
   "cell_type": "code",
   "execution_count": 167,
   "id": "12afd77d-0b93-447a-84fa-3f962c88388a",
   "metadata": {},
   "outputs": [
    {
     "data": {
      "text/plain": [
       "(4, 3, 2)"
      ]
     },
     "execution_count": 167,
     "metadata": {},
     "output_type": "execute_result"
    }
   ],
   "source": [
    "c.shape"
   ]
  },
  {
   "cell_type": "code",
   "execution_count": 168,
   "id": "4e639147-1d06-4f5a-bfff-5066a9506c95",
   "metadata": {},
   "outputs": [
    {
     "data": {
      "text/plain": [
       "(2, 3, 4)"
      ]
     },
     "execution_count": 168,
     "metadata": {},
     "output_type": "execute_result"
    }
   ],
   "source": [
    "np.transpose(c).shape"
   ]
  },
  {
   "cell_type": "code",
   "execution_count": 169,
   "id": "620c67e7-a4a5-446d-b5a3-220206b58e54",
   "metadata": {},
   "outputs": [
    {
     "data": {
      "text/plain": [
       "array([[[ 0,  1],\n",
       "        [ 6,  7],\n",
       "        [12, 13],\n",
       "        [18, 19]],\n",
       "\n",
       "       [[ 2,  3],\n",
       "        [ 8,  9],\n",
       "        [14, 15],\n",
       "        [20, 21]],\n",
       "\n",
       "       [[ 4,  5],\n",
       "        [10, 11],\n",
       "        [16, 17],\n",
       "        [22, 23]]])"
      ]
     },
     "execution_count": 169,
     "metadata": {},
     "output_type": "execute_result"
    }
   ],
   "source": [
    "np.transpose(c, (1, 0, 2)) # 对坐标轴的顺序进行指定"
   ]
  },
  {
   "cell_type": "code",
   "execution_count": 170,
   "id": "41adb51a-8004-4c51-86e0-8c07841dff7a",
   "metadata": {},
   "outputs": [
    {
     "data": {
      "text/plain": [
       "(3, 4, 2)"
      ]
     },
     "execution_count": 170,
     "metadata": {},
     "output_type": "execute_result"
    }
   ],
   "source": [
    "np.transpose(c, (1, 0, 2)).shape #  对shape进行确认"
   ]
  },
  {
   "cell_type": "code",
   "execution_count": 171,
   "id": "ea3cac5c-7245-4048-a62f-3bbc81569056",
   "metadata": {},
   "outputs": [
    {
     "data": {
      "text/plain": [
       "array([[0, 1, 2, 3, 4, 5]])"
      ]
     },
     "execution_count": 171,
     "metadata": {},
     "output_type": "execute_result"
    }
   ],
   "source": [
    "b"
   ]
  },
  {
   "cell_type": "code",
   "execution_count": 172,
   "id": "0d3aadfc-fe8a-42ae-82c6-2fef8e87b849",
   "metadata": {},
   "outputs": [
    {
     "data": {
      "text/plain": [
       "array([[0],\n",
       "       [1],\n",
       "       [2],\n",
       "       [3],\n",
       "       [4],\n",
       "       [5]])"
      ]
     },
     "execution_count": 172,
     "metadata": {},
     "output_type": "execute_result"
    }
   ],
   "source": [
    "np.transpose(b) # 在这里即使是使用与np.ndarray.transpose同样的方法进行转置，数组也不会产生变化"
   ]
  },
  {
   "cell_type": "code",
   "execution_count": 173,
   "id": "d8e05108-594f-403d-bb94-e6a29065693e",
   "metadata": {},
   "outputs": [
    {
     "data": {
      "text/plain": [
       "array([[0, 1, 2, 3, 4, 5]])"
      ]
     },
     "execution_count": 173,
     "metadata": {},
     "output_type": "execute_result"
    }
   ],
   "source": [
    "b = b.reshape((1, 6))\n",
    "b"
   ]
  },
  {
   "cell_type": "code",
   "execution_count": 174,
   "id": "b015930d-21fa-4759-b628-359b75332200",
   "metadata": {},
   "outputs": [
    {
     "data": {
      "text/plain": [
       "array([[0],\n",
       "       [1],\n",
       "       [2],\n",
       "       [3],\n",
       "       [4],\n",
       "       [5]])"
      ]
     },
     "execution_count": 174,
     "metadata": {},
     "output_type": "execute_result"
    }
   ],
   "source": [
    "np.transpose(b) #  对shape进行变换即可实现转置，和np.ndarray.transpose相同\n"
   ]
  },
  {
   "cell_type": "markdown",
   "id": "3cbda09c-8481-4b26-9411-960a5cfcc73c",
   "metadata": {},
   "source": [
    "### 2.7.4 numpy.ndarray.T"
   ]
  },
  {
   "cell_type": "code",
   "execution_count": 175,
   "id": "c1ced154-fca2-4486-a77d-801a6511f2e7",
   "metadata": {},
   "outputs": [
    {
     "data": {
      "text/plain": [
       "array([[ 0,  1,  2,  3],\n",
       "       [ 4,  5,  6,  7],\n",
       "       [ 8,  9, 10, 11]])"
      ]
     },
     "execution_count": 175,
     "metadata": {},
     "output_type": "execute_result"
    }
   ],
   "source": [
    "a # 使用T再次分别对a、b、c进行转置"
   ]
  },
  {
   "cell_type": "code",
   "execution_count": 176,
   "id": "c49a8c04-5b0b-4b68-a939-72d7935aab0f",
   "metadata": {},
   "outputs": [
    {
     "data": {
      "text/plain": [
       "array([[ 0,  4,  8],\n",
       "       [ 1,  5,  9],\n",
       "       [ 2,  6, 10],\n",
       "       [ 3,  7, 11]])"
      ]
     },
     "execution_count": 176,
     "metadata": {},
     "output_type": "execute_result"
    }
   ],
   "source": [
    "a.T"
   ]
  },
  {
   "cell_type": "code",
   "execution_count": 177,
   "id": "bb668591-bbf2-49e0-8825-649bee1c8c5c",
   "metadata": {},
   "outputs": [
    {
     "data": {
      "text/plain": [
       "array([[0, 1, 2, 3, 4, 5]])"
      ]
     },
     "execution_count": 177,
     "metadata": {},
     "output_type": "execute_result"
    }
   ],
   "source": [
    "b"
   ]
  },
  {
   "cell_type": "code",
   "execution_count": 178,
   "id": "99419a02-883b-4a1a-a49b-58b72b7dd6a4",
   "metadata": {},
   "outputs": [
    {
     "data": {
      "text/plain": [
       "array([[0],\n",
       "       [1],\n",
       "       [2],\n",
       "       [3],\n",
       "       [4],\n",
       "       [5]])"
      ]
     },
     "execution_count": 178,
     "metadata": {},
     "output_type": "execute_result"
    }
   ],
   "source": [
    "b.T"
   ]
  },
  {
   "cell_type": "code",
   "execution_count": 179,
   "id": "34093f97-632b-47b3-a2d8-a3928e4ddc0b",
   "metadata": {},
   "outputs": [
    {
     "data": {
      "text/plain": [
       "array([[[ 0,  1],\n",
       "        [ 2,  3],\n",
       "        [ 4,  5]],\n",
       "\n",
       "       [[ 6,  7],\n",
       "        [ 8,  9],\n",
       "        [10, 11]],\n",
       "\n",
       "       [[12, 13],\n",
       "        [14, 15],\n",
       "        [16, 17]],\n",
       "\n",
       "       [[18, 19],\n",
       "        [20, 21],\n",
       "        [22, 23]]])"
      ]
     },
     "execution_count": 179,
     "metadata": {},
     "output_type": "execute_result"
    }
   ],
   "source": [
    "c"
   ]
  },
  {
   "cell_type": "code",
   "execution_count": 180,
   "id": "264fd561-407f-45c8-87ab-efb26a4ab8d4",
   "metadata": {},
   "outputs": [
    {
     "data": {
      "text/plain": [
       "array([[[ 0,  6, 12, 18],\n",
       "        [ 2,  8, 14, 20],\n",
       "        [ 4, 10, 16, 22]],\n",
       "\n",
       "       [[ 1,  7, 13, 19],\n",
       "        [ 3,  9, 15, 21],\n",
       "        [ 5, 11, 17, 23]]])"
      ]
     },
     "execution_count": 180,
     "metadata": {},
     "output_type": "execute_result"
    }
   ],
   "source": [
    "c.T"
   ]
  },
  {
   "cell_type": "code",
   "execution_count": 181,
   "id": "f05b4ad7-baf9-48cd-953b-620ac3e56768",
   "metadata": {},
   "outputs": [
    {
     "data": {
      "text/plain": [
       "True"
      ]
     },
     "execution_count": 181,
     "metadata": {},
     "output_type": "execute_result"
    }
   ],
   "source": [
    "a.transpose().shape == a.T.shape # 对经过转置后的shape分别进行比较"
   ]
  },
  {
   "cell_type": "code",
   "execution_count": 182,
   "id": "7cc69529-68a9-4dac-a79d-aaeb62b9023e",
   "metadata": {},
   "outputs": [
    {
     "data": {
      "text/plain": [
       "True"
      ]
     },
     "execution_count": 182,
     "metadata": {},
     "output_type": "execute_result"
    }
   ],
   "source": [
    "b.transpose().shape == b.T.shape"
   ]
  },
  {
   "cell_type": "code",
   "execution_count": 183,
   "id": "912ceab9-5d3c-417d-a877-9448f4afab28",
   "metadata": {},
   "outputs": [
    {
     "data": {
      "text/plain": [
       "True"
      ]
     },
     "execution_count": 183,
     "metadata": {},
     "output_type": "execute_result"
    }
   ],
   "source": [
    "c.transpose().shape == c.T.shape"
   ]
  },
  {
   "cell_type": "markdown",
   "id": "81b2a9bf-8762-4b68-9c70-1ef13e474f47",
   "metadata": {},
   "source": [
    "## 2.8 排序函数"
   ]
  },
  {
   "cell_type": "markdown",
   "id": "89d53e56-bcd5-46a4-b5e2-06a9ef5f3581",
   "metadata": {},
   "source": [
    "### 2.8.1　np.sort"
   ]
  },
  {
   "cell_type": "code",
   "execution_count": 184,
   "id": "32539bb3-ba8a-4c43-9abd-84ae44f6f888",
   "metadata": {},
   "outputs": [],
   "source": [
    "import numpy as np"
   ]
  },
  {
   "cell_type": "code",
   "execution_count": 185,
   "id": "38c88152-1696-4b07-8781-3915cf9a942d",
   "metadata": {},
   "outputs": [
    {
     "data": {
      "text/plain": [
       "array([92, 92, 96, 43, 20,  5, 77, 74, 12, 71, 62, 12,  1, 47, 78, 27, 90,\n",
       "       31, 89, 95])"
      ]
     },
     "execution_count": 185,
     "metadata": {},
     "output_type": "execute_result"
    }
   ],
   "source": [
    "a = np.random.randint(0, 100, size=20)\n",
    "a"
   ]
  },
  {
   "cell_type": "code",
   "execution_count": 186,
   "id": "bae34ea4-92f1-4e85-a67c-09c888c94f11",
   "metadata": {},
   "outputs": [
    {
     "data": {
      "text/plain": [
       "array([ 1,  5, 12, 12, 20, 27, 31, 43, 47, 62, 71, 74, 77, 78, 89, 90, 92,\n",
       "       92, 95, 96])"
      ]
     },
     "execution_count": 186,
     "metadata": {},
     "output_type": "execute_result"
    }
   ],
   "source": [
    "np.sort(a)"
   ]
  },
  {
   "cell_type": "markdown",
   "id": "81187bb5-a4af-47f9-bbe7-f03de9b6bd6d",
   "metadata": {},
   "source": [
    "### 2.8.2 np.argsort"
   ]
  },
  {
   "cell_type": "code",
   "execution_count": 187,
   "id": "f7166b87-1265-4377-83a3-feab2b0054e6",
   "metadata": {},
   "outputs": [],
   "source": [
    "a = np.array([1, 3, 2])"
   ]
  },
  {
   "cell_type": "code",
   "execution_count": 188,
   "id": "d14037b3-e8b4-486e-8786-7fb943c3268f",
   "metadata": {},
   "outputs": [
    {
     "data": {
      "text/plain": [
       "array([0, 2, 1], dtype=int64)"
      ]
     },
     "execution_count": 188,
     "metadata": {},
     "output_type": "execute_result"
    }
   ],
   "source": [
    "np.argsort(a)"
   ]
  },
  {
   "cell_type": "markdown",
   "id": "40239d02-0125-48e3-bf68-76eed31c0e4d",
   "metadata": {},
   "source": [
    "### 2.8.3  用kind参数指定quicksort、 mergesort、 heapsort"
   ]
  },
  {
   "cell_type": "code",
   "execution_count": 189,
   "id": "3a65f7bd-a229-4c83-9f37-6f6f465667df",
   "metadata": {},
   "outputs": [],
   "source": [
    "import numpy as np\n",
    "import time\n",
    "def sort_comparison(n):\n",
    "    result1 = np.empty(1000)\n",
    "    for i in range(1000):\n",
    "        a = np.random.rand(n)\n",
    "        time1 = time.time()\n",
    "        b = np.sort(a, kind='quicksort')\n",
    "        time1 = time.time()- time1\n",
    "        result1[i] = time1\n",
    "    result2 = np.empty(1000)\n",
    "    for i in range(1000):\n",
    "        a = np.random.rand(n)\n",
    "        time1 = time.time()\n",
    "        b = np.sort(a, kind='mergesort')\n",
    "        time1 = time.time()-time1\n",
    "        result2[i] = time1\n",
    "    result3 = np.empty(1000)\n",
    "    for i in range(1000):\n",
    "        a = np.random.rand(n)\n",
    "        time1 = time.time()\n",
    "        b = np.sort(a, kind='heapsort')\n",
    "        time1 = time.time() - time1\n",
    "        result3[i] = time1\n",
    "    print (\"quicksort average {}, max {}\".format(np.average(result1), np.max(result1)))\n",
    "    print (\"mergesort average {}, max {}\".format(np.average(result2), np. max(result2)))\n",
    "    print (\"heapsort average {}, max {}\".format(np.average(result3), np.max(result3)))"
   ]
  },
  {
   "cell_type": "code",
   "execution_count": 190,
   "id": "a6be1fa0-fbd1-4d46-aafb-24db10394022",
   "metadata": {},
   "outputs": [
    {
     "name": "stdout",
     "output_type": "stream",
     "text": [
      "quicksort average 3.009796142578125e-06, max 0.0009999275207519531\n",
      "mergesort average 4.00090217590332e-06, max 0.0010025501251220703\n",
      "heapsort average 3.99017333984375e-06, max 0.0010018348693847656\n"
     ]
    }
   ],
   "source": [
    "sort_comparison(100)"
   ]
  },
  {
   "cell_type": "code",
   "execution_count": 191,
   "id": "6b4f6b86-ecff-497c-8f02-8ebacc4efc60",
   "metadata": {},
   "outputs": [
    {
     "name": "stdout",
     "output_type": "stream",
     "text": [
      "quicksort average 4.3742179870605466e-05, max 0.0010151863098144531\n",
      "mergesort average 3.622627258300781e-05, max 0.0010139942169189453\n",
      "heapsort average 4.841375350952149e-05, max 0.004866600036621094\n"
     ]
    }
   ],
   "source": [
    "sort_comparison(1000)"
   ]
  },
  {
   "cell_type": "code",
   "execution_count": 192,
   "id": "bc3242a9-ac14-4eda-a68b-6463df27dd4c",
   "metadata": {},
   "outputs": [
    {
     "name": "stdout",
     "output_type": "stream",
     "text": [
      "quicksort average 0.0004904966354370117, max 0.007151126861572266\n",
      "mergesort average 0.0005279741287231445, max 0.008037090301513672\n",
      "heapsort average 0.0006762020587921143, max 0.008347272872924805\n"
     ]
    }
   ],
   "source": [
    "sort_comparison(10000)"
   ]
  },
  {
   "cell_type": "code",
   "execution_count": 193,
   "id": "88947c2b-ef9b-4cff-b504-5551693f19b6",
   "metadata": {},
   "outputs": [
    {
     "name": "stdout",
     "output_type": "stream",
     "text": [
      "quicksort average 0.005940967798233032, max 0.01339411735534668\n",
      "mergesort average 0.006294390201568603, max 0.011617660522460938\n",
      "heapsort average 0.008358950853347778, max 0.015575647354125977\n"
     ]
    }
   ],
   "source": [
    "sort_comparison(100000)"
   ]
  },
  {
   "cell_type": "markdown",
   "id": "fc5600dc-a301-4e8c-9eb4-2c41e088a989",
   "metadata": {},
   "source": [
    "### 2.8.4 　关于order参数"
   ]
  },
  {
   "cell_type": "code",
   "execution_count": 194,
   "id": "7b9339ee-69c5-4457-82a6-c5efe404df2f",
   "metadata": {},
   "outputs": [],
   "source": [
    "values = [('Alice', 25, 9.7), ('Bob', 12, 7.6), ('Catherine', 1, 8.6), ('David', 10, 7.6)]"
   ]
  },
  {
   "cell_type": "code",
   "execution_count": 195,
   "id": "77aee5dd-b5bc-4b80-b608-e510e25945de",
   "metadata": {},
   "outputs": [],
   "source": [
    "dtype = [('name', 'S10'),('ID', int), ('score', float)]"
   ]
  },
  {
   "cell_type": "code",
   "execution_count": 196,
   "id": "035a5fc7-b64d-47be-be4e-fe3cf7e1e016",
   "metadata": {},
   "outputs": [],
   "source": [
    "a = np.array(values, dtype=dtype)"
   ]
  },
  {
   "cell_type": "code",
   "execution_count": 197,
   "id": "d258c657-f3ea-4403-8422-2e662356c146",
   "metadata": {},
   "outputs": [
    {
     "data": {
      "text/plain": [
       "array([(b'Bob', 12, 7.6), (b'David', 10, 7.6), (b'Catherine',  1, 8.6),\n",
       "       (b'Alice', 25, 9.7)],\n",
       "      dtype=[('name', 'S10'), ('ID', '<i4'), ('score', '<f8')])"
      ]
     },
     "execution_count": 197,
     "metadata": {},
     "output_type": "execute_result"
    }
   ],
   "source": [
    "np.sort(a, order='score')"
   ]
  },
  {
   "cell_type": "code",
   "execution_count": 198,
   "id": "433f5f54-0c05-48f5-8105-5a04f206b898",
   "metadata": {},
   "outputs": [
    {
     "data": {
      "text/plain": [
       "array([1, 3, 2, 0], dtype=int64)"
      ]
     },
     "execution_count": 198,
     "metadata": {},
     "output_type": "execute_result"
    }
   ],
   "source": [
    "np.argsort(a, order='score') # 当然，也可以使用argsort函数"
   ]
  },
  {
   "cell_type": "code",
   "execution_count": 199,
   "id": "5de4b44d-3981-47a2-aa91-8e75af48f336",
   "metadata": {},
   "outputs": [
    {
     "data": {
      "text/plain": [
       "array([(b'David', 10, 7.6), (b'Bob', 12, 7.6), (b'Catherine',  1, 8.6),\n",
       "       (b'Alice', 25, 9.7)],\n",
       "      dtype=[('name', 'S10'), ('ID', '<i4'), ('score', '<f8')])"
      ]
     },
     "execution_count": 199,
     "metadata": {},
     "output_type": "execute_result"
    }
   ],
   "source": [
    "np.sort(a, order=['score', 'ID'])"
   ]
  },
  {
   "cell_type": "code",
   "execution_count": 200,
   "id": "c626152b-2c38-4023-b2b3-dea92d8af9d4",
   "metadata": {},
   "outputs": [
    {
     "data": {
      "text/plain": [
       "array([3, 1, 2, 0], dtype=int64)"
      ]
     },
     "execution_count": 200,
     "metadata": {},
     "output_type": "execute_result"
    }
   ],
   "source": [
    "np.argsort(a, order=['score', 'ID'])"
   ]
  },
  {
   "cell_type": "code",
   "execution_count": 201,
   "id": "0c28767a-e2be-42d7-884a-f6b87b0b6d67",
   "metadata": {},
   "outputs": [
    {
     "data": {
      "text/plain": [
       "array([[77, 95, 54, 99, 16],\n",
       "       [39, 95, 97, 60, 18],\n",
       "       [ 4, 66, 68, 55, 82],\n",
       "       [96,  6,  4, 10, 35]])"
      ]
     },
     "execution_count": 201,
     "metadata": {},
     "output_type": "execute_result"
    }
   ],
   "source": [
    "b = np.random.randint(0, 100, size=20).reshape(4,5)\n",
    "b # 将b变成二维数组"
   ]
  },
  {
   "cell_type": "code",
   "execution_count": 202,
   "id": "33123c0d-23f8-4bd9-a7a4-f4ad329d4d51",
   "metadata": {},
   "outputs": [
    {
     "data": {
      "text/plain": [
       "array([[16, 54, 77, 95, 99],\n",
       "       [18, 39, 60, 95, 97],\n",
       "       [ 4, 55, 66, 68, 82],\n",
       "       [ 4,  6, 10, 35, 96]])"
      ]
     },
     "execution_count": 202,
     "metadata": {},
     "output_type": "execute_result"
    }
   ],
   "source": [
    "np.sort(b) # 如果不指定axis，就会在列方向上进行排序"
   ]
  },
  {
   "cell_type": "code",
   "execution_count": 203,
   "id": "3263d80d-85bf-41b6-a186-97c35684db59",
   "metadata": {},
   "outputs": [
    {
     "data": {
      "text/plain": [
       "array([[4, 2, 0, 1, 3],\n",
       "       [4, 0, 3, 1, 2],\n",
       "       [0, 3, 1, 2, 4],\n",
       "       [2, 1, 3, 4, 0]], dtype=int64)"
      ]
     },
     "execution_count": 203,
     "metadata": {},
     "output_type": "execute_result"
    }
   ],
   "source": [
    "np.argsort(b) #  argsort也是同样的。显示的索引只是列的编号"
   ]
  },
  {
   "cell_type": "code",
   "execution_count": 204,
   "id": "ae405b28-4261-48e7-9117-bca0bbb70ca9",
   "metadata": {},
   "outputs": [
    {
     "data": {
      "text/plain": [
       "array([[ 4,  6,  4, 10, 16],\n",
       "       [39, 66, 54, 55, 18],\n",
       "       [77, 95, 68, 60, 35],\n",
       "       [96, 95, 97, 99, 82]])"
      ]
     },
     "execution_count": 204,
     "metadata": {},
     "output_type": "execute_result"
    }
   ],
   "source": [
    "np.sort(b, axis=0) # 然后对axis进行指定"
   ]
  },
  {
   "cell_type": "code",
   "execution_count": 205,
   "id": "a9c298bb-072a-4728-985e-5896bdff0b1f",
   "metadata": {},
   "outputs": [
    {
     "data": {
      "text/plain": [
       "array([[2, 3, 3, 3, 0],\n",
       "       [1, 2, 0, 2, 1],\n",
       "       [0, 0, 2, 1, 3],\n",
       "       [3, 1, 1, 0, 2]], dtype=int64)"
      ]
     },
     "execution_count": 205,
     "metadata": {},
     "output_type": "execute_result"
    }
   ],
   "source": [
    "np.argsort(b, axis=0)"
   ]
  },
  {
   "cell_type": "code",
   "execution_count": 206,
   "id": "b2213359-3555-49bf-b851-f8d4af58d618",
   "metadata": {},
   "outputs": [
    {
     "data": {
      "text/plain": [
       "array([[[63, 85, 91, 76, 80],\n",
       "        [99, 44, 19, 88, 86],\n",
       "        [ 7, 11,  2, 74, 86],\n",
       "        [33, 12, 32, 96, 57]],\n",
       "\n",
       "       [[87, 36, 99, 43, 80],\n",
       "        [33, 92, 47,  1, 84],\n",
       "        [71, 35,  4, 13, 61],\n",
       "        [44,  6, 92, 58,  4]]])"
      ]
     },
     "execution_count": 206,
     "metadata": {},
     "output_type": "execute_result"
    }
   ],
   "source": [
    "c = np.random.randint(0, 100, size=(2, 4, 5))\n",
    "c"
   ]
  },
  {
   "cell_type": "code",
   "execution_count": 207,
   "id": "3f18cf76-c0fe-4699-90e8-39919923c812",
   "metadata": {},
   "outputs": [
    {
     "data": {
      "text/plain": [
       "array([[[63, 36, 91, 43, 80],\n",
       "        [33, 44, 19,  1, 84],\n",
       "        [ 7, 11,  2, 13, 61],\n",
       "        [33,  6, 32, 58,  4]],\n",
       "\n",
       "       [[87, 85, 99, 76, 80],\n",
       "        [99, 92, 47, 88, 86],\n",
       "        [71, 35,  4, 74, 86],\n",
       "        [44, 12, 92, 96, 57]]])"
      ]
     },
     "execution_count": 207,
     "metadata": {},
     "output_type": "execute_result"
    }
   ],
   "source": [
    "np.sort(c, axis=0) # 三维数组在axis=0的方向上排序"
   ]
  },
  {
   "cell_type": "code",
   "execution_count": 208,
   "id": "efe46e5c-7531-4236-b1e6-16b4e5f8d4a3",
   "metadata": {},
   "outputs": [
    {
     "data": {
      "text/plain": [
       "array([[[0, 1, 0, 1, 0],\n",
       "        [1, 0, 0, 1, 1],\n",
       "        [0, 0, 0, 1, 1],\n",
       "        [0, 1, 0, 1, 1]],\n",
       "\n",
       "       [[1, 0, 1, 0, 1],\n",
       "        [0, 1, 1, 0, 0],\n",
       "        [1, 1, 1, 0, 0],\n",
       "        [1, 0, 1, 0, 0]]], dtype=int64)"
      ]
     },
     "execution_count": 208,
     "metadata": {},
     "output_type": "execute_result"
    }
   ],
   "source": [
    "np.argsort(c, axis=0) # 因为是对元素两两进行排序，因此索引值不是0就是1"
   ]
  },
  {
   "cell_type": "markdown",
   "id": "0181fab4-ae19-47f5-9bca-478220f7b741",
   "metadata": {},
   "source": [
    "### 2.8.5 np.sort与np.ndarray.sort"
   ]
  },
  {
   "cell_type": "code",
   "execution_count": 209,
   "id": "3dc70efb-4c2d-498b-b10d-1472907c8b75",
   "metadata": {},
   "outputs": [
    {
     "data": {
      "text/plain": [
       "array([ 5, 41, 99,  7, 62,  2,  7, 14,  1, 37, 41, 15, 86, 43, 82,  9, 47,\n",
       "       65, 95, 56])"
      ]
     },
     "execution_count": 209,
     "metadata": {},
     "output_type": "execute_result"
    }
   ],
   "source": [
    "a = np.random.randint(0, 100, 20) #  生成20个随机数\n",
    "a"
   ]
  },
  {
   "cell_type": "code",
   "execution_count": 210,
   "id": "03d50626-9daf-44cb-a43d-3ab551995f2f",
   "metadata": {},
   "outputs": [
    {
     "data": {
      "text/plain": [
       "array([ 1,  2,  5,  7,  7,  9, 14, 15, 37, 41, 41, 43, 47, 56, 62, 65, 82,\n",
       "       86, 95, 99])"
      ]
     },
     "execution_count": 210,
     "metadata": {},
     "output_type": "execute_result"
    }
   ],
   "source": [
    "np.sort(a) # 返回经过排序后的数组"
   ]
  },
  {
   "cell_type": "code",
   "execution_count": 211,
   "id": "2b6585f7-497c-4b4a-93d5-f4769bd2a97b",
   "metadata": {},
   "outputs": [
    {
     "data": {
      "text/plain": [
       "array([ 5, 41, 99,  7, 62,  2,  7, 14,  1, 37, 41, 15, 86, 43, 82,  9, 47,\n",
       "       65, 95, 56])"
      ]
     },
     "execution_count": 211,
     "metadata": {},
     "output_type": "execute_result"
    }
   ],
   "source": [
    "a #  a中的内容没有变化"
   ]
  },
  {
   "cell_type": "code",
   "execution_count": 212,
   "id": "f12cf799-3018-4508-bc0c-8e4d00daf01d",
   "metadata": {},
   "outputs": [],
   "source": [
    "a.sort() #  使用ndarray.sort函数对a的元素进行排序"
   ]
  },
  {
   "cell_type": "code",
   "execution_count": 213,
   "id": "492fde60-99c9-4565-878d-7b0c34533281",
   "metadata": {},
   "outputs": [
    {
     "data": {
      "text/plain": [
       "array([ 1,  2,  5,  7,  7,  9, 14, 15, 37, 41, 41, 43, 47, 56, 62, 65, 82,\n",
       "       86, 95, 99])"
      ]
     },
     "execution_count": 213,
     "metadata": {},
     "output_type": "execute_result"
    }
   ],
   "source": [
    "a"
   ]
  },
  {
   "cell_type": "markdown",
   "id": "3ef07715-d852-4b9f-a7ed-669010c1a886",
   "metadata": {},
   "source": [
    "## 2.9 数组拼接函数"
   ]
  },
  {
   "cell_type": "markdown",
   "id": "be6855cc-959a-4841-bf60-d295b24cc6c4",
   "metadata": {},
   "source": [
    "### 2.9.1 np.hstack"
   ]
  },
  {
   "cell_type": "code",
   "execution_count": 214,
   "id": "d856f31e-952e-425e-824f-15e84a61d977",
   "metadata": {},
   "outputs": [],
   "source": [
    "import numpy as np"
   ]
  },
  {
   "cell_type": "code",
   "execution_count": 215,
   "id": "dd67ce16-3719-4eed-8891-531336e6a5e0",
   "metadata": {},
   "outputs": [],
   "source": [
    "a = np.arange(12)"
   ]
  },
  {
   "cell_type": "code",
   "execution_count": 216,
   "id": "400aac96-7058-4ee5-aed5-adc51d0d770b",
   "metadata": {},
   "outputs": [],
   "source": [
    "b = np.arange(2)"
   ]
  },
  {
   "cell_type": "code",
   "execution_count": 217,
   "id": "c319db1c-bac9-4304-bafd-e9e3f8540d8f",
   "metadata": {},
   "outputs": [
    {
     "data": {
      "text/plain": [
       "array([ 0,  1,  2,  3,  4,  5,  6,  7,  8,  9, 10, 11])"
      ]
     },
     "execution_count": 217,
     "metadata": {},
     "output_type": "execute_result"
    }
   ],
   "source": [
    "a"
   ]
  },
  {
   "cell_type": "code",
   "execution_count": 218,
   "id": "80df605e-d93d-4f7d-b99f-dd5f0813c3ff",
   "metadata": {},
   "outputs": [
    {
     "data": {
      "text/plain": [
       "array([0, 1])"
      ]
     },
     "execution_count": 218,
     "metadata": {},
     "output_type": "execute_result"
    }
   ],
   "source": [
    "b"
   ]
  },
  {
   "cell_type": "code",
   "execution_count": 219,
   "id": "ab828aea-692f-4c82-893f-5678bfe533d9",
   "metadata": {},
   "outputs": [
    {
     "data": {
      "text/plain": [
       "array([ 0,  1,  2,  3,  4,  5,  6,  7,  8,  9, 10, 11,  0,  1])"
      ]
     },
     "execution_count": 219,
     "metadata": {},
     "output_type": "execute_result"
    }
   ],
   "source": [
    "np.hstack((a, b)) #  进行拼接"
   ]
  },
  {
   "cell_type": "code",
   "execution_count": 220,
   "id": "51b915fd-e75d-4abf-9b53-8f75f5169737",
   "metadata": {},
   "outputs": [
    {
     "data": {
      "text/plain": [
       "array([[0, 1]])"
      ]
     },
     "execution_count": 220,
     "metadata": {},
     "output_type": "execute_result"
    }
   ],
   "source": [
    "c = np.arange(2).reshape(1, 2) #  创建二维数组\n",
    "c"
   ]
  },
  {
   "cell_type": "code",
   "execution_count": 221,
   "id": "744e2007-1666-41db-8249-62a229023602",
   "metadata": {},
   "outputs": [],
   "source": [
    "# np.hstack((a, c)) #如果和a进行拼接就会发生运行时错误"
   ]
  },
  {
   "cell_type": "code",
   "execution_count": 222,
   "id": "3f6916f8-1901-4d88-a8cd-269cae9bd1a2",
   "metadata": {},
   "outputs": [
    {
     "data": {
      "text/plain": [
       "array([[0, 1, 2, 3, 4]])"
      ]
     },
     "execution_count": 222,
     "metadata": {},
     "output_type": "execute_result"
    }
   ],
   "source": [
    "d = np.arange(5).reshape(1, 5) # 将shape指定为(1, 5)\n",
    "d"
   ]
  },
  {
   "cell_type": "code",
   "execution_count": 223,
   "id": "09192af0-beb3-437f-9a55-3abea1c190cb",
   "metadata": {},
   "outputs": [
    {
     "data": {
      "text/plain": [
       "array([[0, 1, 0, 1, 2, 3, 4]])"
      ]
     },
     "execution_count": 223,
     "metadata": {},
     "output_type": "execute_result"
    }
   ],
   "source": [
    "np.hstack((c, d)) # 这样设置，就可以进行拼接"
   ]
  },
  {
   "cell_type": "code",
   "execution_count": 224,
   "id": "359a5cd5-c839-4fe6-8af8-47b7c3cf68a5",
   "metadata": {},
   "outputs": [],
   "source": [
    "e = np.arange(12).reshape(2, 2, 3)"
   ]
  },
  {
   "cell_type": "code",
   "execution_count": 225,
   "id": "215f9ec4-ea64-4b82-89e1-816c8bdac446",
   "metadata": {},
   "outputs": [],
   "source": [
    "f = np.arange(6).reshape(2, 1, 3) # 接下来对三维数组进行拼接"
   ]
  },
  {
   "cell_type": "code",
   "execution_count": 226,
   "id": "48442ca4-01dc-46be-8d8d-d9274c968346",
   "metadata": {},
   "outputs": [
    {
     "data": {
      "text/plain": [
       "array([[[ 0,  1,  2],\n",
       "        [ 3,  4,  5]],\n",
       "\n",
       "       [[ 6,  7,  8],\n",
       "        [ 9, 10, 11]]])"
      ]
     },
     "execution_count": 226,
     "metadata": {},
     "output_type": "execute_result"
    }
   ],
   "source": [
    "e"
   ]
  },
  {
   "cell_type": "code",
   "execution_count": 227,
   "id": "db1eb741-7bd2-4dd5-83fc-ef10a4be368e",
   "metadata": {},
   "outputs": [
    {
     "data": {
      "text/plain": [
       "array([[[0, 1, 2]],\n",
       "\n",
       "       [[3, 4, 5]]])"
      ]
     },
     "execution_count": 227,
     "metadata": {},
     "output_type": "execute_result"
    }
   ],
   "source": [
    "f"
   ]
  },
  {
   "cell_type": "code",
   "execution_count": 228,
   "id": "79410af6-7aa4-4cfc-b849-bb0894216549",
   "metadata": {},
   "outputs": [
    {
     "data": {
      "text/plain": [
       "array([[[ 0,  1,  2],\n",
       "        [ 3,  4,  5],\n",
       "        [ 0,  1,  2]],\n",
       "\n",
       "       [[ 6,  7,  8],\n",
       "        [ 9, 10, 11],\n",
       "        [ 3,  4,  5]]])"
      ]
     },
     "execution_count": 228,
     "metadata": {},
     "output_type": "execute_result"
    }
   ],
   "source": [
    "np.hstack((e, f))"
   ]
  },
  {
   "cell_type": "markdown",
   "id": "93c32d1f-aee4-4985-a7f3-d8232570a3b7",
   "metadata": {},
   "source": [
    "### 2.9.2 np.vstack"
   ]
  },
  {
   "cell_type": "code",
   "execution_count": 229,
   "id": "d2cb9161-9cea-4784-98fc-3fd60ffe08ce",
   "metadata": {},
   "outputs": [
    {
     "data": {
      "text/plain": [
       "array([[ 0],\n",
       "       [ 1],\n",
       "       [ 2],\n",
       "       [ 3],\n",
       "       [ 4],\n",
       "       [ 5],\n",
       "       [ 6],\n",
       "       [ 7],\n",
       "       [ 8],\n",
       "       [ 9],\n",
       "       [10],\n",
       "       [11]])"
      ]
     },
     "execution_count": 229,
     "metadata": {},
     "output_type": "execute_result"
    }
   ],
   "source": [
    "a = np.arange(12).reshape(-1, 1) # 包含12个元素的列向量\n",
    "a"
   ]
  },
  {
   "cell_type": "code",
   "execution_count": 230,
   "id": "54118b2c-334a-4d32-8b6e-9a12dbad6713",
   "metadata": {},
   "outputs": [
    {
     "data": {
      "text/plain": [
       "array([[0],\n",
       "       [1]])"
      ]
     },
     "execution_count": 230,
     "metadata": {},
     "output_type": "execute_result"
    }
   ],
   "source": [
    "b = np.arange(2).reshape(-1, 1) #  包含两个元素的列向量\n",
    "b"
   ]
  },
  {
   "cell_type": "code",
   "execution_count": 231,
   "id": "6dc4df7c-63bc-4642-a8a1-7fe3634698df",
   "metadata": {},
   "outputs": [
    {
     "data": {
      "text/plain": [
       "array([[ 0],\n",
       "       [ 1],\n",
       "       [ 2],\n",
       "       [ 3],\n",
       "       [ 4],\n",
       "       [ 5],\n",
       "       [ 6],\n",
       "       [ 7],\n",
       "       [ 8],\n",
       "       [ 9],\n",
       "       [10],\n",
       "       [11],\n",
       "       [ 0],\n",
       "       [ 1]])"
      ]
     },
     "execution_count": 231,
     "metadata": {},
     "output_type": "execute_result"
    }
   ],
   "source": [
    "np.vstack((a, b)) # 尝试进行拼接"
   ]
  },
  {
   "cell_type": "code",
   "execution_count": 232,
   "id": "a15b286c-bb60-4321-92f6-0a9f546ec960",
   "metadata": {},
   "outputs": [
    {
     "data": {
      "text/plain": [
       "array([[0, 1]])"
      ]
     },
     "execution_count": 232,
     "metadata": {},
     "output_type": "execute_result"
    }
   ],
   "source": [
    "c = np.arange(2).reshape(1, 2)\n",
    "c"
   ]
  },
  {
   "cell_type": "code",
   "execution_count": 233,
   "id": "2ae36b7f-0c98-42d3-ac4e-05dc1bc6fe9e",
   "metadata": {},
   "outputs": [],
   "source": [
    "# np.vstack((a, c)) #  如果和a进行拼接，就会发生运行时错误"
   ]
  },
  {
   "cell_type": "code",
   "execution_count": 234,
   "id": "16b7b65e-31f3-4bde-915a-116ede95b249",
   "metadata": {},
   "outputs": [],
   "source": [
    "d = np.arange(4).reshape(2, 2) # 这样设置，就能创建二维数组"
   ]
  },
  {
   "cell_type": "code",
   "execution_count": 235,
   "id": "ba963314-c7b7-47dc-8a4a-bae6e8bcd5e3",
   "metadata": {},
   "outputs": [
    {
     "data": {
      "text/plain": [
       "array([[0, 1]])"
      ]
     },
     "execution_count": 235,
     "metadata": {},
     "output_type": "execute_result"
    }
   ],
   "source": [
    "c"
   ]
  },
  {
   "cell_type": "code",
   "execution_count": 236,
   "id": "7e133019-d7b7-41a9-866e-532f496ece6d",
   "metadata": {},
   "outputs": [
    {
     "data": {
      "text/plain": [
       "array([[0, 1],\n",
       "       [2, 3]])"
      ]
     },
     "execution_count": 236,
     "metadata": {},
     "output_type": "execute_result"
    }
   ],
   "source": [
    "d"
   ]
  },
  {
   "cell_type": "code",
   "execution_count": 237,
   "id": "29745a7a-f86f-4a46-8ef2-22cecf5ff1d5",
   "metadata": {},
   "outputs": [
    {
     "data": {
      "text/plain": [
       "array([[0, 1],\n",
       "       [0, 1],\n",
       "       [2, 3]])"
      ]
     },
     "execution_count": 237,
     "metadata": {},
     "output_type": "execute_result"
    }
   ],
   "source": [
    "np.vstack((c, d))"
   ]
  },
  {
   "cell_type": "code",
   "execution_count": 238,
   "id": "6f7fb2c6-7d86-4604-a0ac-105f72f0cad9",
   "metadata": {},
   "outputs": [
    {
     "data": {
      "text/plain": [
       "array([[[ 0,  1],\n",
       "        [ 2,  3],\n",
       "        [ 4,  5]],\n",
       "\n",
       "       [[ 6,  7],\n",
       "        [ 8,  9],\n",
       "        [10, 11]],\n",
       "\n",
       "       [[12, 13],\n",
       "        [14, 15],\n",
       "        [16, 17]],\n",
       "\n",
       "       [[18, 19],\n",
       "        [20, 21],\n",
       "        [22, 23]]])"
      ]
     },
     "execution_count": 238,
     "metadata": {},
     "output_type": "execute_result"
    }
   ],
   "source": [
    "e = np.arange(24).reshape(4, 3, 2)\n",
    "e"
   ]
  },
  {
   "cell_type": "code",
   "execution_count": 239,
   "id": "871c8649-b653-49dc-8cfe-cec4315a6b35",
   "metadata": {},
   "outputs": [
    {
     "data": {
      "text/plain": [
       "array([[[0, 1],\n",
       "        [2, 3],\n",
       "        [4, 5]]])"
      ]
     },
     "execution_count": 239,
     "metadata": {},
     "output_type": "execute_result"
    }
   ],
   "source": [
    "f = np.arange(6).reshape(1, 3, 2)\n",
    "f"
   ]
  },
  {
   "cell_type": "code",
   "execution_count": 240,
   "id": "3137ae42-bce5-491d-8f13-b19f41ec3f8b",
   "metadata": {},
   "outputs": [
    {
     "data": {
      "text/plain": [
       "array([[[ 0,  1],\n",
       "        [ 2,  3],\n",
       "        [ 4,  5]],\n",
       "\n",
       "       [[ 6,  7],\n",
       "        [ 8,  9],\n",
       "        [10, 11]],\n",
       "\n",
       "       [[12, 13],\n",
       "        [14, 15],\n",
       "        [16, 17]],\n",
       "\n",
       "       [[18, 19],\n",
       "        [20, 21],\n",
       "        [22, 23]],\n",
       "\n",
       "       [[ 0,  1],\n",
       "        [ 2,  3],\n",
       "        [ 4,  5]]])"
      ]
     },
     "execution_count": 240,
     "metadata": {},
     "output_type": "execute_result"
    }
   ],
   "source": [
    "g = np.vstack((e, f))\n",
    "g #  进行拼接"
   ]
  },
  {
   "cell_type": "code",
   "execution_count": 241,
   "id": "8c6ac270-ba13-4634-bc00-bdc08905bca6",
   "metadata": {},
   "outputs": [
    {
     "data": {
      "text/plain": [
       "(5, 3, 2)"
      ]
     },
     "execution_count": 241,
     "metadata": {},
     "output_type": "execute_result"
    }
   ],
   "source": [
    "g.shape # 对shape进行确认"
   ]
  },
  {
   "cell_type": "markdown",
   "id": "1d5f8e1c-d4df-468b-8a3c-eb55ff926bf6",
   "metadata": {},
   "source": [
    "## 2.10 数据可视化函数库"
   ]
  },
  {
   "cell_type": "markdown",
   "id": "bd36da8e-5cd4-4c90-8418-5a705e2c3ba4",
   "metadata": {},
   "source": [
    "### 2.10.1 matplotlib的安装方法"
   ]
  },
  {
   "cell_type": "markdown",
   "id": "72d257eb-d0da-4517-aec9-4c1e34cb4696",
   "metadata": {},
   "source": [
    "### 2.10.2 matplotlib运行环境的准备"
   ]
  },
  {
   "cell_type": "code",
   "execution_count": 242,
   "id": "93676d97-34de-4e92-b257-8baa91483e51",
   "metadata": {},
   "outputs": [],
   "source": [
    "import numpy as np\n",
    "import matplotlib.pyplot as plt # 以plt的形式导入是惯例"
   ]
  },
  {
   "cell_type": "markdown",
   "id": "2c1c4e61-4d32-46d7-a731-f7bbebee8261",
   "metadata": {},
   "source": [
    "### 2.10.3 正弦曲线的绘制"
   ]
  },
  {
   "cell_type": "code",
   "execution_count": 243,
   "id": "6727daf2-8b1e-498b-8393-546e77f57e4a",
   "metadata": {},
   "outputs": [
    {
     "data": {
      "image/png": "[encoded data removed]",
      "text/plain": [
       "<Figure size 640x480 with 1 Axes>"
      ]
     },
     "metadata": {},
     "output_type": "display_data"
    }
   ],
   "source": [
    "import numpy as np\n",
    "import matplotlib.pyplot as plt # 以plt的形式导入是惯例\n",
    "X = np.linspace(-10, 10, 1000)\n",
    "y = np.sin(X) # 计算正弦值\n",
    "plt.plot(X, y) # 绘制图表，使用plot实现点与点之间的平滑连接\n",
    "plt.show() #  显示图表"
   ]
  },
  {
   "cell_type": "code",
   "execution_count": 244,
   "id": "2da1f197-86d1-40a3-b02f-a542e1d2d72f",
   "metadata": {},
   "outputs": [
    {
     "data": {
      "image/png": "[encoded data removed]",
      "text/plain": [
       "<Figure size 640x480 with 1 Axes>"
      ]
     },
     "metadata": {},
     "output_type": "display_data"
    }
   ],
   "source": [
    "plt.grid(True)\n",
    "plt.plot(X, y)\n",
    "plt.show()"
   ]
  },
  {
   "cell_type": "code",
   "execution_count": 245,
   "id": "68be6eb1-9c8e-44c2-b2d9-7546465c3c4b",
   "metadata": {},
   "outputs": [
    {
     "data": {
      "image/png": "[encoded data removed]",
      "text/plain": [
       "<Figure size 640x480 with 1 Axes>"
      ]
     },
     "metadata": {},
     "output_type": "display_data"
    }
   ],
   "source": [
    "plt.title('sine wave')\n",
    "plt.xlabel('X') #x轴的标签\n",
    "plt.ylabel('y') # y轴的标签\n",
    "plt.plot(X, y)\n",
    "plt.show()"
   ]
  },
  {
   "cell_type": "code",
   "execution_count": 246,
   "id": "6dce3f89-2ddd-4a04-8db8-8f8bee2b5950",
   "metadata": {},
   "outputs": [
    {
     "data": {
      "image/png": "[encoded data removed]",
      "text/plain": [
       "<Figure size 640x480 with 1 Axes>"
      ]
     },
     "metadata": {},
     "output_type": "display_data"
    }
   ],
   "source": [
    "plt.xlim(-5,5) #  -5~5的范围\n",
    "plt.ylim(-0.5, 1.0) # -0.5~1的范围\n",
    "plt.plot(X, y)\n",
    "plt.xlabel('X')\n",
    "plt.ylabel('y')\n",
    "plt.title('limited scale')\n",
    "plt.show()"
   ]
  },
  {
   "cell_type": "markdown",
   "id": "4337d385-dec5-4f61-b0c0-98f8dd110c72",
   "metadata": {},
   "source": [
    "### 2.10.4 各种图标的绘制"
   ]
  },
  {
   "cell_type": "code",
   "execution_count": 247,
   "id": "e8063386-20f2-4475-92e8-57b132011174",
   "metadata": {},
   "outputs": [
    {
     "data": {
      "image/png": "[encoded data removed]",
      "text/plain": [
       "<Figure size 640x480 with 1 Axes>"
      ]
     },
     "metadata": {},
     "output_type": "display_data"
    }
   ],
   "source": [
    "x = np.random.randn(1000) # 生成1000个服从标准正态分布的随机数\n",
    "y = np.random.randn(1000)\n",
    "plt.scatter(x, y)\n",
    "plt.title('scatter')\n",
    "plt.xlabel('x')\n",
    "plt.ylabel('y')\n",
    "plt.grid() #  即使不指定True，也会添加网格\n",
    "plt.show()"
   ]
  },
  {
   "cell_type": "code",
   "execution_count": 248,
   "id": "eb60d5e6-fcaa-4b19-8069-bd4b258f4f88",
   "metadata": {},
   "outputs": [
    {
     "data": {
      "image/png": "[encoded data removed]",
      "text/plain": [
       "<Figure size 640x480 with 1 Axes>"
      ]
     },
     "metadata": {},
     "output_type": "display_data"
    }
   ],
   "source": [
    "plt.hist(x) #  创建直方图\n",
    "plt.xlabel('x')\n",
    "plt.ylabel('frequency')\n",
    "plt.show()"
   ]
  },
  {
   "cell_type": "markdown",
   "id": "1bad33d3-a9ab-4b2f-a34c-5641282ef879",
   "metadata": {},
   "source": [
    "### 2.10.5 多个叠加正弦函数的绘制"
   ]
  },
  {
   "cell_type": "code",
   "execution_count": 249,
   "id": "fda7d620-7007-4443-add5-8f26b4a1d776",
   "metadata": {},
   "outputs": [
    {
     "data": {
      "image/png": "[encoded data removed]",
      "text/plain": [
       "<Figure size 640x480 with 1 Axes>"
      ]
     },
     "metadata": {},
     "output_type": "display_data"
    }
   ],
   "source": [
    "x = np.linspace(-10, 10, 1000)\n",
    "y_1 = np.sin(x)\n",
    "y_2 = np.cos(x)\n",
    "plt.plot(x, y_1)\n",
    "plt.plot(x, y_2)\n",
    "plt.grid()\n",
    "plt.xlabel('x')\n",
    "plt.ylabel('y')\n",
    "plt.show()"
   ]
  },
  {
   "cell_type": "markdown",
   "id": "8ec983e9-d064-48db-ace5-8edad73fb678",
   "metadata": {},
   "source": [
    "## 2.11 生成全零数组的函数"
   ]
  },
  {
   "cell_type": "markdown",
   "id": "0e199e03-221c-467f-a7ff-2162e97d0ce1",
   "metadata": {},
   "source": [
    "### 2.11.1 np.zeros"
   ]
  },
  {
   "cell_type": "code",
   "execution_count": 250,
   "id": "14037669-55ec-4d71-892c-246441889698",
   "metadata": {},
   "outputs": [],
   "source": [
    "import numpy as np"
   ]
  },
  {
   "cell_type": "code",
   "execution_count": 251,
   "id": "68289dff-13d5-4176-a473-1f61571546ee",
   "metadata": {},
   "outputs": [
    {
     "data": {
      "text/plain": [
       "array([0., 0., 0., 0., 0., 0., 0., 0., 0., 0.])"
      ]
     },
     "execution_count": 251,
     "metadata": {},
     "output_type": "execute_result"
    }
   ],
   "source": [
    "np.zeros(10) #  创建一维数组"
   ]
  },
  {
   "cell_type": "code",
   "execution_count": 252,
   "id": "daece140-6216-4b9a-b6b0-0b250e76bd66",
   "metadata": {},
   "outputs": [
    {
     "data": {
      "text/plain": [
       "array([0, 0, 0, 0, 0, 0, 0, 0, 0, 0])"
      ]
     },
     "execution_count": 252,
     "metadata": {},
     "output_type": "execute_result"
    }
   ],
   "source": [
    "np.zeros(10, dtype=int) # 将数据类型指定为int"
   ]
  },
  {
   "cell_type": "code",
   "execution_count": 253,
   "id": "7739fa76-d6dc-4649-b2a3-743b846d067d",
   "metadata": {},
   "outputs": [
    {
     "data": {
      "text/plain": [
       "array([[0., 0., 0., 0.],\n",
       "       [0., 0., 0., 0.],\n",
       "       [0., 0., 0., 0.]])"
      ]
     },
     "execution_count": 253,
     "metadata": {},
     "output_type": "execute_result"
    }
   ],
   "source": [
    "np.zeros((3, 4)) # 创建3×4的二维数组"
   ]
  },
  {
   "cell_type": "markdown",
   "id": "f0ae8c0f-d0cb-4f41-a767-856001bc5a12",
   "metadata": {},
   "source": [
    "### 2.11.2 np.empty与np.zeros的区别"
   ]
  },
  {
   "cell_type": "code",
   "execution_count": 254,
   "id": "32e26c8c-b2b7-42cd-9ca7-2c957b096706",
   "metadata": {},
   "outputs": [],
   "source": [
    "plt.show()"
   ]
  },
  {
   "cell_type": "code",
   "execution_count": 255,
   "id": "9ec9b1fb-726c-475e-b766-cc186631d229",
   "metadata": {},
   "outputs": [],
   "source": [
    "def zeros():\n",
    "    for i in range(10000):\n",
    "        _ = np.zeros((1, i))"
   ]
  },
  {
   "cell_type": "code",
   "execution_count": 256,
   "id": "ebca19b3-8a49-4b91-80c6-d940cd9b374d",
   "metadata": {},
   "outputs": [],
   "source": [
    "def empty():\n",
    "    for i in range(10000):\n",
    "        _ = np.empty((1, i))"
   ]
  },
  {
   "cell_type": "code",
   "execution_count": 257,
   "id": "0c8ca043-f7ce-482c-9990-707554933f72",
   "metadata": {},
   "outputs": [
    {
     "name": "stdout",
     "output_type": "stream",
     "text": [
      "11.9 ms ± 30.5 µs per loop (mean ± std. dev. of 7 runs, 100 loops each)\n"
     ]
    }
   ],
   "source": [
    "%timeit zeros()"
   ]
  },
  {
   "cell_type": "code",
   "execution_count": 258,
   "id": "677c6e83-1cae-48f7-8c89-73f6700c34ad",
   "metadata": {},
   "outputs": [
    {
     "name": "stdout",
     "output_type": "stream",
     "text": [
      "4.08 ms ± 47.9 µs per loop (mean ± std. dev. of 7 runs, 100 loops each)\n"
     ]
    }
   ],
   "source": [
    "%timeit empty()"
   ]
  },
  {
   "cell_type": "markdown",
   "id": "862717ed-fdc2-43ad-8e92-84a6f4562142",
   "metadata": {},
   "source": [
    "## 2.12 生成全1数组的函数"
   ]
  },
  {
   "cell_type": "markdown",
   "id": "7bdd6b96-7f57-485c-8975-85fb701cc093",
   "metadata": {},
   "source": [
    "### 2.12.1 np.ones"
   ]
  },
  {
   "cell_type": "code",
   "execution_count": 259,
   "id": "b6b9c95c-7e0d-4ce1-9d7b-ef1d8feb71cd",
   "metadata": {},
   "outputs": [],
   "source": [
    "import numpy as np"
   ]
  },
  {
   "cell_type": "code",
   "execution_count": 260,
   "id": "f444f8ce-7f54-4f01-9ea8-34cb60630a64",
   "metadata": {},
   "outputs": [
    {
     "data": {
      "text/plain": [
       "array([1., 1., 1.])"
      ]
     },
     "execution_count": 260,
     "metadata": {},
     "output_type": "execute_result"
    }
   ],
   "source": [
    "np.ones(3) #  包含3个元素的一维数组"
   ]
  },
  {
   "cell_type": "code",
   "execution_count": 261,
   "id": "6522ceec-be48-466d-ac3d-110f9f222385",
   "metadata": {},
   "outputs": [
    {
     "data": {
      "text/plain": [
       "array([[1., 1., 1.],\n",
       "       [1., 1., 1.]])"
      ]
     },
     "execution_count": 261,
     "metadata": {},
     "output_type": "execute_result"
    }
   ],
   "source": [
    "np.ones((2, 3)) #  2×3的二维数组"
   ]
  },
  {
   "cell_type": "code",
   "execution_count": 262,
   "id": "d67ec862-b71f-40fe-8576-f5d0ad1ff87a",
   "metadata": {},
   "outputs": [
    {
     "data": {
      "text/plain": [
       "array([1., 1., 1., 1.], dtype=float32)"
      ]
     },
     "execution_count": 262,
     "metadata": {},
     "output_type": "execute_result"
    }
   ],
   "source": [
    "np.ones(4, dtype=\"float32\") # 数据类型指定为float32"
   ]
  },
  {
   "cell_type": "code",
   "execution_count": 263,
   "id": "c5ca9e50-34dc-459b-8c55-b8536695352d",
   "metadata": {},
   "outputs": [
    {
     "data": {
      "text/plain": [
       "array([1, 1, 1, 1], dtype=int8)"
      ]
     },
     "execution_count": 263,
     "metadata": {},
     "output_type": "execute_result"
    }
   ],
   "source": [
    "np.ones(4, dtype=np.int8) #  数据类型指定为int8。还可以使用在NumPy中预先定义好的对象进行指定"
   ]
  },
  {
   "cell_type": "code",
   "execution_count": 264,
   "id": "d215c81e-4e4b-47c9-aaac-1b0c359f1ea5",
   "metadata": {},
   "outputs": [
    {
     "data": {
      "text/plain": [
       "array([[1.+0.j, 1.+0.j, 1.+0.j],\n",
       "       [1.+0.j, 1.+0.j, 1.+0.j]])"
      ]
     },
     "execution_count": 264,
     "metadata": {},
     "output_type": "execute_result"
    }
   ],
   "source": [
    "np.ones((2,3), dtype=\"complex\") # 还可以指定为复数形式"
   ]
  },
  {
   "cell_type": "markdown",
   "id": "00cdfda2-b4ca-467e-a618-2b0c153c323f",
   "metadata": {},
   "source": [
    "### 2.12.2 np.ones_like"
   ]
  },
  {
   "cell_type": "code",
   "execution_count": 265,
   "id": "99c32d84-26b5-4cf4-9da0-4f8032c12035",
   "metadata": {},
   "outputs": [],
   "source": [
    "a = np.array([[1, 2, 3],[2, 3, 4]])"
   ]
  },
  {
   "cell_type": "code",
   "execution_count": 266,
   "id": "9f286f50-88fa-466b-879c-1925ee41eba9",
   "metadata": {},
   "outputs": [
    {
     "data": {
      "text/plain": [
       "array([[1, 1, 1],\n",
       "       [1, 1, 1]])"
      ]
     },
     "execution_count": 266,
     "metadata": {},
     "output_type": "execute_result"
    }
   ],
   "source": [
    "np.ones_like(a)"
   ]
  },
  {
   "cell_type": "code",
   "execution_count": 267,
   "id": "a0cb8936-d8ab-4b2f-8f3b-512d29e0af44",
   "metadata": {},
   "outputs": [],
   "source": [
    "b = np.array([2, 3, 4], dtype=\"int8\" )"
   ]
  },
  {
   "cell_type": "code",
   "execution_count": 268,
   "id": "6032bee9-d3d4-4ab6-a10b-7ba202ec6710",
   "metadata": {},
   "outputs": [
    {
     "data": {
      "text/plain": [
       "array([1, 1, 1], dtype=int8)"
      ]
     },
     "execution_count": 268,
     "metadata": {},
     "output_type": "execute_result"
    }
   ],
   "source": [
    "np.ones_like(b)"
   ]
  },
  {
   "cell_type": "markdown",
   "id": "c1cb8aac-2f70-4f95-9e9b-c080cf47950a",
   "metadata": {},
   "source": [
    "## 2.13 生成连续数列或等差数列的函数"
   ]
  },
  {
   "cell_type": "markdown",
   "id": "edf37b6a-6de9-4550-aca3-b65273b47b72",
   "metadata": {},
   "source": [
    "### 2.13.1　Python的range函数"
   ]
  },
  {
   "cell_type": "code",
   "execution_count": 269,
   "id": "5ab7a616-8d33-438e-a81e-f042525183e4",
   "metadata": {},
   "outputs": [
    {
     "data": {
      "text/plain": [
       "array([0, 1, 2, 3, 4, 5, 6, 7, 8, 9])"
      ]
     },
     "execution_count": 269,
     "metadata": {},
     "output_type": "execute_result"
    }
   ],
   "source": [
    "import numpy as np\n",
    "np.array(range(10))"
   ]
  },
  {
   "cell_type": "markdown",
   "id": "940a273d-51b0-4072-8aa2-f1d564a984c5",
   "metadata": {},
   "source": [
    "### 2.13.2 等差数列"
   ]
  },
  {
   "cell_type": "markdown",
   "id": "5b8314e5-dfbe-4065-917c-a6f42baf3532",
   "metadata": {},
   "source": [
    "### 2.13.3 np.arange"
   ]
  },
  {
   "cell_type": "code",
   "execution_count": 270,
   "id": "776219cc-835e-4647-afe1-beb71a1b9eae",
   "metadata": {},
   "outputs": [],
   "source": [
    "import numpy as np"
   ]
  },
  {
   "cell_type": "code",
   "execution_count": 271,
   "id": "ea337a32-2de9-4d54-9d9c-072dae87437d",
   "metadata": {},
   "outputs": [
    {
     "data": {
      "text/plain": [
       "array([0, 1, 2, 3, 4])"
      ]
     },
     "execution_count": 271,
     "metadata": {},
     "output_type": "execute_result"
    }
   ],
   "source": [
    "np.arange(5) # 0～5的等差数列（但是作为参数，指定的5是不包含在数列中的）"
   ]
  },
  {
   "cell_type": "code",
   "execution_count": 272,
   "id": "4d40ef8f-1cf0-478b-a5ed-69dddbb6f7e5",
   "metadata": {},
   "outputs": [
    {
     "data": {
      "text/plain": [
       "array([], dtype=int32)"
      ]
     },
     "execution_count": 272,
     "metadata": {},
     "output_type": "execute_result"
    }
   ],
   "source": [
    "np.arange(-10) # 指定负数，就会返回没有元素的数组"
   ]
  },
  {
   "cell_type": "code",
   "execution_count": 273,
   "id": "7b496393-f6af-42e9-bd33-97ca349e3ee1",
   "metadata": {},
   "outputs": [
    {
     "data": {
      "text/plain": [
       "array([0., 1., 2., 3., 4.])"
      ]
     },
     "execution_count": 273,
     "metadata": {},
     "output_type": "execute_result"
    }
   ],
   "source": [
    "np.arange(4.5) #  即使指定的是float型，也会生成数组"
   ]
  },
  {
   "cell_type": "code",
   "execution_count": 274,
   "id": "413579dd-4893-46aa-9a1c-37496aa4d62a",
   "metadata": {},
   "outputs": [
    {
     "data": {
      "text/plain": [
       "array([1, 2, 3, 4, 5, 6, 7])"
      ]
     },
     "execution_count": 274,
     "metadata": {},
     "output_type": "execute_result"
    }
   ],
   "source": [
    "np.arange(1, 8)"
   ]
  },
  {
   "cell_type": "code",
   "execution_count": 275,
   "id": "9f657304-097f-4cea-9cac-d83edb378357",
   "metadata": {},
   "outputs": [
    {
     "data": {
      "text/plain": [
       "array([2, 3, 4, 5, 6, 7, 8, 9])"
      ]
     },
     "execution_count": 275,
     "metadata": {},
     "output_type": "execute_result"
    }
   ],
   "source": [
    "np.arange(2, 10)"
   ]
  },
  {
   "cell_type": "code",
   "execution_count": 276,
   "id": "867216c6-90dc-4270-be69-6b9a8c02be64",
   "metadata": {},
   "outputs": [
    {
     "data": {
      "text/plain": [
       "array([0.5, 1.5, 2.5, 3.5, 4.5])"
      ]
     },
     "execution_count": 276,
     "metadata": {},
     "output_type": "execute_result"
    }
   ],
   "source": [
    "np.arange(0.5, 5.5) # 使用带小数点的值进行设置也可以生成数组np.arange(0.5, 5.5) # 使用带小数点的值进行设置也可以生成数组"
   ]
  },
  {
   "cell_type": "code",
   "execution_count": 277,
   "id": "134852d7-f0d2-4eb1-b4bd-5d6434a5ed9b",
   "metadata": {},
   "outputs": [
    {
     "data": {
      "text/plain": [
       "array([0.55, 1.55, 2.55, 3.55, 4.55])"
      ]
     },
     "execution_count": 277,
     "metadata": {},
     "output_type": "execute_result"
    }
   ],
   "source": [
    "np.arange(0.55, 5.55)"
   ]
  },
  {
   "cell_type": "code",
   "execution_count": 278,
   "id": "efcae664-0198-4c73-a6ab-38415f5cfc98",
   "metadata": {},
   "outputs": [
    {
     "data": {
      "text/plain": [
       "array([ 2,  4,  6,  8, 10])"
      ]
     },
     "execution_count": 278,
     "metadata": {},
     "output_type": "execute_result"
    }
   ],
   "source": [
    "np.arange(2, 12, 2) # 首项为2、公差为2、终点为12的等差数列"
   ]
  },
  {
   "cell_type": "code",
   "execution_count": 279,
   "id": "3442d7a8-a202-4ea6-b894-70d23430614c",
   "metadata": {},
   "outputs": [
    {
     "data": {
      "text/plain": [
       "array([2. , 2.2, 2.4, 2.6, 2.8, 3. , 3.2, 3.4, 3.6, 3.8, 4. , 4.2, 4.4,\n",
       "       4.6, 4.8])"
      ]
     },
     "execution_count": 279,
     "metadata": {},
     "output_type": "execute_result"
    }
   ],
   "source": [
    "np.arange(2, 5, 0.2) #  公差可以不是整数"
   ]
  },
  {
   "cell_type": "code",
   "execution_count": 280,
   "id": "e7e62171-fb82-4031-8691-543a9e0d4cd8",
   "metadata": {},
   "outputs": [
    {
     "data": {
      "text/plain": [
       "array([5, 4, 3])"
      ]
     },
     "execution_count": 280,
     "metadata": {},
     "output_type": "execute_result"
    }
   ],
   "source": [
    "np.arange(5, 2, -1) # 公差可以指定为负数"
   ]
  },
  {
   "cell_type": "code",
   "execution_count": 281,
   "id": "0156a448-068e-415b-9b3a-e2ee44be68d2",
   "metadata": {},
   "outputs": [
    {
     "data": {
      "text/plain": [
       "array([0, 1, 2])"
      ]
     },
     "execution_count": 281,
     "metadata": {},
     "output_type": "execute_result"
    }
   ],
   "source": [
    "np.arange(stop=3, step=1) # 如果不指定start，就会发生运行时错误"
   ]
  },
  {
   "cell_type": "code",
   "execution_count": 282,
   "id": "56aacbe9-40c3-4480-9113-c0d9c50468bb",
   "metadata": {},
   "outputs": [
    {
     "data": {
      "text/plain": [
       "array([0., 1., 2., 3., 4.])"
      ]
     },
     "execution_count": 282,
     "metadata": {},
     "output_type": "execute_result"
    }
   ],
   "source": [
    "np.arange(5, dtype='float64') # 变换成浮点型"
   ]
  },
  {
   "cell_type": "code",
   "execution_count": 283,
   "id": "6204bc1d-cddc-40a1-9a89-fdeb479bba3a",
   "metadata": {},
   "outputs": [
    {
     "data": {
      "text/plain": [
       "array([0, 1, 2, 3, 4])"
      ]
     },
     "execution_count": 283,
     "metadata": {},
     "output_type": "execute_result"
    }
   ],
   "source": [
    "np.arange(5.0, dtype='int') # 变换成整数型"
   ]
  },
  {
   "cell_type": "code",
   "execution_count": 284,
   "id": "0e3b495c-a4f1-421c-9f65-f22835f77357",
   "metadata": {},
   "outputs": [
    {
     "data": {
      "text/plain": [
       "array([0, 0, 0, 0, 0, 0, 0, 0, 0, 0])"
      ]
     },
     "execution_count": 284,
     "metadata": {},
     "output_type": "execute_result"
    }
   ],
   "source": [
    "np.arange(0, 5, 0.5, dtype='int') #  公差中如果出现了小数，小数点后面的部分会被忽略"
   ]
  },
  {
   "cell_type": "code",
   "execution_count": 285,
   "id": "018ec6e0-6d76-4b14-acb8-0e87234abd4c",
   "metadata": {},
   "outputs": [
    {
     "data": {
      "text/plain": [
       "array([0, 1, 2, 3])"
      ]
     },
     "execution_count": 285,
     "metadata": {},
     "output_type": "execute_result"
    }
   ],
   "source": [
    "np.arange(0, 5, 1.5, dtype='int') # 与上面一样，出现了小数，小数点后面的部分会被忽略"
   ]
  },
  {
   "cell_type": "markdown",
   "id": "bc8ab3ee-7023-452d-b5d6-3cc7bd46f010",
   "metadata": {},
   "source": [
    "## 2.14 生成线性等距数列的函数"
   ]
  },
  {
   "cell_type": "markdown",
   "id": "99361e9d-7697-4a26-907d-796041297bd7",
   "metadata": {},
   "source": [
    "### 2.14.1 np.linspace"
   ]
  },
  {
   "cell_type": "code",
   "execution_count": 286,
   "id": "11efc6d2-7855-4771-991c-97a5a644feca",
   "metadata": {},
   "outputs": [],
   "source": [
    "import numpy as np"
   ]
  },
  {
   "cell_type": "code",
   "execution_count": 287,
   "id": "f61bcf6a-e02e-489a-949b-eb2b0c412f1a",
   "metadata": {},
   "outputs": [
    {
     "data": {
      "text/plain": [
       "array([0.        , 0.02040816, 0.04081633, 0.06122449, 0.08163265,\n",
       "       0.10204082, 0.12244898, 0.14285714, 0.16326531, 0.18367347,\n",
       "       0.20408163, 0.2244898 , 0.24489796, 0.26530612, 0.28571429,\n",
       "       0.30612245, 0.32653061, 0.34693878, 0.36734694, 0.3877551 ,\n",
       "       0.40816327, 0.42857143, 0.44897959, 0.46938776, 0.48979592,\n",
       "       0.51020408, 0.53061224, 0.55102041, 0.57142857, 0.59183673,\n",
       "       0.6122449 , 0.63265306, 0.65306122, 0.67346939, 0.69387755,\n",
       "       0.71428571, 0.73469388, 0.75510204, 0.7755102 , 0.79591837,\n",
       "       0.81632653, 0.83673469, 0.85714286, 0.87755102, 0.89795918,\n",
       "       0.91836735, 0.93877551, 0.95918367, 0.97959184, 1.        ])"
      ]
     },
     "execution_count": 287,
     "metadata": {},
     "output_type": "execute_result"
    }
   ],
   "source": [
    "np.linspace(0, 1) # 首先指定起点为0，终点为1"
   ]
  },
  {
   "cell_type": "code",
   "execution_count": 288,
   "id": "bd17127b-b57b-4c10-951c-551311a7e524",
   "metadata": {},
   "outputs": [
    {
     "data": {
      "text/plain": [
       "array([ 0.,  1.,  2.,  3.,  4.,  5.,  6.,  7.,  8.,  9., 10., 11., 12.,\n",
       "       13., 14., 15., 16., 17., 18., 19., 20., 21., 22., 23., 24., 25.,\n",
       "       26., 27., 28., 29., 30., 31., 32., 33., 34., 35., 36., 37., 38.,\n",
       "       39., 40., 41., 42., 43., 44., 45., 46., 47., 48., 49.])"
      ]
     },
     "execution_count": 288,
     "metadata": {},
     "output_type": "execute_result"
    }
   ],
   "source": [
    "np.linspace(0, 49) #  注意是生成50个元素，宽度需要调整为1"
   ]
  },
  {
   "cell_type": "code",
   "execution_count": 289,
   "id": "2bdbced6-3fd1-4d60-a452-2dde3193738c",
   "metadata": {},
   "outputs": [
    {
     "data": {
      "text/plain": [
       "array([0., 1., 2.])"
      ]
     },
     "execution_count": 289,
     "metadata": {},
     "output_type": "execute_result"
    }
   ],
   "source": [
    "np.linspace(0, 2, 3) # 将0~2的区间分为3等分"
   ]
  },
  {
   "cell_type": "code",
   "execution_count": 290,
   "id": "34bdd5fe-db13-4465-bc7e-34979558d790",
   "metadata": {},
   "outputs": [
    {
     "data": {
      "text/plain": [
       "array([ 0., -1., -2.])"
      ]
     },
     "execution_count": 290,
     "metadata": {},
     "output_type": "execute_result"
    }
   ],
   "source": [
    "np.linspace(0, -2, 3) # 使用负数也可以生成数组"
   ]
  },
  {
   "cell_type": "code",
   "execution_count": 291,
   "id": "e272e4d1-db0b-4f68-ad97-a662cc686456",
   "metadata": {},
   "outputs": [
    {
     "data": {
      "text/plain": [
       "array([0., 1., 2.])"
      ]
     },
     "execution_count": 291,
     "metadata": {},
     "output_type": "execute_result"
    }
   ],
   "source": [
    "np.linspace(0, 2, num=3) #  还可以指定num = 3"
   ]
  },
  {
   "cell_type": "code",
   "execution_count": 292,
   "id": "5dbf19b8-969e-4332-802b-34036c1d8887",
   "metadata": {},
   "outputs": [
    {
     "data": {
      "text/plain": [
       "array([0.        , 0.66666667, 1.33333333])"
      ]
     },
     "execution_count": 292,
     "metadata": {},
     "output_type": "execute_result"
    }
   ],
   "source": [
    "np.linspace(0, 2, num=3, endpoint=False) "
   ]
  },
  {
   "cell_type": "code",
   "execution_count": 293,
   "id": "e2351370-1f44-4596-9cd5-cd8d8cf8f49b",
   "metadata": {},
   "outputs": [
    {
     "data": {
      "text/plain": [
       "array([0., 1., 2.])"
      ]
     },
     "execution_count": 293,
     "metadata": {},
     "output_type": "execute_result"
    }
   ],
   "source": [
    "np.linspace(0, 2, num=3, endpoint=True) # 返回元素中包含2的ndarray，这是默认设置"
   ]
  },
  {
   "cell_type": "code",
   "execution_count": 294,
   "id": "eba82635-0fc7-4c9c-b4d6-a718801b3e0a",
   "metadata": {},
   "outputs": [
    {
     "data": {
      "text/plain": [
       "(array([0.        , 0.02040816, 0.04081633, 0.06122449, 0.08163265,\n",
       "        0.10204082, 0.12244898, 0.14285714, 0.16326531, 0.18367347,\n",
       "        0.20408163, 0.2244898 , 0.24489796, 0.26530612, 0.28571429,\n",
       "        0.30612245, 0.32653061, 0.34693878, 0.36734694, 0.3877551 ,\n",
       "        0.40816327, 0.42857143, 0.44897959, 0.46938776, 0.48979592,\n",
       "        0.51020408, 0.53061224, 0.55102041, 0.57142857, 0.59183673,\n",
       "        0.6122449 , 0.63265306, 0.65306122, 0.67346939, 0.69387755,\n",
       "        0.71428571, 0.73469388, 0.75510204, 0.7755102 , 0.79591837,\n",
       "        0.81632653, 0.83673469, 0.85714286, 0.87755102, 0.89795918,\n",
       "        0.91836735, 0.93877551, 0.95918367, 0.97959184, 1.        ]),\n",
       " 0.02040816326530612)"
      ]
     },
     "execution_count": 294,
     "metadata": {},
     "output_type": "execute_result"
    }
   ],
   "source": [
    "np.linspace(0, 1, retstep=True) # 显示公差"
   ]
  },
  {
   "cell_type": "code",
   "execution_count": 295,
   "id": "6c5da104-9bb5-4b26-924f-4ef49a32f2a8",
   "metadata": {},
   "outputs": [
    {
     "data": {
      "text/plain": [
       "(array([0., 1., 2.]), 1.0)"
      ]
     },
     "execution_count": 295,
     "metadata": {},
     "output_type": "execute_result"
    }
   ],
   "source": [
    "np.linspace(0, 2, num=3, retstep=True)"
   ]
  },
  {
   "cell_type": "code",
   "execution_count": 296,
   "id": "9c52d30e-a6ba-4617-8e58-3c46c05bfa33",
   "metadata": {},
   "outputs": [
    {
     "data": {
      "text/plain": [
       "array([0., 1., 2.])"
      ]
     },
     "execution_count": 296,
     "metadata": {},
     "output_type": "execute_result"
    }
   ],
   "source": [
    "np.linspace(0, 2, num=3, retstep=False) # 不显示公差（默认设置）"
   ]
  },
  {
   "cell_type": "code",
   "execution_count": 297,
   "id": "36bec7ac-1ecd-4663-8092-6303b7d597a8",
   "metadata": {},
   "outputs": [
    {
     "data": {
      "text/plain": [
       "array([0., 1., 2.])"
      ]
     },
     "execution_count": 297,
     "metadata": {},
     "output_type": "execute_result"
    }
   ],
   "source": [
    "np.linspace(0, 2, num=3) # 不指定任何数据类型，就是float型"
   ]
  },
  {
   "cell_type": "code",
   "execution_count": 298,
   "id": "99bb4ed0-3db6-4e61-93b5-926cd5a76fc8",
   "metadata": {},
   "outputs": [
    {
     "data": {
      "text/plain": [
       "array([0. , 0.5, 1. ])"
      ]
     },
     "execution_count": 298,
     "metadata": {},
     "output_type": "execute_result"
    }
   ],
   "source": [
    "a = np.linspace(0, 1, 3)\n",
    "a"
   ]
  },
  {
   "cell_type": "code",
   "execution_count": 299,
   "id": "c2b5489a-6e32-420f-9545-852cccc592b9",
   "metadata": {},
   "outputs": [
    {
     "data": {
      "text/plain": [
       "dtype('float64')"
      ]
     },
     "execution_count": 299,
     "metadata": {},
     "output_type": "execute_result"
    }
   ],
   "source": [
    "a.dtype #  确认数据类型"
   ]
  },
  {
   "cell_type": "code",
   "execution_count": 300,
   "id": "6412737e-70b5-4e36-a038-750d905169fe",
   "metadata": {},
   "outputs": [
    {
     "data": {
      "text/plain": [
       "array([0, 1, 2])"
      ]
     },
     "execution_count": 300,
     "metadata": {},
     "output_type": "execute_result"
    }
   ],
   "source": [
    "np.linspace(0, 2, num=3, dtype='int') #  将数据类型指定为int型"
   ]
  },
  {
   "cell_type": "code",
   "execution_count": 301,
   "id": "f5bd4ba7-7ecb-4cd3-869e-0c3265ce0512",
   "metadata": {},
   "outputs": [
    {
     "data": {
      "text/plain": [
       "array([0.        , 0.33333334, 0.6666667 , 1.        ], dtype=float32)"
      ]
     },
     "execution_count": 301,
     "metadata": {},
     "output_type": "execute_result"
    }
   ],
   "source": [
    "np.linspace(0, 1, num=4, dtype='float32') #  将数据类型指定为float32，就是32位浮点型"
   ]
  },
  {
   "cell_type": "code",
   "execution_count": 302,
   "id": "68555c1d-117e-4278-85f0-b14884daf812",
   "metadata": {},
   "outputs": [
    {
     "data": {
      "text/plain": [
       "array([0.        , 0.33333333, 0.66666667, 1.        ])"
      ]
     },
     "execution_count": 302,
     "metadata": {},
     "output_type": "execute_result"
    }
   ],
   "source": [
    "np.linspace(0, 1, num=4, dtype='float64') #  将数据类型指定为float64，就是64位浮点型"
   ]
  },
  {
   "cell_type": "markdown",
   "id": "484f3527-9069-4b5d-8de0-3b093fd40a01",
   "metadata": {},
   "source": [
    "## 2.15 生成单位矩阵的函数"
   ]
  },
  {
   "cell_type": "markdown",
   "id": "85f742c5-1930-4878-be44-361f912ee86f",
   "metadata": {},
   "source": [
    "### 2.15.1 单位机组哼和正方矩阵"
   ]
  },
  {
   "cell_type": "markdown",
   "id": "fd953282-6d9c-483e-b011-7736e034346c",
   "metadata": {},
   "source": [
    "### 2.15.2 两个函数的区别"
   ]
  },
  {
   "cell_type": "markdown",
   "id": "8b0882ba-8d1c-476f-9f7b-95f26e642e55",
   "metadata": {},
   "source": [
    "### 2.15.3 np.eye"
   ]
  },
  {
   "cell_type": "code",
   "execution_count": 303,
   "id": "47430adb-fb9e-4e46-a7f1-6d54f262f9f3",
   "metadata": {},
   "outputs": [],
   "source": [
    "import numpy as np"
   ]
  },
  {
   "cell_type": "code",
   "execution_count": 304,
   "id": "360ea18a-44a7-41d9-baca-e92dc2e64d6a",
   "metadata": {},
   "outputs": [
    {
     "data": {
      "text/plain": [
       "array([[1., 0., 0.],\n",
       "       [0., 1., 0.],\n",
       "       [0., 0., 1.]])"
      ]
     },
     "execution_count": 304,
     "metadata": {},
     "output_type": "execute_result"
    }
   ],
   "source": [
    "np.eye(3) #  3×3的单位矩阵"
   ]
  },
  {
   "cell_type": "code",
   "execution_count": 305,
   "id": "fa1cc221-771a-478f-823c-ba6bfe8d0dd7",
   "metadata": {},
   "outputs": [
    {
     "data": {
      "text/plain": [
       "array([[1., 0., 0., 0., 0., 0., 0., 0., 0., 0.],\n",
       "       [0., 1., 0., 0., 0., 0., 0., 0., 0., 0.],\n",
       "       [0., 0., 1., 0., 0., 0., 0., 0., 0., 0.],\n",
       "       [0., 0., 0., 1., 0., 0., 0., 0., 0., 0.],\n",
       "       [0., 0., 0., 0., 1., 0., 0., 0., 0., 0.],\n",
       "       [0., 0., 0., 0., 0., 1., 0., 0., 0., 0.],\n",
       "       [0., 0., 0., 0., 0., 0., 1., 0., 0., 0.],\n",
       "       [0., 0., 0., 0., 0., 0., 0., 1., 0., 0.],\n",
       "       [0., 0., 0., 0., 0., 0., 0., 0., 1., 0.],\n",
       "       [0., 0., 0., 0., 0., 0., 0., 0., 0., 1.]])"
      ]
     },
     "execution_count": 305,
     "metadata": {},
     "output_type": "execute_result"
    }
   ],
   "source": [
    "np.eye(10)"
   ]
  },
  {
   "cell_type": "code",
   "execution_count": 306,
   "id": "48cca226-ef47-4509-b087-175318e7df1d",
   "metadata": {},
   "outputs": [
    {
     "data": {
      "text/plain": [
       "array([[1., 0., 0.],\n",
       "       [0., 1., 0.]])"
      ]
     },
     "execution_count": 306,
     "metadata": {},
     "output_type": "execute_result"
    }
   ],
   "source": [
    "np.eye(2, 3) # 2×3"
   ]
  },
  {
   "cell_type": "code",
   "execution_count": 307,
   "id": "a894826c-f694-4577-aa52-623219a4d431",
   "metadata": {},
   "outputs": [
    {
     "data": {
      "text/plain": [
       "array([[1., 0., 0., 0.],\n",
       "       [0., 1., 0., 0.],\n",
       "       [0., 0., 1., 0.],\n",
       "       [0., 0., 0., 1.],\n",
       "       [0., 0., 0., 0.]])"
      ]
     },
     "execution_count": 307,
     "metadata": {},
     "output_type": "execute_result"
    }
   ],
   "source": [
    "np.eye(5, 4) # 5×4"
   ]
  },
  {
   "cell_type": "code",
   "execution_count": 308,
   "id": "e8a3483e-4c3c-4148-a751-2d3aa4981621",
   "metadata": {},
   "outputs": [
    {
     "data": {
      "text/plain": [
       "array([[1., 0., 0., 0., 0.],\n",
       "       [0., 1., 0., 0., 0.],\n",
       "       [0., 0., 1., 0., 0.],\n",
       "       [0., 0., 0., 1., 0.],\n",
       "       [0., 0., 0., 0., 1.]])"
      ]
     },
     "execution_count": 308,
     "metadata": {},
     "output_type": "execute_result"
    }
   ],
   "source": [
    "np.eye(5, k=0) # 若指定k=0，对角线上的元素不会移动"
   ]
  },
  {
   "cell_type": "code",
   "execution_count": 309,
   "id": "ede383b8-f25c-49ee-a68c-f99743c9d198",
   "metadata": {},
   "outputs": [
    {
     "data": {
      "text/plain": [
       "array([[0., 1., 0., 0., 0.],\n",
       "       [0., 0., 1., 0., 0.],\n",
       "       [0., 0., 0., 1., 0.],\n",
       "       [0., 0., 0., 0., 1.],\n",
       "       [0., 0., 0., 0., 0.]])"
      ]
     },
     "execution_count": 309,
     "metadata": {},
     "output_type": "execute_result"
    }
   ],
   "source": [
    "np.eye(5, k=1) #  向上方移动一个位置"
   ]
  },
  {
   "cell_type": "code",
   "execution_count": 310,
   "id": "2c7cfd25-54e6-437e-81d8-5cc5a9a6bcfa",
   "metadata": {},
   "outputs": [
    {
     "data": {
      "text/plain": [
       "array([[0., 0., 0., 0., 0.],\n",
       "       [1., 0., 0., 0., 0.],\n",
       "       [0., 1., 0., 0., 0.],\n",
       "       [0., 0., 1., 0., 0.],\n",
       "       [0., 0., 0., 1., 0.]])"
      ]
     },
     "execution_count": 310,
     "metadata": {},
     "output_type": "execute_result"
    }
   ],
   "source": [
    "np.eye(5, k=-1) # 向下方移动一个位置"
   ]
  },
  {
   "cell_type": "code",
   "execution_count": 311,
   "id": "4a21db91-ebc3-4288-ba4e-c8aaabd25059",
   "metadata": {},
   "outputs": [
    {
     "data": {
      "text/plain": [
       "array([[0., 0., 0., 1., 0.],\n",
       "       [0., 0., 0., 0., 1.],\n",
       "       [0., 0., 0., 0., 0.],\n",
       "       [0., 0., 0., 0., 0.],\n",
       "       [0., 0., 0., 0., 0.]])"
      ]
     },
     "execution_count": 311,
     "metadata": {},
     "output_type": "execute_result"
    }
   ],
   "source": [
    "np.eye(5, k=3) # 向上方移动3个位置"
   ]
  },
  {
   "cell_type": "code",
   "execution_count": 312,
   "id": "fad4a789-ed74-41fb-b397-ec0f537da78b",
   "metadata": {},
   "outputs": [
    {
     "data": {
      "text/plain": [
       "array([[1, 0, 0, 0, 0],\n",
       "       [0, 1, 0, 0, 0],\n",
       "       [0, 0, 1, 0, 0],\n",
       "       [0, 0, 0, 1, 0],\n",
       "       [0, 0, 0, 0, 1]])"
      ]
     },
     "execution_count": 312,
     "metadata": {},
     "output_type": "execute_result"
    }
   ],
   "source": [
    "np.eye(5, dtype=int)"
   ]
  },
  {
   "cell_type": "code",
   "execution_count": 313,
   "id": "06609a19-b2ae-4e6d-bc09-5f7943545f46",
   "metadata": {},
   "outputs": [
    {
     "data": {
      "text/plain": [
       "array([[1.+0.j, 0.+0.j, 0.+0.j, 0.+0.j, 0.+0.j],\n",
       "       [0.+0.j, 1.+0.j, 0.+0.j, 0.+0.j, 0.+0.j],\n",
       "       [0.+0.j, 0.+0.j, 1.+0.j, 0.+0.j, 0.+0.j],\n",
       "       [0.+0.j, 0.+0.j, 0.+0.j, 1.+0.j, 0.+0.j],\n",
       "       [0.+0.j, 0.+0.j, 0.+0.j, 0.+0.j, 1.+0.j]])"
      ]
     },
     "execution_count": 313,
     "metadata": {},
     "output_type": "execute_result"
    }
   ],
   "source": [
    "np.eye(5, dtype=complex) # 指定为复数类型"
   ]
  },
  {
   "cell_type": "markdown",
   "id": "311c1916-5c7a-43e0-8cc3-bbe354016c5d",
   "metadata": {},
   "source": [
    "### 2.15.4 np.identity"
   ]
  },
  {
   "cell_type": "code",
   "execution_count": 314,
   "id": "7190d09e-bfe3-4416-9d20-10e58a395e1c",
   "metadata": {},
   "outputs": [
    {
     "data": {
      "text/plain": [
       "array([[1., 0., 0., 0., 0.],\n",
       "       [0., 1., 0., 0., 0.],\n",
       "       [0., 0., 1., 0., 0.],\n",
       "       [0., 0., 0., 1., 0.],\n",
       "       [0., 0., 0., 0., 1.]])"
      ]
     },
     "execution_count": 314,
     "metadata": {},
     "output_type": "execute_result"
    }
   ],
   "source": [
    "np.identity(5) # 首先创建简单的矩阵"
   ]
  },
  {
   "cell_type": "code",
   "execution_count": 315,
   "id": "f516945e-27d6-454e-a5ea-59596a8667d0",
   "metadata": {},
   "outputs": [
    {
     "data": {
      "text/plain": [
       "array([[1., 0.],\n",
       "       [0., 1.]])"
      ]
     },
     "execution_count": 315,
     "metadata": {},
     "output_type": "execute_result"
    }
   ],
   "source": [
    "np.identity(2)"
   ]
  },
  {
   "cell_type": "code",
   "execution_count": 316,
   "id": "bfbb7ac0-8540-44d2-bba9-cb73ef81e92f",
   "metadata": {},
   "outputs": [
    {
     "data": {
      "text/plain": [
       "array([[1, 0, 0],\n",
       "       [0, 1, 0],\n",
       "       [0, 0, 1]])"
      ]
     },
     "execution_count": 316,
     "metadata": {},
     "output_type": "execute_result"
    }
   ],
   "source": [
    "np.identity(3, dtype=int)"
   ]
  },
  {
   "cell_type": "code",
   "execution_count": 317,
   "id": "574d5ee8-360f-485d-a596-b0b7769eb4e2",
   "metadata": {},
   "outputs": [
    {
     "data": {
      "text/plain": [
       "array([[1., 0., 0., 0.],\n",
       "       [0., 1., 0., 0.],\n",
       "       [0., 0., 1., 0.],\n",
       "       [0., 0., 0., 1.]], dtype=float32)"
      ]
     },
     "execution_count": 317,
     "metadata": {},
     "output_type": "execute_result"
    }
   ],
   "source": [
    "np.identity(4, dtype=\"float32\")"
   ]
  },
  {
   "cell_type": "code",
   "execution_count": 318,
   "id": "0f4e9686-02da-41ee-961e-a4737e2ef51b",
   "metadata": {},
   "outputs": [
    {
     "name": "stdout",
     "output_type": "stream",
     "text": [
      "12.2 ms ± 154 µs per loop (mean ± std. dev. of 7 runs, 100 loops each)\n"
     ]
    }
   ],
   "source": [
    "%timeit np.eye(10000)"
   ]
  },
  {
   "cell_type": "code",
   "execution_count": 319,
   "id": "2c084dad-3a2c-4f56-bfb1-c90821fd8b8a",
   "metadata": {},
   "outputs": [
    {
     "name": "stdout",
     "output_type": "stream",
     "text": [
      "12.3 ms ± 82.6 µs per loop (mean ± std. dev. of 7 runs, 100 loops each)\n"
     ]
    }
   ],
   "source": [
    "%timeit np.identity(10000)"
   ]
  },
  {
   "cell_type": "markdown",
   "id": "8d371df5-890d-4602-ae34-a6ca803304c9",
   "metadata": {},
   "source": [
    "## 2.16 生成未初始化数组的函数"
   ]
  },
  {
   "cell_type": "markdown",
   "id": "4df9d847-9a26-4ebe-a02a-8ba0459f64ef",
   "metadata": {},
   "source": [
    "### 2.16.1 np.empty"
   ]
  },
  {
   "cell_type": "code",
   "execution_count": 320,
   "id": "91a1125b-063f-4983-b32a-263a4ecac8b9",
   "metadata": {},
   "outputs": [],
   "source": [
    "import numpy as np"
   ]
  },
  {
   "cell_type": "code",
   "execution_count": 321,
   "id": "177da064-a313-4544-9bc3-349f70ac60d7",
   "metadata": {},
   "outputs": [
    {
     "data": {
      "text/plain": [
       "array([1., 1., 1., 1., 1., 1., 1., 1., 1., 1.])"
      ]
     },
     "execution_count": 321,
     "metadata": {},
     "output_type": "execute_result"
    }
   ],
   "source": [
    "np.empty(10) # 未经初始化处理的一维数组"
   ]
  },
  {
   "cell_type": "code",
   "execution_count": 322,
   "id": "ff7e4738-7280-409f-ba1d-642ed1efcbe8",
   "metadata": {},
   "outputs": [
    {
     "data": {
      "text/plain": [
       "array([[1., 0., 0.],\n",
       "       [0., 1., 0.]])"
      ]
     },
     "execution_count": 322,
     "metadata": {},
     "output_type": "execute_result"
    }
   ],
   "source": [
    "np.empty((2, 3)) #  2×3的二维数组"
   ]
  },
  {
   "cell_type": "code",
   "execution_count": 323,
   "id": "9c12aa1d-b217-4fb5-ab05-98fad1a60ca0",
   "metadata": {},
   "outputs": [
    {
     "data": {
      "text/plain": [
       "array([0, 1, 1, 1, 1], dtype=int8)"
      ]
     },
     "execution_count": 323,
     "metadata": {},
     "output_type": "execute_result"
    }
   ],
   "source": [
    "np.empty(5, dtype=np.int8) #将dtype指定为int8"
   ]
  },
  {
   "cell_type": "code",
   "execution_count": 324,
   "id": "62f51d0e-a404-45e7-8c66-ddde6e18a10e",
   "metadata": {},
   "outputs": [
    {
     "data": {
      "text/plain": [
       "array([ True,  True,  True,  True,  True,  True,  True,  True,  True,\n",
       "        True])"
      ]
     },
     "execution_count": 324,
     "metadata": {},
     "output_type": "execute_result"
    }
   ],
   "source": [
    "np.empty(10, dtype=bool) #  也可以指定为bool值"
   ]
  },
  {
   "cell_type": "code",
   "execution_count": 325,
   "id": "ed06f97f-fb37-4423-9724-989dfee0c279",
   "metadata": {},
   "outputs": [
    {
     "data": {
      "text/plain": [
       "array([1.+0.j, 0.+0.j, 0.+1.j, 0.+0.j, 0.+0.j, 1.+0.j, 0.+0.j, 0.+1.j,\n",
       "       0.+0.j, 0.+0.j])"
      ]
     },
     "execution_count": 325,
     "metadata": {},
     "output_type": "execute_result"
    }
   ],
   "source": [
    "np.empty(10, dtype=complex) # 还可以生成复数\n"
   ]
  },
  {
   "cell_type": "markdown",
   "id": "ce05bff5-d99d-4b4f-970a-e7d27763fb24",
   "metadata": {},
   "source": [
    "### 2.16.2 与其他生成数组函数的对比"
   ]
  },
  {
   "cell_type": "code",
   "execution_count": 326,
   "id": "068e4549-274d-4ca5-94b9-93b0aedbd5d9",
   "metadata": {},
   "outputs": [
    {
     "name": "stdout",
     "output_type": "stream",
     "text": [
      "1.74 µs ± 18.8 ns per loop (mean ± std. dev. of 7 runs, 1,000,000 loops each)\n"
     ]
    }
   ],
   "source": [
    "%timeit np.zeros(10000)"
   ]
  },
  {
   "cell_type": "code",
   "execution_count": 327,
   "id": "c06acaf8-8999-4adf-bb75-4fa192947117",
   "metadata": {},
   "outputs": [
    {
     "name": "stdout",
     "output_type": "stream",
     "text": [
      "365 ns ± 0.898 ns per loop (mean ± std. dev. of 7 runs, 1,000,000 loops each)\n"
     ]
    }
   ],
   "source": [
    "%timeit np.empty(10000)"
   ]
  },
  {
   "cell_type": "code",
   "execution_count": 328,
   "id": "e146b24b-d8f1-404f-8d0d-0be382f65494",
   "metadata": {},
   "outputs": [
    {
     "name": "stdout",
     "output_type": "stream",
     "text": [
      "2.23 µs ± 9.78 ns per loop (mean ± std. dev. of 7 runs, 100,000 loops each)\n"
     ]
    }
   ],
   "source": [
    "%timeit np.ones(10000)"
   ]
  },
  {
   "cell_type": "markdown",
   "id": "2d4ee415-f579-42d5-bce0-521b1880df20",
   "metadata": {},
   "source": [
    "## 2.17 随机数生成函数"
   ]
  },
  {
   "cell_type": "markdown",
   "id": "4e2ce289-d5ff-43cc-87f8-3b23f00614a4",
   "metadata": {},
   "source": [
    "### 2.17.1 　均匀随机数的生成"
   ]
  },
  {
   "cell_type": "code",
   "execution_count": 329,
   "id": "0be65539-0be6-4e96-9062-8d237586e6c4",
   "metadata": {},
   "outputs": [],
   "source": [
    "import numpy as np"
   ]
  },
  {
   "cell_type": "code",
   "execution_count": 330,
   "id": "0f147705-5ed8-4338-bc11-73bd2ef462ae",
   "metadata": {},
   "outputs": [
    {
     "data": {
      "text/plain": [
       "0.5296066602410753"
      ]
     },
     "execution_count": 330,
     "metadata": {},
     "output_type": "execute_result"
    }
   ],
   "source": [
    "np.random.rand() # 不设置任何数值，返回的就是一个数值"
   ]
  },
  {
   "cell_type": "code",
   "execution_count": 331,
   "id": "9c4cf71b-eef6-414e-a960-1034dc468a8e",
   "metadata": {},
   "outputs": [
    {
     "data": {
      "text/plain": [
       "1"
      ]
     },
     "execution_count": 331,
     "metadata": {},
     "output_type": "execute_result"
    }
   ],
   "source": [
    "np.random.randint(10) #返回0～9内的随机整数"
   ]
  },
  {
   "cell_type": "code",
   "execution_count": 332,
   "id": "279a7f7b-c72c-4bba-aa7a-23174855767d",
   "metadata": {},
   "outputs": [
    {
     "data": {
      "text/plain": [
       "array([[0.50061619, 0.4924898 , 0.16272404],\n",
       "       [0.30743166, 0.48760244, 0.20115392]])"
      ]
     },
     "execution_count": 332,
     "metadata": {},
     "output_type": "execute_result"
    }
   ],
   "source": [
    "np.random.rand(2,3) #  2×3的随机数数组"
   ]
  },
  {
   "cell_type": "code",
   "execution_count": 333,
   "id": "a907dc14-57fb-4c02-98b9-32f8cd2abe25",
   "metadata": {},
   "outputs": [
    {
     "data": {
      "text/plain": [
       "array([[6, 2, 0],\n",
       "       [5, 7, 8]])"
      ]
     },
     "execution_count": 333,
     "metadata": {},
     "output_type": "execute_result"
    }
   ],
   "source": [
    "np.random.randint(10, size=(2,3)) # 将数组的大小代入size中(默认设置为None)"
   ]
  },
  {
   "cell_type": "code",
   "execution_count": 334,
   "id": "0f1e48a8-f850-4c19-ab30-b0ebb17d6d60",
   "metadata": {},
   "outputs": [
    {
     "data": {
      "text/plain": [
       "array([9, 8, 5, 6, 8, 8, 8, 6, 6, 7])"
      ]
     },
     "execution_count": 334,
     "metadata": {},
     "output_type": "execute_result"
    }
   ],
   "source": [
    "np.random.randint(5,10, size=10) # 返回(5,10)内的随机整数"
   ]
  },
  {
   "cell_type": "code",
   "execution_count": 335,
   "id": "3737f07f-4d6a-44ff-be2e-ba8fe62d09d3",
   "metadata": {},
   "outputs": [
    {
     "data": {
      "text/plain": [
       "array([8.55008445, 7.80318461, 5.13532515, 7.04318511, 7.4426495 ,\n",
       "       6.72477409, 6.01256353, 8.16236576, 7.50508336, 7.23228698])"
      ]
     },
     "execution_count": 335,
     "metadata": {},
     "output_type": "execute_result"
    }
   ],
   "source": [
    "(10-5)*np.random.rand(10) + 5 # 返回(5,10)内的随机实数"
   ]
  },
  {
   "cell_type": "markdown",
   "id": "c0192ae7-21ed-4993-bbb0-95418e3b3d83",
   "metadata": {},
   "source": [
    "### 2.17.2 随机数生成的固化"
   ]
  },
  {
   "cell_type": "code",
   "execution_count": 336,
   "id": "b2e70bf1-d827-4bc3-b852-7d66dac7e304",
   "metadata": {},
   "outputs": [],
   "source": [
    "np.random.seed(seed=21) #  将seed设置为21"
   ]
  },
  {
   "cell_type": "code",
   "execution_count": 337,
   "id": "f7387b2d-da80-4c4c-8024-dc61e6bc8243",
   "metadata": {},
   "outputs": [
    {
     "data": {
      "text/plain": [
       "0.04872488080912729"
      ]
     },
     "execution_count": 337,
     "metadata": {},
     "output_type": "execute_result"
    }
   ],
   "source": [
    "np.random.rand() # 生成一个随机数"
   ]
  },
  {
   "cell_type": "code",
   "execution_count": 338,
   "id": "8b457572-f151-42ff-9d34-a4dda39f458b",
   "metadata": {},
   "outputs": [],
   "source": [
    "np.random.seed(21) # 再次将seed设置为21（即使不用参数指定seed，也可对seed进行设置）"
   ]
  },
  {
   "cell_type": "code",
   "execution_count": 339,
   "id": "48acec0b-fcf2-49da-8b07-a847b9eac14f",
   "metadata": {},
   "outputs": [
    {
     "data": {
      "text/plain": [
       "0.04872488080912729"
      ]
     },
     "execution_count": 339,
     "metadata": {},
     "output_type": "execute_result"
    }
   ],
   "source": [
    "np.random.rand() #返回同样的值"
   ]
  },
  {
   "cell_type": "code",
   "execution_count": 340,
   "id": "413a4fca-ada4-404a-81d8-7415cf7e0ea0",
   "metadata": {},
   "outputs": [],
   "source": [
    "np.random.seed(10) # 对于数组也可以进行同样的设置，将seed设置为10"
   ]
  },
  {
   "cell_type": "code",
   "execution_count": 341,
   "id": "5874b329-1b5e-468d-bd4b-5f814dcf0bd7",
   "metadata": {},
   "outputs": [
    {
     "data": {
      "text/plain": [
       "array([0.77132064, 0.02075195, 0.63364823, 0.74880388, 0.49850701,\n",
       "       0.22479665, 0.19806286, 0.76053071, 0.16911084, 0.08833981,\n",
       "       0.68535982, 0.95339335, 0.00394827, 0.51219226, 0.81262096,\n",
       "       0.61252607, 0.72175532, 0.29187607, 0.91777412, 0.71457578])"
      ]
     },
     "execution_count": 341,
     "metadata": {},
     "output_type": "execute_result"
    }
   ],
   "source": [
    "np.random.rand(20) #生成20个随机数"
   ]
  },
  {
   "cell_type": "code",
   "execution_count": 342,
   "id": "eaed82a0-d97a-4aa9-977d-b48ccfad431a",
   "metadata": {},
   "outputs": [],
   "source": [
    "np.random.seed(23) # 将seed设置为23"
   ]
  },
  {
   "cell_type": "code",
   "execution_count": 343,
   "id": "7e697e6f-7ec6-417f-a709-696d3fdbc002",
   "metadata": {},
   "outputs": [
    {
     "data": {
      "text/plain": [
       "array([0.51729788, 0.9469626 , 0.76545976, 0.28239584, 0.22104536,\n",
       "       0.68622209, 0.1671392 , 0.39244247, 0.61805235, 0.41193009,\n",
       "       0.00246488, 0.88403218, 0.88494754, 0.30040969, 0.58958187,\n",
       "       0.97842692, 0.84509382, 0.06507544, 0.29474446, 0.28793444])"
      ]
     },
     "execution_count": 343,
     "metadata": {},
     "output_type": "execute_result"
    }
   ],
   "source": [
    "np.random.rand(20) # 生成20个随机数"
   ]
  },
  {
   "cell_type": "code",
   "execution_count": 344,
   "id": "46e10079-0243-477c-b6f9-a4ae3455718a",
   "metadata": {},
   "outputs": [],
   "source": [
    "np.random.seed(10) # 再将seed设置为10进行确认"
   ]
  },
  {
   "cell_type": "code",
   "execution_count": 345,
   "id": "6e00c6a7-1c68-4c75-8535-30046dbc9d72",
   "metadata": {},
   "outputs": [
    {
     "data": {
      "text/plain": [
       "array([0.77132064, 0.02075195, 0.63364823, 0.74880388, 0.49850701,\n",
       "       0.22479665, 0.19806286, 0.76053071, 0.16911084, 0.08833981,\n",
       "       0.68535982, 0.95339335, 0.00394827, 0.51219226, 0.81262096,\n",
       "       0.61252607, 0.72175532, 0.29187607, 0.91777412, 0.71457578])"
      ]
     },
     "execution_count": 345,
     "metadata": {},
     "output_type": "execute_result"
    }
   ],
   "source": [
    "np.random.rand(20) #  返回同样的值"
   ]
  },
  {
   "cell_type": "code",
   "execution_count": 346,
   "id": "3f22bbdf-637e-4292-8fc5-46e4e73eeb58",
   "metadata": {},
   "outputs": [],
   "source": [
    "np.random.seed(23) #  同样地，再将seed设置为23进行确认"
   ]
  },
  {
   "cell_type": "code",
   "execution_count": 347,
   "id": "5f3bba38-7883-46e1-bb54-153b419e7c84",
   "metadata": {},
   "outputs": [
    {
     "data": {
      "text/plain": [
       "array([0.51729788, 0.9469626 , 0.76545976, 0.28239584, 0.22104536,\n",
       "       0.68622209, 0.1671392 , 0.39244247, 0.61805235, 0.41193009,\n",
       "       0.00246488, 0.88403218, 0.88494754, 0.30040969, 0.58958187,\n",
       "       0.97842692, 0.84509382, 0.06507544, 0.29474446, 0.28793444])"
      ]
     },
     "execution_count": 347,
     "metadata": {},
     "output_type": "execute_result"
    }
   ],
   "source": [
    "np.random.rand(20) # 返回同样的值"
   ]
  },
  {
   "cell_type": "markdown",
   "id": "11ede332-4c4e-4fc5-86bc-2e89150aa957",
   "metadata": {},
   "source": [
    "### 2.17.3 列表的随机提取"
   ]
  },
  {
   "cell_type": "code",
   "execution_count": 348,
   "id": "a553daac-eb09-4f79-bd02-42f9cc389acd",
   "metadata": {},
   "outputs": [],
   "source": [
    "a = ['Python', 'Ruby', 'Java', 'JavaScript', 'PHP'] #  创建一个列表"
   ]
  },
  {
   "cell_type": "code",
   "execution_count": 349,
   "id": "2fca6085-3ecd-479f-9313-ba9312948b5f",
   "metadata": {},
   "outputs": [
    {
     "data": {
      "text/plain": [
       "array(['PHP', 'JavaScript', 'JavaScript'], dtype='<U10')"
      ]
     },
     "execution_count": 349,
     "metadata": {},
     "output_type": "execute_result"
    }
   ],
   "source": [
    "np.random.choice(a, 3) # 从列表a中随机提取3个元素"
   ]
  },
  {
   "cell_type": "code",
   "execution_count": 350,
   "id": "dee033ff-ee2a-4dd4-877c-4bdeb3d94af2",
   "metadata": {},
   "outputs": [
    {
     "data": {
      "text/plain": [
       "array(['Python', 'Ruby', 'JavaScript', 'Java', 'PHP'], dtype='<U10')"
      ]
     },
     "execution_count": 350,
     "metadata": {},
     "output_type": "execute_result"
    }
   ],
   "source": [
    "np.random.choice(a, 5, replace=False) # 不重复提取"
   ]
  },
  {
   "cell_type": "code",
   "execution_count": 351,
   "id": "cca5a453-8b8f-48fc-96cf-220e2269b541",
   "metadata": {},
   "outputs": [
    {
     "data": {
      "text/plain": [
       "array(['Python', 'Python', 'Python', 'Java', 'Python', 'Ruby', 'Python',\n",
       "       'Python', 'Python', 'Python', 'Python', 'Ruby', 'Python', 'Python',\n",
       "       'Python', 'Python', 'Python', 'Python', 'Python', 'Python'],\n",
       "      dtype='<U10')"
      ]
     },
     "execution_count": 351,
     "metadata": {},
     "output_type": "execute_result"
    }
   ],
   "source": [
    "np.random.choice(a, 20, p = [0.8, 0.05, 0.05, 0.05, 0.05]) #通过将列表传递给p改变提取数值的频率。需要注意p中数值合计为1"
   ]
  },
  {
   "cell_type": "code",
   "execution_count": 352,
   "id": "07908f0f-b905-4b60-aa7a-5efc6718f5bb",
   "metadata": {},
   "outputs": [
    {
     "data": {
      "text/plain": [
       "array([3, 4, 3, 0, 0, 4, 4, 3, 1, 1])"
      ]
     },
     "execution_count": 352,
     "metadata": {},
     "output_type": "execute_result"
    }
   ],
   "source": [
    "np.random.choice(5, 10) #  将整数传递给最初的元素，就等同于返回的是使用np.arange(5)生成的列表。这种情况下，会生成(0～5)内的10个随机整数"
   ]
  },
  {
   "cell_type": "markdown",
   "id": "0f5344e6-6dfd-443f-9489-bd77da011ad7",
   "metadata": {},
   "source": [
    "### 2.17.4 列表的随机排序"
   ]
  },
  {
   "cell_type": "code",
   "execution_count": 353,
   "id": "02e6b81e-f500-49bc-90da-47a9d807529f",
   "metadata": {},
   "outputs": [
    {
     "data": {
      "text/plain": [
       "array([0, 1, 2, 3, 4, 5, 6, 7, 8, 9])"
      ]
     },
     "execution_count": 353,
     "metadata": {},
     "output_type": "execute_result"
    }
   ],
   "source": [
    "a = np.arange(10)\n",
    "a"
   ]
  },
  {
   "cell_type": "code",
   "execution_count": 354,
   "id": "76024a1d-b756-4bf4-8dbb-e5e18a2da9be",
   "metadata": {},
   "outputs": [
    {
     "data": {
      "text/plain": [
       "array([3, 9, 6, 2, 7, 0, 8, 1, 5, 4])"
      ]
     },
     "execution_count": 354,
     "metadata": {},
     "output_type": "execute_result"
    }
   ],
   "source": [
    "np.random.shuffle(a) # 对列表a中元素的顺序进行调换\n",
    "a"
   ]
  },
  {
   "cell_type": "markdown",
   "id": "eb9d080e-d172-41f7-aa13-eb5f4b5e5ec9",
   "metadata": {},
   "source": [
    "### 2.17.5 生成服从特定概率分布的随机数"
   ]
  },
  {
   "cell_type": "code",
   "execution_count": 355,
   "id": "6db9c823-6746-4250-8383-57bbe62a0d06",
   "metadata": {},
   "outputs": [
    {
     "data": {
      "text/plain": [
       "1.3329211515002668"
      ]
     },
     "execution_count": 355,
     "metadata": {},
     "output_type": "execute_result"
    }
   ],
   "source": [
    "np.random.randn() # 不指定任何参数，返回的就是单独的数值"
   ]
  },
  {
   "cell_type": "code",
   "execution_count": 356,
   "id": "ebb03ab8-bfea-48e7-9ac9-c3f7ef5450d9",
   "metadata": {},
   "outputs": [
    {
     "data": {
      "text/plain": [
       "-0.3940443571718848"
      ]
     },
     "execution_count": 356,
     "metadata": {},
     "output_type": "execute_result"
    }
   ],
   "source": [
    "np.random.normal() # 这里也是同样返回单独的数值"
   ]
  },
  {
   "cell_type": "code",
   "execution_count": 357,
   "id": "997aeecf-74f5-4c41-82ee-d46bdbb7cbdd",
   "metadata": {},
   "outputs": [
    {
     "data": {
      "text/plain": [
       "array([-2.50408469, -1.37373969,  1.13563154, -0.43091352, -1.10028295,\n",
       "        0.19820952,  0.0407598 ,  0.78145406,  0.06493754, -0.15102838])"
      ]
     },
     "execution_count": 357,
     "metadata": {},
     "output_type": "execute_result"
    }
   ],
   "source": [
    "np.random.randn(10) # 返回一维数组"
   ]
  },
  {
   "cell_type": "code",
   "execution_count": 358,
   "id": "55ce984e-2cc6-46ed-b9fc-fcd7725d4684",
   "metadata": {},
   "outputs": [
    {
     "data": {
      "text/plain": [
       "array([ 0.96796695,  4.01450161, -2.20965065,  4.57232069,  0.52723839,\n",
       "       -3.85119192, -2.27477139, -0.40270012,  2.76283227,  1.69201825])"
      ]
     },
     "execution_count": 358,
     "metadata": {},
     "output_type": "execute_result"
    }
   ],
   "source": [
    "np.random.normal(loc=1,scale=2.0, size=10) # loc为平均值，scale为标准差，size为所返回数组的大小"
   ]
  },
  {
   "cell_type": "code",
   "execution_count": 359,
   "id": "22c0ef89-4001-4d20-b0da-27810bf9dd21",
   "metadata": {},
   "outputs": [
    {
     "data": {
      "text/plain": [
       "array([ 0.08442389,  0.15584683,  0.9601634 , -0.70860884, -0.65790151,\n",
       "       -0.2970833 ,  1.65759749,  0.35983817, -0.02306523, -1.9436952 ])"
      ]
     },
     "execution_count": 359,
     "metadata": {},
     "output_type": "execute_result"
    }
   ],
   "source": [
    "np.random.normal(size=10) # 返回的是与randn(10)相同的执行结果"
   ]
  },
  {
   "cell_type": "code",
   "execution_count": 360,
   "id": "95cb3097-12e1-4a01-baee-1d1caca784a9",
   "metadata": {},
   "outputs": [
    {
     "data": {
      "text/plain": [
       "array([52, 50, 58, 44, 49, 48, 37, 54, 46, 57, 57, 48, 49, 52, 55, 51, 55,\n",
       "       48, 50, 49, 48, 43, 53, 52, 54, 42, 47, 51, 49, 47])"
      ]
     },
     "execution_count": 360,
     "metadata": {},
     "output_type": "execute_result"
    }
   ],
   "source": [
    "np.random.binomial(100, 0.5, 30) # 在(n, p) = (100, 0.5)中事件发生的次数。将此操作执行30次"
   ]
  },
  {
   "cell_type": "code",
   "execution_count": 361,
   "id": "4e0b4cd9-0da0-4836-ab84-53a61f69823d",
   "metadata": {},
   "outputs": [
    {
     "data": {
      "text/plain": [
       "array([0.18924402, 0.35652008, 0.12351546, 0.76978628, 0.21384202,\n",
       "       0.52553931, 0.00662827, 0.07527514, 0.13934092, 0.21633758])"
      ]
     },
     "execution_count": 361,
     "metadata": {},
     "output_type": "execute_result"
    }
   ],
   "source": [
    "np.random.beta(1, 2, size=10) #  生成服从(α, β) = (1,2)的贝塔分布的10个随机数"
   ]
  },
  {
   "cell_type": "code",
   "execution_count": 362,
   "id": "e4096739-39bf-4294-912e-6ec1a1df13c2",
   "metadata": {},
   "outputs": [
    {
     "data": {
      "text/plain": [
       "array([ 3.60762785,  5.61167334,  4.29304449,  3.30809358,  5.25168067,\n",
       "        2.9034974 , 11.39041276,  2.00128597,  1.91485218,  1.91253417])"
      ]
     },
     "execution_count": 362,
     "metadata": {},
     "output_type": "execute_result"
    }
   ],
   "source": [
    "np.random.gamma(2, 2, size=10) # 生成服从(shape, scale) = (α, β) = (2,2)分布的随机数"
   ]
  },
  {
   "cell_type": "code",
   "execution_count": 363,
   "id": "0b278707-d374-4c2d-9845-29c4899bc9c5",
   "metadata": {},
   "outputs": [
    {
     "data": {
      "text/plain": [
       "array([1, 3, 2, 4, 3, 6, 3, 2, 4, 5])"
      ]
     },
     "execution_count": 363,
     "metadata": {},
     "output_type": "execute_result"
    }
   ],
   "source": [
    "np.random.poisson(2, 10) #  生成服从λ =2.0，size = 10 分布的随机数数组"
   ]
  },
  {
   "cell_type": "code",
   "execution_count": 364,
   "id": "00a0fef6-2ef5-4a06-9737-f67d7ecd77ec",
   "metadata": {},
   "outputs": [
    {
     "data": {
      "text/plain": [
       "array([[3, 3],\n",
       "       [3, 2]])"
      ]
     },
     "execution_count": 364,
     "metadata": {},
     "output_type": "execute_result"
    }
   ],
   "source": [
    "np.random.poisson(2, (2,2)) # 还可以生成二维数组"
   ]
  },
  {
   "cell_type": "code",
   "execution_count": 365,
   "id": "a62441be-afd6-4e94-98bf-5f6cacb9b0d0",
   "metadata": {},
   "outputs": [
    {
     "data": {
      "text/plain": [
       "array([5.7828752 , 1.70995986, 0.59956938, 1.01188615, 1.51083264,\n",
       "       0.12579603, 1.32203305, 3.14030707, 0.38077057, 0.28068502])"
      ]
     },
     "execution_count": 365,
     "metadata": {},
     "output_type": "execute_result"
    }
   ],
   "source": [
    "np.random.chisquare(2, 10) # 生成自由度为2的10个值"
   ]
  },
  {
   "cell_type": "markdown",
   "id": "ee561385-c9b7-4139-a081-af7769bf8597",
   "metadata": {},
   "source": [
    "### 2.17.6 使用直方图检查分布状态"
   ]
  },
  {
   "cell_type": "code",
   "execution_count": 366,
   "id": "7cdd6e31-1a73-4211-b23a-b1861e0d35e7",
   "metadata": {},
   "outputs": [],
   "source": [
    "from matplotlib import pyplot as plt"
   ]
  },
  {
   "cell_type": "code",
   "execution_count": 367,
   "id": "099c0b7e-baef-4f94-bc92-b053ed42ade3",
   "metadata": {},
   "outputs": [],
   "source": [
    "def standard_normal_distribution(x):\n",
    "    return (1/np.sqrt(2*np.pi))*np.exp(-x**2/2)*1000 # 将服从标准正态分布的概率密度函数放大1000倍。\n",
    "# (由于直方图度数的宽度为0.01，所以只放大数据数量的1/100倍)"
   ]
  },
  {
   "cell_type": "code",
   "execution_count": 368,
   "id": "94bc3aaf-7663-4061-9aa0-5e4645f00eb4",
   "metadata": {},
   "outputs": [
    {
     "data": {
      "text/plain": [
       "array([-0.2654266 , -1.00253666, -0.37652165, ...,  0.20759937,\n",
       "        1.90983064, -1.15176678])"
      ]
     },
     "execution_count": 368,
     "metadata": {},
     "output_type": "execute_result"
    }
   ],
   "source": [
    "a = np.random.randn(100000) # 生成10万个服从标准正态分布的随机数\n",
    "a"
   ]
  },
  {
   "cell_type": "code",
   "execution_count": 369,
   "id": "d845700f-88ee-413b-8162-94da3a529d31",
   "metadata": {},
   "outputs": [],
   "source": [
    "x = np.linspace(-5, 5, 1000)"
   ]
  },
  {
   "cell_type": "code",
   "execution_count": 370,
   "id": "44292ca8-2b1a-414e-9ba2-9a3b954b68ef",
   "metadata": {},
   "outputs": [
    {
     "data": {
      "image/png": "[encoded data removed]",
      "text/plain": [
       "<Figure size 640x480 with 1 Axes>"
      ]
     },
     "metadata": {},
     "output_type": "display_data"
    }
   ],
   "source": [
    "plt.hist(a, bins=1000)\n",
    "plt.plot(x, standard_normal_distribution(x))\n",
    "plt.show()"
   ]
  },
  {
   "cell_type": "markdown",
   "id": "355a2a0e-4d67-4e9f-ae16-849a4fd3d4e2",
   "metadata": {},
   "source": [
    "## 2.18 数组的扁平化函数"
   ]
  },
  {
   "cell_type": "markdown",
   "id": "ca928ced-4d80-44f5-9588-6f13b7744a8c",
   "metadata": {},
   "source": [
    "### 2.18.1 numpy.ndarray.flatten"
   ]
  },
  {
   "cell_type": "code",
   "execution_count": 371,
   "id": "d067eb5a-77f6-45b7-9d3c-244441d42a8f",
   "metadata": {},
   "outputs": [],
   "source": [
    "import numpy as np"
   ]
  },
  {
   "cell_type": "code",
   "execution_count": 372,
   "id": "fe1caa6d-ef0e-47ca-906e-f6ceba4a9336",
   "metadata": {},
   "outputs": [
    {
     "data": {
      "text/plain": [
       "array([[0, 1, 2, 3, 4],\n",
       "       [5, 6, 7, 8, 9]])"
      ]
     },
     "execution_count": 372,
     "metadata": {},
     "output_type": "execute_result"
    }
   ],
   "source": [
    "a = np.arange(10).reshape(2, 5) # 生成2×5的二维数组\n",
    "a"
   ]
  },
  {
   "cell_type": "code",
   "execution_count": 373,
   "id": "b6824ff1-2bc5-441a-8cf6-3a8ea85f3c60",
   "metadata": {},
   "outputs": [],
   "source": [
    "b = a.flatten() # 将转换后的一维数组代入b中"
   ]
  },
  {
   "cell_type": "code",
   "execution_count": 374,
   "id": "9f8cc24e-9542-4658-a910-f6dc1e0e2982",
   "metadata": {},
   "outputs": [
    {
     "data": {
      "text/plain": [
       "array([[0, 1, 2, 3, 4],\n",
       "       [5, 6, 7, 8, 9]])"
      ]
     },
     "execution_count": 374,
     "metadata": {},
     "output_type": "execute_result"
    }
   ],
   "source": [
    "a # a本身并不会产生变化"
   ]
  },
  {
   "cell_type": "code",
   "execution_count": 375,
   "id": "a4c6645d-1190-484e-adc9-53eb28e6841b",
   "metadata": {},
   "outputs": [
    {
     "data": {
      "text/plain": [
       "array([0, 1, 2, 3, 4, 5, 6, 7, 8, 9])"
      ]
     },
     "execution_count": 375,
     "metadata": {},
     "output_type": "execute_result"
    }
   ],
   "source": [
    "b # b中代入的是转换后的数组"
   ]
  },
  {
   "cell_type": "code",
   "execution_count": 376,
   "id": "0cb3c6b6-f3bd-4246-809c-5ea976010481",
   "metadata": {},
   "outputs": [
    {
     "data": {
      "text/plain": [
       "(2, 5)"
      ]
     },
     "execution_count": 376,
     "metadata": {},
     "output_type": "execute_result"
    }
   ],
   "source": [
    "a.shape # 对shape进行确认"
   ]
  },
  {
   "cell_type": "code",
   "execution_count": 377,
   "id": "480c14fe-5380-4df3-bebe-930df0f69264",
   "metadata": {},
   "outputs": [
    {
     "data": {
      "text/plain": [
       "(10,)"
      ]
     },
     "execution_count": 377,
     "metadata": {},
     "output_type": "execute_result"
    }
   ],
   "source": [
    "b.shape # 由于b的shape是一维数组，所以只会显示一个数值"
   ]
  },
  {
   "cell_type": "code",
   "execution_count": 378,
   "id": "2b5d0f64-0c35-49c8-aeac-fe31c3c6453b",
   "metadata": {},
   "outputs": [
    {
     "data": {
      "text/plain": [
       "array([[[ 0,  1,  2],\n",
       "        [ 3,  4,  5]],\n",
       "\n",
       "       [[ 6,  7,  8],\n",
       "        [ 9, 10, 11]]])"
      ]
     },
     "execution_count": 378,
     "metadata": {},
     "output_type": "execute_result"
    }
   ],
   "source": [
    "c = np.arange(12).reshape(2, 2, 3) #  对三维数组进行确认\n",
    "c"
   ]
  },
  {
   "cell_type": "code",
   "execution_count": 379,
   "id": "f239f8d0-2c2f-47d2-a77e-6fae5b048178",
   "metadata": {},
   "outputs": [],
   "source": [
    "d = c.flatten() # 将转换后的一维数组代入d中"
   ]
  },
  {
   "cell_type": "code",
   "execution_count": 380,
   "id": "3e9c0acf-202c-4134-beb3-cb7a1b976f1e",
   "metadata": {},
   "outputs": [
    {
     "data": {
      "text/plain": [
       "array([[[ 0,  1,  2],\n",
       "        [ 3,  4,  5]],\n",
       "\n",
       "       [[ 6,  7,  8],\n",
       "        [ 9, 10, 11]]])"
      ]
     },
     "execution_count": 380,
     "metadata": {},
     "output_type": "execute_result"
    }
   ],
   "source": [
    "c"
   ]
  },
  {
   "cell_type": "code",
   "execution_count": 381,
   "id": "e25cffa4-59cb-4eca-8fb5-d454c58d9343",
   "metadata": {},
   "outputs": [
    {
     "data": {
      "text/plain": [
       "array([ 0,  1,  2,  3,  4,  5,  6,  7,  8,  9, 10, 11])"
      ]
     },
     "execution_count": 381,
     "metadata": {},
     "output_type": "execute_result"
    }
   ],
   "source": [
    "d"
   ]
  },
  {
   "cell_type": "code",
   "execution_count": 382,
   "id": "a0580806-cb42-40c7-be4d-451c056fd99b",
   "metadata": {},
   "outputs": [
    {
     "data": {
      "text/plain": [
       "(2, 2, 3)"
      ]
     },
     "execution_count": 382,
     "metadata": {},
     "output_type": "execute_result"
    }
   ],
   "source": [
    "c.shape # 在这里也对c和d的shape进行确认"
   ]
  },
  {
   "cell_type": "code",
   "execution_count": 383,
   "id": "dbf8ca02-5da0-43dd-97f2-a365f4d1443d",
   "metadata": {},
   "outputs": [
    {
     "data": {
      "text/plain": [
       "(12,)"
      ]
     },
     "execution_count": 383,
     "metadata": {},
     "output_type": "execute_result"
    }
   ],
   "source": [
    "d.shape"
   ]
  },
  {
   "cell_type": "markdown",
   "id": "0c2ed759-36da-42c1-bdd8-c62f1f36fd76",
   "metadata": {},
   "source": [
    "### 2.18.2 性能评估"
   ]
  },
  {
   "cell_type": "code",
   "execution_count": 384,
   "id": "cb0aa408-9ccd-4185-b849-159cf6837c5a",
   "metadata": {},
   "outputs": [],
   "source": [
    "arr = np.repeat(5, 10000).reshape(250, 40)"
   ]
  },
  {
   "cell_type": "code",
   "execution_count": 385,
   "id": "9a56d97a-f122-4ede-a914-c0ac6603c647",
   "metadata": {},
   "outputs": [
    {
     "name": "stdout",
     "output_type": "stream",
     "text": [
      "1.46 µs ± 1.99 ns per loop (mean ± std. dev. of 7 runs, 1,000,000 loops each)\n"
     ]
    }
   ],
   "source": [
    "%timeit arr.flatten()"
   ]
  },
  {
   "cell_type": "code",
   "execution_count": 386,
   "id": "abec93e3-4945-4a8b-9be5-63e229c2cc2a",
   "metadata": {},
   "outputs": [
    {
     "name": "stdout",
     "output_type": "stream",
     "text": [
      "360 ns ± 1.59 ns per loop (mean ± std. dev. of 7 runs, 1,000,000 loops each)\n"
     ]
    }
   ],
   "source": [
    "%timeit np.ravel(arr)"
   ]
  },
  {
   "cell_type": "markdown",
   "id": "2d5ccb9c-a5a2-4e8b-a40b-c3446eac85a0",
   "metadata": {},
   "source": [
    "## 2.19 文本文件的读写函数"
   ]
  },
  {
   "cell_type": "markdown",
   "id": "935c3936-a393-4ef2-b35f-3896ee59f364",
   "metadata": {},
   "source": [
    "### 2.19.1 各个函数的特点"
   ]
  },
  {
   "cell_type": "markdown",
   "id": "17e38b04-595d-4dea-a3ee-46d4703f1548",
   "metadata": {},
   "source": [
    "### 2.19.2 np.load和np.save的特点"
   ]
  },
  {
   "cell_type": "markdown",
   "id": "649ed675-01ed-458c-84f4-0045019fa99a",
   "metadata": {},
   "source": [
    "### 2.19.3 np.loadtext和np.savetxt的特点"
   ]
  },
  {
   "cell_type": "markdown",
   "id": "bd6a5828-baa2-42be-8fa0-16210f96be4b",
   "metadata": {},
   "source": [
    "### 2.19.4 np.loadtxt"
   ]
  },
  {
   "cell_type": "markdown",
   "id": "3b64c972-9e27-42fd-a512-ab8f412c2825",
   "metadata": {},
   "source": [
    "### 2.19.5 np.savetxt"
   ]
  },
  {
   "cell_type": "code",
   "execution_count": 387,
   "id": "418041e7-a808-4b9e-ab22-e55bd47d2ee5",
   "metadata": {},
   "outputs": [],
   "source": [
    "import numpy as np"
   ]
  },
  {
   "cell_type": "code",
   "execution_count": 388,
   "id": "5e9e26f3-55d1-41f6-aaa2-8bb691eb1672",
   "metadata": {},
   "outputs": [
    {
     "data": {
      "text/plain": [
       "array([[ 0.54677314,  0.57020047, -0.85091201,  0.00513294],\n",
       "       [-1.19878401,  0.38699447,  0.67816579, -0.04735998],\n",
       "       [-1.24245233,  1.86844492, -1.57861903,  1.26336749]])"
      ]
     },
     "execution_count": 388,
     "metadata": {},
     "output_type": "execute_result"
    }
   ],
   "source": [
    "a = np.random.randn(3, 4) #  生成由服从标准正态分布的随机数所组成的二维数组\n",
    "a"
   ]
  },
  {
   "cell_type": "code",
   "execution_count": 389,
   "id": "7a865ca5-b083-4e67-8674-ad7786e095a3",
   "metadata": {},
   "outputs": [],
   "source": [
    "np.savetxt('sample1.txt', a) # 在不做任何指定的情况下对其进行保存"
   ]
  },
  {
   "cell_type": "code",
   "execution_count": 390,
   "id": "7d7edb65-50a1-4baa-ab60-b35b949a58a4",
   "metadata": {},
   "outputs": [],
   "source": [
    "b = np.loadtxt('sample1.txt') #  载入保存后的数据"
   ]
  },
  {
   "cell_type": "code",
   "execution_count": 391,
   "id": "b2862184-9538-4f33-826e-d1b84de0c741",
   "metadata": {},
   "outputs": [
    {
     "data": {
      "text/plain": [
       "array([[ 0.54677314,  0.57020047, -0.85091201,  0.00513294],\n",
       "       [-1.19878401,  0.38699447,  0.67816579, -0.04735998],\n",
       "       [-1.24245233,  1.86844492, -1.57861903,  1.26336749]])"
      ]
     },
     "execution_count": 391,
     "metadata": {},
     "output_type": "execute_result"
    }
   ],
   "source": [
    "a"
   ]
  },
  {
   "cell_type": "code",
   "execution_count": 392,
   "id": "877b561a-8e52-4e8e-8aa2-dd033574b1a6",
   "metadata": {},
   "outputs": [
    {
     "data": {
      "text/plain": [
       "array([[ 0.54677314,  0.57020047, -0.85091201,  0.00513294],\n",
       "       [-1.19878401,  0.38699447,  0.67816579, -0.04735998],\n",
       "       [-1.24245233,  1.86844492, -1.57861903,  1.26336749]])"
      ]
     },
     "execution_count": 392,
     "metadata": {},
     "output_type": "execute_result"
    }
   ],
   "source": [
    "b"
   ]
  },
  {
   "cell_type": "code",
   "execution_count": 393,
   "id": "e1d7c966-c3e6-40b7-a4cc-dc57c0054941",
   "metadata": {},
   "outputs": [],
   "source": [
    "np.savetxt('sample1.csv', a) # 也可以保存为csv格式"
   ]
  },
  {
   "cell_type": "code",
   "execution_count": 394,
   "id": "8fd2b9c5-a375-435a-ac13-8f451b7e9255",
   "metadata": {},
   "outputs": [],
   "source": [
    "c = np.loadtxt('sample1.csv')"
   ]
  },
  {
   "cell_type": "code",
   "execution_count": 395,
   "id": "8bfbcb40-f9b2-40b1-8fa9-3247997b2997",
   "metadata": {},
   "outputs": [
    {
     "data": {
      "text/plain": [
       "array([[ 0.54677314,  0.57020047, -0.85091201,  0.00513294],\n",
       "       [-1.19878401,  0.38699447,  0.67816579, -0.04735998],\n",
       "       [-1.24245233,  1.86844492, -1.57861903,  1.26336749]])"
      ]
     },
     "execution_count": 395,
     "metadata": {},
     "output_type": "execute_result"
    }
   ],
   "source": [
    "c"
   ]
  },
  {
   "cell_type": "code",
   "execution_count": 396,
   "id": "c9b1b4a8-9ed5-4d7e-bb86-d4f6ce689c5e",
   "metadata": {},
   "outputs": [],
   "source": [
    "np.savetxt('sample1.dat', a) #还可以保存为dat格式"
   ]
  },
  {
   "cell_type": "code",
   "execution_count": 397,
   "id": "2ac5e3a7-a868-487d-9480-113726201a9d",
   "metadata": {},
   "outputs": [
    {
     "data": {
      "text/plain": [
       "array([[ 0.54677314,  0.57020047, -0.85091201,  0.00513294],\n",
       "       [-1.19878401,  0.38699447,  0.67816579, -0.04735998],\n",
       "       [-1.24245233,  1.86844492, -1.57861903,  1.26336749]])"
      ]
     },
     "execution_count": 397,
     "metadata": {},
     "output_type": "execute_result"
    }
   ],
   "source": [
    "d = np.loadtxt('sample1.dat')\n",
    "d"
   ]
  },
  {
   "cell_type": "code",
   "execution_count": 398,
   "id": "775ed7c6-fb95-479a-bbc9-7d13b982214e",
   "metadata": {},
   "outputs": [],
   "source": [
    "np.savetxt('sample2.txt', a, delimiter=',')"
   ]
  },
  {
   "cell_type": "code",
   "execution_count": 399,
   "id": "514ee807-cd4b-4314-802b-a56fe12460bf",
   "metadata": {},
   "outputs": [],
   "source": [
    "# e = np.loadtxt('sample2.txt') # delimiter中如果不做任何指定，会发生运行时错误"
   ]
  },
  {
   "cell_type": "code",
   "execution_count": 400,
   "id": "4e1a46b7-18da-4e23-b561-3c1171e546b5",
   "metadata": {},
   "outputs": [
    {
     "data": {
      "text/plain": [
       "array([[ 0.54677314,  0.57020047, -0.85091201,  0.00513294],\n",
       "       [-1.19878401,  0.38699447,  0.67816579, -0.04735998],\n",
       "       [-1.24245233,  1.86844492, -1.57861903,  1.26336749]])"
      ]
     },
     "execution_count": 400,
     "metadata": {},
     "output_type": "execute_result"
    }
   ],
   "source": [
    "e = np.loadtxt('sample2.txt', delimiter=',')\n",
    "e"
   ]
  },
  {
   "cell_type": "code",
   "execution_count": 401,
   "id": "9649e558-7a11-4cd1-b967-0a42a92f3580",
   "metadata": {},
   "outputs": [],
   "source": [
    "np.savetxt('sample3.txt', a, fmt ='%.2e')"
   ]
  },
  {
   "cell_type": "code",
   "execution_count": 402,
   "id": "ec70f82a-2802-4345-ab39-11bbb3b7a78c",
   "metadata": {},
   "outputs": [],
   "source": [
    "np.savetxt('sample4.txt', a, fmt ='%.2f')"
   ]
  },
  {
   "cell_type": "code",
   "execution_count": 403,
   "id": "75e8a178-c27c-4b5a-bb55-bcd49621a333",
   "metadata": {},
   "outputs": [],
   "source": [
    "f = np.array([[10.1+3.21j,100.0+32.1j],[20.0+0.2j,22.1-1j]]) # 生成将复数作为元素的数组"
   ]
  },
  {
   "cell_type": "code",
   "execution_count": 404,
   "id": "dadab0ee-00d7-4844-a308-6fe09e0b7d6c",
   "metadata": {},
   "outputs": [],
   "source": [
    "np.savetxt('sample5.txt', f, fmt=['%.3e+%.3ej', '%.1e+%.1ej'])"
   ]
  },
  {
   "cell_type": "code",
   "execution_count": 405,
   "id": "43fc8372-554c-4fba-9145-76bbc3229925",
   "metadata": {},
   "outputs": [
    {
     "data": {
      "text/plain": [
       "array([[ 0.55, -0.85],\n",
       "       [-1.2 ,  0.68],\n",
       "       [-1.24, -1.58]])"
      ]
     },
     "execution_count": 405,
     "metadata": {},
     "output_type": "execute_result"
    }
   ],
   "source": [
    "np.loadtxt('sample4.txt', usecols=(0,2)) #  只使用第0列和第2列"
   ]
  },
  {
   "cell_type": "code",
   "execution_count": 406,
   "id": "c717e895-f5a8-4f06-9c4a-b0b88fc17b4c",
   "metadata": {},
   "outputs": [
    {
     "data": {
      "text/plain": [
       "array([[-1.2 ,  0.39,  0.68, -0.05],\n",
       "       [-1.24,  1.87, -1.58,  1.26]])"
      ]
     },
     "execution_count": 406,
     "metadata": {},
     "output_type": "execute_result"
    }
   ],
   "source": [
    "np.loadtxt('sample4.txt', skiprows=1) #  跳过第0行"
   ]
  },
  {
   "cell_type": "code",
   "execution_count": 407,
   "id": "25d6c37a-7110-4759-9a68-fcb30c2b8334",
   "metadata": {},
   "outputs": [],
   "source": [
    "np.savetxt('sample6.txt', a, fmt='%.3e', header='this is a header',footer='this is a footer')"
   ]
  },
  {
   "cell_type": "code",
   "execution_count": 408,
   "id": "23b4765b-a196-4ffd-95b2-187c7d699265",
   "metadata": {},
   "outputs": [],
   "source": [
    "np.savetxt('sample7.txt', a, fmt='%.3e', header='this is a header',footer='this is a footer', comments='>>>')"
   ]
  },
  {
   "cell_type": "code",
   "execution_count": 409,
   "id": "9e93f6e8-6c66-47e3-9146-7fafcaa51294",
   "metadata": {},
   "outputs": [
    {
     "data": {
      "text/plain": [
       "array([[ 0.5468  ,  0.5702  , -0.8509  ,  0.005133],\n",
       "       [-1.199   ,  0.387   ,  0.6782  , -0.04736 ],\n",
       "       [-1.242   ,  1.868   , -1.579   ,  1.263   ]])"
      ]
     },
     "execution_count": 409,
     "metadata": {},
     "output_type": "execute_result"
    }
   ],
   "source": [
    "np.loadtxt('sample7.txt', comments='>>>') # 确认loadtxt是否准确读取文件"
   ]
  },
  {
   "cell_type": "code",
   "execution_count": 410,
   "id": "ffc83295-172e-4a35-b271-f539a99b0d9e",
   "metadata": {},
   "outputs": [
    {
     "data": {
      "text/plain": [
       "array([(18, b'female', 154.1, b'No'), (21, b'male', 172.3, b'Yes'),\n",
       "       (22, b'female', 160.8, b'Yes'), (23, b'male', 180.1, b'Yes'),\n",
       "       (25, b'female', 145. , b'No')],\n",
       "      dtype=[('col1', '<i8'), ('col2', 'S10'), ('col3', '<f8'), ('col4', 'S10')])"
      ]
     },
     "execution_count": 410,
     "metadata": {},
     "output_type": "execute_result"
    }
   ],
   "source": [
    "np.loadtxt('foo9.csv', dtype=[('col1', 'i8'), ('col2', 'S10'), ('col3', 'f8'), ('col4', 'S10')]) # 按照8字节的int型、10字节的string型, 8字节的float型,10\n",
    "# 字节的string型的顺序进行指定"
   ]
  },
  {
   "cell_type": "code",
   "execution_count": 411,
   "id": "110fa9c5-c0d4-4d4b-b5a3-af6ef4bde111",
   "metadata": {},
   "outputs": [
    {
     "data": {
      "text/plain": [
       "[array([18, 21, 22, 23, 25], dtype=int64),\n",
       " array([b'female', b'male', b'female', b'male', b'female'], dtype='|S10'),\n",
       " array([154.1, 172.3, 160.8, 180.1, 145. ]),\n",
       " array([b'No', b'Yes', b'Yes', b'Yes', b'No'], dtype='|S10')]"
      ]
     },
     "execution_count": 411,
     "metadata": {},
     "output_type": "execute_result"
    }
   ],
   "source": [
    "np.loadtxt('foo9.csv', dtype=[('col1', 'i8'), ('col2', 'S10'), ('col3','f8'), ('col4', 'S10')], unpack=True) #  指定unpack=True可以进行转置"
   ]
  },
  {
   "cell_type": "code",
   "execution_count": 412,
   "id": "2f6b00d1-8f27-4f2b-874f-82b952433098",
   "metadata": {},
   "outputs": [],
   "source": [
    "age, gender, tall, driver_lisense=np.loadtxt('foo9.csv', dtype=[('col1', 'i8'), ('col2', 'S10'), ('col3', 'f8'), ('col4', 'S10')], unpack=True)"
   ]
  },
  {
   "cell_type": "code",
   "execution_count": 413,
   "id": "b88e3ec0-f620-425e-b92e-c665e0466859",
   "metadata": {},
   "outputs": [
    {
     "data": {
      "text/plain": [
       "array([18, 21, 22, 23, 25], dtype=int64)"
      ]
     },
     "execution_count": 413,
     "metadata": {},
     "output_type": "execute_result"
    }
   ],
   "source": [
    "age"
   ]
  },
  {
   "cell_type": "code",
   "execution_count": 414,
   "id": "c52af128-135a-4070-a5d0-a9fc2eb6e83b",
   "metadata": {},
   "outputs": [
    {
     "data": {
      "text/plain": [
       "array([b'female', b'male', b'female', b'male', b'female'], dtype='|S10')"
      ]
     },
     "execution_count": 414,
     "metadata": {},
     "output_type": "execute_result"
    }
   ],
   "source": [
    "gender"
   ]
  },
  {
   "cell_type": "code",
   "execution_count": 415,
   "id": "0ed3eeba-d589-48a1-aad4-a4c2f5fcdf8b",
   "metadata": {},
   "outputs": [
    {
     "data": {
      "text/plain": [
       "array([154.1, 172.3, 160.8, 180.1, 145. ])"
      ]
     },
     "execution_count": 415,
     "metadata": {},
     "output_type": "execute_result"
    }
   ],
   "source": [
    "tall"
   ]
  },
  {
   "cell_type": "code",
   "execution_count": 416,
   "id": "516d8ca3-a978-4a0c-8108-114243acae74",
   "metadata": {},
   "outputs": [
    {
     "data": {
      "text/plain": [
       "array([b'No', b'Yes', b'Yes', b'Yes', b'No'], dtype='|S10')"
      ]
     },
     "execution_count": 416,
     "metadata": {},
     "output_type": "execute_result"
    }
   ],
   "source": [
    "driver_lisense"
   ]
  },
  {
   "cell_type": "code",
   "execution_count": 417,
   "id": "97551362-7417-4f7d-9f7b-729a034ebcf2",
   "metadata": {},
   "outputs": [],
   "source": [
    "def driver_lisense(str): # 对两个函数进行定义\n",
    "    if str == b'Yes' : return 1\n",
    "    else: return -1"
   ]
  },
  {
   "cell_type": "code",
   "execution_count": 418,
   "id": "a8063fea-4df9-4c6c-90c7-2a79e7e01385",
   "metadata": {},
   "outputs": [],
   "source": [
    "def gender(str):\n",
    "    if str == b'male': return 1\n",
    "    else: return -1"
   ]
  },
  {
   "cell_type": "code",
   "execution_count": 419,
   "id": "f5957b52-f2f5-464b-bc42-cea3b130160d",
   "metadata": {},
   "outputs": [
    {
     "data": {
      "text/plain": [
       "array([[ 18. ,  -1. , 154.1,  -1. ],\n",
       "       [ 21. ,   1. , 172.3,   1. ],\n",
       "       [ 22. ,  -1. , 160.8,   1. ],\n",
       "       [ 23. ,   1. , 180.1,   1. ],\n",
       "       [ 25. ,  -1. , 145. ,  -1. ]])"
      ]
     },
     "execution_count": 419,
     "metadata": {},
     "output_type": "execute_result"
    }
   ],
   "source": [
    "np.loadtxt('foo9.csv', converters={1: lambda s: gender(s), 3: lambda s: driver_lisense(s)}) # 使用函数将字符串中的数据转换成数值"
   ]
  },
  {
   "cell_type": "code",
   "execution_count": 420,
   "id": "88544e20-5594-4324-b6d6-e3be40b02d7c",
   "metadata": {},
   "outputs": [],
   "source": [
    "def gender2(str): #  重新对函数进行设置\n",
    "    if not str: return 0 #没有输入任何数值时，就会返回0\n",
    "\n",
    "    elif str == b'male': return 1\n",
    "    else: return -1"
   ]
  },
  {
   "cell_type": "code",
   "execution_count": 421,
   "id": "743d550f-962a-46c3-abfe-e1a49f6546ca",
   "metadata": {},
   "outputs": [
    {
     "data": {
      "text/plain": [
       "array([[ 18.,   0., 154.,  -1.],\n",
       "       [ 21.,   1., 172.,   1.],\n",
       "       [ 22.,   0., 160.,   1.],\n",
       "       [ 23.,   0., 180.,   1.],\n",
       "       [ 25.,  -1., 145.,  -1.]])"
      ]
     },
     "execution_count": 421,
     "metadata": {},
     "output_type": "execute_result"
    }
   ],
   "source": [
    "np.loadtxt('foo10.csv', converters={1: lambda s: gender2(s), 3: lambda s: driver_lisense(s)}, delimiter=',')"
   ]
  },
  {
   "cell_type": "code",
   "execution_count": 422,
   "id": "164dfd6c-f146-454a-b320-bd47e82bfaff",
   "metadata": {},
   "outputs": [
    {
     "data": {
      "text/plain": [
       "array([[ 1.1,  nan,  nan],\n",
       "       [ 2.3,  5.2, -9.1],\n",
       "       [ 0.1,  nan,  2. ]])"
      ]
     },
     "execution_count": 422,
     "metadata": {},
     "output_type": "execute_result"
    }
   ],
   "source": [
    "np.genfromtxt('bar.txt', delimiter=',')"
   ]
  },
  {
   "cell_type": "code",
   "execution_count": 423,
   "id": "65da31e6-33bc-4b7a-9b71-a4543e055d29",
   "metadata": {},
   "outputs": [
    {
     "data": {
      "text/plain": [
       "array([(1, nan, -1), (2, 5.2, -9), (0, nan,  2)],\n",
       "      dtype=[('f0', '<i4'), ('f1', '<f8'), ('f2', '<i4')])"
      ]
     },
     "execution_count": 423,
     "metadata": {},
     "output_type": "execute_result"
    }
   ],
   "source": [
    "np.genfromtxt('bar.txt', delimiter=',', dtype=('int', 'float', 'int')) #  指定int、 float、 int等格式"
   ]
  },
  {
   "cell_type": "code",
   "execution_count": 424,
   "id": "89113ad8-f583-49a1-8682-a09339be0751",
   "metadata": {},
   "outputs": [
    {
     "data": {
      "text/plain": [
       "array([[ 1.1,  nan,  nan],\n",
       "       [ 2.3,  5.2, -9.1],\n",
       "       [ 0.1,  nan,  2. ]])"
      ]
     },
     "execution_count": 424,
     "metadata": {},
     "output_type": "execute_result"
    }
   ],
   "source": [
    "np.genfromtxt('bar.txt', delimiter=',')"
   ]
  },
  {
   "cell_type": "code",
   "execution_count": 425,
   "id": "2ebf28a7-85df-4593-b91a-04da788780f8",
   "metadata": {},
   "outputs": [
    {
     "data": {
      "text/plain": [
       "array([(1, nan, -1), (2, 5.2, -9), (0, nan,  2)],\n",
       "      dtype=[('f0', '<i4'), ('f1', '<f8'), ('f2', '<i4')])"
      ]
     },
     "execution_count": 425,
     "metadata": {},
     "output_type": "execute_result"
    }
   ],
   "source": [
    "np.genfromtxt('bar.txt', delimiter=',', dtype=('int', 'float', 'int')) #  指定int、 float、 int等格式"
   ]
  },
  {
   "cell_type": "markdown",
   "id": "f8f9902a-5b11-41df-b3b7-db79801f93ca",
   "metadata": {},
   "source": [
    "## 2.20 直接存取数组数据的函数"
   ]
  },
  {
   "cell_type": "code",
   "execution_count": 426,
   "id": "2f5599a7-d1ef-4311-9867-bd94187467da",
   "metadata": {},
   "outputs": [],
   "source": [
    "import numpy as np"
   ]
  },
  {
   "cell_type": "code",
   "execution_count": 427,
   "id": "f7f9d251-c3e7-4b6d-8809-36d5a43e44d8",
   "metadata": {},
   "outputs": [],
   "source": [
    "a = np.random.randn(1200*1000).reshape(1200, -1)# 生成稍微大一些的数组"
   ]
  },
  {
   "cell_type": "code",
   "execution_count": 428,
   "id": "07e600c0-9cd6-4203-ad13-35bf88568ae7",
   "metadata": {},
   "outputs": [],
   "source": [
    "np.save('a', a)"
   ]
  },
  {
   "cell_type": "code",
   "execution_count": 429,
   "id": "b9622d04-5412-4467-81c3-cabc103ee1f0",
   "metadata": {},
   "outputs": [
    {
     "data": {
      "text/plain": [
       "array([[-1.05567633, -0.97127782,  1.1476986 , ..., -1.02590898,\n",
       "        -0.69149147, -0.6309453 ],\n",
       "       [ 2.51704749, -0.47417009,  0.42925598, ...,  0.04577148,\n",
       "         0.18369288, -1.26668061],\n",
       "       [ 0.23975726,  0.48305573,  0.60356856, ..., -1.6062311 ,\n",
       "         1.30291777, -0.60249636],\n",
       "       ...,\n",
       "       [-1.29201083, -0.89229479,  0.82580412, ...,  1.05698746,\n",
       "         0.02378636, -0.52337269],\n",
       "       [ 0.12448649, -0.11237933,  0.30979746, ...,  0.02422406,\n",
       "        -1.36519267, -1.06132896],\n",
       "       [ 0.6064369 ,  1.39117756, -0.89463736, ...,  0.58904657,\n",
       "        -0.57541025, -0.63774691]])"
      ]
     },
     "execution_count": 429,
     "metadata": {},
     "output_type": "execute_result"
    }
   ],
   "source": [
    "np.load('a.npy') # 对保存后的文件进行载入"
   ]
  },
  {
   "cell_type": "code",
   "execution_count": 430,
   "id": "b3f528b5-ebd1-45ef-abf2-6c18eb9dbfd9",
   "metadata": {},
   "outputs": [
    {
     "data": {
      "text/plain": [
       "(1200, 1000)"
      ]
     },
     "execution_count": 430,
     "metadata": {},
     "output_type": "execute_result"
    }
   ],
   "source": [
    "a.shape"
   ]
  },
  {
   "cell_type": "code",
   "execution_count": 431,
   "id": "5e20e5ba-5b50-4d09-b713-dfa5ea760651",
   "metadata": {},
   "outputs": [],
   "source": [
    "b = np.load('a.npy') #  将保存后的文件保存到其他的变量中"
   ]
  },
  {
   "cell_type": "code",
   "execution_count": 432,
   "id": "4ed670f9-c37f-4028-97c8-c42b8d65a805",
   "metadata": {},
   "outputs": [
    {
     "data": {
      "text/plain": [
       "(1200, 1000)"
      ]
     },
     "execution_count": 432,
     "metadata": {},
     "output_type": "execute_result"
    }
   ],
   "source": [
    "b.shape # 由于shape和a的是一样的，可以看到文件被成功读取"
   ]
  },
  {
   "cell_type": "code",
   "execution_count": 433,
   "id": "83ac6677-ea40-4ab3-8a63-22fd28fcccde",
   "metadata": {},
   "outputs": [],
   "source": [
    "c = np.random.randn(12*20*40).reshape(12, 20, 40) #  这里生成三维数组"
   ]
  },
  {
   "cell_type": "code",
   "execution_count": 434,
   "id": "172fb8ca-00eb-4b98-a9a9-3dbcd6a154c8",
   "metadata": {},
   "outputs": [],
   "source": [
    "np.save('c', c)"
   ]
  },
  {
   "cell_type": "code",
   "execution_count": 435,
   "id": "da8c1b21-2d45-4fb8-ad15-c9f8dcd6e588",
   "metadata": {},
   "outputs": [],
   "source": [
    "d = np.load('c.npy')"
   ]
  },
  {
   "cell_type": "code",
   "execution_count": 436,
   "id": "e8fac3ef-2014-483f-a894-8e6154d0bc80",
   "metadata": {},
   "outputs": [
    {
     "data": {
      "text/plain": [
       "(12, 20, 40)"
      ]
     },
     "execution_count": 436,
     "metadata": {},
     "output_type": "execute_result"
    }
   ],
   "source": [
    "d.shape"
   ]
  },
  {
   "cell_type": "code",
   "execution_count": 437,
   "id": "f1af0422-c763-4cb4-9571-ea0efe08d0f5",
   "metadata": {},
   "outputs": [],
   "source": [
    "# e = np.loadtxt('c.npy') # 使用loadtxt不能读取文件"
   ]
  },
  {
   "cell_type": "code",
   "execution_count": 438,
   "id": "a35a56ac-1993-4cec-b303-742785d0e128",
   "metadata": {},
   "outputs": [],
   "source": [
    "# np.savetxt('c.npy', c) # 如果使用savetxt，三维数组c将无法被保存"
   ]
  },
  {
   "cell_type": "markdown",
   "id": "d04bd263-8d5d-4775-95de-d86aa4aa371f",
   "metadata": {},
   "source": [
    "## 2.21 将buffer快速转换为ndarray的函数"
   ]
  },
  {
   "cell_type": "markdown",
   "id": "dd7b8ae0-2678-4088-aabf-b24296a42952",
   "metadata": {},
   "source": [
    "### 2.21.1 np.frombuffer"
   ]
  },
  {
   "cell_type": "markdown",
   "id": "d9c5158d-4b50-4a10-85d9-3a7e0e63ed01",
   "metadata": {},
   "source": [
    "### 2.21.2 比较将音频文件保存为数组的时间"
   ]
  },
  {
   "cell_type": "code",
   "execution_count": 439,
   "id": "71bdc9d7-3a38-4ab2-9e62-3e5879078aea",
   "metadata": {},
   "outputs": [],
   "source": [
    "import numpy as np\n",
    "import wave"
   ]
  },
  {
   "cell_type": "code",
   "execution_count": 440,
   "id": "f3f26aaf-7332-479d-ba74-017bfb8a9fbc",
   "metadata": {},
   "outputs": [],
   "source": [
    "wf = wave.open('sample_sound.wav')"
   ]
  },
  {
   "cell_type": "code",
   "execution_count": 441,
   "id": "db299387-c9d0-49f7-8885-2a489f900b61",
   "metadata": {},
   "outputs": [],
   "source": [
    "channels = wf.getnchannels()"
   ]
  },
  {
   "cell_type": "code",
   "execution_count": 442,
   "id": "b5bf4094-27ae-455f-ba1c-1f88f6945800",
   "metadata": {},
   "outputs": [
    {
     "data": {
      "text/plain": [
       "_wave_params(nchannels=2, sampwidth=2, framerate=44100, nframes=380928, comptype='NONE', compname='not compressed')"
      ]
     },
     "execution_count": 442,
     "metadata": {},
     "output_type": "execute_result"
    }
   ],
   "source": [
    "wf.getparams()"
   ]
  },
  {
   "cell_type": "code",
   "execution_count": 443,
   "id": "dd229ca4-f626-438c-a152-040b5fdcd8b3",
   "metadata": {},
   "outputs": [],
   "source": [
    "chunk_size = wf.getnframes()"
   ]
  },
  {
   "cell_type": "code",
   "execution_count": 444,
   "id": "f8bc3d14-606e-4a00-80b8-3560d0201477",
   "metadata": {},
   "outputs": [
    {
     "data": {
      "text/plain": [
       "380928"
      ]
     },
     "execution_count": 444,
     "metadata": {},
     "output_type": "execute_result"
    }
   ],
   "source": [
    "chunk_size # #利用着与书籍杂志面不同的声音文件(声音文件从free Wave,MP3使用。"
   ]
  },
  {
   "cell_type": "code",
   "execution_count": 445,
   "id": "00dc4357-44d9-49c3-8527-8861af87ce17",
   "metadata": {},
   "outputs": [],
   "source": [
    "data = wf.readframes(chunk_size) # 首先将读取的文件的全部内容保存到变量中"
   ]
  },
  {
   "cell_type": "code",
   "execution_count": 446,
   "id": "3b786fb9-9568-4b79-a32b-58a23390ae3b",
   "metadata": {},
   "outputs": [
    {
     "name": "stdout",
     "output_type": "stream",
     "text": [
      "485 ns ± 5.39 ns per loop (mean ± std. dev. of 7 runs, 1,000,000 loops each)\n"
     ]
    }
   ],
   "source": [
    "%timeit data2 = np.frombuffer(data, dtype='int16')"
   ]
  },
  {
   "cell_type": "code",
   "execution_count": 447,
   "id": "03fd6f52-9606-49f2-a1b4-43881aa90f86",
   "metadata": {},
   "outputs": [
    {
     "name": "stdout",
     "output_type": "stream",
     "text": [
      "29.3 ms ± 65.7 µs per loop (mean ± std. dev. of 7 runs, 10 loops each)\n"
     ]
    }
   ],
   "source": [
    "%timeit data3 = np.fromiter(data, dtype='int16')"
   ]
  },
  {
   "cell_type": "markdown",
   "id": "f26e501c-570a-4e4c-bdf1-5647b5bc653b",
   "metadata": {},
   "source": [
    "## 2.22 筛选非零元素的函数"
   ]
  },
  {
   "cell_type": "markdown",
   "id": "f17b998a-6b64-4b86-aa10-7bbd69cd0e9c",
   "metadata": {},
   "source": [
    "### 2.22.1 np.nonzero"
   ]
  },
  {
   "cell_type": "code",
   "execution_count": 448,
   "id": "acf20fdc-534e-408d-a626-14f1e664acbc",
   "metadata": {},
   "outputs": [],
   "source": [
    "import numpy as np"
   ]
  },
  {
   "cell_type": "code",
   "execution_count": 449,
   "id": "6682e897-8010-4ae8-a1f8-7e5a72b5a1c1",
   "metadata": {},
   "outputs": [
    {
     "data": {
      "text/plain": [
       "array([2, 4, 1, 3, 8, 3, 5, 8, 6, 4, 9, 3, 8, 6, 5, 3, 9, 7, 1, 4])"
      ]
     },
     "execution_count": 449,
     "metadata": {},
     "output_type": "execute_result"
    }
   ],
   "source": [
    "a = np.random.randint(0, 10, size=20)\n",
    "a"
   ]
  },
  {
   "cell_type": "code",
   "execution_count": 450,
   "id": "921c52c7-cb8b-4164-ae6d-13f5d581cfdb",
   "metadata": {},
   "outputs": [
    {
     "data": {
      "text/plain": [
       "(array([ 0,  1,  2,  3,  4,  5,  6,  7,  8,  9, 10, 11, 12, 13, 14, 15, 16,\n",
       "        17, 18, 19], dtype=int64),)"
      ]
     },
     "execution_count": 450,
     "metadata": {},
     "output_type": "execute_result"
    }
   ],
   "source": [
    "np.nonzero(a) # 提取非零元素的索引值"
   ]
  },
  {
   "cell_type": "code",
   "execution_count": 451,
   "id": "d10028cf-b934-4932-8cfc-82837894b102",
   "metadata": {},
   "outputs": [
    {
     "data": {
      "text/plain": [
       "(array([ 0,  1,  2,  3,  4,  5,  6,  7,  8,  9, 10, 11, 12, 13, 14, 15, 16,\n",
       "        17, 18, 19], dtype=int64),)"
      ]
     },
     "execution_count": 451,
     "metadata": {},
     "output_type": "execute_result"
    }
   ],
   "source": [
    "a.nonzero() # 这种格式也是可以的"
   ]
  },
  {
   "cell_type": "code",
   "execution_count": 452,
   "id": "6ef145b6-2d1b-4a96-8924-c5b655d74447",
   "metadata": {},
   "outputs": [
    {
     "data": {
      "text/plain": [
       "array([2, 4, 1, 3, 8, 3, 5, 8, 6, 4, 9, 3, 8, 6, 5, 3, 9, 7, 1, 4])"
      ]
     },
     "execution_count": 452,
     "metadata": {},
     "output_type": "execute_result"
    }
   ],
   "source": [
    "a[np.nonzero(a)] # 这样设置就可以生成筛选出非零元素后的数组"
   ]
  },
  {
   "cell_type": "code",
   "execution_count": 453,
   "id": "0736c826-fbd9-4988-9f6b-0ab778aaa3b9",
   "metadata": {},
   "outputs": [
    {
     "data": {
      "text/plain": [
       "array([[5, 5, 7, 8, 2],\n",
       "       [1, 7, 2, 2, 3],\n",
       "       [5, 3, 8, 8, 3],\n",
       "       [8, 9, 0, 0, 1]])"
      ]
     },
     "execution_count": 453,
     "metadata": {},
     "output_type": "execute_result"
    }
   ],
   "source": [
    "b = np.random.randint(0, 10, size=(4,5)) #  4×5的二维随机数数组\n",
    "b"
   ]
  },
  {
   "cell_type": "code",
   "execution_count": 454,
   "id": "921dbb4a-c5ec-4323-a4ea-5d44b1237d5d",
   "metadata": {},
   "outputs": [
    {
     "data": {
      "text/plain": [
       "(array([0, 0, 0, 0, 0, 1, 1, 1, 1, 1, 2, 2, 2, 2, 2, 3, 3, 3], dtype=int64),\n",
       " array([0, 1, 2, 3, 4, 0, 1, 2, 3, 4, 0, 1, 2, 3, 4, 0, 1, 4], dtype=int64))"
      ]
     },
     "execution_count": 454,
     "metadata": {},
     "output_type": "execute_result"
    }
   ],
   "source": [
    "np.nonzero(b) #第一个数组是在行方向上的索引，第二个数组是在列方向上的索引"
   ]
  },
  {
   "cell_type": "code",
   "execution_count": 455,
   "id": "2cecbe9d-f78d-4d28-a004-4b2b5157231e",
   "metadata": {},
   "outputs": [
    {
     "data": {
      "text/plain": [
       "(array([0, 0, 0, 0, 0, 1, 1, 1, 1, 1, 2, 2, 2, 2, 2, 3, 3, 3], dtype=int64),\n",
       " array([0, 1, 2, 3, 4, 0, 1, 2, 3, 4, 0, 1, 2, 3, 4, 0, 1, 4], dtype=int64))"
      ]
     },
     "execution_count": 455,
     "metadata": {},
     "output_type": "execute_result"
    }
   ],
   "source": [
    "b.nonzero()"
   ]
  },
  {
   "cell_type": "code",
   "execution_count": 456,
   "id": "0caf1f43-4089-4556-ac37-3444daa7373f",
   "metadata": {},
   "outputs": [
    {
     "data": {
      "text/plain": [
       "array([5, 5, 7, 8, 2, 1, 7, 2, 2, 3, 5, 3, 8, 8, 3, 8, 9, 1])"
      ]
     },
     "execution_count": 456,
     "metadata": {},
     "output_type": "execute_result"
    }
   ],
   "source": [
    "b[b.nonzero()] #  提取非零元素"
   ]
  },
  {
   "cell_type": "markdown",
   "id": "6a91b75a-acbe-4ad8-ae2f-82be7f6f4b13",
   "metadata": {},
   "source": [
    "### 2.22.3 np.where与np.argwhere的比较"
   ]
  },
  {
   "cell_type": "code",
   "execution_count": 457,
   "id": "f42fea45-34a2-48cf-8fb0-00d6980c5669",
   "metadata": {},
   "outputs": [],
   "source": [
    "a = np.random.randint(0, 10, size=(100, 100))"
   ]
  },
  {
   "cell_type": "code",
   "execution_count": 458,
   "id": "a70db724-2b6d-458d-a2da-e4d24aadb027",
   "metadata": {},
   "outputs": [],
   "source": [
    "b = np.ones(shape=(100, 100))"
   ]
  },
  {
   "cell_type": "code",
   "execution_count": 459,
   "id": "3ea80352-a409-4d34-9c04-232ba8e99d50",
   "metadata": {},
   "outputs": [
    {
     "data": {
      "text/plain": [
       "array([[6., 1., 6., ..., 7., 1., 5.],\n",
       "       [2., 9., 1., ..., 6., 1., 9.],\n",
       "       [4., 4., 8., ..., 1., 1., 4.],\n",
       "       ...,\n",
       "       [4., 7., 9., ..., 7., 4., 1.],\n",
       "       [8., 2., 5., ..., 4., 1., 4.],\n",
       "       [9., 1., 1., ..., 8., 6., 1.]])"
      ]
     },
     "execution_count": 459,
     "metadata": {},
     "output_type": "execute_result"
    }
   ],
   "source": [
    "np.where(a != 0, a, b)"
   ]
  },
  {
   "cell_type": "code",
   "execution_count": 460,
   "id": "119640b6-d509-4f81-a78e-a135e37b5702",
   "metadata": {},
   "outputs": [],
   "source": [
    "import numpy as np"
   ]
  },
  {
   "cell_type": "code",
   "execution_count": 461,
   "id": "6fba9ee2-75a1-4092-b46b-e545dcf4d877",
   "metadata": {},
   "outputs": [],
   "source": [
    "a = np.random.randint(0, 10, size=(100, 100))"
   ]
  },
  {
   "cell_type": "code",
   "execution_count": 462,
   "id": "f01aabe2-12b8-4a43-b8d6-b908df4f9b63",
   "metadata": {},
   "outputs": [
    {
     "data": {
      "text/plain": [
       "(array([ 0,  0,  0, ..., 99, 99, 99], dtype=int64),\n",
       " array([ 0,  1,  2, ..., 96, 97, 99], dtype=int64))"
      ]
     },
     "execution_count": 462,
     "metadata": {},
     "output_type": "execute_result"
    }
   ],
   "source": [
    "np.nonzero(a)"
   ]
  },
  {
   "cell_type": "code",
   "execution_count": 463,
   "id": "84facb3a-5d2c-432b-8e09-33965626a533",
   "metadata": {},
   "outputs": [
    {
     "data": {
      "text/plain": [
       "(array([ 0,  0,  0, ..., 99, 99, 99], dtype=int64),\n",
       " array([ 0,  1,  2, ..., 96, 97, 99], dtype=int64))"
      ]
     },
     "execution_count": 463,
     "metadata": {},
     "output_type": "execute_result"
    }
   ],
   "source": [
    "np.where(a != 0)"
   ]
  },
  {
   "cell_type": "code",
   "execution_count": 464,
   "id": "785406d3-0af3-45bf-824b-3f9cd5123f0a",
   "metadata": {},
   "outputs": [
    {
     "data": {
      "text/plain": [
       "array([[ 0,  0],\n",
       "       [ 0,  1],\n",
       "       [ 0,  2],\n",
       "       ...,\n",
       "       [99, 96],\n",
       "       [99, 97],\n",
       "       [99, 99]], dtype=int64)"
      ]
     },
     "execution_count": 464,
     "metadata": {},
     "output_type": "execute_result"
    }
   ],
   "source": [
    "np.argwhere(a != 0)"
   ]
  },
  {
   "cell_type": "code",
   "execution_count": 465,
   "id": "7ffaeb0a-15ae-4c79-91fa-21c1aaf3351f",
   "metadata": {},
   "outputs": [
    {
     "data": {
      "text/plain": [
       "array([[ 0,  0],\n",
       "       [ 0,  1],\n",
       "       [ 0,  2],\n",
       "       ...,\n",
       "       [99, 96],\n",
       "       [99, 97],\n",
       "       [99, 99]], dtype=int64)"
      ]
     },
     "execution_count": 465,
     "metadata": {},
     "output_type": "execute_result"
    }
   ],
   "source": [
    "np.transpose(np.nonzero(a))"
   ]
  },
  {
   "cell_type": "markdown",
   "id": "5971bd02-fe2c-4373-a97c-265434ca608d",
   "metadata": {},
   "source": [
    "## 2.23 比flatten更高速的数组扁平化函数"
   ]
  },
  {
   "cell_type": "markdown",
   "id": "eb51b530-3f90-46fa-8914-bb12ad67387c",
   "metadata": {},
   "source": [
    "### 2.23.1 np.ravel"
   ]
  },
  {
   "cell_type": "markdown",
   "id": "b43defbe-a1bd-4699-9c78-497e49b8dca4",
   "metadata": {},
   "source": [
    "### 2.23.2 np.ndarray.ravel"
   ]
  },
  {
   "cell_type": "markdown",
   "id": "8d9636ca-a00a-40e8-84de-a50773ead37e",
   "metadata": {},
   "source": [
    "### 2.23.3 关于order参数"
   ]
  },
  {
   "cell_type": "code",
   "execution_count": 466,
   "id": "7beeb3c3-8b7d-4702-98c0-080d181fde98",
   "metadata": {},
   "outputs": [],
   "source": [
    "import numpy as np"
   ]
  },
  {
   "cell_type": "code",
   "execution_count": 467,
   "id": "ce11d01d-de51-4cbc-9538-75e5645060a6",
   "metadata": {},
   "outputs": [
    {
     "data": {
      "text/plain": [
       "array([[0, 1, 2, 3, 4],\n",
       "       [5, 6, 7, 8, 9]])"
      ]
     },
     "execution_count": 467,
     "metadata": {},
     "output_type": "execute_result"
    }
   ],
   "source": [
    "a = np.arange(10).reshape(2, 5) # 生成2×5的二维数组\n",
    "a"
   ]
  },
  {
   "cell_type": "code",
   "execution_count": 468,
   "id": "f7d28494-2c17-421a-942e-0d94a83d7db0",
   "metadata": {},
   "outputs": [
    {
     "data": {
      "text/plain": [
       "array([0, 1, 2, 3, 4, 5, 6, 7, 8, 9])"
      ]
     },
     "execution_count": 468,
     "metadata": {},
     "output_type": "execute_result"
    }
   ],
   "source": [
    "a.ravel() # 转换成一维数组"
   ]
  },
  {
   "cell_type": "code",
   "execution_count": 469,
   "id": "d300b8ed-8db7-4b71-b798-a4abbcb8b25d",
   "metadata": {},
   "outputs": [
    {
     "data": {
      "text/plain": [
       "array([0, 1, 2, 3, 4, 5, 6, 7, 8, 9])"
      ]
     },
     "execution_count": 469,
     "metadata": {},
     "output_type": "execute_result"
    }
   ],
   "source": [
    "np.ravel(a) # 同样的代码也可以写成这一形式"
   ]
  },
  {
   "cell_type": "code",
   "execution_count": 470,
   "id": "3ecf4f20-a923-462c-9563-b88581bbc87d",
   "metadata": {},
   "outputs": [
    {
     "data": {
      "text/plain": [
       "array([0, 1, 2, 3, 4, 5, 6, 7, 8, 9])"
      ]
     },
     "execution_count": 470,
     "metadata": {},
     "output_type": "execute_result"
    }
   ],
   "source": [
    "a.ravel(order='C') # 将order指定为'C'（初始值），会得到相同的数组"
   ]
  },
  {
   "cell_type": "code",
   "execution_count": 471,
   "id": "db26b4c7-b206-4d77-82d3-76e9cdf1e6f0",
   "metadata": {},
   "outputs": [
    {
     "data": {
      "text/plain": [
       "array([0, 5, 1, 6, 2, 7, 3, 8, 4, 9])"
      ]
     },
     "execution_count": 471,
     "metadata": {},
     "output_type": "execute_result"
    }
   ],
   "source": [
    "a.ravel(order='F') #  将order指定为'F'，会在行方向上对值进行读取"
   ]
  },
  {
   "cell_type": "code",
   "execution_count": 472,
   "id": "1cb4212b-8b41-43db-a846-a4b37206589e",
   "metadata": {},
   "outputs": [
    {
     "data": {
      "text/plain": [
       "array([0, 1, 2, 3, 4, 5, 6, 7, 8, 9])"
      ]
     },
     "execution_count": 472,
     "metadata": {},
     "output_type": "execute_result"
    }
   ],
   "source": [
    "a.ravel(order='A') #  因为没有以FORTRAN的风格保存元素，所以输出的是与order='C'一样的结果"
   ]
  },
  {
   "cell_type": "code",
   "execution_count": 473,
   "id": "2975dd37-d6da-40fe-a708-f8c464b4fb6d",
   "metadata": {},
   "outputs": [
    {
     "data": {
      "text/plain": [
       "array([0, 1, 2, 3, 4, 5, 6, 7, 8, 9])"
      ]
     },
     "execution_count": 473,
     "metadata": {},
     "output_type": "execute_result"
    }
   ],
   "source": [
    "a.ravel(order='K') # 这里也没有对数组的shape进行修改，所以不会发生变化"
   ]
  },
  {
   "cell_type": "code",
   "execution_count": 474,
   "id": "24842f24-4826-4777-859e-debb89774ee2",
   "metadata": {},
   "outputs": [
    {
     "data": {
      "text/plain": [
       "array([[0, 2, 4, 6, 8],\n",
       "       [1, 3, 5, 7, 9]])"
      ]
     },
     "execution_count": 474,
     "metadata": {},
     "output_type": "execute_result"
    }
   ],
   "source": [
    "b = np.arange(10).reshape(2,5, order='F')\n",
    "b"
   ]
  },
  {
   "cell_type": "code",
   "execution_count": 475,
   "id": "3cb54a9c-214a-4dfc-a1c7-9d8fbcdf2bac",
   "metadata": {},
   "outputs": [
    {
     "data": {
      "text/plain": [
       "array([0, 1, 2, 3, 4, 5, 6, 7, 8, 9])"
      ]
     },
     "execution_count": 475,
     "metadata": {},
     "output_type": "execute_result"
    }
   ],
   "source": [
    "b.ravel(order='F') # 变成连号"
   ]
  },
  {
   "cell_type": "code",
   "execution_count": 476,
   "id": "676d0314-e33b-4277-a3ab-ba246160b011",
   "metadata": {},
   "outputs": [
    {
     "data": {
      "text/plain": [
       "array([0, 1, 2, 3, 4, 5, 6, 7, 8, 9])"
      ]
     },
     "execution_count": 476,
     "metadata": {},
     "output_type": "execute_result"
    }
   ],
   "source": [
    "b.ravel(order='A')"
   ]
  },
  {
   "cell_type": "code",
   "execution_count": 477,
   "id": "07d474ed-d2ca-49f4-8df5-f08a4b30524e",
   "metadata": {},
   "outputs": [
    {
     "data": {
      "text/plain": [
       "array([0, 2, 4, 6, 8, 1, 3, 5, 7, 9])"
      ]
     },
     "execution_count": 477,
     "metadata": {},
     "output_type": "execute_result"
    }
   ],
   "source": [
    "b.ravel() #指定order='C'，在列方向上读取"
   ]
  },
  {
   "cell_type": "code",
   "execution_count": 478,
   "id": "ef853632-b5e1-4af9-9cb6-25d45e2635df",
   "metadata": {},
   "outputs": [],
   "source": [
    "c = b.T"
   ]
  },
  {
   "cell_type": "code",
   "execution_count": 479,
   "id": "d654bad7-454d-4943-b0cc-95fd69317cef",
   "metadata": {},
   "outputs": [
    {
     "data": {
      "text/plain": [
       "array([0, 1, 2, 3, 4, 5, 6, 7, 8, 9])"
      ]
     },
     "execution_count": 479,
     "metadata": {},
     "output_type": "execute_result"
    }
   ],
   "source": [
    "c.ravel() #变成连号"
   ]
  },
  {
   "cell_type": "code",
   "execution_count": 480,
   "id": "af265581-b4b6-4b10-9a30-cedadccfc6d4",
   "metadata": {},
   "outputs": [
    {
     "data": {
      "text/plain": [
       "array([0, 1, 2, 3, 4, 5, 6, 7, 8, 9])"
      ]
     },
     "execution_count": 480,
     "metadata": {},
     "output_type": "execute_result"
    }
   ],
   "source": [
    "c.ravel(order='K') # 按照内存的顺序读取"
   ]
  },
  {
   "cell_type": "code",
   "execution_count": 481,
   "id": "a0a6c16d-fedf-451c-b808-157decb8e3f1",
   "metadata": {},
   "outputs": [
    {
     "data": {
      "text/plain": [
       "array([0, 1, 2, 3, 4, 5, 6, 7, 8, 9])"
      ]
     },
     "execution_count": 481,
     "metadata": {},
     "output_type": "execute_result"
    }
   ],
   "source": [
    "c.T.ravel(order='K')"
   ]
  },
  {
   "cell_type": "markdown",
   "id": "8048c8d8-05a3-47e7-a1bd-71928beb6099",
   "metadata": {},
   "source": [
    "## 2.24 像铺瓷砖一样铺数组的函数"
   ]
  },
  {
   "cell_type": "markdown",
   "id": "df6bf1e6-1fab-406a-b528-f3a0ebf9e8e5",
   "metadata": {},
   "source": [
    "### 2.24.1 np.tile"
   ]
  },
  {
   "cell_type": "code",
   "execution_count": 482,
   "id": "945e6516-a582-42c3-a997-d0f04ee6949d",
   "metadata": {},
   "outputs": [],
   "source": [
    "import numpy as np"
   ]
  },
  {
   "cell_type": "code",
   "execution_count": 483,
   "id": "b8be79b7-7348-4f50-a28a-ca014aa49edc",
   "metadata": {},
   "outputs": [],
   "source": [
    "a = np.array([0, 1, 2])"
   ]
  },
  {
   "cell_type": "code",
   "execution_count": 484,
   "id": "dfe8ce52-7467-494b-b66e-35f8e355645e",
   "metadata": {},
   "outputs": [
    {
     "data": {
      "text/plain": [
       "array([0, 1, 2, 0, 1, 2])"
      ]
     },
     "execution_count": 484,
     "metadata": {},
     "output_type": "execute_result"
    }
   ],
   "source": [
    "np.tile(a, 2) # 将一维数组重复两次"
   ]
  },
  {
   "cell_type": "code",
   "execution_count": 485,
   "id": "832f2533-a64e-4388-a146-c21fb231c327",
   "metadata": {},
   "outputs": [
    {
     "data": {
      "text/plain": [
       "array([[0, 1, 2, 0, 1, 2],\n",
       "       [0, 1, 2, 0, 1, 2],\n",
       "       [0, 1, 2, 0, 1, 2]])"
      ]
     },
     "execution_count": 485,
     "metadata": {},
     "output_type": "execute_result"
    }
   ],
   "source": [
    "np.tile(a, (3, 2)) # 3×2的二维数组的元素都是由数组a构成的"
   ]
  },
  {
   "cell_type": "code",
   "execution_count": 486,
   "id": "23cd8769-068f-4fe1-b30c-ebfea95c51cd",
   "metadata": {},
   "outputs": [
    {
     "data": {
      "text/plain": [
       "array([[[0, 1, 2, 0, 1, 2, 0, 1, 2, 0, 1, 2],\n",
       "        [0, 1, 2, 0, 1, 2, 0, 1, 2, 0, 1, 2],\n",
       "        [0, 1, 2, 0, 1, 2, 0, 1, 2, 0, 1, 2]],\n",
       "\n",
       "       [[0, 1, 2, 0, 1, 2, 0, 1, 2, 0, 1, 2],\n",
       "        [0, 1, 2, 0, 1, 2, 0, 1, 2, 0, 1, 2],\n",
       "        [0, 1, 2, 0, 1, 2, 0, 1, 2, 0, 1, 2]]])"
      ]
     },
     "execution_count": 486,
     "metadata": {},
     "output_type": "execute_result"
    }
   ],
   "source": [
    "np.tile(a, (2, 3, 4)) # 还可以铺成三维数组"
   ]
  },
  {
   "cell_type": "code",
   "execution_count": 487,
   "id": "88d422a1-2859-4cfb-b177-f51faf677d2d",
   "metadata": {},
   "outputs": [],
   "source": [
    "b = np.arange(6).reshape(2, 3) # 平铺二维矩阵"
   ]
  },
  {
   "cell_type": "code",
   "execution_count": 488,
   "id": "3bf0408d-92a2-4a98-a2c0-a540f3ea662f",
   "metadata": {},
   "outputs": [
    {
     "data": {
      "text/plain": [
       "array([[0, 1, 2, 0, 1, 2],\n",
       "       [3, 4, 5, 3, 4, 5]])"
      ]
     },
     "execution_count": 488,
     "metadata": {},
     "output_type": "execute_result"
    }
   ],
   "source": [
    "np.tile(b, 2)"
   ]
  },
  {
   "cell_type": "code",
   "execution_count": 489,
   "id": "bcc56738-0022-46bd-a598-a06989156f22",
   "metadata": {},
   "outputs": [
    {
     "data": {
      "text/plain": [
       "array([[0, 1, 2, 0, 1, 2, 0, 1, 2],\n",
       "       [3, 4, 5, 3, 4, 5, 3, 4, 5],\n",
       "       [0, 1, 2, 0, 1, 2, 0, 1, 2],\n",
       "       [3, 4, 5, 3, 4, 5, 3, 4, 5]])"
      ]
     },
     "execution_count": 489,
     "metadata": {},
     "output_type": "execute_result"
    }
   ],
   "source": [
    "np.tile(b, (2, 3))"
   ]
  },
  {
   "cell_type": "code",
   "execution_count": 490,
   "id": "52146f81-1b9c-431f-a071-7e66d3abf837",
   "metadata": {},
   "outputs": [
    {
     "data": {
      "text/plain": [
       "array([[[0, 1, 2],\n",
       "        [3, 4, 5]],\n",
       "\n",
       "       [[0, 1, 2],\n",
       "        [3, 4, 5]]])"
      ]
     },
     "execution_count": 490,
     "metadata": {},
     "output_type": "execute_result"
    }
   ],
   "source": [
    "np.tile(b, (2, 1, 1))"
   ]
  },
  {
   "cell_type": "markdown",
   "id": "c8e1e638-f659-44b8-8829-64f71f51d59c",
   "metadata": {},
   "source": [
    "### 2.24.2 np.tile与广播"
   ]
  },
  {
   "cell_type": "code",
   "execution_count": 491,
   "id": "39dadfb3-3a02-4102-a125-2c054fea2588",
   "metadata": {},
   "outputs": [],
   "source": [
    "a = np.arange(10000).reshape(-1, 1)"
   ]
  },
  {
   "cell_type": "code",
   "execution_count": 492,
   "id": "b5f56c90-3779-4032-84d1-7d5be7a25308",
   "metadata": {},
   "outputs": [],
   "source": [
    "b = np.arange(10000)"
   ]
  },
  {
   "cell_type": "code",
   "execution_count": 493,
   "id": "6fcb53f9-834a-4ebe-9608-b92739f232d5",
   "metadata": {},
   "outputs": [
    {
     "name": "stdout",
     "output_type": "stream",
     "text": [
      "83 ms ± 838 µs per loop (mean ± std. dev. of 7 runs, 10 loops each)\n"
     ]
    }
   ],
   "source": [
    "%timeit a*b"
   ]
  },
  {
   "cell_type": "code",
   "execution_count": 494,
   "id": "f900d333-c5f8-4785-9154-72762a7a05de",
   "metadata": {},
   "outputs": [
    {
     "name": "stdout",
     "output_type": "stream",
     "text": [
      "453 ms ± 11.8 ms per loop (mean ± std. dev. of 7 runs, 1 loop each)\n"
     ]
    }
   ],
   "source": [
    "%timeit np.tile(a, (1, 10000))*np.tile(b, (10000, 1))"
   ]
  },
  {
   "cell_type": "code",
   "execution_count": 495,
   "id": "944264ed-7d40-4301-a7fe-ea822cef37d0",
   "metadata": {},
   "outputs": [],
   "source": [
    "c = np.random.rand(10)"
   ]
  },
  {
   "cell_type": "code",
   "execution_count": 496,
   "id": "3dc34df2-1d6c-4515-ba42-f40bbf6dd1b9",
   "metadata": {},
   "outputs": [],
   "source": [
    "b = np.array([0, 1, 0, 2, 1])"
   ]
  },
  {
   "cell_type": "code",
   "execution_count": 497,
   "id": "cb477dc3-ea97-47ac-ad20-c26d4639f32b",
   "metadata": {},
   "outputs": [],
   "source": [
    "b = np.tile(b, 2)"
   ]
  },
  {
   "cell_type": "code",
   "execution_count": 498,
   "id": "a0162af3-955f-468d-bc3a-bbf3fde11e16",
   "metadata": {},
   "outputs": [
    {
     "data": {
      "text/plain": [
       "array([0.        , 0.32170444, 0.        , 0.78855513, 0.3492746 ,\n",
       "       0.        , 0.05174207, 0.        , 0.43613554, 0.24248212])"
      ]
     },
     "execution_count": 498,
     "metadata": {},
     "output_type": "execute_result"
    }
   ],
   "source": [
    "c * b"
   ]
  },
  {
   "cell_type": "code",
   "execution_count": 499,
   "id": "58392231-f34c-4d30-8f55-08c0806e330b",
   "metadata": {},
   "outputs": [],
   "source": [
    "b = np.array([0, 1, 0, 2, 1])"
   ]
  },
  {
   "cell_type": "code",
   "execution_count": 500,
   "id": "256256e5-1bb4-462b-9c70-42163c8ca743",
   "metadata": {},
   "outputs": [],
   "source": [
    "# c * b #ValueError: operands could not be broadcast together with shapes (10,) (5,) "
   ]
  },
  {
   "cell_type": "markdown",
   "id": "541e0756-25aa-4155-994e-081bac40363c",
   "metadata": {},
   "source": [
    "## 2.25 为数组增加维度的对象"
   ]
  },
  {
   "cell_type": "markdown",
   "id": "4569c629-bed9-4af5-9009-845a005f86ad",
   "metadata": {},
   "source": [
    "### 2.25.1 使用np.newaxis对象增加维度"
   ]
  },
  {
   "cell_type": "code",
   "execution_count": 501,
   "id": "20b049c6-1577-4d6b-9b7c-f1e43e612f86",
   "metadata": {},
   "outputs": [],
   "source": [
    "import numpy as np"
   ]
  },
  {
   "cell_type": "code",
   "execution_count": 502,
   "id": "88308c13-89f1-41cc-a51a-d56cf39b7b17",
   "metadata": {},
   "outputs": [
    {
     "data": {
      "text/plain": [
       "True"
      ]
     },
     "execution_count": 502,
     "metadata": {},
     "output_type": "execute_result"
    }
   ],
   "source": [
    "np.newaxis is None"
   ]
  },
  {
   "cell_type": "code",
   "execution_count": 503,
   "id": "694bcb36-0576-44cd-a4e2-c815e80aa0d1",
   "metadata": {},
   "outputs": [
    {
     "data": {
      "text/plain": [
       "array([[ 0,  1,  2,  3,  4],\n",
       "       [ 5,  6,  7,  8,  9],\n",
       "       [10, 11, 12, 13, 14]])"
      ]
     },
     "execution_count": 503,
     "metadata": {},
     "output_type": "execute_result"
    }
   ],
   "source": [
    "x = np.arange(15).reshape(3, 5)\n",
    "x"
   ]
  },
  {
   "cell_type": "code",
   "execution_count": 504,
   "id": "30f75ae0-f36b-4cc1-9560-8deb7329b1f4",
   "metadata": {},
   "outputs": [
    {
     "data": {
      "text/plain": [
       "array([[[ 0,  1,  2,  3,  4],\n",
       "        [ 5,  6,  7,  8,  9],\n",
       "        [10, 11, 12, 13, 14]]])"
      ]
     },
     "execution_count": 504,
     "metadata": {},
     "output_type": "execute_result"
    }
   ],
   "source": [
    "x[np.newaxis, :, :] # 增加一个维度并执行切片操作"
   ]
  },
  {
   "cell_type": "code",
   "execution_count": 505,
   "id": "4eae224e-6d28-4ccc-a5cb-22b48ac6ce94",
   "metadata": {},
   "outputs": [
    {
     "data": {
      "text/plain": [
       "array([[[ 0,  1,  2,  3,  4]],\n",
       "\n",
       "       [[ 5,  6,  7,  8,  9]],\n",
       "\n",
       "       [[10, 11, 12, 13, 14]]])"
      ]
     },
     "execution_count": 505,
     "metadata": {},
     "output_type": "execute_result"
    }
   ],
   "source": [
    "x[:, np.newaxis, :] # 还可以在axis=1方向上增加"
   ]
  },
  {
   "cell_type": "code",
   "execution_count": 506,
   "id": "1d73d82b-2bcd-48a9-bcfd-6f5683a84578",
   "metadata": {},
   "outputs": [
    {
     "data": {
      "text/plain": [
       "array([[[ 0,  1,  2,  3,  4]],\n",
       "\n",
       "       [[ 5,  6,  7,  8,  9]],\n",
       "\n",
       "       [[10, 11, 12, 13, 14]]])"
      ]
     },
     "execution_count": 506,
     "metadata": {},
     "output_type": "execute_result"
    }
   ],
   "source": [
    "x[:, None, :] #还可以使用None替代"
   ]
  },
  {
   "cell_type": "code",
   "execution_count": 507,
   "id": "e356b881-0088-41f3-b67b-8d35108ff0a9",
   "metadata": {},
   "outputs": [],
   "source": [
    "x = x.flatten()"
   ]
  },
  {
   "cell_type": "code",
   "execution_count": 508,
   "id": "1836bbf9-4c21-4212-9498-55014d7672c6",
   "metadata": {},
   "outputs": [
    {
     "data": {
      "text/plain": [
       "array([ 0,  1,  2,  3,  4,  5,  6,  7,  8,  9, 10, 11, 12, 13, 14])"
      ]
     },
     "execution_count": 508,
     "metadata": {},
     "output_type": "execute_result"
    }
   ],
   "source": [
    "x # 将x转换成一维数组"
   ]
  },
  {
   "cell_type": "code",
   "execution_count": 509,
   "id": "06b13532-4421-491c-805d-3035815beab7",
   "metadata": {},
   "outputs": [
    {
     "data": {
      "text/plain": [
       "array([[ 0],\n",
       "       [ 1],\n",
       "       [ 2],\n",
       "       [ 3],\n",
       "       [ 4],\n",
       "       [ 5],\n",
       "       [ 6],\n",
       "       [ 7],\n",
       "       [ 8],\n",
       "       [ 9],\n",
       "       [10],\n",
       "       [11],\n",
       "       [12],\n",
       "       [13],\n",
       "       [14]])"
      ]
     },
     "execution_count": 509,
     "metadata": {},
     "output_type": "execute_result"
    }
   ],
   "source": [
    "x[:, np.newaxis] #将x设置为列向量"
   ]
  },
  {
   "cell_type": "markdown",
   "id": "2bfb5edf-b40a-4ee9-93a9-94043bbc3d65",
   "metadata": {},
   "source": [
    "### 2.25.2 使用np.reshape替代np.newaxis对象"
   ]
  },
  {
   "cell_type": "code",
   "execution_count": 510,
   "id": "164a70d6-6061-4fb7-a170-a1fa5b5cb3c4",
   "metadata": {},
   "outputs": [],
   "source": [
    "x = np.arange(15).reshape(3, 5) #  再次生成x"
   ]
  },
  {
   "cell_type": "code",
   "execution_count": 511,
   "id": "1b8ccd31-1515-4cf6-b2a6-9cc348ef76c6",
   "metadata": {},
   "outputs": [
    {
     "data": {
      "text/plain": [
       "array([[[ 0,  1,  2,  3,  4],\n",
       "        [ 5,  6,  7,  8,  9],\n",
       "        [10, 11, 12, 13, 14]]])"
      ]
     },
     "execution_count": 511,
     "metadata": {},
     "output_type": "execute_result"
    }
   ],
   "source": [
    "np.reshape(x, (1, 3, 5)) # x[np.newaxis, :,:]"
   ]
  },
  {
   "cell_type": "code",
   "execution_count": 512,
   "id": "659e025a-5468-4f32-83ed-92e267fd4781",
   "metadata": {},
   "outputs": [
    {
     "data": {
      "text/plain": [
       "array([[[ 0,  1,  2,  3,  4]],\n",
       "\n",
       "       [[ 5,  6,  7,  8,  9]],\n",
       "\n",
       "       [[10, 11, 12, 13, 14]]])"
      ]
     },
     "execution_count": 512,
     "metadata": {},
     "output_type": "execute_result"
    }
   ],
   "source": [
    "np.reshape(x, (3, 1, 5)) # x[:, np.newaxis, :]"
   ]
  },
  {
   "cell_type": "code",
   "execution_count": 513,
   "id": "57596999-ae2f-45cd-9dd5-9009f35466d4",
   "metadata": {},
   "outputs": [],
   "source": [
    "x = x.flatten() # 转换成一维数组"
   ]
  },
  {
   "cell_type": "code",
   "execution_count": 514,
   "id": "6b257579-b2af-4722-8da8-7040d048a6c0",
   "metadata": {},
   "outputs": [
    {
     "data": {
      "text/plain": [
       "array([[ 0],\n",
       "       [ 1],\n",
       "       [ 2],\n",
       "       [ 3],\n",
       "       [ 4],\n",
       "       [ 5],\n",
       "       [ 6],\n",
       "       [ 7],\n",
       "       [ 8],\n",
       "       [ 9],\n",
       "       [10],\n",
       "       [11],\n",
       "       [12],\n",
       "       [13],\n",
       "       [14]])"
      ]
     },
     "execution_count": 514,
     "metadata": {},
     "output_type": "execute_result"
    }
   ],
   "source": [
    "np.reshape(x, (-1, 1)) # x[:, np.newaxis]"
   ]
  },
  {
   "cell_type": "markdown",
   "id": "a5b0b123-a481-4a50-b2b3-cc0463c2a86b",
   "metadata": {},
   "source": [
    "## 2.26 数组元素的差分与求和函数"
   ]
  },
  {
   "cell_type": "markdown",
   "id": "f481ecf5-f346-4b31-af04-760d80c21bf7",
   "metadata": {},
   "source": [
    "### 2.26.1 np.diff"
   ]
  },
  {
   "cell_type": "code",
   "execution_count": 515,
   "id": "1b3c3092-aa97-403d-873d-d91321667d5c",
   "metadata": {},
   "outputs": [],
   "source": [
    "import numpy as np"
   ]
  },
  {
   "cell_type": "code",
   "execution_count": 516,
   "id": "b3e267b3-31ae-4e05-9aca-5c5758bebc2f",
   "metadata": {},
   "outputs": [],
   "source": [
    "a = np.array([1, 2, 4, 1, 6, 8, 3]) # 准备一个任意排列的数组"
   ]
  },
  {
   "cell_type": "code",
   "execution_count": 517,
   "id": "5a0fc715-e647-4fd2-9737-b7d14b275da7",
   "metadata": {},
   "outputs": [
    {
     "data": {
      "text/plain": [
       "array([ 1,  2, -3,  5,  2, -5])"
      ]
     },
     "execution_count": 517,
     "metadata": {},
     "output_type": "execute_result"
    }
   ],
   "source": [
    "np.diff(a, n=1) # 首先指定n=1"
   ]
  },
  {
   "cell_type": "code",
   "execution_count": 518,
   "id": "beaeee3a-ad23-4425-bbcf-e24877b2f4ce",
   "metadata": {},
   "outputs": [
    {
     "data": {
      "text/plain": [
       "array([ 1, -5,  8, -3, -7])"
      ]
     },
     "execution_count": 518,
     "metadata": {},
     "output_type": "execute_result"
    }
   ],
   "source": [
    "np.diff(a, n=2) # 其次指定n=2"
   ]
  },
  {
   "cell_type": "code",
   "execution_count": 519,
   "id": "1afb153f-4edf-4799-8a3c-83cc3c849488",
   "metadata": {},
   "outputs": [
    {
     "data": {
      "text/plain": [
       "array([ -6,  13, -11,  -4])"
      ]
     },
     "execution_count": 519,
     "metadata": {},
     "output_type": "execute_result"
    }
   ],
   "source": [
    "np.diff(a, n=3) # 之后指定n=3"
   ]
  },
  {
   "cell_type": "code",
   "execution_count": 520,
   "id": "171149d7-12cb-4c2b-b6f1-cc55dbc0f75d",
   "metadata": {},
   "outputs": [
    {
     "data": {
      "text/plain": [
       "array([ 19, -24,   7])"
      ]
     },
     "execution_count": 520,
     "metadata": {},
     "output_type": "execute_result"
    }
   ],
   "source": [
    "np.diff(a, n=4) #  最后指定n=4"
   ]
  },
  {
   "cell_type": "code",
   "execution_count": 521,
   "id": "a042b8ba-e44f-478a-84c6-e44f6275d955",
   "metadata": {},
   "outputs": [
    {
     "data": {
      "text/plain": [
       "array([[0, 0, 4, 3, 7],\n",
       "       [9, 7, 3, 9, 5],\n",
       "       [0, 4, 7, 5, 3],\n",
       "       [2, 6, 3, 4, 8],\n",
       "       [3, 2, 0, 9, 3]])"
      ]
     },
     "execution_count": 521,
     "metadata": {},
     "output_type": "execute_result"
    }
   ],
   "source": [
    "b = np.random.randint(10, size=(5, 5))\n",
    "b"
   ]
  },
  {
   "cell_type": "code",
   "execution_count": 522,
   "id": "b384ac9c-8215-400f-8899-3fc3adc38488",
   "metadata": {},
   "outputs": [
    {
     "data": {
      "text/plain": [
       "array([[ 0,  4, -1,  4],\n",
       "       [-2, -4,  6, -4],\n",
       "       [ 4,  3, -2, -2],\n",
       "       [ 4, -3,  1,  4],\n",
       "       [-1, -2,  9, -6]])"
      ]
     },
     "execution_count": 522,
     "metadata": {},
     "output_type": "execute_result"
    }
   ],
   "source": [
    "np.diff(b, axis=-1) # 和axis=1的意思一样"
   ]
  },
  {
   "cell_type": "code",
   "execution_count": 523,
   "id": "36a1f27e-fe41-4b3d-9094-0740a0ce7fdb",
   "metadata": {},
   "outputs": [
    {
     "data": {
      "text/plain": [
       "array([[ 9,  7, -1,  6, -2],\n",
       "       [-9, -3,  4, -4, -2],\n",
       "       [ 2,  2, -4, -1,  5],\n",
       "       [ 1, -4, -3,  5, -5]])"
      ]
     },
     "execution_count": 523,
     "metadata": {},
     "output_type": "execute_result"
    }
   ],
   "source": [
    "np.diff(b, axis=0) # 之后指定行方向"
   ]
  },
  {
   "cell_type": "code",
   "execution_count": 524,
   "id": "a4489aff-d007-47c6-bdc4-020e45cd5d71",
   "metadata": {},
   "outputs": [
    {
     "data": {
      "text/plain": [
       "array([[  4,  -5,   5],\n",
       "       [ -2,  10, -10],\n",
       "       [ -1,  -5,   0],\n",
       "       [ -7,   4,   3],\n",
       "       [ -1,  11, -15]])"
      ]
     },
     "execution_count": 524,
     "metadata": {},
     "output_type": "execute_result"
    }
   ],
   "source": [
    "np.diff(b, axis=1, n=2) # 指定n=2"
   ]
  },
  {
   "cell_type": "markdown",
   "id": "9040faae-42cc-4a44-aeaa-132d85679f2d",
   "metadata": {},
   "source": [
    "### 2.26.3 np.ndarray.cumsum"
   ]
  },
  {
   "cell_type": "code",
   "execution_count": 525,
   "id": "229f614a-842f-42d8-9e02-1f55fdb599d3",
   "metadata": {},
   "outputs": [
    {
     "data": {
      "text/plain": [
       "array([8, 7, 6, 0, 8, 2, 3, 3, 6, 4, 8, 1, 3, 9, 9, 2, 8, 4, 2, 2])"
      ]
     },
     "execution_count": 525,
     "metadata": {},
     "output_type": "execute_result"
    }
   ],
   "source": [
    "a = np.random.randint(10, size=20) # 生成20个0～9的随机数\n",
    "a"
   ]
  },
  {
   "cell_type": "code",
   "execution_count": 526,
   "id": "5191697d-08ae-4c9d-b4ba-1a21fd0da1b0",
   "metadata": {},
   "outputs": [
    {
     "data": {
      "text/plain": [
       "array([ 8, 15, 21, 21, 29, 31, 34, 37, 43, 47, 55, 56, 59, 68, 77, 79, 87,\n",
       "       91, 93, 95])"
      ]
     },
     "execution_count": 526,
     "metadata": {},
     "output_type": "execute_result"
    }
   ],
   "source": [
    "np.cumsum(a) # 首先进行简单的求和计算"
   ]
  },
  {
   "cell_type": "code",
   "execution_count": 527,
   "id": "4de52f4d-7479-4cd2-9de1-a1862973637d",
   "metadata": {},
   "outputs": [
    {
     "data": {
      "text/plain": [
       "array([ 8, 15, 21, 21, 29, 31, 34, 37, 43, 47, 55, 56, 59, 68, 77, 79, 87,\n",
       "       91, 93, 95])"
      ]
     },
     "execution_count": 527,
     "metadata": {},
     "output_type": "execute_result"
    }
   ],
   "source": [
    "a.cumsum() #这样使用也是没有问题的"
   ]
  },
  {
   "cell_type": "code",
   "execution_count": 528,
   "id": "988572b8-47c0-4d4d-8eac-c2abb64d1826",
   "metadata": {},
   "outputs": [
    {
     "data": {
      "text/plain": [
       "array([ 8., 15., 21., 21., 29., 31., 34., 37., 43., 47., 55., 56., 59.,\n",
       "       68., 77., 79., 87., 91., 93., 95.], dtype=float32)"
      ]
     },
     "execution_count": 528,
     "metadata": {},
     "output_type": "execute_result"
    }
   ],
   "source": [
    "np.cumsum(a, dtype='float32') #将dtype指定为float32"
   ]
  },
  {
   "cell_type": "code",
   "execution_count": 529,
   "id": "526663f1-cce3-4577-954e-bb38e89ca74c",
   "metadata": {},
   "outputs": [
    {
     "data": {
      "text/plain": [
       "array([ 8., 15., 21., 21., 29., 31., 34., 37., 43., 47., 55., 56., 59.,\n",
       "       68., 77., 79., 87., 91., 93., 95.], dtype=float32)"
      ]
     },
     "execution_count": 529,
     "metadata": {},
     "output_type": "execute_result"
    }
   ],
   "source": [
    "a.cumsum(dtype='float32')"
   ]
  },
  {
   "cell_type": "code",
   "execution_count": 530,
   "id": "3b5c448e-033e-48ed-bb89-db50864c043d",
   "metadata": {},
   "outputs": [],
   "source": [
    "b = np.random.rand(3, 4)*10"
   ]
  },
  {
   "cell_type": "code",
   "execution_count": 531,
   "id": "11215c65-d67a-41b5-abc6-2c245349a10b",
   "metadata": {},
   "outputs": [
    {
     "data": {
      "text/plain": [
       "array([6, 0, 6, 0, 8, 1, 5, 6, 5, 8], dtype=int8)"
      ]
     },
     "execution_count": 531,
     "metadata": {},
     "output_type": "execute_result"
    }
   ],
   "source": [
    "c = np.random.randint(10, size=10, dtype='int8')\n",
    "c"
   ]
  },
  {
   "cell_type": "code",
   "execution_count": 532,
   "id": "77df00a4-bfa2-47a8-a170-c99e28216e0d",
   "metadata": {},
   "outputs": [
    {
     "data": {
      "text/plain": [
       "array([ 6,  6, 12, 12, 20, 21, 26, 32, 37, 45])"
      ]
     },
     "execution_count": 532,
     "metadata": {},
     "output_type": "execute_result"
    }
   ],
   "source": [
    "c.cumsum() #  如果不特别对dtype进行指定"
   ]
  },
  {
   "cell_type": "code",
   "execution_count": 533,
   "id": "86dede75-6cf0-4ea3-907d-8d95c02ad9b9",
   "metadata": {},
   "outputs": [
    {
     "data": {
      "text/plain": [
       "dtype('int32')"
      ]
     },
     "execution_count": 533,
     "metadata": {},
     "output_type": "execute_result"
    }
   ],
   "source": [
    "c.cumsum().dtype #  会自动变成int64"
   ]
  },
  {
   "cell_type": "code",
   "execution_count": 534,
   "id": "8ca1f5bd-3fea-4412-85b3-f3ef15968c4d",
   "metadata": {},
   "outputs": [],
   "source": [
    "d = c.cumsum(dtype='int8') # 如果对dtype进行了指定，就不会出现上面这种情况"
   ]
  },
  {
   "cell_type": "code",
   "execution_count": 535,
   "id": "84a8e8f7-dc15-47e5-b110-819f270d9251",
   "metadata": {},
   "outputs": [
    {
     "data": {
      "text/plain": [
       "dtype('int8')"
      ]
     },
     "execution_count": 535,
     "metadata": {},
     "output_type": "execute_result"
    }
   ],
   "source": [
    "d.dtype"
   ]
  },
  {
   "cell_type": "code",
   "execution_count": 536,
   "id": "3133f504-7673-4b94-97dc-3caf5ebe90c8",
   "metadata": {},
   "outputs": [
    {
     "data": {
      "text/plain": [
       "array([[0.8681738 , 7.93976326, 3.91173293, 3.40010608],\n",
       "       [9.42814904, 9.14304697, 7.97622429, 7.68352058],\n",
       "       [1.44058859, 0.89921623, 6.4144957 , 8.09716388]])"
      ]
     },
     "execution_count": 536,
     "metadata": {},
     "output_type": "execute_result"
    }
   ],
   "source": [
    "b"
   ]
  },
  {
   "cell_type": "code",
   "execution_count": 537,
   "id": "7ae26f5f-417b-447c-bb25-201cefb63452",
   "metadata": {},
   "outputs": [
    {
     "data": {
      "text/plain": [
       "array([ 0.8681738 ,  8.80793706, 12.71966999, 16.11977607, 25.54792511,\n",
       "       34.69097208, 42.66719637, 50.35071695, 51.79130554, 52.69052177,\n",
       "       59.10501747, 67.20218135])"
      ]
     },
     "execution_count": 537,
     "metadata": {},
     "output_type": "execute_result"
    }
   ],
   "source": [
    "np.cumsum(b) #不对axis进行指定，就会得到如下结果"
   ]
  },
  {
   "cell_type": "code",
   "execution_count": 538,
   "id": "5a8ea75d-8197-4cdf-bbf4-dea7c0c10b4e",
   "metadata": {},
   "outputs": [
    {
     "data": {
      "text/plain": [
       "array([[ 0.8681738 ,  8.80793706, 12.71966999, 16.11977607],\n",
       "       [ 9.42814904, 18.57119601, 26.5474203 , 34.23094088],\n",
       "       [ 1.44058859,  2.33980482,  8.75430052, 16.8514644 ]])"
      ]
     },
     "execution_count": 538,
     "metadata": {},
     "output_type": "execute_result"
    }
   ],
   "source": [
    "np.cumsum(b, axis=1) #这样指定，就会在列方向上求和"
   ]
  },
  {
   "cell_type": "code",
   "execution_count": 539,
   "id": "b2eb22a7-3cae-49be-9dbb-68a9ade7d652",
   "metadata": {},
   "outputs": [
    {
     "data": {
      "text/plain": [
       "array([[ 0.8681738 ,  8.80793706, 12.71966999, 16.11977607],\n",
       "       [ 9.42814904, 18.57119601, 26.5474203 , 34.23094088],\n",
       "       [ 1.44058859,  2.33980482,  8.75430052, 16.8514644 ]])"
      ]
     },
     "execution_count": 539,
     "metadata": {},
     "output_type": "execute_result"
    }
   ],
   "source": [
    "b.cumsum(axis=1)"
   ]
  },
  {
   "cell_type": "code",
   "execution_count": 540,
   "id": "844eb32f-37e6-4275-b258-05e4e39ccd18",
   "metadata": {},
   "outputs": [
    {
     "data": {
      "text/plain": [
       "array([[ 0.8681738 ,  7.93976326,  3.91173293,  3.40010608],\n",
       "       [10.29632284, 17.08281022, 11.88795722, 11.08362666],\n",
       "       [11.73691143, 17.98202645, 18.30245292, 19.18079054]])"
      ]
     },
     "execution_count": 540,
     "metadata": {},
     "output_type": "execute_result"
    }
   ],
   "source": [
    "np.cumsum(b, axis=0) #  在行方向上求和"
   ]
  },
  {
   "cell_type": "code",
   "execution_count": 541,
   "id": "df668b1e-b7d1-4d54-952b-64e2aa2673bb",
   "metadata": {},
   "outputs": [
    {
     "data": {
      "text/plain": [
       "array([[ 0.8681738 ,  7.93976326,  3.91173293,  3.40010608],\n",
       "       [10.29632284, 17.08281022, 11.88795722, 11.08362666],\n",
       "       [11.73691143, 17.98202645, 18.30245292, 19.18079054]])"
      ]
     },
     "execution_count": 541,
     "metadata": {},
     "output_type": "execute_result"
    }
   ],
   "source": [
    "b.cumsum(axis=0)"
   ]
  },
  {
   "cell_type": "markdown",
   "id": "a8ef2d99-0c9a-43cd-94ec-d21f04d44cf6",
   "metadata": {},
   "source": [
    "## 2.27 用于连接多维数组的对象"
   ]
  },
  {
   "cell_type": "markdown",
   "id": "68c7a014-594e-4668-a3cf-0fd05a51aed9",
   "metadata": {},
   "source": [
    "### 2.27.1 np._和np.r_的特点"
   ]
  },
  {
   "cell_type": "markdown",
   "id": "b4ecd528-d3e3-4c8f-8bcc-46ab8577b41a",
   "metadata": {},
   "source": [
    "### 2.27.2 np.r_"
   ]
  },
  {
   "cell_type": "code",
   "execution_count": 542,
   "id": "ca9c5438-322b-4582-a942-891bfe634dfe",
   "metadata": {},
   "outputs": [],
   "source": [
    "import numpy as np"
   ]
  },
  {
   "cell_type": "code",
   "execution_count": 543,
   "id": "9b1a427c-1672-4291-acf9-c29b08d47c96",
   "metadata": {},
   "outputs": [],
   "source": [
    "a = np.array([1, 2, 3])"
   ]
  },
  {
   "cell_type": "code",
   "execution_count": 544,
   "id": "8f6ecfa0-4c0d-4a19-ab00-af025621948f",
   "metadata": {},
   "outputs": [],
   "source": [
    "b = np.array([4, 5, 6]) #  首先对一维数组进行处理"
   ]
  },
  {
   "cell_type": "code",
   "execution_count": 545,
   "id": "01534780-ec07-49dc-910b-278733a15986",
   "metadata": {},
   "outputs": [
    {
     "data": {
      "text/plain": [
       "array([1, 2, 3, 4, 5, 6])"
      ]
     },
     "execution_count": 545,
     "metadata": {},
     "output_type": "execute_result"
    }
   ],
   "source": [
    "np.r_[a, b]"
   ]
  },
  {
   "cell_type": "code",
   "execution_count": 546,
   "id": "1c4a3893-0abd-4fc6-b413-4e3a53b5071e",
   "metadata": {},
   "outputs": [
    {
     "data": {
      "text/plain": [
       "array([2. , 5. , 3. , 2. , 3. , 4.2])"
      ]
     },
     "execution_count": 546,
     "metadata": {},
     "output_type": "execute_result"
    }
   ],
   "source": [
    "np.r_[2, 5, 3, np.array([2, 3, ]), 4.2]"
   ]
  },
  {
   "cell_type": "code",
   "execution_count": 547,
   "id": "ee6008a3-e3b8-4240-8021-26228b908ac1",
   "metadata": {},
   "outputs": [],
   "source": [
    "c = np.zeros((2, 3)) # # 对二维数组进行连接。需要注意，当axis=1方向上的元素的数量不一致时，是不能进行连接的"
   ]
  },
  {
   "cell_type": "code",
   "execution_count": 548,
   "id": "d7e9a90b-55f1-40a9-bbf4-f1a34c80850e",
   "metadata": {},
   "outputs": [],
   "source": [
    "d = np.ones((3, 3)) # c中的axis=1方向上的元素数量是3个，与之对齐。axis=0方向上的元素数量可以与c中的2不一样"
   ]
  },
  {
   "cell_type": "code",
   "execution_count": 549,
   "id": "f7cd24b7-fb71-41b3-9478-bbc292b1f13f",
   "metadata": {},
   "outputs": [
    {
     "data": {
      "text/plain": [
       "array([[0., 0., 0.],\n",
       "       [0., 0., 0.],\n",
       "       [1., 1., 1.],\n",
       "       [1., 1., 1.],\n",
       "       [1., 1., 1.]])"
      ]
     },
     "execution_count": 549,
     "metadata": {},
     "output_type": "execute_result"
    }
   ],
   "source": [
    "np.r_[c, d]"
   ]
  },
  {
   "cell_type": "code",
   "execution_count": 550,
   "id": "6b6ed2fd-0574-4dcf-b3c6-62b02d0c89d2",
   "metadata": {},
   "outputs": [],
   "source": [
    "d = np.ones((3, 4))"
   ]
  },
  {
   "cell_type": "code",
   "execution_count": 551,
   "id": "48028b20-0686-40f1-80db-6fe356bfa5e5",
   "metadata": {},
   "outputs": [],
   "source": [
    "# np.r_[c, d] \"# 由于axis=1的元素数量不一致，所以发生了运行时错误"
   ]
  },
  {
   "cell_type": "code",
   "execution_count": 552,
   "id": "8bf92703-7886-4f92-9bc5-735852eeb80f",
   "metadata": {},
   "outputs": [
    {
     "data": {
      "text/plain": [
       "array([0, 1, 2, 3, 4, 5, 6, 7, 8, 9])"
      ]
     },
     "execution_count": 552,
     "metadata": {},
     "output_type": "execute_result"
    }
   ],
   "source": [
    "np.r_[0:10]"
   ]
  },
  {
   "cell_type": "code",
   "execution_count": 553,
   "id": "082d4d92-6ef6-442b-83f1-57621c47fd74",
   "metadata": {},
   "outputs": [
    {
     "data": {
      "text/plain": [
       "array([0, 1, 2, 3, 4, 5, 6, 7, 8, 9])"
      ]
     },
     "execution_count": 553,
     "metadata": {},
     "output_type": "execute_result"
    }
   ],
   "source": [
    "np.r_[:10]"
   ]
  },
  {
   "cell_type": "code",
   "execution_count": 554,
   "id": "116590e4-40c5-4337-8585-910adcad6278",
   "metadata": {},
   "outputs": [
    {
     "data": {
      "text/plain": [
       "array([], dtype=int32)"
      ]
     },
     "execution_count": 554,
     "metadata": {},
     "output_type": "execute_result"
    }
   ],
   "source": [
    "np.r_[-10:]"
   ]
  },
  {
   "cell_type": "code",
   "execution_count": 555,
   "id": "9df2492d-5483-4604-8352-7cc1400335a9",
   "metadata": {},
   "outputs": [
    {
     "data": {
      "text/plain": [
       "array([0, 2, 4, 6, 8])"
      ]
     },
     "execution_count": 555,
     "metadata": {},
     "output_type": "execute_result"
    }
   ],
   "source": [
    "np.r_[0:10:2] # 在0～9内每隔两个间隔进行显示"
   ]
  },
  {
   "cell_type": "code",
   "execution_count": 556,
   "id": "9a2ff0ab-e7a5-4a34-a8f3-37ef2eac43c0",
   "metadata": {},
   "outputs": [
    {
     "data": {
      "text/plain": [
       "array([10,  9,  8,  7,  6,  5,  4,  3,  2,  1])"
      ]
     },
     "execution_count": 556,
     "metadata": {},
     "output_type": "execute_result"
    }
   ],
   "source": [
    "np.r_[10:0:-1] # 颠倒顺序进行显示"
   ]
  },
  {
   "cell_type": "code",
   "execution_count": 557,
   "id": "3e5a7b9f-4378-4dea-917b-5c66fe24f1cf",
   "metadata": {},
   "outputs": [
    {
     "data": {
      "text/plain": [
       "array([ 0.        ,  1.11111111,  2.22222222,  3.33333333,  4.44444444,\n",
       "        5.55555556,  6.66666667,  7.77777778,  8.88888889, 10.        ])"
      ]
     },
     "execution_count": 557,
     "metadata": {},
     "output_type": "execute_result"
    }
   ],
   "source": [
    "np.r_[0:10:10j] # 分成10等份进行显示"
   ]
  },
  {
   "cell_type": "code",
   "execution_count": 558,
   "id": "adca7b7b-ee18-4873-8d68-cb3a4ae6a809",
   "metadata": {},
   "outputs": [
    {
     "data": {
      "text/plain": [
       "array([0.        , 0.47368421, 0.94736842, 1.42105263, 1.89473684,\n",
       "       2.36842105, 2.84210526, 3.31578947, 3.78947368, 4.26315789,\n",
       "       4.73684211, 5.21052632, 5.68421053, 6.15789474, 6.63157895,\n",
       "       7.10526316, 7.57894737, 8.05263158, 8.52631579, 9.        ])"
      ]
     },
     "execution_count": 558,
     "metadata": {},
     "output_type": "execute_result"
    }
   ],
   "source": [
    "np.r_[0:9:20j] # 分成20等份进行显示"
   ]
  },
  {
   "cell_type": "code",
   "execution_count": 559,
   "id": "645d5e91-ca7e-4c14-a08b-c19e3b3ef8a7",
   "metadata": {},
   "outputs": [
    {
     "data": {
      "text/plain": [
       "array([0, 1, 2, 3, 4, 5, 6, 7, 8, 9, 0, 4, 3, 3])"
      ]
     },
     "execution_count": 559,
     "metadata": {},
     "output_type": "execute_result"
    }
   ],
   "source": [
    "np.r_[0:10, 0, 4, np.array([3, 3])] #最后还可以添加数字或一维数组"
   ]
  },
  {
   "cell_type": "code",
   "execution_count": 560,
   "id": "7d0de239-3d05-48a9-9de2-4c0a91ad3ceb",
   "metadata": {},
   "outputs": [],
   "source": [
    "a = np.ones((2, 2))"
   ]
  },
  {
   "cell_type": "code",
   "execution_count": 561,
   "id": "b34489f4-459c-4540-bb96-f768b52ba511",
   "metadata": {},
   "outputs": [],
   "source": [
    "b = np.zeros((2, 2))"
   ]
  },
  {
   "cell_type": "code",
   "execution_count": 562,
   "id": "8d664a11-5b7d-4efd-bcbe-a2b9eea06de3",
   "metadata": {},
   "outputs": [
    {
     "data": {
      "text/plain": [
       "array([[1., 1., 0., 0.],\n",
       "       [1., 1., 0., 0.]])"
      ]
     },
     "execution_count": 562,
     "metadata": {},
     "output_type": "execute_result"
    }
   ],
   "source": [
    "np.r_['1', a, b] # 在axis=1（列）方向上进行连接"
   ]
  },
  {
   "cell_type": "code",
   "execution_count": 563,
   "id": "2367dee3-4389-4346-b358-bc5ff38ac6a2",
   "metadata": {},
   "outputs": [
    {
     "data": {
      "text/plain": [
       "(2, 4)"
      ]
     },
     "execution_count": 563,
     "metadata": {},
     "output_type": "execute_result"
    }
   ],
   "source": [
    "np.r_['1', a, b].shape #  若确认这个shape，就可以看到在axis=1的方向上元素的数量增加了"
   ]
  },
  {
   "cell_type": "code",
   "execution_count": 564,
   "id": "336c3412-c779-4556-89d5-21910abfd526",
   "metadata": {},
   "outputs": [
    {
     "data": {
      "text/plain": [
       "array([[1., 1.],\n",
       "       [1., 1.],\n",
       "       [0., 0.],\n",
       "       [0., 0.]])"
      ]
     },
     "execution_count": 564,
     "metadata": {},
     "output_type": "execute_result"
    }
   ],
   "source": [
    "np.r_['0', a, b] # 接着在行方向上进行连接"
   ]
  },
  {
   "cell_type": "code",
   "execution_count": 565,
   "id": "0097dcc5-8ede-4871-a82b-b005de7b23d4",
   "metadata": {},
   "outputs": [
    {
     "data": {
      "text/plain": [
       "(4, 2)"
      ]
     },
     "execution_count": 565,
     "metadata": {},
     "output_type": "execute_result"
    }
   ],
   "source": [
    "np.r_['0', a, b].shape #确认shape"
   ]
  },
  {
   "cell_type": "code",
   "execution_count": 566,
   "id": "9db55844-7095-4f72-86b1-39db240863ad",
   "metadata": {},
   "outputs": [
    {
     "data": {
      "text/plain": [
       "(4, 2)"
      ]
     },
     "execution_count": 566,
     "metadata": {},
     "output_type": "execute_result"
    }
   ],
   "source": [
    "np.r_[a, b].shape # 如果不指定a，就是a=0"
   ]
  },
  {
   "cell_type": "code",
   "execution_count": 567,
   "id": "fa746839-acbf-4415-9d28-c1bbb4684874",
   "metadata": {},
   "outputs": [],
   "source": [
    "c = np.ones((2, 2, 2)) # 然后连接三维数组"
   ]
  },
  {
   "cell_type": "code",
   "execution_count": 568,
   "id": "8c161c35-32fe-4eb6-8d51-fdb59a5d5a7b",
   "metadata": {},
   "outputs": [],
   "source": [
    "d = np.zeros((2, 2, 2))"
   ]
  },
  {
   "cell_type": "code",
   "execution_count": 569,
   "id": "7cbfcda7-72e3-457d-a98f-fa0eb21361de",
   "metadata": {},
   "outputs": [
    {
     "data": {
      "text/plain": [
       "array([[[1., 1.],\n",
       "        [1., 1.]],\n",
       "\n",
       "       [[1., 1.],\n",
       "        [1., 1.]]])"
      ]
     },
     "execution_count": 569,
     "metadata": {},
     "output_type": "execute_result"
    }
   ],
   "source": [
    "c"
   ]
  },
  {
   "cell_type": "code",
   "execution_count": 570,
   "id": "8a31f5bf-3a7b-40f0-bd3e-5d186c6d5e18",
   "metadata": {},
   "outputs": [
    {
     "data": {
      "text/plain": [
       "array([[[0., 0.],\n",
       "        [0., 0.]],\n",
       "\n",
       "       [[0., 0.],\n",
       "        [0., 0.]]])"
      ]
     },
     "execution_count": 570,
     "metadata": {},
     "output_type": "execute_result"
    }
   ],
   "source": [
    "d"
   ]
  },
  {
   "cell_type": "code",
   "execution_count": 571,
   "id": "3b9618ab-3f4a-4920-8e8c-d548677793ed",
   "metadata": {},
   "outputs": [
    {
     "data": {
      "text/plain": [
       "array([[[1., 1.],\n",
       "        [1., 1.]],\n",
       "\n",
       "       [[1., 1.],\n",
       "        [1., 1.]],\n",
       "\n",
       "       [[0., 0.],\n",
       "        [0., 0.]],\n",
       "\n",
       "       [[0., 0.],\n",
       "        [0., 0.]]])"
      ]
     },
     "execution_count": 571,
     "metadata": {},
     "output_type": "execute_result"
    }
   ],
   "source": [
    "np.r_['0', c, d] # 首先在axis=0方向上进行连接"
   ]
  },
  {
   "cell_type": "code",
   "execution_count": 572,
   "id": "248f9408-9bf8-4b5f-91f4-357615051239",
   "metadata": {},
   "outputs": [
    {
     "data": {
      "text/plain": [
       "array([[[1., 1.],\n",
       "        [1., 1.],\n",
       "        [0., 0.],\n",
       "        [0., 0.]],\n",
       "\n",
       "       [[1., 1.],\n",
       "        [1., 1.],\n",
       "        [0., 0.],\n",
       "        [0., 0.]]])"
      ]
     },
     "execution_count": 572,
     "metadata": {},
     "output_type": "execute_result"
    }
   ],
   "source": [
    "np.r_['1', c, d]"
   ]
  },
  {
   "cell_type": "code",
   "execution_count": 573,
   "id": "307b37dc-4a43-48c7-92f4-5a6820456fae",
   "metadata": {},
   "outputs": [
    {
     "data": {
      "text/plain": [
       "array([[[1., 1., 0., 0.],\n",
       "        [1., 1., 0., 0.]],\n",
       "\n",
       "       [[1., 1., 0., 0.],\n",
       "        [1., 1., 0., 0.]]])"
      ]
     },
     "execution_count": 573,
     "metadata": {},
     "output_type": "execute_result"
    }
   ],
   "source": [
    "np.r_['2', c, d]"
   ]
  },
  {
   "cell_type": "code",
   "execution_count": 574,
   "id": "4491caeb-a6c3-4e33-bf7b-8038aba2b43f",
   "metadata": {},
   "outputs": [
    {
     "data": {
      "text/plain": [
       "(4, 2, 2)"
      ]
     },
     "execution_count": 574,
     "metadata": {},
     "output_type": "execute_result"
    }
   ],
   "source": [
    "np.r_['0', c, d].shape #  将这些shape全部都确认一遍。可以看到所有的编号所对应的位置中的元素数量都增加了"
   ]
  },
  {
   "cell_type": "code",
   "execution_count": 575,
   "id": "9ff9317b-192e-4a7d-9b88-c0cc7ec2584c",
   "metadata": {},
   "outputs": [
    {
     "data": {
      "text/plain": [
       "(2, 4, 2)"
      ]
     },
     "execution_count": 575,
     "metadata": {},
     "output_type": "execute_result"
    }
   ],
   "source": [
    "np.r_['1', c, d].shape"
   ]
  },
  {
   "cell_type": "code",
   "execution_count": 576,
   "id": "e0a3da34-34f5-423d-9e0a-688ccf655948",
   "metadata": {},
   "outputs": [
    {
     "data": {
      "text/plain": [
       "(2, 2, 4)"
      ]
     },
     "execution_count": 576,
     "metadata": {},
     "output_type": "execute_result"
    }
   ],
   "source": [
    "np.r_['2', c, d].shape"
   ]
  },
  {
   "cell_type": "code",
   "execution_count": 577,
   "id": "dd843eb7-34aa-4799-8de4-2526594bf187",
   "metadata": {},
   "outputs": [
    {
     "data": {
      "text/plain": [
       "array([[0, 1, 2],\n",
       "       [3, 3, 3]])"
      ]
     },
     "execution_count": 577,
     "metadata": {},
     "output_type": "execute_result"
    }
   ],
   "source": [
    "np.r_['0,2', [0, 1, 2],[3, 3, 3]] # 在二维数组的axis=0方向上进行连接"
   ]
  },
  {
   "cell_type": "code",
   "execution_count": 578,
   "id": "fe5086c0-cc80-47fa-8380-d5f7275d0cfc",
   "metadata": {},
   "outputs": [
    {
     "data": {
      "text/plain": [
       "(2, 3)"
      ]
     },
     "execution_count": 578,
     "metadata": {},
     "output_type": "execute_result"
    }
   ],
   "source": [
    "np.r_['0, 2', [0, 1, 2], [3, 3, 3]].shape"
   ]
  },
  {
   "cell_type": "code",
   "execution_count": 579,
   "id": "53fd44d8-f862-4db3-b791-4211343e8c8a",
   "metadata": {},
   "outputs": [
    {
     "data": {
      "text/plain": [
       "array([[[0, 1, 2]],\n",
       "\n",
       "       [[3, 3, 3]]])"
      ]
     },
     "execution_count": 579,
     "metadata": {},
     "output_type": "execute_result"
    }
   ],
   "source": [
    "np.r_['0, 3', [0, 1, 2], [3, 3, 3]] #  在三维数组的axis=0方向上进行连接"
   ]
  },
  {
   "cell_type": "code",
   "execution_count": 580,
   "id": "314006ed-bbc9-4360-8313-a6c2364bf719",
   "metadata": {},
   "outputs": [
    {
     "data": {
      "text/plain": [
       "(2, 1, 3)"
      ]
     },
     "execution_count": 580,
     "metadata": {},
     "output_type": "execute_result"
    }
   ],
   "source": [
    "np.r_['0, 3', [0, 1, 2], [3, 3, 3]].shape"
   ]
  },
  {
   "cell_type": "code",
   "execution_count": 581,
   "id": "6ceb6774-45dc-4ebc-8f21-d90e220ba95e",
   "metadata": {},
   "outputs": [
    {
     "data": {
      "text/plain": [
       "array([[[[0, 1, 2, 3, 3, 3]]]])"
      ]
     },
     "execution_count": 581,
     "metadata": {},
     "output_type": "execute_result"
    }
   ],
   "source": [
    "np.r_['-1, 4', [0, 1, 2], [3, 3, 3]] # 在四维数组中也可以进行同样的操作，这里是对最低维度进行连接"
   ]
  },
  {
   "cell_type": "code",
   "execution_count": 582,
   "id": "22de5078-d82a-4233-9b83-44d9b7ec8d8a",
   "metadata": {},
   "outputs": [
    {
     "data": {
      "text/plain": [
       "(1, 1, 1, 6)"
      ]
     },
     "execution_count": 582,
     "metadata": {},
     "output_type": "execute_result"
    }
   ],
   "source": [
    "np.r_['-1, 4', [0, 1, 2], [3, 3, 3]].shape"
   ]
  },
  {
   "cell_type": "code",
   "execution_count": 583,
   "id": "b9ff4e83-a4e1-4dc7-a6af-188a642379a5",
   "metadata": {},
   "outputs": [
    {
     "data": {
      "text/plain": [
       "array([[0, 1, 2],\n",
       "       [3, 3, 3]])"
      ]
     },
     "execution_count": 583,
     "metadata": {},
     "output_type": "execute_result"
    }
   ],
   "source": [
    "np.r_['0, 2, -1', [0, 1, 2], [3, 3, 3]] # 将(3,)变成(1, 3)之后，再在axis=0方向上连接"
   ]
  },
  {
   "cell_type": "code",
   "execution_count": 584,
   "id": "e3e15d9e-1ba3-4660-b5f1-812ba1c1eb26",
   "metadata": {},
   "outputs": [
    {
     "data": {
      "text/plain": [
       "(2, 3)"
      ]
     },
     "execution_count": 584,
     "metadata": {},
     "output_type": "execute_result"
    }
   ],
   "source": [
    "np.r_['0, 2, -1', [0, 1, 2], [3, 3, 3]].shape"
   ]
  },
  {
   "cell_type": "code",
   "execution_count": 585,
   "id": "bb7a90da-764a-426e-90c4-430ecf06ceb4",
   "metadata": {},
   "outputs": [
    {
     "data": {
      "text/plain": [
       "array([[0],\n",
       "       [1],\n",
       "       [2],\n",
       "       [3],\n",
       "       [3],\n",
       "       [3]])"
      ]
     },
     "execution_count": 585,
     "metadata": {},
     "output_type": "execute_result"
    }
   ],
   "source": [
    "np.r_['0, 2, 0', [0, 1, 2], [3, 3, 3]] # 将(3,)变成(3, 1)之后，再在axis=0方向上连接"
   ]
  },
  {
   "cell_type": "code",
   "execution_count": 586,
   "id": "b0c58181-73ff-4dca-b7cc-c6f5967896f0",
   "metadata": {},
   "outputs": [
    {
     "data": {
      "text/plain": [
       "(6, 1)"
      ]
     },
     "execution_count": 586,
     "metadata": {},
     "output_type": "execute_result"
    }
   ],
   "source": [
    "np.r_['0, 2, 0', [0, 1, 2], [3, 3, 3]].shape"
   ]
  },
  {
   "cell_type": "code",
   "execution_count": 587,
   "id": "b2255d98-07ee-4fc0-a9ad-62cc440d2a0b",
   "metadata": {},
   "outputs": [
    {
     "data": {
      "text/plain": [
       "array([[[0]],\n",
       "\n",
       "       [[1]],\n",
       "\n",
       "       [[2]],\n",
       "\n",
       "       [[3]],\n",
       "\n",
       "       [[3]],\n",
       "\n",
       "       [[3]]])"
      ]
     },
     "execution_count": 587,
     "metadata": {},
     "output_type": "execute_result"
    }
   ],
   "source": [
    "np.r_['0, 3, 0', [0, 1, 2], [3, 3, 3]] #  三维数组也可以进行同样的操作。例如 ：(3,)→(3, 1, 1)"
   ]
  },
  {
   "cell_type": "code",
   "execution_count": 588,
   "id": "793cce64-05d7-4184-b3ce-f20126ec2d3e",
   "metadata": {},
   "outputs": [
    {
     "data": {
      "text/plain": [
       "(6, 1, 1)"
      ]
     },
     "execution_count": 588,
     "metadata": {},
     "output_type": "execute_result"
    }
   ],
   "source": [
    "np.r_['0, 3, 0', [0, 1, 2], [3, 3, 3]].shape"
   ]
  },
  {
   "cell_type": "code",
   "execution_count": 589,
   "id": "e4230f82-93f9-487e-be83-486c44651916",
   "metadata": {},
   "outputs": [],
   "source": [
    "a = np.array([1, 4, 6])"
   ]
  },
  {
   "cell_type": "code",
   "execution_count": 590,
   "id": "dd7c9025-62b4-4084-b040-e96ae17a47d3",
   "metadata": {},
   "outputs": [],
   "source": [
    "b = np.array([2, 2, 2])"
   ]
  },
  {
   "cell_type": "code",
   "execution_count": 591,
   "id": "fec9759a-93c1-4d99-95d9-7400d9d0a3e1",
   "metadata": {},
   "outputs": [
    {
     "data": {
      "text/plain": [
       "matrix([[1, 4, 6, 2, 2, 2]])"
      ]
     },
     "execution_count": 591,
     "metadata": {},
     "output_type": "execute_result"
    }
   ],
   "source": [
    "np.r_['r', a, b]"
   ]
  },
  {
   "cell_type": "code",
   "execution_count": 592,
   "id": "9b4a3b91-1ef7-45fd-8d6f-8ef0a2507369",
   "metadata": {},
   "outputs": [
    {
     "data": {
      "text/plain": [
       "matrix([[1],\n",
       "        [4],\n",
       "        [6],\n",
       "        [2],\n",
       "        [2],\n",
       "        [2]])"
      ]
     },
     "execution_count": 592,
     "metadata": {},
     "output_type": "execute_result"
    }
   ],
   "source": [
    "np.r_['c', a, b] # 变成列向量"
   ]
  },
  {
   "cell_type": "code",
   "execution_count": 593,
   "id": "8f6b40c5-9035-480e-8df9-4bfa74cd6a5a",
   "metadata": {},
   "outputs": [],
   "source": [
    "c = np.ones((4, 5))"
   ]
  },
  {
   "cell_type": "code",
   "execution_count": 594,
   "id": "f861a767-a81f-4869-8c92-ab2516756514",
   "metadata": {},
   "outputs": [],
   "source": [
    "d = np.zeros((2, 5))"
   ]
  },
  {
   "cell_type": "code",
   "execution_count": 595,
   "id": "92e28287-796e-45bc-aef4-9964021bf431",
   "metadata": {},
   "outputs": [
    {
     "data": {
      "text/plain": [
       "matrix([[1., 1., 1., 1., 1.],\n",
       "        [1., 1., 1., 1., 1.],\n",
       "        [1., 1., 1., 1., 1.],\n",
       "        [1., 1., 1., 1., 1.],\n",
       "        [0., 0., 0., 0., 0.],\n",
       "        [0., 0., 0., 0., 0.]])"
      ]
     },
     "execution_count": 595,
     "metadata": {},
     "output_type": "execute_result"
    }
   ],
   "source": [
    "np.r_['r', c, d] # 二维矩阵"
   ]
  },
  {
   "cell_type": "code",
   "execution_count": 596,
   "id": "3c91fa22-a362-4ed9-8c27-c9c5bc2cb743",
   "metadata": {},
   "outputs": [
    {
     "data": {
      "text/plain": [
       "matrix([[1., 1., 1., 1., 1.],\n",
       "        [1., 1., 1., 1., 1.],\n",
       "        [1., 1., 1., 1., 1.],\n",
       "        [1., 1., 1., 1., 1.],\n",
       "        [0., 0., 0., 0., 0.],\n",
       "        [0., 0., 0., 0., 0.]])"
      ]
     },
     "execution_count": 596,
     "metadata": {},
     "output_type": "execute_result"
    }
   ],
   "source": [
    "np.r_['c', c, d] #指定'c'结果也是一样的"
   ]
  },
  {
   "cell_type": "markdown",
   "id": "10700a42-dc0c-4444-9c18-d1f39d9cb71a",
   "metadata": {},
   "source": [
    "### 2.27.3 np.c_"
   ]
  },
  {
   "cell_type": "code",
   "execution_count": 597,
   "id": "109cc799-e713-4448-939b-77e0185e9b6f",
   "metadata": {},
   "outputs": [
    {
     "data": {
      "text/plain": [
       "array([[1., 1.],\n",
       "       [1., 1.],\n",
       "       [1., 1.]])"
      ]
     },
     "execution_count": 597,
     "metadata": {},
     "output_type": "execute_result"
    }
   ],
   "source": [
    "a = np.ones((3, 2))\n",
    "a"
   ]
  },
  {
   "cell_type": "code",
   "execution_count": 598,
   "id": "be5f6f41-ecc4-47f5-b43f-b9d47a218511",
   "metadata": {},
   "outputs": [
    {
     "data": {
      "text/plain": [
       "array([[0., 0., 0.],\n",
       "       [0., 0., 0.],\n",
       "       [0., 0., 0.]])"
      ]
     },
     "execution_count": 598,
     "metadata": {},
     "output_type": "execute_result"
    }
   ],
   "source": [
    "b = np.zeros((3, 3))\n",
    "b"
   ]
  },
  {
   "cell_type": "code",
   "execution_count": 599,
   "id": "f157cee9-807c-4005-ad93-5b7b68200f7f",
   "metadata": {},
   "outputs": [
    {
     "data": {
      "text/plain": [
       "array([[1., 1., 0., 0., 0.],\n",
       "       [1., 1., 0., 0., 0.],\n",
       "       [1., 1., 0., 0., 0.]])"
      ]
     },
     "execution_count": 599,
     "metadata": {},
     "output_type": "execute_result"
    }
   ],
   "source": [
    "np.c_[a, b]"
   ]
  },
  {
   "cell_type": "code",
   "execution_count": 600,
   "id": "a3fe1841-4c84-423a-9d05-5e5186669998",
   "metadata": {},
   "outputs": [
    {
     "data": {
      "text/plain": [
       "array([0., 0., 0.])"
      ]
     },
     "execution_count": 600,
     "metadata": {},
     "output_type": "execute_result"
    }
   ],
   "source": [
    "c = np.zeros(3)\n",
    "c"
   ]
  },
  {
   "cell_type": "code",
   "execution_count": 601,
   "id": "c854d03b-4da5-4e7f-8584-333d6109c376",
   "metadata": {},
   "outputs": [
    {
     "data": {
      "text/plain": [
       "array([[1., 1., 0.],\n",
       "       [1., 1., 0.],\n",
       "       [1., 1., 0.]])"
      ]
     },
     "execution_count": 601,
     "metadata": {},
     "output_type": "execute_result"
    }
   ],
   "source": [
    "np.c_[a, c]"
   ]
  },
  {
   "cell_type": "code",
   "execution_count": 602,
   "id": "db8b423a-c3e1-48bf-8cc5-5e8f0bd9d609",
   "metadata": {},
   "outputs": [
    {
     "data": {
      "text/plain": [
       "(3, 3)"
      ]
     },
     "execution_count": 602,
     "metadata": {},
     "output_type": "execute_result"
    }
   ],
   "source": [
    "np.c_[a, c].shape"
   ]
  },
  {
   "cell_type": "code",
   "execution_count": 603,
   "id": "b7c0b006-4cba-4e88-9d16-87b150cd8741",
   "metadata": {},
   "outputs": [
    {
     "data": {
      "text/plain": [
       "array([[1, 2, 3, 4, 5, 6, 2, 3]])"
      ]
     },
     "execution_count": 603,
     "metadata": {},
     "output_type": "execute_result"
    }
   ],
   "source": [
    "np.c_[[[1, 2, 3]], [[4, 5, 6]], 2, 3] #  也可以只对数值进行连接。但是需要注意的是，前半部分的两个数组必须变成二维数组\n",
    "# 才能实现"
   ]
  }
 ],
 "metadata": {
  "kernelspec": {
   "display_name": "Python 3 (ipykernel)",
   "language": "python",
   "name": "python3"
  },
  "language_info": {
   "codemirror_mode": {
    "name": "ipython",
    "version": 3
   },
   "file_extension": ".py",
   "mimetype": "text/x-python",
   "name": "python",
   "nbconvert_exporter": "python",
   "pygments_lexer": "ipython3",
   "version": "3.11.4"
  }
 },
 "nbformat": 4,
 "nbformat_minor": 5
}
