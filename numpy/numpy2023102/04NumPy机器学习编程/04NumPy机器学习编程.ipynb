{
 "cells": [
  {
   "cell_type": "markdown",
   "id": "2f9f44a9-5c7b-435a-9e99-e8f3c400e371",
   "metadata": {},
   "source": [
    "## 4.1数组的归一化标准化算法"
   ]
  },
  {
   "cell_type": "markdown",
   "id": "d017a651-798e-4901-b55b-67eb55c155c2",
   "metadata": {},
   "source": [
    "### 4.1.1 数据的归一化"
   ]
  },
  {
   "cell_type": "markdown",
   "id": "ab0465c7-2817-41f0-b00a-1d66939a1484",
   "metadata": {},
   "source": [
    "### 4.1.2 z-score normalization （标准化）"
   ]
  },
  {
   "cell_type": "code",
   "execution_count": 1,
   "id": "50ea1587-6ae2-4a5e-8dc8-cd82dfdbe25b",
   "metadata": {},
   "outputs": [],
   "source": [
    "import numpy as np"
   ]
  },
  {
   "cell_type": "code",
   "execution_count": 2,
   "id": "bf627cc7-6f0d-4750-b1e8-4a83f0b42323",
   "metadata": {},
   "outputs": [],
   "source": [
    "def zscore(x, axis = None):\n",
    "    xmean = x.mean(axis=axis, keepdims=True)\n",
    "    xstd = np.std(x, axis=axis, keepdims=True)\n",
    "    zscore = (x-xmean)/xstd\n",
    "    return zscore"
   ]
  },
  {
   "cell_type": "code",
   "execution_count": 3,
   "id": "cf120202-be1e-49df-a771-b093f77b609d",
   "metadata": {},
   "outputs": [
    {
     "data": {
      "text/plain": [
       "array([[2, 5, 0, 6, 1],\n",
       "       [2, 7, 0, 2, 8]])"
      ]
     },
     "execution_count": 3,
     "metadata": {},
     "output_type": "execute_result"
    }
   ],
   "source": [
    "a = np.random.randint(10, size=(2, 5))\n",
    "a # 生成10个随机数 "
   ]
  },
  {
   "cell_type": "code",
   "execution_count": 4,
   "id": "2789aeaf-64a3-4679-bee0-16ac07ab16ec",
   "metadata": {},
   "outputs": [
    {
     "data": {
      "text/plain": [
       "array([[-0.46517657,  0.60830783, -1.18083284,  0.96613596, -0.82300471],\n",
       "       [-0.46517657,  1.32396409, -1.18083284, -0.46517657,  1.68179223]])"
      ]
     },
     "execution_count": 4,
     "metadata": {},
     "output_type": "execute_result"
    }
   ],
   "source": [
    "zscore(a)"
   ]
  },
  {
   "cell_type": "code",
   "execution_count": 5,
   "id": "77ecddfa-85dd-4648-b623-87413abde2a5",
   "metadata": {},
   "outputs": [
    {
     "data": {
      "text/plain": [
       "array([[-0.34554737,  0.95025527, -1.2094158 ,  1.38218948, -0.77748158],\n",
       "       [-0.57616596,  1.02429504, -1.21635036, -0.57616596,  1.34438724]])"
      ]
     },
     "execution_count": 5,
     "metadata": {},
     "output_type": "execute_result"
    }
   ],
   "source": [
    "zscore(a, axis=1)"
   ]
  },
  {
   "cell_type": "code",
   "execution_count": 6,
   "id": "6c633127-1454-49d9-9e13-c58c2606667e",
   "metadata": {},
   "outputs": [
    {
     "data": {
      "text/plain": [
       "array([[-0.34554737,  0.95025527, -1.2094158 ,  1.38218948, -0.77748158],\n",
       "       [-0.57616596,  1.02429504, -1.21635036, -0.57616596,  1.34438724]])"
      ]
     },
     "execution_count": 6,
     "metadata": {},
     "output_type": "execute_result"
    }
   ],
   "source": [
    "b = zscore(a, axis=1)\n",
    "b"
   ]
  },
  {
   "cell_type": "code",
   "execution_count": 7,
   "id": "838b3ee5-82f5-4bcb-9aaa-4d645dd37cdc",
   "metadata": {},
   "outputs": [
    {
     "data": {
      "text/plain": [
       "array([4.4408921e-16, 0.0000000e+00])"
      ]
     },
     "execution_count": 7,
     "metadata": {},
     "output_type": "execute_result"
    }
   ],
   "source": [
    "b.sum(axis=1)"
   ]
  },
  {
   "cell_type": "code",
   "execution_count": 8,
   "id": "dd9d655b-5de0-4f75-9118-372dd987a919",
   "metadata": {},
   "outputs": [
    {
     "data": {
      "text/plain": [
       "array([1., 1.])"
      ]
     },
     "execution_count": 8,
     "metadata": {},
     "output_type": "execute_result"
    }
   ],
   "source": [
    "b.std(axis=1)"
   ]
  },
  {
   "cell_type": "markdown",
   "id": "f0c39a24-1945-4ad8-b7e7-bf0adc72a2b6",
   "metadata": {},
   "source": [
    "### 4.1.3 min-max normalization"
   ]
  },
  {
   "cell_type": "code",
   "execution_count": 9,
   "id": "ab6b793e-069a-47b5-b4be-d10848429904",
   "metadata": {},
   "outputs": [],
   "source": [
    "import numpy as np"
   ]
  },
  {
   "cell_type": "code",
   "execution_count": 10,
   "id": "58db6f6c-0559-4b59-817f-2a7df2e082c7",
   "metadata": {},
   "outputs": [],
   "source": [
    "def min_max(x, axis=None):\n",
    "    min = x.min(axis=axis, keepdims=True)\n",
    "    max = x.max(axis=axis, keepdims=True)\n",
    "    result = (x-min)/(max-min)\n",
    "    return result"
   ]
  },
  {
   "cell_type": "code",
   "execution_count": 11,
   "id": "9e22decd-82ac-498c-b1b5-51f18a9f5a4a",
   "metadata": {},
   "outputs": [
    {
     "data": {
      "text/plain": [
       "array([[4, 5, 6, 8, 1],\n",
       "       [1, 2, 2, 0, 7]])"
      ]
     },
     "execution_count": 11,
     "metadata": {},
     "output_type": "execute_result"
    }
   ],
   "source": [
    "b = np.random.randint(10, size=(2, 5))\n",
    "b"
   ]
  },
  {
   "cell_type": "code",
   "execution_count": 12,
   "id": "d15e5007-a4bd-41db-a174-85257410be0c",
   "metadata": {},
   "outputs": [
    {
     "data": {
      "text/plain": [
       "array([[0.5  , 0.625, 0.75 , 1.   , 0.125],\n",
       "       [0.125, 0.25 , 0.25 , 0.   , 0.875]])"
      ]
     },
     "execution_count": 12,
     "metadata": {},
     "output_type": "execute_result"
    }
   ],
   "source": [
    "c = min_max(b)\n",
    "c"
   ]
  },
  {
   "cell_type": "code",
   "execution_count": 13,
   "id": "3403ae6c-4911-4b22-bbb1-cb304a658ce5",
   "metadata": {},
   "outputs": [
    {
     "data": {
      "text/plain": [
       "array([[0.42857143, 0.57142857, 0.71428571, 1.        , 0.        ],\n",
       "       [0.14285714, 0.28571429, 0.28571429, 0.        , 1.        ]])"
      ]
     },
     "execution_count": 13,
     "metadata": {},
     "output_type": "execute_result"
    }
   ],
   "source": [
    "d = min_max(b, axis=1)\n",
    "d"
   ]
  },
  {
   "cell_type": "markdown",
   "id": "679a4ad4-c4c1-409b-af83-fa7115318cf8",
   "metadata": {},
   "source": [
    "### 4.1.4 　向量的归一化"
   ]
  },
  {
   "cell_type": "code",
   "execution_count": 14,
   "id": "fe9c773c-2f7c-4841-b36c-238cf6b8ace0",
   "metadata": {},
   "outputs": [],
   "source": [
    "import numpy as np"
   ]
  },
  {
   "cell_type": "code",
   "execution_count": 15,
   "id": "b5bace3c-f107-4ec6-a54a-da0efc1a765f",
   "metadata": {},
   "outputs": [],
   "source": [
    "def normalize(v, axis=-1, order=2):\n",
    "    l2 = np.linalg.norm(v, ord=order, axis=axis, keepdims=True)\n",
    "    l2[l2==0] = 1\n",
    "    return v/l2"
   ]
  },
  {
   "cell_type": "code",
   "execution_count": 16,
   "id": "57d47879-b255-4319-be2f-6331a7a21e9f",
   "metadata": {},
   "outputs": [
    {
     "data": {
      "text/plain": [
       "array([1, 2, 3, 2, 1])"
      ]
     },
     "execution_count": 16,
     "metadata": {},
     "output_type": "execute_result"
    }
   ],
   "source": [
    "a = np.array([1, 2, 3, 2, 1])\n",
    "a"
   ]
  },
  {
   "cell_type": "code",
   "execution_count": 17,
   "id": "084b6f1a-4b50-4c20-a94c-9db613515ef2",
   "metadata": {},
   "outputs": [
    {
     "data": {
      "text/plain": [
       "array([0.22941573, 0.45883147, 0.6882472 , 0.45883147, 0.22941573])"
      ]
     },
     "execution_count": 17,
     "metadata": {},
     "output_type": "execute_result"
    }
   ],
   "source": [
    "b = normalize(a)\n",
    "b"
   ]
  },
  {
   "cell_type": "code",
   "execution_count": 18,
   "id": "560b73ce-f04b-40bb-a6fb-f78799e5fa29",
   "metadata": {},
   "outputs": [
    {
     "data": {
      "text/plain": [
       "0.9999999999999997"
      ]
     },
     "execution_count": 18,
     "metadata": {},
     "output_type": "execute_result"
    }
   ],
   "source": [
    "(b*b).sum()"
   ]
  },
  {
   "cell_type": "code",
   "execution_count": 19,
   "id": "238a0fda-10a9-4dfb-9d79-28183128451c",
   "metadata": {},
   "outputs": [
    {
     "data": {
      "text/plain": [
       "array([[3, 9, 4, 1],\n",
       "       [5, 0, 2, 6],\n",
       "       [5, 4, 9, 3]])"
      ]
     },
     "execution_count": 19,
     "metadata": {},
     "output_type": "execute_result"
    }
   ],
   "source": [
    "c = np.random.randint(10, size=(3,4))\n",
    "c"
   ]
  },
  {
   "cell_type": "code",
   "execution_count": 20,
   "id": "fb5b159d-fdaa-4508-ba47-b0d0f52b5b1a",
   "metadata": {},
   "outputs": [
    {
     "data": {
      "text/plain": [
       "array([[0.19573865, 0.58721594, 0.26098486, 0.06524622],\n",
       "       [0.32623108, 0.        , 0.13049243, 0.39147729],\n",
       "       [0.32623108, 0.26098486, 0.58721594, 0.19573865]])"
      ]
     },
     "execution_count": 20,
     "metadata": {},
     "output_type": "execute_result"
    }
   ],
   "source": [
    "d = normalize(c, axis=None) #对所有的元素进行归一化处理\n",
    "d"
   ]
  },
  {
   "cell_type": "code",
   "execution_count": 21,
   "id": "3881ddef-4685-4ab0-a37e-69270b8d7279",
   "metadata": {},
   "outputs": [
    {
     "data": {
      "text/plain": [
       "1.289891800546093"
      ]
     },
     "execution_count": 21,
     "metadata": {},
     "output_type": "execute_result"
    }
   ],
   "source": [
    "(d*d).sum()"
   ]
  },
  {
   "cell_type": "code",
   "execution_count": 22,
   "id": "ea5efaa1-dc1e-42a3-9524-514a1eaeb8d1",
   "metadata": {},
   "outputs": [
    {
     "data": {
      "text/plain": [
       "array([[0.29002095, 0.87006284, 0.3866946 , 0.09667365],\n",
       "       [0.62017367, 0.        , 0.24806947, 0.74420841],\n",
       "       [0.43685203, 0.34948162, 0.78633365, 0.26211122]])"
      ]
     },
     "execution_count": 22,
     "metadata": {},
     "output_type": "execute_result"
    }
   ],
   "source": [
    "e = normalize(c, axis=1)\n",
    "e"
   ]
  },
  {
   "cell_type": "code",
   "execution_count": 23,
   "id": "aacc0c8b-128b-4611-bef5-c244e9350d79",
   "metadata": {},
   "outputs": [],
   "source": [
    "f = np.random.randint(10, size=(2, 3, 4))"
   ]
  },
  {
   "cell_type": "code",
   "execution_count": 24,
   "id": "431a4073-7c2d-4427-a23a-11a3af25044d",
   "metadata": {},
   "outputs": [
    {
     "data": {
      "text/plain": [
       "array([[[0.40289615, 0.26859743, 0.13429872, 0.40289615],\n",
       "        [0.35812991, 0.13429872, 0.17906495, 0.40289615],\n",
       "        [0.31336367, 0.        , 0.13429872, 0.40289615]],\n",
       "\n",
       "       [[0.35744539, 0.53616808, 0.05957423, 0.11914846],\n",
       "        [0.23829693, 0.11914846, 0.23829693, 0.41701962],\n",
       "        [0.        , 0.53616808, 0.05957423, 0.47659385]]])"
      ]
     },
     "execution_count": 24,
     "metadata": {},
     "output_type": "execute_result"
    }
   ],
   "source": [
    "normalize(f, axis=(1, 2))"
   ]
  },
  {
   "cell_type": "markdown",
   "id": "e15c55f9-d9eb-46a7-a577-a9f1a680a819",
   "metadata": {},
   "source": [
    "## 4.2 线性回归的NumPy编程"
   ]
  },
  {
   "cell_type": "markdown",
   "id": "29df2c9d-139a-4fad-9091-dd0d2d408abd",
   "metadata": {},
   "source": [
    "### 4.2.1 何谓线性回归"
   ]
  },
  {
   "cell_type": "markdown",
   "id": "85cae94e-1b3a-4aa5-9eca-3a6442b01932",
   "metadata": {},
   "source": [
    "### 4.2.2 损失函数的设置"
   ]
  },
  {
   "cell_type": "markdown",
   "id": "75a78f82-e28d-45c7-bff5-cb119d62d8e8",
   "metadata": {},
   "source": [
    "### 4.2.3 学习的开展"
   ]
  },
  {
   "cell_type": "markdown",
   "id": "2b87696d-adf3-4d69-81c4-2e6b8e8b01b6",
   "metadata": {},
   "source": [
    "### 4.2.4 NumPy代码的编写"
   ]
  },
  {
   "cell_type": "code",
   "execution_count": 25,
   "id": "b4c7b17c-1d3b-4551-8360-c52e616af3fe",
   "metadata": {},
   "outputs": [],
   "source": [
    "import numpy as np"
   ]
  },
  {
   "cell_type": "code",
   "execution_count": 26,
   "id": "4f5020bd-afa6-4b94-942f-01691058ae0c",
   "metadata": {},
   "outputs": [
    {
     "data": {
      "text/plain": [
       "array([-0.00704153, -3.36389215, -2.88121717, -2.82056316, -3.58473653,\n",
       "       -2.17113055, -1.07372395,  1.75876087, -1.05798587,  2.77793371,\n",
       "        2.71603059, -1.62398109,  2.77009393, -3.02587728,  3.42724204,\n",
       "        3.6139137 , -1.06390556, -0.31049235, -1.56547047, -3.37342048])"
      ]
     },
     "execution_count": 26,
     "metadata": {},
     "output_type": "execute_result"
    }
   ],
   "source": [
    "X = np.random.rand(20)*8-4 #  –4～4内均匀分布的随机数\n",
    "X"
   ]
  },
  {
   "cell_type": "code",
   "execution_count": 27,
   "id": "e08d183a-2697-40f3-89db-69e34aa99846",
   "metadata": {},
   "outputs": [
    {
     "data": {
      "text/plain": [
       "array([ 0.00988509,  0.01434745, -0.21893683, -0.50653045,  0.39977517,\n",
       "       -0.74686981, -0.94759835,  0.86797535, -0.80851069,  0.27746659,\n",
       "        0.41329919, -1.09158087,  0.55381531, -0.04181326, -0.29562844,\n",
       "       -0.44537379, -0.92324082, -0.35803455, -0.84914074,  0.48470414])"
      ]
     },
     "execution_count": 27,
     "metadata": {},
     "output_type": "execute_result"
    }
   ],
   "source": [
    "y = np.sin(X) + np.random.randn(20)*0.2 # 在正弦曲线的值中加入噪声\n",
    "y"
   ]
  },
  {
   "cell_type": "code",
   "execution_count": 28,
   "id": "c52f2ddd-e6b6-44ef-be43-2b6d2a4ed2cc",
   "metadata": {},
   "outputs": [
    {
     "data": {
      "image/png": "[encoded data removed]",
      "text/plain": [
       "<Figure size 640x480 with 1 Axes>"
      ]
     },
     "metadata": {},
     "output_type": "display_data"
    }
   ],
   "source": [
    "import matplotlib.pyplot as plt\n",
    "XX = np.linspace(-4, 4, 100) #生成将–4～4内的空间均分为100等分的数列\n",
    "plt.xlabel('X')\n",
    "plt.ylabel('y')\n",
    "plt.title('training data')\n",
    "plt.grid()\n",
    "plt.scatter(X, y, marker='x', c='red') # 用marker设置点的形状，c设置颜色，并生成散点图\n",
    "plt.plot(XX, np.sin(XX)) #  绘制正弦曲线\n",
    "plt.show()"
   ]
  },
  {
   "cell_type": "code",
   "execution_count": 29,
   "id": "368da5ea-efb1-4dfc-9bbf-4aadd614403b",
   "metadata": {},
   "outputs": [],
   "source": [
    "A = np.empty((6,6)) # 创建保存矩阵A的容器"
   ]
  },
  {
   "cell_type": "code",
   "execution_count": 30,
   "id": "5e6d5af4-d2f5-4e38-8895-f15f62338a8e",
   "metadata": {},
   "outputs": [],
   "source": [
    "for i in range(6):\n",
    "    for j in range(6):\n",
    "        A[i][j] = np.sum(X**(i+j))"
   ]
  },
  {
   "cell_type": "code",
   "execution_count": 31,
   "id": "389d2725-9fc4-40b2-b024-57d831337fbd",
   "metadata": {},
   "outputs": [
    {
     "data": {
      "text/plain": [
       "array([[ 2.00000000e+01, -1.08594633e+01,  1.24928140e+02,\n",
       "        -6.29671137e+01,  1.16873040e+03, -5.80899157e+02],\n",
       "       [-1.08594633e+01,  1.24928140e+02, -6.29671137e+01,\n",
       "         1.16873040e+03, -5.80899157e+02,  1.22207409e+04],\n",
       "       [ 1.24928140e+02, -6.29671137e+01,  1.16873040e+03,\n",
       "        -5.80899157e+02,  1.22207409e+04, -5.85283569e+03],\n",
       "       [-6.29671137e+01,  1.16873040e+03, -5.80899157e+02,\n",
       "         1.22207409e+04, -5.85283569e+03,  1.34997694e+05],\n",
       "       [ 1.16873040e+03, -5.80899157e+02,  1.22207409e+04,\n",
       "        -5.85283569e+03,  1.34997694e+05, -5.88934971e+04],\n",
       "       [-5.80899157e+02,  1.22207409e+04, -5.85283569e+03,\n",
       "         1.34997694e+05, -5.88934971e+04,  1.54466171e+06]])"
      ]
     },
     "execution_count": 31,
     "metadata": {},
     "output_type": "execute_result"
    }
   ],
   "source": [
    "A"
   ]
  },
  {
   "cell_type": "code",
   "execution_count": 32,
   "id": "84b33d5e-c698-42dd-9bcb-05274b074fbe",
   "metadata": {},
   "outputs": [],
   "source": [
    "b = np.empty(6)"
   ]
  },
  {
   "cell_type": "code",
   "execution_count": 33,
   "id": "41f9c6c1-f288-4c22-8671-1097b3144770",
   "metadata": {},
   "outputs": [],
   "source": [
    "for i in range(6):\n",
    "    b[i] = np.sum(X**i*y)"
   ]
  },
  {
   "cell_type": "code",
   "execution_count": 34,
   "id": "ae9eb0e5-5bfa-4baa-9d9f-dc22a1c96a08",
   "metadata": {},
   "outputs": [
    {
     "data": {
      "text/plain": [
       "array([  -4.21199032,    9.09058425,   -4.13663477,   -3.17796277,\n",
       "         10.39733401, -452.46002599])"
      ]
     },
     "execution_count": 34,
     "metadata": {},
     "output_type": "execute_result"
    }
   ],
   "source": [
    "b"
   ]
  },
  {
   "cell_type": "code",
   "execution_count": 35,
   "id": "7998f60e-3925-44b0-a238-d5da75810431",
   "metadata": {},
   "outputs": [],
   "source": [
    "omega = np.dot(np.linalg.inv(A), b.reshape(-1, 1)) # 使用np.linalg.inv()得到逆矩阵，使用np.dot计算内积"
   ]
  },
  {
   "cell_type": "code",
   "execution_count": 36,
   "id": "04e1d6e3-bc6b-42f8-a0bd-d89052771c8b",
   "metadata": {},
   "outputs": [
    {
     "data": {
      "text/plain": [
       "(6, 1)"
      ]
     },
     "execution_count": 36,
     "metadata": {},
     "output_type": "execute_result"
    }
   ],
   "source": [
    "omega.shape"
   ]
  },
  {
   "cell_type": "code",
   "execution_count": 37,
   "id": "c0b5ac35-2787-4fb8-b2d6-03c09abddfc0",
   "metadata": {},
   "outputs": [
    {
     "data": {
      "image/png": "[encoded data removed]",
      "text/plain": [
       "<Figure size 640x480 with 1 Axes>"
      ]
     },
     "metadata": {},
     "output_type": "display_data"
    }
   ],
   "source": [
    "f = np.poly1d(omega.flatten()[::-1]) # 生成将 ω 作为系数的多项式\n",
    "XX = np.linspace(-4, 4, 100)\n",
    "plt.xlabel('X')\n",
    "plt.ylabel('y')\n",
    "plt.title('trained data')\n",
    "plt.grid()\n",
    "plt.scatter(X, y, marker='x', c='red')\n",
    "plt.plot(XX, f(XX), color='green')\n",
    "plt.plot(XX, np.sin(XX), color='blue')\n",
    "plt.show()"
   ]
  },
  {
   "cell_type": "markdown",
   "id": "6c28fa93-c2af-409c-a3ea-1227409d228a",
   "metadata": {},
   "source": [
    "### 4.2.5 函数的多项式拟合"
   ]
  },
  {
   "cell_type": "code",
   "execution_count": 38,
   "id": "d33e839d-fb66-4f14-b726-ab24ef32fc54",
   "metadata": {},
   "outputs": [
    {
     "data": {
      "image/png": "[encoded data removed]",
      "text/plain": [
       "<Figure size 640x480 with 1 Axes>"
      ]
     },
     "metadata": {},
     "output_type": "display_data"
    }
   ],
   "source": [
    "omega_2 = np.polyfit(X, y, 5)\n",
    "omega_2\n",
    "f_2 = np.poly1d(omega_2)\n",
    "f = np.poly1d(omega.flatten()[::-1])\n",
    "XX = np.linspace(-4, 4, 100)\n",
    "plt.xlabel('X')\n",
    "plt.ylabel('y')\n",
    "plt.title('using polyfitfunction')\n",
    "plt.grid()\n",
    "plt.scatter(X, y, marker='x', c='red')\n",
    "plt.plot(XX, f(XX), color='green')\n",
    "plt.plot(XX, np.sin(XX), color='blue')\n",
    "plt.show()"
   ]
  },
  {
   "cell_type": "markdown",
   "id": "6bb72402-f636-4d81-b59a-7666b59e68a5",
   "metadata": {},
   "source": [
    "## 4.3 NumPy神经网络编程(基础篇)"
   ]
  },
  {
   "cell_type": "markdown",
   "id": "f0abe722-3651-4128-8044-a01b96afc66e",
   "metadata": {},
   "source": [
    "### 4.3.1 开始本节的学习之前"
   ]
  },
  {
   "cell_type": "markdown",
   "id": "e70f4bcb-59d9-4be6-b3fb-b62d4d31e32e",
   "metadata": {},
   "source": [
    "### 4.3.2 人类所具有的认知机制"
   ]
  },
  {
   "cell_type": "markdown",
   "id": "6321034a-1b70-438a-b4dd-ee7220ae6a1a",
   "metadata": {},
   "source": [
    "### 4.3.3 对计算机很难,而对人类很简单的问题"
   ]
  },
  {
   "cell_type": "markdown",
   "id": "2d901f6b-d18a-4289-8ae9-4431b5627979",
   "metadata": {},
   "source": [
    "### 4.3.4 大脑中的神经网络"
   ]
  },
  {
   "cell_type": "markdown",
   "id": "9e70953f-ae86-4b58-a79f-ebd063805534",
   "metadata": {},
   "source": [
    "### 4.3.5 基于视觉的对象识别"
   ]
  },
  {
   "cell_type": "markdown",
   "id": "8c460e94-9e71-4fe8-ba8c-c84c2d3390c3",
   "metadata": {},
   "source": [
    "## 4.4 NumPy神经网络编程(基础篇)"
   ]
  },
  {
   "cell_type": "markdown",
   "id": "99c6d1a6-4053-4b3c-83d1-f282d78ffd15",
   "metadata": {},
   "source": [
    "### 4.4.1 神经网络"
   ]
  },
  {
   "cell_type": "markdown",
   "id": "e6c069dc-9e4d-433c-8c44-981626704030",
   "metadata": {},
   "source": [
    "### 4.4.2 神经网络的模拟"
   ]
  },
  {
   "cell_type": "markdown",
   "id": "77def382-c0ce-4574-bcad-e39c292a8d94",
   "metadata": {},
   "source": [
    "### 4.4.3 参数的导入"
   ]
  },
  {
   "cell_type": "markdown",
   "id": "0aba32ff-cedd-48a9-aa01-64db9d7d0101",
   "metadata": {},
   "source": [
    "### 4.4.4 损失函数的设置"
   ]
  },
  {
   "cell_type": "markdown",
   "id": "a5fa7e87-ad72-4cb5-8521-8dba7165be6f",
   "metadata": {},
   "source": [
    "### 4.4.5 学习的开展"
   ]
  },
  {
   "cell_type": "markdown",
   "id": "9e730616-cf2c-4dcf-9141-959237401168",
   "metadata": {},
   "source": [
    "## 4.5 NumPy 神经网络编程（实践篇）"
   ]
  },
  {
   "cell_type": "markdown",
   "id": "df1d5a78-53bd-4fea-93c5-78539362a511",
   "metadata": {},
   "source": [
    "### 4.5.1 NumPy代码的编写"
   ]
  },
  {
   "cell_type": "markdown",
   "id": "3785fe47-4b2a-448f-b585-1c4dde28a35d",
   "metadata": {},
   "source": [
    "## 4.5.2 数据集的准备"
   ]
  },
  {
   "cell_type": "markdown",
   "id": "3c314324-b89d-4315-baed-5f0a5f111c98",
   "metadata": {},
   "source": [
    "wget https://archive.ics.uci.edu/ml/machine-learning-databases/iris/iris.data"
   ]
  },
  {
   "cell_type": "code",
   "execution_count": 39,
   "id": "3bd5fac4-c9cf-46e2-93dc-cc0a9cab1e82",
   "metadata": {},
   "outputs": [
    {
     "name": "stdout",
     "output_type": "stream",
     "text": [
      "       0    1    2    3               4\n",
      "0    5.1  3.5  1.4  0.2     Iris-setosa\n",
      "1    4.9  3.0  1.4  0.2     Iris-setosa\n",
      "2    4.7  3.2  1.3  0.2     Iris-setosa\n",
      "3    4.6  3.1  1.5  0.2     Iris-setosa\n",
      "4    5.0  3.6  1.4  0.2     Iris-setosa\n",
      "..   ...  ...  ...  ...             ...\n",
      "145  6.7  3.0  5.2  2.3  Iris-virginica\n",
      "146  6.3  2.5  5.0  1.9  Iris-virginica\n",
      "147  6.5  3.0  5.2  2.0  Iris-virginica\n",
      "148  6.2  3.4  5.4  2.3  Iris-virginica\n",
      "149  5.9  3.0  5.1  1.8  Iris-virginica\n",
      "\n",
      "[150 rows x 5 columns]\n"
     ]
    }
   ],
   "source": [
    "import numpy as np\n",
    "import pandas as pd\n",
    "import matplotlib.pyplot as plt\n",
    "from mpl_toolkits.mplot3d import Axes3D\n",
    "df = pd.read_csv('iris.data', header=None) #读入之前下载的iris.data文件\n",
    "print(df) #显示文件的内容\n",
    "y = df.iloc[0:100,4].values #从数据的内容可以看出，开头的100组数据是Iris setona和Iris virginica的部分，将其中的标签数据单独提取出来\n",
    "y = np.where(y=='Iris-setona', -1, 1) ##从数据的内容可以看出，开头的100组数据是Iris setona和Iris virginica的部分，将其中的标签数据单独提取出来\n",
    "X = df.iloc[0:100,[0, 1, 2, 3]].values #  1~4号数据是在学习中需要使用的，因此将其提取出来"
   ]
  },
  {
   "cell_type": "markdown",
   "id": "6b755fbd-e4c3-46a3-b552-2df671d8d940",
   "metadata": {},
   "source": [
    "### 4.5.3　训练数据和测试数据的划分"
   ]
  },
  {
   "cell_type": "code",
   "execution_count": 40,
   "id": "d4c59e6e-0016-4cde-bbd3-6cf2e0d0d7f1",
   "metadata": {},
   "outputs": [],
   "source": [
    "X_train = np.empty((80, 4)) # 创建用于存放数据的空数组\n",
    "X_test = np.empty((20, 4))\n",
    "y_train = np.empty(80)\n",
    "y_test = np.empty(20)\n",
    "X_train[:40],X_train[40:] = X[:40],X[50:90]\n",
    "X_test[:10],X_test[10:] = X[40:50],X[90:100]\n",
    "y_train[:40],y_train[40:] = y[:40],y[50:90]\n",
    "y_test[:10],y_test[10:] = y[40:50],y[90:100]"
   ]
  },
  {
   "cell_type": "code",
   "execution_count": 41,
   "id": "57db194f-243b-47af-b2af-d2705813a487",
   "metadata": {},
   "outputs": [
    {
     "data": {
      "image/png": "[encoded data removed]",
      "text/plain": [
       "<Figure size 640x480 with 1 Axes>"
      ]
     },
     "metadata": {},
     "output_type": "display_data"
    },
    {
     "data": {
      "image/png": "[encoded data removed]",
      "text/plain": [
       "<Figure size 640x480 with 1 Axes>"
      ]
     },
     "metadata": {},
     "output_type": "display_data"
    }
   ],
   "source": [
    "plt.title('Sepal') # 萼片\n",
    "plt.xlabel('length[cm]')\n",
    "plt.ylabel('width[cm]')\n",
    "plt.scatter(X_train[:40, 0], X_train[:40, 1],marker='x', color='blue', label='Iris setosa')\n",
    "plt.scatter(X_train[40:, 0], X_train[40:, 1],marker='o', color='red', label='Iris virginica')\n",
    "plt.legend()\n",
    "plt.show()\n",
    "\n",
    "# 接下来是花瓣\n",
    "plt.title('Petal') #花瓣\n",
    "plt.xlabel('length[cm]')\n",
    "plt.ylabel('width[cm]')\n",
    "plt.scatter(X_train[:40,2], X_train[:40, 3],marker='x', color='blue', label='Iris setosa')\n",
    "plt.scatter(X_train[40:, 2], X_train[40:, 3],marker='o', color='red', label='Iris virginica')\n",
    "plt.legend()\n",
    "plt.show()"
   ]
  },
  {
   "cell_type": "markdown",
   "id": "df80e4a0-31a2-4e1d-92a5-50fd356cdbf6",
   "metadata": {},
   "source": [
    "### 4.5.4　神经网络的构建"
   ]
  },
  {
   "cell_type": "code",
   "execution_count": 42,
   "id": "33aff38f-8e84-4d5f-b283-798e4ab274b5",
   "metadata": {},
   "outputs": [],
   "source": [
    "def sigmoid(x):\n",
    "    return 1/(1+np.exp(-x))\n",
    "\n",
    "def activation(X, w, b):\n",
    "    return sigmoid(np.dot(X, w)+b)\n",
    "\n",
    "def loss(X, y, w, b):\n",
    "    dif = y - activation(X, w, b)\n",
    "    return np.sum(dif**2/(2*len(y)),keepdims=True)\n",
    "\n",
    "def accuracy(X, y, w, b):\n",
    "    pre = predict(X, w, b)\n",
    "    return np.sum(np.where(pre==y, 1, 0))/len(y)\n",
    "\n",
    "def predict(X, w, b):\n",
    "    result = np.where(activation(X, w, b)<0.5, -1.0, 1.0)\n",
    "    return result\n",
    "\n",
    "def update(X, y, w, b, eta): # 对权重进行更新，其中eta为学习率\n",
    "    a = (activation(X, w, b)-y)*activation(X, w, b)*(1-activation(X, w, b))\n",
    "    a = a.reshape(-1, 1)\n",
    "    w -= eta * 1/float(len(y))*np.sum(a*X, axis=0)\n",
    "    b -= eta * 1/float(len(y))*np.sum(a)\n",
    "    return w, b\n",
    "\n",
    "def update_2(X, y, w, b, eta): # 将w和b的值分别稍微调大时，用偏微分计算输出值的变化情况\n",
    "    h = 1e-4\n",
    "    loss_origin = loss(X, y, w, b)\n",
    "    delta_w = np.zeros_like(w)\n",
    "    delta_b = np.zeros_like(b)\n",
    "    for i in range(4):\n",
    "        tmp = w[i]\n",
    "        w[i] += h # 将参数中的一个值稍微调大一点\n",
    "        loss_after = loss(X, y, w, b)\n",
    "        delta_w[i] = eta*(loss_after - loss_origin)/h\n",
    "        w[i] = tmp\n",
    "    tmp = b\n",
    "    b += h\n",
    "    loss_after = loss(X, y, w, b)\n",
    "    delta_b = eta*(loss_after - loss_origin)/h\n",
    "    w -= delta_w #  更新参数值\n",
    "    b = tmp - delta_b\n",
    "    return w, b"
   ]
  },
  {
   "cell_type": "code",
   "execution_count": 43,
   "id": "b089febd-71de-4ac0-aa0a-7ad55579e598",
   "metadata": {},
   "outputs": [
    {
     "name": "stdout",
     "output_type": "stream",
     "text": [
      "acc_1 1.000000, loss_1 0.019286, acc_2 1.000000, loss_2 0.019286\n",
      "acc_1 1.000000, loss_1 0.015770, acc_2 1.000000, loss_2 0.015770\n",
      "acc_1 1.000000, loss_1 0.013320, acc_2 1.000000, loss_2 0.013320\n",
      "acc_1 1.000000, loss_1 0.011520, acc_2 1.000000, loss_2 0.011520\n",
      "acc_1 1.000000, loss_1 0.010142, acc_2 1.000000, loss_2 0.010142\n",
      "acc_1 1.000000, loss_1 0.009056, acc_2 1.000000, loss_2 0.009056\n",
      "acc_1 1.000000, loss_1 0.008177, acc_2 1.000000, loss_2 0.008177\n",
      "acc_1 1.000000, loss_1 0.007452, acc_2 1.000000, loss_2 0.007452\n",
      "acc_1 1.000000, loss_1 0.006844, acc_2 1.000000, loss_2 0.006844\n",
      "acc_1 1.000000, loss_1 0.006327, acc_2 1.000000, loss_2 0.006327\n",
      "acc_1 1.000000, loss_1 0.005883, acc_2 1.000000, loss_2 0.005883\n",
      "acc_1 1.000000, loss_1 0.005496, acc_2 1.000000, loss_2 0.005496\n",
      "acc_1 1.000000, loss_1 0.005156, acc_2 1.000000, loss_2 0.005156\n",
      "acc_1 1.000000, loss_1 0.004856, acc_2 1.000000, loss_2 0.004856\n",
      "acc_1 1.000000, loss_1 0.004589, acc_2 1.000000, loss_2 0.004589\n",
      "weights_1 =  [0.22314177 0.17454025 0.15366047 0.11296573] bias_1 =  [0.12342759]\n",
      "weights_2 =  [0.22314177 0.17454025 0.15366047 0.11296573] bias_2 =  [0.12342759]\n"
     ]
    },
    {
     "name": "stderr",
     "output_type": "stream",
     "text": [
      "C:\\Users\\liye\\AppData\\Local\\Temp\\ipykernel_10660\\102798932.py:8: DeprecationWarning: Conversion of an array with ndim > 0 to a scalar is deprecated, and will error in future. Ensure you extract a single element from your array before performing this operation. (Deprecated NumPy 1.25.)\n",
      "  print('acc_1 %f, loss_1 %f, acc_2 %f, loss_2 %f' % ( accuracy(X_test, y_test, weights_1, bias_1), \\\n"
     ]
    }
   ],
   "source": [
    "weights_1 = np.ones(4)/10 # w的初始值全部设为0.1\n",
    "bias_1 = np.ones(1)/10 #b的初始值也设为0.1\n",
    "weights_2 = np.ones(4)/10\n",
    "bias_2 = np.ones(1)/10\n",
    "for _ in range(15): # 先让模型进行15次学习\n",
    "    weights_1, bias_1 = update(X_train, y_train, weights_1, bias_1, eta=0.1)\n",
    "    weights_2, bias_2 = update(X_train , y_train, weights_2, bias_2, eta=0.1)\n",
    "    print('acc_1 %f, loss_1 %f, acc_2 %f, loss_2 %f' % ( accuracy(X_test, y_test, weights_1, bias_1), \\\n",
    "    loss(X_test, y_test, weights_1, bias_1)\\\n",
    "    ,accuracy(X_test, y_test, weights_2, bias_2), loss(X_test, y_test, weights_2, bias_2)))\n",
    "print('weights_1 = ', weights_1, 'bias_1 = ', bias_1)\n",
    "print('weights_2 = ', weights_2, 'bias_2 = ', bias_2)"
   ]
  },
  {
   "cell_type": "markdown",
   "id": "c65e84bf-47cc-4ed6-b6e8-762663c518a8",
   "metadata": {},
   "source": [
    "## 4.6 NumPy神经网络编程"
   ]
  },
  {
   "cell_type": "markdown",
   "id": "fd26a64d-5ec5-4722-ab5a-5f9840e3c0d4",
   "metadata": {},
   "source": [
    "### 4.6.1 神经网络的深度话与误差反向传播算法"
   ]
  },
  {
   "cell_type": "markdown",
   "id": "6f5ce9c5-1a55-4d2b-bfa5-4e62c88146f8",
   "metadata": {},
   "source": [
    "### 4.6.2 神经网络的深度化"
   ]
  },
  {
   "cell_type": "markdown",
   "id": "c63e8c86-2190-4765-a91d-3e1d5c19d25b",
   "metadata": {},
   "source": [
    "### 4.6.3 误差反向传播算法"
   ]
  },
  {
   "cell_type": "markdown",
   "id": "95247871-40df-4b1d-8fbb-a33377391098",
   "metadata": {},
   "source": [
    "### 4.6.4 小结"
   ]
  },
  {
   "cell_type": "markdown",
   "id": "ec3d2247-3a01-4437-a2c3-59bd600cc944",
   "metadata": {},
   "source": [
    "## 4.7 NumPy神经网络编程（文字识别篇）"
   ]
  },
  {
   "cell_type": "markdown",
   "id": "d2975148-7710-41ab-9d32-63411672ce9e",
   "metadata": {},
   "source": [
    "### 4.7.1　基于NumPy的实现 （MNIST）"
   ]
  },
  {
   "cell_type": "raw",
   "id": "e867057d-ca8f-4243-a77e-eaa0811efb31",
   "metadata": {},
   "source": [
    "$ wget http://yann.lecun.com/exdb/mnist/train-images-idx3-ubyte.gz\n",
    "$ wget http://yann.lecun.com/exdb/mnist/train-labels-idx1-ubyte.gz\n",
    "$ wget http://yann.lecun.com/exdb/mnist/t10k-images-idx3-ubyte.gz\n",
    "$ wget http://yann.lecun.com/exdb/mnist/t10k-labels-idx1-ubyte.gz"
   ]
  },
  {
   "cell_type": "raw",
   "id": "4e1969cc-22ba-454e-aa6c-87b4c9a3e8e6",
   "metadata": {},
   "source": [
    "http://yann.lecun.com/exdb/mnist/"
   ]
  },
  {
   "cell_type": "code",
   "execution_count": 44,
   "id": "0b6418b1-9b19-409a-b943-de1157ce20e1",
   "metadata": {},
   "outputs": [],
   "source": [
    "import pickle\n",
    "import numpy as np\n",
    "import gzip\n",
    "\n",
    "key_file = {\n",
    "    'x_train':'mnist_dataset/train-images-idx3-ubyte.gz',\n",
    "    't_train':'mnist_dataset/train-labels-idx1-ubyte.gz',\n",
    "    'x_test':'mnist_dataset/t10k-images-idx3-ubyte.gz',\n",
    "    't_test':'mnist_dataset/t10k-labels-idx1-ubyte.gz'\n",
    "}\n",
    "\n",
    "def load_label(file_name):\n",
    "    file_path = file_name\n",
    "    with gzip.open(file_path, 'rb') as f:\n",
    "        #开头的8字节数据并非是需要的内容，因此跳过\n",
    "        labels = np.frombuffer(f.read(), np.uint8, offset=8)\n",
    "    one_hot_labels = np.zeros((labels.shape[0], 10))\n",
    "    for i in range(labels.shape[0]):\n",
    "        one_hot_labels[i, labels[i]] = 1\n",
    "    return one_hot_labels\n",
    "\n",
    "def load_image(file_name):\n",
    "    file_path = file_name\n",
    "    with gzip.open(file_path, 'rb') as f:\n",
    "        #  需要跳过图像本身的16字节的内容\n",
    "        images = np.frombuffer(f.read(), np.uint8, offset=16)\n",
    "    return images\n",
    "\n",
    "def convert_into_numpy(key_file):\n",
    "    dataset = {}\n",
    "\n",
    "    dataset['x_train'] = load_image(key_file['x_train'])\n",
    "    dataset['t_train'] = load_label(key_file['t_train'])\n",
    "    dataset['x_test'] = load_image(key_file['x_test'])\n",
    "    dataset['t_test'] = load_label(key_file['t_test'])\n",
    "\n",
    "    return dataset\n",
    "\n",
    "def load_mnist():\n",
    "    # 读取mnist并将其输出为NumPy数组\n",
    "    dataset = convert_into_numpy(key_file)\n",
    "    # 指定数据类型为float32\n",
    "    dataset['x_train'] = dataset['x_train'].astype(np.float32)\n",
    "    dataset['x_test'] = dataset['x_test'].astype(np.float32)\n",
    "    dataset['x_train'] /= 255.0\n",
    "    # 简单的归一化处理\n",
    "    dataset['x_test'] /= 255.0\n",
    "    dataset['x_train'] = dataset['x_train'].reshape(-1, 28*28)\n",
    "    dataset['x_test'] = dataset['x_test'].reshape(-1, 28*28)\n",
    "    return dataset"
   ]
  },
  {
   "cell_type": "code",
   "execution_count": 45,
   "id": "4973e08f-0a6d-407d-8a74-c6e5258c51fb",
   "metadata": {},
   "outputs": [],
   "source": [
    "dataset = load_mnist()"
   ]
  },
  {
   "cell_type": "code",
   "execution_count": 46,
   "id": "dba6b6f8-16d7-41b2-b119-1e19d5dafc4b",
   "metadata": {},
   "outputs": [
    {
     "data": {
      "image/png": "[encoded data removed]",
      "text/plain": [
       "<Figure size 640x480 with 1 Axes>"
      ]
     },
     "metadata": {},
     "output_type": "display_data"
    },
    {
     "data": {
      "image/png": "[encoded data removed]",
      "text/plain": [
       "<Figure size 640x480 with 1 Axes>"
      ]
     },
     "metadata": {},
     "output_type": "display_data"
    },
    {
     "data": {
      "image/png": "[encoded data removed]",
      "text/plain": [
       "<Figure size 640x480 with 1 Axes>"
      ]
     },
     "metadata": {},
     "output_type": "display_data"
    },
    {
     "data": {
      "image/png": "[encoded data removed]",
      "text/plain": [
       "<Figure size 640x480 with 1 Axes>"
      ]
     },
     "metadata": {},
     "output_type": "display_data"
    },
    {
     "data": {
      "image/png": "[encoded data removed]",
      "text/plain": [
       "<Figure size 640x480 with 1 Axes>"
      ]
     },
     "metadata": {},
     "output_type": "display_data"
    },
    {
     "data": {
      "image/png": "[encoded data removed]",
      "text/plain": [
       "<Figure size 640x480 with 1 Axes>"
      ]
     },
     "metadata": {},
     "output_type": "display_data"
    },
    {
     "data": {
      "image/png": "[encoded data removed]",
      "text/plain": [
       "<Figure size 640x480 with 1 Axes>"
      ]
     },
     "metadata": {},
     "output_type": "display_data"
    },
    {
     "data": {
      "image/png": "[encoded data removed]",
      "text/plain": [
       "<Figure size 640x480 with 1 Axes>"
      ]
     },
     "metadata": {},
     "output_type": "display_data"
    },
    {
     "data": {
      "image/png": "[encoded data removed]",
      "text/plain": [
       "<Figure size 640x480 with 1 Axes>"
      ]
     },
     "metadata": {},
     "output_type": "display_data"
    },
    {
     "data": {
      "image/png": "[encoded data removed]",
      "text/plain": [
       "<Figure size 640x480 with 1 Axes>"
      ]
     },
     "metadata": {},
     "output_type": "display_data"
    },
    {
     "data": {
      "image/png": "[encoded data removed]",
      "text/plain": [
       "<Figure size 640x480 with 1 Axes>"
      ]
     },
     "metadata": {},
     "output_type": "display_data"
    },
    {
     "data": {
      "image/png": "[encoded data removed]",
      "text/plain": [
       "<Figure size 640x480 with 1 Axes>"
      ]
     },
     "metadata": {},
     "output_type": "display_data"
    },
    {
     "data": {
      "image/png": "[encoded data removed]",
      "text/plain": [
       "<Figure size 640x480 with 1 Axes>"
      ]
     },
     "metadata": {},
     "output_type": "display_data"
    },
    {
     "data": {
      "image/png": "[encoded data removed]",
      "text/plain": [
       "<Figure size 640x480 with 1 Axes>"
      ]
     },
     "metadata": {},
     "output_type": "display_data"
    },
    {
     "data": {
      "image/png": "[encoded data removed]",
      "text/plain": [
       "<Figure size 640x480 with 1 Axes>"
      ]
     },
     "metadata": {},
     "output_type": "display_data"
    },
    {
     "data": {
      "image/png": "[encoded data removed]",
      "text/plain": [
       "<Figure size 640x480 with 1 Axes>"
      ]
     },
     "metadata": {},
     "output_type": "display_data"
    },
    {
     "data": {
      "image/png": "[encoded data removed]",
      "text/plain": [
       "<Figure size 640x480 with 1 Axes>"
      ]
     },
     "metadata": {},
     "output_type": "display_data"
    },
    {
     "data": {
      "image/png": "[encoded data removed]",
      "text/plain": [
       "<Figure size 640x480 with 1 Axes>"
      ]
     },
     "metadata": {},
     "output_type": "display_data"
    },
    {
     "data": {
      "image/png": "[encoded data removed]",
      "text/plain": [
       "<Figure size 640x480 with 1 Axes>"
      ]
     },
     "metadata": {},
     "output_type": "display_data"
    },
    {
     "data": {
      "image/png": "[encoded data removed]",
      "text/plain": [
       "<Figure size 640x480 with 1 Axes>"
      ]
     },
     "metadata": {},
     "output_type": "display_data"
    }
   ],
   "source": [
    "import matplotlib.pyplot as plt\n",
    "\n",
    "for i in range(20):\n",
    "    plt.subplot(4, 5, i+1)\n",
    "    plt.imshow(dataset['x_train'][i,:].reshape(28, 28))\n",
    "\n",
    "    plt.show()"
   ]
  },
  {
   "cell_type": "markdown",
   "id": "05e1a3b1-62f5-4bf7-a90e-4be6b507d753",
   "metadata": {},
   "source": [
    "### 4.7.2 网络的构建"
   ]
  },
  {
   "cell_type": "code",
   "execution_count": 47,
   "id": "6d784d6b-1880-4667-8997-50a65c1557e8",
   "metadata": {},
   "outputs": [],
   "source": [
    "import numpy as np\n",
    "\n",
    "# 使用类似shape_list = [784, 100, 10]的语句，将每个网络层中神\n",
    "# 经元的数量作为数组进行输入\n",
    "def make_params(shape_list):\n",
    "    weight_list = []\n",
    "    bias_list = []\n",
    "    for i in range(len(shape_list)-1):\n",
    "        # 将服从标准正态分布的随机数作为初始值\n",
    "        weight = np.random.randn(shape_list[i], shape_list[i+1])\n",
    "        # 将初始值全部设置为0.1\n",
    "        bias = np.ones(shape_list[i+1])/10.0\n",
    "        weight_list.append(weight)\n",
    "        bias_list.append(bias)\n",
    "    return weight_list, bias_list"
   ]
  },
  {
   "cell_type": "code",
   "execution_count": 48,
   "id": "00ced689-8e44-45dd-ae88-bbf6a49f69d2",
   "metadata": {},
   "outputs": [],
   "source": [
    "def sigmoid(x): # Sigmoid函数\n",
    "    return 1/(1+np.exp(-x))\n",
    "\n",
    "def inner_product(X, w, b): #  在这里将内积与偏置相加\n",
    "    return np.dot(X, w)+ b\n",
    "\n",
    "def activation(X, w, b):\n",
    "    return sigmoid(inner_product(X, w, b))\n",
    "\n",
    "# 返回保存了每个网络层的计算结果的数组\n",
    "def calculate(X, w_list, b_list, t):\n",
    "    val_list = {}\n",
    "    a_1 = inner_product(X, w_list[0], b_list[0]) # (N, 1000)\n",
    "    y_1 = sigmoid(a_1) # (N, 100)\n",
    "    a_2 = inner_product(y_1, w_list[1], b_list[1]) # (N, 10)\n",
    "    #  这是原本想要得到的值(N,10)\n",
    "    y_2 = sigmoid(a_2)\n",
    "    # 在这里加入简单的归一化处理\n",
    "    y_2 /= np.sum(y_2, axis=1, keepdims=True)\n",
    "    S = 1/(2*len(y_2))*(y_2 - t)**2\n",
    "    L = np.sum(S)\n",
    "    val_list['a_1'] = a_1\n",
    "    val_list['y_1'] = y_1\n",
    "    val_list['a_2'] = a_2\n",
    "    val_list['y_2'] = y_2\n",
    "    val_list['S'] = S\n",
    "    val_list['L'] = L\n",
    "    return val_list\n",
    "\n",
    "#在这里进行预测\n",
    "def predict(X, w_list, b_list, t):\n",
    "    val_list = calculate(X, w_list, b_list, t)\n",
    "    y_2 = val_list['y_2']\n",
    "    result = np.zeros_like(y_2)\n",
    "    #  相当于样本数\n",
    "    for i in range(y_2.shape[0]):\n",
    "        result[i, np.argmax(y_2[i])] = 1\n",
    "    return result"
   ]
  },
  {
   "cell_type": "code",
   "execution_count": 49,
   "id": "563e76a5-e234-4148-a5cd-a377f98e3684",
   "metadata": {},
   "outputs": [],
   "source": [
    "def accuracy(X, w_list, b_list, t):\n",
    "    pre = predict(X, w_list, b_list, t)\n",
    "    result = np.where(np.argmax(t, axis=1)==np.argmax(pre, axis=1), 1, 0)\n",
    "    acc = np.mean(result)\n",
    "    return acc\n",
    "def loss_func(X, w_list, b_list, t):\n",
    "    L = calculate(X, w_list, b_list, t)['L']\n",
    "    return L\n",
    "\n",
    "#eta为学习率，这里将实现参数的更新操作\n",
    "def update(X, w_list, b_list, t, eta):\n",
    "    val_list = {}\n",
    "    val_list = calculate(X, w_list, b_list, t)\n",
    "    a_1 = val_list['a_1']\n",
    "    y_1 = val_list['y_1']\n",
    "    a_2 = val_list['a_2']\n",
    "    y_2 = val_list['y_2']\n",
    "    S = val_list['S']\n",
    "    L = val_list['L']\n",
    "    dL_dS = 1.0\n",
    "    dS_dy_2 = 1/X.shape[0]*(y_2 - t)\n",
    "    dy_2_da_2 = y_2*(1.0 - y_2)\n",
    "    da_2_dw_2 = np.transpose(y_1)\n",
    "    da_2_db_2 = 1.0\n",
    "    da_2_dy_1 = np.transpose(w_list[1])\n",
    "    dy_1_da_1 = y_1 * (1 - y_1)\n",
    "    da_1_dw_1 = np.transpose(X)\n",
    "    da_1_db_1 = 1.0\n",
    "    # 从这里开始进行参数的更新操作\n",
    "    dL_da_2 =  dL_dS * dS_dy_2 * dy_2_da_2\n",
    "    b_list[1] -= eta*np.sum(dL_da_2 * da_2_db_2, axis=0)\n",
    "    w_list[1] -= eta*np.dot(da_2_dw_2, dL_da_2)\n",
    "    dL_dy_1 = np.dot(dL_da_2, da_2_dy_1)\n",
    "    dL_da_1 = dL_dy_1 * dy_1_da_1\n",
    "    b_list[0] -= eta*np.sum(dL_da_1 * da_1_db_1, axis=0)\n",
    "    w_list[0] -= eta*np.dot(da_1_dw_1, dL_da_1)\n",
    "    return w_list, b_list"
   ]
  },
  {
   "cell_type": "markdown",
   "id": "36c71f98-5aef-446b-92a5-a6a1a2b538d5",
   "metadata": {},
   "source": [
    "### 4.7.3　网络的训练"
   ]
  },
  {
   "cell_type": "code",
   "execution_count": 50,
   "id": "1422c2d2-3cdd-4cfb-9bec-e059660d2e33",
   "metadata": {},
   "outputs": [
    {
     "name": "stdout",
     "output_type": "stream",
     "text": [
      "Time: 100, Accuracy: 0.451000, Loss: 0.370033\n",
      "Time: 200, Accuracy: 0.619300, Loss: 0.259999\n",
      "Time: 300, Accuracy: 0.711800, Loss: 0.203734\n",
      "Time: 400, Accuracy: 0.749800, Loss: 0.176723\n",
      "Time: 500, Accuracy: 0.774900, Loss: 0.160400\n",
      "Time: 600, Accuracy: 0.798200, Loss: 0.146933\n",
      "Time: 700, Accuracy: 0.808300, Loss: 0.137605\n",
      "Time: 800, Accuracy: 0.820900, Loss: 0.129633\n",
      "Time: 900, Accuracy: 0.831300, Loss: 0.122786\n",
      "Time: 1000, Accuracy: 0.838500, Loss: 0.117422\n"
     ]
    }
   ],
   "source": [
    "dataset = load_mnist()\n",
    "X_train = dataset['x_train']\n",
    "t_train = dataset['t_train']\n",
    "X_test = dataset['x_test']\n",
    "t_test = dataset['t_test']\n",
    "\n",
    "weight_list, bias_list = make_params([784, 100, 10])\n",
    "# 指定进行多少次学习\n",
    "# train_time = 10000\n",
    "train_time = 1000\n",
    "# 指定每次学习使用多少个样本数据\n",
    "batch_size = 1000\n",
    "#创建用于记录精度和损失的变化情况的数组\n",
    "total_acc_list = []\n",
    "total_loss_list = []\n",
    "for i in range(train_time):\n",
    "\n",
    "    #  生成batch_size个0～59999内的随机整数\n",
    "    ra = np.random.randint(60000, size=batch_size)\n",
    "    # 在这里进行参数的更新操作。eta为学习率，用于决定参数按照多大比例进行更新\n",
    "    # 将学习率设置为2.0\n",
    "    # 在实际中往往需要反复尝试才能确定学习率\n",
    "    x_batch, t_batch = X_train[ra,:], t_train[ra,:]\n",
    "    weight_list, bias_list = update(x_batch, weight_list, bias_list, t_batch, eta=2.0)\n",
    "    # 每学习5次对学习进度进行确认\n",
    "    if (i+1)%100 == 0:\n",
    "        acc_list = []\n",
    "        loss_list = []\n",
    "        for k in range(10000//batch_size):\n",
    "            x_batch, t_batch = X_test[k*batch_size:(k+1)*batch_size, :], t_test[k*batch_size:(k+1)*batch_size, :]\n",
    "            acc_val = accuracy(x_batch, weight_list, bias_list, t_batch)\n",
    "            loss_val = loss_func(x_batch, weight_list, bias_list, t_batch)\n",
    "            acc_list.append(acc_val)\n",
    "            loss_list.append(loss_val)\n",
    "        # 计算精度的平均值\n",
    "        acc = np.mean(acc_list)\n",
    "        # 计算损失总和\n",
    "        loss = np.mean(loss_list)\n",
    "        total_acc_list.append(acc)\n",
    "        total_loss_list.append(loss)\n",
    "        print(\"Time: %d, Accuracy: %f, Loss: %f\"%(i+1, acc, loss))"
   ]
  },
  {
   "cell_type": "code",
   "execution_count": 51,
   "id": "d658c025-b392-4b95-9fe8-e32d25434f5c",
   "metadata": {},
   "outputs": [
    {
     "data": {
      "image/png": "[encoded data removed]",
      "text/plain": [
       "<Figure size 640x480 with 2 Axes>"
      ]
     },
     "metadata": {},
     "output_type": "display_data"
    }
   ],
   "source": [
    "import matplotlib.pyplot as plt\n",
    "plt.subplot(211)\n",
    "plt.plot(np.arange(0, train_time, 100),total_acc_list)\n",
    "plt.title('accuracy')\n",
    "plt.subplot(212)\n",
    "plt.plot(np.arange(0, train_time, 100), total_loss_list)\n",
    "plt.title('loss')\n",
    "plt.tight_layout()\n",
    "plt.show()"
   ]
  },
  {
   "cell_type": "markdown",
   "id": "da021f01-76ee-470b-91bf-8677757985b3",
   "metadata": {},
   "source": [
    "## 4.8 NumPy神经网络编程（强化学习篇）"
   ]
  },
  {
   "cell_type": "markdown",
   "id": "d6312d41-b78a-4814-ba43-d0a8ceee172d",
   "metadata": {},
   "source": [
    "### 4.8.1 何谓OpenAi"
   ]
  },
  {
   "cell_type": "markdown",
   "id": "877f169d-d883-43ee-982e-a9a884157ba8",
   "metadata": {},
   "source": [
    "### 4.8.2 游戏的安装和执行"
   ]
  },
  {
   "cell_type": "markdown",
   "id": "ca61545f-4734-430e-ab73-a175c405e7eb",
   "metadata": {},
   "source": [
    "### 4.8.3　Q学习"
   ]
  },
  {
   "cell_type": "markdown",
   "id": "e1c99648-bb20-4094-9bb9-323b5aede938",
   "metadata": {},
   "source": [
    "4.9 cartpole1"
   ]
  },
  {
   "cell_type": "raw",
   "id": "6a2101d4-8c9d-414f-ad74-af00262a8935",
   "metadata": {},
   "source": [
    "import gym\n",
    "import numpy as np\n",
    "\n",
    "env = gym.make('CartPole-v0')\n",
    "\n",
    "goal_average_steps = 195\n",
    "max_number_of_steps = 200\n",
    "num_consecutive_iterations = 100\n",
    "num_episodes = 5000\n",
    "last_time_steps = np.zeros(num_consecutive_iterations)\n",
    "\n",
    "q_table = np.random.uniform(low=-1, high=1, size=(4 ** 4, env.action_space.n))\n",
    "\n",
    "def bins(clip_min, clip_max, num):\n",
    "    return np.linspace(clip_min, clip_max, num + 1)[1:-1]\n",
    "\n",
    "def digitize_state(observation):\n",
    "    cart_pos, cart_v, pole_angle, pole_v = observation\n",
    "    digitized = [np.digitize(cart_pos, bins=bins(-2.4, 2.4, 4)),\n",
    "                 np.digitize(cart_v, bins=bins(-3.0, 3.0, 4)),\n",
    "                 np.digitize(pole_angle, bins=bins(-0.5, 0.5, 4)),\n",
    "                 np.digitize(pole_v, bins=bins(-2.0, 2.0, 4))]\n",
    "    return sum([x * (4 ** i) for i, x in enumerate(digitized)])\n",
    "\n",
    "def get_action(state, action, observation, reward):\n",
    "    next_state = digitize_state(observation)\n",
    "    next_action = np.argmax(q_table[next_state])\n",
    "\n",
    "    #  更新Q表格\n",
    "    alpha = 0.2\n",
    "    gamma = 0.99\n",
    "    q_table[state, action] = (1 - alpha) * q_table[state, action] +\\\n",
    "            alpha * (reward + gamma * q_table[next_state, next_action])\n",
    "\n",
    "    return next_action, next_state\n",
    "step_list = []\n",
    "for episode in range(num_episodes):\n",
    "    # 环境的初始化\n",
    "    observation = env.reset()\n",
    "\n",
    "    state = digitize_state(observation)\n",
    "    action = np.argmax(q_table[state])\n",
    "\n",
    "    episode_reward = 0\n",
    "    for t in range(max_number_of_steps):\n",
    "        # 绘制CartPole\n",
    "        env.render()\n",
    "\n",
    "        #执行行动并获取反馈\n",
    "        observation, reward, done, info = env.step(action)\n",
    "\n",
    "        # 选择下一个行动\n",
    "        action, state = get_action(state, action, observation, reward)\n",
    "        episode_reward += reward\n",
    "\n",
    "        if done:\n",
    "            print('%d Episode finished after %f time steps / mean %d' % (episode, t + 1,\n",
    "                last_time_steps.mean()))\n",
    "\n",
    "            last_time_steps = np.hstack((last_time_steps[1:], [t+1]))\n",
    "            step_list.append(last_time_steps.mean())\n",
    "            break\n",
    "    #  如果最近的100次记录达到195以上，就说明学习成功了\n",
    "    if (last_time_steps.mean() >= goal_average_steps): \n",
    "        print('Episode %d train agent successfully!' % episode)\n",
    "        break\n",
    "#  下面是绘制图表的代码\n",
    "import matplotlib.pyplot as plt\n",
    "plt.plot(step_list)\n",
    "plt.xlabel('episode')\n",
    "plt.ylabel('mean_step')\n",
    "plt.show()"
   ]
  },
  {
   "cell_type": "markdown",
   "id": "bd5e0952-ff73-4a05-b9df-31e3ba775f66",
   "metadata": {},
   "source": [
    "4.10 cartpole2"
   ]
  },
  {
   "cell_type": "raw",
   "id": "82bdb01e-e5ca-4efa-b8e7-29ab93fd3c1a",
   "metadata": {},
   "source": [
    "import gym\n",
    "import numpy as np\n",
    "\n",
    "env = gym.make('CartPole-v0')\n",
    "\n",
    "goal_average_steps = 195\n",
    "max_number_of_steps = 200\n",
    "num_consecutive_iterations = 100\n",
    "num_episodes = 5000\n",
    "last_time_steps = np.zeros(num_consecutive_iterations)\n",
    "\n",
    "q_table = np.random.uniform(low=-1, high=1, size=(4 ** 4, env.action_space.n))\n",
    "\n",
    "def bins(clip_min, clip_max, num):\n",
    "    return np.linspace(clip_min, clip_max, num + 1)[1:-1]\n",
    "\n",
    "def digitize_state(observation):\n",
    "    cart_pos, cart_v, pole_angle, pole_v = observation\n",
    "    digitized = [np.digitize(cart_pos, bins=bins(-2.4, 2.4, 4)),\n",
    "                 np.digitize(cart_v, bins=bins(-3.0, 3.0, 4)),\n",
    "                 np.digitize(pole_angle, bins=bins(-0.5, 0.5, 4)),\n",
    "                 np.digitize(pole_v, bins=bins(-2.0, 2.0, 4))]\n",
    "    return sum([x * (4 ** i) for i, x in enumerate(digitized)])\n",
    "\n",
    "def get_action(state, action, observation, reward):\n",
    "    next_state = digitize_state(observation)\n",
    "\n",
    "    epsilon = 0.2\n",
    "    if  epsilon <= np.random.uniform(0, 1):\n",
    "        next_action = np.argmax(q_table[next_state])\n",
    "    else:\n",
    "        next_action = np.random.choice([0, 1])\n",
    "\n",
    "    #  Q表格的更新\n",
    "    alpha = 0.2\n",
    "    gamma = 0.99\n",
    "    q_table[state, action] = (1 - alpha) * q_table[state, action] +\\\n",
    "            alpha * (reward + gamma * q_table[next_state, next_action])\n",
    "\n",
    "    return next_action, next_state\n",
    "step_list = []\n",
    "for episode in range(num_episodes):\n",
    "    # 环境的初始化\n",
    "    observation = env.reset()\n",
    "\n",
    "    state = digitize_state(observation)\n",
    "    action = np.argmax(q_table[state])\n",
    "\n",
    "    episode_reward = 0\n",
    "    for t in range(max_number_of_steps):\n",
    "        #  绘制CartPole\n",
    "        env.render()\n",
    "\n",
    "        # 执行行动并获取反馈\n",
    "        observation, reward, done, info = env.step(action)\n",
    "\n",
    "        # 选择下一个行动\n",
    "        action, state = get_action(state, action, observation, reward)\n",
    "        episode_reward += reward\n",
    "\n",
    "        if done:\n",
    "            print('%d Episode finished after %f time steps / mean %f' % (episode, t + 1,\n",
    "                last_time_steps.mean()))\n",
    "\n",
    "            last_time_steps = np.hstack((last_time_steps[1:], [episode_reward]))\n",
    "            step_list.append(last_time_steps.mean())\n",
    "            break\n",
    "    # 如果最近的100次记录达到195以上，就说明学习成功了\n",
    "    if (last_time_steps.mean() >= goal_average_steps): \n",
    "        print('Episode %d train agent successfully!' % episode)\n",
    "        break\n",
    "# 下面是绘制图表的代码\n",
    "import matplotlib.pyplot as plt\n",
    "plt.plot(step_list)\n",
    "plt.xlabel('episode')\n",
    "plt.ylabel('mean_step')\n",
    "plt.show()"
   ]
  },
  {
   "cell_type": "markdown",
   "id": "a228f7d9-3331-437e-8663-f3baefe20e15",
   "metadata": {},
   "source": [
    "4.11 cartpole3"
   ]
  },
  {
   "cell_type": "raw",
   "id": "e06b910f-dc06-4898-86f2-d346c5e46f50",
   "metadata": {},
   "source": [
    "import gym\n",
    "import numpy as np\n",
    "\n",
    "env = gym.make('CartPole-v0')\n",
    "\n",
    "goal_average_steps = 195\n",
    "max_number_of_steps = 200\n",
    "num_consecutive_iterations = 100\n",
    "num_episodes = 5000\n",
    "last_time_steps = np.zeros(num_consecutive_iterations)\n",
    "\n",
    "q_table = np.random.uniform(low=-1, high=1, size=(4 ** 4, env.action_space.n))\n",
    "\n",
    "def bins(clip_min, clip_max, num):\n",
    "    return np.linspace(clip_min, clip_max, num + 1)[1:-1]\n",
    "\n",
    "def digitize_state(observation):\n",
    "    cart_pos, cart_v, pole_angle, pole_v = observation\n",
    "    digitized = [np.digitize(cart_pos, bins=bins(-2.4, 2.4, 4)),\n",
    "                 np.digitize(cart_v, bins=bins(-3.0, 3.0, 4)),\n",
    "                 np.digitize(pole_angle, bins=bins(-0.5, 0.5, 4)),\n",
    "                 np.digitize(pole_v, bins=bins(-2.0, 2.0, 4))]\n",
    "    return sum([x * (4 ** i) for i, x in enumerate(digitized)])\n",
    "\n",
    "def get_action(state, action, observation, reward, episode):\n",
    "    next_state = digitize_state(observation)\n",
    "\n",
    "    epsilon = 0.5 * (0.99 ** episode)\n",
    "    if  epsilon <= np.random.uniform(0, 1):\n",
    "        next_action = np.argmax(q_table[next_state])\n",
    "    else:\n",
    "        next_action = np.random.choice([0, 1])\n",
    "\n",
    "    #  Q表格的更新\n",
    "    alpha = 0.2\n",
    "    gamma = 0.99\n",
    "    q_table[state, action] = (1 - alpha) * q_table[state, action] +\\\n",
    "            alpha * (reward + gamma * q_table[next_state, next_action])\n",
    "\n",
    "    return next_action, next_state\n",
    "step_list = []\n",
    "for episode in range(num_episodes):\n",
    "    # 环境的初始化\n",
    "    observation = env.reset()\n",
    "\n",
    "    state = digitize_state(observation)\n",
    "    action = np.argmax(q_table[state])\n",
    "\n",
    "    episode_reward = 0\n",
    "    for t in range(max_number_of_steps):\n",
    "        # 绘制CartPole\n",
    "        env.render()\n",
    "\n",
    "        #  执行行动并获取反馈\n",
    "        observation, reward, done, info = env.step(action)\n",
    "\n",
    "        # 行动的选择\n",
    "        action, state = get_action(state, action, observation, reward, episode)\n",
    "        episode_reward += reward\n",
    "\n",
    "        if done:\n",
    "            print('%d Episode finished after %f time steps / mean %f' % (episode, t + 1,\n",
    "                last_time_steps.mean()))\n",
    "\n",
    "            last_time_steps = np.hstack((last_time_steps[1:], [episode_reward]))\n",
    "            step_list.append(last_time_steps.mean())\n",
    "            break\n",
    "    #  如果最近的100次记录达到195以上，就说明学习成功了\n",
    "    if (last_time_steps.mean() >= goal_average_steps): \n",
    "        print('Episode %d train agent successfully!' % episode)\n",
    "        break\n",
    "# 下面是绘制图表的代码\n",
    "import matplotlib.pyplot as plt\n",
    "plt.plot(step_list)\n",
    "plt.xlabel('episode')\n",
    "plt.ylabel('mean_step')\n",
    "plt.show()"
   ]
  },
  {
   "cell_type": "markdown",
   "id": "ec4e8bf5-8c84-424b-a1a8-8dfdb5d22799",
   "metadata": {},
   "source": [
    "4.12 cartpole4"
   ]
  },
  {
   "cell_type": "raw",
   "id": "bce02f14-eabf-49e4-96ba-8eb79f4fcf10",
   "metadata": {},
   "source": [
    "import gym\n",
    "import numpy as np\n",
    "\n",
    "env = gym.make('CartPole-v0')\n",
    "\n",
    "goal_average_steps = 195\n",
    "max_number_of_steps = 200\n",
    "num_consecutive_iterations = 100\n",
    "num_episodes = 5000\n",
    "last_time_steps = np.zeros(num_consecutive_iterations)\n",
    "\n",
    "q_table = np.random.uniform(low=-1, high=1, size=(4 ** 4, env.action_space.n))\n",
    "\n",
    "def bins(clip_min, clip_max, num):\n",
    "    return np.linspace(clip_min, clip_max, num + 1)[1:-1]\n",
    "\n",
    "def digitize_state(observation):\n",
    "    cart_pos, cart_v, pole_angle, pole_v = observation\n",
    "    digitized = [np.digitize(cart_pos, bins=bins(-2.4, 2.4, 4)),\n",
    "                 np.digitize(cart_v, bins=bins(-3.0, 3.0, 4)),\n",
    "                 np.digitize(pole_angle, bins=bins(-0.5, 0.5, 4)),\n",
    "                 np.digitize(pole_v, bins=bins(-2.0, 2.0, 4))]\n",
    "    return sum([x * (4 ** i) for i, x in enumerate(digitized)])\n",
    "\n",
    "def get_action(state, action, observation, reward, episode):\n",
    "    next_state = digitize_state(observation)\n",
    "\n",
    "    epsilon = 0.5 * (0.99 ** episode)\n",
    "    if  epsilon <= np.random.uniform(0, 1):\n",
    "        next_action = np.argmax(q_table[next_state])\n",
    "    else:\n",
    "        next_action = np.random.choice([0, 1])\n",
    "\n",
    "    #  更新Q表格\n",
    "    alpha = 0.2\n",
    "    gamma = 0.99\n",
    "    q_table[state, action] = (1 - alpha) * q_table[state, action] +\\\n",
    "            alpha * (reward + gamma * q_table[next_state, next_action])\n",
    "\n",
    "    return next_action, next_state\n",
    "step_list = []\n",
    "for episode in range(num_episodes):\n",
    "    # 环境的初始化\n",
    "    observation = env.reset()\n",
    "\n",
    "    state = digitize_state(observation)\n",
    "    action = np.argmax(q_table[state])\n",
    "\n",
    "    episode_reward = 0\n",
    "    for t in range(max_number_of_steps):\n",
    "        #绘制CartPole\n",
    "        env.render()\n",
    "\n",
    "         # 执行行动并获取反馈\n",
    "        observation, reward, done, info = env.step(action)\n",
    "        #  添加惩罚项\n",
    "        if done:\n",
    "            reward = -200\n",
    "        #  行动的选择\n",
    "        action, state = get_action(state, action, observation, reward, episode)\n",
    "        episode_reward += reward\n",
    "        if done:\n",
    "            print('%d Episode finished after %f time steps / mean %f' % (episode, t + 1,\n",
    "                last_time_steps.mean()))\n",
    "            last_time_steps = np.hstack((last_time_steps[1:], [t + 1]))\n",
    "            step_list.append(last_time_steps.mean())\n",
    "            break\n",
    "    #  如果最近的100次记录达到195以上，就说明学习成功了\n",
    "    if (last_time_steps.mean() >= goal_average_steps): \n",
    "        print('Episode %d train agent successfully!' % episode)\n",
    "        break\n",
    "# 下面是绘制图表的代码\n",
    "import matplotlib.pyplot as plt\n",
    "plt.plot(step_list)\n",
    "plt.xlabel('episode')\n",
    "plt.ylabel('mean_step')\n",
    "plt.show()"
   ]
  },
  {
   "cell_type": "markdown",
   "id": "4f04dedd-95fa-4d28-a9d9-93ddf194f0f5",
   "metadata": {},
   "source": [
    "4.13 cartpole4"
   ]
  },
  {
   "cell_type": "raw",
   "id": "a5083c4b-8ca7-4882-a62f-b6b031cb4330",
   "metadata": {},
   "source": [
    "# coding: utf-8\n",
    "import gym # 导入gym和NumPy模块\n",
    "import numpy as np\n",
    "\n",
    "#  将相当于环境的对象保存到env中\n",
    "env = gym.make('CartPole-v0')\n",
    "\n",
    "# 目标是保持连续195步以上棒子不倒\n",
    "goal_average_steps = 195\n",
    "# 最大步数\n",
    "max_number_of_steps = 200\n",
    "# 评估范围的对局数\n",
    "num_consecutive_iterations = 100\n",
    "num_episodes = 5000\n",
    "last_time_steps = np.zeros(num_consecutive_iterations)\n",
    "\n",
    "# 创建用于保存价值函数的输出值的表格\n",
    "# np.random.uniform返回指定范围内的均匀分布的随机数\n",
    "q_table = np.random.uniform(low=-1, high=1, size=(4**4, env.action_space.n))\n",
    "\n",
    "def bins(clip_min, clip_max, num):\n",
    "    # np.linspace返回指定范围内的等间距数列\n",
    "    return np.linspace(clip_min, clip_max, num + 1)[1:-1]\n",
    "\n",
    "def digitize_state(observation):\n",
    "    # 将各个值转换为4个离散值\n",
    "    #  np.digitize是将指定的数值归类到bins所指定的基数的函数。返回的是基数的索引\n",
    "    cart_pos, cart_v, pole_angle, pole_v=observation\n",
    "    digitized = [np.digitize(cart_pos, bins=bins(-2.4, 2.4, 4)),\n",
    "                 np.digitize(cart_v, bins=bins(-3.0, 3.0, 4)),\n",
    "                 np.digitize(pole_angle, bins=bins(-0.5, 0.5, 4)),\n",
    "                 np.digitize(pole_v, bins=bins(-2.0, 2.0, 4))]\n",
    "    #  转换为0～255的数\n",
    "\n",
    "    #  可以使用带索引的循环语句\n",
    "    return sum([x* (4**i) for i, x in enumerate(digitized)])\n",
    "\n",
    "def get_action(state, action, observation, reward, episode):\n",
    "    next_state = digitize_state(observation)\n",
    "\n",
    "    epsilon = 0.5 * (0.99** episode)\n",
    "   # 如果均匀随机数比0.2还要大\n",
    "    if epsilon <= np.random.uniform(0, 1):\n",
    "       # 将q_table中下一次所采取的行动当中具有最高价值的行动保存到next_action中\n",
    "        next_action = np.argmax(q_table[next_state])\n",
    "    else:\n",
    "    # 换言之就是按照20%的概率随机采取行动\n",
    "        next_action = np.random.choice([0, 1])\n",
    "\n",
    "\n",
    "    #  更新Q表格\n",
    "    alpha = 0.2\n",
    "    gamma = 0.99\n",
    "    q_table[state, action] = (1 - alpha) * q_table[state, action] + \\\n",
    "        alpha * (reward + gamma * q_table[next_state, next_action])\n",
    "    return next_action, next_state\n",
    "\n",
    "step_list = []\n",
    "for episode in range(num_episodes):\n",
    "    #  环境的初始化\n",
    "    observation = env.reset()\n",
    "\n",
    "    state = digitize_state(observation)\n",
    "    action = np.argmax(q_table[state])\n",
    "\n",
    "    episode_reward = 0\n",
    "    for t in range(max_number_of_steps):\n",
    "        # 绘制CartPole\n",
    "        env.render()\n",
    "\n",
    "        # 采取action时的环境、报酬、游戏状态是否为结束、调试信息等有用的信息\n",
    "        observation, reward, done, info=env.step(action)\n",
    "        # 添加棒子倒下时的惩罚项\n",
    "        if done:\n",
    "            reward -= 200\n",
    "        #  选择下一个行动\n",
    "        action, state = get_action(state, action, observation, reward, episode)\n",
    "        episode_reward += reward\n",
    "\n",
    "        if done:\n",
    "            print('%d Episode finished after %f time steps / mean %f' %(episode, t + 1, last_time_steps.mean()))\n",
    "            last_time_steps = np.hstack((last_time_steps[1:], [t+1]))\n",
    "            #  将持续的步数保存到步数列表的最后。np.hstack是用于连接数组的函数\n",
    "            step_list.append(last_time_steps.mean())\n",
    "            break\n",
    "    #  如果最近的100次记录达到195以上，就说明学习成功了\n",
    "    if (last_time_steps.mean() >= goal_average_steps):\n",
    "        print('Episode %d train agent successfully!' % episode)\n",
    "        break\n",
    "\n",
    "# 下面是绘制图表的代码\n",
    "import matplotlib.pyplot as plt\n",
    "plt.plot(step_list)\n",
    "plt.xlabel('episode')\n",
    "plt.ylabel('mean_step')\n",
    "plt.show()"
   ]
  },
  {
   "cell_type": "markdown",
   "id": "1f679eb7-0e2b-4fc3-9691-601e40be6cf7",
   "metadata": {},
   "source": [
    "### 4.8.4 np.digitize"
   ]
  },
  {
   "cell_type": "markdown",
   "id": "39fc2811-fba7-4639-947d-d50fcc370e7d",
   "metadata": {},
   "source": [
    "### 4.8.5 策略梯度算法"
   ]
  },
  {
   "cell_type": "markdown",
   "id": "c6148e89-f299-4ebf-a123-59b1b8f13be2",
   "metadata": {},
   "source": [
    "4.14 cartpole5"
   ]
  },
  {
   "cell_type": "raw",
   "id": "9927fcf7-2fd8-4bfa-92d4-84c8ab0d557d",
   "metadata": {},
   "source": [
    "import gym\n",
    "import numpy as np\n",
    "import matplotlib.pyplot as plt\n",
    "\n",
    "def do_episode(w, env):\n",
    "    done = False\n",
    "    observation = env.reset()\n",
    "    num_steps = 0\n",
    "\n",
    "    while not done and num_steps <= max_number_of_steps:\n",
    "        action = take_action(observation, w)\n",
    "        observation, _, done, _ = env.step(action)\n",
    "        num_steps += 1\n",
    "    #  在这里给与报酬，简单的说就是将（连续完成的步数-最大步数)作为报酬给予\n",
    "    step_val = -1 if num_steps >= max_number_of_steps else num_steps - max_number_of_steps\n",
    "    return step_val, num_steps\n",
    "\n",
    "#如果值超过0，就返回1\n",
    "def take_action(X, w): \n",
    "    action = 1 if calculate(X, w) > 0.0 else 0\n",
    "    return action\n",
    "\n",
    "def calculate(X, w):\n",
    "    # 返回值不是数组，而是一个数值\n",
    "    result = np.dot(X, w) \n",
    "    return result\n",
    "\n",
    "env = gym.make('CartPole-v0')\n",
    "\n",
    "# env.render()\n",
    "# 如果需要观察游戏的状态，则执行env.render()语句即可\n",
    "\n",
    "eta = 0.2\n",
    "#  更新参数用的标准差\n",
    "sigma = 0.05 \n",
    "\n",
    "#  进行学习的最大对局数\n",
    "max_episodes = 5000 \n",
    "max_number_of_steps = 200\n",
    "# 输入的参数数量\n",
    "n_states = 4 \n",
    "num_batch = 10\n",
    "\n",
    "# 评估范围内的对局数\n",
    "num_consecutive_iterations = 100 \n",
    "\n",
    "w = np.random.randn(n_states)\n",
    "reward_list = np.zeros(num_batch)\n",
    "last_time_steps = np.zeros(num_consecutive_iterations)\n",
    "#  记录过去100次对局中完成的步数的平均值作为学习进度信息\n",
    "mean_list = [] \n",
    "\n",
    "for episode in range(max_episodes//num_batch):\n",
    "    N = np.random.normal(scale=sigma,size=(num_batch, w.shape[0]))\n",
    "    #  用于修改参数值的值，这个是误差值\n",
    "    for i in range(num_batch):\n",
    "        w_try = w + N[i]\n",
    "        reward, steps = do_episode(w_try, env)\n",
    "        if i == num_batch-1:\n",
    "            print('%d Episode finished after %d steps / mean %f' %(episode*num_batch, steps, last_time_steps.mean()))\n",
    "        last_time_steps = np.hstack((last_time_steps[1:], [steps]))\n",
    "        reward_list[i] = reward\n",
    "        mean_list.append(last_time_steps.mean())\n",
    "    #  平均步数超过195就停止学习\n",
    "    if last_time_steps.mean() >= 195: break \n",
    "\n",
    "    std = np.std(reward_list)\n",
    "    if std == 0: std = 1\n",
    "    # 对报酬值进行归一化处理\n",
    "    A = (reward_list - np.mean(reward_list))/std\n",
    "    #  在这里对参数进行更新\n",
    "    w_delta = eta /(num_batch*sigma) * np.dot(N.T, A)\n",
    "    #  乘以sigma用于调整幅度\n",
    "    w += w_delta\n",
    "\n",
    "\n",
    "env.close()\n",
    "\n",
    "#  绘制并显示图表\n",
    "plt.plot(mean_list)\n",
    "plt.xlabel(\"episode\")\n",
    "plt.ylabel(\"mean_step\")\n",
    "plt.show()"
   ]
  }
 ],
 "metadata": {
  "kernelspec": {
   "display_name": "Python 3 (ipykernel)",
   "language": "python",
   "name": "python3"
  },
  "language_info": {
   "codemirror_mode": {
    "name": "ipython",
    "version": 3
   },
   "file_extension": ".py",
   "mimetype": "text/x-python",
   "name": "python",
   "nbconvert_exporter": "python",
   "pygments_lexer": "ipython3",
   "version": "3.11.4"
  }
 },
 "nbformat": 4,
 "nbformat_minor": 5
}
