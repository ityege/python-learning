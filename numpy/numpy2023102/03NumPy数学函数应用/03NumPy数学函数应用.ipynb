{
 "cells": [
  {
   "cell_type": "markdown",
   "id": "fa30f273-fc5c-4306-a09f-a6f3c08959b7",
   "metadata": {},
   "source": [
    "## 3.1 NumPy中的数学函数和常量"
   ]
  },
  {
   "cell_type": "markdown",
   "id": "29d89c21-902a-45b5-be8a-845d26af90e6",
   "metadata": {},
   "source": [
    "### 3.1.1 四则运算"
   ]
  },
  {
   "cell_type": "code",
   "execution_count": 1,
   "id": "d683b421-178b-448a-9b0c-6ec0cd4c5a73",
   "metadata": {},
   "outputs": [],
   "source": [
    "import numpy as np"
   ]
  },
  {
   "cell_type": "code",
   "execution_count": 2,
   "id": "dfdf57ec-91fe-4351-bc74-a7eaf4e7c697",
   "metadata": {},
   "outputs": [],
   "source": [
    "a = np.array([0, 1, 2, 3, 4])"
   ]
  },
  {
   "cell_type": "code",
   "execution_count": 3,
   "id": "8074a0dd-6602-4596-a70b-e5e07346e51e",
   "metadata": {},
   "outputs": [],
   "source": [
    "b = np.array([2, 4, 6, 8, 10])"
   ]
  },
  {
   "cell_type": "code",
   "execution_count": 4,
   "id": "76d946b9-fb53-45fb-b84f-63cba7440dd6",
   "metadata": {},
   "outputs": [
    {
     "data": {
      "text/plain": [
       "array([ 2,  5,  8, 11, 14])"
      ]
     },
     "execution_count": 4,
     "metadata": {},
     "output_type": "execute_result"
    }
   ],
   "source": [
    "a + b # 将两个数组相加会返回将每个元素相加后得到的结果"
   ]
  },
  {
   "cell_type": "code",
   "execution_count": 5,
   "id": "4d281d55-0659-4a6c-b1d0-02c8ad5dc146",
   "metadata": {},
   "outputs": [
    {
     "data": {
      "text/plain": [
       "array([4, 5, 6, 7, 8])"
      ]
     },
     "execution_count": 5,
     "metadata": {},
     "output_type": "execute_result"
    }
   ],
   "source": [
    "a + 4 #给每个元素加4"
   ]
  },
  {
   "cell_type": "code",
   "execution_count": 6,
   "id": "abd47abf-5682-48ec-b5fe-4d07a2d597c3",
   "metadata": {},
   "outputs": [
    {
     "data": {
      "text/plain": [
       "array([ 2,  5,  8, 11, 14])"
      ]
     },
     "execution_count": 6,
     "metadata": {},
     "output_type": "execute_result"
    }
   ],
   "source": [
    "np.add(a ,b) # 使用函数也可以完成同样的计算"
   ]
  },
  {
   "cell_type": "code",
   "execution_count": 7,
   "id": "1a0e1bac-bfc7-4a68-a79f-0f91f3f1718f",
   "metadata": {},
   "outputs": [
    {
     "data": {
      "text/plain": [
       "array([4, 5, 6, 7, 8])"
      ]
     },
     "execution_count": 7,
     "metadata": {},
     "output_type": "execute_result"
    }
   ],
   "source": [
    "np.add(a, 4)"
   ]
  },
  {
   "cell_type": "code",
   "execution_count": 8,
   "id": "1a451153-56ca-4e9b-a2a1-1e9c9a112c55",
   "metadata": {},
   "outputs": [
    {
     "data": {
      "text/plain": [
       "array([-2, -3, -4, -5, -6])"
      ]
     },
     "execution_count": 8,
     "metadata": {},
     "output_type": "execute_result"
    }
   ],
   "source": [
    "a - b # 使用之前生成的a和b"
   ]
  },
  {
   "cell_type": "code",
   "execution_count": 9,
   "id": "5543eeb6-828b-486c-aaed-8e74848ae512",
   "metadata": {},
   "outputs": [
    {
     "data": {
      "text/plain": [
       "array([2, 3, 4, 5, 6])"
      ]
     },
     "execution_count": 9,
     "metadata": {},
     "output_type": "execute_result"
    }
   ],
   "source": [
    "b - a"
   ]
  },
  {
   "cell_type": "code",
   "execution_count": 10,
   "id": "b18121a4-06f0-413a-9d11-51f7ac4c0a57",
   "metadata": {},
   "outputs": [
    {
     "data": {
      "text/plain": [
       "array([-4, -3, -2, -1,  0])"
      ]
     },
     "execution_count": 10,
     "metadata": {},
     "output_type": "execute_result"
    }
   ],
   "source": [
    "a - 4 #  将每个元素减去4"
   ]
  },
  {
   "cell_type": "code",
   "execution_count": 11,
   "id": "c4b05cf0-23c9-4fb5-8ced-ab79d0b6c66d",
   "metadata": {},
   "outputs": [
    {
     "data": {
      "text/plain": [
       "array([-2, -3, -4, -5, -6])"
      ]
     },
     "execution_count": 11,
     "metadata": {},
     "output_type": "execute_result"
    }
   ],
   "source": [
    "np.subtract(a, b) # 减法也可以使用函数实现"
   ]
  },
  {
   "cell_type": "code",
   "execution_count": 12,
   "id": "ac08919f-53ed-42a4-825e-fb9eb98581a8",
   "metadata": {},
   "outputs": [
    {
     "data": {
      "text/plain": [
       "array([-4, -3, -2, -1,  0])"
      ]
     },
     "execution_count": 12,
     "metadata": {},
     "output_type": "execute_result"
    }
   ],
   "source": [
    "np.subtract(a, 4)"
   ]
  },
  {
   "cell_type": "code",
   "execution_count": 13,
   "id": "42ed0fe7-e681-424a-8049-4f3ab60897f0",
   "metadata": {},
   "outputs": [
    {
     "data": {
      "text/plain": [
       "array([ 0,  4, 12, 24, 40])"
      ]
     },
     "execution_count": 13,
     "metadata": {},
     "output_type": "execute_result"
    }
   ],
   "source": [
    "a * b"
   ]
  },
  {
   "cell_type": "code",
   "execution_count": 14,
   "id": "56c302fe-8e46-467c-80c2-29898d31d3ce",
   "metadata": {},
   "outputs": [
    {
     "data": {
      "text/plain": [
       "array([0, 2, 4, 6, 8])"
      ]
     },
     "execution_count": 14,
     "metadata": {},
     "output_type": "execute_result"
    }
   ],
   "source": [
    "a * 2"
   ]
  },
  {
   "cell_type": "code",
   "execution_count": 15,
   "id": "45d7e504-0787-4166-b353-bc81d2910972",
   "metadata": {},
   "outputs": [
    {
     "data": {
      "text/plain": [
       "array([ 0,  4, 12, 24, 40])"
      ]
     },
     "execution_count": 15,
     "metadata": {},
     "output_type": "execute_result"
    }
   ],
   "source": [
    "np.multiply(a, b)"
   ]
  },
  {
   "cell_type": "code",
   "execution_count": 16,
   "id": "61898412-1392-4a43-8ab3-78a926b487de",
   "metadata": {},
   "outputs": [
    {
     "data": {
      "text/plain": [
       "array([0, 2, 4, 6, 8])"
      ]
     },
     "execution_count": 16,
     "metadata": {},
     "output_type": "execute_result"
    }
   ],
   "source": [
    "np.multiply(a, 2)"
   ]
  },
  {
   "cell_type": "code",
   "execution_count": 17,
   "id": "42777e10-36d8-4106-9717-7d3374d43fed",
   "metadata": {},
   "outputs": [
    {
     "name": "stderr",
     "output_type": "stream",
     "text": [
      "C:\\Users\\liye\\AppData\\Local\\Temp\\ipykernel_12440\\148949253.py:1: RuntimeWarning: divide by zero encountered in divide\n",
      "  b / a # 虽然是计算b÷a的结果，但是由于a的元素中包含0，因此其中一个结果是表示无限的inf\n"
     ]
    },
    {
     "data": {
      "text/plain": [
       "array([       inf, 4.        , 3.        , 2.66666667, 2.5       ])"
      ]
     },
     "execution_count": 17,
     "metadata": {},
     "output_type": "execute_result"
    }
   ],
   "source": [
    "b / a # 虽然是计算b÷a的结果，但是由于a的元素中包含0，因此其中一个结果是表示无限的inf"
   ]
  },
  {
   "cell_type": "code",
   "execution_count": 18,
   "id": "f8af26dc-0259-4b26-b5aa-b023f4c321cc",
   "metadata": {},
   "outputs": [
    {
     "data": {
      "text/plain": [
       "array([1., 2., 3., 4., 5.])"
      ]
     },
     "execution_count": 18,
     "metadata": {},
     "output_type": "execute_result"
    }
   ],
   "source": [
    "b / 2 #  尝试除以2"
   ]
  },
  {
   "cell_type": "code",
   "execution_count": 19,
   "id": "a28d4eae-a146-45f7-8622-b0ad13485cce",
   "metadata": {},
   "outputs": [
    {
     "data": {
      "text/plain": [
       "array([0.66666667, 1.33333333, 2.        , 2.66666667, 3.33333333])"
      ]
     },
     "execution_count": 19,
     "metadata": {},
     "output_type": "execute_result"
    }
   ],
   "source": [
    "b / 3 # 尝试除以3"
   ]
  },
  {
   "cell_type": "code",
   "execution_count": 20,
   "id": "e7a7e0fd-a2bc-4e16-9303-67b2048c83e5",
   "metadata": {},
   "outputs": [
    {
     "name": "stderr",
     "output_type": "stream",
     "text": [
      "C:\\Users\\liye\\AppData\\Local\\Temp\\ipykernel_12440\\893157943.py:1: RuntimeWarning: divide by zero encountered in divide\n",
      "  np.divide(b, a) #  使用函数也可以完成相同的处理\n"
     ]
    },
    {
     "data": {
      "text/plain": [
       "array([       inf, 4.        , 3.        , 2.66666667, 2.5       ])"
      ]
     },
     "execution_count": 20,
     "metadata": {},
     "output_type": "execute_result"
    }
   ],
   "source": [
    "np.divide(b, a) #  使用函数也可以完成相同的处理"
   ]
  },
  {
   "cell_type": "code",
   "execution_count": 21,
   "id": "b8e03caa-7c6d-435b-aca2-da8ff65f9236",
   "metadata": {},
   "outputs": [
    {
     "data": {
      "text/plain": [
       "array([1., 2., 3., 4., 5.])"
      ]
     },
     "execution_count": 21,
     "metadata": {},
     "output_type": "execute_result"
    }
   ],
   "source": [
    "np.divide(b, 2)"
   ]
  },
  {
   "cell_type": "code",
   "execution_count": 22,
   "id": "262dd9f2-53ee-4e24-a8f7-b9c23f8dfee3",
   "metadata": {},
   "outputs": [
    {
     "data": {
      "text/plain": [
       "array([0, 1, 2, 2, 3], dtype=int32)"
      ]
     },
     "execution_count": 22,
     "metadata": {},
     "output_type": "execute_result"
    }
   ],
   "source": [
    "b // 3"
   ]
  },
  {
   "cell_type": "code",
   "execution_count": 23,
   "id": "36e23978-a781-4c9b-b6e6-b9b1f288cff7",
   "metadata": {},
   "outputs": [
    {
     "data": {
      "text/plain": [
       "array([2, 1, 0, 2, 1], dtype=int32)"
      ]
     },
     "execution_count": 23,
     "metadata": {},
     "output_type": "execute_result"
    }
   ],
   "source": [
    "b % 3"
   ]
  },
  {
   "cell_type": "code",
   "execution_count": 24,
   "id": "d38c5cdb-f6f8-4434-a423-f27aad5edca2",
   "metadata": {},
   "outputs": [
    {
     "data": {
      "text/plain": [
       "array([2, 1, 0, 2, 1], dtype=int32)"
      ]
     },
     "execution_count": 24,
     "metadata": {},
     "output_type": "execute_result"
    }
   ],
   "source": [
    "np.mod(b, 3) # 除以3得到的余数"
   ]
  },
  {
   "cell_type": "markdown",
   "id": "c9e9fb91-cb6b-45b6-924c-e210868d71f4",
   "metadata": {},
   "source": [
    "### 3.1.2 幂运算 （np.power） 和求平方根运算 （np.sqrt）"
   ]
  },
  {
   "cell_type": "code",
   "execution_count": 25,
   "id": "fc1d7c41-1ec0-41e3-a3e2-fb67291ff939",
   "metadata": {},
   "outputs": [
    {
     "data": {
      "text/plain": [
       "8"
      ]
     },
     "execution_count": 25,
     "metadata": {},
     "output_type": "execute_result"
    }
   ],
   "source": [
    "np.power(2, 3) #  计算2的三次方"
   ]
  },
  {
   "cell_type": "code",
   "execution_count": 26,
   "id": "1e91f6b9-0713-4dd4-994a-c66bea2cd5e5",
   "metadata": {},
   "outputs": [
    {
     "data": {
      "text/plain": [
       "8"
      ]
     },
     "execution_count": 26,
     "metadata": {},
     "output_type": "execute_result"
    }
   ],
   "source": [
    "2**3 # 这个是Python的幂运算"
   ]
  },
  {
   "cell_type": "code",
   "execution_count": 27,
   "id": "243be3ce-4568-4f37-b807-0caada14f87f",
   "metadata": {},
   "outputs": [],
   "source": [
    "a = np.arange(1, 11, 1)"
   ]
  },
  {
   "cell_type": "code",
   "execution_count": 28,
   "id": "e656c757-3b90-4958-aa21-f70607c71dbc",
   "metadata": {},
   "outputs": [],
   "source": [
    "b = np.array([1, 2, 1, 2, 1, 2, 1, 2, 1, 2])"
   ]
  },
  {
   "cell_type": "code",
   "execution_count": 29,
   "id": "ef6c6f3c-c21d-41ed-89b8-1dc15cd51261",
   "metadata": {},
   "outputs": [
    {
     "data": {
      "text/plain": [
       "array([ 1,  2,  3,  4,  5,  6,  7,  8,  9, 10])"
      ]
     },
     "execution_count": 29,
     "metadata": {},
     "output_type": "execute_result"
    }
   ],
   "source": [
    "a"
   ]
  },
  {
   "cell_type": "code",
   "execution_count": 30,
   "id": "dd904377-65a5-4b05-9004-1e8d8fdd6fb6",
   "metadata": {},
   "outputs": [
    {
     "data": {
      "text/plain": [
       "array([1, 2, 1, 2, 1, 2, 1, 2, 1, 2])"
      ]
     },
     "execution_count": 30,
     "metadata": {},
     "output_type": "execute_result"
    }
   ],
   "source": [
    "b"
   ]
  },
  {
   "cell_type": "code",
   "execution_count": 31,
   "id": "3ba07885-2b61-4fad-8841-3869d6720c5d",
   "metadata": {},
   "outputs": [
    {
     "data": {
      "text/plain": [
       "array([  1,   4,   3,  16,   5,  36,   7,  64,   9, 100])"
      ]
     },
     "execution_count": 31,
     "metadata": {},
     "output_type": "execute_result"
    }
   ],
   "source": [
    "np.power(a, b) # 一次方和二次方的值交替出现"
   ]
  },
  {
   "cell_type": "code",
   "execution_count": 32,
   "id": "55d19298-99d5-41d6-934d-1e444e35cbad",
   "metadata": {},
   "outputs": [
    {
     "data": {
      "text/plain": [
       "array([  1,   4,   3,  16,   5,  36,   7,  64,   9, 100])"
      ]
     },
     "execution_count": 32,
     "metadata": {},
     "output_type": "execute_result"
    }
   ],
   "source": [
    "a ** b #  同样的"
   ]
  },
  {
   "cell_type": "code",
   "execution_count": 33,
   "id": "ad184893-f1f8-4de2-baaf-5db16b27daa4",
   "metadata": {},
   "outputs": [
    {
     "data": {
      "text/plain": [
       "1.4142135623730951"
      ]
     },
     "execution_count": 33,
     "metadata": {},
     "output_type": "execute_result"
    }
   ],
   "source": [
    "np.sqrt(2) #  计算平方根使用np.sqrt函数"
   ]
  },
  {
   "cell_type": "code",
   "execution_count": 34,
   "id": "b5d3e205-100e-4ed0-8ce6-dd505a42f605",
   "metadata": {},
   "outputs": [
    {
     "data": {
      "text/plain": [
       "1.4142135623730951"
      ]
     },
     "execution_count": 34,
     "metadata": {},
     "output_type": "execute_result"
    }
   ],
   "source": [
    "2 ** 0.5 # 当然，不使用函数也一样可以计算平方根"
   ]
  },
  {
   "cell_type": "code",
   "execution_count": 35,
   "id": "5238826d-cef5-4bed-9167-dfd8db0e36c2",
   "metadata": {},
   "outputs": [
    {
     "data": {
      "text/plain": [
       "array([1.        , 1.41421356, 1.73205081, 2.        , 2.23606798,\n",
       "       2.44948974, 2.64575131, 2.82842712, 3.        , 3.16227766])"
      ]
     },
     "execution_count": 35,
     "metadata": {},
     "output_type": "execute_result"
    }
   ],
   "source": [
    "np.sqrt(a) # 当然也可以指定使用数组"
   ]
  },
  {
   "cell_type": "markdown",
   "id": "cf2fca8e-5e48-4bf2-bf2e-4ff839c06eb4",
   "metadata": {},
   "source": [
    "### 3.1.3 三角函数"
   ]
  },
  {
   "cell_type": "code",
   "execution_count": 36,
   "id": "f996d554-48af-45a8-a8e6-8ed9bdd07be3",
   "metadata": {},
   "outputs": [
    {
     "data": {
      "text/plain": [
       "0.0"
      ]
     },
     "execution_count": 36,
     "metadata": {},
     "output_type": "execute_result"
    }
   ],
   "source": [
    "np.sin(0)"
   ]
  },
  {
   "cell_type": "code",
   "execution_count": 37,
   "id": "30efd37b-23ab-46ee-89af-4657cbeb7f5f",
   "metadata": {},
   "outputs": [
    {
     "data": {
      "text/plain": [
       "1.0"
      ]
     },
     "execution_count": 37,
     "metadata": {},
     "output_type": "execute_result"
    }
   ],
   "source": [
    "np.cos(0)"
   ]
  },
  {
   "cell_type": "code",
   "execution_count": 38,
   "id": "5ba032bd-112e-412b-83e8-acb98733bac8",
   "metadata": {},
   "outputs": [
    {
     "data": {
      "text/plain": [
       "0.0"
      ]
     },
     "execution_count": 38,
     "metadata": {},
     "output_type": "execute_result"
    }
   ],
   "source": [
    "np.tan(0)"
   ]
  },
  {
   "cell_type": "code",
   "execution_count": 39,
   "id": "503b2b84-12c3-42c2-b8e3-26b381b9dbd0",
   "metadata": {},
   "outputs": [
    {
     "data": {
      "text/plain": [
       "1.0"
      ]
     },
     "execution_count": 39,
     "metadata": {},
     "output_type": "execute_result"
    }
   ],
   "source": [
    "np.sin(np.pi*0.5) #  π/2时，正弦值为1"
   ]
  },
  {
   "cell_type": "code",
   "execution_count": 40,
   "id": "8bcecf2e-7df3-4949-8615-b6111b012805",
   "metadata": {},
   "outputs": [
    {
     "data": {
      "text/plain": [
       "6.123233995736766e-17"
      ]
     },
     "execution_count": 40,
     "metadata": {},
     "output_type": "execute_result"
    }
   ],
   "source": [
    "np.cos(np.pi*0.5) # 结果应当为0"
   ]
  },
  {
   "cell_type": "code",
   "execution_count": 41,
   "id": "df75db9b-8f47-4526-bdf0-2bd4948d07e5",
   "metadata": {},
   "outputs": [
    {
     "data": {
      "text/plain": [
       "1.633123935319537e+16"
      ]
     },
     "execution_count": 41,
     "metadata": {},
     "output_type": "execute_result"
    }
   ],
   "source": [
    "np.tan(np.pi*0.5) # 无限发散的值"
   ]
  },
  {
   "cell_type": "code",
   "execution_count": 42,
   "id": "a4b6df23-c754-4c59-8cf1-b7e4e97748f1",
   "metadata": {},
   "outputs": [
    {
     "data": {
      "text/plain": [
       "0.8414709848078965"
      ]
     },
     "execution_count": 42,
     "metadata": {},
     "output_type": "execute_result"
    }
   ],
   "source": [
    "np.sin(1)"
   ]
  },
  {
   "cell_type": "code",
   "execution_count": 43,
   "id": "fe64aece-bceb-439f-a3b1-106c02abce2f",
   "metadata": {},
   "outputs": [
    {
     "data": {
      "text/plain": [
       "0.5403023058681398"
      ]
     },
     "execution_count": 43,
     "metadata": {},
     "output_type": "execute_result"
    }
   ],
   "source": [
    "np.cos(1)"
   ]
  },
  {
   "cell_type": "code",
   "execution_count": 44,
   "id": "e2389947-3d0d-43b8-92e7-0e66b81acb91",
   "metadata": {},
   "outputs": [
    {
     "data": {
      "text/plain": [
       "1.5574077246549023"
      ]
     },
     "execution_count": 44,
     "metadata": {},
     "output_type": "execute_result"
    }
   ],
   "source": [
    "np.tan(1)"
   ]
  },
  {
   "cell_type": "code",
   "execution_count": 45,
   "id": "83b3a02d-b803-42c4-8b22-82cff45643c0",
   "metadata": {},
   "outputs": [
    {
     "data": {
      "text/plain": [
       "0.5235987755982989"
      ]
     },
     "execution_count": 45,
     "metadata": {},
     "output_type": "execute_result"
    }
   ],
   "source": [
    "np.arcsin(0.5)"
   ]
  },
  {
   "cell_type": "code",
   "execution_count": 46,
   "id": "1f1e2f86-c842-46ab-a914-b27d23659543",
   "metadata": {},
   "outputs": [
    {
     "data": {
      "text/plain": [
       "1.0471975511965979"
      ]
     },
     "execution_count": 46,
     "metadata": {},
     "output_type": "execute_result"
    }
   ],
   "source": [
    "np.arccos(0.5)"
   ]
  },
  {
   "cell_type": "code",
   "execution_count": 47,
   "id": "89b9ed97-db05-47c2-ae39-8f7bee33ce9f",
   "metadata": {},
   "outputs": [
    {
     "data": {
      "text/plain": [
       "0.7853981633974483"
      ]
     },
     "execution_count": 47,
     "metadata": {},
     "output_type": "execute_result"
    }
   ],
   "source": [
    "np.arctan(1.0)"
   ]
  },
  {
   "cell_type": "code",
   "execution_count": 48,
   "id": "6f02f13a-e080-47aa-9f24-2d3e1077e268",
   "metadata": {},
   "outputs": [
    {
     "data": {
      "text/plain": [
       "-1.5707963267948966"
      ]
     },
     "execution_count": 48,
     "metadata": {},
     "output_type": "execute_result"
    }
   ],
   "source": [
    "np.arcsin(-1.0)"
   ]
  },
  {
   "cell_type": "code",
   "execution_count": 49,
   "id": "d258fece-00fb-4a30-8586-d4a6cd62445d",
   "metadata": {},
   "outputs": [
    {
     "data": {
      "text/plain": [
       "3.141592653589793"
      ]
     },
     "execution_count": 49,
     "metadata": {},
     "output_type": "execute_result"
    }
   ],
   "source": [
    "np.arccos(-1.0)"
   ]
  },
  {
   "cell_type": "code",
   "execution_count": 50,
   "id": "f837cd4d-1c2c-4121-b6d9-23f3ada24c1b",
   "metadata": {},
   "outputs": [
    {
     "data": {
      "text/plain": [
       "-0.4636476090008061"
      ]
     },
     "execution_count": 50,
     "metadata": {},
     "output_type": "execute_result"
    }
   ],
   "source": [
    "np.arctan(-0.5)"
   ]
  },
  {
   "cell_type": "code",
   "execution_count": 51,
   "id": "3b3e0aeb-17ad-4e09-a088-f64b9ce9f94d",
   "metadata": {},
   "outputs": [
    {
     "data": {
      "text/plain": [
       "2.0943951023931953"
      ]
     },
     "execution_count": 51,
     "metadata": {},
     "output_type": "execute_result"
    }
   ],
   "source": [
    "np.radians(120)"
   ]
  },
  {
   "cell_type": "code",
   "execution_count": 52,
   "id": "f5ca7fe7-1e0e-4ca8-bf87-0e3fc3d6d8a4",
   "metadata": {},
   "outputs": [
    {
     "data": {
      "text/plain": [
       "2.0943951023931953"
      ]
     },
     "execution_count": 52,
     "metadata": {},
     "output_type": "execute_result"
    }
   ],
   "source": [
    "np.deg2rad(120)"
   ]
  },
  {
   "cell_type": "code",
   "execution_count": 53,
   "id": "34411158-d334-4eba-8af1-a67b64905073",
   "metadata": {},
   "outputs": [
    {
     "data": {
      "text/plain": [
       "179.9087476710785"
      ]
     },
     "execution_count": 53,
     "metadata": {},
     "output_type": "execute_result"
    }
   ],
   "source": [
    "np.rad2deg(3.14)"
   ]
  },
  {
   "cell_type": "code",
   "execution_count": 54,
   "id": "10f71877-5a3d-4dde-8d85-5cc2649d7a13",
   "metadata": {},
   "outputs": [
    {
     "data": {
      "text/plain": [
       "2.3"
      ]
     },
     "execution_count": 54,
     "metadata": {},
     "output_type": "execute_result"
    }
   ],
   "source": [
    "np.deg2rad(np.rad2deg(2.3))"
   ]
  },
  {
   "cell_type": "code",
   "execution_count": 55,
   "id": "9ef9b2ff-db5b-45e9-b9a4-11d1d479f664",
   "metadata": {},
   "outputs": [
    {
     "name": "stdout",
     "output_type": "stream",
     "text": [
      "867 ns ± 6.55 ns per loop (mean ± std. dev. of 7 runs, 1,000,000 loops each)\n"
     ]
    }
   ],
   "source": [
    "%timeit np.radians(24)"
   ]
  },
  {
   "cell_type": "code",
   "execution_count": 56,
   "id": "33212656-5397-4aea-b4af-4d84013324d1",
   "metadata": {},
   "outputs": [
    {
     "name": "stdout",
     "output_type": "stream",
     "text": [
      "883 ns ± 11.2 ns per loop (mean ± std. dev. of 7 runs, 1,000,000 loops each)\n"
     ]
    }
   ],
   "source": [
    "%timeit np.deg2rad(24)"
   ]
  },
  {
   "cell_type": "markdown",
   "id": "07e0cc2d-b838-42ef-b178-f563a79e4002",
   "metadata": {},
   "source": [
    "### 3.1.4 指数函数与对数函数"
   ]
  },
  {
   "cell_type": "code",
   "execution_count": 57,
   "id": "a9343b49-cc1a-4c78-8591-b213ab0bf3d8",
   "metadata": {},
   "outputs": [
    {
     "data": {
      "text/plain": [
       "2.718281828459045"
      ]
     },
     "execution_count": 57,
     "metadata": {},
     "output_type": "execute_result"
    }
   ],
   "source": [
    "np.exp(1) #  一次方"
   ]
  },
  {
   "cell_type": "code",
   "execution_count": 58,
   "id": "3072e985-c2bc-4689-83b0-fd3bee79bd6a",
   "metadata": {},
   "outputs": [
    {
     "data": {
      "text/plain": [
       "7.38905609893065"
      ]
     },
     "execution_count": 58,
     "metadata": {},
     "output_type": "execute_result"
    }
   ],
   "source": [
    "np.exp(2)"
   ]
  },
  {
   "cell_type": "code",
   "execution_count": 59,
   "id": "140445ca-3626-4e35-ab33-54883b2e1d64",
   "metadata": {},
   "outputs": [
    {
     "data": {
      "text/plain": [
       "1.0"
      ]
     },
     "execution_count": 59,
     "metadata": {},
     "output_type": "execute_result"
    }
   ],
   "source": [
    "np.exp(0)"
   ]
  },
  {
   "cell_type": "code",
   "execution_count": 60,
   "id": "6f3fbccb-ef88-4a75-8074-54320d4e65d1",
   "metadata": {},
   "outputs": [
    {
     "data": {
      "text/plain": [
       "1.0"
      ]
     },
     "execution_count": 60,
     "metadata": {},
     "output_type": "execute_result"
    }
   ],
   "source": [
    "np.log(np.e) #  np.e为纳皮尔常数e"
   ]
  },
  {
   "cell_type": "code",
   "execution_count": 61,
   "id": "fd8b1b63-82be-47ce-b14e-cf01c8d33f3f",
   "metadata": {},
   "outputs": [],
   "source": [
    "a = np.array([1., 2., np.e**2, 10])"
   ]
  },
  {
   "cell_type": "code",
   "execution_count": 62,
   "id": "d21408e4-3813-47e8-8a66-4aa9b0f4c6cf",
   "metadata": {},
   "outputs": [
    {
     "data": {
      "text/plain": [
       "array([0.        , 0.69314718, 2.        , 2.30258509])"
      ]
     },
     "execution_count": 62,
     "metadata": {},
     "output_type": "execute_result"
    }
   ],
   "source": [
    "np.log(a) #也可以指定使用数组（其他数学函数也是类似的）"
   ]
  },
  {
   "cell_type": "code",
   "execution_count": 63,
   "id": "ae6cfb8c-b28f-4d47-aca2-daba5b2bd1a4",
   "metadata": {},
   "outputs": [],
   "source": [
    "b = np.array([1., 2., 4., 7])"
   ]
  },
  {
   "cell_type": "code",
   "execution_count": 64,
   "id": "323cd4f8-3dac-4374-b42c-a3f4b2b812ca",
   "metadata": {},
   "outputs": [
    {
     "data": {
      "text/plain": [
       "array([0.        , 1.        , 2.        , 2.80735492])"
      ]
     },
     "execution_count": 64,
     "metadata": {},
     "output_type": "execute_result"
    }
   ],
   "source": [
    "np.log2(b)"
   ]
  },
  {
   "cell_type": "code",
   "execution_count": 65,
   "id": "2753149f-06ca-4312-a79f-0917ac03e1ce",
   "metadata": {},
   "outputs": [],
   "source": [
    "c = np.array([1., 10., 20., 100])"
   ]
  },
  {
   "cell_type": "code",
   "execution_count": 66,
   "id": "a600482f-61a1-4b50-93e0-d22fee460194",
   "metadata": {},
   "outputs": [
    {
     "data": {
      "text/plain": [
       "array([0.     , 1.     , 1.30103, 2.     ])"
      ]
     },
     "execution_count": 66,
     "metadata": {},
     "output_type": "execute_result"
    }
   ],
   "source": [
    "np.log10(c)"
   ]
  },
  {
   "cell_type": "code",
   "execution_count": 67,
   "id": "23038a65-5f09-4905-8e36-532780249244",
   "metadata": {},
   "outputs": [
    {
     "data": {
      "text/plain": [
       "array([0.69314718, 1.09861229, 2.12692801, 2.39789527])"
      ]
     },
     "execution_count": 67,
     "metadata": {},
     "output_type": "execute_result"
    }
   ],
   "source": [
    "np.log1p(a)"
   ]
  },
  {
   "cell_type": "code",
   "execution_count": 68,
   "id": "687d1598-f07c-4d32-b95b-e556b5c3b0f4",
   "metadata": {},
   "outputs": [
    {
     "data": {
      "text/plain": [
       "0.5"
      ]
     },
     "execution_count": 68,
     "metadata": {},
     "output_type": "execute_result"
    }
   ],
   "source": [
    "np.log(2)/np.log(4) # log4(2)可以使用这句代码实现（4为底）"
   ]
  },
  {
   "cell_type": "code",
   "execution_count": 69,
   "id": "97389cdb-c29c-4cb5-972b-3c808ec89817",
   "metadata": {},
   "outputs": [
    {
     "data": {
      "text/plain": [
       "2.0"
      ]
     },
     "execution_count": 69,
     "metadata": {},
     "output_type": "execute_result"
    }
   ],
   "source": [
    "np.log(9)/np.log(3) #  log3(9)（3为底）"
   ]
  },
  {
   "cell_type": "markdown",
   "id": "084b796b-14a4-4f09-9381-b3c4d6984e76",
   "metadata": {},
   "source": [
    "### 3.1.5 双曲函数（hyperbolic）"
   ]
  },
  {
   "cell_type": "code",
   "execution_count": 70,
   "id": "a30ab931-162c-4136-801c-ea42765c5a72",
   "metadata": {},
   "outputs": [
    {
     "data": {
      "text/plain": [
       "3.6268604078470186"
      ]
     },
     "execution_count": 70,
     "metadata": {},
     "output_type": "execute_result"
    }
   ],
   "source": [
    "np.sinh(2)"
   ]
  },
  {
   "cell_type": "code",
   "execution_count": 71,
   "id": "b0a518b6-4342-455d-a97c-6765df3b8d09",
   "metadata": {},
   "outputs": [
    {
     "data": {
      "text/plain": [
       "3.7621956910836314"
      ]
     },
     "execution_count": 71,
     "metadata": {},
     "output_type": "execute_result"
    }
   ],
   "source": [
    "np.cosh(2)"
   ]
  },
  {
   "cell_type": "code",
   "execution_count": 72,
   "id": "163a3d93-097f-4237-a7bd-7cc866d3aaf1",
   "metadata": {},
   "outputs": [
    {
     "data": {
      "text/plain": [
       "0.9640275800758169"
      ]
     },
     "execution_count": 72,
     "metadata": {},
     "output_type": "execute_result"
    }
   ],
   "source": [
    "np.tanh(2)"
   ]
  },
  {
   "cell_type": "code",
   "execution_count": 73,
   "id": "84f65f8a-081d-4197-9b31-db70f3a1d884",
   "metadata": {},
   "outputs": [
    {
     "data": {
      "text/plain": [
       "-1.1752011936438014"
      ]
     },
     "execution_count": 73,
     "metadata": {},
     "output_type": "execute_result"
    }
   ],
   "source": [
    "np.sinh(-1)"
   ]
  },
  {
   "cell_type": "code",
   "execution_count": 74,
   "id": "bad22df8-4580-4848-bee8-c90f7296a3a4",
   "metadata": {},
   "outputs": [
    {
     "data": {
      "text/plain": [
       "1.5430806348152437"
      ]
     },
     "execution_count": 74,
     "metadata": {},
     "output_type": "execute_result"
    }
   ],
   "source": [
    "np.cosh(-1)"
   ]
  },
  {
   "cell_type": "code",
   "execution_count": 75,
   "id": "86bcfc63-cc07-4868-bc7d-3aed37d52a20",
   "metadata": {},
   "outputs": [
    {
     "data": {
      "text/plain": [
       "-0.7615941559557649"
      ]
     },
     "execution_count": 75,
     "metadata": {},
     "output_type": "execute_result"
    }
   ],
   "source": [
    "np.tanh(-1)"
   ]
  },
  {
   "cell_type": "code",
   "execution_count": 76,
   "id": "9f1d179c-9b38-4257-80f1-cd50aaf7b384",
   "metadata": {},
   "outputs": [
    {
     "data": {
      "text/plain": [
       "1.4436354751788103"
      ]
     },
     "execution_count": 76,
     "metadata": {},
     "output_type": "execute_result"
    }
   ],
   "source": [
    "np.arcsinh(2)"
   ]
  },
  {
   "cell_type": "code",
   "execution_count": 77,
   "id": "befe9dae-5bb9-464e-a31a-22c0e2de6fcb",
   "metadata": {},
   "outputs": [
    {
     "data": {
      "text/plain": [
       "0.0"
      ]
     },
     "execution_count": 77,
     "metadata": {},
     "output_type": "execute_result"
    }
   ],
   "source": [
    "np.arccosh(1)"
   ]
  },
  {
   "cell_type": "code",
   "execution_count": 78,
   "id": "28aadb84-b295-4b75-8833-33770b984348",
   "metadata": {},
   "outputs": [
    {
     "data": {
      "text/plain": [
       "0.8673005276940532"
      ]
     },
     "execution_count": 78,
     "metadata": {},
     "output_type": "execute_result"
    }
   ],
   "source": [
    "np.arctanh(0.7)"
   ]
  },
  {
   "cell_type": "markdown",
   "id": "7a487a1f-dc49-4261-990c-422779871dad",
   "metadata": {},
   "source": [
    "### 3.1.6 　向下舍入、向上舍入、四舍五入"
   ]
  },
  {
   "cell_type": "code",
   "execution_count": 79,
   "id": "6a091903-69ec-4873-8c39-a1659d932839",
   "metadata": {},
   "outputs": [],
   "source": [
    "a = np.array([-1.8, -1.4, -1.0, -0.6, -0.2, 0., 0.2, 0.6, 1.0, 1.4, 1.8])"
   ]
  },
  {
   "cell_type": "code",
   "execution_count": 80,
   "id": "01366c27-81e5-44e5-8add-9ad30ca21839",
   "metadata": {},
   "outputs": [
    {
     "data": {
      "text/plain": [
       "array([-2., -2., -1., -1., -1.,  0.,  0.,  0.,  1.,  1.,  1.])"
      ]
     },
     "execution_count": 80,
     "metadata": {},
     "output_type": "execute_result"
    }
   ],
   "source": [
    "np.floor(a) #  向下取整(取值比其小的整数)"
   ]
  },
  {
   "cell_type": "code",
   "execution_count": 81,
   "id": "ea68c2c7-3174-43ed-a837-902dd1103928",
   "metadata": {},
   "outputs": [
    {
     "data": {
      "text/plain": [
       "array([-1., -1., -1., -0., -0.,  0.,  0.,  0.,  1.,  1.,  1.])"
      ]
     },
     "execution_count": 81,
     "metadata": {},
     "output_type": "execute_result"
    }
   ],
   "source": [
    "np.trunc(a) #  向下取整(舍去小数部分)"
   ]
  },
  {
   "cell_type": "code",
   "execution_count": 82,
   "id": "458b9931-8520-44bb-a5fa-a7be6aede2da",
   "metadata": {},
   "outputs": [
    {
     "data": {
      "text/plain": [
       "array([-1., -1., -1., -0., -0.,  0.,  1.,  1.,  1.,  2.,  2.])"
      ]
     },
     "execution_count": 82,
     "metadata": {},
     "output_type": "execute_result"
    }
   ],
   "source": [
    "np.ceil(a) # 向上取整（取值比其大的整数)"
   ]
  },
  {
   "cell_type": "code",
   "execution_count": 83,
   "id": "ced19ac1-14da-4019-8454-9a54891d6b80",
   "metadata": {},
   "outputs": [
    {
     "data": {
      "text/plain": [
       "array([-2., -1., -1., -1., -0.,  0.,  0.,  1.,  1.,  1.,  2.])"
      ]
     },
     "execution_count": 83,
     "metadata": {},
     "output_type": "execute_result"
    }
   ],
   "source": [
    "np.round(a) # 四舍五入"
   ]
  },
  {
   "cell_type": "code",
   "execution_count": 84,
   "id": "04b16221-13ab-444b-9360-c0e623e0d363",
   "metadata": {},
   "outputs": [
    {
     "data": {
      "text/plain": [
       "array([-2., -1., -1., -1., -0.,  0.,  0.,  1.,  1.,  1.,  2.])"
      ]
     },
     "execution_count": 84,
     "metadata": {},
     "output_type": "execute_result"
    }
   ],
   "source": [
    "np.around(a) #  四舍五入"
   ]
  },
  {
   "cell_type": "code",
   "execution_count": 85,
   "id": "0be3cd28-44e0-4448-b975-f922a88b7d00",
   "metadata": {},
   "outputs": [
    {
     "data": {
      "text/plain": [
       "array([-2., -1., -1., -1., -0.,  0.,  0.,  1.,  1.,  1.,  2.])"
      ]
     },
     "execution_count": 85,
     "metadata": {},
     "output_type": "execute_result"
    }
   ],
   "source": [
    "np.rint(a) # 四舍五入"
   ]
  },
  {
   "cell_type": "code",
   "execution_count": 86,
   "id": "9e170d64-7243-456f-a4a9-158c43d0cdd0",
   "metadata": {},
   "outputs": [
    {
     "data": {
      "text/plain": [
       "array([-1., -1., -1., -0., -0.,  0.,  0.,  0.,  1.,  1.,  1.])"
      ]
     },
     "execution_count": 86,
     "metadata": {},
     "output_type": "execute_result"
    }
   ],
   "source": [
    "np.fix(a) # 取最接近0的整数"
   ]
  },
  {
   "cell_type": "markdown",
   "id": "af64d2ef-bc8b-4eaf-b137-fa79b87db8cd",
   "metadata": {},
   "source": [
    "### 3.1.7 　复数"
   ]
  },
  {
   "cell_type": "code",
   "execution_count": 87,
   "id": "4b4c0325-4d49-4dd6-bb4a-b99d44571055",
   "metadata": {},
   "outputs": [],
   "source": [
    "a = 1 + 2j # 复数1 + 2j"
   ]
  },
  {
   "cell_type": "code",
   "execution_count": 88,
   "id": "3f2150b3-a2dc-431c-8097-7e631aa44ac0",
   "metadata": {},
   "outputs": [],
   "source": [
    "b = -2 + 1j #  复数‐2 + 1j，不要忘记写1"
   ]
  },
  {
   "cell_type": "code",
   "execution_count": 89,
   "id": "8ef28d23-d977-481b-ba60-637be0ffb5c4",
   "metadata": {},
   "outputs": [
    {
     "data": {
      "text/plain": [
       "1.0"
      ]
     },
     "execution_count": 89,
     "metadata": {},
     "output_type": "execute_result"
    }
   ],
   "source": [
    "np.real(a) # a的实部为1"
   ]
  },
  {
   "cell_type": "code",
   "execution_count": 90,
   "id": "89943155-e12c-4acc-b350-37b458a4f055",
   "metadata": {},
   "outputs": [
    {
     "data": {
      "text/plain": [
       "2.0"
      ]
     },
     "execution_count": 90,
     "metadata": {},
     "output_type": "execute_result"
    }
   ],
   "source": [
    "np.imag(a) #  a的虚部为2"
   ]
  },
  {
   "cell_type": "code",
   "execution_count": 91,
   "id": "f3b18963-f560-4726-9318-37efc0b094f7",
   "metadata": {},
   "outputs": [
    {
     "data": {
      "text/plain": [
       "(-1+3j)"
      ]
     },
     "execution_count": 91,
     "metadata": {},
     "output_type": "execute_result"
    }
   ],
   "source": [
    "a+b # 与复数计算相同，对实部和虚部分别进行加法运算"
   ]
  },
  {
   "cell_type": "code",
   "execution_count": 92,
   "id": "0427ac00-3ab2-4cea-92cf-eefbe0c6f69d",
   "metadata": {},
   "outputs": [
    {
     "data": {
      "text/plain": [
       "(-4-3j)"
      ]
     },
     "execution_count": 92,
     "metadata": {},
     "output_type": "execute_result"
    }
   ],
   "source": [
    "a*b"
   ]
  },
  {
   "cell_type": "code",
   "execution_count": 93,
   "id": "21511bd1-1c15-4253-a272-7b9eaea2e53f",
   "metadata": {},
   "outputs": [
    {
     "data": {
      "text/plain": [
       "(-0-1j)"
      ]
     },
     "execution_count": 93,
     "metadata": {},
     "output_type": "execute_result"
    }
   ],
   "source": [
    "a/b"
   ]
  },
  {
   "cell_type": "code",
   "execution_count": 94,
   "id": "ef96310c-a9dd-4a8a-98cd-aaed0815e2e6",
   "metadata": {},
   "outputs": [
    {
     "data": {
      "text/plain": [
       "(1-2j)"
      ]
     },
     "execution_count": 94,
     "metadata": {},
     "output_type": "execute_result"
    }
   ],
   "source": [
    "np.conj(a) #  返回共轭复数"
   ]
  },
  {
   "cell_type": "markdown",
   "id": "f1f25aa3-1fca-4acf-8b0a-5a3c8a6106bc",
   "metadata": {},
   "source": [
    "### 3.1.8 绝对值"
   ]
  },
  {
   "cell_type": "code",
   "execution_count": 95,
   "id": "b4310f55-9d79-45f8-9313-e8ba08a53d94",
   "metadata": {},
   "outputs": [],
   "source": [
    "a = -2.5"
   ]
  },
  {
   "cell_type": "code",
   "execution_count": 96,
   "id": "844290d4-36c9-4d48-82fb-9178ac845359",
   "metadata": {},
   "outputs": [
    {
     "data": {
      "text/plain": [
       "2.5"
      ]
     },
     "execution_count": 96,
     "metadata": {},
     "output_type": "execute_result"
    }
   ],
   "source": [
    "np.absolute(a)"
   ]
  },
  {
   "cell_type": "code",
   "execution_count": 97,
   "id": "13ec33cd-b128-4a50-8506-c579f88bfb4c",
   "metadata": {},
   "outputs": [
    {
     "data": {
      "text/plain": [
       "2.5"
      ]
     },
     "execution_count": 97,
     "metadata": {},
     "output_type": "execute_result"
    }
   ],
   "source": [
    "np.fabs(a)"
   ]
  },
  {
   "cell_type": "code",
   "execution_count": 98,
   "id": "4d179663-7692-4304-8a0f-6631cc5ef6c4",
   "metadata": {},
   "outputs": [],
   "source": [
    "b = -2 + 3j #  尝试使用复数进行计算"
   ]
  },
  {
   "cell_type": "code",
   "execution_count": 99,
   "id": "2947c747-a286-4dfe-82e0-f48ba99da326",
   "metadata": {},
   "outputs": [
    {
     "data": {
      "text/plain": [
       "3.6055512754639896"
      ]
     },
     "execution_count": 99,
     "metadata": {},
     "output_type": "execute_result"
    }
   ],
   "source": [
    "np.abs(b) # np.abs是np.absolute的缩写形式"
   ]
  },
  {
   "cell_type": "code",
   "execution_count": 100,
   "id": "39cb261a-b6cd-4a42-a18e-1ad70c3b8c67",
   "metadata": {},
   "outputs": [],
   "source": [
    "# np.fabs(b) # np.fabs函数不支持对复数绝对值的计算"
   ]
  },
  {
   "cell_type": "code",
   "execution_count": 101,
   "id": "04bee0fa-f797-4f50-973a-a86f53dbed35",
   "metadata": {},
   "outputs": [],
   "source": [
    "c = np.array([-1, 2, -8, 12, 1+2j])"
   ]
  },
  {
   "cell_type": "code",
   "execution_count": 102,
   "id": "ef5b87ad-e082-410c-b384-a375d5bd5326",
   "metadata": {},
   "outputs": [
    {
     "data": {
      "text/plain": [
       "array([ 1.        ,  2.        ,  8.        , 12.        ,  2.23606798])"
      ]
     },
     "execution_count": 102,
     "metadata": {},
     "output_type": "execute_result"
    }
   ],
   "source": [
    "np.abs(c) #  返回每个元素的绝对值"
   ]
  },
  {
   "cell_type": "markdown",
   "id": "cc8d442a-caaa-44df-a62f-8be5487248bd",
   "metadata": {},
   "source": [
    "### 3.1.9 数学常数的调用"
   ]
  },
  {
   "cell_type": "code",
   "execution_count": 103,
   "id": "15ac8312-ff1c-41b0-b396-c11d963c5ec2",
   "metadata": {},
   "outputs": [
    {
     "data": {
      "text/plain": [
       "2.718281828459045"
      ]
     },
     "execution_count": 103,
     "metadata": {},
     "output_type": "execute_result"
    }
   ],
   "source": [
    "np.e"
   ]
  },
  {
   "cell_type": "code",
   "execution_count": 104,
   "id": "7fd13043-0a56-4e06-b5cd-55e1c23ae9ea",
   "metadata": {},
   "outputs": [
    {
     "data": {
      "text/plain": [
       "3.141592653589793"
      ]
     },
     "execution_count": 104,
     "metadata": {},
     "output_type": "execute_result"
    }
   ],
   "source": [
    "np.pi"
   ]
  },
  {
   "cell_type": "markdown",
   "id": "1852c8b9-b956-4631-ad60-cf190878ad9b",
   "metadata": {},
   "source": [
    "## 3.2 计算元素平均值的函数"
   ]
  },
  {
   "cell_type": "markdown",
   "id": "fe835854-6b39-486c-9158-69ac48d784ab",
   "metadata": {},
   "source": [
    "### 3.2.1 np.average"
   ]
  },
  {
   "cell_type": "code",
   "execution_count": 105,
   "id": "c46d9c91-ba7e-4665-b39a-3be136c4eccf",
   "metadata": {},
   "outputs": [],
   "source": [
    "import numpy as np"
   ]
  },
  {
   "cell_type": "code",
   "execution_count": 106,
   "id": "dd5e402d-d605-4521-8604-ed98ad35565a",
   "metadata": {},
   "outputs": [],
   "source": [
    "a = np.array([33, 44, 54, 23, 25, 55, 32, 76]) #  创建一个合适的数组"
   ]
  },
  {
   "cell_type": "code",
   "execution_count": 107,
   "id": "6fb6f902-cb6e-4687-ab2b-685ba35e00d8",
   "metadata": {},
   "outputs": [
    {
     "data": {
      "text/plain": [
       "42.75"
      ]
     },
     "execution_count": 107,
     "metadata": {},
     "output_type": "execute_result"
    }
   ],
   "source": [
    "np.average(a) # 首先计算a的平均值"
   ]
  },
  {
   "cell_type": "code",
   "execution_count": 108,
   "id": "4ea437da-67ba-4dba-bb59-d89a3dc7071b",
   "metadata": {},
   "outputs": [
    {
     "data": {
      "text/plain": [
       "array([[33, 44, 54, 23],\n",
       "       [25, 55, 32, 76]])"
      ]
     },
     "execution_count": 108,
     "metadata": {},
     "output_type": "execute_result"
    }
   ],
   "source": [
    "a = a.reshape(2, 4) #改变a的shape\n",
    "a"
   ]
  },
  {
   "cell_type": "code",
   "execution_count": 109,
   "id": "92573c23-6cec-49b0-9b2a-7a73b85e205f",
   "metadata": {},
   "outputs": [
    {
     "data": {
      "text/plain": [
       "42.75"
      ]
     },
     "execution_count": 109,
     "metadata": {},
     "output_type": "execute_result"
    }
   ],
   "source": [
    "np.average(a) #无论a的shape如何变化，只要没有指定axis参数，返回的就是一个标量值"
   ]
  },
  {
   "cell_type": "code",
   "execution_count": 110,
   "id": "f6027285-dfe1-4275-895f-5d006861f110",
   "metadata": {},
   "outputs": [
    {
     "data": {
      "text/plain": [
       "array([29. , 49.5, 43. , 49.5])"
      ]
     },
     "execution_count": 110,
     "metadata": {},
     "output_type": "execute_result"
    }
   ],
   "source": [
    "np.average(a, axis=0) # 指定坐标轴(axis)参数。二维数组指定axis=0，就是计算行方向上的平均值"
   ]
  },
  {
   "cell_type": "code",
   "execution_count": 111,
   "id": "4fe3a5c9-1b37-40e3-83e8-643e0d24afe7",
   "metadata": {},
   "outputs": [
    {
     "data": {
      "text/plain": [
       "array([38.5, 47. ])"
      ]
     },
     "execution_count": 111,
     "metadata": {},
     "output_type": "execute_result"
    }
   ],
   "source": [
    "np.average(a, axis=1) # 指定axis = 1时计算的是列方向上的平均值"
   ]
  },
  {
   "cell_type": "code",
   "execution_count": 112,
   "id": "3cf0edb2-7fd8-4407-a75a-502e1b5d7255",
   "metadata": {},
   "outputs": [
    {
     "data": {
      "text/plain": [
       "array([[[0.70718885, 0.9157123 , 0.85241902, 0.47808872],\n",
       "        [0.9827284 , 0.15589805, 0.15057995, 0.31290823],\n",
       "        [0.11987716, 0.6704602 , 0.81238874, 0.61546239]],\n",
       "\n",
       "       [[0.68156939, 0.24080763, 0.04917291, 0.61258643],\n",
       "        [0.93802715, 0.84053096, 0.13176794, 0.81503647],\n",
       "        [0.33117572, 0.38770419, 0.69089282, 0.74414492]]])"
      ]
     },
     "execution_count": 112,
     "metadata": {},
     "output_type": "execute_result"
    }
   ],
   "source": [
    "b = np.random.rand(24).reshape(2, 3, 4) # 接下来计算三维数组的平均值\n",
    "b"
   ]
  },
  {
   "cell_type": "code",
   "execution_count": 113,
   "id": "a2592327-c026-45d5-ad16-11a3411e3b34",
   "metadata": {},
   "outputs": [
    {
     "data": {
      "text/plain": [
       "array([[0.69437912, 0.57825996, 0.45079596, 0.54533758],\n",
       "       [0.96037777, 0.4982145 , 0.14117395, 0.56397235],\n",
       "       [0.22552644, 0.52908219, 0.75164078, 0.67980365]])"
      ]
     },
     "execution_count": 113,
     "metadata": {},
     "output_type": "execute_result"
    }
   ],
   "source": [
    "np.average(b, axis=0) #对分为两个大的数组中的元素分别计算平均值"
   ]
  },
  {
   "cell_type": "code",
   "execution_count": 114,
   "id": "d50e1915-efc5-4c86-8e2a-f7d252b35e87",
   "metadata": {},
   "outputs": [
    {
     "data": {
      "text/plain": [
       "array([[0.6032648 , 0.58069018, 0.60512924, 0.46881978],\n",
       "       [0.65025742, 0.48968092, 0.29061122, 0.72392261]])"
      ]
     },
     "execution_count": 114,
     "metadata": {},
     "output_type": "execute_result"
    }
   ],
   "source": [
    "np.average(b, axis=1) #  计算行方向上的平均值"
   ]
  },
  {
   "cell_type": "code",
   "execution_count": 115,
   "id": "a3636beb-3ddc-4cc6-8cd9-e6312e5cd4e2",
   "metadata": {},
   "outputs": [
    {
     "data": {
      "text/plain": [
       "array([[0.73835222, 0.40052866, 0.55454712],\n",
       "       [0.39603409, 0.68134063, 0.53847941]])"
      ]
     },
     "execution_count": 115,
     "metadata": {},
     "output_type": "execute_result"
    }
   ],
   "source": [
    "np.average(b, axis=2) # 计算列方向上的平均值"
   ]
  },
  {
   "cell_type": "code",
   "execution_count": 116,
   "id": "2c2ea4c4-55ea-4d06-b446-52fe189ac94a",
   "metadata": {},
   "outputs": [],
   "source": [
    "a = a.flatten() #将a扁平化为一维数组"
   ]
  },
  {
   "cell_type": "code",
   "execution_count": 117,
   "id": "ab9465d6-fce9-44ed-86d4-258c7767fcc8",
   "metadata": {},
   "outputs": [],
   "source": [
    "w = np.array([0.1, 0.05, 0.2, 0.0, 0.0, 0.4, 0.2, 0.05]) # 设置权重"
   ]
  },
  {
   "cell_type": "code",
   "execution_count": 118,
   "id": "13161a56-54cf-451c-837b-4c4c68246e95",
   "metadata": {},
   "outputs": [
    {
     "data": {
      "text/plain": [
       "48.5"
      ]
     },
     "execution_count": 118,
     "metadata": {},
     "output_type": "execute_result"
    }
   ],
   "source": [
    "np.average(a, weights=w) #  计算带权重的平均值"
   ]
  },
  {
   "cell_type": "code",
   "execution_count": 119,
   "id": "4b9f26fe-73e1-42dd-8089-b1c3639ca9ea",
   "metadata": {},
   "outputs": [],
   "source": [
    "w2 = np.array([0.2, 0.8])"
   ]
  },
  {
   "cell_type": "code",
   "execution_count": 120,
   "id": "5388dcf9-f8c6-42ea-82f4-be1bd3b1bca4",
   "metadata": {},
   "outputs": [],
   "source": [
    "a = a.reshape(2, 4) # 再次对a进行扁平化操作"
   ]
  },
  {
   "cell_type": "code",
   "execution_count": 121,
   "id": "7deac2b5-92d7-465b-a7f0-4da46ebff3fe",
   "metadata": {},
   "outputs": [
    {
     "data": {
      "text/plain": [
       "array([26.6, 52.8, 36.4, 65.4])"
      ]
     },
     "execution_count": 121,
     "metadata": {},
     "output_type": "execute_result"
    }
   ],
   "source": [
    "np.average(a, axis=0, weights=w2) #  当所指定的坐标轴方向上的元素数量相同，且权重数组是一维数组时，广播机制将被触发"
   ]
  },
  {
   "cell_type": "code",
   "execution_count": 122,
   "id": "3626e3cc-9ec7-418e-bb0c-d2c1b6b6bc5b",
   "metadata": {},
   "outputs": [
    {
     "data": {
      "text/plain": [
       "(42.75, 8.0)"
      ]
     },
     "execution_count": 122,
     "metadata": {},
     "output_type": "execute_result"
    }
   ],
   "source": [
    "np.average(a, returned=\"True\") #  如果不设置权重，则每个元素默认的权重就为1.0，因此权重的合计值就与元素数量相等"
   ]
  },
  {
   "cell_type": "code",
   "execution_count": 123,
   "id": "47e8bf0e-48ba-4764-96cf-9f7493c8f7da",
   "metadata": {},
   "outputs": [
    {
     "data": {
      "text/plain": [
       "array([33, 44, 54, 23, 25, 55, 32, 76])"
      ]
     },
     "execution_count": 123,
     "metadata": {},
     "output_type": "execute_result"
    }
   ],
   "source": [
    "a = a.flatten() #  将a扁平化为一维数组\n",
    "a"
   ]
  },
  {
   "cell_type": "code",
   "execution_count": 124,
   "id": "10659e48-92f1-4838-889f-5ecb3d9808c5",
   "metadata": {},
   "outputs": [
    {
     "data": {
      "text/plain": [
       "array([0.1 , 0.05, 0.2 , 0.  , 0.  , 0.4 , 0.2 , 0.05])"
      ]
     },
     "execution_count": 124,
     "metadata": {},
     "output_type": "execute_result"
    }
   ],
   "source": [
    "w"
   ]
  },
  {
   "cell_type": "code",
   "execution_count": 125,
   "id": "ea4708f6-a40a-4d17-96d8-a01b5307abf6",
   "metadata": {},
   "outputs": [
    {
     "data": {
      "text/plain": [
       "(48.5, 1.0)"
      ]
     },
     "execution_count": 125,
     "metadata": {},
     "output_type": "execute_result"
    }
   ],
   "source": [
    "np.average(a, weights=w, returned=\"True\") # 在这个状态下执行，就会显示平均值和权重合计"
   ]
  },
  {
   "cell_type": "markdown",
   "id": "551dc290-13d0-4729-a46d-d530a42c87a0",
   "metadata": {},
   "source": [
    "### 3.2.3 np.ndarray.mean"
   ]
  },
  {
   "cell_type": "code",
   "execution_count": 126,
   "id": "3ed8ed20-3134-41c1-9fa8-08076620eed8",
   "metadata": {},
   "outputs": [],
   "source": [
    "np.random.seed(1)"
   ]
  },
  {
   "cell_type": "code",
   "execution_count": 127,
   "id": "e196c813-45fb-4729-bea1-0b1933bcde8b",
   "metadata": {},
   "outputs": [
    {
     "data": {
      "text/plain": [
       "array([5, 8, 9, 5, 0, 0, 1, 7, 6, 9, 2, 4, 5, 2, 4, 2, 4, 7, 7, 9])"
      ]
     },
     "execution_count": 127,
     "metadata": {},
     "output_type": "execute_result"
    }
   ],
   "source": [
    "a = np.random.randint(0, 10, 20) #  生成20个0～9的随机整数\n",
    "a"
   ]
  },
  {
   "cell_type": "code",
   "execution_count": 128,
   "id": "e723cb7e-b8b3-468d-be50-24f8932b71d7",
   "metadata": {},
   "outputs": [
    {
     "data": {
      "text/plain": [
       "4.8"
      ]
     },
     "execution_count": 128,
     "metadata": {},
     "output_type": "execute_result"
    }
   ],
   "source": [
    "np.mean(a) #  计算平均值"
   ]
  },
  {
   "cell_type": "code",
   "execution_count": 129,
   "id": "8d1375a1-1b93-4ba6-8d9f-a7ae1459ed1b",
   "metadata": {},
   "outputs": [
    {
     "data": {
      "text/plain": [
       "4.8"
      ]
     },
     "execution_count": 129,
     "metadata": {},
     "output_type": "execute_result"
    }
   ],
   "source": [
    "a.mean() # 使用np.ndarray.mean形式的调用"
   ]
  },
  {
   "cell_type": "code",
   "execution_count": 130,
   "id": "a63520e3-f2e8-493c-a098-b22a83792b3d",
   "metadata": {},
   "outputs": [
    {
     "data": {
      "text/plain": [
       "array([[5, 8, 9, 5, 0],\n",
       "       [0, 1, 7, 6, 9],\n",
       "       [2, 4, 5, 2, 4],\n",
       "       [2, 4, 7, 7, 9]])"
      ]
     },
     "execution_count": 130,
     "metadata": {},
     "output_type": "execute_result"
    }
   ],
   "source": [
    "b = a.reshape(4, 5) #将a变形为4×5的二维数组，并代入到变量b中\n",
    "b"
   ]
  },
  {
   "cell_type": "code",
   "execution_count": 131,
   "id": "f1140212-6780-48dd-b0c7-67c560a47bb5",
   "metadata": {},
   "outputs": [
    {
     "data": {
      "text/plain": [
       "4.8"
      ]
     },
     "execution_count": 131,
     "metadata": {},
     "output_type": "execute_result"
    }
   ],
   "source": [
    "np.mean(b) #即使改变shape，结果也是一样的"
   ]
  },
  {
   "cell_type": "code",
   "execution_count": 132,
   "id": "db425415-24b7-4f1d-92cd-306f3e95b09e",
   "metadata": {},
   "outputs": [
    {
     "data": {
      "text/plain": [
       "4.8"
      ]
     },
     "execution_count": 132,
     "metadata": {},
     "output_type": "execute_result"
    }
   ],
   "source": [
    "b.mean()"
   ]
  },
  {
   "cell_type": "code",
   "execution_count": 133,
   "id": "493721de-286a-4b85-a756-dd8cbc51c605",
   "metadata": {},
   "outputs": [
    {
     "data": {
      "text/plain": [
       "array([2.25, 4.25, 7.  , 5.  , 5.5 ])"
      ]
     },
     "execution_count": 133,
     "metadata": {},
     "output_type": "execute_result"
    }
   ],
   "source": [
    "np.mean(b, axis=0) #在行方向上求平均，也就是计算每列的平均值"
   ]
  },
  {
   "cell_type": "code",
   "execution_count": 134,
   "id": "2e235506-bcdc-4a99-9970-d65519175d10",
   "metadata": {},
   "outputs": [
    {
     "data": {
      "text/plain": [
       "array([5.4, 4.6, 3.4, 5.8])"
      ]
     },
     "execution_count": 134,
     "metadata": {},
     "output_type": "execute_result"
    }
   ],
   "source": [
    "np.mean(b, axis=1) # 在列方向上求平均，也就是计算每行的平均值"
   ]
  },
  {
   "cell_type": "code",
   "execution_count": 135,
   "id": "0afbea86-341d-4dfa-a01b-b54e87409ce8",
   "metadata": {},
   "outputs": [],
   "source": [
    "c = np.random.rand(24).reshape((2, 3, 4)) #  尝试计算三维数组的平均值"
   ]
  },
  {
   "cell_type": "code",
   "execution_count": 136,
   "id": "1a034134-fcb6-437e-a66b-7593f7354b94",
   "metadata": {},
   "outputs": [
    {
     "data": {
      "text/plain": [
       "array([[[0.43069857, 0.93912779, 0.77838924, 0.71597052],\n",
       "        [0.8027575 , 0.09280081, 0.51815255, 0.86502025],\n",
       "        [0.82914691, 0.82960336, 0.27304997, 0.0592432 ]],\n",
       "\n",
       "       [[0.67052804, 0.59306552, 0.6716541 , 0.41178788],\n",
       "        [0.1975509 , 0.28962964, 0.14212014, 0.78331447],\n",
       "        [0.41253884, 0.03417131, 0.62402999, 0.66063573]]])"
      ]
     },
     "execution_count": 136,
     "metadata": {},
     "output_type": "execute_result"
    }
   ],
   "source": [
    "c # 生成24个0~1的随机数"
   ]
  },
  {
   "cell_type": "code",
   "execution_count": 137,
   "id": "1c64f505-4bea-4e2e-a798-5c8910d2a6c9",
   "metadata": {},
   "outputs": [
    {
     "data": {
      "text/plain": [
       "array([[0.5506133 , 0.76609665, 0.72502167, 0.5638792 ],\n",
       "       [0.5001542 , 0.19121522, 0.33013634, 0.82416736],\n",
       "       [0.62084287, 0.43188734, 0.44853998, 0.35993947]])"
      ]
     },
     "execution_count": 137,
     "metadata": {},
     "output_type": "execute_result"
    }
   ],
   "source": [
    "np.mean(c, axis=0) #  在有3个坐标轴（axis）的数组中，指定axis=0将数组分成两个二维数组，并对这两个数组中对应的元素计算平均值"
   ]
  },
  {
   "cell_type": "code",
   "execution_count": 138,
   "id": "9d57eb2c-1218-47a6-be87-e2306e233b5e",
   "metadata": {},
   "outputs": [
    {
     "data": {
      "text/plain": [
       "array([[0.68753433, 0.62051065, 0.52319725, 0.54674466],\n",
       "       [0.42687259, 0.30562216, 0.47926807, 0.61857936]])"
      ]
     },
     "execution_count": 138,
     "metadata": {},
     "output_type": "execute_result"
    }
   ],
   "source": [
    "np.mean(c, axis=1) #  这是有两个坐标轴的情况下的行方向，也就是对每列元素计算平均值"
   ]
  },
  {
   "cell_type": "code",
   "execution_count": 139,
   "id": "2c00eb58-70dc-45f0-9597-d299f29c500a",
   "metadata": {},
   "outputs": [
    {
     "data": {
      "text/plain": [
       "array([[0.71604653, 0.56968278, 0.49776086],\n",
       "       [0.58675888, 0.35315379, 0.43284397]])"
      ]
     },
     "execution_count": 139,
     "metadata": {},
     "output_type": "execute_result"
    }
   ],
   "source": [
    "np.mean(c, axis=2) # 这是有两个坐标轴的情况下的列方向，也就是对每行元素计算平均值"
   ]
  },
  {
   "cell_type": "code",
   "execution_count": 140,
   "id": "710b1ff5-293d-465f-996c-55ee7229bdd4",
   "metadata": {},
   "outputs": [],
   "source": [
    "d = np.random.rand(1000) # 生成1000个随机数"
   ]
  },
  {
   "cell_type": "code",
   "execution_count": 141,
   "id": "3824f8e1-3b03-41e4-b43b-2a34a740f19d",
   "metadata": {},
   "outputs": [
    {
     "data": {
      "text/plain": [
       "dtype('float64')"
      ]
     },
     "execution_count": 141,
     "metadata": {},
     "output_type": "execute_result"
    }
   ],
   "source": [
    "d.dtype #  确认dtype"
   ]
  },
  {
   "cell_type": "code",
   "execution_count": 142,
   "id": "1fc7bb65-b9e1-4f5e-a42d-4bccc9db1e30",
   "metadata": {},
   "outputs": [
    {
     "data": {
      "text/plain": [
       "0.48254176339811955"
      ]
     },
     "execution_count": 142,
     "metadata": {},
     "output_type": "execute_result"
    }
   ],
   "source": [
    "np.mean(d) # 首先在不指定dtype的前提下计算平均值"
   ]
  },
  {
   "cell_type": "code",
   "execution_count": 143,
   "id": "08416720-1260-40a0-9f02-e435de13f04c",
   "metadata": {},
   "outputs": [
    {
     "data": {
      "text/plain": [
       "0.48254174"
      ]
     },
     "execution_count": 143,
     "metadata": {},
     "output_type": "execute_result"
    }
   ],
   "source": [
    "np.mean(d, dtype=\"float32\") # 将比特数减少一半，并重新计算平均值"
   ]
  },
  {
   "cell_type": "code",
   "execution_count": 144,
   "id": "71610a3c-9131-487b-a508-72c58d23e97a",
   "metadata": {},
   "outputs": [
    {
     "data": {
      "text/plain": [
       "0.4824"
      ]
     },
     "execution_count": 144,
     "metadata": {},
     "output_type": "execute_result"
    }
   ],
   "source": [
    "np.mean(d, dtype=\"float16\") # 再将比特数减少一半，并重新计算平均值"
   ]
  },
  {
   "cell_type": "code",
   "execution_count": 145,
   "id": "d083d86e-17bb-48b4-8e95-e9b00fe913a9",
   "metadata": {},
   "outputs": [
    {
     "data": {
      "text/plain": [
       "array([[5, 8, 9, 5, 0],\n",
       "       [0, 1, 7, 6, 9],\n",
       "       [2, 4, 5, 2, 4],\n",
       "       [2, 4, 7, 7, 9]])"
      ]
     },
     "execution_count": 145,
     "metadata": {},
     "output_type": "execute_result"
    }
   ],
   "source": [
    "b"
   ]
  },
  {
   "cell_type": "code",
   "execution_count": 146,
   "id": "14502ab9-43c0-4d99-9d61-c35022f8be24",
   "metadata": {},
   "outputs": [
    {
     "data": {
      "text/plain": [
       "array([[4.8]])"
      ]
     },
     "execution_count": 146,
     "metadata": {},
     "output_type": "execute_result"
    }
   ],
   "source": [
    "e = np.mean(b, keepdims=True) # 维度不会降低\n",
    "e"
   ]
  },
  {
   "cell_type": "code",
   "execution_count": 147,
   "id": "58f63e6c-c2f6-4c5b-ba60-ea8ede083f66",
   "metadata": {},
   "outputs": [
    {
     "data": {
      "text/plain": [
       "(1, 1)"
      ]
     },
     "execution_count": 147,
     "metadata": {},
     "output_type": "execute_result"
    }
   ],
   "source": [
    "e.shape"
   ]
  },
  {
   "cell_type": "code",
   "execution_count": 148,
   "id": "39ee41cc-9c21-4bac-9a24-b4ba6d81904f",
   "metadata": {},
   "outputs": [
    {
     "data": {
      "text/plain": [
       "4.8"
      ]
     },
     "execution_count": 148,
     "metadata": {},
     "output_type": "execute_result"
    }
   ],
   "source": [
    "f = np.mean(b, keepdims=False)\n",
    "f"
   ]
  },
  {
   "cell_type": "code",
   "execution_count": 149,
   "id": "9d90e11d-613f-4b6f-997f-71dd67364bf2",
   "metadata": {},
   "outputs": [
    {
     "data": {
      "text/plain": [
       "array([[5.4],\n",
       "       [4.6],\n",
       "       [3.4],\n",
       "       [5.8]])"
      ]
     },
     "execution_count": 149,
     "metadata": {},
     "output_type": "execute_result"
    }
   ],
   "source": [
    "g = np.mean(b, axis=1, keepdims=True)\n",
    "g"
   ]
  },
  {
   "cell_type": "code",
   "execution_count": 150,
   "id": "366c52c4-c391-4480-9c80-b6eb5a8c7bb7",
   "metadata": {},
   "outputs": [
    {
     "data": {
      "text/plain": [
       "(4, 1)"
      ]
     },
     "execution_count": 150,
     "metadata": {},
     "output_type": "execute_result"
    }
   ],
   "source": [
    "g.shape"
   ]
  },
  {
   "cell_type": "code",
   "execution_count": 151,
   "id": "d0705155-e74d-42e0-8a99-03f3a4498578",
   "metadata": {},
   "outputs": [
    {
     "data": {
      "text/plain": [
       "array([5.4, 4.6, 3.4, 5.8])"
      ]
     },
     "execution_count": 151,
     "metadata": {},
     "output_type": "execute_result"
    }
   ],
   "source": [
    "h = np.mean(b, axis=1, keepdims=False)\n",
    "h"
   ]
  },
  {
   "cell_type": "code",
   "execution_count": 152,
   "id": "bb3cedfb-ac19-402d-8871-f82cf6243586",
   "metadata": {},
   "outputs": [
    {
     "data": {
      "text/plain": [
       "(4,)"
      ]
     },
     "execution_count": 152,
     "metadata": {},
     "output_type": "execute_result"
    }
   ],
   "source": [
    "h.shape"
   ]
  },
  {
   "cell_type": "markdown",
   "id": "7d4edac7-5d6d-419b-a552-f2fcee1ff3d4",
   "metadata": {},
   "source": [
    "## 3.3 计算元素中位数的函数"
   ]
  },
  {
   "cell_type": "markdown",
   "id": "c1698444-fbeb-4d44-be18-565a6c61e43d",
   "metadata": {},
   "source": [
    "### 3.3.1 中位数(中值)"
   ]
  },
  {
   "cell_type": "markdown",
   "id": "7bfdb401-ef37-4883-bb88-ac9b55acb0f3",
   "metadata": {},
   "source": [
    "### 3.3.2 np.median"
   ]
  },
  {
   "cell_type": "code",
   "execution_count": 153,
   "id": "e44494a6-c4fd-416c-9f52-5e87dacc3662",
   "metadata": {},
   "outputs": [],
   "source": [
    "import numpy as np # 导入numpy模块"
   ]
  },
  {
   "cell_type": "code",
   "execution_count": 154,
   "id": "422c9e86-756a-4d7d-8dd4-28a67464f808",
   "metadata": {},
   "outputs": [],
   "source": [
    "a = np.random.randint(100, size=(2, 3, 4)) # 生成2×3×4的三维随机数组"
   ]
  },
  {
   "cell_type": "code",
   "execution_count": 155,
   "id": "867e5284-adb3-4368-966a-f1d03590bff7",
   "metadata": {},
   "outputs": [
    {
     "data": {
      "text/plain": [
       "array([[[46, 89, 21, 92],\n",
       "        [99, 84, 58, 64],\n",
       "        [40, 78, 78, 62]],\n",
       "\n",
       "       [[62, 47, 27, 71],\n",
       "        [42, 14, 93, 51],\n",
       "        [18, 78, 10, 35]]])"
      ]
     },
     "execution_count": 155,
     "metadata": {},
     "output_type": "execute_result"
    }
   ],
   "source": [
    "a # 确认数组中的内容"
   ]
  },
  {
   "cell_type": "code",
   "execution_count": 156,
   "id": "576e9fd0-e1fd-4884-b3b8-8a3650a66c5a",
   "metadata": {},
   "outputs": [
    {
     "data": {
      "text/plain": [
       "60.0"
      ]
     },
     "execution_count": 156,
     "metadata": {},
     "output_type": "execute_result"
    }
   ],
   "source": [
    "np.median(a) # 将所有的元素作为对象，计算中位数"
   ]
  },
  {
   "cell_type": "code",
   "execution_count": 157,
   "id": "f186d0ed-0790-4c61-9b84-728624736164",
   "metadata": {},
   "outputs": [
    {
     "data": {
      "text/plain": [
       "array([[67.5, 74. , 70. ],\n",
       "       [54.5, 46.5, 26.5]])"
      ]
     },
     "execution_count": 157,
     "metadata": {},
     "output_type": "execute_result"
    }
   ],
   "source": [
    "np.median(a, axis=2) # 沿着axis=2的坐标轴方向计算中位数"
   ]
  },
  {
   "cell_type": "code",
   "execution_count": 158,
   "id": "4e8ff4d8-55a9-48ca-aab8-a4c94b8e5129",
   "metadata": {},
   "outputs": [
    {
     "data": {
      "text/plain": [
       "array([[46., 84., 58., 64.],\n",
       "       [42., 47., 27., 51.]])"
      ]
     },
     "execution_count": 158,
     "metadata": {},
     "output_type": "execute_result"
    }
   ],
   "source": [
    "np.median(a, axis=1) #  指定axis=1"
   ]
  },
  {
   "cell_type": "code",
   "execution_count": 159,
   "id": "36f5da57-4a0d-4b60-bc54-58fe61d4aaeb",
   "metadata": {},
   "outputs": [
    {
     "data": {
      "text/plain": [
       "array([71. , 44.5])"
      ]
     },
     "execution_count": 159,
     "metadata": {},
     "output_type": "execute_result"
    }
   ],
   "source": [
    "np.median(a, axis=(1, 2)) # 如果指定两个axis，就会在二维空间中计算中位数"
   ]
  },
  {
   "cell_type": "code",
   "execution_count": 160,
   "id": "5c977b2f-a07a-4595-b86f-779d8917e9a4",
   "metadata": {},
   "outputs": [
    {
     "data": {
      "text/plain": [
       "array([[[46, 89, 21, 92],\n",
       "        [99, 84, 58, 64],\n",
       "        [40, 78, 78, 62]],\n",
       "\n",
       "       [[62, 47, 27, 71],\n",
       "        [42, 14, 93, 51],\n",
       "        [18, 78, 10, 35]]])"
      ]
     },
     "execution_count": 160,
     "metadata": {},
     "output_type": "execute_result"
    }
   ],
   "source": [
    "b = a.copy()\n",
    "b"
   ]
  },
  {
   "cell_type": "code",
   "execution_count": 161,
   "id": "fd1c5e07-f27a-4f34-b6cd-c2ec566941fd",
   "metadata": {},
   "outputs": [
    {
     "data": {
      "text/plain": [
       "array([[46., 84., 58., 64.],\n",
       "       [42., 47., 27., 51.]])"
      ]
     },
     "execution_count": 161,
     "metadata": {},
     "output_type": "execute_result"
    }
   ],
   "source": [
    "np.median(b, axis=1, overwrite_input=True)"
   ]
  },
  {
   "cell_type": "code",
   "execution_count": 162,
   "id": "064af2b4-b0ed-477f-986a-b277c4097a46",
   "metadata": {},
   "outputs": [
    {
     "data": {
      "text/plain": [
       "False"
      ]
     },
     "execution_count": 162,
     "metadata": {},
     "output_type": "execute_result"
    }
   ],
   "source": [
    "np.all(a==b) #  确认a和b的所有元素是否一致"
   ]
  },
  {
   "cell_type": "code",
   "execution_count": 163,
   "id": "89510792-f404-477e-91de-9cd8435fef08",
   "metadata": {},
   "outputs": [
    {
     "data": {
      "text/plain": [
       "array([[[46, 89, 21, 92],\n",
       "        [99, 84, 58, 64],\n",
       "        [40, 78, 78, 62]],\n",
       "\n",
       "       [[62, 47, 27, 71],\n",
       "        [42, 14, 93, 51],\n",
       "        [18, 78, 10, 35]]])"
      ]
     },
     "execution_count": 163,
     "metadata": {},
     "output_type": "execute_result"
    }
   ],
   "source": [
    "a"
   ]
  },
  {
   "cell_type": "code",
   "execution_count": 164,
   "id": "e441fa5d-6388-46b5-a683-c9d8980e7e55",
   "metadata": {},
   "outputs": [
    {
     "data": {
      "text/plain": [
       "array([[[40, 78, 21, 62],\n",
       "        [46, 84, 58, 64],\n",
       "        [99, 89, 78, 92]],\n",
       "\n",
       "       [[18, 14, 10, 35],\n",
       "        [42, 47, 27, 51],\n",
       "        [62, 78, 93, 71]]])"
      ]
     },
     "execution_count": 164,
     "metadata": {},
     "output_type": "execute_result"
    }
   ],
   "source": [
    "b # 与a的排列顺序不一样，这证明已经执行了破坏性操作"
   ]
  },
  {
   "cell_type": "code",
   "execution_count": 165,
   "id": "711b63aa-2000-4664-942c-9908b616b1a5",
   "metadata": {},
   "outputs": [],
   "source": [
    "b = a.copy()"
   ]
  },
  {
   "cell_type": "code",
   "execution_count": 166,
   "id": "9312f91a-d204-4fd7-ae96-f21935e59cf5",
   "metadata": {},
   "outputs": [
    {
     "name": "stdout",
     "output_type": "stream",
     "text": [
      "15.4 µs ± 146 ns per loop (mean ± std. dev. of 7 runs, 100,000 loops each)\n"
     ]
    }
   ],
   "source": [
    "%timeit np.median(a, axis=1)"
   ]
  },
  {
   "cell_type": "code",
   "execution_count": 167,
   "id": "8d34ce8b-a489-41ff-bf62-1bf3b0d7d493",
   "metadata": {},
   "outputs": [
    {
     "name": "stdout",
     "output_type": "stream",
     "text": [
      "14.3 µs ± 86 ns per loop (mean ± std. dev. of 7 runs, 100,000 loops each)\n"
     ]
    }
   ],
   "source": [
    "%timeit np.median(b, axis=1, overwrite_input=True)"
   ]
  },
  {
   "cell_type": "code",
   "execution_count": 168,
   "id": "4b903393-cad5-42e5-9032-c48a66486e9e",
   "metadata": {},
   "outputs": [],
   "source": [
    "c = np.random.randn(10000) # 用大的数组进行比较"
   ]
  },
  {
   "cell_type": "code",
   "execution_count": 169,
   "id": "0674324f-af0b-4d1c-b013-157ec9754196",
   "metadata": {},
   "outputs": [
    {
     "name": "stdout",
     "output_type": "stream",
     "text": [
      "10.1 µs ± 74.8 ns per loop (mean ± std. dev. of 7 runs, 100,000 loops each)\n"
     ]
    }
   ],
   "source": [
    "%timeit np.median(a)"
   ]
  },
  {
   "cell_type": "code",
   "execution_count": 170,
   "id": "4d141dc7-409a-4f2d-8054-c70c03c75448",
   "metadata": {},
   "outputs": [],
   "source": [
    "d= c.copy()"
   ]
  },
  {
   "cell_type": "code",
   "execution_count": 171,
   "id": "56c9e600-661a-4041-91ad-ef41d484b3ab",
   "metadata": {},
   "outputs": [
    {
     "name": "stdout",
     "output_type": "stream",
     "text": [
      "8.95 µs ± 29.3 ns per loop (mean ± std. dev. of 7 runs, 100,000 loops each)\n"
     ]
    }
   ],
   "source": [
    "%timeit np.median(b, overwrite_input=True)"
   ]
  },
  {
   "cell_type": "code",
   "execution_count": 172,
   "id": "bad504de-d0d0-4539-a675-28550bdb3946",
   "metadata": {},
   "outputs": [
    {
     "data": {
      "text/plain": [
       "array([[[54. , 68. , 24. , 81.5],\n",
       "        [70.5, 49. , 75.5, 57.5],\n",
       "        [29. , 78. , 44. , 48.5]]])"
      ]
     },
     "execution_count": 172,
     "metadata": {},
     "output_type": "execute_result"
    }
   ],
   "source": [
    "np.median(a, axis=0, keepdims=True) #输出三维数组"
   ]
  },
  {
   "cell_type": "code",
   "execution_count": 173,
   "id": "c1150834-b24d-4a00-8071-8ef6f491f1bb",
   "metadata": {},
   "outputs": [
    {
     "data": {
      "text/plain": [
       "array([[46., 84., 58., 64.],\n",
       "       [42., 47., 27., 51.]])"
      ]
     },
     "execution_count": 173,
     "metadata": {},
     "output_type": "execute_result"
    }
   ],
   "source": [
    "np.median(a, axis=1, keepdims=False) # 指定axis=1，比较指定True和False时的区别"
   ]
  },
  {
   "cell_type": "code",
   "execution_count": 174,
   "id": "a044d0bd-b52a-42b9-830e-8e8965ab7af0",
   "metadata": {},
   "outputs": [
    {
     "data": {
      "text/plain": [
       "array([[[46., 84., 58., 64.]],\n",
       "\n",
       "       [[42., 47., 27., 51.]]])"
      ]
     },
     "execution_count": 174,
     "metadata": {},
     "output_type": "execute_result"
    }
   ],
   "source": [
    "np.median(a, axis=1, keepdims=True)"
   ]
  },
  {
   "cell_type": "code",
   "execution_count": 175,
   "id": "a2e4b3b1-0227-47c9-bffe-da8fb0023af4",
   "metadata": {},
   "outputs": [
    {
     "data": {
      "text/plain": [
       "array([[[54.5],\n",
       "        [61. ],\n",
       "        [51. ]]])"
      ]
     },
     "execution_count": 175,
     "metadata": {},
     "output_type": "execute_result"
    }
   ],
   "source": [
    "np.median(a, axis=(0, 2), keepdims=True)"
   ]
  },
  {
   "cell_type": "markdown",
   "id": "71d1ac97-3b9e-4b2b-92ab-37e70c4528f7",
   "metadata": {},
   "source": [
    "## 3.4 元素的求和函数"
   ]
  },
  {
   "cell_type": "markdown",
   "id": "d91891b0-6cf6-4849-897c-8d5e4b432083",
   "metadata": {},
   "source": [
    "### 3.4.1 np.sum"
   ]
  },
  {
   "cell_type": "code",
   "execution_count": 176,
   "id": "c75ff99d-98f3-4a08-8b9c-cfd54e6a59d2",
   "metadata": {},
   "outputs": [],
   "source": [
    "import numpy as np #  导入numpy模块"
   ]
  },
  {
   "cell_type": "code",
   "execution_count": 177,
   "id": "c69fd3ce-f54d-4602-a807-081d5abe029c",
   "metadata": {},
   "outputs": [],
   "source": [
    "a = np.random.randint(0, 10, size=(2,5))"
   ]
  },
  {
   "cell_type": "code",
   "execution_count": 178,
   "id": "4cb9225a-1556-49bf-b083-12f5a299357a",
   "metadata": {},
   "outputs": [
    {
     "data": {
      "text/plain": [
       "array([[7, 5, 5, 8, 3],\n",
       "       [0, 6, 3, 5, 8]])"
      ]
     },
     "execution_count": 178,
     "metadata": {},
     "output_type": "execute_result"
    }
   ],
   "source": [
    "a # 2×5的0～9的随机数组"
   ]
  },
  {
   "cell_type": "code",
   "execution_count": 179,
   "id": "57294f04-7ed8-4739-8e4e-81a871d649c2",
   "metadata": {},
   "outputs": [
    {
     "data": {
      "text/plain": [
       "50"
      ]
     },
     "execution_count": 179,
     "metadata": {},
     "output_type": "execute_result"
    }
   ],
   "source": [
    "np.sum(a) # 对所有元素进行求和计算"
   ]
  },
  {
   "cell_type": "code",
   "execution_count": 180,
   "id": "c0354832-58a3-4581-bf26-291225f6d022",
   "metadata": {},
   "outputs": [],
   "source": [
    "b = np.array([2, 4, 1, 6]) #  当然一维数组也可以进行计算"
   ]
  },
  {
   "cell_type": "code",
   "execution_count": 181,
   "id": "eb75d46b-f312-4089-85e5-1cb20457d1ff",
   "metadata": {},
   "outputs": [
    {
     "data": {
      "text/plain": [
       "13"
      ]
     },
     "execution_count": 181,
     "metadata": {},
     "output_type": "execute_result"
    }
   ],
   "source": [
    "np.sum(b)"
   ]
  },
  {
   "cell_type": "code",
   "execution_count": 182,
   "id": "de77a804-580f-4ef5-8fef-568115700013",
   "metadata": {},
   "outputs": [
    {
     "data": {
      "text/plain": [
       "array([[[1, 7, 1, 3, 9],\n",
       "        [4, 9, 0, 3, 6],\n",
       "        [0, 3, 9, 5, 4],\n",
       "        [3, 6, 3, 0, 8]],\n",
       "\n",
       "       [[3, 0, 8, 3, 5],\n",
       "        [3, 6, 8, 2, 6],\n",
       "        [4, 2, 0, 7, 6],\n",
       "        [9, 5, 2, 7, 1]]])"
      ]
     },
     "execution_count": 182,
     "metadata": {},
     "output_type": "execute_result"
    }
   ],
   "source": [
    "c = np.random.randint(0, 10, size=(2, 4, 5)) # 尝试对三维数组进行计算\n",
    "c"
   ]
  },
  {
   "cell_type": "code",
   "execution_count": 183,
   "id": "6526f373-5da9-4a68-965f-5cb80b6f0042",
   "metadata": {},
   "outputs": [
    {
     "data": {
      "text/plain": [
       "171"
      ]
     },
     "execution_count": 183,
     "metadata": {},
     "output_type": "execute_result"
    }
   ],
   "source": [
    "np.sum(c)"
   ]
  },
  {
   "cell_type": "code",
   "execution_count": 184,
   "id": "a572a11b-ba37-49cb-a1bf-17d49fb75fdc",
   "metadata": {},
   "outputs": [
    {
     "data": {
      "text/plain": [
       "array([[7, 5, 5, 8, 3],\n",
       "       [0, 6, 3, 5, 8]])"
      ]
     },
     "execution_count": 184,
     "metadata": {},
     "output_type": "execute_result"
    }
   ],
   "source": [
    "a # 使用与前面相同的二维数组"
   ]
  },
  {
   "cell_type": "code",
   "execution_count": 185,
   "id": "d4c75866-4e8d-4bda-9d49-418de6d2bfef",
   "metadata": {},
   "outputs": [
    {
     "data": {
      "text/plain": [
       "array([ 7, 11,  8, 13, 11])"
      ]
     },
     "execution_count": 185,
     "metadata": {},
     "output_type": "execute_result"
    }
   ],
   "source": [
    "np.sum(a, axis=0) # 在行方向求和"
   ]
  },
  {
   "cell_type": "code",
   "execution_count": 186,
   "id": "2f9f0c9a-fc27-4d02-af78-e295bb8890f6",
   "metadata": {},
   "outputs": [
    {
     "data": {
      "text/plain": [
       "array([28, 22])"
      ]
     },
     "execution_count": 186,
     "metadata": {},
     "output_type": "execute_result"
    }
   ],
   "source": [
    "np.sum(a, axis=1) # 在列方向求和"
   ]
  },
  {
   "cell_type": "code",
   "execution_count": 187,
   "id": "174b7ec0-df3e-42a5-aae3-622386ec94b7",
   "metadata": {},
   "outputs": [
    {
     "data": {
      "text/plain": [
       "array([[[1, 7, 1, 3, 9],\n",
       "        [4, 9, 0, 3, 6],\n",
       "        [0, 3, 9, 5, 4],\n",
       "        [3, 6, 3, 0, 8]],\n",
       "\n",
       "       [[3, 0, 8, 3, 5],\n",
       "        [3, 6, 8, 2, 6],\n",
       "        [4, 2, 0, 7, 6],\n",
       "        [9, 5, 2, 7, 1]]])"
      ]
     },
     "execution_count": 187,
     "metadata": {},
     "output_type": "execute_result"
    }
   ],
   "source": [
    "c #对三维数组求和"
   ]
  },
  {
   "cell_type": "code",
   "execution_count": 188,
   "id": "c6337a63-c7a8-4332-8e07-42a0e86d143e",
   "metadata": {},
   "outputs": [
    {
     "data": {
      "text/plain": [
       "array([[ 4,  7,  9,  6, 14],\n",
       "       [ 7, 15,  8,  5, 12],\n",
       "       [ 4,  5,  9, 12, 10],\n",
       "       [12, 11,  5,  7,  9]])"
      ]
     },
     "execution_count": 188,
     "metadata": {},
     "output_type": "execute_result"
    }
   ],
   "source": [
    "np.sum(c, axis=0)"
   ]
  },
  {
   "cell_type": "code",
   "execution_count": 189,
   "id": "6ba68114-dd63-4e30-a145-3b84ec5c5427",
   "metadata": {},
   "outputs": [
    {
     "data": {
      "text/plain": [
       "array([[ 8, 25, 13, 11, 27],\n",
       "       [19, 13, 18, 19, 18]])"
      ]
     },
     "execution_count": 189,
     "metadata": {},
     "output_type": "execute_result"
    }
   ],
   "source": [
    "np.sum(c, axis=1)"
   ]
  },
  {
   "cell_type": "code",
   "execution_count": 190,
   "id": "8b3afc7f-f0e6-42cb-9998-3f20db0ced7b",
   "metadata": {},
   "outputs": [
    {
     "data": {
      "text/plain": [
       "array([[21, 22, 21, 20],\n",
       "       [19, 25, 19, 24]])"
      ]
     },
     "execution_count": 190,
     "metadata": {},
     "output_type": "execute_result"
    }
   ],
   "source": [
    "np.sum(c, axis=2)"
   ]
  },
  {
   "cell_type": "code",
   "execution_count": 191,
   "id": "8f57cddc-0957-47ed-ad5a-31248f4cebb5",
   "metadata": {},
   "outputs": [
    {
     "data": {
      "text/plain": [
       "array([[[ 4,  7,  9,  6, 14],\n",
       "        [ 7, 15,  8,  5, 12],\n",
       "        [ 4,  5,  9, 12, 10],\n",
       "        [12, 11,  5,  7,  9]]])"
      ]
     },
     "execution_count": 191,
     "metadata": {},
     "output_type": "execute_result"
    }
   ],
   "source": [
    "np.sum(c, axis=0, keepdims=True) # 指定keepdims=True，就会输出三维数组"
   ]
  },
  {
   "cell_type": "code",
   "execution_count": 192,
   "id": "883a0477-1a5f-4288-a38a-2697393b3118",
   "metadata": {},
   "outputs": [
    {
     "data": {
      "text/plain": [
       "array([[[ 8, 25, 13, 11, 27]],\n",
       "\n",
       "       [[19, 13, 18, 19, 18]]])"
      ]
     },
     "execution_count": 192,
     "metadata": {},
     "output_type": "execute_result"
    }
   ],
   "source": [
    "np.sum(c, axis=1, keepdims=True)"
   ]
  },
  {
   "cell_type": "code",
   "execution_count": 193,
   "id": "6b44609d-f401-4211-905c-3069eaee5df9",
   "metadata": {},
   "outputs": [
    {
     "data": {
      "text/plain": [
       "array([[[21],\n",
       "        [22],\n",
       "        [21],\n",
       "        [20]],\n",
       "\n",
       "       [[19],\n",
       "        [25],\n",
       "        [19],\n",
       "        [24]]])"
      ]
     },
     "execution_count": 193,
     "metadata": {},
     "output_type": "execute_result"
    }
   ],
   "source": [
    "np.sum(c, axis=2, keepdims=True)"
   ]
  },
  {
   "cell_type": "code",
   "execution_count": 194,
   "id": "f1ec57f8-2516-4b70-8ea4-860eb7e76ef2",
   "metadata": {},
   "outputs": [
    {
     "data": {
      "text/plain": [
       "50"
      ]
     },
     "execution_count": 194,
     "metadata": {},
     "output_type": "execute_result"
    }
   ],
   "source": [
    "np.sum(a, dtype='int8') #  数据类型指定为int8"
   ]
  },
  {
   "cell_type": "code",
   "execution_count": 195,
   "id": "c1da5367-ffe8-47df-bce4-456e5d999110",
   "metadata": {},
   "outputs": [
    {
     "data": {
      "text/plain": [
       "array([ 7., 11.,  8., 13., 11.])"
      ]
     },
     "execution_count": 195,
     "metadata": {},
     "output_type": "execute_result"
    }
   ],
   "source": [
    "np.sum(a, axis=0, dtype='float') # 数据类型指定为float"
   ]
  },
  {
   "cell_type": "markdown",
   "id": "846253a2-1eb2-43df-8045-0fead7161ecb",
   "metadata": {},
   "source": [
    "### 3.4.2 np.ndarray.sum"
   ]
  },
  {
   "cell_type": "code",
   "execution_count": 196,
   "id": "ee60cee4-371c-46ff-8480-10c8a11c5c47",
   "metadata": {},
   "outputs": [
    {
     "data": {
      "text/plain": [
       "array([[7, 5, 5, 8, 3],\n",
       "       [0, 6, 3, 5, 8]])"
      ]
     },
     "execution_count": 196,
     "metadata": {},
     "output_type": "execute_result"
    }
   ],
   "source": [
    "a # 使用与前面相同的数组"
   ]
  },
  {
   "cell_type": "code",
   "execution_count": 197,
   "id": "4495d18d-b15c-49c8-b0e0-83356adbc5cb",
   "metadata": {},
   "outputs": [
    {
     "data": {
      "text/plain": [
       "array([2, 4, 1, 6])"
      ]
     },
     "execution_count": 197,
     "metadata": {},
     "output_type": "execute_result"
    }
   ],
   "source": [
    "b"
   ]
  },
  {
   "cell_type": "code",
   "execution_count": 198,
   "id": "f41ebe67-8737-4ac2-87d7-d49338274048",
   "metadata": {},
   "outputs": [
    {
     "data": {
      "text/plain": [
       "array([[[1, 7, 1, 3, 9],\n",
       "        [4, 9, 0, 3, 6],\n",
       "        [0, 3, 9, 5, 4],\n",
       "        [3, 6, 3, 0, 8]],\n",
       "\n",
       "       [[3, 0, 8, 3, 5],\n",
       "        [3, 6, 8, 2, 6],\n",
       "        [4, 2, 0, 7, 6],\n",
       "        [9, 5, 2, 7, 1]]])"
      ]
     },
     "execution_count": 198,
     "metadata": {},
     "output_type": "execute_result"
    }
   ],
   "source": [
    "c"
   ]
  },
  {
   "cell_type": "code",
   "execution_count": 199,
   "id": "f1656302-1dc8-4897-92cd-802403db46e1",
   "metadata": {},
   "outputs": [
    {
     "data": {
      "text/plain": [
       "50"
      ]
     },
     "execution_count": 199,
     "metadata": {},
     "output_type": "execute_result"
    }
   ],
   "source": [
    "a.sum() #  首先进行简单的求和计算"
   ]
  },
  {
   "cell_type": "code",
   "execution_count": 200,
   "id": "11e84bb4-54fe-4067-be05-4445e192f6ba",
   "metadata": {},
   "outputs": [
    {
     "data": {
      "text/plain": [
       "13"
      ]
     },
     "execution_count": 200,
     "metadata": {},
     "output_type": "execute_result"
    }
   ],
   "source": [
    "b.sum()"
   ]
  },
  {
   "cell_type": "code",
   "execution_count": 201,
   "id": "bb157bec-46db-486d-97cf-fd3ee59b4712",
   "metadata": {},
   "outputs": [
    {
     "data": {
      "text/plain": [
       "171"
      ]
     },
     "execution_count": 201,
     "metadata": {},
     "output_type": "execute_result"
    }
   ],
   "source": [
    "c.sum()"
   ]
  },
  {
   "cell_type": "code",
   "execution_count": 202,
   "id": "a59ed024-761f-49ae-b573-f65af77abf30",
   "metadata": {},
   "outputs": [
    {
     "data": {
      "text/plain": [
       "array([ 7, 11,  8, 13, 11])"
      ]
     },
     "execution_count": 202,
     "metadata": {},
     "output_type": "execute_result"
    }
   ],
   "source": [
    "a.sum(axis=0) #  指定axis"
   ]
  },
  {
   "cell_type": "code",
   "execution_count": 203,
   "id": "87d17c01-a696-4ec3-877f-0b77a943505e",
   "metadata": {},
   "outputs": [
    {
     "data": {
      "text/plain": [
       "array([[ 4,  7,  9,  6, 14],\n",
       "       [ 7, 15,  8,  5, 12],\n",
       "       [ 4,  5,  9, 12, 10],\n",
       "       [12, 11,  5,  7,  9]])"
      ]
     },
     "execution_count": 203,
     "metadata": {},
     "output_type": "execute_result"
    }
   ],
   "source": [
    "c.sum(axis=0)"
   ]
  },
  {
   "cell_type": "code",
   "execution_count": 204,
   "id": "ce8eb59c-6698-4f7d-8b2f-3799df4d3b50",
   "metadata": {},
   "outputs": [
    {
     "data": {
      "text/plain": [
       "array([[21, 22, 21, 20],\n",
       "       [19, 25, 19, 24]])"
      ]
     },
     "execution_count": 204,
     "metadata": {},
     "output_type": "execute_result"
    }
   ],
   "source": [
    "c.sum(axis=2)"
   ]
  },
  {
   "cell_type": "code",
   "execution_count": 205,
   "id": "8a25bf64-c214-43de-ba86-88971443b6ea",
   "metadata": {},
   "outputs": [
    {
     "data": {
      "text/plain": [
       "array([[ 7, 11,  8, 13, 11]])"
      ]
     },
     "execution_count": 205,
     "metadata": {},
     "output_type": "execute_result"
    }
   ],
   "source": [
    "a.sum(axis=0, keepdims=True) # 指定keepdims=True"
   ]
  },
  {
   "cell_type": "code",
   "execution_count": 206,
   "id": "b0ceb417-5296-4d47-8302-8413ddb091fe",
   "metadata": {},
   "outputs": [
    {
     "data": {
      "text/plain": [
       "array([[[21],\n",
       "        [22],\n",
       "        [21],\n",
       "        [20]],\n",
       "\n",
       "       [[19],\n",
       "        [25],\n",
       "        [19],\n",
       "        [24]]])"
      ]
     },
     "execution_count": 206,
     "metadata": {},
     "output_type": "execute_result"
    }
   ],
   "source": [
    "c.sum(axis=2, keepdims=True)"
   ]
  },
  {
   "cell_type": "code",
   "execution_count": 207,
   "id": "b089ff43-40a2-4b6b-91f0-cf0b96277882",
   "metadata": {},
   "outputs": [
    {
     "data": {
      "text/plain": [
       "array([ 7., 11.,  8., 13., 11.])"
      ]
     },
     "execution_count": 207,
     "metadata": {},
     "output_type": "execute_result"
    }
   ],
   "source": [
    "a.sum(axis=0, dtype='float') # 指定dtype"
   ]
  },
  {
   "cell_type": "markdown",
   "id": "2e1b9fad-bf76-46c9-8cc2-5b3ce45fcf8c",
   "metadata": {},
   "source": [
    "## 3.5 计算标准差的函数"
   ]
  },
  {
   "cell_type": "markdown",
   "id": "2883781f-7eba-4823-a24c-c579b3f5141a",
   "metadata": {},
   "source": [
    "### 3.5.1 标准差"
   ]
  },
  {
   "cell_type": "markdown",
   "id": "53b8acc6-bdfb-4c72-bc9e-180625e2fa32",
   "metadata": {},
   "source": [
    "### 3.5.2 np.std"
   ]
  },
  {
   "cell_type": "code",
   "execution_count": 208,
   "id": "51f39cd7-60b6-4b8f-92fc-848a570d7280",
   "metadata": {},
   "outputs": [],
   "source": [
    "import numpy as np"
   ]
  },
  {
   "cell_type": "code",
   "execution_count": 209,
   "id": "900e5a91-5086-4952-8bd4-506877fd8fa1",
   "metadata": {},
   "outputs": [
    {
     "data": {
      "text/plain": [
       "array([0.09399331, 0.6855265 , 0.66417308, 0.55486113, 0.14677788,\n",
       "       0.93314307, 0.2062108 , 0.50260718, 0.02092317, 0.01852061])"
      ]
     },
     "execution_count": 209,
     "metadata": {},
     "output_type": "execute_result"
    }
   ],
   "source": [
    "a = np.random.rand(10) # 首先创建随机数组\n",
    "a #  确认数组中的内容"
   ]
  },
  {
   "cell_type": "code",
   "execution_count": 210,
   "id": "540d0b9b-b74c-4d47-a73a-f13ffd6a9d8f",
   "metadata": {},
   "outputs": [
    {
     "data": {
      "text/plain": [
       "array([[[0.75850534, 0.80464379, 0.01088719, 0.19929432],\n",
       "        [0.74759111, 0.92486593, 0.46339906, 0.7445792 ],\n",
       "        [0.29964417, 0.9145181 , 0.37862104, 0.89763857]],\n",
       "\n",
       "       [[0.99150457, 0.65732326, 0.01320647, 0.43459189],\n",
       "        [0.80542313, 0.0865433 , 0.19142013, 0.22395247],\n",
       "        [0.83265462, 0.73890675, 0.60631914, 0.54749937]]])"
      ]
     },
     "execution_count": 210,
     "metadata": {},
     "output_type": "execute_result"
    }
   ],
   "source": [
    "b = np.random.rand(2, 3, 4) #  在这里生成三维数组\n",
    "b"
   ]
  },
  {
   "cell_type": "code",
   "execution_count": 211,
   "id": "3464bd0c-9922-403a-819f-08d98639f223",
   "metadata": {},
   "outputs": [
    {
     "data": {
      "text/plain": [
       "array([[0.11649962, 0.07366027, 0.00115964, 0.11764878],\n",
       "       [0.02891601, 0.41916132, 0.13598946, 0.26031337],\n",
       "       [0.26650523, 0.08780568, 0.11384905, 0.1750696 ]])"
      ]
     },
     "execution_count": 211,
     "metadata": {},
     "output_type": "execute_result"
    }
   ],
   "source": [
    "np.std(b, axis=0) # 沿着axis=0的方向计算标准差，结果为3×4的二维数组"
   ]
  },
  {
   "cell_type": "code",
   "execution_count": 212,
   "id": "a04df13f-57e3-4db5-bfa9-6db721cfe65e",
   "metadata": {},
   "outputs": [
    {
     "data": {
      "text/plain": [
       "array([0.21230061, 0.28469404, 0.22407177, 0.2551859 ])"
      ]
     },
     "execution_count": 212,
     "metadata": {},
     "output_type": "execute_result"
    }
   ],
   "source": [
    "np.std(b, axis=(0, 1)) #  同时指定两个axis，就是在这两个坐标轴所展开的平面内计算标准差"
   ]
  },
  {
   "cell_type": "code",
   "execution_count": 213,
   "id": "28c6db49-0fe3-40c8-93bd-f86d17d09bc0",
   "metadata": {},
   "outputs": [
    {
     "data": {
      "text/plain": [
       "0.30509698181195777"
      ]
     },
     "execution_count": 213,
     "metadata": {},
     "output_type": "execute_result"
    }
   ],
   "source": [
    "np.std(b, axis=(0, 1, 2))"
   ]
  },
  {
   "cell_type": "code",
   "execution_count": 214,
   "id": "48066230-3d0f-414b-a6b6-3e9fd66602fc",
   "metadata": {},
   "outputs": [
    {
     "data": {
      "text/plain": [
       "0.3052"
      ]
     },
     "execution_count": 214,
     "metadata": {},
     "output_type": "execute_result"
    }
   ],
   "source": [
    "np.std(b, dtype='float16')"
   ]
  },
  {
   "cell_type": "code",
   "execution_count": 215,
   "id": "6c8dab1a-68d0-4401-9dc7-82c79b54cb02",
   "metadata": {},
   "outputs": [
    {
     "data": {
      "text/plain": [
       "(0.30509698181195777+0j)"
      ]
     },
     "execution_count": 215,
     "metadata": {},
     "output_type": "execute_result"
    }
   ],
   "source": [
    "np.std(b, dtype='complex')"
   ]
  },
  {
   "cell_type": "code",
   "execution_count": 216,
   "id": "ea4b0019-7f76-452c-9f0a-40330e0877d7",
   "metadata": {},
   "outputs": [],
   "source": [
    "c = np.empty((2, 3)) #  准备用于保存的数组(在这里使用np.empty)"
   ]
  },
  {
   "cell_type": "code",
   "execution_count": 217,
   "id": "cef5c239-efa8-42a6-8152-24caf11fb8cb",
   "metadata": {},
   "outputs": [
    {
     "data": {
      "text/plain": [
       "array([[0.34512438, 0.16521157, 0.28490726],\n",
       "       [0.35540096, 0.2809398 , 0.11152521]])"
      ]
     },
     "execution_count": 217,
     "metadata": {},
     "output_type": "execute_result"
    }
   ],
   "source": [
    "np.std(b, axis=2, out=c) # 参数out指定为c"
   ]
  },
  {
   "cell_type": "code",
   "execution_count": 218,
   "id": "1b1f9bfc-f2ef-4d9a-aad4-ecfc2fd7e966",
   "metadata": {},
   "outputs": [
    {
     "data": {
      "text/plain": [
       "array([[0.34512438, 0.16521157, 0.28490726],\n",
       "       [0.35540096, 0.2809398 , 0.11152521]])"
      ]
     },
     "execution_count": 218,
     "metadata": {},
     "output_type": "execute_result"
    }
   ],
   "source": [
    "c #结果被完整地保存在c中"
   ]
  },
  {
   "cell_type": "code",
   "execution_count": 219,
   "id": "b13a1440-b461-4ced-91dc-a98b62fd3193",
   "metadata": {},
   "outputs": [
    {
     "data": {
      "text/plain": [
       "0.30509698181195777"
      ]
     },
     "execution_count": 219,
     "metadata": {},
     "output_type": "execute_result"
    }
   ],
   "source": [
    "np.std(b) # 首先显示原有的值(ddof=0)"
   ]
  },
  {
   "cell_type": "code",
   "execution_count": 220,
   "id": "0f32f5b1-bc8c-4abc-9c91-065b83649dde",
   "metadata": {},
   "outputs": [
    {
     "data": {
      "text/plain": [
       "0.31165895793865467"
      ]
     },
     "execution_count": 220,
     "metadata": {},
     "output_type": "execute_result"
    }
   ],
   "source": [
    "np.std(b, ddof=1) # 然后指定ddof=1，显示无偏标准差"
   ]
  },
  {
   "cell_type": "code",
   "execution_count": 221,
   "id": "ee8603e0-f7d3-4707-b7c2-e0e7f8bab339",
   "metadata": {},
   "outputs": [
    {
     "data": {
      "text/plain": [
       "array([[[0.30509698]]])"
      ]
     },
     "execution_count": 221,
     "metadata": {},
     "output_type": "execute_result"
    }
   ],
   "source": [
    "np.std(b, keepdims=True) #  若指定keepdims=True，就会返回三维数组"
   ]
  },
  {
   "cell_type": "code",
   "execution_count": 222,
   "id": "9759b064-b678-4803-abc6-5fd53f56ff53",
   "metadata": {},
   "outputs": [
    {
     "data": {
      "text/plain": [
       "array([[[0.11649962, 0.07366027, 0.00115964, 0.11764878],\n",
       "        [0.02891601, 0.41916132, 0.13598946, 0.26031337],\n",
       "        [0.26650523, 0.08780568, 0.11384905, 0.1750696 ]]])"
      ]
     },
     "execution_count": 222,
     "metadata": {},
     "output_type": "execute_result"
    }
   ],
   "source": [
    "np.std(b, axis=0, keepdims=True) # 指定axis"
   ]
  },
  {
   "cell_type": "code",
   "execution_count": 223,
   "id": "c5137c28-0d20-47a7-a271-24a3cbe0d055",
   "metadata": {},
   "outputs": [
    {
     "data": {
      "text/plain": [
       "array([[[ 6.51079681, 10.92371539,  9.38841709,  1.69397686],\n",
       "        [25.85388451,  2.20646778,  3.40761003,  2.86031874],\n",
       "        [ 1.1243463 , 10.41525027,  3.32564073,  5.12732415]],\n",
       "\n",
       "       [[ 8.51079681,  8.92371539, 11.38841709,  3.69397686],\n",
       "        [27.85388451,  0.20646778,  1.40761003,  0.86031874],\n",
       "        [ 3.1243463 ,  8.41525027,  5.32564073,  3.12732415]]])"
      ]
     },
     "execution_count": 223,
     "metadata": {},
     "output_type": "execute_result"
    }
   ],
   "source": [
    "b / np.std(b, axis=0, keepdims=True) #  可以这样使用广播功能"
   ]
  },
  {
   "cell_type": "code",
   "execution_count": 224,
   "id": "78ec3975-031f-4fcb-81db-ccfbedab2df9",
   "metadata": {},
   "outputs": [
    {
     "data": {
      "text/plain": [
       "array([[[ 6.51079681, 10.92371539,  9.38841709,  1.69397686],\n",
       "        [25.85388451,  2.20646778,  3.40761003,  2.86031874],\n",
       "        [ 1.1243463 , 10.41525027,  3.32564073,  5.12732415]],\n",
       "\n",
       "       [[ 8.51079681,  8.92371539, 11.38841709,  3.69397686],\n",
       "        [27.85388451,  0.20646778,  1.40761003,  0.86031874],\n",
       "        [ 3.1243463 ,  8.41525027,  5.32564073,  3.12732415]]])"
      ]
     },
     "execution_count": 224,
     "metadata": {},
     "output_type": "execute_result"
    }
   ],
   "source": [
    "b / np.std(b, axis=0, keepdims=False) # 即使指定False，有时也可以顺利执行"
   ]
  },
  {
   "cell_type": "code",
   "execution_count": 225,
   "id": "4d32761e-d358-4972-9eb3-e537a39acf1c",
   "metadata": {},
   "outputs": [],
   "source": [
    "# b / np.std(b, axis=1, keepdims=False) # 如果改变axis的设置，可能会发生运行时错误"
   ]
  },
  {
   "cell_type": "markdown",
   "id": "66e9577a-c9c5-45ff-8024-47fde0b442c4",
   "metadata": {},
   "source": [
    "## 3.6 计算方差的函数"
   ]
  },
  {
   "cell_type": "markdown",
   "id": "0d4da2df-f292-41dd-9c9f-2ed567aa2ca3",
   "metadata": {},
   "source": [
    "### 3.6.1 方差"
   ]
  },
  {
   "cell_type": "markdown",
   "id": "b49659c7-372d-4d48-824a-36956ddb5135",
   "metadata": {},
   "source": [
    "### 3.6.2 np.var"
   ]
  },
  {
   "cell_type": "code",
   "execution_count": 226,
   "id": "fba93ab7-1061-4683-b192-c001e0f3397f",
   "metadata": {},
   "outputs": [],
   "source": [
    "import numpy as np"
   ]
  },
  {
   "cell_type": "code",
   "execution_count": 227,
   "id": "ccb9acb7-367d-47b6-9c16-cd201bbfbee0",
   "metadata": {},
   "outputs": [],
   "source": [
    "a = np.array([10, 20, 12, 0, 3, 5])"
   ]
  },
  {
   "cell_type": "code",
   "execution_count": 228,
   "id": "86bd7e88-b9ef-42bf-9d65-8268bfd5302e",
   "metadata": {},
   "outputs": [
    {
     "data": {
      "text/plain": [
       "43.55555555555555"
      ]
     },
     "execution_count": 228,
     "metadata": {},
     "output_type": "execute_result"
    }
   ],
   "source": [
    "np.var(a) # 如果不特地指定参数，将根据这6个数据计算方差"
   ]
  },
  {
   "cell_type": "code",
   "execution_count": 229,
   "id": "ebb78bf0-184c-43e6-bf46-e3d8ca1bc9c8",
   "metadata": {},
   "outputs": [],
   "source": [
    "b = np.random.randint(20, size=(3,4))"
   ]
  },
  {
   "cell_type": "code",
   "execution_count": 230,
   "id": "8a61a6b3-c4db-4e10-be5c-e205592f97ec",
   "metadata": {},
   "outputs": [
    {
     "data": {
      "text/plain": [
       "array([[ 9,  4, 12, 10],\n",
       "       [ 0,  8,  3, 15],\n",
       "       [19,  6,  9,  0]])"
      ]
     },
     "execution_count": 230,
     "metadata": {},
     "output_type": "execute_result"
    }
   ],
   "source": [
    "b #  确认b中的内容"
   ]
  },
  {
   "cell_type": "code",
   "execution_count": 231,
   "id": "1da167ba-3fb1-407c-8f6d-615f0ce8070d",
   "metadata": {},
   "outputs": [
    {
     "data": {
      "text/plain": [
       "30.409722222222218"
      ]
     },
     "execution_count": 231,
     "metadata": {},
     "output_type": "execute_result"
    }
   ],
   "source": [
    "np.var(b) # 如果不指定axis，就会计算整体的方差"
   ]
  },
  {
   "cell_type": "code",
   "execution_count": 232,
   "id": "b34d3509-091b-4299-9355-19676e83d240",
   "metadata": {},
   "outputs": [
    {
     "data": {
      "text/plain": [
       "array([60.22222222,  2.66666667, 14.        , 38.88888889])"
      ]
     },
     "execution_count": 232,
     "metadata": {},
     "output_type": "execute_result"
    }
   ],
   "source": [
    "np.var(b, axis=0) # 计算每行的方差"
   ]
  },
  {
   "cell_type": "code",
   "execution_count": 233,
   "id": "aa449575-fb94-4526-ba68-e51baf788169",
   "metadata": {},
   "outputs": [
    {
     "data": {
      "text/plain": [
       "array([ 8.6875, 32.25  , 47.25  ])"
      ]
     },
     "execution_count": 233,
     "metadata": {},
     "output_type": "execute_result"
    }
   ],
   "source": [
    "np.var(b, axis=1) # 计算每列的方差"
   ]
  },
  {
   "cell_type": "code",
   "execution_count": 234,
   "id": "393c932c-eedc-4105-924f-49c893f74c63",
   "metadata": {},
   "outputs": [
    {
     "data": {
      "text/plain": [
       "30.409722222222218"
      ]
     },
     "execution_count": 234,
     "metadata": {},
     "output_type": "execute_result"
    }
   ],
   "source": [
    "np.var(b, axis=(0, 1)) # 如果像左边这样编写代码，就可以在第0、1号的坐标轴方向上进行计算，对所有范围内的方差进行计算"
   ]
  },
  {
   "cell_type": "code",
   "execution_count": 235,
   "id": "2cd88fb8-db1e-4dab-8f7c-c0ed68a836cd",
   "metadata": {},
   "outputs": [
    {
     "data": {
      "text/plain": [
       "array([[ 1.39530724, -0.39652603,  0.45167447,  0.7446684 , -0.93863286,\n",
       "         0.74582709,  0.57783455,  1.15206426,  0.54855096, -0.28928804,\n",
       "         0.42334798,  0.89036185,  1.18576267, -0.30605124, -0.14361516,\n",
       "         1.55551289,  0.04927047,  0.36427635,  0.75038676,  0.61347038],\n",
       "       [ 0.15343863, -0.0817624 ,  1.19770254,  0.68468378, -0.27788935,\n",
       "         0.0107013 , -1.99280134, -1.39161405,  0.67716288,  1.11719845,\n",
       "         0.20604419,  1.25757013,  0.46657407, -0.35656579, -0.22702005,\n",
       "         0.19041524, -2.09890259,  1.00588205, -0.51741453, -0.81367929],\n",
       "       [ 0.07434969,  1.27246672, -0.09589669,  0.04494525,  0.59601546,\n",
       "         2.36957464, -0.1113355 , -0.86311695, -1.10996126, -0.80585529,\n",
       "        -0.02699986,  1.54874712, -0.62442281,  1.02650228, -0.50345927,\n",
       "         2.12736558, -2.72115671,  0.27206889, -1.23784431, -0.80309804],\n",
       "       [-0.64231902, -2.8465206 ,  1.10792591, -0.23351295,  1.26429072,\n",
       "        -1.33718606,  1.7201186 , -0.64952295, -3.10093047,  2.19994793,\n",
       "         0.21494821,  0.92224809,  0.930728  ,  0.43004084,  1.14270998,\n",
       "         1.50344842,  0.63755479, -0.16181802, -1.32122848, -1.10813137],\n",
       "       [-1.56265741, -1.3407183 , -1.53128757, -1.04815862, -1.4512308 ,\n",
       "         0.39520842, -0.31167895,  1.09591038, -0.28918006, -0.99872531,\n",
       "        -0.43834922, -1.46649803, -1.12306744,  2.09738124, -0.09575798,\n",
       "        -0.86704087, -1.84641344,  0.42853451, -1.75206592, -0.39673533]])"
      ]
     },
     "execution_count": 235,
     "metadata": {},
     "output_type": "execute_result"
    }
   ],
   "source": [
    "c = np.random.randn(100).reshape(5, 20) # 生成服从正态分布的随机数组\n",
    "c"
   ]
  },
  {
   "cell_type": "code",
   "execution_count": 236,
   "id": "74cc4caf-19ad-4e55-8b95-91f1112c5e9c",
   "metadata": {},
   "outputs": [
    {
     "data": {
      "text/plain": [
       "dtype('float64')"
      ]
     },
     "execution_count": 236,
     "metadata": {},
     "output_type": "execute_result"
    }
   ],
   "source": [
    "c.dtype #  确认数据类型"
   ]
  },
  {
   "cell_type": "code",
   "execution_count": 237,
   "id": "7ff0fc8a-6abd-4ab8-9f5b-8c7eeae1cfb2",
   "metadata": {},
   "outputs": [
    {
     "data": {
      "text/plain": [
       "1.2665334"
      ]
     },
     "execution_count": 237,
     "metadata": {},
     "output_type": "execute_result"
    }
   ],
   "source": [
    "np.var(c, dtype='float32') #  指定dtype"
   ]
  },
  {
   "cell_type": "code",
   "execution_count": 238,
   "id": "0af27b56-ffbe-464b-8bb8-772ab580bf9f",
   "metadata": {},
   "outputs": [
    {
     "data": {
      "text/plain": [
       "1.2665334672170692"
      ]
     },
     "execution_count": 238,
     "metadata": {},
     "output_type": "execute_result"
    }
   ],
   "source": [
    "np.var(c, dtype='float64')"
   ]
  },
  {
   "cell_type": "code",
   "execution_count": 239,
   "id": "5dbc5536-89ae-4634-aeaa-f69739577b90",
   "metadata": {},
   "outputs": [
    {
     "data": {
      "text/plain": [
       "array([ 0.6033256 ,  0.88875812, -0.5884825 , -2.38678107, -0.75984444,\n",
       "        0.15089565,  1.51165609, -1.16351035,  0.24492569,  1.6897434 ])"
      ]
     },
     "execution_count": 239,
     "metadata": {},
     "output_type": "execute_result"
    }
   ],
   "source": [
    "d = np.random.randn(10) # 使用10个样本数据进行计算\n",
    "d"
   ]
  },
  {
   "cell_type": "code",
   "execution_count": 240,
   "id": "d53d23d7-7b5a-4ed9-b9e4-1b62f67884f1",
   "metadata": {},
   "outputs": [
    {
     "data": {
      "text/plain": [
       "1.4347507086294418"
      ]
     },
     "execution_count": 240,
     "metadata": {},
     "output_type": "execute_result"
    }
   ],
   "source": [
    "np.var(d, ddof=0) #首先使用默认值ddof=0对样本方差进行计算"
   ]
  },
  {
   "cell_type": "code",
   "execution_count": 241,
   "id": "278f7389-40fd-49ec-821a-bf87d616a504",
   "metadata": {},
   "outputs": [
    {
     "data": {
      "text/plain": [
       "1.594167454032713"
      ]
     },
     "execution_count": 241,
     "metadata": {},
     "output_type": "execute_result"
    }
   ],
   "source": [
    "np.var(d, ddof=1) #  接着对无偏方差进行计算"
   ]
  },
  {
   "cell_type": "code",
   "execution_count": 242,
   "id": "991800d8-806e-4de9-8133-ae804d927eff",
   "metadata": {},
   "outputs": [
    {
     "data": {
      "text/plain": [
       "array([-1.77112573,  0.08036105,  0.94268716,  0.94526618, -0.18434406])"
      ]
     },
     "execution_count": 242,
     "metadata": {},
     "output_type": "execute_result"
    }
   ],
   "source": [
    "e = np.random.randn(5) # 进一步减少样本数量\n",
    "e"
   ]
  },
  {
   "cell_type": "code",
   "execution_count": 243,
   "id": "8d5bc2e1-a995-463f-8904-51b07132503b",
   "metadata": {},
   "outputs": [
    {
     "data": {
      "text/plain": [
       "0.9918962439226464"
      ]
     },
     "execution_count": 243,
     "metadata": {},
     "output_type": "execute_result"
    }
   ],
   "source": [
    "np.var(e)"
   ]
  },
  {
   "cell_type": "code",
   "execution_count": 244,
   "id": "7f0cabba-13a1-4da8-b0c0-d7134e8f27ec",
   "metadata": {},
   "outputs": [
    {
     "data": {
      "text/plain": [
       "1.239870304903308"
      ]
     },
     "execution_count": 244,
     "metadata": {},
     "output_type": "execute_result"
    }
   ],
   "source": [
    "np.var(e, ddof=1) # 逼近于1"
   ]
  },
  {
   "cell_type": "code",
   "execution_count": 245,
   "id": "cbe5e381-9aa9-41b1-9f6d-d72f135c57b0",
   "metadata": {},
   "outputs": [
    {
     "data": {
      "text/plain": [
       "array([[[ 3,  7,  6,  8,  0, 17, 13, 12,  9, 15],\n",
       "        [11,  8,  6,  2, 10, 12,  3,  9, 13,  8],\n",
       "        [ 9,  7, 10,  9, 15, 15,  7,  4, 14,  8],\n",
       "        [17, 17,  4, 15,  0, 16,  9, 14, 17, 14],\n",
       "        [10, 16, 16, 12,  0, 12, 11, 10, 10, 19]],\n",
       "\n",
       "       [[ 1, 16,  1, 14, 16, 18, 17,  5, 19, 17],\n",
       "        [18, 13, 17, 16,  9,  2, 12, 14, 17,  9],\n",
       "        [ 3, 10, 10,  1, 15, 15, 17, 17,  0, 15],\n",
       "        [15,  4, 15,  0, 10,  6, 19,  1, 17, 10],\n",
       "        [16,  1, 12, 17, 19,  9, 13,  9, 18,  0]]])"
      ]
     },
     "execution_count": 245,
     "metadata": {},
     "output_type": "execute_result"
    }
   ],
   "source": [
    "f = np.random.randint(20, size=(2, 5, 10)) #  随机的三维数组\n",
    "f"
   ]
  },
  {
   "cell_type": "code",
   "execution_count": 246,
   "id": "88bf1f93-0fe5-4012-90df-7b4aafd06b27",
   "metadata": {},
   "outputs": [],
   "source": [
    "f_var = np.var(f, axis=1) #  计算每一行的方差"
   ]
  },
  {
   "cell_type": "code",
   "execution_count": 247,
   "id": "81e8a10b-f76d-4b2e-a874-4db794554297",
   "metadata": {},
   "outputs": [],
   "source": [
    "# f/f_var #  这样设置是不能正确使用广播功能的"
   ]
  },
  {
   "cell_type": "code",
   "execution_count": 248,
   "id": "99cbde37-ef4a-4c69-9eed-0fde8da27f81",
   "metadata": {},
   "outputs": [
    {
     "data": {
      "text/plain": [
       "(2, 10)"
      ]
     },
     "execution_count": 248,
     "metadata": {},
     "output_type": "execute_result"
    }
   ],
   "source": [
    "f_var.shape #  尝试确认shape"
   ]
  },
  {
   "cell_type": "code",
   "execution_count": 249,
   "id": "329dd6c1-2d8d-44c1-a42a-609d159123da",
   "metadata": {},
   "outputs": [],
   "source": [
    "f_var = np.var(f, axis=1, keepdims=True)"
   ]
  },
  {
   "cell_type": "code",
   "execution_count": 250,
   "id": "eb77aed9-ccd8-4193-9a84-f7d481d0cbf1",
   "metadata": {},
   "outputs": [
    {
     "data": {
      "text/plain": [
       "array([[[0.15      , 0.34313725, 0.32894737, 0.42194093, 0.        ,\n",
       "         4.00943396, 1.09797297, 1.05633803, 1.09223301, 0.82599119],\n",
       "        [0.55      , 0.39215686, 0.32894737, 0.10548523, 0.25      ,\n",
       "         2.83018868, 0.25337838, 0.79225352, 1.5776699 , 0.44052863],\n",
       "        [0.45      , 0.34313725, 0.54824561, 0.47468354, 0.375     ,\n",
       "         3.53773585, 0.59121622, 0.35211268, 1.69902913, 0.44052863],\n",
       "        [0.85      , 0.83333333, 0.21929825, 0.79113924, 0.        ,\n",
       "         3.77358491, 0.76013514, 1.23239437, 2.0631068 , 0.77092511],\n",
       "        [0.5       , 0.78431373, 0.87719298, 0.63291139, 0.        ,\n",
       "         2.83018868, 0.92905405, 0.88028169, 1.21359223, 1.04625551]],\n",
       "\n",
       "       [[0.01974724, 0.51679587, 0.03246753, 0.24893314, 1.1299435 ,\n",
       "         0.52941176, 2.41477273, 0.14810427, 0.37284144, 0.48627002],\n",
       "        [0.35545024, 0.41989664, 0.55194805, 0.28449502, 0.63559322,\n",
       "         0.05882353, 1.70454545, 0.41469194, 0.33359498, 0.25743707],\n",
       "        [0.05924171, 0.32299742, 0.32467532, 0.01778094, 1.05932203,\n",
       "         0.44117647, 2.41477273, 0.5035545 , 0.        , 0.42906178],\n",
       "        [0.29620853, 0.12919897, 0.48701299, 0.        , 0.70621469,\n",
       "         0.17647059, 2.69886364, 0.02962085, 0.33359498, 0.28604119],\n",
       "        [0.31595577, 0.03229974, 0.38961039, 0.30227596, 1.34180791,\n",
       "         0.26470588, 1.84659091, 0.26658768, 0.35321821, 0.        ]]])"
      ]
     },
     "execution_count": 250,
     "metadata": {},
     "output_type": "execute_result"
    }
   ],
   "source": [
    "f/f_var #  将keepdims指定为True，就可以顺利地进行计算"
   ]
  },
  {
   "cell_type": "markdown",
   "id": "dcb378da-8d88-42cb-a64d-acad5c704740",
   "metadata": {},
   "source": [
    "## 3.7 计算协方差的函数"
   ]
  },
  {
   "cell_type": "markdown",
   "id": "c340f2e3-f077-4465-8bd2-7dbab00a4632",
   "metadata": {},
   "source": [
    "### 3.7.1 　协方差"
   ]
  },
  {
   "cell_type": "code",
   "execution_count": 251,
   "id": "5d48a818-dc47-4c1a-95e5-808d265615c6",
   "metadata": {},
   "outputs": [],
   "source": [
    "import numpy as np\n",
    "import matplotlib.pyplot as plt"
   ]
  },
  {
   "cell_type": "code",
   "execution_count": 252,
   "id": "09b7bb71-05d9-4cf5-9410-23f59f957369",
   "metadata": {},
   "outputs": [],
   "source": [
    "mean = np.array([0, 0]) #  指定平均值"
   ]
  },
  {
   "cell_type": "code",
   "execution_count": 253,
   "id": "a1b9a33c-eeb1-43b7-a8ff-65003ff7bc3c",
   "metadata": {},
   "outputs": [],
   "source": [
    "cov = np.array([\n",
    "[1, 0.1],\n",
    "[0.1, 1]]) # 指定协方差矩阵。修改0.1所在的位置，就可以改变x和y的协方差的值"
   ]
  },
  {
   "cell_type": "code",
   "execution_count": 254,
   "id": "877cc9bd-3ad4-4961-91c4-d6b3f1410ba4",
   "metadata": {},
   "outputs": [],
   "source": [
    "x, y = np.random.multivariate_normal(mean, cov, 5000).T #  暂且生成5000个"
   ]
  },
  {
   "cell_type": "code",
   "execution_count": 255,
   "id": "53d11c45-5d63-4b26-b5c5-1299cd6579f8",
   "metadata": {},
   "outputs": [
    {
     "data": {
      "image/png": "[encoded data removed]",
      "text/plain": [
       "<Figure size 640x480 with 1 Axes>"
      ]
     },
     "metadata": {},
     "output_type": "display_data"
    }
   ],
   "source": [
    "plt.plot(x, y, 'x') #  进行绘制\n",
    "plt.title(\"covariance=0.1\")\n",
    "plt.axis(\"equal\")\n",
    "plt.show()"
   ]
  },
  {
   "cell_type": "code",
   "execution_count": 256,
   "id": "24d262fd-b348-4e72-88f0-07f391594fa8",
   "metadata": {},
   "outputs": [],
   "source": [
    "a = np.array([[10, 5, 2, 4, 9, 3, 2],[10, 2, 8, 3, 7, 4, 1]]) #  将第一行作为每个学生的数学分数，第二行作为每个学生的语文分数(满分都是10分)"
   ]
  },
  {
   "cell_type": "code",
   "execution_count": 257,
   "id": "2a0b0516-e693-4a5e-9c12-6cc0fadd026a",
   "metadata": {},
   "outputs": [
    {
     "data": {
      "text/plain": [
       "array([[10.66666667,  6.66666667],\n",
       "       [ 6.66666667, 11.33333333]])"
      ]
     },
     "execution_count": 257,
     "metadata": {},
     "output_type": "execute_result"
    }
   ],
   "source": [
    "np.cov(a) # 首先只指定参数"
   ]
  },
  {
   "cell_type": "code",
   "execution_count": 258,
   "id": "ab1a0b75-ad6e-4d8e-8b0e-847650441c95",
   "metadata": {},
   "outputs": [],
   "source": [
    "c = np.array([3, 2, 1, 5, 7, 2, 1]) # 其次添加英语的分数"
   ]
  },
  {
   "cell_type": "code",
   "execution_count": 259,
   "id": "5478f5b2-70e0-4969-a84c-1239be74f304",
   "metadata": {},
   "outputs": [
    {
     "data": {
      "text/plain": [
       "array([[10.66666667,  6.66666667,  4.66666667],\n",
       "       [ 6.66666667, 11.33333333,  1.66666667],\n",
       "       [ 4.66666667,  1.66666667,  5.        ]])"
      ]
     },
     "execution_count": 259,
     "metadata": {},
     "output_type": "execute_result"
    }
   ],
   "source": [
    "np.cov(a,c) # 返回数学、语文、英语的协方差矩阵"
   ]
  },
  {
   "cell_type": "code",
   "execution_count": 260,
   "id": "bc03676a-5f89-49c2-80f4-5ca664402afb",
   "metadata": {},
   "outputs": [],
   "source": [
    "a_transpose = a.T #  列与行进行替换"
   ]
  },
  {
   "cell_type": "code",
   "execution_count": 261,
   "id": "a099f7c2-c096-4dda-b655-2fc7fef3af1d",
   "metadata": {},
   "outputs": [],
   "source": [
    "c_transpose = np.reshape(c, (-1, 1))"
   ]
  },
  {
   "cell_type": "code",
   "execution_count": 262,
   "id": "a32612e2-1aab-47a5-964f-24a47c1fb207",
   "metadata": {},
   "outputs": [
    {
     "data": {
      "text/plain": [
       "array([[10.66666667,  6.66666667,  4.66666667],\n",
       "       [ 6.66666667, 11.33333333,  1.66666667],\n",
       "       [ 4.66666667,  1.66666667,  5.        ]])"
      ]
     },
     "execution_count": 262,
     "metadata": {},
     "output_type": "execute_result"
    }
   ],
   "source": [
    "np.cov(a_transpose, y=c_transpose, rowvar=False)# 从初始值开始计算"
   ]
  },
  {
   "cell_type": "code",
   "execution_count": 263,
   "id": "1b2f1da3-fb89-4d47-beba-e5a4cb578713",
   "metadata": {},
   "outputs": [
    {
     "data": {
      "text/plain": [
       "array([[9.14285714, 5.71428571],\n",
       "       [5.71428571, 9.71428571]])"
      ]
     },
     "execution_count": 263,
     "metadata": {},
     "output_type": "execute_result"
    }
   ],
   "source": [
    "np.cov(a, bias=True) # 因为是除以N，所以值会逐渐减少"
   ]
  },
  {
   "cell_type": "code",
   "execution_count": 264,
   "id": "02e8c365-a18a-4d47-b86d-c5f15a480ca7",
   "metadata": {},
   "outputs": [
    {
     "data": {
      "text/plain": [
       "array([[10.66666667,  6.66666667],\n",
       "       [ 6.66666667, 11.33333333]])"
      ]
     },
     "execution_count": 264,
     "metadata": {},
     "output_type": "execute_result"
    }
   ],
   "source": [
    "np.cov(a, ddof=None)"
   ]
  },
  {
   "cell_type": "code",
   "execution_count": 265,
   "id": "f77abf2d-7381-4ce0-8696-46cb198509af",
   "metadata": {},
   "outputs": [
    {
     "data": {
      "text/plain": [
       "array([[9.14285714, 5.71428571],\n",
       "       [5.71428571, 9.71428571]])"
      ]
     },
     "execution_count": 265,
     "metadata": {},
     "output_type": "execute_result"
    }
   ],
   "source": [
    "np.cov(a, ddof=0)"
   ]
  },
  {
   "cell_type": "code",
   "execution_count": 266,
   "id": "6e6558b5-bf2e-4294-984d-21a5498aebd9",
   "metadata": {},
   "outputs": [
    {
     "data": {
      "text/plain": [
       "array([[10.66666667,  6.66666667],\n",
       "       [ 6.66666667, 11.33333333]])"
      ]
     },
     "execution_count": 266,
     "metadata": {},
     "output_type": "execute_result"
    }
   ],
   "source": [
    "np.cov(a, ddof=1)"
   ]
  },
  {
   "cell_type": "code",
   "execution_count": 267,
   "id": "2a33323c-1817-42b3-aea8-faf589a01b8d",
   "metadata": {},
   "outputs": [
    {
     "data": {
      "text/plain": [
       "array([[12.8,  8. ],\n",
       "       [ 8. , 13.6]])"
      ]
     },
     "execution_count": 267,
     "metadata": {},
     "output_type": "execute_result"
    }
   ],
   "source": [
    "np.cov(a, ddof=2)"
   ]
  },
  {
   "cell_type": "code",
   "execution_count": 268,
   "id": "e0e328b0-4e89-41d7-9e78-ba9024561499",
   "metadata": {},
   "outputs": [
    {
     "data": {
      "text/plain": [
       "array([[10,  5,  2,  4,  9,  3,  2],\n",
       "       [10,  2,  8,  3,  7,  4,  1]])"
      ]
     },
     "execution_count": 268,
     "metadata": {},
     "output_type": "execute_result"
    }
   ],
   "source": [
    "a"
   ]
  },
  {
   "cell_type": "code",
   "execution_count": 269,
   "id": "5200857f-63b7-4ed3-948d-042ae635b7ce",
   "metadata": {},
   "outputs": [],
   "source": [
    "fweights = np.array([1, 2, 2, 1, 1, 1, 1]) #需要重视从左边开始的第2、3名学生的分数"
   ]
  },
  {
   "cell_type": "code",
   "execution_count": 270,
   "id": "c29dc0ec-7834-4d10-96f6-95ad10e7bac0",
   "metadata": {},
   "outputs": [
    {
     "data": {
      "text/plain": [
       "array([[ 9.   ,  3.875],\n",
       "       [ 3.875, 10.75 ]])"
      ]
     },
     "execution_count": 270,
     "metadata": {},
     "output_type": "execute_result"
    }
   ],
   "source": [
    "np.cov(a, fweights=fweights)"
   ]
  },
  {
   "cell_type": "code",
   "execution_count": 271,
   "id": "7a202150-f427-4916-b029-f567d481c3e5",
   "metadata": {},
   "outputs": [],
   "source": [
    "aweights= np.array([0.1, 0.2, 0.2, 0.2, 0.1, 0.1, 0.1]) #需要重视第2、3、4名学生的分数"
   ]
  },
  {
   "cell_type": "code",
   "execution_count": 272,
   "id": "e00d1c27-065d-4397-a98c-61c6a5b65075",
   "metadata": {},
   "outputs": [
    {
     "data": {
      "text/plain": [
       "array([[10.66666667,  6.66666667],\n",
       "       [ 6.66666667, 11.33333333]])"
      ]
     },
     "execution_count": 272,
     "metadata": {},
     "output_type": "execute_result"
    }
   ],
   "source": [
    "np.cov(a, aweights=None)"
   ]
  },
  {
   "cell_type": "code",
   "execution_count": 273,
   "id": "aa575f5b-884a-401a-b4f3-c37c1811c8aa",
   "metadata": {},
   "outputs": [
    {
     "data": {
      "text/plain": [
       "array([[ 8.61904762,  3.83333333],\n",
       "       [ 3.83333333, 10.66666667]])"
      ]
     },
     "execution_count": 273,
     "metadata": {},
     "output_type": "execute_result"
    }
   ],
   "source": [
    "np.cov(a, aweights=aweights)"
   ]
  },
  {
   "cell_type": "markdown",
   "id": "3f34e01c-f63e-48b1-9b22-dd3255b313ae",
   "metadata": {},
   "source": [
    "## 3.8 计算相关系数的函数"
   ]
  },
  {
   "cell_type": "markdown",
   "id": "76cdda96-eeb6-458e-81e8-d4e08ccee751",
   "metadata": {},
   "source": [
    "### 3.8.1 相关系数"
   ]
  },
  {
   "cell_type": "markdown",
   "id": "afa3a5ef-3164-47b3-bd3c-34ac71a19a90",
   "metadata": {},
   "source": [
    "### 3.8.2 定义"
   ]
  },
  {
   "cell_type": "code",
   "execution_count": 274,
   "id": "e557fcde-5e61-4508-89ad-5e85e983c924",
   "metadata": {},
   "outputs": [],
   "source": [
    "import numpy as np\n",
    "import matplotlib.pyplot as plt"
   ]
  },
  {
   "cell_type": "code",
   "execution_count": 275,
   "id": "d88a5aab-c164-4547-b964-de721a65c8c2",
   "metadata": {},
   "outputs": [],
   "source": [
    "mean = np.array([0, 0]) # 指定平均"
   ]
  },
  {
   "cell_type": "code",
   "execution_count": 276,
   "id": "17b8ce2d-906a-448d-b48f-96f6c76a471b",
   "metadata": {},
   "outputs": [],
   "source": [
    "cov = np.array([\n",
    "[1, 0.8],\n",
    "[0.8, 1]]) #  指定协方差矩阵。将两个0.8的位置修改为任意r的值，就可以改变x和y的协方差的值"
   ]
  },
  {
   "cell_type": "code",
   "execution_count": 277,
   "id": "b3da70ac-535f-4b5e-adc7-e7dd410c975c",
   "metadata": {},
   "outputs": [],
   "source": [
    "x, y = np.random.multivariate_normal(mean, cov, 5000).T # 暂且生成5000个"
   ]
  },
  {
   "cell_type": "code",
   "execution_count": 278,
   "id": "478d6c5c-0bfc-4359-95fe-aabed5934e53",
   "metadata": {},
   "outputs": [
    {
     "data": {
      "image/png": "[encoded data removed]",
      "text/plain": [
       "<Figure size 640x480 with 1 Axes>"
      ]
     },
     "metadata": {},
     "output_type": "display_data"
    }
   ],
   "source": [
    "plt.plot(x, y, 'x') #  绘制图表。'x'用于指定绘制的风格，x符号会被绘制出来\n",
    "plt.title(\"r=0.8\")\n",
    "plt.axis(\"equal\") # 将各个坐标轴上刻度的间隔统一\n",
    "plt.show()"
   ]
  },
  {
   "cell_type": "markdown",
   "id": "afd50ae7-743f-4bec-8997-e13a6e6c50b1",
   "metadata": {},
   "source": [
    "### 3.8.3 np.corrcoef"
   ]
  },
  {
   "cell_type": "code",
   "execution_count": 279,
   "id": "234d3df5-92db-4329-8dec-23351a187ee9",
   "metadata": {},
   "outputs": [],
   "source": [
    "x = np.array([\n",
    "[1, 2, 1, 9, 10, 3, 2, 6, 7],\n",
    "[2, 1, 8, 3, 7, 5, 10, 7, 2]]) #  第一行为数学成绩，第二行为语文成绩"
   ]
  },
  {
   "cell_type": "code",
   "execution_count": 280,
   "id": "2c2c4db5-34a3-49fe-8975-8f2e05547301",
   "metadata": {},
   "outputs": [
    {
     "data": {
      "text/plain": [
       "array([[ 1.        , -0.05640533],\n",
       "       [-0.05640533,  1.        ]])"
      ]
     },
     "execution_count": 280,
     "metadata": {},
     "output_type": "execute_result"
    }
   ],
   "source": [
    "np.corrcoef(x) # 计算相关矩阵，右上与左下的值为相关系数"
   ]
  },
  {
   "cell_type": "code",
   "execution_count": 281,
   "id": "1a1a97f8-c7b4-4a6d-926b-529320f1da52",
   "metadata": {},
   "outputs": [],
   "source": [
    "y = np.array([2, 1, 1, 8, 9, 4, 3, 5, 7]) # 添加英语成绩"
   ]
  },
  {
   "cell_type": "code",
   "execution_count": 282,
   "id": "1a6ede8a-c6e0-401a-a105-5278fc246bab",
   "metadata": {},
   "outputs": [
    {
     "data": {
      "text/plain": [
       "array([[ 1.        , -0.05640533,  0.97094584],\n",
       "       [-0.05640533,  1.        , -0.01315587],\n",
       "       [ 0.97094584, -0.01315587,  1.        ]])"
      ]
     },
     "execution_count": 282,
     "metadata": {},
     "output_type": "execute_result"
    }
   ],
   "source": [
    "np.corrcoef(x, y) # 指定第二个参数y，即使不特意对3个科目的成绩进行连接，也可以对相关系数进行计算"
   ]
  },
  {
   "cell_type": "code",
   "execution_count": 283,
   "id": "427ded55-f453-4d2f-af9c-c5d13ce69071",
   "metadata": {},
   "outputs": [],
   "source": [
    "x_transpose = x.T"
   ]
  },
  {
   "cell_type": "code",
   "execution_count": 284,
   "id": "e9eb480f-894d-470d-a92b-5e12dadfe002",
   "metadata": {},
   "outputs": [
    {
     "data": {
      "text/plain": [
       "array([[ 1.        , -0.05640533],\n",
       "       [-0.05640533,  1.        ]])"
      ]
     },
     "execution_count": 284,
     "metadata": {},
     "output_type": "execute_result"
    }
   ],
   "source": [
    "np.corrcoef(x_transpose, rowvar=False) #  指定rowvar=False，求取每一列的相关系数"
   ]
  },
  {
   "cell_type": "code",
   "execution_count": 285,
   "id": "4efa6125-2345-4c1b-8584-cf73de9b7587",
   "metadata": {},
   "outputs": [
    {
     "data": {
      "text/plain": [
       "array([[ 1., -1.,  1., -1., -1.,  1.,  1.,  1., -1.],\n",
       "       [-1.,  1., -1.,  1.,  1., -1., -1., -1.,  1.],\n",
       "       [ 1., -1.,  1., -1., -1.,  1.,  1.,  1., -1.],\n",
       "       [-1.,  1., -1.,  1.,  1., -1., -1., -1.,  1.],\n",
       "       [-1.,  1., -1.,  1.,  1., -1., -1., -1.,  1.],\n",
       "       [ 1., -1.,  1., -1., -1.,  1.,  1.,  1., -1.],\n",
       "       [ 1., -1.,  1., -1., -1.,  1.,  1.,  1., -1.],\n",
       "       [ 1., -1.,  1., -1., -1.,  1.,  1.,  1., -1.],\n",
       "       [-1.,  1., -1.,  1.,  1., -1., -1., -1.,  1.]])"
      ]
     },
     "execution_count": 285,
     "metadata": {},
     "output_type": "execute_result"
    }
   ],
   "source": [
    "np.corrcoef(x_transpose, rowvar=True) #  如果指定rowvar=True(默认设置)，就是求取每一位学生的相关系数"
   ]
  },
  {
   "cell_type": "markdown",
   "id": "8c9839ed-b245-464f-8fed-759a82357fbd",
   "metadata": {},
   "source": [
    "## 3.9 根据数组元素生成网格的函数"
   ]
  },
  {
   "cell_type": "markdown",
   "id": "c60493f1-cf60-433b-bcc6-a19b7db10a88",
   "metadata": {},
   "source": [
    "### 3.9.1 网格点"
   ]
  },
  {
   "cell_type": "code",
   "execution_count": 286,
   "id": "215e1f4d-b8bc-4f2e-8628-3c2aa6417059",
   "metadata": {},
   "outputs": [],
   "source": [
    "import numpy as np"
   ]
  },
  {
   "cell_type": "code",
   "execution_count": 287,
   "id": "9964dcae-1353-4d80-9d15-56822072ded3",
   "metadata": {},
   "outputs": [
    {
     "data": {
      "text/plain": [
       "array([[0, 1, 2, 3, 4],\n",
       "       [0, 1, 2, 3, 4],\n",
       "       [0, 1, 2, 3, 4],\n",
       "       [0, 1, 2, 3, 4],\n",
       "       [0, 1, 2, 3, 4]])"
      ]
     },
     "execution_count": 287,
     "metadata": {},
     "output_type": "execute_result"
    }
   ],
   "source": [
    "xx = np.array([[x for x in range(5)] for _ in range(5)])\n",
    "xx"
   ]
  },
  {
   "cell_type": "code",
   "execution_count": 288,
   "id": "1e5d1894-8064-494a-bbe2-de0d5b4208dd",
   "metadata": {},
   "outputs": [
    {
     "data": {
      "text/plain": [
       "array([[0, 0, 0, 0, 0],\n",
       "       [1, 1, 1, 1, 1],\n",
       "       [2, 2, 2, 2, 2],\n",
       "       [3, 3, 3, 3, 3],\n",
       "       [4, 4, 4, 4, 4]])"
      ]
     },
     "execution_count": 288,
     "metadata": {},
     "output_type": "execute_result"
    }
   ],
   "source": [
    "yy = np.array([[y for _ in range(5)] for y in range(5)])\n",
    "yy"
   ]
  },
  {
   "cell_type": "markdown",
   "id": "4c686e16-72cb-499c-a44b-8a19b3e89c3b",
   "metadata": {},
   "source": [
    "### 3.9.2 np.meshgrid"
   ]
  },
  {
   "cell_type": "code",
   "execution_count": 289,
   "id": "295095e7-e1c4-4474-b540-9fb07741096e",
   "metadata": {},
   "outputs": [],
   "source": [
    "import numpy as np"
   ]
  },
  {
   "cell_type": "code",
   "execution_count": 290,
   "id": "692a554d-a813-4b4a-927a-60f362c30486",
   "metadata": {},
   "outputs": [],
   "source": [
    "a = np.array([0, 1, 2])"
   ]
  },
  {
   "cell_type": "code",
   "execution_count": 291,
   "id": "383ef30b-1f43-4f29-82e2-6a4a652383db",
   "metadata": {},
   "outputs": [],
   "source": [
    "b = np.array([0, 4]) # 首先创建两个一维数组"
   ]
  },
  {
   "cell_type": "code",
   "execution_count": 292,
   "id": "f1d356c1-a837-407f-b589-e362bfd22b5e",
   "metadata": {},
   "outputs": [],
   "source": [
    "aa, bb = np.meshgrid(a, b) # 从基本的操作开始执行"
   ]
  },
  {
   "cell_type": "code",
   "execution_count": 293,
   "id": "705d7203-7814-45d9-a132-a777a2425268",
   "metadata": {},
   "outputs": [
    {
     "data": {
      "text/plain": [
       "array([[0, 1, 2],\n",
       "       [0, 1, 2]])"
      ]
     },
     "execution_count": 293,
     "metadata": {},
     "output_type": "execute_result"
    }
   ],
   "source": [
    "aa"
   ]
  },
  {
   "cell_type": "code",
   "execution_count": 294,
   "id": "d81c5425-8f51-42d6-9be7-216c2576877c",
   "metadata": {},
   "outputs": [
    {
     "data": {
      "text/plain": [
       "array([[0, 0, 0],\n",
       "       [4, 4, 4]])"
      ]
     },
     "execution_count": 294,
     "metadata": {},
     "output_type": "execute_result"
    }
   ],
   "source": [
    "bb"
   ]
  },
  {
   "cell_type": "code",
   "execution_count": 295,
   "id": "08b208c8-4883-4d28-aeda-83cbda9f69e2",
   "metadata": {},
   "outputs": [],
   "source": [
    "c = np.array([0, 9]) #  再增加一个新的数组"
   ]
  },
  {
   "cell_type": "code",
   "execution_count": 296,
   "id": "6fd3dcd0-b4d5-4813-8019-f2acea593598",
   "metadata": {},
   "outputs": [],
   "source": [
    "aaa, bbb, ccc = np.meshgrid(a, b, c) #  生成3个带有3个坐标轴的数组"
   ]
  },
  {
   "cell_type": "code",
   "execution_count": 297,
   "id": "f794023b-ec48-44fc-b555-99ea517b48c4",
   "metadata": {},
   "outputs": [
    {
     "data": {
      "text/plain": [
       "array([[[0, 0],\n",
       "        [1, 1],\n",
       "        [2, 2]],\n",
       "\n",
       "       [[0, 0],\n",
       "        [1, 1],\n",
       "        [2, 2]]])"
      ]
     },
     "execution_count": 297,
     "metadata": {},
     "output_type": "execute_result"
    }
   ],
   "source": [
    "aaa"
   ]
  },
  {
   "cell_type": "code",
   "execution_count": 298,
   "id": "d13bffd5-94c7-4a64-867a-0ca67a97b534",
   "metadata": {},
   "outputs": [
    {
     "data": {
      "text/plain": [
       "array([[[0, 0],\n",
       "        [0, 0],\n",
       "        [0, 0]],\n",
       "\n",
       "       [[4, 4],\n",
       "        [4, 4],\n",
       "        [4, 4]]])"
      ]
     },
     "execution_count": 298,
     "metadata": {},
     "output_type": "execute_result"
    }
   ],
   "source": [
    "bbb"
   ]
  },
  {
   "cell_type": "code",
   "execution_count": 299,
   "id": "45fab112-99b3-4ce0-8688-ff224d17f927",
   "metadata": {},
   "outputs": [
    {
     "data": {
      "text/plain": [
       "array([[[0, 9],\n",
       "        [0, 9],\n",
       "        [0, 9]],\n",
       "\n",
       "       [[0, 9],\n",
       "        [0, 9],\n",
       "        [0, 9]]])"
      ]
     },
     "execution_count": 299,
     "metadata": {},
     "output_type": "execute_result"
    }
   ],
   "source": [
    "ccc"
   ]
  },
  {
   "cell_type": "code",
   "execution_count": 300,
   "id": "d6140858-8451-4ec4-aa2a-6f42105efb4e",
   "metadata": {},
   "outputs": [],
   "source": [
    "aa2, bb2 = np.meshgrid(a, b, indexing='xy') # 首先从默认值xy开始执行"
   ]
  },
  {
   "cell_type": "code",
   "execution_count": 301,
   "id": "37f0494d-aba2-4040-a17f-e232e2cd1716",
   "metadata": {},
   "outputs": [
    {
     "data": {
      "text/plain": [
       "array([[0, 1, 2],\n",
       "       [0, 1, 2]])"
      ]
     },
     "execution_count": 301,
     "metadata": {},
     "output_type": "execute_result"
    }
   ],
   "source": [
    "aa2"
   ]
  },
  {
   "cell_type": "code",
   "execution_count": 302,
   "id": "db86a332-6a19-469d-98f4-f21cdf5725fd",
   "metadata": {},
   "outputs": [
    {
     "data": {
      "text/plain": [
       "array([[0, 0, 0],\n",
       "       [4, 4, 4]])"
      ]
     },
     "execution_count": 302,
     "metadata": {},
     "output_type": "execute_result"
    }
   ],
   "source": [
    "bb2"
   ]
  },
  {
   "cell_type": "code",
   "execution_count": 303,
   "id": "e9c42d0c-c13d-4ec8-886a-11009a07661a",
   "metadata": {},
   "outputs": [],
   "source": [
    "aa3, bb3 = np.meshgrid(a, b, indexing='ij') # 尝试指定为ij"
   ]
  },
  {
   "cell_type": "code",
   "execution_count": 304,
   "id": "1173426b-a8b5-4eb0-9d6c-01c3f6c891f4",
   "metadata": {},
   "outputs": [
    {
     "data": {
      "text/plain": [
       "array([[0, 0],\n",
       "       [1, 1],\n",
       "       [2, 2]])"
      ]
     },
     "execution_count": 304,
     "metadata": {},
     "output_type": "execute_result"
    }
   ],
   "source": [
    "aa3"
   ]
  },
  {
   "cell_type": "code",
   "execution_count": 305,
   "id": "97e7e881-af23-4a79-a0ea-4b64c22ce390",
   "metadata": {},
   "outputs": [
    {
     "data": {
      "text/plain": [
       "array([[0, 4],\n",
       "       [0, 4],\n",
       "       [0, 4]])"
      ]
     },
     "execution_count": 305,
     "metadata": {},
     "output_type": "execute_result"
    }
   ],
   "source": [
    "bb3"
   ]
  },
  {
   "cell_type": "code",
   "execution_count": 306,
   "id": "2228fb3f-f6e9-4789-a17c-6babb08d499e",
   "metadata": {},
   "outputs": [],
   "source": [
    "aaa1, bbb1, ccc1 = np.meshgrid(a, b, c, indexing='xy') #  也同样对三维空间进行确认"
   ]
  },
  {
   "cell_type": "code",
   "execution_count": 307,
   "id": "991b1459-5903-4539-9ef1-f9fa36136b16",
   "metadata": {},
   "outputs": [
    {
     "data": {
      "text/plain": [
       "array([[[0, 0],\n",
       "        [1, 1],\n",
       "        [2, 2]],\n",
       "\n",
       "       [[0, 0],\n",
       "        [1, 1],\n",
       "        [2, 2]]])"
      ]
     },
     "execution_count": 307,
     "metadata": {},
     "output_type": "execute_result"
    }
   ],
   "source": [
    "aaa1"
   ]
  },
  {
   "cell_type": "code",
   "execution_count": 308,
   "id": "838e979d-51fa-42aa-8c1c-665146f61bef",
   "metadata": {},
   "outputs": [
    {
     "data": {
      "text/plain": [
       "array([[[0, 0],\n",
       "        [0, 0],\n",
       "        [0, 0]],\n",
       "\n",
       "       [[4, 4],\n",
       "        [4, 4],\n",
       "        [4, 4]]])"
      ]
     },
     "execution_count": 308,
     "metadata": {},
     "output_type": "execute_result"
    }
   ],
   "source": [
    "bbb1"
   ]
  },
  {
   "cell_type": "code",
   "execution_count": 309,
   "id": "5b7adad9-4784-48cb-aa24-8bb0ac288c91",
   "metadata": {},
   "outputs": [
    {
     "data": {
      "text/plain": [
       "array([[[0, 9],\n",
       "        [0, 9],\n",
       "        [0, 9]],\n",
       "\n",
       "       [[0, 9],\n",
       "        [0, 9],\n",
       "        [0, 9]]])"
      ]
     },
     "execution_count": 309,
     "metadata": {},
     "output_type": "execute_result"
    }
   ],
   "source": [
    "ccc1"
   ]
  },
  {
   "cell_type": "code",
   "execution_count": 310,
   "id": "36f3fb7e-d516-422c-9348-95ea81b4cd72",
   "metadata": {},
   "outputs": [],
   "source": [
    "aaa2, bbb2, ccc2=np.meshgrid(a, b, c, indexing='ij') #  指定ij"
   ]
  },
  {
   "cell_type": "code",
   "execution_count": 311,
   "id": "630853c9-16ad-4376-827b-f0e0ba08ee79",
   "metadata": {},
   "outputs": [
    {
     "data": {
      "text/plain": [
       "array([[[0, 0],\n",
       "        [0, 0]],\n",
       "\n",
       "       [[1, 1],\n",
       "        [1, 1]],\n",
       "\n",
       "       [[2, 2],\n",
       "        [2, 2]]])"
      ]
     },
     "execution_count": 311,
     "metadata": {},
     "output_type": "execute_result"
    }
   ],
   "source": [
    "aaa2"
   ]
  },
  {
   "cell_type": "code",
   "execution_count": 312,
   "id": "fa2fb305-ee89-48ba-b51d-2bcb825443a6",
   "metadata": {},
   "outputs": [
    {
     "data": {
      "text/plain": [
       "array([[[0, 0],\n",
       "        [4, 4]],\n",
       "\n",
       "       [[0, 0],\n",
       "        [4, 4]],\n",
       "\n",
       "       [[0, 0],\n",
       "        [4, 4]]])"
      ]
     },
     "execution_count": 312,
     "metadata": {},
     "output_type": "execute_result"
    }
   ],
   "source": [
    "bbb2"
   ]
  },
  {
   "cell_type": "code",
   "execution_count": 313,
   "id": "35e1d5b1-a49e-4adb-8845-9748735273a4",
   "metadata": {},
   "outputs": [
    {
     "data": {
      "text/plain": [
       "array([[[0, 9],\n",
       "        [0, 9]],\n",
       "\n",
       "       [[0, 9],\n",
       "        [0, 9]],\n",
       "\n",
       "       [[0, 9],\n",
       "        [0, 9]]])"
      ]
     },
     "execution_count": 313,
     "metadata": {},
     "output_type": "execute_result"
    }
   ],
   "source": [
    "ccc2"
   ]
  },
  {
   "cell_type": "code",
   "execution_count": 314,
   "id": "ca0c2c9f-d824-48f2-92c7-21a22b9bf84c",
   "metadata": {},
   "outputs": [],
   "source": [
    "av, bv=np.meshgrid(a, b, sparse=True) # 这里会生成向量，类似av、bv这样添加后缀v是一般的做法"
   ]
  },
  {
   "cell_type": "code",
   "execution_count": 315,
   "id": "b1dc0409-3ca8-4d6f-9622-d81f7ec6927b",
   "metadata": {},
   "outputs": [
    {
     "data": {
      "text/plain": [
       "array([[0, 1, 2]])"
      ]
     },
     "execution_count": 315,
     "metadata": {},
     "output_type": "execute_result"
    }
   ],
   "source": [
    "av"
   ]
  },
  {
   "cell_type": "code",
   "execution_count": 316,
   "id": "6c0f8d43-15c1-4b3e-b316-69fe3b4e00f7",
   "metadata": {},
   "outputs": [
    {
     "data": {
      "text/plain": [
       "array([[0],\n",
       "       [4]])"
      ]
     },
     "execution_count": 316,
     "metadata": {},
     "output_type": "execute_result"
    }
   ],
   "source": [
    "bv"
   ]
  },
  {
   "cell_type": "code",
   "execution_count": 317,
   "id": "02b0736b-655b-42c6-98d2-0764a09b7cac",
   "metadata": {},
   "outputs": [],
   "source": [
    "aav, bbv, ccv=np.meshgrid(a, b, c, sparse=True) # 在三维空间也可以进行同样的操作"
   ]
  },
  {
   "cell_type": "code",
   "execution_count": 318,
   "id": "dd6d1344-f293-4974-a328-be011dd7cbff",
   "metadata": {},
   "outputs": [
    {
     "data": {
      "text/plain": [
       "array([[[0],\n",
       "        [1],\n",
       "        [2]]])"
      ]
     },
     "execution_count": 318,
     "metadata": {},
     "output_type": "execute_result"
    }
   ],
   "source": [
    "aav"
   ]
  },
  {
   "cell_type": "code",
   "execution_count": 319,
   "id": "f32da0e8-488c-4f47-9726-a70c078dec01",
   "metadata": {},
   "outputs": [
    {
     "data": {
      "text/plain": [
       "array([[[0]],\n",
       "\n",
       "       [[4]]])"
      ]
     },
     "execution_count": 319,
     "metadata": {},
     "output_type": "execute_result"
    }
   ],
   "source": [
    "bbv"
   ]
  },
  {
   "cell_type": "code",
   "execution_count": 320,
   "id": "e5534ba3-4003-4165-9ff9-710c6d3d3b89",
   "metadata": {},
   "outputs": [
    {
     "data": {
      "text/plain": [
       "array([[[0, 9]]])"
      ]
     },
     "execution_count": 320,
     "metadata": {},
     "output_type": "execute_result"
    }
   ],
   "source": [
    "ccv"
   ]
  },
  {
   "cell_type": "markdown",
   "id": "3909a730-60df-4521-918f-01a8a194909f",
   "metadata": {},
   "source": [
    "## 3.10 内积计算函数"
   ]
  },
  {
   "cell_type": "markdown",
   "id": "3be73b03-72bf-48db-b14a-ab4e735031e8",
   "metadata": {},
   "source": [
    "### 3.10.1 数学知识回顾(向量内积和矩阵乘积)"
   ]
  },
  {
   "cell_type": "markdown",
   "id": "0fbda191-fdcb-4622-933c-65929b7348ea",
   "metadata": {},
   "source": [
    "### 3.10.2 关于现状的变化"
   ]
  },
  {
   "cell_type": "markdown",
   "id": "3d2af15c-d120-4b49-ac66-b1d913552369",
   "metadata": {},
   "source": [
    "### 3.10.3 np.dot"
   ]
  },
  {
   "cell_type": "code",
   "execution_count": 321,
   "id": "dceb7087-89bf-49c3-b973-b039d752260e",
   "metadata": {},
   "outputs": [],
   "source": [
    "import numpy as np"
   ]
  },
  {
   "cell_type": "code",
   "execution_count": 322,
   "id": "f36418f6-2a11-4c0e-9462-e8e9adcec2cb",
   "metadata": {},
   "outputs": [
    {
     "data": {
      "text/plain": [
       "array([1, 2])"
      ]
     },
     "execution_count": 322,
     "metadata": {},
     "output_type": "execute_result"
    }
   ],
   "source": [
    "a = np.array([1, 2])\n",
    "a"
   ]
  },
  {
   "cell_type": "code",
   "execution_count": 323,
   "id": "1c773e30-d66d-4211-86b7-ea16e6cdd4c1",
   "metadata": {},
   "outputs": [
    {
     "data": {
      "text/plain": [
       "array([4, 3])"
      ]
     },
     "execution_count": 323,
     "metadata": {},
     "output_type": "execute_result"
    }
   ],
   "source": [
    "b = np.array([4, 3])\n",
    "b"
   ]
  },
  {
   "cell_type": "code",
   "execution_count": 324,
   "id": "de7f3c66-8297-4596-9346-00dd2ff5d9eb",
   "metadata": {},
   "outputs": [
    {
     "data": {
      "text/plain": [
       "10"
      ]
     },
     "execution_count": 324,
     "metadata": {},
     "output_type": "execute_result"
    }
   ],
   "source": [
    "np.dot(a, b) # 首先计算二维向量之间的内积"
   ]
  },
  {
   "cell_type": "code",
   "execution_count": 325,
   "id": "01765cf6-1b95-4a51-9f08-7b04edac961f",
   "metadata": {},
   "outputs": [
    {
     "data": {
      "text/plain": [
       "5"
      ]
     },
     "execution_count": 325,
     "metadata": {},
     "output_type": "execute_result"
    }
   ],
   "source": [
    "np.dot(a, a) # 这样设置，向量的范数的平方就表示为计算结果"
   ]
  },
  {
   "cell_type": "code",
   "execution_count": 326,
   "id": "2b67a6a6-1ee8-4793-b3ce-fa00602ce851",
   "metadata": {},
   "outputs": [
    {
     "data": {
      "text/plain": [
       "20"
      ]
     },
     "execution_count": 326,
     "metadata": {},
     "output_type": "execute_result"
    }
   ],
   "source": [
    "np.dot(4, 5) # 加入数字也可以进行点积计算"
   ]
  },
  {
   "cell_type": "code",
   "execution_count": 327,
   "id": "5f862a2a-b980-4286-b46d-e89af2003d8d",
   "metadata": {},
   "outputs": [],
   "source": [
    "c = np.array([1j, 2j]) #  加入复数进行计算"
   ]
  },
  {
   "cell_type": "code",
   "execution_count": 328,
   "id": "64afaf69-3e19-45f9-aa0c-782a1e51c2ac",
   "metadata": {},
   "outputs": [],
   "source": [
    "d = np.array([4j, 3j])"
   ]
  },
  {
   "cell_type": "code",
   "execution_count": 329,
   "id": "e86fcc74-5bb3-4596-911d-f8bc012263c2",
   "metadata": {},
   "outputs": [
    {
     "data": {
      "text/plain": [
       "(-10+0j)"
      ]
     },
     "execution_count": 329,
     "metadata": {},
     "output_type": "execute_result"
    }
   ],
   "source": [
    "np.dot(c, d)"
   ]
  },
  {
   "cell_type": "code",
   "execution_count": 330,
   "id": "6887ad3e-0c72-4f22-82a5-f43443795c08",
   "metadata": {},
   "outputs": [
    {
     "data": {
      "text/plain": [
       "10j"
      ]
     },
     "execution_count": 330,
     "metadata": {},
     "output_type": "execute_result"
    }
   ],
   "source": [
    "np.dot(a, d)"
   ]
  },
  {
   "cell_type": "code",
   "execution_count": 331,
   "id": "a6218009-1269-4571-9b7d-177da436fac6",
   "metadata": {},
   "outputs": [],
   "source": [
    "e = np.matrix([1, 2])"
   ]
  },
  {
   "cell_type": "code",
   "execution_count": 332,
   "id": "0ca20a84-d34e-4e58-a2d6-0bf20df0f894",
   "metadata": {},
   "outputs": [],
   "source": [
    "f = np.matrix([4, 3])"
   ]
  },
  {
   "cell_type": "code",
   "execution_count": 333,
   "id": "9eff2753-16ab-47e4-bc8a-99cc22262e30",
   "metadata": {},
   "outputs": [],
   "source": [
    "# np.dot(e, f) #如果使用np.matrix进行相同的计算，会发生运行时错误"
   ]
  },
  {
   "cell_type": "code",
   "execution_count": 334,
   "id": "3a01484b-0108-4697-8c84-68a02bb4cefb",
   "metadata": {},
   "outputs": [],
   "source": [
    "f = np.matrix([[4], [3]]) #将f变换成列向量"
   ]
  },
  {
   "cell_type": "code",
   "execution_count": 335,
   "id": "c2a573bf-b544-4d67-a6df-b9fa1f1ac8f4",
   "metadata": {},
   "outputs": [
    {
     "data": {
      "text/plain": [
       "matrix([[10]])"
      ]
     },
     "execution_count": 335,
     "metadata": {},
     "output_type": "execute_result"
    }
   ],
   "source": [
    "np.dot(e, f) #就可以得到相同的计算结果"
   ]
  },
  {
   "cell_type": "code",
   "execution_count": 336,
   "id": "27034cf4-da96-47fe-ae33-41fa2dd58000",
   "metadata": {},
   "outputs": [
    {
     "data": {
      "text/plain": [
       "array([[1, 2],\n",
       "       [3, 4]])"
      ]
     },
     "execution_count": 336,
     "metadata": {},
     "output_type": "execute_result"
    }
   ],
   "source": [
    "a = np.array([[1, 2], [3, 4]])\n",
    "a"
   ]
  },
  {
   "cell_type": "code",
   "execution_count": 337,
   "id": "d907efaf-3dfe-43fd-8305-c16609cb5d02",
   "metadata": {},
   "outputs": [
    {
     "data": {
      "text/plain": [
       "array([[4, 3],\n",
       "       [2, 1]])"
      ]
     },
     "execution_count": 337,
     "metadata": {},
     "output_type": "execute_result"
    }
   ],
   "source": [
    "b = np.array([[4, 3], [2, 1]])\n",
    "b"
   ]
  },
  {
   "cell_type": "code",
   "execution_count": 338,
   "id": "05d0ac99-4450-4ea7-bcb6-3211690b87a3",
   "metadata": {},
   "outputs": [
    {
     "data": {
      "text/plain": [
       "array([[ 8,  5],\n",
       "       [20, 13]])"
      ]
     },
     "execution_count": 338,
     "metadata": {},
     "output_type": "execute_result"
    }
   ],
   "source": [
    "np.dot(a, b) # 计算2×2的矩阵之间的乘积"
   ]
  },
  {
   "cell_type": "code",
   "execution_count": 339,
   "id": "aa9a4a94-5250-4bb3-badd-9bead41dddf3",
   "metadata": {},
   "outputs": [
    {
     "data": {
      "text/plain": [
       "array([[13, 20],\n",
       "       [ 5,  8]])"
      ]
     },
     "execution_count": 339,
     "metadata": {},
     "output_type": "execute_result"
    }
   ],
   "source": [
    "np.dot(b, a) #  将a和b的顺序进行颠倒，返回的矩阵也会不同"
   ]
  },
  {
   "cell_type": "code",
   "execution_count": 340,
   "id": "b279c6f9-12e6-4026-9ae8-9684cb5a1798",
   "metadata": {},
   "outputs": [],
   "source": [
    "c = np.arange(9).reshape((3, 3))"
   ]
  },
  {
   "cell_type": "code",
   "execution_count": 341,
   "id": "3728321f-0ec2-45fd-bc5a-775198d31bf9",
   "metadata": {},
   "outputs": [],
   "source": [
    "d = np.ones((3, 3)) # 生成元素为1的3×3的数组"
   ]
  },
  {
   "cell_type": "code",
   "execution_count": 342,
   "id": "cfbfc1b5-7604-48bd-a62d-c9d6ab33230a",
   "metadata": {},
   "outputs": [
    {
     "data": {
      "text/plain": [
       "array([[ 3.,  3.,  3.],\n",
       "       [12., 12., 12.],\n",
       "       [21., 21., 21.]])"
      ]
     },
     "execution_count": 342,
     "metadata": {},
     "output_type": "execute_result"
    }
   ],
   "source": [
    "np.dot(c, d) #  3×3的矩阵之间也同样可以计算内积"
   ]
  },
  {
   "cell_type": "code",
   "execution_count": 343,
   "id": "3d212ec9-8756-4be6-8f6d-ddb46e3d2d7b",
   "metadata": {},
   "outputs": [
    {
     "data": {
      "text/plain": [
       "array([[ 0,  1,  2],\n",
       "       [ 3,  4,  5],\n",
       "       [ 6,  7,  8],\n",
       "       [ 9, 10, 11]])"
      ]
     },
     "execution_count": 343,
     "metadata": {},
     "output_type": "execute_result"
    }
   ],
   "source": [
    "a = np.arange(12).reshape((4, 3))\n",
    "a"
   ]
  },
  {
   "cell_type": "code",
   "execution_count": 344,
   "id": "8372c2db-0cb0-409d-80dc-f1ad08484275",
   "metadata": {},
   "outputs": [
    {
     "data": {
      "text/plain": [
       "array([[ 0,  1,  2,  3],\n",
       "       [ 4,  5,  6,  7],\n",
       "       [ 8,  9, 10, 11],\n",
       "       [12, 13, 14, 15]])"
      ]
     },
     "execution_count": 344,
     "metadata": {},
     "output_type": "execute_result"
    }
   ],
   "source": [
    "b = np.arange(16).reshape((4, 4))\n",
    "b"
   ]
  },
  {
   "cell_type": "code",
   "execution_count": 345,
   "id": "87334fa0-82e3-44af-85d7-46023bfc89dd",
   "metadata": {},
   "outputs": [],
   "source": [
    "# np.dot(a, b) #  a的axis=1与b的axis=0不同，就不能进行计算"
   ]
  },
  {
   "cell_type": "code",
   "execution_count": 346,
   "id": "a5cc871e-5401-4c5b-93b6-cb075c8899fa",
   "metadata": {},
   "outputs": [],
   "source": [
    "d = np.matrix([[0, 1, 2], [3, 4, 5], [6, 7, 8]]) #  创建将c和d变换成matrix后的矩阵"
   ]
  },
  {
   "cell_type": "code",
   "execution_count": 347,
   "id": "ba9478f6-bafb-4d88-9312-84051f484f5d",
   "metadata": {},
   "outputs": [],
   "source": [
    "e = np.matrix([[1, 1, 1], [1, 1, 1], [1, 1, 1]])"
   ]
  },
  {
   "cell_type": "code",
   "execution_count": 348,
   "id": "9934801b-76f4-4416-b0d6-1af4885dab79",
   "metadata": {},
   "outputs": [
    {
     "data": {
      "text/plain": [
       "matrix([[ 3,  3,  3],\n",
       "        [12, 12, 12],\n",
       "        [21, 21, 21]])"
      ]
     },
     "execution_count": 348,
     "metadata": {},
     "output_type": "execute_result"
    }
   ],
   "source": [
    "np.dot(d, e)"
   ]
  },
  {
   "cell_type": "code",
   "execution_count": 349,
   "id": "88f996ca-5b34-4381-b3f3-e61c0cad5ac8",
   "metadata": {},
   "outputs": [],
   "source": [
    "result = np.zeros((2, 2)) #  事先创建用于保存结果的数组"
   ]
  },
  {
   "cell_type": "code",
   "execution_count": 350,
   "id": "3ce19a79-dcea-4531-878d-e64a329e7878",
   "metadata": {},
   "outputs": [
    {
     "data": {
      "text/plain": [
       "array([[0, 1],\n",
       "       [2, 3]])"
      ]
     },
     "execution_count": 350,
     "metadata": {},
     "output_type": "execute_result"
    }
   ],
   "source": [
    "a = np.arange(4).reshape(2, 2)\n",
    "a"
   ]
  },
  {
   "cell_type": "code",
   "execution_count": 351,
   "id": "c2e765dd-dc82-48fd-8d81-272ed612d5a8",
   "metadata": {},
   "outputs": [],
   "source": [
    "b = np.ones((2, 2))"
   ]
  },
  {
   "cell_type": "code",
   "execution_count": 352,
   "id": "80065249-b75e-407b-b859-620d2563cdda",
   "metadata": {},
   "outputs": [
    {
     "data": {
      "text/plain": [
       "array([[1., 1.],\n",
       "       [5., 5.]])"
      ]
     },
     "execution_count": 352,
     "metadata": {},
     "output_type": "execute_result"
    }
   ],
   "source": [
    "np.dot(a, b, out=result)"
   ]
  },
  {
   "cell_type": "code",
   "execution_count": 353,
   "id": "a1f52076-d12f-429b-a314-a204d0d41379",
   "metadata": {},
   "outputs": [
    {
     "data": {
      "text/plain": [
       "array([[1., 1.],\n",
       "       [5., 5.]])"
      ]
     },
     "execution_count": 353,
     "metadata": {},
     "output_type": "execute_result"
    }
   ],
   "source": [
    "result #  确认保存是否完整"
   ]
  },
  {
   "cell_type": "code",
   "execution_count": 354,
   "id": "6503c210-c990-49e6-8f7d-22299337dee8",
   "metadata": {},
   "outputs": [
    {
     "data": {
      "text/plain": [
       "array([[2., 4.],\n",
       "       [2., 4.]])"
      ]
     },
     "execution_count": 354,
     "metadata": {},
     "output_type": "execute_result"
    }
   ],
   "source": [
    "np.dot(b, a, out=result) # 将输入a与b的顺序进行颠倒，也可以反映出值的变化"
   ]
  },
  {
   "cell_type": "markdown",
   "id": "bac27d63-101e-420a-9a35-c1d0ae27c27a",
   "metadata": {},
   "source": [
    "## 3.11 计算行列式的函数"
   ]
  },
  {
   "cell_type": "markdown",
   "id": "8e3742bc-2a37-4247-8bf6-16946b7938ed",
   "metadata": {},
   "source": [
    "### 3.11.1 关于行列式"
   ]
  },
  {
   "cell_type": "markdown",
   "id": "d1f867bc-f0f0-4115-8850-f1e6a2eb786f",
   "metadata": {},
   "source": [
    "### 3.11.2 np.linalg.det"
   ]
  },
  {
   "cell_type": "code",
   "execution_count": 355,
   "id": "f3c2ee0d-ec76-4bbc-8f0f-c3a134cea70f",
   "metadata": {},
   "outputs": [],
   "source": [
    "import numpy as np"
   ]
  },
  {
   "cell_type": "code",
   "execution_count": 356,
   "id": "e9663641-1b3a-483d-90be-bf963bbbc0db",
   "metadata": {},
   "outputs": [],
   "source": [
    "import numpy.linalg as LA # 通常是将linalg模块作为LA进行导入"
   ]
  },
  {
   "cell_type": "code",
   "execution_count": 357,
   "id": "28dd65da-7ca9-41b1-be16-dc0a4d6e0c43",
   "metadata": {},
   "outputs": [
    {
     "data": {
      "text/plain": [
       "array([[ 2,  3],\n",
       "       [ 4, -1]])"
      ]
     },
     "execution_count": 357,
     "metadata": {},
     "output_type": "execute_result"
    }
   ],
   "source": [
    "a = np.array([[2, 3], [4, -1]])\n",
    "a"
   ]
  },
  {
   "cell_type": "code",
   "execution_count": 358,
   "id": "e7baf810-d543-43d5-a173-1eeec14e1017",
   "metadata": {},
   "outputs": [
    {
     "data": {
      "text/plain": [
       "-14.000000000000004"
      ]
     },
     "execution_count": 358,
     "metadata": {},
     "output_type": "execute_result"
    }
   ],
   "source": [
    "LA.det(a) # 计算a的行列式"
   ]
  },
  {
   "cell_type": "code",
   "execution_count": 359,
   "id": "97add313-7dfa-4734-a84a-1b4ae4b56a20",
   "metadata": {},
   "outputs": [
    {
     "data": {
      "text/plain": [
       "array([[1, 1],\n",
       "       [2, 2]])"
      ]
     },
     "execution_count": 359,
     "metadata": {},
     "output_type": "execute_result"
    }
   ],
   "source": [
    "b = np.array([[1, 1], [2, 2]]) # 返回的是0行列式\n",
    "b"
   ]
  },
  {
   "cell_type": "code",
   "execution_count": 360,
   "id": "eae10ee4-b489-4fa5-960f-c9cdd212919b",
   "metadata": {},
   "outputs": [
    {
     "data": {
      "text/plain": [
       "0.0"
      ]
     },
     "execution_count": 360,
     "metadata": {},
     "output_type": "execute_result"
    }
   ],
   "source": [
    "LA.det(b)"
   ]
  },
  {
   "cell_type": "code",
   "execution_count": 361,
   "id": "64df242f-f096-4297-bfd1-779a38b0a6f6",
   "metadata": {},
   "outputs": [
    {
     "data": {
      "text/plain": [
       "array([[ 1.-1.j,  0.+3.j],\n",
       "       [-0.-3.j,  1.+2.j]])"
      ]
     },
     "execution_count": 361,
     "metadata": {},
     "output_type": "execute_result"
    }
   ],
   "source": [
    "c = np.array([[1-1j, 3j], [-3j, 1+2j]]) # 元素是复数也没有问题\n",
    "c"
   ]
  },
  {
   "cell_type": "code",
   "execution_count": 362,
   "id": "94f98e81-08da-4a05-a90b-a9304232560b",
   "metadata": {},
   "outputs": [
    {
     "data": {
      "text/plain": [
       "(-6+1j)"
      ]
     },
     "execution_count": 362,
     "metadata": {},
     "output_type": "execute_result"
    }
   ],
   "source": [
    "LA.det(c)"
   ]
  },
  {
   "cell_type": "code",
   "execution_count": 363,
   "id": "9222c8b3-0b14-4004-8b07-1c3dba52cd82",
   "metadata": {},
   "outputs": [
    {
     "data": {
      "text/plain": [
       "array([[[ 5,  4,  5],\n",
       "        [-4, -2, -4],\n",
       "        [ 2, -2, -1]],\n",
       "\n",
       "       [[ 4, -1,  5],\n",
       "        [ 1,  1, -5],\n",
       "        [-3, -2, -5]],\n",
       "\n",
       "       [[ 1, -3, -1],\n",
       "        [ 2, -1,  3],\n",
       "        [-2, -3,  0]]])"
      ]
     },
     "execution_count": 363,
     "metadata": {},
     "output_type": "execute_result"
    }
   ],
   "source": [
    "d = np.random.randint(-5, 6, size=(3, 3, 3))\n",
    "d"
   ]
  },
  {
   "cell_type": "code",
   "execution_count": 364,
   "id": "3eb2d484-a57f-4926-9dd3-b025d3ae687c",
   "metadata": {},
   "outputs": [
    {
     "data": {
      "text/plain": [
       "array([-18., -75.,  35.])"
      ]
     },
     "execution_count": 364,
     "metadata": {},
     "output_type": "execute_result"
    }
   ],
   "source": [
    "LA.det(d)"
   ]
  },
  {
   "cell_type": "markdown",
   "id": "28fe0b65-0c7c-47ee-8597-4f3ec0af2190",
   "metadata": {},
   "source": [
    "## 3.12 计算矩阵的特征值和特征向量的函数"
   ]
  },
  {
   "cell_type": "markdown",
   "id": "e98244a2-1d9e-4fd5-8314-76b3cc104b75",
   "metadata": {},
   "source": [
    "### 3.12.1 特征值与特征向量"
   ]
  },
  {
   "cell_type": "markdown",
   "id": "dd8b0014-c11f-4daa-aad9-660dc950e163",
   "metadata": {},
   "source": [
    "### 3.12.2 特征值和特征向量的计算方法"
   ]
  },
  {
   "cell_type": "markdown",
   "id": "f3fccca3-38fe-45f9-af7e-b48736b6f57c",
   "metadata": {},
   "source": [
    "### 3.12.3 np.linalg.eig"
   ]
  },
  {
   "cell_type": "code",
   "execution_count": 365,
   "id": "8e5d940d-59ca-409c-8df3-ceb6b1a7ce1f",
   "metadata": {},
   "outputs": [],
   "source": [
    "import numpy as np"
   ]
  },
  {
   "cell_type": "code",
   "execution_count": 366,
   "id": "9c601c2b-20dc-402a-82a3-bbe0c1299087",
   "metadata": {},
   "outputs": [],
   "source": [
    "import numpy.linalg as LA # 将linalg模块作为LA进行导入"
   ]
  },
  {
   "cell_type": "code",
   "execution_count": 367,
   "id": "6f09a194-fed0-4384-9cb6-0544fed166bc",
   "metadata": {},
   "outputs": [
    {
     "data": {
      "text/plain": [
       "array([[1, 0],\n",
       "       [0, 2]])"
      ]
     },
     "execution_count": 367,
     "metadata": {},
     "output_type": "execute_result"
    }
   ],
   "source": [
    "a = np.array([[1, 0], [0, 2]]) # 首先从容易理解的对角矩阵开始计算\n",
    "a"
   ]
  },
  {
   "cell_type": "code",
   "execution_count": 368,
   "id": "124c9b86-43dd-453e-bf7f-15dafb91fa03",
   "metadata": {},
   "outputs": [
    {
     "data": {
      "text/plain": [
       "EigResult(eigenvalues=array([1., 2.]), eigenvectors=array([[1., 0.],\n",
       "       [0., 1.]]))"
      ]
     },
     "execution_count": 368,
     "metadata": {},
     "output_type": "execute_result"
    }
   ],
   "source": [
    "LA.eig(a)"
   ]
  },
  {
   "cell_type": "code",
   "execution_count": 369,
   "id": "9384bdc0-df02-41f3-bcf3-1e82d13866e4",
   "metadata": {},
   "outputs": [
    {
     "data": {
      "text/plain": [
       "array([[ 2,  5],\n",
       "       [ 3, -8]])"
      ]
     },
     "execution_count": 369,
     "metadata": {},
     "output_type": "execute_result"
    }
   ],
   "source": [
    "b = np.array([[2, 5], [3, -8]]) # 然后对这个矩阵的特征值和特征向量进行计算\n",
    "b"
   ]
  },
  {
   "cell_type": "code",
   "execution_count": 370,
   "id": "8f8670e4-7ba2-421a-9d0d-6ac706e9153c",
   "metadata": {},
   "outputs": [
    {
     "data": {
      "text/plain": [
       "EigResult(eigenvalues=array([ 3.32455532, -9.32455532]), eigenvectors=array([[ 0.96665615, -0.40390206],\n",
       "       [ 0.25607791,  0.91480224]]))"
      ]
     },
     "execution_count": 370,
     "metadata": {},
     "output_type": "execute_result"
    }
   ],
   "source": [
    "LA.eig(b)"
   ]
  },
  {
   "cell_type": "code",
   "execution_count": 371,
   "id": "1fb60546-708e-48a9-8f1c-6acd6d700b85",
   "metadata": {},
   "outputs": [],
   "source": [
    "c = np.random.randint(-10, 10, size=(3, 3)) # 尝试使用3×3的矩阵"
   ]
  },
  {
   "cell_type": "code",
   "execution_count": 372,
   "id": "59697d0a-9268-42f7-9b4e-5094f23d742d",
   "metadata": {},
   "outputs": [],
   "source": [
    "w,v = LA.eig(c) #  这种情况下，w相当于特征值，v相当于特征向量"
   ]
  },
  {
   "cell_type": "code",
   "execution_count": 373,
   "id": "b59ea21c-3950-41c0-acfa-df579aede680",
   "metadata": {},
   "outputs": [
    {
     "data": {
      "text/plain": [
       "array([5.89012759+7.33597103j, 5.89012759-7.33597103j,\n",
       "       5.21974481+0.j        ])"
      ]
     },
     "execution_count": 373,
     "metadata": {},
     "output_type": "execute_result"
    }
   ],
   "source": [
    "w"
   ]
  },
  {
   "cell_type": "code",
   "execution_count": 374,
   "id": "6a5b784e-ebcf-495f-ae1c-86cb7c962874",
   "metadata": {},
   "outputs": [
    {
     "data": {
      "text/plain": [
       "array([[ 0.07513336-0.50499894j,  0.07513336+0.50499894j,\n",
       "        -0.60390808+0.j        ],\n",
       "       [-0.06279788+0.40333631j, -0.06279788-0.40333631j,\n",
       "        -0.74029998+0.j        ],\n",
       "       [-0.75677427+0.j        , -0.75677427-0.j        ,\n",
       "         0.29538275+0.j        ]])"
      ]
     },
     "execution_count": 374,
     "metadata": {},
     "output_type": "execute_result"
    }
   ],
   "source": [
    "v"
   ]
  },
  {
   "cell_type": "code",
   "execution_count": 375,
   "id": "183d685e-e73a-4696-b1aa-4e3be82d80ac",
   "metadata": {},
   "outputs": [
    {
     "data": {
      "text/plain": [
       "array([[[ 6, -6, -9],\n",
       "        [-2,  7,  2],\n",
       "        [-5,  1, -4]],\n",
       "\n",
       "       [[-6, -4, -2],\n",
       "        [ 5, -8, -1],\n",
       "        [-5, -1,  5]],\n",
       "\n",
       "       [[ 1,  1, -2],\n",
       "        [-9, -7, -7],\n",
       "        [-9,  9, -9]]])"
      ]
     },
     "execution_count": 375,
     "metadata": {},
     "output_type": "execute_result"
    }
   ],
   "source": [
    "c = np.random.randint(-10, 10, size=(3, 3, 3)) #  尝试使用3×3的矩阵\n",
    "c"
   ]
  },
  {
   "cell_type": "code",
   "execution_count": 376,
   "id": "68fe56ad-3abc-41de-b7a8-1c309e19c1bd",
   "metadata": {},
   "outputs": [],
   "source": [
    "w,v = LA.eig(c)"
   ]
  },
  {
   "cell_type": "code",
   "execution_count": 377,
   "id": "7d3b40b2-2e6b-4af3-8029-3c69f445b27e",
   "metadata": {},
   "outputs": [
    {
     "data": {
      "text/plain": [
       "array([[-7.31827809+0.j        , 12.17782701+0.j        ,\n",
       "         4.14045108+0.j        ],\n",
       "       [ 5.76619105+0.j        , -7.38309552+4.19935461j,\n",
       "        -7.38309552-4.19935461j],\n",
       "       [ 2.67178907+0.j        , -8.83589454+8.37509765j,\n",
       "        -8.83589454-8.37509765j]])"
      ]
     },
     "execution_count": 377,
     "metadata": {},
     "output_type": "execute_result"
    }
   ],
   "source": [
    "w"
   ]
  },
  {
   "cell_type": "code",
   "execution_count": 378,
   "id": "ccdccd80-96e0-4a9c-8071-81d33287bbf5",
   "metadata": {},
   "outputs": [
    {
     "data": {
      "text/plain": [
       "array([[[ 0.54688611+0.j        ,  0.84981864+0.j        ,\n",
       "         -0.65687142+0.j        ],\n",
       "        [-0.04041614+0.j        , -0.44021511+0.j        ,\n",
       "         -0.68293224+0.j        ],\n",
       "        [ 0.8362309 +0.j        , -0.28986021+0.j        ,\n",
       "          0.31956766+0.j        ]],\n",
       "\n",
       "       [[ 0.12735533+0.j        ,  0.08823795+0.64818936j,\n",
       "          0.08823795-0.64818936j],\n",
       "        [ 0.11779685+0.j        ,  0.70914804+0.j        ,\n",
       "          0.70914804-0.j        ],\n",
       "        [-0.98483731+0.j        ,  0.00371315+0.26298268j,\n",
       "          0.00371315-0.26298268j]],\n",
       "\n",
       "       [[ 0.71247524+0.j        , -0.11068122-0.02463368j,\n",
       "         -0.11068122+0.02463368j],\n",
       "        [-0.1703184 +0.j        , -0.1236143 -0.68467168j,\n",
       "         -0.1236143 +0.68467168j],\n",
       "        [-0.68071336+0.j        , -0.70928629+0.j        ,\n",
       "         -0.70928629-0.j        ]]])"
      ]
     },
     "execution_count": 378,
     "metadata": {},
     "output_type": "execute_result"
    }
   ],
   "source": [
    "v"
   ]
  },
  {
   "cell_type": "markdown",
   "id": "25208d71-c2a1-4bec-a7a8-08c141b33d0c",
   "metadata": {},
   "source": [
    "## 3.13 计算矩阵的秩的函数"
   ]
  },
  {
   "cell_type": "markdown",
   "id": "b61c2dcd-0384-433d-bfde-d50869151c92",
   "metadata": {},
   "source": [
    "### 3.13.1 矩阵的秩"
   ]
  },
  {
   "cell_type": "markdown",
   "id": "6a43e9c5-eca2-4380-a4a9-f46cf9ffd8bb",
   "metadata": {},
   "source": [
    "### 3.13.2 np.linalg.matrix_rank"
   ]
  },
  {
   "cell_type": "code",
   "execution_count": 379,
   "id": "9c2dba6f-3703-41ff-b95d-611d67510194",
   "metadata": {},
   "outputs": [],
   "source": [
    "import numpy as np"
   ]
  },
  {
   "cell_type": "code",
   "execution_count": 380,
   "id": "3c74c0c6-6f0c-4cfd-a437-42f1bb4c7455",
   "metadata": {},
   "outputs": [
    {
     "data": {
      "text/plain": [
       "array([[1, 1, 4, 0, 1],\n",
       "       [0, 3, 1, 3, 2],\n",
       "       [1, 3, 0, 0, 1],\n",
       "       [2, 4, 3, 1, 1]])"
      ]
     },
     "execution_count": 380,
     "metadata": {},
     "output_type": "execute_result"
    }
   ],
   "source": [
    "A = np.array([[1, 1, 4, 0, 1],\n",
    "[0, 3, 1, 3, 2],\n",
    "[1, 3, 0, 0, 1],\n",
    "[2, 4, 3, 1, 1]]) # 定义矩阵A\n",
    "A"
   ]
  },
  {
   "cell_type": "code",
   "execution_count": 381,
   "id": "f159ad36-11db-4407-a1fb-3cc649054350",
   "metadata": {},
   "outputs": [
    {
     "data": {
      "text/plain": [
       "4"
      ]
     },
     "execution_count": 381,
     "metadata": {},
     "output_type": "execute_result"
    }
   ],
   "source": [
    "np.linalg.matrix_rank(A) #  确认矩阵的秩"
   ]
  },
  {
   "cell_type": "code",
   "execution_count": 382,
   "id": "56f353b2-72a1-43aa-ac42-6aa32a40485f",
   "metadata": {},
   "outputs": [
    {
     "data": {
      "text/plain": [
       "array([[1, 2, 3, 0],\n",
       "       [2, 4, 6, 0],\n",
       "       [1, 0, 1, 2],\n",
       "       [1, 0, 0, 3]])"
      ]
     },
     "execution_count": 382,
     "metadata": {},
     "output_type": "execute_result"
    }
   ],
   "source": [
    "B = np.array([\n",
    "[1, 2, 3, 0],\n",
    "[2, 4, 6, 0],\n",
    "[1, 0, 1, 2],\n",
    "[1, 0, 0, 3]]) #使第一行与第二行的值的比值相等\n",
    "B"
   ]
  },
  {
   "cell_type": "code",
   "execution_count": 383,
   "id": "f0e67431-e098-4666-b2ec-66778f961a10",
   "metadata": {},
   "outputs": [
    {
     "data": {
      "text/plain": [
       "3"
      ]
     },
     "execution_count": 383,
     "metadata": {},
     "output_type": "execute_result"
    }
   ],
   "source": [
    "np.linalg.matrix_rank(B) # 计算矩阵的秩"
   ]
  },
  {
   "cell_type": "markdown",
   "id": "e5c7f1ef-e0bb-4d43-a7dc-539060ee6cda",
   "metadata": {},
   "source": [
    "## 3.14 计算逆矩阵的函数"
   ]
  },
  {
   "cell_type": "markdown",
   "id": "435de4f3-745e-4d9d-9681-8a166aacf90b",
   "metadata": {},
   "source": [
    "### 3.14.1 何为逆矩阵"
   ]
  },
  {
   "cell_type": "markdown",
   "id": "ed0ede16-74b7-477f-ada3-0e0400c05365",
   "metadata": {},
   "source": [
    "### 3.14.2 逆矩阵的计算方法"
   ]
  },
  {
   "cell_type": "markdown",
   "id": "380ed124-5bd6-4daf-b47b-2f0f5ba5f4b0",
   "metadata": {},
   "source": [
    "### 3.14.3 np.linalg.inv"
   ]
  },
  {
   "cell_type": "code",
   "execution_count": 384,
   "id": "77c628cc-e0a3-4338-aa72-b58d4c979776",
   "metadata": {},
   "outputs": [],
   "source": [
    "import numpy as np"
   ]
  },
  {
   "cell_type": "code",
   "execution_count": 385,
   "id": "20991a4f-71a1-49c8-bc0c-764231a1c38c",
   "metadata": {},
   "outputs": [
    {
     "data": {
      "text/plain": [
       "array([[ 4, -6],\n",
       "       [-2, -9]])"
      ]
     },
     "execution_count": 385,
     "metadata": {},
     "output_type": "execute_result"
    }
   ],
   "source": [
    "a = np.random.randint(-9, 10, size=(2, 2)) # 首先从2×2的矩阵开始计算\n",
    "a"
   ]
  },
  {
   "cell_type": "code",
   "execution_count": 386,
   "id": "3b44d6d4-efe0-4f08-83b0-fcab04d8608b",
   "metadata": {},
   "outputs": [
    {
     "data": {
      "text/plain": [
       "array([[ 0.1875    , -0.125     ],\n",
       "       [-0.04166667, -0.08333333]])"
      ]
     },
     "execution_count": 386,
     "metadata": {},
     "output_type": "execute_result"
    }
   ],
   "source": [
    "np.linalg.inv(a) #  计算逆矩阵"
   ]
  },
  {
   "cell_type": "code",
   "execution_count": 387,
   "id": "6dada2b4-32e5-4dc5-a718-6a5c330e5004",
   "metadata": {},
   "outputs": [
    {
     "data": {
      "text/plain": [
       "array([[ 1.00000000e+00, -2.77555756e-17],\n",
       "       [-2.08166817e-17,  1.00000000e+00]])"
      ]
     },
     "execution_count": 387,
     "metadata": {},
     "output_type": "execute_result"
    }
   ],
   "source": [
    "np.dot(a, np.linalg.inv(a)) #  计算乘积并确认其是否会变成单位矩阵"
   ]
  },
  {
   "cell_type": "code",
   "execution_count": 388,
   "id": "302d89f0-660a-410c-9431-2d4fc35ed378",
   "metadata": {},
   "outputs": [
    {
     "data": {
      "text/plain": [
       "array([[ -7,  -8, -10],\n",
       "       [ -5,   4,  -6],\n",
       "       [  4,   4,   5]])"
      ]
     },
     "execution_count": 388,
     "metadata": {},
     "output_type": "execute_result"
    }
   ],
   "source": [
    "b = np.random.randint(-10, 10, size=(3, 3)) #  接下来对3×3的矩阵进行计算\n",
    "b"
   ]
  },
  {
   "cell_type": "code",
   "execution_count": 389,
   "id": "c0ba0dd8-cfe2-482d-89f4-0bb09b6a9213",
   "metadata": {},
   "outputs": [
    {
     "data": {
      "text/plain": [
       "array([[ 1.00000000e+00,  4.75809868e-17,  2.00000000e+00],\n",
       "       [ 2.27272727e-02,  1.13636364e-01,  1.81818182e-01],\n",
       "       [-8.18181818e-01, -9.09090909e-02, -1.54545455e+00]])"
      ]
     },
     "execution_count": 389,
     "metadata": {},
     "output_type": "execute_result"
    }
   ],
   "source": [
    "c = np.linalg.inv(b)\n",
    "c"
   ]
  },
  {
   "cell_type": "code",
   "execution_count": 390,
   "id": "3b80f4f7-dffb-44eb-ae95-86f205a772f6",
   "metadata": {},
   "outputs": [
    {
     "data": {
      "text/plain": [
       "array([[ 1.00000000e+00,  2.77555756e-17,  0.00000000e+00],\n",
       "       [-2.22044605e-16,  1.00000000e+00,  0.00000000e+00],\n",
       "       [-1.11022302e-16, -1.38777878e-17,  1.00000000e+00]])"
      ]
     },
     "execution_count": 390,
     "metadata": {},
     "output_type": "execute_result"
    }
   ],
   "source": [
    "np.dot(b, c) # 计算乘积"
   ]
  },
  {
   "cell_type": "code",
   "execution_count": 391,
   "id": "9b3f33be-508c-4b06-8046-8bda41841c28",
   "metadata": {},
   "outputs": [
    {
     "data": {
      "text/plain": [
       "array([[ 1.00000000e+00,  0.00000000e+00,  0.00000000e+00],\n",
       "       [-1.11022302e-16,  1.00000000e+00, -1.94289029e-16],\n",
       "       [ 0.00000000e+00,  0.00000000e+00,  1.00000000e+00]])"
      ]
     },
     "execution_count": 391,
     "metadata": {},
     "output_type": "execute_result"
    }
   ],
   "source": [
    "np.dot(c, b) #  即使顺序颠倒，其计算结果也基本不会发生变化（因为除了对角线上的元素之外，其他的值的大小几乎等于零。e–17表示10的\n",
    "# –17次方)"
   ]
  },
  {
   "cell_type": "code",
   "execution_count": 392,
   "id": "a00bc115-95fd-4309-b888-f575d1505f09",
   "metadata": {},
   "outputs": [
    {
     "data": {
      "text/plain": [
       "array([[[ 3, -7,  2],\n",
       "        [ 5, -3, -7],\n",
       "        [-5, -4, -4]],\n",
       "\n",
       "       [[-3,  9,  3],\n",
       "        [ 5,  6, -2],\n",
       "        [-8, -8,  4]],\n",
       "\n",
       "       [[-3,  7, -4],\n",
       "        [-6,  8,  5],\n",
       "        [ 4,  4,  8]],\n",
       "\n",
       "       [[ 2, -2,  0],\n",
       "        [ 7, -6,  9],\n",
       "        [-4, -5, -4]]])"
      ]
     },
     "execution_count": 392,
     "metadata": {},
     "output_type": "execute_result"
    }
   ],
   "source": [
    "d = np.random.randint(-10, 10, size=(4, 3, 3)) # 4个3×3的矩阵\n",
    "d"
   ]
  },
  {
   "cell_type": "code",
   "execution_count": 393,
   "id": "f25fcb83-c249-4771-99ff-4bec08b407dd",
   "metadata": {},
   "outputs": [
    {
     "data": {
      "text/plain": [
       "array([[[ 0.03180915,  0.07157058, -0.10934394],\n",
       "        [-0.10934394,  0.00397614, -0.06163022],\n",
       "        [ 0.0695825 , -0.09343936, -0.05168986]],\n",
       "\n",
       "       [[-0.22222222,  1.66666667,  1.        ],\n",
       "        [ 0.11111111, -0.33333333, -0.25      ],\n",
       "        [-0.22222222,  2.66666667,  1.75      ]],\n",
       "\n",
       "       [[ 0.07746479, -0.12676056,  0.11795775],\n",
       "        [ 0.11971831, -0.01408451,  0.06866197],\n",
       "        [-0.09859155,  0.07042254,  0.03169014]],\n",
       "\n",
       "       [[ 0.44805195, -0.05194805, -0.11688312],\n",
       "        [-0.05194805, -0.05194805, -0.11688312],\n",
       "        [-0.38311688,  0.11688312,  0.01298701]]])"
      ]
     },
     "execution_count": 393,
     "metadata": {},
     "output_type": "execute_result"
    }
   ],
   "source": [
    "e = np.linalg.inv(d) # 计算逆矩阵\n",
    "e"
   ]
  },
  {
   "cell_type": "code",
   "execution_count": 394,
   "id": "19040dea-384a-46db-b31b-87639b2325a5",
   "metadata": {},
   "outputs": [
    {
     "data": {
      "text/plain": [
       "array([[[[ 1.00000000e+00,  8.32667268e-17,  1.80411242e-16],\n",
       "         [-1.88888889e+00,  1.26666667e+01,  8.25000000e+00],\n",
       "         [-8.02816901e-01, -1.40845070e-01, -6.33802817e-02],\n",
       "         [ 9.41558442e-01,  4.41558442e-01,  4.93506494e-01]],\n",
       "\n",
       "        [[ 0.00000000e+00,  1.00000000e+00,  0.00000000e+00],\n",
       "         [ 1.11111111e-01, -9.33333333e+00, -6.50000000e+00],\n",
       "         [ 7.18309859e-01, -1.08450704e+00,  1.61971831e-01],\n",
       "         [ 5.07792208e+00, -9.22077922e-01, -3.24675325e-01]],\n",
       "\n",
       "        [[-1.11022302e-16,  5.55111512e-17,  1.00000000e+00],\n",
       "         [ 1.55555556e+00, -1.76666667e+01, -1.10000000e+01],\n",
       "         [-4.71830986e-01,  4.08450704e-01, -9.91197183e-01],\n",
       "         [-5.00000000e-01,  0.00000000e+00,  1.00000000e+00]]],\n",
       "\n",
       "\n",
       "       [[[-8.70775348e-01, -4.59244533e-01, -3.81709742e-01],\n",
       "         [ 1.00000000e+00,  0.00000000e+00,  0.00000000e+00],\n",
       "         [ 5.49295775e-01,  4.64788732e-01,  3.59154930e-01],\n",
       "         [-2.96103896e+00,  3.89610390e-02, -6.62337662e-01]],\n",
       "\n",
       "        [[-6.36182903e-01,  5.68588469e-01, -8.13121272e-01],\n",
       "         [-1.11022302e-16,  1.00000000e+00,  0.00000000e+00],\n",
       "         [ 1.30281690e+00, -8.59154930e-01,  9.38380282e-01],\n",
       "         [ 2.69480519e+00, -8.05194805e-01, -1.31168831e+00]],\n",
       "\n",
       "        [[ 8.98608350e-01, -9.78131213e-01,  1.16103380e+00],\n",
       "         [ 0.00000000e+00,  0.00000000e+00,  1.00000000e+00],\n",
       "         [-1.97183099e+00,  1.40845070e+00, -1.36619718e+00],\n",
       "         [-4.70129870e+00,  1.29870130e+00,  1.92207792e+00]]],\n",
       "\n",
       "\n",
       "       [[[-1.13916501e+00,  1.86878728e-01,  1.03379722e-01],\n",
       "         [ 2.33333333e+00, -1.80000000e+01, -1.17500000e+01],\n",
       "         [ 1.00000000e+00, -5.55111512e-17, -2.77555756e-17],\n",
       "         [-1.75324675e-01, -6.75324675e-01, -5.19480519e-01]],\n",
       "\n",
       "        [[-7.17693837e-01, -8.64811133e-01, -9.54274354e-02],\n",
       "         [ 1.11111111e+00,  6.66666667e-01,  7.50000000e-01],\n",
       "         [ 5.55111512e-17,  1.00000000e+00,  2.77555756e-17],\n",
       "         [-5.01948052e+00,  4.80519481e-01, -1.68831169e-01]],\n",
       "\n",
       "        [[ 2.46520875e-01, -4.45328032e-01, -1.09741551e+00],\n",
       "         [-2.22222222e+00,  2.66666667e+01,  1.70000000e+01],\n",
       "         [-2.22044605e-16,  0.00000000e+00,  1.00000000e+00],\n",
       "         [-1.48051948e+00,  5.19480519e-01, -8.31168831e-01]]],\n",
       "\n",
       "\n",
       "       [[[ 2.82306163e-01,  1.35188867e-01, -9.54274354e-02],\n",
       "         [-6.66666667e-01,  4.00000000e+00,  2.50000000e+00],\n",
       "         [-8.45070423e-02, -2.25352113e-01,  9.85915493e-02],\n",
       "         [ 1.00000000e+00,  1.38777878e-17,  0.00000000e+00]],\n",
       "\n",
       "        [[ 1.50497018e+00, -3.63817097e-01, -8.60834990e-01],\n",
       "         [-4.22222222e+00,  3.76666667e+01,  2.42500000e+01],\n",
       "         [-1.06338028e+00, -1.69014085e-01,  6.98943662e-01],\n",
       "         [ 4.44089210e-16,  1.00000000e+00,  1.24900090e-16]],\n",
       "\n",
       "        [[ 1.41153082e-01,  6.75944334e-02,  9.52286282e-01],\n",
       "         [ 1.22222222e+00, -1.56666667e+01, -9.75000000e+00],\n",
       "         [-5.14084507e-01,  2.95774648e-01, -9.41901408e-01],\n",
       "         [-2.22044605e-16,  5.55111512e-17,  1.00000000e+00]]]])"
      ]
     },
     "execution_count": 394,
     "metadata": {},
     "output_type": "execute_result"
    }
   ],
   "source": [
    "np.dot(d, e) #  尝试计算乘积"
   ]
  },
  {
   "cell_type": "markdown",
   "id": "cf576654-0d2d-4863-ae31-8a67a47ef7fc",
   "metadata": {},
   "source": [
    "## 3.15 计算外积的函数"
   ]
  },
  {
   "cell_type": "markdown",
   "id": "bf6b4d6d-97fe-4acb-8cfc-5553e80308f2",
   "metadata": {},
   "source": [
    "### 3.15.1 何为外积"
   ]
  },
  {
   "cell_type": "markdown",
   "id": "1cb46ce8-ffb4-4382-bf23-66c500bcfd2d",
   "metadata": {},
   "source": [
    "### 3.15.2 np.outer"
   ]
  },
  {
   "cell_type": "code",
   "execution_count": 395,
   "id": "299715aa-e145-4e3e-9b8e-570843217acd",
   "metadata": {},
   "outputs": [],
   "source": [
    "import numpy as np"
   ]
  },
  {
   "cell_type": "code",
   "execution_count": 396,
   "id": "531ec8fe-f336-4c71-9c87-7b3d91c099a3",
   "metadata": {},
   "outputs": [],
   "source": [
    "a = np.array([1, 2, 3, 2, 1])"
   ]
  },
  {
   "cell_type": "code",
   "execution_count": 397,
   "id": "96878be5-419e-4a2c-9705-d3d4a1dfcff8",
   "metadata": {},
   "outputs": [],
   "source": [
    "b = np.array([0, 2, 4, 6, 8, 1]) # 创建两个一维数组"
   ]
  },
  {
   "cell_type": "code",
   "execution_count": 398,
   "id": "60483875-04d0-4061-9bb1-469eb0a9ebfe",
   "metadata": {},
   "outputs": [
    {
     "data": {
      "text/plain": [
       "array([[ 0,  2,  4,  6,  8,  1],\n",
       "       [ 0,  4,  8, 12, 16,  2],\n",
       "       [ 0,  6, 12, 18, 24,  3],\n",
       "       [ 0,  4,  8, 12, 16,  2],\n",
       "       [ 0,  2,  4,  6,  8,  1]])"
      ]
     },
     "execution_count": 398,
     "metadata": {},
     "output_type": "execute_result"
    }
   ],
   "source": [
    "np.outer(a, b) # 计算外积"
   ]
  },
  {
   "cell_type": "code",
   "execution_count": 399,
   "id": "256af579-f282-4380-bd91-1a1d0627f137",
   "metadata": {},
   "outputs": [
    {
     "data": {
      "text/plain": [
       "(5,)"
      ]
     },
     "execution_count": 399,
     "metadata": {},
     "output_type": "execute_result"
    }
   ],
   "source": [
    "a.shape # 确认各自的Shape"
   ]
  },
  {
   "cell_type": "code",
   "execution_count": 400,
   "id": "f86bc888-1af7-4639-8a09-7e006b6ee411",
   "metadata": {},
   "outputs": [
    {
     "data": {
      "text/plain": [
       "(6,)"
      ]
     },
     "execution_count": 400,
     "metadata": {},
     "output_type": "execute_result"
    }
   ],
   "source": [
    "b.shape"
   ]
  },
  {
   "cell_type": "code",
   "execution_count": 401,
   "id": "5cbc81e3-cc3f-49ca-9e4f-ef71b6f20a58",
   "metadata": {},
   "outputs": [
    {
     "data": {
      "text/plain": [
       "array([[ 0,  2,  4,  6,  8,  1],\n",
       "       [ 0,  4,  8, 12, 16,  2],\n",
       "       [ 0,  6, 12, 18, 24,  3],\n",
       "       [ 0,  4,  8, 12, 16,  2],\n",
       "       [ 0,  2,  4,  6,  8,  1]])"
      ]
     },
     "execution_count": 401,
     "metadata": {},
     "output_type": "execute_result"
    }
   ],
   "source": [
    "np.outer(a, b) #完全变成了(M,N)"
   ]
  },
  {
   "cell_type": "code",
   "execution_count": 402,
   "id": "595922b9-227f-4fb9-a0f3-059efc948035",
   "metadata": {},
   "outputs": [
    {
     "data": {
      "text/plain": [
       "(5, 6)"
      ]
     },
     "execution_count": 402,
     "metadata": {},
     "output_type": "execute_result"
    }
   ],
   "source": [
    "np.outer(a, b).shape #  完全变成了(M,N)"
   ]
  },
  {
   "cell_type": "code",
   "execution_count": 403,
   "id": "821b74f7-f0bd-4ef3-8d2c-257f652c176a",
   "metadata": {},
   "outputs": [
    {
     "data": {
      "text/plain": [
       "array([[ True,  True,  True,  True,  True,  True],\n",
       "       [ True,  True,  True,  True,  True,  True],\n",
       "       [ True,  True,  True,  True,  True,  True],\n",
       "       [ True,  True,  True,  True,  True,  True],\n",
       "       [ True,  True,  True,  True,  True,  True]])"
      ]
     },
     "execution_count": 403,
     "metadata": {},
     "output_type": "execute_result"
    }
   ],
   "source": [
    "np.outer(a, b) == a.reshape(-1, 1) * b # 使用广播功能也可以进行同样的计算"
   ]
  },
  {
   "cell_type": "code",
   "execution_count": 404,
   "id": "1f920794-20cb-47e5-8fb7-7564c8636427",
   "metadata": {},
   "outputs": [
    {
     "data": {
      "text/plain": [
       "array([[0, 2, 4],\n",
       "       [6, 8, 1]])"
      ]
     },
     "execution_count": 404,
     "metadata": {},
     "output_type": "execute_result"
    }
   ],
   "source": [
    "b = b.reshape(2, -1)\n",
    "b"
   ]
  },
  {
   "cell_type": "code",
   "execution_count": 405,
   "id": "268cea83-facf-4a17-8b08-bcbebb787209",
   "metadata": {},
   "outputs": [
    {
     "data": {
      "text/plain": [
       "array([[2, 1, 0, 3],\n",
       "       [4, 1, 0, 0]])"
      ]
     },
     "execution_count": 405,
     "metadata": {},
     "output_type": "execute_result"
    }
   ],
   "source": [
    "c = np.random.randint(0, 5, size=(2, 4))\n",
    "c"
   ]
  },
  {
   "cell_type": "code",
   "execution_count": 406,
   "id": "f1dc2e2a-42a3-4c95-97e3-04995c734072",
   "metadata": {},
   "outputs": [
    {
     "data": {
      "text/plain": [
       "array([[ 0,  0,  0,  0,  0,  0,  0,  0],\n",
       "       [ 4,  2,  0,  6,  8,  2,  0,  0],\n",
       "       [ 8,  4,  0, 12, 16,  4,  0,  0],\n",
       "       [12,  6,  0, 18, 24,  6,  0,  0],\n",
       "       [16,  8,  0, 24, 32,  8,  0,  0],\n",
       "       [ 2,  1,  0,  3,  4,  1,  0,  0]])"
      ]
     },
     "execution_count": 406,
     "metadata": {},
     "output_type": "execute_result"
    }
   ],
   "source": [
    "np.outer(b, c)"
   ]
  },
  {
   "cell_type": "code",
   "execution_count": 407,
   "id": "b4b23039-c4e6-4b3d-b1b8-310f75377126",
   "metadata": {},
   "outputs": [
    {
     "data": {
      "text/plain": [
       "array([[ 0,  0,  0,  0,  0,  0,  0,  0],\n",
       "       [ 4,  2,  0,  6,  8,  2,  0,  0],\n",
       "       [ 8,  4,  0, 12, 16,  4,  0,  0],\n",
       "       [12,  6,  0, 18, 24,  6,  0,  0],\n",
       "       [16,  8,  0, 24, 32,  8,  0,  0],\n",
       "       [ 2,  1,  0,  3,  4,  1,  0,  0]])"
      ]
     },
     "execution_count": 407,
     "metadata": {},
     "output_type": "execute_result"
    }
   ],
   "source": [
    "np.outer(b.ravel(), c.ravel()) # 即使指定转换为一维数组后的数组，其结果也是一样的"
   ]
  },
  {
   "cell_type": "markdown",
   "id": "3d85baed-1021-43ed-89fb-c84f868fc578",
   "metadata": {},
   "source": [
    "## 3.16 计算叉积的函数"
   ]
  },
  {
   "cell_type": "markdown",
   "id": "27b30da7-0381-4f12-b232-571ab1ffb100",
   "metadata": {},
   "source": [
    "### 3.16.1 何为叉积"
   ]
  },
  {
   "cell_type": "markdown",
   "id": "285ed900-98a1-4370-bd91-7cbd73177708",
   "metadata": {},
   "source": [
    "### 3.16.2 np.cross"
   ]
  },
  {
   "cell_type": "code",
   "execution_count": 408,
   "id": "c743369d-3909-4a46-9b10-4ea7f4bd3ea9",
   "metadata": {},
   "outputs": [],
   "source": [
    "import numpy as np"
   ]
  },
  {
   "cell_type": "code",
   "execution_count": 409,
   "id": "978e41ea-ea8a-42c8-b042-b54b0aac7232",
   "metadata": {},
   "outputs": [],
   "source": [
    "a = np.array([1, 2, 3])"
   ]
  },
  {
   "cell_type": "code",
   "execution_count": 410,
   "id": "fc76956b-f3c2-45d4-bffb-7e04fbfa3bf7",
   "metadata": {},
   "outputs": [],
   "source": [
    "b = np.array([5, 4, 0])"
   ]
  },
  {
   "cell_type": "code",
   "execution_count": 411,
   "id": "0b2d1da1-0a68-4484-baa7-c47005743b6c",
   "metadata": {},
   "outputs": [
    {
     "data": {
      "text/plain": [
       "array([-12,  15,  -6])"
      ]
     },
     "execution_count": 411,
     "metadata": {},
     "output_type": "execute_result"
    }
   ],
   "source": [
    "np.cross(a, b) # 首先，在不进行任何指定的情况下尝试执行"
   ]
  },
  {
   "cell_type": "code",
   "execution_count": 412,
   "id": "45eebc1e-70ba-4204-b2ac-6eb4ad736f0a",
   "metadata": {},
   "outputs": [],
   "source": [
    "c = np.array([-1, 1, 3])"
   ]
  },
  {
   "cell_type": "code",
   "execution_count": 413,
   "id": "46ebc380-cdad-4f69-96c3-6ae8f7b2919e",
   "metadata": {},
   "outputs": [],
   "source": [
    "d = np.array([2, 3, 3])"
   ]
  },
  {
   "cell_type": "code",
   "execution_count": 414,
   "id": "ee8e7682-7686-4f92-bab6-355e6e18706f",
   "metadata": {},
   "outputs": [
    {
     "data": {
      "text/plain": [
       "array([-6,  9, -5])"
      ]
     },
     "execution_count": 414,
     "metadata": {},
     "output_type": "execute_result"
    }
   ],
   "source": [
    "np.cross(c, d) #  使用其他的组合进行尝试"
   ]
  },
  {
   "cell_type": "code",
   "execution_count": 415,
   "id": "5c133980-2dd5-4517-9438-bebdf1f6314e",
   "metadata": {},
   "outputs": [],
   "source": [
    "b_2 = np.array([5, 4])"
   ]
  },
  {
   "cell_type": "code",
   "execution_count": 416,
   "id": "4d4d923f-d864-4bb8-94e0-345d7811dd12",
   "metadata": {},
   "outputs": [
    {
     "data": {
      "text/plain": [
       "array([-12,  15,  -6])"
      ]
     },
     "execution_count": 416,
     "metadata": {},
     "output_type": "execute_result"
    }
   ],
   "source": [
    "np.cross(a, b_2)"
   ]
  },
  {
   "cell_type": "code",
   "execution_count": 417,
   "id": "bfb86961-7708-4eec-bfbe-29339b5fbec3",
   "metadata": {},
   "outputs": [],
   "source": [
    "ac = np.vstack((a, c))"
   ]
  },
  {
   "cell_type": "code",
   "execution_count": 418,
   "id": "fee8f86b-5676-442a-92da-1712137917fc",
   "metadata": {},
   "outputs": [],
   "source": [
    "bd = np.vstack((b, d)) # 在axis=0方向连接"
   ]
  },
  {
   "cell_type": "code",
   "execution_count": 419,
   "id": "04703d02-3c5b-432d-83f5-d4d3dfae9b22",
   "metadata": {},
   "outputs": [
    {
     "data": {
      "text/plain": [
       "array([[ 1,  2,  3],\n",
       "       [-1,  1,  3]])"
      ]
     },
     "execution_count": 419,
     "metadata": {},
     "output_type": "execute_result"
    }
   ],
   "source": [
    "ac"
   ]
  },
  {
   "cell_type": "code",
   "execution_count": 420,
   "id": "58840a63-6beb-4b45-bb35-4a64a49744bb",
   "metadata": {},
   "outputs": [
    {
     "data": {
      "text/plain": [
       "array([[5, 4, 0],\n",
       "       [2, 3, 3]])"
      ]
     },
     "execution_count": 420,
     "metadata": {},
     "output_type": "execute_result"
    }
   ],
   "source": [
    "bd"
   ]
  },
  {
   "cell_type": "code",
   "execution_count": 421,
   "id": "d73c6faf-1578-46e9-bd02-acdee01a932d",
   "metadata": {},
   "outputs": [
    {
     "data": {
      "text/plain": [
       "array([[-12,  15,  -6],\n",
       "       [ -6,   9,  -5]])"
      ]
     },
     "execution_count": 421,
     "metadata": {},
     "output_type": "execute_result"
    }
   ],
   "source": [
    "np.cross(ac, bd) # 计算叉积"
   ]
  },
  {
   "cell_type": "code",
   "execution_count": 422,
   "id": "b33f4125-35b6-4a10-82b8-3085b779a163",
   "metadata": {},
   "outputs": [
    {
     "data": {
      "text/plain": [
       "array([[ 1, -1],\n",
       "       [ 2,  1],\n",
       "       [ 3,  3]])"
      ]
     },
     "execution_count": 422,
     "metadata": {},
     "output_type": "execute_result"
    }
   ],
   "source": [
    "ac_2 = ac.transpose() # 进行转置\n",
    "ac_2"
   ]
  },
  {
   "cell_type": "code",
   "execution_count": 423,
   "id": "2b50cc2f-10d0-4892-9e78-2f9f4335cdc7",
   "metadata": {},
   "outputs": [],
   "source": [
    "# np.cross(ac_2, bd) #  由于ac和bd的shape是不同的，因此如果不指定axisa或axisb，就会出现运行时错误"
   ]
  },
  {
   "cell_type": "code",
   "execution_count": 424,
   "id": "0f6e93ff-b4c1-4c33-939b-2e77028dee78",
   "metadata": {},
   "outputs": [
    {
     "data": {
      "text/plain": [
       "array([[-12,  15,  -6],\n",
       "       [ -6,   9,  -5]])"
      ]
     },
     "execution_count": 424,
     "metadata": {},
     "output_type": "execute_result"
    }
   ],
   "source": [
    "np.cross(ac_2, bd, axisa=0) # 因为a和c保存在axis=0方向上，所以指定axisa=0，可以顺利执行代码"
   ]
  },
  {
   "cell_type": "code",
   "execution_count": 425,
   "id": "76c83f4e-3f2e-4bb5-996d-3b5dcbdd00ac",
   "metadata": {},
   "outputs": [
    {
     "data": {
      "text/plain": [
       "array([[5, 2],\n",
       "       [4, 3],\n",
       "       [0, 3]])"
      ]
     },
     "execution_count": 425,
     "metadata": {},
     "output_type": "execute_result"
    }
   ],
   "source": [
    "bd_2 = bd.transpose()\n",
    "bd_2"
   ]
  },
  {
   "cell_type": "code",
   "execution_count": 426,
   "id": "a20cbb8c-a2b4-48de-b971-958bcd4fe07a",
   "metadata": {},
   "outputs": [
    {
     "data": {
      "text/plain": [
       "array([[-12,  15,  -6],\n",
       "       [ -6,   9,  -5]])"
      ]
     },
     "execution_count": 426,
     "metadata": {},
     "output_type": "execute_result"
    }
   ],
   "source": [
    "np.cross(ac, bd_2, axisb=0)"
   ]
  },
  {
   "cell_type": "code",
   "execution_count": 427,
   "id": "c6c08ab6-dadb-4512-aadf-de8eb98c4368",
   "metadata": {},
   "outputs": [
    {
     "data": {
      "text/plain": [
       "array([[-12,  15,  -6],\n",
       "       [ -6,   9,  -5]])"
      ]
     },
     "execution_count": 427,
     "metadata": {},
     "output_type": "execute_result"
    }
   ],
   "source": [
    "np.cross(ac, bd, axisc=1) # 这里的结果没有发生变化"
   ]
  },
  {
   "cell_type": "code",
   "execution_count": 428,
   "id": "acf43b98-70b0-499f-9c85-223de9d12ce3",
   "metadata": {},
   "outputs": [
    {
     "data": {
      "text/plain": [
       "array([[-12,  -6],\n",
       "       [ 15,   9],\n",
       "       [ -6,  -5]])"
      ]
     },
     "execution_count": 428,
     "metadata": {},
     "output_type": "execute_result"
    }
   ],
   "source": [
    "np.cross(ac, bd, axisc=0) # 返回经过转置的数组"
   ]
  },
  {
   "cell_type": "code",
   "execution_count": 429,
   "id": "db0d23b8-71c6-4c35-8651-fef5280f2e8a",
   "metadata": {},
   "outputs": [
    {
     "data": {
      "text/plain": [
       "array([[-12,  -6],\n",
       "       [ 15,   9],\n",
       "       [ -6,  -5]])"
      ]
     },
     "execution_count": 429,
     "metadata": {},
     "output_type": "execute_result"
    }
   ],
   "source": [
    "np.cross(ac_2, bd_2, axis=0)"
   ]
  },
  {
   "cell_type": "code",
   "execution_count": 430,
   "id": "14e403df-cea4-413e-93bf-7acf8945274a",
   "metadata": {},
   "outputs": [],
   "source": [
    "# np.cross(np.array([1, 1, 1, 1]), np.array([1, 1, 1, 1]))"
   ]
  },
  {
   "cell_type": "code",
   "execution_count": 431,
   "id": "c15f5f33-830b-4d02-b1b0-0d2c3ec2fcf8",
   "metadata": {},
   "outputs": [],
   "source": [
    "# np.cross(np.array([1]), np.array([1])) #  即使元素数量为1，也会发生运行时错误"
   ]
  },
  {
   "cell_type": "markdown",
   "id": "2f52f78d-096b-4c83-9c2f-7a6ff790cfe1",
   "metadata": {},
   "source": [
    "## 3.17 计算卷积积分和移动平均的函数"
   ]
  },
  {
   "cell_type": "markdown",
   "id": "63f1ffc7-c529-418d-80e3-edbacc2c925f",
   "metadata": {},
   "source": [
    "### 3.17.1 np.convolve"
   ]
  },
  {
   "cell_type": "code",
   "execution_count": 432,
   "id": "be14d799-f02f-4319-8c88-8cdd91fdbfe7",
   "metadata": {},
   "outputs": [],
   "source": [
    "import numpy as np"
   ]
  },
  {
   "cell_type": "code",
   "execution_count": 433,
   "id": "02bc7a86-9c5c-4221-90ba-fefd8a554eb4",
   "metadata": {},
   "outputs": [],
   "source": [
    "a = np.array([0, 1, 2, 3, 4, 5]) #  数组a"
   ]
  },
  {
   "cell_type": "code",
   "execution_count": 434,
   "id": "af9c1c42-1408-4b41-910d-869639a9c6a5",
   "metadata": {},
   "outputs": [],
   "source": [
    "v = np.array([0.2, 0.8]) # 数组v"
   ]
  },
  {
   "cell_type": "code",
   "execution_count": 435,
   "id": "1f13cad2-8ec9-4f21-b1ac-2ee12430fba9",
   "metadata": {},
   "outputs": [
    {
     "data": {
      "text/plain": [
       "array([0. , 0.2, 1.2, 2.2, 3.2, 4.2])"
      ]
     },
     "execution_count": 435,
     "metadata": {},
     "output_type": "execute_result"
    }
   ],
   "source": [
    "np.convolve(a, v, mode='same') # 首先从'same'开始"
   ]
  },
  {
   "cell_type": "code",
   "execution_count": 436,
   "id": "0a3981c8-c306-438d-9115-c54c34fc5bd7",
   "metadata": {},
   "outputs": [
    {
     "data": {
      "text/plain": [
       "array([0. , 0.2, 1.2, 2.2, 3.2, 4.2, 4. ])"
      ]
     },
     "execution_count": 436,
     "metadata": {},
     "output_type": "execute_result"
    }
   ],
   "source": [
    "np.convolve(a, v, mode='full') # 这里是默认设置的状态"
   ]
  },
  {
   "cell_type": "code",
   "execution_count": 437,
   "id": "164e478f-96d5-41e5-af31-da5c64724dbe",
   "metadata": {},
   "outputs": [
    {
     "data": {
      "text/plain": [
       "array([0.2, 1.2, 2.2, 3.2, 4.2])"
      ]
     },
     "execution_count": 437,
     "metadata": {},
     "output_type": "execute_result"
    }
   ],
   "source": [
    "np.convolve(a, v, mode='valid') # 指定mode='valid'的情况"
   ]
  },
  {
   "cell_type": "markdown",
   "id": "43b000a3-8bf3-4c19-8108-772b6b99c0ea",
   "metadata": {},
   "source": [
    "对包含噪声数据的平滑处理"
   ]
  },
  {
   "cell_type": "code",
   "execution_count": 438,
   "id": "a3fe400f-11c8-49af-91e1-afcb4bf5287d",
   "metadata": {},
   "outputs": [
    {
     "data": {
      "image/png": "[encoded data removed]",
      "text/plain": [
       "<Figure size 640x480 with 1 Axes>"
      ]
     },
     "metadata": {},
     "output_type": "display_data"
    }
   ],
   "source": [
    "import numpy as np\n",
    "import matplotlib.pyplot as plt\n",
    "\n",
    "x = np.linspace(0, 10, 500)\n",
    "y1 = np.sin(x) # 向原有信号中混入噪声\n",
    "y2 = y1 + np.random.randn(500)*0.3 #混合噪音\n",
    "v = np.ones(5)/5.0  # 设置用于计算移动平均值的数组，这里将对前后5个\n",
    "                             # 值取平均\n",
    "y3 = np.convolve(y2, v, mode='same')\n",
    "# 为了方便绘图，设置为'same'\n",
    "\n",
    "plt.plot(x, y1, 'k', linestyle='solid', linewidth=2)\n",
    "plt.plot(x, y2, 'b', linestyle='dotted',linewidth=1)\n",
    "plt.plot(x, y3, 'b', linestyle='solid', linewidth=2)\n",
    "plt.show()"
   ]
  }
 ],
 "metadata": {
  "kernelspec": {
   "display_name": "Python 3 (ipykernel)",
   "language": "python",
   "name": "python3"
  },
  "language_info": {
   "codemirror_mode": {
    "name": "ipython",
    "version": 3
   },
   "file_extension": ".py",
   "mimetype": "text/x-python",
   "name": "python",
   "nbconvert_exporter": "python",
   "pygments_lexer": "ipython3",
   "version": "3.11.4"
  }
 },
 "nbformat": 4,
 "nbformat_minor": 5
}
