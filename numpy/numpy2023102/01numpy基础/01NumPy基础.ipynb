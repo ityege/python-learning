{
 "cells": [
  {
   "cell_type": "markdown",
   "id": "560b6989-0bcf-46ea-9eae-ffd86426c82f",
   "metadata": {},
   "source": [
    "## 1.1 Numpy的基础与安装方法"
   ]
  },
  {
   "cell_type": "markdown",
   "id": "26ed894a-e4a3-48d8-bd79-0090bc48c630",
   "metadata": {},
   "source": [
    "### 1.1.1 NUmpy入门"
   ]
  },
  {
   "cell_type": "markdown",
   "id": "2f814966-9abc-4037-aed3-e9af1238c1bb",
   "metadata": {},
   "source": [
    "### 1.1.2 Python的安装"
   ]
  },
  {
   "cell_type": "markdown",
   "id": "651b70e9-ecf7-45a1-9e89-5e2fc25607ad",
   "metadata": {},
   "source": [
    "### 1.1.3 Numpy的安装方式"
   ]
  },
  {
   "cell_type": "markdown",
   "id": "390a831f-db97-4665-8cfb-74c26e77511c",
   "metadata": {},
   "source": [
    "### 1.1.4 NUmpy入门教程"
   ]
  },
  {
   "cell_type": "markdown",
   "id": "30912a8e-5c06-404a-ba0d-44eed11ade03",
   "metadata": {},
   "source": [
    "使用NumPy"
   ]
  },
  {
   "cell_type": "code",
   "execution_count": 1,
   "id": "e355408b-0c61-46ec-bb4f-5a0236d5d59e",
   "metadata": {},
   "outputs": [],
   "source": [
    "import numpy as np"
   ]
  },
  {
   "cell_type": "code",
   "execution_count": 2,
   "id": "cea173d7-866a-4d92-ac56-4c8153d9a158",
   "metadata": {},
   "outputs": [
    {
     "data": {
      "text/plain": [
       "array([1, 2, 3])"
      ]
     },
     "execution_count": 2,
     "metadata": {},
     "output_type": "execute_result"
    }
   ],
   "source": [
    "a = np.array([1, 2, 3])\n",
    "a"
   ]
  },
  {
   "cell_type": "code",
   "execution_count": 3,
   "id": "67c9196f-0e07-4a74-a58e-f59d9d29b7ac",
   "metadata": {},
   "outputs": [
    {
     "data": {
      "text/plain": [
       "array([3, 6, 9])"
      ]
     },
     "execution_count": 3,
     "metadata": {},
     "output_type": "execute_result"
    }
   ],
   "source": [
    "a * 3"
   ]
  },
  {
   "cell_type": "code",
   "execution_count": 4,
   "id": "6b6c051f-a8ba-407c-85c9-e9c6e804cfa6",
   "metadata": {},
   "outputs": [
    {
     "data": {
      "text/plain": [
       "array([3, 4, 5])"
      ]
     },
     "execution_count": 4,
     "metadata": {},
     "output_type": "execute_result"
    }
   ],
   "source": [
    "a + 2"
   ]
  },
  {
   "cell_type": "code",
   "execution_count": 5,
   "id": "abe69668-cd2a-426f-8d8d-dcc2898abf7f",
   "metadata": {},
   "outputs": [
    {
     "data": {
      "text/plain": [
       "[1, 2, 3, 1, 2, 3, 1, 2, 3]"
      ]
     },
     "execution_count": 5,
     "metadata": {},
     "output_type": "execute_result"
    }
   ],
   "source": [
    "[1, 2, 3] * 3"
   ]
  },
  {
   "cell_type": "code",
   "execution_count": 6,
   "id": "2b73681c-472a-40b3-8edf-8251fa264154",
   "metadata": {},
   "outputs": [
    {
     "data": {
      "text/plain": [
       "array([2, 2, 0])"
      ]
     },
     "execution_count": 6,
     "metadata": {},
     "output_type": "execute_result"
    }
   ],
   "source": [
    "b = np.array([2, 2, 0])\n",
    "b"
   ]
  },
  {
   "cell_type": "code",
   "execution_count": 7,
   "id": "f146c557-d703-40be-9f39-551c0282dda8",
   "metadata": {},
   "outputs": [
    {
     "data": {
      "text/plain": [
       "array([3, 4, 3])"
      ]
     },
     "execution_count": 7,
     "metadata": {},
     "output_type": "execute_result"
    }
   ],
   "source": [
    "a + b"
   ]
  },
  {
   "cell_type": "code",
   "execution_count": 8,
   "id": "0d0071a3-716c-4d95-847b-f5189ec3dcb0",
   "metadata": {},
   "outputs": [
    {
     "name": "stderr",
     "output_type": "stream",
     "text": [
      "C:\\Users\\liye\\AppData\\Local\\Temp\\ipykernel_12148\\1286629031.py:1: RuntimeWarning: divide by zero encountered in divide\n",
      "  a / b\n"
     ]
    },
    {
     "data": {
      "text/plain": [
       "array([0.5, 1. , inf])"
      ]
     },
     "execution_count": 8,
     "metadata": {},
     "output_type": "execute_result"
    }
   ],
   "source": [
    "a / b"
   ]
  },
  {
   "cell_type": "code",
   "execution_count": 9,
   "id": "29f40aa7-0bd7-43a3-8589-0d1f5c739a2f",
   "metadata": {},
   "outputs": [
    {
     "data": {
      "text/plain": [
       "array([2, 4, 0])"
      ]
     },
     "execution_count": 9,
     "metadata": {},
     "output_type": "execute_result"
    }
   ],
   "source": [
    "a * b"
   ]
  },
  {
   "cell_type": "code",
   "execution_count": 10,
   "id": "29b47d0c-f22b-4175-90fb-92d2caf5094e",
   "metadata": {},
   "outputs": [
    {
     "data": {
      "text/plain": [
       "6"
      ]
     },
     "execution_count": 10,
     "metadata": {},
     "output_type": "execute_result"
    }
   ],
   "source": [
    "np.dot(a, b)"
   ]
  },
  {
   "cell_type": "markdown",
   "id": "3d8977f8-8b7e-45ca-8408-3a54051496d8",
   "metadata": {},
   "source": [
    "创建各种数组"
   ]
  },
  {
   "cell_type": "code",
   "execution_count": 11,
   "id": "bac6dff3-a88f-4c6d-91f3-2462fe688465",
   "metadata": {},
   "outputs": [
    {
     "data": {
      "text/plain": [
       "array([0, 1, 2, 3, 4, 5, 6, 7, 8, 9])"
      ]
     },
     "execution_count": 11,
     "metadata": {},
     "output_type": "execute_result"
    }
   ],
   "source": [
    "np.arange(10)"
   ]
  },
  {
   "cell_type": "code",
   "execution_count": 12,
   "id": "3ef2c42c-7f11-44ef-9cc3-bef80924b518",
   "metadata": {},
   "outputs": [
    {
     "data": {
      "text/plain": [
       "array([0, 2, 4, 6, 8])"
      ]
     },
     "execution_count": 12,
     "metadata": {},
     "output_type": "execute_result"
    }
   ],
   "source": [
    "np.arange(0, 10, 2) # (起点，终点，间隔)"
   ]
  },
  {
   "cell_type": "code",
   "execution_count": 13,
   "id": "1cf575ca-a2d5-4531-bce1-a87a75da95bc",
   "metadata": {},
   "outputs": [
    {
     "data": {
      "text/plain": [
       "array([ 0.        ,  0.71428571,  1.42857143,  2.14285714,  2.85714286,\n",
       "        3.57142857,  4.28571429,  5.        ,  5.71428571,  6.42857143,\n",
       "        7.14285714,  7.85714286,  8.57142857,  9.28571429, 10.        ])"
      ]
     },
     "execution_count": 13,
     "metadata": {},
     "output_type": "execute_result"
    }
   ],
   "source": [
    "np.linspace(0, 10, 15) # 0~10划分为15等分"
   ]
  },
  {
   "cell_type": "code",
   "execution_count": 14,
   "id": "2824e380-1634-44f2-add6-be55f6a878e8",
   "metadata": {},
   "outputs": [
    {
     "data": {
      "text/plain": [
       "array([[1, 2, 3],\n",
       "       [4, 5, 6]])"
      ]
     },
     "execution_count": 14,
     "metadata": {},
     "output_type": "execute_result"
    }
   ],
   "source": [
    "c = np.array([[1, 2, 3], [4, 5, 6]]) # 创建二维数组\n",
    "c"
   ]
  },
  {
   "cell_type": "code",
   "execution_count": 15,
   "id": "a93c596e-fe4d-4702-b43a-d5bc498e7017",
   "metadata": {},
   "outputs": [
    {
     "data": {
      "text/plain": [
       "(2, 3)"
      ]
     },
     "execution_count": 15,
     "metadata": {},
     "output_type": "execute_result"
    }
   ],
   "source": [
    "c.shape"
   ]
  },
  {
   "cell_type": "code",
   "execution_count": 16,
   "id": "b36490e1-b43c-4708-ade7-7e0247493dec",
   "metadata": {},
   "outputs": [
    {
     "data": {
      "text/plain": [
       "array([[[ 1,  2,  3],\n",
       "        [ 4,  5,  6],\n",
       "        [ 7,  8,  9],\n",
       "        [10, 11, 12]],\n",
       "\n",
       "       [[13, 14, 15],\n",
       "        [16, 17, 18],\n",
       "        [19, 20, 21],\n",
       "        [22, 23, 24]]])"
      ]
     },
     "execution_count": 16,
     "metadata": {},
     "output_type": "execute_result"
    }
   ],
   "source": [
    "d = np.array([[[1, 2, 3], [4, 5, 6], [7, 8, 9], [10, 11, 12]],\n",
    "[[13,14,15],[16,17,18],[19,20,21],[22,23,24]]])#还可以创建三维数组\n",
    "d"
   ]
  },
  {
   "cell_type": "code",
   "execution_count": 17,
   "id": "af82034a-f271-463f-916f-f769ddc82566",
   "metadata": {},
   "outputs": [
    {
     "data": {
      "text/plain": [
       "(2, 4, 3)"
      ]
     },
     "execution_count": 17,
     "metadata": {},
     "output_type": "execute_result"
    }
   ],
   "source": [
    "d.shape"
   ]
  },
  {
   "cell_type": "code",
   "execution_count": 18,
   "id": "bf265a83-d997-4983-96c6-ed44d9d394f4",
   "metadata": {},
   "outputs": [
    {
     "data": {
      "text/plain": [
       "21"
      ]
     },
     "execution_count": 18,
     "metadata": {},
     "output_type": "execute_result"
    }
   ],
   "source": [
    "np.sum(c)"
   ]
  },
  {
   "cell_type": "code",
   "execution_count": 19,
   "id": "afe7979c-d7db-47bd-bbab-85f764726d20",
   "metadata": {},
   "outputs": [
    {
     "data": {
      "text/plain": [
       "array([ 6, 15])"
      ]
     },
     "execution_count": 19,
     "metadata": {},
     "output_type": "execute_result"
    }
   ],
   "source": [
    "np.sum(c, axis=1)"
   ]
  },
  {
   "cell_type": "code",
   "execution_count": 20,
   "id": "3ed015b6-7e48-4c48-8736-1a57bb39090a",
   "metadata": {},
   "outputs": [
    {
     "data": {
      "text/plain": [
       "array([[1, 2],\n",
       "       [3, 4],\n",
       "       [5, 6]])"
      ]
     },
     "execution_count": 20,
     "metadata": {},
     "output_type": "execute_result"
    }
   ],
   "source": [
    "c.reshape(3, 2)"
   ]
  },
  {
   "cell_type": "code",
   "execution_count": 21,
   "id": "5599ddf9-64c1-4a7f-bdc1-f3c150e5cf3b",
   "metadata": {},
   "outputs": [
    {
     "data": {
      "text/plain": [
       "array([[1],\n",
       "       [2],\n",
       "       [3],\n",
       "       [4],\n",
       "       [5],\n",
       "       [6]])"
      ]
     },
     "execution_count": 21,
     "metadata": {},
     "output_type": "execute_result"
    }
   ],
   "source": [
    "c.reshape(6, 1)"
   ]
  },
  {
   "cell_type": "code",
   "execution_count": 22,
   "id": "ee2abb5f-0b87-45fa-9ee2-821fcb0f14dd",
   "metadata": {},
   "outputs": [
    {
     "data": {
      "text/plain": [
       "array([[1, 2, 3],\n",
       "       [4, 5, 6]])"
      ]
     },
     "execution_count": 22,
     "metadata": {},
     "output_type": "execute_result"
    }
   ],
   "source": [
    "c"
   ]
  },
  {
   "cell_type": "code",
   "execution_count": 23,
   "id": "22927b88-164f-48c2-8025-387041c8819d",
   "metadata": {},
   "outputs": [
    {
     "data": {
      "text/plain": [
       "array([[1, 4],\n",
       "       [2, 5],\n",
       "       [3, 6]])"
      ]
     },
     "execution_count": 23,
     "metadata": {},
     "output_type": "execute_result"
    }
   ],
   "source": [
    "c.T"
   ]
  },
  {
   "cell_type": "code",
   "execution_count": 24,
   "id": "aa3d5861-6f7f-44c5-8baa-bbe5efa22469",
   "metadata": {},
   "outputs": [
    {
     "data": {
      "text/plain": [
       "array([[1, 4],\n",
       "       [2, 5],\n",
       "       [3, 6]])"
      ]
     },
     "execution_count": 24,
     "metadata": {},
     "output_type": "execute_result"
    }
   ],
   "source": [
    "np.transpose(c)"
   ]
  },
  {
   "cell_type": "code",
   "execution_count": 25,
   "id": "fcc3a408-cc4d-4216-99df-852db09cb372",
   "metadata": {},
   "outputs": [
    {
     "data": {
      "text/plain": [
       "0.20731033634796958"
      ]
     },
     "execution_count": 25,
     "metadata": {},
     "output_type": "execute_result"
    }
   ],
   "source": [
    "np.random.randn()"
   ]
  },
  {
   "cell_type": "code",
   "execution_count": 26,
   "id": "a84610a0-a388-4307-8613-74588c0af493",
   "metadata": {},
   "outputs": [
    {
     "data": {
      "text/plain": [
       "0.5609888380885896"
      ]
     },
     "execution_count": 26,
     "metadata": {},
     "output_type": "execute_result"
    }
   ],
   "source": [
    "np.random.rand()"
   ]
  },
  {
   "cell_type": "code",
   "execution_count": 27,
   "id": "ec6da41c-da42-40d3-8e11-f1929ff9c368",
   "metadata": {},
   "outputs": [
    {
     "data": {
      "text/plain": [
       "array([[ 1.63455558, -0.83306391,  1.72663652],\n",
       "       [ 0.07987933, -0.01368355, -0.02801255]])"
      ]
     },
     "execution_count": 27,
     "metadata": {},
     "output_type": "execute_result"
    }
   ],
   "source": [
    "np.random.randn(2, 3)"
   ]
  },
  {
   "cell_type": "markdown",
   "id": "65cf4ff1-8101-41d9-913f-dfaebef2af97",
   "metadata": {},
   "source": [
    "索引和切片"
   ]
  },
  {
   "cell_type": "code",
   "execution_count": 28,
   "id": "e61eac73-11bb-465d-884e-477acb097e02",
   "metadata": {},
   "outputs": [
    {
     "data": {
      "text/plain": [
       "array([1, 2, 3])"
      ]
     },
     "execution_count": 28,
     "metadata": {},
     "output_type": "execute_result"
    }
   ],
   "source": [
    "a"
   ]
  },
  {
   "cell_type": "code",
   "execution_count": 29,
   "id": "08db9830-ebc6-48a5-9899-ee635f6594b2",
   "metadata": {},
   "outputs": [
    {
     "data": {
      "text/plain": [
       "1"
      ]
     },
     "execution_count": 29,
     "metadata": {},
     "output_type": "execute_result"
    }
   ],
   "source": [
    "a[0]"
   ]
  },
  {
   "cell_type": "code",
   "execution_count": 30,
   "id": "75d9c926-5350-4c5e-af23-cc4793e4d177",
   "metadata": {},
   "outputs": [
    {
     "data": {
      "text/plain": [
       "3"
      ]
     },
     "execution_count": 30,
     "metadata": {},
     "output_type": "execute_result"
    }
   ],
   "source": [
    "a[2]"
   ]
  },
  {
   "cell_type": "code",
   "execution_count": 31,
   "id": "a47a510e-ab85-425a-9a69-511622fe32ba",
   "metadata": {},
   "outputs": [
    {
     "data": {
      "text/plain": [
       "array([1, 2, 3])"
      ]
     },
     "execution_count": 31,
     "metadata": {},
     "output_type": "execute_result"
    }
   ],
   "source": [
    "a"
   ]
  },
  {
   "cell_type": "code",
   "execution_count": 32,
   "id": "a727a346-536e-4f51-8e5b-b37753438bbf",
   "metadata": {},
   "outputs": [],
   "source": [
    "a[1] = 3"
   ]
  },
  {
   "cell_type": "code",
   "execution_count": 33,
   "id": "87252487-f1ca-40ae-a697-525c60e9dbbc",
   "metadata": {},
   "outputs": [
    {
     "data": {
      "text/plain": [
       "array([1, 3, 3])"
      ]
     },
     "execution_count": 33,
     "metadata": {},
     "output_type": "execute_result"
    }
   ],
   "source": [
    "a"
   ]
  },
  {
   "cell_type": "code",
   "execution_count": 34,
   "id": "4b695f63-c6fb-49eb-b641-19fbfac77614",
   "metadata": {},
   "outputs": [],
   "source": [
    "a[1] = 2"
   ]
  },
  {
   "cell_type": "code",
   "execution_count": 35,
   "id": "bf83ad3a-dd6f-49e6-8db1-67f823c0cc9d",
   "metadata": {},
   "outputs": [
    {
     "data": {
      "text/plain": [
       "array([1, 2, 3])"
      ]
     },
     "execution_count": 35,
     "metadata": {},
     "output_type": "execute_result"
    }
   ],
   "source": [
    "a"
   ]
  },
  {
   "cell_type": "code",
   "execution_count": 36,
   "id": "b5d10f40-d488-426c-bb0f-f4199ae178e1",
   "metadata": {},
   "outputs": [
    {
     "data": {
      "text/plain": [
       "array([[1, 2, 3],\n",
       "       [4, 5, 6]])"
      ]
     },
     "execution_count": 36,
     "metadata": {},
     "output_type": "execute_result"
    }
   ],
   "source": [
    "c"
   ]
  },
  {
   "cell_type": "code",
   "execution_count": 37,
   "id": "941a968b-b850-4c42-b7bf-2c9c480bff74",
   "metadata": {},
   "outputs": [
    {
     "data": {
      "text/plain": [
       "1"
      ]
     },
     "execution_count": 37,
     "metadata": {},
     "output_type": "execute_result"
    }
   ],
   "source": [
    "c[0, 0]"
   ]
  },
  {
   "cell_type": "code",
   "execution_count": 38,
   "id": "1b2576ed-a18e-46d5-8fd4-cc59791fb33d",
   "metadata": {},
   "outputs": [
    {
     "data": {
      "text/plain": [
       "3"
      ]
     },
     "execution_count": 38,
     "metadata": {},
     "output_type": "execute_result"
    }
   ],
   "source": [
    "c[0, 2]"
   ]
  },
  {
   "cell_type": "code",
   "execution_count": 39,
   "id": "389ac617-8644-4f7f-8ab2-74c628d20991",
   "metadata": {},
   "outputs": [
    {
     "data": {
      "text/plain": [
       "6"
      ]
     },
     "execution_count": 39,
     "metadata": {},
     "output_type": "execute_result"
    }
   ],
   "source": [
    "c[1, 2]"
   ]
  },
  {
   "cell_type": "code",
   "execution_count": 40,
   "id": "c1ee199f-82d3-4d00-84af-04cc7207bcee",
   "metadata": {},
   "outputs": [],
   "source": [
    "d = np.array([0, 5, 2, 7, 1, 9])"
   ]
  },
  {
   "cell_type": "code",
   "execution_count": 41,
   "id": "f2d0c21c-41ba-422e-b71f-37e5d612a850",
   "metadata": {},
   "outputs": [
    {
     "data": {
      "text/plain": [
       "array([5, 2, 7, 1])"
      ]
     },
     "execution_count": 41,
     "metadata": {},
     "output_type": "execute_result"
    }
   ],
   "source": [
    "d[1:5]"
   ]
  },
  {
   "cell_type": "code",
   "execution_count": 42,
   "id": "a1082afd-eefd-47ff-a851-7884b1b043fe",
   "metadata": {},
   "outputs": [
    {
     "data": {
      "text/plain": [
       "array([5, 2])"
      ]
     },
     "execution_count": 42,
     "metadata": {},
     "output_type": "execute_result"
    }
   ],
   "source": [
    "d[1:3]"
   ]
  },
  {
   "cell_type": "code",
   "execution_count": 43,
   "id": "7624e745-c0ae-40d2-a644-5335179b92a6",
   "metadata": {},
   "outputs": [
    {
     "data": {
      "text/plain": [
       "array([0, 2, 1])"
      ]
     },
     "execution_count": 43,
     "metadata": {},
     "output_type": "execute_result"
    }
   ],
   "source": [
    "d[0:5:2]"
   ]
  },
  {
   "cell_type": "code",
   "execution_count": 44,
   "id": "72f9bfe7-60ea-42eb-935e-faa30c3ef91a",
   "metadata": {},
   "outputs": [
    {
     "data": {
      "text/plain": [
       "array([9, 1, 7, 2, 5, 0])"
      ]
     },
     "execution_count": 44,
     "metadata": {},
     "output_type": "execute_result"
    }
   ],
   "source": [
    "d[::-1]"
   ]
  },
  {
   "cell_type": "markdown",
   "id": "a91f1f61-33f2-4e25-af5b-94f227173615",
   "metadata": {},
   "source": [
    "广播"
   ]
  },
  {
   "cell_type": "code",
   "execution_count": 45,
   "id": "8ce589d9-44d6-4fc4-aa9a-9e5053979610",
   "metadata": {},
   "outputs": [
    {
     "data": {
      "text/plain": [
       "array([1, 2, 3])"
      ]
     },
     "execution_count": 45,
     "metadata": {},
     "output_type": "execute_result"
    }
   ],
   "source": [
    "a"
   ]
  },
  {
   "cell_type": "code",
   "execution_count": 46,
   "id": "1419c56d-a2f8-417a-a40d-19c707dc8464",
   "metadata": {},
   "outputs": [
    {
     "data": {
      "text/plain": [
       "array([[1, 2, 3],\n",
       "       [4, 5, 6]])"
      ]
     },
     "execution_count": 46,
     "metadata": {},
     "output_type": "execute_result"
    }
   ],
   "source": [
    "c"
   ]
  },
  {
   "cell_type": "code",
   "execution_count": 47,
   "id": "a40fb23e-7143-478d-86de-7bfc8b12c7ac",
   "metadata": {},
   "outputs": [
    {
     "data": {
      "text/plain": [
       "array([[2, 4, 6],\n",
       "       [5, 7, 9]])"
      ]
     },
     "execution_count": 47,
     "metadata": {},
     "output_type": "execute_result"
    }
   ],
   "source": [
    "a + c"
   ]
  },
  {
   "cell_type": "code",
   "execution_count": 48,
   "id": "a918d783-d46d-4c5c-afe6-a5ff81409ff3",
   "metadata": {},
   "outputs": [
    {
     "data": {
      "text/plain": [
       "array([[ 1,  4,  9],\n",
       "       [ 4, 10, 18]])"
      ]
     },
     "execution_count": 48,
     "metadata": {},
     "output_type": "execute_result"
    }
   ],
   "source": [
    "a * c"
   ]
  },
  {
   "cell_type": "markdown",
   "id": "dd52b526-2eb2-4f21-b1f2-fc2491029847",
   "metadata": {},
   "source": [
    "NumPy的高性能计算"
   ]
  },
  {
   "cell_type": "code",
   "execution_count": 49,
   "id": "9423a095-80d7-4c11-b720-42b7b4f6a7d9",
   "metadata": {},
   "outputs": [],
   "source": [
    "import time # 导入用于处理时间的模块"
   ]
  },
  {
   "cell_type": "code",
   "execution_count": 50,
   "id": "529a920c-5d81-4610-9d1d-d6086561e1c8",
   "metadata": {},
   "outputs": [],
   "source": [
    "def calculate_time():\n",
    "    a = np.random.randn(100000)\n",
    "    b = list(a) # 转换为列表\n",
    "    start_time = time.time() #  设置开始时间\n",
    "    for _ in range(1000):\n",
    "        sum_1 = np.sum(a)\n",
    "    print(\"Using NumPy\\t %f sec\" % (time.time()-start_time))\n",
    "    start_time = time.time() # 再次设置开始时间\n",
    "    for _ in range(1000):\n",
    "       sum_2 = sum(b)\n",
    "    print(\"Not using NumPy\\t %f sec\" % (time.time()-start_time))"
   ]
  },
  {
   "cell_type": "code",
   "execution_count": 51,
   "id": "c8ba822e-075e-4416-8e27-ffe5caf08a05",
   "metadata": {},
   "outputs": [
    {
     "name": "stdout",
     "output_type": "stream",
     "text": [
      "Using NumPy\t 0.029308 sec\n",
      "Not using NumPy\t 3.355573 sec\n"
     ]
    }
   ],
   "source": [
    "calculate_time()"
   ]
  },
  {
   "cell_type": "code",
   "execution_count": 52,
   "id": "0a85acb2-6088-4910-b323-46fe6565d53e",
   "metadata": {},
   "outputs": [],
   "source": [
    "a = np.random.randn(10000000)"
   ]
  },
  {
   "cell_type": "code",
   "execution_count": 53,
   "id": "d040b381-2c6e-4d02-80a0-2003d49f7dbf",
   "metadata": {},
   "outputs": [
    {
     "name": "stdout",
     "output_type": "stream",
     "text": [
      "8.78 ms ± 161 µs per loop (mean ± std. dev. of 7 runs, 100 loops each)\n"
     ]
    }
   ],
   "source": [
    "%timeit np.sum(a)"
   ]
  },
  {
   "cell_type": "code",
   "execution_count": 54,
   "id": "29ae4632-9a5d-451e-b293-1fd039d361a1",
   "metadata": {},
   "outputs": [
    {
     "name": "stdout",
     "output_type": "stream",
     "text": [
      "559 ms ± 7.67 ms per loop (mean ± std. dev. of 7 runs, 1 loop each)\n"
     ]
    }
   ],
   "source": [
    "%timeit sum(a)"
   ]
  },
  {
   "cell_type": "markdown",
   "id": "d7028eda-d74f-4855-8510-4eef8f2e34a9",
   "metadata": {},
   "source": [
    "## 1.2 多维数据结构ndarrray的基础"
   ]
  },
  {
   "cell_type": "markdown",
   "id": "25e0af6b-e2e3-4e16-aa23-10e9edd47d32",
   "metadata": {},
   "source": [
    "### 1.2.1 ndarray"
   ]
  },
  {
   "cell_type": "markdown",
   "id": "0a01258b-8a2e-4e49-84c0-7de27dec0f2c",
   "metadata": {},
   "source": [
    "### 1.2.2 属性"
   ]
  },
  {
   "cell_type": "code",
   "execution_count": 55,
   "id": "53373380-b5f1-4345-ae3f-80acb205c550",
   "metadata": {},
   "outputs": [],
   "source": [
    "import numpy as np # 导入NumPy模块"
   ]
  },
  {
   "cell_type": "code",
   "execution_count": 56,
   "id": "ee8fd808-62af-4665-b23f-6c6c357297d3",
   "metadata": {},
   "outputs": [],
   "source": [
    "a = np.array([1, 2, 3]) #  生成ndarray实例"
   ]
  },
  {
   "cell_type": "code",
   "execution_count": 57,
   "id": "a10d1bcc-389c-445f-bc49-551d8917925c",
   "metadata": {},
   "outputs": [
    {
     "data": {
      "text/plain": [
       "numpy.ndarray"
      ]
     },
     "execution_count": 57,
     "metadata": {},
     "output_type": "execute_result"
    }
   ],
   "source": [
    "type(a) # 确认对象的类"
   ]
  },
  {
   "cell_type": "code",
   "execution_count": 58,
   "id": "fec6ff80-2a9b-4e34-9006-0e97cd3f4b96",
   "metadata": {},
   "outputs": [],
   "source": [
    "b = np.array([[1, 2, 3], [4, 5, 6]]) # 创建2‐dimensional array(二维数组)"
   ]
  },
  {
   "cell_type": "code",
   "execution_count": 59,
   "id": "a6bea33f-1c80-4be7-8cdd-a19f77304ceb",
   "metadata": {},
   "outputs": [
    {
     "data": {
      "text/plain": [
       "array([1, 2, 3])"
      ]
     },
     "execution_count": 59,
     "metadata": {},
     "output_type": "execute_result"
    }
   ],
   "source": [
    "a"
   ]
  },
  {
   "cell_type": "code",
   "execution_count": 60,
   "id": "d3a4a63c-d324-483a-817b-d30cc60d78da",
   "metadata": {},
   "outputs": [
    {
     "data": {
      "text/plain": [
       "array([[1, 2, 3],\n",
       "       [4, 5, 6]])"
      ]
     },
     "execution_count": 60,
     "metadata": {},
     "output_type": "execute_result"
    }
   ],
   "source": [
    "b # 分别显示所得到的结果如下"
   ]
  },
  {
   "cell_type": "code",
   "execution_count": 61,
   "id": "3097aabe-2343-4fe0-9adc-8025a4ce01a2",
   "metadata": {},
   "outputs": [
    {
     "data": {
      "text/plain": [
       "array([[1, 4],\n",
       "       [2, 5],\n",
       "       [3, 6]])"
      ]
     },
     "execution_count": 61,
     "metadata": {},
     "output_type": "execute_result"
    }
   ],
   "source": [
    "b.T #进行转置"
   ]
  },
  {
   "cell_type": "code",
   "execution_count": 62,
   "id": "57ac8dee-ed4f-4778-814f-3dddc9151562",
   "metadata": {},
   "outputs": [
    {
     "data": {
      "text/plain": [
       "array([1, 2, 3])"
      ]
     },
     "execution_count": 62,
     "metadata": {},
     "output_type": "execute_result"
    }
   ],
   "source": [
    "a.T # 因为a.ndim<2，所以没有变化"
   ]
  },
  {
   "cell_type": "code",
   "execution_count": 63,
   "id": "66fd6c3d-8d44-43a8-80a8-3d6d6f0e9096",
   "metadata": {},
   "outputs": [
    {
     "data": {
      "text/plain": [
       "<memory at 0x000001CC36E57400>"
      ]
     },
     "execution_count": 63,
     "metadata": {},
     "output_type": "execute_result"
    }
   ],
   "source": [
    "a.data # 显示内存中的地址"
   ]
  },
  {
   "cell_type": "code",
   "execution_count": 64,
   "id": "17c20e83-2025-49f1-8263-d12c90870d86",
   "metadata": {},
   "outputs": [
    {
     "data": {
      "text/plain": [
       "dtype('int32')"
      ]
     },
     "execution_count": 64,
     "metadata": {},
     "output_type": "execute_result"
    }
   ],
   "source": [
    "a.dtype # 显示数据的类型"
   ]
  },
  {
   "cell_type": "code",
   "execution_count": 65,
   "id": "f58d8836-4a6a-4321-8065-ebb83747b3f4",
   "metadata": {},
   "outputs": [
    {
     "data": {
      "text/plain": [
       "  C_CONTIGUOUS : True\n",
       "  F_CONTIGUOUS : True\n",
       "  OWNDATA : True\n",
       "  WRITEABLE : True\n",
       "  ALIGNED : True\n",
       "  WRITEBACKIFCOPY : False"
      ]
     },
     "execution_count": 65,
     "metadata": {},
     "output_type": "execute_result"
    }
   ],
   "source": [
    "a.flags"
   ]
  },
  {
   "cell_type": "code",
   "execution_count": 66,
   "id": "3d781c55-0a03-4efd-bcd4-38bb34457855",
   "metadata": {},
   "outputs": [
    {
     "data": {
      "text/plain": [
       "  C_CONTIGUOUS : True\n",
       "  F_CONTIGUOUS : False\n",
       "  OWNDATA : True\n",
       "  WRITEABLE : True\n",
       "  ALIGNED : True\n",
       "  WRITEBACKIFCOPY : False"
      ]
     },
     "execution_count": 66,
     "metadata": {},
     "output_type": "execute_result"
    }
   ],
   "source": [
    "b.flags #  可以获取各种信息"
   ]
  },
  {
   "cell_type": "code",
   "execution_count": 67,
   "id": "1fd2ac18-ada0-48bf-a6e1-623413d5288f",
   "metadata": {},
   "outputs": [
    {
     "data": {
      "text/plain": [
       "2"
      ]
     },
     "execution_count": 67,
     "metadata": {},
     "output_type": "execute_result"
    }
   ],
   "source": [
    "a.flat[1] # 显示将a转换为一维数组后其中的第一个元素"
   ]
  },
  {
   "cell_type": "code",
   "execution_count": 68,
   "id": "dd3901dc-9b57-446e-9caf-bd8884e73a99",
   "metadata": {},
   "outputs": [
    {
     "data": {
      "text/plain": [
       "5"
      ]
     },
     "execution_count": 68,
     "metadata": {},
     "output_type": "execute_result"
    }
   ],
   "source": [
    "b.flat[4] # 显示将b转换为一维数组后其中的第四个元素"
   ]
  },
  {
   "cell_type": "code",
   "execution_count": 69,
   "id": "9356e0ce-f8fd-4c0a-9cbd-5a6b70f949fd",
   "metadata": {},
   "outputs": [],
   "source": [
    "c = np.array([1.-2.6j,2.1+3.j, 4.-3.2j]) # 创建以复数为元素的ndarray实例"
   ]
  },
  {
   "cell_type": "code",
   "execution_count": 70,
   "id": "0cfa8fc2-4db9-4782-9a52-d514b16fb6e6",
   "metadata": {},
   "outputs": [
    {
     "data": {
      "text/plain": [
       "array([1. , 2.1, 4. ])"
      ]
     },
     "execution_count": 70,
     "metadata": {},
     "output_type": "execute_result"
    }
   ],
   "source": [
    "c.real # 显示实数部分"
   ]
  },
  {
   "cell_type": "code",
   "execution_count": 71,
   "id": "d3ce7681-f892-4fff-97c6-f320d9d86f6a",
   "metadata": {},
   "outputs": [
    {
     "data": {
      "text/plain": [
       "array([-2.6,  3. , -3.2])"
      ]
     },
     "execution_count": 71,
     "metadata": {},
     "output_type": "execute_result"
    }
   ],
   "source": [
    "c.imag # 显示虚数部分"
   ]
  },
  {
   "cell_type": "code",
   "execution_count": 72,
   "id": "b39bb041-1b95-41c6-8a91-b1d31ffe777e",
   "metadata": {},
   "outputs": [
    {
     "data": {
      "text/plain": [
       "3"
      ]
     },
     "execution_count": 72,
     "metadata": {},
     "output_type": "execute_result"
    }
   ],
   "source": [
    "a.size #元素的数量"
   ]
  },
  {
   "cell_type": "code",
   "execution_count": 73,
   "id": "a51b8503-04d1-42dd-b52c-6c3387558113",
   "metadata": {},
   "outputs": [
    {
     "data": {
      "text/plain": [
       "6"
      ]
     },
     "execution_count": 73,
     "metadata": {},
     "output_type": "execute_result"
    }
   ],
   "source": [
    "b.size"
   ]
  },
  {
   "cell_type": "code",
   "execution_count": 74,
   "id": "3b361c21-57d8-48b1-8d46-0dce05024340",
   "metadata": {},
   "outputs": [
    {
     "data": {
      "text/plain": [
       "4"
      ]
     },
     "execution_count": 74,
     "metadata": {},
     "output_type": "execute_result"
    }
   ],
   "source": [
    "a.itemsize # 按字节序显示每个元素的字长"
   ]
  },
  {
   "cell_type": "code",
   "execution_count": 75,
   "id": "3820124d-be18-4ed4-bfbf-77100e09b759",
   "metadata": {},
   "outputs": [
    {
     "data": {
      "text/plain": [
       "4"
      ]
     },
     "execution_count": 75,
     "metadata": {},
     "output_type": "execute_result"
    }
   ],
   "source": [
    "b.itemsize # 在某些环境中可能是4"
   ]
  },
  {
   "cell_type": "code",
   "execution_count": 76,
   "id": "aa9ff6c2-094d-46b0-822b-67514fe90308",
   "metadata": {},
   "outputs": [
    {
     "data": {
      "text/plain": [
       "(3, 16)"
      ]
     },
     "execution_count": 76,
     "metadata": {},
     "output_type": "execute_result"
    }
   ],
   "source": [
    "c.size, c.itemsize"
   ]
  },
  {
   "cell_type": "code",
   "execution_count": 77,
   "id": "40eb938a-e972-447d-b923-73780fe36748",
   "metadata": {},
   "outputs": [
    {
     "data": {
      "text/plain": [
       "12"
      ]
     },
     "execution_count": 77,
     "metadata": {},
     "output_type": "execute_result"
    }
   ],
   "source": [
    "a.nbytes # 按字节序显示数组的长度，在某些环境中可能是12"
   ]
  },
  {
   "cell_type": "code",
   "execution_count": 78,
   "id": "78646f3a-ba17-4b1c-99bf-04d5e07404cf",
   "metadata": {},
   "outputs": [
    {
     "data": {
      "text/plain": [
       "24"
      ]
     },
     "execution_count": 78,
     "metadata": {},
     "output_type": "execute_result"
    }
   ],
   "source": [
    "b.nbytes #  在某些环境中可能是24"
   ]
  },
  {
   "cell_type": "code",
   "execution_count": 79,
   "id": "06486f2d-eda8-4c5a-bd16-08e24a41ae81",
   "metadata": {},
   "outputs": [
    {
     "data": {
      "text/plain": [
       "48"
      ]
     },
     "execution_count": 79,
     "metadata": {},
     "output_type": "execute_result"
    }
   ],
   "source": [
    "c.nbytes"
   ]
  },
  {
   "cell_type": "code",
   "execution_count": 80,
   "id": "f15ca956-ad52-4982-8732-6af391b4790e",
   "metadata": {},
   "outputs": [
    {
     "data": {
      "text/plain": [
       "True"
      ]
     },
     "execution_count": 80,
     "metadata": {},
     "output_type": "execute_result"
    }
   ],
   "source": [
    "a.size * a.itemsize == a.nbytes #  这个等式成立"
   ]
  },
  {
   "cell_type": "code",
   "execution_count": 81,
   "id": "ad360398-94f8-44e0-a33a-05287610527f",
   "metadata": {},
   "outputs": [
    {
     "data": {
      "text/plain": [
       "1"
      ]
     },
     "execution_count": 81,
     "metadata": {},
     "output_type": "execute_result"
    }
   ],
   "source": [
    "a.ndim # 显示维数"
   ]
  },
  {
   "cell_type": "code",
   "execution_count": 82,
   "id": "120c1740-29f6-48a6-a26f-28b2835f94de",
   "metadata": {},
   "outputs": [
    {
     "data": {
      "text/plain": [
       "2"
      ]
     },
     "execution_count": 82,
     "metadata": {},
     "output_type": "execute_result"
    }
   ],
   "source": [
    "b.ndim"
   ]
  },
  {
   "cell_type": "code",
   "execution_count": 83,
   "id": "fc5d8fde-0fa6-4c88-9503-9f902932521e",
   "metadata": {},
   "outputs": [
    {
     "data": {
      "text/plain": [
       "(3,)"
      ]
     },
     "execution_count": 83,
     "metadata": {},
     "output_type": "execute_result"
    }
   ],
   "source": [
    "a.shape # 显示形状"
   ]
  },
  {
   "cell_type": "code",
   "execution_count": 84,
   "id": "7217ffff-2755-421c-aafd-8a938a583304",
   "metadata": {},
   "outputs": [
    {
     "data": {
      "text/plain": [
       "(2, 3)"
      ]
     },
     "execution_count": 84,
     "metadata": {},
     "output_type": "execute_result"
    }
   ],
   "source": [
    "b.shape # 显示形状"
   ]
  },
  {
   "cell_type": "code",
   "execution_count": 85,
   "id": "997608e9-c1eb-4a3d-bf3b-b520150b2b4a",
   "metadata": {},
   "outputs": [],
   "source": [
    "d = np.array([[[2,3,2],[2,2,2]],[[4,3,2],[5,7,1]]]) # 生成三维数组"
   ]
  },
  {
   "cell_type": "code",
   "execution_count": 86,
   "id": "d32eea4d-d797-4c3e-9521-72b9cdac61c9",
   "metadata": {},
   "outputs": [
    {
     "data": {
      "text/plain": [
       "((2, 2, 3), 3)"
      ]
     },
     "execution_count": 86,
     "metadata": {},
     "output_type": "execute_result"
    }
   ],
   "source": [
    "d.shape, d.ndim # 显示形状和维数"
   ]
  },
  {
   "cell_type": "code",
   "execution_count": 87,
   "id": "e24ffe99-51f7-4492-a56f-26eb83d5311b",
   "metadata": {},
   "outputs": [
    {
     "data": {
      "text/plain": [
       "(4,)"
      ]
     },
     "execution_count": 87,
     "metadata": {},
     "output_type": "execute_result"
    }
   ],
   "source": [
    "a.strides  #在各个维度方向上(axis=ndim,axis=ndim-1,…\n",
    "# axis=1,axis=0)移动到下一个元素所需移动的字节数。在某些环境下可能为(4,)"
   ]
  },
  {
   "cell_type": "code",
   "execution_count": 88,
   "id": "2619932f-6993-4880-8eb9-46e3f879f8b7",
   "metadata": {},
   "outputs": [
    {
     "data": {
      "text/plain": [
       "(12, 4)"
      ]
     },
     "execution_count": 88,
     "metadata": {},
     "output_type": "execute_result"
    }
   ],
   "source": [
    "b.strides #  .ndim=2，在某些环境下可能为(12, 4)"
   ]
  },
  {
   "cell_type": "code",
   "execution_count": 89,
   "id": "dc5da7e4-9eb6-473b-8a42-b1dbb054ec3b",
   "metadata": {},
   "outputs": [
    {
     "data": {
      "text/plain": [
       "(16,)"
      ]
     },
     "execution_count": 89,
     "metadata": {},
     "output_type": "execute_result"
    }
   ],
   "source": [
    "c.strides # .ndim = 3"
   ]
  },
  {
   "cell_type": "code",
   "execution_count": 90,
   "id": "d30501ab-218c-4272-beb7-b4ea6d3dff7a",
   "metadata": {},
   "outputs": [
    {
     "data": {
      "text/plain": [
       "(24, 12, 4)"
      ]
     },
     "execution_count": 90,
     "metadata": {},
     "output_type": "execute_result"
    }
   ],
   "source": [
    "d.strides # .ndim=3在某些环境下可能为(24,12,4)"
   ]
  },
  {
   "cell_type": "code",
   "execution_count": 91,
   "id": "e046b7ef-7266-4841-84f7-bbd16199a940",
   "metadata": {},
   "outputs": [
    {
     "data": {
      "text/plain": [
       "1976086109824"
      ]
     },
     "execution_count": 91,
     "metadata": {},
     "output_type": "execute_result"
    }
   ],
   "source": [
    "a.ctypes.data #  使用ctypes模块的操作"
   ]
  },
  {
   "cell_type": "code",
   "execution_count": 92,
   "id": "aa868a48-c0a8-476a-9202-e742f8a3780b",
   "metadata": {},
   "outputs": [],
   "source": [
    "a.base # a的基类数组在什么地方"
   ]
  },
  {
   "cell_type": "code",
   "execution_count": 93,
   "id": "1a32f4e7-6282-4a50-81c4-ee9d49c46ee4",
   "metadata": {},
   "outputs": [],
   "source": [
    "e = a[:2]"
   ]
  },
  {
   "cell_type": "code",
   "execution_count": 94,
   "id": "dcad2f07-9ca0-4ec0-9f3e-fefabd75d319",
   "metadata": {},
   "outputs": [
    {
     "data": {
      "text/plain": [
       "array([1, 2, 3])"
      ]
     },
     "execution_count": 94,
     "metadata": {},
     "output_type": "execute_result"
    }
   ],
   "source": [
    "e.base"
   ]
  },
  {
   "cell_type": "code",
   "execution_count": 95,
   "id": "e536b27a-9e42-4b16-b5d6-bbd49be3202d",
   "metadata": {},
   "outputs": [
    {
     "data": {
      "text/plain": [
       "True"
      ]
     },
     "execution_count": 95,
     "metadata": {},
     "output_type": "execute_result"
    }
   ],
   "source": [
    "e.base is a"
   ]
  },
  {
   "cell_type": "code",
   "execution_count": 96,
   "id": "06aed363-e94b-4c43-9b2a-33877ce77ab9",
   "metadata": {},
   "outputs": [
    {
     "data": {
      "text/plain": [
       "False"
      ]
     },
     "execution_count": 96,
     "metadata": {},
     "output_type": "execute_result"
    }
   ],
   "source": [
    "a.base is e.base"
   ]
  },
  {
   "cell_type": "markdown",
   "id": "777457ce-e8fc-4741-9b7f-3bdb20d953ba",
   "metadata": {},
   "source": [
    "### 1.2.3 内存布局"
   ]
  },
  {
   "cell_type": "markdown",
   "id": "b8351e4a-d8aa-4eea-b7cf-3bd3a97a6726",
   "metadata": {},
   "source": [
    "### 1.2.4 步长"
   ]
  },
  {
   "cell_type": "code",
   "execution_count": 97,
   "id": "c84f4fa0-759e-4e17-99db-0a3933c35685",
   "metadata": {},
   "outputs": [],
   "source": [
    "a = np.random.randn(100,100)"
   ]
  },
  {
   "cell_type": "code",
   "execution_count": 98,
   "id": "9e70f77e-9be3-4bee-aab7-81bb8bd54a2c",
   "metadata": {},
   "outputs": [],
   "source": [
    "b = np.array(a, order='C') # 行主序"
   ]
  },
  {
   "cell_type": "code",
   "execution_count": 99,
   "id": "8a5dbf66-9e4e-4602-827d-4eb5d349ebe3",
   "metadata": {},
   "outputs": [],
   "source": [
    "c = np.array(a, order='F') # column-major"
   ]
  },
  {
   "cell_type": "code",
   "execution_count": 100,
   "id": "51bb981c-25fd-4581-9e8e-05ed1b52984c",
   "metadata": {},
   "outputs": [
    {
     "data": {
      "text/plain": [
       "((800, 8), (8, 800))"
      ]
     },
     "execution_count": 100,
     "metadata": {},
     "output_type": "execute_result"
    }
   ],
   "source": [
    "b.strides, c.strides #从步长上看，二者是相反的"
   ]
  },
  {
   "cell_type": "code",
   "execution_count": 101,
   "id": "9e3905cc-8002-468e-8498-fd307ba10420",
   "metadata": {},
   "outputs": [
    {
     "data": {
      "text/plain": [
       "True"
      ]
     },
     "execution_count": 101,
     "metadata": {},
     "output_type": "execute_result"
    }
   ],
   "source": [
    "np.allclose(b, c)      # 确认数组的元素是否完全相同"
   ]
  },
  {
   "cell_type": "code",
   "execution_count": 102,
   "id": "f8cac4ca-ecf6-42f4-83a8-7ed20405b606",
   "metadata": {},
   "outputs": [],
   "source": [
    "x = np.ones((100000,)) #将所有的元素都初始化为1"
   ]
  },
  {
   "cell_type": "code",
   "execution_count": 103,
   "id": "f1072940-746f-472e-b25d-bf51c62a16dd",
   "metadata": {},
   "outputs": [],
   "source": [
    "y = np.ones((100000*100,))[::100] # 每隔100个元素进行读取"
   ]
  },
  {
   "cell_type": "code",
   "execution_count": 104,
   "id": "0e7cfe03-4a07-405d-9113-1d3ab8cc0028",
   "metadata": {},
   "outputs": [
    {
     "data": {
      "text/plain": [
       "(8,)"
      ]
     },
     "execution_count": 104,
     "metadata": {},
     "output_type": "execute_result"
    }
   ],
   "source": [
    "x.strides # 为了移动到相邻的下一个元素，需要跳转8个字节的距离"
   ]
  },
  {
   "cell_type": "code",
   "execution_count": 105,
   "id": "c63663d1-7fb6-41ae-80e8-ea4d0698b2ee",
   "metadata": {},
   "outputs": [
    {
     "data": {
      "text/plain": [
       "(800,)"
      ]
     },
     "execution_count": 105,
     "metadata": {},
     "output_type": "execute_result"
    }
   ],
   "source": [
    "y.strides #为了移动到相邻的下一个元素，需要跳转800个字节的距离"
   ]
  },
  {
   "cell_type": "code",
   "execution_count": 106,
   "id": "543a6f8a-f277-4605-a500-901275897617",
   "metadata": {},
   "outputs": [
    {
     "data": {
      "text/plain": [
       "((100000,), (100000,))"
      ]
     },
     "execution_count": 106,
     "metadata": {},
     "output_type": "execute_result"
    }
   ],
   "source": [
    "x.shape, y.shape"
   ]
  },
  {
   "cell_type": "code",
   "execution_count": 107,
   "id": "36759cb3-2e2c-4074-b745-ef08c2d11ee8",
   "metadata": {},
   "outputs": [
    {
     "name": "stdout",
     "output_type": "stream",
     "text": [
      "26.7 µs ± 150 ns per loop (mean ± std. dev. of 7 runs, 10,000 loops each)\n"
     ]
    }
   ],
   "source": [
    "%timeit x.sum() # 很明显这个速度更快"
   ]
  },
  {
   "cell_type": "code",
   "execution_count": 108,
   "id": "cd14b2c8-bb7a-40d2-a666-113805ccf0ba",
   "metadata": {},
   "outputs": [
    {
     "name": "stdout",
     "output_type": "stream",
     "text": [
      "82.2 µs ± 1.56 µs per loop (mean ± std. dev. of 7 runs, 10,000 loops each)\n"
     ]
    }
   ],
   "source": [
    "%timeit y.sum()"
   ]
  },
  {
   "cell_type": "code",
   "execution_count": 109,
   "id": "e61842b0-3c7e-415d-b1fa-e285ff7f6487",
   "metadata": {},
   "outputs": [],
   "source": [
    "y_copy = np.copy(np.ones((100000*100,))[::100])"
   ]
  },
  {
   "cell_type": "code",
   "execution_count": 110,
   "id": "ca3fa115-e4b2-4c17-af08-d224a2c2cfe6",
   "metadata": {},
   "outputs": [
    {
     "data": {
      "text/plain": [
       "(8,)"
      ]
     },
     "execution_count": 110,
     "metadata": {},
     "output_type": "execute_result"
    }
   ],
   "source": [
    "y_copy.strides"
   ]
  },
  {
   "cell_type": "code",
   "execution_count": 111,
   "id": "93a50cfe-2f03-47a3-ba1b-619bcbfb8a48",
   "metadata": {},
   "outputs": [
    {
     "name": "stdout",
     "output_type": "stream",
     "text": [
      "27 µs ± 120 ns per loop (mean ± std. dev. of 7 runs, 10,000 loops each)\n"
     ]
    }
   ],
   "source": [
    "%timeit y_copy.sum()"
   ]
  },
  {
   "cell_type": "markdown",
   "id": "30d21045-3a9b-4b3d-8a53-128e3bc88777",
   "metadata": {},
   "source": [
    "### 1.2.5 广播"
   ]
  },
  {
   "cell_type": "code",
   "execution_count": 112,
   "id": "0eee96e0-bfbb-4919-852b-2fc97d76dd68",
   "metadata": {},
   "outputs": [
    {
     "data": {
      "text/plain": [
       "array([1, 2, 3])"
      ]
     },
     "execution_count": 112,
     "metadata": {},
     "output_type": "execute_result"
    }
   ],
   "source": [
    "a=np.array([1, 2, 3])\n",
    "a"
   ]
  },
  {
   "cell_type": "code",
   "execution_count": 113,
   "id": "336f5060-c25f-4f21-a9f7-58313f9cde35",
   "metadata": {},
   "outputs": [
    {
     "data": {
      "text/plain": [
       "array([[1, 1, 1],\n",
       "       [2, 4, 1]])"
      ]
     },
     "execution_count": 113,
     "metadata": {},
     "output_type": "execute_result"
    }
   ],
   "source": [
    "b=np.array([[1, 1, 1],[2, 4, 1]]) # 二维数组\n",
    "b"
   ]
  },
  {
   "cell_type": "code",
   "execution_count": 114,
   "id": "25bf50b0-0591-40fd-ae38-ef4ce86dcbf6",
   "metadata": {},
   "outputs": [
    {
     "data": {
      "text/plain": [
       "array([[2, 3, 4],\n",
       "       [3, 6, 4]])"
      ]
     },
     "execution_count": 114,
     "metadata": {},
     "output_type": "execute_result"
    }
   ],
   "source": [
    "b + a #  使用广播功能"
   ]
  },
  {
   "cell_type": "markdown",
   "id": "cbb29bfd-6612-4fd4-901a-3cfde0f2ce28",
   "metadata": {},
   "source": [
    "## 1.3 广播"
   ]
  },
  {
   "cell_type": "markdown",
   "id": "68cc48a2-f1e6-485f-9336-a111da6ea3d7",
   "metadata": {},
   "source": [
    "### 1.3.1 何谓广播"
   ]
  },
  {
   "cell_type": "code",
   "execution_count": 115,
   "id": "03600942-6569-4d89-b7bf-bfd3a1476ef9",
   "metadata": {},
   "outputs": [],
   "source": [
    "import numpy as np"
   ]
  },
  {
   "cell_type": "code",
   "execution_count": 116,
   "id": "80fe4db5-cfb3-4a66-83e9-b211ebe107b3",
   "metadata": {},
   "outputs": [
    {
     "data": {
      "text/plain": [
       "array([[2, 3, 4]])"
      ]
     },
     "execution_count": 116,
     "metadata": {},
     "output_type": "execute_result"
    }
   ],
   "source": [
    "np.array([[1, 2, 3]]) + [1]"
   ]
  },
  {
   "cell_type": "markdown",
   "id": "4310b3de-3473-45dc-b124-903ca5cd3888",
   "metadata": {},
   "source": [
    "### 1.3.2 广播的运行机制"
   ]
  },
  {
   "cell_type": "code",
   "execution_count": 117,
   "id": "286f8b9d-b96d-4665-ac7f-82724ad91c87",
   "metadata": {},
   "outputs": [
    {
     "data": {
      "text/plain": [
       "array([[1, 2]])"
      ]
     },
     "execution_count": 117,
     "metadata": {},
     "output_type": "execute_result"
    }
   ],
   "source": [
    "a = np.array([[1, 2]])\n",
    "a"
   ]
  },
  {
   "cell_type": "code",
   "execution_count": 118,
   "id": "2be46a96-0db5-43f8-bfb1-a77043b707a1",
   "metadata": {},
   "outputs": [
    {
     "data": {
      "text/plain": [
       "(1, 2)"
      ]
     },
     "execution_count": 118,
     "metadata": {},
     "output_type": "execute_result"
    }
   ],
   "source": [
    "a.shape"
   ]
  },
  {
   "cell_type": "code",
   "execution_count": 119,
   "id": "9390d326-8bf7-4744-a1b7-b0042daaf696",
   "metadata": {},
   "outputs": [
    {
     "data": {
      "text/plain": [
       "array([3, 4])"
      ]
     },
     "execution_count": 119,
     "metadata": {},
     "output_type": "execute_result"
    }
   ],
   "source": [
    "b = np.array([3, 4])\n",
    "b"
   ]
  },
  {
   "cell_type": "code",
   "execution_count": 120,
   "id": "3a834ae2-5607-4e0d-a5ef-7de35a6b22cf",
   "metadata": {},
   "outputs": [
    {
     "data": {
      "text/plain": [
       "(2,)"
      ]
     },
     "execution_count": 120,
     "metadata": {},
     "output_type": "execute_result"
    }
   ],
   "source": [
    "b.shape"
   ]
  },
  {
   "cell_type": "code",
   "execution_count": 121,
   "id": "f1954e92-f321-4297-a635-49f6291e16db",
   "metadata": {},
   "outputs": [
    {
     "data": {
      "text/plain": [
       "array([[4, 6]])"
      ]
     },
     "execution_count": 121,
     "metadata": {},
     "output_type": "execute_result"
    }
   ],
   "source": [
    "a + b"
   ]
  },
  {
   "cell_type": "code",
   "execution_count": 122,
   "id": "c166fe39-5148-45ef-bcf4-349a89c58885",
   "metadata": {},
   "outputs": [],
   "source": [
    "a = np.array([1, 2])"
   ]
  },
  {
   "cell_type": "code",
   "execution_count": 123,
   "id": "6c73d951-d201-4b0d-a78f-5065ee30189e",
   "metadata": {},
   "outputs": [],
   "source": [
    "b = np.array([[3, 4],[2, 3]])"
   ]
  },
  {
   "cell_type": "code",
   "execution_count": 124,
   "id": "5553a700-aeed-4408-aa90-e441b3b4826d",
   "metadata": {},
   "outputs": [
    {
     "data": {
      "text/plain": [
       "array([1, 2])"
      ]
     },
     "execution_count": 124,
     "metadata": {},
     "output_type": "execute_result"
    }
   ],
   "source": [
    "a"
   ]
  },
  {
   "cell_type": "code",
   "execution_count": 125,
   "id": "bbc724ef-143f-4db3-a281-09d71192f020",
   "metadata": {},
   "outputs": [
    {
     "data": {
      "text/plain": [
       "array([[3, 4],\n",
       "       [2, 3]])"
      ]
     },
     "execution_count": 125,
     "metadata": {},
     "output_type": "execute_result"
    }
   ],
   "source": [
    "b"
   ]
  },
  {
   "cell_type": "code",
   "execution_count": 126,
   "id": "0197d462-5126-4cdf-b61f-73caefb7f4f2",
   "metadata": {},
   "outputs": [
    {
     "data": {
      "text/plain": [
       "(2,)"
      ]
     },
     "execution_count": 126,
     "metadata": {},
     "output_type": "execute_result"
    }
   ],
   "source": [
    "a.shape"
   ]
  },
  {
   "cell_type": "code",
   "execution_count": 127,
   "id": "ab516484-a647-46af-b205-2857611cc624",
   "metadata": {},
   "outputs": [
    {
     "data": {
      "text/plain": [
       "(2, 2)"
      ]
     },
     "execution_count": 127,
     "metadata": {},
     "output_type": "execute_result"
    }
   ],
   "source": [
    "b.shape"
   ]
  },
  {
   "cell_type": "code",
   "execution_count": 128,
   "id": "405a9c6f-3e1d-44b6-8325-4250b521cd00",
   "metadata": {},
   "outputs": [
    {
     "data": {
      "text/plain": [
       "array([[4, 6],\n",
       "       [3, 5]])"
      ]
     },
     "execution_count": 128,
     "metadata": {},
     "output_type": "execute_result"
    }
   ],
   "source": [
    "a + b"
   ]
  },
  {
   "cell_type": "code",
   "execution_count": 129,
   "id": "6759fe4a-34c8-4605-830a-2ab55102a9d1",
   "metadata": {},
   "outputs": [],
   "source": [
    "a = np.array([[2], [1]])"
   ]
  },
  {
   "cell_type": "code",
   "execution_count": 130,
   "id": "0b422109-21a2-4182-bb19-d904966c14da",
   "metadata": {},
   "outputs": [],
   "source": [
    "b = np.array([5])"
   ]
  },
  {
   "cell_type": "code",
   "execution_count": 131,
   "id": "79252463-05ae-426a-9b92-305add2da4d7",
   "metadata": {},
   "outputs": [],
   "source": [
    "c = np.array([[[1, 2, 3], [4, 5, 6]],[[7, 8, 9], [10, 11, 12]]])"
   ]
  },
  {
   "cell_type": "code",
   "execution_count": 132,
   "id": "600b7415-1deb-46a6-9b8a-3ac30c0cc8d6",
   "metadata": {},
   "outputs": [
    {
     "data": {
      "text/plain": [
       "array([[2],\n",
       "       [1]])"
      ]
     },
     "execution_count": 132,
     "metadata": {},
     "output_type": "execute_result"
    }
   ],
   "source": [
    "a"
   ]
  },
  {
   "cell_type": "code",
   "execution_count": 133,
   "id": "f979e2a5-fddb-4504-ae46-5e6462d48a5b",
   "metadata": {},
   "outputs": [
    {
     "data": {
      "text/plain": [
       "array([5])"
      ]
     },
     "execution_count": 133,
     "metadata": {},
     "output_type": "execute_result"
    }
   ],
   "source": [
    "b"
   ]
  },
  {
   "cell_type": "code",
   "execution_count": 134,
   "id": "8e1065a9-222e-438d-a3f2-811bbfc0aecf",
   "metadata": {},
   "outputs": [
    {
     "data": {
      "text/plain": [
       "array([[[ 1,  2,  3],\n",
       "        [ 4,  5,  6]],\n",
       "\n",
       "       [[ 7,  8,  9],\n",
       "        [10, 11, 12]]])"
      ]
     },
     "execution_count": 134,
     "metadata": {},
     "output_type": "execute_result"
    }
   ],
   "source": [
    "c"
   ]
  },
  {
   "cell_type": "code",
   "execution_count": 135,
   "id": "bbd5ee2a-f11b-407a-ba5c-bad62e8c31a7",
   "metadata": {},
   "outputs": [
    {
     "data": {
      "text/plain": [
       "(2, 1)"
      ]
     },
     "execution_count": 135,
     "metadata": {},
     "output_type": "execute_result"
    }
   ],
   "source": [
    "a.shape"
   ]
  },
  {
   "cell_type": "code",
   "execution_count": 136,
   "id": "578cf87d-9b41-4e81-8b8d-9706747f5413",
   "metadata": {},
   "outputs": [
    {
     "data": {
      "text/plain": [
       "(1,)"
      ]
     },
     "execution_count": 136,
     "metadata": {},
     "output_type": "execute_result"
    }
   ],
   "source": [
    "b.shape"
   ]
  },
  {
   "cell_type": "code",
   "execution_count": 137,
   "id": "9df7e2df-29b7-4c15-895d-f6ad793f6c2c",
   "metadata": {},
   "outputs": [
    {
     "data": {
      "text/plain": [
       "(2, 2, 3)"
      ]
     },
     "execution_count": 137,
     "metadata": {},
     "output_type": "execute_result"
    }
   ],
   "source": [
    "c.shape"
   ]
  },
  {
   "cell_type": "code",
   "execution_count": 138,
   "id": "64804ff5-e509-44d7-b7ed-53dcd85bda5a",
   "metadata": {},
   "outputs": [
    {
     "data": {
      "text/plain": [
       "array([[[ 8,  9, 10],\n",
       "        [10, 11, 12]],\n",
       "\n",
       "       [[14, 15, 16],\n",
       "        [16, 17, 18]]])"
      ]
     },
     "execution_count": 138,
     "metadata": {},
     "output_type": "execute_result"
    }
   ],
   "source": [
    "a + b + c"
   ]
  },
  {
   "cell_type": "markdown",
   "id": "136e1345-19fc-4b50-814b-3465a17d6848",
   "metadata": {},
   "source": [
    "## 1.4 切片"
   ]
  },
  {
   "cell_type": "code",
   "execution_count": 139,
   "id": "68bd0e63-040b-47bc-83ae-8dd13898538d",
   "metadata": {},
   "outputs": [],
   "source": [
    "a = [1, 2, 3, 4, 5]"
   ]
  },
  {
   "cell_type": "code",
   "execution_count": 140,
   "id": "f26760d2-81e9-4807-95f2-8aae5f2172ad",
   "metadata": {},
   "outputs": [
    {
     "data": {
      "text/plain": [
       "[2, 3, 4]"
      ]
     },
     "execution_count": 140,
     "metadata": {},
     "output_type": "execute_result"
    }
   ],
   "source": [
    "a[1:-1]"
   ]
  },
  {
   "cell_type": "markdown",
   "id": "2eb1b136-76e7-4086-a0e0-d3c1833e8c91",
   "metadata": {},
   "source": [
    "### 1.4.1 何谓切片"
   ]
  },
  {
   "cell_type": "markdown",
   "id": "0cdb8aae-b9fa-4201-a4d6-b7afd34b31b1",
   "metadata": {},
   "source": [
    "### 1.4.2 切片的使用方法"
   ]
  },
  {
   "cell_type": "code",
   "execution_count": 141,
   "id": "f0c18a0e-0a78-47f6-abe9-c9c5aec8370c",
   "metadata": {},
   "outputs": [],
   "source": [
    "import numpy as np"
   ]
  },
  {
   "cell_type": "code",
   "execution_count": 142,
   "id": "c9184e89-92f1-4aea-917d-3244a97ac038",
   "metadata": {},
   "outputs": [
    {
     "data": {
      "text/plain": [
       "array([ 0,  1,  2,  3,  4,  5,  6,  7,  8,  9, 10, 11, 12, 13, 14])"
      ]
     },
     "execution_count": 142,
     "metadata": {},
     "output_type": "execute_result"
    }
   ],
   "source": [
    "a = np.arange(15)\n",
    "a"
   ]
  },
  {
   "cell_type": "code",
   "execution_count": 143,
   "id": "e05ea0d8-df10-4371-9c52-5f8c007583e9",
   "metadata": {},
   "outputs": [
    {
     "data": {
      "text/plain": [
       "array([5, 7, 9])"
      ]
     },
     "execution_count": 143,
     "metadata": {},
     "output_type": "execute_result"
    }
   ],
   "source": [
    "a[5:11:2]"
   ]
  },
  {
   "cell_type": "code",
   "execution_count": 144,
   "id": "19fb32c8-4715-4ec5-beaa-11959892a603",
   "metadata": {},
   "outputs": [
    {
     "data": {
      "text/plain": [
       "array([0, 1, 2, 3, 4, 5, 6, 7, 8, 9])"
      ]
     },
     "execution_count": 144,
     "metadata": {},
     "output_type": "execute_result"
    }
   ],
   "source": [
    "a = np.arange(10) #  创建包含10个连号数据的数组\n",
    "a"
   ]
  },
  {
   "cell_type": "code",
   "execution_count": 145,
   "id": "7204cefb-ee96-4f79-9c9e-2a8faac6527b",
   "metadata": {},
   "outputs": [
    {
     "data": {
      "text/plain": [
       "array([1, 2, 3, 4])"
      ]
     },
     "execution_count": 145,
     "metadata": {},
     "output_type": "execute_result"
    }
   ],
   "source": [
    "a[1:5] # 1～4"
   ]
  },
  {
   "cell_type": "code",
   "execution_count": 146,
   "id": "7ff3440b-abb7-4794-b7e7-d998b6f4dfe9",
   "metadata": {},
   "outputs": [
    {
     "data": {
      "text/plain": [
       "array([2, 4, 6])"
      ]
     },
     "execution_count": 146,
     "metadata": {},
     "output_type": "execute_result"
    }
   ],
   "source": [
    "a[2:8:2] #  2~7每隔一个"
   ]
  },
  {
   "cell_type": "code",
   "execution_count": 147,
   "id": "a5f3d746-1814-402f-926a-44741ce71355",
   "metadata": {},
   "outputs": [
    {
     "data": {
      "text/plain": [
       "array([9, 8, 7, 6, 5, 4, 3, 2, 1, 0])"
      ]
     },
     "execution_count": 147,
     "metadata": {},
     "output_type": "execute_result"
    }
   ],
   "source": [
    "a[::-1] # 逆序排列"
   ]
  },
  {
   "cell_type": "code",
   "execution_count": 148,
   "id": "52b44e81-c9c1-4047-ae30-040713876c40",
   "metadata": {},
   "outputs": [
    {
     "data": {
      "text/plain": [
       "array([0, 1, 2])"
      ]
     },
     "execution_count": 148,
     "metadata": {},
     "output_type": "execute_result"
    }
   ],
   "source": [
    "a[:3] # 0～2"
   ]
  },
  {
   "cell_type": "code",
   "execution_count": 149,
   "id": "cc9c8c69-3737-459a-8b95-9c55f2faefdc",
   "metadata": {},
   "outputs": [
    {
     "data": {
      "text/plain": [
       "array([4, 5, 6, 7, 8, 9])"
      ]
     },
     "execution_count": 149,
     "metadata": {},
     "output_type": "execute_result"
    }
   ],
   "source": [
    "a[4:] # 4～9"
   ]
  },
  {
   "cell_type": "code",
   "execution_count": 150,
   "id": "40c97e9a-b11d-4d58-80b3-44a73ed28322",
   "metadata": {},
   "outputs": [
    {
     "data": {
      "text/plain": [
       "(array([0, 1, 2]), array([3, 4, 5, 6, 7, 8, 9]))"
      ]
     },
     "execution_count": 150,
     "metadata": {},
     "output_type": "execute_result"
    }
   ],
   "source": [
    "a[:3],a[3:] # 将3作为边界划分为两个数组"
   ]
  },
  {
   "cell_type": "code",
   "execution_count": 151,
   "id": "d36b315a-a7b0-4f21-b516-0a039343eff0",
   "metadata": {},
   "outputs": [
    {
     "data": {
      "text/plain": [
       "array([0, 2, 4, 6, 8])"
      ]
     },
     "execution_count": 151,
     "metadata": {},
     "output_type": "execute_result"
    }
   ],
   "source": [
    "a[::2] # 指定间隔一个元素"
   ]
  },
  {
   "cell_type": "code",
   "execution_count": 152,
   "id": "c39011c1-4708-4c83-8dcf-1bfbb6442c64",
   "metadata": {},
   "outputs": [
    {
     "data": {
      "text/plain": [
       "array([0, 1, 2, 3, 4, 5, 6, 7, 8, 9])"
      ]
     },
     "execution_count": 152,
     "metadata": {},
     "output_type": "execute_result"
    }
   ],
   "source": [
    "a[:] # 指定全范围内的数据"
   ]
  },
  {
   "cell_type": "markdown",
   "id": "24f52416-cee2-48bc-9809-7eb57152c7f5",
   "metadata": {},
   "source": [
    "### 1.4.3 向高维数据结构扩展"
   ]
  },
  {
   "cell_type": "markdown",
   "id": "541e9798-17e8-401d-9d8d-98aa2b16d66b",
   "metadata": {},
   "source": [
    "二维数组"
   ]
  },
  {
   "cell_type": "code",
   "execution_count": 153,
   "id": "1a086a15-4595-4b34-be99-32155ec3ce96",
   "metadata": {},
   "outputs": [
    {
     "data": {
      "text/plain": [
       "array([[ 0,  1,  2,  3,  4],\n",
       "       [ 5,  6,  7,  8,  9],\n",
       "       [10, 11, 12, 13, 14],\n",
       "       [15, 16, 17, 18, 19]])"
      ]
     },
     "execution_count": 153,
     "metadata": {},
     "output_type": "execute_result"
    }
   ],
   "source": [
    "b = np.arange(20).reshape(4,5) # 4×5的二维数组\n",
    "b"
   ]
  },
  {
   "cell_type": "code",
   "execution_count": 154,
   "id": "ceb3cc2f-1541-4f72-b51e-b5a59bed0f79",
   "metadata": {},
   "outputs": [
    {
     "data": {
      "text/plain": [
       "array([[ 7,  8],\n",
       "       [12, 13]])"
      ]
     },
     "execution_count": 154,
     "metadata": {},
     "output_type": "execute_result"
    }
   ],
   "source": [
    "b[1:3, 2:4] # 将第1~2行，第2~3列提取出来"
   ]
  },
  {
   "cell_type": "code",
   "execution_count": 155,
   "id": "d481b80e-dc33-4221-a54d-28a1343ff4f8",
   "metadata": {},
   "outputs": [
    {
     "data": {
      "text/plain": [
       "array([[1, 2, 3, 4],\n",
       "       [6, 7, 8, 9]])"
      ]
     },
     "execution_count": 155,
     "metadata": {},
     "output_type": "execute_result"
    }
   ],
   "source": [
    "b[:2, 1:] #  将第0~1行，第1~4列提取出来"
   ]
  },
  {
   "cell_type": "code",
   "execution_count": 156,
   "id": "c68a3a87-2e1a-42a1-ad86-eccce96c1fd4",
   "metadata": {},
   "outputs": [
    {
     "data": {
      "text/plain": [
       "array([[ 0,  1,  2,  3,  4],\n",
       "       [10, 11, 12, 13, 14]])"
      ]
     },
     "execution_count": 156,
     "metadata": {},
     "output_type": "execute_result"
    }
   ],
   "source": [
    "b[::2, :] # 在行方向上每隔一个提取元素"
   ]
  },
  {
   "cell_type": "code",
   "execution_count": 157,
   "id": "07578262-8a37-42a0-9e87-14beb407a6ae",
   "metadata": {},
   "outputs": [
    {
     "data": {
      "text/plain": [
       "array([[ 0,  2,  4],\n",
       "       [ 5,  7,  9],\n",
       "       [10, 12, 14],\n",
       "       [15, 17, 19]])"
      ]
     },
     "execution_count": 157,
     "metadata": {},
     "output_type": "execute_result"
    }
   ],
   "source": [
    "b[:, ::2] # 在列方向上每隔一个提取元素"
   ]
  },
  {
   "cell_type": "code",
   "execution_count": 158,
   "id": "0d3f4cee-2818-4933-945b-78caf4127b36",
   "metadata": {},
   "outputs": [
    {
     "data": {
      "text/plain": [
       "array([[ 4,  3,  2,  1,  0],\n",
       "       [ 9,  8,  7,  6,  5],\n",
       "       [14, 13, 12, 11, 10],\n",
       "       [19, 18, 17, 16, 15]])"
      ]
     },
     "execution_count": 158,
     "metadata": {},
     "output_type": "execute_result"
    }
   ],
   "source": [
    "b[:, ::-1] # 逆順"
   ]
  },
  {
   "cell_type": "code",
   "execution_count": 159,
   "id": "5be94977-9ecb-4e44-9a95-cd9c818f3b2f",
   "metadata": {},
   "outputs": [
    {
     "data": {
      "text/plain": [
       "array([[19, 18, 17, 16, 15],\n",
       "       [14, 13, 12, 11, 10],\n",
       "       [ 9,  8,  7,  6,  5],\n",
       "       [ 4,  3,  2,  1,  0]])"
      ]
     },
     "execution_count": 159,
     "metadata": {},
     "output_type": "execute_result"
    }
   ],
   "source": [
    "b[::-1, ::-1] # 全部颠倒过来"
   ]
  },
  {
   "cell_type": "markdown",
   "id": "a3b99b36-8e49-4891-8881-47711a223171",
   "metadata": {},
   "source": [
    "三维数组"
   ]
  },
  {
   "cell_type": "code",
   "execution_count": 160,
   "id": "e6cbd9ec-f50f-4a24-80e2-aacc238c4e58",
   "metadata": {},
   "outputs": [
    {
     "data": {
      "text/plain": [
       "array([[[0., 0., 0., 0., 0.],\n",
       "        [0., 0., 0., 0., 0.],\n",
       "        [0., 0., 0., 0., 0.],\n",
       "        [0., 0., 0., 0., 0.]],\n",
       "\n",
       "       [[0., 0., 0., 0., 0.],\n",
       "        [0., 0., 0., 0., 0.],\n",
       "        [0., 0., 0., 0., 0.],\n",
       "        [0., 0., 0., 0., 0.]],\n",
       "\n",
       "       [[0., 0., 0., 0., 0.],\n",
       "        [0., 0., 0., 0., 0.],\n",
       "        [0., 0., 0., 0., 0.],\n",
       "        [0., 0., 0., 0., 0.]]])"
      ]
     },
     "execution_count": 160,
     "metadata": {},
     "output_type": "execute_result"
    }
   ],
   "source": [
    "c = np.zeros((3, 4, 5)) #  3×4×5的三维数组\n",
    "c"
   ]
  },
  {
   "cell_type": "code",
   "execution_count": 161,
   "id": "97d35275-d9ab-4554-b051-8d0bc725763a",
   "metadata": {},
   "outputs": [
    {
     "data": {
      "text/plain": [
       "array([[[0., 0., 0., 0., 0.],\n",
       "        [0., 0., 0., 0., 0.],\n",
       "        [0., 0., 0., 0., 0.],\n",
       "        [0., 0., 0., 0., 0.]],\n",
       "\n",
       "       [[0., 0., 0., 0., 0.],\n",
       "        [1., 1., 1., 1., 1.],\n",
       "        [1., 1., 1., 1., 1.],\n",
       "        [1., 1., 1., 1., 1.]],\n",
       "\n",
       "       [[0., 0., 0., 0., 0.],\n",
       "        [1., 1., 1., 1., 1.],\n",
       "        [1., 1., 1., 1., 1.],\n",
       "        [1., 1., 1., 1., 1.]]])"
      ]
     },
     "execution_count": 161,
     "metadata": {},
     "output_type": "execute_result"
    }
   ],
   "source": [
    "c[1:, 1:4, :] = 1\n",
    "c"
   ]
  },
  {
   "cell_type": "code",
   "execution_count": 162,
   "id": "88b6a7cb-ebb0-4af7-a386-2012b6d2d0df",
   "metadata": {},
   "outputs": [],
   "source": [
    "c = np.zeros((3, 4, 5)) # 重置"
   ]
  },
  {
   "cell_type": "code",
   "execution_count": 163,
   "id": "c55a5b2d-deae-4bd8-97f8-845951ead18b",
   "metadata": {},
   "outputs": [
    {
     "data": {
      "text/plain": [
       "array([[[0., 0., 0., 0., 0.],\n",
       "        [0., 0., 0., 1., 1.],\n",
       "        [0., 0., 0., 0., 0.],\n",
       "        [0., 0., 0., 0., 0.]],\n",
       "\n",
       "       [[0., 0., 0., 0., 0.],\n",
       "        [0., 0., 0., 1., 1.],\n",
       "        [0., 0., 0., 0., 0.],\n",
       "        [0., 0., 0., 0., 0.]],\n",
       "\n",
       "       [[0., 0., 0., 0., 0.],\n",
       "        [0., 0., 0., 1., 1.],\n",
       "        [0., 0., 0., 0., 0.],\n",
       "        [0., 0., 0., 0., 0.]]])"
      ]
     },
     "execution_count": 163,
     "metadata": {},
     "output_type": "execute_result"
    }
   ],
   "source": [
    "c[:, 1:2, 3:] = 1\n",
    "c"
   ]
  },
  {
   "cell_type": "code",
   "execution_count": 164,
   "id": "79810dc1-2bff-4482-9921-b013bee7f834",
   "metadata": {},
   "outputs": [],
   "source": [
    "c = np.zeros((3, 4, 5)) # 重置"
   ]
  },
  {
   "cell_type": "code",
   "execution_count": 165,
   "id": "04bf39ea-93ff-4491-8bba-de87e5c0813e",
   "metadata": {},
   "outputs": [
    {
     "data": {
      "text/plain": [
       "array([[[1., 0., 1., 0., 1.],\n",
       "        [1., 0., 1., 0., 1.],\n",
       "        [1., 0., 1., 0., 1.],\n",
       "        [1., 0., 1., 0., 1.]],\n",
       "\n",
       "       [[1., 0., 1., 0., 1.],\n",
       "        [1., 0., 1., 0., 1.],\n",
       "        [1., 0., 1., 0., 1.],\n",
       "        [1., 0., 1., 0., 1.]],\n",
       "\n",
       "       [[1., 0., 1., 0., 1.],\n",
       "        [1., 0., 1., 0., 1.],\n",
       "        [1., 0., 1., 0., 1.],\n",
       "        [1., 0., 1., 0., 1.]]])"
      ]
     },
     "execution_count": 165,
     "metadata": {},
     "output_type": "execute_result"
    }
   ],
   "source": [
    "c[:, :, ::2] = 1 #  每两个一次\n",
    "c"
   ]
  },
  {
   "cell_type": "code",
   "execution_count": 166,
   "id": "b3355f40-c3f8-4d8b-bcae-dde323d74dcb",
   "metadata": {},
   "outputs": [],
   "source": [
    "c = np.zeros((3, 4, 5)) #  重置"
   ]
  },
  {
   "cell_type": "code",
   "execution_count": 167,
   "id": "cc9ba643-7da7-409a-bda0-a1eb738ac765",
   "metadata": {},
   "outputs": [
    {
     "data": {
      "text/plain": [
       "array([[[1., 0., 1., 0., 1.],\n",
       "        [0., 0., 0., 0., 0.],\n",
       "        [1., 0., 1., 0., 1.],\n",
       "        [0., 0., 0., 0., 0.]],\n",
       "\n",
       "       [[0., 0., 0., 0., 0.],\n",
       "        [0., 0., 0., 0., 0.],\n",
       "        [0., 0., 0., 0., 0.],\n",
       "        [0., 0., 0., 0., 0.]],\n",
       "\n",
       "       [[1., 0., 1., 0., 1.],\n",
       "        [0., 0., 0., 0., 0.],\n",
       "        [1., 0., 1., 0., 1.],\n",
       "        [0., 0., 0., 0., 0.]]])"
      ]
     },
     "execution_count": 167,
     "metadata": {},
     "output_type": "execute_result"
    }
   ],
   "source": [
    "c[::2, ::2, ::2] = 1\n",
    "c"
   ]
  },
  {
   "cell_type": "markdown",
   "id": "f19b184c-aadd-4ede-a204-a319da96a6f2",
   "metadata": {},
   "source": [
    "## 1.5 关于坐标轴和维度"
   ]
  },
  {
   "cell_type": "markdown",
   "id": "ac4d4010-0b96-40bf-af47-f7e0193a6ab2",
   "metadata": {},
   "source": [
    "### 1.5.1 ndarray的维度"
   ]
  },
  {
   "cell_type": "code",
   "execution_count": 168,
   "id": "cd02fd6c-6f5d-41ff-b82f-8954f000e175",
   "metadata": {},
   "outputs": [],
   "source": [
    "import numpy as np"
   ]
  },
  {
   "cell_type": "code",
   "execution_count": 169,
   "id": "db24408c-1a71-4f29-9d52-19b214b8c823",
   "metadata": {},
   "outputs": [
    {
     "data": {
      "text/plain": [
       "array([[1, 2, 3],\n",
       "       [4, 5, 6]])"
      ]
     },
     "execution_count": 169,
     "metadata": {},
     "output_type": "execute_result"
    }
   ],
   "source": [
    "a = np.array([[1, 2, 3], [4, 5, 6]])\n",
    "a"
   ]
  },
  {
   "cell_type": "code",
   "execution_count": 170,
   "id": "4d291c08-4dfd-44d1-bfd0-0b8c58e16413",
   "metadata": {},
   "outputs": [
    {
     "data": {
      "text/plain": [
       "(2, 3)"
      ]
     },
     "execution_count": 170,
     "metadata": {},
     "output_type": "execute_result"
    }
   ],
   "source": [
    "a.shape"
   ]
  },
  {
   "cell_type": "code",
   "execution_count": 171,
   "id": "2d52e96e-19aa-4f7b-8095-69d345d91ccc",
   "metadata": {},
   "outputs": [
    {
     "data": {
      "text/plain": [
       "2"
      ]
     },
     "execution_count": 171,
     "metadata": {},
     "output_type": "execute_result"
    }
   ],
   "source": [
    "a.ndim"
   ]
  },
  {
   "cell_type": "markdown",
   "id": "7f7ad7e9-a85a-44c7-80a1-e746e6cd501c",
   "metadata": {},
   "source": [
    "### 1.5.2 关于坐标系"
   ]
  },
  {
   "cell_type": "code",
   "execution_count": 172,
   "id": "a597bc08-1958-42d2-96de-24e9cc7e85a6",
   "metadata": {},
   "outputs": [
    {
     "data": {
      "text/plain": [
       "array([[0, 1],\n",
       "       [2, 3],\n",
       "       [4, 5]])"
      ]
     },
     "execution_count": 172,
     "metadata": {},
     "output_type": "execute_result"
    }
   ],
   "source": [
    "a = np.arange(6).reshape((3, 2))\n",
    "a"
   ]
  },
  {
   "cell_type": "code",
   "execution_count": 173,
   "id": "80d85123-37a1-4bf2-a5c8-d14431fd69cd",
   "metadata": {},
   "outputs": [
    {
     "data": {
      "text/plain": [
       "(3, 2)"
      ]
     },
     "execution_count": 173,
     "metadata": {},
     "output_type": "execute_result"
    }
   ],
   "source": [
    "a.shape"
   ]
  },
  {
   "cell_type": "code",
   "execution_count": 174,
   "id": "bb180906-3e8e-4b76-97ad-97c10f5a22ef",
   "metadata": {},
   "outputs": [
    {
     "data": {
      "text/plain": [
       "array([[[0, 1],\n",
       "        [2, 3],\n",
       "        [4, 5]],\n",
       "\n",
       "       [[0, 1],\n",
       "        [2, 3],\n",
       "        [4, 5]]])"
      ]
     },
     "execution_count": 174,
     "metadata": {},
     "output_type": "execute_result"
    }
   ],
   "source": [
    "b = np.array([a, a])\n",
    "b"
   ]
  },
  {
   "cell_type": "code",
   "execution_count": 175,
   "id": "90b3ca82-f2a8-4fbb-bf3f-9c9e7020ca3c",
   "metadata": {},
   "outputs": [
    {
     "data": {
      "text/plain": [
       "(2, 3, 2)"
      ]
     },
     "execution_count": 175,
     "metadata": {},
     "output_type": "execute_result"
    }
   ],
   "source": [
    "b.shape"
   ]
  },
  {
   "cell_type": "markdown",
   "id": "3963e67b-9e86-4997-8c64-a6755753f6c3",
   "metadata": {},
   "source": [
    "### 1.5.3 作为函数参数的axis"
   ]
  },
  {
   "cell_type": "code",
   "execution_count": 176,
   "id": "194600af-ce61-4c59-8ed3-3cee5192e831",
   "metadata": {},
   "outputs": [
    {
     "data": {
      "text/plain": [
       "array([[ 0,  2],\n",
       "       [ 4,  6],\n",
       "       [ 8, 10]])"
      ]
     },
     "execution_count": 176,
     "metadata": {},
     "output_type": "execute_result"
    }
   ],
   "source": [
    "b.sum(axis=0)"
   ]
  },
  {
   "cell_type": "code",
   "execution_count": 177,
   "id": "15ebb61d-45aa-4f36-b646-13179b172f62",
   "metadata": {},
   "outputs": [
    {
     "data": {
      "text/plain": [
       "(3, 2)"
      ]
     },
     "execution_count": 177,
     "metadata": {},
     "output_type": "execute_result"
    }
   ],
   "source": [
    "b.sum(axis=0).shape"
   ]
  },
  {
   "cell_type": "code",
   "execution_count": 178,
   "id": "8d4fc32c-5844-4e85-a156-526e1f1bfc43",
   "metadata": {},
   "outputs": [
    {
     "data": {
      "text/plain": [
       "array([[6, 9],\n",
       "       [6, 9]])"
      ]
     },
     "execution_count": 178,
     "metadata": {},
     "output_type": "execute_result"
    }
   ],
   "source": [
    "b.sum(axis=1)"
   ]
  },
  {
   "cell_type": "code",
   "execution_count": 179,
   "id": "69110bac-9975-41c7-aa9f-f29325d2e69e",
   "metadata": {},
   "outputs": [
    {
     "data": {
      "text/plain": [
       "(2, 2)"
      ]
     },
     "execution_count": 179,
     "metadata": {},
     "output_type": "execute_result"
    }
   ],
   "source": [
    "b.sum(axis=1).shape"
   ]
  },
  {
   "cell_type": "code",
   "execution_count": 180,
   "id": "4fd6fc33-951d-455d-a168-276d20536538",
   "metadata": {},
   "outputs": [
    {
     "data": {
      "text/plain": [
       "array([[1, 5, 9],\n",
       "       [1, 5, 9]])"
      ]
     },
     "execution_count": 180,
     "metadata": {},
     "output_type": "execute_result"
    }
   ],
   "source": [
    "b.sum(axis=2)"
   ]
  },
  {
   "cell_type": "code",
   "execution_count": 181,
   "id": "8b33ad7f-d2b3-4a31-8fde-dfac75c59dd5",
   "metadata": {},
   "outputs": [
    {
     "data": {
      "text/plain": [
       "(2, 3)"
      ]
     },
     "execution_count": 181,
     "metadata": {},
     "output_type": "execute_result"
    }
   ],
   "source": [
    "b.sum(axis=2).shape"
   ]
  },
  {
   "cell_type": "markdown",
   "id": "120dc86c-0aae-4026-a6f2-63c09ea8df0f",
   "metadata": {},
   "source": [
    "## 1.6 ndarray的shape属性"
   ]
  },
  {
   "cell_type": "code",
   "execution_count": 182,
   "id": "706160bf-758b-4a2f-9b14-302c104344f4",
   "metadata": {},
   "outputs": [],
   "source": [
    "import numpy as np"
   ]
  },
  {
   "cell_type": "code",
   "execution_count": 183,
   "id": "f6585393-002c-4f15-9e64-5b536f8658f0",
   "metadata": {},
   "outputs": [
    {
     "data": {
      "text/plain": [
       "array([5, 3, 8, 9])"
      ]
     },
     "execution_count": 183,
     "metadata": {},
     "output_type": "execute_result"
    }
   ],
   "source": [
    "a = np.array([5, 3, 8, 9])\n",
    "a"
   ]
  },
  {
   "cell_type": "code",
   "execution_count": 184,
   "id": "aea03940-5ac2-4fe3-93e5-d398da44451b",
   "metadata": {},
   "outputs": [
    {
     "data": {
      "text/plain": [
       "(4,)"
      ]
     },
     "execution_count": 184,
     "metadata": {},
     "output_type": "execute_result"
    }
   ],
   "source": [
    "a.shape"
   ]
  },
  {
   "cell_type": "code",
   "execution_count": 185,
   "id": "5e5fccf6-67fa-45f8-a4a6-9ed5e80ea375",
   "metadata": {},
   "outputs": [],
   "source": [
    "a = np.array([5, 3, 8, 9])"
   ]
  },
  {
   "cell_type": "code",
   "execution_count": 186,
   "id": "61286743-0e79-4fc6-bc44-99652f6ee57c",
   "metadata": {},
   "outputs": [
    {
     "data": {
      "text/plain": [
       "array([[5, 3],\n",
       "       [8, 9]])"
      ]
     },
     "execution_count": 186,
     "metadata": {},
     "output_type": "execute_result"
    }
   ],
   "source": [
    "b = a.reshape((2, 2))\n",
    "b"
   ]
  },
  {
   "cell_type": "code",
   "execution_count": 187,
   "id": "0b30f988-2f01-4984-bfb1-0de3f9571d81",
   "metadata": {},
   "outputs": [
    {
     "data": {
      "text/plain": [
       "(2, 2)"
      ]
     },
     "execution_count": 187,
     "metadata": {},
     "output_type": "execute_result"
    }
   ],
   "source": [
    "b.shape"
   ]
  },
  {
   "cell_type": "code",
   "execution_count": 188,
   "id": "bf48c44c-279e-4bd1-bee5-95d5c6426d2d",
   "metadata": {},
   "outputs": [
    {
     "data": {
      "text/plain": [
       "array([5, 3, 8, 9])"
      ]
     },
     "execution_count": 188,
     "metadata": {},
     "output_type": "execute_result"
    }
   ],
   "source": [
    "a"
   ]
  },
  {
   "cell_type": "code",
   "execution_count": 189,
   "id": "ae13f372-e32f-46a9-87c7-b531d4835504",
   "metadata": {},
   "outputs": [
    {
     "data": {
      "text/plain": [
       "(4,)"
      ]
     },
     "execution_count": 189,
     "metadata": {},
     "output_type": "execute_result"
    }
   ],
   "source": [
    "a.shape"
   ]
  },
  {
   "cell_type": "code",
   "execution_count": 190,
   "id": "df051aa0-3d8f-4a3b-b26f-95c0518b547b",
   "metadata": {},
   "outputs": [],
   "source": [
    "a.shape = (4, 1)"
   ]
  },
  {
   "cell_type": "code",
   "execution_count": 191,
   "id": "981f001f-b46b-498e-9f98-c97db2b29658",
   "metadata": {},
   "outputs": [
    {
     "data": {
      "text/plain": [
       "array([[5],\n",
       "       [3],\n",
       "       [8],\n",
       "       [9]])"
      ]
     },
     "execution_count": 191,
     "metadata": {},
     "output_type": "execute_result"
    }
   ],
   "source": [
    "a"
   ]
  },
  {
   "cell_type": "code",
   "execution_count": 192,
   "id": "66ae81fb-1164-4510-8614-7021e835720a",
   "metadata": {},
   "outputs": [
    {
     "data": {
      "text/plain": [
       "array([[ 0,  1,  2,  3],\n",
       "       [ 4,  5,  6,  7],\n",
       "       [ 8,  9, 10, 11]])"
      ]
     },
     "execution_count": 192,
     "metadata": {},
     "output_type": "execute_result"
    }
   ],
   "source": [
    "c = np.arange(12).reshape((3, 4))\n",
    "c"
   ]
  },
  {
   "cell_type": "code",
   "execution_count": 193,
   "id": "8dae9eef-44fd-4436-8939-74d0692034a0",
   "metadata": {},
   "outputs": [
    {
     "data": {
      "text/plain": [
       "array([[ 0,  1,  2,  3,  4,  5,  6,  7,  8,  9, 10, 11]])"
      ]
     },
     "execution_count": 193,
     "metadata": {},
     "output_type": "execute_result"
    }
   ],
   "source": [
    "c.shape=(1, 12)\n",
    "c"
   ]
  },
  {
   "cell_type": "code",
   "execution_count": 194,
   "id": "4540e352-31f9-401e-bbef-fea1a0bcd693",
   "metadata": {},
   "outputs": [],
   "source": [
    "# c.shape = (13,) # 如果元素数量不正确，则会返回错误"
   ]
  },
  {
   "cell_type": "code",
   "execution_count": 195,
   "id": "437fc31e-a0cf-4710-bd8e-d3d7dae65267",
   "metadata": {},
   "outputs": [],
   "source": [
    "a = np.array([1, 2, 3, 4, 5]) #  简单的一维数组"
   ]
  },
  {
   "cell_type": "code",
   "execution_count": 196,
   "id": "ecd89eba-f837-4331-afd0-a4e58077a487",
   "metadata": {},
   "outputs": [
    {
     "data": {
      "text/plain": [
       "(5,)"
      ]
     },
     "execution_count": 196,
     "metadata": {},
     "output_type": "execute_result"
    }
   ],
   "source": [
    "a.shape"
   ]
  },
  {
   "cell_type": "code",
   "execution_count": 197,
   "id": "3fb7113d-d376-4d05-948e-2c2a402c36a6",
   "metadata": {},
   "outputs": [],
   "source": [
    "b = np.array([[1], [2], [3], [4], [5]]) # 如果转换为纵向量其shape就变为(R,1)"
   ]
  },
  {
   "cell_type": "code",
   "execution_count": 198,
   "id": "82df73fe-045d-4473-87f8-b6d7541c3fea",
   "metadata": {},
   "outputs": [
    {
     "data": {
      "text/plain": [
       "(5, 1)"
      ]
     },
     "execution_count": 198,
     "metadata": {},
     "output_type": "execute_result"
    }
   ],
   "source": [
    "b.shape"
   ]
  },
  {
   "cell_type": "markdown",
   "id": "fc5c2f56-38f2-4b89-90b4-452d545e47a8",
   "metadata": {},
   "source": [
    "## 1.7 元素数据类型的种类与指定方法"
   ]
  },
  {
   "cell_type": "markdown",
   "id": "afa7ce96-5a6a-4a72-81a2-d1c8a64cd3ce",
   "metadata": {},
   "source": [
    "### 1.7.1 需要dtype的理由"
   ]
  },
  {
   "cell_type": "markdown",
   "id": "78d24aa6-7b88-47c3-906f-86cf3f511cb2",
   "metadata": {},
   "source": [
    "### 1.7.2 数据类型"
   ]
  },
  {
   "cell_type": "code",
   "execution_count": 199,
   "id": "573f1295-5664-4fb0-bba2-841518a0bf21",
   "metadata": {},
   "outputs": [],
   "source": [
    "import numpy as np"
   ]
  },
  {
   "cell_type": "code",
   "execution_count": 200,
   "id": "1d7a99fd-74fb-464d-9be9-f4ae900f27c9",
   "metadata": {},
   "outputs": [
    {
     "data": {
      "text/plain": [
       "array([0, 1, 2])"
      ]
     },
     "execution_count": 200,
     "metadata": {},
     "output_type": "execute_result"
    }
   ],
   "source": [
    "a = np.array([0, 1, 2]) # 首先在什么都不指定的情况下生成数组\n",
    "a"
   ]
  },
  {
   "cell_type": "code",
   "execution_count": 201,
   "id": "61bf4882-1dfe-415a-b97b-bad5db9cc1fa",
   "metadata": {},
   "outputs": [
    {
     "data": {
      "text/plain": [
       "dtype('int32')"
      ]
     },
     "execution_count": 201,
     "metadata": {},
     "output_type": "execute_result"
    }
   ],
   "source": [
    "a.dtype #首先在什么都不指定的情况下生成数组"
   ]
  },
  {
   "cell_type": "code",
   "execution_count": 202,
   "id": "18fc9b69-4090-4656-b4e0-aa71fb210593",
   "metadata": {},
   "outputs": [
    {
     "data": {
      "text/plain": [
       "array([0, 1, 2])"
      ]
     },
     "execution_count": 202,
     "metadata": {},
     "output_type": "execute_result"
    }
   ],
   "source": [
    "b = np.array([0, 1, 2], dtype='int32') # 尝试减少位数\n",
    "b"
   ]
  },
  {
   "cell_type": "code",
   "execution_count": 203,
   "id": "063b0739-e1a8-411b-a43b-c2903eb8b968",
   "metadata": {},
   "outputs": [
    {
     "data": {
      "text/plain": [
       "dtype('int32')"
      ]
     },
     "execution_count": 203,
     "metadata": {},
     "output_type": "execute_result"
    }
   ],
   "source": [
    "b.dtype"
   ]
  },
  {
   "cell_type": "code",
   "execution_count": 204,
   "id": "0505cbe2-f813-4476-a88c-ab32304addbf",
   "metadata": {},
   "outputs": [
    {
     "data": {
      "text/plain": [
       "array([0., 1., 2.])"
      ]
     },
     "execution_count": 204,
     "metadata": {},
     "output_type": "execute_result"
    }
   ],
   "source": [
    "c = np.array([0, 1, 2], dtype='float') # float和int的默认位数是64\n",
    "c"
   ]
  },
  {
   "cell_type": "code",
   "execution_count": 205,
   "id": "e2c148eb-7c32-4a20-8383-f5d168c79c17",
   "metadata": {},
   "outputs": [],
   "source": [
    "# d = np.array([3e50, 4e35], dtype='int64') #  如果位数太大，无法使用'int'表示时会产生溢出错误"
   ]
  },
  {
   "cell_type": "code",
   "execution_count": 206,
   "id": "c7845611-d421-43b3-a7eb-7dd7d6567411",
   "metadata": {},
   "outputs": [],
   "source": [
    "d = np.array([3e50, 4e35], dtype='float64') #  如果改成float，就可以成功地生成数组"
   ]
  },
  {
   "cell_type": "code",
   "execution_count": 207,
   "id": "0f7ac87b-50b7-4d38-bff6-19d1b8e371cf",
   "metadata": {},
   "outputs": [
    {
     "data": {
      "text/plain": [
       "array([ 3,  4, -4])"
      ]
     },
     "execution_count": 207,
     "metadata": {},
     "output_type": "execute_result"
    }
   ],
   "source": [
    "e = np.array([3.5, 4.2, -4.3], dtype='int') # 即使是使用小数表示的数组，如果数据类型被设置为int，则只有整数部分被保留\n",
    "e"
   ]
  },
  {
   "cell_type": "code",
   "execution_count": 208,
   "id": "8fab412e-b221-4df0-99a7-1e913a10ed2a",
   "metadata": {},
   "outputs": [
    {
     "data": {
      "text/plain": [
       "array([False,  True, False,  True])"
      ]
     },
     "execution_count": 208,
     "metadata": {},
     "output_type": "execute_result"
    }
   ],
   "source": [
    "f = np.array([0, 3, 0, -1], dtype = 'bool') #将0转换为False，如果不是0，则转换为True\n",
    "f"
   ]
  },
  {
   "cell_type": "code",
   "execution_count": 209,
   "id": "1e4ec945-5eea-491d-9ad2-490c2e3eb2f5",
   "metadata": {},
   "outputs": [
    {
     "data": {
      "text/plain": [
       "array([0, 1, 2], dtype=int64)"
      ]
     },
     "execution_count": 209,
     "metadata": {},
     "output_type": "execute_result"
    }
   ],
   "source": [
    "g = np.array([0., 1., 2.], dtype='int64')\n",
    "g"
   ]
  },
  {
   "cell_type": "code",
   "execution_count": 210,
   "id": "eec35353-89da-466e-9cd3-bd93cb735d2b",
   "metadata": {},
   "outputs": [
    {
     "data": {
      "text/plain": [
       "array([0, 0, 1, 0, 2, 0])"
      ]
     },
     "execution_count": 210,
     "metadata": {},
     "output_type": "execute_result"
    }
   ],
   "source": [
    "g.dtype = 'int32' # 将数据类型转换为int32\n",
    "g"
   ]
  },
  {
   "cell_type": "code",
   "execution_count": 211,
   "id": "25a3f2d9-7728-43e9-8a8d-ebce70e3a73d",
   "metadata": {},
   "outputs": [
    {
     "data": {
      "text/plain": [
       "array([0.e+000, 5.e-324, 1.e-323])"
      ]
     },
     "execution_count": 211,
     "metadata": {},
     "output_type": "execute_result"
    }
   ],
   "source": [
    "g.dtype = 'float64' #将数据类型转换为float64\n",
    "g"
   ]
  },
  {
   "cell_type": "code",
   "execution_count": 212,
   "id": "12fe99cb-4b63-4e2c-94f4-78e2d56578bd",
   "metadata": {},
   "outputs": [
    {
     "data": {
      "text/plain": [
       "array([0.e+00, 0.e+00, 1.e-45, 0.e+00, 3.e-45, 0.e+00], dtype=float32)"
      ]
     },
     "execution_count": 212,
     "metadata": {},
     "output_type": "execute_result"
    }
   ],
   "source": [
    "g.dtype = 'float32' # 将位数转换为32\n",
    "g"
   ]
  },
  {
   "cell_type": "code",
   "execution_count": 213,
   "id": "1525ace2-909b-4eb6-8106-3db2a9f263c5",
   "metadata": {},
   "outputs": [
    {
     "data": {
      "text/plain": [
       "array([0, 1, 2], dtype=int64)"
      ]
     },
     "execution_count": 213,
     "metadata": {},
     "output_type": "execute_result"
    }
   ],
   "source": [
    "g.dtype = 'int64' #  将数据类型恢复为原有类型，则数据的值也会恢复\n",
    "g"
   ]
  },
  {
   "cell_type": "code",
   "execution_count": 214,
   "id": "7385fca4-d377-4bc5-a43b-432c4ba5d310",
   "metadata": {},
   "outputs": [],
   "source": [
    "h = np.random.randint(10, size=100, dtype='int8') # 生成100个0~9的整数。数据类型是'int8'"
   ]
  },
  {
   "cell_type": "code",
   "execution_count": 215,
   "id": "95fff6cc-abb7-4576-8a67-28cdc187bf39",
   "metadata": {},
   "outputs": [],
   "source": [
    "i = np.random.randint(10, size=100, dtype='int64') #  将位数设置为64"
   ]
  },
  {
   "cell_type": "code",
   "execution_count": 216,
   "id": "d064d5e1-bf71-4966-8db4-a39ca83e4f68",
   "metadata": {},
   "outputs": [
    {
     "data": {
      "text/plain": [
       "100"
      ]
     },
     "execution_count": 216,
     "metadata": {},
     "output_type": "execute_result"
    }
   ],
   "source": [
    "h.nbytes # 确认字节数"
   ]
  },
  {
   "cell_type": "code",
   "execution_count": 217,
   "id": "5dbca6f2-eaff-4607-9415-c4958065338f",
   "metadata": {},
   "outputs": [
    {
     "data": {
      "text/plain": [
       "800"
      ]
     },
     "execution_count": 217,
     "metadata": {},
     "output_type": "execute_result"
    }
   ],
   "source": [
    "i.nbytes #  变为h的8倍"
   ]
  },
  {
   "cell_type": "markdown",
   "id": "d0c78b95-0cb0-47fd-a61b-4a9e8cca6edb",
   "metadata": {},
   "source": [
    "## 1.8 副本和试图的区别"
   ]
  },
  {
   "cell_type": "markdown",
   "id": "b990daf1-3b83-4d6c-bf57-7f85e1f326d2",
   "metadata": {},
   "source": [
    "### 1.8.1 副本和视图"
   ]
  },
  {
   "cell_type": "code",
   "execution_count": 218,
   "id": "50437c69-f03f-4530-b53c-3e3ffb455a6d",
   "metadata": {},
   "outputs": [],
   "source": [
    "a = np.array([1, 2, 3])"
   ]
  },
  {
   "cell_type": "code",
   "execution_count": 219,
   "id": "6b6fab71-32cd-415c-88eb-969a1af9fb8f",
   "metadata": {},
   "outputs": [],
   "source": [
    "d = a.view() #创建视图"
   ]
  },
  {
   "cell_type": "code",
   "execution_count": 220,
   "id": "067809cb-23ae-4148-a7fe-1e673d3f1750",
   "metadata": {},
   "outputs": [
    {
     "data": {
      "text/plain": [
       "array([100,   2,   3])"
      ]
     },
     "execution_count": 220,
     "metadata": {},
     "output_type": "execute_result"
    }
   ],
   "source": [
    "d[0] = 100 # 改变视图中的一个值\n",
    "d"
   ]
  },
  {
   "cell_type": "code",
   "execution_count": 221,
   "id": "b51e4c57-c0ce-488b-9c17-394d2e0e1cc9",
   "metadata": {},
   "outputs": [
    {
     "data": {
      "text/plain": [
       "array([100,   2,   3])"
      ]
     },
     "execution_count": 221,
     "metadata": {},
     "output_type": "execute_result"
    }
   ],
   "source": [
    "a # 原有数组a中的数据也被改变了"
   ]
  },
  {
   "cell_type": "code",
   "execution_count": 222,
   "id": "af260c57-2ff2-4fda-8e81-525bb5fa02ec",
   "metadata": {},
   "outputs": [
    {
     "data": {
      "text/plain": [
       "array([100,   2,   3])"
      ]
     },
     "execution_count": 222,
     "metadata": {},
     "output_type": "execute_result"
    }
   ],
   "source": [
    "c = a.copy()\n",
    "c"
   ]
  },
  {
   "cell_type": "code",
   "execution_count": 223,
   "id": "4c655752-f12f-489b-81c1-91bdebfd9c52",
   "metadata": {},
   "outputs": [
    {
     "data": {
      "text/plain": [
       "array([100,  25,   3])"
      ]
     },
     "execution_count": 223,
     "metadata": {},
     "output_type": "execute_result"
    }
   ],
   "source": [
    "c[1] = 25\n",
    "c"
   ]
  },
  {
   "cell_type": "code",
   "execution_count": 224,
   "id": "dde82ab0-b888-4c14-b246-df72408d5019",
   "metadata": {},
   "outputs": [
    {
     "data": {
      "text/plain": [
       "array([100,   2,   3])"
      ]
     },
     "execution_count": 224,
     "metadata": {},
     "output_type": "execute_result"
    }
   ],
   "source": [
    "a"
   ]
  },
  {
   "cell_type": "markdown",
   "id": "5ec7d969-8fc1-486e-8926-72d6671e9327",
   "metadata": {},
   "source": [
    "### 1.8.2 不同操作方式的区别"
   ]
  },
  {
   "cell_type": "markdown",
   "id": "0534f9fa-8b24-4f9a-af66-750504d7cb97",
   "metadata": {},
   "source": [
    "带入"
   ]
  },
  {
   "cell_type": "code",
   "execution_count": 225,
   "id": "c50e3424-ea3e-43ae-8fdf-f37975353091",
   "metadata": {},
   "outputs": [],
   "source": [
    "a = np.array([1, 2, 3])"
   ]
  },
  {
   "cell_type": "code",
   "execution_count": 226,
   "id": "8066712a-8635-4db7-8c11-d05be4c4b6d3",
   "metadata": {},
   "outputs": [],
   "source": [
    "b = a # 将a代入b中"
   ]
  },
  {
   "cell_type": "code",
   "execution_count": 227,
   "id": "5de85cb5-020f-4cc0-99fe-8a79eeb5adf9",
   "metadata": {},
   "outputs": [
    {
     "data": {
      "text/plain": [
       "True"
      ]
     },
     "execution_count": 227,
     "metadata": {},
     "output_type": "execute_result"
    }
   ],
   "source": [
    "id(a) == id(b) # 确认引用的内存地址是否相同"
   ]
  },
  {
   "cell_type": "code",
   "execution_count": 228,
   "id": "eef95cce-73a0-4c80-8af8-ad4ed2b99cb9",
   "metadata": {},
   "outputs": [],
   "source": [
    "a = np.array([1, 2, 3])"
   ]
  },
  {
   "cell_type": "code",
   "execution_count": 229,
   "id": "dbc8925c-c3eb-4504-b98c-c3575cc60949",
   "metadata": {},
   "outputs": [],
   "source": [
    "c = a[:] #  换一种语法"
   ]
  },
  {
   "cell_type": "code",
   "execution_count": 230,
   "id": "eb5ffbcc-1eb6-42bb-974f-ce455d2da521",
   "metadata": {},
   "outputs": [
    {
     "data": {
      "text/plain": [
       "False"
      ]
     },
     "execution_count": 230,
     "metadata": {},
     "output_type": "execute_result"
    }
   ],
   "source": [
    "id(a) == id(c) #可以看出引用的是不同的对象"
   ]
  },
  {
   "cell_type": "code",
   "execution_count": 231,
   "id": "20eecf6d-fa0b-4aed-8cad-879e13b1dc71",
   "metadata": {},
   "outputs": [],
   "source": [
    "c[1] = 22 # 修改c的一部分"
   ]
  },
  {
   "cell_type": "code",
   "execution_count": 232,
   "id": "fdc892d6-b202-4928-8980-4d2e630985e3",
   "metadata": {},
   "outputs": [
    {
     "data": {
      "text/plain": [
       "array([ 1, 22,  3])"
      ]
     },
     "execution_count": 232,
     "metadata": {},
     "output_type": "execute_result"
    }
   ],
   "source": [
    "a # 对c做的修改也在a中被反映了出来"
   ]
  },
  {
   "cell_type": "code",
   "execution_count": 233,
   "id": "16cbe5b0-1248-4c71-922f-4643cf6d6975",
   "metadata": {},
   "outputs": [],
   "source": [
    "d = a[:1]"
   ]
  },
  {
   "cell_type": "code",
   "execution_count": 234,
   "id": "ed9c3381-f41d-4e45-8510-092d26569cde",
   "metadata": {},
   "outputs": [
    {
     "data": {
      "text/plain": [
       "False"
      ]
     },
     "execution_count": 234,
     "metadata": {},
     "output_type": "execute_result"
    }
   ],
   "source": [
    "id(d) == id(a)"
   ]
  },
  {
   "cell_type": "code",
   "execution_count": 235,
   "id": "efdc5fd1-bc84-4ffe-86ef-ab56a9a80fdf",
   "metadata": {},
   "outputs": [],
   "source": [
    "d[0] = 11"
   ]
  },
  {
   "cell_type": "code",
   "execution_count": 236,
   "id": "b1ae7510-709b-4abc-8294-51330695b5fb",
   "metadata": {},
   "outputs": [
    {
     "data": {
      "text/plain": [
       "array([11, 22,  3])"
      ]
     },
     "execution_count": 236,
     "metadata": {},
     "output_type": "execute_result"
    }
   ],
   "source": [
    "a"
   ]
  },
  {
   "cell_type": "code",
   "execution_count": 237,
   "id": "36b863e2-f1b6-4c62-abe2-acf1709625db",
   "metadata": {},
   "outputs": [
    {
     "data": {
      "text/plain": [
       "array([11])"
      ]
     },
     "execution_count": 237,
     "metadata": {},
     "output_type": "execute_result"
    }
   ],
   "source": [
    "d"
   ]
  },
  {
   "cell_type": "code",
   "execution_count": 238,
   "id": "6876c4ef-598c-48f6-8181-51f81ac1064a",
   "metadata": {},
   "outputs": [],
   "source": [
    "e = a.copy() #代入a的副本"
   ]
  },
  {
   "cell_type": "code",
   "execution_count": 239,
   "id": "df01b5c1-00d1-4b56-9cb1-9cde7683f87d",
   "metadata": {},
   "outputs": [
    {
     "data": {
      "text/plain": [
       "False"
      ]
     },
     "execution_count": 239,
     "metadata": {},
     "output_type": "execute_result"
    }
   ],
   "source": [
    "e.base is a"
   ]
  },
  {
   "cell_type": "code",
   "execution_count": 240,
   "id": "1a7dbc05-e915-497a-b8be-0f2de93e8642",
   "metadata": {},
   "outputs": [],
   "source": [
    "e[2] = 234"
   ]
  },
  {
   "cell_type": "code",
   "execution_count": 241,
   "id": "e34d65a9-40c9-469f-a005-584b7dfa9e20",
   "metadata": {},
   "outputs": [
    {
     "data": {
      "text/plain": [
       "array([ 11,  22, 234])"
      ]
     },
     "execution_count": 241,
     "metadata": {},
     "output_type": "execute_result"
    }
   ],
   "source": [
    "e"
   ]
  },
  {
   "cell_type": "code",
   "execution_count": 242,
   "id": "af7e11ad-db99-4d37-bfcb-392a13ae01ac",
   "metadata": {},
   "outputs": [
    {
     "data": {
      "text/plain": [
       "array([11, 22,  3])"
      ]
     },
     "execution_count": 242,
     "metadata": {},
     "output_type": "execute_result"
    }
   ],
   "source": [
    "a"
   ]
  },
  {
   "cell_type": "code",
   "execution_count": 243,
   "id": "43b6ccd8-04b3-4020-bcef-0579f75ac13d",
   "metadata": {},
   "outputs": [
    {
     "name": "stdout",
     "output_type": "stream",
     "text": [
      "None\n"
     ]
    }
   ],
   "source": [
    "print(a.base)"
   ]
  },
  {
   "cell_type": "code",
   "execution_count": 244,
   "id": "0b733d8b-f9b8-4208-aa34-43dade3c6f08",
   "metadata": {},
   "outputs": [],
   "source": [
    "f = a.copy()"
   ]
  },
  {
   "cell_type": "code",
   "execution_count": 245,
   "id": "9ac175d4-de37-4e81-8e36-f8e760962773",
   "metadata": {},
   "outputs": [
    {
     "data": {
      "text/plain": [
       "False"
      ]
     },
     "execution_count": 245,
     "metadata": {},
     "output_type": "execute_result"
    }
   ],
   "source": [
    "f.base is a"
   ]
  },
  {
   "cell_type": "markdown",
   "id": "ebf9f607-e5e3-4b29-9870-62db15bda1b5",
   "metadata": {},
   "source": [
    "运算"
   ]
  },
  {
   "cell_type": "code",
   "execution_count": 246,
   "id": "d161c2a8-f004-490d-ba73-7d0b02520e30",
   "metadata": {},
   "outputs": [],
   "source": [
    "a = np.array([1, 2, 3])"
   ]
  },
  {
   "cell_type": "code",
   "execution_count": 247,
   "id": "a7377d09-7a9c-4848-8a2b-4adc0cde27ed",
   "metadata": {},
   "outputs": [],
   "source": [
    "c = a # 创建作为视图的变量c"
   ]
  },
  {
   "cell_type": "code",
   "execution_count": 248,
   "id": "d45fc60b-a643-47af-ab0a-dfc3d80f177c",
   "metadata": {},
   "outputs": [],
   "source": [
    "a = a + 1 #加1"
   ]
  },
  {
   "cell_type": "code",
   "execution_count": 249,
   "id": "59c76f30-e640-49cf-b49c-ee7b100bc38c",
   "metadata": {},
   "outputs": [
    {
     "data": {
      "text/plain": [
       "array([1, 2, 3])"
      ]
     },
     "execution_count": 249,
     "metadata": {},
     "output_type": "execute_result"
    }
   ],
   "source": [
    "c # 加法运算没有被反映到c中"
   ]
  },
  {
   "cell_type": "code",
   "execution_count": 250,
   "id": "07e7ae43-4061-428a-88a4-9611b1ee4870",
   "metadata": {},
   "outputs": [
    {
     "data": {
      "text/plain": [
       "array([2, 3, 4])"
      ]
     },
     "execution_count": 250,
     "metadata": {},
     "output_type": "execute_result"
    }
   ],
   "source": [
    "a"
   ]
  },
  {
   "cell_type": "code",
   "execution_count": 251,
   "id": "ac654fe3-d735-4937-bf0c-53c4969f5861",
   "metadata": {},
   "outputs": [],
   "source": [
    "a = np.array([1, 2, 3])"
   ]
  },
  {
   "cell_type": "code",
   "execution_count": 252,
   "id": "0683fcb7-ba65-4b96-a339-85559670f712",
   "metadata": {},
   "outputs": [],
   "source": [
    "c = a"
   ]
  },
  {
   "cell_type": "code",
   "execution_count": 253,
   "id": "c1c15c07-5fc1-4b65-bd31-18fb8f03ace2",
   "metadata": {},
   "outputs": [],
   "source": [
    "a += 1"
   ]
  },
  {
   "cell_type": "code",
   "execution_count": 254,
   "id": "c3f18b5c-669b-4801-a252-2a6639b8487d",
   "metadata": {},
   "outputs": [
    {
     "data": {
      "text/plain": [
       "array([2, 3, 4])"
      ]
     },
     "execution_count": 254,
     "metadata": {},
     "output_type": "execute_result"
    }
   ],
   "source": [
    "c"
   ]
  },
  {
   "cell_type": "code",
   "execution_count": 255,
   "id": "a5200692-151d-4c1b-9b12-9c06da58cdf5",
   "metadata": {},
   "outputs": [
    {
     "data": {
      "text/plain": [
       "array([2, 3, 4])"
      ]
     },
     "execution_count": 255,
     "metadata": {},
     "output_type": "execute_result"
    }
   ],
   "source": [
    "a"
   ]
  },
  {
   "cell_type": "code",
   "execution_count": 256,
   "id": "af3f54b0-7a8c-4360-8c84-629d1043c3dc",
   "metadata": {},
   "outputs": [],
   "source": [
    "a = np.array([1, 2, 3])"
   ]
  },
  {
   "cell_type": "code",
   "execution_count": 257,
   "id": "73b4feba-8ac1-44f9-a76e-60059344a19e",
   "metadata": {},
   "outputs": [],
   "source": [
    "c = a"
   ]
  },
  {
   "cell_type": "code",
   "execution_count": 258,
   "id": "9d295db4-0212-442b-9b26-588e5ef3bdf9",
   "metadata": {},
   "outputs": [
    {
     "data": {
      "text/plain": [
       "array([2, 3, 4])"
      ]
     },
     "execution_count": 258,
     "metadata": {},
     "output_type": "execute_result"
    }
   ],
   "source": [
    "np.add(a, 1, out=a)"
   ]
  },
  {
   "cell_type": "code",
   "execution_count": 259,
   "id": "d30e16e8-834b-4263-99b5-8124a46e110f",
   "metadata": {},
   "outputs": [
    {
     "data": {
      "text/plain": [
       "array([2, 3, 4])"
      ]
     },
     "execution_count": 259,
     "metadata": {},
     "output_type": "execute_result"
    }
   ],
   "source": [
    "a"
   ]
  },
  {
   "cell_type": "code",
   "execution_count": 260,
   "id": "41e07e61-f08d-477f-bd92-0d696e66b99d",
   "metadata": {},
   "outputs": [
    {
     "data": {
      "text/plain": [
       "array([2, 3, 4])"
      ]
     },
     "execution_count": 260,
     "metadata": {},
     "output_type": "execute_result"
    }
   ],
   "source": [
    "c"
   ]
  },
  {
   "cell_type": "code",
   "execution_count": 261,
   "id": "3fd1eb9d-8819-4fe2-af41-ca7af2f9fddd",
   "metadata": {},
   "outputs": [],
   "source": [
    "def test():\n",
    "    import numpy as np\n",
    "    import time\n",
    "    X = np.ones(100000000, dtype='int8')\n",
    "    Y = np.ones(100000000, dtype='int8')\n",
    "    a = time.time()\n",
    "    for _ in range(100):\n",
    "        X = X*4 + Y*3\n",
    "        X = np.ones(100000000, dtype='int8')\n",
    "    b = time.time()\n",
    "    print('X = X*4 + Y*3: {} sec'.format((b-a)/100))\n",
    "    a = time.time()\n",
    "    for _ in range(100):\n",
    "        X *= 4\n",
    "        X += Y*3\n",
    "        X = np.ones(100000000, dtype='int8')\n",
    "    b = time.time()\n",
    "    print('X *= 4; X += Y*3: {} sec'.format((b-a)/100))\n",
    "    a = time.time()\n",
    "    for _ in range(100):\n",
    "        np.multiply(X, 4, out=X)\n",
    "        np.multiply(Y, 3, out=Y)\n",
    "        np.add(X, Y, out=X)\n",
    "        X = np.ones(100000000, dtype='int8')\n",
    "    b = time.time()\n",
    "    print(\"using functions: {} sec\".format((b-a)/100))"
   ]
  },
  {
   "cell_type": "code",
   "execution_count": 262,
   "id": "4c76b710-e9c3-4e16-a4d9-2b9d6933e42e",
   "metadata": {},
   "outputs": [
    {
     "name": "stdout",
     "output_type": "stream",
     "text": [
      "X = X*4 + Y*3: 0.17634028673171998 sec\n",
      "X *= 4; X += Y*3: 0.15253691196441652 sec\n",
      "using functions: 0.1523624014854431 sec\n"
     ]
    }
   ],
   "source": [
    "test()"
   ]
  },
  {
   "cell_type": "markdown",
   "id": "fd33f185-1e92-405d-8c32-b460ade48929",
   "metadata": {},
   "source": [
    "### 1.8.3 数组的扁平化"
   ]
  },
  {
   "cell_type": "code",
   "execution_count": 263,
   "id": "c03d045e-0947-4dfd-be29-cdf8d2bc338a",
   "metadata": {},
   "outputs": [
    {
     "data": {
      "text/plain": [
       "array([[[ 0.85770221, -1.22082058,  1.03731578, -0.66671716,\n",
       "         -0.09976111, -1.88545977, -0.23333362, -2.72680473,\n",
       "          0.59206768],\n",
       "        [-1.09423737, -1.98554731, -0.13119044,  0.19168362,\n",
       "          0.6471814 ,  0.75030572,  1.10660154, -0.00707188,\n",
       "         -0.67881074],\n",
       "        [-0.39104172,  1.09496789,  0.66010987, -0.82016842,\n",
       "          1.61344255, -1.2331649 , -1.89640352,  0.17364301,\n",
       "          0.76803879]],\n",
       "\n",
       "       [[-0.2294114 ,  1.78540167, -0.60735757,  0.31260949,\n",
       "         -0.74483745, -2.51015143,  0.24709745, -1.78462749,\n",
       "          0.50335216],\n",
       "        [-0.92259944,  1.97373801, -0.81499703, -1.95896677,\n",
       "         -0.12080693,  0.51800541, -0.71098474, -0.6131706 ,\n",
       "         -0.41451167],\n",
       "        [-0.33161393, -1.94436578, -1.25217883,  0.01049303,\n",
       "          1.64369254,  1.81085525, -0.91047832,  0.67924843,\n",
       "          1.38327459]]])"
      ]
     },
     "execution_count": 263,
     "metadata": {},
     "output_type": "execute_result"
    }
   ],
   "source": [
    "a = np.random.randn(2, 3, 9)\n",
    "a"
   ]
  },
  {
   "cell_type": "code",
   "execution_count": 264,
   "id": "c05b89e9-e395-4b16-a640-b019c5833133",
   "metadata": {},
   "outputs": [],
   "source": [
    "b = a.ravel()"
   ]
  },
  {
   "cell_type": "code",
   "execution_count": 265,
   "id": "e27ab6cb-f90d-4c56-aaec-c75f4a8dfa75",
   "metadata": {},
   "outputs": [
    {
     "data": {
      "text/plain": [
       "array([ 0.85770221, -1.22082058,  1.03731578, -0.66671716, -0.09976111,\n",
       "       -1.88545977, -0.23333362, -2.72680473,  0.59206768, -1.09423737,\n",
       "       -1.98554731, -0.13119044,  0.19168362,  0.6471814 ,  0.75030572,\n",
       "        1.10660154, -0.00707188, -0.67881074, -0.39104172,  1.09496789,\n",
       "        0.66010987, -0.82016842,  1.61344255, -1.2331649 , -1.89640352,\n",
       "        0.17364301,  0.76803879, -0.2294114 ,  1.78540167, -0.60735757,\n",
       "        0.31260949, -0.74483745, -2.51015143,  0.24709745, -1.78462749,\n",
       "        0.50335216, -0.92259944,  1.97373801, -0.81499703, -1.95896677,\n",
       "       -0.12080693,  0.51800541, -0.71098474, -0.6131706 , -0.41451167,\n",
       "       -0.33161393, -1.94436578, -1.25217883,  0.01049303,  1.64369254,\n",
       "        1.81085525, -0.91047832,  0.67924843,  1.38327459])"
      ]
     },
     "execution_count": 265,
     "metadata": {},
     "output_type": "execute_result"
    }
   ],
   "source": [
    "c = a.flatten()\n",
    "c"
   ]
  },
  {
   "cell_type": "code",
   "execution_count": 266,
   "id": "6df4d84c-2e2d-4500-a160-517573544346",
   "metadata": {},
   "outputs": [
    {
     "data": {
      "text/plain": [
       "array([[[ 0.85770221, -1.22082058,  1.03731578, -0.66671716,\n",
       "         -0.09976111, -1.88545977, -0.23333362, -2.72680473,\n",
       "          0.59206768],\n",
       "        [-1.09423737, -1.98554731, -0.13119044,  0.19168362,\n",
       "          0.6471814 ,  0.75030572,  1.10660154, -0.00707188,\n",
       "         -0.67881074],\n",
       "        [-0.39104172,  1.09496789,  0.66010987, -0.82016842,\n",
       "          1.61344255, -1.2331649 , -1.89640352,  0.17364301,\n",
       "          0.76803879]],\n",
       "\n",
       "       [[-0.2294114 ,  1.78540167, -0.60735757,  0.31260949,\n",
       "         -0.74483745, -2.51015143,  0.24709745, -1.78462749,\n",
       "          0.50335216],\n",
       "        [-0.92259944,  1.97373801, -0.81499703, -1.95896677,\n",
       "         -0.12080693,  0.51800541, -0.71098474, -0.6131706 ,\n",
       "         -0.41451167],\n",
       "        [-0.33161393, -1.94436578, -1.25217883,  0.01049303,\n",
       "          1.64369254,  1.81085525, -0.91047832,  0.67924843,\n",
       "          1.38327459]]])"
      ]
     },
     "execution_count": 266,
     "metadata": {},
     "output_type": "execute_result"
    }
   ],
   "source": [
    "a"
   ]
  },
  {
   "cell_type": "code",
   "execution_count": 267,
   "id": "a98a8c1a-fec7-40dc-afb7-cbf468ec7c9f",
   "metadata": {},
   "outputs": [],
   "source": [
    "a[0,0,0] = 129"
   ]
  },
  {
   "cell_type": "code",
   "execution_count": 268,
   "id": "4a97f6be-667d-4997-9238-7e4bd4b53218",
   "metadata": {},
   "outputs": [
    {
     "data": {
      "text/plain": [
       "(129.0, 129.0, 0.8577022137262913)"
      ]
     },
     "execution_count": 268,
     "metadata": {},
     "output_type": "execute_result"
    }
   ],
   "source": [
    "a[0,0,0], b[0], c[0]"
   ]
  },
  {
   "cell_type": "markdown",
   "id": "80fa5953-0f9f-4bb3-95e1-8c1d60787388",
   "metadata": {},
   "source": [
    "### 1.8.4 fancy indexing"
   ]
  },
  {
   "cell_type": "code",
   "execution_count": 269,
   "id": "da7b7d65-a869-449a-b086-b52fe7b60bcd",
   "metadata": {},
   "outputs": [
    {
     "data": {
      "text/plain": [
       "array([5, 4, 4, 3, 8, 8, 9, 8, 7, 4, 7, 6, 6, 5, 2, 0, 1, 5, 2, 6, 7, 2,\n",
       "       4, 7, 7, 1, 3, 1, 3, 0, 8, 0, 0, 8, 5, 5, 3, 6, 3, 4, 0, 3, 0, 5,\n",
       "       8, 2, 8, 6, 3, 8, 5, 6, 7, 7, 5, 9, 7, 4, 2, 9, 8, 6, 6, 8, 6, 9,\n",
       "       7, 9, 1, 4, 7, 3, 5, 6, 1, 9, 9, 3, 3, 9, 0, 5, 3, 5, 6, 3, 4, 6,\n",
       "       5, 0, 7, 3, 1, 4, 0, 6, 9, 1, 1, 5])"
      ]
     },
     "execution_count": 269,
     "metadata": {},
     "output_type": "execute_result"
    }
   ],
   "source": [
    "a = np.random.randint(10, size=100)\n",
    "a"
   ]
  },
  {
   "cell_type": "code",
   "execution_count": 270,
   "id": "8e2ccbe0-b865-4db9-8036-827e43253257",
   "metadata": {},
   "outputs": [
    {
     "data": {
      "text/plain": [
       "array([False, False, False,  True, False, False,  True, False, False,\n",
       "       False, False,  True,  True, False, False,  True, False, False,\n",
       "       False,  True, False, False, False, False, False, False,  True,\n",
       "       False,  True,  True, False,  True,  True, False, False, False,\n",
       "        True,  True,  True, False,  True,  True,  True, False, False,\n",
       "       False, False,  True,  True, False, False,  True, False, False,\n",
       "       False,  True, False, False, False,  True, False,  True,  True,\n",
       "       False,  True,  True, False,  True, False, False, False,  True,\n",
       "       False,  True, False,  True,  True,  True,  True,  True,  True,\n",
       "       False,  True, False,  True,  True, False,  True, False,  True,\n",
       "       False,  True, False, False,  True,  True,  True, False, False,\n",
       "       False])"
      ]
     },
     "execution_count": 270,
     "metadata": {},
     "output_type": "execute_result"
    }
   ],
   "source": [
    "n = a%3==0 # 3的倍数的位置上是True\n",
    "n"
   ]
  },
  {
   "cell_type": "code",
   "execution_count": 271,
   "id": "71fee4af-4474-4ee0-b3e8-32ccfec9b172",
   "metadata": {},
   "outputs": [
    {
     "data": {
      "text/plain": [
       "array([3, 9, 6, 6, 0, 6, 3, 3, 0, 0, 0, 3, 6, 3, 0, 3, 0, 6, 3, 6, 9, 9,\n",
       "       6, 6, 6, 9, 9, 3, 6, 9, 9, 3, 3, 9, 0, 3, 6, 3, 6, 0, 3, 0, 6, 9])"
      ]
     },
     "execution_count": 271,
     "metadata": {},
     "output_type": "execute_result"
    }
   ],
   "source": [
    "a[n] #将3的倍数的元素提取出来"
   ]
  },
  {
   "cell_type": "code",
   "execution_count": 272,
   "id": "84551e78-8472-4d6b-b9ea-fe770c707681",
   "metadata": {},
   "outputs": [],
   "source": [
    "k = a[n]"
   ]
  },
  {
   "cell_type": "code",
   "execution_count": 273,
   "id": "6b34c36c-31e1-44c7-b812-33b2ab30622f",
   "metadata": {},
   "outputs": [
    {
     "data": {
      "text/plain": [
       "False"
      ]
     },
     "execution_count": 273,
     "metadata": {},
     "output_type": "execute_result"
    }
   ],
   "source": [
    "np.may_share_memory(a, k) #  用于确认内存是否是共享的函数。详细内容将在1.8.5小节中进行讲解"
   ]
  },
  {
   "cell_type": "code",
   "execution_count": 274,
   "id": "ec6be787-4c63-4212-8728-37cd0f773b5c",
   "metadata": {},
   "outputs": [],
   "source": [
    "f = a[np.arange(0, 10, 2)]"
   ]
  },
  {
   "cell_type": "code",
   "execution_count": 275,
   "id": "82edeabe-f4fc-41db-9616-80751d00605d",
   "metadata": {},
   "outputs": [
    {
     "data": {
      "text/plain": [
       "False"
      ]
     },
     "execution_count": 275,
     "metadata": {},
     "output_type": "execute_result"
    }
   ],
   "source": [
    "np.may_share_memory(a, f)"
   ]
  },
  {
   "cell_type": "markdown",
   "id": "bbd1b53d-3c88-49c7-a311-0c5d207e584e",
   "metadata": {},
   "source": [
    "### 1.8.5 副本和试图的分辨方法"
   ]
  },
  {
   "cell_type": "code",
   "execution_count": 276,
   "id": "29b674f3-b3e7-47d6-9b35-703a411fe574",
   "metadata": {},
   "outputs": [],
   "source": [
    "a = np.array([1, 2, 3])"
   ]
  },
  {
   "cell_type": "code",
   "execution_count": 277,
   "id": "567d0dc2-38e4-4bb4-9898-929f69d44ce2",
   "metadata": {},
   "outputs": [],
   "source": [
    "b = a"
   ]
  },
  {
   "cell_type": "code",
   "execution_count": 278,
   "id": "6c05b551-06ce-494d-9062-9311641dfaf6",
   "metadata": {},
   "outputs": [],
   "source": [
    "c = b"
   ]
  },
  {
   "cell_type": "code",
   "execution_count": 279,
   "id": "9cbb9274-0e46-41e5-8f2a-f24bcb611ee3",
   "metadata": {},
   "outputs": [],
   "source": [
    "d = a.copy()"
   ]
  },
  {
   "cell_type": "code",
   "execution_count": 280,
   "id": "183dc4f2-8065-4134-a8c9-743874fa26a5",
   "metadata": {},
   "outputs": [
    {
     "data": {
      "text/plain": [
       "True"
      ]
     },
     "execution_count": 280,
     "metadata": {},
     "output_type": "execute_result"
    }
   ],
   "source": [
    "np.may_share_memory(a, b) # 如果是True，则说明b是a的视图"
   ]
  },
  {
   "cell_type": "code",
   "execution_count": 281,
   "id": "e80e8056-ee2b-4b0c-9563-d014fe293e76",
   "metadata": {},
   "outputs": [
    {
     "data": {
      "text/plain": [
       "True"
      ]
     },
     "execution_count": 281,
     "metadata": {},
     "output_type": "execute_result"
    }
   ],
   "source": [
    "np.may_share_memory(a, c) # 这里也返回True"
   ]
  },
  {
   "cell_type": "code",
   "execution_count": 282,
   "id": "04716d4c-da61-48ef-a661-44893f08aa40",
   "metadata": {},
   "outputs": [
    {
     "data": {
      "text/plain": [
       "False"
      ]
     },
     "execution_count": 282,
     "metadata": {},
     "output_type": "execute_result"
    }
   ],
   "source": [
    "np.may_share_memory(a, d) #  由于d是a的副本，因此返回False"
   ]
  },
  {
   "cell_type": "code",
   "execution_count": 283,
   "id": "b18ce888-1fb8-4019-803b-e5b8ab4bd5e1",
   "metadata": {},
   "outputs": [
    {
     "data": {
      "text/plain": [
       "True"
      ]
     },
     "execution_count": 283,
     "metadata": {},
     "output_type": "execute_result"
    }
   ],
   "source": [
    "np.shares_memory(a, b) # 更严谨的判断使用share_memory函数"
   ]
  },
  {
   "cell_type": "code",
   "execution_count": 284,
   "id": "81f443ef-4428-467b-807c-532afd8511aa",
   "metadata": {},
   "outputs": [
    {
     "data": {
      "text/plain": [
       "False"
      ]
     },
     "execution_count": 284,
     "metadata": {},
     "output_type": "execute_result"
    }
   ],
   "source": [
    "np.shares_memory(a, d)"
   ]
  }
 ],
 "metadata": {
  "kernelspec": {
   "display_name": "Python 3 (ipykernel)",
   "language": "python",
   "name": "python3"
  },
  "language_info": {
   "codemirror_mode": {
    "name": "ipython",
    "version": 3
   },
   "file_extension": ".py",
   "mimetype": "text/x-python",
   "name": "python",
   "nbconvert_exporter": "python",
   "pygments_lexer": "ipython3",
   "version": "3.11.4"
  }
 },
 "nbformat": 4,
 "nbformat_minor": 5
}
