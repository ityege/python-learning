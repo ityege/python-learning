{
 "cells": [
  {
   "cell_type": "markdown",
   "id": "6053272b-4f7f-4a86-b2a3-82471febb78e",
   "metadata": {},
   "source": [
    "## 13.1 运行命令行展示输出图形"
   ]
  },
  {
   "cell_type": "markdown",
   "id": "155f75ea-26ad-43b8-a3f7-89560b8c468d",
   "metadata": {},
   "source": [
    "### 13.1.1 方法 1——Python shell 模式"
   ]
  },
  {
   "cell_type": "markdown",
   "id": "f737299a-64a5-4ac8-b388-3307750fcc92",
   "metadata": {},
   "source": [
    "### 13.1.2 方法 2——IPython shell 模式"
   ]
  },
  {
   "cell_type": "markdown",
   "id": "9bee5412-88ef-4a41-926c-72bcac794593",
   "metadata": {},
   "source": [
    "## 13.2 保存输出图形"
   ]
  },
  {
   "cell_type": "markdown",
   "id": "6f76491b-41c6-4394-9c97-bbdba90a97ed",
   "metadata": {},
   "source": [
    "### 13.2.1 方法 1——使用“保存”按钮进行存储"
   ]
  },
  {
   "cell_type": "code",
   "execution_count": null,
   "id": "33d7bfab-a822-430e-b965-02f447d084b3",
   "metadata": {},
   "outputs": [],
   "source": [
    "# -*- coding:utf-8 -*-\n",
    "import matplotlib as mpl\n",
    "import matplotlib.pyplot as plt\n",
    "import numpy as np\n",
    "mpl.rcParams[\"font.sans-serif\"]=[\"SimHei\"]\n",
    "mpl.rcParams[\"axes.unicode_minus\"]=False\n",
    "fig, ax1 = plt.subplots()\n",
    "t = np.arange(0.05,10.0,0.01)\n",
    "s1 = np.exp(t)\n",
    "ax1.plot(t,s1,c=\"b\",ls=\"-\")\n",
    "# set x-axis label\n",
    "ax1.set_xlabel(\"x 坐标轴\")\n",
    "# Make the y-axis label, ticks and tick labels match the line color.\n",
    "ax1.set_ylabel(\"以 e 为底指数函数\", color=\"b\")\n",
    "ax1.tick_params(\"y\", colors=\"b\")\n",
    "# ax1 shares x-axis with ax2.\n",
    "ax2 = ax1.twinx()\n",
    "s2 = np.cos(t**2)\n",
    "ax2.plot(t,s2,c=\"r\",ls=\":\")\n",
    "# Make the y-axis label, ticks and tick labels match the line color.\n",
    "ax2.set_ylabel(\"余弦函数\",color=\"r\")\n",
    "ax2.tick_params(\"y\",colors=\"r\")\n",
    "plt.show()"
   ]
  },
  {
   "cell_type": "markdown",
   "id": "e9e97c83-a90d-4107-98f7-b2f77b6875e5",
   "metadata": {},
   "source": [
    "### 13.2.2 方法 2——通过执行代码语句进行保存"
   ]
  },
  {
   "cell_type": "code",
   "execution_count": null,
   "id": "173d3ad9-2e5e-4b6d-a484-cb59e229d77a",
   "metadata": {},
   "outputs": [],
   "source": [
    "# -*- coding:utf-8 -*-\n",
    "import matplotlib as mpl\n",
    "import matplotlib.pyplot as plt\n",
    "import numpy as np\n",
    "mpl.rcParams[\"font.sans-serif\"]=[\"SimHei\"]\n",
    "mpl.rcParams[\"axes.unicode_minus\"]=False\n",
    "fig, ax1 = plt.subplots()\n",
    "t = np.arange(0.05,10.0,0.01)\n",
    "s1 = np.exp(t)\n",
    "ax1.plot(t,s1,c=\"b\",ls=\"-\")\n",
    "# set x-axis label\n",
    "ax1.set_xlabel(\"x 坐标轴\")\n",
    "# Make the y-axis label, ticks and tick labels match the line color\n",
    "ax1.set_ylabel(\"以 e 为底指数函数\", color=\"b\")\n",
    "ax1.tick_params(\"y\", colors=\"b\")\n",
    "# ax1 shares x-axis with ax2.\n",
    "ax2 = ax1.twinx()\n",
    "s2 = np.cos(t**2)\n",
    "ax2.plot(t,s2,c=\"r\",ls=\":\")\n",
    "# Make the y-axis label, ticks and tick labels match the line color\n",
    "ax2.set_ylabel(\"余弦函数\",color=\"r\")\n",
    "ax2.tick_params(\"y\",colors=\"r\")\n",
    "plt.savefig(\"FIGURE_DEMO.png\")\n",
    "plt.show()"
   ]
  }
 ],
 "metadata": {
  "kernelspec": {
   "display_name": "Python 3 (ipykernel)",
   "language": "python",
   "name": "python3"
  },
  "language_info": {
   "codemirror_mode": {
    "name": "ipython",
    "version": 3
   },
   "file_extension": ".py",
   "mimetype": "text/x-python",
   "name": "python",
   "nbconvert_exporter": "python",
   "pygments_lexer": "ipython3",
   "version": "3.11.4"
  }
 },
 "nbformat": 4,
 "nbformat_minor": 5
}
