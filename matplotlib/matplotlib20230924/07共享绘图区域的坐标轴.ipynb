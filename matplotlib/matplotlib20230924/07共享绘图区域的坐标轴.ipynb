{
 "cells": [
  {
   "cell_type": "markdown",
   "id": "e567ba9e-6b27-4ed7-9842-754cbe46e70b",
   "metadata": {},
   "source": [
    "## 7.1 共享单一绘图区域的坐标轴"
   ]
  },
  {
   "cell_type": "code",
   "execution_count": null,
   "id": "9825180f-c851-4872-8ddf-e6c63b757d9e",
   "metadata": {},
   "outputs": [],
   "source": [
    "# -*- coding:utf-8 -*-\n",
    "import matplotlib as mpl\n",
    "import matplotlib.pyplot as plt\n",
    "import numpy as np\n",
    "mpl.rcParams[\"font.sans-serif\"]=[\"SimHei\"]\n",
    "mpl.rcParams[\"axes.unicode_minus\"]=False\n",
    "fig, ax1 = plt.subplots()\n",
    "t = np.arange(0.05,10.0,0.01)\n",
    "s1 = np.exp(t)\n",
    "ax1.plot(t,s1,c=\"b\",ls=\"-\")\n",
    "# set x-axis label\n",
    "ax1.set_xlabel(\"x 坐标轴\")\n",
    "# Make the y-axis label, ticks and tick labels match the line color.\n",
    "ax1.set_ylabel(\"以 e 为底指数函数\", color=\"b\")\n",
    "ax1.tick_params(\"y\", colors=\"b\")\n",
    "# ax1 shares x-axis with ax2.\n",
    "ax2 = ax1.twinx()\n",
    "s2 = np.cos(t**2)\n",
    "ax2.plot(t,s2,c=\"r\",ls=\":\")\n",
    "# Make the y-axis label, ticks and tick labels match the line color.\n",
    "ax2.set_ylabel(\"余弦函数\",color=\"r\")\n",
    "ax2.tick_params(\"y\", colors=\"r\")\n",
    "plt.show()"
   ]
  },
  {
   "cell_type": "markdown",
   "id": "5cd97aba-e583-4564-9e7f-5facf494b46a",
   "metadata": {},
   "source": [
    "## 7.2 共享不同子区绘图区域的坐标轴"
   ]
  },
  {
   "cell_type": "markdown",
   "id": "23f8cfa1-e981-4404-93c2-d8c24e763df3",
   "metadata": {},
   "source": [
    "### 7.2.1 设置方法"
   ]
  },
  {
   "cell_type": "code",
   "execution_count": null,
   "id": "6ff3bfb7-301f-4f2b-bc02-d91e61a405c1",
   "metadata": {},
   "outputs": [],
   "source": [
    "import matplotlib.pyplot as plt\n",
    "import numpy as np\n",
    "#create sample data\n",
    "x1 = np.linspace(0, 2*np.pi, 400)\n",
    "y1 = np.cos(x1**2)\n",
    "x2 = np.linspace(0.01,10,100)\n",
    "y2 = np.sin(x2)\n",
    "x3 = np.random.rand(100)\n",
    "y3 = np.linspace(0,3,100)\n",
    "x4 = np.arange(0,6,0.5)\n",
    "y4 = np.power(x4,3)\n",
    "# set (2,2) subplots\n",
    "fig,ax = plt.subplots(2, 2)\n",
    "# set chart of each subplot\n",
    "ax1 = ax[0,0]\n",
    "ax1.plot(x1,y1)\n",
    "ax2 = ax[0,1]\n",
    "ax2.plot(x2,y2)\n",
    "ax3 = ax[1,0]\n",
    "ax3.scatter(x3,y3)\n",
    "ax4 = ax[1,1]\n",
    "ax4.scatter(x4,y4)\n",
    "# Show figure and subplot(s)\n",
    "plt.show()"
   ]
  },
  {
   "cell_type": "markdown",
   "id": "bf08eab1-9a8c-4d9c-9468-08f1f6ff5498",
   "metadata": {},
   "source": [
    "### 7.2.2 案例——将共享坐标轴的子区之间的空隙去掉"
   ]
  },
  {
   "cell_type": "code",
   "execution_count": null,
   "id": "5f1e93bf-60e0-47ec-96df-f6a00c027006",
   "metadata": {},
   "outputs": [],
   "source": [
    "import matplotlib.pyplot as plt\n",
    "import numpy as np\n",
    "x = np.linspace(0.0, 10.0, 200)\n",
    "y = np.cos(x)*np.sin(x)\n",
    "y2 = np.exp(-x)*np.sin(x)\n",
    "y3 = 3*np.sin(x)\n",
    "y4 = np.power(x,0.5)\n",
    "fig,(ax1,ax2,ax3,ax4) = plt.subplots(4,1,sharex=\"all\")\n",
    "fig.subplots_adjust(hspace=0)\n",
    "ax1.plot(x,y,ls=\"-\",lw=2)\n",
    "ax1.set_yticks(np.arange(-0.6,0.7,0.2))\n",
    "ax1.set_ylim(-0.7, 0.7)\n",
    "ax2.plot(x,y2,ls=\"-\",lw=2)\n",
    "ax2.set_yticks(np.arange(-0.05,0.36,0.1))\n",
    "ax2.set_ylim(-0.1, 0.4)\n",
    "ax3.plot(x,y3,ls=\"-\",lw=2)\n",
    "ax3.set_yticks(np.arange(-3,4,1))\n",
    "ax3.set_ylim(-3.5,3.5)\n",
    "ax4.plot(x,y4,ls=\"-\",lw=2)\n",
    "ax4.set_yticks(np.arange(0.0,3.6,0.5))\n",
    "ax4.set_ylim(0.0,4.0)\n",
    "plt.show()"
   ]
  },
  {
   "cell_type": "markdown",
   "id": "610c5290-bcd2-4bba-ab35-0d64d1a83eb0",
   "metadata": {},
   "source": [
    "## 7.3 共享个别子区绘图区域的坐标轴"
   ]
  },
  {
   "cell_type": "markdown",
   "id": "3d254749-34ea-43aa-a6fd-d62d325a2b63",
   "metadata": {},
   "source": [
    "### 7.3.1 设置方法"
   ]
  },
  {
   "cell_type": "code",
   "execution_count": null,
   "id": "f787d233-ab3c-4b38-b251-5da9e6f3bdd7",
   "metadata": {},
   "outputs": [],
   "source": [
    "import matplotlib.pyplot as plt\n",
    "import numpy as np\n",
    "#create sample data:\n",
    "x1 = np.linspace(0, 2*np.pi, 400)\n",
    "y1 = np.cos(x1**2)\n",
    "x2 = np.linspace(0.01,10,100)\n",
    "y2 = np.sin(x2)\n",
    "x3 = np.random.rand(100)\n",
    "y3 = np.linspace(0,3,100)\n",
    "x4 = np.arange(0,6,0.5)\n",
    "y4 = np.power(x4,3)\n",
    "# set (2,2) subplots\n",
    "fig,ax = plt.subplots(2, 2)\n",
    "# set chart of each subplot\n",
    "ax1 = plt.subplot(221)\n",
    "ax1.plot(x1,y1)\n",
    "ax2 = plt.subplot(222)\n",
    "ax2.plot(x2,y2)\n",
    "ax3 = plt.subplot(223)\n",
    "ax3.scatter(x3,y3)\n",
    "ax4 = plt.subplot(224,sharex=ax1)\n",
    "ax4.scatter(x4,y4)\n",
    "# Show figure and subplot(s)\n",
    "plt.show()"
   ]
  }
 ],
 "metadata": {
  "kernelspec": {
   "display_name": "Python 3 (ipykernel)",
   "language": "python",
   "name": "python3"
  },
  "language_info": {
   "codemirror_mode": {
    "name": "ipython",
    "version": 3
   },
   "file_extension": ".py",
   "mimetype": "text/x-python",
   "name": "python",
   "nbconvert_exporter": "python",
   "pygments_lexer": "ipython3",
   "version": "3.11.4"
  }
 },
 "nbformat": 4,
 "nbformat_minor": 5
}
