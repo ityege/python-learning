{
 "cells": [
  {
   "cell_type": "markdown",
   "id": "401c778d-5b81-49d1-9949-042ae50fc60a",
   "metadata": {},
   "source": [
    "## 10.1 修改代码层面的 matplotlib 的配置"
   ]
  },
  {
   "cell_type": "markdown",
   "id": "eed311bb-a4b3-4c6f-9d47-1a4152022dd3",
   "metadata": {},
   "source": [
    "### 10.1.1 方法 1——调用函数 matplotlib.rc()"
   ]
  },
  {
   "cell_type": "code",
   "execution_count": 1,
   "id": "f26c0450-33b4-4f8d-b099-836ef822e501",
   "metadata": {},
   "outputs": [],
   "source": [
    "import matplotlib as mpl\n",
    "# usage of package matplotlib\n",
    "## method1 of setting attribution\n",
    "mpl.rc(\"lines\",linewidth=2,color=\"c\",linestyle=\"--\")\n",
    "## method2 of setting attribution\n",
    "line = {\"linewidth\":2,\"color\":\"c\",\"linestyle\":\"--\"}\n",
    "mpl.rc(\"lines\",**line)"
   ]
  },
  {
   "cell_type": "markdown",
   "id": "253f0ed2-fa58-442b-8b20-39e66b6dd15a",
   "metadata": {},
   "source": [
    "### 10.1.2 方法 2——调用属性字典 matplotlib.rcParams"
   ]
  },
  {
   "cell_type": "code",
   "execution_count": 2,
   "id": "6ce86358-242b-44c0-827d-303e94bb9691",
   "metadata": {},
   "outputs": [],
   "source": [
    "import matplotlib as mpl\n",
    "# usage of package matplotlib\n",
    "mpl.rcParams[\"lines.linewidth\"]=2\n",
    "mpl.rcParams[\"lines.color\"]=\"c\"\n",
    "mpl.rcParams[\"lines.linestyle\"]=\"--\""
   ]
  }
 ],
 "metadata": {
  "kernelspec": {
   "display_name": "Python 3 (ipykernel)",
   "language": "python",
   "name": "python3"
  },
  "language_info": {
   "codemirror_mode": {
    "name": "ipython",
    "version": 3
   },
   "file_extension": ".py",
   "mimetype": "text/x-python",
   "name": "python",
   "nbconvert_exporter": "python",
   "pygments_lexer": "ipython3",
   "version": "3.11.4"
  }
 },
 "nbformat": 4,
 "nbformat_minor": 5
}
